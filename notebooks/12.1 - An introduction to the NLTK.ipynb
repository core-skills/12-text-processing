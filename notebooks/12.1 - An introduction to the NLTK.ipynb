{
 "cells": [
  {
   "cell_type": "markdown",
   "metadata": {
    "colab_type": "text",
    "id": "qSP1boAhg0zq"
   },
   "source": [
    "# An Introduction to the NLTK\n",
    "Source: 😊[Day 12 - Special Data Types: Natural Language Processing](https://github.com/core-skills/12-text-processing) *repository*"
   ]
  },
  {
   "cell_type": "markdown",
   "metadata": {},
   "source": [
    "**Overview**: This notebook introduces the Python Natural Langauge Toolkit (*NLTK*). The NLTK is a set of modules and corpora that support natural langauge processing against a corpus of one or more texts (sentences, paragraphs, ...). This notebook only touches the surface of the capabilities of NLTK and is intended to provide a view of traditional text wrangling, pre-processing and analysis techniques. However, the NLTK is capable of both machine learning and text mining."
   ]
  },
  {
   "cell_type": "markdown",
   "metadata": {},
   "source": [
    "Note:\n",
    "- *Quoted texts are derived from the respective topics Wikipedia page*\n",
    "- Corpora accessed via NLTK is accessed under the The Project Gutenberg License"
   ]
  },
  {
   "cell_type": "markdown",
   "metadata": {},
   "source": [
    "## Table of Contents\n",
    "1. [Tokenization](#tokenization)\n",
    "2. [Stop Words](#stop_words)\n",
    "3. [Feature distributions](#feature_distributions)\n",
    "4. [N-grams](#ngrams)\n",
    "5. [Stemming](#stemming)\n",
    "6. [Concordancing](#concordancing)\n",
    "7. [Dispersion Plotting](#dispersion_plotting)\n",
    "8. [Bi-gram Signifiance](#bigram_significance)\n",
    "9. [Word contexts](#word_contexts)\n",
    "10. [Word similarities](#word_similarities)\n",
    "11. [Parts-of-Speech (POS)](#part_of_speech)\n",
    "12. [Named entity extraction](#named_entity_recognition)"
   ]
  },
  {
   "cell_type": "markdown",
   "metadata": {
    "colab_type": "text",
    "id": "mM-HOC_9tnuU"
   },
   "source": [
    "### Import Dependencies\n",
    "- [nltk](https://www.nltk.org/) - library that we will use to explore natural language"
   ]
  },
  {
   "cell_type": "code",
   "execution_count": 1,
   "metadata": {
    "colab": {},
    "colab_type": "code",
    "id": "Nq3V_tq4tnGT"
   },
   "outputs": [],
   "source": [
    "import nltk\n",
    "from nltk.corpus import stopwords, reuters\n",
    "from nltk.stem import PorterStemmer"
   ]
  },
  {
   "cell_type": "code",
   "execution_count": 3,
   "metadata": {},
   "outputs": [
    {
     "name": "stderr",
     "output_type": "stream",
     "text": [
      "[nltk_data] Downloading package gutenberg to\n",
      "[nltk_data]     C:\\Users\\22917746\\AppData\\Roaming\\nltk_data...\n",
      "[nltk_data]   Package gutenberg is already up-to-date!\n",
      "[nltk_data] Downloading package reuters to\n",
      "[nltk_data]     C:\\Users\\22917746\\AppData\\Roaming\\nltk_data...\n",
      "[nltk_data]   Package reuters is already up-to-date!\n"
     ]
    },
    {
     "data": {
      "text/plain": [
       "True"
      ]
     },
     "execution_count": 3,
     "metadata": {},
     "output_type": "execute_result"
    }
   ],
   "source": [
    "# Download NLTK corpora\n",
    "nltk.download('gutenberg')\n",
    "nltk.download('reuters')"
   ]
  },
  {
   "cell_type": "markdown",
   "metadata": {
    "colab_type": "text",
    "id": "FjTJgN_OtGnD"
   },
   "source": [
    "### Load text corpora\n",
    "There are two types of text data (*corpora*) that can be used within this notebook. The first is the novel `shakespeare-hamlet` and the second is a selection of news articles provided by Reuters on the topic of `gold`."
   ]
  },
  {
   "cell_type": "code",
   "execution_count": 14,
   "metadata": {},
   "outputs": [],
   "source": [
    "corpus_type = 'shakespeare' # gold"
   ]
  },
  {
   "cell_type": "code",
   "execution_count": 15,
   "metadata": {},
   "outputs": [],
   "source": [
    "if corpus_type == 'shakespeare':\n",
    "    corpus = \" \".join(nltk.corpus.gutenberg.words('shakespeare-hamlet.txt'))\n",
    "elif corpus_type == 'gold':\n",
    "    corpus = \" \".join(reuters.words(reuters.fileids('gold')))\n",
    "else:\n",
    "    print('Please check the data type you specified as it is incorrect')\n",
    "    raise ValueError"
   ]
  },
  {
   "cell_type": "code",
   "execution_count": 18,
   "metadata": {},
   "outputs": [
    {
     "name": "stdout",
     "output_type": "stream",
     "text": [
      "[ The Tragedie of Hamlet by William Shakespeare 1599 ] Actus Primus . Scoena Prima . Enter Barnardo and Francisco two Centinels . Barnardo . Who ' s there ? Fran . Nay answer me : Stand & vnfold your selfe Bar . Long liue the King Fran . Barnardo ? B\n"
     ]
    }
   ],
   "source": [
    "# View corpus\n",
    "print(corpus[:250])"
   ]
  },
  {
   "cell_type": "markdown",
   "metadata": {
    "colab_type": "text",
    "id": "1YM4M8M-uAYr"
   },
   "source": [
    "## Fundamentals of Natural Language Processing - Wrangling, Pre-processing and Analysis"
   ]
  },
  {
   "cell_type": "markdown",
   "metadata": {
    "colab_type": "text",
    "id": "xtWXEgONo_fA"
   },
   "source": [
    "### Tokenization <a name=\"tokenization\"></a>"
   ]
  },
  {
   "cell_type": "markdown",
   "metadata": {},
   "source": [
    "> Tokenization is the process of demarcating and possibly classifying sections of a string of input characters. The resulting tokens are then passed on to some other form of processing."
   ]
  },
  {
   "cell_type": "markdown",
   "metadata": {},
   "source": [
    "![alt text](https://cdn.analyticsvidhya.com/wp-content/uploads/2019/11/tokenization.png)\n",
    "\n",
    "[analyticsvidhya](https://cdn.analyticsvidhya.com/wp-content/uploads/2019/11/tokenization.png)"
   ]
  },
  {
   "cell_type": "markdown",
   "metadata": {},
   "source": [
    "We use the pre-trained [Punkt](https://www.nltk.org/_modules/nltk/tokenize/punkt.html) tokenizer made available with NLTK. This tokenizer is generated via unsupervised learning on a large corpus of texts. There are many more pre-trained tokenizers available covering a broad range of tokenization techniques such as character tokenization, byte-pair encoding, sub-word, etc."
   ]
  },
  {
   "cell_type": "code",
   "execution_count": 19,
   "metadata": {
    "colab": {
     "base_uri": "https://localhost:8080/",
     "height": 68
    },
    "colab_type": "code",
    "executionInfo": {
     "elapsed": 20511,
     "status": "ok",
     "timestamp": 1585112915494,
     "user": {
      "displayName": "Tyler Bikaun",
      "photoUrl": "",
      "userId": "18384825377619195869"
     },
     "user_tz": -480
    },
    "id": "CLrS_kYAoycL",
    "outputId": "dabec6a0-4ab2-4f41-ccbc-11c0d03f2132"
   },
   "outputs": [
    {
     "name": "stderr",
     "output_type": "stream",
     "text": [
      "[nltk_data] Downloading package punkt to\n",
      "[nltk_data]     C:\\Users\\22917746\\AppData\\Roaming\\nltk_data...\n",
      "[nltk_data]   Package punkt is already up-to-date!\n"
     ]
    },
    {
     "data": {
      "text/plain": [
       "True"
      ]
     },
     "execution_count": 19,
     "metadata": {},
     "output_type": "execute_result"
    }
   ],
   "source": [
    "# Load NLTK tokenizer\n",
    "nltk.download('punkt')"
   ]
  },
  {
   "cell_type": "code",
   "execution_count": 21,
   "metadata": {
    "colab": {
     "base_uri": "https://localhost:8080/",
     "height": 34
    },
    "colab_type": "code",
    "executionInfo": {
     "elapsed": 21513,
     "status": "ok",
     "timestamp": 1585112916501,
     "user": {
      "displayName": "Tyler Bikaun",
      "photoUrl": "",
      "userId": "18384825377619195869"
     },
     "user_tz": -480
    },
    "id": "Ez_PCNDzg00J",
    "outputId": "c9a6b184-ce34-4abc-d9f8-133e30cf7a1c"
   },
   "outputs": [
    {
     "name": "stdout",
     "output_type": "stream",
     "text": [
      "['[', 'The', 'Tragedie', 'of', 'Hamlet', 'by', 'William', 'Shakespeare', '1599', ']']\n"
     ]
    }
   ],
   "source": [
    "# Tokenize the corpus into features (words) and display 10 of them\n",
    "features = nltk.word_tokenize(corpus)\n",
    "print(features[:10])"
   ]
  },
  {
   "cell_type": "code",
   "execution_count": 22,
   "metadata": {
    "colab": {
     "base_uri": "https://localhost:8080/",
     "height": 34
    },
    "colab_type": "code",
    "executionInfo": {
     "elapsed": 21507,
     "status": "ok",
     "timestamp": 1585112916502,
     "user": {
      "displayName": "Tyler Bikaun",
      "photoUrl": "",
      "userId": "18384825377619195869"
     },
     "user_tz": -480
    },
    "id": "ugPnoG9tg00T",
    "outputId": "d058c7f4-4384-4578-e34a-5d25b65d7518"
   },
   "outputs": [
    {
     "name": "stdout",
     "output_type": "stream",
     "text": [
      "['the', 'tragedie', 'of', 'hamlet', 'by', 'william', 'shakespeare', 'actus', 'primus', 'scoena']\n"
     ]
    }
   ],
   "source": [
    "# Normalize the features to lower case and exclude punctuation and display 10 of them\n",
    "features = [feature for feature in features if feature.isalpha()]\n",
    "features = [feature.lower() for feature in features]\n",
    "print(features[:10])"
   ]
  },
  {
   "cell_type": "markdown",
   "metadata": {
    "colab_type": "text",
    "id": "fql1NEBXo7Ag"
   },
   "source": [
    "### Stop Words <a name=\"stop_words\"></a>"
   ]
  },
  {
   "cell_type": "markdown",
   "metadata": {},
   "source": [
    "> Stop words usually refers to the most common words in a language, there is no single universal list of stop words\""
   ]
  },
  {
   "cell_type": "markdown",
   "metadata": {},
   "source": [
    "![alt text](https://www.socialtalent.com/wp-content/uploads/2016/09/Screen-Shot-2016-09-01-at-15.01.32.png)"
   ]
  },
  {
   "cell_type": "markdown",
   "metadata": {},
   "source": [
    "Similar to Punkt, the NLTK also has a resource containing common stopwords. Stopwords are domain and language specific, hence the stop words in English will be different to those in Japanese or those used in the resources industry."
   ]
  },
  {
   "cell_type": "code",
   "execution_count": 24,
   "metadata": {
    "colab": {
     "base_uri": "https://localhost:8080/",
     "height": 68
    },
    "colab_type": "code",
    "executionInfo": {
     "elapsed": 21501,
     "status": "ok",
     "timestamp": 1585112916502,
     "user": {
      "displayName": "Tyler Bikaun",
      "photoUrl": "",
      "userId": "18384825377619195869"
     },
     "user_tz": -480
    },
    "id": "hF25hbnDo5NT",
    "outputId": "4652bd6c-6f02-46b3-c78a-cccc7ec52705"
   },
   "outputs": [
    {
     "name": "stderr",
     "output_type": "stream",
     "text": [
      "[nltk_data] Downloading package stopwords to\n",
      "[nltk_data]     C:\\Users\\22917746\\AppData\\Roaming\\nltk_data...\n",
      "[nltk_data]   Package stopwords is already up-to-date!\n"
     ]
    },
    {
     "data": {
      "text/plain": [
       "True"
      ]
     },
     "execution_count": 24,
     "metadata": {},
     "output_type": "execute_result"
    }
   ],
   "source": [
    "# Load NLTK stopwords\n",
    "nltk.download('stopwords')"
   ]
  },
  {
   "cell_type": "code",
   "execution_count": 25,
   "metadata": {},
   "outputs": [],
   "source": [
    "# Create a list of (English) stopwords\n",
    "stopwords = stopwords.words('english')"
   ]
  },
  {
   "cell_type": "code",
   "execution_count": 26,
   "metadata": {},
   "outputs": [
    {
     "name": "stdout",
     "output_type": "stream",
     "text": [
      "['i', 'me', 'my', 'myself', 'we', 'our', 'ours', 'ourselves', 'you', \"you're\"]\n"
     ]
    }
   ],
   "source": [
    "# View a few stopwords\n",
    "print(stopwords[:10])"
   ]
  },
  {
   "cell_type": "code",
   "execution_count": 29,
   "metadata": {
    "colab": {},
    "colab_type": "code",
    "id": "At4SBYrdg00Y"
   },
   "outputs": [
    {
     "name": "stdout",
     "output_type": "stream",
     "text": [
      "['tragedie', 'hamlet', 'william', 'shakespeare', 'actus', 'primus', 'scoena', 'prima', 'enter', 'barnardo']\n"
     ]
    }
   ],
   "source": [
    "# Remove stopwords from our set of linguistic features\n",
    "features = [feature for feature in features if feature not in stopwords]\n",
    "print(features[:10])"
   ]
  },
  {
   "cell_type": "markdown",
   "metadata": {
    "colab_type": "text",
    "id": "7NKwRz1xpH4R"
   },
   "source": [
    "### Feature (word) distribution <a name=\"feature_distributions\"></a>"
   ]
  },
  {
   "cell_type": "markdown",
   "metadata": {},
   "source": [
    "As mentioned in the previous section, there may be stopwords that are corpora specific e.g. due to the language used and its context. We can generate feature distributions over the words in our corpus to check whether we can remove more stopwords. Typically, stopwords occur very frequently and add little contextual information to the text of interest. Conversely, natural language follows a [Zipian distribution](https://en.wikipedia.org/wiki/Zipf%27s_law) where most words are rare. Rare words that occur with a frequency of 1 are referred to as **hapaxes**. Hapaxes are of interest because their removal from a languages vocabulary can aid in NLP."
   ]
  },
  {
   "cell_type": "code",
   "execution_count": 30,
   "metadata": {
    "colab": {
     "base_uri": "https://localhost:8080/",
     "height": 299
    },
    "colab_type": "code",
    "executionInfo": {
     "elapsed": 21907,
     "status": "ok",
     "timestamp": 1585112916916,
     "user": {
      "displayName": "Tyler Bikaun",
      "photoUrl": "",
      "userId": "18384825377619195869"
     },
     "user_tz": -480
    },
    "id": "W-y0YlnZg00f",
    "outputId": "d98b65f9-62df-4248-8815-8faf34bdf8d3",
    "scrolled": true
   },
   "outputs": [
    {
     "data": {
      "image/png": "[encoded data removed]",
      "text/plain": [
       "<Figure size 432x288 with 1 Axes>"
      ]
     },
     "metadata": {
      "needs_background": "light"
     },
     "output_type": "display_data"
    }
   ],
   "source": [
    "# Count & tabulate the features, and then plot the results\n",
    "frequencies = nltk.FreqDist(features)\n",
    "plot = frequencies.plot(10)"
   ]
  },
  {
   "cell_type": "code",
   "execution_count": 42,
   "metadata": {
    "colab": {
     "base_uri": "https://localhost:8080/",
     "height": 187
    },
    "colab_type": "code",
    "executionInfo": {
     "elapsed": 21902,
     "status": "ok",
     "timestamp": 1585112916917,
     "user": {
      "displayName": "Tyler Bikaun",
      "photoUrl": "",
      "userId": "18384825377619195869"
     },
     "user_tz": -480
    },
    "id": "r2kgInNXg00n",
    "outputId": "10df1c73-3b8d-43a1-fc88-892ae35a9885"
   },
   "outputs": [
    {
     "name": "stdout",
     "output_type": "stream",
     "text": [
      "1. william\t(1)\n",
      "2. shakespeare\t(1)\n",
      "3. primus\t(1)\n",
      "4. scoena\t(1)\n",
      "5. prima\t(1)\n",
      "6. centinels\t(1)\n",
      "7. carefully\t(1)\n",
      "8. strook\t(1)\n",
      "9. releefe\t(1)\n",
      "10. stirring\t(1)\n"
     ]
    }
   ],
   "source": [
    "# Create a list of unique words (hapaxes; occur only once) and display them\n",
    "hapaxes = frequencies.hapaxes()\n",
    "print(\"\\n\".join([f'{idx+1}. {word}\\t({frequencies[word]})' for idx, word in enumerate(hapaxes[:10])]))"
   ]
  },
  {
   "cell_type": "markdown",
   "metadata": {
    "colab_type": "text",
    "id": "GySoLa2YpU84"
   },
   "source": [
    "### N-grams <a name=\"ngrams\"></a>"
   ]
  },
  {
   "cell_type": "markdown",
   "metadata": {},
   "source": [
    ">An n-gram is a contiguous sequence of n items from a given sample of text or speech."
   ]
  },
  {
   "cell_type": "markdown",
   "metadata": {},
   "source": [
    "![alt text](https://images.deepai.org/glossary-terms/867de904ba9b46869af29cead3194b6c/8ARA1.png)\n",
    "\n",
    "[deepai](https://images.deepai.org/glossary-terms/867de904ba9b46869af29cead3194b6c/8ARA1.png)"
   ]
  },
  {
   "cell_type": "code",
   "execution_count": null,
   "metadata": {
    "colab": {
     "base_uri": "https://localhost:8080/",
     "height": 187
    },
    "colab_type": "code",
    "executionInfo": {
     "elapsed": 22231,
     "status": "ok",
     "timestamp": 1585112917252,
     "user": {
      "displayName": "Tyler Bikaun",
      "photoUrl": "",
      "userId": "18384825377619195869"
     },
     "user_tz": -480
    },
    "id": "4XL7E7i1g00y",
    "outputId": "255d482a-6b0c-45f7-c884-0c95ef128a5a"
   },
   "outputs": [],
   "source": [
    "# Similar to before, let's compute the frequencies of bi-grams (word pairs)\n",
    "# Count & tabulate ngrams from the features.\n",
    "ngrams = nltk.ngrams(features, 2)\n",
    "frequencies = nltk.FreqDist(ngrams)\n",
    "\n",
    "# Show the most common bi-grams\n",
    "frequencies.most_common(10)"
   ]
  },
  {
   "cell_type": "code",
   "execution_count": null,
   "metadata": {
    "colab": {
     "base_uri": "https://localhost:8080/",
     "height": 282
    },
    "colab_type": "code",
    "executionInfo": {
     "elapsed": 22616,
     "status": "ok",
     "timestamp": 1585112917643,
     "user": {
      "displayName": "Tyler Bikaun",
      "photoUrl": "",
      "userId": "18384825377619195869"
     },
     "user_tz": -480
    },
    "id": "MWyloxswg008",
    "outputId": "8e6d0559-cd7a-414b-c5bb-d9d454f6c901"
   },
   "outputs": [],
   "source": [
    "# Create a list each token's length, and plot the result; How many \"long\" words are there?\n",
    "lengths = [len(feature) for feature in features]\n",
    "plot = nltk.FreqDist(lengths).plot(10)"
   ]
  },
  {
   "cell_type": "markdown",
   "metadata": {
    "colab_type": "text",
    "id": "XOf0Hf-WpeZq"
   },
   "source": [
    "### Stemming <a name=\"stemming\"></a>"
   ]
  },
  {
   "cell_type": "markdown",
   "metadata": {},
   "source": [
    "**Stemming:** \"stemming is the process of reducing inflected (or sometimes derived) words to their word stem, base or root form.\"\n",
    "\n",
    "![alt text](https://kavita-ganesan.com/wp-content/uploads/2019/02/Screen-Shot-2019-02-15-at-2.01.37-PM.png)\n",
    "\n",
    "[kavita ganesan](https://kavita-ganesan.com/wp-content/uploads/2019/02/Screen-Shot-2019-02-15-at-2.01.37-PM.png)"
   ]
  },
  {
   "cell_type": "code",
   "execution_count": null,
   "metadata": {
    "colab": {
     "base_uri": "https://localhost:8080/",
     "height": 187
    },
    "colab_type": "code",
    "executionInfo": {
     "elapsed": 23590,
     "status": "ok",
     "timestamp": 1585112918622,
     "user": {
      "displayName": "Tyler Bikaun",
      "photoUrl": "",
      "userId": "18384825377619195869"
     },
     "user_tz": -480
    },
    "id": "Kz1nd5Xng01D",
    "outputId": "9b9d2482-00a4-4ab6-c55d-196b4fc298f0"
   },
   "outputs": [],
   "source": [
    "# Initialize a stemmer, stem the features, count & tabulate, and output\n",
    "stemmer = PorterStemmer()\n",
    "stems = [stemmer.stem(feature) for feature in features]\n",
    "frequencies = nltk.FreqDist(stems)\n",
    "frequencies.most_common(10)"
   ]
  },
  {
   "cell_type": "markdown",
   "metadata": {
    "colab_type": "text",
    "id": "fh66gdocygOU"
   },
   "source": [
    "## Preparing text\n",
    "For the next section of this notebook, we need to recreate our text into features and conver them into an NLTK 'Text' object. This allows us to do concordancing and other interesting things."
   ]
  },
  {
   "cell_type": "code",
   "execution_count": null,
   "metadata": {
    "colab": {},
    "colab_type": "code",
    "id": "3or-ylZDg01I"
   },
   "outputs": [],
   "source": [
    "# Re-create the features and create a NLTK Text object, so other cool things can be done\n",
    "features = nltk.word_tokenize(data)\n",
    "text = nltk.Text(features)"
   ]
  },
  {
   "cell_type": "code",
   "execution_count": null,
   "metadata": {
    "colab": {
     "base_uri": "https://localhost:8080/",
     "height": 34
    },
    "colab_type": "code",
    "executionInfo": {
     "elapsed": 24405,
     "status": "ok",
     "timestamp": 1585112919445,
     "user": {
      "displayName": "Tyler Bikaun",
      "photoUrl": "",
      "userId": "18384825377619195869"
     },
     "user_tz": -480
    },
    "id": "46_nguFzg01N",
    "outputId": "ec481fcd-ce6e-4974-a966-d3d8d7965ba2"
   },
   "outputs": [],
   "source": [
    "# Count & tabulate, again; list a given word -- try different words!\n",
    "# If you're using shakespeare data - try Lord\n",
    "# If you're using gold data - try Perth\n",
    "frequencies = nltk.FreqDist(text)\n",
    "print(frequencies['Lord'])"
   ]
  },
  {
   "cell_type": "markdown",
   "metadata": {
    "colab_type": "text",
    "id": "ZR4LC96gpn64"
   },
   "source": [
    "### Concordancing <a name=\"concordancing\"></a>"
   ]
  },
  {
   "cell_type": "markdown",
   "metadata": {},
   "source": [
    "Cordandancing: \"A concordance is an alphabetical list of the principal words used in a book or body of work, listing every instance of each word with its immediate context.\"\n",
    "\n",
    "![alt text](https://orange3-text.readthedocs.io/en/latest/_images/Concordance-stamped.png)\n",
    "\n",
    "[orange3](https://orange3-text.readthedocs.io/en/latest/_images/Concordance-stamped.png)"
   ]
  },
  {
   "cell_type": "code",
   "execution_count": null,
   "metadata": {
    "colab": {
     "base_uri": "https://localhost:8080/",
     "height": 476
    },
    "colab_type": "code",
    "executionInfo": {
     "elapsed": 24401,
     "status": "ok",
     "timestamp": 1585112919446,
     "user": {
      "displayName": "Tyler Bikaun",
      "photoUrl": "",
      "userId": "18384825377619195869"
     },
     "user_tz": -480
    },
    "id": "7SEHdA10g01R",
    "outputId": "b8414378-0267-4b6b-e1ae-48b6484f3048"
   },
   "outputs": [],
   "source": [
    "# Do keyword-in-context searching against the text (concordancing)\n",
    "# If you're using shakespeare data - try Lord\n",
    "# If you're using gold data - try Perth\n",
    "print(text.concordance('Lord'))"
   ]
  },
  {
   "cell_type": "markdown",
   "metadata": {
    "colab_type": "text",
    "id": "2Xo0rY7Dq0Xq"
   },
   "source": [
    "### Dispersion Plot <a name=\"dispersion_plotting\"></a>"
   ]
  },
  {
   "cell_type": "markdown",
   "metadata": {},
   "source": [
    "A method for displaying lexical dispersion."
   ]
  },
  {
   "cell_type": "code",
   "execution_count": null,
   "metadata": {
    "colab": {
     "base_uri": "https://localhost:8080/",
     "height": 295
    },
    "colab_type": "code",
    "executionInfo": {
     "elapsed": 24752,
     "status": "ok",
     "timestamp": 1585112919803,
     "user": {
      "displayName": "Tyler Bikaun",
      "photoUrl": "",
      "userId": "18384825377619195869"
     },
     "user_tz": -480
    },
    "id": "DFXnL03Dg01X",
    "outputId": "2021b3a8-2caa-41c9-bce1-3b54617b56a2"
   },
   "outputs": [],
   "source": [
    "# Create a dispersion plot of given words\n",
    "# If you're using shakespeare data - try ['Lord', 'King', 'Ham']\n",
    "# If you're using gold data - try ['Perth', 'Australia', 'Adelaide', 'Gold']\n",
    "plot = text.dispersion_plot(['Lord', 'King', 'Ham'])"
   ]
  },
  {
   "cell_type": "markdown",
   "metadata": {
    "colab_type": "text",
    "id": "rhGxXNbKq3tr"
   },
   "source": [
    "### Bi-gram significance <a name=\"bigram_significance\"></a>"
   ]
  },
  {
   "cell_type": "markdown",
   "metadata": {},
   "source": [
    "Determine which bi-grams are the most significant considering a defined window size."
   ]
  },
  {
   "cell_type": "markdown",
   "metadata": {},
   "source": [
    "> Collocations are expressions of multiple words which commonly co-occur."
   ]
  },
  {
   "cell_type": "code",
   "execution_count": null,
   "metadata": {
    "colab": {
     "base_uri": "https://localhost:8080/",
     "height": 68
    },
    "colab_type": "code",
    "executionInfo": {
     "elapsed": 25750,
     "status": "ok",
     "timestamp": 1585112920807,
     "user": {
      "displayName": "Tyler Bikaun",
      "photoUrl": "",
      "userId": "18384825377619195869"
     },
     "user_tz": -480
    },
    "id": "4yNbUBOfg01c",
    "outputId": "6c3d6f05-fd8c-4302-a49d-86ffaa3cf11f"
   },
   "outputs": [],
   "source": [
    "# output the \"most significant\" bigrams, considering surrounding words (size of window) -- Try different window sizes.\n",
    "text.collocation_list(num=10, window_size=4)"
   ]
  },
  {
   "cell_type": "markdown",
   "metadata": {
    "colab_type": "text",
    "id": "QfouSW0sq6vg"
   },
   "source": [
    "### Common word context <a name=\"word_contexts\"></a>"
   ]
  },
  {
   "cell_type": "markdown",
   "metadata": {},
   "source": [
    "Common word contexts allows us to examine the contexts that are shared by two or more words"
   ]
  },
  {
   "cell_type": "code",
   "execution_count": null,
   "metadata": {
    "colab": {
     "base_uri": "https://localhost:8080/",
     "height": 34
    },
    "colab_type": "code",
    "executionInfo": {
     "elapsed": 26771,
     "status": "ok",
     "timestamp": 1585112921833,
     "user": {
      "displayName": "Tyler Bikaun",
      "photoUrl": "",
      "userId": "18384825377619195869"
     },
     "user_tz": -480
    },
    "id": "zcBoZHrLg01h",
    "outputId": "34bd57f2-529e-4897-94c4-3e3fa2f15d90"
   },
   "outputs": [],
   "source": [
    "# Given a set of words, what words are nearby\n",
    "# If you're using shakespeare data - try ['Lord', 'King']\n",
    "# if you're using gold data - try ['Mine', 'Gold']\n",
    "text.common_contexts(['Lord', 'King'])"
   ]
  },
  {
   "cell_type": "markdown",
   "metadata": {
    "colab_type": "text",
    "id": "5fdltxcvq_iw"
   },
   "source": [
    "### Word similarities <a name=\"word_similarities\"></a>"
   ]
  },
  {
   "cell_type": "markdown",
   "metadata": {},
   "source": [
    "What words are similar to each other?\n",
    "This implementation should be remembered when we look at *word embeddings*. \n",
    "\n",
    "The method that is implemented by NLTK is \"Distributional similarity: find other words which appear in the same contexts as the specified word.\""
   ]
  },
  {
   "cell_type": "code",
   "execution_count": null,
   "metadata": {
    "colab": {
     "base_uri": "https://localhost:8080/",
     "height": 51
    },
    "colab_type": "code",
    "executionInfo": {
     "elapsed": 26766,
     "status": "ok",
     "timestamp": 1585112921834,
     "user": {
      "displayName": "Tyler Bikaun",
      "photoUrl": "",
      "userId": "18384825377619195869"
     },
     "user_tz": -480
    },
    "id": "2qLrXz-Ig01n",
    "outputId": "2cc77b4b-f528-4faa-ca2d-6e3dba5a776a",
    "scrolled": true
   },
   "outputs": [],
   "source": [
    "# List the words (features) most associated with the given word\n",
    "# If you're using Shakespeare data - Try Lord\n",
    "# If you're using gold data - Try Gold\n",
    "text.similar('King')"
   ]
  },
  {
   "cell_type": "code",
   "execution_count": null,
   "metadata": {
    "colab": {
     "base_uri": "https://localhost:8080/",
     "height": 68
    },
    "colab_type": "code",
    "executionInfo": {
     "elapsed": 26761,
     "status": "ok",
     "timestamp": 1585112921834,
     "user": {
      "displayName": "Tyler Bikaun",
      "photoUrl": "",
      "userId": "18384825377619195869"
     },
     "user_tz": -480
    },
    "id": "dqtDPBxfg01r",
    "outputId": "50c39466-2093-45bb-d64b-d92570829e2a"
   },
   "outputs": [],
   "source": [
    "# create a list of sentences, and display one -- season to taste\n",
    "sentences = nltk.sent_tokenize(data)\n",
    "sentence  = sentences[14]\n",
    "print(sentence)"
   ]
  },
  {
   "cell_type": "markdown",
   "metadata": {
    "colab_type": "text",
    "id": "OJhgqkAtrIdx"
   },
   "source": [
    "### Parts-of-speech (POS) <a name=\"part_of_speech\"></a>"
   ]
  },
  {
   "cell_type": "markdown",
   "metadata": {},
   "source": [
    "**POS:** \"part of speech is a category of words (or, more generally, of lexical items) that have similar grammatical properties. Words that are assigned to the same part of speech generally display similar syntactic behavior—they play similar roles within the grammatical structure of sentences—and sometimes similar morphology in that they undergo inflection for similar properties.\"\n",
    "\n",
    "![alt text](https://1.bp.blogspot.com/-spGNcdlw7g4/XHY5fS25uVI/AAAAAAAABqY/63lfyQFHkl4rf1ls0vvLIBRRc8TEsBZvgCLcBGAs/s640/Capture.PNG)\n",
    "\n",
    "[thinkifi](https://1.bp.blogspot.com/-spGNcdlw7g4/XHY5fS25uVI/AAAAAAAABqY/63lfyQFHkl4rf1ls0vvLIBRRc8TEsBZvgCLcBGAs/s640/Capture.PNG)"
   ]
  },
  {
   "cell_type": "code",
   "execution_count": null,
   "metadata": {
    "colab": {
     "base_uri": "https://localhost:8080/",
     "height": 85
    },
    "colab_type": "code",
    "executionInfo": {
     "elapsed": 27078,
     "status": "ok",
     "timestamp": 1585112922156,
     "user": {
      "displayName": "Tyler Bikaun",
      "photoUrl": "",
      "userId": "18384825377619195869"
     },
     "user_tz": -480
    },
    "id": "5-SNNsgArM84",
    "outputId": "1befef3b-d079-49d9-e5d7-26b1be863f9b"
   },
   "outputs": [],
   "source": [
    "# Import perceptron tagger\n",
    "# POS is a supervised learning process so we need to load in a ML model to aid us.\n",
    "nltk.download('averaged_perceptron_tagger')"
   ]
  },
  {
   "cell_type": "code",
   "execution_count": null,
   "metadata": {
    "colab": {
     "base_uri": "https://localhost:8080/",
     "height": 54
    },
    "colab_type": "code",
    "executionInfo": {
     "elapsed": 27072,
     "status": "ok",
     "timestamp": 1585112922157,
     "user": {
      "displayName": "Tyler Bikaun",
      "photoUrl": "",
      "userId": "18384825377619195869"
     },
     "user_tz": -480
    },
    "id": "YX3O1garg01w",
    "outputId": "300d7579-6ee8-4186-d37b-a2ccc89371bc"
   },
   "outputs": [],
   "source": [
    "# Tokenize the sentence and parse it into parts-of-speech, all in one go.\n",
    "sentence = nltk.pos_tag(nltk.word_tokenize(sentence))\n",
    "print(sentence)"
   ]
  },
  {
   "cell_type": "markdown",
   "metadata": {
    "colab_type": "text",
    "id": "yVRkuk1arQob"
   },
   "source": [
    "### Named entity extraction <a name=\"named_entity_recognition\"></a> "
   ]
  },
  {
   "cell_type": "markdown",
   "metadata": {},
   "source": [
    "**Chunking:** \"Chunking is a process of extracting phrases from unstructured text.\"<br>\n",
    "\n",
    "![alt text](https://www.tutorialkart.com/wp-content/uploads/2017/06/chunker_ex.png)\n",
    "\n",
    "[tutorialkart](https://www.tutorialkart.com/wp-content/uploads/2017/06/chunker_ex.png)"
   ]
  },
  {
   "cell_type": "code",
   "execution_count": null,
   "metadata": {
    "colab": {
     "base_uri": "https://localhost:8080/",
     "height": 119
    },
    "colab_type": "code",
    "executionInfo": {
     "elapsed": 27846,
     "status": "ok",
     "timestamp": 1585112922938,
     "user": {
      "displayName": "Tyler Bikaun",
      "photoUrl": "",
      "userId": "18384825377619195869"
     },
     "user_tz": -480
    },
    "id": "4TmlAUNSrVoq",
    "outputId": "84a7c49f-106a-43d3-8c09-8073a690efbb"
   },
   "outputs": [],
   "source": [
    "# Import chunker and wordlist corpus\n",
    "nltk.download('maxent_ne_chunker')\n",
    "nltk.download('words')"
   ]
  },
  {
   "cell_type": "code",
   "execution_count": null,
   "metadata": {
    "colab": {
     "base_uri": "https://localhost:8080/",
     "height": 476
    },
    "colab_type": "code",
    "executionInfo": {
     "elapsed": 27832,
     "status": "ok",
     "timestamp": 1585112922939,
     "user": {
      "displayName": "Tyler Bikaun",
      "photoUrl": "",
      "userId": "18384825377619195869"
     },
     "user_tz": -480
    },
    "id": "DYeI3TYAg013",
    "outputId": "de9fad37-cd65-497e-d211-32a7fd89d5b1",
    "scrolled": true
   },
   "outputs": [],
   "source": [
    "# Extract named enities from a sentence, and print the results\n",
    "# chunking\n",
    "entities = nltk.ne_chunk(sentence)\n",
    "print(entities)"
   ]
  },
  {
   "cell_type": "markdown",
   "metadata": {
    "colab_type": "text",
    "id": "CWP672dkrZSq"
   },
   "source": [
    "### Visualisation Tree"
   ]
  },
  {
   "cell_type": "markdown",
   "metadata": {
    "colab_type": "text",
    "id": "BKsAyxldHQQF"
   },
   "source": [
    "Output the entities graphically. Currently doesn't work in Google Colab, however the image shown is similar to what would be expected."
   ]
  },
  {
   "cell_type": "code",
   "execution_count": null,
   "metadata": {
    "colab": {},
    "colab_type": "code",
    "id": "Qxe-oE7xg02A",
    "scrolled": true
   },
   "outputs": [],
   "source": [
    "# entities"
   ]
  },
  {
   "cell_type": "markdown",
   "metadata": {
    "colab_type": "text",
    "id": "Xh5mIvfNHaKX"
   },
   "source": [
    "![Entity Tree](https://www.nltk.org/book/tree_images/ch07-tree-2.png)\n",
    "\n",
    "[NLTK](https://www.nltk.org/book/tree_images/ch07-tree-2.png)"
   ]
  },
  {
   "cell_type": "markdown",
   "metadata": {
    "colab_type": "text",
    "id": "4RKBXvvug02G"
   },
   "source": [
    "This is the end of the Notebook. I hope you found it useful."
   ]
  }
 ],
 "metadata": {
  "colab": {
   "collapsed_sections": [],
   "name": "12.1-An introduction to the NLTK.ipynb",
   "provenance": [],
   "toc_visible": true
  },
  "kernelspec": {
   "display_name": "Python 3",
   "language": "python",
   "name": "python3"
  },
  "language_info": {
   "codemirror_mode": {
    "name": "ipython",
    "version": 3
   },
   "file_extension": ".py",
   "mimetype": "text/x-python",
   "name": "python",
   "nbconvert_exporter": "python",
   "pygments_lexer": "ipython3",
   "version": "3.6.5"
  }
 },
 "nbformat": 4,
 "nbformat_minor": 1
}
