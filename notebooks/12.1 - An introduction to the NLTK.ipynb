{
 "cells": [
  {
   "cell_type": "markdown",
   "metadata": {
    "colab_type": "text",
    "id": "qSP1boAhg0zq"
   },
   "source": [
    "# An Introduction to the NLTK\n",
    "Source: 😊[Day 12 - Special Data Types: Natural Language Processing](https://github.com/core-skills/12-text-processing) *repository*"
   ]
  },
  {
   "cell_type": "markdown",
   "metadata": {},
   "source": [
    "**Overview**: This notebook introduces the Python Natural Langauge Toolkit (*NLTK*). The NLTK is a set of modules and corpora that support natural langauge processing against a corpus of one or more texts (sentences, paragraphs, ...). This notebook only touches the surface of the capabilities of NLTK and is intended to provide a view of traditional text wrangling, pre-processing and analysis techniques. However, the NLTK is capable of both machine learning and text mining."
   ]
  },
  {
   "cell_type": "markdown",
   "metadata": {},
   "source": [
    "Note:\n",
    "- *Quoted texts are derived from the respective topics Wikipedia page*\n",
    "- Corpora accessed via NLTK is accessed under the The Project Gutenberg License"
   ]
  },
  {
   "cell_type": "markdown",
   "metadata": {},
   "source": [
    "## Table of Contents\n",
    "1. [Tokenization](#tokenization)\n",
    "2. [Stop Words](#stop_words)\n",
    "3. [Feature distributions](#feature_distributions)\n",
    "4. [N-grams](#ngrams)\n",
    "5. [Stemming](#stemming)\n",
    "6. [Concordancing](#concordancing)\n",
    "7. [Dispersion Plotting](#dispersion_plotting)\n",
    "8. [Bi-gram Signifiance](#bigram_significance)\n",
    "9. [Word contexts](#word_contexts)\n",
    "10. [Word similarities](#word_similarities)\n",
    "11. [Parts-of-Speech (POS)](#part_of_speech)\n",
    "12. [Named entity extraction](#named_entity_recognition)"
   ]
  },
  {
   "cell_type": "markdown",
   "metadata": {
    "colab_type": "text",
    "id": "mM-HOC_9tnuU"
   },
   "source": [
    "### Import Dependencies\n",
    "- [nltk](https://www.nltk.org/) - library that we will use to explore traditional natural language wrangling, pre-processing and analysis"
   ]
  },
  {
   "cell_type": "code",
   "execution_count": 1,
   "metadata": {
    "colab": {},
    "colab_type": "code",
    "id": "Nq3V_tq4tnGT"
   },
   "outputs": [],
   "source": [
    "import nltk\n",
    "from nltk.corpus import stopwords, reuters\n",
    "from nltk.stem import PorterStemmer"
   ]
  },
  {
   "cell_type": "code",
   "execution_count": 2,
   "metadata": {},
   "outputs": [
    {
     "name": "stderr",
     "output_type": "stream",
     "text": [
      "[nltk_data] Downloading package gutenberg to\n",
      "[nltk_data]     C:\\Users\\22917746\\AppData\\Roaming\\nltk_data...\n",
      "[nltk_data]   Package gutenberg is already up-to-date!\n",
      "[nltk_data] Downloading package reuters to\n",
      "[nltk_data]     C:\\Users\\22917746\\AppData\\Roaming\\nltk_data...\n",
      "[nltk_data]   Package reuters is already up-to-date!\n"
     ]
    },
    {
     "data": {
      "text/plain": [
       "True"
      ]
     },
     "execution_count": 2,
     "metadata": {},
     "output_type": "execute_result"
    }
   ],
   "source": [
    "# Download NLTK corpora\n",
    "nltk.download('gutenberg')\n",
    "nltk.download('reuters')"
   ]
  },
  {
   "cell_type": "markdown",
   "metadata": {
    "colab_type": "text",
    "id": "FjTJgN_OtGnD"
   },
   "source": [
    "### Load corpora\n",
    "There are two types of text data (*corpora*) that can be used within this notebook. The first is the novel `shakespeare-hamlet` and the second is a selection of news articles provided by Reuters on the topic of `gold`."
   ]
  },
  {
   "cell_type": "code",
   "execution_count": 6,
   "metadata": {},
   "outputs": [],
   "source": [
    "corpus_type = 'shakespeare' # gold"
   ]
  },
  {
   "cell_type": "code",
   "execution_count": 7,
   "metadata": {},
   "outputs": [],
   "source": [
    "if corpus_type == 'shakespeare':\n",
    "    corpus = \" \".join(nltk.corpus.gutenberg.words('shakespeare-hamlet.txt'))\n",
    "elif corpus_type == 'gold':\n",
    "    corpus = \" \".join(reuters.words(reuters.fileids('gold')))\n",
    "else:\n",
    "    print('Please check the data type you specified as it is incorrect')\n",
    "    raise ValueError"
   ]
  },
  {
   "cell_type": "code",
   "execution_count": 8,
   "metadata": {},
   "outputs": [
    {
     "name": "stdout",
     "output_type": "stream",
     "text": [
      "[ The Tragedie of Hamlet by William Shakespeare 1599 ] Actus Primus . Scoena Prima . Enter Barnardo and Francisco two Centinels . Barnardo . Who ' s there ? Fran . Nay answer me : Stand & vnfold your selfe Bar . Long liue the King Fran . Barnardo ? B\n"
     ]
    }
   ],
   "source": [
    "# View corpus\n",
    "print(corpus[:250])"
   ]
  },
  {
   "cell_type": "markdown",
   "metadata": {
    "colab_type": "text",
    "id": "1YM4M8M-uAYr"
   },
   "source": [
    "## Fundamentals of Natural Language Processing"
   ]
  },
  {
   "cell_type": "markdown",
   "metadata": {
    "colab_type": "text",
    "id": "xtWXEgONo_fA"
   },
   "source": [
    "### Tokenization <a name=\"tokenization\"></a>"
   ]
  },
  {
   "cell_type": "markdown",
   "metadata": {},
   "source": [
    "> Tokenization is the process of demarcating and possibly classifying sections of a string of input characters. The resulting tokens are then passed on to some other form of processing."
   ]
  },
  {
   "cell_type": "markdown",
   "metadata": {},
   "source": [
    "![alt text](https://cdn.analyticsvidhya.com/wp-content/uploads/2019/11/tokenization.png)\n",
    "\n",
    "[analyticsvidhya](https://cdn.analyticsvidhya.com/wp-content/uploads/2019/11/tokenization.png)"
   ]
  },
  {
   "cell_type": "markdown",
   "metadata": {},
   "source": [
    "We use the pre-trained [Punkt](https://www.nltk.org/_modules/nltk/tokenize/punkt.html) tokenizer made available with NLTK. This tokenizer is generated via unsupervised learning on a large corpus of texts. There are many more pre-trained tokenizers available covering a broad range of tokenization techniques such as character tokenization, byte-pair encoding, sub-word, etc."
   ]
  },
  {
   "cell_type": "code",
   "execution_count": 9,
   "metadata": {
    "colab": {
     "base_uri": "https://localhost:8080/",
     "height": 68
    },
    "colab_type": "code",
    "executionInfo": {
     "elapsed": 20511,
     "status": "ok",
     "timestamp": 1585112915494,
     "user": {
      "displayName": "Tyler Bikaun",
      "photoUrl": "",
      "userId": "18384825377619195869"
     },
     "user_tz": -480
    },
    "id": "CLrS_kYAoycL",
    "outputId": "dabec6a0-4ab2-4f41-ccbc-11c0d03f2132"
   },
   "outputs": [
    {
     "name": "stderr",
     "output_type": "stream",
     "text": [
      "[nltk_data] Downloading package punkt to\n",
      "[nltk_data]     C:\\Users\\22917746\\AppData\\Roaming\\nltk_data...\n",
      "[nltk_data]   Package punkt is already up-to-date!\n"
     ]
    },
    {
     "data": {
      "text/plain": [
       "True"
      ]
     },
     "execution_count": 9,
     "metadata": {},
     "output_type": "execute_result"
    }
   ],
   "source": [
    "# Load NLTK tokenizer\n",
    "nltk.download('punkt')"
   ]
  },
  {
   "cell_type": "code",
   "execution_count": 10,
   "metadata": {
    "colab": {
     "base_uri": "https://localhost:8080/",
     "height": 34
    },
    "colab_type": "code",
    "executionInfo": {
     "elapsed": 21513,
     "status": "ok",
     "timestamp": 1585112916501,
     "user": {
      "displayName": "Tyler Bikaun",
      "photoUrl": "",
      "userId": "18384825377619195869"
     },
     "user_tz": -480
    },
    "id": "Ez_PCNDzg00J",
    "outputId": "c9a6b184-ce34-4abc-d9f8-133e30cf7a1c"
   },
   "outputs": [
    {
     "name": "stdout",
     "output_type": "stream",
     "text": [
      "['[', 'The', 'Tragedie', 'of', 'Hamlet', 'by', 'William', 'Shakespeare', '1599', ']']\n"
     ]
    }
   ],
   "source": [
    "# Tokenize the corpus into features (words) and display 10 of them\n",
    "features = nltk.word_tokenize(corpus)\n",
    "print(features[:10])"
   ]
  },
  {
   "cell_type": "code",
   "execution_count": 11,
   "metadata": {
    "colab": {
     "base_uri": "https://localhost:8080/",
     "height": 34
    },
    "colab_type": "code",
    "executionInfo": {
     "elapsed": 21507,
     "status": "ok",
     "timestamp": 1585112916502,
     "user": {
      "displayName": "Tyler Bikaun",
      "photoUrl": "",
      "userId": "18384825377619195869"
     },
     "user_tz": -480
    },
    "id": "ugPnoG9tg00T",
    "outputId": "d058c7f4-4384-4578-e34a-5d25b65d7518"
   },
   "outputs": [
    {
     "name": "stdout",
     "output_type": "stream",
     "text": [
      "['the', 'tragedie', 'of', 'hamlet', 'by', 'william', 'shakespeare', 'actus', 'primus', 'scoena']\n"
     ]
    }
   ],
   "source": [
    "# Normalize the features to lower case and exclude punctuation and display 10 of them\n",
    "features = [feature for feature in features if feature.isalpha()]\n",
    "features = [feature.lower() for feature in features]\n",
    "print(features[:10])"
   ]
  },
  {
   "cell_type": "markdown",
   "metadata": {
    "colab_type": "text",
    "id": "fql1NEBXo7Ag"
   },
   "source": [
    "### Stop Words <a name=\"stop_words\"></a>"
   ]
  },
  {
   "cell_type": "markdown",
   "metadata": {},
   "source": [
    "> Stop words usually refers to the most common words in a language, there is no single universal list of stop words\""
   ]
  },
  {
   "cell_type": "markdown",
   "metadata": {},
   "source": [
    "![alt text](https://www.socialtalent.com/wp-content/uploads/2016/09/Screen-Shot-2016-09-01-at-15.01.32.png)"
   ]
  },
  {
   "cell_type": "markdown",
   "metadata": {},
   "source": [
    "Similar to Punkt, the NLTK also has a resource containing common stopwords. Stopwords are domain and language specific, hence the stop words in English will be different to those in Japanese or those used in the resources industry."
   ]
  },
  {
   "cell_type": "code",
   "execution_count": 12,
   "metadata": {
    "colab": {
     "base_uri": "https://localhost:8080/",
     "height": 68
    },
    "colab_type": "code",
    "executionInfo": {
     "elapsed": 21501,
     "status": "ok",
     "timestamp": 1585112916502,
     "user": {
      "displayName": "Tyler Bikaun",
      "photoUrl": "",
      "userId": "18384825377619195869"
     },
     "user_tz": -480
    },
    "id": "hF25hbnDo5NT",
    "outputId": "4652bd6c-6f02-46b3-c78a-cccc7ec52705"
   },
   "outputs": [
    {
     "name": "stderr",
     "output_type": "stream",
     "text": [
      "[nltk_data] Downloading package stopwords to\n",
      "[nltk_data]     C:\\Users\\22917746\\AppData\\Roaming\\nltk_data...\n",
      "[nltk_data]   Package stopwords is already up-to-date!\n"
     ]
    },
    {
     "data": {
      "text/plain": [
       "True"
      ]
     },
     "execution_count": 12,
     "metadata": {},
     "output_type": "execute_result"
    }
   ],
   "source": [
    "# Load NLTK stopwords\n",
    "nltk.download('stopwords')"
   ]
  },
  {
   "cell_type": "code",
   "execution_count": 13,
   "metadata": {},
   "outputs": [],
   "source": [
    "# Create a list of (English) stopwords\n",
    "stopwords = stopwords.words('english')"
   ]
  },
  {
   "cell_type": "code",
   "execution_count": 14,
   "metadata": {},
   "outputs": [
    {
     "name": "stdout",
     "output_type": "stream",
     "text": [
      "['i', 'me', 'my', 'myself', 'we', 'our', 'ours', 'ourselves', 'you', \"you're\"]\n"
     ]
    }
   ],
   "source": [
    "# View a few stopwords\n",
    "print(stopwords[:10])"
   ]
  },
  {
   "cell_type": "code",
   "execution_count": 15,
   "metadata": {
    "colab": {},
    "colab_type": "code",
    "id": "At4SBYrdg00Y"
   },
   "outputs": [
    {
     "name": "stdout",
     "output_type": "stream",
     "text": [
      "['tragedie', 'hamlet', 'william', 'shakespeare', 'actus', 'primus', 'scoena', 'prima', 'enter', 'barnardo']\n"
     ]
    }
   ],
   "source": [
    "# Remove stopwords from our set of linguistic features\n",
    "features = [feature for feature in features if feature not in stopwords]\n",
    "print(features[:10])"
   ]
  },
  {
   "cell_type": "markdown",
   "metadata": {
    "colab_type": "text",
    "id": "7NKwRz1xpH4R"
   },
   "source": [
    "### Feature (word) distribution <a name=\"feature_distributions\"></a>"
   ]
  },
  {
   "cell_type": "markdown",
   "metadata": {},
   "source": [
    "As mentioned in the previous section, there may be stopwords that are corpora specific e.g. due to the language used and its context. We can generate feature distributions over the words in our corpus to check whether we can remove more stopwords. Typically, stopwords occur very frequently and add little contextual information to the text of interest. Conversely, natural language follows a [Zipian distribution](https://en.wikipedia.org/wiki/Zipf%27s_law) where most words are rare. Rare words that occur with a frequency of 1 are referred to as **hapaxes**. Hapaxes are of interest because their removal from a languages vocabulary can aid in NLP."
   ]
  },
  {
   "cell_type": "code",
   "execution_count": 16,
   "metadata": {
    "colab": {
     "base_uri": "https://localhost:8080/",
     "height": 299
    },
    "colab_type": "code",
    "executionInfo": {
     "elapsed": 21907,
     "status": "ok",
     "timestamp": 1585112916916,
     "user": {
      "displayName": "Tyler Bikaun",
      "photoUrl": "",
      "userId": "18384825377619195869"
     },
     "user_tz": -480
    },
    "id": "W-y0YlnZg00f",
    "outputId": "d98b65f9-62df-4248-8815-8faf34bdf8d3",
    "scrolled": true
   },
   "outputs": [
    {
     "data": {
      "image/png": "[encoded data removed]",
      "text/plain": [
       "<Figure size 432x288 with 1 Axes>"
      ]
     },
     "metadata": {
      "needs_background": "light"
     },
     "output_type": "display_data"
    }
   ],
   "source": [
    "# Count & tabulate the features, and then plot the results\n",
    "frequencies = nltk.FreqDist(features)\n",
    "plot = frequencies.plot(10)"
   ]
  },
  {
   "cell_type": "code",
   "execution_count": 17,
   "metadata": {
    "colab": {
     "base_uri": "https://localhost:8080/",
     "height": 187
    },
    "colab_type": "code",
    "executionInfo": {
     "elapsed": 21902,
     "status": "ok",
     "timestamp": 1585112916917,
     "user": {
      "displayName": "Tyler Bikaun",
      "photoUrl": "",
      "userId": "18384825377619195869"
     },
     "user_tz": -480
    },
    "id": "r2kgInNXg00n",
    "outputId": "10df1c73-3b8d-43a1-fc88-892ae35a9885"
   },
   "outputs": [
    {
     "name": "stdout",
     "output_type": "stream",
     "text": [
      "1. william\t(1)\n",
      "2. shakespeare\t(1)\n",
      "3. primus\t(1)\n",
      "4. scoena\t(1)\n",
      "5. prima\t(1)\n",
      "6. centinels\t(1)\n",
      "7. carefully\t(1)\n",
      "8. strook\t(1)\n",
      "9. releefe\t(1)\n",
      "10. stirring\t(1)\n"
     ]
    }
   ],
   "source": [
    "# Create a list of unique words (hapaxes; occur only once) and display them\n",
    "hapaxes = frequencies.hapaxes()\n",
    "print(\"\\n\".join([f'{idx+1}. {word}\\t({frequencies[word]})' for idx, word in enumerate(hapaxes[:10])]))"
   ]
  },
  {
   "cell_type": "markdown",
   "metadata": {
    "colab_type": "text",
    "id": "GySoLa2YpU84"
   },
   "source": [
    "### N-grams <a name=\"ngrams\"></a>"
   ]
  },
  {
   "cell_type": "markdown",
   "metadata": {},
   "source": [
    ">An n-gram is a contiguous sequence of n items from a given sample of text or speech."
   ]
  },
  {
   "cell_type": "markdown",
   "metadata": {},
   "source": [
    "![alt text](https://images.deepai.org/glossary-terms/867de904ba9b46869af29cead3194b6c/8ARA1.png)\n",
    "\n",
    "[deepai](https://images.deepai.org/glossary-terms/867de904ba9b46869af29cead3194b6c/8ARA1.png)"
   ]
  },
  {
   "cell_type": "code",
   "execution_count": 18,
   "metadata": {
    "colab": {
     "base_uri": "https://localhost:8080/",
     "height": 187
    },
    "colab_type": "code",
    "executionInfo": {
     "elapsed": 22231,
     "status": "ok",
     "timestamp": 1585112917252,
     "user": {
      "displayName": "Tyler Bikaun",
      "photoUrl": "",
      "userId": "18384825377619195869"
     },
     "user_tz": -480
    },
    "id": "4XL7E7i1g00y",
    "outputId": "255d482a-6b0c-45f7-c884-0c95ef128a5a"
   },
   "outputs": [
    {
     "data": {
      "text/plain": [
       "[(('lord', 'ham'), 70),\n",
       " (('good', 'lord'), 23),\n",
       " (('hamlet', 'ham'), 15),\n",
       " (('enter', 'king'), 15),\n",
       " (('wee', 'l'), 13),\n",
       " (('haue', 'seene'), 12),\n",
       " (('lord', 'hamlet'), 11),\n",
       " (('ham', 'oh'), 10),\n",
       " (('hor', 'lord'), 10),\n",
       " (('ham', 'sir'), 10)]"
      ]
     },
     "execution_count": 18,
     "metadata": {},
     "output_type": "execute_result"
    }
   ],
   "source": [
    "# Similar to before, let's compute the frequencies of bi-grams (word pairs)\n",
    "# Count & tabulate ngrams from the features\n",
    "ngrams = nltk.ngrams(features, 2)\n",
    "frequencies = nltk.FreqDist(ngrams)\n",
    "\n",
    "# Show the most common bi-grams\n",
    "frequencies.most_common(10)"
   ]
  },
  {
   "cell_type": "code",
   "execution_count": 19,
   "metadata": {
    "colab": {
     "base_uri": "https://localhost:8080/",
     "height": 282
    },
    "colab_type": "code",
    "executionInfo": {
     "elapsed": 22616,
     "status": "ok",
     "timestamp": 1585112917643,
     "user": {
      "displayName": "Tyler Bikaun",
      "photoUrl": "",
      "userId": "18384825377619195869"
     },
     "user_tz": -480
    },
    "id": "MWyloxswg008",
    "outputId": "8e6d0559-cd7a-414b-c5bb-d9d454f6c901"
   },
   "outputs": [
    {
     "data": {
      "image/png": "[encoded data removed]",
      "text/plain": [
       "<Figure size 432x288 with 1 Axes>"
      ]
     },
     "metadata": {
      "needs_background": "light"
     },
     "output_type": "display_data"
    }
   ],
   "source": [
    "# Create a list each token's length, and plot the result; How many \"long\" words are there?\n",
    "lengths = [len(feature) for feature in features]\n",
    "plot = nltk.FreqDist(lengths).plot(10)"
   ]
  },
  {
   "cell_type": "markdown",
   "metadata": {
    "colab_type": "text",
    "id": "XOf0Hf-WpeZq"
   },
   "source": [
    "### Stemming <a name=\"stemming\"></a>"
   ]
  },
  {
   "cell_type": "markdown",
   "metadata": {},
   "source": [
    "> Stemming is the process of reducing inflected (or sometimes derived) words to their word stem, base or root form.\n",
    "\n",
    "<img src=\"https://kavita-ganesan.com/wp-content/uploads/2019/02/Screen-Shot-2019-02-15-at-2.01.37-PM.png\" alt=\"\" style=\"width:300px;\"/>\n",
    "\n",
    "[kavita ganesan](https://kavita-ganesan.com/wp-content/uploads/2019/02/Screen-Shot-2019-02-15-at-2.01.37-PM.png)"
   ]
  },
  {
   "cell_type": "markdown",
   "metadata": {},
   "source": [
    "To further refine a corpus, we can *stem* words using the [Porter Stemming Algorithm](https://tartarus.org/martin/PorterStemmer/). This algorithm is a process for removing the commoner morphological and inflexional endings from words in English."
   ]
  },
  {
   "cell_type": "code",
   "execution_count": 20,
   "metadata": {
    "colab": {
     "base_uri": "https://localhost:8080/",
     "height": 187
    },
    "colab_type": "code",
    "executionInfo": {
     "elapsed": 23590,
     "status": "ok",
     "timestamp": 1585112918622,
     "user": {
      "displayName": "Tyler Bikaun",
      "photoUrl": "",
      "userId": "18384825377619195869"
     },
     "user_tz": -480
    },
    "id": "Kz1nd5Xng01D",
    "outputId": "9b9d2482-00a4-4ab6-c55d-196b4fc298f0"
   },
   "outputs": [
    {
     "data": {
      "text/plain": [
       "[('ham', 337),\n",
       " ('lord', 216),\n",
       " ('king', 180),\n",
       " ('haue', 178),\n",
       " ('come', 128),\n",
       " ('hamlet', 107),\n",
       " ('let', 107),\n",
       " ('thou', 107),\n",
       " ('shall', 107),\n",
       " ('good', 98)]"
      ]
     },
     "execution_count": 20,
     "metadata": {},
     "output_type": "execute_result"
    }
   ],
   "source": [
    "# Initialize a stemmer, stem the features, count & tabulate, and output\n",
    "stemmer = PorterStemmer()\n",
    "stems = [stemmer.stem(feature) for feature in features]\n",
    "frequencies = nltk.FreqDist(stems)\n",
    "frequencies.most_common(10)"
   ]
  },
  {
   "cell_type": "markdown",
   "metadata": {
    "colab_type": "text",
    "id": "fh66gdocygOU"
   },
   "source": [
    "## ✋ Preparing text\n",
    "For the next section of this notebook, we need to recreate our corpus into features and convert them into an NLTK `Text` object. This allows us to perform concordancing and other interesting stuff."
   ]
  },
  {
   "cell_type": "code",
   "execution_count": 21,
   "metadata": {
    "colab": {},
    "colab_type": "code",
    "id": "3or-ylZDg01I"
   },
   "outputs": [],
   "source": [
    "# Re-create the features and create a NLTK Text object, so other cool things can be done\n",
    "features = nltk.word_tokenize(corpus)\n",
    "text = nltk.Text(features)"
   ]
  },
  {
   "cell_type": "code",
   "execution_count": 22,
   "metadata": {
    "colab": {
     "base_uri": "https://localhost:8080/",
     "height": 34
    },
    "colab_type": "code",
    "executionInfo": {
     "elapsed": 24405,
     "status": "ok",
     "timestamp": 1585112919445,
     "user": {
      "displayName": "Tyler Bikaun",
      "photoUrl": "",
      "userId": "18384825377619195869"
     },
     "user_tz": -480
    },
    "id": "46_nguFzg01N",
    "outputId": "ec481fcd-ce6e-4974-a966-d3d8d7965ba2"
   },
   "outputs": [
    {
     "name": "stdout",
     "output_type": "stream",
     "text": [
      "211\n"
     ]
    }
   ],
   "source": [
    "# Count & tabulate, again; list a given word -- try different words!\n",
    "# If you're using shakespeare corpus - try Lord\n",
    "# If you're using gold corpus - try Perth\n",
    "frequencies = nltk.FreqDist(text)\n",
    "print(frequencies['Lord'])"
   ]
  },
  {
   "cell_type": "markdown",
   "metadata": {
    "colab_type": "text",
    "id": "ZR4LC96gpn64"
   },
   "source": [
    "### Concordancing <a name=\"concordancing\"></a>"
   ]
  },
  {
   "cell_type": "markdown",
   "metadata": {},
   "source": [
    "> A concordance is an alphabetical list of the principal words used in a book or body of work, listing every instance of each word with its immediate context.\n",
    "\n",
    "![alt text](https://orange3-text.readthedocs.io/en/latest/_images/Concordance-stamped.png)\n",
    "\n",
    "[orange3](https://orange3-text.readthedocs.io/en/latest/_images/Concordance-stamped.png)"
   ]
  },
  {
   "cell_type": "markdown",
   "metadata": {},
   "source": [
    "Here we perform keyword-in-context searching against the text (concordancing). If you're using the shakespeare corpus - try `Lord`. If you're using the gold corpus - try `Perth`."
   ]
  },
  {
   "cell_type": "code",
   "execution_count": 23,
   "metadata": {
    "colab": {
     "base_uri": "https://localhost:8080/",
     "height": 476
    },
    "colab_type": "code",
    "executionInfo": {
     "elapsed": 24401,
     "status": "ok",
     "timestamp": 1585112919446,
     "user": {
      "displayName": "Tyler Bikaun",
      "photoUrl": "",
      "userId": "18384825377619195869"
     },
     "user_tz": -480
    },
    "id": "7SEHdA10g01R",
    "outputId": "b8414378-0267-4b6b-e1ae-48b6484f3048"
   },
   "outputs": [
    {
     "name": "stdout",
     "output_type": "stream",
     "text": [
      "Displaying 25 of 211 matches:\n",
      " thou haue Laertes ? Laer . Dread my Lord , Your leaue and fauour to returne t\n",
      "t sayes Pollonius ? Pol . He hath my Lord : I do beseech you giue him leaue to\n",
      " still hang on you ? Ham . Not so my Lord , I am too much i ' th ' Sun Queen .\n",
      "do forget my selfe Hor . The same my Lord , And your poore Seruant euer Ham . \n",
      "rg Horatio ? Marcellus Mar . My good Lord Ham . I am very glad to see you : go\n",
      "Hor . A truant disposition , good my Lord Ham . I would not haue your Enemy sa\n",
      "inke deepe , ere you depart Hor . My Lord , I came to see your Fathers Funeral\n",
      "e my Mothers Wedding Hor . Indeed my Lord , it followed hard vpon Ham . Thrift\n",
      "es I see my father Hor . Oh where my Lord ? Ham . In my minds eye ( Horatio ) \n",
      "t look vpon his like againe Hor . My Lord , I thinke I saw him yesternight Ham\n",
      "sternight Ham . Saw ? Who ? Hor . My Lord , the King your Father Ham . The Kin\n",
      " Ham . But where was this ? Mar . My Lord vpon the platforme where we watcht H\n",
      " Did you not speake to it ? Hor . My Lord , I did ; But answere made it none :\n",
      "range Hor . As I doe liue my honourd Lord ' tis true ; And we did thinke it wr\n",
      "he watch to Night ? Both . We doe my Lord Ham . Arm ' d , say you ? Both . Arm\n",
      " ' d , say you ? Both . Arm ' d , my Lord Ham . From top to toe ? Both . My Lo\n",
      "rd Ham . From top to toe ? Both . My Lord , from head to foote Ham . Then saw \n",
      " you not his face ? Hor . O yes , my Lord , he wore his Beauer vp Ham . What ,\n",
      "Most humbly doe I take my leaue , my Lord Polon . The time inuites you , goe ,\n",
      " me vp the truth ? Ophe . He hath my Lord of late , made many tenders Of his a\n",
      "all them ? Ophe . I do not know , my Lord , what I should thinke Polon . Marry\n",
      " you ' l tender me a foole Ophe . My Lord , he hath importun ' d me with loue \n",
      "giuen countenance to his speech , My Lord , with all the vowes of Heauen Polon\n",
      "ate , Then a command to parley . For Lord Hamlet , Beleeue so much in him , th\n",
      ", As to giue words or talke with the Lord Hamlet : Looke too ' t , I charge yo\n",
      "None\n"
     ]
    }
   ],
   "source": [
    "print(text.concordance('Lord'))"
   ]
  },
  {
   "cell_type": "markdown",
   "metadata": {
    "colab_type": "text",
    "id": "2Xo0rY7Dq0Xq"
   },
   "source": [
    "### Dispersion Plotting <a name=\"dispersion_plotting\"></a>"
   ]
  },
  {
   "cell_type": "markdown",
   "metadata": {},
   "source": [
    "> Dispersion plotting is a method for displaying lexical dispersion. It can be used to gain insight into where words occur in corpora or be used with temporal information.\n",
    "\n",
    "<img src=\"https://i.stack.imgur.com/2gv4f.png\" alt=\"example of temporal-lexical dispersion plot\" style=\"height:300px;\"/>\n",
    "\n",
    "[StackOverflow](https://stackoverflow.com/q/43771135)"
   ]
  },
  {
   "cell_type": "markdown",
   "metadata": {},
   "source": [
    "Here we will create a dispersion plot of a given set of words. If you're using the shakespeare corpus - try `['Lord', 'King', 'Ham']`. If you're using the gold corpus - try `['Perth', 'Australia', 'Adelaide', 'Gold']`."
   ]
  },
  {
   "cell_type": "code",
   "execution_count": 24,
   "metadata": {
    "colab": {
     "base_uri": "https://localhost:8080/",
     "height": 295
    },
    "colab_type": "code",
    "executionInfo": {
     "elapsed": 24752,
     "status": "ok",
     "timestamp": 1585112919803,
     "user": {
      "displayName": "Tyler Bikaun",
      "photoUrl": "",
      "userId": "18384825377619195869"
     },
     "user_tz": -480
    },
    "id": "DFXnL03Dg01X",
    "outputId": "2021b3a8-2caa-41c9-bce1-3b54617b56a2"
   },
   "outputs": [
    {
     "data": {
      "image/png": "[encoded data removed]",
      "text/plain": [
       "<Figure size 432x288 with 1 Axes>"
      ]
     },
     "metadata": {
      "needs_background": "light"
     },
     "output_type": "display_data"
    }
   ],
   "source": [
    "text.dispersion_plot(['Lord', 'King', 'Ham'])"
   ]
  },
  {
   "cell_type": "markdown",
   "metadata": {
    "colab_type": "text",
    "id": "rhGxXNbKq3tr"
   },
   "source": [
    "### Bi-gram significance <a name=\"bigram_significance\"></a>"
   ]
  },
  {
   "cell_type": "markdown",
   "metadata": {},
   "source": [
    "Determine which bi-grams are the most significant considering a defined window size."
   ]
  },
  {
   "cell_type": "markdown",
   "metadata": {},
   "source": [
    "> Collocations are expressions of multiple words which commonly co-occur."
   ]
  },
  {
   "cell_type": "markdown",
   "metadata": {},
   "source": [
    "Here we will output the \"most significant\" bi-grams, considering surrounding words (size of window). Feel free to try different window sizes!"
   ]
  },
  {
   "cell_type": "code",
   "execution_count": 25,
   "metadata": {
    "colab": {
     "base_uri": "https://localhost:8080/",
     "height": 68
    },
    "colab_type": "code",
    "executionInfo": {
     "elapsed": 25750,
     "status": "ok",
     "timestamp": 1585112920807,
     "user": {
      "displayName": "Tyler Bikaun",
      "photoUrl": "",
      "userId": "18384825377619195869"
     },
     "user_tz": -480
    },
    "id": "4yNbUBOfg01c",
    "outputId": "6c3d6f05-fd8c-4302-a49d-86ffaa3cf11f"
   },
   "outputs": [
    {
     "data": {
      "text/plain": [
       "[('Lord', 'Ham'),\n",
       " ('haue', 'seene'),\n",
       " ('Fathers', 'death'),\n",
       " ('Enter', 'Polonius'),\n",
       " ('thou', 'hast'),\n",
       " ('Enter', 'King'),\n",
       " ('Enter', 'Hamlet'),\n",
       " ('mine', 'owne'),\n",
       " ('set', 'downe'),\n",
       " ('wilt', 'thou')]"
      ]
     },
     "execution_count": 25,
     "metadata": {},
     "output_type": "execute_result"
    }
   ],
   "source": [
    "text.collocation_list(num=10, window_size=2)"
   ]
  },
  {
   "cell_type": "markdown",
   "metadata": {
    "colab_type": "text",
    "id": "QfouSW0sq6vg"
   },
   "source": [
    "### Common word contexts <a name=\"word_contexts\"></a>"
   ]
  },
  {
   "cell_type": "markdown",
   "metadata": {},
   "source": [
    "> Common word contexts allows us to examine the contexts that are shared by two or more words"
   ]
  },
  {
   "cell_type": "markdown",
   "metadata": {},
   "source": [
    "Given a set of words, we'll find what word are nearby. If you're using the shakespeare corpus - try `['Lord', 'King']`. If you're using the gold corpus - try `['Mine', 'Gold']`."
   ]
  },
  {
   "cell_type": "code",
   "execution_count": 26,
   "metadata": {
    "colab": {
     "base_uri": "https://localhost:8080/",
     "height": 34
    },
    "colab_type": "code",
    "executionInfo": {
     "elapsed": 26771,
     "status": "ok",
     "timestamp": 1585112921833,
     "user": {
      "displayName": "Tyler Bikaun",
      "photoUrl": "",
      "userId": "18384825377619195869"
     },
     "user_tz": -480
    },
    "id": "zcBoZHrLg01h",
    "outputId": "34bd57f2-529e-4897-94c4-3e3fa2f15d90"
   },
   "outputs": [
    {
     "name": "stdout",
     "output_type": "stream",
     "text": [
      "my_,\n"
     ]
    }
   ],
   "source": [
    "text.common_contexts(['Lord', 'King'])"
   ]
  },
  {
   "cell_type": "markdown",
   "metadata": {
    "colab_type": "text",
    "id": "5fdltxcvq_iw"
   },
   "source": [
    "### Word similarities <a name=\"word_similarities\"></a>"
   ]
  },
  {
   "cell_type": "markdown",
   "metadata": {},
   "source": [
    "Here we'll find out what words are similar to one another. This implementation should be remembered when we look at *word embeddings*. \n",
    "\n",
    "The method that is implemented by NLTK is \"Distributional similarity: find other words which appear in the same contexts as the specified word.\""
   ]
  },
  {
   "cell_type": "markdown",
   "metadata": {},
   "source": [
    "Here we'll list the words (features) most associated with the given word. If you're using the shakespeare corpus - try `Lord`. If you're using the gold corpus - try `Gold`."
   ]
  },
  {
   "cell_type": "code",
   "execution_count": 27,
   "metadata": {
    "colab": {
     "base_uri": "https://localhost:8080/",
     "height": 51
    },
    "colab_type": "code",
    "executionInfo": {
     "elapsed": 26766,
     "status": "ok",
     "timestamp": 1585112921834,
     "user": {
      "displayName": "Tyler Bikaun",
      "photoUrl": "",
      "userId": "18384825377619195869"
     },
     "user_tz": -480
    },
    "id": "2qLrXz-Ig01n",
    "outputId": "2cc77b4b-f528-4faa-ca2d-6e3dba5a776a",
    "scrolled": true
   },
   "outputs": [
    {
     "name": "stdout",
     "output_type": "stream",
     "text": [
      "heart mother sonne daughter selfe come i horatio away head\n"
     ]
    }
   ],
   "source": [
    "text.similar('Lord', num=10)"
   ]
  },
  {
   "cell_type": "markdown",
   "metadata": {
    "colab_type": "text",
    "id": "OJhgqkAtrIdx"
   },
   "source": [
    "### Parts-of-speech (POS) <a name=\"part_of_speech\"></a>"
   ]
  },
  {
   "cell_type": "markdown",
   "metadata": {},
   "source": [
    "> Part of speech is a category of words (or, more generally, of lexical items) that have similar grammatical properties. Words that are assigned to the same part of speech generally display similar syntactic behavior—they play similar roles within the grammatical structure of sentences—and sometimes similar morphology in that they undergo inflection for similar properties.\n",
    "\n",
    "<img src=\"https://maelfabien.github.io/assets/images/pos.jpg\" alt=\"Example of part-of-speech tagging\" style=\"width:500px;\"/>\n",
    "\n",
    "[Maël Fabien](https://maelfabien.github.io/machinelearning/NLP_1/)"
   ]
  },
  {
   "cell_type": "code",
   "execution_count": 28,
   "metadata": {
    "colab": {
     "base_uri": "https://localhost:8080/",
     "height": 85
    },
    "colab_type": "code",
    "executionInfo": {
     "elapsed": 27078,
     "status": "ok",
     "timestamp": 1585112922156,
     "user": {
      "displayName": "Tyler Bikaun",
      "photoUrl": "",
      "userId": "18384825377619195869"
     },
     "user_tz": -480
    },
    "id": "5-SNNsgArM84",
    "outputId": "1befef3b-d079-49d9-e5d7-26b1be863f9b"
   },
   "outputs": [
    {
     "name": "stderr",
     "output_type": "stream",
     "text": [
      "[nltk_data] Downloading package averaged_perceptron_tagger to\n",
      "[nltk_data]     C:\\Users\\22917746\\AppData\\Roaming\\nltk_data...\n",
      "[nltk_data]   Package averaged_perceptron_tagger is already up-to-\n",
      "[nltk_data]       date!\n"
     ]
    },
    {
     "data": {
      "text/plain": [
       "True"
      ]
     },
     "execution_count": 28,
     "metadata": {},
     "output_type": "execute_result"
    }
   ],
   "source": [
    "# Import perceptron tagger\n",
    "# POS is a supervised learning process so we need to load in a ML model to aid us.\n",
    "nltk.download('averaged_perceptron_tagger')"
   ]
  },
  {
   "cell_type": "code",
   "execution_count": 29,
   "metadata": {},
   "outputs": [
    {
     "name": "stdout",
     "output_type": "stream",
     "text": [
      "Haue you had quiet Guard ?\n"
     ]
    }
   ],
   "source": [
    "# create a list of sentences, and display one -- season to taste\n",
    "sentences = nltk.sent_tokenize(corpus)\n",
    "sentence  = sentences[14]\n",
    "print(sentence)"
   ]
  },
  {
   "cell_type": "code",
   "execution_count": 30,
   "metadata": {
    "colab": {
     "base_uri": "https://localhost:8080/",
     "height": 54
    },
    "colab_type": "code",
    "executionInfo": {
     "elapsed": 27072,
     "status": "ok",
     "timestamp": 1585112922157,
     "user": {
      "displayName": "Tyler Bikaun",
      "photoUrl": "",
      "userId": "18384825377619195869"
     },
     "user_tz": -480
    },
    "id": "YX3O1garg01w",
    "outputId": "300d7579-6ee8-4186-d37b-a2ccc89371bc"
   },
   "outputs": [
    {
     "name": "stdout",
     "output_type": "stream",
     "text": [
      "[('Haue', 'NNP'), ('you', 'PRP'), ('had', 'VBD'), ('quiet', 'JJ'), ('Guard', 'NNP'), ('?', '.')]\n"
     ]
    }
   ],
   "source": [
    "# Tokenize the sentence and parse it into parts-of-speech, all in one go.\n",
    "sentence = nltk.pos_tag(nltk.word_tokenize(sentence))\n",
    "print(sentence)"
   ]
  },
  {
   "cell_type": "markdown",
   "metadata": {
    "colab_type": "text",
    "id": "yVRkuk1arQob"
   },
   "source": [
    "### Chunking and Named entity recognition <a name=\"named_entity_recognition\"></a> "
   ]
  },
  {
   "cell_type": "markdown",
   "metadata": {},
   "source": [
    "**Chunking:** \"Chunking is a process of extracting phrases from unstructured text.\"<br>\n",
    "\n",
    "![alt text](https://www.tutorialkart.com/wp-content/uploads/2017/06/chunker_ex.png)\n",
    "\n",
    "[tutorialkart](https://www.tutorialkart.com/wp-content/uploads/2017/06/chunker_ex.png)"
   ]
  },
  {
   "cell_type": "code",
   "execution_count": 31,
   "metadata": {
    "colab": {
     "base_uri": "https://localhost:8080/",
     "height": 119
    },
    "colab_type": "code",
    "executionInfo": {
     "elapsed": 27846,
     "status": "ok",
     "timestamp": 1585112922938,
     "user": {
      "displayName": "Tyler Bikaun",
      "photoUrl": "",
      "userId": "18384825377619195869"
     },
     "user_tz": -480
    },
    "id": "4TmlAUNSrVoq",
    "outputId": "84a7c49f-106a-43d3-8c09-8073a690efbb"
   },
   "outputs": [
    {
     "name": "stderr",
     "output_type": "stream",
     "text": [
      "[nltk_data] Downloading package maxent_ne_chunker to\n",
      "[nltk_data]     C:\\Users\\22917746\\AppData\\Roaming\\nltk_data...\n",
      "[nltk_data]   Package maxent_ne_chunker is already up-to-date!\n",
      "[nltk_data] Downloading package words to\n",
      "[nltk_data]     C:\\Users\\22917746\\AppData\\Roaming\\nltk_data...\n",
      "[nltk_data]   Package words is already up-to-date!\n"
     ]
    },
    {
     "data": {
      "text/plain": [
       "True"
      ]
     },
     "execution_count": 31,
     "metadata": {},
     "output_type": "execute_result"
    }
   ],
   "source": [
    "# Import chunker and wordlist corpus\n",
    "nltk.download('maxent_ne_chunker')\n",
    "nltk.download('words')"
   ]
  },
  {
   "cell_type": "code",
   "execution_count": 32,
   "metadata": {
    "colab": {
     "base_uri": "https://localhost:8080/",
     "height": 476
    },
    "colab_type": "code",
    "executionInfo": {
     "elapsed": 27832,
     "status": "ok",
     "timestamp": 1585112922939,
     "user": {
      "displayName": "Tyler Bikaun",
      "photoUrl": "",
      "userId": "18384825377619195869"
     },
     "user_tz": -480
    },
    "id": "DYeI3TYAg013",
    "outputId": "de9fad37-cd65-497e-d211-32a7fd89d5b1",
    "scrolled": true
   },
   "outputs": [
    {
     "name": "stdout",
     "output_type": "stream",
     "text": [
      "(S Haue/NNP you/PRP had/VBD quiet/JJ (PERSON Guard/NNP) ?/.)\n"
     ]
    }
   ],
   "source": [
    "# Extract named enities from a sentence, and print the results\n",
    "# chunking\n",
    "entities = nltk.ne_chunk(sentence)\n",
    "print(entities)"
   ]
  },
  {
   "cell_type": "markdown",
   "metadata": {
    "colab_type": "text",
    "id": "CWP672dkrZSq"
   },
   "source": [
    "### Visualisation Tree"
   ]
  },
  {
   "cell_type": "markdown",
   "metadata": {
    "colab_type": "text",
    "id": "BKsAyxldHQQF"
   },
   "source": [
    "Output the entities graphically. Currently doesn't work in Google Colab, however the image shown is similar to what would be expected."
   ]
  },
  {
   "cell_type": "markdown",
   "metadata": {
    "colab_type": "text",
    "id": "Xh5mIvfNHaKX"
   },
   "source": [
    "![Entity Tree](https://www.nltk.org/book/tree_images/ch07-tree-2.png)\n",
    "\n",
    "[NLTK](https://www.nltk.org/book/tree_images/ch07-tree-2.png)"
   ]
  },
  {
   "cell_type": "markdown",
   "metadata": {
    "colab_type": "text",
    "id": "4RKBXvvug02G"
   },
   "source": [
    "This is the end of the Notebook. I hope you found it useful."
   ]
  }
 ],
 "metadata": {
  "colab": {
   "collapsed_sections": [],
   "name": "12.1-An introduction to the NLTK.ipynb",
   "provenance": [],
   "toc_visible": true
  },
  "kernelspec": {
   "display_name": "Python 3 (ipykernel)",
   "language": "python",
   "name": "python3"
  },
  "language_info": {
   "codemirror_mode": {
    "name": "ipython",
    "version": 3
   },
   "file_extension": ".py",
   "mimetype": "text/x-python",
   "name": "python",
   "nbconvert_exporter": "python",
   "pygments_lexer": "ipython3",
   "version": "3.8.12"
  }
 },
 "nbformat": 4,
 "nbformat_minor": 1
}
