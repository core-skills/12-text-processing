{
 "cells": [
  {
   "cell_type": "markdown",
   "metadata": {
    "colab_type": "text",
    "id": "mEsV0AtG7JQd"
   },
   "source": [
    "# Week 12 - Word vector visualization with Gensim\n",
    "\n",
    "📚 Source: 😊[Day 12 - Special Data Types: Natural Language Processing](https://github.com/core-skills/12-text-processing) *repository*"
   ]
  },
  {
   "cell_type": "markdown",
   "metadata": {},
   "source": [
    "## Notebook Overview\n",
    "In this notebook we will explore word vectors. To achieve this we will use the [Gensim](https://radimrehurek.com/gensim/) library with pretrained [GloVe vectors](https://nlp.stanford.edu/projects/glove/). Gensim allows us to convert a file of GloVe vectors into word2vec format. The 100d GloVe embeddings are used within the notebook, however there are various dimensions such as 50 and 300."
   ]
  },
  {
   "cell_type": "markdown",
   "metadata": {},
   "source": [
    "<img src=\"https://cdn.analyticsvidhya.com/wp-content/uploads/2017/06/06062705/Word-Vectors.png\" alt=\"\" style=\"width:800px;\"/>\n",
    "\n",
    "[analyticsvidhya](https://cdn.analyticsvidhya.com/wp-content/uploads/2017/06/06062705/Word-Vectors.png) "
   ]
  },
  {
   "cell_type": "markdown",
   "metadata": {},
   "source": [
    "**Supplementary Content**:\n",
    "- Check out https://rare-technologies.com/word2vec-tutorial/ for an interactive web-based application that allows you to do play with different functionalties of word embeddings.\n",
    "\n",
    "Adapted from: *CS224n: Natural Language Processing with Deep Learning*"
   ]
  },
  {
   "cell_type": "markdown",
   "metadata": {},
   "source": [
    "# Table of Contents\n",
    "1. [Word Vectors](#word_vectors)\n",
    "2. [Word Similarities](#word_similarities)\n",
    "3. [Word Analogies](#word_analogies)\n",
    "4. [Visualising Word Vectors](#vector_visualisation)"
   ]
  },
  {
   "cell_type": "markdown",
   "metadata": {},
   "source": [
    "### Notebook Setup"
   ]
  },
  {
   "cell_type": "code",
   "execution_count": 5,
   "metadata": {},
   "outputs": [
    {
     "data": {
      "application/javascript": "\n            setTimeout(function() {\n                var nbb_cell_id = 5;\n                var nbb_unformatted_code = \"%%capture\\n!pip install numpy matplotlib gensim==4.2.0 sklearn nb_black\";\n                var nbb_formatted_code = \"%%capture\\n!pip install numpy matplotlib gensim==4.2.0 sklearn nb_black\";\n                var nbb_cells = Jupyter.notebook.get_cells();\n                for (var i = 0; i < nbb_cells.length; ++i) {\n                    if (nbb_cells[i].input_prompt_number == nbb_cell_id) {\n                        if (nbb_cells[i].get_text() == nbb_unformatted_code) {\n                             nbb_cells[i].set_text(nbb_formatted_code);\n                        }\n                        break;\n                    }\n                }\n            }, 500);\n            ",
      "text/plain": [
       "<IPython.core.display.Javascript object>"
      ]
     },
     "metadata": {},
     "output_type": "display_data"
    }
   ],
   "source": [
    "%%capture\n",
    "!pip install numpy matplotlib gensim==4.2.0 sklearn nb_black"
   ]
  },
  {
   "cell_type": "markdown",
   "metadata": {},
   "source": [
    "Lets load in the package [nb_black](https://github.com/dnanhkhoa/nb_black) to auto-format our code as we go. Formatting code is useful as it easier to collaborate and interpret what we write."
   ]
  },
  {
   "cell_type": "code",
   "execution_count": 6,
   "metadata": {},
   "outputs": [
    {
     "name": "stdout",
     "output_type": "stream",
     "text": [
      "The nb_black extension is already loaded. To reload it, use:\n",
      "  %reload_ext nb_black\n"
     ]
    },
    {
     "data": {
      "application/javascript": "\n            setTimeout(function() {\n                var nbb_cell_id = 6;\n                var nbb_unformatted_code = \"# Package for ensuring code we write is formatted nicely (see: https://github.com/dnanhkhoa/nb_black)\\n%load_ext nb_black\";\n                var nbb_formatted_code = \"# Package for ensuring code we write is formatted nicely (see: https://github.com/dnanhkhoa/nb_black)\\n%load_ext nb_black\";\n                var nbb_cells = Jupyter.notebook.get_cells();\n                for (var i = 0; i < nbb_cells.length; ++i) {\n                    if (nbb_cells[i].input_prompt_number == nbb_cell_id) {\n                        if (nbb_cells[i].get_text() == nbb_unformatted_code) {\n                             nbb_cells[i].set_text(nbb_formatted_code);\n                        }\n                        break;\n                    }\n                }\n            }, 500);\n            ",
      "text/plain": [
       "<IPython.core.display.Javascript object>"
      ]
     },
     "metadata": {},
     "output_type": "display_data"
    }
   ],
   "source": [
    "# Package for ensuring code we write is formatted nicely (see: https://github.com/dnanhkhoa/nb_black)\n",
    "%load_ext nb_black"
   ]
  },
  {
   "cell_type": "markdown",
   "metadata": {},
   "source": [
    "### Import Packages\n",
    "Standard packages"
   ]
  },
  {
   "cell_type": "code",
   "execution_count": 7,
   "metadata": {},
   "outputs": [
    {
     "data": {
      "application/javascript": "\n            setTimeout(function() {\n                var nbb_cell_id = 7;\n                var nbb_unformatted_code = \"import pprint\\nfrom typing import List\\nfrom pathlib import Path\";\n                var nbb_formatted_code = \"import pprint\\nfrom typing import List\\nfrom pathlib import Path\";\n                var nbb_cells = Jupyter.notebook.get_cells();\n                for (var i = 0; i < nbb_cells.length; ++i) {\n                    if (nbb_cells[i].input_prompt_number == nbb_cell_id) {\n                        if (nbb_cells[i].get_text() == nbb_unformatted_code) {\n                             nbb_cells[i].set_text(nbb_formatted_code);\n                        }\n                        break;\n                    }\n                }\n            }, 500);\n            ",
      "text/plain": [
       "<IPython.core.display.Javascript object>"
      ]
     },
     "metadata": {},
     "output_type": "display_data"
    }
   ],
   "source": [
    "import pprint\n",
    "from typing import List\n",
    "from pathlib import Path"
   ]
  },
  {
   "cell_type": "markdown",
   "metadata": {},
   "source": [
    "Third Party packages\n",
    "- [numpy](https://numpy.org/) - library that we will use for helping visualise word vectors\n",
    "- [matplotlib](https://matplotlib.org/) - library that we will use for plotting the data\n",
    "- [gensim](https://radimrehurek.com/gensim/) - library that we will use to experiment with word embeddings/vectors\n",
    "- [sklearn](https://scikit-learn.org/) - library that we will use for performing dimensionality reduction to help visualise word vectors"
   ]
  },
  {
   "cell_type": "code",
   "execution_count": 8,
   "metadata": {},
   "outputs": [
    {
     "data": {
      "application/javascript": "\n            setTimeout(function() {\n                var nbb_cell_id = 8;\n                var nbb_unformatted_code = \"import numpy as np\\nimport matplotlib.pyplot as plt\\nimport gensim.downloader\\nfrom sklearn.decomposition import PCA\";\n                var nbb_formatted_code = \"import numpy as np\\nimport matplotlib.pyplot as plt\\nimport gensim.downloader\\nfrom sklearn.decomposition import PCA\";\n                var nbb_cells = Jupyter.notebook.get_cells();\n                for (var i = 0; i < nbb_cells.length; ++i) {\n                    if (nbb_cells[i].input_prompt_number == nbb_cell_id) {\n                        if (nbb_cells[i].get_text() == nbb_unformatted_code) {\n                             nbb_cells[i].set_text(nbb_formatted_code);\n                        }\n                        break;\n                    }\n                }\n            }, 500);\n            ",
      "text/plain": [
       "<IPython.core.display.Javascript object>"
      ]
     },
     "metadata": {},
     "output_type": "display_data"
    }
   ],
   "source": [
    "import numpy as np\n",
    "import matplotlib.pyplot as plt\n",
    "import gensim.downloader\n",
    "from sklearn.decomposition import PCA"
   ]
  },
  {
   "cell_type": "markdown",
   "metadata": {},
   "source": [
    "### Notebook configuration and helper functions setup"
   ]
  },
  {
   "cell_type": "code",
   "execution_count": 9,
   "metadata": {},
   "outputs": [
    {
     "data": {
      "application/javascript": "\n            setTimeout(function() {\n                var nbb_cell_id = 9;\n                var nbb_unformatted_code = \"# Makes printing lists prettier \\npp = pprint.PrettyPrinter(indent=2)\";\n                var nbb_formatted_code = \"# Makes printing lists prettier\\npp = pprint.PrettyPrinter(indent=2)\";\n                var nbb_cells = Jupyter.notebook.get_cells();\n                for (var i = 0; i < nbb_cells.length; ++i) {\n                    if (nbb_cells[i].input_prompt_number == nbb_cell_id) {\n                        if (nbb_cells[i].get_text() == nbb_unformatted_code) {\n                             nbb_cells[i].set_text(nbb_formatted_code);\n                        }\n                        break;\n                    }\n                }\n            }, 500);\n            ",
      "text/plain": [
       "<IPython.core.display.Javascript object>"
      ]
     },
     "metadata": {},
     "output_type": "display_data"
    }
   ],
   "source": [
    "# Makes printing lists prettier \n",
    "pp = pprint.PrettyPrinter(indent=2)"
   ]
  },
  {
   "cell_type": "code",
   "execution_count": 10,
   "metadata": {
    "colab": {},
    "colab_type": "code",
    "id": "zGLymbOH7JQk"
   },
   "outputs": [
    {
     "data": {
      "application/javascript": "\n            setTimeout(function() {\n                var nbb_cell_id = 10;\n                var nbb_unformatted_code = \"# Get the interactive Tools for Matplotlib\\n%matplotlib inline\\nplt.style.use('ggplot')\";\n                var nbb_formatted_code = \"# Get the interactive Tools for Matplotlib\\n%matplotlib inline\\nplt.style.use(\\\"ggplot\\\")\";\n                var nbb_cells = Jupyter.notebook.get_cells();\n                for (var i = 0; i < nbb_cells.length; ++i) {\n                    if (nbb_cells[i].input_prompt_number == nbb_cell_id) {\n                        if (nbb_cells[i].get_text() == nbb_unformatted_code) {\n                             nbb_cells[i].set_text(nbb_formatted_code);\n                        }\n                        break;\n                    }\n                }\n            }, 500);\n            ",
      "text/plain": [
       "<IPython.core.display.Javascript object>"
      ]
     },
     "metadata": {},
     "output_type": "display_data"
    }
   ],
   "source": [
    "# Get the interactive Tools for Matplotlib\n",
    "%matplotlib inline\n",
    "plt.style.use('ggplot')"
   ]
  },
  {
   "cell_type": "code",
   "execution_count": 11,
   "metadata": {},
   "outputs": [
    {
     "data": {
      "application/javascript": "\n            setTimeout(function() {\n                var nbb_cell_id = 11;\n                var nbb_unformatted_code = \"def prettify_similarities(similarities: List[tuple]) -> List[str]:\\n    ''' Prettifies list of word similarities produced by Gensim.'''\\n    longest_str = max([len(sim[0]) for sim in similarities])\\n    return \\\"\\\\n\\\".join([f'{idx+1}.\\\\t{sim[0]:{longest_str+1}}\\\\t{sim[1]*100:0.1f}%' for idx, sim in enumerate(similarities)])\";\n                var nbb_formatted_code = \"def prettify_similarities(similarities: List[tuple]) -> List[str]:\\n    \\\"\\\"\\\"Prettifies list of word similarities produced by Gensim.\\\"\\\"\\\"\\n    longest_str = max([len(sim[0]) for sim in similarities])\\n    return \\\"\\\\n\\\".join(\\n        [\\n            f\\\"{idx+1}.\\\\t{sim[0]:{longest_str+1}}\\\\t{sim[1]*100:0.1f}%\\\"\\n            for idx, sim in enumerate(similarities)\\n        ]\\n    )\";\n                var nbb_cells = Jupyter.notebook.get_cells();\n                for (var i = 0; i < nbb_cells.length; ++i) {\n                    if (nbb_cells[i].input_prompt_number == nbb_cell_id) {\n                        if (nbb_cells[i].get_text() == nbb_unformatted_code) {\n                             nbb_cells[i].set_text(nbb_formatted_code);\n                        }\n                        break;\n                    }\n                }\n            }, 500);\n            ",
      "text/plain": [
       "<IPython.core.display.Javascript object>"
      ]
     },
     "metadata": {},
     "output_type": "display_data"
    }
   ],
   "source": [
    "def prettify_similarities(similarities: List[tuple]) -> List[str]:\n",
    "    ''' Prettifies list of word similarities produced by Gensim.'''\n",
    "    longest_str = max([len(sim[0]) for sim in similarities])\n",
    "    return \"\\n\".join([f'{idx+1}.\\t{sim[0]:{longest_str+1}}\\t{sim[1]*100:0.1f}%' for idx, sim in enumerate(similarities)])"
   ]
  },
  {
   "cell_type": "markdown",
   "metadata": {
    "colab_type": "text",
    "id": "8rY4HptWCPf8"
   },
   "source": [
    "### Load pretrained word embeddings from Gensim API"
   ]
  },
  {
   "cell_type": "code",
   "execution_count": 12,
   "metadata": {},
   "outputs": [
    {
     "name": "stdout",
     "output_type": "stream",
     "text": [
      "['fasttext-wiki-news-subwords-300', 'conceptnet-numberbatch-17-06-300', 'word2vec-ruscorpora-300', 'word2vec-google-news-300', 'glove-wiki-gigaword-50', 'glove-wiki-gigaword-100', 'glove-wiki-gigaword-200', 'glove-wiki-gigaword-300', 'glove-twitter-25', 'glove-twitter-50', 'glove-twitter-100', 'glove-twitter-200', '__testing_word2vec-matrix-synopsis']\n"
     ]
    },
    {
     "data": {
      "application/javascript": "\n            setTimeout(function() {\n                var nbb_cell_id = 12;\n                var nbb_unformatted_code = \"print(list(gensim.downloader.info()['models'].keys()))\";\n                var nbb_formatted_code = \"print(list(gensim.downloader.info()[\\\"models\\\"].keys()))\";\n                var nbb_cells = Jupyter.notebook.get_cells();\n                for (var i = 0; i < nbb_cells.length; ++i) {\n                    if (nbb_cells[i].input_prompt_number == nbb_cell_id) {\n                        if (nbb_cells[i].get_text() == nbb_unformatted_code) {\n                             nbb_cells[i].set_text(nbb_formatted_code);\n                        }\n                        break;\n                    }\n                }\n            }, 500);\n            ",
      "text/plain": [
       "<IPython.core.display.Javascript object>"
      ]
     },
     "metadata": {},
     "output_type": "display_data"
    }
   ],
   "source": [
    "print(list(gensim.downloader.info()['models'].keys()))"
   ]
  },
  {
   "cell_type": "code",
   "execution_count": 13,
   "metadata": {},
   "outputs": [
    {
     "data": {
      "application/javascript": "\n            setTimeout(function() {\n                var nbb_cell_id = 13;\n                var nbb_unformatted_code = \"w2v_glove_vectors = gensim.downloader.load('glove-wiki-gigaword-50')\";\n                var nbb_formatted_code = \"w2v_glove_vectors = gensim.downloader.load(\\\"glove-wiki-gigaword-50\\\")\";\n                var nbb_cells = Jupyter.notebook.get_cells();\n                for (var i = 0; i < nbb_cells.length; ++i) {\n                    if (nbb_cells[i].input_prompt_number == nbb_cell_id) {\n                        if (nbb_cells[i].get_text() == nbb_unformatted_code) {\n                             nbb_cells[i].set_text(nbb_formatted_code);\n                        }\n                        break;\n                    }\n                }\n            }, 500);\n            ",
      "text/plain": [
       "<IPython.core.display.Javascript object>"
      ]
     },
     "metadata": {},
     "output_type": "display_data"
    }
   ],
   "source": [
    "w2v_glove_vectors = gensim.downloader.load('glove-wiki-gigaword-50')"
   ]
  },
  {
   "cell_type": "markdown",
   "metadata": {},
   "source": [
    "## Word Vectors <a name=\"word_vectors\"></a>\n",
    "Now that we have loaded the pre-trained word embedding model, let's unpack it. "
   ]
  },
  {
   "cell_type": "code",
   "execution_count": 14,
   "metadata": {},
   "outputs": [
    {
     "data": {
      "application/javascript": "\n            setTimeout(function() {\n                var nbb_cell_id = 14;\n                var nbb_unformatted_code = \"test_word = 'perth'\";\n                var nbb_formatted_code = \"test_word = \\\"perth\\\"\";\n                var nbb_cells = Jupyter.notebook.get_cells();\n                for (var i = 0; i < nbb_cells.length; ++i) {\n                    if (nbb_cells[i].input_prompt_number == nbb_cell_id) {\n                        if (nbb_cells[i].get_text() == nbb_unformatted_code) {\n                             nbb_cells[i].set_text(nbb_formatted_code);\n                        }\n                        break;\n                    }\n                }\n            }, 500);\n            ",
      "text/plain": [
       "<IPython.core.display.Javascript object>"
      ]
     },
     "metadata": {},
     "output_type": "display_data"
    }
   ],
   "source": [
    "test_word = 'perth'"
   ]
  },
  {
   "cell_type": "code",
   "execution_count": 15,
   "metadata": {},
   "outputs": [
    {
     "data": {
      "text/plain": [
       "array([-0.41113 ,  0.46758 , -1.0384  ,  0.40354 , -0.73767 , -0.43019 ,\n",
       "       -0.48273 ,  0.76254 ,  0.37496 , -0.59497 ,  0.32855 , -0.51957 ,\n",
       "        0.12317 , -0.84902 , -0.34538 ,  0.91241 ,  0.094925,  0.59725 ,\n",
       "       -1.9156  ,  0.68658 ,  0.85823 ,  0.72012 , -0.039988,  0.83465 ,\n",
       "       -0.15089 , -0.49574 ,  0.43055 ,  0.39034 , -0.7828  , -0.19121 ,\n",
       "        0.87594 ,  0.32468 ,  0.83548 , -0.74807 ,  0.90122 , -0.1735  ,\n",
       "        0.7837  , -0.28646 , -0.16151 , -0.51013 , -0.14672 , -0.36352 ,\n",
       "       -0.13938 , -0.28603 , -0.55565 ,  1.2286  , -0.35194 , -0.39647 ,\n",
       "        0.43255 , -0.67224 ], dtype=float32)"
      ]
     },
     "execution_count": 15,
     "metadata": {},
     "output_type": "execute_result"
    },
    {
     "data": {
      "application/javascript": "\n            setTimeout(function() {\n                var nbb_cell_id = 15;\n                var nbb_unformatted_code = \"# Numerical representation words\\n# Note: if we add words that are out-of-vocabulary (e.g. not in the corpus the model was trained on, we'll receive an error)\\nw2v_glove_vectors[test_word]\";\n                var nbb_formatted_code = \"# Numerical representation words\\n# Note: if we add words that are out-of-vocabulary (e.g. not in the corpus the model was trained on, we'll receive an error)\\nw2v_glove_vectors[test_word]\";\n                var nbb_cells = Jupyter.notebook.get_cells();\n                for (var i = 0; i < nbb_cells.length; ++i) {\n                    if (nbb_cells[i].input_prompt_number == nbb_cell_id) {\n                        if (nbb_cells[i].get_text() == nbb_unformatted_code) {\n                             nbb_cells[i].set_text(nbb_formatted_code);\n                        }\n                        break;\n                    }\n                }\n            }, 500);\n            ",
      "text/plain": [
       "<IPython.core.display.Javascript object>"
      ]
     },
     "metadata": {},
     "output_type": "display_data"
    }
   ],
   "source": [
    "# Numerical representation words\n",
    "# Note: if we add words that are out-of-vocabulary (e.g. not in the corpus the model was trained on, we'll receive an error)\n",
    "w2v_glove_vectors[test_word]"
   ]
  },
  {
   "cell_type": "code",
   "execution_count": 16,
   "metadata": {},
   "outputs": [
    {
     "data": {
      "text/plain": [
       "(50,)"
      ]
     },
     "execution_count": 16,
     "metadata": {},
     "output_type": "execute_result"
    },
    {
     "data": {
      "application/javascript": "\n            setTimeout(function() {\n                var nbb_cell_id = 16;\n                var nbb_unformatted_code = \"# Checking out the shape of the embeddings that are produced for a given word\\nw2v_glove_vectors[test_word].shape\";\n                var nbb_formatted_code = \"# Checking out the shape of the embeddings that are produced for a given word\\nw2v_glove_vectors[test_word].shape\";\n                var nbb_cells = Jupyter.notebook.get_cells();\n                for (var i = 0; i < nbb_cells.length; ++i) {\n                    if (nbb_cells[i].input_prompt_number == nbb_cell_id) {\n                        if (nbb_cells[i].get_text() == nbb_unformatted_code) {\n                             nbb_cells[i].set_text(nbb_formatted_code);\n                        }\n                        break;\n                    }\n                }\n            }, 500);\n            ",
      "text/plain": [
       "<IPython.core.display.Javascript object>"
      ]
     },
     "metadata": {},
     "output_type": "display_data"
    }
   ],
   "source": [
    "# Checking out the shape of the embeddings that are produced for a given word\n",
    "w2v_glove_vectors[test_word].shape"
   ]
  },
  {
   "cell_type": "markdown",
   "metadata": {
    "colab_type": "text",
    "id": "HeI-Msu3CWzj"
   },
   "source": [
    "## Word Similarities<a name=\"word_similarities\"></a>"
   ]
  },
  {
   "cell_type": "markdown",
   "metadata": {},
   "source": [
    "Using the pre-trained word vectors, we can perform simple distance operations such as finding similar words e.g. finding those that are the closest in vector space"
   ]
  },
  {
   "cell_type": "code",
   "execution_count": 17,
   "metadata": {},
   "outputs": [
    {
     "name": "stdout",
     "output_type": "stream",
     "text": [
      "1.\tbarack  \t96.7%\n",
      "2.\tbush    \t96.4%\n",
      "3.\tclinton \t96.1%\n",
      "4.\tmccain  \t91.2%\n",
      "5.\tdole    \t88.8%\n",
      "6.\tgore    \t88.5%\n",
      "7.\thillary \t87.8%\n",
      "8.\trodham  \t84.0%\n",
      "9.\tkerry   \t82.6%\n",
      "10.\tbiden   \t81.0%\n"
     ]
    },
    {
     "data": {
      "application/javascript": "\n            setTimeout(function() {\n                var nbb_cell_id = 17;\n                var nbb_unformatted_code = \"print(prettify_similarities(w2v_glove_vectors.most_similar('obama')))\";\n                var nbb_formatted_code = \"print(prettify_similarities(w2v_glove_vectors.most_similar(\\\"obama\\\")))\";\n                var nbb_cells = Jupyter.notebook.get_cells();\n                for (var i = 0; i < nbb_cells.length; ++i) {\n                    if (nbb_cells[i].input_prompt_number == nbb_cell_id) {\n                        if (nbb_cells[i].get_text() == nbb_unformatted_code) {\n                             nbb_cells[i].set_text(nbb_formatted_code);\n                        }\n                        break;\n                    }\n                }\n            }, 500);\n            ",
      "text/plain": [
       "<IPython.core.display.Javascript object>"
      ]
     },
     "metadata": {},
     "output_type": "display_data"
    }
   ],
   "source": [
    "print(prettify_similarities(w2v_glove_vectors.most_similar('obama')))"
   ]
  },
  {
   "cell_type": "code",
   "execution_count": 18,
   "metadata": {
    "colab": {
     "base_uri": "https://localhost:8080/",
     "height": 241
    },
    "colab_type": "code",
    "executionInfo": {
     "elapsed": 43484,
     "status": "ok",
     "timestamp": 1585112775233,
     "user": {
      "displayName": "Tyler Bikaun",
      "photoUrl": "",
      "userId": "18384825377619195869"
     },
     "user_tz": -480
    },
    "id": "PjRgmVyPnGjX",
    "outputId": "b715bf29-7f6c-42cf-ac63-c15eb0133a55"
   },
   "outputs": [
    {
     "name": "stdout",
     "output_type": "stream",
     "text": [
      "1.\tsilver   \t95.0%\n",
      "2.\tbronze   \t83.5%\n",
      "3.\tdiamond  \t77.1%\n",
      "4.\tmedal    \t76.7%\n",
      "5.\tmedals   \t76.6%\n",
      "6.\tgolds    \t71.6%\n",
      "7.\tmedalist \t71.5%\n",
      "8.\tolympic  \t71.4%\n",
      "9.\tgolden   \t70.5%\n",
      "10.\tplatinum \t69.6%\n"
     ]
    },
    {
     "data": {
      "application/javascript": "\n            setTimeout(function() {\n                var nbb_cell_id = 18;\n                var nbb_unformatted_code = \"print(prettify_similarities(w2v_glove_vectors.most_similar('gold')))\";\n                var nbb_formatted_code = \"print(prettify_similarities(w2v_glove_vectors.most_similar(\\\"gold\\\")))\";\n                var nbb_cells = Jupyter.notebook.get_cells();\n                for (var i = 0; i < nbb_cells.length; ++i) {\n                    if (nbb_cells[i].input_prompt_number == nbb_cell_id) {\n                        if (nbb_cells[i].get_text() == nbb_unformatted_code) {\n                             nbb_cells[i].set_text(nbb_formatted_code);\n                        }\n                        break;\n                    }\n                }\n            }, 500);\n            ",
      "text/plain": [
       "<IPython.core.display.Javascript object>"
      ]
     },
     "metadata": {},
     "output_type": "display_data"
    }
   ],
   "source": [
    "print(prettify_similarities(w2v_glove_vectors.most_similar('gold')))"
   ]
  },
  {
   "cell_type": "code",
   "execution_count": 19,
   "metadata": {
    "colab": {
     "base_uri": "https://localhost:8080/",
     "height": 241
    },
    "colab_type": "code",
    "executionInfo": {
     "elapsed": 43480,
     "status": "ok",
     "timestamp": 1585112775234,
     "user": {
      "displayName": "Tyler Bikaun",
      "photoUrl": "",
      "userId": "18384825377619195869"
     },
     "user_tz": -480
    },
    "id": "HrxGXW-67JQ8",
    "outputId": "a5993d25-b807-4137-ad78-3325f67acefb"
   },
   "outputs": [
    {
     "name": "stdout",
     "output_type": "stream",
     "text": [
      "1.\tblackberry \t75.4%\n",
      "2.\tchips      \t74.4%\n",
      "3.\tiphone     \t74.3%\n",
      "4.\tmicrosoft  \t73.3%\n",
      "5.\tipad       \t73.3%\n",
      "6.\tpc         \t72.2%\n",
      "7.\tipod       \t72.0%\n",
      "8.\tintel      \t71.9%\n",
      "9.\tibm        \t71.5%\n",
      "10.\tsoftware   \t70.9%\n"
     ]
    },
    {
     "data": {
      "application/javascript": "\n            setTimeout(function() {\n                var nbb_cell_id = 19;\n                var nbb_unformatted_code = \"print(prettify_similarities(w2v_glove_vectors.most_similar('apple')))\";\n                var nbb_formatted_code = \"print(prettify_similarities(w2v_glove_vectors.most_similar(\\\"apple\\\")))\";\n                var nbb_cells = Jupyter.notebook.get_cells();\n                for (var i = 0; i < nbb_cells.length; ++i) {\n                    if (nbb_cells[i].input_prompt_number == nbb_cell_id) {\n                        if (nbb_cells[i].get_text() == nbb_unformatted_code) {\n                             nbb_cells[i].set_text(nbb_formatted_code);\n                        }\n                        break;\n                    }\n                }\n            }, 500);\n            ",
      "text/plain": [
       "<IPython.core.display.Javascript object>"
      ]
     },
     "metadata": {},
     "output_type": "display_data"
    }
   ],
   "source": [
    "print(prettify_similarities(w2v_glove_vectors.most_similar('apple')))"
   ]
  },
  {
   "cell_type": "code",
   "execution_count": 20,
   "metadata": {
    "colab": {
     "base_uri": "https://localhost:8080/",
     "height": 241
    },
    "colab_type": "code",
    "executionInfo": {
     "elapsed": 43475,
     "status": "ok",
     "timestamp": 1585112775234,
     "user": {
      "displayName": "Tyler Bikaun",
      "photoUrl": "",
      "userId": "18384825377619195869"
     },
     "user_tz": -480
    },
    "id": "zuFH2u-G7JRF",
    "outputId": "b979a409-1a10-448e-ad8a-909b2964d973"
   },
   "outputs": [
    {
     "name": "stdout",
     "output_type": "stream",
     "text": [
      "1.\tlegat   \t67.5%\n",
      "2.\tbashaw  \t64.9%\n",
      "3.\tlydda   \t64.8%\n",
      "4.\tminic   \t63.9%\n",
      "5.\tnikolaj \t63.5%\n",
      "6.\ttroina  \t62.7%\n",
      "7.\tsameur  \t62.7%\n",
      "8.\tkabha   \t62.5%\n",
      "9.\tfursey  \t62.1%\n",
      "10.\tshabib  \t62.1%\n"
     ]
    },
    {
     "data": {
      "application/javascript": "\n            setTimeout(function() {\n                var nbb_cell_id = 20;\n                var nbb_unformatted_code = \"print(prettify_similarities(w2v_glove_vectors.most_similar(negative='apple')))\";\n                var nbb_formatted_code = \"print(prettify_similarities(w2v_glove_vectors.most_similar(negative=\\\"apple\\\")))\";\n                var nbb_cells = Jupyter.notebook.get_cells();\n                for (var i = 0; i < nbb_cells.length; ++i) {\n                    if (nbb_cells[i].input_prompt_number == nbb_cell_id) {\n                        if (nbb_cells[i].get_text() == nbb_unformatted_code) {\n                             nbb_cells[i].set_text(nbb_formatted_code);\n                        }\n                        break;\n                    }\n                }\n            }, 500);\n            ",
      "text/plain": [
       "<IPython.core.display.Javascript object>"
      ]
     },
     "metadata": {},
     "output_type": "display_data"
    }
   ],
   "source": [
    "print(prettify_similarities(w2v_glove_vectors.most_similar(negative='apple')))"
   ]
  },
  {
   "cell_type": "markdown",
   "metadata": {},
   "source": [
    "## Word Analogies - \"A is to B as C is to?\"<a name=\"word_analogies\"></a>"
   ]
  },
  {
   "cell_type": "markdown",
   "metadata": {},
   "source": [
    "Recall: *king - man + woman = queen*"
   ]
  },
  {
   "cell_type": "markdown",
   "metadata": {},
   "source": [
    "<img src=\"https://mlwhiz.com/images/word2vec.png\" alt=\"Word analogy example\" style=\"width: 600px;\"/>"
   ]
  },
  {
   "cell_type": "code",
   "execution_count": 21,
   "metadata": {
    "colab": {
     "base_uri": "https://localhost:8080/",
     "height": 88
    },
    "colab_type": "code",
    "executionInfo": {
     "elapsed": 43470,
     "status": "ok",
     "timestamp": 1585112775235,
     "user": {
      "displayName": "Tyler Bikaun",
      "photoUrl": "",
      "userId": "18384825377619195869"
     },
     "user_tz": -480
    },
    "id": "PMQG0KFr7JRM",
    "outputId": "116fc2dd-9202-4012-e467-3ec825a91854"
   },
   "outputs": [
    {
     "name": "stdout",
     "output_type": "stream",
     "text": [
      "1.\tqueen     \t85.2%\n",
      "2.\tthrone    \t76.6%\n",
      "3.\tprince    \t75.9%\n",
      "4.\tdaughter  \t74.7%\n",
      "5.\telizabeth \t74.6%\n",
      "6.\tprincess  \t74.2%\n",
      "7.\tkingdom   \t73.4%\n",
      "8.\tmonarch   \t72.1%\n",
      "9.\teldest    \t71.8%\n",
      "10.\twidow     \t71.0%\n"
     ]
    },
    {
     "data": {
      "application/javascript": "\n            setTimeout(function() {\n                var nbb_cell_id = 21;\n                var nbb_unformatted_code = \"print(prettify_similarities(w2v_glove_vectors.most_similar(positive=['woman', 'king'], negative=['man'])))\";\n                var nbb_formatted_code = \"print(\\n    prettify_similarities(\\n        w2v_glove_vectors.most_similar(positive=[\\\"woman\\\", \\\"king\\\"], negative=[\\\"man\\\"])\\n    )\\n)\";\n                var nbb_cells = Jupyter.notebook.get_cells();\n                for (var i = 0; i < nbb_cells.length; ++i) {\n                    if (nbb_cells[i].input_prompt_number == nbb_cell_id) {\n                        if (nbb_cells[i].get_text() == nbb_unformatted_code) {\n                             nbb_cells[i].set_text(nbb_formatted_code);\n                        }\n                        break;\n                    }\n                }\n            }, 500);\n            ",
      "text/plain": [
       "<IPython.core.display.Javascript object>"
      ]
     },
     "metadata": {},
     "output_type": "display_data"
    }
   ],
   "source": [
    "print(prettify_similarities(w2v_glove_vectors.most_similar(positive=['woman', 'king'], negative=['man'])))"
   ]
  },
  {
   "cell_type": "code",
   "execution_count": 22,
   "metadata": {
    "colab": {},
    "colab_type": "code",
    "id": "_mJkLtBJ7JRU"
   },
   "outputs": [
    {
     "data": {
      "application/javascript": "\n            setTimeout(function() {\n                var nbb_cell_id = 22;\n                var nbb_unformatted_code = \"def analogy(x1: str, x2: str, y1: str):\\n    '''Finds missing word form partial analogy'''\\n    result = w2v_glove_vectors.most_similar(positive=[y1, x2], negative=[x1])\\n    print(f'{x1} is to {x2} as {y1} is to \\\\033[1m{result[0][0]}\\\\033[0m')\";\n                var nbb_formatted_code = \"def analogy(x1: str, x2: str, y1: str):\\n    \\\"\\\"\\\"Finds missing word form partial analogy\\\"\\\"\\\"\\n    result = w2v_glove_vectors.most_similar(positive=[y1, x2], negative=[x1])\\n    print(f\\\"{x1} is to {x2} as {y1} is to \\\\033[1m{result[0][0]}\\\\033[0m\\\")\";\n                var nbb_cells = Jupyter.notebook.get_cells();\n                for (var i = 0; i < nbb_cells.length; ++i) {\n                    if (nbb_cells[i].input_prompt_number == nbb_cell_id) {\n                        if (nbb_cells[i].get_text() == nbb_unformatted_code) {\n                             nbb_cells[i].set_text(nbb_formatted_code);\n                        }\n                        break;\n                    }\n                }\n            }, 500);\n            ",
      "text/plain": [
       "<IPython.core.display.Javascript object>"
      ]
     },
     "metadata": {},
     "output_type": "display_data"
    }
   ],
   "source": [
    "def analogy(x1: str, x2: str, y1: str):\n",
    "    '''Finds missing word form partial analogy'''\n",
    "    result = w2v_glove_vectors.most_similar(positive=[y1, x2], negative=[x1])\n",
    "    print(f'{x1} is to {x2} as {y1} is to \\033[1m{result[0][0]}\\033[0m')"
   ]
  },
  {
   "cell_type": "code",
   "execution_count": 23,
   "metadata": {
    "colab": {
     "base_uri": "https://localhost:8080/",
     "height": 88
    },
    "colab_type": "code",
    "executionInfo": {
     "elapsed": 43458,
     "status": "ok",
     "timestamp": 1585112775236,
     "user": {
      "displayName": "Tyler Bikaun",
      "photoUrl": "",
      "userId": "18384825377619195869"
     },
     "user_tz": -480
    },
    "id": "ELaA5Jwi7JRf",
    "outputId": "dd6c0180-32c0-4745-9193-79a5659ff101"
   },
   "outputs": [
    {
     "name": "stdout",
     "output_type": "stream",
     "text": [
      "japan is to japanese as australia is to \u001b[1maustralian\u001b[0m\n"
     ]
    },
    {
     "data": {
      "application/javascript": "\n            setTimeout(function() {\n                var nbb_cell_id = 23;\n                var nbb_unformatted_code = \"analogy('japan', 'japanese', 'australia')\";\n                var nbb_formatted_code = \"analogy(\\\"japan\\\", \\\"japanese\\\", \\\"australia\\\")\";\n                var nbb_cells = Jupyter.notebook.get_cells();\n                for (var i = 0; i < nbb_cells.length; ++i) {\n                    if (nbb_cells[i].input_prompt_number == nbb_cell_id) {\n                        if (nbb_cells[i].get_text() == nbb_unformatted_code) {\n                             nbb_cells[i].set_text(nbb_formatted_code);\n                        }\n                        break;\n                    }\n                }\n            }, 500);\n            ",
      "text/plain": [
       "<IPython.core.display.Javascript object>"
      ]
     },
     "metadata": {},
     "output_type": "display_data"
    }
   ],
   "source": [
    "analogy('japan', 'japanese', 'australia')"
   ]
  },
  {
   "cell_type": "code",
   "execution_count": 24,
   "metadata": {
    "colab": {
     "base_uri": "https://localhost:8080/",
     "height": 88
    },
    "colab_type": "code",
    "executionInfo": {
     "elapsed": 43947,
     "status": "ok",
     "timestamp": 1585112775731,
     "user": {
      "displayName": "Tyler Bikaun",
      "photoUrl": "",
      "userId": "18384825377619195869"
     },
     "user_tz": -480
    },
    "id": "BQ68h3jE7JRk",
    "outputId": "256f107e-75e5-4c19-aa76-f55e649cc95b"
   },
   "outputs": [
    {
     "name": "stdout",
     "output_type": "stream",
     "text": [
      "australia is to beer as france is to \u001b[1mchampagne\u001b[0m\n"
     ]
    },
    {
     "data": {
      "application/javascript": "\n            setTimeout(function() {\n                var nbb_cell_id = 24;\n                var nbb_unformatted_code = \"analogy('australia', 'beer', 'france')\";\n                var nbb_formatted_code = \"analogy(\\\"australia\\\", \\\"beer\\\", \\\"france\\\")\";\n                var nbb_cells = Jupyter.notebook.get_cells();\n                for (var i = 0; i < nbb_cells.length; ++i) {\n                    if (nbb_cells[i].input_prompt_number == nbb_cell_id) {\n                        if (nbb_cells[i].get_text() == nbb_unformatted_code) {\n                             nbb_cells[i].set_text(nbb_formatted_code);\n                        }\n                        break;\n                    }\n                }\n            }, 500);\n            ",
      "text/plain": [
       "<IPython.core.display.Javascript object>"
      ]
     },
     "metadata": {},
     "output_type": "display_data"
    }
   ],
   "source": [
    "analogy('australia', 'beer', 'france')"
   ]
  },
  {
   "cell_type": "code",
   "execution_count": 25,
   "metadata": {
    "colab": {
     "base_uri": "https://localhost:8080/",
     "height": 88
    },
    "colab_type": "code",
    "executionInfo": {
     "elapsed": 43943,
     "status": "ok",
     "timestamp": 1585112775732,
     "user": {
      "displayName": "Tyler Bikaun",
      "photoUrl": "",
      "userId": "18384825377619195869"
     },
     "user_tz": -480
    },
    "id": "c2YhPCBj7JRp",
    "outputId": "3788c460-7bf0-45ed-c20b-383d7b6b6085"
   },
   "outputs": [
    {
     "name": "stdout",
     "output_type": "stream",
     "text": [
      "obama is to clinton as reagan is to \u001b[1mnixon\u001b[0m\n"
     ]
    },
    {
     "data": {
      "application/javascript": "\n            setTimeout(function() {\n                var nbb_cell_id = 25;\n                var nbb_unformatted_code = \"analogy('obama', 'clinton', 'reagan')\";\n                var nbb_formatted_code = \"analogy(\\\"obama\\\", \\\"clinton\\\", \\\"reagan\\\")\";\n                var nbb_cells = Jupyter.notebook.get_cells();\n                for (var i = 0; i < nbb_cells.length; ++i) {\n                    if (nbb_cells[i].input_prompt_number == nbb_cell_id) {\n                        if (nbb_cells[i].get_text() == nbb_unformatted_code) {\n                             nbb_cells[i].set_text(nbb_formatted_code);\n                        }\n                        break;\n                    }\n                }\n            }, 500);\n            ",
      "text/plain": [
       "<IPython.core.display.Javascript object>"
      ]
     },
     "metadata": {},
     "output_type": "display_data"
    }
   ],
   "source": [
    "analogy('obama', 'clinton', 'reagan')"
   ]
  },
  {
   "cell_type": "code",
   "execution_count": 26,
   "metadata": {
    "colab": {
     "base_uri": "https://localhost:8080/",
     "height": 88
    },
    "colab_type": "code",
    "executionInfo": {
     "elapsed": 43938,
     "status": "ok",
     "timestamp": 1585112775732,
     "user": {
      "displayName": "Tyler Bikaun",
      "photoUrl": "",
      "userId": "18384825377619195869"
     },
     "user_tz": -480
    },
    "id": "lZo4SXIX7JRt",
    "outputId": "a07204a7-9950-4627-d4a0-9e6a686d0f02"
   },
   "outputs": [
    {
     "name": "stdout",
     "output_type": "stream",
     "text": [
      "tall is to tallest as long is to \u001b[1mlongest\u001b[0m\n"
     ]
    },
    {
     "data": {
      "application/javascript": "\n            setTimeout(function() {\n                var nbb_cell_id = 26;\n                var nbb_unformatted_code = \"analogy('tall', 'tallest', 'long')\";\n                var nbb_formatted_code = \"analogy(\\\"tall\\\", \\\"tallest\\\", \\\"long\\\")\";\n                var nbb_cells = Jupyter.notebook.get_cells();\n                for (var i = 0; i < nbb_cells.length; ++i) {\n                    if (nbb_cells[i].input_prompt_number == nbb_cell_id) {\n                        if (nbb_cells[i].get_text() == nbb_unformatted_code) {\n                             nbb_cells[i].set_text(nbb_formatted_code);\n                        }\n                        break;\n                    }\n                }\n            }, 500);\n            ",
      "text/plain": [
       "<IPython.core.display.Javascript object>"
      ]
     },
     "metadata": {},
     "output_type": "display_data"
    }
   ],
   "source": [
    "analogy('tall', 'tallest', 'long')"
   ]
  },
  {
   "cell_type": "code",
   "execution_count": 27,
   "metadata": {
    "colab": {
     "base_uri": "https://localhost:8080/",
     "height": 88
    },
    "colab_type": "code",
    "executionInfo": {
     "elapsed": 43932,
     "status": "ok",
     "timestamp": 1585112775732,
     "user": {
      "displayName": "Tyler Bikaun",
      "photoUrl": "",
      "userId": "18384825377619195869"
     },
     "user_tz": -480
    },
    "id": "W6HYFWVn7JRy",
    "outputId": "797f84c8-ddd0-4a80-d340-65f544b52cfe"
   },
   "outputs": [
    {
     "name": "stdout",
     "output_type": "stream",
     "text": [
      "good is to fantastic as bad is to \u001b[1mdreadful\u001b[0m\n"
     ]
    },
    {
     "data": {
      "application/javascript": "\n            setTimeout(function() {\n                var nbb_cell_id = 27;\n                var nbb_unformatted_code = \"analogy('good', 'fantastic', 'bad')\";\n                var nbb_formatted_code = \"analogy(\\\"good\\\", \\\"fantastic\\\", \\\"bad\\\")\";\n                var nbb_cells = Jupyter.notebook.get_cells();\n                for (var i = 0; i < nbb_cells.length; ++i) {\n                    if (nbb_cells[i].input_prompt_number == nbb_cell_id) {\n                        if (nbb_cells[i].get_text() == nbb_unformatted_code) {\n                             nbb_cells[i].set_text(nbb_formatted_code);\n                        }\n                        break;\n                    }\n                }\n            }, 500);\n            ",
      "text/plain": [
       "<IPython.core.display.Javascript object>"
      ]
     },
     "metadata": {},
     "output_type": "display_data"
    }
   ],
   "source": [
    "analogy('good', 'fantastic', 'bad')"
   ]
  },
  {
   "cell_type": "code",
   "execution_count": 28,
   "metadata": {},
   "outputs": [
    {
     "name": "stdout",
     "output_type": "stream",
     "text": [
      "gold is to copper as oil is to \u001b[1mgas\u001b[0m\n"
     ]
    },
    {
     "data": {
      "application/javascript": "\n            setTimeout(function() {\n                var nbb_cell_id = 28;\n                var nbb_unformatted_code = \"analogy('gold', 'copper', 'oil')\";\n                var nbb_formatted_code = \"analogy(\\\"gold\\\", \\\"copper\\\", \\\"oil\\\")\";\n                var nbb_cells = Jupyter.notebook.get_cells();\n                for (var i = 0; i < nbb_cells.length; ++i) {\n                    if (nbb_cells[i].input_prompt_number == nbb_cell_id) {\n                        if (nbb_cells[i].get_text() == nbb_unformatted_code) {\n                             nbb_cells[i].set_text(nbb_formatted_code);\n                        }\n                        break;\n                    }\n                }\n            }, 500);\n            ",
      "text/plain": [
       "<IPython.core.display.Javascript object>"
      ]
     },
     "metadata": {},
     "output_type": "display_data"
    }
   ],
   "source": [
    "analogy('gold', 'copper', 'oil')"
   ]
  },
  {
   "cell_type": "markdown",
   "metadata": {
    "colab_type": "text",
    "id": "QKdJVbJrEMfH"
   },
   "source": [
    "## Find the odd word out"
   ]
  },
  {
   "cell_type": "code",
   "execution_count": 29,
   "metadata": {},
   "outputs": [
    {
     "data": {
      "application/javascript": "\n            setTimeout(function() {\n                var nbb_cell_id = 29;\n                var nbb_unformatted_code = \"def find_odd_one_out(model, words: List[str]) -> str:\\n    '''Finds odd word out of list of words'''\\n    assert type(words) is list\\n    odd_one = model.doesnt_match(words)\\n    words_marked = \\\" \\\".join([word if word != odd_one else f'\\\\033[1m{word}\\\\033[0m' for word in words])\\n    print(words_marked)\";\n                var nbb_formatted_code = \"def find_odd_one_out(model, words: List[str]) -> str:\\n    \\\"\\\"\\\"Finds odd word out of list of words\\\"\\\"\\\"\\n    assert type(words) is list\\n    odd_one = model.doesnt_match(words)\\n    words_marked = \\\" \\\".join(\\n        [word if word != odd_one else f\\\"\\\\033[1m{word}\\\\033[0m\\\" for word in words]\\n    )\\n    print(words_marked)\";\n                var nbb_cells = Jupyter.notebook.get_cells();\n                for (var i = 0; i < nbb_cells.length; ++i) {\n                    if (nbb_cells[i].input_prompt_number == nbb_cell_id) {\n                        if (nbb_cells[i].get_text() == nbb_unformatted_code) {\n                             nbb_cells[i].set_text(nbb_formatted_code);\n                        }\n                        break;\n                    }\n                }\n            }, 500);\n            ",
      "text/plain": [
       "<IPython.core.display.Javascript object>"
      ]
     },
     "metadata": {},
     "output_type": "display_data"
    }
   ],
   "source": [
    "def find_odd_one_out(model, words: List[str]) -> str:\n",
    "    '''Finds odd word out of list of words'''\n",
    "    assert type(words) is list\n",
    "    odd_one = model.doesnt_match(words)\n",
    "    words_marked = \" \".join([word if word != odd_one else f'\\033[1m{word}\\033[0m' for word in words])\n",
    "    print(words_marked)"
   ]
  },
  {
   "cell_type": "code",
   "execution_count": 30,
   "metadata": {
    "colab": {
     "base_uri": "https://localhost:8080/",
     "height": 122
    },
    "colab_type": "code",
    "executionInfo": {
     "elapsed": 43928,
     "status": "ok",
     "timestamp": 1585112775733,
     "user": {
      "displayName": "Tyler Bikaun",
      "photoUrl": "",
      "userId": "18384825377619195869"
     },
     "user_tz": -480
    },
    "id": "ye1_2nPJ7JR4",
    "outputId": "ba008d81-adb7-4586-90bd-a28ccedb860a"
   },
   "outputs": [
    {
     "name": "stdout",
     "output_type": "stream",
     "text": [
      "breakfast \u001b[1mcereal\u001b[0m dinner lunch\n"
     ]
    },
    {
     "data": {
      "application/javascript": "\n            setTimeout(function() {\n                var nbb_cell_id = 30;\n                var nbb_unformatted_code = \"find_odd_one_out(model=w2v_glove_vectors, words=[\\\"breakfast\\\", \\\"cereal\\\", \\\"dinner\\\", \\\"lunch\\\"])\";\n                var nbb_formatted_code = \"find_odd_one_out(\\n    model=w2v_glove_vectors, words=[\\\"breakfast\\\", \\\"cereal\\\", \\\"dinner\\\", \\\"lunch\\\"]\\n)\";\n                var nbb_cells = Jupyter.notebook.get_cells();\n                for (var i = 0; i < nbb_cells.length; ++i) {\n                    if (nbb_cells[i].input_prompt_number == nbb_cell_id) {\n                        if (nbb_cells[i].get_text() == nbb_unformatted_code) {\n                             nbb_cells[i].set_text(nbb_formatted_code);\n                        }\n                        break;\n                    }\n                }\n            }, 500);\n            ",
      "text/plain": [
       "<IPython.core.display.Javascript object>"
      ]
     },
     "metadata": {},
     "output_type": "display_data"
    }
   ],
   "source": [
    "find_odd_one_out(model=w2v_glove_vectors, words=[\"breakfast\", \"cereal\", \"dinner\", \"lunch\"])"
   ]
  },
  {
   "cell_type": "code",
   "execution_count": 31,
   "metadata": {},
   "outputs": [
    {
     "name": "stdout",
     "output_type": "stream",
     "text": [
      "copper gold iron \u001b[1moil\u001b[0m\n"
     ]
    },
    {
     "data": {
      "application/javascript": "\n            setTimeout(function() {\n                var nbb_cell_id = 31;\n                var nbb_unformatted_code = \"find_odd_one_out(model=w2v_glove_vectors, words=[\\\"copper\\\",\\\"gold\\\",\\\"iron\\\",\\\"oil\\\"])\";\n                var nbb_formatted_code = \"find_odd_one_out(model=w2v_glove_vectors, words=[\\\"copper\\\", \\\"gold\\\", \\\"iron\\\", \\\"oil\\\"])\";\n                var nbb_cells = Jupyter.notebook.get_cells();\n                for (var i = 0; i < nbb_cells.length; ++i) {\n                    if (nbb_cells[i].input_prompt_number == nbb_cell_id) {\n                        if (nbb_cells[i].get_text() == nbb_unformatted_code) {\n                             nbb_cells[i].set_text(nbb_formatted_code);\n                        }\n                        break;\n                    }\n                }\n            }, 500);\n            ",
      "text/plain": [
       "<IPython.core.display.Javascript object>"
      ]
     },
     "metadata": {},
     "output_type": "display_data"
    }
   ],
   "source": [
    "find_odd_one_out(model=w2v_glove_vectors, words=[\"copper\",\"gold\",\"iron\",\"oil\"])"
   ]
  },
  {
   "cell_type": "markdown",
   "metadata": {
    "colab_type": "text",
    "id": "zKEUO-gO7JR8"
   },
   "source": [
    "## Visualising Word Vectors<a name=\"vector_visualisation\"></a>"
   ]
  },
  {
   "cell_type": "code",
   "execution_count": 32,
   "metadata": {
    "colab": {},
    "colab_type": "code",
    "id": "Kd2uLi-y7JSB"
   },
   "outputs": [
    {
     "data": {
      "application/javascript": "\n            setTimeout(function() {\n                var nbb_cell_id = 32;\n                var nbb_unformatted_code = \"def generate_visualisation(model, words: List[str]=None, sample_size: int=0):\\n    '''Displays scatterplot of dimensionality reduced word vectors using principal component analysis (PCA)\\n    \\n    Note:\\n        - If no words are provided, a random set will be sampled from the embedding models vocabulary.\\n    '''\\n\\n    if words == None:\\n        if sample_size > 0:\\n            words = np.random.choice(w2v_glove_vectors.index_to_key, sample_size)\\n        else:\\n            words = [word for word in model.vocab]\\n        \\n    word_vectors = np.array([model[w] for w in words])\\n\\n    twodim = PCA().fit_transform(word_vectors)[:,:2]\\n    \\n    plt.figure(figsize=(6,6))\\n    plt.scatter(twodim[:,0], twodim[:,1], edgecolors='b', c='r')\\n    for word, (x,y) in zip(words, twodim):\\n        plt.text(x+0.05, y+0.05, word)\\n    \\n    plt.show()\";\n                var nbb_formatted_code = \"def generate_visualisation(model, words: List[str] = None, sample_size: int = 0):\\n    \\\"\\\"\\\"Displays scatterplot of dimensionality reduced word vectors using principal component analysis (PCA)\\n\\n    Note:\\n        - If no words are provided, a random set will be sampled from the embedding models vocabulary.\\n    \\\"\\\"\\\"\\n\\n    if words == None:\\n        if sample_size > 0:\\n            words = np.random.choice(w2v_glove_vectors.index_to_key, sample_size)\\n        else:\\n            words = [word for word in model.vocab]\\n\\n    word_vectors = np.array([model[w] for w in words])\\n\\n    twodim = PCA().fit_transform(word_vectors)[:, :2]\\n\\n    plt.figure(figsize=(6, 6))\\n    plt.scatter(twodim[:, 0], twodim[:, 1], edgecolors=\\\"b\\\", c=\\\"r\\\")\\n    for word, (x, y) in zip(words, twodim):\\n        plt.text(x + 0.05, y + 0.05, word)\\n\\n    plt.show()\";\n                var nbb_cells = Jupyter.notebook.get_cells();\n                for (var i = 0; i < nbb_cells.length; ++i) {\n                    if (nbb_cells[i].input_prompt_number == nbb_cell_id) {\n                        if (nbb_cells[i].get_text() == nbb_unformatted_code) {\n                             nbb_cells[i].set_text(nbb_formatted_code);\n                        }\n                        break;\n                    }\n                }\n            }, 500);\n            ",
      "text/plain": [
       "<IPython.core.display.Javascript object>"
      ]
     },
     "metadata": {},
     "output_type": "display_data"
    }
   ],
   "source": [
    "def generate_visualisation(model, words: List[str]=None, sample_size: int=0):\n",
    "    '''Displays scatterplot of dimensionality reduced word vectors using principal component analysis (PCA)\n",
    "    \n",
    "    Note:\n",
    "        - If no words are provided, a random set will be sampled from the embedding models vocabulary.\n",
    "    '''\n",
    "\n",
    "    if words == None:\n",
    "        if sample_size > 0:\n",
    "            words = np.random.choice(w2v_glove_vectors.index_to_key, sample_size)\n",
    "        else:\n",
    "            words = [word for word in model.vocab]\n",
    "        \n",
    "    word_vectors = np.array([model[w] for w in words])\n",
    "\n",
    "    twodim = PCA().fit_transform(word_vectors)[:,:2]\n",
    "    \n",
    "    plt.figure(figsize=(6,6))\n",
    "    plt.scatter(twodim[:,0], twodim[:,1], edgecolors='b', c='r')\n",
    "    for word, (x,y) in zip(words, twodim):\n",
    "        plt.text(x+0.05, y+0.05, word)\n",
    "    \n",
    "    plt.show()"
   ]
  },
  {
   "cell_type": "markdown",
   "metadata": {},
   "source": [
    "### Visualise groups of beverages, foods, animals, locations, etc, to see how they cluster in 2D space."
   ]
  },
  {
   "cell_type": "code",
   "execution_count": 33,
   "metadata": {
    "colab": {
     "base_uri": "https://localhost:8080/",
     "height": 374
    },
    "colab_type": "code",
    "executionInfo": {
     "elapsed": 44728,
     "status": "ok",
     "timestamp": 1585112776543,
     "user": {
      "displayName": "Tyler Bikaun",
      "photoUrl": "",
      "userId": "18384825377619195869"
     },
     "user_tz": -480
    },
    "id": "3_7_va6r7JSI",
    "outputId": "4aebfffd-8c8f-4cd6-84fb-107a20dc7d78"
   },
   "outputs": [
    {
     "data": {
      "image/png": "[encoded data removed]",
      "text/plain": [
       "<Figure size 432x432 with 1 Axes>"
      ]
     },
     "metadata": {},
     "output_type": "display_data"
    },
    {
     "data": {
      "application/javascript": "\n            setTimeout(function() {\n                var nbb_cell_id = 33;\n                var nbb_unformatted_code = \"generate_visualisation(model=w2v_glove_vectors,\\n                        words=['coffee', 'tea', 'beer', 'wine', 'brandy', 'rum', 'champagne', 'water',\\n                         'spaghetti', 'borscht', 'hamburger', 'pizza', 'falafel', 'sushi', 'meatballs',\\n                         'dog', 'horse', 'cat', 'monkey', 'parrot', 'koala', 'lizard',\\n                         'frog', 'toad', 'monkey', 'ape', 'kangaroo', 'wombat', 'wolf',\\n                         'france', 'germany', 'hungary', 'luxembourg', 'australia', 'fiji', 'china',\\n                         'homework', 'assignment', 'problem', 'exam', 'test', 'class',\\n                         'school', 'college', 'university', 'institute'])\";\n                var nbb_formatted_code = \"generate_visualisation(\\n    model=w2v_glove_vectors,\\n    words=[\\n        \\\"coffee\\\",\\n        \\\"tea\\\",\\n        \\\"beer\\\",\\n        \\\"wine\\\",\\n        \\\"brandy\\\",\\n        \\\"rum\\\",\\n        \\\"champagne\\\",\\n        \\\"water\\\",\\n        \\\"spaghetti\\\",\\n        \\\"borscht\\\",\\n        \\\"hamburger\\\",\\n        \\\"pizza\\\",\\n        \\\"falafel\\\",\\n        \\\"sushi\\\",\\n        \\\"meatballs\\\",\\n        \\\"dog\\\",\\n        \\\"horse\\\",\\n        \\\"cat\\\",\\n        \\\"monkey\\\",\\n        \\\"parrot\\\",\\n        \\\"koala\\\",\\n        \\\"lizard\\\",\\n        \\\"frog\\\",\\n        \\\"toad\\\",\\n        \\\"monkey\\\",\\n        \\\"ape\\\",\\n        \\\"kangaroo\\\",\\n        \\\"wombat\\\",\\n        \\\"wolf\\\",\\n        \\\"france\\\",\\n        \\\"germany\\\",\\n        \\\"hungary\\\",\\n        \\\"luxembourg\\\",\\n        \\\"australia\\\",\\n        \\\"fiji\\\",\\n        \\\"china\\\",\\n        \\\"homework\\\",\\n        \\\"assignment\\\",\\n        \\\"problem\\\",\\n        \\\"exam\\\",\\n        \\\"test\\\",\\n        \\\"class\\\",\\n        \\\"school\\\",\\n        \\\"college\\\",\\n        \\\"university\\\",\\n        \\\"institute\\\",\\n    ],\\n)\";\n                var nbb_cells = Jupyter.notebook.get_cells();\n                for (var i = 0; i < nbb_cells.length; ++i) {\n                    if (nbb_cells[i].input_prompt_number == nbb_cell_id) {\n                        if (nbb_cells[i].get_text() == nbb_unformatted_code) {\n                             nbb_cells[i].set_text(nbb_formatted_code);\n                        }\n                        break;\n                    }\n                }\n            }, 500);\n            ",
      "text/plain": [
       "<IPython.core.display.Javascript object>"
      ]
     },
     "metadata": {},
     "output_type": "display_data"
    }
   ],
   "source": [
    "generate_visualisation(model=w2v_glove_vectors,\n",
    "                        words=['coffee', 'tea', 'beer', 'wine', 'brandy', 'rum', 'champagne', 'water',\n",
    "                         'spaghetti', 'borscht', 'hamburger', 'pizza', 'falafel', 'sushi', 'meatballs',\n",
    "                         'dog', 'horse', 'cat', 'monkey', 'parrot', 'koala', 'lizard',\n",
    "                         'frog', 'toad', 'monkey', 'ape', 'kangaroo', 'wombat', 'wolf',\n",
    "                         'france', 'germany', 'hungary', 'luxembourg', 'australia', 'fiji', 'china',\n",
    "                         'homework', 'assignment', 'problem', 'exam', 'test', 'class',\n",
    "                         'school', 'college', 'university', 'institute'])"
   ]
  },
  {
   "cell_type": "markdown",
   "metadata": {},
   "source": [
    "### Visualise randomly sampled words"
   ]
  },
  {
   "cell_type": "code",
   "execution_count": 34,
   "metadata": {
    "colab": {
     "base_uri": "https://localhost:8080/",
     "height": 374
    },
    "colab_type": "code",
    "executionInfo": {
     "elapsed": 45941,
     "status": "ok",
     "timestamp": 1585112777761,
     "user": {
      "displayName": "Tyler Bikaun",
      "photoUrl": "",
      "userId": "18384825377619195869"
     },
     "user_tz": -480
    },
    "id": "DZJsi7od7JSL",
    "outputId": "463e173d-5ba2-4784-a2a6-e91fd19f0530"
   },
   "outputs": [
    {
     "data": {
      "image/png": "[encoded data removed]",
      "text/plain": [
       "<Figure size 432x432 with 1 Axes>"
      ]
     },
     "metadata": {},
     "output_type": "display_data"
    },
    {
     "data": {
      "application/javascript": "\n            setTimeout(function() {\n                var nbb_cell_id = 34;\n                var nbb_unformatted_code = \"generate_visualisation(model=w2v_glove_vectors, sample_size=50)\";\n                var nbb_formatted_code = \"generate_visualisation(model=w2v_glove_vectors, sample_size=50)\";\n                var nbb_cells = Jupyter.notebook.get_cells();\n                for (var i = 0; i < nbb_cells.length; ++i) {\n                    if (nbb_cells[i].input_prompt_number == nbb_cell_id) {\n                        if (nbb_cells[i].get_text() == nbb_unformatted_code) {\n                             nbb_cells[i].set_text(nbb_formatted_code);\n                        }\n                        break;\n                    }\n                }\n            }, 500);\n            ",
      "text/plain": [
       "<IPython.core.display.Javascript object>"
      ]
     },
     "metadata": {},
     "output_type": "display_data"
    }
   ],
   "source": [
    "generate_visualisation(model=w2v_glove_vectors, sample_size=50)"
   ]
  }
 ],
 "metadata": {
  "colab": {
   "collapsed_sections": [],
   "name": "12.2.1-Gensim word vector visualization.ipynb",
   "provenance": [],
   "toc_visible": true
  },
  "kernelspec": {
   "display_name": "Python 3.8.10 64-bit",
   "language": "python",
   "name": "python3"
  },
  "language_info": {
   "codemirror_mode": {
    "name": "ipython",
    "version": 3
   },
   "file_extension": ".py",
   "mimetype": "text/x-python",
   "name": "python",
   "nbconvert_exporter": "python",
   "pygments_lexer": "ipython3",
   "version": "3.8.10"
  },
  "vscode": {
   "interpreter": {
    "hash": "e2040bd4ff7059bd5923140baaf547b26fe1060b2698e4d8905dba1b3e302910"
   }
  }
 },
 "nbformat": 4,
 "nbformat_minor": 4
}
