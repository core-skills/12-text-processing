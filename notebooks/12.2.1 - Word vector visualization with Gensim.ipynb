{
 "cells": [
  {
   "cell_type": "markdown",
   "metadata": {
    "colab_type": "text",
    "id": "mEsV0AtG7JQd"
   },
   "source": [
    "# Word vector visualization with Gensim\n",
    "\n",
    "Source: 😊[Day 12 - Special Data Types: Natural Language Processing](https://github.com/core-skills/12-text-processing) *repository*"
   ]
  },
  {
   "cell_type": "markdown",
   "metadata": {},
   "source": [
    "> ☝️Before moving on with this notebook, ensure that you have:\n",
    "- Downloaded the *glove.6B.100d.txt* embeddings and placed them in the `./data` directory. If not, [download](http://nlp.stanford.edu/data/glove.6B.zip) and save them before continuing."
   ]
  },
  {
   "cell_type": "markdown",
   "metadata": {},
   "source": [
    "**Overview**:\n",
    "In this notebook we will explore word vectors. To achieve this we will use the [Gensim](https://radimrehurek.com/gensim/) library with pretrained [GloVe vectors](https://nlp.stanford.edu/projects/glove/). Gensim allows us to convert a file of GloVe vectors into word2vec format. The 100d GloVe embeddings are used within the notebook, however there are various dimensions such as 50 and 300."
   ]
  },
  {
   "cell_type": "markdown",
   "metadata": {},
   "source": [
    "<img src=\"https://cdn.analyticsvidhya.com/wp-content/uploads/2017/06/06062705/Word-Vectors.png\" alt=\"\" style=\"width:800px;\"/>\n",
    "\n",
    "[analyticsvidhya](https://cdn.analyticsvidhya.com/wp-content/uploads/2017/06/06062705/Word-Vectors.png) "
   ]
  },
  {
   "cell_type": "markdown",
   "metadata": {},
   "source": [
    "**Supplementary Content**: Check out https://rare-technologies.com/word2vec-tutorial/ for an interactive web-based application that allows you to do play with different functionalties of word embeddings.\n",
    "\n",
    "Adapted from: *CS224n: Natural Language Processing with Deep Learning*"
   ]
  },
  {
   "cell_type": "markdown",
   "metadata": {},
   "source": [
    "# Table of Contents\n",
    "1. [Word Vectors](#word_vectors)\n",
    "2. [Word Similarities](#word_similarities)\n",
    "3. [Word Analogies](#word_analogies)\n",
    "4. [Visualising Word Vectors](#vector_visualisation)"
   ]
  },
  {
   "cell_type": "markdown",
   "metadata": {},
   "source": [
    "### Import Dependencies\n",
    "- [numpy](https://numpy.org/) - library that we will use for helping visualise word vectors\n",
    "- [matplotlib](https://matplotlib.org/) - library that we will use for plotting the data\n",
    "- [gensim](https://radimrehurek.com/gensim/) - library that we will use to experiment with word embeddings/vectors\n",
    "- [sklearn](https://scikit-learn.org/) - library that we will use for performing dimensionality reduction to help visualise word vectors"
   ]
  },
  {
   "cell_type": "code",
   "execution_count": 84,
   "metadata": {},
   "outputs": [],
   "source": [
    "import pprint\n",
    "from typing import List\n",
    "from pathlib import Path\n",
    "\n",
    "import numpy as np\n",
    "import matplotlib.pyplot as plt\n",
    "\n",
    "from gensim.test.utils import datapath, get_tmpfile\n",
    "from gensim.models import KeyedVectors\n",
    "from gensim.scripts.glove2word2vec import glove2word2vec\n",
    "\n",
    "from sklearn.decomposition import PCA"
   ]
  },
  {
   "cell_type": "markdown",
   "metadata": {},
   "source": [
    "### Set up the notebook environment and load helper functions"
   ]
  },
  {
   "cell_type": "code",
   "execution_count": 29,
   "metadata": {},
   "outputs": [],
   "source": [
    "# Makes printing lists prettier \n",
    "pp = pprint.PrettyPrinter(indent=2)"
   ]
  },
  {
   "cell_type": "code",
   "execution_count": 120,
   "metadata": {
    "colab": {},
    "colab_type": "code",
    "id": "zGLymbOH7JQk"
   },
   "outputs": [],
   "source": [
    "# Get the interactive Tools for Matplotlib\n",
    "%matplotlib inline\n",
    "plt.style.use('ggplot')"
   ]
  },
  {
   "cell_type": "code",
   "execution_count": 83,
   "metadata": {},
   "outputs": [],
   "source": [
    "def prettify_similarities(similarities: List[tuple]) -> List[str]:\n",
    "    ''' Prettifies list of word similarities produced by Gensim.\n",
    "    '''\n",
    "    longest_str = max([len(sim[0]) for sim in similarities])\n",
    "    return \"\\n\".join([f'{idx+1}.\\t{sim[0]:{longest_str+1}}\\t{sim[1]*100:0.1f}%' for idx, sim in enumerate(similarities)])"
   ]
  },
  {
   "cell_type": "markdown",
   "metadata": {
    "colab_type": "text",
    "id": "8rY4HptWCPf8"
   },
   "source": [
    "### Load pretrained word embeddings from disk"
   ]
  },
  {
   "cell_type": "code",
   "execution_count": 85,
   "metadata": {},
   "outputs": [],
   "source": [
    "data_path = Path('../data/glove.6B.50d.txt').resolve()"
   ]
  },
  {
   "cell_type": "code",
   "execution_count": 86,
   "metadata": {
    "colab": {
     "base_uri": "https://localhost:8080/",
     "height": 71
    },
    "colab_type": "code",
    "executionInfo": {
     "elapsed": 43498,
     "status": "ok",
     "timestamp": 1585112775231,
     "user": {
      "displayName": "Tyler Bikaun",
      "photoUrl": "",
      "userId": "18384825377619195869"
     },
     "user_tz": -480
    },
    "id": "hO_RpzPk7JQu",
    "outputId": "486cc377-d912-4c91-bfba-cc9fb48863c9"
   },
   "outputs": [],
   "source": [
    "# Load embedding model\n",
    "glove_file = datapath(data_path)\n",
    "word2vec_glove_file = get_tmpfile(\"glove.6B.50d.word2vec.txt\")\n",
    "glove2word2vec(glove_file, word2vec_glove_file)\n",
    "model = KeyedVectors.load_word2vec_format(word2vec_glove_file)"
   ]
  },
  {
   "cell_type": "markdown",
   "metadata": {},
   "source": [
    "## Word Vectors <a name=\"word_vectors\"></a>\n",
    "Now that we have loaded the pre-trained word embedding model, let's unpack it. "
   ]
  },
  {
   "cell_type": "code",
   "execution_count": 170,
   "metadata": {},
   "outputs": [],
   "source": [
    "test_word = 'france'"
   ]
  },
  {
   "cell_type": "code",
   "execution_count": 171,
   "metadata": {},
   "outputs": [
    {
     "data": {
      "text/plain": [
       "array([ 6.6571e-01,  2.9845e-01, -1.0467e+00, -6.6932e-01, -7.8082e-01,\n",
       "       -1.3007e-04, -1.7931e-01,  3.7110e-01, -1.8622e-01, -4.0535e-01,\n",
       "        9.8644e-01, -6.0545e-01, -9.4571e-01, -6.9207e-01,  5.6681e-01,\n",
       "       -3.8610e-01,  2.7634e-02, -1.2464e+00, -7.3561e-01, -5.2222e-01,\n",
       "       -6.1766e-02,  1.6771e-01, -3.7462e-01,  4.2250e-01, -6.3095e-01,\n",
       "       -1.6360e+00, -2.5094e-01,  4.4950e-02, -3.9758e-01,  9.8099e-01,\n",
       "        2.6293e+00,  8.3480e-01, -7.7338e-01,  3.9402e-01, -5.7976e-01,\n",
       "       -1.0290e+00, -2.6709e-01,  9.8714e-01, -5.1029e-01, -4.2477e-01,\n",
       "        1.3956e+00, -2.9347e-02,  2.2295e+00, -1.7079e+00,  2.5562e-02,\n",
       "        6.9060e-01, -5.7900e-01, -1.7824e-01,  4.2916e-01, -5.3940e-01],\n",
       "      dtype=float32)"
      ]
     },
     "execution_count": 171,
     "metadata": {},
     "output_type": "execute_result"
    }
   ],
   "source": [
    "# Numerical representation words\n",
    "# Note: if we add words that are out-of-vocabulary (e.g. not in the corpus the model was trained on, we'll receive an error)\n",
    "model[test_word]"
   ]
  },
  {
   "cell_type": "code",
   "execution_count": 172,
   "metadata": {},
   "outputs": [
    {
     "data": {
      "text/plain": [
       "(50,)"
      ]
     },
     "execution_count": 172,
     "metadata": {},
     "output_type": "execute_result"
    }
   ],
   "source": [
    "model[test_word].shape"
   ]
  },
  {
   "cell_type": "code",
   "execution_count": null,
   "metadata": {},
   "outputs": [],
   "source": []
  },
  {
   "cell_type": "markdown",
   "metadata": {
    "colab_type": "text",
    "id": "HeI-Msu3CWzj"
   },
   "source": [
    "## Word Similarities<a name=\"word_similarities\"></a>"
   ]
  },
  {
   "cell_type": "markdown",
   "metadata": {},
   "source": [
    "Using the pre-trained word vectors, we can perform simple distance operations such as finding similar words e.g. finding those that are the closest in vector space"
   ]
  },
  {
   "cell_type": "code",
   "execution_count": 87,
   "metadata": {},
   "outputs": [
    {
     "name": "stdout",
     "output_type": "stream",
     "text": [
      "1.\tbarack  \t96.7%\n",
      "2.\tbush    \t96.4%\n",
      "3.\tclinton \t96.1%\n",
      "4.\tmccain  \t91.2%\n",
      "5.\tdole    \t88.8%\n",
      "6.\tgore    \t88.5%\n",
      "7.\thillary \t87.8%\n",
      "8.\trodham  \t84.0%\n",
      "9.\tkerry   \t82.6%\n",
      "10.\tbiden   \t81.0%\n"
     ]
    }
   ],
   "source": [
    "print(prettify_similarities(model.most_similar('obama')))"
   ]
  },
  {
   "cell_type": "code",
   "execution_count": 88,
   "metadata": {
    "colab": {
     "base_uri": "https://localhost:8080/",
     "height": 241
    },
    "colab_type": "code",
    "executionInfo": {
     "elapsed": 43484,
     "status": "ok",
     "timestamp": 1585112775233,
     "user": {
      "displayName": "Tyler Bikaun",
      "photoUrl": "",
      "userId": "18384825377619195869"
     },
     "user_tz": -480
    },
    "id": "PjRgmVyPnGjX",
    "outputId": "b715bf29-7f6c-42cf-ac63-c15eb0133a55"
   },
   "outputs": [
    {
     "name": "stdout",
     "output_type": "stream",
     "text": [
      "1.\tsilver   \t95.0%\n",
      "2.\tbronze   \t83.5%\n",
      "3.\tdiamond  \t77.1%\n",
      "4.\tmedal    \t76.7%\n",
      "5.\tmedals   \t76.6%\n",
      "6.\tgolds    \t71.6%\n",
      "7.\tmedalist \t71.5%\n",
      "8.\tolympic  \t71.4%\n",
      "9.\tgolden   \t70.5%\n",
      "10.\tplatinum \t69.6%\n"
     ]
    }
   ],
   "source": [
    "print(prettify_similarities(model.most_similar('gold')))"
   ]
  },
  {
   "cell_type": "code",
   "execution_count": 89,
   "metadata": {
    "colab": {
     "base_uri": "https://localhost:8080/",
     "height": 241
    },
    "colab_type": "code",
    "executionInfo": {
     "elapsed": 43480,
     "status": "ok",
     "timestamp": 1585112775234,
     "user": {
      "displayName": "Tyler Bikaun",
      "photoUrl": "",
      "userId": "18384825377619195869"
     },
     "user_tz": -480
    },
    "id": "HrxGXW-67JQ8",
    "outputId": "a5993d25-b807-4137-ad78-3325f67acefb"
   },
   "outputs": [
    {
     "name": "stdout",
     "output_type": "stream",
     "text": [
      "1.\tblackberry \t75.4%\n",
      "2.\tchips      \t74.4%\n",
      "3.\tiphone     \t74.3%\n",
      "4.\tmicrosoft  \t73.3%\n",
      "5.\tipad       \t73.3%\n",
      "6.\tpc         \t72.2%\n",
      "7.\tipod       \t72.0%\n",
      "8.\tintel      \t71.9%\n",
      "9.\tibm        \t71.5%\n",
      "10.\tsoftware   \t70.9%\n"
     ]
    }
   ],
   "source": [
    "print(prettify_similarities(model.most_similar('apple')))"
   ]
  },
  {
   "cell_type": "code",
   "execution_count": 90,
   "metadata": {
    "colab": {
     "base_uri": "https://localhost:8080/",
     "height": 241
    },
    "colab_type": "code",
    "executionInfo": {
     "elapsed": 43475,
     "status": "ok",
     "timestamp": 1585112775234,
     "user": {
      "displayName": "Tyler Bikaun",
      "photoUrl": "",
      "userId": "18384825377619195869"
     },
     "user_tz": -480
    },
    "id": "zuFH2u-G7JRF",
    "outputId": "b979a409-1a10-448e-ad8a-909b2964d973"
   },
   "outputs": [
    {
     "name": "stdout",
     "output_type": "stream",
     "text": [
      "1.\tem96                     \t77.7%\n",
      "2.\tgph04bb                  \t77.6%\n",
      "3.\tgreg.wilcoxdailynews.com \t76.8%\n",
      "4.\tstr94                    \t76.7%\n",
      "5.\trw95                     \t76.6%\n",
      "6.\tjs04bb                   \t76.0%\n",
      "7.\tkd96                     \t74.5%\n",
      "8.\thttp://www.opel.com      \t74.1%\n",
      "9.\tkd97                     \t72.9%\n",
      "10.\tposkrebyshev             \t72.3%\n"
     ]
    }
   ],
   "source": [
    "print(prettify_similarities(model.most_similar(negative='apple')))"
   ]
  },
  {
   "cell_type": "markdown",
   "metadata": {},
   "source": [
    "## Word Analogies - \"A is to B as C is to?\"<a name=\"word_analogies\"></a>"
   ]
  },
  {
   "cell_type": "markdown",
   "metadata": {},
   "source": [
    "Recall: *king - man + woman = queen*"
   ]
  },
  {
   "cell_type": "markdown",
   "metadata": {},
   "source": [
    "<img src=\"https://mlwhiz.com/images/word2vec.png\" alt=\"Word analogy example\" style=\"width: 600px;\"/>"
   ]
  },
  {
   "cell_type": "code",
   "execution_count": 92,
   "metadata": {
    "colab": {
     "base_uri": "https://localhost:8080/",
     "height": 88
    },
    "colab_type": "code",
    "executionInfo": {
     "elapsed": 43470,
     "status": "ok",
     "timestamp": 1585112775235,
     "user": {
      "displayName": "Tyler Bikaun",
      "photoUrl": "",
      "userId": "18384825377619195869"
     },
     "user_tz": -480
    },
    "id": "PMQG0KFr7JRM",
    "outputId": "116fc2dd-9202-4012-e467-3ec825a91854"
   },
   "outputs": [
    {
     "name": "stdout",
     "output_type": "stream",
     "text": [
      "1.\tqueen     \t85.2%\n",
      "2.\tthrone    \t76.6%\n",
      "3.\tprince    \t75.9%\n",
      "4.\tdaughter  \t74.7%\n",
      "5.\telizabeth \t74.6%\n",
      "6.\tprincess  \t74.2%\n",
      "7.\tkingdom   \t73.4%\n",
      "8.\tmonarch   \t72.1%\n",
      "9.\teldest    \t71.8%\n",
      "10.\twidow     \t71.0%\n"
     ]
    }
   ],
   "source": [
    "print(prettify_similarities(model.most_similar(positive=['woman', 'king'], negative=['man'])))"
   ]
  },
  {
   "cell_type": "code",
   "execution_count": 109,
   "metadata": {
    "colab": {},
    "colab_type": "code",
    "id": "_mJkLtBJ7JRU"
   },
   "outputs": [],
   "source": [
    "def analogy(x1: str, x2: str, y1: str):\n",
    "    '''Finds missing word form partial analogy'''\n",
    "    result = model.most_similar(positive=[y1, x2], negative=[x1])\n",
    "    print(f'{x1} is to {x2} as {y1} is to \\033[1m{result[0][0]}\\033[0m')"
   ]
  },
  {
   "cell_type": "code",
   "execution_count": 110,
   "metadata": {
    "colab": {
     "base_uri": "https://localhost:8080/",
     "height": 88
    },
    "colab_type": "code",
    "executionInfo": {
     "elapsed": 43458,
     "status": "ok",
     "timestamp": 1585112775236,
     "user": {
      "displayName": "Tyler Bikaun",
      "photoUrl": "",
      "userId": "18384825377619195869"
     },
     "user_tz": -480
    },
    "id": "ELaA5Jwi7JRf",
    "outputId": "dd6c0180-32c0-4745-9193-79a5659ff101"
   },
   "outputs": [
    {
     "name": "stdout",
     "output_type": "stream",
     "text": [
      "japan is to japanese as australia is to \u001b[1maustralian\u001b[0m\n"
     ]
    }
   ],
   "source": [
    "analogy('japan', 'japanese', 'australia')"
   ]
  },
  {
   "cell_type": "code",
   "execution_count": 111,
   "metadata": {
    "colab": {
     "base_uri": "https://localhost:8080/",
     "height": 88
    },
    "colab_type": "code",
    "executionInfo": {
     "elapsed": 43947,
     "status": "ok",
     "timestamp": 1585112775731,
     "user": {
      "displayName": "Tyler Bikaun",
      "photoUrl": "",
      "userId": "18384825377619195869"
     },
     "user_tz": -480
    },
    "id": "BQ68h3jE7JRk",
    "outputId": "256f107e-75e5-4c19-aa76-f55e649cc95b"
   },
   "outputs": [
    {
     "name": "stdout",
     "output_type": "stream",
     "text": [
      "australia is to beer as france is to \u001b[1mchampagne\u001b[0m\n"
     ]
    }
   ],
   "source": [
    "analogy('australia', 'beer', 'france')"
   ]
  },
  {
   "cell_type": "code",
   "execution_count": 112,
   "metadata": {
    "colab": {
     "base_uri": "https://localhost:8080/",
     "height": 88
    },
    "colab_type": "code",
    "executionInfo": {
     "elapsed": 43943,
     "status": "ok",
     "timestamp": 1585112775732,
     "user": {
      "displayName": "Tyler Bikaun",
      "photoUrl": "",
      "userId": "18384825377619195869"
     },
     "user_tz": -480
    },
    "id": "c2YhPCBj7JRp",
    "outputId": "3788c460-7bf0-45ed-c20b-383d7b6b6085"
   },
   "outputs": [
    {
     "name": "stdout",
     "output_type": "stream",
     "text": [
      "obama is to clinton as reagan is to \u001b[1mnixon\u001b[0m\n"
     ]
    }
   ],
   "source": [
    "analogy('obama', 'clinton', 'reagan')"
   ]
  },
  {
   "cell_type": "code",
   "execution_count": 113,
   "metadata": {
    "colab": {
     "base_uri": "https://localhost:8080/",
     "height": 88
    },
    "colab_type": "code",
    "executionInfo": {
     "elapsed": 43938,
     "status": "ok",
     "timestamp": 1585112775732,
     "user": {
      "displayName": "Tyler Bikaun",
      "photoUrl": "",
      "userId": "18384825377619195869"
     },
     "user_tz": -480
    },
    "id": "lZo4SXIX7JRt",
    "outputId": "a07204a7-9950-4627-d4a0-9e6a686d0f02"
   },
   "outputs": [
    {
     "name": "stdout",
     "output_type": "stream",
     "text": [
      "tall is to tallest as long is to \u001b[1mlongest\u001b[0m\n"
     ]
    }
   ],
   "source": [
    "analogy('tall', 'tallest', 'long')"
   ]
  },
  {
   "cell_type": "code",
   "execution_count": 114,
   "metadata": {
    "colab": {
     "base_uri": "https://localhost:8080/",
     "height": 88
    },
    "colab_type": "code",
    "executionInfo": {
     "elapsed": 43932,
     "status": "ok",
     "timestamp": 1585112775732,
     "user": {
      "displayName": "Tyler Bikaun",
      "photoUrl": "",
      "userId": "18384825377619195869"
     },
     "user_tz": -480
    },
    "id": "W6HYFWVn7JRy",
    "outputId": "797f84c8-ddd0-4a80-d340-65f544b52cfe"
   },
   "outputs": [
    {
     "name": "stdout",
     "output_type": "stream",
     "text": [
      "good is to fantastic as bad is to \u001b[1mdreadful\u001b[0m\n"
     ]
    }
   ],
   "source": [
    "analogy('good', 'fantastic', 'bad')"
   ]
  },
  {
   "cell_type": "code",
   "execution_count": 116,
   "metadata": {},
   "outputs": [
    {
     "name": "stdout",
     "output_type": "stream",
     "text": [
      "gold is to copper as oil is to \u001b[1mgas\u001b[0m\n"
     ]
    }
   ],
   "source": [
    "analogy('gold', 'copper', 'oil')"
   ]
  },
  {
   "cell_type": "markdown",
   "metadata": {
    "colab_type": "text",
    "id": "QKdJVbJrEMfH"
   },
   "source": [
    "## Find the odd word out"
   ]
  },
  {
   "cell_type": "code",
   "execution_count": 152,
   "metadata": {},
   "outputs": [],
   "source": [
    "def find_odd_one_out(words: List[str]) -> str:\n",
    "    '''Finds odd word out of list of words'''\n",
    "    assert type(words) is list\n",
    "    odd_one = model.doesnt_match(words)\n",
    "    words_marked = \" \".join([word if word != odd_one else f'\\033[1m{word}\\033[0m' for word in words])\n",
    "    print(words_marked)"
   ]
  },
  {
   "cell_type": "code",
   "execution_count": 153,
   "metadata": {
    "colab": {
     "base_uri": "https://localhost:8080/",
     "height": 122
    },
    "colab_type": "code",
    "executionInfo": {
     "elapsed": 43928,
     "status": "ok",
     "timestamp": 1585112775733,
     "user": {
      "displayName": "Tyler Bikaun",
      "photoUrl": "",
      "userId": "18384825377619195869"
     },
     "user_tz": -480
    },
    "id": "ye1_2nPJ7JR4",
    "outputId": "ba008d81-adb7-4586-90bd-a28ccedb860a"
   },
   "outputs": [
    {
     "name": "stdout",
     "output_type": "stream",
     "text": [
      "breakfast scereal dinner \u001b[1mlunch\u001b[0m\n"
     ]
    }
   ],
   "source": [
    "find_odd_one_out([\"breakfast\", \"scereal\", \"dinner\", \"lunch\"])"
   ]
  },
  {
   "cell_type": "code",
   "execution_count": 154,
   "metadata": {},
   "outputs": [
    {
     "name": "stdout",
     "output_type": "stream",
     "text": [
      "copper gold iron \u001b[1moil\u001b[0m\n"
     ]
    }
   ],
   "source": [
    "find_odd_one_out([\"copper\",\"gold\",\"iron\",\"oil\"])"
   ]
  },
  {
   "cell_type": "markdown",
   "metadata": {
    "colab_type": "text",
    "id": "zKEUO-gO7JR8"
   },
   "source": [
    "## Visualising Word Vectors<a name=\"vector_visualisation\"></a>"
   ]
  },
  {
   "cell_type": "code",
   "execution_count": 157,
   "metadata": {
    "colab": {},
    "colab_type": "code",
    "id": "Kd2uLi-y7JSB"
   },
   "outputs": [],
   "source": [
    "def generate_visualisation(model, words: List[str]=None, sample_size: int=0):\n",
    "    '''Displays scatterplot of dimensionality reduced word vectors using principal component analysis (PCA)\n",
    "    \n",
    "    Note:\n",
    "        - If no words are provided, a random set will be sampled from the embedding models vocabulary.\n",
    "    '''\n",
    "\n",
    "    if words == None:\n",
    "        if sample_size > 0:\n",
    "            words = np.random.choice(list(model.vocab.keys()), sample_size)\n",
    "        else:\n",
    "            words = [word for word in model.vocab]\n",
    "        \n",
    "    word_vectors = np.array([model[w] for w in words])\n",
    "\n",
    "    twodim = PCA().fit_transform(word_vectors)[:,:2]\n",
    "    \n",
    "    plt.figure(figsize=(6,6))\n",
    "    plt.scatter(twodim[:,0], twodim[:,1], edgecolors='b', c='r')\n",
    "    for word, (x,y) in zip(words, twodim):\n",
    "        plt.text(x+0.05, y+0.05, word)\n",
    "    \n",
    "    plt.show()"
   ]
  },
  {
   "cell_type": "markdown",
   "metadata": {},
   "source": [
    "### Visualise groups of beverages, foods, animals, locations, etc, to see how they cluster in 2D space."
   ]
  },
  {
   "cell_type": "code",
   "execution_count": 158,
   "metadata": {
    "colab": {
     "base_uri": "https://localhost:8080/",
     "height": 374
    },
    "colab_type": "code",
    "executionInfo": {
     "elapsed": 44728,
     "status": "ok",
     "timestamp": 1585112776543,
     "user": {
      "displayName": "Tyler Bikaun",
      "photoUrl": "",
      "userId": "18384825377619195869"
     },
     "user_tz": -480
    },
    "id": "3_7_va6r7JSI",
    "outputId": "4aebfffd-8c8f-4cd6-84fb-107a20dc7d78"
   },
   "outputs": [
    {
     "data": {
      "image/png": "[encoded data removed]",
      "text/plain": [
       "<Figure size 432x432 with 1 Axes>"
      ]
     },
     "metadata": {},
     "output_type": "display_data"
    }
   ],
   "source": [
    "generate_visualisation(model,\n",
    "                        ['coffee', 'tea', 'beer', 'wine', 'brandy', 'rum', 'champagne', 'water',\n",
    "                         'spaghetti', 'borscht', 'hamburger', 'pizza', 'falafel', 'sushi', 'meatballs',\n",
    "                         'dog', 'horse', 'cat', 'monkey', 'parrot', 'koala', 'lizard',\n",
    "                         'frog', 'toad', 'monkey', 'ape', 'kangaroo', 'wombat', 'wolf',\n",
    "                         'france', 'germany', 'hungary', 'luxembourg', 'australia', 'fiji', 'china',\n",
    "                         'homework', 'assignment', 'problem', 'exam', 'test', 'class',\n",
    "                         'school', 'college', 'university', 'institute'])"
   ]
  },
  {
   "cell_type": "markdown",
   "metadata": {},
   "source": [
    "### Visualise randomly sampled words"
   ]
  },
  {
   "cell_type": "code",
   "execution_count": 164,
   "metadata": {
    "colab": {
     "base_uri": "https://localhost:8080/",
     "height": 374
    },
    "colab_type": "code",
    "executionInfo": {
     "elapsed": 45941,
     "status": "ok",
     "timestamp": 1585112777761,
     "user": {
      "displayName": "Tyler Bikaun",
      "photoUrl": "",
      "userId": "18384825377619195869"
     },
     "user_tz": -480
    },
    "id": "DZJsi7od7JSL",
    "outputId": "463e173d-5ba2-4784-a2a6-e91fd19f0530"
   },
   "outputs": [
    {
     "data": {
      "image/png": "[encoded data removed]",
      "text/plain": [
       "<Figure size 432x432 with 1 Axes>"
      ]
     },
     "metadata": {},
     "output_type": "display_data"
    }
   ],
   "source": [
    "generate_visualisation(model, sample_size=50)"
   ]
  }
 ],
 "metadata": {
  "colab": {
   "collapsed_sections": [],
   "name": "12.2.1-Gensim word vector visualization.ipynb",
   "provenance": [],
   "toc_visible": true
  },
  "kernelspec": {
   "display_name": "Python 3",
   "language": "python",
   "name": "python3"
  },
  "language_info": {
   "codemirror_mode": {
    "name": "ipython",
    "version": 3
   },
   "file_extension": ".py",
   "mimetype": "text/x-python",
   "name": "python",
   "nbconvert_exporter": "python",
   "pygments_lexer": "ipython3",
   "version": "3.6.5"
  }
 },
 "nbformat": 4,
 "nbformat_minor": 4
}
