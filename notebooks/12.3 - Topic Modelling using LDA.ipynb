{
 "cells": [
  {
   "cell_type": "markdown",
   "metadata": {
    "colab_type": "text",
    "id": "Q6UXR_M4Dt3b"
   },
   "source": [
    "# Topic Modelling using LDA"
   ]
  },
  {
   "cell_type": "markdown",
   "metadata": {},
   "source": [
    "## Notebook Overview\n",
    "In this notebook, we will explore topic modelling using Latent Dirichlet Allocation (LDA) on a corpus of Geological Survey of Western Australia reports."
   ]
  },
  {
   "cell_type": "markdown",
   "metadata": {},
   "source": [
    "⚠️This notebook takes approximately 50 minutes to execute all cells. The visualisations of the topic models is the culprit."
   ]
  },
  {
   "cell_type": "markdown",
   "metadata": {},
   "source": [
    "## Table of Contents\n",
    "1. [Loading GSWA Corpus](#load_corpus)\n",
    "2. [Corpus Pre-processing](#preprocessing)\n",
    "3. [Training LDA Model](#training)\n",
    "4. [Interactive Visualisation](#visualisation)\n",
    "5. [Additional Content: LDA Model Hyperparameter Tuning](#tuning)"
   ]
  },
  {
   "cell_type": "markdown",
   "metadata": {},
   "source": [
    "## Notebook Setup"
   ]
  },
  {
   "cell_type": "code",
   "execution_count": 1,
   "metadata": {
    "scrolled": true
   },
   "outputs": [
    {
     "name": "stdout",
     "output_type": "stream",
     "text": [
      "Requirement already satisfied: pyLDAvis in c:\\users\\tyler\\appdata\\local\\programs\\python\\python38\\lib\\site-packages (3.3.1)\n",
      "Requirement already satisfied: gensim in c:\\users\\tyler\\appdata\\local\\programs\\python\\python38\\lib\\site-packages (3.8.3)\n",
      "Requirement already satisfied: spacy in c:\\users\\tyler\\appdata\\local\\programs\\python\\python38\\lib\\site-packages (3.4.3)\n",
      "Requirement already satisfied: matplotlib in c:\\users\\tyler\\appdata\\local\\programs\\python\\python38\\lib\\site-packages (3.5.2)\n",
      "Requirement already satisfied: numpy in c:\\users\\tyler\\appdata\\local\\programs\\python\\python38\\lib\\site-packages (1.23.0)\n",
      "Requirement already satisfied: pandas in c:\\users\\tyler\\appdata\\local\\programs\\python\\python38\\lib\\site-packages (1.4.3)\n",
      "Requirement already satisfied: nltk in c:\\users\\tyler\\appdata\\local\\programs\\python\\python38\\lib\\site-packages (3.7)\n",
      "Requirement already satisfied: joblib in c:\\users\\tyler\\appdata\\local\\programs\\python\\python38\\lib\\site-packages (from pyLDAvis) (1.1.0)\n",
      "Requirement already satisfied: scikit-learn in c:\\users\\tyler\\appdata\\local\\programs\\python\\python38\\lib\\site-packages (from pyLDAvis) (1.1.2)\n",
      "Requirement already satisfied: future in c:\\users\\tyler\\appdata\\local\\programs\\python\\python38\\lib\\site-packages (from pyLDAvis) (0.18.2)\n",
      "Requirement already satisfied: sklearn in c:\\users\\tyler\\appdata\\local\\programs\\python\\python38\\lib\\site-packages (from pyLDAvis) (0.0.post1)\n",
      "Requirement already satisfied: funcy in c:\\users\\tyler\\appdata\\local\\programs\\python\\python38\\lib\\site-packages (from pyLDAvis) (1.17)\n",
      "Requirement already satisfied: setuptools in c:\\users\\tyler\\appdata\\local\\programs\\python\\python38\\lib\\site-packages (from pyLDAvis) (56.0.0)\n",
      "Requirement already satisfied: numexpr in c:\\users\\tyler\\appdata\\local\\programs\\python\\python38\\lib\\site-packages (from pyLDAvis) (2.8.4)\n",
      "Requirement already satisfied: scipy in c:\\users\\tyler\\appdata\\local\\programs\\python\\python38\\lib\\site-packages (from pyLDAvis) (1.8.1)\n",
      "Requirement already satisfied: jinja2 in c:\\users\\tyler\\appdata\\local\\programs\\python\\python38\\lib\\site-packages (from pyLDAvis) (3.1.2)\n",
      "Requirement already satisfied: python-dateutil>=2.8.1 in c:\\users\\tyler\\appdata\\local\\programs\\python\\python38\\lib\\site-packages (from pandas) (2.8.2)\n",
      "Requirement already satisfied: pytz>=2020.1 in c:\\users\\tyler\\appdata\\local\\programs\\python\\python38\\lib\\site-packages (from pandas) (2022.1)\n",
      "Requirement already satisfied: six>=1.5 in c:\\users\\tyler\\appdata\\local\\programs\\python\\python38\\lib\\site-packages (from python-dateutil>=2.8.1->pandas) (1.16.0)\n",
      "Requirement already satisfied: smart-open>=1.8.1 in c:\\users\\tyler\\appdata\\local\\programs\\python\\python38\\lib\\site-packages (from gensim) (5.2.1)\n",
      "Requirement already satisfied: Cython==0.29.14 in c:\\users\\tyler\\appdata\\local\\programs\\python\\python38\\lib\\site-packages (from gensim) (0.29.14)\n",
      "Requirement already satisfied: spacy-legacy<3.1.0,>=3.0.10 in c:\\users\\tyler\\appdata\\local\\programs\\python\\python38\\lib\\site-packages (from spacy) (3.0.10)\n",
      "Requirement already satisfied: spacy-loggers<2.0.0,>=1.0.0 in c:\\users\\tyler\\appdata\\local\\programs\\python\\python38\\lib\\site-packages (from spacy) (1.0.3)\n",
      "Requirement already satisfied: packaging>=20.0 in c:\\users\\tyler\\appdata\\local\\programs\\python\\python38\\lib\\site-packages (from spacy) (21.3)\n",
      "Requirement already satisfied: pathy>=0.3.5 in c:\\users\\tyler\\appdata\\local\\programs\\python\\python38\\lib\\site-packages (from spacy) (0.6.2)\n",
      "Requirement already satisfied: preshed<3.1.0,>=3.0.2 in c:\\users\\tyler\\appdata\\local\\programs\\python\\python38\\lib\\site-packages (from spacy) (3.0.7)\n",
      "Requirement already satisfied: typer<0.8.0,>=0.3.0 in c:\\users\\tyler\\appdata\\local\\programs\\python\\python38\\lib\\site-packages (from spacy) (0.4.2)\n",
      "Requirement already satisfied: thinc<8.2.0,>=8.1.0 in c:\\users\\tyler\\appdata\\local\\programs\\python\\python38\\lib\\site-packages (from spacy) (8.1.3)\n",
      "Requirement already satisfied: cymem<2.1.0,>=2.0.2 in c:\\users\\tyler\\appdata\\local\\programs\\python\\python38\\lib\\site-packages (from spacy) (2.0.6)\n",
      "Requirement already satisfied: langcodes<4.0.0,>=3.2.0 in c:\\users\\tyler\\appdata\\local\\programs\\python\\python38\\lib\\site-packages (from spacy) (3.3.0)\n",
      "Requirement already satisfied: tqdm<5.0.0,>=4.38.0 in c:\\users\\tyler\\appdata\\local\\programs\\python\\python38\\lib\\site-packages (from spacy) (4.64.0)\n",
      "Requirement already satisfied: wasabi<1.1.0,>=0.9.1 in c:\\users\\tyler\\appdata\\local\\programs\\python\\python38\\lib\\site-packages (from spacy) (0.10.1)\n",
      "Requirement already satisfied: catalogue<2.1.0,>=2.0.6 in c:\\users\\tyler\\appdata\\local\\programs\\python\\python38\\lib\\site-packages (from spacy) (2.0.8)\n",
      "Requirement already satisfied: pydantic!=1.8,!=1.8.1,<1.11.0,>=1.7.4 in c:\\users\\tyler\\appdata\\local\\programs\\python\\python38\\lib\\site-packages (from spacy) (1.9.2)\n",
      "Requirement already satisfied: srsly<3.0.0,>=2.4.3 in c:\\users\\tyler\\appdata\\local\\programs\\python\\python38\\lib\\site-packages (from spacy) (2.4.4)\n",
      "Requirement already satisfied: requests<3.0.0,>=2.13.0 in c:\\users\\tyler\\appdata\\local\\programs\\python\\python38\\lib\\site-packages (from spacy) (2.28.0)\n",
      "Requirement already satisfied: murmurhash<1.1.0,>=0.28.0 in c:\\users\\tyler\\appdata\\local\\programs\\python\\python38\\lib\\site-packages (from spacy) (1.0.8)\n",
      "Requirement already satisfied: pyparsing!=3.0.5,>=2.0.2 in c:\\users\\tyler\\appdata\\local\\programs\\python\\python38\\lib\\site-packages (from packaging>=20.0->spacy) (3.0.9)\n",
      "Requirement already satisfied: typing-extensions>=3.7.4.3 in c:\\users\\tyler\\appdata\\local\\programs\\python\\python38\\lib\\site-packages (from pydantic!=1.8,!=1.8.1,<1.11.0,>=1.7.4->spacy) (4.3.0)\n",
      "Requirement already satisfied: charset-normalizer~=2.0.0 in c:\\users\\tyler\\appdata\\local\\programs\\python\\python38\\lib\\site-packages (from requests<3.0.0,>=2.13.0->spacy) (2.0.12)\n",
      "Requirement already satisfied: certifi>=2017.4.17 in c:\\users\\tyler\\appdata\\local\\programs\\python\\python38\\lib\\site-packages (from requests<3.0.0,>=2.13.0->spacy) (2022.6.15)\n",
      "Requirement already satisfied: urllib3<1.27,>=1.21.1 in c:\\users\\tyler\\appdata\\local\\programs\\python\\python38\\lib\\site-packages (from requests<3.0.0,>=2.13.0->spacy) (1.26.9)\n",
      "Requirement already satisfied: idna<4,>=2.5 in c:\\users\\tyler\\appdata\\local\\programs\\python\\python38\\lib\\site-packages (from requests<3.0.0,>=2.13.0->spacy) (3.3)\n",
      "Requirement already satisfied: confection<1.0.0,>=0.0.1 in c:\\users\\tyler\\appdata\\local\\programs\\python\\python38\\lib\\site-packages (from thinc<8.2.0,>=8.1.0->spacy) (0.0.3)\n",
      "Requirement already satisfied: blis<0.8.0,>=0.7.8 in c:\\users\\tyler\\appdata\\local\\programs\\python\\python38\\lib\\site-packages (from thinc<8.2.0,>=8.1.0->spacy) (0.7.8)\n",
      "Requirement already satisfied: colorama in c:\\users\\tyler\\appdata\\local\\programs\\python\\python38\\lib\\site-packages (from tqdm<5.0.0,>=4.38.0->spacy) (0.4.5)\n",
      "Requirement already satisfied: click<9.0.0,>=7.1.1 in c:\\users\\tyler\\appdata\\local\\programs\\python\\python38\\lib\\site-packages (from typer<0.8.0,>=0.3.0->spacy) (8.1.3)\n",
      "Requirement already satisfied: pillow>=6.2.0 in c:\\users\\tyler\\appdata\\local\\programs\\python\\python38\\lib\\site-packages (from matplotlib) (9.1.1)\n",
      "Requirement already satisfied: kiwisolver>=1.0.1 in c:\\users\\tyler\\appdata\\local\\programs\\python\\python38\\lib\\site-packages (from matplotlib) (1.4.3)\n",
      "Requirement already satisfied: fonttools>=4.22.0 in c:\\users\\tyler\\appdata\\local\\programs\\python\\python38\\lib\\site-packages (from matplotlib) (4.33.3)\n",
      "Requirement already satisfied: cycler>=0.10 in c:\\users\\tyler\\appdata\\local\\programs\\python\\python38\\lib\\site-packages (from matplotlib) (0.11.0)\n",
      "Requirement already satisfied: regex>=2021.8.3 in c:\\users\\tyler\\appdata\\local\\programs\\python\\python38\\lib\\site-packages (from nltk) (2022.6.2)\n",
      "Requirement already satisfied: MarkupSafe>=2.0 in c:\\users\\tyler\\appdata\\local\\programs\\python\\python38\\lib\\site-packages (from jinja2->pyLDAvis) (2.1.1)\n",
      "Requirement already satisfied: threadpoolctl>=2.0.0 in c:\\users\\tyler\\appdata\\local\\programs\\python\\python38\\lib\\site-packages (from scikit-learn->pyLDAvis) (3.1.0)\n"
     ]
    },
    {
     "name": "stderr",
     "output_type": "stream",
     "text": [
      "WARNING: You are using pip version 21.1.1; however, version 22.3.1 is available.\n",
      "You should consider upgrading via the 'c:\\users\\tyler\\appdata\\local\\programs\\python\\python38\\python.exe -m pip install --upgrade pip' command.\n"
     ]
    }
   ],
   "source": [
    "!pip install pyLDAvis gensim==4.2.0 spacy matplotlib numpy pandas nltk"
   ]
  },
  {
   "cell_type": "markdown",
   "metadata": {},
   "source": [
    "We need to load our pre-trained model from SpaCy before we can use it."
   ]
  },
  {
   "cell_type": "code",
   "execution_count": 2,
   "metadata": {},
   "outputs": [
    {
     "name": "stdout",
     "output_type": "stream",
     "text": [
      "Requirement already satisfied: spacy in c:\\users\\tyler\\appdata\\local\\programs\\python\\python38\\lib\\site-packages (3.4.3)\n",
      "Requirement already satisfied: download in c:\\users\\tyler\\appdata\\local\\programs\\python\\python38\\lib\\site-packages (0.3.5)\n",
      "Requirement already satisfied: en_core_web_sm in c:\\users\\tyler\\appdata\\local\\programs\\python\\python38\\lib\\site-packages (3.4.0)\n",
      "Requirement already satisfied: preshed<3.1.0,>=3.0.2 in c:\\users\\tyler\\appdata\\local\\programs\\python\\python38\\lib\\site-packages (from spacy) (3.0.7)\n",
      "Requirement already satisfied: pathy>=0.3.5 in c:\\users\\tyler\\appdata\\local\\programs\\python\\python38\\lib\\site-packages (from spacy) (0.6.2)\n",
      "Requirement already satisfied: spacy-legacy<3.1.0,>=3.0.10 in c:\\users\\tyler\\appdata\\local\\programs\\python\\python38\\lib\\site-packages (from spacy) (3.0.10)\n",
      "Requirement already satisfied: thinc<8.2.0,>=8.1.0 in c:\\users\\tyler\\appdata\\local\\programs\\python\\python38\\lib\\site-packages (from spacy) (8.1.3)\n",
      "Requirement already satisfied: numpy>=1.15.0 in c:\\users\\tyler\\appdata\\local\\programs\\python\\python38\\lib\\site-packages (from spacy) (1.23.0)\n",
      "Requirement already satisfied: pydantic!=1.8,!=1.8.1,<1.11.0,>=1.7.4 in c:\\users\\tyler\\appdata\\local\\programs\\python\\python38\\lib\\site-packages (from spacy) (1.9.2)\n",
      "Requirement already satisfied: cymem<2.1.0,>=2.0.2 in c:\\users\\tyler\\appdata\\local\\programs\\python\\python38\\lib\\site-packages (from spacy) (2.0.6)\n",
      "Requirement already satisfied: tqdm<5.0.0,>=4.38.0 in c:\\users\\tyler\\appdata\\local\\programs\\python\\python38\\lib\\site-packages (from spacy) (4.64.0)\n",
      "Requirement already satisfied: catalogue<2.1.0,>=2.0.6 in c:\\users\\tyler\\appdata\\local\\programs\\python\\python38\\lib\\site-packages (from spacy) (2.0.8)\n",
      "Requirement already satisfied: requests<3.0.0,>=2.13.0 in c:\\users\\tyler\\appdata\\local\\programs\\python\\python38\\lib\\site-packages (from spacy) (2.28.0)\n",
      "Requirement already satisfied: spacy-loggers<2.0.0,>=1.0.0 in c:\\users\\tyler\\appdata\\local\\programs\\python\\python38\\lib\\site-packages (from spacy) (1.0.3)\n",
      "Requirement already satisfied: packaging>=20.0 in c:\\users\\tyler\\appdata\\local\\programs\\python\\python38\\lib\\site-packages (from spacy) (21.3)\n",
      "Requirement already satisfied: wasabi<1.1.0,>=0.9.1 in c:\\users\\tyler\\appdata\\local\\programs\\python\\python38\\lib\\site-packages (from spacy) (0.10.1)\n",
      "Requirement already satisfied: srsly<3.0.0,>=2.4.3 in c:\\users\\tyler\\appdata\\local\\programs\\python\\python38\\lib\\site-packages (from spacy) (2.4.4)\n",
      "Requirement already satisfied: typer<0.8.0,>=0.3.0 in c:\\users\\tyler\\appdata\\local\\programs\\python\\python38\\lib\\site-packages (from spacy) (0.4.2)\n",
      "Requirement already satisfied: jinja2 in c:\\users\\tyler\\appdata\\local\\programs\\python\\python38\\lib\\site-packages (from spacy) (3.1.2)\n",
      "Requirement already satisfied: murmurhash<1.1.0,>=0.28.0 in c:\\users\\tyler\\appdata\\local\\programs\\python\\python38\\lib\\site-packages (from spacy) (1.0.8)\n",
      "Requirement already satisfied: langcodes<4.0.0,>=3.2.0 in c:\\users\\tyler\\appdata\\local\\programs\\python\\python38\\lib\\site-packages (from spacy) (3.3.0)\n",
      "Requirement already satisfied: setuptools in c:\\users\\tyler\\appdata\\local\\programs\\python\\python38\\lib\\site-packages (from spacy) (56.0.0)\n",
      "Requirement already satisfied: pyparsing!=3.0.5,>=2.0.2 in c:\\users\\tyler\\appdata\\local\\programs\\python\\python38\\lib\\site-packages (from packaging>=20.0->spacy) (3.0.9)\n",
      "Requirement already satisfied: smart-open<6.0.0,>=5.2.1 in c:\\users\\tyler\\appdata\\local\\programs\\python\\python38\\lib\\site-packages (from pathy>=0.3.5->spacy) (5.2.1)\n",
      "Requirement already satisfied: typing-extensions>=3.7.4.3 in c:\\users\\tyler\\appdata\\local\\programs\\python\\python38\\lib\\site-packages (from pydantic!=1.8,!=1.8.1,<1.11.0,>=1.7.4->spacy) (4.3.0)\n",
      "Requirement already satisfied: certifi>=2017.4.17 in c:\\users\\tyler\\appdata\\local\\programs\\python\\python38\\lib\\site-packages (from requests<3.0.0,>=2.13.0->spacy) (2022.6.15)\n",
      "Requirement already satisfied: charset-normalizer~=2.0.0 in c:\\users\\tyler\\appdata\\local\\programs\\python\\python38\\lib\\site-packages (from requests<3.0.0,>=2.13.0->spacy) (2.0.12)\n",
      "Requirement already satisfied: urllib3<1.27,>=1.21.1 in c:\\users\\tyler\\appdata\\local\\programs\\python\\python38\\lib\\site-packages (from requests<3.0.0,>=2.13.0->spacy) (1.26.9)\n",
      "Requirement already satisfied: idna<4,>=2.5 in c:\\users\\tyler\\appdata\\local\\programs\\python\\python38\\lib\\site-packages (from requests<3.0.0,>=2.13.0->spacy) (3.3)\n",
      "Requirement already satisfied: confection<1.0.0,>=0.0.1 in c:\\users\\tyler\\appdata\\local\\programs\\python\\python38\\lib\\site-packages (from thinc<8.2.0,>=8.1.0->spacy) (0.0.3)\n",
      "Requirement already satisfied: blis<0.8.0,>=0.7.8 in c:\\users\\tyler\\appdata\\local\\programs\\python\\python38\\lib\\site-packages (from thinc<8.2.0,>=8.1.0->spacy) (0.7.8)\n",
      "Requirement already satisfied: colorama in c:\\users\\tyler\\appdata\\local\\programs\\python\\python38\\lib\\site-packages (from tqdm<5.0.0,>=4.38.0->spacy) (0.4.5)\n",
      "Requirement already satisfied: click<9.0.0,>=7.1.1 in c:\\users\\tyler\\appdata\\local\\programs\\python\\python38\\lib\\site-packages (from typer<0.8.0,>=0.3.0->spacy) (8.1.3)\n",
      "Requirement already satisfied: six in c:\\users\\tyler\\appdata\\local\\programs\\python\\python38\\lib\\site-packages (from download) (1.16.0)\n",
      "Requirement already satisfied: MarkupSafe>=2.0 in c:\\users\\tyler\\appdata\\local\\programs\\python\\python38\\lib\\site-packages (from jinja2->spacy) (2.1.1)\n"
     ]
    },
    {
     "name": "stderr",
     "output_type": "stream",
     "text": [
      "WARNING: You are using pip version 21.1.1; however, version 22.3.1 is available.\n",
      "You should consider upgrading via the 'c:\\users\\tyler\\appdata\\local\\programs\\python\\python38\\python.exe -m pip install --upgrade pip' command.\n"
     ]
    }
   ],
   "source": [
    "!pip install -U spacy download en_core_web_sm"
   ]
  },
  {
   "cell_type": "markdown",
   "metadata": {},
   "source": [
    "Lets load in the package [nb_black](https://github.com/dnanhkhoa/nb_black) to auto-format our code as we go. Formatting code is useful as it easier to collaborate and interpret what we write."
   ]
  },
  {
   "cell_type": "code",
   "execution_count": 3,
   "metadata": {},
   "outputs": [
    {
     "data": {
      "application/javascript": "\n            setTimeout(function() {\n                var nbb_cell_id = 3;\n                var nbb_unformatted_code = \"# Package for ensuring code we write is formatted nicely (see: https://github.com/dnanhkhoa/nb_black)\\n%load_ext nb_black\";\n                var nbb_formatted_code = \"# Package for ensuring code we write is formatted nicely (see: https://github.com/dnanhkhoa/nb_black)\\n%load_ext nb_black\";\n                var nbb_cells = Jupyter.notebook.get_cells();\n                for (var i = 0; i < nbb_cells.length; ++i) {\n                    if (nbb_cells[i].input_prompt_number == nbb_cell_id) {\n                        if (nbb_cells[i].get_text() == nbb_unformatted_code) {\n                             nbb_cells[i].set_text(nbb_formatted_code);\n                        }\n                        break;\n                    }\n                }\n            }, 500);\n            ",
      "text/plain": [
       "<IPython.core.display.Javascript object>"
      ]
     },
     "metadata": {},
     "output_type": "display_data"
    }
   ],
   "source": [
    "# Package for ensuring code we write is formatted nicely (see: https://github.com/dnanhkhoa/nb_black)\n",
    "%load_ext nb_black"
   ]
  },
  {
   "cell_type": "markdown",
   "metadata": {},
   "source": [
    "### Import Packages\n",
    "Standard packages\n",
    "- [re](https://docs.python.org/3/library/re.html) - library that we will use for performing regular expressions"
   ]
  },
  {
   "cell_type": "code",
   "execution_count": 4,
   "metadata": {
    "colab": {},
    "colab_type": "code",
    "id": "FgNh7kvdDt3k"
   },
   "outputs": [
    {
     "data": {
      "application/javascript": "\n            setTimeout(function() {\n                var nbb_cell_id = 4;\n                var nbb_unformatted_code = \"import re\\nfrom pprint import pprint\\nimport warnings\\nimport zipfile\\nimport json\\nfrom typing import List\";\n                var nbb_formatted_code = \"import re\\nfrom pprint import pprint\\nimport warnings\\nimport zipfile\\nimport json\\nfrom typing import List\";\n                var nbb_cells = Jupyter.notebook.get_cells();\n                for (var i = 0; i < nbb_cells.length; ++i) {\n                    if (nbb_cells[i].input_prompt_number == nbb_cell_id) {\n                        if (nbb_cells[i].get_text() == nbb_unformatted_code) {\n                             nbb_cells[i].set_text(nbb_formatted_code);\n                        }\n                        break;\n                    }\n                }\n            }, 500);\n            ",
      "text/plain": [
       "<IPython.core.display.Javascript object>"
      ]
     },
     "metadata": {},
     "output_type": "display_data"
    }
   ],
   "source": [
    "import re\n",
    "from pprint import pprint\n",
    "import warnings\n",
    "import zipfile\n",
    "import json\n",
    "from typing import List"
   ]
  },
  {
   "cell_type": "markdown",
   "metadata": {},
   "source": [
    "Third party packages\n",
    "\n",
    "- [numpy](https://numpy.org/) - library that we will use for helping visualise results\n",
    "- [pandas](https://pandas.pydata.org/) - library that we will use to help handling our corpus\n",
    "- [gensim](https://radimrehurek.com/gensim/) - library that we will use to perform topic modelling\n",
    "- [spacy](https://spacy.io/) - library that we will use to perform lemmatization\n",
    "- [nltk](https://www.nltk.org/) - library that we will use to pre-process our corpus\n",
    "- [pyLDAvis](https://pyldavis.readthedocs.io/en/latest/readme.html) - library that we will use to interactively visualise results"
   ]
  },
  {
   "cell_type": "code",
   "execution_count": 5,
   "metadata": {},
   "outputs": [
    {
     "name": "stderr",
     "output_type": "stream",
     "text": [
      "c:\\Users\\Tyler\\AppData\\Local\\Programs\\Python\\Python38\\lib\\site-packages\\past\\builtins\\misc.py:45: DeprecationWarning: the imp module is deprecated in favour of importlib; see the module's documentation for alternative uses\n",
      "  from imp import reload\n"
     ]
    },
    {
     "data": {
      "application/javascript": "\n            setTimeout(function() {\n                var nbb_cell_id = 5;\n                var nbb_unformatted_code = \"import nltk\\nfrom nltk.corpus import stopwords\\nimport gensim\\nimport gensim.corpora as corpora\\nfrom gensim.utils import simple_preprocess\\nfrom gensim.models import CoherenceModel\\nimport spacy\\n\\nimport pyLDAvis\\nimport pyLDAvis.gensim_models as gensimvis\";\n                var nbb_formatted_code = \"import nltk\\nfrom nltk.corpus import stopwords\\nimport gensim\\nimport gensim.corpora as corpora\\nfrom gensim.utils import simple_preprocess\\nfrom gensim.models import CoherenceModel\\nimport spacy\\n\\nimport pyLDAvis\\nimport pyLDAvis.gensim_models as gensimvis\";\n                var nbb_cells = Jupyter.notebook.get_cells();\n                for (var i = 0; i < nbb_cells.length; ++i) {\n                    if (nbb_cells[i].input_prompt_number == nbb_cell_id) {\n                        if (nbb_cells[i].get_text() == nbb_unformatted_code) {\n                             nbb_cells[i].set_text(nbb_formatted_code);\n                        }\n                        break;\n                    }\n                }\n            }, 500);\n            ",
      "text/plain": [
       "<IPython.core.display.Javascript object>"
      ]
     },
     "metadata": {},
     "output_type": "display_data"
    }
   ],
   "source": [
    "import nltk\n",
    "from nltk.corpus import stopwords\n",
    "import gensim\n",
    "import gensim.corpora as corpora\n",
    "from gensim.utils import simple_preprocess\n",
    "from gensim.models import CoherenceModel\n",
    "import spacy\n",
    "\n",
    "import pyLDAvis\n",
    "import pyLDAvis.gensim_models as gensimvis"
   ]
  },
  {
   "cell_type": "markdown",
   "metadata": {},
   "source": [
    "### Set-up notebook environment and helper functions"
   ]
  },
  {
   "cell_type": "code",
   "execution_count": 6,
   "metadata": {},
   "outputs": [
    {
     "data": {
      "text/plain": [
       "True"
      ]
     },
     "execution_count": 6,
     "metadata": {},
     "output_type": "execute_result"
    },
    {
     "data": {
      "application/javascript": "\n            setTimeout(function() {\n                var nbb_cell_id = 6;\n                var nbb_unformatted_code = \"# Download NLTK stopwords\\nnltk.download('stopwords', quiet=True)\";\n                var nbb_formatted_code = \"# Download NLTK stopwords\\nnltk.download(\\\"stopwords\\\", quiet=True)\";\n                var nbb_cells = Jupyter.notebook.get_cells();\n                for (var i = 0; i < nbb_cells.length; ++i) {\n                    if (nbb_cells[i].input_prompt_number == nbb_cell_id) {\n                        if (nbb_cells[i].get_text() == nbb_unformatted_code) {\n                             nbb_cells[i].set_text(nbb_formatted_code);\n                        }\n                        break;\n                    }\n                }\n            }, 500);\n            ",
      "text/plain": [
       "<IPython.core.display.Javascript object>"
      ]
     },
     "metadata": {},
     "output_type": "display_data"
    }
   ],
   "source": [
    "# Download NLTK stopwords\n",
    "nltk.download('stopwords', quiet=True)"
   ]
  },
  {
   "cell_type": "code",
   "execution_count": 7,
   "metadata": {},
   "outputs": [
    {
     "data": {
      "application/javascript": "\n            setTimeout(function() {\n                var nbb_cell_id = 7;\n                var nbb_unformatted_code = \"%matplotlib inline\\nwarnings.filterwarnings(\\\"ignore\\\",category=DeprecationWarning)\";\n                var nbb_formatted_code = \"%matplotlib inline\\nwarnings.filterwarnings(\\\"ignore\\\", category=DeprecationWarning)\";\n                var nbb_cells = Jupyter.notebook.get_cells();\n                for (var i = 0; i < nbb_cells.length; ++i) {\n                    if (nbb_cells[i].input_prompt_number == nbb_cell_id) {\n                        if (nbb_cells[i].get_text() == nbb_unformatted_code) {\n                             nbb_cells[i].set_text(nbb_formatted_code);\n                        }\n                        break;\n                    }\n                }\n            }, 500);\n            ",
      "text/plain": [
       "<IPython.core.display.Javascript object>"
      ]
     },
     "metadata": {},
     "output_type": "display_data"
    }
   ],
   "source": [
    "%matplotlib inline\n",
    "warnings.filterwarnings(\"ignore\",category=DeprecationWarning)"
   ]
  },
  {
   "cell_type": "markdown",
   "metadata": {
    "colab_type": "text",
    "id": "XnlbAvI1Dt3v"
   },
   "source": [
    "## Import the GSWA dataset <a name=\"load_corpus\"></a>"
   ]
  },
  {
   "cell_type": "markdown",
   "metadata": {},
   "source": [
    "The 20-Newsgroups dataset contains about 6k data posts from 1,135 GSWA reports. \n",
    "\n",
    "The dataset can be imported using `pandas.read_json` and we can see the dataset has 3 columns. The `target-name` is the category or topics that the news is manually assigned to. \n",
    "\n",
    "We choose to use this dataset because it has pre-assigned categories according to topics, so our clustering results can be readily compared. In real world data, this is not always easily available. "
   ]
  },
  {
   "cell_type": "code",
   "execution_count": 8,
   "metadata": {},
   "outputs": [
    {
     "data": {
      "application/javascript": "\n            setTimeout(function() {\n                var nbb_cell_id = 8;\n                var nbb_unformatted_code = \"corpus_path = r\\\"../data/wamex_xml.zip\\\"\";\n                var nbb_formatted_code = \"corpus_path = r\\\"../data/wamex_xml.zip\\\"\";\n                var nbb_cells = Jupyter.notebook.get_cells();\n                for (var i = 0; i < nbb_cells.length; ++i) {\n                    if (nbb_cells[i].input_prompt_number == nbb_cell_id) {\n                        if (nbb_cells[i].get_text() == nbb_unformatted_code) {\n                             nbb_cells[i].set_text(nbb_formatted_code);\n                        }\n                        break;\n                    }\n                }\n            }, 500);\n            ",
      "text/plain": [
       "<IPython.core.display.Javascript object>"
      ]
     },
     "metadata": {},
     "output_type": "display_data"
    }
   ],
   "source": [
    "corpus_path = r\"../data/wamex_xml.zip\""
   ]
  },
  {
   "cell_type": "code",
   "execution_count": 9,
   "metadata": {
    "colab": {
     "base_uri": "https://localhost:8080/",
     "height": 34
    },
    "colab_type": "code",
    "executionInfo": {
     "elapsed": 3100,
     "status": "ok",
     "timestamp": 1585055269331,
     "user": {
      "displayName": "Tyler Bikaun",
      "photoUrl": "",
      "userId": "18384825377619195869"
     },
     "user_tz": -480
    },
    "id": "LxhLbOgZDt3w",
    "outputId": "ec1eab80-3958-4175-c77f-401a2bd1d81f"
   },
   "outputs": [
    {
     "data": {
      "application/javascript": "\n            setTimeout(function() {\n                var nbb_cell_id = 9;\n                var nbb_unformatted_code = \"corpus = list()\\nwith zipfile.ZipFile(corpus_path, \\\"r\\\") as z:\\n    for filename in z.namelist():\\n        with z.open(filename) as f:\\n            # load the json file\\n            # The resulting `content` is a list\\n            content = json.loads(f.read()) \\n            # Convert content to a string   \\n            content = \\\"\\\".join(content)\\n            # Add to the data list\\n            corpus.append(content)\";\n                var nbb_formatted_code = \"corpus = list()\\nwith zipfile.ZipFile(corpus_path, \\\"r\\\") as z:\\n    for filename in z.namelist():\\n        with z.open(filename) as f:\\n            # load the json file\\n            # The resulting `content` is a list\\n            content = json.loads(f.read())\\n            # Convert content to a string\\n            content = \\\"\\\".join(content)\\n            # Add to the data list\\n            corpus.append(content)\";\n                var nbb_cells = Jupyter.notebook.get_cells();\n                for (var i = 0; i < nbb_cells.length; ++i) {\n                    if (nbb_cells[i].input_prompt_number == nbb_cell_id) {\n                        if (nbb_cells[i].get_text() == nbb_unformatted_code) {\n                             nbb_cells[i].set_text(nbb_formatted_code);\n                        }\n                        break;\n                    }\n                }\n            }, 500);\n            ",
      "text/plain": [
       "<IPython.core.display.Javascript object>"
      ]
     },
     "metadata": {},
     "output_type": "display_data"
    }
   ],
   "source": [
    "corpus = list()\n",
    "with zipfile.ZipFile(corpus_path, \"r\") as z:\n",
    "    for filename in z.namelist():\n",
    "        with z.open(filename) as f:\n",
    "            # load the json file\n",
    "            # The resulting `content` is a list\n",
    "            content = json.loads(f.read()) \n",
    "            # Convert content to a string   \n",
    "            content = \"\".join(content)\n",
    "            # Add to the data list\n",
    "            corpus.append(content)"
   ]
  },
  {
   "cell_type": "code",
   "execution_count": 10,
   "metadata": {
    "colab": {
     "base_uri": "https://localhost:8080/",
     "height": 1000
    },
    "colab_type": "code",
    "executionInfo": {
     "elapsed": 1051,
     "status": "ok",
     "timestamp": 1585055269332,
     "user": {
      "displayName": "Tyler Bikaun",
      "photoUrl": "",
      "userId": "18384825377619195869"
     },
     "user_tz": -480
    },
    "id": "tbH1YzboEla8",
    "outputId": "5a26846d-d56d-4518-a827-6153eaac9ba5",
    "scrolled": true
   },
   "outputs": [
    {
     "name": "stdout",
     "output_type": "stream",
     "text": [
      "['Combined Reporting Application Pending Status: Sheet 1:250 000: Kalgoorlie '\n",
      " '(SH 51-09) Sheet 1:100 000: Kalgoorlie (3136) Project Operator: Cazaly '\n",
      " 'Resources Limited Author: M Watts Date: September 2006 Distribution: '\n",
      " '1.Department of Industry and Resources 2.Cazaly Resources Limited Cazaly '\n",
      " 'Resources Limited September 2006 2 Figure 2: Castle Hill Project Tenement '\n",
      " 'Location Plan, 1: 75 000 scale 6 Figure 3: Regional Geology with Exploration '\n",
      " 'Index Map, 1:75 000 scale 8Cazaly Resources Limited September 2006 3 1.0 '\n",
      " 'SUMMARY The Combined Mineral Exploration Report on the Castle Hill Project '\n",
      " 'details exploration activities undertaken by Cazaly Resources Limited during '\n",
      " 'the reporting period from 7 July 2005 to 6 July 2006.The reporting group '\n",
      " 'known as Castle Hill comprises nine granted prospecting licences.The project '\n",
      " 'area covers some 1250 hectares.Cazaly is the registered holder of the Castle '\n",
      " 'Hill Project tenements.Cazalys exploration activities during the reporting '\n",
      " 'period have been directed towards the acquisition of available reports and '\n",
      " 'datasets relating to previous exploration activities within the project area '\n",
      " 'and assessing the gold and nickel potential of the project area.Following '\n",
      " 'the data review, the Castle Hill Project was not rated as highly as other '\n",
      " 'nearby Project areas managed by Cazaly.2.0 INTRODUCTION The Combined Mineral '\n",
      " 'Exploration Report on the Castle Hill Project details exploration work '\n",
      " 'undertaken by Cazaly Resources Limited (Cazaly) during the reporting period '\n",
      " 'from 7 July 2005 to 6 July 2006.The Castle Hill Project area is located 45km '\n",
      " 'WNW of Kalgoorlie (Figure 1) and lies within the Kunanalling District of the '\n",
      " 'Coolgardie Mineral Field on the Kalgoorlie (3136) 1:100,000 and the '\n",
      " 'Kalgoorlie (SH51-09) 1:250,000 map sheets.3.0 TENURE The reporting group '\n",
      " 'known as Castle Hill comprises nine granted prospecting licences.The project '\n",
      " 'area covers some 1250 hectares.Refer to Table 1 and Figure 2 for further '\n",
      " 'details.Cazaly is the registered holder of the Castle Hill Project tenements '\n",
      " 'An application for the combined reporting of these tenements to be added to '\n",
      " 'Combined Reporting Group C 99/1994 has been lodged.Cazaly Resources Limited '\n",
      " 'September 2006 7 4.0 GEOLOGY 4.1 Regional Geology The Castle Hill project '\n",
      " 'area lies within the Norseman Wiluna Archaean Greenstone belt in the Eastern '\n",
      " 'Goldfields province of the Yilgarn Craton.The Belt is characterised by '\n",
      " 'thick, possibly rift controlled, sequences of ultramafic, mafic, felsic '\n",
      " 'volcanic, clastic and intrusive rocks.Greenstone successions of the southern '\n",
      " 'Eastern Goldfields have been segregated into elongate structural terranes '\n",
      " 'bounded by regional NNW-trending D2 faults (Swager, 1997).The lower parts of '\n",
      " 'the supracrustal successions are characterised by submarine mafic ultramafic '\n",
      " 'rocks with thin interflow sediments.These are overlain by mostly subaqueous '\n",
      " 'felsic volcaniclastics.In the Kalgoorlie Terrane, this stratigraphic '\n",
      " 'sequence is extremely consistent, with felsic volcanism generally '\n",
      " 'post-dating mafic/ultramafic volcanism.Felsic volcanism is observed to occur '\n",
      " 'in both the upper and lower parts of the succession.Coarse clastics to '\n",
      " 'conglomeratic sequences (i.e.Kurrawang Formation) unconformably overly, or '\n",
      " 'are in faultcontact with, greenstones in synclinal basins adjacent to, or '\n",
      " 'overlying major regional faults (Swager, 1997).4.2 Local Geology The '\n",
      " 'majority of the Project area is underlain by the post-D2, high-calcic, Bali '\n",
      " 'Monzogranite which lies immediately to the west of the Coolgardie Domain, a '\n",
      " 'sub-domain of the Kalgoorlie Terrane.The northern tenements are situated to '\n",
      " 'the north of the Kintore Tonalite and are underlain by mafic and ultramafic '\n",
      " 'rocks of the Coolgardie Domain.4.3 Structural Geology Several major '\n",
      " 'structures traverse sections of the Project area, Figure 3.The '\n",
      " 'north-northwest trending (D2) Kunanalling Shear Zone (KSZ) lies along the '\n",
      " 'mafic/ultramafic contact zone within tenement P 16/2266.The late (D4) '\n",
      " 'north-northeast trending dextral Grants Patch fault cuts the Coolgardie '\n",
      " 'Domain sequence and all other structures and extends into the adjacent Bali '\n",
      " 'Monzogranite.Tenement P 16/2265 also overlies part of the Kintore Anticline '\n",
      " 'axis.Cazaly Resources Limited September 2006 9 5.0 EXPLORATION ACTIVITIES '\n",
      " 'Cazalys exploration activities during the reporting period have been '\n",
      " 'directed towards the acquisition of available reports and datasets relating '\n",
      " 'to previous exploration activities within the project area and assessing the '\n",
      " 'gold and nickel potential of the project area.5.1 Project Review Following a '\n",
      " 'field inspection of the whole Project area, all available data on the '\n",
      " 'project was reviewed in-house in conjunction with other data pertaining to '\n",
      " 'the nearby Kunanalling Shear Zone.Targets and tenements were then rated on '\n",
      " 'their potential to host an economic gold deposit and classified '\n",
      " 'accordingly.This information will be utilized when considering future '\n",
      " 'exploration programs across the tenement group.5.2 Nickel Review The Castle '\n",
      " 'Hill Project was included in the Cazaly - Consolidated Minerals Limited '\n",
      " '(Consmin) Joint Venture which explored the Kunanalling region for nickel '\n",
      " 'mineralisation.The nickel potential of the Castle Hill Project area '\n",
      " 'tenements was reviewed during October and November of the reporting year.The '\n",
      " 'initial review highlighted anomalies coincident with Ni/Cr x Cu/Zn ratios '\n",
      " 'along the basalt/ultramafic contact immediately to the east of P '\n",
      " '16/2255.This area was subsequently RAB drilled by Consmin.6.0 CONCLUSION '\n",
      " 'Cazalys exploration activities during the reporting period have been '\n",
      " 'directed towards the acquisition of available reports and datasets relating '\n",
      " 'to previous exploration activities within the project area and assessing the '\n",
      " 'gold and nickel potential of the project area.Following the data review, the '\n",
      " 'Castle Hill Project was not rated as highly as other nearby Project areas '\n",
      " 'managed by Cazaly.(1997), Structural evolution of greenstone terranes in the '\n",
      " 'southern Eastern Goldfields, Western Australia, in Cassidy, C.F, Whitaker, '\n",
      " 'A.J., and Liu, S.F.']\n"
     ]
    },
    {
     "data": {
      "application/javascript": "\n            setTimeout(function() {\n                var nbb_cell_id = 10;\n                var nbb_unformatted_code = \"pprint(corpus[:1])\";\n                var nbb_formatted_code = \"pprint(corpus[:1])\";\n                var nbb_cells = Jupyter.notebook.get_cells();\n                for (var i = 0; i < nbb_cells.length; ++i) {\n                    if (nbb_cells[i].input_prompt_number == nbb_cell_id) {\n                        if (nbb_cells[i].get_text() == nbb_unformatted_code) {\n                             nbb_cells[i].set_text(nbb_formatted_code);\n                        }\n                        break;\n                    }\n                }\n            }, 500);\n            ",
      "text/plain": [
       "<IPython.core.display.Javascript object>"
      ]
     },
     "metadata": {},
     "output_type": "display_data"
    }
   ],
   "source": [
    "pprint(corpus[:1])"
   ]
  },
  {
   "cell_type": "markdown",
   "metadata": {
    "colab_type": "text",
    "id": "YCpmfWmvDt3z"
   },
   "source": [
    "## Pre-processing <a name=\"preprocessing\"></a>"
   ]
  },
  {
   "cell_type": "markdown",
   "metadata": {},
   "source": [
    "Before performing topic modelling, we need to pre-process our corpus. Here we will remove unnecessary information using regular expressions via `re`."
   ]
  },
  {
   "cell_type": "code",
   "execution_count": 11,
   "metadata": {},
   "outputs": [
    {
     "data": {
      "application/javascript": "\n            setTimeout(function() {\n                var nbb_cell_id = 11;\n                var nbb_unformatted_code = \"# Create set of English stopwords and include domain-specific words \\nstop_words = stopwords.words('english')\\nstop_words.extend(['from', 'subject', 're', 'edu', 'use'])\";\n                var nbb_formatted_code = \"# Create set of English stopwords and include domain-specific words\\nstop_words = stopwords.words(\\\"english\\\")\\nstop_words.extend([\\\"from\\\", \\\"subject\\\", \\\"re\\\", \\\"edu\\\", \\\"use\\\"])\";\n                var nbb_cells = Jupyter.notebook.get_cells();\n                for (var i = 0; i < nbb_cells.length; ++i) {\n                    if (nbb_cells[i].input_prompt_number == nbb_cell_id) {\n                        if (nbb_cells[i].get_text() == nbb_unformatted_code) {\n                             nbb_cells[i].set_text(nbb_formatted_code);\n                        }\n                        break;\n                    }\n                }\n            }, 500);\n            ",
      "text/plain": [
       "<IPython.core.display.Javascript object>"
      ]
     },
     "metadata": {},
     "output_type": "display_data"
    }
   ],
   "source": [
    "# Create set of English stopwords and include domain-specific words \n",
    "stop_words = stopwords.words('english')\n",
    "stop_words.extend(['from', 'subject', 're', 'edu', 'use'])"
   ]
  },
  {
   "cell_type": "markdown",
   "metadata": {},
   "source": [
    "#Initialize spacy 'en' model, keeping only tagger component (for efficiency)"
   ]
  },
  {
   "cell_type": "code",
   "execution_count": null,
   "metadata": {},
   "outputs": [],
   "source": [
    "from spacy.cli import download\n",
    "download(\"en_core_web_sm\")"
   ]
  },
  {
   "cell_type": "code",
   "execution_count": 12,
   "metadata": {},
   "outputs": [
    {
     "data": {
      "application/javascript": "\n            setTimeout(function() {\n                var nbb_cell_id = 12;\n                var nbb_unformatted_code = \"# Initialize spacy 'en' model, keeping only tagger component (for efficiency)\\n# If an issue occurs here it's because en_core_web_sm needs to be installed\\n# Use: !pip install -U spacy download en_core_web_sm\\nnlp = spacy.load('en_core_web_sm', disable=['parser', 'ner'])\";\n                var nbb_formatted_code = \"# Initialize spacy 'en' model, keeping only tagger component (for efficiency)\\n# If an issue occurs here it's because en_core_web_sm needs to be installed\\n# Use: !pip install -U spacy download en_core_web_sm\\nnlp = spacy.load(\\\"en_core_web_sm\\\", disable=[\\\"parser\\\", \\\"ner\\\"])\";\n                var nbb_cells = Jupyter.notebook.get_cells();\n                for (var i = 0; i < nbb_cells.length; ++i) {\n                    if (nbb_cells[i].input_prompt_number == nbb_cell_id) {\n                        if (nbb_cells[i].get_text() == nbb_unformatted_code) {\n                             nbb_cells[i].set_text(nbb_formatted_code);\n                        }\n                        break;\n                    }\n                }\n            }, 500);\n            ",
      "text/plain": [
       "<IPython.core.display.Javascript object>"
      ]
     },
     "metadata": {},
     "output_type": "display_data"
    }
   ],
   "source": [
    "nlp = spacy.load('en_core_web_sm', disable=['parser', 'ner'])"
   ]
  },
  {
   "cell_type": "code",
   "execution_count": 13,
   "metadata": {},
   "outputs": [
    {
     "data": {
      "application/javascript": "\n            setTimeout(function() {\n                var nbb_cell_id = 13;\n                var nbb_unformatted_code = \"def lemmatize_doc(tokenized_doc: List[str], allowed_postags:list=['NOUN', 'ADJ', 'VERB', 'ADV']) -> List[str]:\\n    '''Document lemmatization using SpaCy\\n        \\n        Ref:\\n        - https://spacy.io/api/annotation\\n    '''\\n    \\n    spacy_doc = nlp(\\\" \\\".join(tokenized_doc))\\n    doc_out = []\\n    for token in spacy_doc:\\n        if token.pos_ in allowed_postags:\\n            doc_out.append(token.lemma_)\\n        else:\\n            doc_out.append(token.text)\\n    return doc_out\";\n                var nbb_formatted_code = \"def lemmatize_doc(\\n    tokenized_doc: List[str], allowed_postags: list = [\\\"NOUN\\\", \\\"ADJ\\\", \\\"VERB\\\", \\\"ADV\\\"]\\n) -> List[str]:\\n    \\\"\\\"\\\"Document lemmatization using SpaCy\\n\\n    Ref:\\n    - https://spacy.io/api/annotation\\n    \\\"\\\"\\\"\\n\\n    spacy_doc = nlp(\\\" \\\".join(tokenized_doc))\\n    doc_out = []\\n    for token in spacy_doc:\\n        if token.pos_ in allowed_postags:\\n            doc_out.append(token.lemma_)\\n        else:\\n            doc_out.append(token.text)\\n    return doc_out\";\n                var nbb_cells = Jupyter.notebook.get_cells();\n                for (var i = 0; i < nbb_cells.length; ++i) {\n                    if (nbb_cells[i].input_prompt_number == nbb_cell_id) {\n                        if (nbb_cells[i].get_text() == nbb_unformatted_code) {\n                             nbb_cells[i].set_text(nbb_formatted_code);\n                        }\n                        break;\n                    }\n                }\n            }, 500);\n            ",
      "text/plain": [
       "<IPython.core.display.Javascript object>"
      ]
     },
     "metadata": {},
     "output_type": "display_data"
    }
   ],
   "source": [
    "def lemmatize_doc(tokenized_doc: List[str], allowed_postags:list=['NOUN', 'ADJ', 'VERB', 'ADV']) -> List[str]:\n",
    "    '''Document lemmatization using SpaCy\n",
    "        \n",
    "        Ref:\n",
    "        - https://spacy.io/api/annotation\n",
    "    '''\n",
    "    \n",
    "    spacy_doc = nlp(\" \".join(tokenized_doc))\n",
    "    doc_out = []\n",
    "    for token in spacy_doc:\n",
    "        if token.pos_ in allowed_postags:\n",
    "            doc_out.append(token.lemma_)\n",
    "        else:\n",
    "            doc_out.append(token.text)\n",
    "    return doc_out"
   ]
  },
  {
   "cell_type": "code",
   "execution_count": 14,
   "metadata": {},
   "outputs": [
    {
     "data": {
      "application/javascript": "\n            setTimeout(function() {\n                var nbb_cell_id = 14;\n                var nbb_unformatted_code = \"def preprocess_and_tokenize_corpus(corpus: List[str],\\n                      stopwords: List[str],\\n                      allowed_postags:list=['NOUN', 'ADJ', 'VERB', 'ADV']) -> List[List[str]]:\\n    '''\\n    Preprocesses a corpus of texts. \\n    '''\\n    \\n    preprocessed_corpus = []\\n    for doc in corpus:\\n        if len(\\\" \\\".join(doc))==0 or len(\\\" \\\".join(doc))>1000000:\\n            pass\\n        else:\\n            # Remove Figure No.'s\\n            doc = re.sub('Figure\\\\s+\\\\d+', '', doc)\\n            # Remove all numbers\\n            doc = re.sub('\\\\d+', '', doc)\\n            # Remove new line characters\\n            doc = re.sub('\\\\s+', ' ', doc)\\n            # Remove distracting single quotes\\n            doc = re.sub(\\\"\\\\'\\\", '', doc)\\n            # Run Gensim's simple_preprocesser - this tokenizes the document\\n            doc = simple_preprocess(str(doc), deacc=True)\\n            # Remove stopwords\\n            doc = [word for word in doc if word not in stopwords]\\n            # Lemmatize\\n            doc = lemmatize_doc(doc)\\n            \\n            preprocessed_corpus.append(doc)\\n    return preprocessed_corpus\";\n                var nbb_formatted_code = \"def preprocess_and_tokenize_corpus(\\n    corpus: List[str],\\n    stopwords: List[str],\\n    allowed_postags: list = [\\\"NOUN\\\", \\\"ADJ\\\", \\\"VERB\\\", \\\"ADV\\\"],\\n) -> List[List[str]]:\\n    \\\"\\\"\\\"\\n    Preprocesses a corpus of texts.\\n    \\\"\\\"\\\"\\n\\n    preprocessed_corpus = []\\n    for doc in corpus:\\n        if len(\\\" \\\".join(doc)) == 0 or len(\\\" \\\".join(doc)) > 1000000:\\n            pass\\n        else:\\n            # Remove Figure No.'s\\n            doc = re.sub(\\\"Figure\\\\s+\\\\d+\\\", \\\"\\\", doc)\\n            # Remove all numbers\\n            doc = re.sub(\\\"\\\\d+\\\", \\\"\\\", doc)\\n            # Remove new line characters\\n            doc = re.sub(\\\"\\\\s+\\\", \\\" \\\", doc)\\n            # Remove distracting single quotes\\n            doc = re.sub(\\\"'\\\", \\\"\\\", doc)\\n            # Run Gensim's simple_preprocesser - this tokenizes the document\\n            doc = simple_preprocess(str(doc), deacc=True)\\n            # Remove stopwords\\n            doc = [word for word in doc if word not in stopwords]\\n            # Lemmatize\\n            doc = lemmatize_doc(doc)\\n\\n            preprocessed_corpus.append(doc)\\n    return preprocessed_corpus\";\n                var nbb_cells = Jupyter.notebook.get_cells();\n                for (var i = 0; i < nbb_cells.length; ++i) {\n                    if (nbb_cells[i].input_prompt_number == nbb_cell_id) {\n                        if (nbb_cells[i].get_text() == nbb_unformatted_code) {\n                             nbb_cells[i].set_text(nbb_formatted_code);\n                        }\n                        break;\n                    }\n                }\n            }, 500);\n            ",
      "text/plain": [
       "<IPython.core.display.Javascript object>"
      ]
     },
     "metadata": {},
     "output_type": "display_data"
    }
   ],
   "source": [
    "def preprocess_and_tokenize_corpus(corpus: List[str],\n",
    "                      stopwords: List[str],\n",
    "                      allowed_postags:list=['NOUN', 'ADJ', 'VERB', 'ADV']) -> List[List[str]]:\n",
    "    '''\n",
    "    Preprocesses a corpus of texts. \n",
    "    '''\n",
    "    \n",
    "    preprocessed_corpus = []\n",
    "    for doc in corpus:\n",
    "        if len(\" \".join(doc))==0 or len(\" \".join(doc))>1000000:\n",
    "            pass\n",
    "        else:\n",
    "            # Remove Figure No.'s\n",
    "            doc = re.sub('Figure\\s+\\d+', '', doc)\n",
    "            # Remove all numbers\n",
    "            doc = re.sub('\\d+', '', doc)\n",
    "            # Remove new line characters\n",
    "            doc = re.sub('\\s+', ' ', doc)\n",
    "            # Remove distracting single quotes\n",
    "            doc = re.sub(\"\\'\", '', doc)\n",
    "            # Run Gensim's simple_preprocesser - this tokenizes the document\n",
    "            doc = simple_preprocess(str(doc), deacc=True)\n",
    "            # Remove stopwords\n",
    "            doc = [word for word in doc if word not in stopwords]\n",
    "            # Lemmatize\n",
    "            doc = lemmatize_doc(doc)\n",
    "            \n",
    "            preprocessed_corpus.append(doc)\n",
    "    return preprocessed_corpus"
   ]
  },
  {
   "cell_type": "code",
   "execution_count": 15,
   "metadata": {
    "scrolled": true
   },
   "outputs": [
    {
     "data": {
      "application/javascript": "\n            setTimeout(function() {\n                var nbb_cell_id = 15;\n                var nbb_unformatted_code = \"# Pre-process and tokenize corpus\\ntokenized_corpus = preprocess_and_tokenize_corpus(corpus=corpus, stopwords=stop_words)\";\n                var nbb_formatted_code = \"# Pre-process and tokenize corpus\\ntokenized_corpus = preprocess_and_tokenize_corpus(corpus=corpus, stopwords=stop_words)\";\n                var nbb_cells = Jupyter.notebook.get_cells();\n                for (var i = 0; i < nbb_cells.length; ++i) {\n                    if (nbb_cells[i].input_prompt_number == nbb_cell_id) {\n                        if (nbb_cells[i].get_text() == nbb_unformatted_code) {\n                             nbb_cells[i].set_text(nbb_formatted_code);\n                        }\n                        break;\n                    }\n                }\n            }, 500);\n            ",
      "text/plain": [
       "<IPython.core.display.Javascript object>"
      ]
     },
     "metadata": {},
     "output_type": "display_data"
    }
   ],
   "source": [
    "# Pre-process and tokenize corpus\n",
    "tokenized_corpus = preprocess_and_tokenize_corpus(corpus=corpus, stopwords=stop_words)"
   ]
  },
  {
   "cell_type": "code",
   "execution_count": 16,
   "metadata": {},
   "outputs": [
    {
     "name": "stdout",
     "output_type": "stream",
     "text": [
      "[['combine',\n",
      "  'reporting',\n",
      "  'application',\n",
      "  'pende',\n",
      "  'status',\n",
      "  'sheet',\n",
      "  'kalgoorlie',\n",
      "  'sh',\n",
      "  'sheet',\n",
      "  'kalgoorlie',\n",
      "  'project',\n",
      "  'operator',\n",
      "  'cazaly',\n",
      "  'resources',\n",
      "  'limited',\n",
      "  'author',\n",
      "  'watts',\n",
      "  'date',\n",
      "  'september',\n",
      "  'distribution',\n",
      "  'department',\n",
      "  'industry',\n",
      "  'resource',\n",
      "  'cazaly',\n",
      "  'resources',\n",
      "  'limited',\n",
      "  'cazaly',\n",
      "  'resource',\n",
      "  'limit',\n",
      "  'september',\n",
      "  'castle',\n",
      "  'hill',\n",
      "  'project',\n",
      "  'tenement',\n",
      "  'location',\n",
      "  'plan',\n",
      "  'scale',\n",
      "  'regional',\n",
      "  'geology',\n",
      "  'exploration',\n",
      "  'index',\n",
      "  'map',\n",
      "  'scale',\n",
      "  'cazaly',\n",
      "  'resource',\n",
      "  'limit',\n",
      "  'september',\n",
      "  'summary',\n",
      "  'combine',\n",
      "  'mineral',\n",
      "  'exploration',\n",
      "  'report',\n",
      "  'castle',\n",
      "  'hill',\n",
      "  'project',\n",
      "  'detail',\n",
      "  'exploration',\n",
      "  'activity',\n",
      "  'undertake',\n",
      "  'cazaly',\n",
      "  'resources',\n",
      "  'limited',\n",
      "  'reporting',\n",
      "  'period',\n",
      "  'july',\n",
      "  'july',\n",
      "  'report',\n",
      "  'group',\n",
      "  'know',\n",
      "  'castle',\n",
      "  'hill',\n",
      "  'comprise',\n",
      "  'nine',\n",
      "  'grant',\n",
      "  'prospect',\n",
      "  'licence',\n",
      "  'project',\n",
      "  'area',\n",
      "  'cover',\n",
      "  'hectare',\n",
      "  'cazaly',\n",
      "  'register',\n",
      "  'holder',\n",
      "  'castle',\n",
      "  'hill',\n",
      "  'project',\n",
      "  'tenement',\n",
      "  'cazalys',\n",
      "  'exploration',\n",
      "  'activity',\n",
      "  'report',\n",
      "  'period',\n",
      "  'direct',\n",
      "  'towards',\n",
      "  'acquisition',\n",
      "  'available',\n",
      "  'report',\n",
      "  'dataset',\n",
      "  'relate',\n",
      "  'previous',\n",
      "  'exploration',\n",
      "  'activity',\n",
      "  'within',\n",
      "  'project',\n",
      "  'area',\n",
      "  'assess',\n",
      "  'gold',\n",
      "  'nickel',\n",
      "  'potential',\n",
      "  'project',\n",
      "  'area',\n",
      "  'follow',\n",
      "  'data',\n",
      "  'review',\n",
      "  'castle',\n",
      "  'hill',\n",
      "  'project',\n",
      "  'rate',\n",
      "  'highly',\n",
      "  'nearby',\n",
      "  'project',\n",
      "  'area',\n",
      "  'manage',\n",
      "  'cazaly',\n",
      "  'introduction',\n",
      "  'combine',\n",
      "  'mineral',\n",
      "  'exploration',\n",
      "  'report',\n",
      "  'castle',\n",
      "  'hill',\n",
      "  'project',\n",
      "  'detail',\n",
      "  'exploration',\n",
      "  'work',\n",
      "  'undertake',\n",
      "  'cazaly',\n",
      "  'resources',\n",
      "  'limited',\n",
      "  'cazaly',\n",
      "  'reporting',\n",
      "  'period',\n",
      "  'july',\n",
      "  'july',\n",
      "  'castle',\n",
      "  'hill',\n",
      "  'project',\n",
      "  'area',\n",
      "  'locate',\n",
      "  'km',\n",
      "  'wnw',\n",
      "  'kalgoorlie',\n",
      "  'lie',\n",
      "  'within',\n",
      "  'kunanalle',\n",
      "  'district',\n",
      "  'coolgardie',\n",
      "  'mineral',\n",
      "  'field',\n",
      "  'kalgoorlie',\n",
      "  'kalgoorlie',\n",
      "  'sh',\n",
      "  'map',\n",
      "  'sheet',\n",
      "  'tenure',\n",
      "  'reporting',\n",
      "  'group',\n",
      "  'know',\n",
      "  'castle',\n",
      "  'hill',\n",
      "  'comprise',\n",
      "  'nine',\n",
      "  'grant',\n",
      "  'prospect',\n",
      "  'licence',\n",
      "  'project',\n",
      "  'area',\n",
      "  'cover',\n",
      "  'hectare',\n",
      "  'refer',\n",
      "  'table',\n",
      "  'detail',\n",
      "  'cazaly',\n",
      "  'register',\n",
      "  'holder',\n",
      "  'castle',\n",
      "  'hill',\n",
      "  'project',\n",
      "  'tenement',\n",
      "  'application',\n",
      "  'combine',\n",
      "  'reporting',\n",
      "  'tenement',\n",
      "  'add',\n",
      "  'combined',\n",
      "  'reporting',\n",
      "  'group',\n",
      "  'lodge',\n",
      "  'cazaly',\n",
      "  'resource',\n",
      "  'limit',\n",
      "  'september',\n",
      "  'geology',\n",
      "  'regional',\n",
      "  'geology',\n",
      "  'castle',\n",
      "  'hill',\n",
      "  'project',\n",
      "  'area',\n",
      "  'lie',\n",
      "  'within',\n",
      "  'norseman',\n",
      "  'wiluna',\n",
      "  'archaean',\n",
      "  'greenstone',\n",
      "  'belt',\n",
      "  'eastern',\n",
      "  'goldfields',\n",
      "  'province',\n",
      "  'yilgarn',\n",
      "  'craton',\n",
      "  'belt',\n",
      "  'characterise',\n",
      "  'thick',\n",
      "  'possibly',\n",
      "  'rift',\n",
      "  'control',\n",
      "  'sequences',\n",
      "  'ultramafic',\n",
      "  'mafic',\n",
      "  'felsic',\n",
      "  'volcanic',\n",
      "  'clastic',\n",
      "  'intrusive',\n",
      "  'rock',\n",
      "  'greenstone',\n",
      "  'succession',\n",
      "  'southern',\n",
      "  'eastern',\n",
      "  'goldfield',\n",
      "  'segregate',\n",
      "  'elongate',\n",
      "  'structural',\n",
      "  'terrane',\n",
      "  'bound',\n",
      "  'regional',\n",
      "  'nnw',\n",
      "  'trend',\n",
      "  'fault',\n",
      "  'swag',\n",
      "  'low',\n",
      "  'part',\n",
      "  'supracrustal',\n",
      "  'succession',\n",
      "  'characterise',\n",
      "  'submarine',\n",
      "  'mafic',\n",
      "  'ultramafic',\n",
      "  'rock',\n",
      "  'thin',\n",
      "  'interflow',\n",
      "  'sediment',\n",
      "  'overlain',\n",
      "  'mostly',\n",
      "  'subaqueous',\n",
      "  'felsic',\n",
      "  'volcaniclastic',\n",
      "  'kalgoorlie',\n",
      "  'terrane',\n",
      "  'stratigraphic',\n",
      "  'sequence',\n",
      "  'extremely',\n",
      "  'consistent',\n",
      "  'felsic',\n",
      "  'volcanism',\n",
      "  'generally',\n",
      "  'post',\n",
      "  'date',\n",
      "  'mafic',\n",
      "  'ultramafic',\n",
      "  'volcanism',\n",
      "  'felsic',\n",
      "  'volcanism',\n",
      "  'observe',\n",
      "  'occur',\n",
      "  'upper',\n",
      "  'low',\n",
      "  'part',\n",
      "  'succession',\n",
      "  'coarse',\n",
      "  'clastics',\n",
      "  'conglomeratic',\n",
      "  'sequences',\n",
      "  'kurrawang',\n",
      "  'formation',\n",
      "  'unconformably',\n",
      "  'overly',\n",
      "  'faultcontact',\n",
      "  'greenstone',\n",
      "  'synclinal',\n",
      "  'basin',\n",
      "  'adjacent',\n",
      "  'overlie',\n",
      "  'major',\n",
      "  'regional',\n",
      "  'fault',\n",
      "  'swag',\n",
      "  'local',\n",
      "  'geology',\n",
      "  'majority',\n",
      "  'project',\n",
      "  'area',\n",
      "  'underlain',\n",
      "  'post',\n",
      "  'high',\n",
      "  'calcic',\n",
      "  'bali',\n",
      "  'monzogranite',\n",
      "  'lie',\n",
      "  'immediately',\n",
      "  'west',\n",
      "  'coolgardie',\n",
      "  'domain',\n",
      "  'sub',\n",
      "  'domain',\n",
      "  'kalgoorlie',\n",
      "  'terrane',\n",
      "  'northern',\n",
      "  'tenement',\n",
      "  'situate',\n",
      "  'north',\n",
      "  'kintore',\n",
      "  'tonalite',\n",
      "  'underlain',\n",
      "  'mafic',\n",
      "  'ultramafic',\n",
      "  'rock',\n",
      "  'coolgardie',\n",
      "  'domain',\n",
      "  'structural',\n",
      "  'geology',\n",
      "  'several',\n",
      "  'major',\n",
      "  'structure',\n",
      "  'traverse',\n",
      "  'section',\n",
      "  'project',\n",
      "  'area',\n",
      "  'north',\n",
      "  'northwest',\n",
      "  'trend',\n",
      "  'kunanalle',\n",
      "  'shear',\n",
      "  'zone',\n",
      "  'ksz',\n",
      "  'lie',\n",
      "  'along',\n",
      "  'mafic',\n",
      "  'ultramafic',\n",
      "  'contact',\n",
      "  'zone',\n",
      "  'within',\n",
      "  'tenement',\n",
      "  'late',\n",
      "  'north',\n",
      "  'northeast',\n",
      "  'trend',\n",
      "  'dextral',\n",
      "  'grant',\n",
      "  'patch',\n",
      "  'fault',\n",
      "  'cut',\n",
      "  'coolgardie',\n",
      "  'domain',\n",
      "  'sequence',\n",
      "  'structure',\n",
      "  'extend',\n",
      "  'adjacent',\n",
      "  'bali',\n",
      "  'monzogranite',\n",
      "  'tenement',\n",
      "  'also',\n",
      "  'overlie',\n",
      "  'part',\n",
      "  'kintore',\n",
      "  'anticline',\n",
      "  'axis',\n",
      "  'cazaly',\n",
      "  'resources',\n",
      "  'limit',\n",
      "  'september',\n",
      "  'exploration',\n",
      "  'activity',\n",
      "  'cazalys',\n",
      "  'exploration',\n",
      "  'activity',\n",
      "  'report',\n",
      "  'period',\n",
      "  'direct',\n",
      "  'towards',\n",
      "  'acquisition',\n",
      "  'available',\n",
      "  'report',\n",
      "  'dataset',\n",
      "  'relate',\n",
      "  'previous',\n",
      "  'exploration',\n",
      "  'activity',\n",
      "  'within',\n",
      "  'project',\n",
      "  'area',\n",
      "  'assess',\n",
      "  'gold',\n",
      "  'nickel',\n",
      "  'potential',\n",
      "  'project',\n",
      "  'area',\n",
      "  'project',\n",
      "  'review',\n",
      "  'follow',\n",
      "  'field',\n",
      "  'inspection',\n",
      "  'whole',\n",
      "  'project',\n",
      "  'area',\n",
      "  'available',\n",
      "  'datum',\n",
      "  'project',\n",
      "  'review',\n",
      "  'house',\n",
      "  'conjunction',\n",
      "  'datum',\n",
      "  'pertain',\n",
      "  'nearby',\n",
      "  'kunanalle',\n",
      "  'shear',\n",
      "  'zone',\n",
      "  'target',\n",
      "  'tenement',\n",
      "  'rate',\n",
      "  'potential',\n",
      "  'host',\n",
      "  'economic',\n",
      "  'gold',\n",
      "  'deposit',\n",
      "  'classify',\n",
      "  'accordingly',\n",
      "  'information',\n",
      "  'utilize',\n",
      "  'consider',\n",
      "  'future',\n",
      "  'exploration',\n",
      "  'program',\n",
      "  'across',\n",
      "  'tenement',\n",
      "  'group',\n",
      "  'nickel',\n",
      "  'review',\n",
      "  'castle',\n",
      "  'hill',\n",
      "  'project',\n",
      "  'include',\n",
      "  'cazaly',\n",
      "  'consolidated',\n",
      "  'minerals',\n",
      "  'limit',\n",
      "  'consmin',\n",
      "  'joint',\n",
      "  'venture',\n",
      "  'explore',\n",
      "  'kunanalle',\n",
      "  'region',\n",
      "  'nickel',\n",
      "  'mineralisation',\n",
      "  'nickel',\n",
      "  'potential',\n",
      "  'castle',\n",
      "  'hill',\n",
      "  'project',\n",
      "  'area',\n",
      "  'tenement',\n",
      "  'review',\n",
      "  'october',\n",
      "  'november',\n",
      "  'report',\n",
      "  'year',\n",
      "  'initial',\n",
      "  'review',\n",
      "  'highlight',\n",
      "  'anomaly',\n",
      "  'coincident',\n",
      "  'ni',\n",
      "  'cr',\n",
      "  'cu',\n",
      "  'zn',\n",
      "  'ratio',\n",
      "  'along',\n",
      "  'basalt',\n",
      "  'ultramafic',\n",
      "  'contact',\n",
      "  'immediately',\n",
      "  'east',\n",
      "  'area',\n",
      "  'subsequently',\n",
      "  'rab',\n",
      "  'drill',\n",
      "  'consmin',\n",
      "  'conclusion',\n",
      "  'cazalys',\n",
      "  'exploration',\n",
      "  'activity',\n",
      "  'report',\n",
      "  'period',\n",
      "  'direct',\n",
      "  'towards',\n",
      "  'acquisition',\n",
      "  'available',\n",
      "  'report',\n",
      "  'dataset',\n",
      "  'relate',\n",
      "  'previous',\n",
      "  'exploration',\n",
      "  'activity',\n",
      "  'within',\n",
      "  'project',\n",
      "  'area',\n",
      "  'assess',\n",
      "  'gold',\n",
      "  'nickel',\n",
      "  'potential',\n",
      "  'project',\n",
      "  'area',\n",
      "  'follow',\n",
      "  'data',\n",
      "  'review',\n",
      "  'castle',\n",
      "  'hill',\n",
      "  'project',\n",
      "  'rate',\n",
      "  'highly',\n",
      "  'nearby',\n",
      "  'project',\n",
      "  'area',\n",
      "  'manage',\n",
      "  'cazaly',\n",
      "  'structural',\n",
      "  'evolution',\n",
      "  'greenstone',\n",
      "  'terrane',\n",
      "  'southern',\n",
      "  'eastern',\n",
      "  'goldfields',\n",
      "  'western',\n",
      "  'australia',\n",
      "  'cassidy',\n",
      "  'whitaker',\n",
      "  'liu']]\n"
     ]
    },
    {
     "data": {
      "application/javascript": "\n            setTimeout(function() {\n                var nbb_cell_id = 16;\n                var nbb_unformatted_code = \"# View part of pre-processed corpus\\npprint(tokenized_corpus[:1])\";\n                var nbb_formatted_code = \"# View part of pre-processed corpus\\npprint(tokenized_corpus[:1])\";\n                var nbb_cells = Jupyter.notebook.get_cells();\n                for (var i = 0; i < nbb_cells.length; ++i) {\n                    if (nbb_cells[i].input_prompt_number == nbb_cell_id) {\n                        if (nbb_cells[i].get_text() == nbb_unformatted_code) {\n                             nbb_cells[i].set_text(nbb_formatted_code);\n                        }\n                        break;\n                    }\n                }\n            }, 500);\n            ",
      "text/plain": [
       "<IPython.core.display.Javascript object>"
      ]
     },
     "metadata": {},
     "output_type": "display_data"
    }
   ],
   "source": [
    "# View part of pre-processed corpus\n",
    "pprint(tokenized_corpus[:1])"
   ]
  },
  {
   "cell_type": "markdown",
   "metadata": {
    "colab_type": "text",
    "id": "DwrikYaRDt3-"
   },
   "source": [
    "### Creating bigram and trigrams - Gensim’s Phrases model"
   ]
  },
  {
   "cell_type": "markdown",
   "metadata": {},
   "source": [
    "Bigrams are two words frequently occurring together in the document. Trigrams are 3 words frequently occurring.\n",
    "\n",
    "Some examples in our example are: ‘front_bumper’, ‘oil_leak’, ‘maryland_college_park’ etc.\n",
    "\n",
    "Gensim’s Phrases model can build and implement the bigrams, trigrams, quadgrams and more. The two important arguments to Phrases are min_count and threshold. The higher the values of these param, the harder it is for words to be combined to bigrams."
   ]
  },
  {
   "cell_type": "markdown",
   "metadata": {},
   "source": [
    "In this notebook, we focus on building a bigram model. However the code that is required to build a trigram model is made available (it just needs to be converted to a code cell)."
   ]
  },
  {
   "cell_type": "code",
   "execution_count": 17,
   "metadata": {
    "colab": {
     "base_uri": "https://localhost:8080/",
     "height": 51
    },
    "colab_type": "code",
    "executionInfo": {
     "elapsed": 25774,
     "status": "ok",
     "timestamp": 1585055301850,
     "user": {
      "displayName": "Tyler Bikaun",
      "photoUrl": "",
      "userId": "18384825377619195869"
     },
     "user_tz": -480
    },
    "id": "eQ75jfFIDt4A",
    "outputId": "49dc8044-819d-4a30-84ea-984d2a194bd1"
   },
   "outputs": [
    {
     "data": {
      "application/javascript": "\n            setTimeout(function() {\n                var nbb_cell_id = 17;\n                var nbb_unformatted_code = \"bigram = gensim.models.Phrases(tokenized_corpus, min_count=5, threshold=100) # higher threshold fewer phrases.\";\n                var nbb_formatted_code = \"bigram = gensim.models.Phrases(\\n    tokenized_corpus, min_count=5, threshold=100\\n)  # higher threshold fewer phrases.\";\n                var nbb_cells = Jupyter.notebook.get_cells();\n                for (var i = 0; i < nbb_cells.length; ++i) {\n                    if (nbb_cells[i].input_prompt_number == nbb_cell_id) {\n                        if (nbb_cells[i].get_text() == nbb_unformatted_code) {\n                             nbb_cells[i].set_text(nbb_formatted_code);\n                        }\n                        break;\n                    }\n                }\n            }, 500);\n            ",
      "text/plain": [
       "<IPython.core.display.Javascript object>"
      ]
     },
     "metadata": {},
     "output_type": "display_data"
    }
   ],
   "source": [
    "bigram = gensim.models.Phrases(tokenized_corpus, min_count=5, threshold=100) # higher threshold fewer phrases."
   ]
  },
  {
   "cell_type": "raw",
   "metadata": {},
   "source": [
    "trigram = gensim.models.Phrases(bigram[tokenized_corpus], threshold=100)  "
   ]
  },
  {
   "cell_type": "markdown",
   "metadata": {},
   "source": [
    "Faster way to get a sentence clubbed as a trigram/bigram"
   ]
  },
  {
   "cell_type": "code",
   "execution_count": 18,
   "metadata": {
    "colab": {},
    "colab_type": "code",
    "id": "3T09XJCTE6tc"
   },
   "outputs": [
    {
     "data": {
      "application/javascript": "\n            setTimeout(function() {\n                var nbb_cell_id = 18;\n                var nbb_unformatted_code = \"bigram_mod = gensim.models.phrases.Phraser(bigram)\";\n                var nbb_formatted_code = \"bigram_mod = gensim.models.phrases.Phraser(bigram)\";\n                var nbb_cells = Jupyter.notebook.get_cells();\n                for (var i = 0; i < nbb_cells.length; ++i) {\n                    if (nbb_cells[i].input_prompt_number == nbb_cell_id) {\n                        if (nbb_cells[i].get_text() == nbb_unformatted_code) {\n                             nbb_cells[i].set_text(nbb_formatted_code);\n                        }\n                        break;\n                    }\n                }\n            }, 500);\n            ",
      "text/plain": [
       "<IPython.core.display.Javascript object>"
      ]
     },
     "metadata": {},
     "output_type": "display_data"
    }
   ],
   "source": [
    "bigram_mod = gensim.models.phrases.Phraser(bigram)"
   ]
  },
  {
   "cell_type": "raw",
   "metadata": {},
   "source": [
    "trigram_mod = gensim.models.phrases.Phraser(trigram)"
   ]
  },
  {
   "cell_type": "markdown",
   "metadata": {},
   "source": [
    "View example of bigram model"
   ]
  },
  {
   "cell_type": "code",
   "execution_count": 19,
   "metadata": {},
   "outputs": [
    {
     "name": "stdout",
     "output_type": "stream",
     "text": [
      "['combine',\n",
      " 'reporting',\n",
      " 'application',\n",
      " 'pende',\n",
      " 'status',\n",
      " 'sheet',\n",
      " 'kalgoorlie',\n",
      " 'sh',\n",
      " 'sheet',\n",
      " 'kalgoorlie',\n",
      " 'project',\n",
      " 'operator',\n",
      " 'cazaly_resources',\n",
      " 'limited',\n",
      " 'author',\n",
      " 'watts',\n",
      " 'date',\n",
      " 'september',\n",
      " 'distribution',\n",
      " 'department_industry',\n",
      " 'resource',\n",
      " 'cazaly_resources',\n",
      " 'limited',\n",
      " 'cazaly',\n",
      " 'resource',\n",
      " 'limit',\n",
      " 'september',\n",
      " 'castle_hill',\n",
      " 'project',\n",
      " 'tenement',\n",
      " 'location',\n",
      " 'plan',\n",
      " 'scale',\n",
      " 'regional',\n",
      " 'geology',\n",
      " 'exploration',\n",
      " 'index',\n",
      " 'map',\n",
      " 'scale',\n",
      " 'cazaly',\n",
      " 'resource',\n",
      " 'limit',\n",
      " 'september',\n",
      " 'summary',\n",
      " 'combine',\n",
      " 'mineral',\n",
      " 'exploration',\n",
      " 'report',\n",
      " 'castle_hill',\n",
      " 'project',\n",
      " 'detail',\n",
      " 'exploration',\n",
      " 'activity',\n",
      " 'undertake',\n",
      " 'cazaly_resources',\n",
      " 'limited',\n",
      " 'reporting_period',\n",
      " 'july',\n",
      " 'july',\n",
      " 'report',\n",
      " 'group',\n",
      " 'know',\n",
      " 'castle_hill',\n",
      " 'comprise',\n",
      " 'nine',\n",
      " 'grant',\n",
      " 'prospect',\n",
      " 'licence',\n",
      " 'project',\n",
      " 'area',\n",
      " 'cover',\n",
      " 'hectare_cazaly',\n",
      " 'register_holder',\n",
      " 'castle_hill',\n",
      " 'project',\n",
      " 'tenement',\n",
      " 'cazalys',\n",
      " 'exploration',\n",
      " 'activity',\n",
      " 'report',\n",
      " 'period',\n",
      " 'direct_towards',\n",
      " 'acquisition',\n",
      " 'available',\n",
      " 'report',\n",
      " 'dataset',\n",
      " 'relate',\n",
      " 'previous',\n",
      " 'exploration',\n",
      " 'activity',\n",
      " 'within',\n",
      " 'project',\n",
      " 'area',\n",
      " 'assess',\n",
      " 'gold',\n",
      " 'nickel',\n",
      " 'potential',\n",
      " 'project',\n",
      " 'area',\n",
      " 'follow',\n",
      " 'data',\n",
      " 'review',\n",
      " 'castle_hill',\n",
      " 'project',\n",
      " 'rate',\n",
      " 'highly',\n",
      " 'nearby',\n",
      " 'project',\n",
      " 'area',\n",
      " 'manage',\n",
      " 'cazaly',\n",
      " 'introduction',\n",
      " 'combine',\n",
      " 'mineral',\n",
      " 'exploration',\n",
      " 'report',\n",
      " 'castle_hill',\n",
      " 'project',\n",
      " 'detail',\n",
      " 'exploration',\n",
      " 'work',\n",
      " 'undertake',\n",
      " 'cazaly_resources',\n",
      " 'limited',\n",
      " 'cazaly',\n",
      " 'reporting_period',\n",
      " 'july',\n",
      " 'july',\n",
      " 'castle_hill',\n",
      " 'project',\n",
      " 'area',\n",
      " 'locate',\n",
      " 'km',\n",
      " 'wnw',\n",
      " 'kalgoorlie',\n",
      " 'lie',\n",
      " 'within',\n",
      " 'kunanalle',\n",
      " 'district',\n",
      " 'coolgardie',\n",
      " 'mineral',\n",
      " 'field',\n",
      " 'kalgoorlie',\n",
      " 'kalgoorlie',\n",
      " 'sh',\n",
      " 'map',\n",
      " 'sheet',\n",
      " 'tenure',\n",
      " 'reporting',\n",
      " 'group',\n",
      " 'know',\n",
      " 'castle_hill',\n",
      " 'comprise',\n",
      " 'nine',\n",
      " 'grant',\n",
      " 'prospect',\n",
      " 'licence',\n",
      " 'project',\n",
      " 'area',\n",
      " 'cover',\n",
      " 'hectare',\n",
      " 'refer',\n",
      " 'table',\n",
      " 'detail',\n",
      " 'cazaly',\n",
      " 'register_holder',\n",
      " 'castle_hill',\n",
      " 'project',\n",
      " 'tenement',\n",
      " 'application',\n",
      " 'combine',\n",
      " 'reporting',\n",
      " 'tenement',\n",
      " 'add',\n",
      " 'combined',\n",
      " 'reporting',\n",
      " 'group',\n",
      " 'lodge',\n",
      " 'cazaly',\n",
      " 'resource',\n",
      " 'limit',\n",
      " 'september',\n",
      " 'geology',\n",
      " 'regional',\n",
      " 'geology',\n",
      " 'castle_hill',\n",
      " 'project',\n",
      " 'area',\n",
      " 'lie',\n",
      " 'within',\n",
      " 'norseman_wiluna',\n",
      " 'archaean',\n",
      " 'greenstone_belt',\n",
      " 'eastern_goldfields',\n",
      " 'province',\n",
      " 'yilgarn_craton',\n",
      " 'belt',\n",
      " 'characterise',\n",
      " 'thick',\n",
      " 'possibly_rift',\n",
      " 'control',\n",
      " 'sequences',\n",
      " 'ultramafic',\n",
      " 'mafic',\n",
      " 'felsic',\n",
      " 'volcanic',\n",
      " 'clastic',\n",
      " 'intrusive',\n",
      " 'rock',\n",
      " 'greenstone',\n",
      " 'succession',\n",
      " 'southern',\n",
      " 'eastern_goldfield',\n",
      " 'segregate_elongate',\n",
      " 'structural',\n",
      " 'terrane',\n",
      " 'bound',\n",
      " 'regional',\n",
      " 'nnw',\n",
      " 'trend',\n",
      " 'fault',\n",
      " 'swag',\n",
      " 'low',\n",
      " 'part',\n",
      " 'supracrustal_succession',\n",
      " 'characterise',\n",
      " 'submarine',\n",
      " 'mafic',\n",
      " 'ultramafic',\n",
      " 'rock',\n",
      " 'thin',\n",
      " 'interflow_sediment',\n",
      " 'overlain',\n",
      " 'mostly',\n",
      " 'subaqueous',\n",
      " 'felsic',\n",
      " 'volcaniclastic',\n",
      " 'kalgoorlie',\n",
      " 'terrane',\n",
      " 'stratigraphic',\n",
      " 'sequence',\n",
      " 'extremely',\n",
      " 'consistent',\n",
      " 'felsic_volcanism',\n",
      " 'generally',\n",
      " 'post',\n",
      " 'date',\n",
      " 'mafic',\n",
      " 'ultramafic',\n",
      " 'volcanism',\n",
      " 'felsic_volcanism',\n",
      " 'observe',\n",
      " 'occur',\n",
      " 'upper',\n",
      " 'low',\n",
      " 'part',\n",
      " 'succession',\n",
      " 'coarse',\n",
      " 'clastics_conglomeratic',\n",
      " 'sequences_kurrawang',\n",
      " 'formation',\n",
      " 'unconformably_overly',\n",
      " 'faultcontact',\n",
      " 'greenstone',\n",
      " 'synclinal',\n",
      " 'basin',\n",
      " 'adjacent',\n",
      " 'overlie',\n",
      " 'major',\n",
      " 'regional',\n",
      " 'fault',\n",
      " 'swag',\n",
      " 'local',\n",
      " 'geology',\n",
      " 'majority',\n",
      " 'project',\n",
      " 'area',\n",
      " 'underlain',\n",
      " 'post',\n",
      " 'high',\n",
      " 'calcic_bali',\n",
      " 'monzogranite',\n",
      " 'lie',\n",
      " 'immediately',\n",
      " 'west',\n",
      " 'coolgardie',\n",
      " 'domain',\n",
      " 'sub',\n",
      " 'domain',\n",
      " 'kalgoorlie',\n",
      " 'terrane',\n",
      " 'northern',\n",
      " 'tenement',\n",
      " 'situate',\n",
      " 'north',\n",
      " 'kintore_tonalite',\n",
      " 'underlain',\n",
      " 'mafic',\n",
      " 'ultramafic',\n",
      " 'rock',\n",
      " 'coolgardie',\n",
      " 'domain',\n",
      " 'structural',\n",
      " 'geology',\n",
      " 'several',\n",
      " 'major',\n",
      " 'structure',\n",
      " 'traverse',\n",
      " 'section',\n",
      " 'project',\n",
      " 'area',\n",
      " 'north',\n",
      " 'northwest',\n",
      " 'trend',\n",
      " 'kunanalle',\n",
      " 'shear',\n",
      " 'zone',\n",
      " 'ksz',\n",
      " 'lie',\n",
      " 'along',\n",
      " 'mafic',\n",
      " 'ultramafic',\n",
      " 'contact',\n",
      " 'zone',\n",
      " 'within',\n",
      " 'tenement',\n",
      " 'late',\n",
      " 'north',\n",
      " 'northeast',\n",
      " 'trend',\n",
      " 'dextral',\n",
      " 'grant',\n",
      " 'patch',\n",
      " 'fault',\n",
      " 'cut',\n",
      " 'coolgardie',\n",
      " 'domain',\n",
      " 'sequence',\n",
      " 'structure',\n",
      " 'extend',\n",
      " 'adjacent',\n",
      " 'bali_monzogranite',\n",
      " 'tenement',\n",
      " 'also',\n",
      " 'overlie',\n",
      " 'part',\n",
      " 'kintore',\n",
      " 'anticline',\n",
      " 'axis',\n",
      " 'cazaly_resources',\n",
      " 'limit',\n",
      " 'september',\n",
      " 'exploration',\n",
      " 'activity',\n",
      " 'cazalys',\n",
      " 'exploration',\n",
      " 'activity',\n",
      " 'report',\n",
      " 'period',\n",
      " 'direct_towards',\n",
      " 'acquisition',\n",
      " 'available',\n",
      " 'report',\n",
      " 'dataset',\n",
      " 'relate',\n",
      " 'previous',\n",
      " 'exploration',\n",
      " 'activity',\n",
      " 'within',\n",
      " 'project',\n",
      " 'area',\n",
      " 'assess',\n",
      " 'gold',\n",
      " 'nickel',\n",
      " 'potential',\n",
      " 'project',\n",
      " 'area',\n",
      " 'project',\n",
      " 'review',\n",
      " 'follow',\n",
      " 'field',\n",
      " 'inspection',\n",
      " 'whole',\n",
      " 'project',\n",
      " 'area',\n",
      " 'available',\n",
      " 'datum',\n",
      " 'project',\n",
      " 'review',\n",
      " 'house',\n",
      " 'conjunction',\n",
      " 'datum',\n",
      " 'pertain',\n",
      " 'nearby',\n",
      " 'kunanalle',\n",
      " 'shear',\n",
      " 'zone',\n",
      " 'target',\n",
      " 'tenement',\n",
      " 'rate',\n",
      " 'potential',\n",
      " 'host',\n",
      " 'economic',\n",
      " 'gold',\n",
      " 'deposit',\n",
      " 'classify',\n",
      " 'accordingly',\n",
      " 'information',\n",
      " 'utilize',\n",
      " 'consider',\n",
      " 'future',\n",
      " 'exploration',\n",
      " 'program',\n",
      " 'across',\n",
      " 'tenement',\n",
      " 'group',\n",
      " 'nickel',\n",
      " 'review',\n",
      " 'castle_hill',\n",
      " 'project',\n",
      " 'include',\n",
      " 'cazaly',\n",
      " 'consolidated',\n",
      " 'minerals',\n",
      " 'limit',\n",
      " 'consmin',\n",
      " 'joint_venture',\n",
      " 'explore',\n",
      " 'kunanalle',\n",
      " 'region',\n",
      " 'nickel',\n",
      " 'mineralisation',\n",
      " 'nickel',\n",
      " 'potential',\n",
      " 'castle_hill',\n",
      " 'project',\n",
      " 'area',\n",
      " 'tenement',\n",
      " 'review',\n",
      " 'october',\n",
      " 'november',\n",
      " 'report',\n",
      " 'year',\n",
      " 'initial',\n",
      " 'review',\n",
      " 'highlight',\n",
      " 'anomaly',\n",
      " 'coincident',\n",
      " 'ni',\n",
      " 'cr',\n",
      " 'cu',\n",
      " 'zn',\n",
      " 'ratio',\n",
      " 'along',\n",
      " 'basalt',\n",
      " 'ultramafic',\n",
      " 'contact',\n",
      " 'immediately',\n",
      " 'east',\n",
      " 'area',\n",
      " 'subsequently',\n",
      " 'rab',\n",
      " 'drill',\n",
      " 'consmin',\n",
      " 'conclusion',\n",
      " 'cazalys',\n",
      " 'exploration',\n",
      " 'activity',\n",
      " 'report',\n",
      " 'period',\n",
      " 'direct_towards',\n",
      " 'acquisition',\n",
      " 'available',\n",
      " 'report',\n",
      " 'dataset',\n",
      " 'relate',\n",
      " 'previous',\n",
      " 'exploration',\n",
      " 'activity',\n",
      " 'within',\n",
      " 'project',\n",
      " 'area',\n",
      " 'assess',\n",
      " 'gold',\n",
      " 'nickel',\n",
      " 'potential',\n",
      " 'project',\n",
      " 'area',\n",
      " 'follow',\n",
      " 'data',\n",
      " 'review',\n",
      " 'castle_hill',\n",
      " 'project',\n",
      " 'rate',\n",
      " 'highly',\n",
      " 'nearby',\n",
      " 'project',\n",
      " 'area',\n",
      " 'manage',\n",
      " 'cazaly',\n",
      " 'structural',\n",
      " 'evolution',\n",
      " 'greenstone',\n",
      " 'terrane',\n",
      " 'southern',\n",
      " 'eastern_goldfields',\n",
      " 'western',\n",
      " 'australia',\n",
      " 'cassidy_whitaker',\n",
      " 'liu']\n"
     ]
    },
    {
     "data": {
      "application/javascript": "\n            setTimeout(function() {\n                var nbb_cell_id = 19;\n                var nbb_unformatted_code = \"# See example of bigram model applied to pre-processed corpus\\npprint(bigram_mod[tokenized_corpus[0]])\";\n                var nbb_formatted_code = \"# See example of bigram model applied to pre-processed corpus\\npprint(bigram_mod[tokenized_corpus[0]])\";\n                var nbb_cells = Jupyter.notebook.get_cells();\n                for (var i = 0; i < nbb_cells.length; ++i) {\n                    if (nbb_cells[i].input_prompt_number == nbb_cell_id) {\n                        if (nbb_cells[i].get_text() == nbb_unformatted_code) {\n                             nbb_cells[i].set_text(nbb_formatted_code);\n                        }\n                        break;\n                    }\n                }\n            }, 500);\n            ",
      "text/plain": [
       "<IPython.core.display.Javascript object>"
      ]
     },
     "metadata": {},
     "output_type": "display_data"
    }
   ],
   "source": [
    "# See example of bigram model applied to pre-processed corpus\n",
    "pprint(bigram_mod[tokenized_corpus[0]])"
   ]
  },
  {
   "cell_type": "raw",
   "metadata": {
    "colab": {
     "base_uri": "https://localhost:8080/",
     "height": 1000
    },
    "colab_type": "code",
    "executionInfo": {
     "elapsed": 37800,
     "status": "ok",
     "timestamp": 1585055314439,
     "user": {
      "displayName": "Tyler Bikaun",
      "photoUrl": "",
      "userId": "18384825377619195869"
     },
     "user_tz": -480
    },
    "id": "ZOG0O89bDt4D",
    "outputId": "1e42ba86-a15a-490d-e7bc-c7071058cabb",
    "scrolled": true
   },
   "source": [
    "# See trigram example\n",
    "pprint(trigram_mod[bigram_mod[tokenized_corpus[0]]])"
   ]
  },
  {
   "cell_type": "markdown",
   "metadata": {},
   "source": [
    "Convert tokenized corpus into bi-gram phrases - this will allow the topic model to capture domain specific phrases in addition to individual words"
   ]
  },
  {
   "cell_type": "code",
   "execution_count": 20,
   "metadata": {},
   "outputs": [
    {
     "data": {
      "application/javascript": "\n            setTimeout(function() {\n                var nbb_cell_id = 20;\n                var nbb_unformatted_code = \"bigram_corpus = [bigram_mod[tokenized_doc] for tokenized_doc in tokenized_corpus]\";\n                var nbb_formatted_code = \"bigram_corpus = [bigram_mod[tokenized_doc] for tokenized_doc in tokenized_corpus]\";\n                var nbb_cells = Jupyter.notebook.get_cells();\n                for (var i = 0; i < nbb_cells.length; ++i) {\n                    if (nbb_cells[i].input_prompt_number == nbb_cell_id) {\n                        if (nbb_cells[i].get_text() == nbb_unformatted_code) {\n                             nbb_cells[i].set_text(nbb_formatted_code);\n                        }\n                        break;\n                    }\n                }\n            }, 500);\n            ",
      "text/plain": [
       "<IPython.core.display.Javascript object>"
      ]
     },
     "metadata": {},
     "output_type": "display_data"
    }
   ],
   "source": [
    "bigram_corpus = [bigram_mod[tokenized_doc] for tokenized_doc in tokenized_corpus]"
   ]
  },
  {
   "cell_type": "markdown",
   "metadata": {},
   "source": [
    "To perform topic modelling with LDA we need to convert the corpus of pre-processed texts into a bag-of-words (bow) representation with count frequencies."
   ]
  },
  {
   "cell_type": "code",
   "execution_count": 21,
   "metadata": {},
   "outputs": [
    {
     "data": {
      "application/javascript": "\n            setTimeout(function() {\n                var nbb_cell_id = 21;\n                var nbb_unformatted_code = \"# Create a dictionary that maps each word to a unique id\\nid2word = corpora.Dictionary(bigram_corpus)\";\n                var nbb_formatted_code = \"# Create a dictionary that maps each word to a unique id\\nid2word = corpora.Dictionary(bigram_corpus)\";\n                var nbb_cells = Jupyter.notebook.get_cells();\n                for (var i = 0; i < nbb_cells.length; ++i) {\n                    if (nbb_cells[i].input_prompt_number == nbb_cell_id) {\n                        if (nbb_cells[i].get_text() == nbb_unformatted_code) {\n                             nbb_cells[i].set_text(nbb_formatted_code);\n                        }\n                        break;\n                    }\n                }\n            }, 500);\n            ",
      "text/plain": [
       "<IPython.core.display.Javascript object>"
      ]
     },
     "metadata": {},
     "output_type": "display_data"
    }
   ],
   "source": [
    "# Create a dictionary that maps each word to a unique id\n",
    "id2word = corpora.Dictionary(bigram_corpus)"
   ]
  },
  {
   "cell_type": "code",
   "execution_count": 22,
   "metadata": {},
   "outputs": [
    {
     "data": {
      "text/plain": [
       "'project'"
      ]
     },
     "execution_count": 22,
     "metadata": {},
     "output_type": "execute_result"
    },
    {
     "data": {
      "application/javascript": "\n            setTimeout(function() {\n                var nbb_cell_id = 22;\n                var nbb_unformatted_code = \"id2word[162]\";\n                var nbb_formatted_code = \"id2word[162]\";\n                var nbb_cells = Jupyter.notebook.get_cells();\n                for (var i = 0; i < nbb_cells.length; ++i) {\n                    if (nbb_cells[i].input_prompt_number == nbb_cell_id) {\n                        if (nbb_cells[i].get_text() == nbb_unformatted_code) {\n                             nbb_cells[i].set_text(nbb_formatted_code);\n                        }\n                        break;\n                    }\n                }\n            }, 500);\n            ",
      "text/plain": [
       "<IPython.core.display.Javascript object>"
      ]
     },
     "metadata": {},
     "output_type": "display_data"
    }
   ],
   "source": [
    "id2word[162]"
   ]
  },
  {
   "cell_type": "markdown",
   "metadata": {},
   "source": [
    "Convert the bigram corpus into a [bag-of-words (bow) representation](https://radimrehurek.com/gensim/corpora/dictionary.html#gensim.corpora.dictionary.Dictionary.doc2bow)"
   ]
  },
  {
   "cell_type": "code",
   "execution_count": 23,
   "metadata": {
    "colab": {},
    "colab_type": "code",
    "id": "baZWBbnBDt4Z"
   },
   "outputs": [
    {
     "data": {
      "application/javascript": "\n            setTimeout(function() {\n                var nbb_cell_id = 23;\n                var nbb_unformatted_code = \"bow_corpus = [id2word.doc2bow(text) for text in bigram_corpus]\";\n                var nbb_formatted_code = \"bow_corpus = [id2word.doc2bow(text) for text in bigram_corpus]\";\n                var nbb_cells = Jupyter.notebook.get_cells();\n                for (var i = 0; i < nbb_cells.length; ++i) {\n                    if (nbb_cells[i].input_prompt_number == nbb_cell_id) {\n                        if (nbb_cells[i].get_text() == nbb_unformatted_code) {\n                             nbb_cells[i].set_text(nbb_formatted_code);\n                        }\n                        break;\n                    }\n                }\n            }, 500);\n            ",
      "text/plain": [
       "<IPython.core.display.Javascript object>"
      ]
     },
     "metadata": {},
     "output_type": "display_data"
    }
   ],
   "source": [
    "bow_corpus = [id2word.doc2bow(text) for text in bigram_corpus]"
   ]
  },
  {
   "cell_type": "code",
   "execution_count": 24,
   "metadata": {
    "colab": {
     "base_uri": "https://localhost:8080/",
     "height": 54
    },
    "colab_type": "code",
    "executionInfo": {
     "elapsed": 111407,
     "status": "ok",
     "timestamp": 1585055394784,
     "user": {
      "displayName": "Tyler Bikaun",
      "photoUrl": "",
      "userId": "18384825377619195869"
     },
     "user_tz": -480
    },
    "id": "v0icteGfFXEp",
    "outputId": "e47c4732-e9bd-4da2-a7cf-6416f87af4f1"
   },
   "outputs": [
    {
     "name": "stdout",
     "output_type": "stream",
     "text": [
      "[[(0, 1), (1, 3), (2, 1), (3, 8), (4, 1), (5, 2), (6, 2), (7, 1), (8, 1), (9, 1), (10, 2), (11, 1), (12, 17), (13, 3), (14, 1), (15, 1), (16, 4), (17, 1), (18, 1), (19, 1), (20, 1), (21, 1), (22, 1), (23, 1), (24, 1), (25, 13), (26, 8), (27, 5), (28, 3), (29, 2), (30, 1), (31, 1), (32, 1), (33, 1), (34, 1), (35, 4), (36, 1), (37, 2), (38, 1), (39, 1), (40, 1), (41, 1), (42, 2), (43, 1), (44, 2), (45, 1), (46, 4), (47, 2), (48, 1), (49, 1), (50, 1), (51, 2), (52, 3), (53, 2), (54, 2), (55, 1), (56, 1), (57, 3), (58, 1), (59, 3), (60, 1), (61, 1), (62, 4), (63, 1), (64, 1), (65, 1), (66, 2), (67, 1), (68, 1), (69, 13), (70, 1), (71, 1), (72, 1), (73, 3), (74, 1), (75, 2), (76, 2), (77, 2), (78, 3), (79, 1), (80, 1), (81, 1), (82, 5), (83, 4), (84, 3), (85, 3), (86, 1), (87, 4), (88, 1), (89, 1), (90, 1), (91, 1), (92, 2), (93, 1), (94, 1), (95, 2), (96, 1), (97, 1), (98, 1), (99, 1), (100, 1), (101, 1), (102, 1), (103, 1), (104, 1), (105, 4), (106, 7), (107, 1), (108, 1), (109, 1), (110, 2), (111, 1), (112, 4), (113, 1), (114, 2), (115, 4), (116, 5), (117, 4), (118, 1), (119, 1), (120, 1), (121, 1), (122, 1), (123, 2), (124, 5), (125, 2), (126, 1), (127, 2), (128, 2), (129, 3), (130, 1), (131, 1), (132, 1), (133, 1), (134, 3), (135, 1), (136, 6), (137, 2), (138, 1), (139, 1), (140, 3), (141, 1), (142, 1), (143, 1), (144, 1), (145, 1), (146, 1), (147, 1), (148, 1), (149, 1), (150, 2), (151, 3), (152, 1), (153, 1), (154, 3), (155, 1), (156, 1), (157, 1), (158, 2), (159, 5), (160, 3), (161, 1), (162, 27), (163, 2), (164, 1), (165, 1), (166, 3), (167, 1), (168, 1), (169, 1), (170, 4), (171, 2), (172, 3), (173, 10), (174, 4), (175, 2), (176, 4), (177, 7), (178, 3), (179, 2), (180, 1), (181, 1), (182, 5), (183, 2), (184, 1), (185, 1), (186, 1), (187, 2), (188, 2), (189, 3), (190, 1), (191, 2), (192, 1), (193, 1), (194, 3), (195, 2), (196, 1), (197, 1), (198, 1), (199, 1), (200, 2), (201, 1), (202, 1), (203, 2), (204, 1), (205, 1), (206, 1), (207, 10), (208, 1), (209, 4), (210, 1), (211, 1), (212, 1), (213, 3), (214, 6), (215, 1), (216, 2), (217, 2), (218, 1), (219, 1), (220, 1), (221, 1), (222, 1), (223, 1), (224, 1), (225, 1), (226, 1), (227, 6), (228, 1), (229, 1), (230, 1), (231, 1), (232, 1), (233, 3)]]\n"
     ]
    },
    {
     "data": {
      "application/javascript": "\n            setTimeout(function() {\n                var nbb_cell_id = 24;\n                var nbb_unformatted_code = \"# Review a single document in bow format; (index, count frequency) \\nprint(bow_corpus[:1])\";\n                var nbb_formatted_code = \"# Review a single document in bow format; (index, count frequency)\\nprint(bow_corpus[:1])\";\n                var nbb_cells = Jupyter.notebook.get_cells();\n                for (var i = 0; i < nbb_cells.length; ++i) {\n                    if (nbb_cells[i].input_prompt_number == nbb_cell_id) {\n                        if (nbb_cells[i].get_text() == nbb_unformatted_code) {\n                             nbb_cells[i].set_text(nbb_formatted_code);\n                        }\n                        break;\n                    }\n                }\n            }, 500);\n            ",
      "text/plain": [
       "<IPython.core.display.Javascript object>"
      ]
     },
     "metadata": {},
     "output_type": "display_data"
    }
   ],
   "source": [
    "# Review a single document in bow format; (index, count frequency) \n",
    "print(bow_corpus[:1])"
   ]
  },
  {
   "cell_type": "code",
   "execution_count": 25,
   "metadata": {
    "colab": {
     "base_uri": "https://localhost:8080/",
     "height": 54
    },
    "colab_type": "code",
    "executionInfo": {
     "elapsed": 109507,
     "status": "ok",
     "timestamp": 1585055394785,
     "user": {
      "displayName": "Tyler Bikaun",
      "photoUrl": "",
      "userId": "18384825377619195869"
     },
     "user_tz": -480
    },
    "id": "EJn-e0xxDt4i",
    "outputId": "77dd84f3-15dd-4628-9286-b89d8d490146"
   },
   "outputs": [
    {
     "name": "stdout",
     "output_type": "stream",
     "text": [
      "['combine', 'reporting', 'application', 'pende', 'status', 'sheet', 'kalgoorlie', 'sh', 'sheet', 'kalgoorlie', 'project', 'operator', 'cazaly_resources', 'limited', 'author', 'watts', 'date', 'september', 'distribution', 'department_industry', 'resource', 'cazaly_resources', 'limited', 'cazaly', 'resource', 'limit', 'september', 'castle_hill', 'project', 'tenement', 'location', 'plan', 'scale', 'regional', 'geology', 'exploration', 'index', 'map', 'scale', 'cazaly', 'resource', 'limit', 'september', 'summary', 'combine', 'mineral', 'exploration', 'report', 'castle_hill', 'project', 'detail', 'exploration', 'activity', 'undertake', 'cazaly_resources', 'limited', 'reporting_period', 'july', 'july', 'report', 'group', 'know', 'castle_hill', 'comprise', 'nine', 'grant', 'prospect', 'licence', 'project', 'area', 'cover', 'hectare_cazaly', 'register_holder', 'castle_hill', 'project', 'tenement', 'cazalys', 'exploration', 'activity', 'report', 'period', 'direct_towards', 'acquisition', 'available', 'report', 'dataset', 'relate', 'previous', 'exploration', 'activity', 'within', 'project', 'area', 'assess', 'gold', 'nickel', 'potential', 'project', 'area', 'follow', 'data', 'review', 'castle_hill', 'project', 'rate', 'highly', 'nearby', 'project', 'area', 'manage', 'cazaly', 'introduction', 'combine', 'mineral', 'exploration', 'report', 'castle_hill', 'project', 'detail', 'exploration', 'work', 'undertake', 'cazaly_resources', 'limited', 'cazaly', 'reporting_period', 'july', 'july', 'castle_hill', 'project', 'area', 'locate', 'km', 'wnw', 'kalgoorlie', 'lie', 'within', 'kunanalle', 'district', 'coolgardie', 'mineral', 'field', 'kalgoorlie', 'kalgoorlie', 'sh', 'map', 'sheet', 'tenure', 'reporting', 'group', 'know', 'castle_hill', 'comprise', 'nine', 'grant', 'prospect', 'licence', 'project', 'area', 'cover', 'hectare', 'refer', 'table', 'detail', 'cazaly', 'register_holder', 'castle_hill', 'project', 'tenement', 'application', 'combine', 'reporting', 'tenement', 'add', 'combined', 'reporting', 'group', 'lodge', 'cazaly', 'resource', 'limit', 'september', 'geology', 'regional', 'geology', 'castle_hill', 'project', 'area', 'lie', 'within', 'norseman_wiluna', 'archaean', 'greenstone_belt', 'eastern_goldfields', 'province', 'yilgarn_craton', 'belt', 'characterise', 'thick', 'possibly_rift', 'control', 'sequences', 'ultramafic', 'mafic', 'felsic', 'volcanic', 'clastic', 'intrusive', 'rock', 'greenstone', 'succession', 'southern', 'eastern_goldfield', 'segregate_elongate', 'structural', 'terrane', 'bound', 'regional', 'nnw', 'trend', 'fault', 'swag', 'low', 'part', 'supracrustal_succession', 'characterise', 'submarine', 'mafic', 'ultramafic', 'rock', 'thin', 'interflow_sediment', 'overlain', 'mostly', 'subaqueous', 'felsic', 'volcaniclastic', 'kalgoorlie', 'terrane', 'stratigraphic', 'sequence', 'extremely', 'consistent', 'felsic_volcanism', 'generally', 'post', 'date', 'mafic', 'ultramafic', 'volcanism', 'felsic_volcanism', 'observe', 'occur', 'upper', 'low', 'part', 'succession', 'coarse', 'clastics_conglomeratic', 'sequences_kurrawang', 'formation', 'unconformably_overly', 'faultcontact', 'greenstone', 'synclinal', 'basin', 'adjacent', 'overlie', 'major', 'regional', 'fault', 'swag', 'local', 'geology', 'majority', 'project', 'area', 'underlain', 'post', 'high', 'calcic_bali', 'monzogranite', 'lie', 'immediately', 'west', 'coolgardie', 'domain', 'sub', 'domain', 'kalgoorlie', 'terrane', 'northern', 'tenement', 'situate', 'north', 'kintore_tonalite', 'underlain', 'mafic', 'ultramafic', 'rock', 'coolgardie', 'domain', 'structural', 'geology', 'several', 'major', 'structure', 'traverse', 'section', 'project', 'area', 'north', 'northwest', 'trend', 'kunanalle', 'shear', 'zone', 'ksz', 'lie', 'along', 'mafic', 'ultramafic', 'contact', 'zone', 'within', 'tenement', 'late', 'north', 'northeast', 'trend', 'dextral', 'grant', 'patch', 'fault', 'cut', 'coolgardie', 'domain', 'sequence', 'structure', 'extend', 'adjacent', 'bali_monzogranite', 'tenement', 'also', 'overlie', 'part', 'kintore', 'anticline', 'axis', 'cazaly_resources', 'limit', 'september', 'exploration', 'activity', 'cazalys', 'exploration', 'activity', 'report', 'period', 'direct_towards', 'acquisition', 'available', 'report', 'dataset', 'relate', 'previous', 'exploration', 'activity', 'within', 'project', 'area', 'assess', 'gold', 'nickel', 'potential', 'project', 'area', 'project', 'review', 'follow', 'field', 'inspection', 'whole', 'project', 'area', 'available', 'datum', 'project', 'review', 'house', 'conjunction', 'datum', 'pertain', 'nearby', 'kunanalle', 'shear', 'zone', 'target', 'tenement', 'rate', 'potential', 'host', 'economic', 'gold', 'deposit', 'classify', 'accordingly', 'information', 'utilize', 'consider', 'future', 'exploration', 'program', 'across', 'tenement', 'group', 'nickel', 'review', 'castle_hill', 'project', 'include', 'cazaly', 'consolidated', 'minerals', 'limit', 'consmin', 'joint_venture', 'explore', 'kunanalle', 'region', 'nickel', 'mineralisation', 'nickel', 'potential', 'castle_hill', 'project', 'area', 'tenement', 'review', 'october', 'november', 'report', 'year', 'initial', 'review', 'highlight', 'anomaly', 'coincident', 'ni', 'cr', 'cu', 'zn', 'ratio', 'along', 'basalt', 'ultramafic', 'contact', 'immediately', 'east', 'area', 'subsequently', 'rab', 'drill', 'consmin', 'conclusion', 'cazalys', 'exploration', 'activity', 'report', 'period', 'direct_towards', 'acquisition', 'available', 'report', 'dataset', 'relate', 'previous', 'exploration', 'activity', 'within', 'project', 'area', 'assess', 'gold', 'nickel', 'potential', 'project', 'area', 'follow', 'data', 'review', 'castle_hill', 'project', 'rate', 'highly', 'nearby', 'project', 'area', 'manage', 'cazaly', 'structural', 'evolution', 'greenstone', 'terrane', 'southern', 'eastern_goldfields', 'western', 'australia', 'cassidy_whitaker', 'liu']\n"
     ]
    },
    {
     "data": {
      "application/javascript": "\n            setTimeout(function() {\n                var nbb_cell_id = 25;\n                var nbb_unformatted_code = \"# View the corresponding corpus with bigrams\\nprint(bigram_corpus[0])\";\n                var nbb_formatted_code = \"# View the corresponding corpus with bigrams\\nprint(bigram_corpus[0])\";\n                var nbb_cells = Jupyter.notebook.get_cells();\n                for (var i = 0; i < nbb_cells.length; ++i) {\n                    if (nbb_cells[i].input_prompt_number == nbb_cell_id) {\n                        if (nbb_cells[i].get_text() == nbb_unformatted_code) {\n                             nbb_cells[i].set_text(nbb_formatted_code);\n                        }\n                        break;\n                    }\n                }\n            }, 500);\n            ",
      "text/plain": [
       "<IPython.core.display.Javascript object>"
      ]
     },
     "metadata": {},
     "output_type": "display_data"
    }
   ],
   "source": [
    "# View the corresponding corpus with bigrams\n",
    "print(bigram_corpus[0])"
   ]
  },
  {
   "cell_type": "code",
   "execution_count": 26,
   "metadata": {
    "colab": {
     "base_uri": "https://localhost:8080/",
     "height": 54
    },
    "colab_type": "code",
    "executionInfo": {
     "elapsed": 107306,
     "status": "ok",
     "timestamp": 1585055394787,
     "user": {
      "displayName": "Tyler Bikaun",
      "photoUrl": "",
      "userId": "18384825377619195869"
     },
     "user_tz": -480
    },
    "id": "mAOCYcq0Dt4w",
    "outputId": "96c419d2-bb4c-4b5f-bb23-89f7b7f83fd5"
   },
   "outputs": [
    {
     "name": "stdout",
     "output_type": "stream",
     "text": [
      "[(162, 27), (12, 17), (25, 13), (69, 13), (173, 10), (207, 10), (3, 8), (26, 8), (106, 7), (177, 7), (136, 6), (214, 6), (227, 6), (27, 5), (82, 5), (116, 5), (124, 5), (159, 5), (182, 5), (16, 4), (35, 4), (46, 4), (62, 4), (83, 4), (87, 4), (105, 4), (112, 4), (115, 4), (117, 4), (170, 4), (174, 4), (176, 4), (209, 4), (1, 3), (13, 3), (28, 3), (52, 3), (57, 3), (59, 3), (73, 3), (78, 3), (84, 3), (85, 3), (129, 3), (134, 3), (140, 3), (151, 3), (154, 3), (160, 3), (166, 3), (172, 3), (178, 3), (189, 3), (194, 3), (213, 3), (233, 3), (5, 2), (6, 2), (10, 2), (29, 2), (37, 2), (42, 2), (44, 2), (47, 2), (51, 2), (53, 2), (54, 2), (66, 2), (75, 2), (76, 2), (77, 2), (92, 2), (95, 2), (110, 2), (114, 2), (123, 2), (125, 2), (127, 2), (128, 2), (137, 2), (150, 2), (158, 2), (163, 2), (171, 2), (175, 2), (179, 2), (183, 2), (187, 2), (188, 2), (191, 2), (195, 2), (200, 2), (203, 2), (216, 2), (217, 2), (0, 1), (2, 1), (4, 1), (7, 1), (8, 1), (9, 1), (11, 1), (14, 1), (15, 1), (17, 1), (18, 1), (19, 1), (20, 1), (21, 1), (22, 1), (23, 1), (24, 1), (30, 1), (31, 1), (32, 1), (33, 1), (34, 1), (36, 1), (38, 1), (39, 1), (40, 1), (41, 1), (43, 1), (45, 1), (48, 1), (49, 1), (50, 1), (55, 1), (56, 1), (58, 1), (60, 1), (61, 1), (63, 1), (64, 1), (65, 1), (67, 1), (68, 1), (70, 1), (71, 1), (72, 1), (74, 1), (79, 1), (80, 1), (81, 1), (86, 1), (88, 1), (89, 1), (90, 1), (91, 1), (93, 1), (94, 1), (96, 1), (97, 1), (98, 1), (99, 1), (100, 1), (101, 1), (102, 1), (103, 1), (104, 1), (107, 1), (108, 1), (109, 1), (111, 1), (113, 1), (118, 1), (119, 1), (120, 1), (121, 1), (122, 1), (126, 1), (130, 1), (131, 1), (132, 1), (133, 1), (135, 1), (138, 1), (139, 1), (141, 1), (142, 1), (143, 1), (144, 1), (145, 1), (146, 1), (147, 1), (148, 1), (149, 1), (152, 1), (153, 1), (155, 1), (156, 1), (157, 1), (161, 1), (164, 1), (165, 1), (167, 1), (168, 1), (169, 1), (180, 1), (181, 1), (184, 1), (185, 1), (186, 1), (190, 1), (192, 1), (193, 1), (196, 1), (197, 1), (198, 1), (199, 1), (201, 1), (202, 1), (204, 1), (205, 1), (206, 1), (208, 1), (210, 1), (211, 1), (212, 1), (215, 1), (218, 1), (219, 1), (220, 1), (221, 1), (222, 1), (223, 1), (224, 1), (225, 1), (226, 1), (228, 1), (229, 1), (230, 1), (231, 1), (232, 1)]\n"
     ]
    },
    {
     "data": {
      "application/javascript": "\n            setTimeout(function() {\n                var nbb_cell_id = 26;\n                var nbb_unformatted_code = \"# Sort documents by term frequency e.g. most frequency first\\nsorted_by_value = sorted(bow_corpus[0], key=lambda kv: kv[1], reverse=True)\\nprint(sorted_by_value)\";\n                var nbb_formatted_code = \"# Sort documents by term frequency e.g. most frequency first\\nsorted_by_value = sorted(bow_corpus[0], key=lambda kv: kv[1], reverse=True)\\nprint(sorted_by_value)\";\n                var nbb_cells = Jupyter.notebook.get_cells();\n                for (var i = 0; i < nbb_cells.length; ++i) {\n                    if (nbb_cells[i].input_prompt_number == nbb_cell_id) {\n                        if (nbb_cells[i].get_text() == nbb_unformatted_code) {\n                             nbb_cells[i].set_text(nbb_formatted_code);\n                        }\n                        break;\n                    }\n                }\n            }, 500);\n            ",
      "text/plain": [
       "<IPython.core.display.Javascript object>"
      ]
     },
     "metadata": {},
     "output_type": "display_data"
    }
   ],
   "source": [
    "# Sort documents by term frequency e.g. most frequency first\n",
    "sorted_by_value = sorted(bow_corpus[0], key=lambda kv: kv[1], reverse=True)\n",
    "print(sorted_by_value)"
   ]
  },
  {
   "cell_type": "code",
   "execution_count": 27,
   "metadata": {
    "colab": {
     "base_uri": "https://localhost:8080/",
     "height": 1000
    },
    "colab_type": "code",
    "executionInfo": {
     "elapsed": 107183,
     "status": "ok",
     "timestamp": 1585055394787,
     "user": {
      "displayName": "Tyler Bikaun",
      "photoUrl": "",
      "userId": "18384825377619195869"
     },
     "user_tz": -480
    },
    "id": "HRuNQmZKDt4z",
    "outputId": "43e5bccd-3ef5-4580-8847-d0bb32bc1845"
   },
   "outputs": [
    {
     "data": {
      "text/plain": [
       "[('project', 27),\n",
       " ('area', 17),\n",
       " ('castle_hill', 13),\n",
       " ('exploration', 13),\n",
       " ('report', 10),\n",
       " ('tenement', 10),\n",
       " ('activity', 8),\n",
       " ('cazaly', 8),\n",
       " ('kalgoorlie', 7),\n",
       " ('review', 7),\n",
       " ('nickel', 6),\n",
       " ('ultramafic', 6),\n",
       " ('within', 6),\n",
       " ('cazaly_resources', 5),\n",
       " ('geology', 5),\n",
       " ('limit', 5),\n",
       " ('mafic', 5),\n",
       " ('potential', 5),\n",
       " ('september', 5),\n",
       " ('available', 4),\n",
       " ('combine', 4),\n",
       " ('coolgardie', 4),\n",
       " ('domain', 4),\n",
       " ('gold', 4),\n",
       " ('group', 4),\n",
       " ('july', 4),\n",
       " ('kunanalle', 4),\n",
       " ('lie', 4),\n",
       " ('limited', 4),\n",
       " ('regional', 4),\n",
       " ('reporting', 4),\n",
       " ('resource', 4),\n",
       " ('terrane', 4),\n",
       " ('acquisition', 3),\n",
       " ('assess', 3),\n",
       " ('cazalys', 3),\n",
       " ('dataset', 3),\n",
       " ('detail', 3),\n",
       " ('direct_towards', 3),\n",
       " ('fault', 3),\n",
       " ('follow', 3),\n",
       " ('grant', 3),\n",
       " ('greenstone', 3),\n",
       " ('mineral', 3),\n",
       " ('nearby', 3),\n",
       " ('north', 3),\n",
       " ('part', 3),\n",
       " ('period', 3),\n",
       " ('previous', 3),\n",
       " ('rate', 3),\n",
       " ('relate', 3),\n",
       " ('rock', 3),\n",
       " ('sheet', 3),\n",
       " ('structural', 3),\n",
       " ('trend', 3),\n",
       " ('zone', 3),\n",
       " ('adjacent', 2),\n",
       " ('along', 2),\n",
       " ('application', 2),\n",
       " ('characterise', 2),\n",
       " ('comprise', 2),\n",
       " ('consmin', 2),\n",
       " ('contact', 2),\n",
       " ('cover', 2),\n",
       " ('data', 2),\n",
       " ('date', 2),\n",
       " ('datum', 2),\n",
       " ('eastern_goldfields', 2),\n",
       " ('felsic', 2),\n",
       " ('felsic_volcanism', 2),\n",
       " ('field', 2),\n",
       " ('highly', 2),\n",
       " ('immediately', 2),\n",
       " ('know', 2),\n",
       " ('licence', 2),\n",
       " ('low', 2),\n",
       " ('major', 2),\n",
       " ('manage', 2),\n",
       " ('map', 2),\n",
       " ('nine', 2),\n",
       " ('overlie', 2),\n",
       " ('post', 2),\n",
       " ('prospect', 2),\n",
       " ('register_holder', 2),\n",
       " ('reporting_period', 2),\n",
       " ('scale', 2),\n",
       " ('sequence', 2),\n",
       " ('sh', 2),\n",
       " ('shear', 2),\n",
       " ('southern', 2),\n",
       " ('structure', 2),\n",
       " ('succession', 2),\n",
       " ('swag', 2),\n",
       " ('underlain', 2),\n",
       " ('undertake', 2),\n",
       " ('accordingly', 1),\n",
       " ('across', 1),\n",
       " ('add', 1),\n",
       " ('also', 1),\n",
       " ('anomaly', 1),\n",
       " ('anticline', 1),\n",
       " ('archaean', 1),\n",
       " ('australia', 1),\n",
       " ('author', 1),\n",
       " ('axis', 1),\n",
       " ('bali_monzogranite', 1),\n",
       " ('basalt', 1),\n",
       " ('basin', 1),\n",
       " ('belt', 1),\n",
       " ('bound', 1),\n",
       " ('calcic_bali', 1),\n",
       " ('cassidy_whitaker', 1),\n",
       " ('classify', 1),\n",
       " ('clastic', 1),\n",
       " ('clastics_conglomeratic', 1),\n",
       " ('coarse', 1),\n",
       " ('coincident', 1),\n",
       " ('combined', 1),\n",
       " ('conclusion', 1),\n",
       " ('conjunction', 1),\n",
       " ('consider', 1),\n",
       " ('consistent', 1),\n",
       " ('consolidated', 1),\n",
       " ('control', 1),\n",
       " ('cr', 1),\n",
       " ('cu', 1),\n",
       " ('cut', 1),\n",
       " ('department_industry', 1),\n",
       " ('deposit', 1),\n",
       " ('dextral', 1),\n",
       " ('distribution', 1),\n",
       " ('district', 1),\n",
       " ('drill', 1),\n",
       " ('east', 1),\n",
       " ('eastern_goldfield', 1),\n",
       " ('economic', 1),\n",
       " ('evolution', 1),\n",
       " ('explore', 1),\n",
       " ('extend', 1),\n",
       " ('extremely', 1),\n",
       " ('faultcontact', 1),\n",
       " ('formation', 1),\n",
       " ('future', 1),\n",
       " ('generally', 1),\n",
       " ('greenstone_belt', 1),\n",
       " ('hectare', 1),\n",
       " ('hectare_cazaly', 1),\n",
       " ('high', 1),\n",
       " ('highlight', 1),\n",
       " ('host', 1),\n",
       " ('house', 1),\n",
       " ('include', 1),\n",
       " ('index', 1),\n",
       " ('information', 1),\n",
       " ('initial', 1),\n",
       " ('inspection', 1),\n",
       " ('interflow_sediment', 1),\n",
       " ('introduction', 1),\n",
       " ('intrusive', 1),\n",
       " ('joint_venture', 1),\n",
       " ('kintore', 1),\n",
       " ('kintore_tonalite', 1),\n",
       " ('km', 1),\n",
       " ('ksz', 1),\n",
       " ('late', 1),\n",
       " ('liu', 1),\n",
       " ('local', 1),\n",
       " ('locate', 1),\n",
       " ('location', 1),\n",
       " ('lodge', 1),\n",
       " ('majority', 1),\n",
       " ('mineralisation', 1),\n",
       " ('minerals', 1),\n",
       " ('monzogranite', 1),\n",
       " ('mostly', 1),\n",
       " ('ni', 1),\n",
       " ('nnw', 1),\n",
       " ('norseman_wiluna', 1),\n",
       " ('northeast', 1),\n",
       " ('northern', 1),\n",
       " ('northwest', 1),\n",
       " ('november', 1),\n",
       " ('observe', 1),\n",
       " ('occur', 1),\n",
       " ('october', 1),\n",
       " ('operator', 1),\n",
       " ('overlain', 1),\n",
       " ('patch', 1),\n",
       " ('pende', 1),\n",
       " ('pertain', 1),\n",
       " ('plan', 1),\n",
       " ('possibly_rift', 1),\n",
       " ('program', 1),\n",
       " ('province', 1),\n",
       " ('rab', 1),\n",
       " ('ratio', 1),\n",
       " ('refer', 1),\n",
       " ('region', 1),\n",
       " ('section', 1),\n",
       " ('segregate_elongate', 1),\n",
       " ('sequences', 1),\n",
       " ('sequences_kurrawang', 1),\n",
       " ('several', 1),\n",
       " ('situate', 1),\n",
       " ('status', 1),\n",
       " ('stratigraphic', 1),\n",
       " ('sub', 1),\n",
       " ('subaqueous', 1),\n",
       " ('submarine', 1),\n",
       " ('subsequently', 1),\n",
       " ('summary', 1),\n",
       " ('supracrustal_succession', 1),\n",
       " ('synclinal', 1),\n",
       " ('table', 1),\n",
       " ('target', 1),\n",
       " ('tenure', 1),\n",
       " ('thick', 1),\n",
       " ('thin', 1),\n",
       " ('traverse', 1),\n",
       " ('unconformably_overly', 1),\n",
       " ('upper', 1),\n",
       " ('utilize', 1),\n",
       " ('volcanic', 1),\n",
       " ('volcaniclastic', 1),\n",
       " ('volcanism', 1),\n",
       " ('watts', 1),\n",
       " ('west', 1),\n",
       " ('western', 1),\n",
       " ('whole', 1),\n",
       " ('wnw', 1),\n",
       " ('work', 1),\n",
       " ('year', 1),\n",
       " ('yilgarn_craton', 1),\n",
       " ('zn', 1)]"
      ]
     },
     "execution_count": 27,
     "metadata": {},
     "output_type": "execute_result"
    },
    {
     "data": {
      "application/javascript": "\n            setTimeout(function() {\n                var nbb_cell_id = 27;\n                var nbb_unformatted_code = \"# View a human readable format of corpus (term-frequency)\\n[(id2word[id], freq) for id, freq in sorted_by_value] \";\n                var nbb_formatted_code = \"# View a human readable format of corpus (term-frequency)\\n[(id2word[id], freq) for id, freq in sorted_by_value]\";\n                var nbb_cells = Jupyter.notebook.get_cells();\n                for (var i = 0; i < nbb_cells.length; ++i) {\n                    if (nbb_cells[i].input_prompt_number == nbb_cell_id) {\n                        if (nbb_cells[i].get_text() == nbb_unformatted_code) {\n                             nbb_cells[i].set_text(nbb_formatted_code);\n                        }\n                        break;\n                    }\n                }\n            }, 500);\n            ",
      "text/plain": [
       "<IPython.core.display.Javascript object>"
      ]
     },
     "metadata": {},
     "output_type": "display_data"
    }
   ],
   "source": [
    "# View a human readable format of corpus (term-frequency)\n",
    "[(id2word[id], freq) for id, freq in sorted_by_value] "
   ]
  },
  {
   "cell_type": "markdown",
   "metadata": {
    "colab_type": "text",
    "id": "xJB50q8AFeE6"
   },
   "source": [
    "## Train LDA Model <a name=\"training\"></a>"
   ]
  },
  {
   "cell_type": "markdown",
   "metadata": {},
   "source": [
    "<img src=\"https://miro.medium.com/max/800/1*pZo_IcxW1GVuH2vQKdoIMQ.jpeg\" alt=\"LDA example\" style=\"width:600px;\"/>"
   ]
  },
  {
   "cell_type": "markdown",
   "metadata": {},
   "source": [
    "Here we train a LDA topic mode on our bag-of-words corpus. We initially set the `number of topics` we believe are in the corpus to 10. Only a single `pass` is performed through the corpus, but this could be increased to get better results. However, it is computationally expensive."
   ]
  },
  {
   "cell_type": "code",
   "execution_count": 28,
   "metadata": {
    "colab": {},
    "colab_type": "code",
    "id": "bgj-Ob96Dt43"
   },
   "outputs": [
    {
     "data": {
      "application/javascript": "\n            setTimeout(function() {\n                var nbb_cell_id = 28;\n                var nbb_unformatted_code = \"# Build LDA model\\nlda_model = gensim.models.ldamodel.LdaModel(corpus=bow_corpus,\\n                                           id2word=id2word,\\n                                           num_topics=10, \\n                                           random_state=100,\\n                                           update_every=1,\\n                                           chunksize=100,\\n                                           passes=1,   # To get an improved LDA model, this can be increased\\n                                           alpha='auto',\\n                                           per_word_topics=True)\";\n                var nbb_formatted_code = \"# Build LDA model\\nlda_model = gensim.models.ldamodel.LdaModel(\\n    corpus=bow_corpus,\\n    id2word=id2word,\\n    num_topics=10,\\n    random_state=100,\\n    update_every=1,\\n    chunksize=100,\\n    passes=1,  # To get an improved LDA model, this can be increased\\n    alpha=\\\"auto\\\",\\n    per_word_topics=True,\\n)\";\n                var nbb_cells = Jupyter.notebook.get_cells();\n                for (var i = 0; i < nbb_cells.length; ++i) {\n                    if (nbb_cells[i].input_prompt_number == nbb_cell_id) {\n                        if (nbb_cells[i].get_text() == nbb_unformatted_code) {\n                             nbb_cells[i].set_text(nbb_formatted_code);\n                        }\n                        break;\n                    }\n                }\n            }, 500);\n            ",
      "text/plain": [
       "<IPython.core.display.Javascript object>"
      ]
     },
     "metadata": {},
     "output_type": "display_data"
    }
   ],
   "source": [
    "# Build LDA model\n",
    "lda_model = gensim.models.ldamodel.LdaModel(corpus=bow_corpus,\n",
    "                                           id2word=id2word,\n",
    "                                           num_topics=10, \n",
    "                                           random_state=100,\n",
    "                                           update_every=1,\n",
    "                                           chunksize=100,\n",
    "                                           passes=1,   # To get an improved LDA model, this can be increased\n",
    "                                           alpha='auto',\n",
    "                                           per_word_topics=True)"
   ]
  },
  {
   "cell_type": "markdown",
   "metadata": {},
   "source": [
    "Here we show the topics elicited from the LDA model and the top keywords in the 10 topics. This shows the weighted importance of each word in each topic."
   ]
  },
  {
   "cell_type": "code",
   "execution_count": 29,
   "metadata": {
    "colab": {
     "base_uri": "https://localhost:8080/",
     "height": 697
    },
    "colab_type": "code",
    "executionInfo": {
     "elapsed": 125897,
     "status": "ok",
     "timestamp": 1585055416270,
     "user": {
      "displayName": "Tyler Bikaun",
      "photoUrl": "",
      "userId": "18384825377619195869"
     },
     "user_tz": -480
    },
    "id": "zJfngkYiDt46",
    "outputId": "e14fe77c-70a6-4883-a9f6-26f31a9aff96"
   },
   "outputs": [
    {
     "name": "stdout",
     "output_type": "stream",
     "text": [
      "[(0,\n",
      "  '0.015*\"area\" + 0.015*\"tenement\" + 0.014*\"gold\" + 0.012*\"project\" + '\n",
      "  '0.012*\"exploration\" + 0.010*\"report\" + 0.008*\"within\" + 0.008*\"rock\" + '\n",
      "  '0.008*\"australia\" + 0.007*\"western\"'),\n",
      " (1,\n",
      "  '0.015*\"gold\" + 0.013*\"area\" + 0.011*\"sample\" + 0.010*\"exploration\" + '\n",
      "  '0.010*\"tenement\" + 0.010*\"project\" + 0.009*\"report\" + 0.007*\"rock\" + '\n",
      "  '0.007*\"drilling\" + 0.006*\"soil\"'),\n",
      " (2,\n",
      "  '0.008*\"quartz\" + 0.007*\"vein\" + 0.007*\"carbonate\" + 0.007*\"fine\" + '\n",
      "  '0.006*\"deposit\" + 0.006*\"pyrite\" + 0.006*\"sf\" + 0.005*\"iron\" + '\n",
      "  '0.005*\"matrix\" + 0.004*\"mineralisation\"'),\n",
      " (3,\n",
      "  '0.013*\"resource\" + 0.012*\"gold\" + 0.011*\"grade\" + 0.011*\"hole\" + '\n",
      "  '0.009*\"zone\" + 0.009*\"drill\" + 0.009*\"pit\" + 0.008*\"drilling\" + '\n",
      "  '0.008*\"sample\" + 0.007*\"mineralisation\"'),\n",
      " (4,\n",
      "  '0.019*\"datum\" + 0.016*\"survey\" + 0.011*\"area\" + 0.008*\"use\" + '\n",
      "  '0.008*\"magnetic\" + 0.007*\"gravity\" + 0.006*\"report\" + 0.006*\"base\" + '\n",
      "  '0.006*\"line\" + 0.006*\"sample\"'),\n",
      " (5,\n",
      "  '0.018*\"sample\" + 0.013*\"hole\" + 0.012*\"survey\" + 0.011*\"ultramafic\" + '\n",
      "  '0.011*\"sulphide\" + 0.010*\"ni\" + 0.009*\"nickel\" + 0.008*\"area\" + '\n",
      "  '0.008*\"within\" + 0.008*\"anomaly\"'),\n",
      " (6,\n",
      "  '0.015*\"report\" + 0.009*\"coal\" + 0.008*\"project\" + 0.008*\"resource\" + '\n",
      "  '0.008*\"exploration\" + 0.007*\"pty\" + 0.006*\"site\" + 0.006*\"may\" + '\n",
      "  '0.005*\"ltd\" + 0.005*\"sample\"'),\n",
      " (7,\n",
      "  '0.023*\"area\" + 0.012*\"survey\" + 0.011*\"iron\" + 0.010*\"vegetation\" + '\n",
      "  '0.010*\"low\" + 0.010*\"sample\" + 0.010*\"western\" + 0.008*\"site\" + '\n",
      "  '0.008*\"pilbara\" + 0.008*\"specie\"'),\n",
      " (8,\n",
      "  '0.063*\"survey\" + 0.008*\"rab\" + 0.006*\"tek\" + 0.004*\"commercial_confidence\" '\n",
      "  '+ 0.004*\"hole\" + 0.003*\"resource\" + 0.003*\"report\" + 0.003*\"rc\" + '\n",
      "  '0.003*\"equivalent_mmr\" + 0.003*\"table\"'),\n",
      " (9,\n",
      "  '0.017*\"rock\" + 0.014*\"quartz\" + 0.012*\"metamorphic\" + 0.012*\"biotite\" + '\n",
      "  '0.011*\"form\" + 0.011*\"small\" + 0.010*\"grain\" + 0.009*\"occur\" + '\n",
      "  '0.008*\"sample\" + 0.008*\"alteration\"')]\n"
     ]
    },
    {
     "data": {
      "application/javascript": "\n            setTimeout(function() {\n                var nbb_cell_id = 29;\n                var nbb_unformatted_code = \"pprint(lda_model.print_topics())\";\n                var nbb_formatted_code = \"pprint(lda_model.print_topics())\";\n                var nbb_cells = Jupyter.notebook.get_cells();\n                for (var i = 0; i < nbb_cells.length; ++i) {\n                    if (nbb_cells[i].input_prompt_number == nbb_cell_id) {\n                        if (nbb_cells[i].get_text() == nbb_unformatted_code) {\n                             nbb_cells[i].set_text(nbb_formatted_code);\n                        }\n                        break;\n                    }\n                }\n            }, 500);\n            ",
      "text/plain": [
       "<IPython.core.display.Javascript object>"
      ]
     },
     "metadata": {},
     "output_type": "display_data"
    }
   ],
   "source": [
    "pprint(lda_model.print_topics())"
   ]
  },
  {
   "cell_type": "code",
   "execution_count": 30,
   "metadata": {},
   "outputs": [
    {
     "data": {
      "application/javascript": "\n            setTimeout(function() {\n                var nbb_cell_id = 30;\n                var nbb_unformatted_code = \"doc_lda = lda_model[bow_corpus]\";\n                var nbb_formatted_code = \"doc_lda = lda_model[bow_corpus]\";\n                var nbb_cells = Jupyter.notebook.get_cells();\n                for (var i = 0; i < nbb_cells.length; ++i) {\n                    if (nbb_cells[i].input_prompt_number == nbb_cell_id) {\n                        if (nbb_cells[i].get_text() == nbb_unformatted_code) {\n                             nbb_cells[i].set_text(nbb_formatted_code);\n                        }\n                        break;\n                    }\n                }\n            }, 500);\n            ",
      "text/plain": [
       "<IPython.core.display.Javascript object>"
      ]
     },
     "metadata": {},
     "output_type": "display_data"
    }
   ],
   "source": [
    "doc_lda = lda_model[bow_corpus]"
   ]
  },
  {
   "cell_type": "markdown",
   "metadata": {},
   "source": [
    "To evaluate the quality of our topic model, we can compute its `perplexity` and `coherence`."
   ]
  },
  {
   "cell_type": "code",
   "execution_count": 31,
   "metadata": {
    "colab": {
     "base_uri": "https://localhost:8080/",
     "height": 85
    },
    "colab_type": "code",
    "executionInfo": {
     "elapsed": 173002,
     "status": "ok",
     "timestamp": 1585055464987,
     "user": {
      "displayName": "Tyler Bikaun",
      "photoUrl": "",
      "userId": "18384825377619195869"
     },
     "user_tz": -480
    },
    "id": "1-dKSB0iDt49",
    "outputId": "db882fd4-1589-4e22-a8bc-44f005a6c5e5"
   },
   "outputs": [
    {
     "name": "stdout",
     "output_type": "stream",
     "text": [
      "Perplexity: -8.497820323965014\n"
     ]
    },
    {
     "data": {
      "application/javascript": "\n            setTimeout(function() {\n                var nbb_cell_id = 31;\n                var nbb_unformatted_code = \"# Compute Perplexity - lower is better.\\nprint(f'Perplexity: {lda_model.log_perplexity(bow_corpus)}')\";\n                var nbb_formatted_code = \"# Compute Perplexity - lower is better.\\nprint(f\\\"Perplexity: {lda_model.log_perplexity(bow_corpus)}\\\")\";\n                var nbb_cells = Jupyter.notebook.get_cells();\n                for (var i = 0; i < nbb_cells.length; ++i) {\n                    if (nbb_cells[i].input_prompt_number == nbb_cell_id) {\n                        if (nbb_cells[i].get_text() == nbb_unformatted_code) {\n                             nbb_cells[i].set_text(nbb_formatted_code);\n                        }\n                        break;\n                    }\n                }\n            }, 500);\n            ",
      "text/plain": [
       "<IPython.core.display.Javascript object>"
      ]
     },
     "metadata": {},
     "output_type": "display_data"
    }
   ],
   "source": [
    "# Compute Perplexity - lower is better.\n",
    "print(f'Perplexity: {lda_model.log_perplexity(bow_corpus)}')"
   ]
  },
  {
   "cell_type": "code",
   "execution_count": 32,
   "metadata": {},
   "outputs": [
    {
     "name": "stdout",
     "output_type": "stream",
     "text": [
      "\n",
      "Coherence Score:  0.45187832443979614\n"
     ]
    },
    {
     "data": {
      "application/javascript": "\n            setTimeout(function() {\n                var nbb_cell_id = 32;\n                var nbb_unformatted_code = \"# Compute Coherence Score\\ncoherence_model_lda = CoherenceModel(model=lda_model, texts=bigram_corpus, dictionary=id2word, coherence='c_v')\\ncoherence_lda = coherence_model_lda.get_coherence()\\nprint('\\\\nCoherence Score: ', coherence_lda)\";\n                var nbb_formatted_code = \"# Compute Coherence Score\\ncoherence_model_lda = CoherenceModel(\\n    model=lda_model, texts=bigram_corpus, dictionary=id2word, coherence=\\\"c_v\\\"\\n)\\ncoherence_lda = coherence_model_lda.get_coherence()\\nprint(\\\"\\\\nCoherence Score: \\\", coherence_lda)\";\n                var nbb_cells = Jupyter.notebook.get_cells();\n                for (var i = 0; i < nbb_cells.length; ++i) {\n                    if (nbb_cells[i].input_prompt_number == nbb_cell_id) {\n                        if (nbb_cells[i].get_text() == nbb_unformatted_code) {\n                             nbb_cells[i].set_text(nbb_formatted_code);\n                        }\n                        break;\n                    }\n                }\n            }, 500);\n            ",
      "text/plain": [
       "<IPython.core.display.Javascript object>"
      ]
     },
     "metadata": {},
     "output_type": "display_data"
    }
   ],
   "source": [
    "# Compute Coherence Score\n",
    "coherence_model_lda = CoherenceModel(model=lda_model, texts=bigram_corpus, dictionary=id2word, coherence='c_v')\n",
    "coherence_lda = coherence_model_lda.get_coherence()\n",
    "print('\\nCoherence Score: ', coherence_lda)"
   ]
  },
  {
   "cell_type": "markdown",
   "metadata": {
    "colab_type": "text",
    "id": "HSGCyT8WDt5B"
   },
   "source": [
    "## Interactive LDA Visualisation <a name=\"visualisation\"></a> \n",
    "\n",
    "#### Wait, what am I looking at again?\n",
    "\n",
    "There are a lot of moving parts in the visualization. Here's a brief summary:\n",
    "\n",
    "On the left, there is a plot of the \"distance\" between all of the topics (labeled as the Intertopic Distance Map)\n",
    "The plot is rendered in two dimensions according a multidimensional scaling (MDS) algorithm. Topics that are generally similar should be appear close together on the plot, while dissimilar topics should appear far apart.\n",
    "\n",
    "The relative size of a topic's circle in the plot corresponds to the relative frequency of the topic in the corpus.\n",
    "\n",
    "An individual topic may be selected for closer scrutiny by clicking on its circle, or entering its number in the \"selected topic\" box in the upper-left.\n",
    "\n",
    "On the right, there is a bar chart showing top terms.\n",
    "When no topic is selected in the plot on the left, the bar chart shows the top most \"salient\" terms in the corpus. A term's saliency is a measure of both how frequent the term is in the corpus and how \"distinctive\" it is in distinguishing between different topics.\n",
    "\n",
    "When a particular topic is selected, the bar chart changes to show the top most \"relevant\" terms for the selected topic. The relevance metric is controlled by the parameter λλ, which can be adjusted with a slider above the bar chart.\n",
    "\n",
    "Setting the λλ parameter close to 1.0 (the default) will rank the terms solely according to their probability within the topic.\n",
    "\n",
    "Setting λλ close to 0.0 will rank the terms solely according to their \"distinctiveness\" or \"exclusivity\" within the topic — i.e., terms that occur only in this topic, and do not occur in other topics.\n",
    "\n",
    "Setting λλ to values between 0.0 and 1.0 will result in an intermediate ranking, weighting term probability and exclusivity accordingly.\n",
    "\n",
    "Rolling the mouse over a term in the bar chart on the right will cause the topic circles to resize in the plot on the left, to show the strength of the relationship between the topics and the selected term.\n",
    "\n",
    "A more detailed explanation of the pyLDAvis visualization can be found here. Unfortunately, though the data used by gensim and pyLDAvis are the same, they don't use the same ID numbers for topics. If you need to match up topics in gensim's LdaMulticore object and pyLDAvis' visualization, you have to dig through the terms manually.\n",
    "\n",
    "#### Analyzing our LDA model\n",
    "The interactive visualization pyLDAvis produces is helpful for both:\n",
    "\n",
    "Better understanding and interpreting individual topics, and Better understanding the relationships between the topics.\n",
    "\n",
    "For (1), you can manually select each topic to view its top most freqeuent and/or \"relevant\" terms, using different values of the λλ parameter. This can help when you're trying to assign a human interpretable name or \"meaning\" to each topic.\n",
    "\n",
    "For (2), exploring the Intertopic Distance Plot can help you learn about how topics relate to each other, including potential higher-level structure between groups of topics.\n",
    "\n",
    "#### Describing text with LDA\n",
    "Beyond data exploration, one of the key uses for an LDA model is providing a compact, quantitative description of natural language text. Once an LDA model has been trained, it can be used to represent free text as a mixture of the topics the model learned from the original corpus. This mixture can be interpreted as a probability distribution across the topics, so the LDA representation of a paragraph of text might look like 50% Topic A, 20% Topic B, 20% Topic C, and 10% Topic D.\n",
    "\n",
    "To use an LDA model to generate a vector representation of new text, you'll need to apply any text preprocessing steps you used on the model's training corpus to the new text, too. For our model, the preprocessing steps we used include:\n",
    "\n",
    "Using spaCy to remove punctuation and lemmatize the text\n",
    "\n",
    "- Applying our first-order phrase model to join word pairs\n",
    "- Applying our second-order phrase model to join longer phrases\n",
    "- Removing stopwords\n",
    "- Creating a bag-of-words representation\n",
    "- Once you've applied these preprocessing steps to the new text, it's ready to pass directly to the model to create an LDA representation. The lda_description(...) function will perform all these steps for us, including printing the resulting topical description of the input text.\n",
    "\n",
    "##### Acknowledgement: https://www.kaggle.com/navinch/interesting-visualizations-lda-word2vec"
   ]
  },
  {
   "cell_type": "markdown",
   "metadata": {},
   "source": [
    "### Visualize the topics"
   ]
  },
  {
   "cell_type": "code",
   "execution_count": 33,
   "metadata": {},
   "outputs": [
    {
     "data": {
      "application/javascript": "\n            setTimeout(function() {\n                var nbb_cell_id = 33;\n                var nbb_unformatted_code = \"pyLDAvis.enable_notebook()\";\n                var nbb_formatted_code = \"pyLDAvis.enable_notebook()\";\n                var nbb_cells = Jupyter.notebook.get_cells();\n                for (var i = 0; i < nbb_cells.length; ++i) {\n                    if (nbb_cells[i].input_prompt_number == nbb_cell_id) {\n                        if (nbb_cells[i].get_text() == nbb_unformatted_code) {\n                             nbb_cells[i].set_text(nbb_formatted_code);\n                        }\n                        break;\n                    }\n                }\n            }, 500);\n            ",
      "text/plain": [
       "<IPython.core.display.Javascript object>"
      ]
     },
     "metadata": {},
     "output_type": "display_data"
    }
   ],
   "source": [
    "pyLDAvis.enable_notebook()"
   ]
  },
  {
   "cell_type": "code",
   "execution_count": 34,
   "metadata": {
    "colab": {
     "base_uri": "https://localhost:8080/",
     "height": 997
    },
    "colab_type": "code",
    "executionInfo": {
     "elapsed": 1213516,
     "status": "ok",
     "timestamp": 1585056508049,
     "user": {
      "displayName": "Tyler Bikaun",
      "photoUrl": "",
      "userId": "18384825377619195869"
     },
     "user_tz": -480
    },
    "id": "KwprcYdADt5C",
    "outputId": "4243c9a6-27b6-4901-bb2d-8aff5560dde4"
   },
   "outputs": [
    {
     "name": "stderr",
     "output_type": "stream",
     "text": [
      "c:\\Users\\Tyler\\AppData\\Local\\Programs\\Python\\Python38\\lib\\site-packages\\pyLDAvis\\_prepare.py:246: FutureWarning: In a future version of pandas all arguments of DataFrame.drop except for the argument 'labels' will be keyword-only.\n",
      "  default_term_info = default_term_info.sort_values(\n"
     ]
    },
    {
     "data": {
      "text/html": [
       "\n",
       "<link rel=\"stylesheet\" type=\"text/css\" href=\"https://cdn.jsdelivr.net/gh/bmabey/pyLDAvis@3.3.1/pyLDAvis/js/ldavis.v1.0.0.css\">\n",
       "\n",
       "\n",
       "<div id=\"ldavis_el551213708253664326786981724\"></div>\n",
       "<script type=\"text/javascript\">\n",
       "\n",
       "var ldavis_el551213708253664326786981724_data = {\"mdsDat\": {\"x\": [0.09734291834271275, 0.046600431766062295, 0.07053581068983246, 0.0786958361317933, 0.020638957957534232, 0.07253833048059706, -0.0055339093963059595, -0.0427799114690007, -0.22863393813960964, -0.1094045263636156], \"y\": [0.013474685832911119, 0.003945869012118151, 0.012837217087526793, -0.002911276813232276, 0.06294378039580899, -0.1806091027331497, 0.12246076698204193, 0.0900771582236206, -0.006625238307660914, -0.11559385967998484], \"topics\": [1, 2, 3, 4, 5, 6, 7, 8, 9, 10], \"cluster\": [1, 1, 1, 1, 1, 1, 1, 1, 1, 1], \"Freq\": [22.383342212181102, 18.346886394423837, 16.429138128475646, 13.176983402174397, 8.31514920483108, 8.175331078717656, 6.8696529207158035, 4.2698225971098624, 1.0519486488254786, 0.9817454125451563]}, \"tinfo\": {\"Term\": [\"survey\", \"area\", \"quartz\", \"datum\", \"vein\", \"rab\", \"rock\", \"biotite\", \"metamorphic\", \"iron\", \"alteration\", \"sulphide\", \"resource\", \"gold\", \"sample\", \"ni\", \"grain\", \"formation\", \"hole\", \"low\", \"report\", \"site\", \"minor\", \"pit\", \"western\", \"ultramafic\", \"deposit\", \"small\", \"form\", \"nickel\", \"braemore\", \"revise_dwg\", \"fraser\", \"mt_celia\", \"overview_archaean\", \"carrick\", \"randell\", \"teck_cominco\", \"roberts\", \"pancontinental\", \"monzonite\", \"metex\", \"childe_harold\", \"yarri\", \"carosue_dam\", \"yilgangi\", \"paterson_tarnwood\", \"agnew\", \"golden_mile\", \"pb_zircon\", \"poseidon\", \"pebbly\", \"ashton\", \"lancefield\", \"cultural_heritage\", \"author_tillick\", \"boddington\", \"collision\", \"woodline\", \"metex_resources\", \"mulgabbie\", \"laverton\", \"avoca\", \"margaret\", \"lake_carey\", \"lindsay\", \"burtville\", \"multi_client\", \"terrane_kurnalpi\", \"angelo\", \"terrane\", \"yilgarn_craton\", \"series_explanatory\", \"craton\", \"heron\", \"tenement\", \"sequence\", \"kalgoorlie\", \"archaean\", \"fault\", \"exploration\", \"project\", \"greenstone\", \"volcanic\", \"gold\", \"trend\", \"sediment\", \"australia\", \"east\", \"area\", \"north\", \"geology\", \"western\", \"ltd\", \"deposit\", \"regional\", \"shear\", \"km\", \"greenstone_belt\", \"cover\", \"comprise\", \"within\", \"locate\", \"report\", \"zone\", \"geological\", \"rock\", \"include\", \"south\", \"mineralisation\", \"west\", \"work\", \"sample\", \"drilling\", \"result\", \"hole\", \"carbine\", \"krige\", \"fluid_conduit\", \"cube_consulting\", \"digitising\", \"tier\", \"tip\", \"ambassador\", \"default\", \"leapfrog\", \"krige_weight\", \"leachwell\", \"mud_rotary\", \"variogram\", \"magellan\", \"slope_regression\", \"apron\", \"datamine\", \"panel\", \"weighting\", \"centaur\", \"compositing\", \"jundee\", \"classify_infer\", \"inch_diameter\", \"altn_weathering\", \"powder_sill\", \"search_strategy\", \"ordinary_krige\", \"selectivity\", \"cube\", \"variography\", \"wireframe\", \"estimation\", \"interpolation\", \"treatment_plant\", \"yaloginda\", \"strain\", \"pit\", \"inverse_distance\", \"estimate\", \"optimisation\", \"domain\", \"sherwood\", \"grade\", \"underground\", \"kunanalle\", \"composite\", \"model\", \"resource\", \"mill\", \"lode\", \"wall\", \"validation\", \"envelope\", \"block\", \"continuity\", \"cut\", \"density\", \"rc\", \"mineralise\", \"use\", \"hole\", \"zone\", \"table\", \"drill\", \"gold\", \"drilling\", \"control\", \"mineralisation\", \"high\", \"mining\", \"core\", \"au\", \"datum\", \"deposit\", \"result\", \"sample\", \"structure\", \"fault\", \"report\", \"within\", \"area\", \"rock\", \"project\", \"low\", \"exploration\", \"c__\", \"trident\", \"bulong_anticline\", \"arl\", \"mt_venn\", \"maglag\", \"woolyeenyer_formation\", \"murrin_murrin\", \"rankin\", \"payable\", \"parker_range\", \"noganyer_formation\", \"spargoville\", \"youanmi\", \"equigold\", \"subsidiary_sipa\", \"penneshaw_formation\", \"saint_barbara\", \"dalgaranga\", \"ic\", \"escarpment\", \"telegraph\", \"bamboo\", \"marble\", \"incorrectly\", \"griffin_find\", \"disclose\", \"owner_copyright\", \"gondwana\", \"bm\", \"marvel_loch\", \"greenfield\", \"rudall_complex\", \"mackay_schnellmann\", \"eclipse\", \"cooke\", \"shaw\", \"sn\", \"evanston\", \"equity\", \"li\", \"polaris\", \"norseman\", \"aug\", \"pgm\", \"helix\", \"calcrete\", \"sipa\", \"ppb\", \"gold\", \"soil\", \"bif\", \"target\", \"auger\", \"anomaly\", \"pegmatite\", \"prospect\", \"tenement\", \"mercator\", \"exploration\", \"reconnaissance\", \"area\", \"anomalous\", \"project\", \"sample\", \"drilling\", \"company\", \"au\", \"report\", \"mineralisation\", \"value\", \"chip\", \"work\", \"rock\", \"mineral\", \"potential\", \"drill\", \"geological\", \"west\", \"south\", \"north\", \"within\", \"mining\", \"zone\", \"mine\", \"western\", \"hole\", \"quartz\", \"datum\", \"result\", \"sally_malay\", \"hoatson_blake\", \"olivine_orthocumulate\", \"chromitite\", \"tickalara_metamorphic\", \"icp\", \"panton\", \"pb_sb\", \"hco\", \"pyroxenitic\", \"pyroxene_spinifex\", \"jubilee_mines\", \"rocklea_dome\", \"ba_bi\", \"maficultramafic_intrusion\", \"lake_johnston\", \"organisation_bulletin\", \"mcintosh\", \"voisey_bay\", \"dot\", \"mlem\", \"olivine_cumulate\", \"ausquest\", \"sgc\", \"tube\", \"decay_curve\", \"conductance\", \"outokumpu\", \"antigorite\", \"stillwater_complex\", \"dhem\", \"conductor\", \"dhtem\", \"maggie_hay\", \"ni\", \"pge\", \"tem\", \"pt_pd\", \"hall_creek\", \"komatiite\", \"conductive\", \"loop\", \"lionore\", \"cu\", \"nickel\", \"co_cr\", \"sulphide\", \"ultramafic\", \"intrusion\", \"mgo\", \"element\", \"basal\", \"anomaly\", \"em\", \"magmatic\", \"sample\", \"hole\", \"survey\", \"kimberley\", \"soil\", \"intersect\", \"mafic\", \"within\", \"flow\", \"collect\", \"drill\", \"zn\", \"line\", \"area\", \"appendix\", \"unit\", \"rock\", \"field\", \"east\", \"au\", \"report\", \"result\", \"datum\", \"tenement\", \"exploration\", \"western\", \"project\", \"mineralisation\", \"drilling\", \"show\", \"remote_sense\", \"circle\", \"hyperspectral\", \"flight_path\", \"bangemall_basin\", \"discriminate\", \"terrain_modelling\", \"blake\", \"water_biogeochemistry\", \"isotope_whole\", \"sp_ap\", \"amt_resistivity\", \"complex_resistivity\", \"ep_ip\", \"gabbroid\", \"parallax\", \"radiation\", \"symbol\", \"aug_groundwater\", \"radar_altimeter\", \"uts\", \"photography_landsat\", \"seismic_refraction\", \"spot_mss\", \"sensitivity_nt\", \"instrument_drift\", \"barometric_altimeter\", \"excursion\", \"spectrometer\", \"navigation\", \"diurnal\", \"compilation_computer\", \"aircraft\", \"lamproite\", \"seismic_reflection\", \"specify\", \"terrain_clearance\", \"pdf_pdf\", \"ellendale\", \"drift\", \"lamboo\", \"flight\", \"gps\", \"gravity\", \"magnetometer\", \"radiometric\", \"correction\", \"alcoa\", \"station\", \"filter\", \"broome\", \"tie\", \"height\", \"processing\", \"datum\", \"reading\", \"resolution\", \"magnetic\", \"airborne\", \"survey\", \"yeneena\", \"image\", \"line\", \"uranium\", \"use\", \"process\", \"fly\", \"base\", \"kimberley\", \"field\", \"sandstone\", \"system\", \"area\", \"geophysical\", \"data\", \"time\", \"ground\", \"value\", \"interpretation\", \"geological\", \"model\", \"report\", \"digital\", \"sample\", \"exploration\", \"project\", \"within\", \"drill\", \"australia\", \"map\", \"high\", \"western\", \"rock\", \"pty\", \"work\", \"include\", \"flake\", \"ragged\", \"colourless\", \"tiny\", \"granoblastic\", \"pale_yellow\", \"poikiloblastic\", \"sphene\", \"foliate_granoblastic\", \"mason_geoscience\", \"bladed\", \"mat\", \"anhedral_subhedral\", \"cordierite\", \"kalpini\", \"indistinct\", \"blocky\", \"polished_thin\", \"prismatic\", \"sillimanite\", \"fmg\", \"ferromagnesian_phenocryst\", \"laminae\", \"ferromagnesian\", \"microcline\", \"ilmenite\", \"rutile\", \"equant\", \"cummingtonite\", \"anhedral\", \"opaque\", \"precursor\", \"gahnite\", \"crystal\", \"orthopyroxene\", \"plagioclase\", \"biotite\", \"tourmaline\", \"grain\", \"anthophyllite\", \"aggregate\", \"zircon\", \"metamorphic\", \"replacement\", \"hornblende\", \"feldspar\", \"pyrrhotite\", \"actinolite\", \"chlorite\", \"phenocryst\", \"foliation\", \"sphalerite\", \"fine_grain\", \"assemblage\", \"suffer\", \"magnetite\", \"alter\", \"small\", \"quartz\", \"alteration\", \"trace\", \"minor\", \"form\", \"texture\", \"amount\", \"rock\", \"rich\", \"occur\", \"pyrite\", \"vein\", \"primary\", \"mineral\", \"sample\", \"report\", \"sulphide\", \"pty\", \"ltd\", \"coal_measure\", \"coal_seam\", \"without_limitation\", \"prior_consent\", \"tinto\", \"used_purpose\", \"transmit_publish\", \"photograph_diagram\", \"disclose_person\", \"rte\", \"holder_rio\", \"sem\", \"without_consent\", \"confidential_information\", \"coal\", \"amendment\", \"unauthorise_prohibit\", \"elder\", \"cumulative\", \"woody\", \"wap\", \"freehold\", \"sandplain\", \"weed\", \"rio_tinto\", \"rely_upon\", \"rom_pad\", \"industrial\", \"nadl\", \"council\", \"irwin_river\", \"object\", \"jack\", \"seam\", \"human\", \"haul_road\", \"safe\", \"aboriginal\", \"monitoring\", \"risk\", \"borehole\", \"security\", \"waste_dump\", \"act\", \"confidential\", \"plant\", \"market\", \"person\", \"right\", \"people\", \"life\", \"matter\", \"site\", \"information\", \"report\", \"propose\", \"issue\", \"specie\", \"pty\", \"study\", \"may\", \"slope\", \"supply\", \"resource\", \"sandstone\", \"th\", \"project\", \"exploration\", \"mining\", \"material\", \"require\", \"ltd\", \"undertake\", \"page\", \"include\", \"sample\", \"pit\", \"australia\", \"survey\", \"area\", \"work\", \"western\", \"open_shrubland\", \"bellary\", \"tom_price\", \"poaceae\", \"pannawonica\", \"spinel\", \"quadrat\", \"hardy\", \"solanaceae\", \"ut\", \"headwater\", \"senna_glutinosa\", \"whaleback\", \"corymbia\", \"kimberlitic_indicator\", \"floristic\", \"wag\", \"balmoral\", \"threaten_ecological\", \"snake\", \"grow\", \"botanical_district\", \"solanum\", \"yarraloola\", \"kimberlitic\", \"fortescue\", \"open_woodland\", \"ptilotus\", \"trigger\", \"acacia_aneura\", \"hamersley\", \"habitat\", \"hummock_grassland\", \"fortescue_group\", \"paraburdoo\", \"shrub\", \"subsp\", \"var\", \"hamersley_basin\", \"pilbara\", \"thorne_trendall\", \"taxa\", \"shrubland\", \"tree\", \"brockman_iron\", \"mesa\", \"vegetation\", \"specie\", \"plant_community\", \"flora\", \"species\", \"ashburton\", \"conservation\", \"plain\", \"iron\", \"scatter\", \"acacia\", \"cid\", \"creek\", \"record\", \"site\", \"area\", \"low\", \"survey\", \"formation\", \"western\", \"track\", \"sample\", \"australia\", \"access\", \"range\", \"project\", \"unit\", \"within\", \"location\", \"tenement\", \"exploration\", \"group\", \"rock\", \"report\", \"include\", \"south\", \"warning\", \"comma\", \"tek\", \"xyz_format\", \"stn\", \"tm_magnetometer\", \"equivalent_mmr\", \"procedure_instrumentation\", \"galvanically\", \"commercial_confidence\", \"transmitter_controller\", \"tek_proprietary\", \"temporal_electromagnetic\", \"wire_firmly\", \"freeair_corrn\", \"cattach_et\", \"corrn\", \"eqmmr_vd\", \"aggps\", \"integer_poss\", \"strobe_pulse\", \"bouguer_corrn\", \"warning_coordinate\", \"tfmmr\", \"empire\", \"electrode_spread\", \"rcdd\", \"golder\", \"datashe\", \"neehoff\", \"electrode\", \"sub_audio\", \"survey\", \"mmr\", \"rab\", \"trimble\", \"australasian_code\", \"newmont\", \"cc\", \"october\", \"eqmmr\", \"error\", \"impact\", \"sam\", \"murchison\", \"density\", \"rc\", \"metre\", \"hole\", \"database\", \"table\", \"use\", \"resource\", \"model\", \"report\", \"drill\", \"ore\", \"sample\", \"lode\", \"type\", \"estimate\", \"area\", \"datum\", \"gold\", \"value\", \"within\", \"low\", \"mineralisation\", \"project\", \"sf\", \"abra\", \"arrowe\", \"web_www\", \"newman_member\", \"polish_thin\", \"fifth\", \"fax_email\", \"nammuldi_member\", \"ocean_reef\", \"pfinder_bigpond\", \"micritic_carbonate\", \"martite\", \"dennison_drive\", \"fibrous_sericite\", \"penetrative_schistosity\", \"colloform\", \"cheela\", \"scaly\", \"lamil_group\", \"anastomose_schistosity\", \"jillawarra\", \"botryoidal\", \"crofton\", \"vesicular_amygdaloidal\", \"euhedra\", \"broadhurst_formation\", \"schlieren\", \"nifty\", \"bedded\", \"robe_pisolite\", \"detrital\", \"py\", \"yeneena_supergroup\", \"wa_phone\", \"masse\", \"fibrous\", \"matrix\", \"fine\", \"bedding\", \"wyloo_dome\", \"platy\", \"telfer\", \"carbonate\", \"goethite\", \"stringer\", \"ashburton\", \"cid\", \"bed\", \"pyrite\", \"member\", \"vein\", \"chert\", \"quartz\", \"disseminate\", \"iron\", \"deposit\", \"fold\", \"alteration\", \"formation\", \"host\", \"minor\", \"mineralisation\", \"unit\", \"breccia\", \"associate\", \"ore\", \"rock\", \"sample\", \"rich\", \"area\", \"zone\"], \"Freq\": [9407.0, 16526.0, 5167.0, 7935.0, 2933.0, 2335.0, 10496.0, 1824.0, 2091.0, 2386.0, 2476.0, 4154.0, 7581.0, 13482.0, 14564.0, 2420.0, 1566.0, 2604.0, 9424.0, 4802.0, 12643.0, 2729.0, 2366.0, 3678.0, 6780.0, 4449.0, 6717.0, 3190.0, 4184.0, 3013.0, 122.2313931414223, 58.06519347629596, 112.28240737207986, 54.06814823428193, 88.09758892195231, 56.93531627357753, 68.967728223416, 267.74301055542577, 45.271708520161, 38.48466338183772, 35.78288960534561, 82.12912860400334, 44.07685278536452, 32.265716635916654, 76.92038746528091, 29.969757690916786, 30.24562062553184, 28.055265359265878, 27.825913101965693, 27.618446854416323, 88.92874573187301, 24.373853013865993, 24.060798589419395, 65.65535260198824, 46.85559318096617, 22.98937106189784, 65.73218487184657, 36.90012247661315, 21.57118940881001, 33.14710198031565, 120.6326473865212, 597.2698933479229, 111.99441425026376, 141.34675962266405, 78.16808896131494, 66.31194322907058, 109.00326252121225, 83.13406100309179, 55.603537982677366, 61.797245154846124, 709.2735983656361, 431.985466224578, 174.3121387388747, 152.28345008326608, 217.9377382258024, 5151.604758459844, 1620.7399261337175, 772.6348548266653, 906.9975823050515, 2011.8756550926262, 4355.270695718847, 4400.241399908939, 789.7740988409007, 1092.68966068796, 4954.278200274638, 1460.4019904107233, 1078.3739832137219, 2677.1951390484405, 2151.6903165235494, 5501.443263800958, 2490.749299358869, 1954.4213011560948, 2617.3079475326763, 2375.2949268347174, 2544.582754953115, 1545.2662372419145, 1265.1954220714597, 1693.8363360289438, 801.850318981193, 1429.2326334229865, 1160.4665016467693, 2997.7906489730867, 1512.4949411209207, 3461.438265238858, 2444.2535451454455, 1844.9847829688297, 2724.176369448408, 1913.0840621305551, 1744.3033714318212, 2032.6825096503385, 1613.3374064064626, 1551.3490752781577, 2428.1764456422006, 1821.9337585188214, 1639.9825420249756, 1631.438425706473, 106.75590330034525, 162.78838801161783, 65.81364586910561, 107.51949525278096, 43.25308813415201, 42.102189887835834, 31.1648022902819, 35.31624851041579, 44.0382935770045, 28.254261818883737, 23.588253156267132, 22.670647613389452, 33.27336070986405, 208.74997728346992, 25.409264903080253, 20.000204092412837, 30.08105495202233, 56.41354795501108, 49.76328491425792, 24.659800286973198, 18.22970641447209, 36.985548632697494, 70.78840809191371, 50.86334507994062, 21.272822756981526, 89.89539011476444, 16.01955124827033, 16.917859031847314, 94.69568576942675, 15.829051392260006, 396.01539118294266, 143.17989084340937, 231.45433270863322, 897.0925234650255, 182.09711712226445, 98.31475737111323, 84.54538415357403, 389.7965339191622, 2633.9148331625142, 91.11988350305238, 1366.7482573192758, 234.8417591960978, 1228.6489386570504, 100.69806929321085, 3291.286971404103, 428.7404604613109, 188.9299279656755, 813.8417124199894, 1891.5914023864807, 3871.4186362955165, 248.17948945158432, 1117.6978920210256, 371.112787494367, 329.14729245068384, 220.52892719306814, 998.4942954779671, 289.88055701462855, 855.2724567589771, 470.1566348596688, 1450.2177530080899, 682.9110756162742, 2020.541069401873, 3077.232451456745, 2717.8525999664525, 1630.792175800212, 2658.8981475454625, 3494.7058412947226, 2298.9585392663234, 778.9982076576354, 2146.3598933610074, 1686.314221277491, 1359.8158118004653, 765.70811771965, 1444.2165638806016, 1783.4625193668596, 1589.8098467967925, 1437.8323547324646, 2237.3890874545355, 997.7702033122504, 1183.858501543169, 1922.7577929697093, 1643.4193673231257, 2017.86629937091, 1462.2111859971915, 1278.1937845835062, 1085.5705630278894, 1099.3060865461516, 104.65729205808461, 85.48500426100141, 48.989345855993, 49.942344732113, 76.46735242892863, 124.31957002830308, 42.695464712338406, 35.98742520805758, 35.9148741056526, 49.70208676337191, 160.01648740846522, 37.54287624113386, 161.3798215749399, 230.49923294197555, 22.81780907197139, 25.04201105156902, 18.23190353576791, 20.79342509408086, 64.52831358559234, 29.405234122640834, 24.523802978810522, 19.179793606673858, 19.245627787004544, 42.09954742649111, 19.945972161464287, 75.98732954614418, 20.04445414824079, 19.88246671639821, 28.228993353943686, 24.11486341252322, 67.54520908453229, 63.69112946523785, 38.192142045274245, 82.07170795600996, 27.35624481896996, 25.2583482820139, 32.46020292606573, 140.50962027896747, 33.35276846715928, 54.39401802322698, 78.01372367011001, 71.911079480058, 243.53842093960154, 486.0361475360013, 169.6190993339106, 195.50430408405362, 273.913487963561, 139.3100712976178, 727.783262831509, 3956.179383537264, 1665.9015357815842, 567.579202245118, 1450.4281978507627, 225.8415196781421, 1349.855841206901, 171.47530614713799, 1264.5090136285708, 2611.9589906452284, 241.16913382247196, 2669.077845113566, 593.2348558989173, 3394.4094275952284, 737.9852168765865, 2527.8322686364145, 2966.145940227653, 1854.1002408240936, 557.4497044842343, 1395.571265942762, 2398.7251223223557, 1638.9263160475539, 838.4481608902962, 690.5605763110732, 1165.7129889369062, 1883.9039257225097, 1037.8533772044705, 826.2228924167492, 1523.8266564737844, 1159.8374760824506, 1087.3666278113449, 1126.9612563588212, 1216.3130838066888, 1447.4965704727003, 960.9196708860696, 1212.928999096173, 820.8330915377442, 1018.5902004629557, 1114.9349695903593, 890.1347966047115, 948.0816795469401, 893.199928024002, 249.17213800605924, 196.01016797854422, 162.09596940209954, 126.50980214874448, 114.73992578451767, 114.98436522262182, 177.70548814622734, 85.97828399840539, 84.43231923414807, 69.84396695842257, 61.582354425770376, 80.33345959257892, 57.49832127906558, 55.12309489971174, 56.69124769300898, 200.90353184285863, 66.2403743012306, 58.60082965815163, 43.63536302156684, 42.14183549950722, 41.63303180972456, 234.28757828041145, 93.26560052487727, 48.158873674640574, 37.39200938379134, 38.36456843294097, 74.66497485087743, 47.69206114922136, 31.35707842187258, 32.8875748384924, 174.0459295775634, 693.3010632053516, 200.6176244568696, 113.84905847102296, 2023.7012710087822, 607.7237272951879, 284.6475537155035, 179.8905983425627, 537.8030239478758, 839.2331964238156, 220.21351738358132, 184.59835420305208, 225.45103601255985, 1437.24811874221, 1909.6402733604534, 173.00061606028277, 2281.720293934014, 2356.182126945121, 1292.5357856527253, 269.6767484456633, 656.2602081276037, 489.00196592684256, 1596.3682274992673, 450.17239189050724, 270.33665827124645, 3747.088937842595, 2657.3694783036926, 2511.282765035367, 554.7736356058534, 1382.2127538613508, 722.3080387647117, 1080.900901316524, 1642.034172380564, 514.6129015053739, 659.0472727986491, 1485.9612763948394, 384.802017082753, 757.8029960012402, 1774.7520475582542, 749.8460658086809, 878.0199397158566, 1254.7615027502393, 769.4236096551666, 875.5392608804159, 891.0134247383138, 1160.5615106015432, 886.9574505962518, 935.2389911575162, 993.0845395770796, 989.4415900896547, 886.369501288213, 962.0904608389693, 863.7462048094048, 843.5746764136388, 786.2463092314282, 113.01885858655282, 65.8887370751838, 40.0195080726961, 46.10430759233711, 29.452246829611948, 28.828328435178047, 93.86973830678598, 45.61206111031628, 48.62839484543117, 48.591415988377705, 40.876160613043446, 40.85984415306864, 48.2984337939032, 40.805343337585775, 33.18218574068337, 30.67771087247901, 29.725877702556335, 23.09032279500842, 34.75071967098051, 31.257755265832447, 75.82812558176957, 41.74491804710856, 48.44204167668373, 36.86492977117358, 26.605997792857867, 26.29515003450273, 22.483170043094503, 21.251985641318626, 69.39021867243869, 65.16104599531019, 65.61325380413638, 51.719461806397675, 169.13419738184973, 65.61340737081849, 49.07506273620004, 175.02956088159985, 115.12051077131588, 69.03949540548868, 137.4082729701687, 62.829089857378165, 129.33565640804997, 106.93458503279807, 317.92722847067745, 916.7290242111394, 173.68663560316597, 395.1919703636397, 107.03371232610377, 80.74735782331922, 619.3982512858331, 107.89183526743237, 80.09744826793724, 121.19310557889574, 194.6567803127976, 411.1389796146022, 2511.236148154556, 176.424115278561, 157.7401484789227, 1008.619825468841, 339.9835810362501, 2060.9980470198498, 130.98961564444105, 497.75921877540975, 765.1280570531619, 266.79050615290436, 1095.8832940343586, 461.51570042258453, 227.79069620612495, 796.3881522913132, 382.8034389839994, 759.4924669528789, 392.8726220503094, 409.0238749884858, 1407.148830548192, 369.7179298609086, 491.7660332991519, 382.1647551530801, 385.5566131743067, 466.57556903161577, 448.71862024184355, 605.3717776747465, 493.16582431997324, 814.0563062020923, 318.367627001649, 763.2278843553347, 697.3204428582693, 648.3481507849081, 603.2485033011415, 513.8619753553739, 477.8439850319039, 416.078114098154, 454.83760754409053, 463.8910084348778, 476.99694192669, 438.24383685472947, 439.51622895606755, 417.8751514122723, 290.13657579638596, 122.65841663014953, 107.40487749206042, 83.27896948237887, 84.36271342363759, 114.4139846567227, 77.8822406654246, 104.82925591563554, 67.10084669137333, 464.50181647150674, 53.48007635485614, 41.96429010123914, 44.67070575704906, 266.2127831592694, 40.41264903474623, 81.67013172069905, 82.98623322562935, 35.991147839514724, 31.30383092010634, 31.0661436043326, 36.47618547770634, 40.86698020455894, 116.41686926043657, 91.14713303615206, 27.123361346854313, 379.4303970027617, 203.1064346839803, 74.6367839979631, 190.87444223127076, 372.84747372644915, 455.0806265686475, 172.2728675708136, 85.62154651575355, 986.4888594689342, 133.14000072461883, 695.3579904857631, 1530.5893308087007, 248.5219015796777, 1301.7471085604552, 121.23040542952191, 526.4672960279777, 205.63012514891693, 1554.0125797016512, 300.77895836079267, 299.4512612478894, 560.8530447773176, 649.9902950791627, 210.12962870051598, 901.0844286337159, 160.5141661638439, 520.2853875273964, 270.72996699333765, 617.8954036299796, 567.1263894782688, 248.3860457456404, 599.5282021759862, 576.706415052841, 1368.3309013549042, 1871.2534361813814, 1098.1707497846126, 591.3827103315265, 996.5624231078551, 1454.967486324832, 541.1137567736494, 588.1302026889043, 2184.9509889122924, 684.0618149311939, 1203.5949977851365, 584.0045216084021, 850.4209224358008, 617.8009477400332, 834.951837855756, 1101.778674890364, 859.081392140601, 619.7153101438181, 616.4004157145498, 607.6315391539608, 239.93870564753405, 213.03838696841368, 71.25657793868166, 67.84297894188178, 68.99853106659525, 64.1708552731384, 64.16665584896343, 64.16805777153544, 65.55870152755445, 231.53508695473087, 60.250635713937385, 53.17929702772454, 64.0417768998571, 181.932478192426, 943.0331468862096, 41.51640817655151, 110.88021302387628, 41.260284534895355, 35.47931725132735, 57.615325768537325, 114.85752445252548, 26.35131057542449, 27.140389990150023, 64.88900755538613, 494.7165777570565, 44.43743438260503, 23.58299401894804, 21.891036820719368, 20.764181289829928, 21.035992508502236, 137.45342066522272, 118.4246878910589, 38.11196290948649, 547.4114597878247, 104.67101548643002, 529.7216582230419, 52.46211847902795, 355.9034317548914, 118.15352688534419, 112.64862733649291, 231.16416742246702, 70.48059159268291, 174.39618649319763, 385.1898099644832, 183.4659023703939, 315.656657945293, 136.85313137568025, 143.778920684276, 285.40677197272936, 144.28886526218722, 94.93520876838173, 102.80000074087394, 707.7045208870421, 448.6713506929862, 1624.4886023924678, 348.1696656227828, 200.38922655721157, 310.59189864864095, 739.1530062538831, 392.09868739264016, 666.2393304609267, 230.66729053911837, 234.1177201352534, 832.5980347636334, 338.22542917646126, 385.9056151365425, 838.4637295532331, 823.0253268295165, 547.364365339071, 367.04649596296815, 352.68553099947786, 564.9430788129897, 402.1074503385202, 377.4174751027918, 476.43702986795597, 552.2794931894404, 406.42763016091106, 454.65533983608253, 472.51753347243465, 510.58146943263307, 368.25900039922675, 370.30920749235753, 138.5095121197843, 98.60006625790567, 73.326110487447, 64.6232296306518, 59.88681634252922, 53.37992375865339, 71.54580174506593, 39.31492008222754, 46.771838736870144, 35.65540882276857, 35.466756783939196, 36.792951400624325, 33.41030091643989, 33.13657862472563, 32.1203684018952, 32.66545912265351, 29.475111727269315, 29.33431170568768, 36.08347274635057, 28.91138133184873, 31.78089961097556, 39.532500580707286, 55.28437214286244, 25.840091285190514, 67.57498130472179, 156.14111847952066, 39.62258215596038, 24.016230169182894, 20.131814625800466, 73.50703854475054, 469.4491348819964, 236.77565318964184, 147.77054625517093, 460.9539695916862, 159.23012755271134, 269.76338647154876, 201.33472975279673, 120.32466523336115, 194.78307435000164, 561.9341576912902, 43.335049411271065, 87.26566944910712, 76.94271599552047, 248.11024713936754, 104.24509419363736, 94.9618383329421, 678.6141445485514, 519.3499195010797, 68.59057250504097, 260.8817618789229, 194.78998216808907, 192.58192492760944, 138.17276387365936, 194.3089583058368, 741.6610747538767, 288.4911437000759, 164.9868476521306, 116.19494132009496, 329.2885596116722, 445.34337316074715, 563.3242377968285, 1526.6646390176152, 672.6262333410418, 836.8181930036191, 433.87469183800937, 662.4833484103162, 255.88554839136154, 667.7344256885004, 504.0888460483451, 347.0347127357213, 318.5538103038122, 489.9637143891377, 360.2550148531209, 435.29205624786545, 326.836284190636, 399.8595231288799, 389.96039901176005, 299.32376953544866, 324.09627764360204, 311.6075733925027, 293.2276673871177, 278.713458394082, 10.895254989936038, 3.9424449413427536, 105.00007661966873, 3.7588375892316694, 15.393935274696085, 5.346025941711243, 47.907985561859704, 5.387658541618812, 3.821495579765462, 71.44996140862882, 6.407538244662606, 3.2668848781584163, 1.4992362188919737, 2.3862908901335533, 1.389532705636036, 1.3878287745057516, 1.1679627684690082, 3.2543112676401225, 1.2682769934393683, 1.0343697352131451, 1.1988681183490617, 1.1580815949836314, 0.9512703387157879, 8.0768919460218, 3.8212036785014982, 0.8799456490901983, 0.7064980758930122, 12.430954825038851, 2.716196872987983, 0.870868539735424, 30.394391531109925, 24.583784571556617, 1044.1939340401682, 9.055050167408766, 141.57173612496857, 5.408862909975103, 4.803777331486958, 15.303727584586277, 12.4979425224239, 30.304406288219575, 3.39736158614821, 13.592346900912961, 16.83193609673505, 12.954876309981257, 16.337980874994038, 25.250613338530844, 48.64546123440983, 46.418070998556125, 66.97543461780708, 28.99629812879617, 46.947238935167974, 45.4565666913789, 49.89729704700654, 33.082638008111296, 49.5932806663567, 43.231974045010105, 29.029649669551354, 43.55963394234839, 25.251874196569528, 26.080665909785814, 23.91531610630096, 37.97052030195148, 31.18467170518775, 31.738390432300168, 22.52756989954042, 25.942451389837885, 23.80010787432547, 24.31640689930673, 24.605617426161775, 89.31211384192575, 14.945551720557967, 26.517005075323503, 19.73151252658387, 12.95104503167236, 19.649806221077686, 19.578755604313287, 18.783187051554282, 6.082693941558684, 6.565400086483942, 6.520360899804935, 7.280990234259291, 18.231388456249025, 6.0219871574081845, 5.686137145403479, 3.6764315497967184, 8.08763965170188, 7.785983213626277, 3.0783311584458466, 13.836201509634765, 3.2013443492400295, 2.203950714867602, 7.914880422438034, 6.197655532934782, 4.438855416824188, 1.9665554502256681, 28.896284206275965, 4.978890055607597, 9.471989854234502, 28.506639918769398, 26.331149701805458, 49.44691042327425, 35.716904084211336, 10.02044143551605, 17.940355977367314, 20.941331177963065, 36.05453548369074, 72.3701960809755, 107.12497324338126, 53.31655905498, 19.4521674000298, 23.38044498377816, 35.915610831185525, 111.27299335779995, 47.94263975430873, 42.06095340522591, 49.619218186399465, 35.35808822543994, 50.03933915793881, 92.1096156108949, 51.786204884527436, 115.4449973841935, 64.5831848299974, 126.09348442516597, 49.00389340997358, 75.24009923889089, 95.93653995308024, 58.87563386599858, 66.91607173569275, 67.23876305090599, 65.03391121687815, 60.16480721010566, 69.13898221526563, 61.8930413461701, 41.73675357664988, 54.189157884443915, 51.176631315297215, 58.03012300485222, 57.154920539343856, 46.012699975714725, 51.860009626049155, 47.975206962268565], \"Total\": [9407.0, 16526.0, 5167.0, 7935.0, 2933.0, 2335.0, 10496.0, 1824.0, 2091.0, 2386.0, 2476.0, 4154.0, 7581.0, 13482.0, 14564.0, 2420.0, 1566.0, 2604.0, 9424.0, 4802.0, 12643.0, 2729.0, 2366.0, 3678.0, 6780.0, 4449.0, 6717.0, 3190.0, 4184.0, 3013.0, 123.58460931113775, 59.36802815598521, 114.88985825413755, 55.373796372766634, 90.32463466276714, 58.42976157540189, 70.84954620640437, 275.1072452800403, 46.5729688871964, 39.81065100128276, 37.130793744037234, 85.45485551496932, 45.89368285059178, 33.634860853335546, 80.22651452172083, 31.27204089851225, 31.637503455696812, 29.37503214988494, 29.147879857799524, 28.936728355543927, 93.35890454266321, 25.69316415878109, 25.371726839473798, 69.23516771038727, 49.47666492338657, 24.292170443228645, 69.5723603902092, 39.128422067818846, 22.902088738194976, 35.20598913931714, 128.69572352452016, 669.2065900563815, 124.99830445968776, 159.56157304542728, 86.58512874791259, 73.15674207183113, 125.5163275863107, 94.25171172852448, 61.2869098452862, 69.24524369724038, 1036.9765826220585, 611.7593621706106, 222.9512151318427, 191.92917848865886, 289.2901837231876, 10602.461353845578, 3029.9811630018985, 1313.3775333449646, 1606.937215002079, 4348.737012709452, 11259.3249832498, 11412.703866366594, 1420.246468264458, 2133.166496708927, 13482.920004634858, 3097.028721739395, 2150.373871849626, 6651.563489446771, 5075.780693722993, 16526.752644119046, 6205.812817395427, 4582.688295722013, 6780.555918108419, 6088.539466993889, 6717.00767783048, 3552.936547210242, 2790.5641553172613, 4222.562456981051, 1576.5872271701726, 3429.876783717859, 2594.8680837631955, 9411.289046651178, 3726.1296346939494, 12643.181753562061, 8010.714718057232, 5510.305946152243, 10496.572174486022, 5941.378047284345, 5311.060957476616, 7387.091510056572, 4968.103427656689, 4860.973262205916, 14564.535443772316, 7635.536246423566, 5910.061785662885, 9424.62198523157, 108.04016833448532, 165.77843054063894, 67.28821410346468, 110.81712297834842, 44.595514398819475, 43.821677176606705, 32.442144029343304, 36.78865468351656, 46.01248412352417, 29.538461565442844, 24.823034474571642, 23.89515258794455, 35.18296294228462, 221.5888880010885, 27.02557324162262, 21.290807838543422, 32.03510301355591, 60.12937293525091, 53.05277114004367, 26.32969800842468, 19.468611789548476, 39.52816281949861, 75.81119447245379, 54.5149427017292, 22.822273188911385, 96.49819941639595, 17.244467705002307, 18.25020868015206, 102.17789767548027, 17.080925406129637, 428.40332870280633, 154.53663354816194, 255.15689672948912, 1015.9487403330668, 205.60959471738602, 109.75817844279268, 94.42783496678241, 474.50168066716003, 3678.375041302115, 105.31432686416399, 1938.7137627976913, 297.3196924690768, 1839.9811778648152, 118.20401844244519, 5459.869000261756, 593.3309853149062, 239.1821290019387, 1259.0902016332795, 3325.8214621120455, 7581.37071140934, 331.83003733333027, 1906.359938884386, 535.6541682958084, 473.72462484198246, 297.8238323916001, 1881.094936082416, 424.57059941793926, 1656.642341154271, 777.1710185104954, 3329.5467904268835, 1280.5593834217905, 5315.432332678967, 9424.62198523157, 8010.714718057232, 4279.985854378818, 8666.600325826994, 13482.920004634858, 7635.536246423566, 1670.0729276085674, 7387.091510056572, 5566.9268238957575, 4562.802576612896, 1852.1403249041994, 5354.863120578732, 7935.9684070159465, 6717.00767783048, 5910.061785662885, 14564.535443772316, 3004.643373087095, 4348.737012709452, 12643.181753562061, 9411.289046651178, 16526.752644119046, 10496.572174486022, 11412.703866366594, 4802.600641582433, 11259.3249832498, 106.04165791919459, 87.52196096383669, 50.30571381079664, 51.31629357215644, 78.89780146531783, 128.5588817180202, 44.18860310871139, 37.29006514854376, 37.3389335368204, 51.844434234917216, 167.20761308540037, 39.261673931005625, 170.42523122120207, 245.53208087627556, 24.313044464710377, 26.687413218716962, 19.5337693165696, 22.296924793964077, 69.19788453406751, 31.541656355968133, 26.315464481115107, 20.603437453574216, 20.67902182610118, 45.35176491415001, 21.50701046502559, 82.10984149293233, 21.718691598119886, 21.553359778901438, 30.61630591465265, 26.1675062553388, 73.32200100921611, 70.08993412058925, 41.776466514690334, 91.62285477939558, 29.81943165671837, 27.53278092793295, 36.02572632206164, 175.07196148936558, 37.10618258270154, 63.37497845261487, 94.99171531851641, 86.8059977771352, 339.2656761416359, 764.7873236089655, 248.11597846672356, 296.19154885886604, 448.5687242859014, 203.42498230868748, 1583.364788132192, 13482.920004634858, 4659.010666090957, 1216.3511081724369, 4079.694722032794, 380.82902162608525, 3992.3504128895356, 269.92297695112376, 3957.1380858216085, 10602.461353845578, 426.1939047551022, 11259.3249832498, 1462.2944935524542, 16526.752644119046, 2007.9366924063593, 11412.703866366594, 14564.535443772316, 7635.536246423566, 1413.2774378141917, 5354.863120578732, 12643.181753562061, 7387.091510056572, 2721.946435930705, 2098.105695773381, 4860.973262205916, 10496.572174486022, 4191.156633979197, 2976.768317252424, 8666.600325826994, 5510.305946152243, 4968.103427656689, 5311.060957476616, 6205.812817395427, 9411.289046651178, 4562.802576612896, 8010.714718057232, 3204.2245030120575, 6780.555918108419, 9424.62198523157, 5167.711861958322, 7935.9684070159465, 5910.061785662885, 250.48391370308863, 197.31080657644995, 163.40424742518206, 127.85730608575197, 116.03358375886535, 116.30480866475308, 180.08635105688413, 87.27708784782239, 85.75350699686544, 71.14720985513127, 62.87251713204261, 82.1016705122896, 58.84009367335381, 56.42570422453812, 58.032124000637566, 205.80135076290574, 67.88852024368113, 60.06574605890908, 44.945786292400186, 43.43161383478651, 42.93458312050762, 241.9142435455274, 96.42384154384665, 49.906243050627005, 38.764346640106766, 39.82743509282181, 77.71923669675219, 49.68280945144881, 32.68445740825951, 34.35819977277081, 182.31696625542315, 743.4555990436128, 214.94572260623582, 121.23529747281259, 2420.767820327402, 726.2597269861207, 331.7880847508227, 205.009422811789, 682.3872375959307, 1127.5344612351705, 259.40118167370815, 213.45399429556986, 268.66376340616944, 2175.0075476717348, 3013.6851278740387, 201.80907062652514, 4154.0165243847305, 4449.3933133331575, 2370.2606149390017, 356.4661560759693, 1138.7893547315164, 798.8048589380094, 3992.3504128895356, 749.1462308074354, 375.06994715168105, 14564.535443772316, 9424.62198523157, 9407.68654738757, 1118.7979852308245, 4659.010666090957, 1697.6924702068015, 3638.415298030565, 9411.289046651178, 1184.4616877705707, 1869.7807514329252, 8666.600325826994, 730.7323869507042, 2787.2120112048106, 16526.752644119046, 2993.8812194825455, 4224.800031788081, 10496.572174486022, 3524.739109964511, 5075.780693722993, 5354.863120578732, 12643.181753562061, 5910.061785662885, 7935.9684070159465, 10602.461353845578, 11259.3249832498, 6780.555918108419, 11412.703866366594, 7387.091510056572, 7635.536246423566, 3914.4193914185453, 114.33623654775616, 67.20798724715989, 41.32487955287569, 47.88416171124577, 30.74922803901773, 30.123201856577257, 98.09338154387727, 47.69515493522009, 50.95998864594474, 50.940329348793426, 42.890902799300044, 42.91637131659277, 50.784836608286426, 42.9169714162617, 34.910046268223624, 32.378207632074705, 31.386823049407408, 24.403756563762, 36.76573754089077, 33.130507801768715, 80.58120243963221, 44.381654427766165, 51.50811937140032, 39.270960287426114, 28.351619810905973, 28.05882159948306, 23.99643392696868, 22.743280616395893, 74.2762115066244, 69.84787958225084, 70.6055421438868, 56.51315290566199, 194.47276220251388, 72.69485246243116, 53.89289806861188, 208.3527823328662, 133.7682679003681, 78.11567741274224, 168.52955926317765, 70.9595516114862, 160.9887232415754, 130.6431080400436, 451.9231261349691, 1512.3895017263178, 230.85546626630926, 605.4253695007436, 133.41112776147915, 96.47870961750515, 1153.1501149350229, 138.9197546511982, 96.47658345202946, 162.23507867350784, 295.6519868443522, 775.5535593173336, 7935.9684070159465, 267.60517725966304, 242.44784483694846, 3043.648315574023, 731.0657373987412, 9407.68654738757, 193.5892193397127, 1399.3292864056236, 2787.2120112048106, 580.9867388861613, 5315.432332678967, 1420.984280823137, 473.51659645525274, 3781.251065108989, 1118.7979852308245, 3524.739109964511, 1214.5857348775476, 1520.371693347703, 16526.752644119046, 1355.3872777594013, 2504.588232755305, 1568.2658862838928, 1658.433031584589, 2721.946435930705, 2559.353049189389, 5510.305946152243, 3325.8214621120455, 12643.181753562061, 1093.8102693816313, 14564.535443772316, 11259.3249832498, 11412.703866366594, 9411.289046651178, 8666.600325826994, 6651.563489446771, 2830.804530136703, 5566.9268238957575, 6780.555918108419, 10496.572174486022, 4377.7841663582985, 4860.973262205916, 5941.378047284345, 292.76989837347827, 124.01002580526428, 108.73166764888087, 84.6123792002303, 85.72785679292528, 116.47809656541499, 79.49625083886559, 107.16589622108474, 68.76496366008945, 476.58666155569847, 54.88417855594084, 43.29819342053256, 46.20572468772234, 275.65873269338084, 41.85232898446337, 84.63551702974115, 86.03404719159404, 37.31461583901532, 32.63468270622664, 32.42460508220108, 38.14105113507685, 42.80973209494924, 122.03384751290199, 95.56334371162855, 28.51643539174816, 399.2811347312222, 213.8007901678249, 78.56889460576267, 201.46630515470514, 393.9795767170665, 483.9962612883665, 183.06904710294612, 91.01387285051241, 1103.4180540965529, 144.3168040095552, 796.8917219992526, 1824.4331664982096, 274.8011857584571, 1566.6518643786542, 131.16079047116804, 618.3115429223577, 231.1193757635801, 2091.635467997777, 351.8007092250421, 358.1762424441776, 724.9600346740496, 862.5203364406369, 243.67012639404524, 1284.4087319343307, 180.5079890139323, 725.8180907888511, 335.0436959154594, 895.7456613938556, 823.8437744599678, 311.47302583423584, 967.8136248777885, 955.773584875051, 3190.2484984217485, 5167.711861958322, 2476.5310268536805, 1073.7231832511513, 2366.4196216475384, 4184.299846953988, 972.6295522393481, 1136.2168351880603, 10496.572174486022, 1467.023464935289, 3952.0729059699142, 1125.2817315589555, 2933.9880460085265, 1434.7932087641111, 4191.156633979197, 14564.535443772316, 12643.181753562061, 4154.0165243847305, 4377.7841663582985, 6088.539466993889, 241.22565505862877, 214.38283842204822, 72.63772648513037, 69.2133916704237, 70.45098405114447, 65.5416946418911, 65.54038087998612, 65.54538505103368, 66.9690396227166, 236.8186670351047, 61.64883811246437, 54.438532665561084, 65.64929480287219, 186.9974332641338, 971.3634302063489, 42.81530520632327, 114.3878794222871, 42.681591357535275, 36.77450474802863, 60.00081439738793, 119.73590342184465, 27.62348141142173, 28.455399461621617, 68.29229874980183, 522.8172470713284, 46.992689707098656, 24.979894169212887, 23.188549645557803, 22.021830527401, 22.32541615995473, 146.0339155965719, 128.45853470723324, 40.69805540865141, 620.6527660870723, 114.35950032427674, 644.7316305242293, 57.057190091602045, 450.6443629485149, 138.55936851494377, 133.5265560332537, 314.0538032761254, 79.04913669876022, 235.8596969247956, 651.7663462629268, 272.0988798640165, 604.4850824842044, 191.37477090821363, 205.25935664865105, 563.9968908963823, 215.62550030688536, 117.35849035509563, 132.5244569705146, 2729.507318709863, 1380.155003664581, 12643.181753562061, 995.7612397875882, 408.9850095466725, 888.5367632253756, 4377.7841663582985, 1376.316562903037, 4072.368443420883, 529.389929090033, 552.7588893962321, 7581.37071140934, 1214.5857348775476, 1618.014030380487, 11412.703866366594, 11259.3249832498, 4562.802576612896, 1767.986283724694, 1597.449428729962, 6088.539466993889, 2395.8615317869007, 2182.755906047027, 5941.378047284345, 14564.535443772316, 3678.375041302115, 6651.563489446771, 9407.68654738757, 16526.752644119046, 4860.973262205916, 6780.555918108419, 140.42935026321456, 100.21178271531706, 74.72632997063221, 65.89220597917927, 61.14508619526936, 54.695265939884, 73.44686452776888, 40.572773411190845, 48.37097223363721, 36.91436554500894, 36.72304684204674, 38.12626701118643, 34.67791786118527, 34.41386365944346, 33.373923404793814, 33.95352694240238, 30.734027200788166, 30.596689571220903, 37.68680193499331, 30.1970444980586, 33.21487205841933, 41.34983116383266, 57.95601224593765, 27.093529034085414, 71.15759453074253, 165.08367458785483, 41.985092496649216, 25.472755574458454, 21.394544572856365, 78.14175934088588, 500.89904566782576, 255.24445582509793, 158.5499537228581, 507.8211785779339, 173.06929780331018, 317.73751762643536, 233.79981251019473, 135.62698520321226, 232.246197492418, 737.0858094855662, 46.318470783090646, 101.91712947378657, 89.92045962794586, 346.5210033150364, 128.19188169589665, 115.63488626167128, 1199.5074078254381, 888.5367632253756, 80.56857061869275, 421.9482031110661, 296.1051903531748, 313.1982155259301, 208.19102020742338, 341.15261024096424, 2386.007219651283, 615.0525989683307, 297.98693816867376, 169.72608601920143, 1025.0842865349184, 1760.530396756742, 2729.507318709863, 16526.752644119046, 4802.600641582433, 9407.68654738757, 2604.2987562374783, 6780.555918108419, 873.934629112031, 14564.535443772316, 6651.563489446771, 2488.938412046606, 1931.1876088960187, 11412.703866366594, 4224.800031788081, 9411.289046651178, 3758.5251226034866, 10602.461353845578, 11259.3249832498, 2764.4692078361886, 10496.572174486022, 12643.181753562061, 5941.378047284345, 5311.060957476616, 14.38752296000669, 5.449220946780197, 145.77850539497257, 5.349853611689036, 22.752197263675946, 8.2702182553742, 75.38639651730746, 8.798201111438253, 6.522050791520294, 124.55497264028806, 11.516767595540705, 6.365514330757339, 3.04345770459715, 4.941991065821123, 2.897258783972227, 2.9552777467281244, 2.503170298510145, 7.335613318071672, 2.8993221144853805, 2.3770951756712133, 2.7767993985252337, 2.7151045130529003, 2.2698243051877602, 20.629774193698747, 9.770663018496776, 2.3296418682072955, 1.9717971160086076, 34.85042639436233, 7.617617488217042, 2.556766725044889, 96.61481877197177, 111.8717810488364, 9407.68654738757, 39.25355690849585, 2335.544679715114, 23.840463173746315, 22.430431228799158, 134.3890310055225, 109.62670255824162, 458.02237745155634, 14.095320291789196, 169.17963140755654, 279.19090438894136, 182.35011307258048, 293.0374395584796, 777.1710185104954, 3329.5467904268835, 3514.539423763896, 9424.62198523157, 1287.0627801902067, 4279.985854378818, 5315.432332678967, 7581.37071140934, 3325.8214621120455, 12643.181753562061, 8666.600325826994, 2549.303753053535, 14564.535443772316, 1906.359938884386, 2627.160884556608, 1938.7137627976913, 16526.752644119046, 7935.9684070159465, 13482.920004634858, 2721.946435930705, 9411.289046651178, 4802.600641582433, 7387.091510056572, 11412.703866366594, 92.74612891478614, 16.281460289470125, 28.91246273094034, 21.78806354576651, 15.105088463481529, 23.00378965801177, 23.113438173064864, 22.72596169028232, 7.440064493040699, 8.036039414231212, 8.037841871338, 9.145663753119083, 24.04604231550456, 8.021372270394592, 8.060756146790665, 5.2653486369742, 11.811605959019067, 11.382549438811983, 4.54613278165229, 20.618396448783912, 4.8572856689233195, 3.5144556328773673, 12.892236824510263, 10.10078222410203, 7.6177317640465585, 3.384940445004432, 49.826291454814395, 8.661379167608066, 16.871454993936833, 52.37264901160479, 49.11555785743328, 104.27499935392922, 73.26502937491242, 18.78491329616141, 36.2735388655859, 48.83784347825333, 97.77577350340263, 374.49166569369714, 677.6507167939868, 266.4995118137922, 54.59950442103297, 76.02717261416146, 156.10865232284797, 1111.0234252378539, 262.1369088304153, 226.07966228865155, 313.1982155259301, 169.72608601920143, 319.6323183616114, 1125.2817315589555, 389.760014262933, 2933.9880460085265, 798.0091739191786, 5167.711861958322, 605.9669653737816, 2386.007219651283, 6717.00767783048, 1437.744764402862, 2476.5310268536805, 2604.2987562374783, 2836.0359609505285, 2366.4196216475384, 7387.091510056572, 4224.800031788081, 503.1553924260576, 3229.994091422793, 2549.303753053535, 10496.572174486022, 14564.535443772316, 1467.023464935289, 16526.752644119046, 8010.714718057232], \"Category\": [\"Default\", \"Default\", \"Default\", \"Default\", \"Default\", \"Default\", \"Default\", \"Default\", \"Default\", \"Default\", \"Default\", \"Default\", \"Default\", \"Default\", \"Default\", \"Default\", \"Default\", \"Default\", \"Default\", \"Default\", \"Default\", \"Default\", \"Default\", \"Default\", \"Default\", \"Default\", \"Default\", \"Default\", \"Default\", \"Default\", \"Topic1\", \"Topic1\", \"Topic1\", \"Topic1\", \"Topic1\", \"Topic1\", \"Topic1\", \"Topic1\", \"Topic1\", \"Topic1\", \"Topic1\", \"Topic1\", \"Topic1\", \"Topic1\", \"Topic1\", \"Topic1\", \"Topic1\", \"Topic1\", \"Topic1\", \"Topic1\", \"Topic1\", \"Topic1\", \"Topic1\", \"Topic1\", \"Topic1\", \"Topic1\", \"Topic1\", \"Topic1\", \"Topic1\", \"Topic1\", \"Topic1\", \"Topic1\", \"Topic1\", \"Topic1\", \"Topic1\", \"Topic1\", \"Topic1\", \"Topic1\", \"Topic1\", \"Topic1\", \"Topic1\", \"Topic1\", \"Topic1\", \"Topic1\", \"Topic1\", \"Topic1\", \"Topic1\", \"Topic1\", \"Topic1\", \"Topic1\", \"Topic1\", \"Topic1\", \"Topic1\", \"Topic1\", \"Topic1\", \"Topic1\", \"Topic1\", \"Topic1\", \"Topic1\", \"Topic1\", \"Topic1\", \"Topic1\", \"Topic1\", \"Topic1\", \"Topic1\", \"Topic1\", \"Topic1\", \"Topic1\", \"Topic1\", \"Topic1\", \"Topic1\", \"Topic1\", \"Topic1\", \"Topic1\", \"Topic1\", \"Topic1\", \"Topic1\", \"Topic1\", \"Topic1\", \"Topic1\", \"Topic1\", \"Topic1\", \"Topic1\", \"Topic1\", \"Topic1\", \"Topic1\", \"Topic2\", \"Topic2\", \"Topic2\", \"Topic2\", \"Topic2\", \"Topic2\", \"Topic2\", \"Topic2\", \"Topic2\", \"Topic2\", \"Topic2\", \"Topic2\", \"Topic2\", \"Topic2\", \"Topic2\", \"Topic2\", \"Topic2\", \"Topic2\", \"Topic2\", \"Topic2\", \"Topic2\", \"Topic2\", \"Topic2\", \"Topic2\", \"Topic2\", \"Topic2\", \"Topic2\", \"Topic2\", \"Topic2\", \"Topic2\", \"Topic2\", \"Topic2\", \"Topic2\", \"Topic2\", \"Topic2\", \"Topic2\", \"Topic2\", \"Topic2\", \"Topic2\", \"Topic2\", \"Topic2\", \"Topic2\", \"Topic2\", \"Topic2\", \"Topic2\", \"Topic2\", \"Topic2\", \"Topic2\", \"Topic2\", \"Topic2\", \"Topic2\", \"Topic2\", \"Topic2\", \"Topic2\", \"Topic2\", \"Topic2\", \"Topic2\", \"Topic2\", \"Topic2\", \"Topic2\", \"Topic2\", \"Topic2\", \"Topic2\", \"Topic2\", \"Topic2\", \"Topic2\", \"Topic2\", \"Topic2\", \"Topic2\", \"Topic2\", \"Topic2\", \"Topic2\", \"Topic2\", \"Topic2\", \"Topic2\", \"Topic2\", \"Topic2\", \"Topic2\", \"Topic2\", \"Topic2\", \"Topic2\", \"Topic2\", \"Topic2\", \"Topic2\", \"Topic2\", \"Topic2\", \"Topic2\", \"Topic3\", \"Topic3\", \"Topic3\", \"Topic3\", \"Topic3\", \"Topic3\", \"Topic3\", \"Topic3\", \"Topic3\", \"Topic3\", \"Topic3\", \"Topic3\", \"Topic3\", \"Topic3\", \"Topic3\", \"Topic3\", \"Topic3\", \"Topic3\", \"Topic3\", \"Topic3\", \"Topic3\", \"Topic3\", \"Topic3\", \"Topic3\", \"Topic3\", \"Topic3\", \"Topic3\", \"Topic3\", \"Topic3\", \"Topic3\", \"Topic3\", \"Topic3\", \"Topic3\", \"Topic3\", \"Topic3\", \"Topic3\", \"Topic3\", \"Topic3\", \"Topic3\", \"Topic3\", \"Topic3\", \"Topic3\", \"Topic3\", \"Topic3\", \"Topic3\", \"Topic3\", \"Topic3\", \"Topic3\", \"Topic3\", \"Topic3\", \"Topic3\", \"Topic3\", \"Topic3\", \"Topic3\", \"Topic3\", \"Topic3\", \"Topic3\", \"Topic3\", \"Topic3\", \"Topic3\", \"Topic3\", \"Topic3\", \"Topic3\", \"Topic3\", \"Topic3\", \"Topic3\", \"Topic3\", \"Topic3\", \"Topic3\", \"Topic3\", \"Topic3\", \"Topic3\", \"Topic3\", \"Topic3\", \"Topic3\", \"Topic3\", \"Topic3\", \"Topic3\", \"Topic3\", \"Topic3\", \"Topic3\", \"Topic3\", \"Topic3\", \"Topic3\", \"Topic3\", \"Topic3\", \"Topic3\", \"Topic3\", \"Topic3\", \"Topic3\", \"Topic4\", \"Topic4\", \"Topic4\", \"Topic4\", \"Topic4\", \"Topic4\", \"Topic4\", \"Topic4\", \"Topic4\", \"Topic4\", \"Topic4\", \"Topic4\", \"Topic4\", \"Topic4\", \"Topic4\", \"Topic4\", \"Topic4\", \"Topic4\", \"Topic4\", \"Topic4\", \"Topic4\", \"Topic4\", \"Topic4\", \"Topic4\", \"Topic4\", \"Topic4\", \"Topic4\", \"Topic4\", \"Topic4\", \"Topic4\", \"Topic4\", \"Topic4\", \"Topic4\", \"Topic4\", \"Topic4\", \"Topic4\", \"Topic4\", \"Topic4\", \"Topic4\", \"Topic4\", \"Topic4\", \"Topic4\", \"Topic4\", \"Topic4\", \"Topic4\", \"Topic4\", \"Topic4\", \"Topic4\", \"Topic4\", \"Topic4\", \"Topic4\", \"Topic4\", \"Topic4\", \"Topic4\", \"Topic4\", \"Topic4\", \"Topic4\", \"Topic4\", \"Topic4\", \"Topic4\", \"Topic4\", \"Topic4\", \"Topic4\", \"Topic4\", \"Topic4\", \"Topic4\", \"Topic4\", \"Topic4\", \"Topic4\", \"Topic4\", \"Topic4\", \"Topic4\", \"Topic4\", \"Topic4\", \"Topic4\", \"Topic4\", \"Topic4\", \"Topic4\", \"Topic4\", \"Topic4\", \"Topic4\", \"Topic4\", \"Topic4\", \"Topic4\", \"Topic4\", \"Topic5\", \"Topic5\", \"Topic5\", \"Topic5\", \"Topic5\", \"Topic5\", \"Topic5\", \"Topic5\", \"Topic5\", \"Topic5\", \"Topic5\", \"Topic5\", \"Topic5\", \"Topic5\", \"Topic5\", \"Topic5\", \"Topic5\", \"Topic5\", \"Topic5\", \"Topic5\", \"Topic5\", \"Topic5\", \"Topic5\", \"Topic5\", \"Topic5\", \"Topic5\", \"Topic5\", \"Topic5\", \"Topic5\", \"Topic5\", \"Topic5\", \"Topic5\", \"Topic5\", \"Topic5\", \"Topic5\", \"Topic5\", \"Topic5\", \"Topic5\", \"Topic5\", \"Topic5\", \"Topic5\", \"Topic5\", \"Topic5\", \"Topic5\", \"Topic5\", \"Topic5\", \"Topic5\", \"Topic5\", \"Topic5\", \"Topic5\", \"Topic5\", \"Topic5\", \"Topic5\", \"Topic5\", \"Topic5\", \"Topic5\", \"Topic5\", \"Topic5\", \"Topic5\", \"Topic5\", \"Topic5\", \"Topic5\", \"Topic5\", \"Topic5\", \"Topic5\", \"Topic5\", \"Topic5\", \"Topic5\", \"Topic5\", \"Topic5\", \"Topic5\", \"Topic5\", \"Topic5\", \"Topic5\", \"Topic5\", \"Topic5\", \"Topic5\", \"Topic5\", \"Topic5\", \"Topic5\", \"Topic5\", \"Topic5\", \"Topic5\", \"Topic5\", \"Topic5\", \"Topic5\", \"Topic5\", \"Topic5\", \"Topic5\", \"Topic5\", \"Topic5\", \"Topic5\", \"Topic5\", \"Topic5\", \"Topic5\", \"Topic5\", \"Topic6\", \"Topic6\", \"Topic6\", \"Topic6\", \"Topic6\", \"Topic6\", \"Topic6\", \"Topic6\", \"Topic6\", \"Topic6\", \"Topic6\", \"Topic6\", \"Topic6\", \"Topic6\", \"Topic6\", \"Topic6\", \"Topic6\", \"Topic6\", \"Topic6\", \"Topic6\", \"Topic6\", \"Topic6\", \"Topic6\", \"Topic6\", \"Topic6\", \"Topic6\", \"Topic6\", \"Topic6\", \"Topic6\", \"Topic6\", \"Topic6\", \"Topic6\", \"Topic6\", \"Topic6\", \"Topic6\", \"Topic6\", \"Topic6\", \"Topic6\", \"Topic6\", \"Topic6\", \"Topic6\", \"Topic6\", \"Topic6\", \"Topic6\", \"Topic6\", \"Topic6\", \"Topic6\", \"Topic6\", \"Topic6\", \"Topic6\", \"Topic6\", \"Topic6\", \"Topic6\", \"Topic6\", \"Topic6\", \"Topic6\", \"Topic6\", \"Topic6\", \"Topic6\", \"Topic6\", \"Topic6\", \"Topic6\", \"Topic6\", \"Topic6\", \"Topic6\", \"Topic6\", \"Topic6\", \"Topic6\", \"Topic6\", \"Topic6\", \"Topic6\", \"Topic6\", \"Topic6\", \"Topic6\", \"Topic6\", \"Topic6\", \"Topic6\", \"Topic7\", \"Topic7\", \"Topic7\", \"Topic7\", \"Topic7\", \"Topic7\", \"Topic7\", \"Topic7\", \"Topic7\", \"Topic7\", \"Topic7\", \"Topic7\", \"Topic7\", \"Topic7\", \"Topic7\", \"Topic7\", \"Topic7\", \"Topic7\", \"Topic7\", \"Topic7\", \"Topic7\", \"Topic7\", \"Topic7\", \"Topic7\", \"Topic7\", \"Topic7\", \"Topic7\", \"Topic7\", \"Topic7\", \"Topic7\", \"Topic7\", \"Topic7\", \"Topic7\", \"Topic7\", \"Topic7\", \"Topic7\", \"Topic7\", \"Topic7\", \"Topic7\", \"Topic7\", \"Topic7\", \"Topic7\", \"Topic7\", \"Topic7\", \"Topic7\", \"Topic7\", \"Topic7\", \"Topic7\", \"Topic7\", \"Topic7\", \"Topic7\", \"Topic7\", \"Topic7\", \"Topic7\", \"Topic7\", \"Topic7\", \"Topic7\", \"Topic7\", \"Topic7\", \"Topic7\", \"Topic7\", \"Topic7\", \"Topic7\", \"Topic7\", \"Topic7\", \"Topic7\", \"Topic7\", \"Topic7\", \"Topic7\", \"Topic7\", \"Topic7\", \"Topic7\", \"Topic7\", \"Topic7\", \"Topic7\", \"Topic7\", \"Topic7\", \"Topic7\", \"Topic7\", \"Topic7\", \"Topic7\", \"Topic7\", \"Topic8\", \"Topic8\", \"Topic8\", \"Topic8\", \"Topic8\", \"Topic8\", \"Topic8\", \"Topic8\", \"Topic8\", \"Topic8\", \"Topic8\", \"Topic8\", \"Topic8\", \"Topic8\", \"Topic8\", \"Topic8\", \"Topic8\", \"Topic8\", \"Topic8\", \"Topic8\", \"Topic8\", \"Topic8\", \"Topic8\", \"Topic8\", \"Topic8\", \"Topic8\", \"Topic8\", \"Topic8\", \"Topic8\", \"Topic8\", \"Topic8\", \"Topic8\", \"Topic8\", \"Topic8\", \"Topic8\", \"Topic8\", \"Topic8\", \"Topic8\", \"Topic8\", \"Topic8\", \"Topic8\", \"Topic8\", \"Topic8\", \"Topic8\", \"Topic8\", \"Topic8\", \"Topic8\", \"Topic8\", \"Topic8\", \"Topic8\", \"Topic8\", \"Topic8\", \"Topic8\", \"Topic8\", \"Topic8\", \"Topic8\", \"Topic8\", \"Topic8\", \"Topic8\", \"Topic8\", \"Topic8\", \"Topic8\", \"Topic8\", \"Topic8\", \"Topic8\", \"Topic8\", \"Topic8\", \"Topic8\", \"Topic8\", \"Topic8\", \"Topic8\", \"Topic8\", \"Topic8\", \"Topic8\", \"Topic8\", \"Topic8\", \"Topic8\", \"Topic8\", \"Topic8\", \"Topic8\", \"Topic8\", \"Topic8\", \"Topic9\", \"Topic9\", \"Topic9\", \"Topic9\", \"Topic9\", \"Topic9\", \"Topic9\", \"Topic9\", \"Topic9\", \"Topic9\", \"Topic9\", \"Topic9\", \"Topic9\", \"Topic9\", \"Topic9\", \"Topic9\", \"Topic9\", \"Topic9\", \"Topic9\", \"Topic9\", \"Topic9\", \"Topic9\", \"Topic9\", \"Topic9\", \"Topic9\", \"Topic9\", \"Topic9\", \"Topic9\", \"Topic9\", \"Topic9\", \"Topic9\", \"Topic9\", \"Topic9\", \"Topic9\", \"Topic9\", \"Topic9\", \"Topic9\", \"Topic9\", \"Topic9\", \"Topic9\", \"Topic9\", \"Topic9\", \"Topic9\", \"Topic9\", \"Topic9\", \"Topic9\", \"Topic9\", \"Topic9\", \"Topic9\", \"Topic9\", \"Topic9\", \"Topic9\", \"Topic9\", \"Topic9\", \"Topic9\", \"Topic9\", \"Topic9\", \"Topic9\", \"Topic9\", \"Topic9\", \"Topic9\", \"Topic9\", \"Topic9\", \"Topic9\", \"Topic9\", \"Topic9\", \"Topic9\", \"Topic9\", \"Topic9\", \"Topic10\", \"Topic10\", \"Topic10\", \"Topic10\", \"Topic10\", \"Topic10\", \"Topic10\", \"Topic10\", \"Topic10\", \"Topic10\", \"Topic10\", \"Topic10\", \"Topic10\", \"Topic10\", \"Topic10\", \"Topic10\", \"Topic10\", \"Topic10\", \"Topic10\", \"Topic10\", \"Topic10\", \"Topic10\", \"Topic10\", \"Topic10\", \"Topic10\", \"Topic10\", \"Topic10\", \"Topic10\", \"Topic10\", \"Topic10\", \"Topic10\", \"Topic10\", \"Topic10\", \"Topic10\", \"Topic10\", \"Topic10\", \"Topic10\", \"Topic10\", \"Topic10\", \"Topic10\", \"Topic10\", \"Topic10\", \"Topic10\", \"Topic10\", \"Topic10\", \"Topic10\", \"Topic10\", \"Topic10\", \"Topic10\", \"Topic10\", \"Topic10\", \"Topic10\", \"Topic10\", \"Topic10\", \"Topic10\", \"Topic10\", \"Topic10\", \"Topic10\", \"Topic10\", \"Topic10\", \"Topic10\", \"Topic10\", \"Topic10\", \"Topic10\", \"Topic10\", \"Topic10\", \"Topic10\", \"Topic10\", \"Topic10\", \"Topic10\", \"Topic10\", \"Topic10\"], \"logprob\": [30.0, 29.0, 28.0, 27.0, 26.0, 25.0, 24.0, 23.0, 22.0, 21.0, 20.0, 19.0, 18.0, 17.0, 16.0, 15.0, 14.0, 13.0, 12.0, 11.0, 10.0, 9.0, 8.0, 7.0, 6.0, 5.0, 4.0, 3.0, 2.0, 1.0, -7.9742, -8.7186, -8.0591, -8.7899, -8.3017, -8.7382, -8.5465, -7.1901, -8.9675, -9.1299, -9.2027, -8.3718, -8.9942, -9.3061, -8.4374, -9.3799, -9.3708, -9.446, -9.4542, -9.4617, -8.2923, -9.5866, -9.5996, -8.5957, -8.9331, -9.6451, -8.5945, -9.1719, -9.7088, -9.2792, -7.9874, -6.3878, -8.0617, -7.8289, -8.4213, -8.5858, -8.0888, -8.3597, -8.7619, -8.6563, -6.2159, -6.7117, -7.6193, -7.7544, -7.3959, -4.2331, -5.3895, -6.1303, -5.97, -5.1733, -4.401, -4.3907, -6.1084, -5.7837, -4.2721, -5.4937, -5.7969, -4.8876, -5.1061, -4.1674, -4.9598, -5.2023, -4.9102, -5.0073, -4.9384, -5.4372, -5.6372, -5.3454, -6.0932, -5.5152, -5.7236, -4.7745, -5.4586, -4.6307, -4.9786, -5.2599, -4.8702, -5.2237, -5.316, -5.163, -5.3941, -5.4333, -4.9852, -5.2725, -5.3777, -5.3829, -7.9107, -7.4888, -8.3944, -7.9036, -8.8142, -8.8412, -9.142, -9.0169, -8.7962, -9.24, -9.4205, -9.4602, -9.0765, -7.2401, -9.3462, -9.5855, -9.1774, -8.5486, -8.674, -9.3761, -9.6782, -8.9707, -8.3216, -8.6521, -9.5238, -8.0826, -9.8075, -9.7529, -8.0306, -9.8194, -6.5998, -7.6172, -7.1369, -5.7821, -7.3767, -7.9931, -8.144, -6.6157, -4.7051, -8.0691, -5.3611, -7.1224, -5.4676, -7.9692, -4.4822, -6.5204, -7.3399, -5.8795, -5.0361, -4.3199, -7.0671, -5.5623, -6.6648, -6.7848, -7.1852, -5.675, -6.9118, -5.8299, -6.4282, -5.3018, -6.0549, -4.9702, -4.5495, -4.6737, -5.1845, -4.6956, -4.4223, -4.8411, -5.9233, -4.9097, -5.151, -5.3662, -5.9405, -5.306, -5.095, -5.2099, -5.3104, -4.8682, -5.6758, -5.5047, -5.0198, -5.1767, -4.9715, -5.2936, -5.4281, -5.5914, -5.5788, -7.8202, -8.0225, -8.5793, -8.56, -8.134, -7.648, -8.7168, -8.8877, -8.8897, -8.5648, -7.3956, -8.8454, -7.3871, -7.0306, -9.3433, -9.2503, -9.5677, -9.4362, -8.3038, -9.0897, -9.2712, -9.517, -9.5136, -8.7308, -9.4778, -8.1403, -9.4729, -9.481, -9.1305, -9.288, -8.2581, -8.3168, -8.8282, -8.0633, -9.1619, -9.2417, -8.9909, -7.5256, -8.9637, -8.4746, -8.114, -8.1954, -6.9756, -6.2846, -7.3373, -7.1953, -6.8581, -7.5342, -5.8809, -4.1878, -5.0528, -6.1295, -5.1913, -7.051, -5.2631, -7.3264, -5.3284, -4.603, -6.9854, -4.5814, -6.0853, -4.341, -5.8669, -4.6358, -4.4759, -4.9457, -6.1475, -5.2298, -4.6882, -5.0691, -5.7393, -5.9334, -5.4098, -4.9298, -5.526, -5.754, -5.1419, -5.4148, -5.4794, -5.4436, -5.3673, -5.1933, -5.603, -5.3701, -5.7606, -5.5447, -5.4543, -5.6795, -5.6164, -5.6761, -6.7321, -6.9721, -7.1621, -7.41, -7.5076, -7.5055, -7.0702, -7.7962, -7.8143, -8.004, -8.1299, -7.8641, -8.1985, -8.2407, -8.2127, -6.9475, -8.057, -8.1795, -8.4744, -8.5092, -8.5214, -6.7937, -7.7148, -8.3758, -8.6288, -8.6032, -7.9373, -8.3855, -8.8048, -8.7572, -7.091, -5.7088, -6.9489, -7.5154, -4.6376, -5.8406, -6.599, -7.0579, -5.9628, -5.5178, -6.8557, -7.0321, -6.8322, -4.9798, -4.6956, -7.097, -4.5176, -4.4855, -5.0859, -6.6531, -5.7637, -6.0579, -4.8748, -6.1407, -6.6506, -4.0216, -4.3652, -4.4217, -5.9317, -5.0188, -5.6678, -5.2647, -4.8466, -6.0069, -5.7595, -4.9465, -6.2976, -5.6199, -4.7689, -5.6304, -5.4726, -5.1156, -5.6046, -5.4754, -5.4579, -5.1936, -5.4625, -5.4095, -5.3495, -5.3531, -5.4632, -5.3812, -5.489, -5.5126, -5.583, -7.0623, -7.6019, -8.1005, -7.959, -8.4071, -8.4285, -7.248, -7.9697, -7.9057, -7.9064, -8.0793, -8.0797, -7.9125, -8.0811, -8.2879, -8.3664, -8.3979, -8.6505, -8.2417, -8.3476, -7.4614, -8.0583, -7.9095, -8.1826, -8.5088, -8.5205, -8.6771, -8.7334, -7.5502, -7.613, -7.6061, -7.8441, -6.6592, -7.6061, -7.8965, -6.6249, -7.0439, -7.5552, -6.8669, -7.6495, -6.9275, -7.1177, -6.0281, -4.9691, -6.6326, -5.8105, -7.1168, -7.3986, -5.3611, -7.1088, -7.4067, -6.9925, -6.5187, -5.771, -3.9614, -6.617, -6.7289, -4.8736, -5.961, -4.159, -6.9148, -5.5798, -5.1499, -6.2034, -4.7906, -5.6554, -6.3615, -5.1098, -5.8424, -5.1572, -5.8164, -5.7761, -4.5406, -5.8772, -5.5919, -5.844, -5.8352, -5.6445, -5.6835, -5.3841, -5.5891, -5.0879, -6.0267, -5.1523, -5.2427, -5.3155, -5.3876, -5.5479, -5.6206, -5.759, -5.67, -5.6502, -5.6224, -5.7071, -5.7042, -5.7547, -6.1026, -6.9635, -7.0963, -7.3507, -7.3378, -7.0331, -7.4177, -7.1206, -7.5667, -5.632, -7.7936, -8.0361, -7.9736, -6.1886, -8.0738, -7.3702, -7.3543, -8.1897, -8.3292, -8.3368, -8.1763, -8.0626, -7.0158, -7.2605, -8.4725, -5.8343, -6.4592, -7.4603, -6.5213, -5.8518, -5.6525, -6.6239, -7.323, -4.8788, -6.8815, -5.2285, -4.4395, -6.2574, -4.6015, -6.9752, -5.5067, -6.4469, -4.4243, -6.0666, -6.071, -5.4435, -5.296, -6.4252, -4.9693, -6.6946, -5.5186, -6.1718, -5.3466, -5.4324, -6.258, -5.3768, -5.4156, -4.5516, -4.2386, -4.7715, -5.3905, -4.8686, -4.4902, -5.4793, -5.396, -4.0836, -5.2449, -4.6799, -5.403, -5.0272, -5.3468, -5.0456, -4.7683, -5.0171, -5.3437, -5.349, -5.3634, -6.1185, -6.2375, -7.3326, -7.3817, -7.3648, -7.4374, -7.4374, -7.4374, -7.416, -6.1542, -7.5004, -7.6253, -7.4394, -6.3953, -4.7498, -7.8728, -6.8905, -7.879, -8.03, -7.5451, -6.8552, -8.3274, -8.2979, -7.4263, -5.3949, -7.8048, -8.4384, -8.5129, -8.5657, -8.5527, -6.6756, -6.8247, -7.9584, -5.2937, -6.9481, -5.3266, -7.6388, -5.7243, -6.8269, -6.8747, -6.1558, -7.3436, -6.4376, -5.6452, -6.3869, -5.8443, -6.68, -6.6307, -5.945, -6.6271, -7.0457, -6.9661, -5.0369, -5.4926, -4.206, -5.7462, -6.2987, -5.8605, -4.9934, -5.6274, -5.0973, -6.158, -6.1431, -4.8744, -5.7752, -5.6433, -4.8674, -4.8859, -5.2938, -5.6934, -5.7334, -5.2622, -5.6022, -5.6656, -5.4326, -5.2849, -5.5915, -5.4794, -5.4409, -5.3634, -5.6901, -5.6846, -6.1925, -6.5323, -6.8285, -6.9548, -7.0309, -7.146, -6.8531, -7.4518, -7.2781, -7.5495, -7.5548, -7.5181, -7.6145, -7.6228, -7.6539, -7.6371, -7.7398, -7.7446, -7.5376, -7.7592, -7.6645, -7.4463, -7.1109, -7.8715, -6.9102, -6.0726, -7.444, -7.9447, -8.1211, -6.826, -4.9718, -5.6563, -6.1277, -4.9901, -6.053, -5.5258, -5.8184, -6.3332, -5.8515, -4.792, -7.3544, -6.6544, -6.7803, -5.6095, -6.4766, -6.5699, -4.6033, -4.8708, -6.8952, -5.5593, -5.8515, -5.8629, -6.1949, -5.8539, -4.5145, -5.4587, -6.0175, -6.3681, -5.3265, -5.0245, -4.7895, -3.7925, -4.6122, -4.3938, -5.0506, -4.6274, -5.5787, -4.6195, -4.9006, -5.274, -5.3596, -4.9291, -5.2366, -5.0474, -5.3339, -5.1323, -5.1573, -5.4219, -5.3423, -5.3816, -5.4424, -5.4932, -7.3341, -8.3507, -5.0685, -8.3984, -6.9885, -8.0461, -5.8532, -8.0384, -8.3818, -5.4535, -7.865, -8.5386, -9.3175, -8.8527, -9.3935, -9.3947, -9.5672, -8.5425, -9.4848, -9.6887, -9.5411, -9.5757, -9.7724, -7.6335, -8.3819, -9.8504, -10.0699, -7.2023, -8.7232, -9.8607, -6.3082, -6.5204, -2.7715, -7.5191, -4.7697, -8.0344, -8.1531, -6.9944, -7.1969, -6.3112, -8.4995, -7.113, -6.8992, -7.161, -6.929, -6.4936, -5.8379, -5.8848, -5.5181, -6.3553, -5.8734, -5.9057, -5.8125, -6.2235, -5.8186, -5.9559, -6.3541, -5.9483, -6.4936, -6.4613, -6.5479, -6.0857, -6.2825, -6.2649, -6.6077, -6.4666, -6.5528, -6.5313, -6.5195, -5.1613, -6.949, -6.3756, -6.6712, -7.0922, -6.6753, -6.6789, -6.7204, -7.8479, -7.7716, -7.7785, -7.6681, -6.7502, -7.858, -7.9154, -8.3515, -7.5631, -7.6011, -8.529, -7.0261, -8.4898, -8.8631, -7.5846, -7.8292, -8.163, -8.9771, -6.2897, -8.0482, -7.4051, -6.3033, -6.3826, -5.7525, -6.0778, -7.3488, -6.7663, -6.6117, -6.0684, -5.3716, -4.9794, -5.6771, -6.6854, -6.5015, -6.0722, -4.9414, -5.7834, -5.9143, -5.749, -6.0879, -5.7406, -5.1304, -5.7063, -4.9046, -5.4854, -4.8164, -5.7615, -5.3327, -5.0897, -5.578, -5.45, -5.4451, -5.4785, -5.5563, -5.4173, -5.528, -5.922, -5.6609, -5.7181, -5.5924, -5.6076, -5.8245, -5.7048, -5.7827], \"loglift\": [30.0, 29.0, 28.0, 27.0, 26.0, 25.0, 24.0, 23.0, 22.0, 21.0, 20.0, 19.0, 18.0, 17.0, 16.0, 15.0, 14.0, 13.0, 12.0, 11.0, 10.0, 9.0, 8.0, 7.0, 6.0, 5.0, 4.0, 3.0, 2.0, 1.0, 1.4858, 1.4747, 1.4739, 1.473, 1.4719, 1.4709, 1.4699, 1.4697, 1.4685, 1.463, 1.4599, 1.4572, 1.4565, 1.4553, 1.4548, 1.4543, 1.4519, 1.4509, 1.4504, 1.4502, 1.4482, 1.4441, 1.4438, 1.4438, 1.4424, 1.4417, 1.4401, 1.4382, 1.437, 1.4366, 1.4322, 1.3831, 1.387, 1.3756, 1.3946, 1.3986, 1.3558, 1.3713, 1.3995, 1.3831, 1.117, 1.1489, 1.2507, 1.2655, 1.2136, 0.7751, 0.8712, 0.9663, 0.9249, 0.726, 0.547, 0.5438, 0.91, 0.8279, 0.4957, 0.7451, 0.8067, 0.5868, 0.6386, 0.3969, 0.584, 0.6447, 0.5449, 0.5556, 0.5262, 0.6643, 0.7058, 0.5834, 0.8208, 0.6215, 0.6921, 0.3528, 0.5952, 0.2014, 0.3098, 0.4027, 0.148, 0.3636, 0.3834, 0.2065, 0.3721, 0.3547, -0.2946, 0.0639, 0.2149, -0.257, 1.6838, 1.6775, 1.6736, 1.6655, 1.6651, 1.6557, 1.6555, 1.6549, 1.6519, 1.6513, 1.6447, 1.6431, 1.6399, 1.636, 1.634, 1.6332, 1.6328, 1.6319, 1.6317, 1.6302, 1.63, 1.6292, 1.6272, 1.6264, 1.6254, 1.6248, 1.622, 1.6199, 1.6197, 1.6196, 1.6171, 1.6194, 1.5982, 1.5713, 1.5743, 1.5856, 1.5852, 1.4991, 1.3617, 1.5509, 1.3461, 1.4598, 1.2919, 1.5354, 1.1896, 1.3708, 1.4599, 1.2593, 1.1314, 1.0236, 1.4052, 1.1618, 1.3287, 1.3316, 1.3952, 1.0623, 1.3141, 1.0346, 1.1931, 0.8646, 1.067, 0.7285, 0.5764, 0.6148, 0.7308, 0.5141, 0.3455, 0.4954, 0.9331, 0.4597, 0.5014, 0.4851, 0.8124, 0.3853, 0.2029, 0.2547, 0.2822, -0.1776, 0.5933, 0.3946, -0.1876, -0.0494, -0.4072, -0.2754, -0.4936, 0.2087, -0.6308, 1.793, 1.7826, 1.7796, 1.779, 1.7748, 1.7726, 1.7717, 1.7706, 1.7672, 1.7639, 1.7622, 1.7613, 1.7516, 1.7429, 1.7426, 1.7425, 1.7371, 1.7363, 1.7362, 1.736, 1.7356, 1.7345, 1.7343, 1.7317, 1.7308, 1.7286, 1.7259, 1.7254, 1.7249, 1.7244, 1.7241, 1.7104, 1.7164, 1.696, 1.7199, 1.7199, 1.7019, 1.5862, 1.6995, 1.6533, 1.6092, 1.6179, 1.4746, 1.3528, 1.4258, 1.3907, 1.3129, 1.4275, 1.0288, 0.58, 0.7777, 1.0439, 0.772, 1.2836, 0.7217, 1.3524, 0.6653, 0.4051, 1.2367, 0.3667, 0.9039, 0.2233, 0.8052, 0.2987, 0.2148, 0.3907, 0.8758, 0.4614, 0.1439, 0.3004, 0.6286, 0.6948, 0.3782, 0.0884, 0.4103, 0.5244, 0.0679, 0.2478, 0.2868, 0.2558, 0.1765, -0.066, 0.2483, -0.0816, 0.4442, -0.0895, -0.3284, 0.0473, -0.3186, -0.0835, 2.0214, 2.0201, 2.0187, 2.0161, 2.0155, 2.0153, 2.0134, 2.0117, 2.0112, 2.0082, 2.006, 2.0049, 2.0036, 2.0033, 2.0033, 2.0026, 2.0021, 2.002, 1.9971, 1.9966, 1.9959, 1.9947, 1.9934, 1.9911, 1.9907, 1.9893, 1.9866, 1.9858, 1.9852, 1.983, 1.9803, 1.9569, 1.9577, 1.9638, 1.8475, 1.8485, 1.8735, 1.896, 1.7886, 1.7314, 1.8629, 1.8815, 1.8513, 1.6124, 1.5704, 1.8727, 1.4276, 1.391, 1.4203, 1.7477, 1.4755, 1.5359, 1.11, 1.5174, 1.6993, 0.6691, 0.7607, 0.706, 1.3252, 0.8116, 1.1721, 0.8129, 0.2807, 1.1931, 0.9839, 0.2633, 1.3854, 0.7243, -0.2046, 0.6422, 0.4556, -0.0974, 0.5048, 0.2693, 0.2333, -0.3615, 0.1301, -0.1117, -0.3413, -0.4051, -0.008, -0.4467, -0.1195, -0.1762, 0.4215, 2.4755, 2.4673, 2.455, 2.4492, 2.444, 2.4432, 2.4431, 2.4424, 2.4403, 2.4399, 2.439, 2.438, 2.4369, 2.4366, 2.4363, 2.4331, 2.4327, 2.4318, 2.4307, 2.4289, 2.4263, 2.4258, 2.4257, 2.4239, 2.4235, 2.4222, 2.422, 2.4193, 2.419, 2.4176, 2.4138, 2.3985, 2.3475, 2.3846, 2.3934, 2.3128, 2.337, 2.3636, 2.2829, 2.3654, 2.2682, 2.2868, 2.1354, 1.9865, 2.2026, 2.0605, 2.2668, 2.3091, 1.8656, 2.2343, 2.301, 2.1954, 2.0691, 1.8524, 1.3365, 2.0705, 2.0573, 1.3826, 1.7215, 0.9688, 2.0965, 1.4535, 1.1943, 1.7088, 0.908, 1.3625, 1.7553, 0.9294, 1.4146, 0.9522, 1.3584, 1.1742, 0.0237, 1.188, 0.8592, 1.0752, 1.0282, 0.7234, 0.746, 0.2786, 0.5785, -0.2558, 1.2529, -0.4617, -0.2946, -0.381, -0.2602, -0.3382, -0.1462, 0.5696, -0.0176, -0.1951, -0.6042, 0.1856, 0.0838, -0.1674, 2.495, 2.4931, 2.4918, 2.4882, 2.488, 2.4862, 2.4835, 2.482, 2.4796, 2.4784, 2.4781, 2.4728, 2.4703, 2.4692, 2.469, 2.4684, 2.468, 2.4679, 2.4624, 2.4612, 2.4594, 2.4576, 2.4569, 2.4567, 2.454, 2.4531, 2.4527, 2.4527, 2.45, 2.4489, 2.4424, 2.4433, 2.443, 2.392, 2.4234, 2.3678, 2.3284, 2.4035, 2.3188, 2.4253, 2.3432, 2.3872, 2.2069, 2.3474, 2.325, 2.2474, 2.2211, 2.356, 2.1496, 2.3867, 2.1711, 2.2909, 2.1327, 2.1307, 2.2777, 2.0252, 1.9989, 1.6575, 1.4882, 1.6908, 1.9076, 1.6392, 1.4477, 1.9177, 1.8455, 0.9346, 1.7411, 1.3151, 1.8482, 1.2657, 1.6614, 0.8907, -0.0776, -0.185, 0.6015, 0.5436, 0.1995, 2.6727, 2.6718, 2.6589, 2.6581, 2.6572, 2.6569, 2.6569, 2.6568, 2.6568, 2.6555, 2.6551, 2.6547, 2.6533, 2.6506, 2.6485, 2.6472, 2.6469, 2.6442, 2.6422, 2.6375, 2.6365, 2.6309, 2.6307, 2.6269, 2.6228, 2.6221, 2.6205, 2.6205, 2.6193, 2.6186, 2.6175, 2.5967, 2.6124, 2.5525, 2.5895, 2.4816, 2.5941, 2.442, 2.5187, 2.508, 2.3716, 2.5633, 2.3761, 2.1521, 2.2839, 2.0283, 2.3427, 2.3221, 1.9969, 2.2763, 2.466, 2.4241, 1.3282, 1.5544, 0.6261, 1.6272, 1.9646, 1.627, 0.8993, 1.4224, 0.8677, 1.8473, 1.819, 0.4692, 1.3996, 1.2447, 0.0671, 0.0621, 0.5575, 1.1059, 1.1675, 0.3006, 0.8933, 0.9231, 0.1547, -0.5942, 0.4752, -0.005, -0.3132, -0.7991, 0.0978, -0.2294, 3.1398, 3.1374, 3.1347, 3.1342, 3.1328, 3.1293, 3.1274, 3.1221, 3.12, 3.1189, 3.1188, 3.118, 3.1164, 3.1158, 3.1153, 3.1149, 3.1118, 3.1115, 3.1101, 3.1101, 3.1095, 3.1087, 3.1064, 3.1062, 3.1019, 3.0979, 3.0957, 3.0947, 3.0928, 3.0925, 3.0888, 3.0785, 3.0832, 3.0568, 3.0703, 2.9899, 3.0041, 3.0339, 2.9777, 2.8823, 3.087, 2.9984, 2.9977, 2.8195, 2.9468, 2.9566, 2.584, 2.6166, 2.9926, 2.6728, 2.7348, 2.6673, 2.7436, 2.5907, 1.9851, 2.3966, 2.5624, 2.7747, 2.018, 1.7791, 1.5756, 0.7717, 1.1879, 0.7339, 1.3614, 0.8278, 1.9253, 0.0711, 0.5737, 1.1834, 1.3515, 0.0054, 0.6917, 0.0799, 0.7113, -0.1241, -0.2093, 0.9305, -0.3242, -0.5495, 0.1449, 0.2062, 4.2765, 4.2309, 4.2264, 4.2016, 4.1638, 4.1182, 4.1012, 4.0641, 4.02, 3.9988, 3.9682, 3.8875, 3.8465, 3.8265, 3.8197, 3.7987, 3.7922, 3.7418, 3.7277, 3.7224, 3.7146, 3.7025, 3.6849, 3.6168, 3.6157, 3.5809, 3.5281, 3.5237, 3.5233, 3.4775, 3.3981, 3.0393, 2.3562, 3.0878, 1.7513, 3.0712, 3.0135, 2.3819, 2.383, 1.8389, 3.1317, 2.0331, 1.7459, 1.9101, 1.6677, 1.1277, 0.3285, 0.2276, -0.3922, 0.7616, 0.0418, -0.2071, -0.469, -0.0559, -0.9865, -0.7461, 0.0793, -1.2577, 0.2305, -0.0579, 0.1593, -1.5214, -0.9847, -1.4971, -0.2398, -1.3393, -0.7527, -1.1618, -1.585, 4.5859, 4.538, 4.5371, 4.5244, 4.4697, 4.466, 4.4576, 4.433, 4.4222, 4.4215, 4.4144, 4.3956, 4.3468, 4.3369, 4.2746, 4.2644, 4.2448, 4.2438, 4.2337, 4.2247, 4.2067, 4.157, 4.1357, 4.1352, 4.0835, 4.0805, 4.0788, 4.0699, 4.0463, 4.0153, 4.0002, 3.8775, 3.9051, 3.9952, 3.9196, 3.7768, 3.6259, 2.9798, 2.779, 3.0145, 3.5915, 3.4444, 3.1542, 2.3225, 2.9247, 2.9418, 2.7811, 3.0549, 2.7692, 2.1208, 2.6052, 1.3883, 2.1094, 0.9104, 2.1087, 1.1669, 0.3749, 1.4282, 1.0124, 0.9669, 0.8483, 0.9515, -0.0478, 0.4003, 2.1341, 0.5358, 0.7153, -0.5742, -0.917, 1.1615, -1.1406, -0.4943]}, \"token.table\": {\"Topic\": [1, 2, 3, 4, 5, 6, 7, 8, 10, 1, 2, 3, 4, 5, 6, 7, 8, 9, 10, 1, 7, 8, 9, 1, 2, 3, 4, 5, 6, 7, 8, 9, 10, 1, 2, 3, 4, 5, 6, 7, 8, 9, 10, 1, 2, 3, 4, 6, 10, 9, 1, 2, 3, 4, 5, 6, 7, 10, 1, 1, 2, 3, 4, 5, 6, 7, 8, 9, 10, 1, 2, 3, 4, 5, 6, 7, 8, 9, 1, 2, 3, 5, 7, 1, 2, 3, 4, 5, 6, 7, 8, 9, 10, 1, 2, 3, 4, 5, 6, 7, 8, 9, 10, 1, 2, 4, 9, 2, 7, 1, 2, 3, 4, 5, 6, 7, 8, 9, 10, 5, 10, 1, 3, 2, 3, 4, 6, 10, 6, 1, 2, 3, 4, 5, 6, 7, 8, 9, 10, 1, 2, 3, 4, 5, 6, 7, 8, 9, 10, 3, 4, 5, 6, 4, 1, 2, 3, 4, 5, 6, 7, 8, 9, 10, 1, 2, 1, 2, 3, 4, 5, 6, 7, 8, 9, 10, 1, 2, 3, 4, 5, 6, 7, 8, 9, 10, 3, 6, 10, 1, 2, 3, 4, 5, 6, 7, 8, 9, 10, 1, 1, 2, 3, 4, 5, 6, 7, 8, 9, 10, 1, 2, 3, 4, 5, 6, 7, 8, 9, 10, 1, 2, 3, 4, 5, 6, 7, 8, 9, 10, 1, 2, 3, 4, 5, 6, 7, 8, 9, 5, 1, 2, 3, 4, 5, 6, 7, 8, 9, 3, 4, 1, 2, 5, 7, 9, 1, 2, 3, 4, 5, 6, 7, 8, 9, 10, 1, 1, 2, 3, 4, 6, 4, 8, 3, 5, 5, 1, 2, 3, 4, 5, 6, 7, 8, 9, 10, 1, 2, 3, 4, 5, 6, 7, 8, 9, 10, 1, 2, 3, 4, 5, 6, 7, 8, 9, 10, 1, 2, 3, 5, 6, 7, 8, 10, 1, 2, 3, 4, 5, 6, 7, 8, 9, 10, 8, 1, 2, 3, 4, 5, 6, 7, 8, 9, 10, 1, 2, 3, 4, 5, 6, 7, 8, 9, 10, 6, 4, 5, 1, 2, 3, 4, 5, 6, 7, 8, 9, 10, 2, 6, 3, 8, 1, 3, 2, 3, 4, 5, 6, 7, 9, 7, 8, 3, 5, 10, 9, 1, 1, 2, 3, 4, 5, 6, 7, 8, 9, 10, 3, 5, 6, 9, 10, 1, 2, 4, 8, 10, 3, 4, 5, 7, 3, 1, 2, 3, 4, 7, 9, 3, 1, 2, 3, 4, 5, 6, 7, 8, 9, 10, 2, 1, 2, 3, 4, 5, 6, 7, 8, 9, 10, 1, 2, 3, 4, 1, 9, 1, 2, 3, 4, 5, 6, 7, 8, 9, 2, 8, 10, 1, 2, 3, 4, 5, 6, 7, 8, 9, 10, 1, 1, 2, 3, 4, 5, 6, 7, 8, 9, 10, 1, 2, 3, 4, 5, 6, 7, 8, 9, 10, 4, 1, 5, 8, 10, 5, 2, 7, 9, 1, 2, 3, 4, 5, 6, 1, 2, 3, 4, 5, 6, 7, 9, 10, 7, 7, 1, 2, 3, 4, 5, 6, 7, 8, 9, 10, 1, 3, 6, 10, 6, 9, 1, 2, 3, 4, 5, 6, 7, 9, 1, 2, 3, 4, 5, 6, 7, 8, 9, 10, 2, 3, 4, 5, 6, 3, 5, 1, 2, 3, 4, 5, 6, 7, 8, 9, 10, 2, 5, 9, 1, 2, 3, 4, 5, 6, 7, 8, 9, 10, 4, 8, 1, 2, 3, 4, 5, 6, 7, 9, 1, 2, 3, 4, 5, 6, 7, 8, 9, 10, 1, 2, 3, 4, 5, 6, 7, 8, 9, 10, 5, 6, 7, 1, 2, 3, 4, 5, 6, 7, 8, 9, 1, 2, 3, 4, 5, 6, 7, 8, 9, 10, 1, 2, 3, 4, 5, 6, 7, 8, 9, 10, 2, 3, 3, 4, 6, 10, 1, 2, 3, 4, 5, 6, 7, 8, 9, 10, 1, 2, 3, 4, 5, 6, 7, 8, 9, 10, 9, 8, 7, 1, 2, 3, 4, 5, 6, 7, 8, 9, 10, 1, 2, 3, 4, 1, 2, 3, 4, 5, 6, 7, 8, 9, 10, 3, 9, 10, 1, 2, 3, 4, 5, 6, 10, 1, 2, 3, 4, 5, 6, 7, 8, 9, 10, 1, 2, 3, 5, 6, 7, 1, 2, 3, 1, 3, 2, 3, 4, 6, 7, 1, 2, 3, 4, 5, 6, 7, 8, 9, 10, 1, 3, 1, 2, 3, 4, 5, 6, 7, 8, 9, 10, 1, 2, 3, 4, 5, 6, 7, 8, 9, 10, 2, 5, 2, 9, 1, 2, 3, 4, 5, 6, 7, 8, 9, 10, 4, 2, 6, 10, 1, 2, 3, 4, 5, 6, 7, 8, 9, 10, 1, 2, 3, 4, 5, 6, 7, 8, 9, 10, 1, 2, 3, 4, 5, 6, 7, 8, 10, 2, 3, 4, 5, 1, 2, 3, 4, 5, 6, 9, 1, 2, 3, 4, 5, 6, 7, 8, 9, 10, 2, 3, 7, 5, 1, 2, 3, 4, 5, 6, 7, 8, 9, 10, 2, 3, 4, 5, 1, 2, 3, 4, 5, 6, 7, 8, 9, 10, 4, 2, 3, 4, 5, 8, 9, 1, 2, 3, 4, 5, 6, 7, 8, 9, 10, 1, 2, 3, 4, 5, 6, 7, 8, 9, 10, 1, 2, 3, 4, 5, 6, 7, 8, 9, 10, 2, 3, 7, 1, 2, 3, 4, 5, 7, 9, 9, 1, 2, 3, 4, 5, 6, 7, 8, 9, 10, 1, 3, 4, 5, 6, 7, 9, 10, 1, 2, 3, 4, 5, 6, 7, 8, 9, 10, 1, 2, 3, 4, 9, 1, 2, 3, 4, 5, 6, 7, 8, 9, 10, 5, 1, 2, 3, 4, 9, 2, 3, 4, 9, 4, 6, 3, 1, 2, 3, 1, 2, 3, 4, 7, 9, 1, 2, 3, 4, 5, 6, 7, 9, 3, 1, 2, 3, 4, 5, 6, 7, 8, 9, 10, 1, 2, 3, 4, 5, 6, 7, 8, 9, 10, 10, 1, 3, 5, 1, 2, 3, 4, 5, 6, 7, 8, 9, 10, 1, 2, 3, 4, 5, 6, 7, 8, 9, 10, 5, 6, 10, 1, 2, 3, 4, 5, 6, 7, 8, 9, 10, 2, 3, 6, 10, 2, 6, 4, 6, 10, 6, 10, 1, 2, 3, 4, 5, 6, 7, 8, 9, 10, 1, 10, 1, 2, 3, 4, 5, 6, 7, 9, 1, 2, 3, 4, 5, 6, 7, 8, 9, 10, 1, 2, 3, 4, 5, 6, 7, 8, 9, 10, 2, 3, 6, 1, 2, 3, 4, 5, 6, 8, 9, 5, 1, 2, 3, 4, 5, 6, 7, 8, 9, 8, 1, 2, 3, 4, 5, 6, 7, 8, 9, 10, 2, 1, 2, 3, 4, 5, 6, 7, 8, 9, 10, 6, 1, 2, 3, 4, 5, 6, 7, 8, 9, 10, 6, 1, 2, 3, 4, 5, 6, 7, 8, 9, 10, 1, 2, 3, 4, 5, 6, 7, 8, 9, 10, 1, 2, 3, 4, 5, 6, 7, 8, 9, 10, 1, 2, 3, 4, 5, 6, 8, 10, 1, 2, 3, 4, 5, 6, 8, 10, 1, 3, 9, 7, 5, 3, 4, 5, 6, 3, 4, 9, 1, 2, 3, 4, 5, 6, 7, 8, 9, 10, 1, 2, 3, 4, 5, 6, 7, 8, 9, 10, 1, 2, 3, 4, 5, 6, 7, 8, 9, 10, 1, 2, 3, 4, 5, 6, 7, 8, 9, 10, 1, 2, 3, 4, 5, 6, 7, 8, 9, 10, 1, 2, 3, 4, 5, 6, 7, 9, 2, 3, 1, 2, 3, 4, 5, 6, 7, 8, 9, 10, 1, 2, 3, 4, 5, 6, 7, 8, 9, 10, 1, 2, 3, 4, 5, 6, 7, 8, 9, 10, 6, 1, 2, 3, 4, 5, 6, 7, 8, 9, 10, 1, 2, 3, 1, 2, 3, 4, 5, 6, 7, 8, 9, 10, 1, 2, 3, 4, 5, 6, 7, 8, 9, 10, 1, 3, 6, 1, 2, 3, 4, 5, 6, 7, 8, 9, 10, 1, 2, 3, 4, 5, 6, 7, 8, 9, 10, 8, 1, 4, 5, 7, 8, 9, 1, 2, 3, 4, 5, 6, 1, 2, 3, 4, 5, 6, 8, 9, 10, 1, 2, 3, 4, 5, 6, 8, 10, 8, 1, 2, 3, 4, 5, 6, 7, 8, 9, 4, 8, 1, 2, 3, 4, 5, 6, 7, 8, 9, 1, 2, 3, 4, 5, 6, 7, 8, 10, 1, 2, 3, 4, 5, 6, 7, 8, 1, 2, 3, 4, 5, 6, 7, 8, 9, 10, 4, 7, 1, 2, 3, 4, 5, 6, 7, 8, 9, 10, 1, 2, 3, 4, 5, 6, 10, 1, 2, 3, 4, 5, 6, 7, 8, 9, 10, 1, 3, 5, 7, 5, 7, 8, 9, 5, 2, 3, 4, 1, 2, 3, 4, 5, 6, 7, 8, 1, 2, 3, 4, 5, 6, 7, 8, 9, 10, 1, 2, 3, 4, 5, 6, 7, 8, 9, 2, 1, 2, 3, 4, 5, 6, 7, 8, 9, 10, 3, 6, 10, 7, 1, 2, 3, 4, 5, 6, 7, 8, 9, 10, 5, 9, 1, 2, 3, 4, 5, 6, 7, 8, 9, 10, 1, 2, 3, 4, 5, 6, 7, 8, 9, 10, 1, 2, 3, 4, 5, 6, 7, 8, 9, 10, 1, 2, 3, 4, 5, 6, 7, 8, 9, 10, 1, 2, 3, 5, 7, 9, 1, 2, 3, 4, 5, 6, 7, 8, 9, 10, 5, 7, 5, 1, 2, 3, 4, 5, 6, 7, 8, 9, 7, 8, 10, 3, 4, 1, 2, 4, 9, 1, 2, 3, 4, 5, 6, 7, 8, 9, 10, 6, 1, 2, 3, 4, 5, 6, 7, 8, 9, 10, 5, 8, 8, 1, 2, 3, 4, 5, 6, 7, 8, 9, 10, 1, 2, 3, 4, 5, 6, 7, 8, 9, 10, 2, 7, 2, 1, 2, 3, 8, 1, 2, 3, 4, 9, 3, 4, 6, 7, 1, 3, 4, 5, 3, 10, 1, 2, 3, 6, 5, 7, 1, 3, 4, 1, 2, 3, 4, 5, 6, 7, 8, 9, 2, 2, 1, 2, 3, 4, 6, 1, 2, 3, 5, 6, 7, 8, 1, 3, 6, 1, 2, 3, 4, 5, 6, 7, 8, 9, 10, 1, 2, 3, 4, 5, 6, 7, 9, 1, 2, 3, 4, 5, 6, 7, 8, 9, 10, 1, 2, 3, 4, 5, 6, 7, 8, 9, 10, 1, 2, 3, 4, 5, 6, 7, 8, 9, 10, 1, 2, 3, 4, 5, 6, 7, 9, 10, 1, 2, 3, 4, 5, 6, 7, 8, 9, 10, 1, 2, 3, 4, 5, 6, 7, 8, 9, 10, 1, 2, 3, 5, 6, 1, 2, 3, 4, 5, 6, 7, 8, 9, 10, 4, 2, 1, 2, 3, 4, 6, 3, 4, 1, 2, 3, 4, 5, 6, 7, 8, 10, 1, 2, 3, 4, 5, 6, 7, 8, 9, 10, 1, 2, 3, 4, 5, 6, 7, 8, 9, 10, 1, 2, 3, 4, 5, 6, 7, 9, 1, 2, 3, 4, 5, 6, 7, 8, 9, 10, 3, 5, 8, 1, 2, 3, 4, 5, 6, 7, 8, 1, 2, 3, 5, 6, 7, 8, 9, 8, 10, 2, 3, 6, 2, 3, 6, 1, 2, 3, 4, 5, 10, 6, 1, 2, 3, 4, 5, 6, 7, 8, 9, 10, 1, 2, 3, 4, 5, 6, 7, 8, 9, 10, 1, 2, 3, 4, 5, 6, 7, 8, 1, 2, 3, 4, 5, 6, 7, 8, 9, 10, 4, 1, 2, 3, 4, 5, 6, 7, 8, 9, 10, 1, 2, 3, 4, 5, 6, 7, 9, 7, 8, 1, 2, 3, 4, 5, 6, 7, 8, 9, 10, 1, 3, 4, 8, 1, 1, 2, 3, 4, 5, 6, 7, 8, 9, 10, 1, 2, 3, 4, 5, 6, 7, 8, 9, 10, 6, 10, 6, 1, 2, 3, 4, 5, 6, 7, 8, 9, 10, 1, 2, 3, 4, 5, 6, 7, 8, 9, 10, 1, 2, 3, 4, 5, 6, 7, 8, 9, 10, 1, 2, 3, 4, 5, 6, 7, 8, 9, 10, 1, 2, 3, 4, 5, 6, 7, 8, 9, 10, 1, 2, 3, 4, 5, 6, 7, 8, 9, 10, 1, 2, 3, 4, 5, 6, 7, 8, 9, 10, 4, 1, 2, 3, 4, 6, 9, 1, 2, 3, 4, 5, 6, 7, 8, 9, 10, 1, 2, 3, 4, 5, 6, 7, 8, 1, 1, 3, 5, 7, 2, 1, 2, 3, 1, 2, 3, 4, 1, 2, 3, 4, 5, 6, 7, 8, 9, 3, 7, 10, 3, 5, 9, 9, 8, 10, 1, 2, 3, 4, 5, 6, 7, 8, 9, 10, 1, 2, 3, 4, 5, 6, 7, 8, 9, 10, 1, 2, 3, 4, 5, 6, 7, 8, 9, 10, 3, 6, 10, 1, 3, 1, 2, 3, 4, 5, 6, 7, 8, 9, 1, 2, 3, 4, 5, 6, 7, 8, 9, 10, 1, 2, 3, 7, 8, 1, 2, 3, 4, 5, 6, 7, 8, 9, 10, 10, 1, 2, 3, 4, 5, 6, 7, 8, 9, 10, 1, 2, 3, 4, 6, 4, 1, 2, 3, 4, 5, 6, 10, 7, 8, 7, 8, 1, 2, 3, 4, 5, 6, 7, 8, 9, 10, 2, 5, 6, 7, 1, 2, 3, 4, 5, 6, 7, 8, 9, 10, 4, 3, 4, 6, 10, 3, 4, 1, 2, 3, 1, 2, 3, 4, 5, 6, 7, 8, 9, 10, 2, 6, 1, 2, 3, 5, 8, 4, 5, 1, 3, 8, 10, 5, 2, 3, 5, 6, 7, 8, 1, 3, 7, 4, 1, 1, 2, 3, 5, 7, 1, 1, 2, 3, 4, 5, 6, 7, 9, 10, 10, 3, 1, 2, 3, 5, 6, 7, 8, 2, 3, 4, 5, 6, 7, 8, 9, 10, 1, 2, 3, 4, 5, 6, 7, 8, 9, 1, 2, 3, 4, 5, 7, 1, 2, 3, 4, 5, 6, 7, 10, 7, 3, 5, 6, 1, 2, 3, 4, 5, 6, 7, 8, 9, 10, 1, 2, 3, 4, 5, 6, 7, 8, 9, 10, 1, 2, 3, 4, 5, 6, 7, 8, 9, 10, 1, 2, 3, 4, 5, 6, 7, 8, 9, 10, 1, 2, 3, 4, 5, 6, 7, 8, 9, 10, 5, 7, 8, 9, 3, 4, 6, 10, 8, 6, 1, 2, 3, 4, 5, 6, 7, 8, 9, 6, 10, 6, 1, 3, 1, 2, 3, 4, 5, 6, 7, 8, 9, 10, 2, 1, 2, 3, 4, 5, 6, 7, 8, 9, 10, 1, 2, 3, 4, 6, 1, 2, 3, 4, 5, 6, 7, 8, 9, 10, 7, 6, 3, 7, 9, 1, 2, 3, 4, 5, 6, 7, 8, 9, 10, 1, 2, 3, 4, 5, 6, 7, 8, 9, 10, 1, 2, 3, 4, 5, 6, 7, 8, 9, 10, 1, 2, 3, 4, 5, 6, 7, 8, 9, 10, 1, 2, 3, 4, 5, 6, 7, 8, 9, 10, 1, 2, 3, 4, 5, 6, 7, 9, 8, 1, 2, 3, 4, 5, 6, 7, 8, 9, 10, 2, 3, 4, 6, 7, 10, 1, 2, 3, 4, 5, 6, 7, 8, 9, 10, 4, 4, 1, 2, 3, 4, 5, 6, 7, 8, 9, 10, 7, 8, 1, 2, 3, 4, 5, 6, 7, 8, 9, 10, 1, 2, 3, 4, 5, 6, 7, 8, 9, 10, 5, 5, 1, 2, 3, 4, 5, 6, 7, 8, 9, 10, 6, 1, 1, 2, 3, 4, 5, 6, 7, 8, 9, 10, 3, 1, 2, 3, 4, 5, 6, 7, 8, 9, 10, 9, 1, 2, 3, 4, 5, 6, 7, 8, 9, 10, 1, 2, 3, 4, 5, 6, 7, 8, 9, 10, 1, 2, 3, 4, 5, 6, 7, 8, 9, 10, 1, 2, 3, 4, 5, 6, 7, 8, 9, 10, 7, 8, 5, 1, 2, 3, 4, 5, 6, 7, 8, 9, 10, 1, 2, 3, 4, 5, 6, 7, 8, 9, 10, 1, 2, 3, 4, 5, 6, 7, 8, 9, 10, 1, 2, 3, 4, 5, 6, 7, 8, 9, 10, 1, 2, 3, 4, 5, 6, 7, 8, 9, 10, 1, 2, 3, 4, 5, 6, 7, 8, 9, 10, 1, 1, 2, 3, 4, 5, 6, 7, 8, 9, 10, 1, 2, 3, 4, 5, 6, 7, 8, 9, 10, 1, 2, 3, 4, 5, 7, 8, 1, 2, 3, 4, 5, 6, 7, 8, 9, 1, 3, 4, 5, 6, 8, 10, 1, 1, 2, 3, 4, 5, 6, 7, 8, 9, 10, 4, 7, 2, 3, 5, 7, 8, 3, 10, 1, 2, 3, 6, 2, 3, 7, 3, 4, 1, 2, 3, 4, 5, 6, 7, 8, 9, 1, 2, 3, 4, 5, 6, 7, 8, 9, 10, 7, 1, 2, 3, 4, 5, 6, 7, 8, 9, 10, 10, 1, 2, 3, 4, 5, 6, 7, 8, 9, 10, 6, 10, 3, 4, 5, 6, 7, 2, 2, 3, 6, 7, 1, 2, 3, 4, 5, 6, 7, 8, 9, 10, 3, 4, 5, 3, 5, 7, 2, 7, 8, 5, 1, 2, 3, 4, 5, 6, 7, 8, 9, 10, 1, 2, 3, 4, 5, 6, 6, 10, 4, 5, 1, 3, 4, 1, 2, 3, 4, 5, 6, 7, 8, 9, 10, 2, 3, 7, 1, 2, 3, 4, 5, 6, 7, 8, 9, 10, 1, 2, 3, 4, 5, 6, 8, 10, 1, 2, 5, 7, 8, 9, 6, 1, 2, 3, 4, 5, 6, 8, 10, 1, 2, 3, 4, 5, 6, 7, 8, 9, 10, 1, 2, 3, 4, 5, 6, 7, 8, 9, 10, 2, 1, 2, 3, 4, 5, 6, 7, 8, 9, 10, 1, 3, 5, 6, 8, 8, 1, 2, 3, 4, 5, 6, 7, 8, 9, 10, 8, 7, 8, 9, 1, 2, 3, 4, 5, 6, 7, 8, 9, 10, 5, 3, 6, 1, 2, 3, 4, 5, 6, 7, 8, 9, 1, 2, 3, 4, 5, 6, 7, 8, 9, 1, 2, 3, 4, 5, 6, 7, 9, 2, 3, 4, 5, 1, 2, 3, 4, 5, 6, 10, 3, 6, 8, 5, 6, 1, 2, 3, 4, 5, 6, 7, 8, 9, 10, 4, 4, 5, 8, 9, 1, 2, 3, 4, 5, 6, 1, 2, 3, 4, 6, 9, 10, 9, 1, 2, 3, 4, 5, 6, 7, 8, 9, 10, 1, 2, 3, 4, 5, 6, 7, 8, 9, 10, 1, 2, 3, 4, 5, 6, 7, 9, 3, 1, 2, 4, 5, 7, 8, 9, 1, 2, 3, 5, 6, 7, 8, 1, 2, 3, 4, 5, 6, 7, 8, 9, 10, 1, 2, 3, 4, 5, 6, 7, 8, 9, 10, 1, 2, 3, 4, 5, 6, 7, 8, 9, 10, 5, 1, 2, 3, 4, 5, 6, 7, 8, 9, 10, 1, 2, 3, 4, 5, 6, 7, 8, 9, 10, 1, 2, 3, 4, 5, 6, 7, 8, 9, 10, 1, 4, 5, 7, 8, 9, 1, 3, 4, 6, 9, 1, 2, 3, 4, 5, 7, 9, 2, 4, 9, 3, 1, 2, 3, 4, 5, 6, 7, 8, 9, 10, 1, 2, 3, 4, 5, 6, 7, 8, 9, 9, 1, 2, 3, 4, 5, 6, 7, 8, 9, 10, 1, 2, 3, 4, 5, 3, 4, 5, 6, 1, 2, 3, 4, 5, 6, 7, 8, 9, 1, 2, 3, 1, 2, 3, 4, 5, 6, 7, 8, 9, 10, 1, 2, 3, 4, 5, 6, 7, 9, 1, 2, 3, 4, 5, 6, 7, 8, 9, 10, 2, 4, 8, 8, 4, 1, 2, 3, 4, 5, 7, 8, 9, 2, 1, 2, 3, 4, 5, 6, 7, 8, 9, 10, 7, 6, 2, 3, 9, 8, 1, 2, 3, 4, 5, 6, 10, 1, 2, 3, 4, 5, 6, 7, 8, 9, 10, 1, 2, 3, 4, 5, 6, 7, 8, 9, 10, 7, 3, 7, 9, 1, 2, 3, 7, 1, 2, 3, 4, 5, 6, 7, 8, 9, 1, 2, 3, 4, 5, 6, 7, 8, 9, 10, 3, 8, 1, 2, 3, 4, 5, 9, 4, 1, 2, 3, 4, 5, 6, 7, 8, 9, 10, 1, 2, 3, 4, 5, 6, 7, 8, 9, 10, 5, 7, 1, 2, 3, 4, 5, 6, 7, 8, 9, 10, 1, 2, 3, 4, 5, 6, 7, 8, 9, 10, 1, 2, 3, 4, 5, 6, 7, 8, 9, 10, 1, 2, 3, 4, 5, 6, 7, 8, 1, 2, 3, 4, 5, 6, 7, 8, 9, 10, 7, 8, 1, 2, 3, 5, 1, 2, 3, 4, 5, 6, 7, 8, 9, 10, 1, 2, 3, 4, 5, 6, 7, 8, 9, 10, 1, 4, 5, 7, 8, 9, 1, 2, 3, 5, 6, 7, 8, 9, 10, 1, 2, 5, 6, 7, 10, 1, 2, 3, 4, 5, 6, 7, 8, 9, 10, 1, 2, 3, 4, 5, 6, 7, 8, 9, 10, 1, 8, 10, 4, 1, 2, 3, 4, 5, 6, 7, 8, 9, 10, 2, 3, 5, 6, 10, 8, 1, 2, 3, 4, 5, 6, 7, 8, 9, 10, 5, 7, 3, 4, 9, 9, 1, 2, 3, 4, 6, 7, 8, 9, 5, 6, 10, 3, 5, 7, 2, 1, 2, 3, 4, 5, 6, 7, 8, 9, 10, 1, 2, 3, 4, 5, 6, 7, 8, 9, 10, 8, 3, 4, 9, 1, 2, 3, 4, 5, 6, 7, 8, 9, 10, 1, 2, 3, 4, 5, 6, 7, 8, 9, 10, 7, 7, 1, 7, 8, 3, 1, 2, 3, 4, 5, 6, 7, 8, 9, 10, 1, 8, 10, 9, 2, 6, 8, 1, 3, 5, 6, 10, 3, 10, 1, 1, 2, 3, 4, 5, 6, 7, 8, 9, 1, 2, 3, 4, 6, 1, 2, 3, 4, 6, 1, 2, 3, 4, 5, 6, 7, 8, 9, 10, 1, 2, 3, 4, 5, 6, 7, 8, 9, 10], \"Freq\": [0.07988561038344313, 0.0022190447328734202, 0.08432369984918997, 0.019971402595860784, 0.017752357862987362, 0.0022190447328734202, 0.7899799249029377, 0.0022190447328734202, 0.9212932828697867, 0.12081066445812605, 0.03691436969553852, 0.02349096253352451, 0.04698192506704902, 0.04698192506704902, 0.010067555371510504, 0.14765747878215407, 0.5537155454330778, 0.013423407162014006, 0.0033558517905035016, 0.012797254738501554, 0.012797254738501554, 0.9469968506491151, 0.012797254738501554, 0.3660195027690148, 0.10486398487674298, 0.1948621941196182, 0.06388265745364803, 0.03816888338425511, 0.012856887034696458, 0.07151643413049905, 0.1394168687824897, 0.002410666319005586, 0.005223110357845436, 0.05216593368919385, 0.03068584334658462, 0.14575775589627693, 0.049097349354535386, 0.01841150600795077, 0.03682301201590154, 0.5907024844217539, 0.07211173186447385, 0.0015342921673292308, 0.0015342921673292308, 0.01231172669541207, 0.04514299788317759, 0.05335081568011897, 0.01641563559388276, 0.8618208686788449, 0.00410390889847069, 0.3449082097514703, 0.006469230674709054, 0.022642307361481685, 0.06469230674709053, 0.003234615337354527, 0.012938461349418107, 0.8507038337242405, 0.02425961503015895, 0.012938461349418107, 0.9531904461289133, 0.1107971497723475, 0.04650744558345451, 0.16824752372837953, 0.11353288186549187, 0.46507445583454504, 0.00957506232600534, 0.02051799069858287, 0.06155397209574861, 0.0013678660465721913, 0.0027357320931443827, 0.0205684331044499, 0.01028421655222495, 0.015426324828337426, 0.030852649656674853, 0.8690162986630083, 0.005142108276112475, 0.0205684331044499, 0.0205684331044499, 0.005142108276112475, 0.031094943245962302, 0.010364981081987435, 0.010364981081987435, 0.8395634676409822, 0.10364981081987434, 0.05545246367833939, 0.10567356285872224, 0.11718256475422664, 0.07323910297139165, 0.007323910297139165, 0.6036994630641854, 0.009416456096321784, 0.010462728995913093, 0.0020925457991826184, 0.01569409349386964, 0.17766787301631343, 0.1356736484851848, 0.16192003881714018, 0.023823646609005662, 0.02059332164507269, 0.4433621012998003, 0.00282653434344135, 0.005249278066391079, 0.0016151624819664857, 0.027053971572938634, 0.04145155064230517, 0.9326598894518664, 0.010362887660576293, 0.010362887660576293, 0.9513802638638487, 0.9809576224578013, 0.053686935548621424, 0.14433864639301497, 0.09681250672702224, 0.021122728740441216, 0.05720739033869496, 0.5175068541408098, 0.09945284781957739, 0.005280682185110304, 0.000880113697518384, 0.002640341092555152, 0.9553463804650267, 0.6176288990359072, 0.8953683558553333, 0.08664855056664515, 0.005076405271221165, 0.0025382026356105826, 0.005076405271221165, 0.9467495830827474, 0.03553483689854816, 0.973905296456854, 0.18277468676573586, 0.12002370438839874, 0.3675414682101173, 0.24602369281273434, 0.02241106513476325, 0.037849798894266824, 0.001992094678645622, 0.0179288521078106, 0.001992094678645622, 0.0014940710089842166, 0.10470022837936838, 0.033063230014537384, 0.33814667060322323, 0.3997645083575883, 0.09543250481468744, 0.014527782885175516, 0.005009580305232937, 0.006011496366279524, 0.0017533531068315278, 0.0017533531068315278, 0.045745378465974776, 0.007624229744329129, 0.007624229744329129, 0.9225317990638247, 0.9484630450731043, 0.11957722225929718, 0.2384864153439614, 0.13928408291096905, 0.2505109404873544, 0.11389897427491714, 0.023047006524836607, 0.04876612974820499, 0.05878656736769917, 0.004342189635114143, 0.003006131285848253, 0.031215757276536367, 0.936472718296091, 0.5644277769737422, 0.10267980507240075, 0.17113300845400123, 0.04293882757573122, 0.01991365916555651, 0.031737394295105685, 0.00684532033816005, 0.0578740719498986, 0.0012446036978472819, 0.0018669055467709227, 0.33285425869537055, 0.12210505254449332, 0.20536399818434606, 0.10740161955722281, 0.08513469223493662, 0.018394418222758162, 0.030919564841544147, 0.09239564679655168, 0.0022993022778447702, 0.0031464136433665274, 0.9743494028791151, 0.03458716088304237, 0.9338533438421439, 0.028735795907671377, 0.006385732423926972, 0.009578598635890459, 0.003192866211963486, 0.17241477544602826, 0.003192866211963486, 0.003192866211963486, 0.6162231789089528, 0.003192866211963486, 0.15964331059817433, 0.9459348254790588, 0.08375374329341716, 0.08496756565998842, 0.05462200649570684, 0.06311876306170568, 0.004855289466285053, 0.6882372818459062, 0.0060691118328563155, 0.007282934199427578, 0.0012138223665712632, 0.004855289466285053, 0.2139322798871185, 0.18142448048314247, 0.2284833900965173, 0.16161020275119517, 0.06130042173321196, 0.07832831665910417, 0.0198142777319473, 0.03312699558309939, 0.005263167522548501, 0.016718296836330533, 0.2192399644144627, 0.26966142130705634, 0.26069760674837306, 0.166390807745559, 0.013072229564746499, 0.05172867984906829, 0.008030083875487135, 0.003734922732784714, 0.004108415006063185, 0.0033614304595062424, 0.1948254049202618, 0.02353595495681015, 0.635470783833874, 0.1072193503588018, 0.011767977478405075, 0.006537765265780597, 0.011767977478405075, 0.006537765265780597, 0.0013075530531561194, 0.9519732865707666, 0.2783401316091805, 0.05776870656039594, 0.5934421673931584, 0.0498911556657965, 0.007877550894599447, 0.005251700596399632, 0.002625850298199816, 0.002625850298199816, 0.002625850298199816, 0.020741758137592384, 0.9644917533980459, 0.04458229045173539, 0.5349874854208246, 0.08916458090347078, 0.13374687135520616, 0.22291145225867695, 0.4024617677102941, 0.10854590821323586, 0.13154801895648388, 0.10057785677930026, 0.07186280349851348, 0.03698378590090862, 0.06840496985737163, 0.07577165891893473, 0.0025557900825831158, 0.0015034059309312444, 0.94680712263861, 0.8960121537978162, 0.02400032554815579, 0.04000054258025965, 0.016000217032103862, 0.016000217032103862, 0.9747330716712947, 0.9478149566637188, 0.91880554891712, 0.9431131072039229, 0.9168028910860391, 0.15022442422237758, 0.07135660150562935, 0.056334159083391594, 0.6121645287061886, 0.045067327266713274, 0.03630423585374125, 0.005007480807412586, 0.007511221211118879, 0.0012518702018531466, 0.015022442422237757, 0.16317350775601458, 0.20099167892150904, 0.1634379704914376, 0.11953715641121326, 0.2105123373967384, 0.0235371834526504, 0.07034708762252816, 0.03543800654668712, 0.005553717443883802, 0.006876031120998993, 0.2596733660270835, 0.15330114379912158, 0.06570049019962354, 0.009385784314231933, 0.09072924837090869, 0.04067173202833838, 0.0844720588280874, 0.13140098039924708, 0.0062571895428212895, 0.15642973857053225, 0.11456361504018085, 0.038187871680060284, 0.019093935840030142, 0.11456361504018085, 0.057281807520090426, 0.019093935840030142, 0.07637574336012057, 0.5537241393608742, 0.16885584402661974, 0.36397815267960254, 0.052532929252726145, 0.015009408357921755, 0.07879939387908921, 0.08630409805805009, 0.02251411253688263, 0.0037523520894804387, 0.0037523520894804387, 0.19887466074246324, 0.9879077820742945, 0.2828130773168438, 0.048505731283993554, 0.4669704299882769, 0.021375407006505635, 0.03864015881945249, 0.05179425543884058, 0.013154096619388083, 0.04686146920657005, 0.004932786232270531, 0.02548606220006441, 0.04165677394797272, 0.025213310547457176, 0.059744583688539826, 0.023568964207405618, 0.001644346340051555, 0.8391647488729769, 0.0010962308933677033, 0.0010962308933677033, 0.0005481154466838516, 0.00657738536020622, 0.9656699142536972, 0.02096649023067872, 0.9644585506112212, 0.14725466253015518, 0.5305420693324724, 0.06751387054631663, 0.06272942302728632, 0.09781537150017527, 0.018606184796228994, 0.04890768575008764, 0.013821737277198681, 0.008505684478276111, 0.0042528422391380554, 0.02324661067665558, 0.9647343430812065, 0.917168023800641, 0.03821533432502671, 0.9486525917739033, 0.028747048235572826, 0.12418254322400307, 0.009552503324923313, 0.022289174424821066, 0.054130852174565446, 0.047762516624616565, 0.7355427560190951, 0.003184167774974438, 0.02418389560136021, 0.9673558240544083, 0.0775660588315315, 0.155132117663063, 0.620528470652252, 0.3683099472570897, 0.9871779397129595, 0.21862033410715223, 0.18085864003409866, 0.17489626728572177, 0.06558610023214567, 0.07552338814610714, 0.18880847036526782, 0.005962372748376879, 0.005962372748376879, 0.001987457582792293, 0.0834732184772763, 0.20069725656922766, 0.16055780525538213, 0.020069725656922766, 0.020069725656922766, 0.5820220440507602, 0.007800806000899895, 0.007800806000899895, 0.007800806000899895, 0.811283824093589, 0.148215314017098, 0.03109562852100452, 0.020730419014003014, 0.8292167605601205, 0.10365209507001506, 0.9740444233490549, 0.8684129156427611, 0.06373672775359715, 0.007967090969199644, 0.031868363876798575, 0.007967090969199644, 0.007967090969199644, 0.990176898969381, 0.16719846021230345, 0.03789831764812211, 0.6108317079756153, 0.02675175363396855, 0.022293128028307126, 0.0891725121132285, 0.006687938408492138, 0.03343969204246069, 0.0022293128028307127, 0.0022293128028307127, 0.9903723925043784, 0.14671157807955676, 0.1116088078642027, 0.14311129395490507, 0.07470589558652277, 0.0468036936204721, 0.35192777318470364, 0.002700213093488775, 0.018901491654421423, 0.0036002841246517, 0.09990788445908468, 0.9597824417406633, 0.01246470703559303, 0.01246470703559303, 0.01246470703559303, 0.975530251418931, 0.33837767062914126, 0.036487460688466034, 0.25541222481926223, 0.16419357309809715, 0.13682797758174764, 0.12770611240963112, 0.027365595516349525, 0.08209678654904858, 0.04560932586058254, 0.1094623820653981, 0.9245651510532001, 0.17570756101268853, 0.7028302440507541, 0.3809480015210812, 0.13408367158801213, 0.23934561937673193, 0.07268086871125891, 0.022556131669011388, 0.03884667120774184, 0.0037593552781685644, 0.022556131669011388, 0.0025062368521123765, 0.08145269769365224, 0.9587376141340254, 0.20590001774946848, 0.05719444937485235, 0.32934470431685814, 0.19732085034324062, 0.08674491488519273, 0.06815671883836572, 0.013821991932255985, 0.019064816458284117, 0.0014298612343713088, 0.020494677692655425, 0.035814144560293984, 0.08408538288069022, 0.07084972076058157, 0.06384260552052405, 0.004671410160038345, 0.7014900923657582, 0.0023357050800191727, 0.0023357050800191727, 0.0023357050800191727, 0.031921302760262026, 0.9932948212972906, 0.029459231148677646, 0.07070215475682634, 0.6834541626493214, 0.2062146180407435, 0.9820261356329945, 0.9355233165893485, 0.018343594442928404, 0.018343594442928404, 0.0049551786591923545, 0.024775893295961773, 0.07432767988788531, 0.8572459080402773, 0.014865535977577064, 0.019820714636769418, 0.0010294807987444698, 0.0020589615974889396, 0.0010294807987444698, 0.0010294807987444698, 0.013383250383678106, 0.008235846389955758, 0.970800393216035, 0.0010294807987444698, 0.0010294807987444698, 0.9949190517968295, 0.9935496776130659, 0.16526001765885906, 0.16098144114989185, 0.12996176145987948, 0.3524477399261752, 0.07647955509778916, 0.011231263336038966, 0.03315896794449599, 0.06150453731640386, 0.004278576508967225, 0.004278576508967225, 0.9456041936950643, 0.08466249242224537, 0.08466249242224537, 0.677299939377963, 0.9840739346105422, 0.7340498832890041, 0.016057167029179597, 0.016057167029179597, 0.26494325598146334, 0.04014291757294899, 0.008028583514589798, 0.016057167029179597, 0.07225725163130818, 0.5700294295358757, 0.1952907423661048, 0.08349386811304481, 0.39411936049971147, 0.016981803684009113, 0.04740753528452544, 0.008490901842004557, 0.23562252611562645, 0.014151503070007595, 0.002122725460501139, 0.002122725460501139, 0.017694995741421658, 0.017694995741421658, 0.017694995741421658, 0.9201397785539263, 0.017694995741421658, 0.01969091695052993, 0.9451640136254366, 0.10086648266760939, 0.646498558200268, 0.0667148389297574, 0.07862820302435693, 0.026209401008118974, 0.03971121364866511, 0.026209401008118974, 0.003176897091893209, 0.011119139821626232, 0.0015884485459466044, 0.9360414793107584, 0.02529841835975023, 0.02529841835975023, 0.4470362124604482, 0.11214442916033658, 0.15453579413503427, 0.11214442916033658, 0.04740125356261649, 0.026976323165716704, 0.0443182452008203, 0.04162061288424863, 0.0019268802261226217, 0.012332033447184778, 0.9650120509113823, 0.012866827345485098, 0.003855032554392392, 0.003855032554392392, 0.02313019532635435, 0.8481071619663262, 0.10408587896859457, 0.003855032554392392, 0.003855032554392392, 0.003855032554392392, 0.0053802809544317536, 0.0174859131019032, 0.014795772624687321, 0.9321336753553013, 0.009415491670255568, 0.006725351193039692, 0.006725351193039692, 0.0026901404772158768, 0.0026901404772158768, 0.0013450702386079384, 0.0330762111350764, 0.025725941993948315, 0.17273132481651013, 0.01470053828225618, 0.05145188398789663, 0.00735026914112809, 0.6725496264132202, 0.011025403711692135, 0.003675134570564045, 0.003675134570564045, 0.016043000952652122, 0.0053476669842173735, 0.973275391127562, 0.009606562271549341, 0.009606562271549341, 0.0048032811357746705, 0.009606562271549341, 0.009606562271549341, 0.0048032811357746705, 0.2785903058749309, 0.6628527967369046, 0.014409843407324012, 0.12247668602415916, 0.6830430566731953, 0.06123834301207958, 0.03768513416127974, 0.03061917150603979, 0.01884256708063987, 0.03768513416127974, 0.004710641770159968, 0.007065962655239952, 0.002355320885079984, 0.16466346795632547, 0.4664466965017365, 0.12035402566989607, 0.07185314965366929, 0.07125437340655538, 0.03053758860280945, 0.06227272969984672, 0.004191433729797376, 0.004191433729797376, 0.004191433729797376, 0.036320341291259314, 0.9080085322814828, 0.014510695746574652, 0.014510695746574652, 0.9649612671472143, 0.003627673936643663, 0.07666805699905316, 0.41357557507939946, 0.03779411260516705, 0.10204410403395105, 0.11284242192114162, 0.16845375904017315, 0.06532982321750305, 0.005939074837954823, 0.0037794112605167053, 0.012957981464628704, 0.007495626615104126, 0.059965012920833005, 0.06746063953593713, 0.014991253230208251, 0.8020320478161415, 0.007495626615104126, 0.007495626615104126, 0.007495626615104126, 0.014991253230208251, 0.007495626615104126, 0.39949339467442035, 0.9589158696787164, 0.9406319617758284, 0.4166330425581694, 0.0845511422966194, 0.21400185670937463, 0.12012093319381792, 0.06297602322782687, 0.01574400580695672, 0.0326542342662806, 0.04723201742087015, 0.0020408896416425374, 0.004081779283285075, 0.7919587902002181, 0.015630765596056938, 0.15109740076188372, 0.03647178639079952, 0.17266872814752748, 0.030241415664256227, 0.1560847260090644, 0.16681555092218758, 0.05658071317828584, 0.013657413525793135, 0.06243389040362576, 0.32094921785613867, 0.0009755295375566524, 0.018535061213576398, 0.09900223347196271, 0.09900223347196271, 0.5940134008317763, 0.04893884036020568, 0.013594122322279356, 0.006343923750397033, 0.01993804607267639, 0.013594122322279356, 0.8935869739844964, 0.001812549642970581, 0.07999972238545129, 0.02436773153120068, 0.14298800955100777, 0.660687362459158, 0.03724125007598595, 0.03816078711489918, 0.006436759272392633, 0.005976990752936016, 0.0013793055583698499, 0.0027586111167396997, 0.0070027467085373, 0.9243625655269235, 0.0023342489028457666, 0.0560219736682984, 0.0023342489028457666, 0.004668497805691533, 0.009023876212662381, 0.974578630967537, 0.009023876212662381, 0.9499427674193152, 0.02021154824296415, 0.004963609171429953, 0.009927218342859905, 0.029781655028579716, 0.948049351743121, 0.9517463318625995, 0.14607860368423622, 0.5161041576447188, 0.11529344340367403, 0.03199242146803521, 0.03561420503045428, 0.07122841006090856, 0.05975942877991482, 0.008450828312311186, 0.007243567124838159, 0.007847197718574672, 0.04335392649934319, 0.9393350741524359, 0.18366292470118037, 0.24874348280181602, 0.1145896943244321, 0.17887171796984525, 0.19643947598474074, 0.03273991266412346, 0.024754568111898224, 0.014373620194005421, 0.003992672276112617, 0.0015970689104450467, 0.09401250806282985, 0.42732958210377203, 0.11110569134698073, 0.02797066355588326, 0.19967945927394437, 0.010100517395180066, 0.07381147327246972, 0.03263244081519714, 0.02253192342001707, 0.0015539257531046256, 0.9313251954299018, 0.016630807061248244, 0.5250985634533651, 0.3938239225900238, 0.15763671625683756, 0.2246732734499931, 0.11945612071261552, 0.1178180093526324, 0.31640750960904807, 0.021043430547475518, 0.023059567605916285, 0.014238967975237927, 0.003906265550728988, 0.0016381113599831243, 0.9541161742260633, 0.956262215312664, 0.12466694803466682, 0.748001688208001, 0.03216795197524776, 0.6047574971346578, 0.021874207343168472, 0.04889528700237659, 0.11709134518990183, 0.015440616948118923, 0.10551088247881264, 0.016727335027128833, 0.03216795197524776, 0.005146872316039641, 0.37888895205521145, 0.23671254764942484, 0.11076360720199502, 0.07890418254980829, 0.04853351605893868, 0.06014582971721235, 0.051213280749309524, 0.018907228648727643, 0.001786509793580565, 0.01429207834864452, 0.3260608986876856, 0.02877007929597226, 0.02877007929597226, 0.019180052863981507, 0.038360105727963015, 0.04795013215995377, 0.009590026431990754, 0.038360105727963015, 0.4699112951675469, 0.005484953049290081, 0.016454859147870243, 0.9543818305764741, 0.010969906098580161, 0.004652337287176092, 0.027914023723056555, 0.004652337287176092, 0.9351197947223946, 0.004652337287176092, 0.013957011861528278, 0.004652337287176092, 0.3053546024840503, 0.17919012600860437, 0.10330859305598108, 0.08868082766752358, 0.29072683709559277, 0.015542000725236094, 0.009142353367785938, 0.004571176683892969, 0.0018284706735571875, 0.0018284706735571875, 0.9642225362723541, 0.9208657855674571, 0.9855300355481298, 0.9627130654329161, 0.04455688435646893, 0.02475382464248274, 0.07096096397511718, 0.4059627241367169, 0.003300509952331032, 0.361405839780248, 0.003300509952331032, 0.001650254976165516, 0.001650254976165516, 0.08086249383211029, 0.014163194129465127, 0.014163194129465127, 0.014163194129465127, 0.9347708125446983, 0.2168500443374181, 0.6679416152648794, 0.02663070719933205, 0.03315251304406643, 0.01684799843223048, 0.020652385174992204, 0.011413160228285164, 0.0021739352815781264, 0.002717419101972658, 0.001630451461183595, 0.967037516951768, 0.02818507099580179, 0.02818507099580179, 0.014092535497900896, 0.8878297363677564, 0.014092535497900896, 0.02818507099580179, 0.17411671742875792, 0.3068100408502765, 0.17584749990816903, 0.17146285096032754, 0.059308146294487454, 0.05653889432742967, 0.036231046569005956, 0.009461610887447415, 0.0049615764409785225, 0.00507696193960593, 0.23862109237624438, 0.30109214674697354, 0.24281202264849455, 0.11053578593059839, 0.03261067618094668, 0.024490748778461965, 0.03706353959521249, 0.0060244622663596275, 0.0031431977041876317, 0.0036670639882189038, 0.4239741883768321, 0.14539635270543777, 0.13751579158319183, 0.1725842885771863, 0.05023857715431793, 0.019307374749502577, 0.015367094188379603, 0.0315222444889838, 0.0019701402805614877, 0.0021671543086176363, 0.033535179728172264, 0.905449852660651, 0.9606014840578713, 0.05175189544991947, 0.1863068236197101, 0.27946023542956516, 0.09315341180985505, 0.041401516359935574, 0.031051137269951682, 0.31051137269951684, 0.4292505271505613, 0.09835005880117784, 0.10537506300126197, 0.09483755670113576, 0.5760503444068987, 0.05444378255065201, 0.036881272050441685, 0.02458751470029446, 0.005268753150063098, 0.0017562510500210328, 0.002634376575031549, 0.017801031540794373, 0.011867354360529584, 0.011867354360529584, 0.8129137736962764, 0.047469417442118335, 0.035602063081588746, 0.011867354360529584, 0.04153574026185354, 0.03203646900036142, 0.02402735175027106, 0.08810028975099389, 0.6006837937567765, 0.20022793125225885, 0.018687940250210824, 0.010678823000120472, 0.020022793125225882, 0.002669705750030118, 0.004004558625045177, 0.10234719978643278, 0.20469439957286556, 0.10234719978643278, 0.10234719978643278, 0.4093887991457311, 0.10744606884892982, 0.7420494129879216, 0.02014613790917434, 0.016788448257645285, 0.06379610337905209, 0.03357689651529057, 0.006715379303058114, 0.003357689651529057, 0.003357689651529057, 0.003357689651529057, 0.955333022042293, 0.07094553222621836, 0.2837821289048734, 0.21283659667865507, 0.07094553222621836, 0.21283659667865507, 0.136321253130457, 0.272642506260914, 0.136321253130457, 0.40896375939137103, 0.025455366402129694, 0.9545762400798635, 0.945994239157658, 0.11045368646924057, 0.01577909806703437, 0.8520712956198558, 0.026529985413758745, 0.06632496353439686, 0.14591491977567309, 0.05305997082751749, 0.05305997082751749, 0.6367196499302099, 0.005910877046368445, 0.5733550734977392, 0.005910877046368445, 0.053197893417316004, 0.2364350818547378, 0.01182175409273689, 0.03546526227821067, 0.08275227864915823, 0.9500117323766362, 0.03301157769037746, 0.705106667230406, 0.045390919324269, 0.02063223605648591, 0.0345589953946139, 0.025274489169195242, 0.11244568650784821, 0.008252894422594364, 0.012379341633891547, 0.003094835408472887, 0.010827317918021908, 0.882918561133241, 0.010827317918021908, 0.0059058097734664946, 0.018701730949310567, 0.014764524433666238, 0.03641916026971005, 0.001968603257822165, 0.014764524433666238, 0.001968603257822165, 0.590852345113381, 0.053899373656733314, 0.8893396653360996, 0.92334964133806, 0.3867905053348063, 0.09760798286175709, 0.23704795837855294, 0.08783830304847841, 0.06190424390777497, 0.015187411346096873, 0.07309496805753056, 0.034637955701624444, 0.0018651206916259317, 0.003907871925311476, 0.462663066108575, 0.27226295739192485, 0.09428024706983884, 0.059327570107362, 0.05058940086674279, 0.03863190611642177, 0.008048313774254535, 0.00735845830788986, 0.0013797109327293488, 0.005518843730917395, 0.04400253831403767, 0.08800507662807534, 0.8360482279667157, 0.07034870552958163, 0.05379606893438595, 0.0662105463807827, 0.01793202297812865, 0.008276318297597838, 0.773835760825398, 0.0027587727658659462, 0.0013793863829329731, 0.0013793863829329731, 0.0055175455317318925, 0.010464263400175646, 0.010464263400175646, 0.9522479694159837, 0.010464263400175646, 0.023359174446176495, 0.9577261522932362, 0.040909929491489, 0.5727390128808459, 0.36818936542340097, 0.12405784045435281, 0.7443470427261168, 0.18668048314265878, 0.09163798792565164, 0.16284893210317042, 0.21817217558769697, 0.21533508617823405, 0.024398968921380933, 0.05957887759872089, 0.03347765503166221, 0.0028370894094628995, 0.004823051996086929, 0.08652974884241543, 0.8652974884241543, 0.03599200137197244, 0.03599200137197244, 0.04319040164636693, 0.007198400274394488, 0.7774272296346048, 0.021595200823183464, 0.0647856024695504, 0.007198400274394488, 0.08706550223857676, 0.06345451858065763, 0.0723086374523773, 0.06050314562341774, 0.050173340273078126, 0.39843534922738516, 0.08116275632409697, 0.025086670136539063, 0.00295137295723989, 0.15789845321233412, 0.06586691127053972, 0.048004698044630645, 0.05247025135110791, 0.06363413461730108, 0.013396659919431807, 0.6899279858507381, 0.030142484818721567, 0.0033491649798579517, 0.0011163883266193172, 0.0323752614719602, 0.0034156516962830937, 0.0034156516962830937, 0.9905389919220972, 0.01530888257333083, 0.01530888257333083, 0.06888997157998873, 0.007654441286665415, 0.8190252176731994, 0.007654441286665415, 0.06123553029332332, 0.007654441286665415, 0.9606516717864299, 0.011849795693249792, 0.0047399182772999175, 0.007109877415949876, 0.011849795693249792, 0.01895967310919967, 0.007109877415949876, 0.31283460630179455, 0.6185593351876392, 0.007109877415949876, 0.9719167041462318, 0.1832055880240786, 0.11059876512052672, 0.04727886142556867, 0.43479667203871186, 0.018573838417187693, 0.06331990369495805, 0.016885307651988812, 0.11819715356392167, 0.0033770615303977624, 0.004221326912997203, 0.9808552787344916, 0.1752842468908975, 0.027454159151586353, 0.12459964538027654, 0.09292176943613843, 0.48150371435089917, 0.008447433585103494, 0.021118583962758734, 0.06546761028455207, 0.0021118583962758735, 0.0021118583962758735, 0.9438649153245856, 0.30742591518570106, 0.26778049173415136, 0.13562908022898576, 0.04312309217536983, 0.06468463826305475, 0.11824073660988502, 0.004173202468584177, 0.014606208640044619, 0.002782134979056118, 0.04103649094107774, 0.9743333877290504, 0.08955411944796682, 0.08679860808033707, 0.07164329555837345, 0.013777556838148741, 0.0013777556838148741, 0.7164329555837345, 0.0013777556838148741, 0.0013777556838148741, 0.0013777556838148741, 0.017910823889593364, 0.24544130142767306, 0.09894128411982146, 0.0846019675807169, 0.08818679671549305, 0.04230098379035845, 0.3477284260732856, 0.042778961008328606, 0.04588581292513459, 0.000955954435940304, 0.003345840525791064, 0.35786984798414334, 0.10828250765185454, 0.17739900189771915, 0.036094169217284845, 0.0879315399016833, 0.029182519792698387, 0.008447571518939007, 0.1666475472372513, 0.00230388314152882, 0.025726695080405156, 0.006057534171665269, 0.012115068343330537, 0.006057534171665269, 0.012115068343330537, 0.006057534171665269, 0.006057534171665269, 0.9449753307797819, 0.012115068343330537, 0.003938394230820891, 0.0059075913462313355, 0.015753576923283562, 0.05119912500067158, 0.0019691971154104453, 0.003938394230820891, 0.9077998702042153, 0.0059075913462313355, 0.9748467071153909, 0.008703988456387418, 0.34515384180800396, 0.9412282113452053, 0.9452866302854999, 0.010987335981652713, 0.021974671963305426, 0.010987335981652713, 0.9449108944221333, 0.15332600618507286, 0.15332600618507286, 0.6133040247402914, 0.33482714354333326, 0.1469972825312195, 0.21051462683483282, 0.12431251670850042, 0.10979426658196023, 0.02812910962017163, 0.02812910962017163, 0.01034425321515989, 0.002540693772144534, 0.004536953164543811, 0.4263872805453688, 0.19704591316912384, 0.13376427992544065, 0.13703746785183807, 0.04080574281575433, 0.02553086582589977, 0.004800675625382863, 0.029458691337576656, 0.0024003378126914313, 0.0028367628695444187, 0.23019251037664235, 0.06787727870080479, 0.23388149291472957, 0.1446081154930189, 0.2729847078184541, 0.016969319675201197, 0.025085081258993076, 0.00442677904570466, 0.00221338952285233, 0.0029511860304697736, 0.030518403668120826, 0.02288880275109062, 0.08011080962881717, 0.15640681879911922, 0.03814800458515103, 0.30899883713972337, 0.01144440137554531, 0.16403641971614943, 0.003814800458515103, 0.18311042200872496, 0.36742782708026334, 0.2592168461133469, 0.29340825271084414, 0.03604560435224222, 0.006007600725373704, 0.02707128721927657, 0.005191753713285918, 0.0017800298445551717, 0.002373373126073562, 0.0014833582037959763, 0.9606187529453409, 0.20085837460893657, 0.057388107031124735, 0.0860821605466871, 0.057388107031124735, 0.057388107031124735, 0.14347026757781184, 0.3443286421867484, 0.032662333685443426, 0.9145453431924159, 0.03761701718031324, 0.05310637719573634, 0.11506381725742873, 0.03761701718031324, 0.7036594978435065, 0.0066382971494670425, 0.008851062865956057, 0.033191485747335214, 0.004425531432978028, 0.002212765716489014, 0.13590069651202752, 0.6027617145836692, 0.09505722572741547, 0.032052051064157434, 0.036630915501894214, 0.05329798205525608, 0.029121577824005897, 0.006227255635322016, 0.003113627817661008, 0.006044101057812544, 0.017872509289806392, 0.0287236756443317, 0.059362262998285516, 0.014680989773769536, 0.013404381967354793, 0.8310716819759972, 0.017872509289806392, 0.0038298234192442266, 0.0006383039032073711, 0.012766078064147422, 0.9798448618971206, 0.0998420048721847, 0.07471620232156867, 0.10248682619330217, 0.03768870382592402, 0.6063252878661812, 0.02049736523866043, 0.030415445192850967, 0.017852543917542957, 0.007934463963352427, 0.003306026651396844, 0.05706953573558833, 0.028534767867794165, 0.9131125717694133, 0.5562414817798353, 0.07956365498876126, 0.1725052696658983, 0.13377959688375787, 0.00844923769792155, 0.013377959688375787, 0.0021123094244803876, 0.03098053822571235, 0.0021123094244803876, 0.0007041031414934625, 0.5086937063669579, 0.10846212442487504, 0.2632267931948722, 0.0761137715262281, 0.006977095723237576, 0.023468412887253664, 0.0025371257175409367, 0.00761137715262281, 0.0019028442881557025, 0.0006342814293852342, 0.0121788080675576, 0.9255894131343776, 0.0487152322702304, 0.20742471564939652, 0.05487107303516013, 0.21948429214064052, 0.18873237208796836, 0.2327498262810089, 0.016280428263179377, 0.03678170829829415, 0.03738468712285635, 0.0036178729473731954, 0.0036178729473731954, 0.342199506986173, 0.13854377502717152, 0.15554523044826046, 0.11466939081883387, 0.06945275406061863, 0.037258508688769364, 0.01989532017361471, 0.10815819512565088, 0.00180866547032861, 0.01266065829230027, 0.9634238525356179, 0.003917812815042038, 0.003917812815042038, 0.01958906407521019, 0.0313425025203363, 0.9285216371649629, 0.01567125126016815, 0.048359638313664716, 0.004396330755787701, 0.021981653778938508, 0.7884086488712612, 0.13188992267363103, 0.0029308871705251345, 0.0039928205439750675, 0.0059892308159626, 0.0019964102719875337, 0.007985641087950135, 0.0019964102719875337, 0.0019964102719875337, 0.9363164175621532, 0.0019964102719875337, 0.0359353848957756, 0.021528877777054808, 0.0043057755554109615, 0.008611551110821923, 0.017223102221643846, 0.043057755554109615, 0.008611551110821923, 0.8396262333051375, 0.05166930666493154, 0.9612357431114866, 0.02481652712926532, 0.06204131782316329, 0.0263675600748444, 0.0015510329455790824, 0.004653098836737247, 0.004653098836737247, 0.8220474611569136, 0.05118408720410972, 0.003102065891158165, 0.9795517751019847, 0.9530799595834759, 0.037205905894321004, 0.03382355081301909, 0.05750003638213246, 0.04058826097562291, 0.6595592408538723, 0.0033823550813019093, 0.023676485569113365, 0.13529420325207636, 0.006764710162603819, 0.050642903410952594, 0.17218587159723883, 0.661733937903114, 0.04051432272876208, 0.0033761935607301732, 0.0033761935607301732, 0.02025716136438104, 0.050642903410952594, 0.0033761935607301732, 0.7535686043484874, 0.02765389373755917, 0.15209641555657544, 0.041480840606338755, 0.003456736717194896, 0.017283683585974482, 0.003456736717194896, 0.003456736717194896, 0.15340600424892373, 0.3028600973813646, 0.14675960828029352, 0.1323890224021742, 0.08173270718180362, 0.07652336980098537, 0.051554476837753056, 0.04652477178041129, 0.0037722787930063208, 0.004670440410388778, 0.9933566407274197, 0.9732543521833058, 0.17305733880422847, 0.3264852431027658, 0.11830713229105747, 0.2819211215222778, 0.03586350736715464, 0.03172541036325218, 0.019098909248780577, 0.003395361644227658, 0.007109038442601659, 0.0028648363873170868, 0.03629498123965068, 0.01954345143673498, 0.047462667774927816, 0.05304651104256638, 0.0027919216338192832, 0.8347845685119657, 0.0027919216338192832, 0.32263342658508737, 0.15972999152245307, 0.1787706527635402, 0.22319886232607683, 0.024682338645853678, 0.05641677404766555, 0.005289072566968645, 0.004231258053574916, 0.0017630241889895484, 0.02291931445686413, 0.008744354401378192, 0.05246612640826915, 0.008744354401378192, 0.9181572121447101, 0.006307160465956228, 0.037842962795737366, 0.9334597489615216, 0.012614320931912455, 0.9679399052771468, 0.03170410547608372, 0.9194190588064277, 0.988781128830931, 0.002504500996955827, 0.007513502990867482, 0.005009001993911654, 0.010018003987823309, 0.002504500996955827, 0.9492058778462585, 0.007513502990867482, 0.007513502990867482, 0.15078652469425802, 0.09790404683939975, 0.17937164785904625, 0.14578412814042005, 0.35588478340161367, 0.059314130566935616, 0.0035731403955985308, 0.0050023965538379435, 0.0014292561582394123, 0.0014292561582394123, 0.07879912867559524, 0.20774315741747837, 0.05372667864245131, 0.10028980013257577, 0.03223600718547078, 0.0071635571523268405, 0.35101430046401516, 0.10745335728490261, 0.06089023579477815, 0.9201537386820534, 0.32197917465871145, 0.18093445517935955, 0.1420545862059344, 0.11293676225613977, 0.07035404861857887, 0.035177024309289436, 0.08011609364220944, 0.04931515848144404, 0.0030296001797474157, 0.003871155785232809, 0.9299293378093496, 0.9688603895594443, 0.011815370604383467, 0.9487441144993951, 0.10216243800559899, 0.15722871664691476, 0.13404291511372918, 0.06593462310999651, 0.16592339222185934, 0.02898225191648198, 0.32532577776251026, 0.015215682256153041, 0.0036227814895602476, 0.0021736688937361486, 0.9266248016801607, 0.4206815150839019, 0.009727172522026683, 0.8851726995044282, 0.004863586261013342, 0.004863586261013342, 0.0583630351321601, 0.009727172522026683, 0.019454345044053366, 0.004863586261013342, 0.004863586261013342, 0.004863586261013342, 0.2594405645638867, 0.18559377736121416, 0.16332252407786846, 0.1199521887366163, 0.175434960074074, 0.04727757275938297, 0.03282079431229892, 0.007033027352635483, 0.005470132385383154, 0.0035165136763177416, 0.1908472857634413, 0.1867240419352188, 0.10838240919899135, 0.4252831491395204, 0.014136835982477133, 0.023561393304128556, 0.04005436861701854, 0.0029451741630160694, 0.0035342089956192833, 0.004712278660825711, 0.17086728668038162, 0.062018496646953324, 0.09956711026313594, 0.5455096337721813, 0.07383154362732539, 0.035439140941116186, 0.0021094726750664396, 0.008859785235279046, 0.0008437890700265759, 0.0012656836050398638, 0.018990768488504232, 0.8640799662269425, 0.009495384244252116, 0.028486152732756346, 0.037981536977008463, 0.028486152732756346, 0.21458443033329516, 0.07963094094399625, 0.10603488452016344, 0.02766127422265133, 0.11567441947654192, 0.05406521779881851, 0.05490343822980794, 0.3109797798970801, 0.005029322585936606, 0.03143326616210378, 0.04793407046167242, 0.9381382361784459, 0.9619097604275818, 0.053791702596594576, 0.21027665560486972, 0.09535801823941766, 0.07824247650413757, 0.04890154781508598, 0.012225386953771495, 0.48901547815085983, 0.004890154781508598, 0.004890154781508598, 0.9337055448580998, 0.02457119854889736, 0.5690781756611771, 0.012180020135525896, 0.9744016108420717, 0.026381328165548237, 0.9365371498769623, 0.013190664082774119, 0.013190664082774119, 0.5885588723535504, 0.22156614728962895, 0.10050423176024406, 0.058627468526809036, 0.003806978475766821, 0.019034892378834104, 0.0030455827806134565, 0.0022841870854600926, 0.0015227913903067282, 0.0007613956951533641, 0.9557413164473834, 0.08133729341783304, 0.004469082055924892, 0.03128357439147424, 0.496068108207663, 0.34233168548384674, 0.007150531289479827, 0.03128357439147424, 0.00536289846710987, 0.0008938164111849784, 0.0008938164111849784, 0.028106627454022932, 0.9556253334367797, 0.9588324276972343, 0.40117819860766174, 0.05541658705678444, 0.18424831081272774, 0.1788013813156934, 0.07886206619619324, 0.020366779858476333, 0.03623392230635906, 0.0400230906521221, 0.0014209381296611395, 0.003315522302542659, 0.06208235970306194, 0.05498723287985486, 0.053213451174053086, 0.7441014255838423, 0.006208235970306193, 0.0700643773791699, 0.0008868908529008848, 0.003547563411603539, 0.0008868908529008848, 0.003547563411603539, 0.9832400962442588, 0.012064295659438758, 0.9668439217044658, 0.07525645864559596, 0.7901928157787577, 0.06689462990719641, 0.06271371553799664, 0.9008475373073859, 0.04619730960550697, 0.011549327401376742, 0.023098654802753485, 0.011549327401376742, 0.009718109198924102, 0.9766699744918722, 0.004859054599462051, 0.004859054599462051, 0.06211615198037359, 0.018634845594112076, 0.11180907356467247, 0.8012983605468194, 0.24250188478138918, 0.6790052773878897, 0.024583343565258205, 0.008194447855086068, 0.008194447855086068, 0.9505559511899839, 0.9079047245347796, 0.08253679313952542, 0.9532727684878287, 0.014443526795270133, 0.014443526795270133, 0.892101196955789, 0.053795047052610394, 0.011954454900580088, 0.03138044411402273, 0.001494306862572511, 0.001494306862572511, 0.002988613725145022, 0.001494306862572511, 0.001494306862572511, 0.9625383188221962, 0.9479166658008115, 0.042108935359126985, 0.03158170151934524, 0.8211242395029762, 0.052636169198908726, 0.042108935359126985, 0.02556270101057705, 0.0511254020211541, 0.05964630235801312, 0.017041800673718032, 0.017041800673718032, 0.8094855320016066, 0.008520900336859016, 0.9021724878780951, 0.04100784035809523, 0.027338560238730155, 0.16037531346844983, 0.06242797437026906, 0.12126813412155714, 0.27195634811875835, 0.27446781835204503, 0.0186566360187011, 0.016862728709210607, 0.06780969629874053, 0.0035878146189809806, 0.0025114702332866864, 0.0930531147298963, 0.01861062294597926, 0.022332747535175113, 0.8374780325690667, 0.007444249178391704, 0.007444249178391704, 0.003722124589195852, 0.003722124589195852, 0.40578298348017355, 0.10144574587004339, 0.17444374289822276, 0.12130549506153336, 0.07702362186429221, 0.022811874071306054, 0.05233312286946683, 0.03891437341575738, 0.001878624923519322, 0.004025624836112833, 0.33922880875060435, 0.16176558095715093, 0.1370218325541657, 0.13622364712181131, 0.059331783805007664, 0.016229770457872054, 0.056937227507944575, 0.0870022121266256, 0.0026606181078478773, 0.0037248653509870285, 0.21611868335898046, 0.586457980571214, 0.06766822852744776, 0.009966638310244245, 0.0031473594663929193, 0.08969974479219821, 0.006819278843851325, 0.0047210391995893795, 0.013113997776637165, 0.002622799555327433, 0.004684850256844102, 0.014054550770532307, 0.01873940102737641, 0.866697297516159, 0.06558790359581743, 0.014054550770532307, 0.004684850256844102, 0.004684850256844102, 0.004684850256844102, 0.2015574627668914, 0.22612748405459096, 0.0872443976232722, 0.1263898552680817, 0.06954565347535302, 0.08245532567736466, 0.053929114521306686, 0.14013240954764247, 0.004997292465294828, 0.007912379736716811, 0.3900771298067343, 0.15093931885995318, 0.10544400729933617, 0.08803424908480403, 0.058306265718480285, 0.09985974523052397, 0.09279729614349679, 0.01051155212952884, 0.0021351590263105455, 0.0018066730222627695, 0.010914307378958496, 0.03274292213687549, 0.8949732050745968, 0.03274292213687549, 0.021828614757916993, 0.361970773570812, 0.1033416938972098, 0.12120661438475937, 0.2971073699544782, 0.01511647118177271, 0.07503266604770818, 0.0043975188892429705, 0.015941005973505767, 0.0019239145140437996, 0.004122673958665285, 0.9822146092632035, 0.9250497584819776, 0.01649684573462202, 0.01649684573462202, 0.00824842286731101, 0.9403202068734551, 0.00824842286731101, 0.964538570520397, 0.02333561057710638, 0.03732637100444173, 0.018663185502220864, 0.026661693574601235, 0.7198657265142334, 0.09598209686856445, 0.08798358879618408, 0.0026661693574601235, 0.005332338714920247, 0.0026661693574601235, 0.16329087610316348, 0.04698308910010539, 0.24575769683132048, 0.13700663045275488, 0.33151004826577857, 0.04632598295884517, 0.004928296059451614, 0.016756206602135486, 0.003285530706301076, 0.004271189918191399, 0.023764906185221712, 0.022731649394559898, 0.11882453092610855, 0.12089104450743218, 0.053729353114414305, 0.6199540743970882, 0.010332567906618136, 0.011365824697279949, 0.0030997703719854407, 0.016532108650589017, 0.04331714627222317, 0.01299514388166695, 0.14294658269833646, 0.03898543164500085, 0.7537183451366831, 0.004331714627222317, 0.004331714627222317, 0.004331714627222317, 0.3956472402373589, 0.08372178208594112, 0.1398895599410662, 0.08230875622795056, 0.14695468923101904, 0.03002679948229956, 0.028967030088806633, 0.08407503855043877, 0.002472795251483493, 0.004945590502966986, 0.9260940578499021, 0.022049858520235763, 0.022049858520235763, 0.8836714085280245, 0.0188015193303835, 0.037603038660767, 0.037603038660767, 0.006267173110127834, 0.006267173110127834, 0.006267173110127834, 0.006267173110127834, 0.005225349168306076, 0.010450698336612153, 0.20378861756393699, 0.04180279334644861, 0.015676047504918227, 0.7158728360579325, 0.005225349168306076, 0.005225349168306076, 0.20793442573192464, 0.7485639326349286, 0.040915413637209914, 0.9274160424434248, 0.013638471212403306, 0.016786034199710902, 0.004196508549927726, 0.9756882378581963, 0.02047592458592655, 0.0409518491718531, 0.14333147210148584, 0.3276147933748248, 0.02047592458592655, 0.4299944163044575, 0.9700173767546397, 0.1481911949271649, 0.2692328579592767, 0.09728582262394032, 0.11425428005834852, 0.05712714002917426, 0.061652062011683106, 0.2075807959475936, 0.028280762390680326, 0.006787382973763278, 0.00961545921283131, 0.013351431975764133, 0.045394868717598055, 0.04272458232244523, 0.20561205242676764, 0.01602171837091696, 0.43792696880506354, 0.0400542959272924, 0.0026702863951528267, 0.0026702863951528267, 0.1922606204510035, 0.007545777004937967, 0.0679119930444417, 0.052820439034565764, 0.052820439034565764, 0.030183108019751867, 0.007545777004937967, 0.7772150315086105, 0.007545777004937967, 0.21437156586614248, 0.15494668735571124, 0.15273667121276133, 0.12867205098952883, 0.08005169584463052, 0.05868820646278128, 0.16354119457829427, 0.039780290573098606, 0.0024555734921665805, 0.004665589635116503, 0.9822570078815994, 0.21551723349264199, 0.10262725404411523, 0.1334154302573498, 0.046182264319851854, 0.041050901617646095, 0.04361658296874897, 0.07697044053308642, 0.20525450808823045, 0.002565681351102881, 0.1334154302573498, 0.06804414534427436, 0.023463498394577367, 0.5654703113093146, 0.00703904951837321, 0.011731749197288683, 0.3191035781662522, 0.0023463498394577366, 0.0023463498394577366, 0.17295818456327972, 0.8215513766755786, 0.11665512644685144, 0.026773307709113448, 0.04828757283250818, 0.040159961563670174, 0.018167601659755554, 0.7429592889278982, 0.001434284341559649, 0.002390473902599415, 0.0009561895610397659, 0.002390473902599415, 0.9595709864097292, 0.011702085200118648, 0.011702085200118648, 0.011702085200118648, 0.9373405152575717, 0.20059527437167862, 0.26148518744336546, 0.2074240496694379, 0.13600644134703882, 0.11808090619042075, 0.021055390501424423, 0.024185245846230753, 0.014795679811811756, 0.013088485987371938, 0.003129855344806333, 0.005610630815604734, 0.0252478386702213, 0.0252478386702213, 0.757435160106639, 0.0084159462234071, 0.1599029782447349, 0.002805315407802367, 0.002805315407802367, 0.002805315407802367, 0.011221261631209468, 0.10934143513191757, 0.7653900459234231, 0.9468224071166, 0.04219027340775876, 0.7473705575088694, 0.08136695585782046, 0.015067954788485272, 0.02109513670387938, 0.02109513670387938, 0.060271819153941086, 0.003013590957697054, 0.003013590957697054, 0.006027181915394108, 0.22127038830566362, 0.30428579491963614, 0.2562242437220731, 0.08395167059834063, 0.03027253549456893, 0.027151655546675226, 0.054927487082929195, 0.012483519791574816, 0.004369231927051186, 0.005617583906208668, 0.22237298230372604, 0.1059373435009167, 0.2476643300764674, 0.03722122879761938, 0.08947410768658505, 0.1992290131154627, 0.0706248956672778, 0.02123518822428285, 0.001908780963980481, 0.004294757168956082, 0.2752098031048259, 0.2905067572370666, 0.2218735205552433, 0.11696078203766333, 0.030864650815494492, 0.03668561566227635, 0.008393019081406397, 0.006903935050834294, 0.003248910612157315, 0.00934061800995228, 0.2225589876499517, 0.5333606616312877, 0.08980450378857699, 0.07652905540243952, 0.00937090474315586, 0.03670271024402712, 0.017179992029119077, 0.003123634914385287, 0.00468545237157793, 0.007028178557366895, 0.24677815467437195, 0.2980624248287263, 0.21061616930912205, 0.026518789267849913, 0.01928639219479994, 0.0626807746330998, 0.11988246057449507, 0.008328214811390882, 0.003725780310359079, 0.004164107405695441, 0.18424458452404563, 0.07902233327063425, 0.08367070581596568, 0.13142216923618852, 0.028735393916594274, 0.4213115843359484, 0.009296745090662854, 0.03465150442883427, 0.002112896611514285, 0.02535475933817142, 0.9782323932694431, 0.05095079675613115, 0.4585571708051804, 0.17832778864645904, 0.025475398378065575, 0.025475398378065575, 0.2292785854025902, 0.05442264476970959, 0.5688820105209422, 0.02585827320549737, 0.1274873004550103, 0.14823405453849076, 0.029165726755037733, 0.026459628396322894, 0.005712874312842443, 0.009922360648621084, 0.003908808740365882, 0.007217122961210298, 0.021651368883630895, 0.021651368883630895, 0.021651368883630895, 0.021651368883630895, 0.007217122961210298, 0.8516205094228152, 0.04330273776726179, 0.9695456619690812, 0.9751904969000413, 0.9632714548251177, 0.012674624405593653, 0.012674624405593653, 0.9379539765918627, 0.9402021814419194, 0.015540531924659824, 0.03108106384931965, 0.8806206113165025, 0.02121977376666271, 0.06365932129998814, 0.010609886883331355, 0.20475199377390882, 0.2388773260695603, 0.0648381313617378, 0.020475199377390882, 0.15015146210086647, 0.02388773260695603, 0.10578853011651956, 0.13308879595304074, 0.05460053167304235, 0.9654045885035376, 0.9535992012049329, 0.8064446223029774, 0.028633653762457568, 0.930593747279871, 0.014316826881228784, 0.3911189825041403, 0.0662028562373287, 0.8606371310852732, 0.2604379221884689, 0.23811467171517156, 0.05952866792879289, 0.22323250473297332, 0.07441083491099111, 0.007441083491099111, 0.007441083491099111, 0.007441083491099111, 0.11161625236648666, 0.007441083491099111, 0.035112826305045634, 0.03635210252757666, 0.05824598245895806, 0.8360983581342631, 0.014458222596195263, 0.01156657807695621, 0.00495710489012409, 0.0020654603708850374, 0.0012392762225310226, 0.0004130920741770075, 0.1533006868325064, 0.054418425628855085, 0.1300733100397024, 0.6337755667750805, 0.011613688396402, 0.008295491711715714, 0.005640934363966686, 0.0013272786738745142, 0.0009954590054058858, 0.0006636393369372571, 0.3556302643818358, 0.05927171073030597, 0.5334453965727537, 0.02547013155265096, 0.9678649990007364, 0.13263941260363013, 0.06484593505066362, 0.7192003705619057, 0.008842627506908677, 0.005895085004605784, 0.03537051002763471, 0.029475425023028922, 0.002947542502302892, 0.002947542502302892, 0.4013978625036051, 0.14486418241298313, 0.19594532348630422, 0.1258497513509898, 0.039640254586867464, 0.020948102017450287, 0.023204051465483395, 0.04254076102005289, 0.002739367186897345, 0.0029005064331854243, 0.007784613161586157, 0.02335383948475847, 0.038923065807930785, 0.9185843530671665, 0.007784613161586157, 0.22848768772356098, 0.14372204499112143, 0.08856111927269807, 0.0837535156550373, 0.03997901955738941, 0.30465025029808135, 0.03770173363323432, 0.06224581526023921, 0.0032894130015573564, 0.007843984849867543, 0.8710758670002956, 0.20304684787990807, 0.1659307574072367, 0.11353157085758302, 0.12881466693456534, 0.10043177422016959, 0.015283096076982328, 0.1484643618906855, 0.0523991865496537, 0.06549898318706712, 0.002183299439568904, 0.004133696244354473, 0.016534784977417893, 0.004133696244354473, 0.9672849211789467, 0.004133696244354473, 0.9914062978942758, 0.0020661316625423206, 0.004132263325084641, 0.006198394987626961, 0.006198394987626961, 0.008264526650169282, 0.9400899064567558, 0.028925843275592486, 0.007121018491687416, 0.9898215703445509, 0.023817977775797656, 0.9527191110319063, 0.013453532010551323, 0.7903950056198902, 0.060540894047480955, 0.0033633830026378307, 0.006726766005275661, 0.026907064021102645, 0.08072119206330794, 0.010090149007913492, 0.006726766005275661, 0.0033633830026378307, 0.9297509751249976, 0.009786852369736816, 0.019573704739473632, 0.019573704739473632, 0.17534199267725045, 0.33381663482850144, 0.09492787970446222, 0.06472355434395151, 0.05923185882385865, 0.05727053899525406, 0.1376846519680423, 0.04550262002362652, 0.01137565500590663, 0.02000546225176683, 0.972182038481581, 0.013858400022963232, 0.04850440008037131, 0.9215836015270549, 0.006929200011481616, 0.020127686236770147, 0.966128939364967, 0.9742635586465829, 0.011071176802802077, 0.9279295759530716, 0.08750405827369913, 0.3064932721733231, 0.21211716743833872, 0.022906821537617573, 0.143396702825486, 0.02840445870664579, 0.1727174343936365, 0.017409184368589355, 0.004123227876771163, 0.0045813643075235146, 0.008585305130208686, 0.9787247848437902, 0.9545184277136183, 0.9424578382157408, 0.01884915676431482, 0.01884915676431482, 0.9812726374836978, 0.9884147185800599, 0.005552891677416067, 0.017334097024010814, 0.005778032341336938, 0.9187071422725731, 0.0462242587306955, 0.9574340974109569, 0.011961177862030188, 0.956894228962415, 0.005980588931015094, 0.011961177862030188, 0.005980588931015094, 0.005980588931015094, 0.9482416980849999, 0.9644236789901164, 0.019288473579802328, 0.9853674328587918, 0.9676283944738189, 0.01280152759498287, 0.01280152759498287, 0.03840458278494861, 0.8833054040538181, 0.03840458278494861, 0.9341005977964602, 0.01852380281396116, 0.007409521125584464, 0.6335140562374717, 0.04816188731629902, 0.007409521125584464, 0.25933323939545627, 0.003704760562792232, 0.003704760562792232, 0.01852380281396116, 0.7596837884411489, 0.9214811390616467, 0.013913011196404416, 0.0510143743868162, 0.0510143743868162, 0.1159417599700368, 0.004637670398801472, 0.667824537427412, 0.08811573757722797, 0.09256581678039118, 0.15102843790484877, 0.0048718850937047985, 0.02923131056222879, 0.0048718850937047985, 0.701551453493491, 0.0048718850937047985, 0.009743770187409597, 0.8708805313726286, 0.07986123675161244, 0.020653768125417013, 0.026161439625528214, 0.8371660680169029, 0.028915275375583818, 0.004130753625083403, 0.0013769178750278007, 0.0013769178750278007, 0.0013769178750278007, 0.004030373239884333, 0.008060746479768666, 0.6851634507803366, 0.2579438873525973, 0.032242985919074665, 0.008060746479768666, 0.011079842011012777, 0.06093913106057028, 0.016619763016519167, 0.0055399210055063885, 0.0055399210055063885, 0.8919272818865286, 0.0055399210055063885, 0.0055399210055063885, 0.9764226718657547, 0.022531832417999664, 0.9463369615559859, 0.022531832417999664, 0.039344130122705726, 0.024420494558920796, 0.04612760083351706, 0.043414212549192525, 0.06105123639730199, 0.004070082426486799, 0.013566941421622665, 0.7624621078951938, 0.0013566941421622664, 0.005426776568649066, 0.061983891647788544, 0.716077064036294, 0.06307132834336378, 0.007883916042920472, 0.007340197695132854, 0.025554762346018084, 0.11037482460088661, 0.002718591738938094, 0.003806028434513332, 0.001359295869469047, 0.012548756278847854, 0.023842636929810923, 0.011293880650963069, 0.06650840827789363, 0.002509751255769571, 0.872138561379926, 0.0012548756278847855, 0.0012548756278847855, 0.0012548756278847855, 0.006274378139423927, 0.14949321350341563, 0.049831071167805205, 0.049831071167805205, 0.05276231064826434, 0.07328098701147824, 0.017587436882754777, 0.02638115532413217, 0.5686604592090712, 0.008793718441377388, 0.00293123948045913, 0.02150590705493497, 0.1224182401588606, 0.08767792876242719, 0.024814508140309582, 0.07113492333555413, 0.016543005426873054, 0.5227589714891885, 0.12572684124423522, 0.008271502713436527, 0.0016543005426873055, 0.012411787776808214, 0.09929430221446571, 0.8564133565997667, 0.024823575553616428, 0.013153192018267054, 0.013153192018267054, 0.6445064088950856, 0.30252341642014224, 0.986459612849186, 0.9811783471160369, 0.011519941312896251, 0.011519941312896251, 0.8294357745285301, 0.011519941312896251, 0.06911964787737751, 0.011519941312896251, 0.011519941312896251, 0.034559823938688755, 0.011519941312896251, 0.08694219646993856, 0.8694219646993856, 0.9647694124820445, 0.9533102432594281, 0.03213405314357623, 0.25094327820899603, 0.10649132421988185, 0.2774821255697868, 0.1793891707678767, 0.06819475967393065, 0.013101456292035938, 0.08465556373315529, 0.014781130175630288, 0.0023515434370320913, 0.0023515434370320913, 0.9278338000168419, 0.23683740020666166, 0.06947230406062076, 0.4597803396011992, 0.1989434161735958, 0.012631328011021955, 0.01389446081212415, 0.0012631328011021956, 0.0031578320027554887, 0.0018946992016532934, 0.002526265602204391, 0.005462419867393886, 0.02731209933696943, 0.005462419867393886, 0.016387259602181656, 0.9395362171917484, 0.16099881055262077, 0.19445310884926925, 0.0919993203157833, 0.044605731062197965, 0.034151262844495316, 0.43072409056934907, 0.026484652818180042, 0.013939290956936863, 0.0013939290956936864, 0.0020908936435405294, 0.9824688309424054, 0.9499096491624616, 0.11365959783528166, 0.11365959783528166, 0.5682979891764083, 0.11048679575051613, 0.217454903738277, 0.10063447001480133, 0.05489152909898254, 0.3251267492785889, 0.030260714759695502, 0.1294877096693947, 0.02744576454949127, 0.002814950210204233, 0.0021112126576531744, 0.059312473584017374, 0.14312357756143324, 0.1173355455683822, 0.01676222079548317, 0.5299440574571987, 0.02320922879374593, 0.09283691517498371, 0.014183417596178069, 0.003868204798957655, 0.0012894015996525517, 0.38553528169313717, 0.11198047500087029, 0.22150754366369335, 0.08429203204290862, 0.05677883239480747, 0.01971487235930815, 0.07342694683155658, 0.042934610915826635, 0.002190541373256461, 0.001577189788744652, 0.12653635727664778, 0.0903831123404627, 0.10845973480855524, 0.06828946265723848, 0.050212840189145944, 0.020085136075658375, 0.34948136771645577, 0.17775345426957664, 0.007029797626480432, 0.0030127704113487564, 0.25144434650008207, 0.1480868211548222, 0.3196754757011094, 0.16299658642467632, 0.0649459266839408, 0.02097475453216765, 0.007581236577891922, 0.014657057383924381, 0.004043326174875692, 0.005559573490454076, 0.019511298286382872, 0.014633473714787152, 0.05853389485914861, 0.8780084228872291, 0.004877824571595718, 0.009755649143191436, 0.004877824571595718, 0.004877824571595718, 0.9421831073535214, 0.2827914654892276, 0.12472063017537827, 0.08862931228579994, 0.07697958309359428, 0.10005061541541334, 0.140710454556837, 0.16880686025568598, 0.011192877067021127, 0.003883243064068554, 0.0018274085007381432, 0.04094722988027992, 0.09554353638731983, 0.04094722988027992, 0.3139287624154794, 0.013649076626759975, 0.4913667585633591, 0.10752862737082532, 0.13596595031187003, 0.05509731319827413, 0.08086863711359589, 0.008886663419076473, 0.518981143674066, 0.003554665367630589, 0.0026659990257229416, 0.003554665367630589, 0.08175730345550354, 0.986122439949236, 0.9838755468068643, 0.023187859062586292, 0.05449146879707779, 0.07651993490653476, 0.07651993490653476, 0.002318785906258629, 0.7536054195340545, 0.003478178859387944, 0.0011593929531293146, 0.0011593929531293146, 0.008115750671905201, 0.013615285096641788, 0.9803005269582087, 0.19815346276136064, 0.17589990004890316, 0.17222322447032323, 0.04237852377415818, 0.01238459142258504, 0.36205578986963455, 0.0046442217834693905, 0.005998786470314629, 0.0019350924097789126, 0.0243821643632143, 0.26417820449286405, 0.18625205665218128, 0.28772731510405936, 0.16698460251574873, 0.010704141186906971, 0.012416803776812086, 0.006850650359620461, 0.002568993884857673, 0.060799521941631594, 0.0017126625899051152, 0.9356934757983101, 0.9558151187450751, 0.08589002479840108, 0.008258656230615488, 0.2064664057653872, 0.01321384996898478, 0.6524338422186235, 0.004955193738369293, 0.004955193738369293, 0.01982077495347717, 0.0016517312461230974, 0.0016517312461230974, 0.9918552891292004, 0.9738947346110569, 0.20246608780983158, 0.11443735397947002, 0.10770574492185414, 0.10149195194559332, 0.14757758318619438, 0.04401436691518078, 0.09734942329475278, 0.16518332995226667, 0.006213792976260815, 0.013981034196586835, 0.9641410878674385, 0.18951528232438478, 0.43549470581673205, 0.1684913999746115, 0.13365182350927293, 0.014116035291990625, 0.016518764703393283, 0.0222252470554746, 0.003303752940678657, 0.01471671764484129, 0.0021023882349773273, 0.507151568425174, 0.03363163632393818, 0.05978957568700122, 0.09715806049137697, 0.10089490897181455, 0.6576853325570133, 0.022421090882625457, 0.007473696960875152, 0.007473696960875152, 0.007473696960875152, 0.003736848480437576, 0.255078577977713, 0.02393498720970497, 0.40552706901014424, 0.09573994883881988, 0.13950678259370897, 0.006154710996781278, 0.006154710996781278, 0.06359868030007321, 0.001367713554840284, 0.00341928388710071, 0.15733894768888443, 0.13689056459574422, 0.0732733727504191, 0.1192822347099846, 0.14711475614231434, 0.014200266036902928, 0.08747363878732203, 0.2527647354568721, 0.010224191546570107, 0.0017040319244283513, 0.43485155996189423, 0.12975182468765906, 0.1365068003763875, 0.11089418422329211, 0.0585431226356466, 0.08500011074983305, 0.008443719610910567, 0.028990103997459615, 0.0016887439221821134, 0.005347689086910026, 0.9363158455974359, 0.021279905581759906, 0.9883130966340838, 0.02842518430968579, 0.04263777646452868, 0.031267702740654366, 0.011370073723874316, 0.014212592154842895, 0.8555980477215422, 0.002842518430968579, 0.002842518430968579, 0.002842518430968579, 0.008527555292905737, 0.27374438392653067, 0.15209778974016713, 0.18974654060668797, 0.09182815074796362, 0.06438252774232764, 0.06794175839147351, 0.12844867942695343, 0.024677332500744747, 0.003954700721273197, 0.0032428545914440212, 0.07136376147483724, 0.25791113796169246, 0.21033529697846762, 0.12895556898084623, 0.06823377193646718, 0.01564994769185027, 0.22097726140892582, 0.022535924676264387, 0.0025039916306960433, 0.0018779937230220323, 0.03299678743434563, 0.09486576387374368, 0.11961335444950291, 0.02062299214646602, 0.6516865518283261, 0.02062299214646602, 0.01237379528787961, 0.037121385863638834, 0.004124598429293204, 0.008249196858586407, 0.1725281680305604, 0.510593683827446, 0.10842366523021457, 0.033766980898947606, 0.027699476518667956, 0.019521535832204083, 0.10987459019071623, 0.008441745224736901, 0.006595113456825704, 0.0026380453827302814, 0.2774928688526484, 0.24331386915250514, 0.15109825114964331, 0.15008303333676776, 0.060236256897282216, 0.03299457891845514, 0.04179313329670985, 0.03519421751301882, 0.0032148564074392194, 0.004399277189127353, 0.9769568200515131, 0.11928916215918832, 0.07702671613707589, 0.16223326053649612, 0.09611298208254601, 0.03476427011496345, 0.46625021095362745, 0.00817982826234434, 0.00408991413117217, 0.0013633047103907235, 0.03135600833898664, 0.09574520865562874, 0.10283744633382345, 0.11347580285111554, 0.10106438691427479, 0.030142010132327566, 0.014184475356389442, 0.5053219345713739, 0.035461188390973605, 0.0017730594195486803, 0.0017730594195486803, 0.0038254285052825316, 0.0019127142526412658, 0.011476285515847595, 0.0019127142526412658, 0.03251614229490152, 0.9467935550574266, 0.0019127142526412658, 0.00748914695104514, 0.02995658780418056, 0.05991317560836112, 0.00748914695104514, 0.037445734755225696, 0.00748914695104514, 0.8462736054681007, 0.00748914695104514, 0.00748914695104514, 0.0814405897945966, 0.02036014744864915, 0.02036014744864915, 0.02036014744864915, 0.02036014744864915, 0.30540221172973725, 0.5293638336648779, 0.9662257115064693, 0.25951329202701207, 0.13928356569144332, 0.17948716673233875, 0.11956284195811312, 0.04544340686376092, 0.20816319496293, 0.010384342448951657, 0.030867219756516854, 0.001714845542028714, 0.005525613413203634, 0.968727213733395, 0.9607726853214381, 0.004222640100629253, 0.004222640100629253, 0.004222640100629253, 0.9796525033459866, 0.004222640100629253, 0.909603017446141, 0.04787384302348111, 0.004677251188898978, 0.018709004755595914, 0.02338625594449489, 0.9494819913464926, 0.017526274925115614, 0.03505254985023123, 0.9113662961060119, 0.9418339162934629, 0.9940758123699409, 0.0877432962908641, 0.5100079096906476, 0.13709890045447515, 0.03838769212725304, 0.12613098841811715, 0.010967912036358012, 0.010967912036358012, 0.005483956018179006, 0.07129142823632707, 0.16670631269864458, 0.15359226585950078, 0.20364535562775116, 0.2572687618129412, 0.052387527425480154, 0.075663244066683, 0.0379002819644365, 0.04586483397145576, 0.003021036968179721, 0.003913616072414638, 0.9488533111761602, 0.08644922872454608, 0.046929581307610733, 0.09550581459092711, 0.009056585866381018, 0.3235671132261582, 0.07245268693104814, 0.27828418389425313, 0.05186953723472765, 0.0024699779635584595, 0.03457969148981843, 0.6599015347962739, 0.02601403526598844, 0.024388158061864163, 0.05365394773610116, 0.056905702144349715, 0.04064693010310694, 0.2747732474970029, 0.048776316123728326, 0.46825263478779194, 0.0016258772041242776, 0.003251754408248555, 0.23091010811299256, 0.5772752702824814, 0.0016112068690268407, 0.0016112068690268407, 0.10795086022479833, 0.004833620607080522, 0.8813301573576819, 0.9314961980948898, 0.012650359532840839, 0.06325179766420419, 0.012650359532840839, 0.8855251672988588, 0.501308174411907, 0.11067842811691452, 0.10788821564337886, 0.09207701162667678, 0.04696857663785028, 0.09858750739826, 0.012555956130910472, 0.014416097779934245, 0.0018601416490237736, 0.013486026955422357, 0.037110641135939086, 0.018555320567969543, 0.9092107078305076, 0.019414414896212383, 0.9318919150181945, 0.019414414896212383, 0.9367173978909985, 0.9735751021358603, 0.970459551918472, 0.9523265400735218, 0.534986824272539, 0.13564440763480168, 0.07326778222609726, 0.16963801830727024, 0.029043084846380896, 0.03498371583768608, 0.0059406309913051835, 0.010231086707247816, 0.0026402804405800816, 0.003630385605797612, 0.7804397921630735, 0.03588228929485395, 0.05382343394228093, 0.09419100939899162, 0.02242643080928372, 0.008970572323713488, 0.021564242339834713, 0.9596087841226448, 0.9618035152697583, 0.02003757323478663, 0.02775794139610766, 0.8882541246754451, 0.02775794139610766, 0.4533133551470639, 0.30638965901244236, 0.11825565786445144, 0.044077108840386445, 0.009317112437805265, 0.05267752032143746, 0.004300205740525507, 0.002508453348639879, 0.0021501028702627534, 0.0071670095675425115, 0.8544548766688332, 0.1353591883831815, 0.008459949273948844, 0.19440941910013926, 0.21101469142800922, 0.17116203784112127, 0.20079606230316616, 0.09963163396721986, 0.03525427048070856, 0.06003444610845299, 0.019670861065322894, 0.003831985921816148, 0.0040874516499372245, 0.022030763166690042, 0.059797785738158686, 0.015736259404778602, 0.031472518809557204, 0.00629450376191144, 0.00629450376191144, 0.8497580078580445, 0.00314725188095572, 0.01112093959636763, 0.01112093959636763, 0.02224187919273526, 0.05560469798183815, 0.8563123489203075, 0.04448375838547052, 0.9560640729905729, 0.13764287789152352, 0.024579085337772054, 0.6832985723900631, 0.024579085337772054, 0.014747451202663233, 0.004915817067554411, 0.09831634135108822, 0.009831634135108822, 0.09085888808578847, 0.13115920134964626, 0.10551354745446404, 0.11210814417036803, 0.06228230231687113, 0.025279287410965343, 0.2593874708255574, 0.2062643306141085, 0.0051291307790364464, 0.002198198905301334, 0.05289107038384566, 0.14356147675615252, 0.015111734395384475, 0.024556568392499773, 0.049113136784999546, 0.005666900398269179, 0.4363513306667267, 0.2644553519192283, 0.009444833997115298, 0.0018889667994230594, 0.9393725288240763, 0.15735451337046158, 0.0990518450698523, 0.14262211869235064, 0.06112376515386456, 0.02946478935622189, 0.42880672169480366, 0.031658975797642666, 0.042316452798829306, 0.0018807312355035247, 0.005955648912427829, 0.017135810751639002, 0.805383105327033, 0.16564617059917702, 0.005711936917213001, 0.005711936917213001, 0.9603588855149199, 0.21141827537957605, 0.034556692727017, 0.3575866464795672, 0.2966294990604813, 0.031122487238617796, 0.009444065093097814, 0.01438073548267167, 0.04271293076196511, 0.0010731892151247516, 0.0008585513720998012, 0.9716571288454724, 0.01725446526162769, 0.9489955893895228, 0.01725446526162769, 0.3283713016972426, 0.1653153686296898, 0.21219865654403236, 0.10657004401412805, 0.04688328791434255, 0.0482012919922558, 0.03257352935414161, 0.052531876819685026, 0.0022594355621369903, 0.004895443717963479, 0.9559136629007748, 0.9446957991274856, 0.04694140616782537, 0.005627229178284163, 0.005627229178284163, 0.003376337506970498, 0.012379904192225158, 0.028136145891420813, 0.003376337506970498, 0.35001365488927494, 0.5841063887058962, 0.007878120849597828, 0.010131534663143855, 0.010131534663143855, 0.006754356442095904, 0.04390331687362337, 0.010131534663143855, 0.006754356442095904, 0.2499111883575484, 0.6585497531043506, 0.010131534663143855, 0.004799551936879784, 0.02399775968439892, 0.04799551936879784, 0.01439865581063935, 0.8399215889539622, 0.009599103873759568, 0.05279507130567762, 0.004799551936879784, 0.013463260709127765, 0.013463260709127765, 0.013463260709127765, 0.9289649889298158, 0.038800909130611586, 0.08954055953218058, 0.008954055953218057, 0.03581622381287223, 0.01193874127095741, 0.8088497211073645, 0.005969370635478705, 0.009331326805096522, 0.9797893145351347, 0.9690052528175421, 0.9421720204750573, 0.025464108661488037, 0.10319558438989997, 0.02428131397409411, 0.059836095150446196, 0.1829770445904949, 0.5367904767844376, 0.007804708063101678, 0.012140656987047055, 0.055500146226500825, 0.010406277417468903, 0.004335948923945377, 0.9604694139462104, 0.04395179895862223, 0.21975899479311115, 0.04395179895862223, 0.6592769843793335, 0.07586906741696509, 0.8219148970171217, 0.02528968913898836, 0.0021074740949156966, 0.0021074740949156966, 0.06954664513221799, 0.04865541592129388, 0.057501855179710945, 0.07961795332575362, 0.30077893478618034, 0.3184718133030145, 0.004423219629208534, 0.18577522442675845, 0.36012684262719985, 0.2922143798709484, 0.33215256390798004, 0.12813500711880993, 0.051254002847523975, 0.051254002847523975, 0.09718291449011039, 0.014976819013886875, 0.02496136502314479, 0.002995363802777375, 0.004992273004628959, 0.07774374216227337, 0.234684380545928, 0.1525811762063309, 0.06829824077807192, 0.09009555166469063, 0.045047775832345316, 0.28481819558515103, 0.036328851477697835, 0.005086039206877697, 0.005812616236431653, 0.06257163276004542, 0.43800142932031794, 0.18771489828013627, 0.026816414040019467, 0.035755218720025954, 0.008938804680006488, 0.017877609360012977, 0.22347011700016223, 0.9367711960358335, 0.004277163395742225, 0.004277163395742225, 0.012831490187226674, 0.0171086535829689, 0.08126610451910227, 0.8597098425441873, 0.0171086535829689, 0.0032105508890268855, 0.05136881422443017, 0.032105508890268857, 0.03852661066832263, 0.7962166204786676, 0.06100046689151083, 0.012842203556107542, 0.10905108281125478, 0.1018291567972644, 0.06764537366437659, 0.5493478387975351, 0.007703387748256408, 0.14925313762246792, 0.005055348209793268, 0.0014443852027980766, 0.001925846937064102, 0.006740464279724357, 0.04341856903688105, 0.17729249023393095, 0.10854642259220262, 0.025327498604847277, 0.1573923127586938, 0.014472856345627016, 0.4233310481095902, 0.019900177475237146, 0.027136605648050656, 0.001809107043203377, 0.10034347926506335, 0.10278828861156383, 0.05240395686194516, 0.26690940300272675, 0.21907617665815207, 0.006590355629696957, 0.050278035691075175, 0.08896980100090893, 0.11097308511941328, 0.0018070329952394883, 0.9424778492567621, 0.23744193711283515, 0.14601692531592633, 0.1039219558554791, 0.082216737227436, 0.26901316420817056, 0.033544428788793886, 0.04801457454082262, 0.06906205927104624, 0.005919605080375392, 0.005261871182555904, 0.20140253480466414, 0.38107602583109884, 0.08504701005672592, 0.1425238355346231, 0.05093474778122596, 0.02009352435406162, 0.07079462650326361, 0.03481319917157188, 0.010981344705126699, 0.0025701019522636954, 0.21643776315695176, 0.0919186423373238, 0.35541875037098536, 0.18163123725855182, 0.09706608630821392, 0.022305590540523907, 0.01593256467180279, 0.01372651725570702, 0.002451163795661968, 0.0029413965547943617, 0.00981189330157894, 0.01962378660315788, 0.01962378660315788, 0.06868325311105258, 0.8536347172373677, 0.01962378660315788, 0.9741655467023211, 0.0036349460697847804, 0.007269892139569561, 0.010904838209354341, 0.0036349460697847804, 0.006859721858792543, 0.10289582788188814, 0.027438887435170173, 0.054877774870340346, 0.027438887435170173, 0.054877774870340346, 0.720270795173217, 0.15709649653416533, 0.15709649653416533, 0.47128948960249595, 0.9221762166052512, 0.012811589686033572, 0.012811589686033572, 0.26904338340670503, 0.006405794843016786, 0.36513030605195684, 0.03843476905810072, 0.006405794843016786, 0.01921738452905036, 0.025623179372067144, 0.2306086143486043, 0.021097804055432233, 0.015069860039594452, 0.03315369208710779, 0.8589820222568837, 0.054251496142540025, 0.00602794401583778, 0.00602794401583778, 0.00301397200791889, 0.00301397200791889, 0.3285736478248072, 0.4859249025351399, 0.07205873942873581, 0.24635788925112295, 0.09365749771300348, 0.024711243102524583, 0.010657902559485793, 0.02593737348547428, 0.037727088706144406, 0.0009431772176536101, 0.0019806721570725812, 0.014951228952815771, 0.014951228952815771, 0.04485368685844731, 0.052329301334855194, 0.8596956647869068, 0.010194367695976501, 0.010194367695976501, 0.9582705634217912, 0.010194367695976501, 0.6837184290191494, 0.15236602508466235, 0.09836287695338962, 0.04146670302937013, 0.0028930257927467537, 0.00867907737824026, 0.0009643419309155845, 0.009643419309155845, 0.0009643419309155845, 0.913735088640746, 0.04895009403432568, 0.016316698011441894, 0.11412361442692905, 0.05860401821923383, 0.03392864212692485, 0.17992461733975298, 0.017478391398718863, 0.556224102747465, 0.00719698469359012, 0.004112562682051497, 0.0010281406705128743, 0.027759798103847606, 0.0484736280005161, 0.0969472560010322, 0.0969472560010322, 0.1454208840015483, 0.0969472560010322, 0.0484736280005161, 0.0484736280005161, 0.3877890240041288, 0.2515429361909125, 0.0747830350837848, 0.2206408555777783, 0.06056807800174306, 0.09270624183940264, 0.04449899608291327, 0.23856406233339614, 0.011742790632991001, 0.0006180416122626843, 0.0043262912858387905, 0.02158965922435132, 0.02158965922435132, 0.9283553466471067, 0.9552415740156751, 0.9910923740749636, 0.012327790120069697, 0.055475055540313636, 0.09245842590052272, 0.030819475300174242, 0.7458313022642167, 0.006163895060034849, 0.03698337036020909, 0.006163895060034849, 0.9584297705159681, 0.0765176371236052, 0.14347056960675975, 0.10329881011686702, 0.20659762023373404, 0.24358114484347654, 0.08034351897978546, 0.11987763149364815, 0.01785411532884121, 0.0038258818561802597, 0.0038258818561802597, 0.9794043465724891, 0.9809439326080798, 0.9555472034142098, 0.12091579316545538, 0.6045789658272769, 0.9768979692792265, 0.007277988974028469, 0.03275095038312811, 0.03275095038312811, 0.0036389944870142345, 0.0036389944870142345, 0.9061096272665444, 0.007277988974028469, 0.08847718060100676, 0.05588032459010954, 0.06519371202179446, 0.18347373240419299, 0.013970081147527385, 0.550421197212579, 0.016764097377032862, 0.0018626774863369844, 0.0009313387431684922, 0.022352129836043816, 0.2780528335934031, 0.05263551582426561, 0.15561804678478527, 0.07323202201636954, 0.08581877580043305, 0.01373100412806929, 0.04233726272821364, 0.29292808806547815, 0.002288500688011548, 0.0034327510320173223, 0.9764972241646448, 0.26048975766096044, 0.08682991922032014, 0.5209795153219209, 0.027332815126515943, 0.8928719607995208, 0.027332815126515943, 0.03644375350202126, 0.09234649471133931, 0.028858279597293535, 0.028858279597293535, 0.00865748387918806, 0.05194490327512836, 0.0028858279597293534, 0.06637404307377513, 0.7156853340128796, 0.0028858279597293534, 0.471419586699866, 0.2182737264445955, 0.13303073268516766, 0.09686703836298616, 0.027445660869512747, 0.033257683171291914, 0.004843351918149308, 0.007749363069038893, 0.0022602308951363437, 0.0045204617902726875, 0.9711848210887466, 0.9348177490711511, 0.04194549378978609, 0.04194549378978609, 0.25167296273871653, 0.04194549378978609, 0.3775094441080748, 0.20972746894893043, 0.9544853249691736, 0.1275140787795867, 0.29423397879588215, 0.06318608082809371, 0.16900373426309404, 0.08145675480248225, 0.10353381918820175, 0.08716634041947867, 0.057095856169964196, 0.009896615069460461, 0.006851502740395704, 0.180249293223125, 0.1056323788215321, 0.1328270976245223, 0.5295103925607014, 0.011686986593020574, 0.03168971364645963, 0.002472247163908198, 0.002247497421734726, 0.001573248195214308, 0.0020227476795612533, 0.00874218496793955, 0.9703825314412899, 0.05056199784354379, 0.7230365691626762, 0.1028093956152057, 0.026966398849890022, 0.052247397771661916, 0.020224799137417517, 0.015168599353063137, 0.0016853999281181264, 0.0033707998562362528, 0.0067415997124725055, 0.20869319589896582, 0.2032671728055927, 0.1857369443500796, 0.09182500619554496, 0.08389466475138425, 0.01544329649652347, 0.1677893295027685, 0.03631261608642005, 0.0029217047425855215, 0.004173863917979317, 0.27149213959709007, 0.14651581029694746, 0.15030297179089117, 0.20782048698016134, 0.0717193707915591, 0.03290096547863602, 0.015858738755889303, 0.08521113361373357, 0.00331376630720075, 0.014675250789031894, 0.17384217786731612, 0.005163629045563845, 0.29260564591528454, 0.0068848387274184596, 0.45956298505518217, 0.0034424193637092298, 0.04819387109192922, 0.008606048409273075, 0.0863523362301303, 0.3802136634446478, 0.08842178219642972, 0.1292463071679728, 0.20619207082401483, 0.020130065308548894, 0.061330853183055506, 0.015050516118541229, 0.00846591531667944, 0.004703286287044134, 0.9764776505960876, 0.9752300891127582, 0.01240984211856549, 0.01240984211856549, 0.02481968423713098, 0.9431480010109773, 0.12032306747620129, 0.6944963017486004, 0.042218620167088175, 0.010554655041772044, 0.07810444730911312, 0.008443724033417635, 0.03588582714202495, 0.0021109310083544087, 0.004221862016708817, 0.0021109310083544087, 0.09515249697095568, 0.17009886524151535, 0.30786792456239714, 0.1403407484282049, 0.17156840187427144, 0.026819043547798318, 0.05620977620291977, 0.021675665333152065, 0.008449835638347416, 0.0022043049491341084, 0.00737316396513336, 0.00737316396513336, 0.01474632793026672, 0.06635847568620024, 0.8847796758160031, 0.01474632793026672, 0.0045128616737996705, 0.9431880898241312, 0.0045128616737996705, 0.022564308368998354, 0.009025723347599341, 0.009025723347599341, 0.0045128616737996705, 0.0045128616737996705, 0.0045128616737996705, 0.006470957578407104, 0.9253469337122159, 0.025883830313628415, 0.006470957578407104, 0.019412872735221312, 0.006470957578407104, 0.06085831527488452, 0.028344968758165393, 0.030845995413297633, 0.04585215534409108, 0.09170431068818216, 0.005835728861975228, 0.16590143479043862, 0.5660656996115971, 0.005002053310264481, 0.0008336755517107469, 0.18575399471767862, 0.26278225674739486, 0.16666734571916483, 0.029652472551262455, 0.01499665278454653, 0.2897080651560125, 0.004430829231797839, 0.0023858311248142207, 0.0047716622496284415, 0.039195797050519336, 0.13127267157393285, 0.13127267157393285, 0.5250906862957314, 0.9789571755125773, 0.5123838208064362, 0.12516603856845238, 0.09703883889014848, 0.1476677983110955, 0.015001173161762084, 0.03844050622701534, 0.003750293290440521, 0.055316826033997686, 0.0014063599839151954, 0.003281506629135456, 0.1929781383045912, 0.1378415273604223, 0.02756830547208446, 0.11027322188833784, 0.49622949849752024, 0.9435795644527933, 0.050405656481496065, 0.6926110575790756, 0.020535637825794695, 0.007467504663925343, 0.00933438082990668, 0.056006284979440074, 0.14374946478056286, 0.00933438082990668, 0.0018668761659813358, 0.007467504663925343, 0.025055141476075245, 0.9604470899162177, 0.0695046675358727, 0.0695046675358727, 0.7645513428945997, 0.44056273329810863, 0.08055636570269228, 0.09751560058746961, 0.046637895933137635, 0.00423980872119433, 0.00423980872119433, 0.7377267174878135, 0.021199043605971652, 0.00423980872119433, 0.9615386757724345, 0.04589669007984435, 0.917933801596887, 0.014642939515971438, 0.014642939515971438, 0.9517910685381434, 0.9494981671267473, 0.3246711795532819, 0.17632483154908551, 0.21879576700211867, 0.11734860364511056, 0.04629533248434894, 0.034620857336121816, 0.02797848354488914, 0.046496616538628716, 0.0026166927056371137, 0.005032101356994449, 0.38595655453720795, 0.08421138427235221, 0.15028266300092277, 0.1306677521283784, 0.06843096725459094, 0.022417040997193584, 0.05456779716422122, 0.0976321127640931, 0.0019172469273915564, 0.003687013321906839, 0.9516142270161106, 0.20234759364823898, 0.20234759364823898, 0.40469518729647797, 0.007838314486636626, 0.9053253232065303, 0.003919157243318313, 0.003919157243318313, 0.019595786216591565, 0.011757471729954939, 0.011757471729954939, 0.003919157243318313, 0.023514943459909877, 0.003919157243318313, 0.31855359931451466, 0.17457757293987577, 0.15375152041631177, 0.1744713175698576, 0.06407198812096476, 0.026138821024473183, 0.03506427210600061, 0.0462210859579099, 0.0027626396204727755, 0.004250214800727347, 0.9748771893464416, 0.9774535002074214, 0.9606110713958366, 0.9666535459979518, 0.01666644044824055, 0.9731015912454343, 0.31907190522092155, 0.13515811845915246, 0.23986965924409706, 0.08475668920117323, 0.09051685254494228, 0.023452093613916866, 0.075705003946679, 0.027155055763482684, 0.001645760955362587, 0.002674361552464204, 0.07326073821393714, 0.5311403520510443, 0.34798850651620145, 0.7476840097568829, 0.900158306392401, 0.08472078177810832, 0.9596387376221944, 0.9513938570917734, 0.24278211441890174, 0.676690574231407, 0.005165576902529824, 0.06715249973288771, 0.37263946283054766, 0.5323420897579252, 0.9593233808231311, 0.7061600144004361, 0.10134703910376629, 0.09153926112598246, 0.04086574157409931, 0.003269259325927945, 0.04576963056299123, 0.003269259325927945, 0.0049038889888919175, 0.0016346296629639724, 0.012218362624115544, 0.012218362624115544, 0.936741134515525, 0.004072787541371848, 0.032582300330974784, 0.004326768349456491, 0.025960610096738945, 0.06922829359130385, 0.008653536698912981, 0.8913142799880371, 0.15600786558224705, 0.03831772137107822, 0.12042712430910299, 0.5268686688523256, 0.0396862114200453, 0.09032034323182725, 0.010947920391736636, 0.012316410440703715, 0.002736980097934159, 0.002736980097934159, 0.30509137898655836, 0.33929556795640986, 0.15142219423514539, 0.09437360168323983, 0.021596075517460966, 0.05417743800334138, 0.009362460484448396, 0.016602763259088486, 0.002122157709808303, 0.005991974710046973], \"Term\": [\"aboriginal\", \"aboriginal\", \"aboriginal\", \"aboriginal\", \"aboriginal\", \"aboriginal\", \"aboriginal\", \"aboriginal\", \"abra\", \"acacia\", \"acacia\", \"acacia\", \"acacia\", \"acacia\", \"acacia\", \"acacia\", \"acacia\", \"acacia\", \"acacia\", \"acacia_aneura\", \"acacia_aneura\", \"acacia_aneura\", \"acacia_aneura\", \"access\", \"access\", \"access\", \"access\", \"access\", \"access\", \"access\", \"access\", \"access\", \"access\", \"act\", \"act\", \"act\", \"act\", \"act\", \"act\", \"act\", \"act\", \"act\", \"act\", \"actinolite\", \"actinolite\", \"actinolite\", \"actinolite\", \"actinolite\", \"actinolite\", \"aggps\", \"aggregate\", \"aggregate\", \"aggregate\", \"aggregate\", \"aggregate\", \"aggregate\", \"aggregate\", \"aggregate\", \"agnew\", \"airborne\", \"airborne\", \"airborne\", \"airborne\", \"airborne\", \"airborne\", \"airborne\", \"airborne\", \"airborne\", \"airborne\", \"aircraft\", \"aircraft\", \"aircraft\", \"aircraft\", \"aircraft\", \"aircraft\", \"aircraft\", \"aircraft\", \"aircraft\", \"alcoa\", \"alcoa\", \"alcoa\", \"alcoa\", \"alcoa\", \"alter\", \"alter\", \"alter\", \"alter\", \"alter\", \"alter\", \"alter\", \"alter\", \"alter\", \"alter\", \"alteration\", \"alteration\", \"alteration\", \"alteration\", \"alteration\", \"alteration\", \"alteration\", \"alteration\", \"alteration\", \"alteration\", \"altn_weathering\", \"altn_weathering\", \"altn_weathering\", \"altn_weathering\", \"ambassador\", \"amendment\", \"amount\", \"amount\", \"amount\", \"amount\", \"amount\", \"amount\", \"amount\", \"amount\", \"amount\", \"amount\", \"amt_resistivity\", \"anastomose_schistosity\", \"angelo\", \"angelo\", \"anhedral\", \"anhedral\", \"anhedral\", \"anhedral\", \"anhedral\", \"anhedral_subhedral\", \"anomalous\", \"anomalous\", \"anomalous\", \"anomalous\", \"anomalous\", \"anomalous\", \"anomalous\", \"anomalous\", \"anomalous\", \"anomalous\", \"anomaly\", \"anomaly\", \"anomaly\", \"anomaly\", \"anomaly\", \"anomaly\", \"anomaly\", \"anomaly\", \"anomaly\", \"anomaly\", \"anthophyllite\", \"anthophyllite\", \"anthophyllite\", \"anthophyllite\", \"antigorite\", \"appendix\", \"appendix\", \"appendix\", \"appendix\", \"appendix\", \"appendix\", \"appendix\", \"appendix\", \"appendix\", \"appendix\", \"apron\", \"apron\", \"archaean\", \"archaean\", \"archaean\", \"archaean\", \"archaean\", \"archaean\", \"archaean\", \"archaean\", \"archaean\", \"archaean\", \"area\", \"area\", \"area\", \"area\", \"area\", \"area\", \"area\", \"area\", \"area\", \"area\", \"arl\", \"arrowe\", \"arrowe\", \"ashburton\", \"ashburton\", \"ashburton\", \"ashburton\", \"ashburton\", \"ashburton\", \"ashburton\", \"ashburton\", \"ashburton\", \"ashburton\", \"ashton\", \"assemblage\", \"assemblage\", \"assemblage\", \"assemblage\", \"assemblage\", \"assemblage\", \"assemblage\", \"assemblage\", \"assemblage\", \"assemblage\", \"associate\", \"associate\", \"associate\", \"associate\", \"associate\", \"associate\", \"associate\", \"associate\", \"associate\", \"associate\", \"au\", \"au\", \"au\", \"au\", \"au\", \"au\", \"au\", \"au\", \"au\", \"au\", \"aug\", \"aug\", \"aug\", \"aug\", \"aug\", \"aug\", \"aug\", \"aug\", \"aug\", \"aug_groundwater\", \"auger\", \"auger\", \"auger\", \"auger\", \"auger\", \"auger\", \"auger\", \"auger\", \"auger\", \"ausquest\", \"ausquest\", \"australasian_code\", \"australasian_code\", \"australasian_code\", \"australasian_code\", \"australasian_code\", \"australia\", \"australia\", \"australia\", \"australia\", \"australia\", \"australia\", \"australia\", \"australia\", \"australia\", \"australia\", \"author_tillick\", \"avoca\", \"avoca\", \"avoca\", \"avoca\", \"avoca\", \"ba_bi\", \"balmoral\", \"bamboo\", \"bangemall_basin\", \"barometric_altimeter\", \"basal\", \"basal\", \"basal\", \"basal\", \"basal\", \"basal\", \"basal\", \"basal\", \"basal\", \"basal\", \"base\", \"base\", \"base\", \"base\", \"base\", \"base\", \"base\", \"base\", \"base\", \"base\", \"bed\", \"bed\", \"bed\", \"bed\", \"bed\", \"bed\", \"bed\", \"bed\", \"bed\", \"bed\", \"bedded\", \"bedded\", \"bedded\", \"bedded\", \"bedded\", \"bedded\", \"bedded\", \"bedded\", \"bedding\", \"bedding\", \"bedding\", \"bedding\", \"bedding\", \"bedding\", \"bedding\", \"bedding\", \"bedding\", \"bedding\", \"bellary\", \"bif\", \"bif\", \"bif\", \"bif\", \"bif\", \"bif\", \"bif\", \"bif\", \"bif\", \"bif\", \"biotite\", \"biotite\", \"biotite\", \"biotite\", \"biotite\", \"biotite\", \"biotite\", \"biotite\", \"biotite\", \"biotite\", \"bladed\", \"blake\", \"blake\", \"block\", \"block\", \"block\", \"block\", \"block\", \"block\", \"block\", \"block\", \"block\", \"block\", \"blocky\", \"blocky\", \"bm\", \"bm\", \"boddington\", \"boddington\", \"borehole\", \"borehole\", \"borehole\", \"borehole\", \"borehole\", \"borehole\", \"borehole\", \"botanical_district\", \"botanical_district\", \"botryoidal\", \"botryoidal\", \"botryoidal\", \"bouguer_corrn\", \"braemore\", \"breccia\", \"breccia\", \"breccia\", \"breccia\", \"breccia\", \"breccia\", \"breccia\", \"breccia\", \"breccia\", \"breccia\", \"broadhurst_formation\", \"broadhurst_formation\", \"broadhurst_formation\", \"broadhurst_formation\", \"broadhurst_formation\", \"brockman_iron\", \"brockman_iron\", \"brockman_iron\", \"brockman_iron\", \"brockman_iron\", \"broome\", \"broome\", \"broome\", \"broome\", \"bulong_anticline\", \"burtville\", \"burtville\", \"burtville\", \"burtville\", \"burtville\", \"burtville\", \"c__\", \"calcrete\", \"calcrete\", \"calcrete\", \"calcrete\", \"calcrete\", \"calcrete\", \"calcrete\", \"calcrete\", \"calcrete\", \"calcrete\", \"carbine\", \"carbonate\", \"carbonate\", \"carbonate\", \"carbonate\", \"carbonate\", \"carbonate\", \"carbonate\", \"carbonate\", \"carbonate\", \"carbonate\", \"carosue_dam\", \"carosue_dam\", \"carosue_dam\", \"carosue_dam\", \"carrick\", \"cattach_et\", \"cc\", \"cc\", \"cc\", \"cc\", \"cc\", \"cc\", \"cc\", \"cc\", \"cc\", \"centaur\", \"cheela\", \"cheela\", \"chert\", \"chert\", \"chert\", \"chert\", \"chert\", \"chert\", \"chert\", \"chert\", \"chert\", \"chert\", \"childe_harold\", \"chip\", \"chip\", \"chip\", \"chip\", \"chip\", \"chip\", \"chip\", \"chip\", \"chip\", \"chip\", \"chlorite\", \"chlorite\", \"chlorite\", \"chlorite\", \"chlorite\", \"chlorite\", \"chlorite\", \"chlorite\", \"chlorite\", \"chlorite\", \"chromitite\", \"cid\", \"cid\", \"cid\", \"cid\", \"circle\", \"classify_infer\", \"classify_infer\", \"classify_infer\", \"co_cr\", \"co_cr\", \"co_cr\", \"co_cr\", \"co_cr\", \"co_cr\", \"coal\", \"coal\", \"coal\", \"coal\", \"coal\", \"coal\", \"coal\", \"coal\", \"coal\", \"coal_measure\", \"coal_seam\", \"collect\", \"collect\", \"collect\", \"collect\", \"collect\", \"collect\", \"collect\", \"collect\", \"collect\", \"collect\", \"collision\", \"colloform\", \"colloform\", \"colloform\", \"colourless\", \"comma\", \"commercial_confidence\", \"commercial_confidence\", \"commercial_confidence\", \"commercial_confidence\", \"commercial_confidence\", \"commercial_confidence\", \"commercial_confidence\", \"commercial_confidence\", \"company\", \"company\", \"company\", \"company\", \"company\", \"company\", \"company\", \"company\", \"company\", \"company\", \"compilation_computer\", \"compilation_computer\", \"compilation_computer\", \"compilation_computer\", \"compilation_computer\", \"complex_resistivity\", \"complex_resistivity\", \"composite\", \"composite\", \"composite\", \"composite\", \"composite\", \"composite\", \"composite\", \"composite\", \"composite\", \"composite\", \"compositing\", \"compositing\", \"compositing\", \"comprise\", \"comprise\", \"comprise\", \"comprise\", \"comprise\", \"comprise\", \"comprise\", \"comprise\", \"comprise\", \"comprise\", \"conductance\", \"conductance\", \"conductive\", \"conductive\", \"conductive\", \"conductive\", \"conductive\", \"conductive\", \"conductive\", \"conductive\", \"conductor\", \"conductor\", \"conductor\", \"conductor\", \"conductor\", \"conductor\", \"conductor\", \"conductor\", \"conductor\", \"conductor\", \"confidential\", \"confidential\", \"confidential\", \"confidential\", \"confidential\", \"confidential\", \"confidential\", \"confidential\", \"confidential\", \"confidential\", \"confidential_information\", \"confidential_information\", \"confidential_information\", \"conservation\", \"conservation\", \"conservation\", \"conservation\", \"conservation\", \"conservation\", \"conservation\", \"conservation\", \"conservation\", \"continuity\", \"continuity\", \"continuity\", \"continuity\", \"continuity\", \"continuity\", \"continuity\", \"continuity\", \"continuity\", \"continuity\", \"control\", \"control\", \"control\", \"control\", \"control\", \"control\", \"control\", \"control\", \"control\", \"control\", \"cooke\", \"cooke\", \"cordierite\", \"cordierite\", \"cordierite\", \"cordierite\", \"core\", \"core\", \"core\", \"core\", \"core\", \"core\", \"core\", \"core\", \"core\", \"core\", \"correction\", \"correction\", \"correction\", \"correction\", \"correction\", \"correction\", \"correction\", \"correction\", \"correction\", \"correction\", \"corrn\", \"corymbia\", \"council\", \"cover\", \"cover\", \"cover\", \"cover\", \"cover\", \"cover\", \"cover\", \"cover\", \"cover\", \"cover\", \"craton\", \"craton\", \"craton\", \"craton\", \"creek\", \"creek\", \"creek\", \"creek\", \"creek\", \"creek\", \"creek\", \"creek\", \"creek\", \"creek\", \"crofton\", \"crofton\", \"crofton\", \"crystal\", \"crystal\", \"crystal\", \"crystal\", \"crystal\", \"crystal\", \"crystal\", \"cu\", \"cu\", \"cu\", \"cu\", \"cu\", \"cu\", \"cu\", \"cu\", \"cu\", \"cu\", \"cube\", \"cube\", \"cube\", \"cube\", \"cube\", \"cube\", \"cube_consulting\", \"cube_consulting\", \"cube_consulting\", \"cultural_heritage\", \"cultural_heritage\", \"cummingtonite\", \"cummingtonite\", \"cummingtonite\", \"cummingtonite\", \"cumulative\", \"cut\", \"cut\", \"cut\", \"cut\", \"cut\", \"cut\", \"cut\", \"cut\", \"cut\", \"cut\", \"dalgaranga\", \"dalgaranga\", \"data\", \"data\", \"data\", \"data\", \"data\", \"data\", \"data\", \"data\", \"data\", \"data\", \"database\", \"database\", \"database\", \"database\", \"database\", \"database\", \"database\", \"database\", \"database\", \"database\", \"datamine\", \"datamine\", \"datashe\", \"datashe\", \"datum\", \"datum\", \"datum\", \"datum\", \"datum\", \"datum\", \"datum\", \"datum\", \"datum\", \"datum\", \"decay_curve\", \"default\", \"dennison_drive\", \"dennison_drive\", \"density\", \"density\", \"density\", \"density\", \"density\", \"density\", \"density\", \"density\", \"density\", \"density\", \"deposit\", \"deposit\", \"deposit\", \"deposit\", \"deposit\", \"deposit\", \"deposit\", \"deposit\", \"deposit\", \"deposit\", \"detrital\", \"detrital\", \"detrital\", \"detrital\", \"detrital\", \"detrital\", \"detrital\", \"detrital\", \"detrital\", \"dhem\", \"dhem\", \"dhem\", \"dhem\", \"dhtem\", \"dhtem\", \"dhtem\", \"dhtem\", \"dhtem\", \"dhtem\", \"dhtem\", \"digital\", \"digital\", \"digital\", \"digital\", \"digital\", \"digital\", \"digital\", \"digital\", \"digital\", \"digital\", \"digitising\", \"disclose\", \"disclose_person\", \"discriminate\", \"disseminate\", \"disseminate\", \"disseminate\", \"disseminate\", \"disseminate\", \"disseminate\", \"disseminate\", \"disseminate\", \"disseminate\", \"disseminate\", \"diurnal\", \"diurnal\", \"diurnal\", \"diurnal\", \"domain\", \"domain\", \"domain\", \"domain\", \"domain\", \"domain\", \"domain\", \"domain\", \"domain\", \"domain\", \"dot\", \"drift\", \"drift\", \"drift\", \"drift\", \"drift\", \"drift\", \"drill\", \"drill\", \"drill\", \"drill\", \"drill\", \"drill\", \"drill\", \"drill\", \"drill\", \"drill\", \"drilling\", \"drilling\", \"drilling\", \"drilling\", \"drilling\", \"drilling\", \"drilling\", \"drilling\", \"drilling\", \"drilling\", \"east\", \"east\", \"east\", \"east\", \"east\", \"east\", \"east\", \"east\", \"east\", \"east\", \"eclipse\", \"eclipse\", \"elder\", \"electrode\", \"electrode\", \"electrode\", \"electrode\", \"electrode\", \"electrode\", \"electrode\", \"electrode_spread\", \"element\", \"element\", \"element\", \"element\", \"element\", \"element\", \"element\", \"element\", \"element\", \"element\", \"ellendale\", \"ellendale\", \"ellendale\", \"ellendale\", \"ellendale\", \"ellendale\", \"ellendale\", \"ellendale\", \"em\", \"em\", \"em\", \"em\", \"em\", \"em\", \"em\", \"em\", \"em\", \"em\", \"empire\", \"empire\", \"empire\", \"empire\", \"empire\", \"envelope\", \"envelope\", \"envelope\", \"envelope\", \"envelope\", \"envelope\", \"envelope\", \"envelope\", \"envelope\", \"envelope\", \"ep_ip\", \"eqmmr\", \"eqmmr\", \"eqmmr\", \"eqmmr\", \"eqmmr\", \"eqmmr_vd\", \"eqmmr_vd\", \"eqmmr_vd\", \"eqmmr_vd\", \"equant\", \"equant\", \"equigold\", \"equity\", \"equity\", \"equity\", \"equivalent_mmr\", \"equivalent_mmr\", \"equivalent_mmr\", \"equivalent_mmr\", \"equivalent_mmr\", \"equivalent_mmr\", \"error\", \"error\", \"error\", \"error\", \"error\", \"error\", \"error\", \"error\", \"escarpment\", \"estimate\", \"estimate\", \"estimate\", \"estimate\", \"estimate\", \"estimate\", \"estimate\", \"estimate\", \"estimate\", \"estimate\", \"estimation\", \"estimation\", \"estimation\", \"estimation\", \"estimation\", \"estimation\", \"estimation\", \"estimation\", \"estimation\", \"estimation\", \"euhedra\", \"evanston\", \"evanston\", \"excursion\", \"exploration\", \"exploration\", \"exploration\", \"exploration\", \"exploration\", \"exploration\", \"exploration\", \"exploration\", \"exploration\", \"exploration\", \"fault\", \"fault\", \"fault\", \"fault\", \"fault\", \"fault\", \"fault\", \"fault\", \"fault\", \"fault\", \"fax_email\", \"fax_email\", \"fax_email\", \"feldspar\", \"feldspar\", \"feldspar\", \"feldspar\", \"feldspar\", \"feldspar\", \"feldspar\", \"feldspar\", \"feldspar\", \"feldspar\", \"ferromagnesian\", \"ferromagnesian\", \"ferromagnesian\", \"ferromagnesian\", \"ferromagnesian_phenocryst\", \"ferromagnesian_phenocryst\", \"fibrous\", \"fibrous\", \"fibrous\", \"fibrous_sericite\", \"fibrous_sericite\", \"field\", \"field\", \"field\", \"field\", \"field\", \"field\", \"field\", \"field\", \"field\", \"field\", \"fifth\", \"fifth\", \"filter\", \"filter\", \"filter\", \"filter\", \"filter\", \"filter\", \"filter\", \"filter\", \"fine\", \"fine\", \"fine\", \"fine\", \"fine\", \"fine\", \"fine\", \"fine\", \"fine\", \"fine\", \"fine_grain\", \"fine_grain\", \"fine_grain\", \"fine_grain\", \"fine_grain\", \"fine_grain\", \"fine_grain\", \"fine_grain\", \"fine_grain\", \"fine_grain\", \"flake\", \"flake\", \"flake\", \"flight\", \"flight\", \"flight\", \"flight\", \"flight\", \"flight\", \"flight\", \"flight\", \"flight_path\", \"flora\", \"flora\", \"flora\", \"flora\", \"flora\", \"flora\", \"flora\", \"flora\", \"flora\", \"floristic\", \"flow\", \"flow\", \"flow\", \"flow\", \"flow\", \"flow\", \"flow\", \"flow\", \"flow\", \"flow\", \"fluid_conduit\", \"fly\", \"fly\", \"fly\", \"fly\", \"fly\", \"fly\", \"fly\", \"fly\", \"fly\", \"fly\", \"fmg\", \"fold\", \"fold\", \"fold\", \"fold\", \"fold\", \"fold\", \"fold\", \"fold\", \"fold\", \"fold\", \"foliate_granoblastic\", \"foliation\", \"foliation\", \"foliation\", \"foliation\", \"foliation\", \"foliation\", \"foliation\", \"foliation\", \"foliation\", \"foliation\", \"form\", \"form\", \"form\", \"form\", \"form\", \"form\", \"form\", \"form\", \"form\", \"form\", \"formation\", \"formation\", \"formation\", \"formation\", \"formation\", \"formation\", \"formation\", \"formation\", \"formation\", \"formation\", \"fortescue\", \"fortescue\", \"fortescue\", \"fortescue\", \"fortescue\", \"fortescue\", \"fortescue\", \"fortescue\", \"fortescue_group\", \"fortescue_group\", \"fortescue_group\", \"fortescue_group\", \"fortescue_group\", \"fortescue_group\", \"fortescue_group\", \"fortescue_group\", \"fraser\", \"fraser\", \"freeair_corrn\", \"freehold\", \"gabbroid\", \"gahnite\", \"gahnite\", \"gahnite\", \"gahnite\", \"galvanically\", \"galvanically\", \"galvanically\", \"geological\", \"geological\", \"geological\", \"geological\", \"geological\", \"geological\", \"geological\", \"geological\", \"geological\", \"geological\", \"geology\", \"geology\", \"geology\", \"geology\", \"geology\", \"geology\", \"geology\", \"geology\", \"geology\", \"geology\", \"geophysical\", \"geophysical\", \"geophysical\", \"geophysical\", \"geophysical\", \"geophysical\", \"geophysical\", \"geophysical\", \"geophysical\", \"geophysical\", \"goethite\", \"goethite\", \"goethite\", \"goethite\", \"goethite\", \"goethite\", \"goethite\", \"goethite\", \"goethite\", \"goethite\", \"gold\", \"gold\", \"gold\", \"gold\", \"gold\", \"gold\", \"gold\", \"gold\", \"gold\", \"gold\", \"golden_mile\", \"golder\", \"golder\", \"golder\", \"golder\", \"golder\", \"golder\", \"golder\", \"gondwana\", \"gondwana\", \"gps\", \"gps\", \"gps\", \"gps\", \"gps\", \"gps\", \"gps\", \"gps\", \"gps\", \"gps\", \"grade\", \"grade\", \"grade\", \"grade\", \"grade\", \"grade\", \"grade\", \"grade\", \"grade\", \"grade\", \"grain\", \"grain\", \"grain\", \"grain\", \"grain\", \"grain\", \"grain\", \"grain\", \"grain\", \"grain\", \"granoblastic\", \"gravity\", \"gravity\", \"gravity\", \"gravity\", \"gravity\", \"gravity\", \"gravity\", \"gravity\", \"gravity\", \"gravity\", \"greenfield\", \"greenfield\", \"greenfield\", \"greenstone\", \"greenstone\", \"greenstone\", \"greenstone\", \"greenstone\", \"greenstone\", \"greenstone\", \"greenstone\", \"greenstone\", \"greenstone\", \"greenstone_belt\", \"greenstone_belt\", \"greenstone_belt\", \"greenstone_belt\", \"greenstone_belt\", \"greenstone_belt\", \"greenstone_belt\", \"greenstone_belt\", \"greenstone_belt\", \"greenstone_belt\", \"griffin_find\", \"griffin_find\", \"griffin_find\", \"ground\", \"ground\", \"ground\", \"ground\", \"ground\", \"ground\", \"ground\", \"ground\", \"ground\", \"ground\", \"group\", \"group\", \"group\", \"group\", \"group\", \"group\", \"group\", \"group\", \"group\", \"group\", \"grow\", \"habitat\", \"habitat\", \"habitat\", \"habitat\", \"habitat\", \"habitat\", \"hall_creek\", \"hall_creek\", \"hall_creek\", \"hall_creek\", \"hall_creek\", \"hall_creek\", \"hamersley\", \"hamersley\", \"hamersley\", \"hamersley\", \"hamersley\", \"hamersley\", \"hamersley\", \"hamersley\", \"hamersley\", \"hamersley_basin\", \"hamersley_basin\", \"hamersley_basin\", \"hamersley_basin\", \"hamersley_basin\", \"hamersley_basin\", \"hamersley_basin\", \"hamersley_basin\", \"hardy\", \"haul_road\", \"haul_road\", \"haul_road\", \"haul_road\", \"haul_road\", \"haul_road\", \"haul_road\", \"haul_road\", \"haul_road\", \"hco\", \"headwater\", \"height\", \"height\", \"height\", \"height\", \"height\", \"height\", \"height\", \"height\", \"height\", \"helix\", \"helix\", \"helix\", \"helix\", \"helix\", \"helix\", \"helix\", \"helix\", \"helix\", \"heron\", \"heron\", \"heron\", \"heron\", \"heron\", \"heron\", \"heron\", \"heron\", \"high\", \"high\", \"high\", \"high\", \"high\", \"high\", \"high\", \"high\", \"high\", \"high\", \"hoatson_blake\", \"holder_rio\", \"hole\", \"hole\", \"hole\", \"hole\", \"hole\", \"hole\", \"hole\", \"hole\", \"hole\", \"hole\", \"hornblende\", \"hornblende\", \"hornblende\", \"hornblende\", \"hornblende\", \"hornblende\", \"hornblende\", \"host\", \"host\", \"host\", \"host\", \"host\", \"host\", \"host\", \"host\", \"host\", \"host\", \"human\", \"human\", \"human\", \"human\", \"hummock_grassland\", \"hummock_grassland\", \"hummock_grassland\", \"hummock_grassland\", \"hyperspectral\", \"ic\", \"ic\", \"icp\", \"ilmenite\", \"ilmenite\", \"ilmenite\", \"ilmenite\", \"ilmenite\", \"ilmenite\", \"ilmenite\", \"ilmenite\", \"image\", \"image\", \"image\", \"image\", \"image\", \"image\", \"image\", \"image\", \"image\", \"image\", \"impact\", \"impact\", \"impact\", \"impact\", \"impact\", \"impact\", \"impact\", \"impact\", \"impact\", \"inch_diameter\", \"include\", \"include\", \"include\", \"include\", \"include\", \"include\", \"include\", \"include\", \"include\", \"include\", \"incorrectly\", \"indistinct\", \"indistinct\", \"industrial\", \"information\", \"information\", \"information\", \"information\", \"information\", \"information\", \"information\", \"information\", \"information\", \"information\", \"instrument_drift\", \"integer_poss\", \"interpolation\", \"interpolation\", \"interpolation\", \"interpolation\", \"interpolation\", \"interpolation\", \"interpolation\", \"interpolation\", \"interpolation\", \"interpolation\", \"interpretation\", \"interpretation\", \"interpretation\", \"interpretation\", \"interpretation\", \"interpretation\", \"interpretation\", \"interpretation\", \"interpretation\", \"interpretation\", \"intersect\", \"intersect\", \"intersect\", \"intersect\", \"intersect\", \"intersect\", \"intersect\", \"intersect\", \"intersect\", \"intersect\", \"intrusion\", \"intrusion\", \"intrusion\", \"intrusion\", \"intrusion\", \"intrusion\", \"intrusion\", \"intrusion\", \"intrusion\", \"intrusion\", \"inverse_distance\", \"inverse_distance\", \"inverse_distance\", \"inverse_distance\", \"inverse_distance\", \"inverse_distance\", \"iron\", \"iron\", \"iron\", \"iron\", \"iron\", \"iron\", \"iron\", \"iron\", \"iron\", \"iron\", \"irwin_river\", \"irwin_river\", \"isotope_whole\", \"issue\", \"issue\", \"issue\", \"issue\", \"issue\", \"issue\", \"issue\", \"issue\", \"issue\", \"jack\", \"jack\", \"jillawarra\", \"jubilee_mines\", \"jubilee_mines\", \"jundee\", \"jundee\", \"jundee\", \"jundee\", \"kalgoorlie\", \"kalgoorlie\", \"kalgoorlie\", \"kalgoorlie\", \"kalgoorlie\", \"kalgoorlie\", \"kalgoorlie\", \"kalgoorlie\", \"kalgoorlie\", \"kalgoorlie\", \"kalpini\", \"kimberley\", \"kimberley\", \"kimberley\", \"kimberley\", \"kimberley\", \"kimberley\", \"kimberley\", \"kimberley\", \"kimberley\", \"kimberley\", \"kimberlitic\", \"kimberlitic\", \"kimberlitic_indicator\", \"km\", \"km\", \"km\", \"km\", \"km\", \"km\", \"km\", \"km\", \"km\", \"km\", \"komatiite\", \"komatiite\", \"komatiite\", \"komatiite\", \"komatiite\", \"komatiite\", \"komatiite\", \"komatiite\", \"komatiite\", \"komatiite\", \"krige\", \"krige\", \"krige_weight\", \"kunanalle\", \"kunanalle\", \"kunanalle\", \"kunanalle\", \"lake_carey\", \"lake_carey\", \"lake_carey\", \"lake_carey\", \"lake_carey\", \"lake_johnston\", \"lake_johnston\", \"lake_johnston\", \"lake_johnston\", \"lamboo\", \"lamboo\", \"lamboo\", \"lamboo\", \"lamil_group\", \"lamil_group\", \"laminae\", \"laminae\", \"laminae\", \"laminae\", \"lamproite\", \"lamproite\", \"lancefield\", \"lancefield\", \"lancefield\", \"laverton\", \"laverton\", \"laverton\", \"laverton\", \"laverton\", \"laverton\", \"laverton\", \"laverton\", \"laverton\", \"leachwell\", \"leapfrog\", \"li\", \"li\", \"li\", \"li\", \"li\", \"life\", \"life\", \"life\", \"life\", \"life\", \"life\", \"life\", \"lindsay\", \"lindsay\", \"lindsay\", \"line\", \"line\", \"line\", \"line\", \"line\", \"line\", \"line\", \"line\", \"line\", \"line\", \"lionore\", \"lionore\", \"lionore\", \"lionore\", \"lionore\", \"lionore\", \"lionore\", \"lionore\", \"locate\", \"locate\", \"locate\", \"locate\", \"locate\", \"locate\", \"locate\", \"locate\", \"locate\", \"locate\", \"location\", \"location\", \"location\", \"location\", \"location\", \"location\", \"location\", \"location\", \"location\", \"location\", \"lode\", \"lode\", \"lode\", \"lode\", \"lode\", \"lode\", \"lode\", \"lode\", \"lode\", \"lode\", \"loop\", \"loop\", \"loop\", \"loop\", \"loop\", \"loop\", \"loop\", \"loop\", \"loop\", \"low\", \"low\", \"low\", \"low\", \"low\", \"low\", \"low\", \"low\", \"low\", \"low\", \"ltd\", \"ltd\", \"ltd\", \"ltd\", \"ltd\", \"ltd\", \"ltd\", \"ltd\", \"ltd\", \"ltd\", \"mackay_schnellmann\", \"mackay_schnellmann\", \"mackay_schnellmann\", \"mackay_schnellmann\", \"mackay_schnellmann\", \"mafic\", \"mafic\", \"mafic\", \"mafic\", \"mafic\", \"mafic\", \"mafic\", \"mafic\", \"mafic\", \"mafic\", \"maficultramafic_intrusion\", \"magellan\", \"maggie_hay\", \"maggie_hay\", \"maggie_hay\", \"maggie_hay\", \"maggie_hay\", \"maglag\", \"maglag\", \"magmatic\", \"magmatic\", \"magmatic\", \"magmatic\", \"magmatic\", \"magmatic\", \"magmatic\", \"magmatic\", \"magmatic\", \"magnetic\", \"magnetic\", \"magnetic\", \"magnetic\", \"magnetic\", \"magnetic\", \"magnetic\", \"magnetic\", \"magnetic\", \"magnetic\", \"magnetite\", \"magnetite\", \"magnetite\", \"magnetite\", \"magnetite\", \"magnetite\", \"magnetite\", \"magnetite\", \"magnetite\", \"magnetite\", \"magnetometer\", \"magnetometer\", \"magnetometer\", \"magnetometer\", \"magnetometer\", \"magnetometer\", \"magnetometer\", \"magnetometer\", \"map\", \"map\", \"map\", \"map\", \"map\", \"map\", \"map\", \"map\", \"map\", \"map\", \"marble\", \"marble\", \"marble\", \"margaret\", \"margaret\", \"margaret\", \"margaret\", \"margaret\", \"margaret\", \"margaret\", \"margaret\", \"market\", \"market\", \"market\", \"market\", \"market\", \"market\", \"market\", \"market\", \"martite\", \"martite\", \"marvel_loch\", \"marvel_loch\", \"marvel_loch\", \"mason_geoscience\", \"mason_geoscience\", \"mason_geoscience\", \"masse\", \"masse\", \"masse\", \"masse\", \"masse\", \"masse\", \"mat\", \"material\", \"material\", \"material\", \"material\", \"material\", \"material\", \"material\", \"material\", \"material\", \"material\", \"matrix\", \"matrix\", \"matrix\", \"matrix\", \"matrix\", \"matrix\", \"matrix\", \"matrix\", \"matrix\", \"matrix\", \"matter\", \"matter\", \"matter\", \"matter\", \"matter\", \"matter\", \"matter\", \"matter\", \"may\", \"may\", \"may\", \"may\", \"may\", \"may\", \"may\", \"may\", \"may\", \"may\", \"mcintosh\", \"member\", \"member\", \"member\", \"member\", \"member\", \"member\", \"member\", \"member\", \"member\", \"member\", \"mercator\", \"mercator\", \"mercator\", \"mercator\", \"mercator\", \"mercator\", \"mercator\", \"mercator\", \"mesa\", \"mesa\", \"metamorphic\", \"metamorphic\", \"metamorphic\", \"metamorphic\", \"metamorphic\", \"metamorphic\", \"metamorphic\", \"metamorphic\", \"metamorphic\", \"metamorphic\", \"metex\", \"metex\", \"metex\", \"metex\", \"metex_resources\", \"metre\", \"metre\", \"metre\", \"metre\", \"metre\", \"metre\", \"metre\", \"metre\", \"metre\", \"metre\", \"mgo\", \"mgo\", \"mgo\", \"mgo\", \"mgo\", \"mgo\", \"mgo\", \"mgo\", \"mgo\", \"mgo\", \"micritic_carbonate\", \"micritic_carbonate\", \"microcline\", \"mill\", \"mill\", \"mill\", \"mill\", \"mill\", \"mill\", \"mill\", \"mill\", \"mill\", \"mill\", \"mine\", \"mine\", \"mine\", \"mine\", \"mine\", \"mine\", \"mine\", \"mine\", \"mine\", \"mine\", \"mineral\", \"mineral\", \"mineral\", \"mineral\", \"mineral\", \"mineral\", \"mineral\", \"mineral\", \"mineral\", \"mineral\", \"mineralisation\", \"mineralisation\", \"mineralisation\", \"mineralisation\", \"mineralisation\", \"mineralisation\", \"mineralisation\", \"mineralisation\", \"mineralisation\", \"mineralisation\", \"mineralise\", \"mineralise\", \"mineralise\", \"mineralise\", \"mineralise\", \"mineralise\", \"mineralise\", \"mineralise\", \"mineralise\", \"mineralise\", \"mining\", \"mining\", \"mining\", \"mining\", \"mining\", \"mining\", \"mining\", \"mining\", \"mining\", \"mining\", \"minor\", \"minor\", \"minor\", \"minor\", \"minor\", \"minor\", \"minor\", \"minor\", \"minor\", \"minor\", \"mlem\", \"mmr\", \"mmr\", \"mmr\", \"mmr\", \"mmr\", \"mmr\", \"model\", \"model\", \"model\", \"model\", \"model\", \"model\", \"model\", \"model\", \"model\", \"model\", \"monitoring\", \"monitoring\", \"monitoring\", \"monitoring\", \"monitoring\", \"monitoring\", \"monitoring\", \"monitoring\", \"monzonite\", \"mt_celia\", \"mt_venn\", \"mt_venn\", \"mt_venn\", \"mud_rotary\", \"mulgabbie\", \"mulgabbie\", \"mulgabbie\", \"multi_client\", \"multi_client\", \"multi_client\", \"multi_client\", \"murchison\", \"murchison\", \"murchison\", \"murchison\", \"murchison\", \"murchison\", \"murchison\", \"murchison\", \"murchison\", \"murrin_murrin\", \"nadl\", \"nammuldi_member\", \"navigation\", \"navigation\", \"navigation\", \"neehoff\", \"newman_member\", \"newman_member\", \"newmont\", \"newmont\", \"newmont\", \"newmont\", \"newmont\", \"newmont\", \"newmont\", \"newmont\", \"newmont\", \"newmont\", \"ni\", \"ni\", \"ni\", \"ni\", \"ni\", \"ni\", \"ni\", \"ni\", \"ni\", \"ni\", \"nickel\", \"nickel\", \"nickel\", \"nickel\", \"nickel\", \"nickel\", \"nickel\", \"nickel\", \"nickel\", \"nickel\", \"nifty\", \"nifty\", \"nifty\", \"noganyer_formation\", \"noganyer_formation\", \"norseman\", \"norseman\", \"norseman\", \"norseman\", \"norseman\", \"norseman\", \"norseman\", \"norseman\", \"norseman\", \"north\", \"north\", \"north\", \"north\", \"north\", \"north\", \"north\", \"north\", \"north\", \"north\", \"object\", \"object\", \"object\", \"object\", \"object\", \"occur\", \"occur\", \"occur\", \"occur\", \"occur\", \"occur\", \"occur\", \"occur\", \"occur\", \"occur\", \"ocean_reef\", \"october\", \"october\", \"october\", \"october\", \"october\", \"october\", \"october\", \"october\", \"october\", \"october\", \"olivine_cumulate\", \"olivine_cumulate\", \"olivine_cumulate\", \"olivine_cumulate\", \"olivine_cumulate\", \"olivine_orthocumulate\", \"opaque\", \"opaque\", \"opaque\", \"opaque\", \"opaque\", \"opaque\", \"opaque\", \"open_shrubland\", \"open_shrubland\", \"open_woodland\", \"open_woodland\", \"optimisation\", \"optimisation\", \"optimisation\", \"optimisation\", \"optimisation\", \"optimisation\", \"optimisation\", \"optimisation\", \"optimisation\", \"optimisation\", \"ordinary_krige\", \"ordinary_krige\", \"ordinary_krige\", \"ordinary_krige\", \"ore\", \"ore\", \"ore\", \"ore\", \"ore\", \"ore\", \"ore\", \"ore\", \"ore\", \"ore\", \"organisation_bulletin\", \"orthopyroxene\", \"orthopyroxene\", \"orthopyroxene\", \"orthopyroxene\", \"outokumpu\", \"outokumpu\", \"overview_archaean\", \"overview_archaean\", \"owner_copyright\", \"page\", \"page\", \"page\", \"page\", \"page\", \"page\", \"page\", \"page\", \"page\", \"page\", \"pale_yellow\", \"pale_yellow\", \"pancontinental\", \"panel\", \"panel\", \"panel\", \"pannawonica\", \"panton\", \"panton\", \"paraburdoo\", \"paraburdoo\", \"paraburdoo\", \"paraburdoo\", \"parallax\", \"parker_range\", \"parker_range\", \"parker_range\", \"parker_range\", \"parker_range\", \"parker_range\", \"paterson_tarnwood\", \"payable\", \"payable\", \"pb_sb\", \"pb_zircon\", \"pdf_pdf\", \"pdf_pdf\", \"pdf_pdf\", \"pdf_pdf\", \"pdf_pdf\", \"pebbly\", \"pegmatite\", \"pegmatite\", \"pegmatite\", \"pegmatite\", \"pegmatite\", \"pegmatite\", \"pegmatite\", \"pegmatite\", \"pegmatite\", \"penetrative_schistosity\", \"penneshaw_formation\", \"people\", \"people\", \"people\", \"people\", \"people\", \"people\", \"people\", \"person\", \"person\", \"person\", \"person\", \"person\", \"person\", \"person\", \"person\", \"pfinder_bigpond\", \"pge\", \"pge\", \"pge\", \"pge\", \"pge\", \"pge\", \"pge\", \"pge\", \"pge\", \"pgm\", \"pgm\", \"pgm\", \"pgm\", \"pgm\", \"pgm\", \"phenocryst\", \"phenocryst\", \"phenocryst\", \"phenocryst\", \"phenocryst\", \"phenocryst\", \"phenocryst\", \"phenocryst\", \"photograph_diagram\", \"photography_landsat\", \"photography_landsat\", \"photography_landsat\", \"pilbara\", \"pilbara\", \"pilbara\", \"pilbara\", \"pilbara\", \"pilbara\", \"pilbara\", \"pilbara\", \"pilbara\", \"pilbara\", \"pit\", \"pit\", \"pit\", \"pit\", \"pit\", \"pit\", \"pit\", \"pit\", \"pit\", \"pit\", \"plagioclase\", \"plagioclase\", \"plagioclase\", \"plagioclase\", \"plagioclase\", \"plagioclase\", \"plagioclase\", \"plagioclase\", \"plagioclase\", \"plagioclase\", \"plain\", \"plain\", \"plain\", \"plain\", \"plain\", \"plain\", \"plain\", \"plain\", \"plain\", \"plain\", \"plant\", \"plant\", \"plant\", \"plant\", \"plant\", \"plant\", \"plant\", \"plant\", \"plant\", \"plant\", \"plant_community\", \"plant_community\", \"plant_community\", \"plant_community\", \"platy\", \"platy\", \"platy\", \"platy\", \"poaceae\", \"poikiloblastic\", \"polaris\", \"polaris\", \"polaris\", \"polaris\", \"polaris\", \"polaris\", \"polaris\", \"polaris\", \"polaris\", \"polish_thin\", \"polish_thin\", \"polished_thin\", \"poseidon\", \"poseidon\", \"potential\", \"potential\", \"potential\", \"potential\", \"potential\", \"potential\", \"potential\", \"potential\", \"potential\", \"potential\", \"powder_sill\", \"ppb\", \"ppb\", \"ppb\", \"ppb\", \"ppb\", \"ppb\", \"ppb\", \"ppb\", \"ppb\", \"ppb\", \"precursor\", \"precursor\", \"precursor\", \"precursor\", \"precursor\", \"primary\", \"primary\", \"primary\", \"primary\", \"primary\", \"primary\", \"primary\", \"primary\", \"primary\", \"primary\", \"prior_consent\", \"prismatic\", \"procedure_instrumentation\", \"procedure_instrumentation\", \"procedure_instrumentation\", \"process\", \"process\", \"process\", \"process\", \"process\", \"process\", \"process\", \"process\", \"process\", \"process\", \"processing\", \"processing\", \"processing\", \"processing\", \"processing\", \"processing\", \"processing\", \"processing\", \"processing\", \"processing\", \"project\", \"project\", \"project\", \"project\", \"project\", \"project\", \"project\", \"project\", \"project\", \"project\", \"propose\", \"propose\", \"propose\", \"propose\", \"propose\", \"propose\", \"propose\", \"propose\", \"propose\", \"propose\", \"prospect\", \"prospect\", \"prospect\", \"prospect\", \"prospect\", \"prospect\", \"prospect\", \"prospect\", \"prospect\", \"prospect\", \"pt_pd\", \"pt_pd\", \"pt_pd\", \"pt_pd\", \"pt_pd\", \"pt_pd\", \"pt_pd\", \"pt_pd\", \"ptilotus\", \"pty\", \"pty\", \"pty\", \"pty\", \"pty\", \"pty\", \"pty\", \"pty\", \"pty\", \"pty\", \"py\", \"py\", \"py\", \"py\", \"py\", \"py\", \"pyrite\", \"pyrite\", \"pyrite\", \"pyrite\", \"pyrite\", \"pyrite\", \"pyrite\", \"pyrite\", \"pyrite\", \"pyrite\", \"pyroxene_spinifex\", \"pyroxenitic\", \"pyrrhotite\", \"pyrrhotite\", \"pyrrhotite\", \"pyrrhotite\", \"pyrrhotite\", \"pyrrhotite\", \"pyrrhotite\", \"pyrrhotite\", \"pyrrhotite\", \"pyrrhotite\", \"quadrat\", \"quadrat\", \"quartz\", \"quartz\", \"quartz\", \"quartz\", \"quartz\", \"quartz\", \"quartz\", \"quartz\", \"quartz\", \"quartz\", \"rab\", \"rab\", \"rab\", \"rab\", \"rab\", \"rab\", \"rab\", \"rab\", \"rab\", \"rab\", \"radar_altimeter\", \"radiation\", \"radiometric\", \"radiometric\", \"radiometric\", \"radiometric\", \"radiometric\", \"radiometric\", \"radiometric\", \"radiometric\", \"radiometric\", \"radiometric\", \"ragged\", \"randell\", \"range\", \"range\", \"range\", \"range\", \"range\", \"range\", \"range\", \"range\", \"range\", \"range\", \"rankin\", \"rc\", \"rc\", \"rc\", \"rc\", \"rc\", \"rc\", \"rc\", \"rc\", \"rc\", \"rc\", \"rcdd\", \"reading\", \"reading\", \"reading\", \"reading\", \"reading\", \"reading\", \"reading\", \"reading\", \"reading\", \"reading\", \"reconnaissance\", \"reconnaissance\", \"reconnaissance\", \"reconnaissance\", \"reconnaissance\", \"reconnaissance\", \"reconnaissance\", \"reconnaissance\", \"reconnaissance\", \"reconnaissance\", \"record\", \"record\", \"record\", \"record\", \"record\", \"record\", \"record\", \"record\", \"record\", \"record\", \"regional\", \"regional\", \"regional\", \"regional\", \"regional\", \"regional\", \"regional\", \"regional\", \"regional\", \"regional\", \"rely_upon\", \"rely_upon\", \"remote_sense\", \"replacement\", \"replacement\", \"replacement\", \"replacement\", \"replacement\", \"replacement\", \"replacement\", \"replacement\", \"replacement\", \"replacement\", \"report\", \"report\", \"report\", \"report\", \"report\", \"report\", \"report\", \"report\", \"report\", \"report\", \"require\", \"require\", \"require\", \"require\", \"require\", \"require\", \"require\", \"require\", \"require\", \"require\", \"resolution\", \"resolution\", \"resolution\", \"resolution\", \"resolution\", \"resolution\", \"resolution\", \"resolution\", \"resolution\", \"resolution\", \"resource\", \"resource\", \"resource\", \"resource\", \"resource\", \"resource\", \"resource\", \"resource\", \"resource\", \"resource\", \"result\", \"result\", \"result\", \"result\", \"result\", \"result\", \"result\", \"result\", \"result\", \"result\", \"revise_dwg\", \"rich\", \"rich\", \"rich\", \"rich\", \"rich\", \"rich\", \"rich\", \"rich\", \"rich\", \"rich\", \"right\", \"right\", \"right\", \"right\", \"right\", \"right\", \"right\", \"right\", \"right\", \"right\", \"rio_tinto\", \"rio_tinto\", \"rio_tinto\", \"rio_tinto\", \"rio_tinto\", \"rio_tinto\", \"rio_tinto\", \"risk\", \"risk\", \"risk\", \"risk\", \"risk\", \"risk\", \"risk\", \"risk\", \"risk\", \"robe_pisolite\", \"robe_pisolite\", \"robe_pisolite\", \"robe_pisolite\", \"robe_pisolite\", \"robe_pisolite\", \"robe_pisolite\", \"roberts\", \"rock\", \"rock\", \"rock\", \"rock\", \"rock\", \"rock\", \"rock\", \"rock\", \"rock\", \"rock\", \"rocklea_dome\", \"rom_pad\", \"rte\", \"rte\", \"rte\", \"rte\", \"rte\", \"rudall_complex\", \"rudall_complex\", \"rutile\", \"rutile\", \"rutile\", \"rutile\", \"safe\", \"safe\", \"safe\", \"saint_barbara\", \"sally_malay\", \"sam\", \"sam\", \"sam\", \"sam\", \"sam\", \"sam\", \"sam\", \"sam\", \"sam\", \"sample\", \"sample\", \"sample\", \"sample\", \"sample\", \"sample\", \"sample\", \"sample\", \"sample\", \"sample\", \"sandplain\", \"sandstone\", \"sandstone\", \"sandstone\", \"sandstone\", \"sandstone\", \"sandstone\", \"sandstone\", \"sandstone\", \"sandstone\", \"sandstone\", \"scaly\", \"scatter\", \"scatter\", \"scatter\", \"scatter\", \"scatter\", \"scatter\", \"scatter\", \"scatter\", \"scatter\", \"scatter\", \"schlieren\", \"schlieren\", \"seam\", \"seam\", \"seam\", \"seam\", \"seam\", \"search_strategy\", \"security\", \"security\", \"security\", \"security\", \"sediment\", \"sediment\", \"sediment\", \"sediment\", \"sediment\", \"sediment\", \"sediment\", \"sediment\", \"sediment\", \"sediment\", \"seismic_reflection\", \"seismic_reflection\", \"seismic_reflection\", \"seismic_refraction\", \"seismic_refraction\", \"seismic_refraction\", \"selectivity\", \"sem\", \"senna_glutinosa\", \"sensitivity_nt\", \"sequence\", \"sequence\", \"sequence\", \"sequence\", \"sequence\", \"sequence\", \"sequence\", \"sequence\", \"sequence\", \"sequence\", \"series_explanatory\", \"series_explanatory\", \"series_explanatory\", \"series_explanatory\", \"series_explanatory\", \"series_explanatory\", \"sf\", \"sf\", \"sgc\", \"sgc\", \"shaw\", \"shaw\", \"shaw\", \"shear\", \"shear\", \"shear\", \"shear\", \"shear\", \"shear\", \"shear\", \"shear\", \"shear\", \"shear\", \"sherwood\", \"sherwood\", \"sherwood\", \"show\", \"show\", \"show\", \"show\", \"show\", \"show\", \"show\", \"show\", \"show\", \"show\", \"shrub\", \"shrub\", \"shrub\", \"shrub\", \"shrub\", \"shrub\", \"shrub\", \"shrub\", \"shrubland\", \"shrubland\", \"shrubland\", \"shrubland\", \"shrubland\", \"shrubland\", \"sillimanite\", \"sipa\", \"sipa\", \"sipa\", \"sipa\", \"sipa\", \"sipa\", \"sipa\", \"sipa\", \"site\", \"site\", \"site\", \"site\", \"site\", \"site\", \"site\", \"site\", \"site\", \"site\", \"slope\", \"slope\", \"slope\", \"slope\", \"slope\", \"slope\", \"slope\", \"slope\", \"slope\", \"slope\", \"slope_regression\", \"small\", \"small\", \"small\", \"small\", \"small\", \"small\", \"small\", \"small\", \"small\", \"small\", \"sn\", \"sn\", \"sn\", \"sn\", \"sn\", \"snake\", \"soil\", \"soil\", \"soil\", \"soil\", \"soil\", \"soil\", \"soil\", \"soil\", \"soil\", \"soil\", \"solanaceae\", \"solanum\", \"solanum\", \"solanum\", \"south\", \"south\", \"south\", \"south\", \"south\", \"south\", \"south\", \"south\", \"south\", \"south\", \"sp_ap\", \"spargoville\", \"spargoville\", \"specie\", \"specie\", \"specie\", \"specie\", \"specie\", \"specie\", \"specie\", \"specie\", \"specie\", \"species\", \"species\", \"species\", \"species\", \"species\", \"species\", \"species\", \"species\", \"species\", \"specify\", \"specify\", \"specify\", \"specify\", \"specify\", \"specify\", \"specify\", \"specify\", \"spectrometer\", \"spectrometer\", \"spectrometer\", \"spectrometer\", \"sphalerite\", \"sphalerite\", \"sphalerite\", \"sphalerite\", \"sphalerite\", \"sphalerite\", \"sphalerite\", \"sphene\", \"sphene\", \"spinel\", \"spot_mss\", \"spot_mss\", \"station\", \"station\", \"station\", \"station\", \"station\", \"station\", \"station\", \"station\", \"station\", \"station\", \"stillwater_complex\", \"stn\", \"stn\", \"stn\", \"stn\", \"strain\", \"strain\", \"strain\", \"strain\", \"strain\", \"strain\", \"stringer\", \"stringer\", \"stringer\", \"stringer\", \"stringer\", \"stringer\", \"stringer\", \"strobe_pulse\", \"structure\", \"structure\", \"structure\", \"structure\", \"structure\", \"structure\", \"structure\", \"structure\", \"structure\", \"structure\", \"study\", \"study\", \"study\", \"study\", \"study\", \"study\", \"study\", \"study\", \"study\", \"study\", \"sub_audio\", \"sub_audio\", \"sub_audio\", \"sub_audio\", \"sub_audio\", \"sub_audio\", \"sub_audio\", \"sub_audio\", \"subsidiary_sipa\", \"subsp\", \"subsp\", \"subsp\", \"subsp\", \"subsp\", \"subsp\", \"subsp\", \"suffer\", \"suffer\", \"suffer\", \"suffer\", \"suffer\", \"suffer\", \"suffer\", \"sulphide\", \"sulphide\", \"sulphide\", \"sulphide\", \"sulphide\", \"sulphide\", \"sulphide\", \"sulphide\", \"sulphide\", \"sulphide\", \"supply\", \"supply\", \"supply\", \"supply\", \"supply\", \"supply\", \"supply\", \"supply\", \"supply\", \"supply\", \"survey\", \"survey\", \"survey\", \"survey\", \"survey\", \"survey\", \"survey\", \"survey\", \"survey\", \"survey\", \"symbol\", \"system\", \"system\", \"system\", \"system\", \"system\", \"system\", \"system\", \"system\", \"system\", \"system\", \"table\", \"table\", \"table\", \"table\", \"table\", \"table\", \"table\", \"table\", \"table\", \"table\", \"target\", \"target\", \"target\", \"target\", \"target\", \"target\", \"target\", \"target\", \"target\", \"target\", \"taxa\", \"taxa\", \"taxa\", \"taxa\", \"taxa\", \"taxa\", \"teck_cominco\", \"teck_cominco\", \"teck_cominco\", \"teck_cominco\", \"teck_cominco\", \"tek\", \"tek\", \"tek\", \"tek\", \"tek\", \"tek\", \"tek\", \"tek_proprietary\", \"tek_proprietary\", \"tek_proprietary\", \"telegraph\", \"telfer\", \"telfer\", \"telfer\", \"telfer\", \"telfer\", \"telfer\", \"telfer\", \"telfer\", \"telfer\", \"telfer\", \"tem\", \"tem\", \"tem\", \"tem\", \"tem\", \"tem\", \"tem\", \"tem\", \"tem\", \"temporal_electromagnetic\", \"tenement\", \"tenement\", \"tenement\", \"tenement\", \"tenement\", \"tenement\", \"tenement\", \"tenement\", \"tenement\", \"tenement\", \"terrain_clearance\", \"terrain_clearance\", \"terrain_clearance\", \"terrain_clearance\", \"terrain_clearance\", \"terrain_modelling\", \"terrain_modelling\", \"terrain_modelling\", \"terrain_modelling\", \"terrane\", \"terrane\", \"terrane\", \"terrane\", \"terrane\", \"terrane\", \"terrane\", \"terrane\", \"terrane\", \"terrane_kurnalpi\", \"terrane_kurnalpi\", \"terrane_kurnalpi\", \"texture\", \"texture\", \"texture\", \"texture\", \"texture\", \"texture\", \"texture\", \"texture\", \"texture\", \"texture\", \"tfmmr\", \"tfmmr\", \"tfmmr\", \"tfmmr\", \"tfmmr\", \"tfmmr\", \"tfmmr\", \"tfmmr\", \"th\", \"th\", \"th\", \"th\", \"th\", \"th\", \"th\", \"th\", \"th\", \"th\", \"thorne_trendall\", \"thorne_trendall\", \"thorne_trendall\", \"threaten_ecological\", \"tickalara_metamorphic\", \"tie\", \"tie\", \"tie\", \"tie\", \"tie\", \"tie\", \"tie\", \"tie\", \"tier\", \"time\", \"time\", \"time\", \"time\", \"time\", \"time\", \"time\", \"time\", \"time\", \"time\", \"tinto\", \"tiny\", \"tip\", \"tm_magnetometer\", \"tm_magnetometer\", \"tom_price\", \"tourmaline\", \"tourmaline\", \"tourmaline\", \"tourmaline\", \"tourmaline\", \"tourmaline\", \"tourmaline\", \"trace\", \"trace\", \"trace\", \"trace\", \"trace\", \"trace\", \"trace\", \"trace\", \"trace\", \"trace\", \"track\", \"track\", \"track\", \"track\", \"track\", \"track\", \"track\", \"track\", \"track\", \"track\", \"transmit_publish\", \"transmitter_controller\", \"transmitter_controller\", \"transmitter_controller\", \"treatment_plant\", \"treatment_plant\", \"treatment_plant\", \"treatment_plant\", \"tree\", \"tree\", \"tree\", \"tree\", \"tree\", \"tree\", \"tree\", \"tree\", \"tree\", \"trend\", \"trend\", \"trend\", \"trend\", \"trend\", \"trend\", \"trend\", \"trend\", \"trend\", \"trend\", \"trident\", \"trigger\", \"trimble\", \"trimble\", \"trimble\", \"trimble\", \"trimble\", \"trimble\", \"tube\", \"type\", \"type\", \"type\", \"type\", \"type\", \"type\", \"type\", \"type\", \"type\", \"type\", \"ultramafic\", \"ultramafic\", \"ultramafic\", \"ultramafic\", \"ultramafic\", \"ultramafic\", \"ultramafic\", \"ultramafic\", \"ultramafic\", \"ultramafic\", \"unauthorise_prohibit\", \"unauthorise_prohibit\", \"underground\", \"underground\", \"underground\", \"underground\", \"underground\", \"underground\", \"underground\", \"underground\", \"underground\", \"underground\", \"undertake\", \"undertake\", \"undertake\", \"undertake\", \"undertake\", \"undertake\", \"undertake\", \"undertake\", \"undertake\", \"undertake\", \"unit\", \"unit\", \"unit\", \"unit\", \"unit\", \"unit\", \"unit\", \"unit\", \"unit\", \"unit\", \"uranium\", \"uranium\", \"uranium\", \"uranium\", \"uranium\", \"uranium\", \"uranium\", \"uranium\", \"use\", \"use\", \"use\", \"use\", \"use\", \"use\", \"use\", \"use\", \"use\", \"use\", \"used_purpose\", \"ut\", \"uts\", \"uts\", \"uts\", \"uts\", \"validation\", \"validation\", \"validation\", \"validation\", \"validation\", \"validation\", \"validation\", \"validation\", \"validation\", \"validation\", \"value\", \"value\", \"value\", \"value\", \"value\", \"value\", \"value\", \"value\", \"value\", \"value\", \"var\", \"var\", \"var\", \"var\", \"var\", \"var\", \"variogram\", \"variogram\", \"variogram\", \"variogram\", \"variogram\", \"variogram\", \"variogram\", \"variogram\", \"variogram\", \"variography\", \"variography\", \"variography\", \"variography\", \"variography\", \"variography\", \"vegetation\", \"vegetation\", \"vegetation\", \"vegetation\", \"vegetation\", \"vegetation\", \"vegetation\", \"vegetation\", \"vegetation\", \"vegetation\", \"vein\", \"vein\", \"vein\", \"vein\", \"vein\", \"vein\", \"vein\", \"vein\", \"vein\", \"vein\", \"vesicular_amygdaloidal\", \"vesicular_amygdaloidal\", \"vesicular_amygdaloidal\", \"voisey_bay\", \"volcanic\", \"volcanic\", \"volcanic\", \"volcanic\", \"volcanic\", \"volcanic\", \"volcanic\", \"volcanic\", \"volcanic\", \"volcanic\", \"wa_phone\", \"wa_phone\", \"wa_phone\", \"wa_phone\", \"wa_phone\", \"wag\", \"wall\", \"wall\", \"wall\", \"wall\", \"wall\", \"wall\", \"wall\", \"wall\", \"wall\", \"wall\", \"wap\", \"wap\", \"warning\", \"warning\", \"warning\", \"warning_coordinate\", \"waste_dump\", \"waste_dump\", \"waste_dump\", \"waste_dump\", \"waste_dump\", \"waste_dump\", \"waste_dump\", \"waste_dump\", \"water_biogeochemistry\", \"web_www\", \"web_www\", \"weed\", \"weed\", \"weed\", \"weighting\", \"west\", \"west\", \"west\", \"west\", \"west\", \"west\", \"west\", \"west\", \"west\", \"west\", \"western\", \"western\", \"western\", \"western\", \"western\", \"western\", \"western\", \"western\", \"western\", \"western\", \"whaleback\", \"wire_firmly\", \"wire_firmly\", \"wire_firmly\", \"wireframe\", \"wireframe\", \"wireframe\", \"wireframe\", \"wireframe\", \"wireframe\", \"wireframe\", \"wireframe\", \"wireframe\", \"wireframe\", \"within\", \"within\", \"within\", \"within\", \"within\", \"within\", \"within\", \"within\", \"within\", \"within\", \"without_consent\", \"without_limitation\", \"woodline\", \"woody\", \"woody\", \"woolyeenyer_formation\", \"work\", \"work\", \"work\", \"work\", \"work\", \"work\", \"work\", \"work\", \"work\", \"work\", \"wyloo_dome\", \"wyloo_dome\", \"wyloo_dome\", \"xyz_format\", \"yaloginda\", \"yaloginda\", \"yarraloola\", \"yarri\", \"yeneena\", \"yeneena\", \"yeneena\", \"yeneena\", \"yeneena_supergroup\", \"yeneena_supergroup\", \"yilgangi\", \"yilgarn_craton\", \"yilgarn_craton\", \"yilgarn_craton\", \"yilgarn_craton\", \"yilgarn_craton\", \"yilgarn_craton\", \"yilgarn_craton\", \"yilgarn_craton\", \"yilgarn_craton\", \"youanmi\", \"youanmi\", \"youanmi\", \"youanmi\", \"youanmi\", \"zircon\", \"zircon\", \"zircon\", \"zircon\", \"zircon\", \"zn\", \"zn\", \"zn\", \"zn\", \"zn\", \"zn\", \"zn\", \"zn\", \"zn\", \"zn\", \"zone\", \"zone\", \"zone\", \"zone\", \"zone\", \"zone\", \"zone\", \"zone\", \"zone\", \"zone\"]}, \"R\": 30, \"lambda.step\": 0.01, \"plot.opts\": {\"xlab\": \"PC1\", \"ylab\": \"PC2\"}, \"topic.order\": [1, 4, 2, 6, 5, 10, 7, 8, 9, 3]};\n",
       "\n",
       "function LDAvis_load_lib(url, callback){\n",
       "  var s = document.createElement('script');\n",
       "  s.src = url;\n",
       "  s.async = true;\n",
       "  s.onreadystatechange = s.onload = callback;\n",
       "  s.onerror = function(){console.warn(\"failed to load library \" + url);};\n",
       "  document.getElementsByTagName(\"head\")[0].appendChild(s);\n",
       "}\n",
       "\n",
       "if(typeof(LDAvis) !== \"undefined\"){\n",
       "   // already loaded: just create the visualization\n",
       "   !function(LDAvis){\n",
       "       new LDAvis(\"#\" + \"ldavis_el551213708253664326786981724\", ldavis_el551213708253664326786981724_data);\n",
       "   }(LDAvis);\n",
       "}else if(typeof define === \"function\" && define.amd){\n",
       "   // require.js is available: use it to load d3/LDAvis\n",
       "   require.config({paths: {d3: \"https://d3js.org/d3.v5\"}});\n",
       "   require([\"d3\"], function(d3){\n",
       "      window.d3 = d3;\n",
       "      LDAvis_load_lib(\"https://cdn.jsdelivr.net/gh/bmabey/pyLDAvis@3.3.1/pyLDAvis/js/ldavis.v3.0.0.js\", function(){\n",
       "        new LDAvis(\"#\" + \"ldavis_el551213708253664326786981724\", ldavis_el551213708253664326786981724_data);\n",
       "      });\n",
       "    });\n",
       "}else{\n",
       "    // require.js not available: dynamically load d3 & LDAvis\n",
       "    LDAvis_load_lib(\"https://d3js.org/d3.v5.js\", function(){\n",
       "         LDAvis_load_lib(\"https://cdn.jsdelivr.net/gh/bmabey/pyLDAvis@3.3.1/pyLDAvis/js/ldavis.v3.0.0.js\", function(){\n",
       "                 new LDAvis(\"#\" + \"ldavis_el551213708253664326786981724\", ldavis_el551213708253664326786981724_data);\n",
       "            })\n",
       "         });\n",
       "}\n",
       "</script>"
      ],
      "text/plain": [
       "PreparedData(topic_coordinates=              x         y  topics  cluster       Freq\n",
       "topic                                                \n",
       "0      0.097343  0.013475       1        1  22.383342\n",
       "3      0.046600  0.003946       2        1  18.346886\n",
       "1      0.070536  0.012837       3        1  16.429138\n",
       "5      0.078696 -0.002911       4        1  13.176983\n",
       "4      0.020639  0.062944       5        1   8.315149\n",
       "9      0.072538 -0.180609       6        1   8.175331\n",
       "6     -0.005534  0.122461       7        1   6.869653\n",
       "7     -0.042780  0.090077       8        1   4.269823\n",
       "8     -0.228634 -0.006625       9        1   1.051949\n",
       "2     -0.109405 -0.115594      10        1   0.981745, topic_info=        Term          Freq         Total Category  logprob  loglift\n",
       "1084  survey   9407.000000   9407.000000  Default  30.0000  30.0000\n",
       "12      area  16526.000000  16526.000000  Default  29.0000  29.0000\n",
       "915   quartz   5167.000000   5167.000000  Default  28.0000  28.0000\n",
       "54     datum   7935.000000   7935.000000  Default  27.0000  27.0000\n",
       "1166    vein   2933.000000   2933.000000  Default  26.0000  26.0000\n",
       "...      ...           ...           ...      ...      ...      ...\n",
       "178     rock     58.030123  10496.572174  Topic10  -5.5924  -0.5742\n",
       "975   sample     57.154921  14564.535444  Topic10  -5.6076  -0.9170\n",
       "3108    rich     46.012700   1467.023465  Topic10  -5.8245   1.1615\n",
       "12      area     51.860010  16526.752644  Topic10  -5.7048  -1.1406\n",
       "233     zone     47.975207   8010.714718  Topic10  -5.7827  -0.4943\n",
       "\n",
       "[856 rows x 6 columns], token_table=      Topic      Freq        Term\n",
       "term                             \n",
       "5004      1  0.079886  aboriginal\n",
       "5004      2  0.002219  aboriginal\n",
       "5004      3  0.084324  aboriginal\n",
       "5004      4  0.019971  aboriginal\n",
       "5004      5  0.017752  aboriginal\n",
       "...     ...       ...         ...\n",
       "233       6  0.054177        zone\n",
       "233       7  0.009362        zone\n",
       "233       8  0.016603        zone\n",
       "233       9  0.002122        zone\n",
       "233      10  0.005992        zone\n",
       "\n",
       "[3645 rows x 3 columns], R=30, lambda_step=0.01, plot_opts={'xlab': 'PC1', 'ylab': 'PC2'}, topic_order=[1, 4, 2, 6, 5, 10, 7, 8, 9, 3])"
      ]
     },
     "execution_count": 34,
     "metadata": {},
     "output_type": "execute_result"
    },
    {
     "data": {
      "application/javascript": "\n            setTimeout(function() {\n                var nbb_cell_id = 34;\n                var nbb_unformatted_code = \"vis = gensimvis.prepare(lda_model, bow_corpus, id2word)  # version 3.3+ use pyLDAvis.gensim_models.\\nvis\";\n                var nbb_formatted_code = \"vis = gensimvis.prepare(\\n    lda_model, bow_corpus, id2word\\n)  # version 3.3+ use pyLDAvis.gensim_models.\\nvis\";\n                var nbb_cells = Jupyter.notebook.get_cells();\n                for (var i = 0; i < nbb_cells.length; ++i) {\n                    if (nbb_cells[i].input_prompt_number == nbb_cell_id) {\n                        if (nbb_cells[i].get_text() == nbb_unformatted_code) {\n                             nbb_cells[i].set_text(nbb_formatted_code);\n                        }\n                        break;\n                    }\n                }\n            }, 500);\n            ",
      "text/plain": [
       "<IPython.core.display.Javascript object>"
      ]
     },
     "metadata": {},
     "output_type": "display_data"
    }
   ],
   "source": [
    "vis = gensimvis.prepare(lda_model, bow_corpus, id2word)  # version 3.3+ use pyLDAvis.gensim_models.\n",
    "vis"
   ]
  },
  {
   "cell_type": "markdown",
   "metadata": {},
   "source": [
    "## Additional Content: Tuning the number of topics (hyperparameter tuning) <a name=\"tuning\"></a>"
   ]
  },
  {
   "cell_type": "markdown",
   "metadata": {
    "colab_type": "text",
    "id": "1WZHH9tDDt5R"
   },
   "source": [
    "Here we explore how to find the best number of topics for our LDA model. This involves iteratively computing coherence values and finding an optimal topic distribution over a given number of topics."
   ]
  },
  {
   "cell_type": "raw",
   "metadata": {
    "colab": {},
    "colab_type": "code",
    "id": "p5w1LvRPDt5T"
   },
   "source": [
    "def compute_coherence_values(dictionary, corpus, texts, limit, start=2, step=3):\n",
    "    \"\"\"\n",
    "    Compute c_v coherence for various number of topics\n",
    "\n",
    "    Parameters:\n",
    "    ----------\n",
    "    dictionary : Gensim dictionary\n",
    "    corpus : Gensim corpus\n",
    "    texts : List of input texts\n",
    "    limit : Max num of topics\n",
    "\n",
    "    Returns:\n",
    "    -------\n",
    "    model_list : List of LDA topic models\n",
    "    coherence_values : Coherence values corresponding to the LDA model with respective number of topics\n",
    "    \"\"\"\n",
    "    coherence_values = []\n",
    "    model_list = []\n",
    "    for num_topics in range(start, limit, step):\n",
    "        model = gensim.models.ldamodel.LdaModel(corpus=corpus,\n",
    "                                           id2word=id2word,\n",
    "                                           num_topics=num_topics, \n",
    "                                           random_state=100,\n",
    "                                           update_every=1,\n",
    "                                           chunksize=100,\n",
    "                                           passes=10,\n",
    "                                           alpha='auto',\n",
    "                                           per_word_topics=True)\n",
    "        model_list.append(model)\n",
    "        coherencemodel = CoherenceModel(model=model, texts=texts, dictionary=dictionary, coherence='c_v')\n",
    "        coherence_values.append(coherencemodel.get_coherence())\n",
    "\n",
    "    return model_list, coherence_values"
   ]
  },
  {
   "cell_type": "markdown",
   "metadata": {},
   "source": [
    "⚠️ Computing coherence values can take a very long time to run."
   ]
  },
  {
   "cell_type": "raw",
   "metadata": {
    "colab": {
     "base_uri": "https://localhost:8080/",
     "height": 71
    },
    "colab_type": "code",
    "executionInfo": {
     "elapsed": 2915761,
     "status": "ok",
     "timestamp": 1585058220648,
     "user": {
      "displayName": "Tyler Bikaun",
      "photoUrl": "",
      "userId": "18384825377619195869"
     },
     "user_tz": -480
    },
    "id": "0yOYit5xDt5W",
    "outputId": "5bf4c2da-7312-4112-e62e-70cdedca1538"
   },
   "source": [
    "# model_list, coherence_values = compute_coherence_values(dictionary=id2word, corpus=bow_corpus, texts=bigram_corpus, start=2, limit=40, step=6)"
   ]
  },
  {
   "cell_type": "markdown",
   "metadata": {},
   "source": [
    "Here we can visualise coherence scores as a function of the number of topics"
   ]
  },
  {
   "cell_type": "raw",
   "metadata": {
    "colab": {
     "base_uri": "https://localhost:8080/",
     "height": 279
    },
    "colab_type": "code",
    "executionInfo": {
     "elapsed": 2912841,
     "status": "ok",
     "timestamp": 1585058220652,
     "user": {
      "displayName": "Tyler Bikaun",
      "photoUrl": "",
      "userId": "18384825377619195869"
     },
     "user_tz": -480
    },
    "id": "mRe4-DSTDt5Z",
    "outputId": "316750ce-341b-4903-d631-fb8b63a3138b"
   },
   "source": [
    "limit=40; start=2; step=6;\n",
    "x = range(start, limit, step)\n",
    "plt.plot(x, coherence_values)\n",
    "plt.xlabel(\"Number of Topics\")\n",
    "plt.ylabel(\"Coherence score\")\n",
    "plt.legend((\"coherence_values\"), loc='best')\n",
    "plt.show()"
   ]
  }
 ],
 "metadata": {
  "colab": {
   "collapsed_sections": [],
   "name": "12.3-LDA-GSWA.ipynb",
   "provenance": [],
   "toc_visible": true
  },
  "kernelspec": {
   "display_name": "Python 3.8.10 64-bit",
   "language": "python",
   "name": "python3"
  },
  "language_info": {
   "codemirror_mode": {
    "name": "ipython",
    "version": 3
   },
   "file_extension": ".py",
   "mimetype": "text/x-python",
   "name": "python",
   "nbconvert_exporter": "python",
   "pygments_lexer": "ipython3",
   "version": "3.8.10"
  },
  "vscode": {
   "interpreter": {
    "hash": "e2040bd4ff7059bd5923140baaf547b26fe1060b2698e4d8905dba1b3e302910"
   }
  }
 },
 "nbformat": 4,
 "nbformat_minor": 4
}
