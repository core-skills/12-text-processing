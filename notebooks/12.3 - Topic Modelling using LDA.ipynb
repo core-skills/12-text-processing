{
 "cells": [
  {
   "cell_type": "markdown",
   "metadata": {
    "colab_type": "text",
    "id": "Q6UXR_M4Dt3b"
   },
   "source": [
    "# Topic Modelling using LDA"
   ]
  },
  {
   "cell_type": "markdown",
   "metadata": {},
   "source": [
    "## Notebook Overview\n",
    "In this notebook, we will explore topic modelling using Latent Dirichlet Allocation (LDA) on a corpus of Geological Survey of Western Australia reports."
   ]
  },
  {
   "cell_type": "markdown",
   "metadata": {},
   "source": [
    "⚠️This notebook takes approximately 50 minutes to execute all cells. The visualisations of the topic models is the culprit."
   ]
  },
  {
   "cell_type": "markdown",
   "metadata": {},
   "source": [
    "## Table of Contents\n",
    "1. [Loading GSWA Corpus](#load_corpus)\n",
    "2. [Corpus Pre-processing](#preprocessing)\n",
    "3. [Training LDA Model](#training)\n",
    "4. [Interactive Visualisation](#visualisation)\n",
    "5. [Additional Content: LDA Model Hyperparameter Tuning](#tuning)"
   ]
  },
  {
   "cell_type": "markdown",
   "metadata": {},
   "source": [
    "## Notebook Setup"
   ]
  },
  {
   "cell_type": "code",
   "execution_count": 1,
   "metadata": {
    "scrolled": true
   },
   "outputs": [
    {
     "name": "stdout",
     "output_type": "stream",
     "text": [
      "Requirement already satisfied: pyLDAvis in c:\\users\\tyler\\appdata\\local\\programs\\python\\python38\\lib\\site-packages (3.3.1)\n",
      "Requirement already satisfied: gensim==4.2.0 in c:\\users\\tyler\\appdata\\local\\programs\\python\\python38\\lib\\site-packages (4.2.0)\n",
      "Requirement already satisfied: spacy in c:\\users\\tyler\\appdata\\local\\programs\\python\\python38\\lib\\site-packages (3.4.3)\n",
      "Requirement already satisfied: matplotlib in c:\\users\\tyler\\appdata\\local\\programs\\python\\python38\\lib\\site-packages (3.5.2)\n",
      "Requirement already satisfied: numpy in c:\\users\\tyler\\appdata\\local\\programs\\python\\python38\\lib\\site-packages (1.23.0)\n",
      "Requirement already satisfied: pandas in c:\\users\\tyler\\appdata\\local\\programs\\python\\python38\\lib\\site-packages (1.4.3)\n",
      "Requirement already satisfied: nltk in c:\\users\\tyler\\appdata\\local\\programs\\python\\python38\\lib\\site-packages (3.7)\n",
      "Requirement already satisfied: scipy>=0.18.1 in c:\\users\\tyler\\appdata\\local\\programs\\python\\python38\\lib\\site-packages (from gensim==4.2.0) (1.8.1)\n",
      "Requirement already satisfied: Cython==0.29.28 in c:\\users\\tyler\\appdata\\local\\programs\\python\\python38\\lib\\site-packages (from gensim==4.2.0) (0.29.28)\n",
      "Requirement already satisfied: smart-open>=1.8.1 in c:\\users\\tyler\\appdata\\local\\programs\\python\\python38\\lib\\site-packages (from gensim==4.2.0) (5.2.1)\n",
      "Requirement already satisfied: numexpr in c:\\users\\tyler\\appdata\\local\\programs\\python\\python38\\lib\\site-packages (from pyLDAvis) (2.8.4)\n",
      "Requirement already satisfied: jinja2 in c:\\users\\tyler\\appdata\\local\\programs\\python\\python38\\lib\\site-packages (from pyLDAvis) (3.1.2)\n",
      "Requirement already satisfied: joblib in c:\\users\\tyler\\appdata\\local\\programs\\python\\python38\\lib\\site-packages (from pyLDAvis) (1.1.0)\n",
      "Requirement already satisfied: setuptools in c:\\users\\tyler\\appdata\\local\\programs\\python\\python38\\lib\\site-packages (from pyLDAvis) (56.0.0)\n",
      "Requirement already satisfied: future in c:\\users\\tyler\\appdata\\local\\programs\\python\\python38\\lib\\site-packages (from pyLDAvis) (0.18.2)\n",
      "Requirement already satisfied: scikit-learn in c:\\users\\tyler\\appdata\\local\\programs\\python\\python38\\lib\\site-packages (from pyLDAvis) (1.1.2)\n",
      "Requirement already satisfied: sklearn in c:\\users\\tyler\\appdata\\local\\programs\\python\\python38\\lib\\site-packages (from pyLDAvis) (0.0.post1)\n",
      "Requirement already satisfied: funcy in c:\\users\\tyler\\appdata\\local\\programs\\python\\python38\\lib\\site-packages (from pyLDAvis) (1.17)\n",
      "Requirement already satisfied: python-dateutil>=2.8.1 in c:\\users\\tyler\\appdata\\local\\programs\\python\\python38\\lib\\site-packages (from pandas) (2.8.2)\n",
      "Requirement already satisfied: pytz>=2020.1 in c:\\users\\tyler\\appdata\\local\\programs\\python\\python38\\lib\\site-packages (from pandas) (2022.1)\n",
      "Requirement already satisfied: six>=1.5 in c:\\users\\tyler\\appdata\\local\\programs\\python\\python38\\lib\\site-packages (from python-dateutil>=2.8.1->pandas) (1.16.0)\n",
      "Requirement already satisfied: catalogue<2.1.0,>=2.0.6 in c:\\users\\tyler\\appdata\\local\\programs\\python\\python38\\lib\\site-packages (from spacy) (2.0.8)\n",
      "Requirement already satisfied: pathy>=0.3.5 in c:\\users\\tyler\\appdata\\local\\programs\\python\\python38\\lib\\site-packages (from spacy) (0.6.2)\n",
      "Requirement already satisfied: pydantic!=1.8,!=1.8.1,<1.11.0,>=1.7.4 in c:\\users\\tyler\\appdata\\local\\programs\\python\\python38\\lib\\site-packages (from spacy) (1.9.2)\n",
      "Requirement already satisfied: spacy-loggers<2.0.0,>=1.0.0 in c:\\users\\tyler\\appdata\\local\\programs\\python\\python38\\lib\\site-packages (from spacy) (1.0.3)\n",
      "Requirement already satisfied: requests<3.0.0,>=2.13.0 in c:\\users\\tyler\\appdata\\local\\programs\\python\\python38\\lib\\site-packages (from spacy) (2.28.0)\n",
      "Requirement already satisfied: packaging>=20.0 in c:\\users\\tyler\\appdata\\local\\programs\\python\\python38\\lib\\site-packages (from spacy) (21.3)\n",
      "Requirement already satisfied: spacy-legacy<3.1.0,>=3.0.10 in c:\\users\\tyler\\appdata\\local\\programs\\python\\python38\\lib\\site-packages (from spacy) (3.0.10)\n",
      "Requirement already satisfied: langcodes<4.0.0,>=3.2.0 in c:\\users\\tyler\\appdata\\local\\programs\\python\\python38\\lib\\site-packages (from spacy) (3.3.0)\n",
      "Requirement already satisfied: srsly<3.0.0,>=2.4.3 in c:\\users\\tyler\\appdata\\local\\programs\\python\\python38\\lib\\site-packages (from spacy) (2.4.4)\n",
      "Requirement already satisfied: cymem<2.1.0,>=2.0.2 in c:\\users\\tyler\\appdata\\local\\programs\\python\\python38\\lib\\site-packages (from spacy) (2.0.6)\n",
      "Requirement already satisfied: murmurhash<1.1.0,>=0.28.0 in c:\\users\\tyler\\appdata\\local\\programs\\python\\python38\\lib\\site-packages (from spacy) (1.0.8)\n",
      "Requirement already satisfied: tqdm<5.0.0,>=4.38.0 in c:\\users\\tyler\\appdata\\local\\programs\\python\\python38\\lib\\site-packages (from spacy) (4.64.0)\n",
      "Requirement already satisfied: preshed<3.1.0,>=3.0.2 in c:\\users\\tyler\\appdata\\local\\programs\\python\\python38\\lib\\site-packages (from spacy) (3.0.7)\n",
      "Requirement already satisfied: thinc<8.2.0,>=8.1.0 in c:\\users\\tyler\\appdata\\local\\programs\\python\\python38\\lib\\site-packages (from spacy) (8.1.3)\n",
      "Requirement already satisfied: typer<0.8.0,>=0.3.0 in c:\\users\\tyler\\appdata\\local\\programs\\python\\python38\\lib\\site-packages (from spacy) (0.4.2)\n",
      "Requirement already satisfied: wasabi<1.1.0,>=0.9.1 in c:\\users\\tyler\\appdata\\local\\programs\\python\\python38\\lib\\site-packages (from spacy) (0.10.1)\n",
      "Requirement already satisfied: pyparsing!=3.0.5,>=2.0.2 in c:\\users\\tyler\\appdata\\local\\programs\\python\\python38\\lib\\site-packages (from packaging>=20.0->spacy) (3.0.9)\n",
      "Requirement already satisfied: typing-extensions>=3.7.4.3 in c:\\users\\tyler\\appdata\\local\\programs\\python\\python38\\lib\\site-packages (from pydantic!=1.8,!=1.8.1,<1.11.0,>=1.7.4->spacy) (4.3.0)\n",
      "Requirement already satisfied: urllib3<1.27,>=1.21.1 in c:\\users\\tyler\\appdata\\local\\programs\\python\\python38\\lib\\site-packages (from requests<3.0.0,>=2.13.0->spacy) (1.26.9)\n",
      "Requirement already satisfied: certifi>=2017.4.17 in c:\\users\\tyler\\appdata\\local\\programs\\python\\python38\\lib\\site-packages (from requests<3.0.0,>=2.13.0->spacy) (2022.6.15)\n",
      "Requirement already satisfied: idna<4,>=2.5 in c:\\users\\tyler\\appdata\\local\\programs\\python\\python38\\lib\\site-packages (from requests<3.0.0,>=2.13.0->spacy) (3.3)\n",
      "Requirement already satisfied: charset-normalizer~=2.0.0 in c:\\users\\tyler\\appdata\\local\\programs\\python\\python38\\lib\\site-packages (from requests<3.0.0,>=2.13.0->spacy) (2.0.12)\n",
      "Requirement already satisfied: blis<0.8.0,>=0.7.8 in c:\\users\\tyler\\appdata\\local\\programs\\python\\python38\\lib\\site-packages (from thinc<8.2.0,>=8.1.0->spacy) (0.7.8)\n",
      "Requirement already satisfied: confection<1.0.0,>=0.0.1 in c:\\users\\tyler\\appdata\\local\\programs\\python\\python38\\lib\\site-packages (from thinc<8.2.0,>=8.1.0->spacy) (0.0.3)\n",
      "Requirement already satisfied: colorama in c:\\users\\tyler\\appdata\\local\\programs\\python\\python38\\lib\\site-packages (from tqdm<5.0.0,>=4.38.0->spacy) (0.4.5)\n",
      "Requirement already satisfied: click<9.0.0,>=7.1.1 in c:\\users\\tyler\\appdata\\local\\programs\\python\\python38\\lib\\site-packages (from typer<0.8.0,>=0.3.0->spacy) (8.1.3)\n",
      "Requirement already satisfied: pillow>=6.2.0 in c:\\users\\tyler\\appdata\\local\\programs\\python\\python38\\lib\\site-packages (from matplotlib) (9.1.1)\n",
      "Requirement already satisfied: fonttools>=4.22.0 in c:\\users\\tyler\\appdata\\local\\programs\\python\\python38\\lib\\site-packages (from matplotlib) (4.33.3)\n",
      "Requirement already satisfied: cycler>=0.10 in c:\\users\\tyler\\appdata\\local\\programs\\python\\python38\\lib\\site-packages (from matplotlib) (0.11.0)\n",
      "Requirement already satisfied: kiwisolver>=1.0.1 in c:\\users\\tyler\\appdata\\local\\programs\\python\\python38\\lib\\site-packages (from matplotlib) (1.4.3)\n",
      "Requirement already satisfied: regex>=2021.8.3 in c:\\users\\tyler\\appdata\\local\\programs\\python\\python38\\lib\\site-packages (from nltk) (2022.6.2)\n",
      "Requirement already satisfied: MarkupSafe>=2.0 in c:\\users\\tyler\\appdata\\local\\programs\\python\\python38\\lib\\site-packages (from jinja2->pyLDAvis) (2.1.1)\n",
      "Requirement already satisfied: threadpoolctl>=2.0.0 in c:\\users\\tyler\\appdata\\local\\programs\\python\\python38\\lib\\site-packages (from scikit-learn->pyLDAvis) (3.1.0)\n"
     ]
    },
    {
     "name": "stderr",
     "output_type": "stream",
     "text": [
      "WARNING: You are using pip version 21.1.1; however, version 22.3.1 is available.\n",
      "You should consider upgrading via the 'c:\\users\\tyler\\appdata\\local\\programs\\python\\python38\\python.exe -m pip install --upgrade pip' command.\n"
     ]
    }
   ],
   "source": [
    "!pip install pyLDAvis gensim==4.2.0 spacy matplotlib numpy pandas nltk"
   ]
  },
  {
   "cell_type": "markdown",
   "metadata": {},
   "source": [
    "We need to load our pre-trained model from SpaCy before we can use it."
   ]
  },
  {
   "cell_type": "code",
   "execution_count": 2,
   "metadata": {},
   "outputs": [
    {
     "name": "stdout",
     "output_type": "stream",
     "text": [
      "Requirement already satisfied: spacy in c:\\users\\tyler\\appdata\\local\\programs\\python\\python38\\lib\\site-packages (3.4.3)\n",
      "Requirement already satisfied: download in c:\\users\\tyler\\appdata\\local\\programs\\python\\python38\\lib\\site-packages (0.3.5)\n",
      "Requirement already satisfied: en_core_web_sm in c:\\users\\tyler\\appdata\\local\\programs\\python\\python38\\lib\\site-packages (3.4.0)\n",
      "Requirement already satisfied: catalogue<2.1.0,>=2.0.6 in c:\\users\\tyler\\appdata\\local\\programs\\python\\python38\\lib\\site-packages (from spacy) (2.0.8)\n",
      "Requirement already satisfied: numpy>=1.15.0 in c:\\users\\tyler\\appdata\\local\\programs\\python\\python38\\lib\\site-packages (from spacy) (1.23.0)\n",
      "Requirement already satisfied: setuptools in c:\\users\\tyler\\appdata\\local\\programs\\python\\python38\\lib\\site-packages (from spacy) (56.0.0)\n",
      "Requirement already satisfied: typer<0.8.0,>=0.3.0 in c:\\users\\tyler\\appdata\\local\\programs\\python\\python38\\lib\\site-packages (from spacy) (0.4.2)\n",
      "Requirement already satisfied: spacy-legacy<3.1.0,>=3.0.10 in c:\\users\\tyler\\appdata\\local\\programs\\python\\python38\\lib\\site-packages (from spacy) (3.0.10)\n",
      "Requirement already satisfied: thinc<8.2.0,>=8.1.0 in c:\\users\\tyler\\appdata\\local\\programs\\python\\python38\\lib\\site-packages (from spacy) (8.1.3)\n",
      "Requirement already satisfied: preshed<3.1.0,>=3.0.2 in c:\\users\\tyler\\appdata\\local\\programs\\python\\python38\\lib\\site-packages (from spacy) (3.0.7)\n",
      "Requirement already satisfied: cymem<2.1.0,>=2.0.2 in c:\\users\\tyler\\appdata\\local\\programs\\python\\python38\\lib\\site-packages (from spacy) (2.0.6)\n",
      "Requirement already satisfied: pathy>=0.3.5 in c:\\users\\tyler\\appdata\\local\\programs\\python\\python38\\lib\\site-packages (from spacy) (0.6.2)\n",
      "Requirement already satisfied: spacy-loggers<2.0.0,>=1.0.0 in c:\\users\\tyler\\appdata\\local\\programs\\python\\python38\\lib\\site-packages (from spacy) (1.0.3)\n",
      "Requirement already satisfied: requests<3.0.0,>=2.13.0 in c:\\users\\tyler\\appdata\\local\\programs\\python\\python38\\lib\\site-packages (from spacy) (2.28.0)\n",
      "Requirement already satisfied: pydantic!=1.8,!=1.8.1,<1.11.0,>=1.7.4 in c:\\users\\tyler\\appdata\\local\\programs\\python\\python38\\lib\\site-packages (from spacy) (1.9.2)\n",
      "Requirement already satisfied: langcodes<4.0.0,>=3.2.0 in c:\\users\\tyler\\appdata\\local\\programs\\python\\python38\\lib\\site-packages (from spacy) (3.3.0)\n",
      "Requirement already satisfied: wasabi<1.1.0,>=0.9.1 in c:\\users\\tyler\\appdata\\local\\programs\\python\\python38\\lib\\site-packages (from spacy) (0.10.1)\n",
      "Requirement already satisfied: murmurhash<1.1.0,>=0.28.0 in c:\\users\\tyler\\appdata\\local\\programs\\python\\python38\\lib\\site-packages (from spacy) (1.0.8)\n",
      "Requirement already satisfied: packaging>=20.0 in c:\\users\\tyler\\appdata\\local\\programs\\python\\python38\\lib\\site-packages (from spacy) (21.3)\n",
      "Requirement already satisfied: tqdm<5.0.0,>=4.38.0 in c:\\users\\tyler\\appdata\\local\\programs\\python\\python38\\lib\\site-packages (from spacy) (4.64.0)\n",
      "Requirement already satisfied: srsly<3.0.0,>=2.4.3 in c:\\users\\tyler\\appdata\\local\\programs\\python\\python38\\lib\\site-packages (from spacy) (2.4.4)\n",
      "Requirement already satisfied: jinja2 in c:\\users\\tyler\\appdata\\local\\programs\\python\\python38\\lib\\site-packages (from spacy) (3.1.2)\n",
      "Requirement already satisfied: pyparsing!=3.0.5,>=2.0.2 in c:\\users\\tyler\\appdata\\local\\programs\\python\\python38\\lib\\site-packages (from packaging>=20.0->spacy) (3.0.9)\n",
      "Requirement already satisfied: smart-open<6.0.0,>=5.2.1 in c:\\users\\tyler\\appdata\\local\\programs\\python\\python38\\lib\\site-packages (from pathy>=0.3.5->spacy) (5.2.1)\n",
      "Requirement already satisfied: typing-extensions>=3.7.4.3 in c:\\users\\tyler\\appdata\\local\\programs\\python\\python38\\lib\\site-packages (from pydantic!=1.8,!=1.8.1,<1.11.0,>=1.7.4->spacy) (4.3.0)\n",
      "Requirement already satisfied: certifi>=2017.4.17 in c:\\users\\tyler\\appdata\\local\\programs\\python\\python38\\lib\\site-packages (from requests<3.0.0,>=2.13.0->spacy) (2022.6.15)\n",
      "Requirement already satisfied: urllib3<1.27,>=1.21.1 in c:\\users\\tyler\\appdata\\local\\programs\\python\\python38\\lib\\site-packages (from requests<3.0.0,>=2.13.0->spacy) (1.26.9)\n",
      "Requirement already satisfied: charset-normalizer~=2.0.0 in c:\\users\\tyler\\appdata\\local\\programs\\python\\python38\\lib\\site-packages (from requests<3.0.0,>=2.13.0->spacy) (2.0.12)\n",
      "Requirement already satisfied: idna<4,>=2.5 in c:\\users\\tyler\\appdata\\local\\programs\\python\\python38\\lib\\site-packages (from requests<3.0.0,>=2.13.0->spacy) (3.3)\n",
      "Requirement already satisfied: blis<0.8.0,>=0.7.8 in c:\\users\\tyler\\appdata\\local\\programs\\python\\python38\\lib\\site-packages (from thinc<8.2.0,>=8.1.0->spacy) (0.7.8)\n",
      "Requirement already satisfied: confection<1.0.0,>=0.0.1 in c:\\users\\tyler\\appdata\\local\\programs\\python\\python38\\lib\\site-packages (from thinc<8.2.0,>=8.1.0->spacy) (0.0.3)\n",
      "Requirement already satisfied: colorama in c:\\users\\tyler\\appdata\\local\\programs\\python\\python38\\lib\\site-packages (from tqdm<5.0.0,>=4.38.0->spacy) (0.4.5)\n",
      "Requirement already satisfied: click<9.0.0,>=7.1.1 in c:\\users\\tyler\\appdata\\local\\programs\\python\\python38\\lib\\site-packages (from typer<0.8.0,>=0.3.0->spacy) (8.1.3)\n",
      "Requirement already satisfied: six in c:\\users\\tyler\\appdata\\local\\programs\\python\\python38\\lib\\site-packages (from download) (1.16.0)\n",
      "Requirement already satisfied: MarkupSafe>=2.0 in c:\\users\\tyler\\appdata\\local\\programs\\python\\python38\\lib\\site-packages (from jinja2->spacy) (2.1.1)\n"
     ]
    },
    {
     "name": "stderr",
     "output_type": "stream",
     "text": [
      "WARNING: You are using pip version 21.1.1; however, version 22.3.1 is available.\n",
      "You should consider upgrading via the 'c:\\users\\tyler\\appdata\\local\\programs\\python\\python38\\python.exe -m pip install --upgrade pip' command.\n"
     ]
    }
   ],
   "source": [
    "!pip install -U spacy download en_core_web_sm"
   ]
  },
  {
   "cell_type": "markdown",
   "metadata": {},
   "source": [
    "Lets load in the package [nb_black](https://github.com/dnanhkhoa/nb_black) to auto-format our code as we go. Formatting code is useful as it easier to collaborate and interpret what we write."
   ]
  },
  {
   "cell_type": "code",
   "execution_count": 3,
   "metadata": {},
   "outputs": [
    {
     "data": {
      "application/javascript": "\n            setTimeout(function() {\n                var nbb_cell_id = 3;\n                var nbb_unformatted_code = \"# Package for ensuring code we write is formatted nicely (see: https://github.com/dnanhkhoa/nb_black)\\n%load_ext nb_black\";\n                var nbb_formatted_code = \"# Package for ensuring code we write is formatted nicely (see: https://github.com/dnanhkhoa/nb_black)\\n%load_ext nb_black\";\n                var nbb_cells = Jupyter.notebook.get_cells();\n                for (var i = 0; i < nbb_cells.length; ++i) {\n                    if (nbb_cells[i].input_prompt_number == nbb_cell_id) {\n                        if (nbb_cells[i].get_text() == nbb_unformatted_code) {\n                             nbb_cells[i].set_text(nbb_formatted_code);\n                        }\n                        break;\n                    }\n                }\n            }, 500);\n            ",
      "text/plain": [
       "<IPython.core.display.Javascript object>"
      ]
     },
     "metadata": {},
     "output_type": "display_data"
    }
   ],
   "source": [
    "# Package for ensuring code we write is formatted nicely (see: https://github.com/dnanhkhoa/nb_black)\n",
    "%load_ext nb_black"
   ]
  },
  {
   "cell_type": "markdown",
   "metadata": {},
   "source": [
    "### Import Packages\n",
    "Standard packages\n",
    "- [re](https://docs.python.org/3/library/re.html) - library that we will use for performing regular expressions"
   ]
  },
  {
   "cell_type": "code",
   "execution_count": 4,
   "metadata": {
    "colab": {},
    "colab_type": "code",
    "id": "FgNh7kvdDt3k"
   },
   "outputs": [
    {
     "data": {
      "application/javascript": "\n            setTimeout(function() {\n                var nbb_cell_id = 4;\n                var nbb_unformatted_code = \"import re\\nfrom pprint import pprint\\nimport warnings\\nimport zipfile\\nimport json\\nfrom typing import List\";\n                var nbb_formatted_code = \"import re\\nfrom pprint import pprint\\nimport warnings\\nimport zipfile\\nimport json\\nfrom typing import List\";\n                var nbb_cells = Jupyter.notebook.get_cells();\n                for (var i = 0; i < nbb_cells.length; ++i) {\n                    if (nbb_cells[i].input_prompt_number == nbb_cell_id) {\n                        if (nbb_cells[i].get_text() == nbb_unformatted_code) {\n                             nbb_cells[i].set_text(nbb_formatted_code);\n                        }\n                        break;\n                    }\n                }\n            }, 500);\n            ",
      "text/plain": [
       "<IPython.core.display.Javascript object>"
      ]
     },
     "metadata": {},
     "output_type": "display_data"
    }
   ],
   "source": [
    "import re\n",
    "from pprint import pprint\n",
    "import warnings\n",
    "import zipfile\n",
    "import json\n",
    "from typing import List"
   ]
  },
  {
   "cell_type": "markdown",
   "metadata": {},
   "source": [
    "Third party packages\n",
    "\n",
    "- [numpy](https://numpy.org/) - library that we will use for helping visualise results\n",
    "- [pandas](https://pandas.pydata.org/) - library that we will use to help handling our corpus\n",
    "- [gensim](https://radimrehurek.com/gensim/) - library that we will use to perform topic modelling\n",
    "- [spacy](https://spacy.io/) - library that we will use to perform lemmatization\n",
    "- [nltk](https://www.nltk.org/) - library that we will use to pre-process our corpus\n",
    "- [pyLDAvis](https://pyldavis.readthedocs.io/en/latest/readme.html) - library that we will use to interactively visualise results"
   ]
  },
  {
   "cell_type": "code",
   "execution_count": 5,
   "metadata": {},
   "outputs": [
    {
     "name": "stderr",
     "output_type": "stream",
     "text": [
      "c:\\Users\\Tyler\\AppData\\Local\\Programs\\Python\\Python38\\lib\\site-packages\\past\\builtins\\misc.py:45: DeprecationWarning: the imp module is deprecated in favour of importlib; see the module's documentation for alternative uses\n",
      "  from imp import reload\n"
     ]
    },
    {
     "data": {
      "application/javascript": "\n            setTimeout(function() {\n                var nbb_cell_id = 5;\n                var nbb_unformatted_code = \"import nltk\\nfrom nltk.corpus import stopwords\\nimport gensim\\nimport gensim.corpora as corpora\\nfrom gensim.utils import simple_preprocess\\nfrom gensim.models import CoherenceModel\\nimport spacy\\n\\nimport pyLDAvis\\nimport pyLDAvis.gensim_models as gensimvis\";\n                var nbb_formatted_code = \"import nltk\\nfrom nltk.corpus import stopwords\\nimport gensim\\nimport gensim.corpora as corpora\\nfrom gensim.utils import simple_preprocess\\nfrom gensim.models import CoherenceModel\\nimport spacy\\n\\nimport pyLDAvis\\nimport pyLDAvis.gensim_models as gensimvis\";\n                var nbb_cells = Jupyter.notebook.get_cells();\n                for (var i = 0; i < nbb_cells.length; ++i) {\n                    if (nbb_cells[i].input_prompt_number == nbb_cell_id) {\n                        if (nbb_cells[i].get_text() == nbb_unformatted_code) {\n                             nbb_cells[i].set_text(nbb_formatted_code);\n                        }\n                        break;\n                    }\n                }\n            }, 500);\n            ",
      "text/plain": [
       "<IPython.core.display.Javascript object>"
      ]
     },
     "metadata": {},
     "output_type": "display_data"
    }
   ],
   "source": [
    "import nltk\n",
    "from nltk.corpus import stopwords\n",
    "import gensim\n",
    "import gensim.corpora as corpora\n",
    "from gensim.utils import simple_preprocess\n",
    "from gensim.models import CoherenceModel\n",
    "import spacy\n",
    "\n",
    "import pyLDAvis\n",
    "import pyLDAvis.gensim_models as gensimvis"
   ]
  },
  {
   "cell_type": "markdown",
   "metadata": {},
   "source": [
    "### Set-up notebook environment and helper functions"
   ]
  },
  {
   "cell_type": "code",
   "execution_count": 6,
   "metadata": {},
   "outputs": [
    {
     "data": {
      "text/plain": [
       "True"
      ]
     },
     "execution_count": 6,
     "metadata": {},
     "output_type": "execute_result"
    },
    {
     "data": {
      "application/javascript": "\n            setTimeout(function() {\n                var nbb_cell_id = 6;\n                var nbb_unformatted_code = \"# Download NLTK stopwords\\nnltk.download('stopwords', quiet=True)\";\n                var nbb_formatted_code = \"# Download NLTK stopwords\\nnltk.download(\\\"stopwords\\\", quiet=True)\";\n                var nbb_cells = Jupyter.notebook.get_cells();\n                for (var i = 0; i < nbb_cells.length; ++i) {\n                    if (nbb_cells[i].input_prompt_number == nbb_cell_id) {\n                        if (nbb_cells[i].get_text() == nbb_unformatted_code) {\n                             nbb_cells[i].set_text(nbb_formatted_code);\n                        }\n                        break;\n                    }\n                }\n            }, 500);\n            ",
      "text/plain": [
       "<IPython.core.display.Javascript object>"
      ]
     },
     "metadata": {},
     "output_type": "display_data"
    }
   ],
   "source": [
    "# Download NLTK stopwords\n",
    "nltk.download('stopwords', quiet=True)"
   ]
  },
  {
   "cell_type": "code",
   "execution_count": 7,
   "metadata": {},
   "outputs": [
    {
     "data": {
      "application/javascript": "\n            setTimeout(function() {\n                var nbb_cell_id = 7;\n                var nbb_unformatted_code = \"%matplotlib inline\\nwarnings.filterwarnings(\\\"ignore\\\",category=DeprecationWarning)\";\n                var nbb_formatted_code = \"%matplotlib inline\\nwarnings.filterwarnings(\\\"ignore\\\", category=DeprecationWarning)\";\n                var nbb_cells = Jupyter.notebook.get_cells();\n                for (var i = 0; i < nbb_cells.length; ++i) {\n                    if (nbb_cells[i].input_prompt_number == nbb_cell_id) {\n                        if (nbb_cells[i].get_text() == nbb_unformatted_code) {\n                             nbb_cells[i].set_text(nbb_formatted_code);\n                        }\n                        break;\n                    }\n                }\n            }, 500);\n            ",
      "text/plain": [
       "<IPython.core.display.Javascript object>"
      ]
     },
     "metadata": {},
     "output_type": "display_data"
    }
   ],
   "source": [
    "%matplotlib inline\n",
    "warnings.filterwarnings(\"ignore\",category=DeprecationWarning)"
   ]
  },
  {
   "cell_type": "markdown",
   "metadata": {
    "colab_type": "text",
    "id": "XnlbAvI1Dt3v"
   },
   "source": [
    "## Import the GSWA dataset <a name=\"load_corpus\"></a>"
   ]
  },
  {
   "cell_type": "markdown",
   "metadata": {},
   "source": [
    "The 20-Newsgroups dataset contains about 6k data posts from 1,135 GSWA reports. \n",
    "\n",
    "The dataset can be imported using `pandas.read_json` and we can see the dataset has 3 columns. The `target-name` is the category or topics that the news is manually assigned to. \n",
    "\n",
    "We choose to use this dataset because it has pre-assigned categories according to topics, so our clustering results can be readily compared. In real world data, this is not always easily available. "
   ]
  },
  {
   "cell_type": "code",
   "execution_count": 8,
   "metadata": {},
   "outputs": [
    {
     "data": {
      "application/javascript": "\n            setTimeout(function() {\n                var nbb_cell_id = 8;\n                var nbb_unformatted_code = \"corpus_path = r\\\"../data/wamex_xml.zip\\\"\";\n                var nbb_formatted_code = \"corpus_path = r\\\"../data/wamex_xml.zip\\\"\";\n                var nbb_cells = Jupyter.notebook.get_cells();\n                for (var i = 0; i < nbb_cells.length; ++i) {\n                    if (nbb_cells[i].input_prompt_number == nbb_cell_id) {\n                        if (nbb_cells[i].get_text() == nbb_unformatted_code) {\n                             nbb_cells[i].set_text(nbb_formatted_code);\n                        }\n                        break;\n                    }\n                }\n            }, 500);\n            ",
      "text/plain": [
       "<IPython.core.display.Javascript object>"
      ]
     },
     "metadata": {},
     "output_type": "display_data"
    }
   ],
   "source": [
    "corpus_path = r\"../data/wamex_xml.zip\""
   ]
  },
  {
   "cell_type": "code",
   "execution_count": 9,
   "metadata": {
    "colab": {
     "base_uri": "https://localhost:8080/",
     "height": 34
    },
    "colab_type": "code",
    "executionInfo": {
     "elapsed": 3100,
     "status": "ok",
     "timestamp": 1585055269331,
     "user": {
      "displayName": "Tyler Bikaun",
      "photoUrl": "",
      "userId": "18384825377619195869"
     },
     "user_tz": -480
    },
    "id": "LxhLbOgZDt3w",
    "outputId": "ec1eab80-3958-4175-c77f-401a2bd1d81f"
   },
   "outputs": [
    {
     "data": {
      "application/javascript": "\n            setTimeout(function() {\n                var nbb_cell_id = 9;\n                var nbb_unformatted_code = \"corpus = list()\\nwith zipfile.ZipFile(corpus_path, \\\"r\\\") as z:\\n    for filename in z.namelist():\\n        with z.open(filename) as f:\\n            # load the json file\\n            # The resulting `content` is a list\\n            content = json.loads(f.read()) \\n            # Convert content to a string   \\n            content = \\\"\\\".join(content)\\n            # Add to the data list\\n            corpus.append(content)\";\n                var nbb_formatted_code = \"corpus = list()\\nwith zipfile.ZipFile(corpus_path, \\\"r\\\") as z:\\n    for filename in z.namelist():\\n        with z.open(filename) as f:\\n            # load the json file\\n            # The resulting `content` is a list\\n            content = json.loads(f.read())\\n            # Convert content to a string\\n            content = \\\"\\\".join(content)\\n            # Add to the data list\\n            corpus.append(content)\";\n                var nbb_cells = Jupyter.notebook.get_cells();\n                for (var i = 0; i < nbb_cells.length; ++i) {\n                    if (nbb_cells[i].input_prompt_number == nbb_cell_id) {\n                        if (nbb_cells[i].get_text() == nbb_unformatted_code) {\n                             nbb_cells[i].set_text(nbb_formatted_code);\n                        }\n                        break;\n                    }\n                }\n            }, 500);\n            ",
      "text/plain": [
       "<IPython.core.display.Javascript object>"
      ]
     },
     "metadata": {},
     "output_type": "display_data"
    }
   ],
   "source": [
    "corpus = list()\n",
    "with zipfile.ZipFile(corpus_path, \"r\") as z:\n",
    "    for filename in z.namelist():\n",
    "        with z.open(filename) as f:\n",
    "            # load the json file\n",
    "            # The resulting `content` is a list\n",
    "            content = json.loads(f.read()) \n",
    "            # Convert content to a string   \n",
    "            content = \"\".join(content)\n",
    "            # Add to the data list\n",
    "            corpus.append(content)"
   ]
  },
  {
   "cell_type": "code",
   "execution_count": 10,
   "metadata": {
    "colab": {
     "base_uri": "https://localhost:8080/",
     "height": 1000
    },
    "colab_type": "code",
    "executionInfo": {
     "elapsed": 1051,
     "status": "ok",
     "timestamp": 1585055269332,
     "user": {
      "displayName": "Tyler Bikaun",
      "photoUrl": "",
      "userId": "18384825377619195869"
     },
     "user_tz": -480
    },
    "id": "tbH1YzboEla8",
    "outputId": "5a26846d-d56d-4518-a827-6153eaac9ba5",
    "scrolled": true
   },
   "outputs": [
    {
     "name": "stdout",
     "output_type": "stream",
     "text": [
      "['Combined Reporting Application Pending Status: Sheet 1:250 000: Kalgoorlie '\n",
      " '(SH 51-09) Sheet 1:100 000: Kalgoorlie (3136) Project Operator: Cazaly '\n",
      " 'Resources Limited Author: M Watts Date: September 2006 Distribution: '\n",
      " '1.Department of Industry and Resources 2.Cazaly Resources Limited Cazaly '\n",
      " 'Resources Limited September 2006 2 Figure 2: Castle Hill Project Tenement '\n",
      " 'Location Plan, 1: 75 000 scale 6 Figure 3: Regional Geology with Exploration '\n",
      " 'Index Map, 1:75 000 scale 8Cazaly Resources Limited September 2006 3 1.0 '\n",
      " 'SUMMARY The Combined Mineral Exploration Report on the Castle Hill Project '\n",
      " 'details exploration activities undertaken by Cazaly Resources Limited during '\n",
      " 'the reporting period from 7 July 2005 to 6 July 2006.The reporting group '\n",
      " 'known as Castle Hill comprises nine granted prospecting licences.The project '\n",
      " 'area covers some 1250 hectares.Cazaly is the registered holder of the Castle '\n",
      " 'Hill Project tenements.Cazalys exploration activities during the reporting '\n",
      " 'period have been directed towards the acquisition of available reports and '\n",
      " 'datasets relating to previous exploration activities within the project area '\n",
      " 'and assessing the gold and nickel potential of the project area.Following '\n",
      " 'the data review, the Castle Hill Project was not rated as highly as other '\n",
      " 'nearby Project areas managed by Cazaly.2.0 INTRODUCTION The Combined Mineral '\n",
      " 'Exploration Report on the Castle Hill Project details exploration work '\n",
      " 'undertaken by Cazaly Resources Limited (Cazaly) during the reporting period '\n",
      " 'from 7 July 2005 to 6 July 2006.The Castle Hill Project area is located 45km '\n",
      " 'WNW of Kalgoorlie (Figure 1) and lies within the Kunanalling District of the '\n",
      " 'Coolgardie Mineral Field on the Kalgoorlie (3136) 1:100,000 and the '\n",
      " 'Kalgoorlie (SH51-09) 1:250,000 map sheets.3.0 TENURE The reporting group '\n",
      " 'known as Castle Hill comprises nine granted prospecting licences.The project '\n",
      " 'area covers some 1250 hectares.Refer to Table 1 and Figure 2 for further '\n",
      " 'details.Cazaly is the registered holder of the Castle Hill Project tenements '\n",
      " 'An application for the combined reporting of these tenements to be added to '\n",
      " 'Combined Reporting Group C 99/1994 has been lodged.Cazaly Resources Limited '\n",
      " 'September 2006 7 4.0 GEOLOGY 4.1 Regional Geology The Castle Hill project '\n",
      " 'area lies within the Norseman Wiluna Archaean Greenstone belt in the Eastern '\n",
      " 'Goldfields province of the Yilgarn Craton.The Belt is characterised by '\n",
      " 'thick, possibly rift controlled, sequences of ultramafic, mafic, felsic '\n",
      " 'volcanic, clastic and intrusive rocks.Greenstone successions of the southern '\n",
      " 'Eastern Goldfields have been segregated into elongate structural terranes '\n",
      " 'bounded by regional NNW-trending D2 faults (Swager, 1997).The lower parts of '\n",
      " 'the supracrustal successions are characterised by submarine mafic ultramafic '\n",
      " 'rocks with thin interflow sediments.These are overlain by mostly subaqueous '\n",
      " 'felsic volcaniclastics.In the Kalgoorlie Terrane, this stratigraphic '\n",
      " 'sequence is extremely consistent, with felsic volcanism generally '\n",
      " 'post-dating mafic/ultramafic volcanism.Felsic volcanism is observed to occur '\n",
      " 'in both the upper and lower parts of the succession.Coarse clastics to '\n",
      " 'conglomeratic sequences (i.e.Kurrawang Formation) unconformably overly, or '\n",
      " 'are in faultcontact with, greenstones in synclinal basins adjacent to, or '\n",
      " 'overlying major regional faults (Swager, 1997).4.2 Local Geology The '\n",
      " 'majority of the Project area is underlain by the post-D2, high-calcic, Bali '\n",
      " 'Monzogranite which lies immediately to the west of the Coolgardie Domain, a '\n",
      " 'sub-domain of the Kalgoorlie Terrane.The northern tenements are situated to '\n",
      " 'the north of the Kintore Tonalite and are underlain by mafic and ultramafic '\n",
      " 'rocks of the Coolgardie Domain.4.3 Structural Geology Several major '\n",
      " 'structures traverse sections of the Project area, Figure 3.The '\n",
      " 'north-northwest trending (D2) Kunanalling Shear Zone (KSZ) lies along the '\n",
      " 'mafic/ultramafic contact zone within tenement P 16/2266.The late (D4) '\n",
      " 'north-northeast trending dextral Grants Patch fault cuts the Coolgardie '\n",
      " 'Domain sequence and all other structures and extends into the adjacent Bali '\n",
      " 'Monzogranite.Tenement P 16/2265 also overlies part of the Kintore Anticline '\n",
      " 'axis.Cazaly Resources Limited September 2006 9 5.0 EXPLORATION ACTIVITIES '\n",
      " 'Cazalys exploration activities during the reporting period have been '\n",
      " 'directed towards the acquisition of available reports and datasets relating '\n",
      " 'to previous exploration activities within the project area and assessing the '\n",
      " 'gold and nickel potential of the project area.5.1 Project Review Following a '\n",
      " 'field inspection of the whole Project area, all available data on the '\n",
      " 'project was reviewed in-house in conjunction with other data pertaining to '\n",
      " 'the nearby Kunanalling Shear Zone.Targets and tenements were then rated on '\n",
      " 'their potential to host an economic gold deposit and classified '\n",
      " 'accordingly.This information will be utilized when considering future '\n",
      " 'exploration programs across the tenement group.5.2 Nickel Review The Castle '\n",
      " 'Hill Project was included in the Cazaly - Consolidated Minerals Limited '\n",
      " '(Consmin) Joint Venture which explored the Kunanalling region for nickel '\n",
      " 'mineralisation.The nickel potential of the Castle Hill Project area '\n",
      " 'tenements was reviewed during October and November of the reporting year.The '\n",
      " 'initial review highlighted anomalies coincident with Ni/Cr x Cu/Zn ratios '\n",
      " 'along the basalt/ultramafic contact immediately to the east of P '\n",
      " '16/2255.This area was subsequently RAB drilled by Consmin.6.0 CONCLUSION '\n",
      " 'Cazalys exploration activities during the reporting period have been '\n",
      " 'directed towards the acquisition of available reports and datasets relating '\n",
      " 'to previous exploration activities within the project area and assessing the '\n",
      " 'gold and nickel potential of the project area.Following the data review, the '\n",
      " 'Castle Hill Project was not rated as highly as other nearby Project areas '\n",
      " 'managed by Cazaly.(1997), Structural evolution of greenstone terranes in the '\n",
      " 'southern Eastern Goldfields, Western Australia, in Cassidy, C.F, Whitaker, '\n",
      " 'A.J., and Liu, S.F.']\n"
     ]
    },
    {
     "data": {
      "application/javascript": "\n            setTimeout(function() {\n                var nbb_cell_id = 10;\n                var nbb_unformatted_code = \"pprint(corpus[:1])\";\n                var nbb_formatted_code = \"pprint(corpus[:1])\";\n                var nbb_cells = Jupyter.notebook.get_cells();\n                for (var i = 0; i < nbb_cells.length; ++i) {\n                    if (nbb_cells[i].input_prompt_number == nbb_cell_id) {\n                        if (nbb_cells[i].get_text() == nbb_unformatted_code) {\n                             nbb_cells[i].set_text(nbb_formatted_code);\n                        }\n                        break;\n                    }\n                }\n            }, 500);\n            ",
      "text/plain": [
       "<IPython.core.display.Javascript object>"
      ]
     },
     "metadata": {},
     "output_type": "display_data"
    }
   ],
   "source": [
    "pprint(corpus[:1])"
   ]
  },
  {
   "cell_type": "markdown",
   "metadata": {
    "colab_type": "text",
    "id": "YCpmfWmvDt3z"
   },
   "source": [
    "## Pre-processing <a name=\"preprocessing\"></a>"
   ]
  },
  {
   "cell_type": "markdown",
   "metadata": {},
   "source": [
    "Before performing topic modelling, we need to pre-process our corpus. Here we will remove unnecessary information using regular expressions via `re`."
   ]
  },
  {
   "cell_type": "code",
   "execution_count": 11,
   "metadata": {},
   "outputs": [
    {
     "data": {
      "application/javascript": "\n            setTimeout(function() {\n                var nbb_cell_id = 11;\n                var nbb_unformatted_code = \"# Create set of English stopwords and include domain-specific words \\nstop_words = stopwords.words('english')\\nstop_words.extend(['from', 'subject', 're', 'edu', 'use'])\";\n                var nbb_formatted_code = \"# Create set of English stopwords and include domain-specific words\\nstop_words = stopwords.words(\\\"english\\\")\\nstop_words.extend([\\\"from\\\", \\\"subject\\\", \\\"re\\\", \\\"edu\\\", \\\"use\\\"])\";\n                var nbb_cells = Jupyter.notebook.get_cells();\n                for (var i = 0; i < nbb_cells.length; ++i) {\n                    if (nbb_cells[i].input_prompt_number == nbb_cell_id) {\n                        if (nbb_cells[i].get_text() == nbb_unformatted_code) {\n                             nbb_cells[i].set_text(nbb_formatted_code);\n                        }\n                        break;\n                    }\n                }\n            }, 500);\n            ",
      "text/plain": [
       "<IPython.core.display.Javascript object>"
      ]
     },
     "metadata": {},
     "output_type": "display_data"
    }
   ],
   "source": [
    "# Create set of English stopwords and include domain-specific words \n",
    "stop_words = stopwords.words('english')\n",
    "stop_words.extend(['from', 'subject', 're', 'edu', 'use'])"
   ]
  },
  {
   "cell_type": "markdown",
   "metadata": {},
   "source": [
    "Initialize spacy 'en' model, keeping only tagger component (for efficiency)"
   ]
  },
  {
   "cell_type": "code",
   "execution_count": 12,
   "metadata": {},
   "outputs": [
    {
     "name": "stdout",
     "output_type": "stream",
     "text": [
      "✔ Download and installation successful\n",
      "You can now load the package via spacy.load('en_core_web_sm')\n"
     ]
    },
    {
     "data": {
      "application/javascript": "\n            setTimeout(function() {\n                var nbb_cell_id = 12;\n                var nbb_unformatted_code = \"from spacy.cli import download\\n\\ndownload(\\\"en_core_web_sm\\\")\";\n                var nbb_formatted_code = \"from spacy.cli import download\\n\\ndownload(\\\"en_core_web_sm\\\")\";\n                var nbb_cells = Jupyter.notebook.get_cells();\n                for (var i = 0; i < nbb_cells.length; ++i) {\n                    if (nbb_cells[i].input_prompt_number == nbb_cell_id) {\n                        if (nbb_cells[i].get_text() == nbb_unformatted_code) {\n                             nbb_cells[i].set_text(nbb_formatted_code);\n                        }\n                        break;\n                    }\n                }\n            }, 500);\n            ",
      "text/plain": [
       "<IPython.core.display.Javascript object>"
      ]
     },
     "metadata": {},
     "output_type": "display_data"
    }
   ],
   "source": [
    "from spacy.cli import download\n",
    "\n",
    "download(\"en_core_web_sm\")"
   ]
  },
  {
   "cell_type": "code",
   "execution_count": 13,
   "metadata": {},
   "outputs": [
    {
     "data": {
      "application/javascript": "\n            setTimeout(function() {\n                var nbb_cell_id = 13;\n                var nbb_unformatted_code = \"nlp = spacy.load('en_core_web_sm', disable=['parser', 'ner'])\";\n                var nbb_formatted_code = \"nlp = spacy.load(\\\"en_core_web_sm\\\", disable=[\\\"parser\\\", \\\"ner\\\"])\";\n                var nbb_cells = Jupyter.notebook.get_cells();\n                for (var i = 0; i < nbb_cells.length; ++i) {\n                    if (nbb_cells[i].input_prompt_number == nbb_cell_id) {\n                        if (nbb_cells[i].get_text() == nbb_unformatted_code) {\n                             nbb_cells[i].set_text(nbb_formatted_code);\n                        }\n                        break;\n                    }\n                }\n            }, 500);\n            ",
      "text/plain": [
       "<IPython.core.display.Javascript object>"
      ]
     },
     "metadata": {},
     "output_type": "display_data"
    }
   ],
   "source": [
    "nlp = spacy.load('en_core_web_sm', disable=['parser', 'ner'])"
   ]
  },
  {
   "cell_type": "code",
   "execution_count": 14,
   "metadata": {},
   "outputs": [
    {
     "data": {
      "application/javascript": "\n            setTimeout(function() {\n                var nbb_cell_id = 14;\n                var nbb_unformatted_code = \"def lemmatize_doc(tokenized_doc: List[str], allowed_postags:list=['NOUN', 'ADJ', 'VERB', 'ADV']) -> List[str]:\\n    '''Document lemmatization using SpaCy\\n        \\n        Ref:\\n        - https://spacy.io/api/annotation\\n    '''\\n    \\n    spacy_doc = nlp(\\\" \\\".join(tokenized_doc))\\n    doc_out = []\\n    for token in spacy_doc:\\n        if token.pos_ in allowed_postags:\\n            doc_out.append(token.lemma_)\\n        else:\\n            doc_out.append(token.text)\\n    return doc_out\";\n                var nbb_formatted_code = \"def lemmatize_doc(\\n    tokenized_doc: List[str], allowed_postags: list = [\\\"NOUN\\\", \\\"ADJ\\\", \\\"VERB\\\", \\\"ADV\\\"]\\n) -> List[str]:\\n    \\\"\\\"\\\"Document lemmatization using SpaCy\\n\\n    Ref:\\n    - https://spacy.io/api/annotation\\n    \\\"\\\"\\\"\\n\\n    spacy_doc = nlp(\\\" \\\".join(tokenized_doc))\\n    doc_out = []\\n    for token in spacy_doc:\\n        if token.pos_ in allowed_postags:\\n            doc_out.append(token.lemma_)\\n        else:\\n            doc_out.append(token.text)\\n    return doc_out\";\n                var nbb_cells = Jupyter.notebook.get_cells();\n                for (var i = 0; i < nbb_cells.length; ++i) {\n                    if (nbb_cells[i].input_prompt_number == nbb_cell_id) {\n                        if (nbb_cells[i].get_text() == nbb_unformatted_code) {\n                             nbb_cells[i].set_text(nbb_formatted_code);\n                        }\n                        break;\n                    }\n                }\n            }, 500);\n            ",
      "text/plain": [
       "<IPython.core.display.Javascript object>"
      ]
     },
     "metadata": {},
     "output_type": "display_data"
    }
   ],
   "source": [
    "def lemmatize_doc(tokenized_doc: List[str], allowed_postags:list=['NOUN', 'ADJ', 'VERB', 'ADV']) -> List[str]:\n",
    "    '''Document lemmatization using SpaCy\n",
    "        \n",
    "        Ref:\n",
    "        - https://spacy.io/api/annotation\n",
    "    '''\n",
    "    \n",
    "    spacy_doc = nlp(\" \".join(tokenized_doc))\n",
    "    doc_out = []\n",
    "    for token in spacy_doc:\n",
    "        if token.pos_ in allowed_postags:\n",
    "            doc_out.append(token.lemma_)\n",
    "        else:\n",
    "            doc_out.append(token.text)\n",
    "    return doc_out"
   ]
  },
  {
   "cell_type": "code",
   "execution_count": 15,
   "metadata": {},
   "outputs": [
    {
     "data": {
      "application/javascript": "\n            setTimeout(function() {\n                var nbb_cell_id = 15;\n                var nbb_unformatted_code = \"def preprocess_and_tokenize_corpus(corpus: List[str],\\n                      stopwords: List[str],\\n                      allowed_postags:list=['NOUN', 'ADJ', 'VERB', 'ADV']) -> List[List[str]]:\\n    '''\\n    Preprocesses a corpus of texts. \\n    '''\\n    \\n    preprocessed_corpus = []\\n    for doc in corpus:\\n        if len(\\\" \\\".join(doc))==0 or len(\\\" \\\".join(doc))>1000000:\\n            pass\\n        else:\\n            # Remove Figure No.'s\\n            doc = re.sub('Figure\\\\s+\\\\d+', '', doc)\\n            # Remove all numbers\\n            doc = re.sub('\\\\d+', '', doc)\\n            # Remove new line characters\\n            doc = re.sub('\\\\s+', ' ', doc)\\n            # Remove distracting single quotes\\n            doc = re.sub(\\\"\\\\'\\\", '', doc)\\n            # Run Gensim's simple_preprocesser - this tokenizes the document\\n            doc = simple_preprocess(str(doc), deacc=True)\\n            # Remove stopwords\\n            doc = [word for word in doc if word not in stopwords]\\n            # Lemmatize\\n            doc = lemmatize_doc(doc)\\n            \\n            preprocessed_corpus.append(doc)\\n    return preprocessed_corpus\";\n                var nbb_formatted_code = \"def preprocess_and_tokenize_corpus(\\n    corpus: List[str],\\n    stopwords: List[str],\\n    allowed_postags: list = [\\\"NOUN\\\", \\\"ADJ\\\", \\\"VERB\\\", \\\"ADV\\\"],\\n) -> List[List[str]]:\\n    \\\"\\\"\\\"\\n    Preprocesses a corpus of texts.\\n    \\\"\\\"\\\"\\n\\n    preprocessed_corpus = []\\n    for doc in corpus:\\n        if len(\\\" \\\".join(doc)) == 0 or len(\\\" \\\".join(doc)) > 1000000:\\n            pass\\n        else:\\n            # Remove Figure No.'s\\n            doc = re.sub(\\\"Figure\\\\s+\\\\d+\\\", \\\"\\\", doc)\\n            # Remove all numbers\\n            doc = re.sub(\\\"\\\\d+\\\", \\\"\\\", doc)\\n            # Remove new line characters\\n            doc = re.sub(\\\"\\\\s+\\\", \\\" \\\", doc)\\n            # Remove distracting single quotes\\n            doc = re.sub(\\\"'\\\", \\\"\\\", doc)\\n            # Run Gensim's simple_preprocesser - this tokenizes the document\\n            doc = simple_preprocess(str(doc), deacc=True)\\n            # Remove stopwords\\n            doc = [word for word in doc if word not in stopwords]\\n            # Lemmatize\\n            doc = lemmatize_doc(doc)\\n\\n            preprocessed_corpus.append(doc)\\n    return preprocessed_corpus\";\n                var nbb_cells = Jupyter.notebook.get_cells();\n                for (var i = 0; i < nbb_cells.length; ++i) {\n                    if (nbb_cells[i].input_prompt_number == nbb_cell_id) {\n                        if (nbb_cells[i].get_text() == nbb_unformatted_code) {\n                             nbb_cells[i].set_text(nbb_formatted_code);\n                        }\n                        break;\n                    }\n                }\n            }, 500);\n            ",
      "text/plain": [
       "<IPython.core.display.Javascript object>"
      ]
     },
     "metadata": {},
     "output_type": "display_data"
    }
   ],
   "source": [
    "def preprocess_and_tokenize_corpus(corpus: List[str],\n",
    "                      stopwords: List[str],\n",
    "                      allowed_postags:list=['NOUN', 'ADJ', 'VERB', 'ADV']) -> List[List[str]]:\n",
    "    '''\n",
    "    Preprocesses a corpus of texts. \n",
    "    '''\n",
    "    \n",
    "    preprocessed_corpus = []\n",
    "    for doc in corpus:\n",
    "        if len(\" \".join(doc))==0 or len(\" \".join(doc))>1000000:\n",
    "            pass\n",
    "        else:\n",
    "            # Remove Figure No.'s\n",
    "            doc = re.sub('Figure\\s+\\d+', '', doc)\n",
    "            # Remove all numbers\n",
    "            doc = re.sub('\\d+', '', doc)\n",
    "            # Remove new line characters\n",
    "            doc = re.sub('\\s+', ' ', doc)\n",
    "            # Remove distracting single quotes\n",
    "            doc = re.sub(\"\\'\", '', doc)\n",
    "            # Run Gensim's simple_preprocesser - this tokenizes the document\n",
    "            doc = simple_preprocess(str(doc), deacc=True)\n",
    "            # Remove stopwords\n",
    "            doc = [word for word in doc if word not in stopwords]\n",
    "            # Lemmatize\n",
    "            doc = lemmatize_doc(doc)\n",
    "            \n",
    "            preprocessed_corpus.append(doc)\n",
    "    return preprocessed_corpus"
   ]
  },
  {
   "cell_type": "code",
   "execution_count": 16,
   "metadata": {
    "scrolled": true
   },
   "outputs": [
    {
     "data": {
      "application/javascript": "\n            setTimeout(function() {\n                var nbb_cell_id = 16;\n                var nbb_unformatted_code = \"# Pre-process and tokenize corpus\\ntokenized_corpus = preprocess_and_tokenize_corpus(corpus=corpus, stopwords=stop_words)\";\n                var nbb_formatted_code = \"# Pre-process and tokenize corpus\\ntokenized_corpus = preprocess_and_tokenize_corpus(corpus=corpus, stopwords=stop_words)\";\n                var nbb_cells = Jupyter.notebook.get_cells();\n                for (var i = 0; i < nbb_cells.length; ++i) {\n                    if (nbb_cells[i].input_prompt_number == nbb_cell_id) {\n                        if (nbb_cells[i].get_text() == nbb_unformatted_code) {\n                             nbb_cells[i].set_text(nbb_formatted_code);\n                        }\n                        break;\n                    }\n                }\n            }, 500);\n            ",
      "text/plain": [
       "<IPython.core.display.Javascript object>"
      ]
     },
     "metadata": {},
     "output_type": "display_data"
    }
   ],
   "source": [
    "# Pre-process and tokenize corpus\n",
    "tokenized_corpus = preprocess_and_tokenize_corpus(corpus=corpus, stopwords=stop_words)"
   ]
  },
  {
   "cell_type": "code",
   "execution_count": 17,
   "metadata": {},
   "outputs": [
    {
     "name": "stdout",
     "output_type": "stream",
     "text": [
      "[['combine',\n",
      "  'reporting',\n",
      "  'application',\n",
      "  'pende',\n",
      "  'status',\n",
      "  'sheet',\n",
      "  'kalgoorlie',\n",
      "  'sh',\n",
      "  'sheet',\n",
      "  'kalgoorlie',\n",
      "  'project',\n",
      "  'operator',\n",
      "  'cazaly',\n",
      "  'resources',\n",
      "  'limited',\n",
      "  'author',\n",
      "  'watts',\n",
      "  'date',\n",
      "  'september',\n",
      "  'distribution',\n",
      "  'department',\n",
      "  'industry',\n",
      "  'resource',\n",
      "  'cazaly',\n",
      "  'resources',\n",
      "  'limited',\n",
      "  'cazaly',\n",
      "  'resource',\n",
      "  'limit',\n",
      "  'september',\n",
      "  'castle',\n",
      "  'hill',\n",
      "  'project',\n",
      "  'tenement',\n",
      "  'location',\n",
      "  'plan',\n",
      "  'scale',\n",
      "  'regional',\n",
      "  'geology',\n",
      "  'exploration',\n",
      "  'index',\n",
      "  'map',\n",
      "  'scale',\n",
      "  'cazaly',\n",
      "  'resource',\n",
      "  'limit',\n",
      "  'september',\n",
      "  'summary',\n",
      "  'combine',\n",
      "  'mineral',\n",
      "  'exploration',\n",
      "  'report',\n",
      "  'castle',\n",
      "  'hill',\n",
      "  'project',\n",
      "  'detail',\n",
      "  'exploration',\n",
      "  'activity',\n",
      "  'undertake',\n",
      "  'cazaly',\n",
      "  'resources',\n",
      "  'limited',\n",
      "  'reporting',\n",
      "  'period',\n",
      "  'july',\n",
      "  'july',\n",
      "  'report',\n",
      "  'group',\n",
      "  'know',\n",
      "  'castle',\n",
      "  'hill',\n",
      "  'comprise',\n",
      "  'nine',\n",
      "  'grant',\n",
      "  'prospect',\n",
      "  'licence',\n",
      "  'project',\n",
      "  'area',\n",
      "  'cover',\n",
      "  'hectare',\n",
      "  'cazaly',\n",
      "  'register',\n",
      "  'holder',\n",
      "  'castle',\n",
      "  'hill',\n",
      "  'project',\n",
      "  'tenement',\n",
      "  'cazalys',\n",
      "  'exploration',\n",
      "  'activity',\n",
      "  'report',\n",
      "  'period',\n",
      "  'direct',\n",
      "  'towards',\n",
      "  'acquisition',\n",
      "  'available',\n",
      "  'report',\n",
      "  'dataset',\n",
      "  'relate',\n",
      "  'previous',\n",
      "  'exploration',\n",
      "  'activity',\n",
      "  'within',\n",
      "  'project',\n",
      "  'area',\n",
      "  'assess',\n",
      "  'gold',\n",
      "  'nickel',\n",
      "  'potential',\n",
      "  'project',\n",
      "  'area',\n",
      "  'follow',\n",
      "  'data',\n",
      "  'review',\n",
      "  'castle',\n",
      "  'hill',\n",
      "  'project',\n",
      "  'rate',\n",
      "  'highly',\n",
      "  'nearby',\n",
      "  'project',\n",
      "  'area',\n",
      "  'manage',\n",
      "  'cazaly',\n",
      "  'introduction',\n",
      "  'combine',\n",
      "  'mineral',\n",
      "  'exploration',\n",
      "  'report',\n",
      "  'castle',\n",
      "  'hill',\n",
      "  'project',\n",
      "  'detail',\n",
      "  'exploration',\n",
      "  'work',\n",
      "  'undertake',\n",
      "  'cazaly',\n",
      "  'resources',\n",
      "  'limited',\n",
      "  'cazaly',\n",
      "  'reporting',\n",
      "  'period',\n",
      "  'july',\n",
      "  'july',\n",
      "  'castle',\n",
      "  'hill',\n",
      "  'project',\n",
      "  'area',\n",
      "  'locate',\n",
      "  'km',\n",
      "  'wnw',\n",
      "  'kalgoorlie',\n",
      "  'lie',\n",
      "  'within',\n",
      "  'kunanalle',\n",
      "  'district',\n",
      "  'coolgardie',\n",
      "  'mineral',\n",
      "  'field',\n",
      "  'kalgoorlie',\n",
      "  'kalgoorlie',\n",
      "  'sh',\n",
      "  'map',\n",
      "  'sheet',\n",
      "  'tenure',\n",
      "  'reporting',\n",
      "  'group',\n",
      "  'know',\n",
      "  'castle',\n",
      "  'hill',\n",
      "  'comprise',\n",
      "  'nine',\n",
      "  'grant',\n",
      "  'prospect',\n",
      "  'licence',\n",
      "  'project',\n",
      "  'area',\n",
      "  'cover',\n",
      "  'hectare',\n",
      "  'refer',\n",
      "  'table',\n",
      "  'detail',\n",
      "  'cazaly',\n",
      "  'register',\n",
      "  'holder',\n",
      "  'castle',\n",
      "  'hill',\n",
      "  'project',\n",
      "  'tenement',\n",
      "  'application',\n",
      "  'combine',\n",
      "  'reporting',\n",
      "  'tenement',\n",
      "  'add',\n",
      "  'combined',\n",
      "  'reporting',\n",
      "  'group',\n",
      "  'lodge',\n",
      "  'cazaly',\n",
      "  'resource',\n",
      "  'limit',\n",
      "  'september',\n",
      "  'geology',\n",
      "  'regional',\n",
      "  'geology',\n",
      "  'castle',\n",
      "  'hill',\n",
      "  'project',\n",
      "  'area',\n",
      "  'lie',\n",
      "  'within',\n",
      "  'norseman',\n",
      "  'wiluna',\n",
      "  'archaean',\n",
      "  'greenstone',\n",
      "  'belt',\n",
      "  'eastern',\n",
      "  'goldfields',\n",
      "  'province',\n",
      "  'yilgarn',\n",
      "  'craton',\n",
      "  'belt',\n",
      "  'characterise',\n",
      "  'thick',\n",
      "  'possibly',\n",
      "  'rift',\n",
      "  'control',\n",
      "  'sequences',\n",
      "  'ultramafic',\n",
      "  'mafic',\n",
      "  'felsic',\n",
      "  'volcanic',\n",
      "  'clastic',\n",
      "  'intrusive',\n",
      "  'rock',\n",
      "  'greenstone',\n",
      "  'succession',\n",
      "  'southern',\n",
      "  'eastern',\n",
      "  'goldfield',\n",
      "  'segregate',\n",
      "  'elongate',\n",
      "  'structural',\n",
      "  'terrane',\n",
      "  'bound',\n",
      "  'regional',\n",
      "  'nnw',\n",
      "  'trend',\n",
      "  'fault',\n",
      "  'swag',\n",
      "  'low',\n",
      "  'part',\n",
      "  'supracrustal',\n",
      "  'succession',\n",
      "  'characterise',\n",
      "  'submarine',\n",
      "  'mafic',\n",
      "  'ultramafic',\n",
      "  'rock',\n",
      "  'thin',\n",
      "  'interflow',\n",
      "  'sediment',\n",
      "  'overlain',\n",
      "  'mostly',\n",
      "  'subaqueous',\n",
      "  'felsic',\n",
      "  'volcaniclastic',\n",
      "  'kalgoorlie',\n",
      "  'terrane',\n",
      "  'stratigraphic',\n",
      "  'sequence',\n",
      "  'extremely',\n",
      "  'consistent',\n",
      "  'felsic',\n",
      "  'volcanism',\n",
      "  'generally',\n",
      "  'post',\n",
      "  'date',\n",
      "  'mafic',\n",
      "  'ultramafic',\n",
      "  'volcanism',\n",
      "  'felsic',\n",
      "  'volcanism',\n",
      "  'observe',\n",
      "  'occur',\n",
      "  'upper',\n",
      "  'low',\n",
      "  'part',\n",
      "  'succession',\n",
      "  'coarse',\n",
      "  'clastics',\n",
      "  'conglomeratic',\n",
      "  'sequences',\n",
      "  'kurrawang',\n",
      "  'formation',\n",
      "  'unconformably',\n",
      "  'overly',\n",
      "  'faultcontact',\n",
      "  'greenstone',\n",
      "  'synclinal',\n",
      "  'basin',\n",
      "  'adjacent',\n",
      "  'overlie',\n",
      "  'major',\n",
      "  'regional',\n",
      "  'fault',\n",
      "  'swag',\n",
      "  'local',\n",
      "  'geology',\n",
      "  'majority',\n",
      "  'project',\n",
      "  'area',\n",
      "  'underlain',\n",
      "  'post',\n",
      "  'high',\n",
      "  'calcic',\n",
      "  'bali',\n",
      "  'monzogranite',\n",
      "  'lie',\n",
      "  'immediately',\n",
      "  'west',\n",
      "  'coolgardie',\n",
      "  'domain',\n",
      "  'sub',\n",
      "  'domain',\n",
      "  'kalgoorlie',\n",
      "  'terrane',\n",
      "  'northern',\n",
      "  'tenement',\n",
      "  'situate',\n",
      "  'north',\n",
      "  'kintore',\n",
      "  'tonalite',\n",
      "  'underlain',\n",
      "  'mafic',\n",
      "  'ultramafic',\n",
      "  'rock',\n",
      "  'coolgardie',\n",
      "  'domain',\n",
      "  'structural',\n",
      "  'geology',\n",
      "  'several',\n",
      "  'major',\n",
      "  'structure',\n",
      "  'traverse',\n",
      "  'section',\n",
      "  'project',\n",
      "  'area',\n",
      "  'north',\n",
      "  'northwest',\n",
      "  'trend',\n",
      "  'kunanalle',\n",
      "  'shear',\n",
      "  'zone',\n",
      "  'ksz',\n",
      "  'lie',\n",
      "  'along',\n",
      "  'mafic',\n",
      "  'ultramafic',\n",
      "  'contact',\n",
      "  'zone',\n",
      "  'within',\n",
      "  'tenement',\n",
      "  'late',\n",
      "  'north',\n",
      "  'northeast',\n",
      "  'trend',\n",
      "  'dextral',\n",
      "  'grant',\n",
      "  'patch',\n",
      "  'fault',\n",
      "  'cut',\n",
      "  'coolgardie',\n",
      "  'domain',\n",
      "  'sequence',\n",
      "  'structure',\n",
      "  'extend',\n",
      "  'adjacent',\n",
      "  'bali',\n",
      "  'monzogranite',\n",
      "  'tenement',\n",
      "  'also',\n",
      "  'overlie',\n",
      "  'part',\n",
      "  'kintore',\n",
      "  'anticline',\n",
      "  'axis',\n",
      "  'cazaly',\n",
      "  'resources',\n",
      "  'limit',\n",
      "  'september',\n",
      "  'exploration',\n",
      "  'activity',\n",
      "  'cazalys',\n",
      "  'exploration',\n",
      "  'activity',\n",
      "  'report',\n",
      "  'period',\n",
      "  'direct',\n",
      "  'towards',\n",
      "  'acquisition',\n",
      "  'available',\n",
      "  'report',\n",
      "  'dataset',\n",
      "  'relate',\n",
      "  'previous',\n",
      "  'exploration',\n",
      "  'activity',\n",
      "  'within',\n",
      "  'project',\n",
      "  'area',\n",
      "  'assess',\n",
      "  'gold',\n",
      "  'nickel',\n",
      "  'potential',\n",
      "  'project',\n",
      "  'area',\n",
      "  'project',\n",
      "  'review',\n",
      "  'follow',\n",
      "  'field',\n",
      "  'inspection',\n",
      "  'whole',\n",
      "  'project',\n",
      "  'area',\n",
      "  'available',\n",
      "  'datum',\n",
      "  'project',\n",
      "  'review',\n",
      "  'house',\n",
      "  'conjunction',\n",
      "  'datum',\n",
      "  'pertain',\n",
      "  'nearby',\n",
      "  'kunanalle',\n",
      "  'shear',\n",
      "  'zone',\n",
      "  'target',\n",
      "  'tenement',\n",
      "  'rate',\n",
      "  'potential',\n",
      "  'host',\n",
      "  'economic',\n",
      "  'gold',\n",
      "  'deposit',\n",
      "  'classify',\n",
      "  'accordingly',\n",
      "  'information',\n",
      "  'utilize',\n",
      "  'consider',\n",
      "  'future',\n",
      "  'exploration',\n",
      "  'program',\n",
      "  'across',\n",
      "  'tenement',\n",
      "  'group',\n",
      "  'nickel',\n",
      "  'review',\n",
      "  'castle',\n",
      "  'hill',\n",
      "  'project',\n",
      "  'include',\n",
      "  'cazaly',\n",
      "  'consolidated',\n",
      "  'minerals',\n",
      "  'limit',\n",
      "  'consmin',\n",
      "  'joint',\n",
      "  'venture',\n",
      "  'explore',\n",
      "  'kunanalle',\n",
      "  'region',\n",
      "  'nickel',\n",
      "  'mineralisation',\n",
      "  'nickel',\n",
      "  'potential',\n",
      "  'castle',\n",
      "  'hill',\n",
      "  'project',\n",
      "  'area',\n",
      "  'tenement',\n",
      "  'review',\n",
      "  'october',\n",
      "  'november',\n",
      "  'report',\n",
      "  'year',\n",
      "  'initial',\n",
      "  'review',\n",
      "  'highlight',\n",
      "  'anomaly',\n",
      "  'coincident',\n",
      "  'ni',\n",
      "  'cr',\n",
      "  'cu',\n",
      "  'zn',\n",
      "  'ratio',\n",
      "  'along',\n",
      "  'basalt',\n",
      "  'ultramafic',\n",
      "  'contact',\n",
      "  'immediately',\n",
      "  'east',\n",
      "  'area',\n",
      "  'subsequently',\n",
      "  'rab',\n",
      "  'drill',\n",
      "  'consmin',\n",
      "  'conclusion',\n",
      "  'cazalys',\n",
      "  'exploration',\n",
      "  'activity',\n",
      "  'report',\n",
      "  'period',\n",
      "  'direct',\n",
      "  'towards',\n",
      "  'acquisition',\n",
      "  'available',\n",
      "  'report',\n",
      "  'dataset',\n",
      "  'relate',\n",
      "  'previous',\n",
      "  'exploration',\n",
      "  'activity',\n",
      "  'within',\n",
      "  'project',\n",
      "  'area',\n",
      "  'assess',\n",
      "  'gold',\n",
      "  'nickel',\n",
      "  'potential',\n",
      "  'project',\n",
      "  'area',\n",
      "  'follow',\n",
      "  'data',\n",
      "  'review',\n",
      "  'castle',\n",
      "  'hill',\n",
      "  'project',\n",
      "  'rate',\n",
      "  'highly',\n",
      "  'nearby',\n",
      "  'project',\n",
      "  'area',\n",
      "  'manage',\n",
      "  'cazaly',\n",
      "  'structural',\n",
      "  'evolution',\n",
      "  'greenstone',\n",
      "  'terrane',\n",
      "  'southern',\n",
      "  'eastern',\n",
      "  'goldfields',\n",
      "  'western',\n",
      "  'australia',\n",
      "  'cassidy',\n",
      "  'whitaker',\n",
      "  'liu']]\n"
     ]
    },
    {
     "data": {
      "application/javascript": "\n            setTimeout(function() {\n                var nbb_cell_id = 17;\n                var nbb_unformatted_code = \"# View part of pre-processed corpus\\npprint(tokenized_corpus[:1])\";\n                var nbb_formatted_code = \"# View part of pre-processed corpus\\npprint(tokenized_corpus[:1])\";\n                var nbb_cells = Jupyter.notebook.get_cells();\n                for (var i = 0; i < nbb_cells.length; ++i) {\n                    if (nbb_cells[i].input_prompt_number == nbb_cell_id) {\n                        if (nbb_cells[i].get_text() == nbb_unformatted_code) {\n                             nbb_cells[i].set_text(nbb_formatted_code);\n                        }\n                        break;\n                    }\n                }\n            }, 500);\n            ",
      "text/plain": [
       "<IPython.core.display.Javascript object>"
      ]
     },
     "metadata": {},
     "output_type": "display_data"
    }
   ],
   "source": [
    "# View part of pre-processed corpus\n",
    "pprint(tokenized_corpus[:1])"
   ]
  },
  {
   "cell_type": "markdown",
   "metadata": {
    "colab_type": "text",
    "id": "DwrikYaRDt3-"
   },
   "source": [
    "### Creating bigram and trigrams - Gensim’s Phrases model"
   ]
  },
  {
   "cell_type": "markdown",
   "metadata": {},
   "source": [
    "Bigrams are two words frequently occurring together in the document. Trigrams are 3 words frequently occurring.\n",
    "\n",
    "Some examples in our example are: ‘front_bumper’, ‘oil_leak’, ‘maryland_college_park’ etc.\n",
    "\n",
    "Gensim’s Phrases model can build and implement the bigrams, trigrams, quadgrams and more. The two important arguments to Phrases are min_count and threshold. The higher the values of these param, the harder it is for words to be combined to bigrams."
   ]
  },
  {
   "cell_type": "markdown",
   "metadata": {},
   "source": [
    "In this notebook, we focus on building a bigram model. However the code that is required to build a trigram model is made available (it just needs to be converted to a code cell)."
   ]
  },
  {
   "cell_type": "code",
   "execution_count": 18,
   "metadata": {
    "colab": {
     "base_uri": "https://localhost:8080/",
     "height": 51
    },
    "colab_type": "code",
    "executionInfo": {
     "elapsed": 25774,
     "status": "ok",
     "timestamp": 1585055301850,
     "user": {
      "displayName": "Tyler Bikaun",
      "photoUrl": "",
      "userId": "18384825377619195869"
     },
     "user_tz": -480
    },
    "id": "eQ75jfFIDt4A",
    "outputId": "49dc8044-819d-4a30-84ea-984d2a194bd1"
   },
   "outputs": [
    {
     "data": {
      "application/javascript": "\n            setTimeout(function() {\n                var nbb_cell_id = 18;\n                var nbb_unformatted_code = \"bigram = gensim.models.Phrases(tokenized_corpus, min_count=5, threshold=100) # higher threshold fewer phrases.\";\n                var nbb_formatted_code = \"bigram = gensim.models.Phrases(\\n    tokenized_corpus, min_count=5, threshold=100\\n)  # higher threshold fewer phrases.\";\n                var nbb_cells = Jupyter.notebook.get_cells();\n                for (var i = 0; i < nbb_cells.length; ++i) {\n                    if (nbb_cells[i].input_prompt_number == nbb_cell_id) {\n                        if (nbb_cells[i].get_text() == nbb_unformatted_code) {\n                             nbb_cells[i].set_text(nbb_formatted_code);\n                        }\n                        break;\n                    }\n                }\n            }, 500);\n            ",
      "text/plain": [
       "<IPython.core.display.Javascript object>"
      ]
     },
     "metadata": {},
     "output_type": "display_data"
    }
   ],
   "source": [
    "bigram = gensim.models.Phrases(tokenized_corpus, min_count=5, threshold=100) # higher threshold fewer phrases."
   ]
  },
  {
   "cell_type": "raw",
   "metadata": {},
   "source": [
    "trigram = gensim.models.Phrases(bigram[tokenized_corpus], threshold=100)  "
   ]
  },
  {
   "cell_type": "markdown",
   "metadata": {},
   "source": [
    "Faster way to get a sentence clubbed as a trigram/bigram"
   ]
  },
  {
   "cell_type": "code",
   "execution_count": 19,
   "metadata": {
    "colab": {},
    "colab_type": "code",
    "id": "3T09XJCTE6tc"
   },
   "outputs": [
    {
     "data": {
      "application/javascript": "\n            setTimeout(function() {\n                var nbb_cell_id = 19;\n                var nbb_unformatted_code = \"bigram_mod = gensim.models.phrases.Phraser(bigram)\";\n                var nbb_formatted_code = \"bigram_mod = gensim.models.phrases.Phraser(bigram)\";\n                var nbb_cells = Jupyter.notebook.get_cells();\n                for (var i = 0; i < nbb_cells.length; ++i) {\n                    if (nbb_cells[i].input_prompt_number == nbb_cell_id) {\n                        if (nbb_cells[i].get_text() == nbb_unformatted_code) {\n                             nbb_cells[i].set_text(nbb_formatted_code);\n                        }\n                        break;\n                    }\n                }\n            }, 500);\n            ",
      "text/plain": [
       "<IPython.core.display.Javascript object>"
      ]
     },
     "metadata": {},
     "output_type": "display_data"
    }
   ],
   "source": [
    "bigram_mod = gensim.models.phrases.Phraser(bigram)"
   ]
  },
  {
   "cell_type": "raw",
   "metadata": {},
   "source": [
    "trigram_mod = gensim.models.phrases.Phraser(trigram)"
   ]
  },
  {
   "cell_type": "markdown",
   "metadata": {},
   "source": [
    "View example of bigram model"
   ]
  },
  {
   "cell_type": "code",
   "execution_count": 20,
   "metadata": {},
   "outputs": [
    {
     "name": "stdout",
     "output_type": "stream",
     "text": [
      "['combine',\n",
      " 'reporting',\n",
      " 'application',\n",
      " 'pende',\n",
      " 'status',\n",
      " 'sheet',\n",
      " 'kalgoorlie',\n",
      " 'sh',\n",
      " 'sheet',\n",
      " 'kalgoorlie',\n",
      " 'project',\n",
      " 'operator',\n",
      " 'cazaly_resources',\n",
      " 'limited',\n",
      " 'author',\n",
      " 'watts',\n",
      " 'date',\n",
      " 'september',\n",
      " 'distribution',\n",
      " 'department_industry',\n",
      " 'resource',\n",
      " 'cazaly_resources',\n",
      " 'limited',\n",
      " 'cazaly',\n",
      " 'resource',\n",
      " 'limit',\n",
      " 'september',\n",
      " 'castle_hill',\n",
      " 'project',\n",
      " 'tenement',\n",
      " 'location',\n",
      " 'plan',\n",
      " 'scale',\n",
      " 'regional',\n",
      " 'geology',\n",
      " 'exploration',\n",
      " 'index',\n",
      " 'map',\n",
      " 'scale',\n",
      " 'cazaly',\n",
      " 'resource',\n",
      " 'limit',\n",
      " 'september',\n",
      " 'summary',\n",
      " 'combine',\n",
      " 'mineral',\n",
      " 'exploration',\n",
      " 'report',\n",
      " 'castle_hill',\n",
      " 'project',\n",
      " 'detail',\n",
      " 'exploration',\n",
      " 'activity',\n",
      " 'undertake',\n",
      " 'cazaly_resources',\n",
      " 'limited',\n",
      " 'reporting_period',\n",
      " 'july',\n",
      " 'july',\n",
      " 'report',\n",
      " 'group',\n",
      " 'know',\n",
      " 'castle_hill',\n",
      " 'comprise',\n",
      " 'nine',\n",
      " 'grant',\n",
      " 'prospect',\n",
      " 'licence',\n",
      " 'project',\n",
      " 'area',\n",
      " 'cover',\n",
      " 'hectare_cazaly',\n",
      " 'register_holder',\n",
      " 'castle_hill',\n",
      " 'project',\n",
      " 'tenement',\n",
      " 'cazalys',\n",
      " 'exploration',\n",
      " 'activity',\n",
      " 'report',\n",
      " 'period',\n",
      " 'direct_towards',\n",
      " 'acquisition',\n",
      " 'available',\n",
      " 'report',\n",
      " 'dataset',\n",
      " 'relate',\n",
      " 'previous',\n",
      " 'exploration',\n",
      " 'activity',\n",
      " 'within',\n",
      " 'project',\n",
      " 'area',\n",
      " 'assess',\n",
      " 'gold',\n",
      " 'nickel',\n",
      " 'potential',\n",
      " 'project',\n",
      " 'area',\n",
      " 'follow',\n",
      " 'data',\n",
      " 'review',\n",
      " 'castle_hill',\n",
      " 'project',\n",
      " 'rate',\n",
      " 'highly',\n",
      " 'nearby',\n",
      " 'project',\n",
      " 'area',\n",
      " 'manage',\n",
      " 'cazaly',\n",
      " 'introduction',\n",
      " 'combine',\n",
      " 'mineral',\n",
      " 'exploration',\n",
      " 'report',\n",
      " 'castle_hill',\n",
      " 'project',\n",
      " 'detail',\n",
      " 'exploration',\n",
      " 'work',\n",
      " 'undertake',\n",
      " 'cazaly_resources',\n",
      " 'limited',\n",
      " 'cazaly',\n",
      " 'reporting_period',\n",
      " 'july',\n",
      " 'july',\n",
      " 'castle_hill',\n",
      " 'project',\n",
      " 'area',\n",
      " 'locate',\n",
      " 'km',\n",
      " 'wnw',\n",
      " 'kalgoorlie',\n",
      " 'lie',\n",
      " 'within',\n",
      " 'kunanalle',\n",
      " 'district',\n",
      " 'coolgardie',\n",
      " 'mineral',\n",
      " 'field',\n",
      " 'kalgoorlie',\n",
      " 'kalgoorlie',\n",
      " 'sh',\n",
      " 'map',\n",
      " 'sheet',\n",
      " 'tenure',\n",
      " 'reporting',\n",
      " 'group',\n",
      " 'know',\n",
      " 'castle_hill',\n",
      " 'comprise',\n",
      " 'nine',\n",
      " 'grant',\n",
      " 'prospect',\n",
      " 'licence',\n",
      " 'project',\n",
      " 'area',\n",
      " 'cover',\n",
      " 'hectare',\n",
      " 'refer',\n",
      " 'table',\n",
      " 'detail',\n",
      " 'cazaly',\n",
      " 'register_holder',\n",
      " 'castle_hill',\n",
      " 'project',\n",
      " 'tenement',\n",
      " 'application',\n",
      " 'combine',\n",
      " 'reporting',\n",
      " 'tenement',\n",
      " 'add',\n",
      " 'combined',\n",
      " 'reporting',\n",
      " 'group',\n",
      " 'lodge',\n",
      " 'cazaly',\n",
      " 'resource',\n",
      " 'limit',\n",
      " 'september',\n",
      " 'geology',\n",
      " 'regional',\n",
      " 'geology',\n",
      " 'castle_hill',\n",
      " 'project',\n",
      " 'area',\n",
      " 'lie',\n",
      " 'within',\n",
      " 'norseman_wiluna',\n",
      " 'archaean',\n",
      " 'greenstone_belt',\n",
      " 'eastern_goldfields',\n",
      " 'province',\n",
      " 'yilgarn_craton',\n",
      " 'belt',\n",
      " 'characterise',\n",
      " 'thick',\n",
      " 'possibly_rift',\n",
      " 'control',\n",
      " 'sequences',\n",
      " 'ultramafic',\n",
      " 'mafic',\n",
      " 'felsic',\n",
      " 'volcanic',\n",
      " 'clastic',\n",
      " 'intrusive',\n",
      " 'rock',\n",
      " 'greenstone',\n",
      " 'succession',\n",
      " 'southern',\n",
      " 'eastern_goldfield',\n",
      " 'segregate_elongate',\n",
      " 'structural',\n",
      " 'terrane',\n",
      " 'bound',\n",
      " 'regional',\n",
      " 'nnw',\n",
      " 'trend',\n",
      " 'fault',\n",
      " 'swag',\n",
      " 'low',\n",
      " 'part',\n",
      " 'supracrustal_succession',\n",
      " 'characterise',\n",
      " 'submarine',\n",
      " 'mafic',\n",
      " 'ultramafic',\n",
      " 'rock',\n",
      " 'thin',\n",
      " 'interflow_sediment',\n",
      " 'overlain',\n",
      " 'mostly',\n",
      " 'subaqueous',\n",
      " 'felsic',\n",
      " 'volcaniclastic',\n",
      " 'kalgoorlie',\n",
      " 'terrane',\n",
      " 'stratigraphic',\n",
      " 'sequence',\n",
      " 'extremely',\n",
      " 'consistent',\n",
      " 'felsic_volcanism',\n",
      " 'generally',\n",
      " 'post',\n",
      " 'date',\n",
      " 'mafic',\n",
      " 'ultramafic',\n",
      " 'volcanism',\n",
      " 'felsic_volcanism',\n",
      " 'observe',\n",
      " 'occur',\n",
      " 'upper',\n",
      " 'low',\n",
      " 'part',\n",
      " 'succession',\n",
      " 'coarse',\n",
      " 'clastics_conglomeratic',\n",
      " 'sequences_kurrawang',\n",
      " 'formation',\n",
      " 'unconformably_overly',\n",
      " 'faultcontact',\n",
      " 'greenstone',\n",
      " 'synclinal',\n",
      " 'basin',\n",
      " 'adjacent',\n",
      " 'overlie',\n",
      " 'major',\n",
      " 'regional',\n",
      " 'fault',\n",
      " 'swag',\n",
      " 'local',\n",
      " 'geology',\n",
      " 'majority',\n",
      " 'project',\n",
      " 'area',\n",
      " 'underlain',\n",
      " 'post',\n",
      " 'high',\n",
      " 'calcic_bali',\n",
      " 'monzogranite',\n",
      " 'lie',\n",
      " 'immediately',\n",
      " 'west',\n",
      " 'coolgardie',\n",
      " 'domain',\n",
      " 'sub',\n",
      " 'domain',\n",
      " 'kalgoorlie',\n",
      " 'terrane',\n",
      " 'northern',\n",
      " 'tenement',\n",
      " 'situate',\n",
      " 'north',\n",
      " 'kintore_tonalite',\n",
      " 'underlain',\n",
      " 'mafic',\n",
      " 'ultramafic',\n",
      " 'rock',\n",
      " 'coolgardie',\n",
      " 'domain',\n",
      " 'structural',\n",
      " 'geology',\n",
      " 'several',\n",
      " 'major',\n",
      " 'structure',\n",
      " 'traverse',\n",
      " 'section',\n",
      " 'project',\n",
      " 'area',\n",
      " 'north',\n",
      " 'northwest',\n",
      " 'trend',\n",
      " 'kunanalle',\n",
      " 'shear',\n",
      " 'zone',\n",
      " 'ksz',\n",
      " 'lie',\n",
      " 'along',\n",
      " 'mafic',\n",
      " 'ultramafic',\n",
      " 'contact',\n",
      " 'zone',\n",
      " 'within',\n",
      " 'tenement',\n",
      " 'late',\n",
      " 'north',\n",
      " 'northeast',\n",
      " 'trend',\n",
      " 'dextral',\n",
      " 'grant',\n",
      " 'patch',\n",
      " 'fault',\n",
      " 'cut',\n",
      " 'coolgardie',\n",
      " 'domain',\n",
      " 'sequence',\n",
      " 'structure',\n",
      " 'extend',\n",
      " 'adjacent',\n",
      " 'bali_monzogranite',\n",
      " 'tenement',\n",
      " 'also',\n",
      " 'overlie',\n",
      " 'part',\n",
      " 'kintore',\n",
      " 'anticline',\n",
      " 'axis',\n",
      " 'cazaly_resources',\n",
      " 'limit',\n",
      " 'september',\n",
      " 'exploration',\n",
      " 'activity',\n",
      " 'cazalys',\n",
      " 'exploration',\n",
      " 'activity',\n",
      " 'report',\n",
      " 'period',\n",
      " 'direct_towards',\n",
      " 'acquisition',\n",
      " 'available',\n",
      " 'report',\n",
      " 'dataset',\n",
      " 'relate',\n",
      " 'previous',\n",
      " 'exploration',\n",
      " 'activity',\n",
      " 'within',\n",
      " 'project',\n",
      " 'area',\n",
      " 'assess',\n",
      " 'gold',\n",
      " 'nickel',\n",
      " 'potential',\n",
      " 'project',\n",
      " 'area',\n",
      " 'project',\n",
      " 'review',\n",
      " 'follow',\n",
      " 'field',\n",
      " 'inspection',\n",
      " 'whole',\n",
      " 'project',\n",
      " 'area',\n",
      " 'available',\n",
      " 'datum',\n",
      " 'project',\n",
      " 'review',\n",
      " 'house',\n",
      " 'conjunction',\n",
      " 'datum',\n",
      " 'pertain',\n",
      " 'nearby',\n",
      " 'kunanalle',\n",
      " 'shear',\n",
      " 'zone',\n",
      " 'target',\n",
      " 'tenement',\n",
      " 'rate',\n",
      " 'potential',\n",
      " 'host',\n",
      " 'economic',\n",
      " 'gold',\n",
      " 'deposit',\n",
      " 'classify',\n",
      " 'accordingly',\n",
      " 'information',\n",
      " 'utilize',\n",
      " 'consider',\n",
      " 'future',\n",
      " 'exploration',\n",
      " 'program',\n",
      " 'across',\n",
      " 'tenement',\n",
      " 'group',\n",
      " 'nickel',\n",
      " 'review',\n",
      " 'castle_hill',\n",
      " 'project',\n",
      " 'include',\n",
      " 'cazaly',\n",
      " 'consolidated',\n",
      " 'minerals',\n",
      " 'limit',\n",
      " 'consmin',\n",
      " 'joint_venture',\n",
      " 'explore',\n",
      " 'kunanalle',\n",
      " 'region',\n",
      " 'nickel',\n",
      " 'mineralisation',\n",
      " 'nickel',\n",
      " 'potential',\n",
      " 'castle_hill',\n",
      " 'project',\n",
      " 'area',\n",
      " 'tenement',\n",
      " 'review',\n",
      " 'october',\n",
      " 'november',\n",
      " 'report',\n",
      " 'year',\n",
      " 'initial',\n",
      " 'review',\n",
      " 'highlight',\n",
      " 'anomaly',\n",
      " 'coincident',\n",
      " 'ni',\n",
      " 'cr',\n",
      " 'cu',\n",
      " 'zn',\n",
      " 'ratio',\n",
      " 'along',\n",
      " 'basalt',\n",
      " 'ultramafic',\n",
      " 'contact',\n",
      " 'immediately',\n",
      " 'east',\n",
      " 'area',\n",
      " 'subsequently',\n",
      " 'rab',\n",
      " 'drill',\n",
      " 'consmin',\n",
      " 'conclusion',\n",
      " 'cazalys',\n",
      " 'exploration',\n",
      " 'activity',\n",
      " 'report',\n",
      " 'period',\n",
      " 'direct_towards',\n",
      " 'acquisition',\n",
      " 'available',\n",
      " 'report',\n",
      " 'dataset',\n",
      " 'relate',\n",
      " 'previous',\n",
      " 'exploration',\n",
      " 'activity',\n",
      " 'within',\n",
      " 'project',\n",
      " 'area',\n",
      " 'assess',\n",
      " 'gold',\n",
      " 'nickel',\n",
      " 'potential',\n",
      " 'project',\n",
      " 'area',\n",
      " 'follow',\n",
      " 'data',\n",
      " 'review',\n",
      " 'castle_hill',\n",
      " 'project',\n",
      " 'rate',\n",
      " 'highly',\n",
      " 'nearby',\n",
      " 'project',\n",
      " 'area',\n",
      " 'manage',\n",
      " 'cazaly',\n",
      " 'structural',\n",
      " 'evolution',\n",
      " 'greenstone',\n",
      " 'terrane',\n",
      " 'southern',\n",
      " 'eastern_goldfields',\n",
      " 'western',\n",
      " 'australia',\n",
      " 'cassidy_whitaker',\n",
      " 'liu']\n"
     ]
    },
    {
     "data": {
      "application/javascript": "\n            setTimeout(function() {\n                var nbb_cell_id = 20;\n                var nbb_unformatted_code = \"# See example of bigram model applied to pre-processed corpus\\npprint(bigram_mod[tokenized_corpus[0]])\";\n                var nbb_formatted_code = \"# See example of bigram model applied to pre-processed corpus\\npprint(bigram_mod[tokenized_corpus[0]])\";\n                var nbb_cells = Jupyter.notebook.get_cells();\n                for (var i = 0; i < nbb_cells.length; ++i) {\n                    if (nbb_cells[i].input_prompt_number == nbb_cell_id) {\n                        if (nbb_cells[i].get_text() == nbb_unformatted_code) {\n                             nbb_cells[i].set_text(nbb_formatted_code);\n                        }\n                        break;\n                    }\n                }\n            }, 500);\n            ",
      "text/plain": [
       "<IPython.core.display.Javascript object>"
      ]
     },
     "metadata": {},
     "output_type": "display_data"
    }
   ],
   "source": [
    "# See example of bigram model applied to pre-processed corpus\n",
    "pprint(bigram_mod[tokenized_corpus[0]])"
   ]
  },
  {
   "cell_type": "raw",
   "metadata": {
    "colab": {
     "base_uri": "https://localhost:8080/",
     "height": 1000
    },
    "colab_type": "code",
    "executionInfo": {
     "elapsed": 37800,
     "status": "ok",
     "timestamp": 1585055314439,
     "user": {
      "displayName": "Tyler Bikaun",
      "photoUrl": "",
      "userId": "18384825377619195869"
     },
     "user_tz": -480
    },
    "id": "ZOG0O89bDt4D",
    "outputId": "1e42ba86-a15a-490d-e7bc-c7071058cabb",
    "scrolled": true
   },
   "source": [
    "# See trigram example\n",
    "pprint(trigram_mod[bigram_mod[tokenized_corpus[0]]])"
   ]
  },
  {
   "cell_type": "markdown",
   "metadata": {},
   "source": [
    "Convert tokenized corpus into bi-gram phrases - this will allow the topic model to capture domain specific phrases in addition to individual words"
   ]
  },
  {
   "cell_type": "code",
   "execution_count": 21,
   "metadata": {},
   "outputs": [
    {
     "data": {
      "application/javascript": "\n            setTimeout(function() {\n                var nbb_cell_id = 21;\n                var nbb_unformatted_code = \"bigram_corpus = [bigram_mod[tokenized_doc] for tokenized_doc in tokenized_corpus]\";\n                var nbb_formatted_code = \"bigram_corpus = [bigram_mod[tokenized_doc] for tokenized_doc in tokenized_corpus]\";\n                var nbb_cells = Jupyter.notebook.get_cells();\n                for (var i = 0; i < nbb_cells.length; ++i) {\n                    if (nbb_cells[i].input_prompt_number == nbb_cell_id) {\n                        if (nbb_cells[i].get_text() == nbb_unformatted_code) {\n                             nbb_cells[i].set_text(nbb_formatted_code);\n                        }\n                        break;\n                    }\n                }\n            }, 500);\n            ",
      "text/plain": [
       "<IPython.core.display.Javascript object>"
      ]
     },
     "metadata": {},
     "output_type": "display_data"
    }
   ],
   "source": [
    "bigram_corpus = [bigram_mod[tokenized_doc] for tokenized_doc in tokenized_corpus]"
   ]
  },
  {
   "cell_type": "markdown",
   "metadata": {},
   "source": [
    "To perform topic modelling with LDA we need to convert the corpus of pre-processed texts into a bag-of-words (bow) representation with count frequencies."
   ]
  },
  {
   "cell_type": "code",
   "execution_count": 22,
   "metadata": {},
   "outputs": [
    {
     "data": {
      "application/javascript": "\n            setTimeout(function() {\n                var nbb_cell_id = 22;\n                var nbb_unformatted_code = \"# Create a dictionary that maps each word to a unique id\\nid2word = corpora.Dictionary(bigram_corpus)\";\n                var nbb_formatted_code = \"# Create a dictionary that maps each word to a unique id\\nid2word = corpora.Dictionary(bigram_corpus)\";\n                var nbb_cells = Jupyter.notebook.get_cells();\n                for (var i = 0; i < nbb_cells.length; ++i) {\n                    if (nbb_cells[i].input_prompt_number == nbb_cell_id) {\n                        if (nbb_cells[i].get_text() == nbb_unformatted_code) {\n                             nbb_cells[i].set_text(nbb_formatted_code);\n                        }\n                        break;\n                    }\n                }\n            }, 500);\n            ",
      "text/plain": [
       "<IPython.core.display.Javascript object>"
      ]
     },
     "metadata": {},
     "output_type": "display_data"
    }
   ],
   "source": [
    "# Create a dictionary that maps each word to a unique id\n",
    "id2word = corpora.Dictionary(bigram_corpus)"
   ]
  },
  {
   "cell_type": "code",
   "execution_count": 23,
   "metadata": {},
   "outputs": [
    {
     "data": {
      "text/plain": [
       "'project'"
      ]
     },
     "execution_count": 23,
     "metadata": {},
     "output_type": "execute_result"
    },
    {
     "data": {
      "application/javascript": "\n            setTimeout(function() {\n                var nbb_cell_id = 23;\n                var nbb_unformatted_code = \"id2word[162]\";\n                var nbb_formatted_code = \"id2word[162]\";\n                var nbb_cells = Jupyter.notebook.get_cells();\n                for (var i = 0; i < nbb_cells.length; ++i) {\n                    if (nbb_cells[i].input_prompt_number == nbb_cell_id) {\n                        if (nbb_cells[i].get_text() == nbb_unformatted_code) {\n                             nbb_cells[i].set_text(nbb_formatted_code);\n                        }\n                        break;\n                    }\n                }\n            }, 500);\n            ",
      "text/plain": [
       "<IPython.core.display.Javascript object>"
      ]
     },
     "metadata": {},
     "output_type": "display_data"
    }
   ],
   "source": [
    "id2word[162]"
   ]
  },
  {
   "cell_type": "markdown",
   "metadata": {},
   "source": [
    "Convert the bigram corpus into a [bag-of-words (bow) representation](https://radimrehurek.com/gensim/corpora/dictionary.html#gensim.corpora.dictionary.Dictionary.doc2bow)"
   ]
  },
  {
   "cell_type": "code",
   "execution_count": 24,
   "metadata": {
    "colab": {},
    "colab_type": "code",
    "id": "baZWBbnBDt4Z"
   },
   "outputs": [
    {
     "data": {
      "application/javascript": "\n            setTimeout(function() {\n                var nbb_cell_id = 24;\n                var nbb_unformatted_code = \"bow_corpus = [id2word.doc2bow(text) for text in bigram_corpus]\";\n                var nbb_formatted_code = \"bow_corpus = [id2word.doc2bow(text) for text in bigram_corpus]\";\n                var nbb_cells = Jupyter.notebook.get_cells();\n                for (var i = 0; i < nbb_cells.length; ++i) {\n                    if (nbb_cells[i].input_prompt_number == nbb_cell_id) {\n                        if (nbb_cells[i].get_text() == nbb_unformatted_code) {\n                             nbb_cells[i].set_text(nbb_formatted_code);\n                        }\n                        break;\n                    }\n                }\n            }, 500);\n            ",
      "text/plain": [
       "<IPython.core.display.Javascript object>"
      ]
     },
     "metadata": {},
     "output_type": "display_data"
    }
   ],
   "source": [
    "bow_corpus = [id2word.doc2bow(text) for text in bigram_corpus]"
   ]
  },
  {
   "cell_type": "code",
   "execution_count": 25,
   "metadata": {
    "colab": {
     "base_uri": "https://localhost:8080/",
     "height": 54
    },
    "colab_type": "code",
    "executionInfo": {
     "elapsed": 111407,
     "status": "ok",
     "timestamp": 1585055394784,
     "user": {
      "displayName": "Tyler Bikaun",
      "photoUrl": "",
      "userId": "18384825377619195869"
     },
     "user_tz": -480
    },
    "id": "v0icteGfFXEp",
    "outputId": "e47c4732-e9bd-4da2-a7cf-6416f87af4f1"
   },
   "outputs": [
    {
     "name": "stdout",
     "output_type": "stream",
     "text": [
      "[[(0, 1), (1, 3), (2, 1), (3, 8), (4, 1), (5, 2), (6, 2), (7, 1), (8, 1), (9, 1), (10, 2), (11, 1), (12, 17), (13, 3), (14, 1), (15, 1), (16, 4), (17, 1), (18, 1), (19, 1), (20, 1), (21, 1), (22, 1), (23, 1), (24, 1), (25, 13), (26, 8), (27, 5), (28, 3), (29, 2), (30, 1), (31, 1), (32, 1), (33, 1), (34, 1), (35, 4), (36, 1), (37, 2), (38, 1), (39, 1), (40, 1), (41, 1), (42, 2), (43, 1), (44, 2), (45, 1), (46, 4), (47, 2), (48, 1), (49, 1), (50, 1), (51, 2), (52, 3), (53, 2), (54, 2), (55, 1), (56, 1), (57, 3), (58, 1), (59, 3), (60, 1), (61, 1), (62, 4), (63, 1), (64, 1), (65, 1), (66, 2), (67, 1), (68, 1), (69, 13), (70, 1), (71, 1), (72, 1), (73, 3), (74, 1), (75, 2), (76, 2), (77, 2), (78, 3), (79, 1), (80, 1), (81, 1), (82, 5), (83, 4), (84, 3), (85, 3), (86, 1), (87, 4), (88, 1), (89, 1), (90, 1), (91, 1), (92, 2), (93, 1), (94, 1), (95, 2), (96, 1), (97, 1), (98, 1), (99, 1), (100, 1), (101, 1), (102, 1), (103, 1), (104, 1), (105, 4), (106, 7), (107, 1), (108, 1), (109, 1), (110, 2), (111, 1), (112, 4), (113, 1), (114, 2), (115, 4), (116, 5), (117, 4), (118, 1), (119, 1), (120, 1), (121, 1), (122, 1), (123, 2), (124, 5), (125, 2), (126, 1), (127, 2), (128, 2), (129, 3), (130, 1), (131, 1), (132, 1), (133, 1), (134, 3), (135, 1), (136, 6), (137, 2), (138, 1), (139, 1), (140, 3), (141, 1), (142, 1), (143, 1), (144, 1), (145, 1), (146, 1), (147, 1), (148, 1), (149, 1), (150, 2), (151, 3), (152, 1), (153, 1), (154, 3), (155, 1), (156, 1), (157, 1), (158, 2), (159, 5), (160, 3), (161, 1), (162, 27), (163, 2), (164, 1), (165, 1), (166, 3), (167, 1), (168, 1), (169, 1), (170, 4), (171, 2), (172, 3), (173, 10), (174, 4), (175, 2), (176, 4), (177, 7), (178, 3), (179, 2), (180, 1), (181, 1), (182, 5), (183, 2), (184, 1), (185, 1), (186, 1), (187, 2), (188, 2), (189, 3), (190, 1), (191, 2), (192, 1), (193, 1), (194, 3), (195, 2), (196, 1), (197, 1), (198, 1), (199, 1), (200, 2), (201, 1), (202, 1), (203, 2), (204, 1), (205, 1), (206, 1), (207, 10), (208, 1), (209, 4), (210, 1), (211, 1), (212, 1), (213, 3), (214, 6), (215, 1), (216, 2), (217, 2), (218, 1), (219, 1), (220, 1), (221, 1), (222, 1), (223, 1), (224, 1), (225, 1), (226, 1), (227, 6), (228, 1), (229, 1), (230, 1), (231, 1), (232, 1), (233, 3)]]\n"
     ]
    },
    {
     "data": {
      "application/javascript": "\n            setTimeout(function() {\n                var nbb_cell_id = 25;\n                var nbb_unformatted_code = \"# Review a single document in bow format; (index, count frequency) \\nprint(bow_corpus[:1])\";\n                var nbb_formatted_code = \"# Review a single document in bow format; (index, count frequency)\\nprint(bow_corpus[:1])\";\n                var nbb_cells = Jupyter.notebook.get_cells();\n                for (var i = 0; i < nbb_cells.length; ++i) {\n                    if (nbb_cells[i].input_prompt_number == nbb_cell_id) {\n                        if (nbb_cells[i].get_text() == nbb_unformatted_code) {\n                             nbb_cells[i].set_text(nbb_formatted_code);\n                        }\n                        break;\n                    }\n                }\n            }, 500);\n            ",
      "text/plain": [
       "<IPython.core.display.Javascript object>"
      ]
     },
     "metadata": {},
     "output_type": "display_data"
    }
   ],
   "source": [
    "# Review a single document in bow format; (index, count frequency) \n",
    "print(bow_corpus[:1])"
   ]
  },
  {
   "cell_type": "code",
   "execution_count": 26,
   "metadata": {
    "colab": {
     "base_uri": "https://localhost:8080/",
     "height": 54
    },
    "colab_type": "code",
    "executionInfo": {
     "elapsed": 109507,
     "status": "ok",
     "timestamp": 1585055394785,
     "user": {
      "displayName": "Tyler Bikaun",
      "photoUrl": "",
      "userId": "18384825377619195869"
     },
     "user_tz": -480
    },
    "id": "EJn-e0xxDt4i",
    "outputId": "77dd84f3-15dd-4628-9286-b89d8d490146"
   },
   "outputs": [
    {
     "name": "stdout",
     "output_type": "stream",
     "text": [
      "['combine', 'reporting', 'application', 'pende', 'status', 'sheet', 'kalgoorlie', 'sh', 'sheet', 'kalgoorlie', 'project', 'operator', 'cazaly_resources', 'limited', 'author', 'watts', 'date', 'september', 'distribution', 'department_industry', 'resource', 'cazaly_resources', 'limited', 'cazaly', 'resource', 'limit', 'september', 'castle_hill', 'project', 'tenement', 'location', 'plan', 'scale', 'regional', 'geology', 'exploration', 'index', 'map', 'scale', 'cazaly', 'resource', 'limit', 'september', 'summary', 'combine', 'mineral', 'exploration', 'report', 'castle_hill', 'project', 'detail', 'exploration', 'activity', 'undertake', 'cazaly_resources', 'limited', 'reporting_period', 'july', 'july', 'report', 'group', 'know', 'castle_hill', 'comprise', 'nine', 'grant', 'prospect', 'licence', 'project', 'area', 'cover', 'hectare_cazaly', 'register_holder', 'castle_hill', 'project', 'tenement', 'cazalys', 'exploration', 'activity', 'report', 'period', 'direct_towards', 'acquisition', 'available', 'report', 'dataset', 'relate', 'previous', 'exploration', 'activity', 'within', 'project', 'area', 'assess', 'gold', 'nickel', 'potential', 'project', 'area', 'follow', 'data', 'review', 'castle_hill', 'project', 'rate', 'highly', 'nearby', 'project', 'area', 'manage', 'cazaly', 'introduction', 'combine', 'mineral', 'exploration', 'report', 'castle_hill', 'project', 'detail', 'exploration', 'work', 'undertake', 'cazaly_resources', 'limited', 'cazaly', 'reporting_period', 'july', 'july', 'castle_hill', 'project', 'area', 'locate', 'km', 'wnw', 'kalgoorlie', 'lie', 'within', 'kunanalle', 'district', 'coolgardie', 'mineral', 'field', 'kalgoorlie', 'kalgoorlie', 'sh', 'map', 'sheet', 'tenure', 'reporting', 'group', 'know', 'castle_hill', 'comprise', 'nine', 'grant', 'prospect', 'licence', 'project', 'area', 'cover', 'hectare', 'refer', 'table', 'detail', 'cazaly', 'register_holder', 'castle_hill', 'project', 'tenement', 'application', 'combine', 'reporting', 'tenement', 'add', 'combined', 'reporting', 'group', 'lodge', 'cazaly', 'resource', 'limit', 'september', 'geology', 'regional', 'geology', 'castle_hill', 'project', 'area', 'lie', 'within', 'norseman_wiluna', 'archaean', 'greenstone_belt', 'eastern_goldfields', 'province', 'yilgarn_craton', 'belt', 'characterise', 'thick', 'possibly_rift', 'control', 'sequences', 'ultramafic', 'mafic', 'felsic', 'volcanic', 'clastic', 'intrusive', 'rock', 'greenstone', 'succession', 'southern', 'eastern_goldfield', 'segregate_elongate', 'structural', 'terrane', 'bound', 'regional', 'nnw', 'trend', 'fault', 'swag', 'low', 'part', 'supracrustal_succession', 'characterise', 'submarine', 'mafic', 'ultramafic', 'rock', 'thin', 'interflow_sediment', 'overlain', 'mostly', 'subaqueous', 'felsic', 'volcaniclastic', 'kalgoorlie', 'terrane', 'stratigraphic', 'sequence', 'extremely', 'consistent', 'felsic_volcanism', 'generally', 'post', 'date', 'mafic', 'ultramafic', 'volcanism', 'felsic_volcanism', 'observe', 'occur', 'upper', 'low', 'part', 'succession', 'coarse', 'clastics_conglomeratic', 'sequences_kurrawang', 'formation', 'unconformably_overly', 'faultcontact', 'greenstone', 'synclinal', 'basin', 'adjacent', 'overlie', 'major', 'regional', 'fault', 'swag', 'local', 'geology', 'majority', 'project', 'area', 'underlain', 'post', 'high', 'calcic_bali', 'monzogranite', 'lie', 'immediately', 'west', 'coolgardie', 'domain', 'sub', 'domain', 'kalgoorlie', 'terrane', 'northern', 'tenement', 'situate', 'north', 'kintore_tonalite', 'underlain', 'mafic', 'ultramafic', 'rock', 'coolgardie', 'domain', 'structural', 'geology', 'several', 'major', 'structure', 'traverse', 'section', 'project', 'area', 'north', 'northwest', 'trend', 'kunanalle', 'shear', 'zone', 'ksz', 'lie', 'along', 'mafic', 'ultramafic', 'contact', 'zone', 'within', 'tenement', 'late', 'north', 'northeast', 'trend', 'dextral', 'grant', 'patch', 'fault', 'cut', 'coolgardie', 'domain', 'sequence', 'structure', 'extend', 'adjacent', 'bali_monzogranite', 'tenement', 'also', 'overlie', 'part', 'kintore', 'anticline', 'axis', 'cazaly_resources', 'limit', 'september', 'exploration', 'activity', 'cazalys', 'exploration', 'activity', 'report', 'period', 'direct_towards', 'acquisition', 'available', 'report', 'dataset', 'relate', 'previous', 'exploration', 'activity', 'within', 'project', 'area', 'assess', 'gold', 'nickel', 'potential', 'project', 'area', 'project', 'review', 'follow', 'field', 'inspection', 'whole', 'project', 'area', 'available', 'datum', 'project', 'review', 'house', 'conjunction', 'datum', 'pertain', 'nearby', 'kunanalle', 'shear', 'zone', 'target', 'tenement', 'rate', 'potential', 'host', 'economic', 'gold', 'deposit', 'classify', 'accordingly', 'information', 'utilize', 'consider', 'future', 'exploration', 'program', 'across', 'tenement', 'group', 'nickel', 'review', 'castle_hill', 'project', 'include', 'cazaly', 'consolidated', 'minerals', 'limit', 'consmin', 'joint_venture', 'explore', 'kunanalle', 'region', 'nickel', 'mineralisation', 'nickel', 'potential', 'castle_hill', 'project', 'area', 'tenement', 'review', 'october', 'november', 'report', 'year', 'initial', 'review', 'highlight', 'anomaly', 'coincident', 'ni', 'cr', 'cu', 'zn', 'ratio', 'along', 'basalt', 'ultramafic', 'contact', 'immediately', 'east', 'area', 'subsequently', 'rab', 'drill', 'consmin', 'conclusion', 'cazalys', 'exploration', 'activity', 'report', 'period', 'direct_towards', 'acquisition', 'available', 'report', 'dataset', 'relate', 'previous', 'exploration', 'activity', 'within', 'project', 'area', 'assess', 'gold', 'nickel', 'potential', 'project', 'area', 'follow', 'data', 'review', 'castle_hill', 'project', 'rate', 'highly', 'nearby', 'project', 'area', 'manage', 'cazaly', 'structural', 'evolution', 'greenstone', 'terrane', 'southern', 'eastern_goldfields', 'western', 'australia', 'cassidy_whitaker', 'liu']\n"
     ]
    },
    {
     "data": {
      "application/javascript": "\n            setTimeout(function() {\n                var nbb_cell_id = 26;\n                var nbb_unformatted_code = \"# View the corresponding corpus with bigrams\\nprint(bigram_corpus[0])\";\n                var nbb_formatted_code = \"# View the corresponding corpus with bigrams\\nprint(bigram_corpus[0])\";\n                var nbb_cells = Jupyter.notebook.get_cells();\n                for (var i = 0; i < nbb_cells.length; ++i) {\n                    if (nbb_cells[i].input_prompt_number == nbb_cell_id) {\n                        if (nbb_cells[i].get_text() == nbb_unformatted_code) {\n                             nbb_cells[i].set_text(nbb_formatted_code);\n                        }\n                        break;\n                    }\n                }\n            }, 500);\n            ",
      "text/plain": [
       "<IPython.core.display.Javascript object>"
      ]
     },
     "metadata": {},
     "output_type": "display_data"
    }
   ],
   "source": [
    "# View the corresponding corpus with bigrams\n",
    "print(bigram_corpus[0])"
   ]
  },
  {
   "cell_type": "code",
   "execution_count": 27,
   "metadata": {
    "colab": {
     "base_uri": "https://localhost:8080/",
     "height": 54
    },
    "colab_type": "code",
    "executionInfo": {
     "elapsed": 107306,
     "status": "ok",
     "timestamp": 1585055394787,
     "user": {
      "displayName": "Tyler Bikaun",
      "photoUrl": "",
      "userId": "18384825377619195869"
     },
     "user_tz": -480
    },
    "id": "mAOCYcq0Dt4w",
    "outputId": "96c419d2-bb4c-4b5f-bb23-89f7b7f83fd5"
   },
   "outputs": [
    {
     "name": "stdout",
     "output_type": "stream",
     "text": [
      "[(162, 27), (12, 17), (25, 13), (69, 13), (173, 10), (207, 10), (3, 8), (26, 8), (106, 7), (177, 7), (136, 6), (214, 6), (227, 6), (27, 5), (82, 5), (116, 5), (124, 5), (159, 5), (182, 5), (16, 4), (35, 4), (46, 4), (62, 4), (83, 4), (87, 4), (105, 4), (112, 4), (115, 4), (117, 4), (170, 4), (174, 4), (176, 4), (209, 4), (1, 3), (13, 3), (28, 3), (52, 3), (57, 3), (59, 3), (73, 3), (78, 3), (84, 3), (85, 3), (129, 3), (134, 3), (140, 3), (151, 3), (154, 3), (160, 3), (166, 3), (172, 3), (178, 3), (189, 3), (194, 3), (213, 3), (233, 3), (5, 2), (6, 2), (10, 2), (29, 2), (37, 2), (42, 2), (44, 2), (47, 2), (51, 2), (53, 2), (54, 2), (66, 2), (75, 2), (76, 2), (77, 2), (92, 2), (95, 2), (110, 2), (114, 2), (123, 2), (125, 2), (127, 2), (128, 2), (137, 2), (150, 2), (158, 2), (163, 2), (171, 2), (175, 2), (179, 2), (183, 2), (187, 2), (188, 2), (191, 2), (195, 2), (200, 2), (203, 2), (216, 2), (217, 2), (0, 1), (2, 1), (4, 1), (7, 1), (8, 1), (9, 1), (11, 1), (14, 1), (15, 1), (17, 1), (18, 1), (19, 1), (20, 1), (21, 1), (22, 1), (23, 1), (24, 1), (30, 1), (31, 1), (32, 1), (33, 1), (34, 1), (36, 1), (38, 1), (39, 1), (40, 1), (41, 1), (43, 1), (45, 1), (48, 1), (49, 1), (50, 1), (55, 1), (56, 1), (58, 1), (60, 1), (61, 1), (63, 1), (64, 1), (65, 1), (67, 1), (68, 1), (70, 1), (71, 1), (72, 1), (74, 1), (79, 1), (80, 1), (81, 1), (86, 1), (88, 1), (89, 1), (90, 1), (91, 1), (93, 1), (94, 1), (96, 1), (97, 1), (98, 1), (99, 1), (100, 1), (101, 1), (102, 1), (103, 1), (104, 1), (107, 1), (108, 1), (109, 1), (111, 1), (113, 1), (118, 1), (119, 1), (120, 1), (121, 1), (122, 1), (126, 1), (130, 1), (131, 1), (132, 1), (133, 1), (135, 1), (138, 1), (139, 1), (141, 1), (142, 1), (143, 1), (144, 1), (145, 1), (146, 1), (147, 1), (148, 1), (149, 1), (152, 1), (153, 1), (155, 1), (156, 1), (157, 1), (161, 1), (164, 1), (165, 1), (167, 1), (168, 1), (169, 1), (180, 1), (181, 1), (184, 1), (185, 1), (186, 1), (190, 1), (192, 1), (193, 1), (196, 1), (197, 1), (198, 1), (199, 1), (201, 1), (202, 1), (204, 1), (205, 1), (206, 1), (208, 1), (210, 1), (211, 1), (212, 1), (215, 1), (218, 1), (219, 1), (220, 1), (221, 1), (222, 1), (223, 1), (224, 1), (225, 1), (226, 1), (228, 1), (229, 1), (230, 1), (231, 1), (232, 1)]\n"
     ]
    },
    {
     "data": {
      "application/javascript": "\n            setTimeout(function() {\n                var nbb_cell_id = 27;\n                var nbb_unformatted_code = \"# Sort documents by term frequency e.g. most frequency first\\nsorted_by_value = sorted(bow_corpus[0], key=lambda kv: kv[1], reverse=True)\\nprint(sorted_by_value)\";\n                var nbb_formatted_code = \"# Sort documents by term frequency e.g. most frequency first\\nsorted_by_value = sorted(bow_corpus[0], key=lambda kv: kv[1], reverse=True)\\nprint(sorted_by_value)\";\n                var nbb_cells = Jupyter.notebook.get_cells();\n                for (var i = 0; i < nbb_cells.length; ++i) {\n                    if (nbb_cells[i].input_prompt_number == nbb_cell_id) {\n                        if (nbb_cells[i].get_text() == nbb_unformatted_code) {\n                             nbb_cells[i].set_text(nbb_formatted_code);\n                        }\n                        break;\n                    }\n                }\n            }, 500);\n            ",
      "text/plain": [
       "<IPython.core.display.Javascript object>"
      ]
     },
     "metadata": {},
     "output_type": "display_data"
    }
   ],
   "source": [
    "# Sort documents by term frequency e.g. most frequency first\n",
    "sorted_by_value = sorted(bow_corpus[0], key=lambda kv: kv[1], reverse=True)\n",
    "print(sorted_by_value)"
   ]
  },
  {
   "cell_type": "code",
   "execution_count": 28,
   "metadata": {
    "colab": {
     "base_uri": "https://localhost:8080/",
     "height": 1000
    },
    "colab_type": "code",
    "executionInfo": {
     "elapsed": 107183,
     "status": "ok",
     "timestamp": 1585055394787,
     "user": {
      "displayName": "Tyler Bikaun",
      "photoUrl": "",
      "userId": "18384825377619195869"
     },
     "user_tz": -480
    },
    "id": "HRuNQmZKDt4z",
    "outputId": "43e5bccd-3ef5-4580-8847-d0bb32bc1845"
   },
   "outputs": [
    {
     "data": {
      "text/plain": [
       "[('project', 27),\n",
       " ('area', 17),\n",
       " ('castle_hill', 13),\n",
       " ('exploration', 13),\n",
       " ('report', 10),\n",
       " ('tenement', 10),\n",
       " ('activity', 8),\n",
       " ('cazaly', 8),\n",
       " ('kalgoorlie', 7),\n",
       " ('review', 7),\n",
       " ('nickel', 6),\n",
       " ('ultramafic', 6),\n",
       " ('within', 6),\n",
       " ('cazaly_resources', 5),\n",
       " ('geology', 5),\n",
       " ('limit', 5),\n",
       " ('mafic', 5),\n",
       " ('potential', 5),\n",
       " ('september', 5),\n",
       " ('available', 4),\n",
       " ('combine', 4),\n",
       " ('coolgardie', 4),\n",
       " ('domain', 4),\n",
       " ('gold', 4),\n",
       " ('group', 4),\n",
       " ('july', 4),\n",
       " ('kunanalle', 4),\n",
       " ('lie', 4),\n",
       " ('limited', 4),\n",
       " ('regional', 4),\n",
       " ('reporting', 4),\n",
       " ('resource', 4),\n",
       " ('terrane', 4),\n",
       " ('acquisition', 3),\n",
       " ('assess', 3),\n",
       " ('cazalys', 3),\n",
       " ('dataset', 3),\n",
       " ('detail', 3),\n",
       " ('direct_towards', 3),\n",
       " ('fault', 3),\n",
       " ('follow', 3),\n",
       " ('grant', 3),\n",
       " ('greenstone', 3),\n",
       " ('mineral', 3),\n",
       " ('nearby', 3),\n",
       " ('north', 3),\n",
       " ('part', 3),\n",
       " ('period', 3),\n",
       " ('previous', 3),\n",
       " ('rate', 3),\n",
       " ('relate', 3),\n",
       " ('rock', 3),\n",
       " ('sheet', 3),\n",
       " ('structural', 3),\n",
       " ('trend', 3),\n",
       " ('zone', 3),\n",
       " ('adjacent', 2),\n",
       " ('along', 2),\n",
       " ('application', 2),\n",
       " ('characterise', 2),\n",
       " ('comprise', 2),\n",
       " ('consmin', 2),\n",
       " ('contact', 2),\n",
       " ('cover', 2),\n",
       " ('data', 2),\n",
       " ('date', 2),\n",
       " ('datum', 2),\n",
       " ('eastern_goldfields', 2),\n",
       " ('felsic', 2),\n",
       " ('felsic_volcanism', 2),\n",
       " ('field', 2),\n",
       " ('highly', 2),\n",
       " ('immediately', 2),\n",
       " ('know', 2),\n",
       " ('licence', 2),\n",
       " ('low', 2),\n",
       " ('major', 2),\n",
       " ('manage', 2),\n",
       " ('map', 2),\n",
       " ('nine', 2),\n",
       " ('overlie', 2),\n",
       " ('post', 2),\n",
       " ('prospect', 2),\n",
       " ('register_holder', 2),\n",
       " ('reporting_period', 2),\n",
       " ('scale', 2),\n",
       " ('sequence', 2),\n",
       " ('sh', 2),\n",
       " ('shear', 2),\n",
       " ('southern', 2),\n",
       " ('structure', 2),\n",
       " ('succession', 2),\n",
       " ('swag', 2),\n",
       " ('underlain', 2),\n",
       " ('undertake', 2),\n",
       " ('accordingly', 1),\n",
       " ('across', 1),\n",
       " ('add', 1),\n",
       " ('also', 1),\n",
       " ('anomaly', 1),\n",
       " ('anticline', 1),\n",
       " ('archaean', 1),\n",
       " ('australia', 1),\n",
       " ('author', 1),\n",
       " ('axis', 1),\n",
       " ('bali_monzogranite', 1),\n",
       " ('basalt', 1),\n",
       " ('basin', 1),\n",
       " ('belt', 1),\n",
       " ('bound', 1),\n",
       " ('calcic_bali', 1),\n",
       " ('cassidy_whitaker', 1),\n",
       " ('classify', 1),\n",
       " ('clastic', 1),\n",
       " ('clastics_conglomeratic', 1),\n",
       " ('coarse', 1),\n",
       " ('coincident', 1),\n",
       " ('combined', 1),\n",
       " ('conclusion', 1),\n",
       " ('conjunction', 1),\n",
       " ('consider', 1),\n",
       " ('consistent', 1),\n",
       " ('consolidated', 1),\n",
       " ('control', 1),\n",
       " ('cr', 1),\n",
       " ('cu', 1),\n",
       " ('cut', 1),\n",
       " ('department_industry', 1),\n",
       " ('deposit', 1),\n",
       " ('dextral', 1),\n",
       " ('distribution', 1),\n",
       " ('district', 1),\n",
       " ('drill', 1),\n",
       " ('east', 1),\n",
       " ('eastern_goldfield', 1),\n",
       " ('economic', 1),\n",
       " ('evolution', 1),\n",
       " ('explore', 1),\n",
       " ('extend', 1),\n",
       " ('extremely', 1),\n",
       " ('faultcontact', 1),\n",
       " ('formation', 1),\n",
       " ('future', 1),\n",
       " ('generally', 1),\n",
       " ('greenstone_belt', 1),\n",
       " ('hectare', 1),\n",
       " ('hectare_cazaly', 1),\n",
       " ('high', 1),\n",
       " ('highlight', 1),\n",
       " ('host', 1),\n",
       " ('house', 1),\n",
       " ('include', 1),\n",
       " ('index', 1),\n",
       " ('information', 1),\n",
       " ('initial', 1),\n",
       " ('inspection', 1),\n",
       " ('interflow_sediment', 1),\n",
       " ('introduction', 1),\n",
       " ('intrusive', 1),\n",
       " ('joint_venture', 1),\n",
       " ('kintore', 1),\n",
       " ('kintore_tonalite', 1),\n",
       " ('km', 1),\n",
       " ('ksz', 1),\n",
       " ('late', 1),\n",
       " ('liu', 1),\n",
       " ('local', 1),\n",
       " ('locate', 1),\n",
       " ('location', 1),\n",
       " ('lodge', 1),\n",
       " ('majority', 1),\n",
       " ('mineralisation', 1),\n",
       " ('minerals', 1),\n",
       " ('monzogranite', 1),\n",
       " ('mostly', 1),\n",
       " ('ni', 1),\n",
       " ('nnw', 1),\n",
       " ('norseman_wiluna', 1),\n",
       " ('northeast', 1),\n",
       " ('northern', 1),\n",
       " ('northwest', 1),\n",
       " ('november', 1),\n",
       " ('observe', 1),\n",
       " ('occur', 1),\n",
       " ('october', 1),\n",
       " ('operator', 1),\n",
       " ('overlain', 1),\n",
       " ('patch', 1),\n",
       " ('pende', 1),\n",
       " ('pertain', 1),\n",
       " ('plan', 1),\n",
       " ('possibly_rift', 1),\n",
       " ('program', 1),\n",
       " ('province', 1),\n",
       " ('rab', 1),\n",
       " ('ratio', 1),\n",
       " ('refer', 1),\n",
       " ('region', 1),\n",
       " ('section', 1),\n",
       " ('segregate_elongate', 1),\n",
       " ('sequences', 1),\n",
       " ('sequences_kurrawang', 1),\n",
       " ('several', 1),\n",
       " ('situate', 1),\n",
       " ('status', 1),\n",
       " ('stratigraphic', 1),\n",
       " ('sub', 1),\n",
       " ('subaqueous', 1),\n",
       " ('submarine', 1),\n",
       " ('subsequently', 1),\n",
       " ('summary', 1),\n",
       " ('supracrustal_succession', 1),\n",
       " ('synclinal', 1),\n",
       " ('table', 1),\n",
       " ('target', 1),\n",
       " ('tenure', 1),\n",
       " ('thick', 1),\n",
       " ('thin', 1),\n",
       " ('traverse', 1),\n",
       " ('unconformably_overly', 1),\n",
       " ('upper', 1),\n",
       " ('utilize', 1),\n",
       " ('volcanic', 1),\n",
       " ('volcaniclastic', 1),\n",
       " ('volcanism', 1),\n",
       " ('watts', 1),\n",
       " ('west', 1),\n",
       " ('western', 1),\n",
       " ('whole', 1),\n",
       " ('wnw', 1),\n",
       " ('work', 1),\n",
       " ('year', 1),\n",
       " ('yilgarn_craton', 1),\n",
       " ('zn', 1)]"
      ]
     },
     "execution_count": 28,
     "metadata": {},
     "output_type": "execute_result"
    },
    {
     "data": {
      "application/javascript": "\n            setTimeout(function() {\n                var nbb_cell_id = 28;\n                var nbb_unformatted_code = \"# View a human readable format of corpus (term-frequency)\\n[(id2word[id], freq) for id, freq in sorted_by_value] \";\n                var nbb_formatted_code = \"# View a human readable format of corpus (term-frequency)\\n[(id2word[id], freq) for id, freq in sorted_by_value]\";\n                var nbb_cells = Jupyter.notebook.get_cells();\n                for (var i = 0; i < nbb_cells.length; ++i) {\n                    if (nbb_cells[i].input_prompt_number == nbb_cell_id) {\n                        if (nbb_cells[i].get_text() == nbb_unformatted_code) {\n                             nbb_cells[i].set_text(nbb_formatted_code);\n                        }\n                        break;\n                    }\n                }\n            }, 500);\n            ",
      "text/plain": [
       "<IPython.core.display.Javascript object>"
      ]
     },
     "metadata": {},
     "output_type": "display_data"
    }
   ],
   "source": [
    "# View a human readable format of corpus (term-frequency)\n",
    "[(id2word[id], freq) for id, freq in sorted_by_value] "
   ]
  },
  {
   "cell_type": "markdown",
   "metadata": {
    "colab_type": "text",
    "id": "xJB50q8AFeE6"
   },
   "source": [
    "## Train LDA Model <a name=\"training\"></a>"
   ]
  },
  {
   "cell_type": "markdown",
   "metadata": {},
   "source": [
    "<img src=\"https://miro.medium.com/max/800/1*pZo_IcxW1GVuH2vQKdoIMQ.jpeg\" alt=\"LDA example\" style=\"width:600px;\"/>"
   ]
  },
  {
   "cell_type": "markdown",
   "metadata": {},
   "source": [
    "Here we train a LDA topic mode on our bag-of-words corpus. We initially set the `number of topics` we believe are in the corpus to 10. Only a single `pass` is performed through the corpus, but this could be increased to get better results. However, it is computationally expensive."
   ]
  },
  {
   "cell_type": "code",
   "execution_count": 29,
   "metadata": {
    "colab": {},
    "colab_type": "code",
    "id": "bgj-Ob96Dt43"
   },
   "outputs": [
    {
     "data": {
      "application/javascript": "\n            setTimeout(function() {\n                var nbb_cell_id = 29;\n                var nbb_unformatted_code = \"# Build LDA model\\nlda_model = gensim.models.ldamodel.LdaModel(corpus=bow_corpus,\\n                                           id2word=id2word,\\n                                           num_topics=10, \\n                                           random_state=100,\\n                                           update_every=1,\\n                                           chunksize=100,\\n                                           passes=1,   # To get an improved LDA model, this can be increased\\n                                           alpha='auto',\\n                                           per_word_topics=True)\";\n                var nbb_formatted_code = \"# Build LDA model\\nlda_model = gensim.models.ldamodel.LdaModel(\\n    corpus=bow_corpus,\\n    id2word=id2word,\\n    num_topics=10,\\n    random_state=100,\\n    update_every=1,\\n    chunksize=100,\\n    passes=1,  # To get an improved LDA model, this can be increased\\n    alpha=\\\"auto\\\",\\n    per_word_topics=True,\\n)\";\n                var nbb_cells = Jupyter.notebook.get_cells();\n                for (var i = 0; i < nbb_cells.length; ++i) {\n                    if (nbb_cells[i].input_prompt_number == nbb_cell_id) {\n                        if (nbb_cells[i].get_text() == nbb_unformatted_code) {\n                             nbb_cells[i].set_text(nbb_formatted_code);\n                        }\n                        break;\n                    }\n                }\n            }, 500);\n            ",
      "text/plain": [
       "<IPython.core.display.Javascript object>"
      ]
     },
     "metadata": {},
     "output_type": "display_data"
    }
   ],
   "source": [
    "# Build LDA model\n",
    "lda_model = gensim.models.ldamodel.LdaModel(corpus=bow_corpus,\n",
    "                                           id2word=id2word,\n",
    "                                           num_topics=10, \n",
    "                                           random_state=100,\n",
    "                                           update_every=1,\n",
    "                                           chunksize=100,\n",
    "                                           passes=1,   # To get an improved LDA model, this can be increased\n",
    "                                           alpha='auto',\n",
    "                                           per_word_topics=True)"
   ]
  },
  {
   "cell_type": "markdown",
   "metadata": {},
   "source": [
    "Here we show the topics elicited from the LDA model and the top keywords in the 10 topics. This shows the weighted importance of each word in each topic."
   ]
  },
  {
   "cell_type": "code",
   "execution_count": 30,
   "metadata": {
    "colab": {
     "base_uri": "https://localhost:8080/",
     "height": 697
    },
    "colab_type": "code",
    "executionInfo": {
     "elapsed": 125897,
     "status": "ok",
     "timestamp": 1585055416270,
     "user": {
      "displayName": "Tyler Bikaun",
      "photoUrl": "",
      "userId": "18384825377619195869"
     },
     "user_tz": -480
    },
    "id": "zJfngkYiDt46",
    "outputId": "e14fe77c-70a6-4883-a9f6-26f31a9aff96"
   },
   "outputs": [
    {
     "name": "stdout",
     "output_type": "stream",
     "text": [
      "[(0,\n",
      "  '0.019*\"gold\" + 0.017*\"area\" + 0.017*\"project\" + 0.014*\"tenement\" + '\n",
      "  '0.010*\"exploration\" + 0.008*\"report\" + 0.008*\"deposit\" + 0.007*\"north\" + '\n",
      "  '0.007*\"ltd\" + 0.007*\"sequence\"'),\n",
      " (1,\n",
      "  '0.011*\"resource\" + 0.010*\"grade\" + 0.009*\"zone\" + 0.009*\"hole\" + '\n",
      "  '0.007*\"use\" + 0.007*\"gold\" + 0.007*\"drill\" + 0.007*\"high\" + 0.007*\"area\" + '\n",
      "  '0.007*\"mineralisation\"'),\n",
      " (2,\n",
      "  '0.017*\"pit\" + 0.011*\"resource\" + 0.008*\"project\" + 0.008*\"gold\" + '\n",
      "  '0.008*\"sbm\" + 0.007*\"datum\" + 0.007*\"report\" + 0.007*\"grade\" + 0.006*\"ltd\" '\n",
      "  '+ 0.006*\"use\"'),\n",
      " (3,\n",
      "  '0.015*\"report\" + 0.012*\"exploration\" + 0.011*\"area\" + 0.011*\"project\" + '\n",
      "  '0.008*\"tenement\" + 0.007*\"australia\" + 0.007*\"western\" + 0.006*\"resource\" + '\n",
      "  '0.006*\"pty\" + 0.005*\"mining\"'),\n",
      " (4,\n",
      "  '0.012*\"area\" + 0.012*\"tenement\" + 0.011*\"gold\" + 0.010*\"exploration\" + '\n",
      "  '0.010*\"sample\" + 0.010*\"report\" + 0.010*\"survey\" + 0.009*\"project\" + '\n",
      "  '0.009*\"hole\" + 0.008*\"rock\"'),\n",
      " (5,\n",
      "  '0.004*\"lennon_find\" + 0.003*\"tuckabianna\" + 0.002*\"sample\" + 0.002*\"area\" + '\n",
      "  '0.001*\"drill\" + 0.001*\"report\" + 0.001*\"hammerhead\" + 0.001*\"within\" + '\n",
      "  '0.001*\"project\" + 0.001*\"hole\"'),\n",
      " (6,\n",
      "  '0.027*\"survey\" + 0.026*\"datum\" + 0.018*\"magnetic\" + 0.011*\"line\" + '\n",
      "  '0.010*\"image\" + 0.010*\"field\" + 0.010*\"use\" + 0.009*\"station\" + '\n",
      "  '0.008*\"area\" + 0.006*\"processing\"'),\n",
      " (7,\n",
      "  '0.019*\"gold\" + 0.018*\"area\" + 0.014*\"target\" + 0.013*\"sample\" + '\n",
      "  '0.012*\"anomaly\" + 0.008*\"soil\" + 0.008*\"bif\" + 0.007*\"exploration\" + '\n",
      "  '0.007*\"gravity\" + 0.007*\"prospect\"'),\n",
      " (8,\n",
      "  '0.031*\"sample\" + 0.014*\"area\" + 0.013*\"site\" + 0.010*\"vegetation\" + '\n",
      "  '0.009*\"soil\" + 0.009*\"low\" + 0.007*\"specie\" + 0.007*\"survey\" + '\n",
      "  '0.006*\"record\" + 0.006*\"report\"'),\n",
      " (9,\n",
      "  '0.014*\"rock\" + 0.012*\"quartz\" + 0.011*\"sample\" + 0.008*\"metamorphic\" + '\n",
      "  '0.008*\"biotite\" + 0.008*\"form\" + 0.007*\"small\" + 0.007*\"occur\" + '\n",
      "  '0.007*\"alteration\" + 0.006*\"grain\"')]\n"
     ]
    },
    {
     "data": {
      "application/javascript": "\n            setTimeout(function() {\n                var nbb_cell_id = 30;\n                var nbb_unformatted_code = \"pprint(lda_model.print_topics())\";\n                var nbb_formatted_code = \"pprint(lda_model.print_topics())\";\n                var nbb_cells = Jupyter.notebook.get_cells();\n                for (var i = 0; i < nbb_cells.length; ++i) {\n                    if (nbb_cells[i].input_prompt_number == nbb_cell_id) {\n                        if (nbb_cells[i].get_text() == nbb_unformatted_code) {\n                             nbb_cells[i].set_text(nbb_formatted_code);\n                        }\n                        break;\n                    }\n                }\n            }, 500);\n            ",
      "text/plain": [
       "<IPython.core.display.Javascript object>"
      ]
     },
     "metadata": {},
     "output_type": "display_data"
    }
   ],
   "source": [
    "pprint(lda_model.print_topics())"
   ]
  },
  {
   "cell_type": "code",
   "execution_count": 31,
   "metadata": {},
   "outputs": [
    {
     "data": {
      "application/javascript": "\n            setTimeout(function() {\n                var nbb_cell_id = 31;\n                var nbb_unformatted_code = \"doc_lda = lda_model[bow_corpus]\";\n                var nbb_formatted_code = \"doc_lda = lda_model[bow_corpus]\";\n                var nbb_cells = Jupyter.notebook.get_cells();\n                for (var i = 0; i < nbb_cells.length; ++i) {\n                    if (nbb_cells[i].input_prompt_number == nbb_cell_id) {\n                        if (nbb_cells[i].get_text() == nbb_unformatted_code) {\n                             nbb_cells[i].set_text(nbb_formatted_code);\n                        }\n                        break;\n                    }\n                }\n            }, 500);\n            ",
      "text/plain": [
       "<IPython.core.display.Javascript object>"
      ]
     },
     "metadata": {},
     "output_type": "display_data"
    }
   ],
   "source": [
    "doc_lda = lda_model[bow_corpus]"
   ]
  },
  {
   "cell_type": "markdown",
   "metadata": {},
   "source": [
    "To evaluate the quality of our topic model, we can compute its `perplexity` and `coherence`."
   ]
  },
  {
   "cell_type": "code",
   "execution_count": 32,
   "metadata": {
    "colab": {
     "base_uri": "https://localhost:8080/",
     "height": 85
    },
    "colab_type": "code",
    "executionInfo": {
     "elapsed": 173002,
     "status": "ok",
     "timestamp": 1585055464987,
     "user": {
      "displayName": "Tyler Bikaun",
      "photoUrl": "",
      "userId": "18384825377619195869"
     },
     "user_tz": -480
    },
    "id": "1-dKSB0iDt49",
    "outputId": "db882fd4-1589-4e22-a8bc-44f005a6c5e5"
   },
   "outputs": [
    {
     "name": "stdout",
     "output_type": "stream",
     "text": [
      "Perplexity: -8.563254501754844\n"
     ]
    },
    {
     "data": {
      "application/javascript": "\n            setTimeout(function() {\n                var nbb_cell_id = 32;\n                var nbb_unformatted_code = \"# Compute Perplexity - lower is better.\\nprint(f'Perplexity: {lda_model.log_perplexity(bow_corpus)}')\";\n                var nbb_formatted_code = \"# Compute Perplexity - lower is better.\\nprint(f\\\"Perplexity: {lda_model.log_perplexity(bow_corpus)}\\\")\";\n                var nbb_cells = Jupyter.notebook.get_cells();\n                for (var i = 0; i < nbb_cells.length; ++i) {\n                    if (nbb_cells[i].input_prompt_number == nbb_cell_id) {\n                        if (nbb_cells[i].get_text() == nbb_unformatted_code) {\n                             nbb_cells[i].set_text(nbb_formatted_code);\n                        }\n                        break;\n                    }\n                }\n            }, 500);\n            ",
      "text/plain": [
       "<IPython.core.display.Javascript object>"
      ]
     },
     "metadata": {},
     "output_type": "display_data"
    }
   ],
   "source": [
    "# Compute Perplexity - lower is better.\n",
    "print(f'Perplexity: {lda_model.log_perplexity(bow_corpus)}')"
   ]
  },
  {
   "cell_type": "code",
   "execution_count": 33,
   "metadata": {},
   "outputs": [
    {
     "name": "stdout",
     "output_type": "stream",
     "text": [
      "\n",
      "Coherence Score:  0.43398938581677465\n"
     ]
    },
    {
     "data": {
      "application/javascript": "\n            setTimeout(function() {\n                var nbb_cell_id = 33;\n                var nbb_unformatted_code = \"# Compute Coherence Score\\ncoherence_model_lda = CoherenceModel(model=lda_model, texts=bigram_corpus, dictionary=id2word, coherence='c_v')\\ncoherence_lda = coherence_model_lda.get_coherence()\\nprint('\\\\nCoherence Score: ', coherence_lda)\";\n                var nbb_formatted_code = \"# Compute Coherence Score\\ncoherence_model_lda = CoherenceModel(\\n    model=lda_model, texts=bigram_corpus, dictionary=id2word, coherence=\\\"c_v\\\"\\n)\\ncoherence_lda = coherence_model_lda.get_coherence()\\nprint(\\\"\\\\nCoherence Score: \\\", coherence_lda)\";\n                var nbb_cells = Jupyter.notebook.get_cells();\n                for (var i = 0; i < nbb_cells.length; ++i) {\n                    if (nbb_cells[i].input_prompt_number == nbb_cell_id) {\n                        if (nbb_cells[i].get_text() == nbb_unformatted_code) {\n                             nbb_cells[i].set_text(nbb_formatted_code);\n                        }\n                        break;\n                    }\n                }\n            }, 500);\n            ",
      "text/plain": [
       "<IPython.core.display.Javascript object>"
      ]
     },
     "metadata": {},
     "output_type": "display_data"
    }
   ],
   "source": [
    "# Compute Coherence Score\n",
    "coherence_model_lda = CoherenceModel(model=lda_model, texts=bigram_corpus, dictionary=id2word, coherence='c_v')\n",
    "coherence_lda = coherence_model_lda.get_coherence()\n",
    "print('\\nCoherence Score: ', coherence_lda)"
   ]
  },
  {
   "cell_type": "markdown",
   "metadata": {
    "colab_type": "text",
    "id": "HSGCyT8WDt5B"
   },
   "source": [
    "## Interactive LDA Visualisation <a name=\"visualisation\"></a> \n",
    "\n",
    "#### Wait, what am I looking at again?\n",
    "\n",
    "There are a lot of moving parts in the visualization. Here's a brief summary:\n",
    "\n",
    "On the left, there is a plot of the \"distance\" between all of the topics (labeled as the Intertopic Distance Map)\n",
    "The plot is rendered in two dimensions according a multidimensional scaling (MDS) algorithm. Topics that are generally similar should be appear close together on the plot, while dissimilar topics should appear far apart.\n",
    "\n",
    "The relative size of a topic's circle in the plot corresponds to the relative frequency of the topic in the corpus.\n",
    "\n",
    "An individual topic may be selected for closer scrutiny by clicking on its circle, or entering its number in the \"selected topic\" box in the upper-left.\n",
    "\n",
    "On the right, there is a bar chart showing top terms.\n",
    "When no topic is selected in the plot on the left, the bar chart shows the top most \"salient\" terms in the corpus. A term's saliency is a measure of both how frequent the term is in the corpus and how \"distinctive\" it is in distinguishing between different topics.\n",
    "\n",
    "When a particular topic is selected, the bar chart changes to show the top most \"relevant\" terms for the selected topic. The relevance metric is controlled by the parameter λλ, which can be adjusted with a slider above the bar chart.\n",
    "\n",
    "Setting the λλ parameter close to 1.0 (the default) will rank the terms solely according to their probability within the topic.\n",
    "\n",
    "Setting λλ close to 0.0 will rank the terms solely according to their \"distinctiveness\" or \"exclusivity\" within the topic — i.e., terms that occur only in this topic, and do not occur in other topics.\n",
    "\n",
    "Setting λλ to values between 0.0 and 1.0 will result in an intermediate ranking, weighting term probability and exclusivity accordingly.\n",
    "\n",
    "Rolling the mouse over a term in the bar chart on the right will cause the topic circles to resize in the plot on the left, to show the strength of the relationship between the topics and the selected term.\n",
    "\n",
    "A more detailed explanation of the pyLDAvis visualization can be found here. Unfortunately, though the data used by gensim and pyLDAvis are the same, they don't use the same ID numbers for topics. If you need to match up topics in gensim's LdaMulticore object and pyLDAvis' visualization, you have to dig through the terms manually.\n",
    "\n",
    "#### Analyzing our LDA model\n",
    "The interactive visualization pyLDAvis produces is helpful for both:\n",
    "\n",
    "Better understanding and interpreting individual topics, and Better understanding the relationships between the topics.\n",
    "\n",
    "For (1), you can manually select each topic to view its top most freqeuent and/or \"relevant\" terms, using different values of the λλ parameter. This can help when you're trying to assign a human interpretable name or \"meaning\" to each topic.\n",
    "\n",
    "For (2), exploring the Intertopic Distance Plot can help you learn about how topics relate to each other, including potential higher-level structure between groups of topics.\n",
    "\n",
    "#### Describing text with LDA\n",
    "Beyond data exploration, one of the key uses for an LDA model is providing a compact, quantitative description of natural language text. Once an LDA model has been trained, it can be used to represent free text as a mixture of the topics the model learned from the original corpus. This mixture can be interpreted as a probability distribution across the topics, so the LDA representation of a paragraph of text might look like 50% Topic A, 20% Topic B, 20% Topic C, and 10% Topic D.\n",
    "\n",
    "To use an LDA model to generate a vector representation of new text, you'll need to apply any text preprocessing steps you used on the model's training corpus to the new text, too. For our model, the preprocessing steps we used include:\n",
    "\n",
    "Using spaCy to remove punctuation and lemmatize the text\n",
    "\n",
    "- Applying our first-order phrase model to join word pairs\n",
    "- Applying our second-order phrase model to join longer phrases\n",
    "- Removing stopwords\n",
    "- Creating a bag-of-words representation\n",
    "- Once you've applied these preprocessing steps to the new text, it's ready to pass directly to the model to create an LDA representation. The lda_description(...) function will perform all these steps for us, including printing the resulting topical description of the input text.\n",
    "\n",
    "##### Acknowledgement: https://www.kaggle.com/navinch/interesting-visualizations-lda-word2vec"
   ]
  },
  {
   "cell_type": "markdown",
   "metadata": {},
   "source": [
    "### Visualize the topics"
   ]
  },
  {
   "cell_type": "code",
   "execution_count": 34,
   "metadata": {},
   "outputs": [
    {
     "data": {
      "application/javascript": "\n            setTimeout(function() {\n                var nbb_cell_id = 34;\n                var nbb_unformatted_code = \"pyLDAvis.enable_notebook()\";\n                var nbb_formatted_code = \"pyLDAvis.enable_notebook()\";\n                var nbb_cells = Jupyter.notebook.get_cells();\n                for (var i = 0; i < nbb_cells.length; ++i) {\n                    if (nbb_cells[i].input_prompt_number == nbb_cell_id) {\n                        if (nbb_cells[i].get_text() == nbb_unformatted_code) {\n                             nbb_cells[i].set_text(nbb_formatted_code);\n                        }\n                        break;\n                    }\n                }\n            }, 500);\n            ",
      "text/plain": [
       "<IPython.core.display.Javascript object>"
      ]
     },
     "metadata": {},
     "output_type": "display_data"
    }
   ],
   "source": [
    "pyLDAvis.enable_notebook()"
   ]
  },
  {
   "cell_type": "code",
   "execution_count": 35,
   "metadata": {
    "colab": {
     "base_uri": "https://localhost:8080/",
     "height": 997
    },
    "colab_type": "code",
    "executionInfo": {
     "elapsed": 1213516,
     "status": "ok",
     "timestamp": 1585056508049,
     "user": {
      "displayName": "Tyler Bikaun",
      "photoUrl": "",
      "userId": "18384825377619195869"
     },
     "user_tz": -480
    },
    "id": "KwprcYdADt5C",
    "outputId": "4243c9a6-27b6-4901-bb2d-8aff5560dde4"
   },
   "outputs": [
    {
     "name": "stderr",
     "output_type": "stream",
     "text": [
      "c:\\Users\\Tyler\\AppData\\Local\\Programs\\Python\\Python38\\lib\\site-packages\\pyLDAvis\\_prepare.py:246: FutureWarning: In a future version of pandas all arguments of DataFrame.drop except for the argument 'labels' will be keyword-only.\n",
      "  default_term_info = default_term_info.sort_values(\n"
     ]
    },
    {
     "data": {
      "text/html": [
       "\n",
       "<link rel=\"stylesheet\" type=\"text/css\" href=\"https://cdn.jsdelivr.net/gh/bmabey/pyLDAvis@3.3.1/pyLDAvis/js/ldavis.v1.0.0.css\">\n",
       "\n",
       "\n",
       "<div id=\"ldavis_el26417348763749606390888754\"></div>\n",
       "<script type=\"text/javascript\">\n",
       "\n",
       "var ldavis_el26417348763749606390888754_data = {\"mdsDat\": {\"x\": [-0.10781393482715158, -0.050465055515299395, -0.09460849443717269, -0.04390626594405572, -0.08164140598386196, 0.0007998363355983513, -0.02639164770722121, 0.049135542434450105, 0.07305404847827879, 0.28183737716643553], \"y\": [0.0042965575238135606, -0.009321989145279952, -0.09396565879037923, 0.05236422120873955, -0.040272932324158114, 0.017615210557735055, 0.0010510046386766009, 0.15168257099848684, -0.029665726809500668, -0.05378325785813364], \"topics\": [1, 2, 3, 4, 5, 6, 7, 8, 9, 10], \"cluster\": [1, 1, 1, 1, 1, 1, 1, 1, 1, 1], \"Freq\": [32.20869114978869, 18.417033062669354, 13.38407133688413, 10.285350852895931, 8.835516974694979, 5.596947300283155, 4.666823027754516, 3.550781134420943, 3.041177501718154, 0.01360765889014113]}, \"tinfo\": {\"Term\": [\"survey\", \"sample\", \"gold\", \"datum\", \"area\", \"pit\", \"magnetic\", \"project\", \"resource\", \"use\", \"target\", \"soil\", \"tenement\", \"report\", \"anomaly\", \"exploration\", \"line\", \"grade\", \"site\", \"model\", \"field\", \"quartz\", \"rock\", \"base\", \"zone\", \"biotite\", \"vegetation\", \"drill\", \"image\", \"estimate\", \"sally_malay\", \"hoatson_blake\", \"tickalara_metamorphic\", \"hco\", \"terrain_modelling\", \"chromitite\", \"falconbridge\", \"thundelarra\", \"griffin_find\", \"lamboo\", \"revise_dwg\", \"cultural_heritage\", \"youanmi\", \"digest_icp\", \"complex_resistivity\", \"mindax\", \"photography_landsat\", \"water_biogeochemistry\", \"isotope_whole\", \"voisey_bay\", \"ep_ip\", \"amt_resistivity\", \"sp_ap\", \"spot_mss\", \"bgal\", \"seismic_refraction\", \"radar_specify\", \"heritage_clearance\", \"literature_search\", \"geotem\", \"tantalum\", \"compilation_computer\", \"lake_johnston\", \"orogen\", \"remarkable\", \"poseidon\", \"pge\", \"hall_creek\", \"pdf_pdf\", \"ddh\", \"organisation_bulletin\", \"darlot\", \"rab\", \"lionore\", \"intrusion\", \"ppb\", \"lamboo_complex\", \"cu\", \"conductor\", \"stream_sediment\", \"nickel\", \"kimberley\", \"survey\", \"tenement\", \"wmc\", \"ultramafic\", \"cra\", \"belt\", \"copper\", \"return\", \"au\", \"km\", \"hole\", \"exploration\", \"reconnaissance\", \"gold\", \"western\", \"drilling\", \"east\", \"mafic\", \"within\", \"australia\", \"prospect\", \"area\", \"report\", \"mineralisation\", \"soil\", \"drill\", \"project\", \"rock\", \"sample\", \"geological\", \"north\", \"include\", \"geology\", \"ltd\", \"result\", \"zone\", \"deposit\", \"datum\", \"south\", \"krige\", \"millimetre\", \"spargoville\", \"leapfrog\", \"finore\", \"short_distance\", \"digitising\", \"tier\", \"halfway_hill\", \"magellan\", \"apron\", \"anisotropy\", \"magnet\", \"symbol\", \"crack\", \"mud_rotary\", \"honour\", \"slip\", \"newman_member\", \"fish\", \"cube_consulting\", \"kalpini\", \"memo\", \"overcome\", \"yaloginda\", \"merely\", \"warp\", \"cid\", \"st_ive\", \"indeed\", \"variance\", \"subsection\", \"motion\", \"variography\", \"bluebird\", \"kinematic\", \"ordinary_krige\", \"interpolation\", \"wireframe\", \"james\", \"estimation\", \"variogram\", \"bulk_density\", \"estimate\", \"hinge\", \"bar\", \"envelope\", \"mercator\", \"grade\", \"legacy\", \"density\", \"model\", \"cube\", \"strain\", \"pit\", \"junction\", \"bubble\", \"resource\", \"core\", \"block\", \"cut\", \"domain\", \"use\", \"high\", \"ore\", \"zone\", \"control\", \"fault\", \"hole\", \"mineralisation\", \"lode\", \"deposit\", \"drill\", \"table\", \"structure\", \"datum\", \"drilling\", \"low\", \"dip\", \"rc\", \"gold\", \"area\", \"within\", \"sample\", \"result\", \"report\", \"west\", \"mining\", \"rock\", \"south\", \"granoblastic\", \"anthophyllite\", \"poikiloblastic\", \"cordierite\", \"foliation_parallel\", \"bladed\", \"indistinct\", \"cummingtonite\", \"mb\", \"alignment\", \"carbine\", \"anhedral_subhedral\", \"flake\", \"mat\", \"blebs\", \"fibrous\", \"weakly_foliate\", \"anhedral\", \"qz\", \"bulong_anticline\", \"pyroxenitic\", \"fg\", \"equant\", \"olivine_mesocumulate\", \"orthopyroxene\", \"fmg\", \"magnesite\", \"platy\", \"ferromagnesian_phenocryst\", \"grp\", \"opaque\", \"subhedral\", \"crystal\", \"plagioclase\", \"biotite\", \"tourmaline\", \"mason_geoscience\", \"granular\", \"pyrrhotite\", \"grain\", \"chlorite\", \"amphibole\", \"pyroxene\", \"interstitial\", \"foliation\", \"actinolite\", \"feldspar\", \"hornblende\", \"metamorphic\", \"ilmenite\", \"precursor\", \"aggregate\", \"muscovite\", \"texture\", \"fine_grain\", \"replacement\", \"magnetite\", \"pyrite\", \"assemblage\", \"alter\", \"rich\", \"alteration\", \"quartz\", \"trace\", \"small\", \"minor\", \"komatiite\", \"rock\", \"thin\", \"vein\", \"form\", \"occur\", \"sulphide\", \"sample\", \"mineral\", \"primary\", \"zone\", \"area\", \"report\", \"within\", \"drill\", \"ultramafic\", \"gold\", \"ltd\", \"project\", \"exploration\", \"coal_measure\", \"coal_seam\", \"rte\", \"rio_tinto\", \"without_limitation\", \"confidential_information\", \"prior_consent\", \"kimberlitic\", \"disclose_person\", \"tinto\", \"used_purpose\", \"transmit_publish\", \"photograph_diagram\", \"without_consent\", \"holder_rio\", \"mesa\", \"wap\", \"pannawonica\", \"unauthorise_prohibit\", \"weed\", \"amendment\", \"woody\", \"elder\", \"freehold\", \"sandplain\", \"nil\", \"minister\", \"legal\", \"court\", \"yarraloola\", \"seam\", \"gregory\", \"coal\", \"security\", \"aboriginal\", \"object\", \"haul_road\", \"human\", \"uranium\", \"market\", \"broome\", \"heavy\", \"native_title\", \"share\", \"people\", \"el\", \"director\", \"act\", \"fraser\", \"confidential\", \"pilbara\", \"cultural\", \"company\", \"right\", \"sandstone\", \"report\", \"application\", \"th\", \"exploration\", \"propose\", \"plant\", \"project\", \"information\", \"pty\", \"australia\", \"area\", \"western\", \"may\", \"mining\", \"tenement\", \"mineral\", \"resource\", \"period\", \"work\", \"access\", \"page\", \"site\", \"year\", \"include\", \"activity\", \"within\", \"annual\", \"ltd\", \"datum\", \"sample\", \"deposit\", \"potential\", \"mt_celia\", \"roberts\", \"dunnsville\", \"metex\", \"lancefield\", \"yarri\", \"childe_harold\", \"metex_resources\", \"golden_mile\", \"randell\", \"domains\", \"cre\", \"carosue_dam\", \"telegraph\", \"ashton\", \"celia\", \"braemore\", \"lake_yindarlgooda\", \"salt_pan\", \"author_tillick\", \"komatiitic_peridotitic\", \"mt_varden\", \"litho_tectonic\", \"synthesis\", \"beneficial_register\", \"granophyre\", \"euro\", \"mulgabbie\", \"cazalys\", \"keringal_admiral\", \"granny_smith\", \"burtville\", \"crescent\", \"laverton\", \"cazaly_resources\", \"wallaby\", \"cazaly\", \"lake_carey\", \"kunanalle\", \"lake_rebecca\", \"edjudina\", \"perilya\", \"coolgardie\", \"information_memorandum\", \"boddington\", \"kalgoorlie\", \"kurnalpi\", \"shear\", \"gold\", \"sequence\", \"project\", \"dam\", \"tenement\", \"terrain\", \"package\", \"area\", \"granitoid\", \"terrane\", \"regional\", \"deposit\", \"volcanic\", \"exploration\", \"north\", \"ltd\", \"greenstone\", \"felsic\", \"zone\", \"geology\", \"report\", \"fault\", \"sediment\", \"within\", \"rock\", \"include\", \"major\", \"western\", \"australia\", \"mining\", \"work\", \"datum\", \"unit\", \"sample\", \"south\", \"resource\", \"lamproite\", \"pb_sb\", \"lennard\", \"quadrat\", \"microdiamond\", \"rb\", \"ellendale\", \"corymbia\", \"dot\", \"open_woodland\", \"plasma_atomic\", \"open_shrubland\", \"lamproite_pipe\", \"poaceae\", \"solanaceae\", \"warm\", \"pca\", \"grassland\", \"ptilotus\", \"floristic\", \"diamondiferous\", \"cliffs\", \"fuse\", \"pyrope\", \"allen\", \"wyloo_dome\", \"material_crm\", \"cheela_springs\", \"derby\", \"grevillea\", \"solanum\", \"habitat\", \"canning_basin\", \"conservation\", \"mound\", \"hummock_grassland\", \"shrub\", \"var\", \"beard\", \"shallow_marine\", \"vegetation\", \"ashburton\", \"specie\", \"stone\", \"subsp\", \"paraburdoo\", \"wyloo_group\", \"tree\", \"site\", \"scatter\", \"plain\", \"slope\", \"flora\", \"sipa\", \"sample\", \"record\", \"soil\", \"low\", \"creek\", \"area\", \"analysis\", \"appendix\", \"diamond\", \"location\", \"survey\", \"sand\", \"mm\", \"priority\", \"report\", \"project\", \"south\", \"collect\", \"within\", \"field\", \"high\", \"drill\", \"present\", \"rock\", \"exploration\", \"hole\", \"mawson_west\", \"woolyeenyer_formation\", \"noganyer_formation\", \"lady_mary\", \"rproject_arear\", \"trident\", \"instrument_drift\", \"penneshaw_formation\", \"anomalies\", \"star_picket\", \"berkeley\", \"scintrex_cg\", \"formulae\", \"ahd_height\", \"polaris\", \"rankin\", \"ausgeoid\", \"parker_range\", \"mgal\", \"merredin\", \"mapinfo_gis\", \"anom\", \"polaris_metal\", \"auslig\", \"isogal\", \"finder\", \"rpt\", \"milligal\", \"mathews\", \"thickly\", \"ausquest\", \"gondwana\", \"eclipse\", \"marvel_loch\", \"bullfinch\", \"mapinfo_format\", \"evanston\", \"portman\", \"bif\", \"mmi\", \"norseman\", \"target\", \"gravity\", \"anomaly\", \"cross\", \"gold\", \"area\", \"soil\", \"southern\", \"prospect\", \"sample\", \"meter\", \"iron\", \"anomalous\", \"working\", \"reconnaissance\", \"aug\", \"north\", \"exploration\", \"magnetic\", \"mapping\", \"unit\", \"contact\", \"datum\", \"within\", \"zone\", \"result\", \"tenement\", \"project\", \"work\", \"high\", \"drill\", \"rock\", \"drilling\", \"south\", \"panton\", \"bangemall_basin\", \"tx_loop\", \"alkaline\", \"hyperspectral\", \"discriminate\", \"switch_ramp\", \"intensity_tmi\", \"blake\", \"tx\", \"speed_knot\", \"cdi\", \"magnetometer_sensor\", \"rav\", \"northe_gda\", \"waveform\", \"hymap\", \"easte_gda\", \"duty_cycle\", \"reflectance\", \"tow_helicopter\", \"flight_path\", \"conductivity_decay\", \"square_wave\", \"rx\", \"spectrally\", \"emaxair\", \"transmitter_controller\", \"hoistem\", \"navigation\", \"geosoft\", \"commercial_confidence\", \"equivalent_mmr\", \"sensor\", \"pseudo\", \"terrain_clearance\", \"flight\", \"remote_sense\", \"hz\", \"scintrex\", \"diurnal\", \"digitally\", \"circle\", \"panorama\", \"correction\", \"signal\", \"conductivity\", \"aircraft\", \"magnetometer\", \"noise\", \"gps\", \"reading\", \"magnetic\", \"crew\", \"image\", \"station\", \"height\", \"processing\", \"survey\", \"datum\", \"filter\", \"resolution\", \"line\", \"vertical_derivative\", \"field\", \"process\", \"helicopter\", \"use\", \"system\", \"time\", \"airborne\", \"gravity\", \"fly\", \"base\", \"channel\", \"area\", \"metre\", \"data\", \"model\", \"ground\", \"source\", \"value\", \"geological\", \"within\", \"sample\", \"sem\", \"md\", \"rom_pad\", \"sgw\", \"berm\", \"blocky\", \"introduce_discussion\", \"internet_free\", \"adobe_acrobat\", \"shareware\", \"manager_dame_mediation\", \"sbm\", \"standby\", \"surpac_software\", \"reagent\", \"reader\", \"flowsheet\", \"crb\", \"idw\", \"grind_size\", \"salient\", \"agitated\", \"mdb\", \"search_strategy\", \"ucs\", \"centaur\", \"jigsaw_fit\", \"undersize\", \"fpr\", \"capital_cost\", \"operating_cost\", \"lime\", \"circuit\", \"testwork\", \"slope_regression\", \"maxwell\", \"throughput\", \"batter\", \"ammtec\", \"cyanidation\", \"abrasion_index\", \"stability\", \"failure\", \"pit\", \"borehole\", \"recovery\", \"grind\", \"wall\", \"ph\", \"scope_study\", \"mill\", \"cost\", \"geotechnical\", \"leach\", \"client\", \"database\", \"resource\", \"optimisation\", \"page\", \"cube\", \"estimate\", \"test\", \"metallurgical\", \"require\", \"grade\", \"use\", \"project\", \"ltd\", \"model\", \"datum\", \"gold\", \"ore\", \"analysis\", \"base\", \"mining\", \"table\", \"report\", \"type\", \"result\", \"provide\", \"process\", \"drill\", \"drilling\", \"rock\", \"zone\", \"sample\", \"lennon_find\", \"hammerhead\", \"miralga_formation\", \"mount_edgar\", \"sjerp\", \"causton\", \"lawrance\", \"ayle\", \"casey\", \"volumes\", \"lf_lf\", \"ammonium\", \"tuckabianna\", \"centenary_international\", \"dust_suppression\", \"friar\", \"ingram\", \"purpose_without\", \"dotitic\", \"nrgm\", \"anion\", \"multiplied\", \"westgold\", \"hh_lf\", \"dalewater\", \"acetate\", \"csr\", \"constant_rate\", \"wyman\", \"mindrill\", \"westfield\", \"australmin\", \"deflector\", \"big_bell\", \"diversion\", \"tsf\", \"serem\", \"cim\", \"gullewa\", \"golder\", \"batter\", \"groundwater\", \"water\", \"reference\", \"plate\", \"client\", \"sample\", \"date\", \"bore\", \"due\", \"analysis\", \"drill\", \"area\", \"report\", \"within\", \"test\", \"use\", \"hole\", \"ore\", \"drilling\", \"number\", \"project\", \"zone\", \"high\", \"datum\", \"model\", \"base\", \"exploration\", \"gold\", \"mineralisation\", \"deposit\"], \"Freq\": [8586.0, 14746.0, 13589.0, 8421.0, 17021.0, 3580.0, 3299.0, 11692.0, 7249.0, 5435.0, 4190.0, 4767.0, 10689.0, 12443.0, 3969.0, 11067.0, 2904.0, 5412.0, 2918.0, 3316.0, 3681.0, 5039.0, 10295.0, 3856.0, 8010.0, 1820.0, 1411.0, 8179.0, 1579.0, 1902.0, 210.6214756801, 166.62261515860516, 95.47017465118188, 68.68279334421554, 85.76721113652492, 106.45241651193288, 55.17314101523039, 63.49442590737922, 66.91182410736393, 141.5380205237316, 50.9979889504993, 51.925883153953166, 205.5672497049298, 59.17048889603325, 43.8553223898273, 63.453492570071994, 38.890887230060216, 43.96983756567334, 43.965408822510824, 34.01841077592609, 36.907806853430394, 36.89881550081331, 36.891694557777036, 33.817384508832546, 41.67748143227424, 44.13132865451012, 33.717590906605636, 49.139344729360836, 67.00680967860082, 31.56626291189782, 63.89092299044557, 48.39406645933335, 167.81182380118764, 264.85615449181955, 52.474537870492824, 89.62322967947934, 568.7662825425166, 549.1466602889683, 72.94719332216526, 83.85658217196759, 55.99252543344062, 135.6535409311371, 1539.2411521456984, 204.21146677292015, 1585.8995640397286, 1078.737656663931, 202.58331055865403, 1431.2416354593452, 520.4162171896836, 371.08723796385414, 1767.530658029417, 777.2331058816558, 4891.009290332556, 5943.257366130253, 206.6906853760106, 2425.072484267955, 317.6016154264048, 788.7487602941915, 884.7272624414283, 1012.8784157740639, 2724.2080776497046, 2347.2593999695237, 4358.421830875993, 5297.442584053455, 913.8937526760685, 5788.161903011269, 3222.7087764327175, 3435.6223405136325, 2527.1252437878384, 1847.24535762874, 4049.442245840895, 3040.9595231292324, 2004.084771304627, 6351.086201071905, 4938.108330563937, 3216.9647820766295, 2347.2705852419276, 3522.735859823495, 4571.178563158736, 4050.001985430119, 5224.576007987178, 2515.567525611529, 2674.384114673163, 2491.4525542781525, 2078.7033894014608, 2389.719883936631, 2315.7250232646943, 2492.966373804962, 2285.6756699598477, 2333.8294575804475, 2101.7783683858106, 165.91166858712657, 105.14747997117152, 234.91318124862033, 51.24011039733486, 223.14092443859622, 38.2998550020023, 38.47348497581782, 39.654585543720565, 35.015896858987496, 46.43116823154184, 36.792191451507954, 23.445183496894124, 32.98338217419798, 23.077128776499, 19.982260606560214, 31.356501638620824, 28.230456193320087, 18.84704249279615, 17.97598815954722, 21.26968029742031, 94.89409207487965, 70.51297795572044, 18.183991169815123, 19.00212089275004, 83.3185563667097, 26.72586508113291, 18.521391673549726, 188.6394621912279, 16.287168756075957, 13.463006852929926, 42.2445383451552, 64.24805299064003, 27.32928983840602, 132.78524686812708, 149.58303467143313, 105.49820146175347, 86.17826712525888, 172.19932746942516, 203.39499068361172, 92.15950716373551, 744.9891574663184, 179.68270704820785, 98.73481431174139, 1320.4056436764513, 161.89962974176294, 69.05699940894283, 231.38029819384298, 398.5749149578089, 3053.9228116002537, 105.28873984063524, 528.7752652586151, 1858.9440249802392, 306.4516391772943, 311.6961063834569, 1870.7808348885371, 238.60919057808698, 188.04849941382903, 3096.645225730555, 1002.6907731083276, 969.9765216460534, 865.7050501820102, 920.3994019709882, 2136.435052037098, 2072.093558649332, 1151.4168930414894, 2630.5442999303737, 805.1495832504737, 1647.5201257548042, 2546.9041687750296, 2013.8300924223558, 758.4526714310381, 1909.461935896234, 2103.934854906491, 1297.9319800560681, 1049.9838527771178, 1926.4651709514376, 1749.714943608924, 1405.7115339379234, 771.5825164693443, 955.4098726275121, 2112.3169939196596, 2064.7366487110407, 1532.4206757796758, 1809.0534443051768, 1208.7292939639372, 1539.9660569508717, 1063.4777126515398, 1012.1327055957648, 1104.105510570659, 1026.732898411354, 78.56410909501973, 128.92325246398008, 79.01764300164375, 273.57881230113594, 77.41041545465578, 53.87294023610685, 83.56954040057015, 198.23345394817613, 48.31333633339022, 51.74262945866091, 49.230392301032005, 45.38178211488221, 291.8022247156831, 41.86347945283902, 69.78411963165584, 87.01003311480214, 91.98862743620796, 387.5984898903452, 56.89907288192496, 37.88127461127854, 39.35215396153009, 197.93457573415134, 76.78455498079654, 37.70647572859935, 140.08607809463408, 33.236612846499085, 32.03257359251243, 68.65675615077045, 41.44441271389862, 48.995874638803066, 471.6794163789289, 98.48218249223181, 1041.5194473610775, 738.3090444300782, 1632.9778001560067, 257.3435865203423, 450.759770910622, 103.93345880337542, 734.1019052390286, 1352.9389264923245, 1049.4685348692344, 375.85187641390024, 256.2934458123501, 111.98174796872257, 608.631896456183, 220.81082400641466, 612.0672776582345, 314.76778538336083, 1644.547544185588, 356.9708280912499, 171.87158702403926, 519.0947675679334, 443.69161884147024, 725.523860681919, 690.7886692810126, 302.8379238862068, 705.9021313754016, 766.7395842172479, 608.5932294426389, 667.9279595113148, 935.9832235400906, 1424.2971693671732, 2489.001793176819, 702.1060887963798, 1533.5179343406576, 1208.1933620114298, 612.4124128942165, 2958.5977398847826, 751.2120092859894, 1241.7485172509164, 1599.1839181372477, 1436.1136504780654, 1337.6865202699828, 2292.6862997422095, 1018.9156606123199, 689.7239913582098, 1031.4483220610293, 1200.1410306103317, 1013.1418151244094, 950.3563754979291, 912.0976895725472, 822.0757890720388, 894.174292637129, 791.6421793121427, 801.0147271603353, 752.1002133323998, 164.73812521920107, 168.73412676493183, 190.02175273385626, 421.3948685308538, 57.8776674565489, 149.76236727128975, 55.13552598456722, 51.90729061244279, 53.32212594874549, 56.05682449380198, 52.14665172250526, 52.136829148873296, 52.12174855347606, 52.21548573463022, 48.97844424475258, 89.44654039782303, 95.53385716592283, 41.47015065693319, 90.75829095872218, 53.95178711706992, 30.873624244904736, 46.155537278555265, 33.26900226883267, 22.85560415776184, 23.630813258293365, 23.188172846966882, 110.34379031178429, 45.34152236246613, 24.356612628550952, 18.239718894297265, 490.10135819117755, 103.63414605702725, 727.7365071723668, 60.87953715451852, 335.93923789978015, 96.54106044629285, 456.8396159822078, 84.74128063883337, 451.70782473765223, 144.29181123148325, 84.91355566089882, 294.7891710989806, 217.01422307284363, 190.0123671412563, 149.42008762860766, 282.4685858980987, 101.39458976935182, 368.49067694084937, 106.59904335985605, 171.21809794330048, 346.8174057116123, 109.06210594580308, 602.380024515881, 277.59083262652763, 528.1957306303724, 2512.8324455888464, 299.9018491731808, 560.3311257306432, 1916.0108957964894, 393.97468875743164, 284.6380637276668, 1744.753697550414, 459.10469766190363, 899.4814522468363, 1100.5321692469095, 1841.4470363867654, 1090.6391466729199, 817.8971695723264, 823.9927889800339, 1273.935894318786, 790.7706790507475, 1028.9285333428895, 553.9717217730205, 757.1091561950392, 557.3648604871926, 520.44585302898, 571.9248024844092, 486.2313021785344, 679.2920299997282, 537.2727006267215, 731.3881486657198, 566.5933679057633, 655.8900618079668, 621.518615767864, 663.7985825231443, 560.4018786594738, 509.70060344757184, 82.62510803729961, 67.79966644291704, 62.32440918210838, 124.60382944071507, 99.03016027015715, 47.32922069896133, 65.67658585470447, 50.08137504745617, 35.852458996162596, 103.91480020130238, 29.64386718532228, 28.772601557428043, 113.27470778942958, 22.51072361866552, 22.197859644259527, 21.380588069031518, 151.4210143270419, 19.27228413476973, 18.597841987001953, 27.762325623459176, 15.922718827223628, 14.988978330637568, 14.932678932263158, 15.177909571939143, 14.142752225353435, 14.428663036198637, 32.22529334302996, 167.20340288476328, 44.002525236892005, 11.317200157793652, 82.92848337198103, 156.3001051074559, 117.80259445216866, 754.3753791064023, 147.48632371695308, 102.84301437963282, 203.52391642407164, 104.06089791533297, 173.08744486259894, 44.63749496982618, 85.47217326458755, 111.7011400128906, 561.9306358957541, 55.1144098778244, 73.21890584314573, 586.780124574858, 87.83669903321811, 898.0024153790847, 2710.887305672703, 942.095444816248, 2323.98275941059, 208.5874838242352, 1912.1503835178735, 317.08330380652797, 318.16254833962154, 2338.2204439360903, 360.42471709818074, 373.02974355237063, 798.4637080864755, 1087.6180709787109, 548.6649667259825, 1365.8841514426763, 970.6761171628893, 960.7864860138579, 429.3525789281048, 496.11463986970176, 932.4113933807763, 699.1824813877944, 1138.1660683987932, 686.3508863734556, 490.36301042093163, 893.8974148046426, 929.0219068300286, 719.5609213965752, 455.87846604310636, 657.8396763371437, 636.3747778993189, 561.9959200220036, 575.9385855809826, 631.0430885926487, 535.6007643698167, 656.579300995771, 555.1397157991552, 572.5586305126674, 127.30893402583973, 130.1297716079958, 95.764273299145, 82.67973667416875, 58.96106976723074, 48.93488218443089, 272.9044411968998, 37.136689348064365, 52.01062095697574, 48.85768811677573, 31.59636209063051, 169.6503944861116, 29.157780660879325, 25.839257680104907, 57.56550255027534, 30.51524193330114, 29.942337162925593, 20.28177977524837, 19.695982618565186, 18.610359947814022, 41.35875718213975, 30.572117827587345, 28.627786756077036, 14.090872929211791, 33.90842857952639, 71.57804802943504, 16.50323277534409, 47.1213152685092, 54.03937286280443, 29.56065739427104, 63.617671501397105, 249.94005126001247, 202.82240106844478, 194.93228132561418, 112.69273124777837, 149.51291096118192, 280.2603178201948, 130.64455725276719, 95.97633082565339, 148.77335116186813, 904.0167746044143, 299.12538381502026, 637.5379111497077, 116.93237232453731, 191.10010995948605, 147.8365388859197, 124.83441261380953, 239.2642662671979, 1122.4475028894558, 368.1242567191941, 231.74706422614477, 318.8265009013882, 245.21808812549577, 160.72493444687402, 2752.1974008722236, 569.7329331822086, 838.7508213353715, 808.7866410375851, 324.10855396038767, 1267.6632067699004, 433.9262520453968, 475.17216983117873, 395.44821690779514, 469.1543306063878, 605.855352549259, 251.65009655275983, 288.2540315572536, 230.7021295957414, 565.9251405225067, 511.0680884771162, 373.7957487576933, 291.7136987704834, 369.8867606872622, 315.37413282587545, 330.83610509413944, 327.3401076118759, 290.59558666591363, 298.28811275428427, 292.6068402847931, 288.707674000242, 60.066449537692925, 51.54265620683016, 45.71218938109501, 34.919902977385576, 27.832080052417194, 100.29006898773339, 33.02280214660922, 21.061740512321535, 23.61072386482798, 37.24100750869181, 32.30435358696988, 35.75611310154842, 26.06979662273034, 23.026036684049505, 93.24534901087213, 39.592161260270935, 17.34950557203677, 172.94459659068107, 16.62670684735971, 16.850678386314005, 10.347711821195418, 28.466732170641457, 57.91718999504762, 10.414997678338061, 9.767547217247087, 16.03565120599841, 10.090894758209783, 21.47842533226283, 8.02828776607851, 7.200644891638806, 58.50280819950521, 29.400796762744527, 28.188616863422386, 69.8245819934997, 52.68426364921649, 21.571499683257972, 33.0217461243806, 86.30010201765253, 611.6887640024987, 80.422325396075, 176.14580082306026, 1051.9595861127332, 494.89529169348197, 873.4640022118438, 318.23227273431536, 1370.4943036133268, 1365.7670481238042, 612.0300703867903, 393.1293001772537, 489.4772166340566, 993.6685383869836, 135.79934659150408, 330.0862731109471, 275.88445379565906, 165.97253956373885, 232.10575490927985, 160.4554484119218, 454.0616965630086, 549.3413840362828, 316.745634812921, 275.89305714410125, 332.9892049424249, 261.31958832431485, 420.10153891420833, 433.90872352254604, 399.92742818799405, 349.0173292961101, 432.93132107126866, 418.75538212128475, 303.8390259611545, 303.8046470497443, 334.6053241199331, 330.333752997799, 308.1352864519643, 282.90202753580246, 243.43229616718813, 40.67470581529813, 40.00611776591476, 39.79195235507573, 53.91132457201713, 35.386013254926496, 27.164914984219934, 30.152196809640756, 58.86626094806486, 24.230384148529385, 18.89374672683591, 19.46401001410562, 32.02790197422088, 28.37083343688971, 14.695261511228969, 43.512702503758, 19.185321796462222, 14.695261511228969, 31.79297395747682, 12.813060448426386, 11.005992241512713, 57.602270493489655, 9.759096255943975, 26.375721151633226, 10.360655129613969, 13.881025306396046, 11.462552303591817, 18.702926539521588, 161.9864208989216, 81.13628254631955, 84.1504973840599, 92.6464665176044, 50.68806036596053, 144.35636783060428, 64.59508074354694, 132.4455780526976, 126.91525414807127, 87.9695772141275, 110.922321568992, 58.92817162161961, 72.25130396920491, 94.72877453273024, 71.79854076496605, 69.33943621803604, 116.91470282177362, 84.81044063338553, 147.02025181805266, 147.10807721469405, 167.7072190020891, 104.00785891885117, 274.43493666081116, 181.942515495374, 1021.7249047004888, 121.54866984029002, 564.7837564846955, 487.373048252796, 191.28695404520926, 359.9809395874266, 1524.0789323213544, 1461.7482185574272, 113.76080690510308, 151.61052258620123, 635.9546768946337, 112.56783761519053, 551.7434101080435, 328.8849247587336, 134.61012317186302, 543.4561558323426, 305.06098395252513, 296.20196601169926, 209.1107083542744, 296.9735964047149, 171.02044684820044, 333.7848079259158, 222.84757112526117, 460.1181843863363, 256.45215213763345, 235.77948363654534, 213.8951394951921, 190.27688983451566, 173.5076174796882, 186.42016773773224, 196.1898937198474, 183.36897309519247, 181.10529481360453, 68.65484458215707, 23.4072655944957, 17.865114268118653, 54.91837932240979, 15.030056680202872, 52.479259004602284, 15.942620167386155, 12.500721953861534, 23.531003540169184, 12.414189938054143, 15.839329191851599, 379.25182341119125, 12.690629210483264, 12.007525697829712, 9.198097394759404, 17.474498350428565, 7.371948703875491, 7.531103346641044, 9.13419271320528, 42.43399781071918, 9.47681042532129, 7.792398743872139, 6.6201373887202815, 19.436091540979575, 11.288374902907059, 9.496029229007403, 6.609090210540956, 8.099778822615615, 5.393863744755288, 26.948322976002938, 32.54512735842479, 28.409207660829626, 38.783819700737844, 109.72029279279123, 18.38345809247987, 114.9085622457775, 32.14227471768913, 36.59889683476119, 46.0739292626791, 25.410470384624034, 18.12892217510856, 36.79399061935346, 67.20151006639878, 837.794084251301, 127.1295894785677, 170.59891264931952, 90.40702772804217, 185.76396652099598, 71.82790986917416, 50.055924382540475, 109.40521929400371, 150.4808355150648, 84.77245564722234, 143.22619040054084, 103.07262734158773, 211.4469114966354, 539.8405488849153, 88.79515651490338, 264.04684961725513, 108.19051843290069, 230.80046660049055, 259.5578921034883, 82.19553350854585, 178.89071729813267, 315.2008404783107, 308.7540746894764, 406.876094373173, 309.313101790916, 235.5299958703476, 338.1519612602944, 383.58121619116423, 209.14150332478482, 196.17154875603995, 228.01049936378573, 239.13178604783585, 230.35374826394343, 323.71194832659734, 183.74755455268325, 217.07304581410648, 175.06535448032875, 153.92512826695653, 191.91887108677983, 181.19082237504236, 183.23481717827013, 177.19299661795276, 171.87804836102862, 0.9523396902983605, 0.2780738998430649, 0.1170264778532166, 0.030753688723746574, 0.02281113596688094, 0.16907074824836846, 0.015053860325985852, 0.013259676858533648, 0.012439955032348782, 0.010570772312105839, 0.010790610872200642, 0.027313424084825344, 0.5982041261459542, 0.015346267785724267, 0.02318100838029207, 0.07847959390592728, 0.01610715684202758, 0.02727934572641068, 0.006903280651001285, 0.0069091326648817305, 0.007459155987205183, 0.006542760069973192, 0.01259624150720717, 0.007971515119789916, 0.006490721134729487, 0.00640334506895791, 0.02083355116992081, 0.010071782478345961, 0.006598906804758883, 0.006285082545228475, 0.018373229427684056, 0.03164124992265235, 0.015171123687076906, 0.024722040796823188, 0.027719373181927895, 0.06250298331824154, 0.02066084527947276, 0.06205650843588799, 0.013446711935183986, 0.04505124105986546, 0.06442383264425444, 0.07108785783165614, 0.18564860338268852, 0.1567872941338028, 0.14478202197946216, 0.10872693025549768, 0.5022312744598241, 0.2123225885151181, 0.10373134957314573, 0.16970742222239388, 0.19605967698526527, 0.3061216393426398, 0.3599825130952003, 0.28681175935290304, 0.24860189484875161, 0.15572373263556114, 0.19158168140171908, 0.21551256919716705, 0.15442278517614072, 0.19563648447759852, 0.1506337467939867, 0.216269218096299, 0.19399129721106853, 0.17943936686487671, 0.19525749391960695, 0.15508979850373905, 0.15926005199466442, 0.17921727626131947, 0.17812445626468598, 0.16555295424434655, 0.1561121366880954], \"Total\": [8586.0, 14746.0, 13589.0, 8421.0, 17021.0, 3580.0, 3299.0, 11692.0, 7249.0, 5435.0, 4190.0, 4767.0, 10689.0, 12443.0, 3969.0, 11067.0, 2904.0, 5412.0, 2918.0, 3316.0, 3681.0, 5039.0, 10295.0, 3856.0, 8010.0, 1820.0, 1411.0, 8179.0, 1579.0, 1902.0, 211.86967068225562, 167.85580441463188, 96.70635099347808, 70.00937474966881, 87.4879781590177, 108.81783533345958, 56.409047927997506, 65.00300045596181, 68.51560714540727, 144.97943186581284, 52.30363443419142, 53.268991152544764, 211.35934091517566, 61.09254238837444, 45.31188584426856, 65.5822582385234, 40.21729863841646, 45.485170413031426, 45.50770961864278, 35.272867363564075, 38.28681211736323, 38.28731862192546, 38.291401974302055, 35.14482462575298, 43.360251918881666, 45.95671437384629, 35.149836517442964, 51.237791081611284, 69.8914650053537, 32.929258044229265, 66.78515830892835, 50.492263052179766, 178.83124065339595, 284.9007589447687, 54.81948733532356, 94.6888626289483, 641.3329169827194, 618.6523118059207, 77.22500764524075, 89.94699408137463, 58.85693043368145, 149.69136706957235, 2029.8033295301097, 235.10639891989734, 2148.979575764006, 1455.2762545149542, 236.34721652550596, 2007.1192592224509, 665.5093755460317, 471.04671012897836, 2684.98466794571, 1077.66311698787, 8586.930991819692, 10689.034747839532, 247.4898767415275, 3970.412800136015, 403.32235889775745, 1148.355546087913, 1319.8136200874794, 1549.347348670648, 4948.863460539687, 4206.857410509111, 8786.61801186888, 11067.700000668401, 1415.3975248241195, 13589.089113504493, 6664.526141846935, 7212.382167118671, 5069.097020434319, 3460.7107003732294, 9259.45497326899, 6510.741470968631, 3848.2742771346916, 17021.84621506889, 12443.842344069311, 7156.2036358233945, 4767.699010768069, 8179.893921453393, 11692.49256978585, 10295.439665571672, 14746.04514926178, 5584.193107731903, 6360.749096114355, 5900.07143020843, 4537.38014787776, 6276.939501893141, 5845.811931030439, 8010.774983771719, 7014.358679581823, 8421.892969437753, 5420.489697575858, 167.11641779047514, 106.5256712462144, 238.6407828107508, 52.40546017879052, 229.78362100605435, 39.48323171463032, 39.75625036820938, 41.049701504614184, 36.5512396373368, 48.51760671289529, 38.512892319034435, 24.645252130086675, 34.72412409500303, 24.329109859655215, 21.173562317358822, 33.22924228567922, 29.94981677652632, 20.037128272399208, 19.148804045628022, 22.65739977876738, 101.16852305149587, 75.31221581997427, 19.466657282851813, 20.386410683184693, 89.61533673020747, 28.88001944577387, 20.018983958851397, 204.08463700976748, 17.684879287900735, 14.619441887370535, 45.89711703708579, 70.16298069968612, 29.76012334456891, 149.58903658619155, 169.72818838376614, 119.99360527704935, 97.53917093425858, 201.25202828897443, 241.39026058795707, 105.61577262942811, 958.1886833511242, 214.15398597310403, 114.57042866455373, 1902.6512610672617, 198.45738076986896, 78.53384649965031, 299.1595736285292, 548.3321361038719, 5412.692799551036, 125.1703116020287, 770.1820790105243, 3316.639394831336, 424.6274064194609, 433.8707001117695, 3580.4361472308688, 325.56958161348325, 247.45795158543564, 7249.479057900988, 1885.5502568796649, 1871.56153626435, 1651.8309138795105, 1822.158497700123, 5435.9203184742955, 5694.557886389847, 2683.319789435905, 8010.774983771719, 1691.3067771488732, 4680.902587344163, 8786.61801186888, 7156.2036358233945, 1765.5808784080543, 7014.358679581823, 8179.893921453393, 4094.893775025237, 3108.974324475424, 8421.892969437753, 7212.382167118671, 5088.515852813591, 1935.1423847082133, 2978.267204479593, 13589.089113504493, 17021.84621506889, 9259.45497326899, 14746.04514926178, 5845.811931030439, 12443.842344069311, 5050.97989214036, 4453.468741826591, 10295.439665571672, 5420.489697575858, 79.81431155015895, 131.1729081341057, 80.52653879492776, 279.16075438845354, 79.00054826713314, 55.10437254655762, 85.6222949928876, 203.2875744782616, 49.55175676813614, 53.12597591773356, 50.592420436343886, 46.65694825133337, 300.22350894955576, 43.09492910174524, 71.89243840702726, 89.64508427669652, 94.82602080077969, 399.6413478900321, 58.77710972180645, 39.137943414190445, 40.665535656843716, 204.57778867621508, 79.41166618771376, 39.03661612412031, 145.1864614519373, 34.50058475108194, 33.304235618507356, 71.5307523445494, 43.184636421728094, 51.07461844601264, 491.8032442024941, 102.851320606231, 1120.0800036912385, 802.6803694350168, 1820.768082931269, 278.7488730170692, 498.2301879366813, 109.83585571223749, 842.0162612786784, 1606.2717351769497, 1241.9465624594286, 424.0328464470263, 283.95075336337993, 119.1876404180917, 711.0552191020431, 244.85034096832104, 728.7232143474616, 357.9805887934132, 2130.8397156953415, 417.1483434071771, 188.97997822491197, 639.5581030726839, 545.6331032468156, 944.8711458713693, 907.8483908845825, 361.1835203226194, 973.8006577192447, 1077.365066578322, 831.5701521453445, 929.205732576367, 1426.4432100697293, 2458.9219506993595, 5039.547530399723, 1050.930467930487, 3294.2685888768438, 2376.001317204205, 936.75677748442, 10295.439665571672, 1300.7291918054948, 2855.1187766302164, 4310.502732176934, 4059.866799149045, 3731.31603964103, 14746.04514926178, 4203.737495270365, 1456.2536078889711, 8010.774983771719, 17021.84621506889, 12443.842344069311, 9259.45497326899, 8179.893921453393, 3970.412800136015, 13589.089113504493, 6276.939501893141, 11692.49256978585, 11067.700000668401, 166.03987857772813, 171.0052926960586, 192.8624288511783, 430.5212256246213, 59.19635126761214, 153.23185107481748, 56.427019872219915, 53.14744559697968, 54.60693221962062, 57.42065095081188, 53.43868283422248, 53.434819894862436, 53.43152816980267, 53.58640333368967, 50.27919191252538, 91.83809692336929, 98.36463865778116, 42.70755060965245, 93.87165961676926, 55.895305049766186, 32.121881079307904, 48.38395233044799, 34.879390538965794, 24.063079360315278, 24.894819936655935, 24.46368276912246, 116.75866790708643, 48.16075841879494, 25.876502742763424, 19.442633719722178, 530.707899246237, 113.10717221398674, 828.9349268000728, 66.0319515544668, 387.131661729274, 106.55741189216134, 545.5563552077093, 93.52187056004705, 590.3077032796928, 171.38124290031507, 95.16613607775209, 408.81182937886905, 290.37862972526403, 248.38362567070348, 187.46977481536584, 408.0769152979244, 118.79803127754414, 567.7391890535308, 127.42309277420081, 241.93610936408828, 609.9594871578057, 137.20356739211383, 1353.5750519072562, 507.54168365688247, 1294.0248016260737, 12443.842344069311, 593.833148391416, 1566.271707803846, 11067.700000668401, 942.3207332320816, 585.3860509886855, 11692.49256978585, 1358.9083980325129, 4444.579409762264, 6510.741470968631, 17021.84621506889, 6664.526141846935, 3996.163849027411, 4453.468741826591, 10689.034747839532, 4203.737495270365, 7249.479057900988, 2381.0431985152068, 4894.16130025971, 2462.9797902560867, 2205.7729673236286, 2918.404329058757, 1897.7262275820437, 5900.07143020843, 2651.0514821721554, 9259.45497326899, 3339.36494628137, 6276.939501893141, 8421.892969437753, 14746.04514926178, 7014.358679581823, 2935.9097601692242, 83.78928998926321, 68.96207489521504, 63.68626249631631, 127.70085817879102, 102.72144899165983, 49.11399746963484, 68.22107349006595, 52.04997449215785, 37.2662668140232, 108.09340107333567, 30.872589142622516, 29.99982287670738, 118.84869345057507, 23.701345394076895, 23.404103733049876, 22.54566492864729, 160.48473693406964, 20.46518505515497, 19.759051814091773, 29.565526157997827, 17.08621914553907, 16.149542530220053, 16.093317685155263, 16.373274858874, 15.309068854984046, 15.764261570096384, 35.28670039950268, 184.09573944344876, 48.44886012066311, 12.477919310161841, 92.45390586307094, 177.31115514803622, 134.3303021001452, 917.7525189639063, 172.34048059966707, 119.10300152490441, 242.60019898329517, 121.13224918356826, 212.4821516268989, 51.29179683592502, 107.97601723158638, 148.41464893796942, 968.0772169155639, 66.27927250963323, 93.78412509608546, 1372.7337725028815, 123.0699053959216, 2893.464890588911, 13589.089113504493, 3230.570598661183, 11692.49256978585, 412.74316235033353, 10689.034747839532, 781.6828318316115, 785.914206119373, 17021.84621506889, 998.2553300159931, 1068.5377684844439, 3709.320416658966, 7014.358679581823, 2208.9888621996342, 11067.700000668401, 6360.749096114355, 6276.939501893141, 1499.9782127775961, 2209.0830539193526, 8010.774983771719, 4537.38014787776, 12443.842344069311, 4680.902587344163, 2310.94862059678, 9259.45497326899, 10295.439665571672, 5900.07143020843, 2008.1445025531423, 6664.526141846935, 6510.741470968631, 4453.468741826591, 4894.16130025971, 8421.892969437753, 4283.266562420362, 14746.04514926178, 5420.489697575858, 7249.479057900988, 128.5255630963783, 131.66285923160814, 97.24105718917384, 84.20366761676047, 60.16459540326909, 50.15134557241426, 280.5913481822091, 38.274962948257944, 53.811100398934364, 50.56478923087266, 32.77534241551557, 176.11065191799327, 30.2871044615689, 27.037100876386095, 60.42513708302385, 32.11270731779617, 31.607164120674245, 21.466797380983248, 20.89796930390449, 19.7584362990128, 44.26669938599907, 32.82845940725756, 30.844229309819, 15.228544014248095, 36.80175849273202, 77.79946918083249, 18.0209982247169, 51.50776635935582, 59.193867154833775, 32.50507081340632, 71.28203913417272, 299.2367213845461, 244.17641139340355, 243.605267416045, 135.56095040828012, 185.44738525858034, 374.43965218349103, 162.65140853101414, 115.62499187026141, 188.2990123947304, 1411.8978289311585, 409.17387579773396, 977.6203528696434, 144.43128157011773, 261.3713556512236, 199.59174805241256, 171.04661385194672, 391.9209678059275, 2918.404329058757, 707.3236713419151, 399.70214495943424, 623.6671229451953, 447.5898637954017, 249.52200572884723, 14746.04514926178, 1903.6004903473715, 4767.699010768069, 5088.515852813591, 1068.8038066691295, 17021.84621506889, 2365.42642695478, 3015.9794520898195, 2253.3136285948813, 3828.2864765971854, 8586.930991819692, 817.5898211739798, 1218.4261959264766, 653.0026424267852, 12443.842344069311, 11692.49256978585, 5420.489697575858, 1831.992574045091, 9259.45497326899, 3681.411212323674, 5694.557886389847, 8179.893921453393, 2651.261290264757, 10295.439665571672, 11067.700000668401, 8786.61801186888, 61.41171498688943, 52.81740906948813, 46.98468951866239, 36.16128626929971, 29.02208405195252, 105.24736387878174, 34.72112383788062, 22.26092382861453, 24.985625104743455, 39.467545268804656, 34.38355572059854, 38.42729767674695, 28.025321392299418, 24.857076380890568, 102.69536161418439, 43.613608490401106, 19.325468095255683, 194.30076558390934, 18.830401639568375, 19.166936604167976, 11.78912272069233, 32.585279142768336, 66.46502589816838, 11.953948861509165, 11.243160954965216, 18.541337669671893, 11.820479986079658, 25.1952198475904, 9.424514975681019, 8.46191921228575, 69.60618030693705, 34.7621001787958, 33.73107090646429, 86.15690120914897, 67.74418835323641, 26.104376760072174, 41.56981000237796, 128.07183781186595, 1406.6573161953977, 127.31654071683491, 353.93913998383607, 4190.262162700184, 1717.2501764059505, 3969.708592977267, 1286.8574866406184, 13589.089113504493, 17021.84621506889, 4767.699010768069, 2307.913027475201, 3848.2742771346916, 14746.04514926178, 469.89363559742014, 2588.7198740114427, 1872.3672411592893, 732.5950297291531, 1415.3975248241195, 740.1051507326185, 6360.749096114355, 11067.700000668401, 3299.254327185256, 2654.830035186677, 4283.266562420362, 2422.8858397088165, 8421.892969437753, 9259.45497326899, 8010.774983771719, 5845.811931030439, 10689.034747839532, 11692.49256978585, 4894.16130025971, 5694.557886389847, 8179.893921453393, 10295.439665571672, 7212.382167118671, 5420.489697575858, 247.64006443314358, 41.84895742215399, 41.17171624755306, 40.997018993286666, 55.70250167243081, 36.599915595561974, 28.326215165991417, 31.697895990392126, 61.892060008471056, 25.48842157265519, 20.052145161892913, 20.65771724569526, 34.32041201210461, 30.404054919594273, 15.865205969487212, 47.030562350771014, 20.768919295687553, 15.923026188878927, 34.57692655834639, 13.978751981366782, 12.164351320861952, 64.29415851480336, 10.92287008127105, 29.52327816155411, 11.657214304192257, 15.690368168026243, 12.957734033186112, 21.249015786116384, 184.08753390737778, 92.4365597820364, 99.10987948546477, 110.60471067010835, 60.35306727287935, 180.86668679243598, 78.48865359459346, 170.27445580249142, 165.64605597678127, 111.94201619745506, 144.64579817230276, 72.47843738442756, 91.31832793655377, 128.8723146355094, 94.14622053469554, 90.719445273968, 171.98138049204005, 116.23959451501348, 232.03628118803434, 233.98173417489352, 277.9792926870429, 153.5244893236126, 548.6948216163862, 325.1025064516321, 3299.254327185256, 191.06424246350616, 1579.5068124075494, 1302.2183414274587, 358.24907345940653, 911.3213774915565, 8586.930991819692, 8421.892969437753, 183.21993802443467, 289.71412833755926, 2904.5587979621837, 184.67229121735124, 3681.411212323674, 1567.3441437019883, 267.71042083391904, 5435.9203184742955, 1672.8160673380175, 1645.1897755394968, 746.1102165897049, 1717.2501764059505, 512.1714214150162, 3856.007446840454, 1160.6942756450558, 17021.84621506889, 3368.296834004187, 2529.722245163285, 3316.639394831336, 1651.3006918755923, 1122.8528389815635, 2700.233352714143, 5584.193107731903, 9259.45497326899, 14746.04514926178, 69.78466399433917, 24.533672941182136, 19.078833825814243, 59.03909451260576, 16.220663422497392, 57.39772077156169, 17.455482156195824, 13.69620615750518, 25.820395383229766, 13.63168347623343, 17.42575551835801, 419.6729715545312, 14.139023052615851, 13.471617684525386, 10.346112445452013, 20.07498372900353, 8.509690646080216, 8.717254470824095, 10.593316185049478, 49.2667312859179, 11.053440173995671, 9.167534492236634, 7.855589811319049, 23.25342617100702, 13.701577765073251, 11.686649740066516, 8.148711048084003, 10.076736110575576, 6.72426229881991, 33.95997710490044, 41.04973703426948, 37.1679320782164, 52.15049655098294, 163.2194990108848, 23.951899186264153, 205.69591945366324, 47.49788298576663, 56.5802462616517, 76.35746499323042, 37.72462963841235, 24.748984550386172, 60.63223973632698, 134.15555243554996, 3580.4361472308688, 313.9029194554758, 471.1756000897263, 205.3007140453683, 550.7404830453504, 158.3616595600932, 97.8955143208814, 330.4484392945966, 564.1526649991899, 230.69007645607712, 550.6338107955904, 348.1413303663694, 1265.6795104500388, 7249.479057900988, 288.96510400111225, 2205.7729673236286, 424.6274064194609, 1902.6512610672617, 2451.062221856661, 273.75060419083155, 1547.4267412433992, 5412.692799551036, 5435.9203184742955, 11692.49256978585, 6276.939501893141, 3316.639394831336, 8421.892969437753, 13589.089113504493, 2683.319789435905, 2365.42642695478, 3856.007446840454, 4453.468741826591, 4094.893775025237, 12443.842344069311, 2554.095375223458, 5845.811931030439, 2450.811410673975, 1567.3441437019883, 8179.893921453393, 7212.382167118671, 10295.439665571672, 8010.774983771719, 14746.04514926178, 27.944119584455485, 10.98278516111657, 6.364351706660015, 3.0011869276950662, 2.5579977480897718, 19.293527759089763, 1.7599161711130105, 1.8249047946864956, 1.8026547946384799, 1.552535998830077, 1.6141532446474878, 4.174067510008152, 99.34645795671477, 2.6236152678355262, 4.034157241261433, 14.074694994477424, 2.8927402889223055, 5.29153141284659, 1.4062834446269996, 1.4099961604988833, 1.5956649173918107, 1.4081713103672446, 2.725118741490213, 1.7384518816435357, 1.4203917025181212, 1.4102712850736825, 4.592308117770696, 2.226542474283063, 1.4728036137785017, 1.406621476920891, 4.33299758699205, 7.826589865683183, 3.8245513134155824, 7.287546950057823, 9.15456224059438, 27.418488748820156, 6.366551660960426, 32.46259843776803, 3.7336144390468986, 24.64139426027346, 56.5802462616517, 91.91589603730023, 748.8678976010104, 680.5546606729038, 599.7581826597824, 348.1413303663694, 14746.04514926178, 1951.442536355855, 335.44345065596525, 1557.7418124295639, 2365.42642695478, 8179.893921453393, 17021.84621506889, 12443.842344069311, 9259.45497326899, 2451.062221856661, 5435.9203184742955, 8786.61801186888, 2683.319789435905, 7212.382167118671, 2657.4537175188334, 11692.49256978585, 8010.774983771719, 5694.557886389847, 8421.892969437753, 3316.639394831336, 3856.007446840454, 11067.700000668401, 13589.089113504493, 7156.2036358233945, 7014.358679581823], \"Category\": [\"Default\", \"Default\", \"Default\", \"Default\", \"Default\", \"Default\", \"Default\", \"Default\", \"Default\", \"Default\", \"Default\", \"Default\", \"Default\", \"Default\", \"Default\", \"Default\", \"Default\", \"Default\", \"Default\", \"Default\", \"Default\", \"Default\", \"Default\", \"Default\", \"Default\", \"Default\", \"Default\", \"Default\", \"Default\", \"Default\", \"Topic1\", \"Topic1\", \"Topic1\", \"Topic1\", \"Topic1\", \"Topic1\", \"Topic1\", \"Topic1\", \"Topic1\", \"Topic1\", \"Topic1\", \"Topic1\", \"Topic1\", \"Topic1\", \"Topic1\", \"Topic1\", \"Topic1\", \"Topic1\", \"Topic1\", \"Topic1\", \"Topic1\", \"Topic1\", \"Topic1\", \"Topic1\", \"Topic1\", \"Topic1\", \"Topic1\", \"Topic1\", \"Topic1\", \"Topic1\", \"Topic1\", \"Topic1\", \"Topic1\", \"Topic1\", \"Topic1\", \"Topic1\", \"Topic1\", \"Topic1\", \"Topic1\", \"Topic1\", \"Topic1\", \"Topic1\", \"Topic1\", \"Topic1\", \"Topic1\", \"Topic1\", \"Topic1\", \"Topic1\", \"Topic1\", \"Topic1\", \"Topic1\", \"Topic1\", \"Topic1\", \"Topic1\", \"Topic1\", \"Topic1\", \"Topic1\", \"Topic1\", \"Topic1\", \"Topic1\", \"Topic1\", \"Topic1\", \"Topic1\", \"Topic1\", \"Topic1\", \"Topic1\", \"Topic1\", \"Topic1\", \"Topic1\", \"Topic1\", \"Topic1\", \"Topic1\", \"Topic1\", \"Topic1\", \"Topic1\", \"Topic1\", \"Topic1\", \"Topic1\", \"Topic1\", \"Topic1\", \"Topic1\", \"Topic1\", \"Topic1\", \"Topic1\", \"Topic1\", \"Topic1\", \"Topic1\", \"Topic1\", \"Topic1\", \"Topic1\", \"Topic1\", \"Topic2\", \"Topic2\", \"Topic2\", \"Topic2\", \"Topic2\", \"Topic2\", \"Topic2\", \"Topic2\", \"Topic2\", \"Topic2\", \"Topic2\", \"Topic2\", \"Topic2\", \"Topic2\", \"Topic2\", \"Topic2\", \"Topic2\", \"Topic2\", \"Topic2\", \"Topic2\", \"Topic2\", \"Topic2\", \"Topic2\", \"Topic2\", \"Topic2\", \"Topic2\", \"Topic2\", \"Topic2\", \"Topic2\", \"Topic2\", \"Topic2\", \"Topic2\", \"Topic2\", \"Topic2\", \"Topic2\", \"Topic2\", \"Topic2\", \"Topic2\", \"Topic2\", \"Topic2\", \"Topic2\", \"Topic2\", \"Topic2\", \"Topic2\", \"Topic2\", \"Topic2\", \"Topic2\", \"Topic2\", \"Topic2\", \"Topic2\", \"Topic2\", \"Topic2\", \"Topic2\", \"Topic2\", \"Topic2\", \"Topic2\", \"Topic2\", \"Topic2\", \"Topic2\", \"Topic2\", \"Topic2\", \"Topic2\", \"Topic2\", \"Topic2\", \"Topic2\", \"Topic2\", \"Topic2\", \"Topic2\", \"Topic2\", \"Topic2\", \"Topic2\", \"Topic2\", \"Topic2\", \"Topic2\", \"Topic2\", \"Topic2\", \"Topic2\", \"Topic2\", \"Topic2\", \"Topic2\", \"Topic2\", \"Topic2\", \"Topic2\", \"Topic2\", \"Topic2\", \"Topic2\", \"Topic2\", \"Topic2\", \"Topic2\", \"Topic2\", \"Topic3\", \"Topic3\", \"Topic3\", \"Topic3\", \"Topic3\", \"Topic3\", \"Topic3\", \"Topic3\", \"Topic3\", \"Topic3\", \"Topic3\", \"Topic3\", \"Topic3\", \"Topic3\", \"Topic3\", \"Topic3\", \"Topic3\", \"Topic3\", \"Topic3\", \"Topic3\", \"Topic3\", \"Topic3\", \"Topic3\", \"Topic3\", \"Topic3\", \"Topic3\", \"Topic3\", \"Topic3\", \"Topic3\", \"Topic3\", \"Topic3\", \"Topic3\", \"Topic3\", \"Topic3\", \"Topic3\", \"Topic3\", \"Topic3\", \"Topic3\", \"Topic3\", \"Topic3\", \"Topic3\", \"Topic3\", \"Topic3\", \"Topic3\", \"Topic3\", \"Topic3\", \"Topic3\", \"Topic3\", \"Topic3\", \"Topic3\", \"Topic3\", \"Topic3\", \"Topic3\", \"Topic3\", \"Topic3\", \"Topic3\", \"Topic3\", \"Topic3\", \"Topic3\", \"Topic3\", \"Topic3\", \"Topic3\", \"Topic3\", \"Topic3\", \"Topic3\", \"Topic3\", \"Topic3\", \"Topic3\", \"Topic3\", \"Topic3\", \"Topic3\", \"Topic3\", \"Topic3\", \"Topic3\", \"Topic3\", \"Topic3\", \"Topic3\", \"Topic3\", \"Topic3\", \"Topic3\", \"Topic3\", \"Topic3\", \"Topic3\", \"Topic3\", \"Topic3\", \"Topic3\", \"Topic4\", \"Topic4\", \"Topic4\", \"Topic4\", \"Topic4\", \"Topic4\", \"Topic4\", \"Topic4\", \"Topic4\", \"Topic4\", \"Topic4\", \"Topic4\", \"Topic4\", \"Topic4\", \"Topic4\", \"Topic4\", \"Topic4\", \"Topic4\", \"Topic4\", \"Topic4\", \"Topic4\", \"Topic4\", \"Topic4\", \"Topic4\", \"Topic4\", \"Topic4\", \"Topic4\", \"Topic4\", \"Topic4\", \"Topic4\", \"Topic4\", \"Topic4\", \"Topic4\", \"Topic4\", \"Topic4\", \"Topic4\", \"Topic4\", \"Topic4\", \"Topic4\", \"Topic4\", \"Topic4\", \"Topic4\", \"Topic4\", \"Topic4\", \"Topic4\", \"Topic4\", \"Topic4\", \"Topic4\", \"Topic4\", \"Topic4\", \"Topic4\", \"Topic4\", \"Topic4\", \"Topic4\", \"Topic4\", \"Topic4\", \"Topic4\", \"Topic4\", \"Topic4\", \"Topic4\", \"Topic4\", \"Topic4\", \"Topic4\", \"Topic4\", \"Topic4\", \"Topic4\", \"Topic4\", \"Topic4\", \"Topic4\", \"Topic4\", \"Topic4\", \"Topic4\", \"Topic4\", \"Topic4\", \"Topic4\", \"Topic4\", \"Topic4\", \"Topic4\", \"Topic4\", \"Topic4\", \"Topic4\", \"Topic4\", \"Topic4\", \"Topic4\", \"Topic4\", \"Topic4\", \"Topic4\", \"Topic5\", \"Topic5\", \"Topic5\", \"Topic5\", \"Topic5\", \"Topic5\", \"Topic5\", \"Topic5\", \"Topic5\", \"Topic5\", \"Topic5\", \"Topic5\", \"Topic5\", \"Topic5\", \"Topic5\", \"Topic5\", \"Topic5\", \"Topic5\", \"Topic5\", \"Topic5\", \"Topic5\", \"Topic5\", \"Topic5\", \"Topic5\", \"Topic5\", \"Topic5\", \"Topic5\", \"Topic5\", \"Topic5\", \"Topic5\", \"Topic5\", \"Topic5\", \"Topic5\", \"Topic5\", \"Topic5\", \"Topic5\", \"Topic5\", \"Topic5\", \"Topic5\", \"Topic5\", \"Topic5\", \"Topic5\", \"Topic5\", \"Topic5\", \"Topic5\", \"Topic5\", \"Topic5\", \"Topic5\", \"Topic5\", \"Topic5\", \"Topic5\", \"Topic5\", \"Topic5\", \"Topic5\", \"Topic5\", \"Topic5\", \"Topic5\", \"Topic5\", \"Topic5\", \"Topic5\", \"Topic5\", \"Topic5\", \"Topic5\", \"Topic5\", \"Topic5\", \"Topic5\", \"Topic5\", \"Topic5\", \"Topic5\", \"Topic5\", \"Topic5\", \"Topic5\", \"Topic5\", \"Topic5\", \"Topic5\", \"Topic5\", \"Topic5\", \"Topic5\", \"Topic5\", \"Topic5\", \"Topic5\", \"Topic5\", \"Topic5\", \"Topic5\", \"Topic6\", \"Topic6\", \"Topic6\", \"Topic6\", \"Topic6\", \"Topic6\", \"Topic6\", \"Topic6\", \"Topic6\", \"Topic6\", \"Topic6\", \"Topic6\", \"Topic6\", \"Topic6\", \"Topic6\", \"Topic6\", \"Topic6\", \"Topic6\", \"Topic6\", \"Topic6\", \"Topic6\", \"Topic6\", \"Topic6\", \"Topic6\", \"Topic6\", \"Topic6\", \"Topic6\", \"Topic6\", \"Topic6\", \"Topic6\", \"Topic6\", \"Topic6\", \"Topic6\", \"Topic6\", \"Topic6\", \"Topic6\", \"Topic6\", \"Topic6\", \"Topic6\", \"Topic6\", \"Topic6\", \"Topic6\", \"Topic6\", \"Topic6\", \"Topic6\", \"Topic6\", \"Topic6\", \"Topic6\", \"Topic6\", \"Topic6\", \"Topic6\", \"Topic6\", \"Topic6\", \"Topic6\", \"Topic6\", \"Topic6\", \"Topic6\", \"Topic6\", \"Topic6\", \"Topic6\", \"Topic6\", \"Topic6\", \"Topic6\", \"Topic6\", \"Topic6\", \"Topic6\", \"Topic6\", \"Topic6\", \"Topic6\", \"Topic6\", \"Topic6\", \"Topic6\", \"Topic6\", \"Topic6\", \"Topic6\", \"Topic6\", \"Topic6\", \"Topic6\", \"Topic6\", \"Topic6\", \"Topic7\", \"Topic7\", \"Topic7\", \"Topic7\", \"Topic7\", \"Topic7\", \"Topic7\", \"Topic7\", \"Topic7\", \"Topic7\", \"Topic7\", \"Topic7\", \"Topic7\", \"Topic7\", \"Topic7\", \"Topic7\", \"Topic7\", \"Topic7\", \"Topic7\", \"Topic7\", \"Topic7\", \"Topic7\", \"Topic7\", \"Topic7\", \"Topic7\", \"Topic7\", \"Topic7\", \"Topic7\", \"Topic7\", \"Topic7\", \"Topic7\", \"Topic7\", \"Topic7\", \"Topic7\", \"Topic7\", \"Topic7\", \"Topic7\", \"Topic7\", \"Topic7\", \"Topic7\", \"Topic7\", \"Topic7\", \"Topic7\", \"Topic7\", \"Topic7\", \"Topic7\", \"Topic7\", \"Topic7\", \"Topic7\", \"Topic7\", \"Topic7\", \"Topic7\", \"Topic7\", \"Topic7\", \"Topic7\", \"Topic7\", \"Topic7\", \"Topic7\", \"Topic7\", \"Topic7\", \"Topic7\", \"Topic7\", \"Topic7\", \"Topic7\", \"Topic7\", \"Topic7\", \"Topic7\", \"Topic7\", \"Topic7\", \"Topic7\", \"Topic7\", \"Topic7\", \"Topic7\", \"Topic7\", \"Topic7\", \"Topic8\", \"Topic8\", \"Topic8\", \"Topic8\", \"Topic8\", \"Topic8\", \"Topic8\", \"Topic8\", \"Topic8\", \"Topic8\", \"Topic8\", \"Topic8\", \"Topic8\", \"Topic8\", \"Topic8\", \"Topic8\", \"Topic8\", \"Topic8\", \"Topic8\", \"Topic8\", \"Topic8\", \"Topic8\", \"Topic8\", \"Topic8\", \"Topic8\", \"Topic8\", \"Topic8\", \"Topic8\", \"Topic8\", \"Topic8\", \"Topic8\", \"Topic8\", \"Topic8\", \"Topic8\", \"Topic8\", \"Topic8\", \"Topic8\", \"Topic8\", \"Topic8\", \"Topic8\", \"Topic8\", \"Topic8\", \"Topic8\", \"Topic8\", \"Topic8\", \"Topic8\", \"Topic8\", \"Topic8\", \"Topic8\", \"Topic8\", \"Topic8\", \"Topic8\", \"Topic8\", \"Topic8\", \"Topic8\", \"Topic8\", \"Topic8\", \"Topic8\", \"Topic8\", \"Topic8\", \"Topic8\", \"Topic8\", \"Topic8\", \"Topic8\", \"Topic8\", \"Topic8\", \"Topic8\", \"Topic8\", \"Topic8\", \"Topic8\", \"Topic8\", \"Topic8\", \"Topic8\", \"Topic8\", \"Topic8\", \"Topic8\", \"Topic8\", \"Topic8\", \"Topic8\", \"Topic8\", \"Topic8\", \"Topic8\", \"Topic8\", \"Topic8\", \"Topic8\", \"Topic9\", \"Topic9\", \"Topic9\", \"Topic9\", \"Topic9\", \"Topic9\", \"Topic9\", \"Topic9\", \"Topic9\", \"Topic9\", \"Topic9\", \"Topic9\", \"Topic9\", \"Topic9\", \"Topic9\", \"Topic9\", \"Topic9\", \"Topic9\", \"Topic9\", \"Topic9\", \"Topic9\", \"Topic9\", \"Topic9\", \"Topic9\", \"Topic9\", \"Topic9\", \"Topic9\", \"Topic9\", \"Topic9\", \"Topic9\", \"Topic9\", \"Topic9\", \"Topic9\", \"Topic9\", \"Topic9\", \"Topic9\", \"Topic9\", \"Topic9\", \"Topic9\", \"Topic9\", \"Topic9\", \"Topic9\", \"Topic9\", \"Topic9\", \"Topic9\", \"Topic9\", \"Topic9\", \"Topic9\", \"Topic9\", \"Topic9\", \"Topic9\", \"Topic9\", \"Topic9\", \"Topic9\", \"Topic9\", \"Topic9\", \"Topic9\", \"Topic9\", \"Topic9\", \"Topic9\", \"Topic9\", \"Topic9\", \"Topic9\", \"Topic9\", \"Topic9\", \"Topic9\", \"Topic9\", \"Topic9\", \"Topic9\", \"Topic9\", \"Topic9\", \"Topic9\", \"Topic9\", \"Topic9\", \"Topic9\", \"Topic9\", \"Topic9\", \"Topic9\", \"Topic9\", \"Topic9\", \"Topic9\", \"Topic9\", \"Topic9\", \"Topic9\", \"Topic9\", \"Topic9\", \"Topic10\", \"Topic10\", \"Topic10\", \"Topic10\", \"Topic10\", \"Topic10\", \"Topic10\", \"Topic10\", \"Topic10\", \"Topic10\", \"Topic10\", \"Topic10\", \"Topic10\", \"Topic10\", \"Topic10\", \"Topic10\", \"Topic10\", \"Topic10\", \"Topic10\", \"Topic10\", \"Topic10\", \"Topic10\", \"Topic10\", \"Topic10\", \"Topic10\", \"Topic10\", \"Topic10\", \"Topic10\", \"Topic10\", \"Topic10\", \"Topic10\", \"Topic10\", \"Topic10\", \"Topic10\", \"Topic10\", \"Topic10\", \"Topic10\", \"Topic10\", \"Topic10\", \"Topic10\", \"Topic10\", \"Topic10\", \"Topic10\", \"Topic10\", \"Topic10\", \"Topic10\", \"Topic10\", \"Topic10\", \"Topic10\", \"Topic10\", \"Topic10\", \"Topic10\", \"Topic10\", \"Topic10\", \"Topic10\", \"Topic10\", \"Topic10\", \"Topic10\", \"Topic10\", \"Topic10\", \"Topic10\", \"Topic10\", \"Topic10\", \"Topic10\", \"Topic10\", \"Topic10\", \"Topic10\", \"Topic10\", \"Topic10\", \"Topic10\", \"Topic10\"], \"logprob\": [30.0, 29.0, 28.0, 27.0, 26.0, 25.0, 24.0, 23.0, 22.0, 21.0, 20.0, 19.0, 18.0, 17.0, 16.0, 15.0, 14.0, 13.0, 12.0, 11.0, 10.0, 9.0, 8.0, 7.0, 6.0, 5.0, 4.0, 3.0, 2.0, 1.0, -7.7942, -8.0285, -8.5854, -8.9148, -8.6926, -8.4766, -9.1338, -8.9933, -8.9409, -8.1917, -9.2125, -9.1944, -7.8185, -9.0638, -9.3634, -8.994, -9.4835, -9.3608, -9.3609, -9.6174, -9.5358, -9.5361, -9.5363, -9.6233, -9.4143, -9.3571, -9.6262, -9.2496, -8.9395, -9.6922, -8.9871, -9.2649, -8.0214, -7.5651, -9.1839, -8.6486, -6.8008, -6.8359, -8.8545, -8.7151, -9.119, -8.2342, -5.8052, -7.8251, -5.7754, -6.1607, -7.8331, -5.878, -6.8896, -7.2278, -5.6669, -6.4885, -4.6491, -4.4542, -7.813, -5.3506, -7.3835, -6.4738, -6.359, -6.2237, -5.2343, -5.3833, -4.7644, -4.5693, -6.3265, -4.4807, -5.0663, -5.0023, -5.3094, -5.6228, -4.8379, -5.1243, -5.5413, -4.3879, -4.6395, -5.0681, -5.3832, -4.9773, -4.7167, -4.8378, -4.5831, -5.314, -5.2528, -5.3236, -5.5048, -5.3653, -5.3968, -5.323, -5.4098, -5.389, -5.4937, -7.4738, -7.9299, -7.1261, -8.6488, -7.1775, -8.9399, -8.9353, -8.9051, -9.0295, -8.7473, -8.98, -9.4306, -9.0893, -9.4465, -9.5905, -9.1399, -9.2449, -9.6489, -9.6963, -9.528, -8.0325, -8.3295, -9.6848, -9.6407, -8.1626, -9.2997, -9.6664, -7.3455, -9.7949, -9.9854, -8.8418, -8.4225, -9.2773, -7.6966, -7.5774, -7.9266, -8.1289, -7.4366, -7.2701, -8.0618, -5.9719, -7.3941, -7.9929, -5.3996, -7.4983, -8.3504, -7.1412, -6.5974, -4.5611, -7.9286, -6.3147, -5.0575, -6.8602, -6.8433, -5.0512, -7.1105, -7.3486, -4.5472, -5.6749, -5.708, -5.8218, -5.7605, -4.9184, -4.949, -5.5365, -4.7104, -5.8943, -5.1783, -4.7427, -4.9775, -5.954, -5.0307, -4.9337, -5.4168, -5.6288, -5.0219, -5.1181, -5.337, -5.9369, -5.7232, -4.9298, -4.9525, -5.2507, -5.0847, -5.488, -5.2458, -5.616, -5.6655, -5.5785, -5.6512, -7.9022, -7.4069, -7.8964, -6.6545, -7.917, -8.2795, -7.8404, -6.9766, -8.3884, -8.3198, -8.3696, -8.451, -6.59, -8.5317, -8.0207, -7.8001, -7.7444, -6.3061, -8.2248, -8.6316, -8.5935, -6.9782, -7.9251, -8.6363, -7.3238, -8.7624, -8.7993, -8.037, -8.5417, -8.3744, -6.1098, -7.6762, -5.3177, -5.6617, -4.8679, -6.7157, -6.1552, -7.6223, -5.6674, -5.0561, -5.31, -6.3369, -6.7198, -7.5478, -5.8549, -6.8688, -5.8492, -6.5143, -4.8609, -6.3884, -7.1193, -6.014, -6.171, -5.6792, -5.7283, -6.5529, -5.7066, -5.6239, -5.8549, -5.7619, -5.4245, -5.0047, -4.4464, -5.712, -4.9308, -5.1692, -5.8487, -4.2736, -5.6444, -5.1418, -4.8888, -4.9964, -5.0674, -4.5286, -5.3396, -5.7298, -5.3274, -5.1759, -5.3453, -5.4092, -5.4503, -5.5543, -5.4702, -5.592, -5.5802, -5.6432, -6.8984, -6.8744, -6.7556, -5.9592, -7.9444, -6.9937, -7.9929, -8.0533, -8.0264, -7.9764, -8.0487, -8.0489, -8.0492, -8.0474, -8.1114, -7.5091, -7.4433, -8.2778, -7.4945, -8.0147, -8.5728, -8.1707, -8.4981, -8.8735, -8.8402, -8.8591, -7.2991, -8.1885, -8.8099, -9.0991, -5.8081, -7.3619, -5.4128, -7.8938, -6.1858, -7.4328, -5.8784, -7.5631, -5.8897, -7.0309, -7.5611, -6.3165, -6.6228, -6.7557, -6.996, -6.3592, -7.3837, -6.0933, -7.3337, -6.8598, -6.1539, -7.3108, -5.6019, -6.3766, -5.7333, -4.1736, -6.2993, -5.6742, -4.4447, -6.0265, -6.3515, -4.5384, -5.8735, -5.2009, -4.9992, -4.4844, -5.0082, -5.296, -5.2886, -4.8529, -5.3297, -5.0665, -5.6856, -5.3732, -5.6795, -5.7481, -5.6537, -5.8161, -5.4817, -5.7162, -5.4078, -5.6631, -5.5167, -5.5706, -5.5048, -5.6741, -5.7689, -7.4365, -7.6342, -7.7184, -7.0257, -7.2554, -7.9937, -7.6661, -7.9372, -8.2714, -7.2072, -8.4615, -8.4914, -7.121, -8.7368, -8.7508, -8.7883, -6.8307, -8.8921, -8.9278, -8.5271, -9.0831, -9.1435, -9.1472, -9.131, -9.2016, -9.1816, -8.378, -6.7316, -8.0666, -9.4245, -7.4328, -6.799, -7.0818, -5.2249, -6.8571, -7.2176, -6.535, -7.2058, -6.697, -8.0522, -7.4026, -7.135, -5.5194, -7.8414, -7.5573, -5.4762, -7.3753, -5.0506, -3.9458, -5.0027, -4.0998, -6.5104, -4.2948, -6.0916, -6.0882, -4.0937, -5.9635, -5.9291, -5.1681, -4.8591, -5.5433, -4.6312, -4.9728, -4.983, -5.7885, -5.644, -5.013, -5.3009, -4.8136, -5.3194, -5.6557, -5.0552, -5.0167, -5.2722, -5.7286, -5.3618, -5.395, -5.5193, -5.4948, -5.4034, -5.5674, -5.3638, -5.5316, -5.5007, -6.5476, -6.5257, -6.8324, -6.9793, -7.3174, -7.5038, -5.7851, -7.7796, -7.4428, -7.5053, -7.9412, -6.2605, -8.0215, -8.1423, -7.3413, -7.976, -7.995, -8.3845, -8.4138, -8.4705, -7.672, -7.9742, -8.0399, -8.7487, -7.8706, -7.1235, -8.5907, -7.5415, -7.4045, -8.0078, -7.2414, -5.873, -6.0819, -6.1216, -6.6696, -6.3869, -5.7585, -6.5218, -6.8301, -6.3918, -4.5874, -5.6934, -4.9366, -6.6326, -6.1414, -6.3981, -6.5673, -5.9167, -4.371, -5.4858, -5.9486, -5.6296, -5.8921, -6.3145, -3.4741, -5.0491, -4.6623, -4.6987, -5.6132, -4.2493, -5.3214, -5.2306, -5.4142, -5.2433, -4.9876, -5.8662, -5.7304, -5.9531, -5.0558, -5.1577, -5.4705, -5.7185, -5.481, -5.6405, -5.5926, -5.6032, -5.7223, -5.6962, -5.7154, -5.7288, -7.117, -7.2701, -7.3901, -7.6594, -7.8863, -6.6044, -7.7153, -8.165, -8.0508, -7.5951, -7.7373, -7.6358, -7.9517, -8.0759, -6.6773, -7.5339, -8.3589, -6.0595, -8.4015, -8.3881, -8.8757, -7.8638, -7.1535, -8.8693, -8.9334, -8.4377, -8.9009, -8.1455, -9.1295, -9.2383, -7.1434, -7.8315, -7.8736, -6.9665, -7.2482, -8.1411, -7.7153, -6.7547, -4.7963, -6.8252, -6.0412, -4.2541, -5.0082, -4.44, -5.4497, -3.9896, -3.993, -4.7957, -5.2384, -5.0192, -4.3111, -6.3013, -5.4131, -5.5925, -6.1007, -5.7653, -6.1345, -5.0943, -4.9038, -5.4544, -5.5925, -5.4044, -5.6468, -5.172, -5.1397, -5.2212, -5.3574, -5.1419, -5.1752, -5.496, -5.4961, -5.3995, -5.4124, -5.482, -5.5674, -5.4444, -7.2336, -7.2502, -7.2555, -6.9518, -7.3729, -7.6373, -7.5329, -6.8639, -7.7516, -8.0004, -7.9706, -7.4726, -7.5938, -8.2517, -7.1661, -7.985, -8.2517, -7.4799, -8.3887, -8.5407, -6.8856, -8.661, -7.6667, -8.6012, -8.3087, -8.5001, -8.0105, -5.8517, -6.5431, -6.5066, -6.4104, -7.0135, -5.9669, -6.7711, -6.053, -6.0957, -6.4622, -6.2304, -6.8629, -6.659, -6.3882, -6.6653, -6.7002, -6.1777, -6.4988, -5.9486, -5.948, -5.817, -6.2947, -5.3245, -5.7355, -4.0099, -6.1389, -4.6027, -4.7502, -5.6854, -5.0531, -3.61, -3.6518, -6.2051, -5.9179, -4.4841, -6.2156, -4.6261, -5.1435, -6.0368, -4.6412, -5.2187, -5.2481, -5.5963, -5.2455, -5.7974, -5.1287, -5.5327, -4.8077, -5.3922, -5.4763, -5.5737, -5.6907, -5.783, -5.7112, -5.6601, -5.7277, -5.7401, -6.5552, -7.6312, -7.9014, -6.7784, -8.0742, -6.8238, -8.0153, -8.2585, -7.6259, -8.2654, -8.0218, -4.8461, -8.2434, -8.2987, -8.5653, -7.9235, -8.7866, -8.7652, -8.5722, -7.0363, -8.5354, -8.7311, -8.8941, -7.8171, -8.3605, -8.5334, -8.8958, -8.6924, -9.099, -7.4903, -7.3016, -7.4376, -7.1263, -6.0863, -7.8728, -6.0401, -7.3141, -7.1842, -6.954, -7.5491, -7.8868, -7.1789, -6.5766, -4.0535, -5.9391, -5.645, -6.2799, -5.5598, -6.51, -6.8711, -6.0892, -5.7704, -6.3443, -5.8198, -6.1488, -5.4303, -4.493, -6.2979, -5.2081, -6.1004, -5.3427, -5.2253, -6.3752, -5.5975, -5.0311, -5.0517, -4.7758, -5.0499, -5.3224, -4.9608, -4.8347, -5.4413, -5.5053, -5.3549, -5.3073, -5.3446, -5.0044, -5.5707, -5.404, -5.6191, -5.7478, -5.5272, -5.5847, -5.5735, -5.607, -5.6375, -5.4237, -6.6548, -7.5203, -8.8566, -9.1554, -7.1523, -9.571, -9.6979, -9.7617, -9.9246, -9.904, -8.9753, -5.8887, -9.5518, -9.1393, -7.9198, -9.5034, -8.9765, -10.3507, -10.3498, -10.2732, -10.4043, -9.7493, -10.2068, -10.4123, -10.4258, -9.2461, -9.9729, -10.3958, -10.4445, -9.3718, -8.8282, -9.5633, -9.075, -8.9605, -8.1474, -9.2544, -8.1546, -9.6839, -8.4749, -8.1172, -8.0187, -7.0588, -7.2278, -7.3074, -7.5938, -6.0636, -6.9245, -7.6408, -7.1486, -7.0042, -6.5587, -6.3966, -6.6238, -6.7668, -7.2346, -7.0273, -6.9096, -7.243, -7.0064, -7.2678, -6.9061, -7.0148, -7.0928, -7.0083, -7.2386, -7.2121, -7.0941, -7.1002, -7.1734, -7.2321], \"loglift\": [30.0, 29.0, 28.0, 27.0, 26.0, 25.0, 24.0, 23.0, 22.0, 21.0, 20.0, 19.0, 18.0, 17.0, 16.0, 15.0, 14.0, 13.0, 12.0, 11.0, 10.0, 9.0, 8.0, 7.0, 6.0, 5.0, 4.0, 3.0, 2.0, 1.0, 1.127, 1.1256, 1.1201, 1.1138, 1.1131, 1.111, 1.1108, 1.1095, 1.1092, 1.1089, 1.1077, 1.1074, 1.1051, 1.101, 1.1003, 1.0999, 1.0994, 1.0991, 1.0985, 1.0967, 1.0963, 1.096, 1.0957, 1.0944, 1.0934, 1.0924, 1.0913, 1.0911, 1.0908, 1.0907, 1.0886, 1.0905, 1.0693, 1.06, 1.0892, 1.078, 1.0129, 1.0138, 1.0759, 1.0628, 1.083, 1.0345, 0.8563, 0.9921, 0.8291, 0.8335, 0.9788, 0.7948, 0.887, 0.8944, 0.7148, 0.8061, 0.5701, 0.546, 0.9528, 0.6399, 0.894, 0.7573, 0.733, 0.7079, 0.536, 0.5495, 0.4318, 0.3961, 0.6955, 0.2795, 0.4064, 0.3913, 0.4369, 0.5052, 0.3059, 0.3717, 0.4805, 0.1471, 0.2087, 0.3334, 0.4243, 0.2905, 0.1938, 0.2, 0.0953, 0.3355, 0.2665, 0.2708, 0.3523, 0.1672, 0.2069, -0.0344, 0.0116, -0.1504, 0.1855, 1.6847, 1.6789, 1.6762, 1.6694, 1.6626, 1.6615, 1.6591, 1.6573, 1.649, 1.6479, 1.6462, 1.642, 1.6405, 1.6391, 1.634, 1.6339, 1.6328, 1.6307, 1.6287, 1.6287, 1.6279, 1.626, 1.6237, 1.6216, 1.619, 1.6144, 1.6141, 1.6132, 1.6096, 1.6095, 1.609, 1.6038, 1.6067, 1.5727, 1.5655, 1.5631, 1.5681, 1.536, 1.5206, 1.5556, 1.4402, 1.5164, 1.5431, 1.3266, 1.4883, 1.5633, 1.435, 1.3729, 1.1196, 1.5189, 1.3158, 1.113, 1.3657, 1.3612, 1.0428, 1.3811, 1.4174, 0.8413, 1.0604, 1.0346, 1.0458, 1.0089, 0.758, 0.6809, 0.8458, 0.5783, 0.9497, 0.6477, 0.4535, 0.424, 0.8469, 0.3908, 0.334, 0.5429, 0.6064, 0.2167, 0.2755, 0.4055, 0.7724, 0.5549, -0.1696, -0.4176, -0.1069, -0.4063, 0.1157, -0.3976, 0.1339, 0.2103, -0.5408, 0.0281, 1.9953, 1.9938, 1.9922, 1.9909, 1.9908, 1.9885, 1.9868, 1.9859, 1.9858, 1.9847, 1.9838, 1.9834, 1.9827, 1.9821, 1.9813, 1.9813, 1.9807, 1.9805, 1.9786, 1.9785, 1.9783, 1.9781, 1.9775, 1.9764, 1.9753, 1.9738, 1.9722, 1.9701, 1.97, 1.9696, 1.9693, 1.9677, 1.9384, 1.9275, 1.9023, 1.9312, 1.911, 1.9559, 1.874, 1.8395, 1.8427, 1.8905, 1.9086, 1.9487, 1.8556, 1.9078, 1.8367, 1.8825, 1.7521, 1.8553, 1.9162, 1.8024, 1.8043, 1.747, 1.7379, 1.8349, 1.6894, 1.671, 1.6989, 1.681, 1.5898, 1.4651, 1.3057, 1.6078, 1.2465, 1.3348, 1.5861, 0.7641, 1.4621, 1.1785, 1.0195, 0.9719, 0.9853, 0.1499, 0.5939, 1.2638, -0.0387, -0.641, -0.4971, -0.2655, -0.1826, 0.4363, -0.71, -0.0594, -0.6697, -0.6778, 2.2666, 2.2611, 2.2596, 2.253, 2.2519, 2.2515, 2.2513, 2.2508, 2.2506, 2.2504, 2.25, 2.2499, 2.2496, 2.2485, 2.2482, 2.2481, 2.2452, 2.245, 2.2407, 2.2391, 2.2348, 2.2273, 2.2272, 2.223, 2.2223, 2.2209, 2.2179, 2.2141, 2.2139, 2.2106, 2.1949, 2.187, 2.1442, 2.1932, 2.1326, 2.1757, 2.097, 2.1759, 2.0068, 2.1024, 2.1605, 1.9475, 1.9832, 2.0066, 2.0476, 1.9066, 2.116, 1.8422, 2.096, 1.9287, 1.7099, 2.0449, 1.4648, 1.671, 1.3784, 0.6746, 1.5913, 1.2465, 0.5207, 1.4024, 1.5534, 0.3721, 1.1893, 0.6768, 0.4968, 0.0505, 0.4644, 0.6881, 0.5872, 0.1473, 0.6037, 0.322, 0.8163, 0.4082, 0.7885, 0.8303, 0.6447, 0.9127, 0.1128, 0.6782, -0.264, 0.5006, 0.0158, -0.332, -0.8263, -0.2526, 0.5235, 2.4124, 2.4094, 2.4048, 2.4018, 2.3898, 2.3894, 2.3884, 2.3878, 2.3877, 2.387, 2.3858, 2.3846, 2.3784, 2.3749, 2.3735, 2.3733, 2.3683, 2.3663, 2.3658, 2.3635, 2.3559, 2.3518, 2.3515, 2.3506, 2.3471, 2.3379, 2.3356, 2.3301, 2.3301, 2.3288, 2.3177, 2.3003, 2.2951, 2.2304, 2.2707, 2.2796, 2.2508, 2.2745, 2.2213, 2.2874, 2.1927, 2.1422, 1.8825, 2.2419, 2.1788, 1.5765, 2.0891, 1.2564, 0.8144, 1.1941, 0.8107, 1.7439, 0.7054, 1.5241, 1.5221, 0.4413, 1.4077, 1.374, 0.8905, 0.5624, 1.0336, 0.3342, 0.5465, 0.5495, 1.1755, 0.9329, 0.2756, 0.5562, 0.0346, 0.5065, 0.8761, 0.0886, 0.0211, 0.3223, 0.9437, 0.1108, 0.101, 0.3564, 0.2866, -0.1648, 0.3473, -0.6853, 0.1477, -0.1122, 2.8734, 2.8712, 2.8676, 2.8647, 2.8627, 2.8584, 2.8552, 2.8528, 2.8489, 2.8486, 2.8463, 2.8456, 2.8449, 2.8376, 2.8345, 2.8319, 2.8288, 2.8262, 2.8237, 2.8231, 2.815, 2.8117, 2.8084, 2.8053, 2.8011, 2.7996, 2.795, 2.7939, 2.7918, 2.788, 2.7692, 2.7029, 2.6974, 2.6601, 2.6982, 2.6676, 2.5932, 2.6638, 2.6967, 2.6473, 2.4371, 2.5697, 2.4554, 2.6717, 2.5698, 2.5828, 2.568, 2.3895, 1.9274, 2.2299, 2.3379, 2.212, 2.2812, 2.4431, 1.2044, 1.6766, 1.1452, 1.0437, 1.6897, 0.2856, 1.1871, 1.0349, 1.1428, 0.7837, 0.2316, 1.7046, 1.4415, 1.8425, -0.2076, -0.2473, 0.2087, 1.0456, -0.3373, 0.4257, 0.0373, -0.3355, 0.6721, -0.6584, -0.75, -0.5326, 3.0425, 3.0403, 3.0372, 3.0298, 3.0228, 3.0164, 3.0145, 3.0093, 3.0081, 3.0066, 3.0023, 2.9926, 2.9924, 2.9882, 2.9682, 2.968, 2.9568, 2.9483, 2.9402, 2.9359, 2.9343, 2.9296, 2.927, 2.9269, 2.924, 2.9195, 2.9065, 2.9051, 2.9043, 2.9033, 2.8909, 2.8972, 2.8852, 2.8545, 2.8133, 2.874, 2.8345, 2.6699, 2.2319, 2.6053, 2.3669, 1.6826, 1.8206, 1.5507, 1.6675, 0.7706, 0.5419, 1.0119, 1.2947, 1.0026, 0.3674, 1.8234, 1.0051, 1.1497, 1.5799, 1.2567, 1.5359, 0.425, 0.0616, 0.7213, 0.8006, 0.5103, 0.8377, 0.0666, 0.0041, 0.0674, 0.2463, -0.1417, -0.2647, 0.2854, 0.1338, -0.1318, -0.3747, -0.0883, 0.1119, 3.3209, 3.3095, 3.3093, 3.3082, 3.3053, 3.3043, 3.2961, 3.288, 3.2879, 3.2874, 3.2785, 3.2785, 3.2689, 3.2688, 3.2614, 3.2603, 3.2587, 3.2578, 3.2541, 3.2509, 3.2379, 3.2281, 3.2253, 3.2253, 3.2201, 3.2155, 3.2154, 3.2104, 3.2101, 3.2076, 3.1744, 3.1608, 3.1635, 3.1125, 3.1432, 3.0868, 3.0717, 3.097, 3.0725, 3.131, 3.1038, 3.0302, 3.067, 3.0692, 2.9521, 3.0228, 2.8817, 2.8739, 2.8327, 2.9486, 2.6452, 2.7576, 2.1658, 2.8857, 2.3096, 2.3552, 2.7105, 2.4092, 1.6092, 1.5868, 2.8614, 2.6904, 1.8191, 2.843, 1.44, 1.7766, 2.6505, 1.0352, 1.6363, 1.6234, 2.066, 1.5832, 2.2411, 0.8911, 1.6877, -0.2728, 0.7628, 0.965, 0.5968, 1.1772, 1.4706, 0.6649, -0.0106, -0.5839, -1.0616, 3.4766, 3.4459, 3.4272, 3.4206, 3.4167, 3.4033, 3.4023, 3.4016, 3.4001, 3.3994, 3.3975, 3.3917, 3.3849, 3.3779, 3.3753, 3.3542, 3.3494, 3.3467, 3.3447, 3.3436, 3.339, 3.3304, 3.3218, 3.3136, 3.2992, 3.2854, 3.2835, 3.2745, 3.2725, 3.2617, 3.2608, 3.2242, 3.1968, 3.0958, 3.2283, 2.9107, 3.1024, 3.0573, 2.9877, 3.0978, 3.1816, 2.9934, 2.8016, 2.0405, 2.589, 2.477, 2.6728, 2.4061, 2.7023, 2.8222, 2.3875, 2.1714, 2.4918, 2.1463, 2.2758, 1.7035, 0.8955, 2.313, 1.3702, 2.1256, 1.3835, 1.2476, 2.2898, 1.3354, 0.6496, 0.6247, 0.1347, 0.4826, 0.8481, 0.2778, -0.0745, 0.9411, 1.0032, 0.6649, 0.5685, 0.615, -0.1562, 0.861, 0.1997, 0.8539, 1.1723, -0.2594, -0.1911, -0.5358, -0.3184, -0.959, 5.5233, 5.2261, 4.9062, 4.3215, 4.1826, 4.1651, 4.1409, 3.9777, 3.9262, 3.9127, 3.8944, 3.873, 3.7899, 3.7609, 3.7431, 3.713, 3.7116, 3.6346, 3.5856, 3.5838, 3.5367, 3.5306, 3.5254, 3.5174, 3.514, 3.5076, 3.5067, 3.5038, 3.4943, 3.4915, 3.4392, 3.3915, 3.3725, 3.2161, 3.1024, 2.8185, 3.1717, 2.6425, 3.2759, 2.5979, 2.1244, 1.7376, 0.5998, 0.5265, 0.5732, 0.8308, -1.3851, -0.2237, 0.8209, -0.2224, -0.4958, -1.2909, -1.8617, -1.7756, -1.623, -0.7617, -1.3509, -1.7134, -0.8606, -1.6128, -0.8757, -1.9956, -1.7262, -1.4629, -1.7697, -1.0682, -1.1923, -2.1286, -2.34, -1.7719, -1.8106]}, \"token.table\": {\"Topic\": [1, 3, 4, 6, 7, 2, 7, 9, 1, 2, 3, 4, 5, 6, 7, 8, 9, 1, 2, 3, 4, 5, 6, 7, 9, 1, 2, 3, 5, 7, 8, 9, 1, 2, 3, 4, 5, 6, 7, 8, 9, 3, 9, 1, 2, 3, 4, 5, 6, 7, 8, 9, 9, 7, 1, 2, 3, 4, 5, 6, 7, 8, 9, 1, 2, 3, 4, 5, 7, 8, 9, 3, 8, 3, 6, 1, 2, 3, 4, 5, 6, 7, 8, 9, 1, 2, 3, 4, 5, 6, 7, 8, 9, 4, 4, 9, 1, 2, 3, 4, 5, 9, 1, 2, 3, 4, 5, 6, 7, 8, 9, 1, 1, 2, 3, 4, 5, 6, 7, 8, 9, 1, 2, 3, 5, 6, 8, 9, 3, 2, 1, 2, 3, 4, 5, 6, 7, 8, 9, 1, 7, 8, 7, 1, 2, 3, 4, 5, 6, 7, 8, 9, 1, 2, 3, 4, 5, 6, 7, 8, 9, 3, 1, 2, 3, 4, 5, 6, 7, 8, 9, 1, 2, 3, 4, 5, 6, 7, 8, 9, 1, 2, 1, 2, 3, 4, 5, 6, 7, 8, 9, 1, 2, 3, 4, 6, 7, 8, 5, 1, 2, 3, 4, 5, 6, 7, 8, 9, 1, 2, 3, 4, 5, 6, 7, 8, 9, 1, 2, 3, 4, 5, 6, 7, 8, 9, 7, 7, 1, 7, 8, 1, 2, 3, 4, 5, 6, 7, 8, 9, 1, 2, 4, 9, 1, 5, 8, 1, 2, 4, 5, 6, 1, 2, 3, 4, 5, 6, 7, 8, 9, 1, 2, 4, 5, 9, 1, 2, 4, 5, 6, 1, 2, 3, 4, 5, 6, 7, 8, 9, 5, 6, 7, 9, 1, 1, 2, 3, 4, 5, 6, 7, 8, 9, 1, 2, 3, 4, 9, 1, 2, 3, 4, 5, 6, 7, 8, 9, 3, 1, 8, 1, 3, 1, 2, 3, 4, 5, 6, 7, 8, 9, 2, 3, 9, 2, 3, 9, 1, 2, 3, 5, 1, 2, 3, 4, 5, 6, 7, 8, 9, 1, 2, 3, 4, 5, 6, 8, 9, 1, 3, 5, 1, 2, 3, 4, 2, 3, 4, 9, 1, 2, 3, 4, 5, 6, 9, 1, 2, 3, 4, 5, 6, 7, 8, 9, 3, 1, 2, 3, 4, 5, 7, 1, 4, 6, 2, 3, 4, 9, 3, 1, 3, 5, 1, 2, 4, 5, 9, 1, 2, 3, 4, 5, 8, 1, 2, 3, 5, 8, 1, 3, 5, 8, 5, 2, 9, 2, 1, 2, 3, 4, 5, 6, 7, 8, 9, 1, 2, 3, 6, 1, 5, 1, 2, 3, 4, 5, 6, 7, 8, 9, 1, 8, 2, 4, 8, 1, 2, 4, 5, 2, 8, 1, 2, 3, 4, 5, 6, 8, 9, 1, 2, 3, 4, 5, 6, 7, 8, 9, 3, 6, 2, 3, 4, 5, 6, 8, 9, 4, 4, 6, 1, 2, 3, 4, 5, 6, 7, 8, 9, 1, 2, 4, 8, 1, 2, 3, 4, 5, 6, 7, 8, 9, 1, 1, 1, 2, 3, 4, 6, 7, 8, 9, 8, 1, 2, 3, 4, 5, 6, 7, 8, 9, 1, 2, 3, 4, 5, 6, 7, 8, 9, 1, 4, 8, 1, 2, 4, 5, 6, 1, 2, 3, 4, 5, 6, 7, 8, 9, 1, 2, 3, 4, 5, 6, 7, 8, 9, 1, 2, 3, 4, 5, 6, 7, 9, 1, 2, 3, 4, 5, 6, 7, 8, 9, 1, 2, 3, 1, 2, 3, 4, 5, 6, 7, 8, 9, 1, 2, 3, 4, 5, 6, 7, 8, 9, 6, 1, 2, 3, 4, 5, 6, 7, 8, 9, 4, 1, 2, 3, 4, 5, 6, 7, 8, 9, 2, 9, 5, 1, 2, 3, 4, 5, 6, 7, 8, 9, 1, 2, 5, 9, 1, 2, 3, 4, 5, 7, 8, 9, 1, 2, 3, 4, 5, 6, 7, 8, 9, 1, 2, 3, 4, 5, 6, 7, 8, 9, 1, 2, 5, 1, 2, 3, 4, 5, 6, 7, 8, 9, 2, 3, 4, 5, 9, 2, 3, 4, 1, 2, 3, 4, 6, 7, 8, 9, 1, 1, 3, 6, 9, 1, 2, 3, 4, 5, 6, 7, 8, 9, 2, 4, 5, 6, 7, 9, 1, 2, 3, 4, 5, 6, 7, 8, 9, 1, 2, 3, 5, 7, 1, 2, 3, 4, 5, 6, 7, 8, 9, 1, 2, 3, 4, 5, 6, 7, 8, 9, 1, 2, 3, 4, 5, 6, 7, 8, 9, 1, 2, 3, 4, 5, 6, 7, 8, 9, 1, 2, 3, 4, 7, 1, 2, 3, 1, 2, 3, 4, 5, 6, 7, 8, 9, 1, 2, 3, 4, 5, 6, 7, 8, 9, 1, 4, 5, 6, 7, 1, 2, 3, 4, 5, 6, 7, 8, 9, 4, 6, 7, 1, 1, 2, 3, 4, 5, 6, 7, 8, 9, 2, 1, 2, 3, 4, 5, 6, 7, 8, 9, 1, 2, 3, 4, 9, 4, 8, 1, 2, 3, 4, 7, 8, 1, 2, 4, 9, 1, 2, 3, 4, 5, 6, 7, 8, 9, 5, 3, 6, 1, 2, 3, 4, 5, 6, 7, 8, 9, 1, 2, 3, 4, 5, 6, 7, 8, 9, 1, 2, 3, 4, 5, 6, 7, 8, 9, 5, 3, 6, 9, 1, 8, 1, 2, 3, 4, 5, 6, 7, 8, 9, 8, 1, 2, 3, 7, 1, 2, 3, 5, 6, 1, 2, 3, 4, 5, 6, 7, 8, 4, 1, 4, 5, 6, 7, 8, 9, 8, 1, 2, 3, 4, 5, 6, 7, 8, 9, 1, 1, 2, 3, 1, 2, 4, 8, 1, 2, 3, 4, 5, 6, 7, 8, 9, 1, 2, 3, 4, 5, 6, 7, 8, 9, 1, 5, 1, 6, 7, 1, 2, 3, 4, 5, 6, 7, 8, 9, 1, 2, 3, 4, 5, 7, 8, 9, 1, 1, 2, 3, 4, 5, 6, 7, 8, 9, 1, 2, 3, 4, 5, 6, 7, 8, 9, 1, 2, 3, 4, 5, 6, 7, 8, 9, 3, 1, 2, 3, 1, 3, 1, 2, 3, 4, 5, 6, 7, 8, 9, 1, 2, 3, 4, 5, 6, 7, 8, 9, 1, 7, 9, 1, 2, 3, 4, 5, 6, 7, 8, 9, 2, 4, 5, 9, 2, 1, 2, 3, 5, 6, 8, 9, 1, 2, 3, 4, 5, 7, 8, 9, 2, 4, 8, 1, 2, 3, 4, 5, 6, 7, 8, 9, 6, 9, 1, 2, 3, 4, 5, 6, 7, 8, 9, 3, 1, 2, 3, 4, 5, 6, 7, 8, 9, 3, 1, 2, 3, 4, 5, 6, 7, 8, 9, 7, 9, 1, 4, 5, 4, 2, 4, 5, 9, 2, 6, 1, 2, 3, 4, 5, 6, 7, 8, 9, 1, 2, 3, 4, 5, 6, 7, 8, 9, 1, 7, 8, 1, 2, 3, 4, 5, 6, 7, 9, 1, 1, 2, 3, 4, 5, 6, 7, 8, 9, 5, 1, 2, 3, 4, 6, 7, 8, 9, 1, 7, 1, 2, 3, 4, 5, 6, 7, 8, 9, 1, 2, 3, 4, 5, 6, 7, 8, 9, 1, 2, 3, 4, 5, 6, 7, 8, 9, 1, 2, 3, 4, 5, 6, 7, 8, 9, 1, 2, 3, 5, 6, 3, 5, 1, 2, 3, 6, 6, 1, 2, 3, 4, 5, 6, 7, 8, 9, 1, 2, 3, 4, 5, 6, 7, 8, 9, 1, 4, 6, 4, 6, 1, 1, 2, 3, 4, 5, 6, 7, 8, 9, 2, 4, 5, 7, 9, 1, 2, 3, 4, 5, 6, 7, 8, 9, 1, 2, 3, 4, 5, 6, 7, 8, 9, 3, 9, 1, 2, 1, 2, 4, 5, 6, 2, 1, 2, 3, 4, 5, 6, 7, 8, 9, 1, 2, 3, 4, 5, 1, 2, 3, 4, 5, 6, 9, 1, 1, 2, 3, 4, 5, 6, 7, 8, 9, 1, 2, 3, 4, 5, 6, 7, 8, 9, 1, 2, 3, 4, 5, 6, 7, 8, 1, 3, 1, 2, 3, 4, 5, 6, 7, 8, 9, 1, 2, 3, 4, 5, 6, 7, 8, 1, 1, 4, 8, 4, 1, 2, 3, 4, 5, 6, 7, 8, 9, 2, 8, 1, 2, 3, 4, 5, 7, 8, 9, 1, 2, 4, 1, 2, 4, 5, 6, 8, 2, 8, 1, 2, 3, 4, 8, 9, 1, 2, 3, 4, 5, 6, 7, 8, 9, 1, 2, 3, 4, 5, 6, 7, 8, 9, 1, 2, 3, 4, 5, 6, 7, 8, 9, 2, 3, 1, 2, 3, 4, 5, 6, 7, 8, 9, 1, 2, 3, 4, 5, 2, 4, 7, 8, 9, 1, 2, 3, 4, 5, 6, 7, 8, 9, 1, 2, 3, 5, 9, 9, 1, 2, 3, 4, 5, 6, 7, 8, 9, 1, 2, 3, 4, 5, 6, 7, 8, 9, 7, 1, 1, 2, 3, 5, 9, 1, 2, 3, 4, 5, 6, 7, 8, 9, 1, 2, 3, 4, 5, 6, 7, 8, 9, 2, 3, 5, 1, 2, 3, 4, 5, 6, 7, 8, 9, 4, 1, 2, 3, 5, 7, 1, 2, 3, 4, 5, 6, 7, 8, 9, 1, 2, 3, 4, 5, 6, 7, 8, 9, 5, 2, 1, 2, 3, 4, 5, 9, 1, 2, 3, 5, 7, 7, 1, 2, 3, 5, 1, 3, 7, 1, 3, 5, 7, 8, 5, 1, 2, 1, 2, 3, 8, 6, 6, 1, 3, 5, 1, 2, 3, 4, 5, 6, 7, 9, 1, 2, 3, 4, 5, 6, 7, 8, 9, 2, 1, 2, 3, 4, 5, 1, 3, 4, 6, 1, 2, 3, 4, 5, 10, 1, 2, 4, 5, 7, 9, 1, 2, 3, 4, 5, 6, 7, 8, 9, 1, 2, 3, 4, 5, 6, 7, 8, 9, 1, 4, 5, 1, 2, 3, 4, 5, 6, 7, 8, 9, 1, 2, 3, 4, 5, 6, 7, 8, 9, 1, 2, 3, 4, 5, 6, 7, 8, 9, 1, 2, 3, 4, 5, 6, 7, 8, 9, 1, 2, 3, 4, 5, 6, 7, 8, 9, 2, 9, 3, 2, 1, 2, 3, 4, 5, 6, 7, 8, 9, 1, 2, 3, 4, 5, 6, 7, 8, 9, 1, 2, 3, 4, 5, 7, 8, 4, 8, 1, 2, 3, 4, 5, 6, 7, 8, 9, 9, 1, 4, 7, 9, 7, 1, 2, 3, 4, 5, 6, 7, 8, 9, 1, 2, 3, 4, 5, 6, 7, 8, 9, 1, 2, 3, 7, 9, 1, 2, 3, 5, 8, 9, 3, 6, 7, 7, 1, 2, 3, 4, 5, 7, 8, 9, 1, 2, 3, 4, 5, 6, 7, 8, 9, 3, 9, 9, 2, 1, 2, 3, 4, 7, 8, 1, 2, 4, 7, 4, 6, 1, 2, 3, 4, 5, 6, 7, 8, 9, 1, 2, 3, 4, 5, 6, 7, 8, 9, 1, 2, 3, 4, 5, 6, 7, 8, 9, 1, 3, 5, 3, 5, 1, 2, 3, 4, 5, 6, 7, 8, 9, 1, 7, 6, 1, 2, 3, 4, 5, 6, 7, 8, 9, 1, 7, 8, 2, 1, 6, 1, 2, 3, 4, 5, 6, 7, 8, 9, 1, 2, 3, 4, 5, 6, 7, 8, 9, 1, 2, 3, 4, 5, 6, 7, 8, 9, 1, 2, 3, 4, 6, 7, 9, 1, 2, 3, 4, 5, 6, 7, 8, 9, 1, 2, 4, 1, 2, 3, 4, 5, 6, 7, 8, 9, 1, 2, 3, 4, 5, 6, 7, 8, 1, 2, 3, 4, 5, 6, 7, 8, 9, 2, 4, 8, 1, 2, 3, 4, 5, 6, 7, 2, 5, 5, 1, 2, 1, 3, 5, 8, 1, 2, 3, 4, 5, 6, 7, 8, 9, 1, 2, 3, 4, 5, 6, 7, 8, 9, 1, 4, 5, 7, 8, 2, 1, 2, 3, 4, 5, 6, 7, 8, 9, 4, 7, 1, 2, 3, 4, 5, 6, 7, 8, 9, 1, 2, 3, 4, 5, 7, 9, 1, 2, 3, 4, 5, 6, 7, 8, 9, 8, 1, 2, 3, 4, 5, 6, 7, 8, 9, 1, 2, 3, 4, 1, 2, 3, 4, 5, 6, 7, 8, 9, 3, 1, 2, 3, 5, 6, 7, 8, 9, 1, 2, 4, 6, 4, 6, 2, 4, 5, 9, 1, 2, 3, 4, 5, 6, 7, 8, 9, 1, 2, 3, 9, 1, 2, 3, 4, 5, 6, 7, 8, 9, 1, 3, 1, 2, 3, 4, 5, 7, 8, 1, 2, 3, 6, 2, 1, 2, 3, 4, 5, 6, 7, 8, 9, 1, 2, 3, 4, 5, 6, 7, 8, 9, 4, 1, 2, 3, 4, 5, 6, 8, 9, 1, 8, 1, 2, 3, 6, 1, 2, 3, 4, 5, 7, 9, 6, 6, 1, 4, 8, 7, 1, 2, 3, 4, 7, 8, 9, 1, 2, 3, 5, 7, 9, 1, 2, 3, 4, 5, 6, 7, 8, 9, 1, 2, 3, 4, 5, 6, 7, 8, 9, 1, 2, 3, 4, 6, 8, 9, 4, 1, 1, 2, 3, 4, 5, 6, 7, 8, 9, 1, 2, 3, 4, 5, 6, 7, 8, 9, 1, 2, 3, 4, 5, 6, 7, 8, 9, 1, 2, 3, 4, 5, 6, 7, 8, 9, 1, 2, 3, 4, 5, 6, 7, 8, 9, 6, 1, 2, 3, 4, 5, 6, 7, 8, 9, 2, 3, 6, 6, 3, 1, 2, 3, 4, 5, 6, 7, 8, 9, 1, 3, 4, 5, 6, 7, 8, 9, 1, 2, 3, 4, 5, 6, 7, 8, 9, 1, 2, 1, 2, 3, 4, 5, 6, 7, 8, 9, 1, 2, 3, 4, 5, 6, 7, 8, 9, 1, 2, 3, 5, 6, 8, 9, 1, 2, 3, 4, 5, 6, 7, 8, 9, 1, 2, 3, 4, 5, 6, 7, 8, 9, 4, 1, 2, 3, 4, 5, 6, 7, 8, 9, 1, 2, 3, 4, 5, 6, 7, 8, 9, 1, 2, 3, 4, 5, 6, 7, 8, 9, 1, 2, 3, 4, 5, 6, 7, 8, 9, 1, 2, 3, 4, 5, 6, 7, 8, 9, 1, 2, 3, 4, 5, 6, 7, 8, 9, 1, 2, 3, 4, 5, 6, 7, 8, 9, 1, 2, 3, 4, 8, 6, 1, 2, 3, 4, 5, 6, 7, 8, 9, 3, 6, 9, 1, 2, 3, 4, 5, 6, 7, 8, 9, 6, 1, 2, 3, 4, 6, 7, 8, 9, 3, 1, 2, 3, 4, 5, 6, 7, 8, 9, 6, 1, 2, 3, 4, 5, 6, 7, 8, 9, 3, 4, 1, 2, 3, 4, 5, 6, 7, 8, 9, 1, 1, 5, 9, 1, 7, 8, 6, 1, 2, 3, 4, 5, 6, 7, 8, 9, 3, 9, 1, 2, 3, 4, 5, 6, 7, 8, 9, 9, 1, 2, 3, 4, 5, 6, 7, 8, 9, 1, 2, 3, 4, 5, 6, 7, 8, 9, 1, 2, 3, 4, 5, 6, 7, 8, 9, 1, 2, 3, 4, 5, 6, 7, 8, 9, 8, 1, 2, 3, 4, 5, 6, 7, 8, 9, 1, 5, 1, 4, 8, 1, 2, 3, 4, 5, 6, 7, 8, 9, 1, 2, 3, 4, 5, 6, 7, 8, 9, 1, 2, 3, 4, 5, 6, 7, 8, 9, 1, 2, 3, 4, 5, 6, 7, 8, 9, 1, 2, 3, 4, 5, 6, 7, 8, 9, 1, 2, 3, 4, 5, 6, 7, 8, 9, 1, 2, 3, 4, 5, 6, 7, 8, 9, 1, 1, 2, 3, 4, 5, 6, 7, 8, 9, 1, 2, 3, 4, 5, 6, 7, 8, 9, 1, 2, 4, 6, 7, 8, 5, 1, 2, 3, 4, 5, 6, 7, 8, 9, 9, 7, 1, 7, 3, 4, 5, 8, 8, 9, 1, 5, 1, 2, 3, 4, 5, 6, 7, 8, 9, 10, 1, 2, 3, 4, 5, 6, 7, 8, 9, 4, 1, 2, 3, 4, 5, 6, 7, 8, 9, 1, 2, 3, 9, 1, 2, 3, 4, 5, 6, 7, 8, 9, 1, 3, 4, 7, 8, 1, 7, 1, 2, 3, 4, 5, 6, 7, 8, 9, 1, 2, 4, 5, 8, 2, 9, 3, 4, 7, 9, 1, 2, 3, 4, 5, 6, 7, 8, 9, 1, 9, 1, 2, 3, 4, 5, 6, 7, 8, 1, 2, 3, 4, 5, 6, 7, 8, 9, 1, 2, 3, 1, 2, 9, 1, 2, 4, 5, 6, 1, 2, 3, 4, 5, 6, 7, 8, 9, 9, 1, 2, 3, 4, 5, 6, 7, 8, 9, 2, 1, 2, 3, 4, 6, 1, 2, 3, 4, 5, 6, 7, 8, 9, 1, 2, 3, 4, 5, 6, 7, 8, 1, 2, 3, 4, 5, 6, 7, 8, 9, 2, 2, 1, 2, 3, 4, 5, 6, 7, 8, 9, 2, 9, 1, 2, 3, 4, 5, 6, 7, 8, 9, 1, 2, 3, 4, 5, 6, 7, 8, 9, 1, 2, 6, 1, 2, 4, 5, 6, 1, 2, 3, 4, 5, 6, 7, 8, 9, 1, 2, 3, 4, 5, 6, 7, 8, 9, 1, 2, 3, 4, 5, 6, 7, 8, 9, 1, 2, 3, 1, 2, 3, 4, 5, 6, 7, 8, 9, 8, 8, 1, 1, 8, 2, 1, 2, 3, 4, 5, 6, 7, 9, 9, 1, 7, 1, 2, 3, 4, 5, 6, 7, 8, 9, 2, 3, 4, 5, 6, 7, 9, 1, 2, 3, 4, 5, 6, 7, 8, 9, 1, 2, 3, 4, 5, 6, 7, 8, 9, 1, 2, 3, 4, 5, 6, 7, 8, 9, 1, 2, 3, 6, 9, 1, 2, 6, 1, 2, 4, 5, 6, 1, 2, 3, 4, 5, 6, 7, 8, 9, 9, 1, 2, 3, 4, 5, 6, 7, 8, 9, 8, 2, 5, 1, 2, 3, 4, 5, 6, 7, 8, 9, 1, 2, 3, 4, 5, 6, 7, 8, 9, 1, 3, 1, 2, 3, 4, 5, 6, 7, 8, 9, 5, 1, 2, 3, 4, 5, 6, 7, 8, 9, 1, 2, 3, 4, 5, 6, 7, 8, 9, 1, 2, 3, 4, 5, 8, 1, 1, 2, 3, 4, 5, 6, 7, 8, 9, 1, 2, 3, 4, 5, 6, 7, 8, 9, 1, 2, 3, 4, 5, 6, 7, 8, 9, 1, 2, 3, 4, 5, 6, 7, 8, 9, 1, 2, 3, 4, 5, 6, 7, 8, 9, 7, 1, 2, 3, 4, 5, 6, 7, 8, 9, 2, 4, 9, 1, 1, 2, 1, 2, 3, 4, 5, 6, 7, 8, 9, 4, 1, 2, 3, 4, 5, 6, 7, 8, 9, 8, 1, 2, 3, 4, 5, 6, 7, 8, 9, 4, 1, 4, 8, 1, 2, 3, 4, 5, 6, 7, 8, 9, 1, 3, 7, 9, 1, 2, 4, 9, 1, 2, 3, 4, 5, 6, 7, 9, 10, 8, 8, 1, 2, 3, 4, 5, 6, 7, 8, 9, 3, 9, 1, 2, 3, 4, 5, 6, 7, 8, 9, 4, 8, 6, 9, 1, 2, 3, 4, 5, 6, 7, 8, 9, 1, 2, 3, 4, 5, 7, 8, 9, 1, 2, 3, 4, 5, 6, 7, 8, 9, 4, 1, 2, 3, 4, 5, 6, 7, 8, 9, 1, 2, 4, 5, 6, 1, 2, 9, 1, 2, 3, 4, 5, 6, 9, 1, 2, 4, 5, 6, 9, 1, 2, 3, 4, 5, 6, 7, 8, 9, 1, 2, 3, 4, 5, 6, 7, 8, 9, 1, 2, 3, 4, 5, 6, 7, 8, 9, 1, 1, 2, 3, 4, 5, 6, 7, 8, 9, 1, 2, 3, 4, 5, 6, 7, 8, 9, 1, 2, 3, 5, 6, 4, 8, 6, 2, 1, 2, 3, 4, 5, 6, 7, 8, 9, 1, 1, 4, 8, 1, 3, 1, 4, 1, 2, 3, 4, 5, 6, 7, 8, 9, 1, 2, 3, 4, 5, 6, 7, 8, 9, 1, 2, 2, 9, 1, 2, 3, 4, 5, 6, 7, 8, 9, 1, 2, 3, 4, 5, 6, 7, 8, 9, 4, 4, 1, 2, 3, 4, 5, 6, 7, 8, 4, 5, 7, 1, 2, 3, 4, 5, 6, 7, 8, 9, 1, 2, 3, 4, 5, 6, 7, 8, 9, 1, 2, 6, 1, 2, 3, 4, 6, 8, 2, 3, 9, 4, 1, 5, 1, 2, 3, 4, 5, 6, 7, 8, 9, 1, 2, 4, 1, 2, 3, 4, 5, 6, 7, 8, 9], \"Freq\": [0.09557471955335588, 0.002583100528469078, 0.8679217775656102, 0.028414105813159857, 0.007749301585407233, 0.161622792719291, 0.04040569817982275, 0.7273025672368095, 0.40479422687278227, 0.08607459989671999, 0.048721471639652826, 0.22614883086072188, 0.10312711497059848, 0.07592429330512565, 0.037353128257067165, 0.007714233009611698, 0.010150306591594339, 0.18318270432128667, 0.06340939764967615, 0.05107979255112801, 0.648184953752245, 0.019375093726289934, 0.02465921019709628, 0.0052841164708063455, 0.0052841164708063455, 0.0204206372767392, 0.01633650982139136, 0.9025921676318727, 0.03267301964278272, 0.012252382366043521, 0.00408412745534784, 0.00816825491069568, 0.5020649387425087, 0.05431807000670267, 0.05582690528466663, 0.202561136066662, 0.1384356367531936, 0.02074648507200449, 0.009053011667783778, 0.008675802848292787, 0.007921385209310806, 0.03872907386420177, 0.9294977727408426, 0.025017273525469893, 0.05941602462299099, 0.8114978099824296, 0.07192466138572594, 0.004690738786025605, 0.006254318381367473, 0.0015635795953418683, 0.004690738786025605, 0.014072216358076813, 0.8726446578166311, 0.9252898308540325, 0.3739393909860177, 0.03216682933213055, 0.053611382220217586, 0.18629955321525613, 0.03216682933213055, 0.018763983777076155, 0.021444552888087037, 0.2801194721006369, 0.0026805691110108796, 0.04273837885364733, 0.0256430273121884, 0.008547675770729466, 0.27779946254870763, 0.004273837885364733, 0.008547675770729466, 0.6282541691486158, 0.004273837885364733, 0.9788055485422582, 0.9756806953830002, 0.05434522919319141, 0.923868896284254, 0.11945686096041969, 0.07533315556062503, 0.7188935416356789, 0.010761879365803575, 0.018295194921866077, 0.020447570795026793, 0.017219006985285723, 0.005380939682901788, 0.013990443175544648, 0.14152543552715158, 0.11956459208328322, 0.5791155752605283, 0.006506916575960992, 0.08621664463148315, 0.00406682285997562, 0.03578804116778546, 0.008947010291946365, 0.01789402058389273, 0.9650742409344578, 0.47914893451162555, 0.23957446725581277, 0.039288889439506265, 0.3143111155160501, 0.013096296479835422, 0.013096296479835422, 0.013096296479835422, 0.6024296380724293, 0.04480784957863786, 0.037732925960958195, 0.8867237600825176, 0.002358307872559887, 0.007074923617679662, 0.004716615745119774, 0.002358307872559887, 0.002358307872559887, 0.009433231490239549, 0.9663774150747588, 0.2874745932704504, 0.224483836803837, 0.09300648605808688, 0.05495837812523316, 0.03255227012033041, 0.18347643158731686, 0.018601297211617376, 0.021983351250093264, 0.08286032394265923, 0.002502243587355647, 0.010008974349422588, 0.970870511893991, 0.002502243587355647, 0.007506730762066941, 0.002502243587355647, 0.005004487174711294, 0.9644865703087211, 0.9332426334531929, 0.5084799137904494, 0.11439300769608463, 0.0455176365701698, 0.16979276273214655, 0.09852172652359122, 0.019764236931784255, 0.025753399638385546, 0.009283202195231998, 0.00868428592457187, 0.03068870441829345, 0.8592837237122166, 0.0613774088365869, 0.9605523135558318, 0.5725372546767394, 0.08385107181366426, 0.1260436493504762, 0.01281799823903148, 0.02563599647806296, 0.014420248018910415, 0.14740697974886202, 0.01281799823903148, 0.004806749339636805, 0.4899603974560906, 0.06599980675243997, 0.09471727991953217, 0.016122090199069305, 0.018641166792673886, 0.052144885487614784, 0.21991538662167975, 0.03954950251959189, 0.003022891912325495, 0.9834347795972914, 0.35311911666442053, 0.2241394580893411, 0.07327636129843844, 0.051061355836920896, 0.04675098164289511, 0.1574944417047885, 0.036803964272066364, 0.022878139952906117, 0.034814560797900615, 0.21723273675347546, 0.0740948869546738, 0.030311544663275646, 0.5051924110545941, 0.10777438102498008, 0.020207696442183763, 0.023575645849214392, 0.010103848221091881, 0.011787822924607196, 0.025965331082281884, 0.9607172500444296, 0.3731087638647367, 0.12131469018747933, 0.07049764078691292, 0.10815513057392225, 0.13735290346650203, 0.07449250709817133, 0.08024981442910255, 0.02702409563498329, 0.007754740486560422, 0.048878975865718655, 0.08065031017843578, 0.00977579517314373, 0.01710764155300153, 0.7307406891924939, 0.0024439487932859326, 0.10997769569786697, 0.9400060882883934, 0.10341881533161214, 0.0589246738517325, 0.7323495178715325, 0.006012721821605357, 0.04088650838691643, 0.009620354914568571, 0.009620354914568571, 0.004810177457284286, 0.03487378656531107, 0.5504294110597547, 0.1802434047963661, 0.10830769615566394, 0.013538462019457992, 0.05577038085627471, 0.021216992717061033, 0.04647531738022893, 0.0032330655568854907, 0.02040872632783966, 0.6309914199863681, 0.004053478072717568, 0.04323709944232073, 0.008106956145435136, 0.059451011733191, 0.028374346509022978, 0.21618549721160366, 0.0027023187151450456, 0.005404637430290091, 0.8796682137895239, 0.8365436489526288, 0.14366540378891307, 0.8476258823545871, 0.014366540378891306, 0.46707429769094755, 0.11181522154521861, 0.0924625870470077, 0.1691051633534144, 0.0976847265147789, 0.01628078775246315, 0.013976902693152327, 0.023653219942257785, 0.007833209201656798, 0.12776956722680013, 0.6388478361340006, 0.12776956722680013, 0.12776956722680013, 0.033823176176740834, 0.9470489329487433, 0.979713773664895, 0.03820008994482854, 0.8786020687310565, 0.012733363314942847, 0.05093345325977139, 0.012733363314942847, 0.30653467771918086, 0.1991697398378434, 0.058609845316865375, 0.1317424841635735, 0.04979243495946085, 0.038900339812078785, 0.06950194046424743, 0.0866180899815621, 0.059128516514359755, 0.017674012859109245, 0.07069605143643698, 0.22976216716842018, 0.017674012859109245, 0.6539384757870421, 0.06054054479722208, 0.06054054479722208, 0.04324324628373006, 0.008648649256746011, 0.8302703286476171, 0.6870694382831828, 0.05050700560256604, 0.09927239032228498, 0.01915782971131815, 0.08185618149381392, 0.005224862648541315, 0.04005728030548341, 0.011320535738506181, 0.005224862648541315, 0.9144906285689699, 0.029083670348873165, 0.9306774511639413, 0.9247463934918727, 0.9686290586727581, 0.13507198790526692, 0.07962138234415735, 0.09028496033667842, 0.02203806118454355, 0.19905345586039339, 0.007109051995014049, 0.4350739820948598, 0.014929009189529503, 0.01777262998753512, 0.13722038524802443, 0.13722038524802443, 0.13722038524802443, 0.13722038524802443, 0.27444077049604887, 0.05931562674699896, 0.00878750025881466, 0.8968742451652714, 0.001647656298527749, 0.021968750647036652, 0.0010984375323518326, 0.003844531363231414, 0.001647656298527749, 0.004942968895583247, 0.9799585315008434, 0.03231432270514608, 0.9532725198018094, 0.013909668696148344, 0.9736768087303841, 0.2142595860355192, 0.5182837866694604, 0.023509780013872432, 0.06892640049521691, 0.059308763216814546, 0.016563708646137393, 0.01816664819253779, 0.013357829553336609, 0.06732346094881651, 0.01742229458866354, 0.05226688376599062, 0.905959318610504, 0.8837659874200774, 0.06480950574413902, 0.04713418599573747, 0.19193013723333566, 0.01066278540185198, 0.01066278540185198, 0.7783833343351946, 0.5872822963595301, 0.04471692611874595, 0.050679182934578744, 0.13415077835623784, 0.020867898855414777, 0.09539610905332468, 0.00894338522374919, 0.02683015567124757, 0.03279241248708036, 0.019114189859744342, 0.07964245774893475, 0.06052826788919041, 0.391840892124759, 0.006371396619914781, 0.012742793239829561, 0.022299888169701732, 0.40458368536458855, 0.012462244311878956, 0.037386732935636866, 0.9408994455468611, 0.06304763697769461, 0.031523818488847305, 0.010507939496282436, 0.893174857184007, 0.759725031244722, 0.004041090591727245, 0.004041090591727245, 0.2263010731367257, 0.034913022903243586, 0.8640973168552788, 0.008728255725810896, 0.008728255725810896, 0.02618476717743269, 0.008728255725810896, 0.04364127862905448, 0.029522827693668163, 0.014761413846834081, 0.014761413846834081, 0.014761413846834081, 0.029522827693668163, 0.014761413846834081, 0.7823549338822062, 0.014761413846834081, 0.10332989692783856, 0.9709248030192139, 0.06203783394686112, 0.03947862160254798, 0.005639803086078284, 0.005639803086078284, 0.8798092814282122, 0.005639803086078284, 0.008190799383883608, 0.15152978860184674, 0.8313661374641861, 0.08833928217127976, 0.029446427390426584, 0.029446427390426584, 0.7950535395415178, 0.9685245255591697, 0.025242179050521854, 0.008414059683507285, 0.9507887442363232, 0.10366170588257193, 0.4146468235302877, 0.05183085294128596, 0.05183085294128596, 0.3109851176477158, 0.10305020401785175, 0.016488032642856282, 0.024732048964284423, 0.008244016321428141, 0.8408896647856703, 0.0041220081607140704, 0.10444441107143328, 0.005802467281746293, 0.029012336408731465, 0.8529626904167051, 0.005802467281746293, 0.06192096145354966, 0.020640320484516552, 0.9081741013187283, 0.9197531253826847, 0.9314429211318883, 0.08556772233633386, 0.7701095010270048, 0.3811534458804231, 0.33514423923889286, 0.15335648993450623, 0.11630969742223787, 0.04652387896889515, 0.019815726227492378, 0.09563241788050669, 0.03876989914074596, 0.1921263890752522, 0.002584659942716397, 0.019414547954249642, 0.038829095908499284, 0.019414547954249642, 0.9124837538497331, 0.01465822727262736, 0.9674429999934057, 0.060389071693614085, 0.045895694487146706, 0.8446418160880157, 0.0032207504903260845, 0.012883001961304338, 0.008051876225815211, 0.008051876225815211, 0.004025938112907606, 0.012077814338722818, 0.9741050230890492, 0.009189670029141974, 0.926086366760446, 0.06859899013040341, 0.004899927866457386, 0.1848280879764513, 0.5852889452587624, 0.1232187253176342, 0.0616093626588171, 0.22305728133038444, 0.7647678217041752, 0.019175272837956357, 0.13422690986569452, 0.019175272837956357, 0.038350545675912714, 0.019175272837956357, 0.019175272837956357, 0.019175272837956357, 0.747835640680298, 0.020106776729535366, 0.13213024707980384, 0.18957818059276202, 0.0919166936207331, 0.008617190026943727, 0.06893752021554982, 0.008617190026943727, 0.1867057839171141, 0.29585685759173463, 0.03046137461384876, 0.9443026130293115, 0.038603754004586585, 0.0024127346252866616, 0.8782354036043448, 0.019301877002293293, 0.03257191744136993, 0.0036191019379299924, 0.025333713565509945, 0.9937371757517798, 0.9882735050802037, 0.00584777221940949, 0.465613241060553, 0.15338490121689966, 0.08296976862978202, 0.05403952035755539, 0.03220537071813907, 0.15938929236773913, 0.03002195575419744, 0.01855902719350387, 0.003820976186897856, 0.09041206237432495, 0.009041206237432495, 0.05424723742459497, 0.8408321800812221, 0.2644847801350651, 0.08865411624639054, 0.03841678370676923, 0.4447481498360592, 0.08865411624639054, 0.010342980228745562, 0.040633136612929, 0.009604195926692307, 0.014036901739011835, 0.9506406942068687, 0.97104764412637, 0.21117387224583237, 0.0387870377594386, 0.021548354310799222, 0.017238683448639377, 0.034477366897278754, 0.008619341724319688, 0.6335216167374971, 0.03016769603511891, 0.9155102940523431, 0.7813563852099824, 0.037565210827403, 0.08865389755267108, 0.00450782529928836, 0.00601043373238448, 0.0300521686619224, 0.03305738552811464, 0.01652869276405732, 0.00450782529928836, 0.1074663888261208, 0.04133322647158493, 0.012399967941475479, 0.7067981726641023, 0.024799935882950958, 0.020666613235792466, 0.049599871765901915, 0.008266645294316985, 0.02893325853010945, 0.006526058342215919, 0.9789087513323879, 0.006526058342215919, 0.05336502013233462, 0.04105001548641125, 0.08620503252146362, 0.012315004645923373, 0.8004753019850193, 0.33266115422791254, 0.15353591733595964, 0.27075151014083204, 0.02971662916179864, 0.0742915729044966, 0.012794659777996636, 0.10772278071152007, 0.009080081132771806, 0.009492812093352343, 0.18920281306945463, 0.4759633266278468, 0.06562972578346707, 0.05794336150252048, 0.08514126588125458, 0.02601538679705001, 0.018920281306945463, 0.029562939542102287, 0.05143951480325798, 0.20659509025243808, 0.1291219314077738, 0.02582438628155476, 0.04854984620932295, 0.580532203609351, 0.0010329754512621904, 0.007230828158835333, 0.0010329754512621904, 0.6705492249286992, 0.028034261381199854, 0.05455315728233485, 0.07349522578314556, 0.033338040561426856, 0.005303779180227, 0.04394559892188085, 0.08713351510372927, 0.0037884137001621423, 0.010746496249345585, 0.0035821654164485284, 0.9815133241068967, 0.15274055886296117, 0.531940210206771, 0.18031871532432917, 0.051443868783705674, 0.02757815646136799, 0.01856222069515153, 0.008485586603497842, 0.009015935766216458, 0.02068361734602599, 0.011629165868293328, 0.08140416107805329, 0.011629165868293328, 0.040702080539026644, 0.011629165868293328, 0.011629165868293328, 0.12210624161707993, 0.6803062032951597, 0.029072914670733318, 0.9666893747230663, 0.02304340793997431, 0.24815977781510795, 0.01949826825690134, 0.3757848064057349, 0.01949826825690134, 0.007090279366145941, 0.02304340793997431, 0.01772569841536485, 0.2658854762304728, 0.9274823664767371, 0.7884512053065058, 0.012397031529976506, 0.03719109458992952, 0.012397031529976506, 0.049588126119906026, 0.007438218917985904, 0.08677922070983556, 0.007438218917985904, 0.0024794063059953016, 0.9445741675506018, 0.9177201407593774, 0.966672374006459, 0.3209195156863647, 0.09730504265709017, 0.0327468893557515, 0.17964007875155108, 0.017776882793122242, 0.30314263289324245, 0.0392962672269018, 0.0065493778711503, 0.001871250820328657, 0.007444336716033628, 0.10422071402447079, 0.8784317324919682, 0.007444336716033628, 0.23028903489570599, 0.02616920851087568, 0.015701525106525407, 0.02616920851087568, 0.005233841702175136, 0.04710457531957622, 0.6385286876653666, 0.005233841702175136, 0.2603240867600094, 0.21603013766950036, 0.11656302392239228, 0.0341918203505684, 0.0637211197442411, 0.018650083827582764, 0.24711361071547164, 0.01243338921838851, 0.03030638621982199, 0.02321262759295466, 0.015177487272316508, 0.930290690456106, 0.0017855867379195892, 0.007142346951678357, 0.0035711734758391784, 0.0008927933689597946, 0.015177487272316508, 0.002678380106879384, 0.2177554237117354, 0.4355108474234708, 0.2177554237117354, 0.7129621189297756, 0.03288294888145715, 0.11309741509228445, 0.022918418917379228, 0.008469850469466236, 0.07124638924315717, 0.02540955140839871, 0.009964529964077925, 0.0029893589892233774, 0.7206317712279814, 0.002355005788326736, 0.009420023153306945, 0.009420023153306945, 0.2543406251392875, 0.9390272501224909, 0.009884497369710431, 0.039537989478841726, 0.07288440227957789, 0.014576880455915578, 0.014576880455915578, 0.7944399848473991, 0.014576880455915578, 0.014576880455915578, 0.05830752182366231, 0.007288440227957789, 0.976177676259894, 0.004919139807568191, 0.9739896818985018, 0.004919139807568191, 0.004919139807568191, 0.15134720987443376, 0.5242667350050385, 0.09686221431963761, 0.05811732859178256, 0.08657060404817611, 0.011502387950456966, 0.025426331258904873, 0.00726466607397282, 0.03874488572785505, 0.15904728707768728, 0.0530157623592291, 0.02650788117961455, 0.02650788117961455, 0.0530157623592291, 0.6626970294903637, 0.20109357966674243, 0.03634221319278477, 0.12114071064261592, 0.07510724059842187, 0.5063681704861346, 0.0024228142128523184, 0.03149658476708014, 0.0024228142128523184, 0.024228142128523183, 0.9085360275772685, 0.026721647869919662, 0.04008247180487949, 0.020041235902439745, 0.0066804119674799154, 0.3885802094990672, 0.24508619520795694, 0.06482925163565313, 0.04980783967129447, 0.0664104528950593, 0.03873943085545126, 0.024903919835647235, 0.09329087430496426, 0.02885692298416267, 0.28917273051995684, 0.33341773846836553, 0.018172056835953573, 0.055306259935510874, 0.058466617646111496, 0.026072951112455126, 0.021332414546554195, 0.03081348767835606, 0.16670886923418277, 0.3023404425229822, 0.07379156563272786, 0.09582654703694521, 0.21368807547810775, 0.11581176272914233, 0.11939885272517772, 0.034846017104343714, 0.025109629972247673, 0.01998521569219713, 0.27713484468038996, 0.22868967902931925, 0.054738287659665714, 0.07385512998766176, 0.07492377334761186, 0.027072298452068943, 0.049870023464337526, 0.17359517691633683, 0.04013349507368116, 0.9338833482751585, 0.0111176589080376, 0.0222353178160752, 0.0111176589080376, 0.0111176589080376, 0.2614685797239134, 0.2614685797239134, 0.2614685797239134, 0.1155570902329238, 0.6868505700361426, 0.014282336995080469, 0.03505664535156115, 0.015580731267360513, 0.01947591408420064, 0.011685548450520384, 0.027266279717880898, 0.07530686779224248, 0.3259029234781426, 0.27215602839885134, 0.0935224487321354, 0.07983623672255462, 0.15511040277524896, 0.014684164968612723, 0.02523395339266458, 0.012830823758981992, 0.02067188272280432, 0.01689364199477445, 0.0337872839895489, 0.01689364199477445, 0.9122566677178204, 0.01689364199477445, 0.40695622143457316, 0.18461699903684015, 0.05147974011604197, 0.09940915332752932, 0.018639216248911745, 0.17529739091238428, 0.03772222336089282, 0.011094771576733182, 0.014645098481287802, 0.02259034474832081, 0.9262041346811531, 0.02259034474832081, 0.9657479897452649, 0.11639427787437992, 0.015519237049917322, 0.023278855574875985, 0.06983656672462794, 0.007759618524958661, 0.007759618524958661, 0.015519237049917322, 0.7371637598710727, 0.007759618524958661, 0.9558245470349048, 0.2671638035967854, 0.3989370529530335, 0.14469219537156655, 0.0356562910022789, 0.06252769871414127, 0.016536250899607606, 0.04909199485821008, 0.013952461696543917, 0.011885430334092967, 0.008417647912562887, 0.0673411833005031, 0.02525294373768866, 0.8501824391688516, 0.03367059165025155, 0.9705727431609271, 0.956286358328215, 0.021901408459751495, 0.04380281691950299, 0.010950704229875747, 0.09855633806888173, 0.010950704229875747, 0.7884507045510538, 0.10923515223542495, 0.10923515223542495, 0.10923515223542495, 0.6554109134125496, 0.13500472121963827, 0.504895705374257, 0.064758362211046, 0.010427193915337916, 0.19756788471166578, 0.004390397438037017, 0.003292798078527763, 0.006036796477300898, 0.07353915708712004, 0.9717357964830419, 0.018583526309374696, 0.9663433680874842, 0.4306901817834378, 0.25721604952380167, 0.11149288838674291, 0.046333119187034616, 0.04107632730037897, 0.03997606853340453, 0.0409540763262707, 0.008802070135795493, 0.023472187028787984, 0.476402930458228, 0.24263827948250846, 0.07098902805431105, 0.049082257678176, 0.07029577582721816, 0.018024557904414915, 0.042704337188921485, 0.0047141151442315924, 0.025095730620762303, 0.2542141430885588, 0.2779664746397625, 0.10720646943381139, 0.11170015378133642, 0.0629115808653504, 0.04686270819561816, 0.0564920317974575, 0.03081383552588591, 0.051998347449932474, 0.9735223511284895, 0.24788324802315143, 0.24788324802315143, 0.24788324802315143, 0.028921020447336833, 0.9254726543147787, 0.498510876752461, 0.1562408446331417, 0.09469142098978285, 0.05365847189421028, 0.10731694378842056, 0.01893828419795657, 0.039454758745742856, 0.023475581453716997, 0.007693677955419856, 0.9420319870149059, 0.08893877126874955, 0.029646257089583183, 0.029646257089583183, 0.8300951985083291, 0.15744236948042353, 0.018522631703579238, 0.018522631703579238, 0.7872118474021176, 0.009261315851789619, 0.227898213580897, 0.01470311055360626, 0.01470311055360626, 0.6910461960194941, 0.004901036851202086, 0.012252592128005215, 0.02450518425601043, 0.00735155527680313, 0.946117449017172, 0.0035639017613280956, 0.0035639017613280956, 0.0035639017613280956, 0.9729451808425701, 0.007127803522656191, 0.0035639017613280956, 0.007127803522656191, 0.8489138588450612, 0.09359553384966382, 0.7721631542597265, 0.02674158109990395, 0.010028092912463982, 0.0534831621998079, 0.0066853952749759875, 0.0033426976374879938, 0.0033426976374879938, 0.02674158109990395, 0.9663901994917028, 0.012592608214971766, 0.012592608214971766, 0.969630832552826, 0.09941499696894775, 0.016569166161491292, 0.016569166161491292, 0.8450274742360558, 0.06096755741508387, 0.6937687567923336, 0.023651207617920465, 0.05308382154244371, 0.026279119575467184, 0.006306988698112124, 0.008934900655658842, 0.004730241523584093, 0.12140953243865839, 0.048007246171100415, 0.777508660814561, 0.009392722076954428, 0.018785444153908856, 0.012523629435939237, 0.0031309073589848094, 0.0020872715726565397, 0.0031309073589848094, 0.12627993014572064, 0.028339288986456036, 0.9068572475665931, 0.16839143598682726, 0.024055919426689606, 0.793845341080757, 0.4785998897404251, 0.062343576349045374, 0.0679454629195393, 0.1731163656301028, 0.12342221056926954, 0.026473431696043905, 0.04960380205163176, 0.009758124993763623, 0.008673888883345443, 0.0298161345347346, 0.17144277357472396, 0.022362100901050952, 0.24598310991156047, 0.00745403363368365, 0.0149080672673673, 0.00745403363368365, 0.4994202534568046, 0.9750208879647098, 0.3279282085788766, 0.3520688519465724, 0.07690824435726097, 0.020508865161936257, 0.14655293230300284, 0.009613530544657621, 0.052126698953254655, 0.008118092459933102, 0.006195386351001577, 0.04940147272821047, 0.03842336767749703, 0.8398250363795781, 0.008233578788035078, 0.034306578283479494, 0.009605841919374258, 0.0027445262626783597, 0.005489052525356719, 0.010978105050713439, 0.3204949667889884, 0.11316912669102698, 0.30419861254548053, 0.010411559655574483, 0.22452754735499753, 0.007695500614989835, 0.012674942189395022, 0.00226338253382054, 0.00452676506764108, 0.9494117213262236, 0.014664348556177303, 0.014664348556177303, 0.967847004707702, 0.011155101342907127, 0.9704938168329201, 0.3001566345810453, 0.10756744551501714, 0.10050493646605137, 0.12821170273507093, 0.06546402618464427, 0.08556501347785454, 0.04835102348907336, 0.14994249980881177, 0.013853383134509782, 0.027289606436463196, 0.09824258317126751, 0.010915842574585277, 0.04366337029834111, 0.0709529767348043, 0.010915842574585277, 0.010915842574585277, 0.6222030267513609, 0.10370050445856015, 0.05393354124798138, 0.8629366599677021, 0.05393354124798138, 0.056176780740126664, 0.05948129725425177, 0.761140303753481, 0.02533462660829242, 0.034146670645959346, 0.034146670645959346, 0.008812044037666928, 0.006609033028250196, 0.015421077065917124, 0.9704782221798324, 0.008703840557666659, 0.004351920278833329, 0.013055760836499987, 0.9268495151716148, 0.0033308517494145414, 0.0033308517494145414, 0.9726087108290461, 0.0033308517494145414, 0.0033308517494145414, 0.0033308517494145414, 0.009992555248243624, 0.04225877856688115, 0.04225877856688115, 0.012073936733394615, 0.09055452550045962, 0.012073936733394615, 0.030184841833486537, 0.766694982570558, 0.006036968366697307, 0.031107025057953153, 0.04666053758692973, 0.9021037266806414, 0.04691795256918359, 0.09830428157352752, 0.002234188217580171, 0.2837419036326817, 0.01787350574064137, 0.5473761133071419, 0.002234188217580171, 0.002234188217580171, 0.002234188217580171, 0.9616145585847452, 0.8225915948218848, 0.3241102354781506, 0.04685931115346755, 0.025382126874794925, 0.1698650029313199, 0.05466919634571215, 0.013667299086428037, 0.027334598172856075, 0.3338725919684563, 0.0039049425961222963, 0.9565055270248751, 0.03797173450761951, 0.054848060955450396, 0.8564735672274177, 0.001406360537319241, 0.03515901343298103, 0.001406360537319241, 0.007031802686596205, 0.001406360537319241, 0.007031802686596205, 0.9746767799589381, 0.2466069658336936, 0.13084320670762295, 0.3709544105061863, 0.08885274498053118, 0.0788771104265812, 0.04361440223587431, 0.016471396589080194, 0.010903600558968577, 0.012991524070260434, 0.9277324472412324, 0.7435759906149835, 0.14910954981817004, 0.8397222016075893, 0.007847871043061581, 0.9558211422404855, 0.5683959761216147, 0.07104949701520184, 0.07104949701520184, 0.28419798806080737, 0.03242097541019313, 0.9402082868956008, 0.4505574845748678, 0.16152736529671333, 0.0796892212384007, 0.08273352856660927, 0.09025475843630101, 0.036352611036843466, 0.046739071333084456, 0.03509907272522817, 0.01719138255929543, 0.45819392077439175, 0.15912266031703262, 0.11702788452679269, 0.045180256738215636, 0.1540536559025011, 0.01719053671015034, 0.031736375464892934, 0.011239966310482914, 0.006170961895951404, 0.05044905740939064, 0.08071849185502503, 0.8475441644777627, 0.05635266241057912, 0.3641248955760497, 0.013004460556287489, 0.14738388630459154, 0.021674100927145813, 0.021674100927145813, 0.004334820185429163, 0.36845971576147885, 0.9717801706014414, 0.42592994656632516, 0.15541880565792654, 0.06578807398588367, 0.017146108768132995, 0.19949828699746158, 0.00412095318032381, 0.10081617601863606, 0.002943537985945578, 0.028257964665077552, 0.9660210983745036, 0.40582119235525044, 0.16232847694210017, 0.12174635770657513, 0.040582119235525044, 0.12174635770657513, 0.040582119235525044, 0.08116423847105009, 0.08116423847105009, 0.08630088471553113, 0.8342418855834676, 0.0856578158721161, 0.09112533603416606, 0.01640256048614989, 0.10023786963758267, 0.009112533603416607, 0.020047573927516535, 0.1713156317442322, 0.49936684146723004, 0.005467520162049964, 0.16479782485974231, 0.5642293241274138, 0.060044050537462174, 0.042862214537511455, 0.07426987174172243, 0.009422297161263294, 0.021800609118217035, 0.004434022193535668, 0.05819654129015564, 0.02677006577300138, 0.039843818824932285, 0.8423232323458342, 0.023657267427303546, 0.01058351437537264, 0.025524946434722248, 0.006848156360535237, 0.007470716029674804, 0.016809111066768308, 0.2834946045271464, 0.07613282665746689, 0.18532332804778123, 0.030052431575315876, 0.3606291789037905, 0.005008738595885979, 0.05509612455474577, 0.0030052431575315875, 0.0020034954383543915, 0.05408100342894394, 0.021632401371577577, 0.010816200685788788, 0.8977446569204695, 0.010816200685788788, 0.989797424367343, 0.888084731260546, 0.01820899001542688, 0.01820899001542688, 0.9468674808021978, 0.00910449500771344, 0.9316713455225213, 0.2643761556922248, 0.11238898248590172, 0.01514048468721992, 0.0378512117180498, 0.04250982239104054, 0.013975832018972234, 0.2882515353913023, 0.1729509212347814, 0.05240937007114588, 0.4946738517128164, 0.04133393370107091, 0.06733431135174456, 0.016666908750431822, 0.28600415415741004, 0.008000116200207274, 0.07800113295202092, 0.003333381750086364, 0.004000058100103637, 0.008841172318481328, 0.9194819211220581, 0.061888206229369296, 0.061528861496130766, 0.9229329224419615, 0.9778793882364528, 0.06819265127790163, 0.14612710988121777, 0.014612710988121776, 0.18509433918287582, 0.009741807325414518, 0.048709036627072586, 0.058450843952487105, 0.024354518313536293, 0.4383813296436533, 0.04059534594233711, 0.04059534594233711, 0.020297672971168555, 0.020297672971168555, 0.8525022647890793, 0.4784107485007449, 0.05874157291718007, 0.05874157291718007, 0.13141156003121726, 0.0423908258165217, 0.02725124516776395, 0.08054256905139123, 0.11506081293055889, 0.00726699871140372, 0.08703608782482558, 0.03263853293430959, 0.14143364271534156, 0.3807828842336119, 0.05439755489051599, 0.10879510978103198, 0.010879510978103198, 0.010879510978103198, 0.17407217564965116, 0.9593806374059245, 0.019579196681753563, 0.26783697575780635, 0.26783697575780635, 0.056811209270514196, 0.060153045109956206, 0.03676019423386213, 0.010025507518326034, 0.8354589598605029, 0.9575598624635367, 0.8874128319304309, 0.009698500895414545, 0.01131491771131697, 0.01131491771131697, 0.001616416815902424, 0.001616416815902424, 0.003232833631804848, 0.07273875671560909, 0.001616416815902424, 0.18210317061293302, 0.45525792653233255, 0.09105158530646651, 0.18210317061293302, 0.09105158530646651, 0.027494868049496114, 0.0714866569286899, 0.003665982406599482, 0.8376769799079816, 0.023828885642896633, 0.009164956016498705, 0.027494868049496114, 0.9855822916105449, 0.056260602915882356, 0.009784452681023018, 0.019568905362046037, 0.7216033852254476, 0.012230565851278774, 0.15165901655585678, 0.017122792191790283, 0.004892226340511509, 0.004892226340511509, 0.10886280772033628, 0.09769739154389154, 0.011165416176444747, 0.09769739154389154, 0.013956770220555933, 0.09490603749978034, 0.030704894485223053, 0.5331486224252366, 0.011165416176444747, 0.11579676242499218, 0.014941517732257055, 0.014941517732257055, 0.30630111351126965, 0.0037353794330642637, 0.0074707588661285275, 0.02988303546451411, 0.5042762234636756, 0.9563253794831448, 0.01951684447924785, 0.23777087300071142, 0.3638561660690355, 0.11028072987034473, 0.06989129058661975, 0.05935491512130019, 0.058125671317012906, 0.05338430235761911, 0.02124835718839445, 0.025989726147788248, 0.07558297878270392, 0.8162961708532024, 0.03023319151308157, 0.015116595756540785, 0.020155461008721048, 0.005038865252180262, 0.02519432626090131, 0.010077730504360524, 0.9949015500678314, 0.08148297541726608, 0.02716099180575536, 0.8800161345064738, 0.9745582245086419, 0.4959815021107387, 0.28987262181644136, 0.07898374540267386, 0.020713316517704094, 0.0364190180531061, 0.032890925679211445, 0.02412759946018279, 0.005235233845134002, 0.015705701535402006, 0.9348972051790807, 0.03338918589925288, 0.08100997905429894, 0.008380342660789545, 0.8799359793829021, 0.0027934475535965147, 0.011173790214386059, 0.005586895107193029, 0.0027934475535965147, 0.011173790214386059, 0.06415611625462105, 0.01069268604243684, 0.9088783136071314, 0.04313892044821836, 0.09706257100849132, 0.037746555392191065, 0.01078473011205459, 0.8088547584040943, 0.9148285343833538, 0.017952515057235503, 0.9694358130907172, 0.20048975059375773, 0.006913439675646818, 0.013826879351293637, 0.006913439675646818, 0.7673918039967969, 0.8495923130003283, 0.016780601219282137, 0.002397228745611734, 0.8558106621833891, 0.08630023484202243, 0.002397228745611734, 0.02397228745611734, 0.004794457491223468, 0.002397228745611734, 0.007191686236835202, 0.23551655306442285, 0.13421911088617647, 0.10066433316463234, 0.025324360544561598, 0.051281830102737236, 0.03418788673515816, 0.050648721089123196, 0.35770659269193256, 0.011395962245052719, 0.42219827835406415, 0.14728635242460125, 0.0713550683207792, 0.11508335246985531, 0.12203242088114259, 0.04491471046319832, 0.037796152578465, 0.017118436818049167, 0.02220312102143011, 0.8892268323341713, 0.9810528905698876, 0.18102765451753008, 0.20678362162368275, 0.05151193421230531, 0.3377711114778305, 0.03826600827199823, 0.04341720169322876, 0.039737777820921236, 0.0654937449270739, 0.03532246917415221, 0.09052603887780968, 0.015087673146301613, 0.015087673146301613, 0.04526301943890484, 0.8298220230465887, 0.34569297625143924, 0.34569297625143924, 0.9504300654000468, 0.9464350570489988, 0.9491679557463673, 0.009937788041212849, 0.854649771544305, 0.004968894020606424, 0.009937788041212849, 0.009937788041212849, 0.004968894020606424, 0.004968894020606424, 0.014906682061819273, 0.08447119835030921, 0.008390131698992912, 0.016780263397985825, 0.9396947502872062, 0.008390131698992912, 0.016780263397985825, 0.9166174762076565, 0.7380246968778867, 0.041415005058090745, 0.11400759819362058, 0.03629629656776492, 0.027454890993565774, 0.003722697083873325, 0.008841405574199147, 0.028385565264534104, 0.0013960114064524968, 0.18001175201621686, 0.2877870284379433, 0.05214932730083536, 0.13751970754886955, 0.1131833548084797, 0.0710776016544719, 0.127476133402042, 0.02588151799374792, 0.005021787073413776, 0.8894295865775887, 0.9668691386299713, 0.028404848303539267, 0.8710820146418708, 0.04734141383923211, 0.04734141383923211, 0.8590315644639163, 0.0798600405822533, 0.7340980653522515, 0.15050546109732352, 0.012286160089577431, 0.006143080044788716, 0.006143080044788716, 0.006143080044788716, 0.003071540022394358, 0.006143080044788716, 0.33436927771006414, 0.055363976265718685, 0.14496620101155286, 0.014569467438347021, 0.42761386931548506, 0.0036423668595867553, 0.0072847337191735105, 0.0014569467438347021, 0.010927100578760266, 0.9427421465027379, 0.05311223360578805, 0.8815572313439914, 0.7210045400567846, 0.01299107279381594, 0.009279337709868527, 0.0705229665950008, 0.0018558675419737055, 0.06124362888513228, 0.0157748741067765, 0.10392858235052752, 0.0018558675419737055, 0.9784101458858281, 0.008333777434981909, 0.8750466306731004, 0.033335109739927635, 0.016667554869963817, 0.058336442044873364, 0.5578986333449243, 0.05538576121404659, 0.06584487491970346, 0.10958298677972308, 0.09959928733341425, 0.029237976949904425, 0.03993479778523531, 0.034467533802732854, 0.008082042408916669, 0.2188401567272456, 0.02241777215254711, 0.6533179313028015, 0.002135025919290201, 0.03736295358757852, 0.020282746233256908, 0.041633005426158914, 0.0010675129596451004, 0.002135025919290201, 0.936427179337527, 0.9933195205759205, 0.0517690540865526, 0.02353138822116027, 0.014118832932696163, 0.08941927524040903, 0.8141860324521454, 0.004706277644232054, 0.1625092660602856, 0.01625092660602856, 0.07312916972712852, 0.7150407706652566, 0.02437638990904284, 0.9678859247248177, 0.09906527849420808, 0.02476631962355202, 0.00825543987451734, 0.8585657469498034, 0.9394331739028269, 0.03914304891261779, 0.016775592391121908, 0.038992589914479084, 0.038992589914479084, 0.8773332730757794, 0.019496294957239542, 0.019496294957239542, 0.9284059708619198, 0.9794492789255066, 0.013795060266556431, 0.85890582078462, 0.004231063156574483, 0.004231063156574483, 0.13116295785380896, 0.9881302749458929, 0.9575032184670509, 0.019470130334341217, 0.009735065167170608, 0.9637714515498902, 0.12203725697908412, 0.029419695878886352, 0.016344275488270193, 0.003268855097654039, 0.8215722478770484, 0.0010896183658846796, 0.0043584734635387186, 0.0021792367317693593, 0.10714925026989004, 0.28875814903241553, 0.05629875861638291, 0.06719529254213444, 0.07809182646788597, 0.08717227140601223, 0.052666580641132395, 0.001816088987625255, 0.2597007252304115, 0.9731810354494447, 0.07190203399520922, 0.838857063277441, 0.05592380421849607, 0.007989114888356581, 0.015978229776713163, 0.02076379261522895, 0.02076379261522895, 0.9343706676853029, 0.987237312869198, 0.28628563429316883, 0.35785704286646103, 0.07157140857329221, 0.1073571128599383, 0.07157140857329221, 0.035785704286646104, 0.02690491356623216, 0.02690491356623216, 0.10761965426492864, 0.05380982713246432, 0.02690491356623216, 0.7533375798545004, 0.44722799239298183, 0.09330160580330876, 0.037182927774012345, 0.059217255343797445, 0.030641486776732396, 0.057495823502407985, 0.049921523400294356, 0.21896613022473937, 0.006197154629002058, 0.8676922488592259, 0.008506786753521822, 0.08932126091197913, 0.004253393376760911, 0.004253393376760911, 0.004253393376760911, 0.012760180130282734, 0.004253393376760911, 0.004253393376760911, 0.9586292116622221, 0.014307898681525703, 0.9320638723136773, 0.394693555259498, 0.14027163413259458, 0.07261734504443444, 0.09194714192676591, 0.11258300616601166, 0.12250911807856026, 0.0357862455794515, 0.01724008911126861, 0.012277033154994312, 0.2554400115652853, 0.4293204628968653, 0.14386200207889682, 0.009628559194256875, 0.13536621455455253, 0.0033983150097377205, 0.011327716699125735, 0.0016991575048688602, 0.009628559194256875, 0.2092948181366341, 0.27630846413155635, 0.11928822029008158, 0.0695684184228812, 0.10258393903035024, 0.15898545340144318, 0.030460748179510125, 0.017293844127721877, 0.01631123934773768, 0.3807588075811739, 0.1409922781210623, 0.12617614042020492, 0.10450953044905861, 0.1531000895755264, 0.00987742513390493, 0.02039210350225534, 0.015134764318080134, 0.04922781236091328, 0.5337054032863265, 0.041320992241442714, 0.21180620498585673, 0.02051601712687016, 0.14043358202336476, 0.006357075729452726, 0.03149642065956123, 0.009246655606476691, 0.005201243778643139, 0.9481094208172032, 0.020611074365591373, 0.9608387463550557, 0.9503479457023615, 0.33280247325969375, 0.062135252293476516, 0.08244287133573469, 0.048192707876403736, 0.05607327645996661, 0.007880568583562876, 0.09608231696113198, 0.3097669650923561, 0.004849580666807923, 0.06058734868611089, 0.054425923395997916, 0.7249943758032931, 0.017457371655320086, 0.018484275870338917, 0.008215233720150629, 0.08112543298648746, 0.02259189273041423, 0.012322850580225943, 0.13670082988081236, 0.01798695130010689, 0.014389561040085512, 0.1151164883206841, 0.007194780520042756, 0.10432431754061995, 0.6043615636835915, 0.02913717934526269, 0.932389739048406, 0.38144665337883427, 0.16781660860139314, 0.06523434933763353, 0.050793157499531456, 0.2270752923508465, 0.032368188602642595, 0.04332357551430624, 0.014939163970450428, 0.016931052499843818, 0.9181811361432233, 0.07661550468652024, 0.03830775234326012, 0.8427705515517228, 0.03830775234326012, 0.8482395371496089, 0.40718237539601604, 0.1589555619029776, 0.08136114068967573, 0.06215087136016896, 0.11827499155813972, 0.023353660753518034, 0.103961457547919, 0.03691385086846399, 0.007910110900385141, 0.00583494426272574, 0.01166988852545148, 0.01166988852545148, 0.8402319738325067, 0.00583494426272574, 0.00583494426272574, 0.01166988852545148, 0.00583494426272574, 0.09919405246633758, 0.06964038766244372, 0.011606731277073953, 0.023213462554147905, 0.8124711893951767, 0.09285385021659162, 0.014049730765992065, 0.030106565927125854, 0.9052040822089173, 0.0020071043951417236, 0.008028417580566894, 0.042149192297976194, 0.974592623202601, 0.9433439695190392, 0.8488500491158609, 0.9770122852424686, 0.13126171910319417, 0.22849262214259727, 0.014584635455910464, 0.014584635455910464, 0.01944618060788062, 0.024307725759850775, 0.004861545151970155, 0.5590776924765678, 0.3160531068583161, 0.15690047347598116, 0.10535103561943869, 0.2046963114886006, 0.08132799661833154, 0.039287678366394005, 0.03503359854328127, 0.03153023868895315, 0.03002879875138395, 0.9686841220302812, 0.9374870226378653, 0.8910852231507509, 0.9246579799735936, 0.06200621441155019, 0.7276611632414272, 0.20243205293182562, 0.003647424377150011, 0.0018237121885750056, 0.0018237121885750056, 0.034626015466424284, 0.9349024175934556, 0.052173178252310985, 0.8869440302892867, 0.9690967363387611, 0.010888727374592821, 0.06210031956002296, 0.4420081568683987, 0.021917759844713985, 0.1278535990941649, 0.021917759844713985, 0.007305919948237995, 0.01461183989647599, 0.0036529599741189976, 0.2995427178777578, 0.11685534025197462, 0.022057032095754246, 0.7719961233513986, 0.00750877688366102, 0.05443863240654239, 0.004223686997059324, 0.006100881217974578, 0.013609658101635598, 0.0032850898866016963, 0.1468417419875751, 0.32347746061031035, 0.061716094458546054, 0.01064070594112863, 0.12768847129354355, 0.008512564752902903, 0.2894272015986987, 0.01064070594112863, 0.023409553070482987, 0.007830800937922619, 0.007830800937922619, 0.9788501172403273, 0.019212305284619608, 0.9606152642309803, 0.4907524726776931, 0.2268208645648866, 0.041267146825286954, 0.06383047890242227, 0.03176679647701946, 0.03443877001246969, 0.023750875870668754, 0.07600280278614001, 0.011281666038567657, 0.05310561182607477, 0.902795401043271, 0.9806431773460275, 0.07868095868602623, 0.39643098414882444, 0.027235716468239846, 0.03328809790562648, 0.06960238652994627, 0.04236667006170643, 0.015130953593466582, 0.006052381437386633, 0.3298547883375715, 0.039690068435566245, 0.8334914371468912, 0.039690068435566245, 0.9856779006565648, 0.960625658403959, 0.015248026323872364, 0.27642068547509663, 0.08040464000910728, 0.24240333777893586, 0.18816588830533684, 0.10347934439041913, 0.024977772783894275, 0.0273566082871223, 0.02854602603873631, 0.028070258938090707, 0.44954003040046964, 0.2814341377763587, 0.08258568789763057, 0.045834358088701906, 0.06861179823644097, 0.005869033657699634, 0.036052635325869185, 0.012855978488294437, 0.017187884283263215, 0.2820273527921634, 0.22723859954273037, 0.09251215712609182, 0.18502431425218363, 0.12619376773025145, 0.006511778050137531, 0.02335258335221735, 0.003143616989721566, 0.05366603289596102, 0.01712934924533011, 0.008564674622665054, 0.008564674622665054, 0.9421142084931561, 0.008564674622665054, 0.008564674622665054, 0.008564674622665054, 0.22180122383943404, 0.09469691719899935, 0.5084172265617387, 0.03493264056674199, 0.061868652570012915, 0.03998314281735529, 0.017676757877146548, 0.013468006001635464, 0.00715487818836884, 0.31425038907059266, 0.31425038907059266, 0.15712519453529633, 0.1058742830967369, 0.09110112731579686, 0.46371294534617324, 0.019697541041253378, 0.019697541041253378, 0.23637049249504052, 0.019697541041253378, 0.015593886657658923, 0.027084118931723394, 0.14923434058939722, 0.023563316935167982, 0.06283551182711462, 0.047126633870335964, 0.015708877956778656, 0.06283551182711462, 0.6283551182711462, 0.007854438978389328, 0.19145886073402688, 0.5605071214244977, 0.030151001690397933, 0.025025331403030284, 0.040402342265133236, 0.00452265025355969, 0.012361910693063154, 0.06452314361745158, 0.07115636398933912, 0.907254304271134, 0.033602011269301256, 0.033602011269301256, 0.03688377799758032, 0.06639080039564459, 0.022130266798548195, 0.007376755599516065, 0.007376755599516065, 0.8335733827453153, 0.022130266798548195, 0.3332015046353702, 0.9905800611347303, 0.9288188796636836, 0.030093975402832738, 0.932913237487815, 0.0651834748391133, 0.016295868709778324, 0.9071366915109934, 0.005431956236592775, 0.08247300197188435, 0.02016006714868284, 0.8137336194559256, 0.007330933508611942, 0.06964386833181345, 0.0018327333771529855, 0.0018327333771529855, 0.003665466754305971, 0.0018327333771529855, 0.17218897977205314, 0.02410645716808744, 0.017218897977205314, 0.7473001722107107, 0.01033133878632319, 0.017218897977205314, 0.01033133878632319, 0.003443779595441063, 0.003443779595441063, 0.032454691164123174, 0.032454691164123174, 0.010818230388041057, 0.032454691164123174, 0.8762766614313257, 0.9400064858938116, 0.658476758212814, 0.02532602916203131, 0.18435859463537496, 0.015270105818283582, 0.0584733320358664, 0.004469299263887878, 0.04655520066549873, 0.0033519744479159085, 0.004096857658563888, 0.9401691567481455, 0.9790423321139268, 0.1367859948111231, 0.05862256920476705, 0.05862256920476705, 0.03256809400264836, 0.006513618800529672, 0.006513618800529672, 0.013027237601059343, 0.6774163552550859, 0.006513618800529672, 0.24015428190248142, 0.0649829233383185, 0.09888705725396293, 0.06215757884534813, 0.025428100436733325, 0.49726063076278504, 0.00847603347891111, 0.4203907369390642, 0.14212162535262304, 0.0814369490405517, 0.0694886708029418, 0.15265497590420019, 0.03741697658619943, 0.07137524105098547, 0.016193061295708158, 0.008803994490870454, 0.9454651914919213, 0.3518405584398945, 0.1772373294387062, 0.06058431006291232, 0.10498771743821451, 0.06923921150047121, 0.08090451343805061, 0.048919008125332925, 0.05080050843784573, 0.05531610918787646, 0.018769224631920003, 0.05630767389576, 0.009384612315960002, 0.9103073946481202, 0.2192190148175663, 0.15961114786717187, 0.3537061857056463, 0.055174223954084105, 0.08916548692579664, 0.06404150994670477, 0.028326052476427107, 0.01601037748667619, 0.015025123487496118, 0.973445031177285, 0.008133333903655681, 0.008133333903655681, 0.9597334006313705, 0.0020333334759139203, 0.0040666669518278405, 0.0020333334759139203, 0.014233334331397443, 0.0020333334759139203, 0.017034744731948204, 0.01135649648796547, 0.005678248243982735, 0.965302201477065, 0.019776607698968583, 0.9690537772494606, 0.07308207595813623, 0.048721383972090825, 0.024360691986045412, 0.8039028355394986, 0.027685003791908407, 0.5537000758381682, 0.04844875663583971, 0.03806688021387406, 0.013842501895954203, 0.003460625473988551, 0.006921250947977102, 0.003460625473988551, 0.30799566718498106, 0.010252291365834965, 0.881697057461807, 0.010252291365834965, 0.07176603956084475, 0.1513051115258053, 0.42894626444877315, 0.06447237510828649, 0.10285766202246863, 0.09764024438364775, 0.02086967055528349, 0.04882012219182388, 0.007080781081256898, 0.07788859189382588, 0.9514597446276855, 0.03398070516527448, 0.9301484523295822, 0.010529982479202818, 0.010529982479202818, 0.02456995911813991, 0.007019988319468545, 0.0035099941597342725, 0.01403997663893709, 0.013775389109969336, 0.006887694554984668, 0.9642772376978536, 0.006887694554984668, 0.9319933898747441, 0.3422765460981391, 0.09161305323072869, 0.08143382509398106, 0.017813649239308355, 0.4046243184357184, 0.00636201758546727, 0.039444509029897074, 0.00636201758546727, 0.011451631653841086, 0.16683493970211824, 0.2679332863150866, 0.03218826282296303, 0.2357450234921236, 0.06120303494507055, 0.02629463723565994, 0.05213591865691195, 0.03762853259585819, 0.11968593500369352, 0.9600175944235368, 0.06613797055174127, 0.011022995091956879, 0.033068985275870634, 0.033068985275870634, 0.011022995091956879, 0.07716096564369815, 0.7605866613450246, 0.011022995091956879, 0.012114356402172245, 0.9812628685759518, 0.10020454350020534, 0.13527613372527722, 0.02004090870004107, 0.7415136219015196, 0.03602662078537735, 0.005146660112196764, 0.04117328089757411, 0.005146660112196764, 0.010293320224393528, 0.8903721994100402, 0.010293320224393528, 0.987370324164972, 0.9491519038361623, 0.9452896441959611, 0.0258983464163277, 0.01294917320816385, 0.9433570754600167, 0.02667096605265767, 0.12802063705275682, 0.021336772842126137, 0.7947947883691986, 0.010668386421063068, 0.010668386421063068, 0.005334193210531534, 0.14823334594952955, 0.013475758722684505, 0.05390303489073802, 0.7546424884703323, 0.020213638084026757, 0.0067378793613422526, 0.44770292309889476, 0.06509751696090871, 0.05837777327462136, 0.23267112513769952, 0.13943468149046254, 0.023939086882398687, 0.02057921503925501, 0.008399679607859189, 0.0037798558235366347, 0.887214713189798, 0.020270283429643893, 0.05613309257439847, 0.009355515429066413, 0.009355515429066413, 0.0015592525715110686, 0.004677757714533206, 0.01091476800057748, 0.0015592525715110686, 0.2525863906144611, 0.12629319530723054, 0.0694612574189768, 0.0694612574189768, 0.012629319530723054, 0.006314659765361527, 0.4546555031060299, 0.9732081746707049, 0.9697319641142265, 0.16558476772059744, 0.0934488293076639, 0.08197265728742448, 0.5688902415747259, 0.009836718874490938, 0.0475441412267062, 0.003278906291496979, 0.027870703477724322, 0.0016394531457484896, 0.07373403382830307, 0.5225620351998297, 0.04357011089854273, 0.056138412119276206, 0.05250756954439764, 0.006703093984391189, 0.008378867480488985, 0.0025136602441466955, 0.23404969828832567, 0.023670692249984315, 0.021179040434196494, 0.9194195200257066, 0.0012458259078939114, 0.00872078135525738, 0.006229129539469557, 0.0012458259078939114, 0.00872078135525738, 0.00872078135525738, 0.13259873800621952, 0.11258383415622412, 0.012509314906247125, 0.10507824521247586, 0.047535396643739077, 0.5804322116498666, 0.007505588943748275, 0.002501862981249425, 0.002501862981249425, 0.0580813293083698, 0.1076212866596264, 0.015374469522803772, 0.4868582015554528, 0.02562411587133962, 0.14691159766234715, 0.01366619513138113, 0.006833097565690565, 0.1400785000966566, 0.976343727986545, 0.23676208863089515, 0.19507862232263895, 0.3267983758567285, 0.11004435105379634, 0.03334677304660495, 0.02000806382796297, 0.011671370566311732, 0.018340725175632722, 0.04835282091757718, 0.013980001149480422, 0.9646200793141492, 0.013980001149480422, 0.9616415650062582, 0.9810430347836593, 0.019475076269888297, 0.009737538134944148, 0.009737538134944148, 0.009737538134944148, 0.009737538134944148, 0.009737538134944148, 0.9055910465498058, 0.009737538134944148, 0.019475076269888297, 0.015045506813344335, 0.015045506813344335, 0.015045506813344335, 0.015045506813344335, 0.015045506813344335, 0.8726393951739714, 0.015045506813344335, 0.045136520440033, 0.11712176741021389, 0.02342435348204278, 0.015616235654695184, 0.015616235654695184, 0.05465682479143315, 0.007808117827347592, 0.671498133151893, 0.07808117827347592, 0.02342435348204278, 0.9504813713168964, 0.042243616502973175, 0.41315983769544856, 0.10320480694288617, 0.06744076493297511, 0.17371106119099652, 0.09877687793213527, 0.017030496195195737, 0.08174638173693953, 0.01873354581471531, 0.025886354216697518, 0.7414399820325746, 0.04466505915858883, 0.07833564221660194, 0.0041229285377158914, 0.02748619025143928, 0.016491714150863566, 0.0797099517291739, 0.004810083294001874, 0.00343577378142991, 0.010583131709432874, 0.052915658547164374, 0.9101493270112272, 0.005291565854716437, 0.005291565854716437, 0.010583131709432874, 0.010583131709432874, 0.25572734097901545, 0.2334737818082752, 0.1535118403812084, 0.08561962596200075, 0.08071629936505798, 0.10975907997771903, 0.03281457030261703, 0.02677970679868746, 0.021499201232749086, 0.13596532837918715, 0.1531326678210037, 0.473818568594137, 0.059055647679848965, 0.0803431485877015, 0.009613710087417272, 0.024720968796215846, 0.01785403301948922, 0.045321776126395714, 0.9747103448764186, 0.29249498790721196, 0.08116353067582321, 0.02297081056862921, 0.12097960232811385, 0.016845261083661422, 0.35375048275688986, 0.09954017913072659, 0.003062774742483895, 0.007656936856209737, 0.1186720866297285, 0.2162894482122471, 0.04785164783456795, 0.14993516321497957, 0.0886850539867326, 0.026158900816230478, 0.04593758192118523, 0.20990922850097138, 0.09825538355364619, 0.0614492333693981, 0.10534154291896818, 0.020848847036045785, 0.18763962332441206, 0.038405770855873815, 0.01755692381982803, 0.05047615598200558, 0.39503078594613067, 0.12399577447753546, 0.39093460805882885, 0.06388714771821158, 0.06850549574603411, 0.14924106126945008, 0.19876001512332492, 0.04370325633735759, 0.03583495969736366, 0.014282668900858546, 0.03480866013562532, 0.2154255900787908, 0.15705905089488198, 0.029713874493626318, 0.41811666251745605, 0.04457081174043948, 0.10505977053103592, 0.008489678426750377, 0.004244839213375188, 0.016979356853500754, 0.5207529026470841, 0.12577066111835764, 0.07899644830574529, 0.0353405163473071, 0.05431005821019989, 0.027544814211871715, 0.12706994480759687, 0.0179301149115014, 0.01221326667884878, 0.29214814199151273, 0.2346161754820109, 0.08895013261752761, 0.12485660816955711, 0.04855534762149443, 0.06202027595350549, 0.026113800401475998, 0.0510035164091328, 0.07140492297278593, 0.03822208513724141, 0.05096278018298854, 0.06370347522873568, 0.012740695045747135, 0.8281451779735638, 0.9570307865397851, 0.2888912271833343, 0.17729461605955407, 0.16109510799319887, 0.20226885766185165, 0.07897260182348156, 0.012599617384942929, 0.021599344088473593, 0.03239901613271039, 0.024749248434709326, 0.1889812082703007, 0.1889812082703007, 0.1889812082703007, 0.10859828634651053, 0.10302914345694589, 0.7119220993826801, 0.0037127619263764284, 0.03341485733738785, 0.00928190481594107, 0.00649733337115875, 0.0055691428895646424, 0.017635619150288034, 0.9193262328231347, 0.059869536525739064, 0.007043474885381066, 0.9015647853287765, 0.007043474885381066, 0.0105652123280716, 0.007043474885381066, 0.003521737442690533, 0.003521737442690533, 0.959043066076927, 0.058193650471297355, 0.032065889035204666, 0.8717171315496379, 0.0035628765594671852, 0.014251506237868741, 0.001187625519822395, 0.00475050207928958, 0.001187625519822395, 0.013063880718046346, 0.9857052827884081, 0.21172535700151807, 0.13394059604126027, 0.4938935459951063, 0.010913678195954539, 0.06746637430226443, 0.013493274860452886, 0.049806058676083446, 0.008135651018802474, 0.010715247683300821, 0.9697652754581239, 0.017013425885230242, 0.7582015349025324, 0.09803905487043792, 0.04680256388287237, 0.003941268537505042, 0.02857419689691155, 0.0034486099703169115, 0.04630990531568424, 0.008867854209386345, 0.005911902806257563, 0.9672875713981668, 0.009251258541874844, 0.9621308883549837, 0.018502517083749687, 0.0687858699116875, 0.9171449321558334, 0.9209297928861143, 0.9770425786332729, 0.502641266622542, 0.3206562522541935, 0.05036485637500421, 0.02417513106000202, 0.0507006220841709, 0.00570801705583381, 0.019474411131668295, 0.006043782765000505, 0.020145942550001683, 0.04981324087228226, 0.8468250948287984, 0.11073430467493484, 0.06767096396801574, 0.043063340706919105, 0.03383548198400787, 0.02768357616873371, 0.021531670353459553, 0.11996216339784607, 0.5598234291899483, 0.018455717445822473, 0.8698919567567872, 0.6457549797634242, 0.02119545885437935, 0.031086672986423047, 0.05722773890682425, 0.033912734167006964, 0.036032280052444896, 0.16391154847386696, 0.00918469883689772, 0.0014130305902919566, 0.2342928583290149, 0.179134225762767, 0.04044966388191513, 0.08667785117553242, 0.056209273186557385, 0.2994325767882029, 0.022588773336653902, 0.07354484342166387, 0.007879804652321128, 0.05730347665468749, 0.301373840183912, 0.023345860859317127, 0.14007516515590276, 0.012734105923263886, 0.023345860859317127, 0.05730347665468749, 0.023345860859317127, 0.3629220188130208, 0.24832685714458252, 0.2160002840251694, 0.07053070498781042, 0.14693896872460505, 0.15134713778634318, 0.07493887404954856, 0.019102065934198654, 0.04114291124288941, 0.02938779374492101, 0.9299828781087591, 0.40196042199637294, 0.11349787904793629, 0.14638800076729075, 0.035316442174060936, 0.21513374698397425, 0.03504685101242688, 0.03369889520425662, 0.011322828788630224, 0.0072789613641194295, 0.9485677909011238, 0.018241688286560073, 0.017866392512282343, 0.18759712137896462, 0.7861212705404231, 0.05537351200889628, 0.04153013400667221, 0.8389087069347787, 0.002768675600444814, 0.016612053602668885, 0.002768675600444814, 0.002768675600444814, 0.0193807292031137, 0.016612053602668885, 0.3968227709308317, 0.12375598769410304, 0.08140572437280934, 0.2019472708281045, 0.09145085324408393, 0.045484343529131374, 0.02121531217613195, 0.011813071552618926, 0.026036974034343754, 0.2119648001794535, 0.2151959709138964, 0.05428366833864053, 0.24104533678943948, 0.0523449658979748, 0.02843430246309742, 0.06203847810130346, 0.018740790259768755, 0.11567591229305542, 0.07593692487915808, 0.15187384975831617, 0.020710070421588567, 0.15187384975831617, 0.03451678403598094, 0.010355035210794283, 0.020710070421588567, 0.5246551173469104, 0.010355035210794283, 0.21504993497441627, 0.42720311008067174, 0.039313169639325615, 0.14194123353988092, 0.07904016211695992, 0.004689992167498495, 0.011862921364849134, 0.006483224466836155, 0.07448811089556433, 0.3961810655772772, 0.20681472723787916, 0.0944265752153096, 0.057990233692010784, 0.07783349949812657, 0.04841072606147213, 0.05970086005460697, 0.021382829532452356, 0.03712059206833729, 0.6538236896130244, 0.10004212427445092, 0.07680653412038489, 0.014199527316373679, 0.04582574724829687, 0.021944724034395686, 0.07551566800071456, 0.005163464478681337, 0.0070997636581868395, 0.9750756434367547, 0.12688903331184992, 0.08763054786729967, 0.6561775424303399, 0.025237597785782304, 0.03785639667867345, 0.016825065190521536, 0.02874281970047429, 0.014020887658767946, 0.006309399446445576, 0.15959280312976046, 0.12609801728771197, 0.06107872712373548, 0.5477382625934988, 0.02758394128168699, 0.04334619344265098, 0.02167309672132549, 0.003940563040240999, 0.007881126080481998, 0.006968297545951313, 0.0023227658486504373, 0.9778844222818341, 0.0023227658486504373, 0.0023227658486504373, 0.004645531697300875, 0.9860492176797628, 0.39337805198775033, 0.10723194306036453, 0.28740880390907486, 0.028750593429228172, 0.09023412599916544, 0.028944854195641877, 0.032053026458261136, 0.014181035948200383, 0.017774860126853902, 0.9434538905436375, 0.9647825411116968, 0.08459893347627559, 0.845989334762756, 0.005185043069076181, 0.9851581831244743, 0.005185043069076181, 0.005185043069076181, 0.8578378795355699, 0.8142261466410615, 0.995895256364655, 0.961584603287976, 0.35433229364970276, 0.12267696061479662, 0.1554993204476112, 0.04502902258055553, 0.04455431902925449, 0.18662631045435063, 0.06740790428474729, 0.012274477540783962, 0.011664144403396914, 6.781479304300531e-05, 0.09662546909716128, 0.03669321611284605, 0.055039824169269086, 0.3754939115547913, 0.07705575383697671, 0.30822301534790686, 0.04036253772413066, 0.006115536018807676, 0.0036693216112846055, 0.9640559787565134, 0.12055410360293724, 0.17774002454279209, 0.053322007362837626, 0.40802927373301834, 0.011591740731051658, 0.14296480234963713, 0.023183481462103316, 0.053322007362837626, 0.009273392584841327, 0.004765615456701207, 0.07863265503556992, 0.009531230913402414, 0.9030841290448788, 0.0706889957537281, 0.09048191456477196, 0.2375150257325264, 0.057964976518057036, 0.007068899575372809, 0.5202710087474387, 0.005655119660298248, 0.004241339745223686, 0.004241339745223686, 0.06898603474961618, 0.013797206949923235, 0.0413916208497697, 0.0413916208497697, 0.8140352100454709, 0.02602316739553398, 0.9368340262392233, 0.04085989054502356, 0.10214972636255888, 0.04085989054502356, 0.20429945272511776, 0.06128983581753533, 0.01021497263625589, 0.030644917908767666, 0.01021497263625589, 0.5107486318127944, 0.001884275703113327, 0.06218109820273979, 0.9232950945255303, 0.001884275703113327, 0.007537102812453308, 0.1290132463894924, 0.8170838938001186, 0.015144183633208913, 0.9237952016257437, 0.030288367266417825, 0.015144183633208913, 0.3457454626549274, 0.11813330576319797, 0.1653000835221305, 0.056253955125332364, 0.2120341385493297, 0.03375237307519942, 0.041974104978132615, 0.01903980019626634, 0.007789009171199866, 0.9574226660781511, 0.9887559250209642, 0.06081827557677156, 0.011057868286685738, 0.08293401215014302, 0.027644670716714344, 0.005528934143342869, 0.011057868286685738, 0.005528934143342869, 0.7961665166413731, 0.3661891804779813, 0.11236405115258428, 0.12969845022846507, 0.03621651235496518, 0.2915893558835658, 0.01888211327908441, 0.03219245542663572, 0.00959582805986257, 0.003404971247048009, 0.4712127003376008, 0.1570709001125336, 0.1570709001125336, 0.033875858302213104, 0.016937929151106552, 0.9315861033108604, 0.015932106928479864, 0.042485618475946306, 0.1433889623563188, 0.005310702309493288, 0.7912946441144999, 0.036234272592235287, 0.11675487835275815, 0.056364424032366, 0.7649457547249672, 0.004026030288026143, 0.004026030288026143, 0.004026030288026143, 0.004026030288026143, 0.004026030288026143, 0.8803021300283096, 0.23674038770195027, 0.18455382048589994, 0.17522244753998364, 0.007948947324299061, 0.31035455205306767, 0.003801670459447377, 0.052877780026858966, 0.002764851243234456, 0.025574873999918715, 0.9624338826833996, 0.08279037708540736, 0.13086220894145034, 0.005341314650671443, 0.029377230578692935, 0.747784051094002, 0.1032350469740333, 0.060220444068186094, 0.017205841162338885, 0.05161752348701665, 0.008602920581169442, 0.008602920581169442, 0.008602920581169442, 0.7312482493994026, 0.017205841162338885, 0.30057469192317116, 0.00801532511795123, 0.01603065023590246, 0.020038312794878076, 0.004007662558975615, 0.6452336719950741, 0.004007662558975615, 0.004007662558975615, 0.14391426020652123, 0.14254364820455437, 0.049684685071299, 0.19599751628126227, 0.045572849065398394, 0.38445666655170674, 0.01130754901622667, 0.006853060009834345, 0.019531221028027883, 0.3909307585383009, 0.9482396749524314, 0.025654711321709354, 0.2741847272507687, 0.0032068389152136692, 0.09460174799880323, 0.0464991642705982, 0.5114908069765802, 0.0032068389152136692, 0.0016034194576068346, 0.04008548644017086, 0.2087517136372794, 0.7515061690942059, 0.17363490090983114, 0.10685224671374223, 0.4656572342581835, 0.03764113236506829, 0.07680005232550223, 0.0513012207233592, 0.048872760570774144, 0.011535185724778992, 0.027927291754728086, 0.49227100844646277, 0.03922227463974799, 0.08473689280458924, 0.014682134891884274, 0.0562116021574998, 0.17597587391844152, 0.12836380791190252, 0.005453364388414159, 0.00314617176254663, 0.016549403911587404, 0.016549403911587404, 0.9598654268720694, 0.01402877936920015, 0.0561151174768006, 0.0280575587384003, 0.01402877936920015, 0.8978418796288096, 0.3054719087775596, 0.1478377167844749, 0.12022946846930188, 0.08371533360084724, 0.023155305038532217, 0.040076489489767296, 0.09084004284347254, 0.1549624260271002, 0.03384236890247016, 0.3877878415560964, 0.1894662765357331, 0.09759265850769505, 0.08523215166456544, 0.1023892731035364, 0.06899745610941012, 0.05220930502396541, 0.007563892247288275, 0.009039773661393304, 0.45798952881527405, 0.09229117278869761, 0.0710598701283869, 0.050695151250129675, 0.09532421602588485, 0.04376248099370168, 0.17028371317351249, 0.007799254038481488, 0.010832297275668734, 0.9662743616656101, 0.984743668840384, 0.012571195772430434, 0.06137351766857133, 0.060350625707428475, 0.0010228919611428556, 0.20355550026742825, 0.01636627137828569, 0.6526050712091418, 0.0010228919611428556, 0.0010228919611428556, 0.002045783922285711, 0.8922671444083213, 0.9475295459214803, 0.9674255132030424, 0.06774315470849189, 0.8806610112103945, 0.9047276907876064, 0.032985751618238954, 0.13194300647295581, 0.04947862742735843, 0.06597150323647791, 0.04947862742735843, 0.06597150323647791, 0.016492875809119477, 0.6102364049374207, 0.9194411772031787, 0.025337273782527463, 0.9374791299535161, 0.26186084863941056, 0.04069977999380868, 0.027645133580700233, 0.0829354007421007, 0.02226969094000852, 0.05375442640691712, 0.13054646413108445, 0.37397722371669484, 0.006911283395175058, 0.08308449436678511, 0.006923707863898758, 0.027694831455595034, 0.006923707863898758, 0.8100738200761548, 0.020771123591696278, 0.04846595504729131, 0.04379184857402311, 0.7191082502681689, 0.15211905294134342, 0.0023048341354749004, 0.055316019251397605, 0.0023048341354749004, 0.004609668270949801, 0.0023048341354749004, 0.020743507219274104, 0.787607666123845, 0.019106385431575754, 0.016983453716956226, 0.04882742943624915, 0.0042458634292390565, 0.08067140515554208, 0.021229317146195283, 0.019106385431575754, 0.0021229317146195283, 0.2460618584005444, 0.33773196251055115, 0.13863092937337862, 0.0389195880607397, 0.13541443449232574, 0.020585567238738355, 0.037954639596423846, 0.02637525802463352, 0.01833402082200135, 0.009722772581875993, 0.009722772581875993, 0.9528317130238472, 0.019445545163751986, 0.009722772581875993, 0.028505060361680833, 0.9121619315737867, 0.04275759054252125, 0.0956493489415123, 0.06886753123788886, 0.08417142706853083, 0.015303895830641968, 0.730761025913154, 0.47677548111715246, 0.07396854007213832, 0.358586618175801, 0.010452076314541285, 0.03671626807928605, 0.008308060660276406, 0.017420127190902142, 0.004020029351746648, 0.013936101752721714, 0.890761620542735, 0.5695865035668032, 0.1045775261097913, 0.012577252583360201, 0.041924175277867334, 0.010946867989220916, 0.07057236171774335, 0.009665851522397191, 0.17747900867630506, 0.0027949450185244893, 0.9531806435056782, 0.9453695648002615, 0.9161270502870894, 0.2020544915842813, 0.21401037866027428, 0.07293091116355715, 0.12015666511372941, 0.11597210463713187, 0.052605903134369095, 0.028096334628583495, 0.1823272779088929, 0.011955887075992976, 0.3479943750167775, 0.3169801394889664, 0.06398212368729522, 0.06569156974000923, 0.0847396828988223, 0.03443312763323903, 0.016850253948180804, 0.012698742105875389, 0.05616751316060268, 0.9582967476689203, 0.029946773364653758, 0.37157579634508525, 0.08686807313398269, 0.08734537023911446, 0.05083214169653382, 0.09307293550069573, 0.017182695784743827, 0.25105827729931257, 0.02863782630790638, 0.013364318943689644, 0.9704090471483461, 0.5559903340384593, 0.04107012563400364, 0.04060235654933389, 0.1191875627738511, 0.1788748979777106, 0.014033072540092359, 0.04050880273239994, 0.005800336649904842, 0.0038357064942919116, 0.3070298978393072, 0.07036101825484123, 0.06268527080885855, 0.07164030949583834, 0.4055353233960849, 0.016630786132962472, 0.025585824819942263, 0.0383787372299134, 0.0025585824819942264, 0.10571168714160488, 0.041110100555068564, 0.005872871507866938, 0.0469829720629355, 0.011745743015733875, 0.7752190390384358, 0.9829921985816936, 0.43236656075833035, 0.03369090083831145, 0.1553524871988806, 0.01871716713239525, 0.34907516701917146, 0.0028075750698592877, 0.0037434334264790504, 0.0009358583566197626, 0.0028075750698592877, 0.3814672641365035, 0.18440984319753967, 0.09424485349254792, 0.056302120268275385, 0.04691843355689615, 0.031006964785427023, 0.07833338472107879, 0.020807305316536556, 0.10607645847646087, 0.01225343792941445, 0.13478781722355895, 0.01225343792941445, 0.11640766032943728, 0.018380156894121674, 0.01225343792941445, 0.0245068758588289, 0.006126718964707225, 0.6739390861177947, 0.0836092840226859, 0.053975613736164316, 0.7683587367148097, 0.004233381469503084, 0.041275469327655065, 0.013758489775885022, 0.006350072204254625, 0.019050216612763876, 0.01164179904113348, 0.28092188463069906, 0.05171516512519687, 0.10789954205133667, 0.3575369440754351, 0.10279187142168761, 0.03383831792142511, 0.014046094231534951, 0.04213828269460485, 0.008938423601885879, 0.8272355034820932, 0.21526387026906207, 0.09148714486435139, 0.5773684520430915, 0.026139184246957537, 0.03920877637043631, 0.016913589806854878, 0.021526387026906207, 0.006919195830076995, 0.005381596756726552, 0.21053569909624462, 0.06316070972887339, 0.6737142371079827, 0.9691860307691673, 0.9823553367907226, 0.9744285228360018, 0.2358390538093185, 0.1866046121635587, 0.11123336816264248, 0.12521351825958663, 0.03525429154881565, 0.05470493516195532, 0.03160729587135196, 0.17991845342154195, 0.039509119839189956, 0.9752588846122826, 0.010762375350720414, 0.046636959853121794, 0.9219768217117155, 0.003587458450240138, 0.003587458450240138, 0.003587458450240138, 0.003587458450240138, 0.003587458450240138, 0.003587458450240138, 0.904281676009712, 0.17888909469930325, 0.06089841521678409, 0.6679794919091004, 0.019030754755245027, 0.030449207608392044, 0.019030754755245027, 0.011418452853147017, 0.004757688688811257, 0.00666076416433576, 0.9731482224945164, 0.047061003204363794, 0.047061003204363794, 0.8941590608829121, 0.051030696601830336, 0.028066883131006685, 0.00765460449027455, 0.19136511225686376, 0.08675218422311157, 0.6098168243918725, 0.0025515348300915166, 0.0153092089805491, 0.0025515348300915166, 0.019002851247690085, 0.009501425623845042, 0.9501425623845042, 0.009501425623845042, 0.03647174026114153, 0.07294348052228306, 0.18235870130570764, 0.6564913247005475, 0.06039470478770565, 0.2818419556759597, 0.010065784131284275, 0.1610525461005484, 0.07046048891898993, 0.010065784131284275, 0.010065784131284275, 0.39256558112008677, 0.010065784131284275, 0.9416040115150944, 0.9715407480099231, 0.3073495248513655, 0.2658475507950028, 0.14447385308299857, 0.06812588194157657, 0.05559698411324064, 0.05403087188469865, 0.021142515085316865, 0.011745841714064925, 0.07204116251293154, 0.07298429546917612, 0.8028272501609374, 0.6107677267000868, 0.04004621383311909, 0.20703136962782323, 0.009822656223217891, 0.07581075700483551, 0.0037779447012376505, 0.04382415853435674, 0.0047853966215676905, 0.0037779447012376505, 0.9694086625453007, 0.010652842445552754, 0.09923848248347954, 0.7939078598678363, 0.30887641026301366, 0.16552787216664905, 0.14148080470097224, 0.08101293602514417, 0.125138137491289, 0.06396986879218877, 0.07774440258320753, 0.02708213423318941, 0.009338666976961865, 0.11011206467214685, 0.008470158820934373, 0.008470158820934373, 0.7657023574124673, 0.020328381170242493, 0.038962730576298114, 0.04573885763304561, 0.0016940317641868745, 0.2156028659980333, 0.39294174212610844, 0.055004485438064805, 0.05647617735614012, 0.04359887307298114, 0.041759258175387, 0.03752814391092047, 0.09989108893936184, 0.05684410033565895, 0.9730778762140233, 0.36959768643582563, 0.21775895753934416, 0.06258718337440333, 0.12258199820667162, 0.024812670331864045, 0.04444060357945799, 0.06554989027970054, 0.06888293554815988, 0.023701655242377596, 0.043036823739926296, 0.1106661181883819, 0.024592470708529313, 0.018444353031396986, 0.8054034157043349, 0.02178786086263283, 0.9150901562305789, 0.02178786086263283, 0.004669537181183224, 0.8405166926129805, 0.004669537181183224, 0.004669537181183224, 0.004669537181183224, 0.004669537181183224, 0.14008611543549673, 0.006684981886515533, 0.889102590906566, 0.006684981886515533, 0.006684981886515533, 0.006684981886515533, 0.08690476452470194, 0.06020265649416509, 0.11261438097143822, 0.010623998204852663, 0.13669544356910426, 0.02549759569164639, 0.6402729584791205, 0.00566613237592142, 0.007082665469901775, 0.001416533093980355, 0.1730225740671457, 0.225559792913445, 0.4350081720473582, 0.009806947517975869, 0.07775508389252296, 0.003502481256419953, 0.03432431631291554, 0.004903473758987934, 0.036425805066767514, 0.08663996041056694, 0.14078993566717127, 0.005414997525660434, 0.005414997525660434, 0.11912994556452954, 0.005414997525660434, 0.02707498762830217, 0.611894720399629, 0.005414997525660434, 0.9639136974478317, 0.4237232772047405, 0.11317395224485591, 0.13309256783995055, 0.028067140156724266, 0.24852999912970358, 0.0248982694938683, 0.019465919786115216, 0.007243132943670778, 0.0022634790448971182, 0.03086753293674281, 0.4920647897563119, 0.05810359141033941, 0.03086753293674281, 0.02178884677887728, 0.023604584010450385, 0.003631474463146213, 0.0018157372315731066, 0.33772712507259783, 0.07556484626559223, 0.016792188059020496, 0.016792188059020496, 0.8647976850395556, 0.025188282088530745, 0.975960480411991, 0.010166255004291573, 0.9653499374317925, 0.9490991170707815, 0.1495590882701618, 0.2430335184390129, 0.08546233615437816, 0.17760141732081713, 0.03338372506030397, 0.10148652418332407, 0.034719074062716127, 0.017359537031358063, 0.15490048427981043, 0.96734825000005, 0.02126276935711797, 0.02126276935711797, 0.9355618517131907, 0.010545628631838336, 0.970197834129127, 0.017890590258155915, 0.9660918739404194, 0.3987345115219939, 0.21045421338027784, 0.08196429382825496, 0.08354814491672366, 0.1055240787692268, 0.04098214691412748, 0.044545811863182044, 0.019996119991917274, 0.01445264118227684, 0.48360527536423054, 0.0796755821341627, 0.07247326962485987, 0.16370256140936254, 0.09873170064835982, 0.03661175525562279, 0.03751204431928564, 0.022057082059739958, 0.005701830736531418, 0.4615742242746994, 0.2307871121373497, 0.36695648698711625, 0.36695648698711625, 0.020713346047273994, 0.8409618495193242, 0.008285338418909598, 0.004142669209454799, 0.012428007628364397, 0.004142669209454799, 0.004142669209454799, 0.004142669209454799, 0.09528139181746037, 0.43728275710492787, 0.1654525028117435, 0.10259783137803938, 0.07894633130247031, 0.09654995921259706, 0.039959155378815336, 0.04687100928217799, 0.019763582254927584, 0.012419737482604767, 0.9703954131086029, 0.9797901181070481, 0.8363978467538931, 0.02828398515592875, 0.044446262387888034, 0.04040569307989822, 0.024243415847938928, 0.004040569307989822, 0.016162277231959288, 0.008081138615979644, 0.9507284499173134, 0.02066800978081116, 0.9845238703698487, 0.4051766744783773, 0.11013122922029518, 0.0643624066871855, 0.15467410114983943, 0.11769125794228205, 0.03882176911290554, 0.06211483058064886, 0.012872481337437099, 0.03432661689983226, 0.4272483258802873, 0.05733044628425581, 0.06688552066496511, 0.028665223142127903, 0.1774513813560299, 0.004095031877446843, 0.226591763885392, 0.0013650106258156144, 0.009555074380709301, 0.012853558135154612, 0.03856067440546384, 0.9254561857311321, 0.04092451667040313, 0.18708350477898572, 0.005846359524343304, 0.005846359524343304, 0.730794940542913, 0.023385438097373215, 0.9261807524071091, 0.02231760849173757, 0.033476412737606355, 0.9258004990209324, 0.020360794305498323, 0.9569573323584211, 0.4162876544139696, 0.11013179718040461, 0.04900601501329009, 0.25609594942429015, 0.11171263637438171, 0.02002396312370993, 0.02002396312370993, 0.005796410377916032, 0.011065874357839697, 0.9746434631563007, 0.004731278947360682, 0.01892511578944273, 0.3112058452584595, 0.32843264295026353, 0.12870165521920246, 0.02309389545640393, 0.11634330035334306, 0.012483186733191315, 0.04993274693276526, 0.0076147439072467024, 0.022095240517748627], \"Term\": [\"aboriginal\", \"aboriginal\", \"aboriginal\", \"aboriginal\", \"aboriginal\", \"abrasion_index\", \"abrasion_index\", \"abrasion_index\", \"access\", \"access\", \"access\", \"access\", \"access\", \"access\", \"access\", \"access\", \"access\", \"act\", \"act\", \"act\", \"act\", \"act\", \"act\", \"act\", \"act\", \"actinolite\", \"actinolite\", \"actinolite\", \"actinolite\", \"actinolite\", \"actinolite\", \"actinolite\", \"activity\", \"activity\", \"activity\", \"activity\", \"activity\", \"activity\", \"activity\", \"activity\", \"activity\", \"adobe_acrobat\", \"adobe_acrobat\", \"aggregate\", \"aggregate\", \"aggregate\", \"aggregate\", \"aggregate\", \"aggregate\", \"aggregate\", \"aggregate\", \"aggregate\", \"agitated\", \"ahd_height\", \"airborne\", \"airborne\", \"airborne\", \"airborne\", \"airborne\", \"airborne\", \"airborne\", \"airborne\", \"airborne\", \"aircraft\", \"aircraft\", \"aircraft\", \"aircraft\", \"aircraft\", \"aircraft\", \"aircraft\", \"aircraft\", \"alignment\", \"alkaline\", \"allen\", \"allen\", \"alter\", \"alter\", \"alter\", \"alter\", \"alter\", \"alter\", \"alter\", \"alter\", \"alter\", \"alteration\", \"alteration\", \"alteration\", \"alteration\", \"alteration\", \"alteration\", \"alteration\", \"alteration\", \"alteration\", \"amendment\", \"ammonium\", \"ammonium\", \"ammtec\", \"ammtec\", \"ammtec\", \"ammtec\", \"ammtec\", \"ammtec\", \"amphibole\", \"amphibole\", \"amphibole\", \"amphibole\", \"amphibole\", \"amphibole\", \"amphibole\", \"amphibole\", \"amphibole\", \"amt_resistivity\", \"analysis\", \"analysis\", \"analysis\", \"analysis\", \"analysis\", \"analysis\", \"analysis\", \"analysis\", \"analysis\", \"anhedral\", \"anhedral\", \"anhedral\", \"anhedral\", \"anhedral\", \"anhedral\", \"anhedral\", \"anhedral_subhedral\", \"anisotropy\", \"annual\", \"annual\", \"annual\", \"annual\", \"annual\", \"annual\", \"annual\", \"annual\", \"annual\", \"anom\", \"anom\", \"anom\", \"anomalies\", \"anomalous\", \"anomalous\", \"anomalous\", \"anomalous\", \"anomalous\", \"anomalous\", \"anomalous\", \"anomalous\", \"anomalous\", \"anomaly\", \"anomaly\", \"anomaly\", \"anomaly\", \"anomaly\", \"anomaly\", \"anomaly\", \"anomaly\", \"anomaly\", \"anthophyllite\", \"appendix\", \"appendix\", \"appendix\", \"appendix\", \"appendix\", \"appendix\", \"appendix\", \"appendix\", \"appendix\", \"application\", \"application\", \"application\", \"application\", \"application\", \"application\", \"application\", \"application\", \"application\", \"apron\", \"apron\", \"area\", \"area\", \"area\", \"area\", \"area\", \"area\", \"area\", \"area\", \"area\", \"ashburton\", \"ashburton\", \"ashburton\", \"ashburton\", \"ashburton\", \"ashburton\", \"ashburton\", \"ashton\", \"assemblage\", \"assemblage\", \"assemblage\", \"assemblage\", \"assemblage\", \"assemblage\", \"assemblage\", \"assemblage\", \"assemblage\", \"au\", \"au\", \"au\", \"au\", \"au\", \"au\", \"au\", \"au\", \"au\", \"aug\", \"aug\", \"aug\", \"aug\", \"aug\", \"aug\", \"aug\", \"aug\", \"aug\", \"ausgeoid\", \"auslig\", \"ausquest\", \"ausquest\", \"ausquest\", \"australia\", \"australia\", \"australia\", \"australia\", \"australia\", \"australia\", \"australia\", \"australia\", \"australia\", \"australmin\", \"australmin\", \"australmin\", \"australmin\", \"author_tillick\", \"author_tillick\", \"bangemall_basin\", \"bar\", \"bar\", \"bar\", \"bar\", \"bar\", \"base\", \"base\", \"base\", \"base\", \"base\", \"base\", \"base\", \"base\", \"base\", \"batter\", \"batter\", \"batter\", \"batter\", \"batter\", \"beard\", \"beard\", \"beard\", \"beard\", \"beard\", \"belt\", \"belt\", \"belt\", \"belt\", \"belt\", \"belt\", \"belt\", \"belt\", \"belt\", \"beneficial_register\", \"berkeley\", \"berkeley\", \"berm\", \"bgal\", \"bif\", \"bif\", \"bif\", \"bif\", \"bif\", \"bif\", \"bif\", \"bif\", \"bif\", \"big_bell\", \"big_bell\", \"big_bell\", \"big_bell\", \"big_bell\", \"biotite\", \"biotite\", \"biotite\", \"biotite\", \"biotite\", \"biotite\", \"biotite\", \"biotite\", \"biotite\", \"bladed\", \"blake\", \"blake\", \"blebs\", \"blebs\", \"block\", \"block\", \"block\", \"block\", \"block\", \"block\", \"block\", \"block\", \"block\", \"blocky\", \"blocky\", \"blocky\", \"bluebird\", \"bluebird\", \"bluebird\", \"boddington\", \"boddington\", \"boddington\", \"boddington\", \"bore\", \"bore\", \"bore\", \"bore\", \"bore\", \"bore\", \"bore\", \"bore\", \"bore\", \"borehole\", \"borehole\", \"borehole\", \"borehole\", \"borehole\", \"borehole\", \"borehole\", \"borehole\", \"braemore\", \"braemore\", \"braemore\", \"broome\", \"broome\", \"broome\", \"broome\", \"bubble\", \"bubble\", \"bubble\", \"bubble\", \"bulk_density\", \"bulk_density\", \"bulk_density\", \"bulk_density\", \"bulk_density\", \"bulk_density\", \"bulk_density\", \"bullfinch\", \"bullfinch\", \"bullfinch\", \"bullfinch\", \"bullfinch\", \"bullfinch\", \"bullfinch\", \"bullfinch\", \"bullfinch\", \"bulong_anticline\", \"burtville\", \"burtville\", \"burtville\", \"burtville\", \"burtville\", \"burtville\", \"canning_basin\", \"canning_basin\", \"canning_basin\", \"capital_cost\", \"capital_cost\", \"capital_cost\", \"capital_cost\", \"carbine\", \"carosue_dam\", \"carosue_dam\", \"carosue_dam\", \"causton\", \"causton\", \"causton\", \"causton\", \"causton\", \"cazaly\", \"cazaly\", \"cazaly\", \"cazaly\", \"cazaly\", \"cazaly\", \"cazaly_resources\", \"cazaly_resources\", \"cazaly_resources\", \"cazaly_resources\", \"cazaly_resources\", \"cazalys\", \"cazalys\", \"cazalys\", \"cdi\", \"celia\", \"centaur\", \"centaur\", \"centenary_international\", \"channel\", \"channel\", \"channel\", \"channel\", \"channel\", \"channel\", \"channel\", \"channel\", \"channel\", \"cheela_springs\", \"cheela_springs\", \"cheela_springs\", \"cheela_springs\", \"childe_harold\", \"childe_harold\", \"chlorite\", \"chlorite\", \"chlorite\", \"chlorite\", \"chlorite\", \"chlorite\", \"chlorite\", \"chlorite\", \"chlorite\", \"chromitite\", \"chromitite\", \"cid\", \"cid\", \"cid\", \"cim\", \"cim\", \"cim\", \"cim\", \"circle\", \"circle\", \"circuit\", \"circuit\", \"circuit\", \"circuit\", \"circuit\", \"circuit\", \"circuit\", \"circuit\", \"client\", \"client\", \"client\", \"client\", \"client\", \"client\", \"client\", \"client\", \"client\", \"cliffs\", \"cliffs\", \"coal\", \"coal\", \"coal\", \"coal\", \"coal\", \"coal\", \"coal\", \"coal_measure\", \"coal_seam\", \"coal_seam\", \"collect\", \"collect\", \"collect\", \"collect\", \"collect\", \"collect\", \"collect\", \"collect\", \"collect\", \"commercial_confidence\", \"commercial_confidence\", \"commercial_confidence\", \"commercial_confidence\", \"company\", \"company\", \"company\", \"company\", \"company\", \"company\", \"company\", \"company\", \"company\", \"compilation_computer\", \"complex_resistivity\", \"conductivity\", \"conductivity\", \"conductivity\", \"conductivity\", \"conductivity\", \"conductivity\", \"conductivity\", \"conductivity\", \"conductivity_decay\", \"conductor\", \"conductor\", \"conductor\", \"conductor\", \"conductor\", \"conductor\", \"conductor\", \"conductor\", \"conductor\", \"confidential\", \"confidential\", \"confidential\", \"confidential\", \"confidential\", \"confidential\", \"confidential\", \"confidential\", \"confidential\", \"confidential_information\", \"confidential_information\", \"confidential_information\", \"conservation\", \"conservation\", \"conservation\", \"conservation\", \"conservation\", \"contact\", \"contact\", \"contact\", \"contact\", \"contact\", \"contact\", \"contact\", \"contact\", \"contact\", \"control\", \"control\", \"control\", \"control\", \"control\", \"control\", \"control\", \"control\", \"control\", \"coolgardie\", \"coolgardie\", \"coolgardie\", \"coolgardie\", \"coolgardie\", \"coolgardie\", \"coolgardie\", \"coolgardie\", \"copper\", \"copper\", \"copper\", \"copper\", \"copper\", \"copper\", \"copper\", \"copper\", \"copper\", \"cordierite\", \"cordierite\", \"cordierite\", \"core\", \"core\", \"core\", \"core\", \"core\", \"core\", \"core\", \"core\", \"core\", \"correction\", \"correction\", \"correction\", \"correction\", \"correction\", \"correction\", \"correction\", \"correction\", \"correction\", \"corymbia\", \"cost\", \"cost\", \"cost\", \"cost\", \"cost\", \"cost\", \"cost\", \"cost\", \"cost\", \"court\", \"cra\", \"cra\", \"cra\", \"cra\", \"cra\", \"cra\", \"cra\", \"cra\", \"cra\", \"crack\", \"crb\", \"cre\", \"creek\", \"creek\", \"creek\", \"creek\", \"creek\", \"creek\", \"creek\", \"creek\", \"creek\", \"crescent\", \"crescent\", \"crescent\", \"crescent\", \"crew\", \"crew\", \"crew\", \"crew\", \"crew\", \"crew\", \"crew\", \"crew\", \"cross\", \"cross\", \"cross\", \"cross\", \"cross\", \"cross\", \"cross\", \"cross\", \"cross\", \"crystal\", \"crystal\", \"crystal\", \"crystal\", \"crystal\", \"crystal\", \"crystal\", \"crystal\", \"crystal\", \"csr\", \"csr\", \"csr\", \"cu\", \"cu\", \"cu\", \"cu\", \"cu\", \"cu\", \"cu\", \"cu\", \"cu\", \"cube\", \"cube\", \"cube\", \"cube\", \"cube\", \"cube_consulting\", \"cube_consulting\", \"cube_consulting\", \"cultural\", \"cultural\", \"cultural\", \"cultural\", \"cultural\", \"cultural\", \"cultural\", \"cultural\", \"cultural_heritage\", \"cummingtonite\", \"cummingtonite\", \"cummingtonite\", \"cummingtonite\", \"cut\", \"cut\", \"cut\", \"cut\", \"cut\", \"cut\", \"cut\", \"cut\", \"cut\", \"cyanidation\", \"cyanidation\", \"cyanidation\", \"cyanidation\", \"cyanidation\", \"cyanidation\", \"dam\", \"dam\", \"dam\", \"dam\", \"dam\", \"dam\", \"dam\", \"dam\", \"dam\", \"darlot\", \"darlot\", \"darlot\", \"darlot\", \"darlot\", \"data\", \"data\", \"data\", \"data\", \"data\", \"data\", \"data\", \"data\", \"data\", \"database\", \"database\", \"database\", \"database\", \"database\", \"database\", \"database\", \"database\", \"database\", \"date\", \"date\", \"date\", \"date\", \"date\", \"date\", \"date\", \"date\", \"date\", \"datum\", \"datum\", \"datum\", \"datum\", \"datum\", \"datum\", \"datum\", \"datum\", \"datum\", \"ddh\", \"ddh\", \"ddh\", \"ddh\", \"ddh\", \"deflector\", \"deflector\", \"deflector\", \"density\", \"density\", \"density\", \"density\", \"density\", \"density\", \"density\", \"density\", \"density\", \"deposit\", \"deposit\", \"deposit\", \"deposit\", \"deposit\", \"deposit\", \"deposit\", \"deposit\", \"deposit\", \"derby\", \"derby\", \"derby\", \"derby\", \"derby\", \"diamond\", \"diamond\", \"diamond\", \"diamond\", \"diamond\", \"diamond\", \"diamond\", \"diamond\", \"diamond\", \"diamondiferous\", \"diamondiferous\", \"diamondiferous\", \"digest_icp\", \"digitally\", \"digitally\", \"digitally\", \"digitally\", \"digitally\", \"digitally\", \"digitally\", \"digitally\", \"digitally\", \"digitising\", \"dip\", \"dip\", \"dip\", \"dip\", \"dip\", \"dip\", \"dip\", \"dip\", \"dip\", \"director\", \"director\", \"director\", \"director\", \"director\", \"disclose_person\", \"discriminate\", \"diurnal\", \"diurnal\", \"diurnal\", \"diurnal\", \"diurnal\", \"diurnal\", \"diversion\", \"diversion\", \"diversion\", \"diversion\", \"domain\", \"domain\", \"domain\", \"domain\", \"domain\", \"domain\", \"domain\", \"domain\", \"domain\", \"domains\", \"dot\", \"dot\", \"drill\", \"drill\", \"drill\", \"drill\", \"drill\", \"drill\", \"drill\", \"drill\", \"drill\", \"drilling\", \"drilling\", \"drilling\", \"drilling\", \"drilling\", \"drilling\", \"drilling\", \"drilling\", \"drilling\", \"due\", \"due\", \"due\", \"due\", \"due\", \"due\", \"due\", \"due\", \"due\", \"dunnsville\", \"dust_suppression\", \"dust_suppression\", \"dust_suppression\", \"duty_cycle\", \"duty_cycle\", \"east\", \"east\", \"east\", \"east\", \"east\", \"east\", \"east\", \"east\", \"east\", \"easte_gda\", \"eclipse\", \"eclipse\", \"eclipse\", \"eclipse\", \"edjudina\", \"edjudina\", \"edjudina\", \"edjudina\", \"edjudina\", \"el\", \"el\", \"el\", \"el\", \"el\", \"el\", \"el\", \"el\", \"elder\", \"ellendale\", \"ellendale\", \"ellendale\", \"ellendale\", \"ellendale\", \"ellendale\", \"ellendale\", \"emaxair\", \"envelope\", \"envelope\", \"envelope\", \"envelope\", \"envelope\", \"envelope\", \"envelope\", \"envelope\", \"envelope\", \"ep_ip\", \"equant\", \"equant\", \"equant\", \"equivalent_mmr\", \"equivalent_mmr\", \"equivalent_mmr\", \"equivalent_mmr\", \"estimate\", \"estimate\", \"estimate\", \"estimate\", \"estimate\", \"estimate\", \"estimate\", \"estimate\", \"estimate\", \"estimation\", \"estimation\", \"estimation\", \"estimation\", \"estimation\", \"estimation\", \"estimation\", \"estimation\", \"estimation\", \"euro\", \"euro\", \"evanston\", \"evanston\", \"evanston\", \"exploration\", \"exploration\", \"exploration\", \"exploration\", \"exploration\", \"exploration\", \"exploration\", \"exploration\", \"exploration\", \"failure\", \"failure\", \"failure\", \"failure\", \"failure\", \"failure\", \"failure\", \"failure\", \"falconbridge\", \"fault\", \"fault\", \"fault\", \"fault\", \"fault\", \"fault\", \"fault\", \"fault\", \"fault\", \"feldspar\", \"feldspar\", \"feldspar\", \"feldspar\", \"feldspar\", \"feldspar\", \"feldspar\", \"feldspar\", \"feldspar\", \"felsic\", \"felsic\", \"felsic\", \"felsic\", \"felsic\", \"felsic\", \"felsic\", \"felsic\", \"felsic\", \"ferromagnesian_phenocryst\", \"fg\", \"fg\", \"fg\", \"fibrous\", \"fibrous\", \"field\", \"field\", \"field\", \"field\", \"field\", \"field\", \"field\", \"field\", \"field\", \"filter\", \"filter\", \"filter\", \"filter\", \"filter\", \"filter\", \"filter\", \"filter\", \"filter\", \"finder\", \"finder\", \"finder\", \"fine_grain\", \"fine_grain\", \"fine_grain\", \"fine_grain\", \"fine_grain\", \"fine_grain\", \"fine_grain\", \"fine_grain\", \"fine_grain\", \"finore\", \"finore\", \"finore\", \"finore\", \"fish\", \"flake\", \"flake\", \"flake\", \"flake\", \"flake\", \"flake\", \"flake\", \"flight\", \"flight\", \"flight\", \"flight\", \"flight\", \"flight\", \"flight\", \"flight\", \"flight_path\", \"flight_path\", \"flight_path\", \"flora\", \"flora\", \"flora\", \"flora\", \"flora\", \"flora\", \"flora\", \"flora\", \"flora\", \"floristic\", \"flowsheet\", \"fly\", \"fly\", \"fly\", \"fly\", \"fly\", \"fly\", \"fly\", \"fly\", \"fly\", \"fmg\", \"foliation\", \"foliation\", \"foliation\", \"foliation\", \"foliation\", \"foliation\", \"foliation\", \"foliation\", \"foliation\", \"foliation_parallel\", \"form\", \"form\", \"form\", \"form\", \"form\", \"form\", \"form\", \"form\", \"form\", \"formulae\", \"fpr\", \"fraser\", \"fraser\", \"fraser\", \"freehold\", \"friar\", \"friar\", \"friar\", \"friar\", \"fuse\", \"fuse\", \"geological\", \"geological\", \"geological\", \"geological\", \"geological\", \"geological\", \"geological\", \"geological\", \"geological\", \"geology\", \"geology\", \"geology\", \"geology\", \"geology\", \"geology\", \"geology\", \"geology\", \"geology\", \"geosoft\", \"geosoft\", \"geosoft\", \"geotechnical\", \"geotechnical\", \"geotechnical\", \"geotechnical\", \"geotechnical\", \"geotechnical\", \"geotechnical\", \"geotechnical\", \"geotem\", \"gold\", \"gold\", \"gold\", \"gold\", \"gold\", \"gold\", \"gold\", \"gold\", \"gold\", \"golden_mile\", \"golder\", \"golder\", \"golder\", \"golder\", \"golder\", \"golder\", \"golder\", \"golder\", \"gondwana\", \"gondwana\", \"gps\", \"gps\", \"gps\", \"gps\", \"gps\", \"gps\", \"gps\", \"gps\", \"gps\", \"grade\", \"grade\", \"grade\", \"grade\", \"grade\", \"grade\", \"grade\", \"grade\", \"grade\", \"grain\", \"grain\", \"grain\", \"grain\", \"grain\", \"grain\", \"grain\", \"grain\", \"grain\", \"granitoid\", \"granitoid\", \"granitoid\", \"granitoid\", \"granitoid\", \"granitoid\", \"granitoid\", \"granitoid\", \"granitoid\", \"granny_smith\", \"granny_smith\", \"granny_smith\", \"granny_smith\", \"granny_smith\", \"granoblastic\", \"granophyre\", \"granular\", \"granular\", \"granular\", \"granular\", \"grassland\", \"gravity\", \"gravity\", \"gravity\", \"gravity\", \"gravity\", \"gravity\", \"gravity\", \"gravity\", \"gravity\", \"greenstone\", \"greenstone\", \"greenstone\", \"greenstone\", \"greenstone\", \"greenstone\", \"greenstone\", \"greenstone\", \"greenstone\", \"gregory\", \"gregory\", \"gregory\", \"grevillea\", \"grevillea\", \"griffin_find\", \"grind\", \"grind\", \"grind\", \"grind\", \"grind\", \"grind\", \"grind\", \"grind\", \"grind\", \"grind_size\", \"grind_size\", \"grind_size\", \"grind_size\", \"grind_size\", \"ground\", \"ground\", \"ground\", \"ground\", \"ground\", \"ground\", \"ground\", \"ground\", \"ground\", \"groundwater\", \"groundwater\", \"groundwater\", \"groundwater\", \"groundwater\", \"groundwater\", \"groundwater\", \"groundwater\", \"groundwater\", \"grp\", \"grp\", \"gullewa\", \"gullewa\", \"habitat\", \"habitat\", \"habitat\", \"habitat\", \"habitat\", \"halfway_hill\", \"hall_creek\", \"hall_creek\", \"hall_creek\", \"hall_creek\", \"hall_creek\", \"hall_creek\", \"hall_creek\", \"hall_creek\", \"hall_creek\", \"hammerhead\", \"hammerhead\", \"hammerhead\", \"hammerhead\", \"hammerhead\", \"haul_road\", \"haul_road\", \"haul_road\", \"haul_road\", \"haul_road\", \"haul_road\", \"haul_road\", \"hco\", \"heavy\", \"heavy\", \"heavy\", \"heavy\", \"heavy\", \"heavy\", \"heavy\", \"heavy\", \"heavy\", \"height\", \"height\", \"height\", \"height\", \"height\", \"height\", \"height\", \"height\", \"height\", \"helicopter\", \"helicopter\", \"helicopter\", \"helicopter\", \"helicopter\", \"helicopter\", \"helicopter\", \"helicopter\", \"heritage_clearance\", \"heritage_clearance\", \"high\", \"high\", \"high\", \"high\", \"high\", \"high\", \"high\", \"high\", \"high\", \"hinge\", \"hinge\", \"hinge\", \"hinge\", \"hinge\", \"hinge\", \"hinge\", \"hinge\", \"hoatson_blake\", \"hoistem\", \"hoistem\", \"hoistem\", \"holder_rio\", \"hole\", \"hole\", \"hole\", \"hole\", \"hole\", \"hole\", \"hole\", \"hole\", \"hole\", \"honour\", \"honour\", \"hornblende\", \"hornblende\", \"hornblende\", \"hornblende\", \"hornblende\", \"hornblende\", \"hornblende\", \"hornblende\", \"human\", \"human\", \"human\", \"hummock_grassland\", \"hummock_grassland\", \"hummock_grassland\", \"hummock_grassland\", \"hummock_grassland\", \"hymap\", \"hyperspectral\", \"hyperspectral\", \"hz\", \"hz\", \"hz\", \"hz\", \"hz\", \"idw\", \"ilmenite\", \"ilmenite\", \"ilmenite\", \"ilmenite\", \"ilmenite\", \"ilmenite\", \"ilmenite\", \"ilmenite\", \"ilmenite\", \"image\", \"image\", \"image\", \"image\", \"image\", \"image\", \"image\", \"image\", \"image\", \"include\", \"include\", \"include\", \"include\", \"include\", \"include\", \"include\", \"include\", \"include\", \"indeed\", \"indistinct\", \"information\", \"information\", \"information\", \"information\", \"information\", \"information\", \"information\", \"information\", \"information\", \"information_memorandum\", \"information_memorandum\", \"information_memorandum\", \"information_memorandum\", \"information_memorandum\", \"ingram\", \"ingram\", \"instrument_drift\", \"intensity_tmi\", \"internet_free\", \"interpolation\", \"interpolation\", \"interpolation\", \"interpolation\", \"interpolation\", \"interpolation\", \"interpolation\", \"interpolation\", \"interpolation\", \"interstitial\", \"interstitial\", \"interstitial\", \"interstitial\", \"interstitial\", \"introduce_discussion\", \"intrusion\", \"intrusion\", \"intrusion\", \"intrusion\", \"intrusion\", \"intrusion\", \"intrusion\", \"intrusion\", \"intrusion\", \"iron\", \"iron\", \"iron\", \"iron\", \"iron\", \"iron\", \"iron\", \"iron\", \"iron\", \"isogal\", \"isotope_whole\", \"james\", \"james\", \"james\", \"james\", \"jigsaw_fit\", \"junction\", \"junction\", \"junction\", \"junction\", \"junction\", \"junction\", \"junction\", \"junction\", \"junction\", \"kalgoorlie\", \"kalgoorlie\", \"kalgoorlie\", \"kalgoorlie\", \"kalgoorlie\", \"kalgoorlie\", \"kalgoorlie\", \"kalgoorlie\", \"kalgoorlie\", \"kalpini\", \"kalpini\", \"keringal_admiral\", \"kimberley\", \"kimberley\", \"kimberley\", \"kimberley\", \"kimberley\", \"kimberley\", \"kimberley\", \"kimberley\", \"kimberley\", \"kimberlitic\", \"kinematic\", \"kinematic\", \"kinematic\", \"kinematic\", \"kinematic\", \"km\", \"km\", \"km\", \"km\", \"km\", \"km\", \"km\", \"km\", \"km\", \"komatiite\", \"komatiite\", \"komatiite\", \"komatiite\", \"komatiite\", \"komatiite\", \"komatiite\", \"komatiite\", \"komatiite\", \"komatiitic_peridotitic\", \"krige\", \"kunanalle\", \"kunanalle\", \"kunanalle\", \"kunanalle\", \"kunanalle\", \"kunanalle\", \"kurnalpi\", \"kurnalpi\", \"kurnalpi\", \"kurnalpi\", \"kurnalpi\", \"lady_mary\", \"lake_carey\", \"lake_carey\", \"lake_carey\", \"lake_carey\", \"lake_johnston\", \"lake_johnston\", \"lake_johnston\", \"lake_rebecca\", \"lake_rebecca\", \"lake_rebecca\", \"lake_rebecca\", \"lake_rebecca\", \"lake_yindarlgooda\", \"lamboo\", \"lamboo\", \"lamboo_complex\", \"lamboo_complex\", \"lamboo_complex\", \"lamboo_complex\", \"lamproite\", \"lamproite_pipe\", \"lancefield\", \"lancefield\", \"lancefield\", \"laverton\", \"laverton\", \"laverton\", \"laverton\", \"laverton\", \"laverton\", \"laverton\", \"laverton\", \"leach\", \"leach\", \"leach\", \"leach\", \"leach\", \"leach\", \"leach\", \"leach\", \"leach\", \"leapfrog\", \"legacy\", \"legacy\", \"legacy\", \"legacy\", \"legacy\", \"legal\", \"legal\", \"legal\", \"lennard\", \"lennon_find\", \"lennon_find\", \"lennon_find\", \"lennon_find\", \"lennon_find\", \"lennon_find\", \"lime\", \"lime\", \"lime\", \"lime\", \"lime\", \"lime\", \"line\", \"line\", \"line\", \"line\", \"line\", \"line\", \"line\", \"line\", \"line\", \"lionore\", \"lionore\", \"lionore\", \"lionore\", \"lionore\", \"lionore\", \"lionore\", \"lionore\", \"lionore\", \"literature_search\", \"literature_search\", \"litho_tectonic\", \"location\", \"location\", \"location\", \"location\", \"location\", \"location\", \"location\", \"location\", \"location\", \"lode\", \"lode\", \"lode\", \"lode\", \"lode\", \"lode\", \"lode\", \"lode\", \"lode\", \"low\", \"low\", \"low\", \"low\", \"low\", \"low\", \"low\", \"low\", \"low\", \"ltd\", \"ltd\", \"ltd\", \"ltd\", \"ltd\", \"ltd\", \"ltd\", \"ltd\", \"ltd\", \"mafic\", \"mafic\", \"mafic\", \"mafic\", \"mafic\", \"mafic\", \"mafic\", \"mafic\", \"mafic\", \"magellan\", \"magellan\", \"magnesite\", \"magnet\", \"magnetic\", \"magnetic\", \"magnetic\", \"magnetic\", \"magnetic\", \"magnetic\", \"magnetic\", \"magnetic\", \"magnetic\", \"magnetite\", \"magnetite\", \"magnetite\", \"magnetite\", \"magnetite\", \"magnetite\", \"magnetite\", \"magnetite\", \"magnetite\", \"magnetometer\", \"magnetometer\", \"magnetometer\", \"magnetometer\", \"magnetometer\", \"magnetometer\", \"magnetometer\", \"magnetometer_sensor\", \"magnetometer_sensor\", \"major\", \"major\", \"major\", \"major\", \"major\", \"major\", \"major\", \"major\", \"major\", \"manager_dame_mediation\", \"mapinfo_format\", \"mapinfo_format\", \"mapinfo_format\", \"mapinfo_format\", \"mapinfo_gis\", \"mapping\", \"mapping\", \"mapping\", \"mapping\", \"mapping\", \"mapping\", \"mapping\", \"mapping\", \"mapping\", \"market\", \"market\", \"market\", \"market\", \"market\", \"market\", \"market\", \"market\", \"market\", \"marvel_loch\", \"marvel_loch\", \"marvel_loch\", \"marvel_loch\", \"marvel_loch\", \"mason_geoscience\", \"mason_geoscience\", \"mason_geoscience\", \"mason_geoscience\", \"mason_geoscience\", \"mason_geoscience\", \"mat\", \"material_crm\", \"mathews\", \"mawson_west\", \"maxwell\", \"maxwell\", \"maxwell\", \"maxwell\", \"maxwell\", \"maxwell\", \"maxwell\", \"maxwell\", \"may\", \"may\", \"may\", \"may\", \"may\", \"may\", \"may\", \"may\", \"may\", \"mb\", \"md\", \"mdb\", \"memo\", \"mercator\", \"mercator\", \"mercator\", \"mercator\", \"mercator\", \"mercator\", \"merely\", \"merely\", \"merredin\", \"merredin\", \"mesa\", \"mesa\", \"metallurgical\", \"metallurgical\", \"metallurgical\", \"metallurgical\", \"metallurgical\", \"metallurgical\", \"metallurgical\", \"metallurgical\", \"metallurgical\", \"metamorphic\", \"metamorphic\", \"metamorphic\", \"metamorphic\", \"metamorphic\", \"metamorphic\", \"metamorphic\", \"metamorphic\", \"metamorphic\", \"meter\", \"meter\", \"meter\", \"meter\", \"meter\", \"meter\", \"meter\", \"meter\", \"meter\", \"metex\", \"metex\", \"metex\", \"metex_resources\", \"metex_resources\", \"metre\", \"metre\", \"metre\", \"metre\", \"metre\", \"metre\", \"metre\", \"metre\", \"metre\", \"mgal\", \"mgal\", \"microdiamond\", \"mill\", \"mill\", \"mill\", \"mill\", \"mill\", \"mill\", \"mill\", \"mill\", \"mill\", \"milligal\", \"milligal\", \"milligal\", \"millimetre\", \"mindax\", \"mindax\", \"mineral\", \"mineral\", \"mineral\", \"mineral\", \"mineral\", \"mineral\", \"mineral\", \"mineral\", \"mineral\", \"mineralisation\", \"mineralisation\", \"mineralisation\", \"mineralisation\", \"mineralisation\", \"mineralisation\", \"mineralisation\", \"mineralisation\", \"mineralisation\", \"mining\", \"mining\", \"mining\", \"mining\", \"mining\", \"mining\", \"mining\", \"mining\", \"mining\", \"minister\", \"minister\", \"minister\", \"minister\", \"minister\", \"minister\", \"minister\", \"minor\", \"minor\", \"minor\", \"minor\", \"minor\", \"minor\", \"minor\", \"minor\", \"minor\", \"miralga_formation\", \"miralga_formation\", \"miralga_formation\", \"mm\", \"mm\", \"mm\", \"mm\", \"mm\", \"mm\", \"mm\", \"mm\", \"mm\", \"mmi\", \"mmi\", \"mmi\", \"mmi\", \"mmi\", \"mmi\", \"mmi\", \"mmi\", \"model\", \"model\", \"model\", \"model\", \"model\", \"model\", \"model\", \"model\", \"model\", \"motion\", \"motion\", \"motion\", \"mound\", \"mound\", \"mound\", \"mound\", \"mound\", \"mound\", \"mound\", \"mount_edgar\", \"mt_celia\", \"mt_varden\", \"mud_rotary\", \"mud_rotary\", \"mulgabbie\", \"mulgabbie\", \"mulgabbie\", \"mulgabbie\", \"muscovite\", \"muscovite\", \"muscovite\", \"muscovite\", \"muscovite\", \"muscovite\", \"muscovite\", \"muscovite\", \"muscovite\", \"native_title\", \"native_title\", \"native_title\", \"native_title\", \"native_title\", \"native_title\", \"native_title\", \"native_title\", \"native_title\", \"navigation\", \"navigation\", \"navigation\", \"navigation\", \"navigation\", \"newman_member\", \"nickel\", \"nickel\", \"nickel\", \"nickel\", \"nickel\", \"nickel\", \"nickel\", \"nickel\", \"nickel\", \"nil\", \"noganyer_formation\", \"noise\", \"noise\", \"noise\", \"noise\", \"noise\", \"noise\", \"noise\", \"noise\", \"noise\", \"norseman\", \"norseman\", \"norseman\", \"norseman\", \"norseman\", \"norseman\", \"norseman\", \"north\", \"north\", \"north\", \"north\", \"north\", \"north\", \"north\", \"north\", \"north\", \"northe_gda\", \"number\", \"number\", \"number\", \"number\", \"number\", \"number\", \"number\", \"number\", \"number\", \"object\", \"object\", \"object\", \"object\", \"occur\", \"occur\", \"occur\", \"occur\", \"occur\", \"occur\", \"occur\", \"occur\", \"occur\", \"olivine_mesocumulate\", \"opaque\", \"opaque\", \"opaque\", \"opaque\", \"opaque\", \"opaque\", \"opaque\", \"opaque\", \"open_shrubland\", \"open_shrubland\", \"open_shrubland\", \"open_shrubland\", \"open_woodland\", \"open_woodland\", \"operating_cost\", \"operating_cost\", \"operating_cost\", \"operating_cost\", \"optimisation\", \"optimisation\", \"optimisation\", \"optimisation\", \"optimisation\", \"optimisation\", \"optimisation\", \"optimisation\", \"optimisation\", \"ordinary_krige\", \"ordinary_krige\", \"ordinary_krige\", \"ordinary_krige\", \"ore\", \"ore\", \"ore\", \"ore\", \"ore\", \"ore\", \"ore\", \"ore\", \"ore\", \"organisation_bulletin\", \"organisation_bulletin\", \"orogen\", \"orogen\", \"orogen\", \"orogen\", \"orogen\", \"orogen\", \"orogen\", \"orthopyroxene\", \"orthopyroxene\", \"orthopyroxene\", \"orthopyroxene\", \"overcome\", \"package\", \"package\", \"package\", \"package\", \"package\", \"package\", \"package\", \"package\", \"package\", \"page\", \"page\", \"page\", \"page\", \"page\", \"page\", \"page\", \"page\", \"page\", \"pannawonica\", \"panorama\", \"panorama\", \"panorama\", \"panorama\", \"panorama\", \"panorama\", \"panorama\", \"panorama\", \"panton\", \"panton\", \"paraburdoo\", \"paraburdoo\", \"paraburdoo\", \"paraburdoo\", \"parker_range\", \"parker_range\", \"parker_range\", \"parker_range\", \"parker_range\", \"parker_range\", \"parker_range\", \"pb_sb\", \"pca\", \"pdf_pdf\", \"pdf_pdf\", \"pdf_pdf\", \"penneshaw_formation\", \"people\", \"people\", \"people\", \"people\", \"people\", \"people\", \"people\", \"perilya\", \"perilya\", \"perilya\", \"perilya\", \"perilya\", \"perilya\", \"period\", \"period\", \"period\", \"period\", \"period\", \"period\", \"period\", \"period\", \"period\", \"pge\", \"pge\", \"pge\", \"pge\", \"pge\", \"pge\", \"pge\", \"pge\", \"pge\", \"ph\", \"ph\", \"ph\", \"ph\", \"ph\", \"ph\", \"ph\", \"photograph_diagram\", \"photography_landsat\", \"pilbara\", \"pilbara\", \"pilbara\", \"pilbara\", \"pilbara\", \"pilbara\", \"pilbara\", \"pilbara\", \"pilbara\", \"pit\", \"pit\", \"pit\", \"pit\", \"pit\", \"pit\", \"pit\", \"pit\", \"pit\", \"plagioclase\", \"plagioclase\", \"plagioclase\", \"plagioclase\", \"plagioclase\", \"plagioclase\", \"plagioclase\", \"plagioclase\", \"plagioclase\", \"plain\", \"plain\", \"plain\", \"plain\", \"plain\", \"plain\", \"plain\", \"plain\", \"plain\", \"plant\", \"plant\", \"plant\", \"plant\", \"plant\", \"plant\", \"plant\", \"plant\", \"plant\", \"plasma_atomic\", \"plate\", \"plate\", \"plate\", \"plate\", \"plate\", \"plate\", \"plate\", \"plate\", \"plate\", \"platy\", \"platy\", \"platy\", \"poaceae\", \"poikiloblastic\", \"polaris\", \"polaris\", \"polaris\", \"polaris\", \"polaris\", \"polaris\", \"polaris\", \"polaris\", \"polaris\", \"polaris_metal\", \"polaris_metal\", \"polaris_metal\", \"polaris_metal\", \"polaris_metal\", \"polaris_metal\", \"polaris_metal\", \"polaris_metal\", \"portman\", \"portman\", \"portman\", \"portman\", \"portman\", \"portman\", \"portman\", \"portman\", \"portman\", \"poseidon\", \"poseidon\", \"potential\", \"potential\", \"potential\", \"potential\", \"potential\", \"potential\", \"potential\", \"potential\", \"potential\", \"ppb\", \"ppb\", \"ppb\", \"ppb\", \"ppb\", \"ppb\", \"ppb\", \"ppb\", \"ppb\", \"precursor\", \"precursor\", \"precursor\", \"precursor\", \"precursor\", \"precursor\", \"precursor\", \"present\", \"present\", \"present\", \"present\", \"present\", \"present\", \"present\", \"present\", \"present\", \"primary\", \"primary\", \"primary\", \"primary\", \"primary\", \"primary\", \"primary\", \"primary\", \"primary\", \"prior_consent\", \"priority\", \"priority\", \"priority\", \"priority\", \"priority\", \"priority\", \"priority\", \"priority\", \"priority\", \"process\", \"process\", \"process\", \"process\", \"process\", \"process\", \"process\", \"process\", \"process\", \"processing\", \"processing\", \"processing\", \"processing\", \"processing\", \"processing\", \"processing\", \"processing\", \"processing\", \"project\", \"project\", \"project\", \"project\", \"project\", \"project\", \"project\", \"project\", \"project\", \"propose\", \"propose\", \"propose\", \"propose\", \"propose\", \"propose\", \"propose\", \"propose\", \"propose\", \"prospect\", \"prospect\", \"prospect\", \"prospect\", \"prospect\", \"prospect\", \"prospect\", \"prospect\", \"prospect\", \"provide\", \"provide\", \"provide\", \"provide\", \"provide\", \"provide\", \"provide\", \"provide\", \"provide\", \"pseudo\", \"pseudo\", \"pseudo\", \"pseudo\", \"pseudo\", \"ptilotus\", \"pty\", \"pty\", \"pty\", \"pty\", \"pty\", \"pty\", \"pty\", \"pty\", \"pty\", \"purpose_without\", \"purpose_without\", \"purpose_without\", \"pyrite\", \"pyrite\", \"pyrite\", \"pyrite\", \"pyrite\", \"pyrite\", \"pyrite\", \"pyrite\", \"pyrite\", \"pyrope\", \"pyroxene\", \"pyroxene\", \"pyroxene\", \"pyroxene\", \"pyroxene\", \"pyroxene\", \"pyroxene\", \"pyroxene\", \"pyroxenitic\", \"pyrrhotite\", \"pyrrhotite\", \"pyrrhotite\", \"pyrrhotite\", \"pyrrhotite\", \"pyrrhotite\", \"pyrrhotite\", \"pyrrhotite\", \"pyrrhotite\", \"quadrat\", \"quartz\", \"quartz\", \"quartz\", \"quartz\", \"quartz\", \"quartz\", \"quartz\", \"quartz\", \"quartz\", \"qz\", \"qz\", \"rab\", \"rab\", \"rab\", \"rab\", \"rab\", \"rab\", \"rab\", \"rab\", \"rab\", \"radar_specify\", \"randell\", \"randell\", \"randell\", \"rankin\", \"rankin\", \"rav\", \"rb\", \"rc\", \"rc\", \"rc\", \"rc\", \"rc\", \"rc\", \"rc\", \"rc\", \"rc\", \"reader\", \"reader\", \"reading\", \"reading\", \"reading\", \"reading\", \"reading\", \"reading\", \"reading\", \"reading\", \"reading\", \"reagent\", \"reconnaissance\", \"reconnaissance\", \"reconnaissance\", \"reconnaissance\", \"reconnaissance\", \"reconnaissance\", \"reconnaissance\", \"reconnaissance\", \"reconnaissance\", \"record\", \"record\", \"record\", \"record\", \"record\", \"record\", \"record\", \"record\", \"record\", \"recovery\", \"recovery\", \"recovery\", \"recovery\", \"recovery\", \"recovery\", \"recovery\", \"recovery\", \"recovery\", \"reference\", \"reference\", \"reference\", \"reference\", \"reference\", \"reference\", \"reference\", \"reference\", \"reference\", \"reflectance\", \"regional\", \"regional\", \"regional\", \"regional\", \"regional\", \"regional\", \"regional\", \"regional\", \"regional\", \"remarkable\", \"remarkable\", \"remote_sense\", \"remote_sense\", \"remote_sense\", \"replacement\", \"replacement\", \"replacement\", \"replacement\", \"replacement\", \"replacement\", \"replacement\", \"replacement\", \"replacement\", \"report\", \"report\", \"report\", \"report\", \"report\", \"report\", \"report\", \"report\", \"report\", \"require\", \"require\", \"require\", \"require\", \"require\", \"require\", \"require\", \"require\", \"require\", \"resolution\", \"resolution\", \"resolution\", \"resolution\", \"resolution\", \"resolution\", \"resolution\", \"resolution\", \"resolution\", \"resource\", \"resource\", \"resource\", \"resource\", \"resource\", \"resource\", \"resource\", \"resource\", \"resource\", \"result\", \"result\", \"result\", \"result\", \"result\", \"result\", \"result\", \"result\", \"result\", \"return\", \"return\", \"return\", \"return\", \"return\", \"return\", \"return\", \"return\", \"return\", \"revise_dwg\", \"rich\", \"rich\", \"rich\", \"rich\", \"rich\", \"rich\", \"rich\", \"rich\", \"rich\", \"right\", \"right\", \"right\", \"right\", \"right\", \"right\", \"right\", \"right\", \"right\", \"rio_tinto\", \"rio_tinto\", \"rio_tinto\", \"rio_tinto\", \"rio_tinto\", \"rio_tinto\", \"roberts\", \"rock\", \"rock\", \"rock\", \"rock\", \"rock\", \"rock\", \"rock\", \"rock\", \"rock\", \"rom_pad\", \"rproject_arear\", \"rpt\", \"rpt\", \"rte\", \"rte\", \"rte\", \"rte\", \"rx\", \"salient\", \"sally_malay\", \"salt_pan\", \"sample\", \"sample\", \"sample\", \"sample\", \"sample\", \"sample\", \"sample\", \"sample\", \"sample\", \"sample\", \"sand\", \"sand\", \"sand\", \"sand\", \"sand\", \"sand\", \"sand\", \"sand\", \"sand\", \"sandplain\", \"sandstone\", \"sandstone\", \"sandstone\", \"sandstone\", \"sandstone\", \"sandstone\", \"sandstone\", \"sandstone\", \"sandstone\", \"sbm\", \"sbm\", \"sbm\", \"sbm\", \"scatter\", \"scatter\", \"scatter\", \"scatter\", \"scatter\", \"scatter\", \"scatter\", \"scatter\", \"scatter\", \"scintrex\", \"scintrex\", \"scintrex\", \"scintrex\", \"scintrex\", \"scintrex_cg\", \"scintrex_cg\", \"scope_study\", \"scope_study\", \"scope_study\", \"scope_study\", \"scope_study\", \"scope_study\", \"scope_study\", \"scope_study\", \"scope_study\", \"seam\", \"seam\", \"seam\", \"seam\", \"seam\", \"search_strategy\", \"search_strategy\", \"security\", \"security\", \"security\", \"security\", \"sediment\", \"sediment\", \"sediment\", \"sediment\", \"sediment\", \"sediment\", \"sediment\", \"sediment\", \"sediment\", \"seismic_refraction\", \"sem\", \"sensor\", \"sensor\", \"sensor\", \"sensor\", \"sensor\", \"sensor\", \"sensor\", \"sensor\", \"sequence\", \"sequence\", \"sequence\", \"sequence\", \"sequence\", \"sequence\", \"sequence\", \"sequence\", \"sequence\", \"serem\", \"serem\", \"serem\", \"sgw\", \"sgw\", \"sgw\", \"shallow_marine\", \"shallow_marine\", \"shallow_marine\", \"shallow_marine\", \"shallow_marine\", \"share\", \"share\", \"share\", \"share\", \"share\", \"share\", \"share\", \"share\", \"share\", \"shareware\", \"shear\", \"shear\", \"shear\", \"shear\", \"shear\", \"shear\", \"shear\", \"shear\", \"shear\", \"short_distance\", \"shrub\", \"shrub\", \"shrub\", \"shrub\", \"shrub\", \"signal\", \"signal\", \"signal\", \"signal\", \"signal\", \"signal\", \"signal\", \"signal\", \"signal\", \"sipa\", \"sipa\", \"sipa\", \"sipa\", \"sipa\", \"sipa\", \"sipa\", \"sipa\", \"site\", \"site\", \"site\", \"site\", \"site\", \"site\", \"site\", \"site\", \"site\", \"sjerp\", \"slip\", \"slope\", \"slope\", \"slope\", \"slope\", \"slope\", \"slope\", \"slope\", \"slope\", \"slope\", \"slope_regression\", \"slope_regression\", \"small\", \"small\", \"small\", \"small\", \"small\", \"small\", \"small\", \"small\", \"small\", \"soil\", \"soil\", \"soil\", \"soil\", \"soil\", \"soil\", \"soil\", \"soil\", \"soil\", \"solanaceae\", \"solanaceae\", \"solanaceae\", \"solanum\", \"solanum\", \"solanum\", \"solanum\", \"solanum\", \"source\", \"source\", \"source\", \"source\", \"source\", \"source\", \"source\", \"source\", \"source\", \"south\", \"south\", \"south\", \"south\", \"south\", \"south\", \"south\", \"south\", \"south\", \"southern\", \"southern\", \"southern\", \"southern\", \"southern\", \"southern\", \"southern\", \"southern\", \"southern\", \"sp_ap\", \"spargoville\", \"spargoville\", \"specie\", \"specie\", \"specie\", \"specie\", \"specie\", \"specie\", \"specie\", \"specie\", \"specie\", \"spectrally\", \"speed_knot\", \"spot_mss\", \"square_wave\", \"square_wave\", \"st_ive\", \"stability\", \"stability\", \"stability\", \"stability\", \"stability\", \"stability\", \"stability\", \"stability\", \"standby\", \"star_picket\", \"star_picket\", \"station\", \"station\", \"station\", \"station\", \"station\", \"station\", \"station\", \"station\", \"station\", \"stone\", \"stone\", \"stone\", \"stone\", \"stone\", \"stone\", \"stone\", \"strain\", \"strain\", \"strain\", \"strain\", \"strain\", \"strain\", \"strain\", \"strain\", \"strain\", \"stream_sediment\", \"stream_sediment\", \"stream_sediment\", \"stream_sediment\", \"stream_sediment\", \"stream_sediment\", \"stream_sediment\", \"stream_sediment\", \"stream_sediment\", \"structure\", \"structure\", \"structure\", \"structure\", \"structure\", \"structure\", \"structure\", \"structure\", \"structure\", \"subhedral\", \"subhedral\", \"subhedral\", \"subhedral\", \"subhedral\", \"subsection\", \"subsection\", \"subsection\", \"subsp\", \"subsp\", \"subsp\", \"subsp\", \"subsp\", \"sulphide\", \"sulphide\", \"sulphide\", \"sulphide\", \"sulphide\", \"sulphide\", \"sulphide\", \"sulphide\", \"sulphide\", \"surpac_software\", \"survey\", \"survey\", \"survey\", \"survey\", \"survey\", \"survey\", \"survey\", \"survey\", \"survey\", \"switch_ramp\", \"symbol\", \"synthesis\", \"system\", \"system\", \"system\", \"system\", \"system\", \"system\", \"system\", \"system\", \"system\", \"table\", \"table\", \"table\", \"table\", \"table\", \"table\", \"table\", \"table\", \"table\", \"tantalum\", \"tantalum\", \"target\", \"target\", \"target\", \"target\", \"target\", \"target\", \"target\", \"target\", \"target\", \"telegraph\", \"tenement\", \"tenement\", \"tenement\", \"tenement\", \"tenement\", \"tenement\", \"tenement\", \"tenement\", \"tenement\", \"terrain\", \"terrain\", \"terrain\", \"terrain\", \"terrain\", \"terrain\", \"terrain\", \"terrain\", \"terrain\", \"terrain_clearance\", \"terrain_clearance\", \"terrain_clearance\", \"terrain_clearance\", \"terrain_clearance\", \"terrain_clearance\", \"terrain_modelling\", \"terrane\", \"terrane\", \"terrane\", \"terrane\", \"terrane\", \"terrane\", \"terrane\", \"terrane\", \"terrane\", \"test\", \"test\", \"test\", \"test\", \"test\", \"test\", \"test\", \"test\", \"test\", \"testwork\", \"testwork\", \"testwork\", \"testwork\", \"testwork\", \"testwork\", \"testwork\", \"testwork\", \"testwork\", \"texture\", \"texture\", \"texture\", \"texture\", \"texture\", \"texture\", \"texture\", \"texture\", \"texture\", \"th\", \"th\", \"th\", \"th\", \"th\", \"th\", \"th\", \"th\", \"th\", \"thickly\", \"thin\", \"thin\", \"thin\", \"thin\", \"thin\", \"thin\", \"thin\", \"thin\", \"thin\", \"throughput\", \"throughput\", \"throughput\", \"thundelarra\", \"tickalara_metamorphic\", \"tier\", \"time\", \"time\", \"time\", \"time\", \"time\", \"time\", \"time\", \"time\", \"time\", \"tinto\", \"tourmaline\", \"tourmaline\", \"tourmaline\", \"tourmaline\", \"tourmaline\", \"tourmaline\", \"tourmaline\", \"tourmaline\", \"tourmaline\", \"tow_helicopter\", \"trace\", \"trace\", \"trace\", \"trace\", \"trace\", \"trace\", \"trace\", \"trace\", \"trace\", \"transmit_publish\", \"transmitter_controller\", \"transmitter_controller\", \"transmitter_controller\", \"tree\", \"tree\", \"tree\", \"tree\", \"tree\", \"tree\", \"tree\", \"tree\", \"tree\", \"trident\", \"trident\", \"trident\", \"trident\", \"tsf\", \"tsf\", \"tsf\", \"tsf\", \"tuckabianna\", \"tuckabianna\", \"tuckabianna\", \"tuckabianna\", \"tuckabianna\", \"tuckabianna\", \"tuckabianna\", \"tuckabianna\", \"tuckabianna\", \"tx\", \"tx_loop\", \"type\", \"type\", \"type\", \"type\", \"type\", \"type\", \"type\", \"type\", \"type\", \"ucs\", \"ucs\", \"ultramafic\", \"ultramafic\", \"ultramafic\", \"ultramafic\", \"ultramafic\", \"ultramafic\", \"ultramafic\", \"ultramafic\", \"ultramafic\", \"unauthorise_prohibit\", \"unauthorise_prohibit\", \"undersize\", \"undersize\", \"unit\", \"unit\", \"unit\", \"unit\", \"unit\", \"unit\", \"unit\", \"unit\", \"unit\", \"uranium\", \"uranium\", \"uranium\", \"uranium\", \"uranium\", \"uranium\", \"uranium\", \"uranium\", \"use\", \"use\", \"use\", \"use\", \"use\", \"use\", \"use\", \"use\", \"use\", \"used_purpose\", \"value\", \"value\", \"value\", \"value\", \"value\", \"value\", \"value\", \"value\", \"value\", \"var\", \"var\", \"var\", \"var\", \"var\", \"variance\", \"variance\", \"variance\", \"variogram\", \"variogram\", \"variogram\", \"variogram\", \"variogram\", \"variogram\", \"variogram\", \"variography\", \"variography\", \"variography\", \"variography\", \"variography\", \"variography\", \"vegetation\", \"vegetation\", \"vegetation\", \"vegetation\", \"vegetation\", \"vegetation\", \"vegetation\", \"vegetation\", \"vegetation\", \"vein\", \"vein\", \"vein\", \"vein\", \"vein\", \"vein\", \"vein\", \"vein\", \"vein\", \"vertical_derivative\", \"vertical_derivative\", \"vertical_derivative\", \"vertical_derivative\", \"vertical_derivative\", \"vertical_derivative\", \"vertical_derivative\", \"vertical_derivative\", \"vertical_derivative\", \"voisey_bay\", \"volcanic\", \"volcanic\", \"volcanic\", \"volcanic\", \"volcanic\", \"volcanic\", \"volcanic\", \"volcanic\", \"volcanic\", \"wall\", \"wall\", \"wall\", \"wall\", \"wall\", \"wall\", \"wall\", \"wall\", \"wall\", \"wallaby\", \"wallaby\", \"wallaby\", \"wallaby\", \"wallaby\", \"wap\", \"wap\", \"warm\", \"warp\", \"water\", \"water\", \"water\", \"water\", \"water\", \"water\", \"water\", \"water\", \"water\", \"water_biogeochemistry\", \"waveform\", \"waveform\", \"waveform\", \"weakly_foliate\", \"weakly_foliate\", \"weed\", \"weed\", \"west\", \"west\", \"west\", \"west\", \"west\", \"west\", \"west\", \"west\", \"west\", \"western\", \"western\", \"western\", \"western\", \"western\", \"western\", \"western\", \"western\", \"western\", \"westfield\", \"westfield\", \"westgold\", \"westgold\", \"wireframe\", \"wireframe\", \"wireframe\", \"wireframe\", \"wireframe\", \"wireframe\", \"wireframe\", \"wireframe\", \"wireframe\", \"within\", \"within\", \"within\", \"within\", \"within\", \"within\", \"within\", \"within\", \"within\", \"without_consent\", \"without_limitation\", \"wmc\", \"wmc\", \"wmc\", \"wmc\", \"wmc\", \"wmc\", \"wmc\", \"wmc\", \"woody\", \"woody\", \"woolyeenyer_formation\", \"work\", \"work\", \"work\", \"work\", \"work\", \"work\", \"work\", \"work\", \"work\", \"working\", \"working\", \"working\", \"working\", \"working\", \"working\", \"working\", \"working\", \"working\", \"wyloo_dome\", \"wyloo_dome\", \"wyloo_dome\", \"wyloo_group\", \"wyloo_group\", \"wyloo_group\", \"wyloo_group\", \"wyloo_group\", \"wyloo_group\", \"yaloginda\", \"yaloginda\", \"yaloginda\", \"yarraloola\", \"yarri\", \"yarri\", \"year\", \"year\", \"year\", \"year\", \"year\", \"year\", \"year\", \"year\", \"year\", \"youanmi\", \"youanmi\", \"youanmi\", \"zone\", \"zone\", \"zone\", \"zone\", \"zone\", \"zone\", \"zone\", \"zone\", \"zone\"]}, \"R\": 30, \"lambda.step\": 0.01, \"plot.opts\": {\"xlab\": \"PC1\", \"ylab\": \"PC2\"}, \"topic.order\": [5, 2, 10, 4, 1, 9, 8, 7, 3, 6]};\n",
       "\n",
       "function LDAvis_load_lib(url, callback){\n",
       "  var s = document.createElement('script');\n",
       "  s.src = url;\n",
       "  s.async = true;\n",
       "  s.onreadystatechange = s.onload = callback;\n",
       "  s.onerror = function(){console.warn(\"failed to load library \" + url);};\n",
       "  document.getElementsByTagName(\"head\")[0].appendChild(s);\n",
       "}\n",
       "\n",
       "if(typeof(LDAvis) !== \"undefined\"){\n",
       "   // already loaded: just create the visualization\n",
       "   !function(LDAvis){\n",
       "       new LDAvis(\"#\" + \"ldavis_el26417348763749606390888754\", ldavis_el26417348763749606390888754_data);\n",
       "   }(LDAvis);\n",
       "}else if(typeof define === \"function\" && define.amd){\n",
       "   // require.js is available: use it to load d3/LDAvis\n",
       "   require.config({paths: {d3: \"https://d3js.org/d3.v5\"}});\n",
       "   require([\"d3\"], function(d3){\n",
       "      window.d3 = d3;\n",
       "      LDAvis_load_lib(\"https://cdn.jsdelivr.net/gh/bmabey/pyLDAvis@3.3.1/pyLDAvis/js/ldavis.v3.0.0.js\", function(){\n",
       "        new LDAvis(\"#\" + \"ldavis_el26417348763749606390888754\", ldavis_el26417348763749606390888754_data);\n",
       "      });\n",
       "    });\n",
       "}else{\n",
       "    // require.js not available: dynamically load d3 & LDAvis\n",
       "    LDAvis_load_lib(\"https://d3js.org/d3.v5.js\", function(){\n",
       "         LDAvis_load_lib(\"https://cdn.jsdelivr.net/gh/bmabey/pyLDAvis@3.3.1/pyLDAvis/js/ldavis.v3.0.0.js\", function(){\n",
       "                 new LDAvis(\"#\" + \"ldavis_el26417348763749606390888754\", ldavis_el26417348763749606390888754_data);\n",
       "            })\n",
       "         });\n",
       "}\n",
       "</script>"
      ],
      "text/plain": [
       "PreparedData(topic_coordinates=              x         y  topics  cluster       Freq\n",
       "topic                                                \n",
       "4     -0.107814  0.004297       1        1  32.208691\n",
       "1     -0.050465 -0.009322       2        1  18.417033\n",
       "9     -0.094608 -0.093966       3        1  13.384071\n",
       "3     -0.043906  0.052364       4        1  10.285351\n",
       "0     -0.081641 -0.040273       5        1   8.835517\n",
       "8      0.000800  0.017615       6        1   5.596947\n",
       "7     -0.026392  0.001051       7        1   4.666823\n",
       "6      0.049136  0.151683       8        1   3.550781\n",
       "2      0.073054 -0.029666       9        1   3.041178\n",
       "5      0.281837 -0.053783      10        1   0.013608, topic_info=                Term          Freq         Total Category  logprob  loglift\n",
       "1084          survey   8586.000000   8586.000000  Default  30.0000  30.0000\n",
       "975           sample  14746.000000  14746.000000  Default  29.0000  29.0000\n",
       "83              gold  13589.000000  13589.000000  Default  28.0000  28.0000\n",
       "54             datum   8421.000000   8421.000000  Default  27.0000  27.0000\n",
       "12              area  17021.000000  17021.000000  Default  26.0000  26.0000\n",
       "...              ...           ...           ...      ...      ...      ...\n",
       "309             base      0.159260   3856.007447  Topic10  -7.2121  -1.1923\n",
       "69       exploration      0.179217  11067.700001  Topic10  -7.0941  -2.1286\n",
       "83              gold      0.178124  13589.089114  Topic10  -7.1002  -2.3400\n",
       "130   mineralisation      0.165553   7156.203636  Topic10  -7.1734  -1.7719\n",
       "56           deposit      0.156112   7014.358680  Topic10  -7.2321  -1.8106\n",
       "\n",
       "[865 rows x 6 columns], token_table=      Topic      Freq        Term\n",
       "term                             \n",
       "5004      1  0.095575  aboriginal\n",
       "5004      3  0.002583  aboriginal\n",
       "5004      4  0.867922  aboriginal\n",
       "5004      6  0.028414  aboriginal\n",
       "5004      7  0.007749  aboriginal\n",
       "...     ...       ...         ...\n",
       "233       5  0.116343        zone\n",
       "233       6  0.012483        zone\n",
       "233       7  0.049933        zone\n",
       "233       8  0.007615        zone\n",
       "233       9  0.022095        zone\n",
       "\n",
       "[3378 rows x 3 columns], R=30, lambda_step=0.01, plot_opts={'xlab': 'PC1', 'ylab': 'PC2'}, topic_order=[5, 2, 10, 4, 1, 9, 8, 7, 3, 6])"
      ]
     },
     "execution_count": 35,
     "metadata": {},
     "output_type": "execute_result"
    },
    {
     "data": {
      "application/javascript": "\n            setTimeout(function() {\n                var nbb_cell_id = 35;\n                var nbb_unformatted_code = \"vis = gensimvis.prepare(lda_model, bow_corpus, id2word)  # version 3.3+ use pyLDAvis.gensim_models.\\nvis\";\n                var nbb_formatted_code = \"vis = gensimvis.prepare(\\n    lda_model, bow_corpus, id2word\\n)  # version 3.3+ use pyLDAvis.gensim_models.\\nvis\";\n                var nbb_cells = Jupyter.notebook.get_cells();\n                for (var i = 0; i < nbb_cells.length; ++i) {\n                    if (nbb_cells[i].input_prompt_number == nbb_cell_id) {\n                        if (nbb_cells[i].get_text() == nbb_unformatted_code) {\n                             nbb_cells[i].set_text(nbb_formatted_code);\n                        }\n                        break;\n                    }\n                }\n            }, 500);\n            ",
      "text/plain": [
       "<IPython.core.display.Javascript object>"
      ]
     },
     "metadata": {},
     "output_type": "display_data"
    }
   ],
   "source": [
    "vis = gensimvis.prepare(lda_model, bow_corpus, id2word)  # version 3.3+ use pyLDAvis.gensim_models.\n",
    "vis"
   ]
  },
  {
   "cell_type": "markdown",
   "metadata": {},
   "source": [
    "## Additional Content: Tuning the number of topics (hyperparameter tuning) <a name=\"tuning\"></a>"
   ]
  },
  {
   "cell_type": "markdown",
   "metadata": {
    "colab_type": "text",
    "id": "1WZHH9tDDt5R"
   },
   "source": [
    "Here we explore how to find the best number of topics for our LDA model. This involves iteratively computing coherence values and finding an optimal topic distribution over a given number of topics."
   ]
  },
  {
   "cell_type": "raw",
   "metadata": {
    "colab": {},
    "colab_type": "code",
    "id": "p5w1LvRPDt5T"
   },
   "source": [
    "def compute_coherence_values(dictionary, corpus, texts, limit, start=2, step=3):\n",
    "    \"\"\"\n",
    "    Compute c_v coherence for various number of topics\n",
    "\n",
    "    Parameters:\n",
    "    ----------\n",
    "    dictionary : Gensim dictionary\n",
    "    corpus : Gensim corpus\n",
    "    texts : List of input texts\n",
    "    limit : Max num of topics\n",
    "\n",
    "    Returns:\n",
    "    -------\n",
    "    model_list : List of LDA topic models\n",
    "    coherence_values : Coherence values corresponding to the LDA model with respective number of topics\n",
    "    \"\"\"\n",
    "    coherence_values = []\n",
    "    model_list = []\n",
    "    for num_topics in range(start, limit, step):\n",
    "        model = gensim.models.ldamodel.LdaModel(corpus=corpus,\n",
    "                                           id2word=id2word,\n",
    "                                           num_topics=num_topics, \n",
    "                                           random_state=100,\n",
    "                                           update_every=1,\n",
    "                                           chunksize=100,\n",
    "                                           passes=10,\n",
    "                                           alpha='auto',\n",
    "                                           per_word_topics=True)\n",
    "        model_list.append(model)\n",
    "        coherencemodel = CoherenceModel(model=model, texts=texts, dictionary=dictionary, coherence='c_v')\n",
    "        coherence_values.append(coherencemodel.get_coherence())\n",
    "\n",
    "    return model_list, coherence_values"
   ]
  },
  {
   "cell_type": "markdown",
   "metadata": {},
   "source": [
    "⚠️ Computing coherence values can take a very long time to run."
   ]
  },
  {
   "cell_type": "raw",
   "metadata": {
    "colab": {
     "base_uri": "https://localhost:8080/",
     "height": 71
    },
    "colab_type": "code",
    "executionInfo": {
     "elapsed": 2915761,
     "status": "ok",
     "timestamp": 1585058220648,
     "user": {
      "displayName": "Tyler Bikaun",
      "photoUrl": "",
      "userId": "18384825377619195869"
     },
     "user_tz": -480
    },
    "id": "0yOYit5xDt5W",
    "outputId": "5bf4c2da-7312-4112-e62e-70cdedca1538"
   },
   "source": [
    "# model_list, coherence_values = compute_coherence_values(dictionary=id2word, corpus=bow_corpus, texts=bigram_corpus, start=2, limit=40, step=6)"
   ]
  },
  {
   "cell_type": "markdown",
   "metadata": {},
   "source": [
    "Here we can visualise coherence scores as a function of the number of topics"
   ]
  },
  {
   "cell_type": "raw",
   "metadata": {
    "colab": {
     "base_uri": "https://localhost:8080/",
     "height": 279
    },
    "colab_type": "code",
    "executionInfo": {
     "elapsed": 2912841,
     "status": "ok",
     "timestamp": 1585058220652,
     "user": {
      "displayName": "Tyler Bikaun",
      "photoUrl": "",
      "userId": "18384825377619195869"
     },
     "user_tz": -480
    },
    "id": "mRe4-DSTDt5Z",
    "outputId": "316750ce-341b-4903-d631-fb8b63a3138b"
   },
   "source": [
    "limit=40; start=2; step=6;\n",
    "x = range(start, limit, step)\n",
    "plt.plot(x, coherence_values)\n",
    "plt.xlabel(\"Number of Topics\")\n",
    "plt.ylabel(\"Coherence score\")\n",
    "plt.legend((\"coherence_values\"), loc='best')\n",
    "plt.show()"
   ]
  }
 ],
 "metadata": {
  "colab": {
   "collapsed_sections": [],
   "name": "12.3-LDA-GSWA.ipynb",
   "provenance": [],
   "toc_visible": true
  },
  "kernelspec": {
   "display_name": "Python 3.8.10 64-bit",
   "language": "python",
   "name": "python3"
  },
  "language_info": {
   "codemirror_mode": {
    "name": "ipython",
    "version": 3
   },
   "file_extension": ".py",
   "mimetype": "text/x-python",
   "name": "python",
   "nbconvert_exporter": "python",
   "pygments_lexer": "ipython3",
   "version": "3.8.10"
  },
  "vscode": {
   "interpreter": {
    "hash": "e2040bd4ff7059bd5923140baaf547b26fe1060b2698e4d8905dba1b3e302910"
   }
  }
 },
 "nbformat": 4,
 "nbformat_minor": 4
}
