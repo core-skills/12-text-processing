{
 "cells": [
  {
   "cell_type": "markdown",
   "metadata": {
    "colab_type": "text",
    "id": "Q6UXR_M4Dt3b",
    "slideshow": {
     "slide_type": "slide"
    }
   },
   "source": [
    "# Topic Modelling using LDA"
   ]
  },
  {
   "cell_type": "markdown",
   "metadata": {
    "slideshow": {
     "slide_type": "subslide"
    }
   },
   "source": [
    "## Notebook Overview\n",
    "In this notebook, we will explore topic modelling using Latent Dirichlet Allocation (LDA) on a corpus of Geological Survey of Western Australia reports."
   ]
  },
  {
   "cell_type": "markdown",
   "metadata": {
    "slideshow": {
     "slide_type": "fragment"
    }
   },
   "source": [
    "⚠️This notebook takes approximately 50 minutes to execute all cells. The visualisations of the topic models is the culprit."
   ]
  },
  {
   "cell_type": "markdown",
   "metadata": {
    "slideshow": {
     "slide_type": "subslide"
    }
   },
   "source": [
    "## Table of Contents\n",
    "1. [Loading GSWA Corpus](#load_corpus)\n",
    "2. [Corpus Pre-processing](#preprocessing)\n",
    "3. [Training LDA Model](#training)\n",
    "4. [Interactive Visualisation](#visualisation)\n",
    "5. [Additional Content: LDA Model Hyperparameter Tuning](#tuning)"
   ]
  },
  {
   "cell_type": "markdown",
   "metadata": {
    "slideshow": {
     "slide_type": "slide"
    }
   },
   "source": [
    "## Notebook Setup"
   ]
  },
  {
   "cell_type": "code",
   "execution_count": 16,
   "metadata": {
    "scrolled": false,
    "slideshow": {
     "slide_type": "subslide"
    }
   },
   "outputs": [
    {
     "name": "stdout",
     "output_type": "stream",
     "text": [
      "Defaulting to user installation because normal site-packages is not writeable\n",
      "Requirement already satisfied: pyLDAvis in /home/jupyter-wei.liu/.local/lib/python3.9/site-packages (3.3.1)\n",
      "Requirement already satisfied: gensim==4.2.0 in /home/jupyter-wei.liu/.local/lib/python3.9/site-packages (4.2.0)\n",
      "Requirement already satisfied: spacy in /home/jupyter-wei.liu/.local/lib/python3.9/site-packages (3.4.3)\n",
      "Requirement already satisfied: matplotlib in /home/jupyter-wei.liu/.local/lib/python3.9/site-packages (3.6.2)\n",
      "Requirement already satisfied: numpy in /home/jupyter-wei.liu/.local/lib/python3.9/site-packages (1.23.5)\n",
      "Requirement already satisfied: pandas in /home/jupyter-wei.liu/.local/lib/python3.9/site-packages (1.5.2)\n",
      "Requirement already satisfied: nltk in /home/jupyter-wei.liu/.local/lib/python3.9/site-packages (3.7)\n",
      "Requirement already satisfied: smart-open>=1.8.1 in /home/jupyter-wei.liu/.local/lib/python3.9/site-packages (from gensim==4.2.0) (5.2.1)\n",
      "Requirement already satisfied: scipy>=0.18.1 in /home/jupyter-wei.liu/.local/lib/python3.9/site-packages (from gensim==4.2.0) (1.9.3)\n",
      "Requirement already satisfied: funcy in /home/jupyter-wei.liu/.local/lib/python3.9/site-packages (from pyLDAvis) (1.17)\n",
      "Requirement already satisfied: setuptools in /opt/tljh/user/lib/python3.9/site-packages (from pyLDAvis) (58.2.0)\n",
      "Requirement already satisfied: scikit-learn in /home/jupyter-wei.liu/.local/lib/python3.9/site-packages (from pyLDAvis) (1.1.3)\n",
      "Requirement already satisfied: joblib in /home/jupyter-wei.liu/.local/lib/python3.9/site-packages (from pyLDAvis) (1.2.0)\n",
      "Requirement already satisfied: jinja2 in /opt/tljh/user/lib/python3.9/site-packages (from pyLDAvis) (3.1.2)\n",
      "Requirement already satisfied: sklearn in /home/jupyter-wei.liu/.local/lib/python3.9/site-packages (from pyLDAvis) (0.0.post1)\n",
      "Requirement already satisfied: numexpr in /home/jupyter-wei.liu/.local/lib/python3.9/site-packages (from pyLDAvis) (2.8.4)\n",
      "Requirement already satisfied: future in /home/jupyter-wei.liu/.local/lib/python3.9/site-packages (from pyLDAvis) (0.18.2)\n",
      "Requirement already satisfied: wasabi<1.1.0,>=0.9.1 in /home/jupyter-wei.liu/.local/lib/python3.9/site-packages (from spacy) (0.10.1)\n",
      "Requirement already satisfied: cymem<2.1.0,>=2.0.2 in /home/jupyter-wei.liu/.local/lib/python3.9/site-packages (from spacy) (2.0.7)\n",
      "Requirement already satisfied: spacy-loggers<2.0.0,>=1.0.0 in /home/jupyter-wei.liu/.local/lib/python3.9/site-packages (from spacy) (1.0.3)\n",
      "Requirement already satisfied: langcodes<4.0.0,>=3.2.0 in /home/jupyter-wei.liu/.local/lib/python3.9/site-packages (from spacy) (3.3.0)\n",
      "Requirement already satisfied: catalogue<2.1.0,>=2.0.6 in /home/jupyter-wei.liu/.local/lib/python3.9/site-packages (from spacy) (2.0.8)\n",
      "Requirement already satisfied: packaging>=20.0 in /opt/tljh/user/lib/python3.9/site-packages (from spacy) (21.3)\n",
      "Requirement already satisfied: pathy>=0.3.5 in /home/jupyter-wei.liu/.local/lib/python3.9/site-packages (from spacy) (0.10.0)\n",
      "Requirement already satisfied: requests<3.0.0,>=2.13.0 in /opt/tljh/user/lib/python3.9/site-packages (from spacy) (2.26.0)\n",
      "Requirement already satisfied: thinc<8.2.0,>=8.1.0 in /home/jupyter-wei.liu/.local/lib/python3.9/site-packages (from spacy) (8.1.5)\n",
      "Requirement already satisfied: pydantic!=1.8,!=1.8.1,<1.11.0,>=1.7.4 in /home/jupyter-wei.liu/.local/lib/python3.9/site-packages (from spacy) (1.10.2)\n",
      "Requirement already satisfied: preshed<3.1.0,>=3.0.2 in /home/jupyter-wei.liu/.local/lib/python3.9/site-packages (from spacy) (3.0.8)\n",
      "Requirement already satisfied: typer<0.8.0,>=0.3.0 in /home/jupyter-wei.liu/.local/lib/python3.9/site-packages (from spacy) (0.7.0)\n",
      "Requirement already satisfied: tqdm<5.0.0,>=4.38.0 in /opt/tljh/user/lib/python3.9/site-packages (from spacy) (4.62.3)\n",
      "Requirement already satisfied: srsly<3.0.0,>=2.4.3 in /home/jupyter-wei.liu/.local/lib/python3.9/site-packages (from spacy) (2.4.5)\n",
      "Requirement already satisfied: murmurhash<1.1.0,>=0.28.0 in /home/jupyter-wei.liu/.local/lib/python3.9/site-packages (from spacy) (1.0.9)\n",
      "Requirement already satisfied: spacy-legacy<3.1.0,>=3.0.10 in /home/jupyter-wei.liu/.local/lib/python3.9/site-packages (from spacy) (3.0.10)\n",
      "Requirement already satisfied: python-dateutil>=2.7 in /opt/tljh/user/lib/python3.9/site-packages (from matplotlib) (2.8.2)\n",
      "Requirement already satisfied: pillow>=6.2.0 in /home/jupyter-wei.liu/.local/lib/python3.9/site-packages (from matplotlib) (9.3.0)\n",
      "Requirement already satisfied: cycler>=0.10 in /home/jupyter-wei.liu/.local/lib/python3.9/site-packages (from matplotlib) (0.11.0)\n",
      "Requirement already satisfied: fonttools>=4.22.0 in /home/jupyter-wei.liu/.local/lib/python3.9/site-packages (from matplotlib) (4.38.0)\n",
      "Requirement already satisfied: contourpy>=1.0.1 in /home/jupyter-wei.liu/.local/lib/python3.9/site-packages (from matplotlib) (1.0.6)\n",
      "Requirement already satisfied: kiwisolver>=1.0.1 in /home/jupyter-wei.liu/.local/lib/python3.9/site-packages (from matplotlib) (1.4.4)\n",
      "Requirement already satisfied: pyparsing>=2.2.1 in /opt/tljh/user/lib/python3.9/site-packages (from matplotlib) (3.0.9)\n",
      "Requirement already satisfied: pytz>=2020.1 in /opt/tljh/user/lib/python3.9/site-packages (from pandas) (2022.2.1)\n",
      "Requirement already satisfied: click in /home/jupyter-wei.liu/.local/lib/python3.9/site-packages (from nltk) (8.1.3)\n",
      "Requirement already satisfied: regex>=2021.8.3 in /home/jupyter-wei.liu/.local/lib/python3.9/site-packages (from nltk) (2022.10.31)\n",
      "Requirement already satisfied: typing-extensions>=4.1.0 in /home/jupyter-wei.liu/.local/lib/python3.9/site-packages (from pydantic!=1.8,!=1.8.1,<1.11.0,>=1.7.4->spacy) (4.4.0)\n",
      "Requirement already satisfied: six>=1.5 in /opt/tljh/user/lib/python3.9/site-packages (from python-dateutil>=2.7->matplotlib) (1.16.0)\n",
      "Requirement already satisfied: urllib3<1.27,>=1.21.1 in /opt/tljh/user/lib/python3.9/site-packages (from requests<3.0.0,>=2.13.0->spacy) (1.26.7)\n",
      "Requirement already satisfied: idna<4,>=2.5 in /opt/tljh/user/lib/python3.9/site-packages (from requests<3.0.0,>=2.13.0->spacy) (3.1)\n",
      "Requirement already satisfied: certifi>=2017.4.17 in /opt/tljh/user/lib/python3.9/site-packages (from requests<3.0.0,>=2.13.0->spacy) (2022.6.15)\n",
      "Requirement already satisfied: charset-normalizer~=2.0.0 in /opt/tljh/user/lib/python3.9/site-packages (from requests<3.0.0,>=2.13.0->spacy) (2.0.0)\n",
      "Requirement already satisfied: confection<1.0.0,>=0.0.1 in /home/jupyter-wei.liu/.local/lib/python3.9/site-packages (from thinc<8.2.0,>=8.1.0->spacy) (0.0.3)\n",
      "Requirement already satisfied: blis<0.8.0,>=0.7.8 in /home/jupyter-wei.liu/.local/lib/python3.9/site-packages (from thinc<8.2.0,>=8.1.0->spacy) (0.7.9)\n",
      "Requirement already satisfied: MarkupSafe>=2.0 in /opt/tljh/user/lib/python3.9/site-packages (from jinja2->pyLDAvis) (2.1.1)\n",
      "Requirement already satisfied: threadpoolctl>=2.0.0 in /home/jupyter-wei.liu/.local/lib/python3.9/site-packages (from scikit-learn->pyLDAvis) (3.1.0)\n"
     ]
    }
   ],
   "source": [
    "#!pip install pyLDAvis gensim==4.2.0 spacy matplotlib numpy pandas nltk"
   ]
  },
  {
   "cell_type": "markdown",
   "metadata": {
    "slideshow": {
     "slide_type": "subslide"
    }
   },
   "source": [
    "We need to load our pre-trained model from SpaCy before we can use it."
   ]
  },
  {
   "cell_type": "code",
   "execution_count": 13,
   "metadata": {
    "slideshow": {
     "slide_type": "fragment"
    }
   },
   "outputs": [
    {
     "name": "stdout",
     "output_type": "stream",
     "text": [
      "Defaulting to user installation because normal site-packages is not writeable\n",
      "Requirement already satisfied: spacy in /home/jupyter-wei.liu/.local/lib/python3.9/site-packages (3.4.3)\n",
      "Requirement already satisfied: cymem<2.1.0,>=2.0.2 in /home/jupyter-wei.liu/.local/lib/python3.9/site-packages (from spacy) (2.0.7)\n",
      "Requirement already satisfied: pathy>=0.3.5 in /home/jupyter-wei.liu/.local/lib/python3.9/site-packages (from spacy) (0.10.0)\n",
      "Requirement already satisfied: requests<3.0.0,>=2.13.0 in /opt/tljh/user/lib/python3.9/site-packages (from spacy) (2.26.0)\n",
      "Requirement already satisfied: jinja2 in /opt/tljh/user/lib/python3.9/site-packages (from spacy) (3.1.2)\n",
      "Requirement already satisfied: spacy-loggers<2.0.0,>=1.0.0 in /home/jupyter-wei.liu/.local/lib/python3.9/site-packages (from spacy) (1.0.3)\n",
      "Requirement already satisfied: numpy>=1.15.0 in /home/jupyter-wei.liu/.local/lib/python3.9/site-packages (from spacy) (1.23.5)\n",
      "Requirement already satisfied: preshed<3.1.0,>=3.0.2 in /home/jupyter-wei.liu/.local/lib/python3.9/site-packages (from spacy) (3.0.8)\n",
      "Requirement already satisfied: langcodes<4.0.0,>=3.2.0 in /home/jupyter-wei.liu/.local/lib/python3.9/site-packages (from spacy) (3.3.0)\n",
      "Requirement already satisfied: setuptools in /opt/tljh/user/lib/python3.9/site-packages (from spacy) (58.2.0)\n",
      "Requirement already satisfied: tqdm<5.0.0,>=4.38.0 in /opt/tljh/user/lib/python3.9/site-packages (from spacy) (4.62.3)\n",
      "Requirement already satisfied: thinc<8.2.0,>=8.1.0 in /home/jupyter-wei.liu/.local/lib/python3.9/site-packages (from spacy) (8.1.5)\n",
      "Requirement already satisfied: wasabi<1.1.0,>=0.9.1 in /home/jupyter-wei.liu/.local/lib/python3.9/site-packages (from spacy) (0.10.1)\n",
      "Requirement already satisfied: catalogue<2.1.0,>=2.0.6 in /home/jupyter-wei.liu/.local/lib/python3.9/site-packages (from spacy) (2.0.8)\n",
      "Requirement already satisfied: srsly<3.0.0,>=2.4.3 in /home/jupyter-wei.liu/.local/lib/python3.9/site-packages (from spacy) (2.4.5)\n",
      "Requirement already satisfied: spacy-legacy<3.1.0,>=3.0.10 in /home/jupyter-wei.liu/.local/lib/python3.9/site-packages (from spacy) (3.0.10)\n",
      "Requirement already satisfied: murmurhash<1.1.0,>=0.28.0 in /home/jupyter-wei.liu/.local/lib/python3.9/site-packages (from spacy) (1.0.9)\n",
      "Requirement already satisfied: typer<0.8.0,>=0.3.0 in /home/jupyter-wei.liu/.local/lib/python3.9/site-packages (from spacy) (0.7.0)\n",
      "Requirement already satisfied: pydantic!=1.8,!=1.8.1,<1.11.0,>=1.7.4 in /home/jupyter-wei.liu/.local/lib/python3.9/site-packages (from spacy) (1.10.2)\n",
      "Requirement already satisfied: packaging>=20.0 in /opt/tljh/user/lib/python3.9/site-packages (from spacy) (21.3)\n",
      "Requirement already satisfied: pyparsing!=3.0.5,>=2.0.2 in /opt/tljh/user/lib/python3.9/site-packages (from packaging>=20.0->spacy) (3.0.9)\n",
      "Requirement already satisfied: smart-open<6.0.0,>=5.2.1 in /home/jupyter-wei.liu/.local/lib/python3.9/site-packages (from pathy>=0.3.5->spacy) (5.2.1)\n",
      "Requirement already satisfied: typing-extensions>=4.1.0 in /home/jupyter-wei.liu/.local/lib/python3.9/site-packages (from pydantic!=1.8,!=1.8.1,<1.11.0,>=1.7.4->spacy) (4.4.0)\n",
      "Requirement already satisfied: idna<4,>=2.5 in /opt/tljh/user/lib/python3.9/site-packages (from requests<3.0.0,>=2.13.0->spacy) (3.1)\n",
      "Requirement already satisfied: certifi>=2017.4.17 in /opt/tljh/user/lib/python3.9/site-packages (from requests<3.0.0,>=2.13.0->spacy) (2022.6.15)\n",
      "Requirement already satisfied: charset-normalizer~=2.0.0 in /opt/tljh/user/lib/python3.9/site-packages (from requests<3.0.0,>=2.13.0->spacy) (2.0.0)\n",
      "Requirement already satisfied: urllib3<1.27,>=1.21.1 in /opt/tljh/user/lib/python3.9/site-packages (from requests<3.0.0,>=2.13.0->spacy) (1.26.7)\n",
      "Requirement already satisfied: confection<1.0.0,>=0.0.1 in /home/jupyter-wei.liu/.local/lib/python3.9/site-packages (from thinc<8.2.0,>=8.1.0->spacy) (0.0.3)\n",
      "Requirement already satisfied: blis<0.8.0,>=0.7.8 in /home/jupyter-wei.liu/.local/lib/python3.9/site-packages (from thinc<8.2.0,>=8.1.0->spacy) (0.7.9)\n",
      "Requirement already satisfied: click<9.0.0,>=7.1.1 in /home/jupyter-wei.liu/.local/lib/python3.9/site-packages (from typer<0.8.0,>=0.3.0->spacy) (8.1.3)\n",
      "Requirement already satisfied: MarkupSafe>=2.0 in /opt/tljh/user/lib/python3.9/site-packages (from jinja2->spacy) (2.1.1)\n"
     ]
    }
   ],
   "source": [
    "#!pip install -U spacy "
   ]
  },
  {
   "cell_type": "code",
   "execution_count": 1,
   "metadata": {
    "slideshow": {
     "slide_type": "fragment"
    }
   },
   "outputs": [
    {
     "name": "stdout",
     "output_type": "stream",
     "text": [
      "Defaulting to user installation because normal site-packages is not writeable\n",
      "Collecting en-core-web-sm==3.4.1\n",
      "  Downloading https://github.com/explosion/spacy-models/releases/download/en_core_web_sm-3.4.1/en_core_web_sm-3.4.1-py3-none-any.whl (12.8 MB)\n",
      "Requirement already satisfied: spacy<3.5.0,>=3.4.0 in /home/jupyter-wei.liu/.local/lib/python3.9/site-packages (from en-core-web-sm==3.4.1) (3.4.3)\n",
      "Requirement already satisfied: srsly<3.0.0,>=2.4.3 in /home/jupyter-wei.liu/.local/lib/python3.9/site-packages (from spacy<3.5.0,>=3.4.0->en-core-web-sm==3.4.1) (2.4.5)\n",
      "Requirement already satisfied: preshed<3.1.0,>=3.0.2 in /home/jupyter-wei.liu/.local/lib/python3.9/site-packages (from spacy<3.5.0,>=3.4.0->en-core-web-sm==3.4.1) (3.0.8)\n",
      "Requirement already satisfied: thinc<8.2.0,>=8.1.0 in /home/jupyter-wei.liu/.local/lib/python3.9/site-packages (from spacy<3.5.0,>=3.4.0->en-core-web-sm==3.4.1) (8.1.5)\n",
      "Requirement already satisfied: tqdm<5.0.0,>=4.38.0 in /opt/tljh/user/lib/python3.9/site-packages (from spacy<3.5.0,>=3.4.0->en-core-web-sm==3.4.1) (4.62.3)\n",
      "Requirement already satisfied: jinja2 in /opt/tljh/user/lib/python3.9/site-packages (from spacy<3.5.0,>=3.4.0->en-core-web-sm==3.4.1) (3.1.2)\n",
      "Requirement already satisfied: setuptools in /opt/tljh/user/lib/python3.9/site-packages (from spacy<3.5.0,>=3.4.0->en-core-web-sm==3.4.1) (58.2.0)\n",
      "Requirement already satisfied: typer<0.8.0,>=0.3.0 in /home/jupyter-wei.liu/.local/lib/python3.9/site-packages (from spacy<3.5.0,>=3.4.0->en-core-web-sm==3.4.1) (0.7.0)\n",
      "Requirement already satisfied: wasabi<1.1.0,>=0.9.1 in /home/jupyter-wei.liu/.local/lib/python3.9/site-packages (from spacy<3.5.0,>=3.4.0->en-core-web-sm==3.4.1) (0.10.1)\n",
      "Requirement already satisfied: packaging>=20.0 in /opt/tljh/user/lib/python3.9/site-packages (from spacy<3.5.0,>=3.4.0->en-core-web-sm==3.4.1) (21.3)\n",
      "Requirement already satisfied: requests<3.0.0,>=2.13.0 in /opt/tljh/user/lib/python3.9/site-packages (from spacy<3.5.0,>=3.4.0->en-core-web-sm==3.4.1) (2.26.0)\n",
      "Requirement already satisfied: pathy>=0.3.5 in /home/jupyter-wei.liu/.local/lib/python3.9/site-packages (from spacy<3.5.0,>=3.4.0->en-core-web-sm==3.4.1) (0.10.0)\n",
      "Requirement already satisfied: langcodes<4.0.0,>=3.2.0 in /home/jupyter-wei.liu/.local/lib/python3.9/site-packages (from spacy<3.5.0,>=3.4.0->en-core-web-sm==3.4.1) (3.3.0)\n",
      "Requirement already satisfied: spacy-legacy<3.1.0,>=3.0.10 in /home/jupyter-wei.liu/.local/lib/python3.9/site-packages (from spacy<3.5.0,>=3.4.0->en-core-web-sm==3.4.1) (3.0.10)\n",
      "Requirement already satisfied: murmurhash<1.1.0,>=0.28.0 in /home/jupyter-wei.liu/.local/lib/python3.9/site-packages (from spacy<3.5.0,>=3.4.0->en-core-web-sm==3.4.1) (1.0.9)\n",
      "Requirement already satisfied: catalogue<2.1.0,>=2.0.6 in /home/jupyter-wei.liu/.local/lib/python3.9/site-packages (from spacy<3.5.0,>=3.4.0->en-core-web-sm==3.4.1) (2.0.8)\n",
      "Requirement already satisfied: spacy-loggers<2.0.0,>=1.0.0 in /home/jupyter-wei.liu/.local/lib/python3.9/site-packages (from spacy<3.5.0,>=3.4.0->en-core-web-sm==3.4.1) (1.0.3)\n",
      "Requirement already satisfied: cymem<2.1.0,>=2.0.2 in /home/jupyter-wei.liu/.local/lib/python3.9/site-packages (from spacy<3.5.0,>=3.4.0->en-core-web-sm==3.4.1) (2.0.7)\n",
      "Requirement already satisfied: numpy>=1.15.0 in /home/jupyter-wei.liu/.local/lib/python3.9/site-packages (from spacy<3.5.0,>=3.4.0->en-core-web-sm==3.4.1) (1.23.5)\n",
      "Requirement already satisfied: pydantic!=1.8,!=1.8.1,<1.11.0,>=1.7.4 in /home/jupyter-wei.liu/.local/lib/python3.9/site-packages (from spacy<3.5.0,>=3.4.0->en-core-web-sm==3.4.1) (1.10.2)\n",
      "Requirement already satisfied: pyparsing!=3.0.5,>=2.0.2 in /opt/tljh/user/lib/python3.9/site-packages (from packaging>=20.0->spacy<3.5.0,>=3.4.0->en-core-web-sm==3.4.1) (3.0.9)\n",
      "Requirement already satisfied: smart-open<6.0.0,>=5.2.1 in /home/jupyter-wei.liu/.local/lib/python3.9/site-packages (from pathy>=0.3.5->spacy<3.5.0,>=3.4.0->en-core-web-sm==3.4.1) (5.2.1)\n",
      "Requirement already satisfied: typing-extensions>=4.1.0 in /home/jupyter-wei.liu/.local/lib/python3.9/site-packages (from pydantic!=1.8,!=1.8.1,<1.11.0,>=1.7.4->spacy<3.5.0,>=3.4.0->en-core-web-sm==3.4.1) (4.4.0)\n",
      "Requirement already satisfied: idna<4,>=2.5 in /opt/tljh/user/lib/python3.9/site-packages (from requests<3.0.0,>=2.13.0->spacy<3.5.0,>=3.4.0->en-core-web-sm==3.4.1) (3.1)\n",
      "Requirement already satisfied: urllib3<1.27,>=1.21.1 in /opt/tljh/user/lib/python3.9/site-packages (from requests<3.0.0,>=2.13.0->spacy<3.5.0,>=3.4.0->en-core-web-sm==3.4.1) (1.26.7)\n",
      "Requirement already satisfied: charset-normalizer~=2.0.0 in /opt/tljh/user/lib/python3.9/site-packages (from requests<3.0.0,>=2.13.0->spacy<3.5.0,>=3.4.0->en-core-web-sm==3.4.1) (2.0.0)\n",
      "Requirement already satisfied: certifi>=2017.4.17 in /opt/tljh/user/lib/python3.9/site-packages (from requests<3.0.0,>=2.13.0->spacy<3.5.0,>=3.4.0->en-core-web-sm==3.4.1) (2022.6.15)\n",
      "Requirement already satisfied: confection<1.0.0,>=0.0.1 in /home/jupyter-wei.liu/.local/lib/python3.9/site-packages (from thinc<8.2.0,>=8.1.0->spacy<3.5.0,>=3.4.0->en-core-web-sm==3.4.1) (0.0.3)\n",
      "Requirement already satisfied: blis<0.8.0,>=0.7.8 in /home/jupyter-wei.liu/.local/lib/python3.9/site-packages (from thinc<8.2.0,>=8.1.0->spacy<3.5.0,>=3.4.0->en-core-web-sm==3.4.1) (0.7.9)\n",
      "Requirement already satisfied: click<9.0.0,>=7.1.1 in /home/jupyter-wei.liu/.local/lib/python3.9/site-packages (from typer<0.8.0,>=0.3.0->spacy<3.5.0,>=3.4.0->en-core-web-sm==3.4.1) (8.1.3)\n",
      "Requirement already satisfied: MarkupSafe>=2.0 in /opt/tljh/user/lib/python3.9/site-packages (from jinja2->spacy<3.5.0,>=3.4.0->en-core-web-sm==3.4.1) (2.1.1)\n",
      "Installing collected packages: en-core-web-sm\n",
      "Successfully installed en-core-web-sm-3.4.1\n",
      "\u001b[38;5;2m✔ Download and installation successful\u001b[0m\n",
      "You can now load the package via spacy.load('en_core_web_sm')\n"
     ]
    }
   ],
   "source": [
    "import spacy\n",
    "#from spacy.cli import download\n",
    "\n",
    "#download(\"en_core_web_sm\")"
   ]
  },
  {
   "cell_type": "markdown",
   "metadata": {
    "slideshow": {
     "slide_type": "subslide"
    }
   },
   "source": [
    "Lets load in the package [nb_black](https://github.com/dnanhkhoa/nb_black) to auto-format our code as we go. Formatting code is useful as it easier to collaborate and interpret what we write."
   ]
  },
  {
   "cell_type": "code",
   "execution_count": 43,
   "metadata": {
    "slideshow": {
     "slide_type": "fragment"
    }
   },
   "outputs": [],
   "source": [
    "# Package for ensuring code we write is formatted nicely (see: https://github.com/dnanhkhoa/nb_black)\n",
    "# %load_ext nb_black"
   ]
  },
  {
   "cell_type": "markdown",
   "metadata": {
    "slideshow": {
     "slide_type": "slide"
    }
   },
   "source": [
    "### Import Packages\n",
    "Standard packages\n",
    "- [re](https://docs.python.org/3/library/re.html) - library that we will use for performing regular expressions"
   ]
  },
  {
   "cell_type": "code",
   "execution_count": 3,
   "metadata": {
    "colab": {},
    "colab_type": "code",
    "id": "FgNh7kvdDt3k",
    "slideshow": {
     "slide_type": "fragment"
    }
   },
   "outputs": [],
   "source": [
    "import re\n",
    "from pprint import pprint\n",
    "import warnings\n",
    "import zipfile\n",
    "import json\n",
    "from typing import List"
   ]
  },
  {
   "cell_type": "markdown",
   "metadata": {
    "slideshow": {
     "slide_type": "subslide"
    }
   },
   "source": [
    "Third party packages\n",
    "\n",
    "- [numpy](https://numpy.org/) - library that we will use for helping visualise results\n",
    "- [pandas](https://pandas.pydata.org/) - library that we will use to help handling our corpus\n",
    "- [gensim](https://radimrehurek.com/gensim/) - library that we will use to perform topic modelling\n",
    "- [spacy](https://spacy.io/) - library that we will use to perform lemmatization\n",
    "- [nltk](https://www.nltk.org/) - library that we will use to pre-process our corpus\n",
    "- [pyLDAvis](https://pyldavis.readthedocs.io/en/latest/readme.html) - library that we will use to interactively visualise results"
   ]
  },
  {
   "cell_type": "code",
   "execution_count": 4,
   "metadata": {
    "slideshow": {
     "slide_type": "subslide"
    }
   },
   "outputs": [
    {
     "name": "stderr",
     "output_type": "stream",
     "text": [
      "/home/jupyter-wei.liu/.local/lib/python3.9/site-packages/past/builtins/misc.py:45: DeprecationWarning: the imp module is deprecated in favour of importlib; see the module's documentation for alternative uses\n",
      "  from imp import reload\n"
     ]
    }
   ],
   "source": [
    "import nltk\n",
    "from nltk.corpus import stopwords\n",
    "import gensim\n",
    "import gensim.corpora as corpora\n",
    "from gensim.utils import simple_preprocess\n",
    "from gensim.models import CoherenceModel\n",
    "import spacy\n",
    "\n",
    "import pyLDAvis\n",
    "import pyLDAvis.gensim_models as gensimvis"
   ]
  },
  {
   "cell_type": "markdown",
   "metadata": {
    "slideshow": {
     "slide_type": "slide"
    }
   },
   "source": [
    "### Set-up notebook environment and helper functions"
   ]
  },
  {
   "cell_type": "code",
   "execution_count": 5,
   "metadata": {
    "slideshow": {
     "slide_type": "fragment"
    }
   },
   "outputs": [
    {
     "data": {
      "text/plain": [
       "True"
      ]
     },
     "execution_count": 5,
     "metadata": {},
     "output_type": "execute_result"
    }
   ],
   "source": [
    "# Download NLTK stopwords\n",
    "nltk.download('stopwords', quiet=True)"
   ]
  },
  {
   "cell_type": "code",
   "execution_count": 6,
   "metadata": {
    "scrolled": true,
    "slideshow": {
     "slide_type": "fragment"
    }
   },
   "outputs": [],
   "source": [
    "%matplotlib inline\n",
    "warnings.filterwarnings(\"ignore\",category=DeprecationWarning)"
   ]
  },
  {
   "cell_type": "markdown",
   "metadata": {
    "colab_type": "text",
    "id": "XnlbAvI1Dt3v",
    "slideshow": {
     "slide_type": "slide"
    }
   },
   "source": [
    "## Import the GSWA dataset <a name=\"load_corpus\"></a>"
   ]
  },
  {
   "cell_type": "markdown",
   "metadata": {
    "slideshow": {
     "slide_type": "fragment"
    }
   },
   "source": [
    "The 20-Newsgroups dataset contains about 6k data posts from 1,135 GSWA reports. \n",
    "\n",
    "The dataset can be imported using `pandas.read_json` and we can see the dataset has 3 columns. The `target-name` is the category or topics that the news is manually assigned to. \n",
    "\n",
    "We choose to use this dataset because it has pre-assigned categories according to topics, so our clustering results can be readily compared. In real world data, this is not always easily available. "
   ]
  },
  {
   "cell_type": "code",
   "execution_count": 7,
   "metadata": {
    "scrolled": true,
    "slideshow": {
     "slide_type": "fragment"
    }
   },
   "outputs": [],
   "source": [
    "corpus_path = r\"../data/wamex_xml.zip\""
   ]
  },
  {
   "cell_type": "code",
   "execution_count": 8,
   "metadata": {
    "colab": {
     "base_uri": "https://localhost:8080/",
     "height": 34
    },
    "colab_type": "code",
    "executionInfo": {
     "elapsed": 3100,
     "status": "ok",
     "timestamp": 1585055269331,
     "user": {
      "displayName": "Tyler Bikaun",
      "photoUrl": "",
      "userId": "18384825377619195869"
     },
     "user_tz": -480
    },
    "id": "LxhLbOgZDt3w",
    "outputId": "ec1eab80-3958-4175-c77f-401a2bd1d81f",
    "slideshow": {
     "slide_type": "subslide"
    }
   },
   "outputs": [],
   "source": [
    "corpus = list()\n",
    "with zipfile.ZipFile(corpus_path, \"r\") as z:\n",
    "    for filename in z.namelist():\n",
    "        with z.open(filename) as f:\n",
    "            # load the json file\n",
    "            # The resulting `content` is a list\n",
    "            content = json.loads(f.read()) \n",
    "            # Convert content to a string   \n",
    "            content = \"\".join(content)\n",
    "            # Add to the data list\n",
    "            corpus.append(content)"
   ]
  },
  {
   "cell_type": "code",
   "execution_count": 10,
   "metadata": {
    "colab": {
     "base_uri": "https://localhost:8080/",
     "height": 1000
    },
    "colab_type": "code",
    "executionInfo": {
     "elapsed": 1051,
     "status": "ok",
     "timestamp": 1585055269332,
     "user": {
      "displayName": "Tyler Bikaun",
      "photoUrl": "",
      "userId": "18384825377619195869"
     },
     "user_tz": -480
    },
    "id": "tbH1YzboEla8",
    "outputId": "5a26846d-d56d-4518-a827-6153eaac9ba5",
    "scrolled": true,
    "slideshow": {
     "slide_type": "subslide"
    }
   },
   "outputs": [
    {
     "name": "stdout",
     "output_type": "stream",
     "text": [
      "['Combined Reporting Application Pending Status: Sheet 1:250 000: Kalgoorlie '\n",
      " '(SH 51-09) Sheet 1:100 000: Kalgoorlie (3136) Project Operator: Cazaly '\n",
      " 'Resources Limited Author: M Watts Date: September 2006 Distribution: '\n",
      " '1.Department of Industry and Resources 2.Cazaly Resources Limited Cazaly '\n",
      " 'Resources Limited September 2006 2 Figure 2: Castle Hill Project Tenement '\n",
      " 'Location Plan, 1: 75 000 scale 6 Figure 3: Regional Geology with Exploration '\n",
      " 'Index Map, 1:75 000 scale 8Cazaly Resources Limited September 2006 3 1.0 '\n",
      " 'SUMMARY The Combined Mineral Exploration Report on the Castle Hill Project '\n",
      " 'details exploration activities undertaken by Cazaly Resources Limited during '\n",
      " 'the reporting period from 7 July 2005 to 6 July 2006.The reporting group '\n",
      " 'known as Castle Hill comprises nine granted prospecting licences.The project '\n",
      " 'area covers some 1250 hectares.Cazaly is the registered holder of the Castle '\n",
      " 'Hill Project tenements.Cazalys exploration activities during the reporting '\n",
      " 'period have been directed towards the acquisition of available reports and '\n",
      " 'datasets relating to previous exploration activities within the project area '\n",
      " 'and assessing the gold and nickel potential of the project area.Following '\n",
      " 'the data review, the Castle Hill Project was not rated as highly as other '\n",
      " 'nearby Project areas managed by Cazaly.2.0 INTRODUCTION The Combined Mineral '\n",
      " 'Exploration Report on the Castle Hill Project details exploration work '\n",
      " 'undertaken by Cazaly Resources Limited (Cazaly) during the reporting period '\n",
      " 'from 7 July 2005 to 6 July 2006.The Castle Hill Project area is located 45km '\n",
      " 'WNW of Kalgoorlie (Figure 1) and lies within the Kunanalling District of the '\n",
      " 'Coolgardie Mineral Field on the Kalgoorlie (3136) 1:100,000 and the '\n",
      " 'Kalgoorlie (SH51-09) 1:250,000 map sheets.3.0 TENURE The reporting group '\n",
      " 'known as Castle Hill comprises nine granted prospecting licences.The project '\n",
      " 'area covers some 1250 hectares.Refer to Table 1 and Figure 2 for further '\n",
      " 'details.Cazaly is the registered holder of the Castle Hill Project tenements '\n",
      " 'An application for the combined reporting of these tenements to be added to '\n",
      " 'Combined Reporting Group C 99/1994 has been lodged.Cazaly Resources Limited '\n",
      " 'September 2006 7 4.0 GEOLOGY 4.1 Regional Geology The Castle Hill project '\n",
      " 'area lies within the Norseman Wiluna Archaean Greenstone belt in the Eastern '\n",
      " 'Goldfields province of the Yilgarn Craton.The Belt is characterised by '\n",
      " 'thick, possibly rift controlled, sequences of ultramafic, mafic, felsic '\n",
      " 'volcanic, clastic and intrusive rocks.Greenstone successions of the southern '\n",
      " 'Eastern Goldfields have been segregated into elongate structural terranes '\n",
      " 'bounded by regional NNW-trending D2 faults (Swager, 1997).The lower parts of '\n",
      " 'the supracrustal successions are characterised by submarine mafic ultramafic '\n",
      " 'rocks with thin interflow sediments.These are overlain by mostly subaqueous '\n",
      " 'felsic volcaniclastics.In the Kalgoorlie Terrane, this stratigraphic '\n",
      " 'sequence is extremely consistent, with felsic volcanism generally '\n",
      " 'post-dating mafic/ultramafic volcanism.Felsic volcanism is observed to occur '\n",
      " 'in both the upper and lower parts of the succession.Coarse clastics to '\n",
      " 'conglomeratic sequences (i.e.Kurrawang Formation) unconformably overly, or '\n",
      " 'are in faultcontact with, greenstones in synclinal basins adjacent to, or '\n",
      " 'overlying major regional faults (Swager, 1997).4.2 Local Geology The '\n",
      " 'majority of the Project area is underlain by the post-D2, high-calcic, Bali '\n",
      " 'Monzogranite which lies immediately to the west of the Coolgardie Domain, a '\n",
      " 'sub-domain of the Kalgoorlie Terrane.The northern tenements are situated to '\n",
      " 'the north of the Kintore Tonalite and are underlain by mafic and ultramafic '\n",
      " 'rocks of the Coolgardie Domain.4.3 Structural Geology Several major '\n",
      " 'structures traverse sections of the Project area, Figure 3.The '\n",
      " 'north-northwest trending (D2) Kunanalling Shear Zone (KSZ) lies along the '\n",
      " 'mafic/ultramafic contact zone within tenement P 16/2266.The late (D4) '\n",
      " 'north-northeast trending dextral Grants Patch fault cuts the Coolgardie '\n",
      " 'Domain sequence and all other structures and extends into the adjacent Bali '\n",
      " 'Monzogranite.Tenement P 16/2265 also overlies part of the Kintore Anticline '\n",
      " 'axis.Cazaly Resources Limited September 2006 9 5.0 EXPLORATION ACTIVITIES '\n",
      " 'Cazalys exploration activities during the reporting period have been '\n",
      " 'directed towards the acquisition of available reports and datasets relating '\n",
      " 'to previous exploration activities within the project area and assessing the '\n",
      " 'gold and nickel potential of the project area.5.1 Project Review Following a '\n",
      " 'field inspection of the whole Project area, all available data on the '\n",
      " 'project was reviewed in-house in conjunction with other data pertaining to '\n",
      " 'the nearby Kunanalling Shear Zone.Targets and tenements were then rated on '\n",
      " 'their potential to host an economic gold deposit and classified '\n",
      " 'accordingly.This information will be utilized when considering future '\n",
      " 'exploration programs across the tenement group.5.2 Nickel Review The Castle '\n",
      " 'Hill Project was included in the Cazaly - Consolidated Minerals Limited '\n",
      " '(Consmin) Joint Venture which explored the Kunanalling region for nickel '\n",
      " 'mineralisation.The nickel potential of the Castle Hill Project area '\n",
      " 'tenements was reviewed during October and November of the reporting year.The '\n",
      " 'initial review highlighted anomalies coincident with Ni/Cr x Cu/Zn ratios '\n",
      " 'along the basalt/ultramafic contact immediately to the east of P '\n",
      " '16/2255.This area was subsequently RAB drilled by Consmin.6.0 CONCLUSION '\n",
      " 'Cazalys exploration activities during the reporting period have been '\n",
      " 'directed towards the acquisition of available reports and datasets relating '\n",
      " 'to previous exploration activities within the project area and assessing the '\n",
      " 'gold and nickel potential of the project area.Following the data review, the '\n",
      " 'Castle Hill Project was not rated as highly as other nearby Project areas '\n",
      " 'managed by Cazaly.(1997), Structural evolution of greenstone terranes in the '\n",
      " 'southern Eastern Goldfields, Western Australia, in Cassidy, C.F, Whitaker, '\n",
      " 'A.J., and Liu, S.F.']\n"
     ]
    },
    {
     "data": {
      "application/javascript": [
       "\n",
       "            setTimeout(function() {\n",
       "                var nbb_cell_id = 10;\n",
       "                var nbb_unformatted_code = \"pprint(corpus[:1])\";\n",
       "                var nbb_formatted_code = \"pprint(corpus[:1])\";\n",
       "                var nbb_cells = Jupyter.notebook.get_cells();\n",
       "                for (var i = 0; i < nbb_cells.length; ++i) {\n",
       "                    if (nbb_cells[i].input_prompt_number == nbb_cell_id) {\n",
       "                        if (nbb_cells[i].get_text() == nbb_unformatted_code) {\n",
       "                             nbb_cells[i].set_text(nbb_formatted_code);\n",
       "                        }\n",
       "                        break;\n",
       "                    }\n",
       "                }\n",
       "            }, 500);\n",
       "            "
      ],
      "text/plain": [
       "<IPython.core.display.Javascript object>"
      ]
     },
     "metadata": {},
     "output_type": "display_data"
    }
   ],
   "source": [
    "pprint(corpus[:1])"
   ]
  },
  {
   "cell_type": "markdown",
   "metadata": {
    "colab_type": "text",
    "id": "YCpmfWmvDt3z",
    "slideshow": {
     "slide_type": "slide"
    }
   },
   "source": [
    "## Pre-processing <a name=\"preprocessing\"></a>"
   ]
  },
  {
   "cell_type": "markdown",
   "metadata": {
    "slideshow": {
     "slide_type": "fragment"
    }
   },
   "source": [
    "Before performing topic modelling, we need to pre-process our corpus. Here we will remove unnecessary information using regular expressions via `re`."
   ]
  },
  {
   "cell_type": "code",
   "execution_count": 9,
   "metadata": {
    "slideshow": {
     "slide_type": "fragment"
    }
   },
   "outputs": [],
   "source": [
    "# Create set of English stopwords and include domain-specific words \n",
    "stop_words = stopwords.words('english')\n",
    "stop_words.extend(['from', 'subject', 're', 'edu', 'use'])"
   ]
  },
  {
   "cell_type": "markdown",
   "metadata": {
    "slideshow": {
     "slide_type": "subslide"
    }
   },
   "source": [
    "Initialize spacy 'en' model, keeping only tagger component (for efficiency)"
   ]
  },
  {
   "cell_type": "code",
   "execution_count": 10,
   "metadata": {
    "slideshow": {
     "slide_type": "fragment"
    }
   },
   "outputs": [
    {
     "name": "stdout",
     "output_type": "stream",
     "text": [
      "Defaulting to user installation because normal site-packages is not writeable\n",
      "Collecting en-core-web-sm==3.4.1\n",
      "  Downloading https://github.com/explosion/spacy-models/releases/download/en_core_web_sm-3.4.1/en_core_web_sm-3.4.1-py3-none-any.whl (12.8 MB)\n",
      "Requirement already satisfied: spacy<3.5.0,>=3.4.0 in /home/jupyter-wei.liu/.local/lib/python3.9/site-packages (from en-core-web-sm==3.4.1) (3.4.3)\n",
      "Requirement already satisfied: wasabi<1.1.0,>=0.9.1 in /home/jupyter-wei.liu/.local/lib/python3.9/site-packages (from spacy<3.5.0,>=3.4.0->en-core-web-sm==3.4.1) (0.10.1)\n",
      "Requirement already satisfied: spacy-legacy<3.1.0,>=3.0.10 in /home/jupyter-wei.liu/.local/lib/python3.9/site-packages (from spacy<3.5.0,>=3.4.0->en-core-web-sm==3.4.1) (3.0.10)\n",
      "Requirement already satisfied: tqdm<5.0.0,>=4.38.0 in /opt/tljh/user/lib/python3.9/site-packages (from spacy<3.5.0,>=3.4.0->en-core-web-sm==3.4.1) (4.62.3)\n",
      "Requirement already satisfied: numpy>=1.15.0 in /home/jupyter-wei.liu/.local/lib/python3.9/site-packages (from spacy<3.5.0,>=3.4.0->en-core-web-sm==3.4.1) (1.23.5)\n",
      "Requirement already satisfied: preshed<3.1.0,>=3.0.2 in /home/jupyter-wei.liu/.local/lib/python3.9/site-packages (from spacy<3.5.0,>=3.4.0->en-core-web-sm==3.4.1) (3.0.8)\n",
      "Requirement already satisfied: cymem<2.1.0,>=2.0.2 in /home/jupyter-wei.liu/.local/lib/python3.9/site-packages (from spacy<3.5.0,>=3.4.0->en-core-web-sm==3.4.1) (2.0.7)\n",
      "Requirement already satisfied: typer<0.8.0,>=0.3.0 in /home/jupyter-wei.liu/.local/lib/python3.9/site-packages (from spacy<3.5.0,>=3.4.0->en-core-web-sm==3.4.1) (0.7.0)\n",
      "Requirement already satisfied: catalogue<2.1.0,>=2.0.6 in /home/jupyter-wei.liu/.local/lib/python3.9/site-packages (from spacy<3.5.0,>=3.4.0->en-core-web-sm==3.4.1) (2.0.8)\n",
      "Requirement already satisfied: srsly<3.0.0,>=2.4.3 in /home/jupyter-wei.liu/.local/lib/python3.9/site-packages (from spacy<3.5.0,>=3.4.0->en-core-web-sm==3.4.1) (2.4.5)\n",
      "Requirement already satisfied: murmurhash<1.1.0,>=0.28.0 in /home/jupyter-wei.liu/.local/lib/python3.9/site-packages (from spacy<3.5.0,>=3.4.0->en-core-web-sm==3.4.1) (1.0.9)\n",
      "Requirement already satisfied: packaging>=20.0 in /opt/tljh/user/lib/python3.9/site-packages (from spacy<3.5.0,>=3.4.0->en-core-web-sm==3.4.1) (21.3)\n",
      "Requirement already satisfied: pydantic!=1.8,!=1.8.1,<1.11.0,>=1.7.4 in /home/jupyter-wei.liu/.local/lib/python3.9/site-packages (from spacy<3.5.0,>=3.4.0->en-core-web-sm==3.4.1) (1.10.2)\n",
      "Requirement already satisfied: spacy-loggers<2.0.0,>=1.0.0 in /home/jupyter-wei.liu/.local/lib/python3.9/site-packages (from spacy<3.5.0,>=3.4.0->en-core-web-sm==3.4.1) (1.0.3)\n",
      "Requirement already satisfied: requests<3.0.0,>=2.13.0 in /opt/tljh/user/lib/python3.9/site-packages (from spacy<3.5.0,>=3.4.0->en-core-web-sm==3.4.1) (2.26.0)\n",
      "Requirement already satisfied: thinc<8.2.0,>=8.1.0 in /home/jupyter-wei.liu/.local/lib/python3.9/site-packages (from spacy<3.5.0,>=3.4.0->en-core-web-sm==3.4.1) (8.1.5)\n",
      "Requirement already satisfied: langcodes<4.0.0,>=3.2.0 in /home/jupyter-wei.liu/.local/lib/python3.9/site-packages (from spacy<3.5.0,>=3.4.0->en-core-web-sm==3.4.1) (3.3.0)\n",
      "Requirement already satisfied: jinja2 in /opt/tljh/user/lib/python3.9/site-packages (from spacy<3.5.0,>=3.4.0->en-core-web-sm==3.4.1) (3.1.2)\n",
      "Requirement already satisfied: pathy>=0.3.5 in /home/jupyter-wei.liu/.local/lib/python3.9/site-packages (from spacy<3.5.0,>=3.4.0->en-core-web-sm==3.4.1) (0.10.0)\n",
      "Requirement already satisfied: setuptools in /opt/tljh/user/lib/python3.9/site-packages (from spacy<3.5.0,>=3.4.0->en-core-web-sm==3.4.1) (58.2.0)\n",
      "Requirement already satisfied: pyparsing!=3.0.5,>=2.0.2 in /opt/tljh/user/lib/python3.9/site-packages (from packaging>=20.0->spacy<3.5.0,>=3.4.0->en-core-web-sm==3.4.1) (3.0.9)\n",
      "Requirement already satisfied: smart-open<6.0.0,>=5.2.1 in /home/jupyter-wei.liu/.local/lib/python3.9/site-packages (from pathy>=0.3.5->spacy<3.5.0,>=3.4.0->en-core-web-sm==3.4.1) (5.2.1)\n",
      "Requirement already satisfied: typing-extensions>=4.1.0 in /home/jupyter-wei.liu/.local/lib/python3.9/site-packages (from pydantic!=1.8,!=1.8.1,<1.11.0,>=1.7.4->spacy<3.5.0,>=3.4.0->en-core-web-sm==3.4.1) (4.4.0)\n",
      "Requirement already satisfied: charset-normalizer~=2.0.0 in /opt/tljh/user/lib/python3.9/site-packages (from requests<3.0.0,>=2.13.0->spacy<3.5.0,>=3.4.0->en-core-web-sm==3.4.1) (2.0.0)\n",
      "Requirement already satisfied: idna<4,>=2.5 in /opt/tljh/user/lib/python3.9/site-packages (from requests<3.0.0,>=2.13.0->spacy<3.5.0,>=3.4.0->en-core-web-sm==3.4.1) (3.1)\n",
      "Requirement already satisfied: urllib3<1.27,>=1.21.1 in /opt/tljh/user/lib/python3.9/site-packages (from requests<3.0.0,>=2.13.0->spacy<3.5.0,>=3.4.0->en-core-web-sm==3.4.1) (1.26.7)\n",
      "Requirement already satisfied: certifi>=2017.4.17 in /opt/tljh/user/lib/python3.9/site-packages (from requests<3.0.0,>=2.13.0->spacy<3.5.0,>=3.4.0->en-core-web-sm==3.4.1) (2022.6.15)\n",
      "Requirement already satisfied: blis<0.8.0,>=0.7.8 in /home/jupyter-wei.liu/.local/lib/python3.9/site-packages (from thinc<8.2.0,>=8.1.0->spacy<3.5.0,>=3.4.0->en-core-web-sm==3.4.1) (0.7.9)\n",
      "Requirement already satisfied: confection<1.0.0,>=0.0.1 in /home/jupyter-wei.liu/.local/lib/python3.9/site-packages (from thinc<8.2.0,>=8.1.0->spacy<3.5.0,>=3.4.0->en-core-web-sm==3.4.1) (0.0.3)\n",
      "Requirement already satisfied: click<9.0.0,>=7.1.1 in /home/jupyter-wei.liu/.local/lib/python3.9/site-packages (from typer<0.8.0,>=0.3.0->spacy<3.5.0,>=3.4.0->en-core-web-sm==3.4.1) (8.1.3)\n",
      "Requirement already satisfied: MarkupSafe>=2.0 in /opt/tljh/user/lib/python3.9/site-packages (from jinja2->spacy<3.5.0,>=3.4.0->en-core-web-sm==3.4.1) (2.1.1)\n",
      "\u001b[38;5;2m✔ Download and installation successful\u001b[0m\n",
      "You can now load the package via spacy.load('en_core_web_sm')\n"
     ]
    }
   ],
   "source": [
    "from spacy.cli import download\n",
    "\n",
    "download(\"en_core_web_sm\")"
   ]
  },
  {
   "cell_type": "code",
   "execution_count": 11,
   "metadata": {
    "scrolled": true,
    "slideshow": {
     "slide_type": "subslide"
    }
   },
   "outputs": [],
   "source": [
    "nlp = spacy.load('en_core_web_sm', disable=['parser', 'ner'])"
   ]
  },
  {
   "cell_type": "code",
   "execution_count": 12,
   "metadata": {
    "slideshow": {
     "slide_type": "subslide"
    }
   },
   "outputs": [],
   "source": [
    "def lemmatize_doc(tokenized_doc: List[str], allowed_postags:list=['NOUN', 'ADJ', 'VERB', 'ADV']) -> List[str]:\n",
    "    '''Document lemmatization using SpaCy\n",
    "        \n",
    "        Ref:\n",
    "        - https://spacy.io/api/annotation\n",
    "    '''\n",
    "    \n",
    "    spacy_doc = nlp(\" \".join(tokenized_doc))\n",
    "    doc_out = []\n",
    "    for token in spacy_doc:\n",
    "        if token.pos_ in allowed_postags:\n",
    "            doc_out.append(token.lemma_)\n",
    "        else:\n",
    "            doc_out.append(token.text)\n",
    "    return doc_out"
   ]
  },
  {
   "cell_type": "code",
   "execution_count": 13,
   "metadata": {
    "slideshow": {
     "slide_type": "subslide"
    }
   },
   "outputs": [],
   "source": [
    "def preprocess_and_tokenize_corpus(corpus: List[str],\n",
    "                      stopwords: List[str],\n",
    "                      allowed_postags:list=['NOUN', 'ADJ', 'VERB', 'ADV']) -> List[List[str]]:\n",
    "    '''\n",
    "    Preprocesses a corpus of texts. \n",
    "    '''\n",
    "    \n",
    "    preprocessed_corpus = []\n",
    "    for doc in corpus:\n",
    "        if len(\" \".join(doc))==0 or len(\" \".join(doc))>1000000:\n",
    "            pass\n",
    "        else:\n",
    "            # Remove Figure No.'s\n",
    "            doc = re.sub('Figure\\s+\\d+', '', doc)\n",
    "            # Remove all numbers\n",
    "            doc = re.sub('\\d+', '', doc)\n",
    "            # Remove new line characters\n",
    "            doc = re.sub('\\s+', ' ', doc)\n",
    "            # Remove distracting single quotes\n",
    "            doc = re.sub(\"\\'\", '', doc)\n",
    "            # Run Gensim's simple_preprocesser - this tokenizes the document\n",
    "            doc = simple_preprocess(str(doc), deacc=True)\n",
    "            # Remove stopwords\n",
    "            doc = [word for word in doc if word not in stopwords]\n",
    "            # Lemmatize\n",
    "            doc = lemmatize_doc(doc)\n",
    "            \n",
    "            preprocessed_corpus.append(doc)\n",
    "    return preprocessed_corpus"
   ]
  },
  {
   "cell_type": "code",
   "execution_count": 16,
   "metadata": {
    "scrolled": true,
    "slideshow": {
     "slide_type": "subslide"
    }
   },
   "outputs": [],
   "source": [
    "# Pre-process and tokenize corpus\n",
    "# this may take a while 5-10 mins\n",
    "tokenized_corpus = preprocess_and_tokenize_corpus(corpus=corpus, stopwords=stop_words)"
   ]
  },
  {
   "cell_type": "code",
   "execution_count": 17,
   "metadata": {
    "slideshow": {
     "slide_type": "fragment"
    }
   },
   "outputs": [
    {
     "name": "stdout",
     "output_type": "stream",
     "text": [
      "[['combine',\n",
      "  'reporting',\n",
      "  'application',\n",
      "  'pende',\n",
      "  'status',\n",
      "  'sheet',\n",
      "  'kalgoorlie',\n",
      "  'sh',\n",
      "  'sheet',\n",
      "  'kalgoorlie',\n",
      "  'project',\n",
      "  'operator',\n",
      "  'cazaly',\n",
      "  'resources',\n",
      "  'limited',\n",
      "  'author',\n",
      "  'watts',\n",
      "  'date',\n",
      "  'september',\n",
      "  'distribution',\n",
      "  'department',\n",
      "  'industry',\n",
      "  'resource',\n",
      "  'cazaly',\n",
      "  'resources',\n",
      "  'limited',\n",
      "  'cazaly',\n",
      "  'resource',\n",
      "  'limit',\n",
      "  'september',\n",
      "  'castle',\n",
      "  'hill',\n",
      "  'project',\n",
      "  'tenement',\n",
      "  'location',\n",
      "  'plan',\n",
      "  'scale',\n",
      "  'regional',\n",
      "  'geology',\n",
      "  'exploration',\n",
      "  'index',\n",
      "  'map',\n",
      "  'scale',\n",
      "  'cazaly',\n",
      "  'resource',\n",
      "  'limit',\n",
      "  'september',\n",
      "  'summary',\n",
      "  'combine',\n",
      "  'mineral',\n",
      "  'exploration',\n",
      "  'report',\n",
      "  'castle',\n",
      "  'hill',\n",
      "  'project',\n",
      "  'detail',\n",
      "  'exploration',\n",
      "  'activity',\n",
      "  'undertake',\n",
      "  'cazaly',\n",
      "  'resources',\n",
      "  'limited',\n",
      "  'reporting',\n",
      "  'period',\n",
      "  'july',\n",
      "  'july',\n",
      "  'report',\n",
      "  'group',\n",
      "  'know',\n",
      "  'castle',\n",
      "  'hill',\n",
      "  'comprise',\n",
      "  'nine',\n",
      "  'grant',\n",
      "  'prospect',\n",
      "  'licence',\n",
      "  'project',\n",
      "  'area',\n",
      "  'cover',\n",
      "  'hectare',\n",
      "  'cazaly',\n",
      "  'register',\n",
      "  'holder',\n",
      "  'castle',\n",
      "  'hill',\n",
      "  'project',\n",
      "  'tenement',\n",
      "  'cazalys',\n",
      "  'exploration',\n",
      "  'activity',\n",
      "  'report',\n",
      "  'period',\n",
      "  'direct',\n",
      "  'towards',\n",
      "  'acquisition',\n",
      "  'available',\n",
      "  'report',\n",
      "  'dataset',\n",
      "  'relate',\n",
      "  'previous',\n",
      "  'exploration',\n",
      "  'activity',\n",
      "  'within',\n",
      "  'project',\n",
      "  'area',\n",
      "  'assess',\n",
      "  'gold',\n",
      "  'nickel',\n",
      "  'potential',\n",
      "  'project',\n",
      "  'area',\n",
      "  'follow',\n",
      "  'data',\n",
      "  'review',\n",
      "  'castle',\n",
      "  'hill',\n",
      "  'project',\n",
      "  'rate',\n",
      "  'highly',\n",
      "  'nearby',\n",
      "  'project',\n",
      "  'area',\n",
      "  'manage',\n",
      "  'cazaly',\n",
      "  'introduction',\n",
      "  'combine',\n",
      "  'mineral',\n",
      "  'exploration',\n",
      "  'report',\n",
      "  'castle',\n",
      "  'hill',\n",
      "  'project',\n",
      "  'detail',\n",
      "  'exploration',\n",
      "  'work',\n",
      "  'undertake',\n",
      "  'cazaly',\n",
      "  'resources',\n",
      "  'limited',\n",
      "  'cazaly',\n",
      "  'reporting',\n",
      "  'period',\n",
      "  'july',\n",
      "  'july',\n",
      "  'castle',\n",
      "  'hill',\n",
      "  'project',\n",
      "  'area',\n",
      "  'locate',\n",
      "  'km',\n",
      "  'wnw',\n",
      "  'kalgoorlie',\n",
      "  'lie',\n",
      "  'within',\n",
      "  'kunanalle',\n",
      "  'district',\n",
      "  'coolgardie',\n",
      "  'mineral',\n",
      "  'field',\n",
      "  'kalgoorlie',\n",
      "  'kalgoorlie',\n",
      "  'sh',\n",
      "  'map',\n",
      "  'sheet',\n",
      "  'tenure',\n",
      "  'reporting',\n",
      "  'group',\n",
      "  'know',\n",
      "  'castle',\n",
      "  'hill',\n",
      "  'comprise',\n",
      "  'nine',\n",
      "  'grant',\n",
      "  'prospect',\n",
      "  'licence',\n",
      "  'project',\n",
      "  'area',\n",
      "  'cover',\n",
      "  'hectare',\n",
      "  'refer',\n",
      "  'table',\n",
      "  'detail',\n",
      "  'cazaly',\n",
      "  'register',\n",
      "  'holder',\n",
      "  'castle',\n",
      "  'hill',\n",
      "  'project',\n",
      "  'tenement',\n",
      "  'application',\n",
      "  'combine',\n",
      "  'reporting',\n",
      "  'tenement',\n",
      "  'add',\n",
      "  'combined',\n",
      "  'reporting',\n",
      "  'group',\n",
      "  'lodge',\n",
      "  'cazaly',\n",
      "  'resource',\n",
      "  'limit',\n",
      "  'september',\n",
      "  'geology',\n",
      "  'regional',\n",
      "  'geology',\n",
      "  'castle',\n",
      "  'hill',\n",
      "  'project',\n",
      "  'area',\n",
      "  'lie',\n",
      "  'within',\n",
      "  'norseman',\n",
      "  'wiluna',\n",
      "  'archaean',\n",
      "  'greenstone',\n",
      "  'belt',\n",
      "  'eastern',\n",
      "  'goldfields',\n",
      "  'province',\n",
      "  'yilgarn',\n",
      "  'craton',\n",
      "  'belt',\n",
      "  'characterise',\n",
      "  'thick',\n",
      "  'possibly',\n",
      "  'rift',\n",
      "  'control',\n",
      "  'sequences',\n",
      "  'ultramafic',\n",
      "  'mafic',\n",
      "  'felsic',\n",
      "  'volcanic',\n",
      "  'clastic',\n",
      "  'intrusive',\n",
      "  'rock',\n",
      "  'greenstone',\n",
      "  'succession',\n",
      "  'southern',\n",
      "  'eastern',\n",
      "  'goldfield',\n",
      "  'segregate',\n",
      "  'elongate',\n",
      "  'structural',\n",
      "  'terrane',\n",
      "  'bound',\n",
      "  'regional',\n",
      "  'nnw',\n",
      "  'trend',\n",
      "  'fault',\n",
      "  'swag',\n",
      "  'low',\n",
      "  'part',\n",
      "  'supracrustal',\n",
      "  'succession',\n",
      "  'characterise',\n",
      "  'submarine',\n",
      "  'mafic',\n",
      "  'ultramafic',\n",
      "  'rock',\n",
      "  'thin',\n",
      "  'interflow',\n",
      "  'sediment',\n",
      "  'overlain',\n",
      "  'mostly',\n",
      "  'subaqueous',\n",
      "  'felsic',\n",
      "  'volcaniclastic',\n",
      "  'kalgoorlie',\n",
      "  'terrane',\n",
      "  'stratigraphic',\n",
      "  'sequence',\n",
      "  'extremely',\n",
      "  'consistent',\n",
      "  'felsic',\n",
      "  'volcanism',\n",
      "  'generally',\n",
      "  'post',\n",
      "  'date',\n",
      "  'mafic',\n",
      "  'ultramafic',\n",
      "  'volcanism',\n",
      "  'felsic',\n",
      "  'volcanism',\n",
      "  'observe',\n",
      "  'occur',\n",
      "  'upper',\n",
      "  'low',\n",
      "  'part',\n",
      "  'succession',\n",
      "  'coarse',\n",
      "  'clastics',\n",
      "  'conglomeratic',\n",
      "  'sequences',\n",
      "  'kurrawang',\n",
      "  'formation',\n",
      "  'unconformably',\n",
      "  'overly',\n",
      "  'faultcontact',\n",
      "  'greenstone',\n",
      "  'synclinal',\n",
      "  'basin',\n",
      "  'adjacent',\n",
      "  'overlie',\n",
      "  'major',\n",
      "  'regional',\n",
      "  'fault',\n",
      "  'swag',\n",
      "  'local',\n",
      "  'geology',\n",
      "  'majority',\n",
      "  'project',\n",
      "  'area',\n",
      "  'underlain',\n",
      "  'post',\n",
      "  'high',\n",
      "  'calcic',\n",
      "  'bali',\n",
      "  'monzogranite',\n",
      "  'lie',\n",
      "  'immediately',\n",
      "  'west',\n",
      "  'coolgardie',\n",
      "  'domain',\n",
      "  'sub',\n",
      "  'domain',\n",
      "  'kalgoorlie',\n",
      "  'terrane',\n",
      "  'northern',\n",
      "  'tenement',\n",
      "  'situate',\n",
      "  'north',\n",
      "  'kintore',\n",
      "  'tonalite',\n",
      "  'underlain',\n",
      "  'mafic',\n",
      "  'ultramafic',\n",
      "  'rock',\n",
      "  'coolgardie',\n",
      "  'domain',\n",
      "  'structural',\n",
      "  'geology',\n",
      "  'several',\n",
      "  'major',\n",
      "  'structure',\n",
      "  'traverse',\n",
      "  'section',\n",
      "  'project',\n",
      "  'area',\n",
      "  'north',\n",
      "  'northwest',\n",
      "  'trend',\n",
      "  'kunanalle',\n",
      "  'shear',\n",
      "  'zone',\n",
      "  'ksz',\n",
      "  'lie',\n",
      "  'along',\n",
      "  'mafic',\n",
      "  'ultramafic',\n",
      "  'contact',\n",
      "  'zone',\n",
      "  'within',\n",
      "  'tenement',\n",
      "  'late',\n",
      "  'north',\n",
      "  'northeast',\n",
      "  'trend',\n",
      "  'dextral',\n",
      "  'grant',\n",
      "  'patch',\n",
      "  'fault',\n",
      "  'cut',\n",
      "  'coolgardie',\n",
      "  'domain',\n",
      "  'sequence',\n",
      "  'structure',\n",
      "  'extend',\n",
      "  'adjacent',\n",
      "  'bali',\n",
      "  'monzogranite',\n",
      "  'tenement',\n",
      "  'also',\n",
      "  'overlie',\n",
      "  'part',\n",
      "  'kintore',\n",
      "  'anticline',\n",
      "  'axis',\n",
      "  'cazaly',\n",
      "  'resources',\n",
      "  'limit',\n",
      "  'september',\n",
      "  'exploration',\n",
      "  'activity',\n",
      "  'cazalys',\n",
      "  'exploration',\n",
      "  'activity',\n",
      "  'report',\n",
      "  'period',\n",
      "  'direct',\n",
      "  'towards',\n",
      "  'acquisition',\n",
      "  'available',\n",
      "  'report',\n",
      "  'dataset',\n",
      "  'relate',\n",
      "  'previous',\n",
      "  'exploration',\n",
      "  'activity',\n",
      "  'within',\n",
      "  'project',\n",
      "  'area',\n",
      "  'assess',\n",
      "  'gold',\n",
      "  'nickel',\n",
      "  'potential',\n",
      "  'project',\n",
      "  'area',\n",
      "  'project',\n",
      "  'review',\n",
      "  'follow',\n",
      "  'field',\n",
      "  'inspection',\n",
      "  'whole',\n",
      "  'project',\n",
      "  'area',\n",
      "  'available',\n",
      "  'datum',\n",
      "  'project',\n",
      "  'review',\n",
      "  'house',\n",
      "  'conjunction',\n",
      "  'datum',\n",
      "  'pertain',\n",
      "  'nearby',\n",
      "  'kunanalle',\n",
      "  'shear',\n",
      "  'zone',\n",
      "  'target',\n",
      "  'tenement',\n",
      "  'rate',\n",
      "  'potential',\n",
      "  'host',\n",
      "  'economic',\n",
      "  'gold',\n",
      "  'deposit',\n",
      "  'classify',\n",
      "  'accordingly',\n",
      "  'information',\n",
      "  'utilize',\n",
      "  'consider',\n",
      "  'future',\n",
      "  'exploration',\n",
      "  'program',\n",
      "  'across',\n",
      "  'tenement',\n",
      "  'group',\n",
      "  'nickel',\n",
      "  'review',\n",
      "  'castle',\n",
      "  'hill',\n",
      "  'project',\n",
      "  'include',\n",
      "  'cazaly',\n",
      "  'consolidated',\n",
      "  'minerals',\n",
      "  'limit',\n",
      "  'consmin',\n",
      "  'joint',\n",
      "  'venture',\n",
      "  'explore',\n",
      "  'kunanalle',\n",
      "  'region',\n",
      "  'nickel',\n",
      "  'mineralisation',\n",
      "  'nickel',\n",
      "  'potential',\n",
      "  'castle',\n",
      "  'hill',\n",
      "  'project',\n",
      "  'area',\n",
      "  'tenement',\n",
      "  'review',\n",
      "  'october',\n",
      "  'november',\n",
      "  'report',\n",
      "  'year',\n",
      "  'initial',\n",
      "  'review',\n",
      "  'highlight',\n",
      "  'anomaly',\n",
      "  'coincident',\n",
      "  'ni',\n",
      "  'cr',\n",
      "  'cu',\n",
      "  'zn',\n",
      "  'ratio',\n",
      "  'along',\n",
      "  'basalt',\n",
      "  'ultramafic',\n",
      "  'contact',\n",
      "  'immediately',\n",
      "  'east',\n",
      "  'area',\n",
      "  'subsequently',\n",
      "  'rab',\n",
      "  'drill',\n",
      "  'consmin',\n",
      "  'conclusion',\n",
      "  'cazalys',\n",
      "  'exploration',\n",
      "  'activity',\n",
      "  'report',\n",
      "  'period',\n",
      "  'direct',\n",
      "  'towards',\n",
      "  'acquisition',\n",
      "  'available',\n",
      "  'report',\n",
      "  'dataset',\n",
      "  'relate',\n",
      "  'previous',\n",
      "  'exploration',\n",
      "  'activity',\n",
      "  'within',\n",
      "  'project',\n",
      "  'area',\n",
      "  'assess',\n",
      "  'gold',\n",
      "  'nickel',\n",
      "  'potential',\n",
      "  'project',\n",
      "  'area',\n",
      "  'follow',\n",
      "  'data',\n",
      "  'review',\n",
      "  'castle',\n",
      "  'hill',\n",
      "  'project',\n",
      "  'rate',\n",
      "  'highly',\n",
      "  'nearby',\n",
      "  'project',\n",
      "  'area',\n",
      "  'manage',\n",
      "  'cazaly',\n",
      "  'structural',\n",
      "  'evolution',\n",
      "  'greenstone',\n",
      "  'terrane',\n",
      "  'southern',\n",
      "  'eastern',\n",
      "  'goldfields',\n",
      "  'western',\n",
      "  'australia',\n",
      "  'cassidy',\n",
      "  'whitaker',\n",
      "  'liu']]\n"
     ]
    }
   ],
   "source": [
    "# View part of pre-processed corpus\n",
    "pprint(tokenized_corpus[:1])"
   ]
  },
  {
   "cell_type": "markdown",
   "metadata": {
    "colab_type": "text",
    "id": "DwrikYaRDt3-",
    "slideshow": {
     "slide_type": "slide"
    }
   },
   "source": [
    "### Creating bigram and trigrams - Gensim’s Phrases model"
   ]
  },
  {
   "cell_type": "markdown",
   "metadata": {
    "slideshow": {
     "slide_type": "fragment"
    }
   },
   "source": [
    "Bigrams are two words frequently occurring together in the document. Trigrams are 3 words frequently occurring.\n",
    "\n",
    "Some examples in our example are: ‘front_bumper’, ‘oil_leak’, ‘maryland_college_park’ etc.\n",
    "\n",
    "Gensim’s Phrases model can build and implement the bigrams, trigrams, quadgrams and more. The two important arguments to Phrases are min_count and threshold. The higher the values of these param, the harder it is for words to be combined to bigrams."
   ]
  },
  {
   "cell_type": "markdown",
   "metadata": {
    "slideshow": {
     "slide_type": "fragment"
    }
   },
   "source": [
    "In this notebook, we focus on building a bigram model. However the code that is required to build a trigram model is made available (it just needs to be converted to a code cell)."
   ]
  },
  {
   "cell_type": "code",
   "execution_count": 18,
   "metadata": {
    "colab": {
     "base_uri": "https://localhost:8080/",
     "height": 51
    },
    "colab_type": "code",
    "executionInfo": {
     "elapsed": 25774,
     "status": "ok",
     "timestamp": 1585055301850,
     "user": {
      "displayName": "Tyler Bikaun",
      "photoUrl": "",
      "userId": "18384825377619195869"
     },
     "user_tz": -480
    },
    "id": "eQ75jfFIDt4A",
    "outputId": "49dc8044-819d-4a30-84ea-984d2a194bd1",
    "scrolled": true,
    "slideshow": {
     "slide_type": "fragment"
    }
   },
   "outputs": [],
   "source": [
    "bigram = gensim.models.Phrases(tokenized_corpus, min_count=5, threshold=100) # higher threshold fewer phrases."
   ]
  },
  {
   "cell_type": "raw",
   "metadata": {
    "slideshow": {
     "slide_type": "fragment"
    }
   },
   "source": [
    "trigram = gensim.models.Phrases(bigram[tokenized_corpus], threshold=100)  "
   ]
  },
  {
   "cell_type": "markdown",
   "metadata": {
    "slideshow": {
     "slide_type": "fragment"
    }
   },
   "source": [
    "Faster way to get a sentence clubbed as a trigram/bigram"
   ]
  },
  {
   "cell_type": "code",
   "execution_count": 19,
   "metadata": {
    "colab": {},
    "colab_type": "code",
    "id": "3T09XJCTE6tc",
    "slideshow": {
     "slide_type": "fragment"
    }
   },
   "outputs": [],
   "source": [
    "bigram_mod = gensim.models.phrases.Phraser(bigram)"
   ]
  },
  {
   "cell_type": "raw",
   "metadata": {
    "slideshow": {
     "slide_type": "fragment"
    }
   },
   "source": [
    "trigram_mod = gensim.models.phrases.Phraser(trigram)"
   ]
  },
  {
   "cell_type": "markdown",
   "metadata": {
    "slideshow": {
     "slide_type": "subslide"
    }
   },
   "source": [
    "### View example of bigram model"
   ]
  },
  {
   "cell_type": "code",
   "execution_count": 20,
   "metadata": {
    "slideshow": {
     "slide_type": "fragment"
    }
   },
   "outputs": [
    {
     "name": "stdout",
     "output_type": "stream",
     "text": [
      "['combine',\n",
      " 'reporting',\n",
      " 'application',\n",
      " 'pende',\n",
      " 'status',\n",
      " 'sheet',\n",
      " 'kalgoorlie',\n",
      " 'sh',\n",
      " 'sheet',\n",
      " 'kalgoorlie',\n",
      " 'project',\n",
      " 'operator',\n",
      " 'cazaly_resources',\n",
      " 'limited',\n",
      " 'author',\n",
      " 'watts',\n",
      " 'date',\n",
      " 'september',\n",
      " 'distribution',\n",
      " 'department_industry',\n",
      " 'resource',\n",
      " 'cazaly_resources',\n",
      " 'limited',\n",
      " 'cazaly',\n",
      " 'resource',\n",
      " 'limit',\n",
      " 'september',\n",
      " 'castle_hill',\n",
      " 'project',\n",
      " 'tenement',\n",
      " 'location',\n",
      " 'plan',\n",
      " 'scale',\n",
      " 'regional',\n",
      " 'geology',\n",
      " 'exploration',\n",
      " 'index',\n",
      " 'map',\n",
      " 'scale',\n",
      " 'cazaly',\n",
      " 'resource',\n",
      " 'limit',\n",
      " 'september',\n",
      " 'summary',\n",
      " 'combine',\n",
      " 'mineral',\n",
      " 'exploration',\n",
      " 'report',\n",
      " 'castle_hill',\n",
      " 'project',\n",
      " 'detail',\n",
      " 'exploration',\n",
      " 'activity',\n",
      " 'undertake',\n",
      " 'cazaly_resources',\n",
      " 'limited',\n",
      " 'reporting_period',\n",
      " 'july',\n",
      " 'july',\n",
      " 'report',\n",
      " 'group',\n",
      " 'know',\n",
      " 'castle_hill',\n",
      " 'comprise',\n",
      " 'nine',\n",
      " 'grant',\n",
      " 'prospect',\n",
      " 'licence',\n",
      " 'project',\n",
      " 'area',\n",
      " 'cover',\n",
      " 'hectare_cazaly',\n",
      " 'register_holder',\n",
      " 'castle_hill',\n",
      " 'project',\n",
      " 'tenement',\n",
      " 'cazalys',\n",
      " 'exploration',\n",
      " 'activity',\n",
      " 'report',\n",
      " 'period',\n",
      " 'direct_towards',\n",
      " 'acquisition',\n",
      " 'available',\n",
      " 'report',\n",
      " 'dataset',\n",
      " 'relate',\n",
      " 'previous',\n",
      " 'exploration',\n",
      " 'activity',\n",
      " 'within',\n",
      " 'project',\n",
      " 'area',\n",
      " 'assess',\n",
      " 'gold',\n",
      " 'nickel',\n",
      " 'potential',\n",
      " 'project',\n",
      " 'area',\n",
      " 'follow',\n",
      " 'data',\n",
      " 'review',\n",
      " 'castle_hill',\n",
      " 'project',\n",
      " 'rate',\n",
      " 'highly',\n",
      " 'nearby',\n",
      " 'project',\n",
      " 'area',\n",
      " 'manage',\n",
      " 'cazaly',\n",
      " 'introduction',\n",
      " 'combine',\n",
      " 'mineral',\n",
      " 'exploration',\n",
      " 'report',\n",
      " 'castle_hill',\n",
      " 'project',\n",
      " 'detail',\n",
      " 'exploration',\n",
      " 'work',\n",
      " 'undertake',\n",
      " 'cazaly_resources',\n",
      " 'limited',\n",
      " 'cazaly',\n",
      " 'reporting_period',\n",
      " 'july',\n",
      " 'july',\n",
      " 'castle_hill',\n",
      " 'project',\n",
      " 'area',\n",
      " 'locate',\n",
      " 'km',\n",
      " 'wnw',\n",
      " 'kalgoorlie',\n",
      " 'lie',\n",
      " 'within',\n",
      " 'kunanalle',\n",
      " 'district',\n",
      " 'coolgardie',\n",
      " 'mineral',\n",
      " 'field',\n",
      " 'kalgoorlie',\n",
      " 'kalgoorlie',\n",
      " 'sh',\n",
      " 'map',\n",
      " 'sheet',\n",
      " 'tenure',\n",
      " 'reporting',\n",
      " 'group',\n",
      " 'know',\n",
      " 'castle_hill',\n",
      " 'comprise',\n",
      " 'nine',\n",
      " 'grant',\n",
      " 'prospect',\n",
      " 'licence',\n",
      " 'project',\n",
      " 'area',\n",
      " 'cover',\n",
      " 'hectare',\n",
      " 'refer',\n",
      " 'table',\n",
      " 'detail',\n",
      " 'cazaly',\n",
      " 'register_holder',\n",
      " 'castle_hill',\n",
      " 'project',\n",
      " 'tenement',\n",
      " 'application',\n",
      " 'combine',\n",
      " 'reporting',\n",
      " 'tenement',\n",
      " 'add',\n",
      " 'combined',\n",
      " 'reporting',\n",
      " 'group',\n",
      " 'lodge',\n",
      " 'cazaly',\n",
      " 'resource',\n",
      " 'limit',\n",
      " 'september',\n",
      " 'geology',\n",
      " 'regional',\n",
      " 'geology',\n",
      " 'castle_hill',\n",
      " 'project',\n",
      " 'area',\n",
      " 'lie',\n",
      " 'within',\n",
      " 'norseman_wiluna',\n",
      " 'archaean',\n",
      " 'greenstone_belt',\n",
      " 'eastern_goldfields',\n",
      " 'province',\n",
      " 'yilgarn_craton',\n",
      " 'belt',\n",
      " 'characterise',\n",
      " 'thick',\n",
      " 'possibly_rift',\n",
      " 'control',\n",
      " 'sequences',\n",
      " 'ultramafic',\n",
      " 'mafic',\n",
      " 'felsic',\n",
      " 'volcanic',\n",
      " 'clastic',\n",
      " 'intrusive',\n",
      " 'rock',\n",
      " 'greenstone',\n",
      " 'succession',\n",
      " 'southern',\n",
      " 'eastern_goldfield',\n",
      " 'segregate_elongate',\n",
      " 'structural',\n",
      " 'terrane',\n",
      " 'bound',\n",
      " 'regional',\n",
      " 'nnw',\n",
      " 'trend',\n",
      " 'fault',\n",
      " 'swag',\n",
      " 'low',\n",
      " 'part',\n",
      " 'supracrustal_succession',\n",
      " 'characterise',\n",
      " 'submarine',\n",
      " 'mafic',\n",
      " 'ultramafic',\n",
      " 'rock',\n",
      " 'thin',\n",
      " 'interflow_sediment',\n",
      " 'overlain',\n",
      " 'mostly',\n",
      " 'subaqueous',\n",
      " 'felsic',\n",
      " 'volcaniclastic',\n",
      " 'kalgoorlie',\n",
      " 'terrane',\n",
      " 'stratigraphic',\n",
      " 'sequence',\n",
      " 'extremely',\n",
      " 'consistent',\n",
      " 'felsic_volcanism',\n",
      " 'generally',\n",
      " 'post',\n",
      " 'date',\n",
      " 'mafic',\n",
      " 'ultramafic',\n",
      " 'volcanism',\n",
      " 'felsic_volcanism',\n",
      " 'observe',\n",
      " 'occur',\n",
      " 'upper',\n",
      " 'low',\n",
      " 'part',\n",
      " 'succession',\n",
      " 'coarse',\n",
      " 'clastics_conglomeratic',\n",
      " 'sequences_kurrawang',\n",
      " 'formation',\n",
      " 'unconformably_overly',\n",
      " 'faultcontact',\n",
      " 'greenstone',\n",
      " 'synclinal',\n",
      " 'basin',\n",
      " 'adjacent',\n",
      " 'overlie',\n",
      " 'major',\n",
      " 'regional',\n",
      " 'fault',\n",
      " 'swag',\n",
      " 'local',\n",
      " 'geology',\n",
      " 'majority',\n",
      " 'project',\n",
      " 'area',\n",
      " 'underlain',\n",
      " 'post',\n",
      " 'high',\n",
      " 'calcic_bali',\n",
      " 'monzogranite',\n",
      " 'lie',\n",
      " 'immediately',\n",
      " 'west',\n",
      " 'coolgardie',\n",
      " 'domain',\n",
      " 'sub',\n",
      " 'domain',\n",
      " 'kalgoorlie',\n",
      " 'terrane',\n",
      " 'northern',\n",
      " 'tenement',\n",
      " 'situate',\n",
      " 'north',\n",
      " 'kintore_tonalite',\n",
      " 'underlain',\n",
      " 'mafic',\n",
      " 'ultramafic',\n",
      " 'rock',\n",
      " 'coolgardie',\n",
      " 'domain',\n",
      " 'structural',\n",
      " 'geology',\n",
      " 'several',\n",
      " 'major',\n",
      " 'structure',\n",
      " 'traverse',\n",
      " 'section',\n",
      " 'project',\n",
      " 'area',\n",
      " 'north',\n",
      " 'northwest',\n",
      " 'trend',\n",
      " 'kunanalle',\n",
      " 'shear',\n",
      " 'zone',\n",
      " 'ksz',\n",
      " 'lie',\n",
      " 'along',\n",
      " 'mafic',\n",
      " 'ultramafic',\n",
      " 'contact',\n",
      " 'zone',\n",
      " 'within',\n",
      " 'tenement',\n",
      " 'late',\n",
      " 'north',\n",
      " 'northeast',\n",
      " 'trend',\n",
      " 'dextral',\n",
      " 'grant',\n",
      " 'patch',\n",
      " 'fault',\n",
      " 'cut',\n",
      " 'coolgardie',\n",
      " 'domain',\n",
      " 'sequence',\n",
      " 'structure',\n",
      " 'extend',\n",
      " 'adjacent',\n",
      " 'bali_monzogranite',\n",
      " 'tenement',\n",
      " 'also',\n",
      " 'overlie',\n",
      " 'part',\n",
      " 'kintore',\n",
      " 'anticline',\n",
      " 'axis',\n",
      " 'cazaly_resources',\n",
      " 'limit',\n",
      " 'september',\n",
      " 'exploration',\n",
      " 'activity',\n",
      " 'cazalys',\n",
      " 'exploration',\n",
      " 'activity',\n",
      " 'report',\n",
      " 'period',\n",
      " 'direct_towards',\n",
      " 'acquisition',\n",
      " 'available',\n",
      " 'report',\n",
      " 'dataset',\n",
      " 'relate',\n",
      " 'previous',\n",
      " 'exploration',\n",
      " 'activity',\n",
      " 'within',\n",
      " 'project',\n",
      " 'area',\n",
      " 'assess',\n",
      " 'gold',\n",
      " 'nickel',\n",
      " 'potential',\n",
      " 'project',\n",
      " 'area',\n",
      " 'project',\n",
      " 'review',\n",
      " 'follow',\n",
      " 'field',\n",
      " 'inspection',\n",
      " 'whole',\n",
      " 'project',\n",
      " 'area',\n",
      " 'available',\n",
      " 'datum',\n",
      " 'project',\n",
      " 'review',\n",
      " 'house',\n",
      " 'conjunction',\n",
      " 'datum',\n",
      " 'pertain',\n",
      " 'nearby',\n",
      " 'kunanalle',\n",
      " 'shear',\n",
      " 'zone',\n",
      " 'target',\n",
      " 'tenement',\n",
      " 'rate',\n",
      " 'potential',\n",
      " 'host',\n",
      " 'economic',\n",
      " 'gold',\n",
      " 'deposit',\n",
      " 'classify',\n",
      " 'accordingly',\n",
      " 'information',\n",
      " 'utilize',\n",
      " 'consider',\n",
      " 'future',\n",
      " 'exploration',\n",
      " 'program',\n",
      " 'across',\n",
      " 'tenement',\n",
      " 'group',\n",
      " 'nickel',\n",
      " 'review',\n",
      " 'castle_hill',\n",
      " 'project',\n",
      " 'include',\n",
      " 'cazaly',\n",
      " 'consolidated',\n",
      " 'minerals',\n",
      " 'limit',\n",
      " 'consmin',\n",
      " 'joint_venture',\n",
      " 'explore',\n",
      " 'kunanalle',\n",
      " 'region',\n",
      " 'nickel',\n",
      " 'mineralisation',\n",
      " 'nickel',\n",
      " 'potential',\n",
      " 'castle_hill',\n",
      " 'project',\n",
      " 'area',\n",
      " 'tenement',\n",
      " 'review',\n",
      " 'october',\n",
      " 'november',\n",
      " 'report',\n",
      " 'year',\n",
      " 'initial',\n",
      " 'review',\n",
      " 'highlight',\n",
      " 'anomaly',\n",
      " 'coincident',\n",
      " 'ni',\n",
      " 'cr',\n",
      " 'cu',\n",
      " 'zn',\n",
      " 'ratio',\n",
      " 'along',\n",
      " 'basalt',\n",
      " 'ultramafic',\n",
      " 'contact',\n",
      " 'immediately',\n",
      " 'east',\n",
      " 'area',\n",
      " 'subsequently',\n",
      " 'rab',\n",
      " 'drill',\n",
      " 'consmin',\n",
      " 'conclusion',\n",
      " 'cazalys',\n",
      " 'exploration',\n",
      " 'activity',\n",
      " 'report',\n",
      " 'period',\n",
      " 'direct_towards',\n",
      " 'acquisition',\n",
      " 'available',\n",
      " 'report',\n",
      " 'dataset',\n",
      " 'relate',\n",
      " 'previous',\n",
      " 'exploration',\n",
      " 'activity',\n",
      " 'within',\n",
      " 'project',\n",
      " 'area',\n",
      " 'assess',\n",
      " 'gold',\n",
      " 'nickel',\n",
      " 'potential',\n",
      " 'project',\n",
      " 'area',\n",
      " 'follow',\n",
      " 'data',\n",
      " 'review',\n",
      " 'castle_hill',\n",
      " 'project',\n",
      " 'rate',\n",
      " 'highly',\n",
      " 'nearby',\n",
      " 'project',\n",
      " 'area',\n",
      " 'manage',\n",
      " 'cazaly',\n",
      " 'structural',\n",
      " 'evolution',\n",
      " 'greenstone',\n",
      " 'terrane',\n",
      " 'southern',\n",
      " 'eastern_goldfields',\n",
      " 'western',\n",
      " 'australia',\n",
      " 'cassidy_whitaker',\n",
      " 'liu']\n"
     ]
    }
   ],
   "source": [
    "# See example of bigram model applied to pre-processed corpus\n",
    "# e.g. Cazaly Resources Limited is a is a Perth based Australian \n",
    "# diversified mineral exploration and resource development company \n",
    "pprint(bigram_mod[tokenized_corpus[0]])"
   ]
  },
  {
   "cell_type": "raw",
   "metadata": {
    "colab": {
     "base_uri": "https://localhost:8080/",
     "height": 1000
    },
    "colab_type": "code",
    "executionInfo": {
     "elapsed": 37800,
     "status": "ok",
     "timestamp": 1585055314439,
     "user": {
      "displayName": "Tyler Bikaun",
      "photoUrl": "",
      "userId": "18384825377619195869"
     },
     "user_tz": -480
    },
    "id": "ZOG0O89bDt4D",
    "outputId": "1e42ba86-a15a-490d-e7bc-c7071058cabb",
    "scrolled": true,
    "slideshow": {
     "slide_type": "fragment"
    }
   },
   "source": [
    "# See trigram example\n",
    "pprint(trigram_mod[bigram_mod[tokenized_corpus[0]]])"
   ]
  },
  {
   "cell_type": "markdown",
   "metadata": {
    "slideshow": {
     "slide_type": "slide"
    }
   },
   "source": [
    "### Convert tokenized corpus into bi-gram phrases - this will allow the topic model to capture domain specific phrases in addition to individual words"
   ]
  },
  {
   "cell_type": "code",
   "execution_count": 21,
   "metadata": {
    "slideshow": {
     "slide_type": "fragment"
    }
   },
   "outputs": [],
   "source": [
    "bigram_corpus = [bigram_mod[tokenized_doc] for tokenized_doc in tokenized_corpus]"
   ]
  },
  {
   "cell_type": "markdown",
   "metadata": {
    "slideshow": {
     "slide_type": "subslide"
    }
   },
   "source": [
    "### To perform topic modelling with LDA we need to convert the corpus of pre-processed texts into a bag-of-words (bow) representation with count frequencies."
   ]
  },
  {
   "cell_type": "code",
   "execution_count": 22,
   "metadata": {
    "slideshow": {
     "slide_type": "fragment"
    }
   },
   "outputs": [],
   "source": [
    "# Create a dictionary that maps each word to a unique id\n",
    "id2word = corpora.Dictionary(bigram_corpus)"
   ]
  },
  {
   "cell_type": "code",
   "execution_count": 33,
   "metadata": {
    "scrolled": true,
    "slideshow": {
     "slide_type": "fragment"
    }
   },
   "outputs": [
    {
     "data": {
      "text/plain": [
       "'project'"
      ]
     },
     "execution_count": 33,
     "metadata": {},
     "output_type": "execute_result"
    }
   ],
   "source": [
    "id2word[162]"
   ]
  },
  {
   "cell_type": "markdown",
   "metadata": {
    "slideshow": {
     "slide_type": "subslide"
    }
   },
   "source": [
    "### Convert the bigram corpus into a [bag-of-words (bow) representation](https://radimrehurek.com/gensim/corpora/dictionary.html#gensim.corpora.dictionary.Dictionary.doc2bow)"
   ]
  },
  {
   "cell_type": "code",
   "execution_count": 28,
   "metadata": {
    "colab": {},
    "colab_type": "code",
    "id": "baZWBbnBDt4Z",
    "slideshow": {
     "slide_type": "subslide"
    }
   },
   "outputs": [],
   "source": [
    "bow_corpus = [id2word.doc2bow(text) for text in bigram_corpus]"
   ]
  },
  {
   "cell_type": "code",
   "execution_count": 29,
   "metadata": {
    "colab": {
     "base_uri": "https://localhost:8080/",
     "height": 54
    },
    "colab_type": "code",
    "executionInfo": {
     "elapsed": 111407,
     "status": "ok",
     "timestamp": 1585055394784,
     "user": {
      "displayName": "Tyler Bikaun",
      "photoUrl": "",
      "userId": "18384825377619195869"
     },
     "user_tz": -480
    },
    "id": "v0icteGfFXEp",
    "outputId": "e47c4732-e9bd-4da2-a7cf-6416f87af4f1",
    "slideshow": {
     "slide_type": "subslide"
    }
   },
   "outputs": [
    {
     "name": "stdout",
     "output_type": "stream",
     "text": [
      "[[(0, 1), (1, 3), (2, 1), (3, 8), (4, 1), (5, 2), (6, 2), (7, 1), (8, 1), (9, 1), (10, 2), (11, 1), (12, 17), (13, 3), (14, 1), (15, 1), (16, 4), (17, 1), (18, 1), (19, 1), (20, 1), (21, 1), (22, 1), (23, 1), (24, 1), (25, 13), (26, 8), (27, 5), (28, 3), (29, 2), (30, 1), (31, 1), (32, 1), (33, 1), (34, 1), (35, 4), (36, 1), (37, 2), (38, 1), (39, 1), (40, 1), (41, 1), (42, 2), (43, 1), (44, 2), (45, 1), (46, 4), (47, 2), (48, 1), (49, 1), (50, 1), (51, 2), (52, 3), (53, 2), (54, 2), (55, 1), (56, 1), (57, 3), (58, 1), (59, 3), (60, 1), (61, 1), (62, 4), (63, 1), (64, 1), (65, 1), (66, 2), (67, 1), (68, 1), (69, 13), (70, 1), (71, 1), (72, 1), (73, 3), (74, 1), (75, 2), (76, 2), (77, 2), (78, 3), (79, 1), (80, 1), (81, 1), (82, 5), (83, 4), (84, 3), (85, 3), (86, 1), (87, 4), (88, 1), (89, 1), (90, 1), (91, 1), (92, 2), (93, 1), (94, 1), (95, 2), (96, 1), (97, 1), (98, 1), (99, 1), (100, 1), (101, 1), (102, 1), (103, 1), (104, 1), (105, 4), (106, 7), (107, 1), (108, 1), (109, 1), (110, 2), (111, 1), (112, 4), (113, 1), (114, 2), (115, 4), (116, 5), (117, 4), (118, 1), (119, 1), (120, 1), (121, 1), (122, 1), (123, 2), (124, 5), (125, 2), (126, 1), (127, 2), (128, 2), (129, 3), (130, 1), (131, 1), (132, 1), (133, 1), (134, 3), (135, 1), (136, 6), (137, 2), (138, 1), (139, 1), (140, 3), (141, 1), (142, 1), (143, 1), (144, 1), (145, 1), (146, 1), (147, 1), (148, 1), (149, 1), (150, 2), (151, 3), (152, 1), (153, 1), (154, 3), (155, 1), (156, 1), (157, 1), (158, 2), (159, 5), (160, 3), (161, 1), (162, 27), (163, 2), (164, 1), (165, 1), (166, 3), (167, 1), (168, 1), (169, 1), (170, 4), (171, 2), (172, 3), (173, 10), (174, 4), (175, 2), (176, 4), (177, 7), (178, 3), (179, 2), (180, 1), (181, 1), (182, 5), (183, 2), (184, 1), (185, 1), (186, 1), (187, 2), (188, 2), (189, 3), (190, 1), (191, 2), (192, 1), (193, 1), (194, 3), (195, 2), (196, 1), (197, 1), (198, 1), (199, 1), (200, 2), (201, 1), (202, 1), (203, 2), (204, 1), (205, 1), (206, 1), (207, 10), (208, 1), (209, 4), (210, 1), (211, 1), (212, 1), (213, 3), (214, 6), (215, 1), (216, 2), (217, 2), (218, 1), (219, 1), (220, 1), (221, 1), (222, 1), (223, 1), (224, 1), (225, 1), (226, 1), (227, 6), (228, 1), (229, 1), (230, 1), (231, 1), (232, 1), (233, 3)]]\n"
     ]
    }
   ],
   "source": [
    "# Review a single document in bow format; (index, count frequency) \n",
    "print(bow_corpus[:1])"
   ]
  },
  {
   "cell_type": "code",
   "execution_count": 30,
   "metadata": {
    "colab": {
     "base_uri": "https://localhost:8080/",
     "height": 54
    },
    "colab_type": "code",
    "executionInfo": {
     "elapsed": 109507,
     "status": "ok",
     "timestamp": 1585055394785,
     "user": {
      "displayName": "Tyler Bikaun",
      "photoUrl": "",
      "userId": "18384825377619195869"
     },
     "user_tz": -480
    },
    "id": "EJn-e0xxDt4i",
    "outputId": "77dd84f3-15dd-4628-9286-b89d8d490146",
    "slideshow": {
     "slide_type": "subslide"
    }
   },
   "outputs": [
    {
     "name": "stdout",
     "output_type": "stream",
     "text": [
      "['combine', 'reporting', 'application', 'pende', 'status', 'sheet', 'kalgoorlie', 'sh', 'sheet', 'kalgoorlie', 'project', 'operator', 'cazaly_resources', 'limited', 'author', 'watts', 'date', 'september', 'distribution', 'department_industry', 'resource', 'cazaly_resources', 'limited', 'cazaly', 'resource', 'limit', 'september', 'castle_hill', 'project', 'tenement', 'location', 'plan', 'scale', 'regional', 'geology', 'exploration', 'index', 'map', 'scale', 'cazaly', 'resource', 'limit', 'september', 'summary', 'combine', 'mineral', 'exploration', 'report', 'castle_hill', 'project', 'detail', 'exploration', 'activity', 'undertake', 'cazaly_resources', 'limited', 'reporting_period', 'july', 'july', 'report', 'group', 'know', 'castle_hill', 'comprise', 'nine', 'grant', 'prospect', 'licence', 'project', 'area', 'cover', 'hectare_cazaly', 'register_holder', 'castle_hill', 'project', 'tenement', 'cazalys', 'exploration', 'activity', 'report', 'period', 'direct_towards', 'acquisition', 'available', 'report', 'dataset', 'relate', 'previous', 'exploration', 'activity', 'within', 'project', 'area', 'assess', 'gold', 'nickel', 'potential', 'project', 'area', 'follow', 'data', 'review', 'castle_hill', 'project', 'rate', 'highly', 'nearby', 'project', 'area', 'manage', 'cazaly', 'introduction', 'combine', 'mineral', 'exploration', 'report', 'castle_hill', 'project', 'detail', 'exploration', 'work', 'undertake', 'cazaly_resources', 'limited', 'cazaly', 'reporting_period', 'july', 'july', 'castle_hill', 'project', 'area', 'locate', 'km', 'wnw', 'kalgoorlie', 'lie', 'within', 'kunanalle', 'district', 'coolgardie', 'mineral', 'field', 'kalgoorlie', 'kalgoorlie', 'sh', 'map', 'sheet', 'tenure', 'reporting', 'group', 'know', 'castle_hill', 'comprise', 'nine', 'grant', 'prospect', 'licence', 'project', 'area', 'cover', 'hectare', 'refer', 'table', 'detail', 'cazaly', 'register_holder', 'castle_hill', 'project', 'tenement', 'application', 'combine', 'reporting', 'tenement', 'add', 'combined', 'reporting', 'group', 'lodge', 'cazaly', 'resource', 'limit', 'september', 'geology', 'regional', 'geology', 'castle_hill', 'project', 'area', 'lie', 'within', 'norseman_wiluna', 'archaean', 'greenstone_belt', 'eastern_goldfields', 'province', 'yilgarn_craton', 'belt', 'characterise', 'thick', 'possibly_rift', 'control', 'sequences', 'ultramafic', 'mafic', 'felsic', 'volcanic', 'clastic', 'intrusive', 'rock', 'greenstone', 'succession', 'southern', 'eastern_goldfield', 'segregate_elongate', 'structural', 'terrane', 'bound', 'regional', 'nnw', 'trend', 'fault', 'swag', 'low', 'part', 'supracrustal_succession', 'characterise', 'submarine', 'mafic', 'ultramafic', 'rock', 'thin', 'interflow_sediment', 'overlain', 'mostly', 'subaqueous', 'felsic', 'volcaniclastic', 'kalgoorlie', 'terrane', 'stratigraphic', 'sequence', 'extremely', 'consistent', 'felsic_volcanism', 'generally', 'post', 'date', 'mafic', 'ultramafic', 'volcanism', 'felsic_volcanism', 'observe', 'occur', 'upper', 'low', 'part', 'succession', 'coarse', 'clastics_conglomeratic', 'sequences_kurrawang', 'formation', 'unconformably_overly', 'faultcontact', 'greenstone', 'synclinal', 'basin', 'adjacent', 'overlie', 'major', 'regional', 'fault', 'swag', 'local', 'geology', 'majority', 'project', 'area', 'underlain', 'post', 'high', 'calcic_bali', 'monzogranite', 'lie', 'immediately', 'west', 'coolgardie', 'domain', 'sub', 'domain', 'kalgoorlie', 'terrane', 'northern', 'tenement', 'situate', 'north', 'kintore_tonalite', 'underlain', 'mafic', 'ultramafic', 'rock', 'coolgardie', 'domain', 'structural', 'geology', 'several', 'major', 'structure', 'traverse', 'section', 'project', 'area', 'north', 'northwest', 'trend', 'kunanalle', 'shear', 'zone', 'ksz', 'lie', 'along', 'mafic', 'ultramafic', 'contact', 'zone', 'within', 'tenement', 'late', 'north', 'northeast', 'trend', 'dextral', 'grant', 'patch', 'fault', 'cut', 'coolgardie', 'domain', 'sequence', 'structure', 'extend', 'adjacent', 'bali_monzogranite', 'tenement', 'also', 'overlie', 'part', 'kintore', 'anticline', 'axis', 'cazaly_resources', 'limit', 'september', 'exploration', 'activity', 'cazalys', 'exploration', 'activity', 'report', 'period', 'direct_towards', 'acquisition', 'available', 'report', 'dataset', 'relate', 'previous', 'exploration', 'activity', 'within', 'project', 'area', 'assess', 'gold', 'nickel', 'potential', 'project', 'area', 'project', 'review', 'follow', 'field', 'inspection', 'whole', 'project', 'area', 'available', 'datum', 'project', 'review', 'house', 'conjunction', 'datum', 'pertain', 'nearby', 'kunanalle', 'shear', 'zone', 'target', 'tenement', 'rate', 'potential', 'host', 'economic', 'gold', 'deposit', 'classify', 'accordingly', 'information', 'utilize', 'consider', 'future', 'exploration', 'program', 'across', 'tenement', 'group', 'nickel', 'review', 'castle_hill', 'project', 'include', 'cazaly', 'consolidated', 'minerals', 'limit', 'consmin', 'joint_venture', 'explore', 'kunanalle', 'region', 'nickel', 'mineralisation', 'nickel', 'potential', 'castle_hill', 'project', 'area', 'tenement', 'review', 'october', 'november', 'report', 'year', 'initial', 'review', 'highlight', 'anomaly', 'coincident', 'ni', 'cr', 'cu', 'zn', 'ratio', 'along', 'basalt', 'ultramafic', 'contact', 'immediately', 'east', 'area', 'subsequently', 'rab', 'drill', 'consmin', 'conclusion', 'cazalys', 'exploration', 'activity', 'report', 'period', 'direct_towards', 'acquisition', 'available', 'report', 'dataset', 'relate', 'previous', 'exploration', 'activity', 'within', 'project', 'area', 'assess', 'gold', 'nickel', 'potential', 'project', 'area', 'follow', 'data', 'review', 'castle_hill', 'project', 'rate', 'highly', 'nearby', 'project', 'area', 'manage', 'cazaly', 'structural', 'evolution', 'greenstone', 'terrane', 'southern', 'eastern_goldfields', 'western', 'australia', 'cassidy_whitaker', 'liu']\n"
     ]
    }
   ],
   "source": [
    "# View the corresponding corpus with bigrams\n",
    "print(bigram_corpus[0])"
   ]
  },
  {
   "cell_type": "code",
   "execution_count": 34,
   "metadata": {
    "colab": {
     "base_uri": "https://localhost:8080/",
     "height": 54
    },
    "colab_type": "code",
    "executionInfo": {
     "elapsed": 107306,
     "status": "ok",
     "timestamp": 1585055394787,
     "user": {
      "displayName": "Tyler Bikaun",
      "photoUrl": "",
      "userId": "18384825377619195869"
     },
     "user_tz": -480
    },
    "id": "mAOCYcq0Dt4w",
    "outputId": "96c419d2-bb4c-4b5f-bb23-89f7b7f83fd5",
    "slideshow": {
     "slide_type": "subslide"
    }
   },
   "outputs": [
    {
     "name": "stdout",
     "output_type": "stream",
     "text": [
      "[(162, 27), (12, 17), (25, 13), (69, 13), (173, 10), (207, 10), (3, 8), (26, 8), (106, 7), (177, 7), (136, 6), (214, 6), (227, 6), (27, 5), (82, 5), (116, 5), (124, 5), (159, 5), (182, 5), (16, 4), (35, 4), (46, 4), (62, 4), (83, 4), (87, 4), (105, 4), (112, 4), (115, 4), (117, 4), (170, 4), (174, 4), (176, 4), (209, 4), (1, 3), (13, 3), (28, 3), (52, 3), (57, 3), (59, 3), (73, 3), (78, 3), (84, 3), (85, 3), (129, 3), (134, 3), (140, 3), (151, 3), (154, 3), (160, 3), (166, 3), (172, 3), (178, 3), (189, 3), (194, 3), (213, 3), (233, 3), (5, 2), (6, 2), (10, 2), (29, 2), (37, 2), (42, 2), (44, 2), (47, 2), (51, 2), (53, 2), (54, 2), (66, 2), (75, 2), (76, 2), (77, 2), (92, 2), (95, 2), (110, 2), (114, 2), (123, 2), (125, 2), (127, 2), (128, 2), (137, 2), (150, 2), (158, 2), (163, 2), (171, 2), (175, 2), (179, 2), (183, 2), (187, 2), (188, 2), (191, 2), (195, 2), (200, 2), (203, 2), (216, 2), (217, 2), (0, 1), (2, 1), (4, 1), (7, 1), (8, 1), (9, 1), (11, 1), (14, 1), (15, 1), (17, 1), (18, 1), (19, 1), (20, 1), (21, 1), (22, 1), (23, 1), (24, 1), (30, 1), (31, 1), (32, 1), (33, 1), (34, 1), (36, 1), (38, 1), (39, 1), (40, 1), (41, 1), (43, 1), (45, 1), (48, 1), (49, 1), (50, 1), (55, 1), (56, 1), (58, 1), (60, 1), (61, 1), (63, 1), (64, 1), (65, 1), (67, 1), (68, 1), (70, 1), (71, 1), (72, 1), (74, 1), (79, 1), (80, 1), (81, 1), (86, 1), (88, 1), (89, 1), (90, 1), (91, 1), (93, 1), (94, 1), (96, 1), (97, 1), (98, 1), (99, 1), (100, 1), (101, 1), (102, 1), (103, 1), (104, 1), (107, 1), (108, 1), (109, 1), (111, 1), (113, 1), (118, 1), (119, 1), (120, 1), (121, 1), (122, 1), (126, 1), (130, 1), (131, 1), (132, 1), (133, 1), (135, 1), (138, 1), (139, 1), (141, 1), (142, 1), (143, 1), (144, 1), (145, 1), (146, 1), (147, 1), (148, 1), (149, 1), (152, 1), (153, 1), (155, 1), (156, 1), (157, 1), (161, 1), (164, 1), (165, 1), (167, 1), (168, 1), (169, 1), (180, 1), (181, 1), (184, 1), (185, 1), (186, 1), (190, 1), (192, 1), (193, 1), (196, 1), (197, 1), (198, 1), (199, 1), (201, 1), (202, 1), (204, 1), (205, 1), (206, 1), (208, 1), (210, 1), (211, 1), (212, 1), (215, 1), (218, 1), (219, 1), (220, 1), (221, 1), (222, 1), (223, 1), (224, 1), (225, 1), (226, 1), (228, 1), (229, 1), (230, 1), (231, 1), (232, 1)]\n"
     ]
    }
   ],
   "source": [
    "# Sort documents by term frequency e.g. most frequency first\n",
    "sorted_by_value = sorted(bow_corpus[0], key=lambda kv: kv[1], reverse=True)\n",
    "print(sorted_by_value)"
   ]
  },
  {
   "cell_type": "code",
   "execution_count": 35,
   "metadata": {
    "colab": {
     "base_uri": "https://localhost:8080/",
     "height": 1000
    },
    "colab_type": "code",
    "executionInfo": {
     "elapsed": 107183,
     "status": "ok",
     "timestamp": 1585055394787,
     "user": {
      "displayName": "Tyler Bikaun",
      "photoUrl": "",
      "userId": "18384825377619195869"
     },
     "user_tz": -480
    },
    "id": "HRuNQmZKDt4z",
    "outputId": "43e5bccd-3ef5-4580-8847-d0bb32bc1845",
    "slideshow": {
     "slide_type": "subslide"
    }
   },
   "outputs": [
    {
     "data": {
      "text/plain": [
       "[('project', 27),\n",
       " ('area', 17),\n",
       " ('castle_hill', 13),\n",
       " ('exploration', 13),\n",
       " ('report', 10),\n",
       " ('tenement', 10),\n",
       " ('activity', 8),\n",
       " ('cazaly', 8),\n",
       " ('kalgoorlie', 7),\n",
       " ('review', 7),\n",
       " ('nickel', 6),\n",
       " ('ultramafic', 6),\n",
       " ('within', 6),\n",
       " ('cazaly_resources', 5),\n",
       " ('geology', 5),\n",
       " ('limit', 5),\n",
       " ('mafic', 5),\n",
       " ('potential', 5),\n",
       " ('september', 5),\n",
       " ('available', 4),\n",
       " ('combine', 4),\n",
       " ('coolgardie', 4),\n",
       " ('domain', 4),\n",
       " ('gold', 4),\n",
       " ('group', 4),\n",
       " ('july', 4),\n",
       " ('kunanalle', 4),\n",
       " ('lie', 4),\n",
       " ('limited', 4),\n",
       " ('regional', 4),\n",
       " ('reporting', 4),\n",
       " ('resource', 4),\n",
       " ('terrane', 4),\n",
       " ('acquisition', 3),\n",
       " ('assess', 3),\n",
       " ('cazalys', 3),\n",
       " ('dataset', 3),\n",
       " ('detail', 3),\n",
       " ('direct_towards', 3),\n",
       " ('fault', 3),\n",
       " ('follow', 3),\n",
       " ('grant', 3),\n",
       " ('greenstone', 3),\n",
       " ('mineral', 3),\n",
       " ('nearby', 3),\n",
       " ('north', 3),\n",
       " ('part', 3),\n",
       " ('period', 3),\n",
       " ('previous', 3),\n",
       " ('rate', 3),\n",
       " ('relate', 3),\n",
       " ('rock', 3),\n",
       " ('sheet', 3),\n",
       " ('structural', 3),\n",
       " ('trend', 3),\n",
       " ('zone', 3),\n",
       " ('adjacent', 2),\n",
       " ('along', 2),\n",
       " ('application', 2),\n",
       " ('characterise', 2),\n",
       " ('comprise', 2),\n",
       " ('consmin', 2),\n",
       " ('contact', 2),\n",
       " ('cover', 2),\n",
       " ('data', 2),\n",
       " ('date', 2),\n",
       " ('datum', 2),\n",
       " ('eastern_goldfields', 2),\n",
       " ('felsic', 2),\n",
       " ('felsic_volcanism', 2),\n",
       " ('field', 2),\n",
       " ('highly', 2),\n",
       " ('immediately', 2),\n",
       " ('know', 2),\n",
       " ('licence', 2),\n",
       " ('low', 2),\n",
       " ('major', 2),\n",
       " ('manage', 2),\n",
       " ('map', 2),\n",
       " ('nine', 2),\n",
       " ('overlie', 2),\n",
       " ('post', 2),\n",
       " ('prospect', 2),\n",
       " ('register_holder', 2),\n",
       " ('reporting_period', 2),\n",
       " ('scale', 2),\n",
       " ('sequence', 2),\n",
       " ('sh', 2),\n",
       " ('shear', 2),\n",
       " ('southern', 2),\n",
       " ('structure', 2),\n",
       " ('succession', 2),\n",
       " ('swag', 2),\n",
       " ('underlain', 2),\n",
       " ('undertake', 2),\n",
       " ('accordingly', 1),\n",
       " ('across', 1),\n",
       " ('add', 1),\n",
       " ('also', 1),\n",
       " ('anomaly', 1),\n",
       " ('anticline', 1),\n",
       " ('archaean', 1),\n",
       " ('australia', 1),\n",
       " ('author', 1),\n",
       " ('axis', 1),\n",
       " ('bali_monzogranite', 1),\n",
       " ('basalt', 1),\n",
       " ('basin', 1),\n",
       " ('belt', 1),\n",
       " ('bound', 1),\n",
       " ('calcic_bali', 1),\n",
       " ('cassidy_whitaker', 1),\n",
       " ('classify', 1),\n",
       " ('clastic', 1),\n",
       " ('clastics_conglomeratic', 1),\n",
       " ('coarse', 1),\n",
       " ('coincident', 1),\n",
       " ('combined', 1),\n",
       " ('conclusion', 1),\n",
       " ('conjunction', 1),\n",
       " ('consider', 1),\n",
       " ('consistent', 1),\n",
       " ('consolidated', 1),\n",
       " ('control', 1),\n",
       " ('cr', 1),\n",
       " ('cu', 1),\n",
       " ('cut', 1),\n",
       " ('department_industry', 1),\n",
       " ('deposit', 1),\n",
       " ('dextral', 1),\n",
       " ('distribution', 1),\n",
       " ('district', 1),\n",
       " ('drill', 1),\n",
       " ('east', 1),\n",
       " ('eastern_goldfield', 1),\n",
       " ('economic', 1),\n",
       " ('evolution', 1),\n",
       " ('explore', 1),\n",
       " ('extend', 1),\n",
       " ('extremely', 1),\n",
       " ('faultcontact', 1),\n",
       " ('formation', 1),\n",
       " ('future', 1),\n",
       " ('generally', 1),\n",
       " ('greenstone_belt', 1),\n",
       " ('hectare', 1),\n",
       " ('hectare_cazaly', 1),\n",
       " ('high', 1),\n",
       " ('highlight', 1),\n",
       " ('host', 1),\n",
       " ('house', 1),\n",
       " ('include', 1),\n",
       " ('index', 1),\n",
       " ('information', 1),\n",
       " ('initial', 1),\n",
       " ('inspection', 1),\n",
       " ('interflow_sediment', 1),\n",
       " ('introduction', 1),\n",
       " ('intrusive', 1),\n",
       " ('joint_venture', 1),\n",
       " ('kintore', 1),\n",
       " ('kintore_tonalite', 1),\n",
       " ('km', 1),\n",
       " ('ksz', 1),\n",
       " ('late', 1),\n",
       " ('liu', 1),\n",
       " ('local', 1),\n",
       " ('locate', 1),\n",
       " ('location', 1),\n",
       " ('lodge', 1),\n",
       " ('majority', 1),\n",
       " ('mineralisation', 1),\n",
       " ('minerals', 1),\n",
       " ('monzogranite', 1),\n",
       " ('mostly', 1),\n",
       " ('ni', 1),\n",
       " ('nnw', 1),\n",
       " ('norseman_wiluna', 1),\n",
       " ('northeast', 1),\n",
       " ('northern', 1),\n",
       " ('northwest', 1),\n",
       " ('november', 1),\n",
       " ('observe', 1),\n",
       " ('occur', 1),\n",
       " ('october', 1),\n",
       " ('operator', 1),\n",
       " ('overlain', 1),\n",
       " ('patch', 1),\n",
       " ('pende', 1),\n",
       " ('pertain', 1),\n",
       " ('plan', 1),\n",
       " ('possibly_rift', 1),\n",
       " ('program', 1),\n",
       " ('province', 1),\n",
       " ('rab', 1),\n",
       " ('ratio', 1),\n",
       " ('refer', 1),\n",
       " ('region', 1),\n",
       " ('section', 1),\n",
       " ('segregate_elongate', 1),\n",
       " ('sequences', 1),\n",
       " ('sequences_kurrawang', 1),\n",
       " ('several', 1),\n",
       " ('situate', 1),\n",
       " ('status', 1),\n",
       " ('stratigraphic', 1),\n",
       " ('sub', 1),\n",
       " ('subaqueous', 1),\n",
       " ('submarine', 1),\n",
       " ('subsequently', 1),\n",
       " ('summary', 1),\n",
       " ('supracrustal_succession', 1),\n",
       " ('synclinal', 1),\n",
       " ('table', 1),\n",
       " ('target', 1),\n",
       " ('tenure', 1),\n",
       " ('thick', 1),\n",
       " ('thin', 1),\n",
       " ('traverse', 1),\n",
       " ('unconformably_overly', 1),\n",
       " ('upper', 1),\n",
       " ('utilize', 1),\n",
       " ('volcanic', 1),\n",
       " ('volcaniclastic', 1),\n",
       " ('volcanism', 1),\n",
       " ('watts', 1),\n",
       " ('west', 1),\n",
       " ('western', 1),\n",
       " ('whole', 1),\n",
       " ('wnw', 1),\n",
       " ('work', 1),\n",
       " ('year', 1),\n",
       " ('yilgarn_craton', 1),\n",
       " ('zn', 1)]"
      ]
     },
     "execution_count": 35,
     "metadata": {},
     "output_type": "execute_result"
    }
   ],
   "source": [
    "# View a human readable format of corpus (term-frequency)\n",
    "[(id2word[id], freq) for id, freq in sorted_by_value] "
   ]
  },
  {
   "cell_type": "markdown",
   "metadata": {
    "colab_type": "text",
    "id": "xJB50q8AFeE6",
    "slideshow": {
     "slide_type": "slide"
    }
   },
   "source": [
    "## Train LDA Model <a name=\"training\"></a>"
   ]
  },
  {
   "cell_type": "markdown",
   "metadata": {
    "slideshow": {
     "slide_type": "subslide"
    }
   },
   "source": [
    "<img src=\"https://miro.medium.com/max/800/1*pZo_IcxW1GVuH2vQKdoIMQ.jpeg\" alt=\"LDA example\" style=\"width:600px;\"/>"
   ]
  },
  {
   "cell_type": "markdown",
   "metadata": {
    "slideshow": {
     "slide_type": "subslide"
    }
   },
   "source": [
    "Here we train a LDA topic mode on our bag-of-words corpus. We initially set the `number of topics` we believe are in the corpus to 10. Only a single `pass` is performed through the corpus, but this could be increased to get better results. However, it is computationally expensive."
   ]
  },
  {
   "cell_type": "code",
   "execution_count": 36,
   "metadata": {
    "colab": {},
    "colab_type": "code",
    "id": "bgj-Ob96Dt43",
    "slideshow": {
     "slide_type": "fragment"
    }
   },
   "outputs": [],
   "source": [
    "# Build LDA model\n",
    "lda_model = gensim.models.ldamodel.LdaModel(corpus=bow_corpus,\n",
    "                                           id2word=id2word,\n",
    "                                           num_topics=10, \n",
    "                                           random_state=100,\n",
    "                                           update_every=1,\n",
    "                                           chunksize=100,\n",
    "                                           passes=1,   # To get an improved LDA model, this can be increased\n",
    "                                           alpha='auto',\n",
    "                                           per_word_topics=True)"
   ]
  },
  {
   "cell_type": "markdown",
   "metadata": {
    "slideshow": {
     "slide_type": "subslide"
    }
   },
   "source": [
    "Here we show the topics elicited from the LDA model and the top keywords in the 10 topics. This shows the weighted importance of each word in each topic."
   ]
  },
  {
   "cell_type": "code",
   "execution_count": 37,
   "metadata": {
    "colab": {
     "base_uri": "https://localhost:8080/",
     "height": 697
    },
    "colab_type": "code",
    "executionInfo": {
     "elapsed": 125897,
     "status": "ok",
     "timestamp": 1585055416270,
     "user": {
      "displayName": "Tyler Bikaun",
      "photoUrl": "",
      "userId": "18384825377619195869"
     },
     "user_tz": -480
    },
    "id": "zJfngkYiDt46",
    "outputId": "e14fe77c-70a6-4883-a9f6-26f31a9aff96",
    "slideshow": {
     "slide_type": "fragment"
    }
   },
   "outputs": [
    {
     "name": "stdout",
     "output_type": "stream",
     "text": [
      "[(0,\n",
      "  '0.019*\"gold\" + 0.017*\"area\" + 0.017*\"project\" + 0.014*\"tenement\" + '\n",
      "  '0.010*\"exploration\" + 0.008*\"report\" + 0.008*\"deposit\" + 0.007*\"north\" + '\n",
      "  '0.007*\"ltd\" + 0.007*\"sequence\"'),\n",
      " (1,\n",
      "  '0.011*\"resource\" + 0.010*\"grade\" + 0.009*\"zone\" + 0.009*\"hole\" + '\n",
      "  '0.007*\"use\" + 0.007*\"gold\" + 0.007*\"drill\" + 0.007*\"high\" + 0.007*\"area\" + '\n",
      "  '0.007*\"mineralisation\"'),\n",
      " (2,\n",
      "  '0.017*\"pit\" + 0.011*\"resource\" + 0.008*\"project\" + 0.008*\"gold\" + '\n",
      "  '0.008*\"sbm\" + 0.007*\"datum\" + 0.007*\"report\" + 0.007*\"grade\" + 0.006*\"ltd\" '\n",
      "  '+ 0.006*\"use\"'),\n",
      " (3,\n",
      "  '0.015*\"report\" + 0.012*\"exploration\" + 0.011*\"area\" + 0.011*\"project\" + '\n",
      "  '0.008*\"tenement\" + 0.007*\"australia\" + 0.007*\"western\" + 0.006*\"resource\" + '\n",
      "  '0.006*\"pty\" + 0.005*\"mining\"'),\n",
      " (4,\n",
      "  '0.012*\"area\" + 0.012*\"tenement\" + 0.011*\"gold\" + 0.010*\"exploration\" + '\n",
      "  '0.010*\"sample\" + 0.010*\"report\" + 0.010*\"survey\" + 0.009*\"project\" + '\n",
      "  '0.009*\"hole\" + 0.008*\"rock\"'),\n",
      " (5,\n",
      "  '0.004*\"lennon_find\" + 0.003*\"tuckabianna\" + 0.002*\"sample\" + 0.002*\"area\" + '\n",
      "  '0.001*\"drill\" + 0.001*\"report\" + 0.001*\"hammerhead\" + 0.001*\"within\" + '\n",
      "  '0.001*\"project\" + 0.001*\"hole\"'),\n",
      " (6,\n",
      "  '0.027*\"survey\" + 0.026*\"datum\" + 0.018*\"magnetic\" + 0.011*\"line\" + '\n",
      "  '0.010*\"image\" + 0.010*\"field\" + 0.010*\"use\" + 0.009*\"station\" + '\n",
      "  '0.008*\"area\" + 0.006*\"processing\"'),\n",
      " (7,\n",
      "  '0.019*\"gold\" + 0.018*\"area\" + 0.014*\"target\" + 0.013*\"sample\" + '\n",
      "  '0.012*\"anomaly\" + 0.008*\"soil\" + 0.008*\"bif\" + 0.007*\"exploration\" + '\n",
      "  '0.007*\"gravity\" + 0.007*\"prospect\"'),\n",
      " (8,\n",
      "  '0.031*\"sample\" + 0.014*\"area\" + 0.013*\"site\" + 0.010*\"vegetation\" + '\n",
      "  '0.009*\"soil\" + 0.009*\"low\" + 0.007*\"specie\" + 0.007*\"survey\" + '\n",
      "  '0.006*\"record\" + 0.006*\"report\"'),\n",
      " (9,\n",
      "  '0.014*\"rock\" + 0.012*\"quartz\" + 0.011*\"sample\" + 0.008*\"metamorphic\" + '\n",
      "  '0.008*\"biotite\" + 0.008*\"form\" + 0.007*\"small\" + 0.007*\"occur\" + '\n",
      "  '0.007*\"alteration\" + 0.006*\"grain\"')]\n"
     ]
    }
   ],
   "source": [
    "pprint(lda_model.print_topics())"
   ]
  },
  {
   "cell_type": "code",
   "execution_count": 38,
   "metadata": {
    "slideshow": {
     "slide_type": "subslide"
    }
   },
   "outputs": [],
   "source": [
    "doc_lda = lda_model[bow_corpus]"
   ]
  },
  {
   "cell_type": "markdown",
   "metadata": {
    "slideshow": {
     "slide_type": "subslide"
    }
   },
   "source": [
    "To evaluate the quality of our topic model, we can compute its `perplexity` and `coherence`."
   ]
  },
  {
   "cell_type": "code",
   "execution_count": 39,
   "metadata": {
    "colab": {
     "base_uri": "https://localhost:8080/",
     "height": 85
    },
    "colab_type": "code",
    "executionInfo": {
     "elapsed": 173002,
     "status": "ok",
     "timestamp": 1585055464987,
     "user": {
      "displayName": "Tyler Bikaun",
      "photoUrl": "",
      "userId": "18384825377619195869"
     },
     "user_tz": -480
    },
    "id": "1-dKSB0iDt49",
    "outputId": "db882fd4-1589-4e22-a8bc-44f005a6c5e5",
    "slideshow": {
     "slide_type": "fragment"
    }
   },
   "outputs": [
    {
     "name": "stdout",
     "output_type": "stream",
     "text": [
      "Perplexity: -8.5632540962313\n"
     ]
    }
   ],
   "source": [
    "# Compute Perplexity - lower is better.\n",
    "print(f'Perplexity: {lda_model.log_perplexity(bow_corpus)}')"
   ]
  },
  {
   "cell_type": "code",
   "execution_count": 40,
   "metadata": {
    "slideshow": {
     "slide_type": "fragment"
    }
   },
   "outputs": [
    {
     "name": "stdout",
     "output_type": "stream",
     "text": [
      "\n",
      "Coherence Score:  0.4339893858167746\n"
     ]
    }
   ],
   "source": [
    "# Compute Coherence Score\n",
    "coherence_model_lda = CoherenceModel(model=lda_model, texts=bigram_corpus, dictionary=id2word, coherence='c_v')\n",
    "coherence_lda = coherence_model_lda.get_coherence()\n",
    "print('\\nCoherence Score: ', coherence_lda)"
   ]
  },
  {
   "cell_type": "markdown",
   "metadata": {
    "colab_type": "text",
    "id": "HSGCyT8WDt5B",
    "slideshow": {
     "slide_type": "slide"
    }
   },
   "source": [
    "## Interactive LDA Visualisation <a name=\"visualisation\"></a> \n",
    "\n",
    "#### Wait, what am I looking at again?\n",
    "\n",
    "There are a lot of moving parts in the visualization. Here's a brief summary:\n",
    "\n",
    "On the left, there is a plot of the \"distance\" between all of the topics (labeled as the Intertopic Distance Map)\n",
    "The plot is rendered in two dimensions according a multidimensional scaling (MDS) algorithm. Topics that are generally similar should be appear close together on the plot, while dissimilar topics should appear far apart.\n",
    "\n",
    "The relative size of a topic's circle in the plot corresponds to the relative frequency of the topic in the corpus.\n",
    "\n",
    "An individual topic may be selected for closer scrutiny by clicking on its circle, or entering its number in the \"selected topic\" box in the upper-left.\n",
    "\n",
    "On the right, there is a bar chart showing top terms.\n",
    "When no topic is selected in the plot on the left, the bar chart shows the top most \"salient\" terms in the corpus. A term's saliency is a measure of both how frequent the term is in the corpus and how \"distinctive\" it is in distinguishing between different topics.\n",
    "\n",
    "When a particular topic is selected, the bar chart changes to show the top most \"relevant\" terms for the selected topic. The relevance metric is controlled by the parameter λλ, which can be adjusted with a slider above the bar chart.\n",
    "\n",
    "Setting the λλ parameter close to 1.0 (the default) will rank the terms solely according to their probability within the topic.\n",
    "\n",
    "Setting λλ close to 0.0 will rank the terms solely according to their \"distinctiveness\" or \"exclusivity\" within the topic — i.e., terms that occur only in this topic, and do not occur in other topics.\n",
    "\n",
    "Setting λλ to values between 0.0 and 1.0 will result in an intermediate ranking, weighting term probability and exclusivity accordingly.\n",
    "\n",
    "Rolling the mouse over a term in the bar chart on the right will cause the topic circles to resize in the plot on the left, to show the strength of the relationship between the topics and the selected term.\n",
    "\n",
    "A more detailed explanation of the pyLDAvis visualization can be found here. Unfortunately, though the data used by gensim and pyLDAvis are the same, they don't use the same ID numbers for topics. If you need to match up topics in gensim's LdaMulticore object and pyLDAvis' visualization, you have to dig through the terms manually.\n",
    "\n",
    "#### Analyzing our LDA model\n",
    "The interactive visualization pyLDAvis produces is helpful for both:\n",
    "\n",
    "Better understanding and interpreting individual topics, and Better understanding the relationships between the topics.\n",
    "\n",
    "For (1), you can manually select each topic to view its top most freqeuent and/or \"relevant\" terms, using different values of the λλ parameter. This can help when you're trying to assign a human interpretable name or \"meaning\" to each topic.\n",
    "\n",
    "For (2), exploring the Intertopic Distance Plot can help you learn about how topics relate to each other, including potential higher-level structure between groups of topics.\n",
    "\n",
    "#### Describing text with LDA\n",
    "Beyond data exploration, one of the key uses for an LDA model is providing a compact, quantitative description of natural language text. Once an LDA model has been trained, it can be used to represent free text as a mixture of the topics the model learned from the original corpus. This mixture can be interpreted as a probability distribution across the topics, so the LDA representation of a paragraph of text might look like 50% Topic A, 20% Topic B, 20% Topic C, and 10% Topic D.\n",
    "\n",
    "To use an LDA model to generate a vector representation of new text, you'll need to apply any text preprocessing steps you used on the model's training corpus to the new text, too. For our model, the preprocessing steps we used include:\n",
    "\n",
    "Using spaCy to remove punctuation and lemmatize the text\n",
    "\n",
    "- Applying our first-order phrase model to join word pairs\n",
    "- Applying our second-order phrase model to join longer phrases\n",
    "- Removing stopwords\n",
    "- Creating a bag-of-words representation\n",
    "- Once you've applied these preprocessing steps to the new text, it's ready to pass directly to the model to create an LDA representation. The lda_description(...) function will perform all these steps for us, including printing the resulting topical description of the input text.\n",
    "\n",
    "##### Acknowledgement: https://www.kaggle.com/navinch/interesting-visualizations-lda-word2vec"
   ]
  },
  {
   "cell_type": "markdown",
   "metadata": {
    "slideshow": {
     "slide_type": "subslide"
    }
   },
   "source": [
    "### Visualize the topics"
   ]
  },
  {
   "cell_type": "code",
   "execution_count": 41,
   "metadata": {
    "slideshow": {
     "slide_type": "fragment"
    }
   },
   "outputs": [],
   "source": [
    "pyLDAvis.enable_notebook()"
   ]
  },
  {
   "cell_type": "code",
   "execution_count": 42,
   "metadata": {
    "colab": {
     "base_uri": "https://localhost:8080/",
     "height": 997
    },
    "colab_type": "code",
    "executionInfo": {
     "elapsed": 1213516,
     "status": "ok",
     "timestamp": 1585056508049,
     "user": {
      "displayName": "Tyler Bikaun",
      "photoUrl": "",
      "userId": "18384825377619195869"
     },
     "user_tz": -480
    },
    "id": "KwprcYdADt5C",
    "outputId": "4243c9a6-27b6-4901-bb2d-8aff5560dde4",
    "slideshow": {
     "slide_type": "subslide"
    }
   },
   "outputs": [
    {
     "name": "stderr",
     "output_type": "stream",
     "text": [
      "/home/jupyter-wei.liu/.local/lib/python3.9/site-packages/pyLDAvis/_prepare.py:246: FutureWarning: In a future version of pandas all arguments of DataFrame.drop except for the argument 'labels' will be keyword-only.\n",
      "  default_term_info = default_term_info.sort_values(\n",
      "/home/jupyter-wei.liu/.local/lib/python3.9/site-packages/past/builtins/misc.py:45: DeprecationWarning: the imp module is deprecated in favour of importlib; see the module's documentation for alternative uses\n",
      "  from imp import reload\n",
      "/home/jupyter-wei.liu/.local/lib/python3.9/site-packages/past/builtins/misc.py:45: DeprecationWarning: the imp module is deprecated in favour of importlib; see the module's documentation for alternative uses\n",
      "  from imp import reload\n",
      "/home/jupyter-wei.liu/.local/lib/python3.9/site-packages/past/builtins/misc.py:45: DeprecationWarning: the imp module is deprecated in favour of importlib; see the module's documentation for alternative uses\n",
      "  from imp import reload\n",
      "/home/jupyter-wei.liu/.local/lib/python3.9/site-packages/past/builtins/misc.py:45: DeprecationWarning: the imp module is deprecated in favour of importlib; see the module's documentation for alternative uses\n",
      "  from imp import reload\n"
     ]
    },
    {
     "data": {
      "text/html": [
       "\n",
       "<link rel=\"stylesheet\" type=\"text/css\" href=\"https://cdn.jsdelivr.net/gh/bmabey/pyLDAvis@3.3.1/pyLDAvis/js/ldavis.v1.0.0.css\">\n",
       "\n",
       "\n",
       "<div id=\"ldavis_el17181400701573476326738623705\"></div>\n",
       "<script type=\"text/javascript\">\n",
       "\n",
       "var ldavis_el17181400701573476326738623705_data = {\"mdsDat\": {\"x\": [0.10781356072917822, 0.05046422874853082, 0.09460811903528367, 0.04390551793714882, 0.08164207741063467, -0.0007998369408091387, 0.02639316314881796, -0.04913421534133772, -0.07305620726331898, -0.2818364074641285], \"y\": [-0.004296527022444815, 0.009322301598755365, 0.0939669292729827, -0.05236504613317808, 0.04027260211962405, -0.01761636476343861, -0.0010510464424319424, -0.15168123520814553, 0.029665780002588845, 0.05378260657568803], \"topics\": [1, 2, 3, 4, 5, 6, 7, 8, 9, 10], \"cluster\": [1, 1, 1, 1, 1, 1, 1, 1, 1, 1], \"Freq\": [32.20846914986705, 18.417080008216104, 13.383955846518608, 10.285427955332297, 8.835654860941753, 5.596971424256127, 4.666901489960173, 3.5508022697286825, 3.041129293223266, 0.01360770195593209]}, \"tinfo\": {\"Term\": [\"survey\", \"sample\", \"gold\", \"datum\", \"area\", \"pit\", \"magnetic\", \"project\", \"resource\", \"use\", \"target\", \"soil\", \"tenement\", \"report\", \"anomaly\", \"exploration\", \"line\", \"grade\", \"site\", \"model\", \"field\", \"quartz\", \"rock\", \"base\", \"zone\", \"biotite\", \"vegetation\", \"drill\", \"image\", \"estimate\", \"sally_malay\", \"hoatson_blake\", \"tickalara_metamorphic\", \"hco\", \"terrain_modelling\", \"chromitite\", \"falconbridge\", \"thundelarra\", \"griffin_find\", \"lamboo\", \"revise_dwg\", \"cultural_heritage\", \"youanmi\", \"digest_icp\", \"complex_resistivity\", \"mindax\", \"photography_landsat\", \"water_biogeochemistry\", \"isotope_whole\", \"voisey_bay\", \"ep_ip\", \"amt_resistivity\", \"sp_ap\", \"spot_mss\", \"bgal\", \"seismic_refraction\", \"radar_specify\", \"heritage_clearance\", \"literature_search\", \"geotem\", \"tantalum\", \"compilation_computer\", \"lake_johnston\", \"orogen\", \"remarkable\", \"poseidon\", \"pge\", \"hall_creek\", \"pdf_pdf\", \"ddh\", \"organisation_bulletin\", \"darlot\", \"rab\", \"lionore\", \"intrusion\", \"ppb\", \"lamboo_complex\", \"cu\", \"conductor\", \"stream_sediment\", \"nickel\", \"kimberley\", \"survey\", \"tenement\", \"wmc\", \"ultramafic\", \"cra\", \"belt\", \"copper\", \"return\", \"au\", \"km\", \"hole\", \"exploration\", \"reconnaissance\", \"gold\", \"western\", \"drilling\", \"east\", \"mafic\", \"within\", \"australia\", \"prospect\", \"area\", \"report\", \"mineralisation\", \"soil\", \"drill\", \"project\", \"rock\", \"sample\", \"geological\", \"north\", \"include\", \"geology\", \"ltd\", \"result\", \"zone\", \"deposit\", \"datum\", \"south\", \"krige\", \"millimetre\", \"spargoville\", \"leapfrog\", \"finore\", \"short_distance\", \"digitising\", \"tier\", \"halfway_hill\", \"magellan\", \"apron\", \"anisotropy\", \"magnet\", \"symbol\", \"crack\", \"mud_rotary\", \"honour\", \"slip\", \"fish\", \"newman_member\", \"cube_consulting\", \"kalpini\", \"memo\", \"overcome\", \"yaloginda\", \"merely\", \"warp\", \"cid\", \"st_ive\", \"indeed\", \"variance\", \"subsection\", \"motion\", \"variography\", \"bluebird\", \"kinematic\", \"ordinary_krige\", \"interpolation\", \"wireframe\", \"james\", \"estimation\", \"variogram\", \"bulk_density\", \"estimate\", \"hinge\", \"bar\", \"envelope\", \"mercator\", \"grade\", \"legacy\", \"density\", \"model\", \"cube\", \"strain\", \"pit\", \"junction\", \"bubble\", \"resource\", \"core\", \"block\", \"cut\", \"domain\", \"use\", \"high\", \"ore\", \"zone\", \"control\", \"fault\", \"hole\", \"mineralisation\", \"lode\", \"deposit\", \"drill\", \"table\", \"structure\", \"datum\", \"drilling\", \"low\", \"dip\", \"rc\", \"gold\", \"area\", \"within\", \"sample\", \"result\", \"report\", \"west\", \"mining\", \"rock\", \"south\", \"granoblastic\", \"anthophyllite\", \"poikiloblastic\", \"cordierite\", \"foliation_parallel\", \"bladed\", \"indistinct\", \"cummingtonite\", \"mb\", \"alignment\", \"carbine\", \"anhedral_subhedral\", \"flake\", \"mat\", \"blebs\", \"fibrous\", \"weakly_foliate\", \"anhedral\", \"qz\", \"bulong_anticline\", \"pyroxenitic\", \"fg\", \"equant\", \"olivine_mesocumulate\", \"orthopyroxene\", \"fmg\", \"magnesite\", \"platy\", \"ferromagnesian_phenocryst\", \"grp\", \"opaque\", \"subhedral\", \"crystal\", \"plagioclase\", \"biotite\", \"tourmaline\", \"mason_geoscience\", \"granular\", \"pyrrhotite\", \"grain\", \"chlorite\", \"amphibole\", \"pyroxene\", \"interstitial\", \"foliation\", \"actinolite\", \"feldspar\", \"hornblende\", \"metamorphic\", \"ilmenite\", \"precursor\", \"aggregate\", \"muscovite\", \"texture\", \"fine_grain\", \"replacement\", \"magnetite\", \"pyrite\", \"assemblage\", \"alter\", \"rich\", \"alteration\", \"quartz\", \"trace\", \"small\", \"minor\", \"komatiite\", \"rock\", \"thin\", \"vein\", \"form\", \"occur\", \"sulphide\", \"sample\", \"mineral\", \"primary\", \"zone\", \"area\", \"report\", \"within\", \"drill\", \"ultramafic\", \"gold\", \"ltd\", \"project\", \"exploration\", \"coal_measure\", \"coal_seam\", \"rte\", \"rio_tinto\", \"without_limitation\", \"confidential_information\", \"prior_consent\", \"kimberlitic\", \"disclose_person\", \"tinto\", \"used_purpose\", \"transmit_publish\", \"photograph_diagram\", \"without_consent\", \"holder_rio\", \"mesa\", \"wap\", \"pannawonica\", \"unauthorise_prohibit\", \"weed\", \"amendment\", \"woody\", \"elder\", \"freehold\", \"sandplain\", \"nil\", \"minister\", \"legal\", \"court\", \"yarraloola\", \"seam\", \"gregory\", \"coal\", \"security\", \"aboriginal\", \"object\", \"haul_road\", \"human\", \"uranium\", \"market\", \"broome\", \"heavy\", \"native_title\", \"share\", \"people\", \"el\", \"director\", \"act\", \"fraser\", \"confidential\", \"pilbara\", \"cultural\", \"company\", \"right\", \"sandstone\", \"report\", \"application\", \"th\", \"exploration\", \"propose\", \"plant\", \"project\", \"information\", \"pty\", \"australia\", \"area\", \"western\", \"may\", \"mining\", \"tenement\", \"mineral\", \"resource\", \"period\", \"work\", \"access\", \"page\", \"site\", \"year\", \"include\", \"activity\", \"within\", \"annual\", \"ltd\", \"datum\", \"sample\", \"deposit\", \"potential\", \"mt_celia\", \"roberts\", \"dunnsville\", \"metex\", \"lancefield\", \"yarri\", \"childe_harold\", \"metex_resources\", \"golden_mile\", \"randell\", \"domains\", \"cre\", \"carosue_dam\", \"telegraph\", \"ashton\", \"celia\", \"braemore\", \"lake_yindarlgooda\", \"salt_pan\", \"author_tillick\", \"komatiitic_peridotitic\", \"mt_varden\", \"litho_tectonic\", \"synthesis\", \"beneficial_register\", \"granophyre\", \"euro\", \"mulgabbie\", \"cazalys\", \"keringal_admiral\", \"granny_smith\", \"burtville\", \"crescent\", \"laverton\", \"cazaly_resources\", \"wallaby\", \"cazaly\", \"lake_carey\", \"kunanalle\", \"lake_rebecca\", \"edjudina\", \"perilya\", \"coolgardie\", \"information_memorandum\", \"boddington\", \"kalgoorlie\", \"kurnalpi\", \"shear\", \"gold\", \"sequence\", \"project\", \"dam\", \"tenement\", \"terrain\", \"package\", \"area\", \"granitoid\", \"terrane\", \"regional\", \"deposit\", \"volcanic\", \"exploration\", \"north\", \"ltd\", \"greenstone\", \"felsic\", \"zone\", \"geology\", \"report\", \"fault\", \"sediment\", \"within\", \"rock\", \"include\", \"major\", \"western\", \"australia\", \"mining\", \"work\", \"datum\", \"unit\", \"sample\", \"south\", \"resource\", \"lamproite\", \"pb_sb\", \"lennard\", \"quadrat\", \"microdiamond\", \"rb\", \"ellendale\", \"corymbia\", \"dot\", \"open_woodland\", \"plasma_atomic\", \"open_shrubland\", \"lamproite_pipe\", \"poaceae\", \"solanaceae\", \"warm\", \"pca\", \"grassland\", \"ptilotus\", \"floristic\", \"diamondiferous\", \"cliffs\", \"fuse\", \"pyrope\", \"allen\", \"wyloo_dome\", \"material_crm\", \"cheela_springs\", \"derby\", \"grevillea\", \"solanum\", \"habitat\", \"canning_basin\", \"conservation\", \"mound\", \"hummock_grassland\", \"shrub\", \"var\", \"beard\", \"shallow_marine\", \"vegetation\", \"ashburton\", \"specie\", \"stone\", \"subsp\", \"paraburdoo\", \"wyloo_group\", \"tree\", \"site\", \"scatter\", \"plain\", \"slope\", \"flora\", \"sipa\", \"sample\", \"record\", \"soil\", \"low\", \"creek\", \"area\", \"analysis\", \"appendix\", \"diamond\", \"location\", \"survey\", \"sand\", \"mm\", \"priority\", \"report\", \"project\", \"south\", \"collect\", \"within\", \"field\", \"high\", \"drill\", \"present\", \"rock\", \"exploration\", \"hole\", \"mawson_west\", \"woolyeenyer_formation\", \"noganyer_formation\", \"lady_mary\", \"rproject_arear\", \"trident\", \"instrument_drift\", \"penneshaw_formation\", \"anomalies\", \"star_picket\", \"berkeley\", \"scintrex_cg\", \"formulae\", \"ahd_height\", \"polaris\", \"rankin\", \"ausgeoid\", \"parker_range\", \"mgal\", \"merredin\", \"mapinfo_gis\", \"anom\", \"polaris_metal\", \"auslig\", \"isogal\", \"finder\", \"rpt\", \"milligal\", \"mathews\", \"thickly\", \"ausquest\", \"gondwana\", \"eclipse\", \"marvel_loch\", \"bullfinch\", \"mapinfo_format\", \"evanston\", \"portman\", \"bif\", \"mmi\", \"norseman\", \"target\", \"gravity\", \"anomaly\", \"cross\", \"gold\", \"area\", \"soil\", \"southern\", \"prospect\", \"sample\", \"meter\", \"iron\", \"anomalous\", \"working\", \"reconnaissance\", \"aug\", \"north\", \"exploration\", \"magnetic\", \"mapping\", \"unit\", \"contact\", \"datum\", \"within\", \"zone\", \"result\", \"tenement\", \"project\", \"work\", \"high\", \"drill\", \"rock\", \"drilling\", \"south\", \"panton\", \"bangemall_basin\", \"tx_loop\", \"alkaline\", \"hyperspectral\", \"discriminate\", \"switch_ramp\", \"intensity_tmi\", \"blake\", \"tx\", \"speed_knot\", \"cdi\", \"magnetometer_sensor\", \"rav\", \"northe_gda\", \"waveform\", \"hymap\", \"easte_gda\", \"duty_cycle\", \"reflectance\", \"tow_helicopter\", \"flight_path\", \"conductivity_decay\", \"square_wave\", \"rx\", \"spectrally\", \"emaxair\", \"transmitter_controller\", \"hoistem\", \"navigation\", \"geosoft\", \"commercial_confidence\", \"equivalent_mmr\", \"sensor\", \"pseudo\", \"terrain_clearance\", \"flight\", \"remote_sense\", \"hz\", \"scintrex\", \"diurnal\", \"digitally\", \"circle\", \"panorama\", \"correction\", \"signal\", \"conductivity\", \"aircraft\", \"magnetometer\", \"noise\", \"gps\", \"reading\", \"magnetic\", \"crew\", \"image\", \"station\", \"height\", \"processing\", \"survey\", \"datum\", \"filter\", \"resolution\", \"line\", \"vertical_derivative\", \"field\", \"process\", \"helicopter\", \"use\", \"system\", \"time\", \"airborne\", \"gravity\", \"fly\", \"base\", \"channel\", \"area\", \"metre\", \"data\", \"model\", \"ground\", \"source\", \"value\", \"geological\", \"within\", \"sample\", \"sem\", \"md\", \"rom_pad\", \"sgw\", \"berm\", \"blocky\", \"introduce_discussion\", \"internet_free\", \"adobe_acrobat\", \"shareware\", \"manager_dame_mediation\", \"sbm\", \"standby\", \"surpac_software\", \"reagent\", \"reader\", \"flowsheet\", \"crb\", \"idw\", \"grind_size\", \"salient\", \"agitated\", \"mdb\", \"search_strategy\", \"ucs\", \"centaur\", \"jigsaw_fit\", \"undersize\", \"fpr\", \"capital_cost\", \"operating_cost\", \"lime\", \"circuit\", \"testwork\", \"slope_regression\", \"maxwell\", \"throughput\", \"batter\", \"ammtec\", \"cyanidation\", \"abrasion_index\", \"stability\", \"failure\", \"pit\", \"borehole\", \"recovery\", \"grind\", \"wall\", \"ph\", \"scope_study\", \"mill\", \"cost\", \"geotechnical\", \"leach\", \"client\", \"database\", \"resource\", \"optimisation\", \"page\", \"cube\", \"estimate\", \"test\", \"metallurgical\", \"require\", \"grade\", \"use\", \"project\", \"ltd\", \"model\", \"datum\", \"gold\", \"ore\", \"analysis\", \"base\", \"mining\", \"table\", \"report\", \"type\", \"result\", \"provide\", \"process\", \"drill\", \"drilling\", \"rock\", \"zone\", \"sample\", \"lennon_find\", \"hammerhead\", \"miralga_formation\", \"mount_edgar\", \"sjerp\", \"causton\", \"lawrance\", \"ayle\", \"casey\", \"volumes\", \"lf_lf\", \"ammonium\", \"tuckabianna\", \"centenary_international\", \"dust_suppression\", \"friar\", \"ingram\", \"purpose_without\", \"dotitic\", \"nrgm\", \"anion\", \"multiplied\", \"westgold\", \"hh_lf\", \"dalewater\", \"acetate\", \"csr\", \"constant_rate\", \"wyman\", \"mindrill\", \"westfield\", \"australmin\", \"deflector\", \"big_bell\", \"diversion\", \"tsf\", \"serem\", \"cim\", \"gullewa\", \"golder\", \"batter\", \"groundwater\", \"water\", \"reference\", \"plate\", \"client\", \"sample\", \"date\", \"bore\", \"due\", \"analysis\", \"drill\", \"area\", \"report\", \"within\", \"test\", \"use\", \"hole\", \"ore\", \"drilling\", \"number\", \"project\", \"zone\", \"high\", \"datum\", \"model\", \"base\", \"exploration\", \"gold\", \"mineralisation\", \"deposit\"], \"Freq\": [8586.0, 14746.0, 13589.0, 8421.0, 17021.0, 3580.0, 3299.0, 11692.0, 7249.0, 5435.0, 4190.0, 4767.0, 10689.0, 12443.0, 3969.0, 11067.0, 2904.0, 5412.0, 2918.0, 3316.0, 3681.0, 5039.0, 10295.0, 3856.0, 8010.0, 1820.0, 1411.0, 8179.0, 1579.0, 1902.0, 210.62085709518644, 166.62213618426878, 95.47002985677669, 68.68268441919466, 85.76691753935661, 106.45218115806539, 55.173009920759114, 63.49425605811522, 66.91159352183581, 141.53750618808638, 50.997447848692104, 51.92571494265733, 205.56651721256517, 59.17028563153506, 43.85517261301417, 63.453233759325684, 38.8907530738781, 43.96968699966414, 43.9652545685404, 34.01841431655179, 36.90768264541928, 36.89869135476726, 36.89156674232339, 33.817266724934576, 41.67733550888473, 44.13117325708183, 33.717477528930594, 49.13919200337048, 67.00657843846741, 31.56616064189388, 63.890780156530816, 48.39390027711163, 167.8112622616172, 264.85528113308067, 52.474142769123254, 89.6225153489197, 568.7652186110732, 549.145255602917, 72.94693601704385, 83.85631661607448, 55.992388692076226, 135.6531266448596, 1539.2341140105027, 204.21095185912725, 1585.8972019925477, 1078.7312933275753, 202.58308947017804, 1431.2368885054243, 520.4138800845005, 371.0853052734809, 1767.5222845906073, 777.2315572058022, 4890.997477737812, 5943.209743887056, 206.68997488920445, 2425.063387021141, 317.59826646748536, 788.7449904108122, 884.7235450584938, 1012.8728632894564, 2724.1909692994946, 2347.2441754609727, 4358.400837600757, 5297.401792354687, 913.8866215196468, 5788.076796401986, 3222.6877566350645, 3435.6015192749205, 2527.109017693569, 1847.23774373166, 4049.419098246387, 3040.942373691606, 2004.0697699822579, 6351.031008566254, 4938.07144316067, 3216.9445158130898, 2347.2491731014343, 3522.7142002478813, 4571.136589047026, 4049.98264170416, 5224.535242492033, 2515.5482853913322, 2674.3594962561906, 2491.4349081466576, 2078.686921903771, 2389.7022249602815, 2315.7085881820817, 2492.948955223664, 2285.6494466852955, 2333.8033784136323, 2101.7629317783303, 165.91180248172986, 105.14759500095806, 234.913763254761, 51.24018577414608, 223.14106818412418, 38.299812331432484, 38.47356181857239, 39.65462287301319, 35.01594787499228, 46.431694870550785, 36.79217470411987, 23.445209260710673, 32.98352156285096, 23.07730881879774, 19.982252024982355, 31.356549702141706, 28.23047077046628, 18.847156465830007, 21.269811079354334, 17.975919179312488, 94.89426600948005, 70.51307696220384, 18.18473282515356, 19.0021459582928, 83.3196278337978, 26.72585881156867, 18.521389998134662, 188.63521440898796, 16.28720816123701, 13.463093276264866, 42.244599288773315, 64.2476257194218, 27.329297865104923, 132.78552592821507, 149.58416454391028, 105.49855552701555, 86.17845285513022, 172.1996985282988, 203.39533922928666, 92.1597166504947, 744.9912612703693, 179.68313120946965, 98.73477690890914, 1320.4095549638441, 161.89980443612612, 69.05697563218058, 231.38070109049372, 398.5837899609114, 3053.936042168745, 105.28914440202858, 528.7754229018833, 1858.9508063993576, 306.4524546329771, 311.6979898373661, 1870.7960834917894, 238.6102753012474, 188.0547453455341, 3096.659653884226, 1002.6916969490032, 969.9789269946982, 865.7078700471998, 920.4029056265285, 2136.4422688823815, 2072.098161975329, 1151.4177878839487, 2630.5583560352225, 805.152656944395, 1647.5250072475342, 2546.9163786340405, 2013.8384935187137, 758.4565786149138, 1909.464491552255, 2103.9452548138156, 1297.937330924059, 1049.9872105838651, 1926.4729410298746, 1749.7244402741558, 1405.708994798519, 771.5866612546218, 955.4140779208742, 2112.3368047665062, 2064.735381808944, 1532.423902968283, 1809.0620036351795, 1208.7346895311023, 1539.9721610736538, 1063.4835543187903, 1012.1388926182638, 1104.1098228687367, 1026.7383742199468, 78.56442634047806, 128.9232773665143, 79.01766583944296, 273.5788005363216, 77.41045215965084, 53.87301314312141, 83.56954868743608, 198.23346182983036, 48.31333359408819, 51.74240552854598, 49.2302673057475, 45.38179230762617, 291.80227822532163, 41.86347673643148, 69.78412942547568, 87.01003025922445, 91.9886187096168, 387.5984832788016, 56.89908259498646, 37.88128462085156, 39.348674616726456, 197.9345491101219, 76.78454763984779, 37.70677156016408, 140.08604376846628, 33.23658567112853, 32.032587709296386, 68.65674476783167, 41.444410522840805, 48.99587837201557, 471.6792529428831, 98.48217336571732, 1041.5193613663778, 738.308558342821, 1632.9769622828107, 257.34341815813207, 450.76043076622295, 103.93342736606591, 734.1015543428286, 1352.938032506794, 1049.4671935884523, 375.8514766935826, 256.29311345018994, 111.98174598235542, 608.6310458498434, 220.81069889735878, 612.0665951948766, 314.76751713091335, 1644.5461120295547, 356.9705912770471, 171.871525681188, 519.094392814687, 443.6907079671337, 725.5225948796377, 690.7879998500472, 302.8378327336993, 705.9013809910233, 766.7381605882945, 608.5923297240369, 667.9264984054287, 935.980982469633, 1424.2916051387533, 2488.990602756185, 702.1050744890498, 1533.5144933976908, 1208.1898601151092, 612.4116285612595, 2958.5819044290415, 751.2105218457771, 1241.7414624117234, 1599.1784272502098, 1436.1075887297195, 1337.682395562567, 2292.659398185569, 1018.9096383542071, 689.722441087429, 1031.4333903037866, 1200.1204899144493, 1013.1322825796445, 950.3419456203187, 912.0878421376241, 822.0691411963534, 894.1585674480475, 791.6378212995079, 801.0027230611589, 752.0884829311158, 164.7382393429552, 168.73425184840517, 190.02179042492918, 421.39491194693545, 57.87767389544989, 149.76238811730656, 55.135535614085384, 51.90737103565044, 53.32212673257316, 56.0568267810404, 52.146657942992874, 52.13683054588915, 52.121749837428865, 52.21550197084275, 48.97845046153248, 89.44661252271037, 95.53387043272008, 41.47030007496834, 90.75830642052402, 53.951802121285915, 30.87362059573792, 46.155574579409574, 33.26900707876347, 22.855595018503635, 23.630786181827194, 23.188211324440125, 110.34383861513504, 45.34154406078531, 24.356628992222205, 18.239753520762388, 490.1018407199647, 103.63417255545012, 727.7387713121283, 60.87958034868619, 335.9393626074024, 96.54135675445582, 456.8408371038014, 84.74134598617171, 451.7076394340278, 144.29217104970903, 84.91366979812105, 294.78984226341527, 217.01421614218106, 190.0127277503647, 149.42045739584546, 282.4686897090381, 101.39472297281863, 368.4912356880423, 106.59943407458529, 171.21831764700664, 346.81928391557886, 109.06220163799435, 602.3815768181155, 277.591032862938, 528.198892676366, 2512.846877089209, 299.902444672753, 560.3319067979944, 1916.0184208616727, 393.9768065156014, 284.64014073345936, 1744.765562455005, 459.1060877599309, 899.4849280047332, 1100.5381402975395, 1841.4619061439678, 1090.6459555203026, 817.9012496285027, 823.9979786984084, 1273.9427854347618, 790.7744037382032, 1028.9352595165096, 553.9728351486624, 757.1139204671285, 557.3679752311014, 520.4495649503438, 571.9304962992023, 486.2335796270337, 679.2967428379854, 537.2750567564448, 731.3940120544996, 566.5970078217584, 655.8953591684437, 621.5233134491743, 663.8064470857489, 560.4078660703399, 509.70305685137436, 82.62525506281675, 67.79982282934236, 62.32465149066075, 124.60406853639135, 99.03048988065642, 47.329359550529595, 65.67675807044259, 50.08147932530439, 35.85307974402005, 103.91573648732374, 29.643938121082897, 28.772652775016596, 113.27503937471664, 22.51079339738907, 22.19832237152307, 21.380723856520127, 151.42185964860732, 19.272570632799606, 18.597932304500166, 27.76360353176678, 15.922760253981536, 14.989015385475387, 14.932715108446148, 15.178020981021161, 14.142852579318424, 14.428654623399881, 32.225412727298604, 167.204004880708, 44.002722337990576, 11.317232952014496, 82.92859432900805, 156.3006348652639, 117.8028334905252, 754.3784695862165, 147.48785840966187, 102.84289753680211, 203.52550962133867, 104.06105305973419, 173.08792651303224, 44.63762445467607, 85.47253609725786, 111.70227942538197, 561.93920999311, 55.11477631983438, 73.21998327261102, 586.7938523094158, 87.83754760399977, 898.0176707629007, 2710.955728073056, 942.1063613960594, 2324.0219019479423, 208.59160424065203, 1912.1863629168859, 317.08622863048964, 318.1669915655011, 2338.2551081480365, 360.42874269741475, 373.042257089471, 798.4770182762894, 1087.6443810187739, 548.6741172101099, 1365.9123887822395, 970.6940735958948, 960.8005015627086, 429.3620543771021, 496.124602338731, 932.4275774903424, 699.1982897919293, 1138.1884015169842, 686.3625121232868, 490.37023907691207, 893.9131936887413, 929.0388867473598, 719.573000164448, 455.8851238622836, 657.8544478005068, 636.3898019300863, 562.0071718291877, 575.9512954066579, 631.0561361434683, 535.6057285693785, 656.5900703948246, 555.1492284741353, 572.5673704792696, 127.30870746249465, 130.1303119355794, 95.76413819583277, 82.67955033122665, 58.96098277620693, 48.943100523294376, 272.9039841956963, 37.136472083825375, 52.01110881957328, 48.8575575688569, 31.600463223324635, 169.65011267027103, 29.157725435168548, 25.837748474599785, 57.56546123662595, 30.5151796363112, 29.94234993682332, 20.28169145341213, 19.695915033511593, 18.61023081929433, 41.35866150740915, 30.572265135818878, 28.62774992303181, 14.089923062231636, 33.90841709665564, 71.57802577049051, 16.503290999309858, 47.12134782452599, 54.03917677423688, 29.560487594286688, 63.61765110999364, 249.93941254642598, 202.82137312719613, 194.93155020963871, 112.69280352905217, 149.51297655841987, 280.26136063591144, 130.64463455515894, 95.9761759590136, 148.77237969411968, 904.0138896987419, 299.1249364677926, 637.533381160769, 116.93214238165132, 191.09936232255833, 147.83803434466623, 124.8355400996893, 239.26283713782502, 1122.4447325636343, 368.1246858053438, 231.74671927599604, 318.8258903576517, 245.21697414922932, 160.7262063223491, 2752.225146272083, 569.7324945148615, 838.7578284066003, 808.7889698723419, 324.1082970287476, 1267.6630475296442, 433.928660369587, 475.1754590076132, 395.44801939963617, 469.15548473081634, 605.8508100381932, 251.64845201226262, 288.2556257731603, 230.70169743062127, 565.924313243711, 511.0682653549489, 373.7957473885999, 291.71663126355054, 369.889926806148, 315.3769812241253, 330.83771746622847, 327.34294556428483, 290.5972736866789, 298.29045326444884, 292.60849462124867, 288.71233044675483, 60.06630860798891, 51.542535754706975, 45.712074346154104, 34.919837088990484, 27.832071716658827, 100.28991901689766, 33.02270867132567, 21.061678687348884, 23.610687656189306, 37.24094831886249, 32.30438380848797, 35.75601170370318, 26.069719863187995, 23.025932454706446, 93.24509783380307, 39.59210280869459, 17.34943521030629, 172.9445216524877, 16.62663403104556, 16.85063843076591, 10.34770261375274, 28.466465107768713, 57.91702585947256, 10.41497667111674, 9.76749377216126, 16.035616943492826, 10.09092541399056, 21.478249823013563, 8.028261651202754, 7.200606477424216, 58.500059069226, 29.400819113262035, 28.188989524315236, 69.82470427240831, 52.684106356946536, 21.571644706110437, 33.021833666767286, 86.30007889477102, 611.6953245873508, 80.4230913817692, 176.14738316553556, 1051.9728596137295, 494.88868159474794, 873.4786883604191, 318.2368647668581, 1370.5343122784404, 1365.7956669025834, 612.0473953869979, 393.1362549588463, 489.4879982872138, 993.6940732489584, 135.79940572942044, 330.09144376523886, 275.8917820991407, 165.9777784623511, 232.11039884549777, 160.46031868439533, 454.073089653607, 549.3542067148402, 316.747546663356, 275.8989890332373, 332.99390716162407, 261.32498207476186, 420.10422303598443, 433.9181915522443, 399.9370145256625, 349.02495619338913, 432.94363475110566, 418.76345743051166, 303.847307045142, 303.81058271589376, 334.61346732293885, 330.34158299938576, 308.1433983913544, 282.9097324525952, 243.4301247668808, 40.674544577954656, 40.0059033553124, 39.79213677264357, 53.91127165093779, 35.385984509548756, 27.1646946371362, 30.152087713210665, 58.865188073927364, 24.230269314071524, 18.89354437014223, 19.463917637166553, 32.02777780799822, 28.370694058413857, 14.695125986994336, 43.51251552768202, 19.185240878567676, 14.695125986994336, 31.792831995006985, 12.813105571777884, 11.005825735540636, 57.602108364052384, 9.758923966697001, 26.37560269116141, 10.360620062586191, 13.880955444817092, 11.462494280590933, 18.70280667495002, 161.98566676337538, 81.13617525207044, 84.15042771128837, 92.64598172935482, 50.68779804312146, 144.35587604733718, 64.59541281951039, 132.44509407073417, 126.91499960560868, 87.9703960741312, 110.92190622645852, 58.928076417170246, 72.25105851287088, 94.72832837718299, 71.79873862985335, 69.33913407231505, 116.91475605166657, 84.81026994431234, 147.02060233602216, 147.10778546685074, 167.7076008471041, 104.0077566026917, 274.4363343049859, 181.94271972347548, 1021.7310921952367, 121.54840958566035, 564.7869088745553, 487.37563485485595, 191.28661046852852, 359.98087878510904, 1524.0732082361171, 1461.7539821987546, 113.76068394154036, 151.61063806833, 635.9558392434027, 112.56803550301937, 551.7449631621387, 328.8865153741228, 134.6101112106601, 543.4571872977276, 305.0611733977933, 296.2027323878354, 209.11150721899543, 296.98045418956616, 171.0209533626652, 333.78726727206487, 222.84952745564098, 460.12365214180437, 256.4510027531296, 235.78004772218665, 213.89538964469082, 190.27789141269596, 173.50985727661424, 186.42051668548996, 196.19225543114095, 183.37150772534963, 181.10687146181368, 68.65475064882357, 23.407202129347777, 17.86477772104541, 54.9182728043264, 15.02931145072563, 52.46919744524328, 15.942599186775853, 12.500709185607171, 23.53098165002232, 12.414177137019609, 15.839307039708311, 379.25017114561996, 12.690610623211025, 12.007496872444555, 9.197980385907567, 17.474417978041988, 7.371875387494968, 7.531087194460834, 9.134105507487384, 42.43388694908899, 9.47678519992565, 7.792384067495119, 6.620075989300173, 19.435864914657678, 11.288328686599547, 9.49569473117952, 6.609070416002171, 8.099768402551211, 5.393857595173741, 26.94821040355329, 32.54493730622694, 28.408959579972823, 38.78367400773879, 109.7194074911718, 18.38321444587209, 114.90826881645683, 32.14119504450258, 36.59856387991955, 46.07368205815124, 25.410292307133933, 18.12889884060586, 36.793825908766756, 67.2007482055277, 837.7772091164828, 127.1249902532847, 170.59677024575058, 90.40636991462043, 185.76168485290597, 71.82722073274746, 50.05542867873489, 109.40230541676326, 150.4787198881105, 84.77142088690645, 143.22408865022618, 103.07208335115028, 211.44443619686828, 539.8276775589695, 88.7938332869091, 264.04095646163523, 108.18969108531077, 230.79611160058417, 259.5544969039194, 82.1946126237718, 178.88730870672933, 315.1930579023477, 308.74879863239636, 406.86888098750904, 309.30727758345574, 235.5260377807643, 338.14675850658546, 383.57401252642995, 209.13686247030142, 196.16807971485255, 228.00654811380875, 239.12487218660326, 230.34964751920495, 323.7058734126497, 183.74605760463794, 217.06942522639054, 175.06189417282218, 153.92244122566413, 191.91486275438453, 181.18717509120987, 183.23241830702824, 177.18982840577658, 171.8751104535951, 0.952337376272517, 0.27807347306749586, 0.11702634560351251, 0.030753707531112697, 0.02281111392004783, 0.16907653695768163, 0.015053856139062622, 0.013259681130833425, 0.012439953567592785, 0.010570757860436776, 0.01079060811359085, 0.02731388759568244, 0.5982255759036299, 0.015346256669409537, 0.023181559353987947, 0.07848235597645763, 0.016107141850426995, 0.027280066775912028, 0.006903280510766922, 0.006909131757665608, 0.007459218876327812, 0.006542757610163385, 0.012596507609833173, 0.007971508935214082, 0.006490720473947282, 0.006403343738812076, 0.020834115135381342, 0.010071910980423388, 0.0065989064864642195, 0.006285081626202122, 0.018373231035969186, 0.031642201580928515, 0.015171116729347994, 0.02472225730969593, 0.02772014903896508, 0.06250496585984976, 0.020660868268890187, 0.0620564849484089, 0.01344670580248003, 0.04505248653313274, 0.06442577727833784, 0.07108977328980753, 0.18565482161685476, 0.15679438874610419, 0.1447869043008822, 0.10873042905547323, 0.5022421648039437, 0.21232896660088596, 0.10373485141060407, 0.1697120315436612, 0.19606566424757907, 0.30612673078814057, 0.3599878253226364, 0.28681631207968816, 0.24860577361567252, 0.1557262113796579, 0.191586096040582, 0.21551669511938762, 0.15442618984290138, 0.19563963000433218, 0.15063876075354693, 0.21627208960154323, 0.19399466375578872, 0.17944331574815509, 0.19525992186352814, 0.15509403477822656, 0.15926185068704266, 0.1792191255649278, 0.17812574911128728, 0.1655554264008188, 0.15611466693427098], \"Total\": [8586.0, 14746.0, 13589.0, 8421.0, 17021.0, 3580.0, 3299.0, 11692.0, 7249.0, 5435.0, 4190.0, 4767.0, 10689.0, 12443.0, 3969.0, 11067.0, 2904.0, 5412.0, 2918.0, 3316.0, 3681.0, 5039.0, 10295.0, 3856.0, 8010.0, 1820.0, 1411.0, 8179.0, 1579.0, 1902.0, 211.8690500852198, 167.85532314847796, 96.70620353360738, 70.00925170026238, 87.48768291458903, 108.81749769504125, 56.408915596001016, 65.0028262203557, 68.51537508711135, 144.97896395532712, 52.30312183629606, 53.26882091510328, 211.3586575126874, 61.092343565223565, 45.31173490096983, 65.5820033283304, 40.217163288094945, 45.48502028715179, 45.50755567301135, 35.27286802338075, 38.28668655820692, 38.28719314851007, 38.29127281045639, 35.144705772127885, 43.36010550740004, 45.956561487805374, 35.149721890524276, 51.23762914779018, 69.89124091943117, 32.9291633609513, 66.78494945599185, 50.49209754644983, 178.83069137918383, 284.8998716894494, 54.81916474286594, 94.68874669796605, 641.3311065564772, 618.6502477778027, 77.22476071932842, 89.94673238519165, 58.8567511896928, 149.69097531469333, 2029.7999449940407, 235.10579541681568, 2148.9756481929717, 1455.2751450159765, 236.34614193364558, 2007.1163871878168, 665.5079971351003, 471.0457760825629, 2684.981403078687, 1077.659352829065, 8586.90313625008, 10689.03601108505, 247.48926948551008, 3970.4098537956775, 403.3223262735071, 1148.3544149953955, 1319.811181871607, 1549.3459708590015, 4948.863275722946, 4206.854518675291, 8786.614793415854, 11067.699975767582, 1415.396138926233, 13589.113554791691, 6664.522639895667, 7212.3812134036, 5069.097936135784, 3460.710458132793, 9259.455285333364, 6510.7392517053195, 3848.274250853792, 17021.85020235494, 12443.839115740106, 7156.203497074382, 4767.7021674186535, 8179.892434132081, 11692.495248853707, 10295.440890121865, 14746.05660539461, 5584.192228498252, 6360.754036374255, 5900.0702180908775, 4537.383129807783, 6276.937989537364, 5845.812842587762, 8010.784201223124, 7014.364122926992, 8421.891261585364, 5420.492671193134, 167.11654817440476, 106.52578400318737, 238.6411440440889, 52.40553378905448, 229.7837311248721, 39.48318759226347, 39.75632603752719, 41.04973438160298, 36.551283445855866, 48.51798220966742, 38.512894938258334, 24.645274775875567, 34.724243088038065, 24.329287927442962, 21.173551599956273, 33.22927734603299, 29.949833307232687, 20.037240379155612, 22.65753031044992, 19.148739445719208, 101.16864954949362, 75.31230826541217, 19.46739216598844, 20.386432144756192, 89.61626842567028, 28.879997078170163, 20.0189866929203, 204.08341191712537, 17.684909848691927, 14.619526613039662, 45.897151003943705, 70.16286719334158, 29.760135373852368, 149.5890988501046, 169.72870040882637, 119.99381641649407, 97.53923858290918, 201.25208020403915, 241.3903238079961, 105.6159521279568, 958.188640411925, 214.15404471788912, 114.57041793031506, 1902.6513718990263, 198.45754045478762, 78.53389708785805, 299.15977859883816, 548.3364826261475, 5412.697789051533, 125.17055394724353, 770.1817243113402, 3316.639228730061, 424.627445067746, 433.871829447544, 3580.436316975049, 325.5702047078597, 247.45735708262134, 7249.480668060121, 1885.5503895917163, 1871.5615512900115, 1651.8322389022485, 1822.161023731151, 5435.919678443813, 5694.56022256351, 2683.320228857976, 8010.784201223124, 1691.30783034067, 4680.907065112232, 8786.614793415854, 7156.203497074382, 1765.5845687209946, 7014.364122926992, 8179.892434132081, 4094.893621603386, 3108.978115755366, 8421.891261585364, 7212.3812134036, 5088.5165782621425, 1935.1446911377675, 2978.2661723597375, 13589.113554791691, 17021.85020235494, 9259.455285333364, 14746.05660539461, 5845.812842587762, 12443.839115740106, 5050.982994043502, 4453.470750168103, 10295.440890121865, 5420.492671193134, 79.81462759638214, 131.172941320422, 80.5265605533467, 279.16081550458085, 79.00058362841865, 55.10444393020391, 85.62231356211744, 203.28757328176184, 49.5517525910088, 53.12575356832701, 50.592308920783466, 46.656956789956155, 300.2235445193397, 43.09492493310728, 71.89244824620268, 89.64510439262608, 94.82603290202935, 399.6414996210422, 58.77712703761494, 39.137952066983324, 40.662076993418985, 204.5778317488556, 79.41167888047946, 39.03690015484345, 145.18648581170373, 34.50055630699181, 33.30424818026312, 71.53077292596436, 43.18464103773365, 51.07462271860372, 491.8033982002486, 102.85137375711997, 1120.0802455300206, 802.6808406009915, 1820.7685332654348, 278.74896279221423, 498.2293343839497, 109.83587146660516, 842.0164441522483, 1606.272136976083, 1241.9470142403313, 424.0330288180797, 283.95082644692, 119.18765375260267, 711.0558507432265, 244.85041084884062, 728.7238135117523, 357.9806945402487, 2130.840471505304, 417.14847857325066, 188.98005721108055, 639.557968065373, 545.633746242668, 944.8717287294729, 907.8485523824213, 361.18362510670374, 973.8009609610278, 1077.3659350764297, 831.5706163884752, 929.206283009613, 1426.4444763661602, 2458.9260434907883, 5039.554219546786, 1050.9305784757169, 3294.2701211797835, 2376.001840284865, 936.7571850416158, 10295.440890121865, 1300.729763021364, 2855.1227108598323, 4310.505030263382, 4059.868197782756, 3731.312871821606, 14746.05660539461, 4203.738157511685, 1456.2544991010739, 8010.784201223124, 17021.85020235494, 12443.839115740106, 9259.455285333364, 8179.892434132081, 3970.4098537956775, 13589.113554791691, 6276.937989537364, 11692.495248853707, 11067.699975767582, 166.0399873281356, 171.0053226231107, 192.8624368230356, 430.5212978059429, 59.196354760240304, 153.23186282290914, 56.427026784921374, 53.147522369987634, 54.60693048402966, 57.42065024286867, 53.43868630492065, 53.43481856868659, 53.43152661348581, 53.586416144283014, 50.279195414060624, 91.8380893562265, 98.36464272016939, 42.70769638707873, 93.87166411812895, 55.89531363714607, 32.121875303440035, 48.38396403965071, 34.87939241495667, 24.06306860458816, 24.89478912596036, 24.46371909358615, 116.75866529440205, 48.160758665698715, 25.87650940129566, 19.442666673235795, 530.7077991671044, 113.10716543630839, 828.9337320965432, 66.0319468915813, 387.1315418754425, 106.55735303494652, 545.5559021606755, 93.5218599454054, 590.3076798849588, 171.3810951994519, 95.16614849174012, 408.8114287796206, 290.37855028167945, 248.38364218494962, 187.46970716844183, 408.07672908428185, 118.79799152667472, 567.7389060925549, 127.42308219363954, 241.93597771184352, 609.9593458229712, 137.20349411973336, 1353.575325902153, 507.54180353006177, 1294.023279884706, 12443.839115740106, 593.8332304326593, 1566.2715263012142, 11067.699975767582, 942.3194311714442, 585.384528027571, 11692.495248853707, 1358.9078682573938, 4444.57893357057, 6510.7392517053195, 17021.85020235494, 6664.522639895667, 3996.1634072831093, 4453.470750168103, 10689.03601108505, 4203.738157511685, 7249.480668060121, 2381.0431150810605, 4894.16271263675, 2462.9786812419766, 2205.7716734314236, 2918.401213945181, 1897.7262686827287, 5900.0702180908775, 2651.050625393433, 9259.455285333364, 3339.363828766394, 6276.937989537364, 8421.891261585364, 14746.05660539461, 7014.364122926992, 2935.9099004655604, 83.7894351939301, 68.96222939999299, 63.68648425978843, 127.7010713893165, 102.72166500374378, 49.11410174614848, 68.22120407231384, 52.050065450873504, 37.26678028841426, 108.09412100308913, 30.872657187052702, 29.999872127451, 118.84892303513453, 23.701412781169797, 23.404563296050647, 22.545798750855877, 160.48524821508173, 20.46546512137969, 19.759140331566712, 29.56654465040353, 17.086258777946753, 16.14957776822323, 16.093352018636814, 16.3733843968451, 15.309167150920288, 15.764254969975758, 35.28677209372857, 184.09611319390172, 48.44897048222633, 12.477950274308744, 92.45401496074956, 177.31143265186753, 134.33048863273135, 917.7541456865971, 172.34112977507561, 119.1030877499236, 242.60089827497936, 121.13238191811331, 212.48245884452365, 51.29189245857673, 107.97619383897717, 148.41514667904036, 968.0803570554596, 66.27944575958897, 93.7845211688335, 1372.7382827817225, 123.0702736427468, 2893.4731865179797, 13589.113554791691, 3230.5737295712797, 11692.495248853707, 412.7447866077946, 10689.03601108505, 781.6835934576607, 785.9155209123305, 17021.85020235494, 998.2569713143654, 1068.5414263814334, 3709.3235216628236, 7014.364122926992, 2208.99168550657, 11067.699975767582, 6360.754036374255, 6276.937989537364, 1499.9806455699083, 2209.0874616690357, 8010.784201223124, 4537.383129807783, 12443.839115740106, 4680.907065112232, 2310.950784416324, 9259.455285333364, 10295.440890121865, 5900.0702180908775, 2008.146041317407, 6664.522639895667, 6510.7392517053195, 4453.470750168103, 4894.16271263675, 8421.891261585364, 4283.266734152577, 14746.05660539461, 5420.492671193134, 7249.480668060121, 128.52533516921363, 131.66320357865695, 97.24091618539796, 84.20349415170962, 60.164508331370946, 50.15953815718501, 280.59094925118774, 38.27474446925959, 53.81153196034972, 50.5646649479938, 32.77943208089514, 176.11032314467545, 30.287048025627723, 27.035592251917315, 60.4250495225681, 32.11264042846135, 31.607165808051946, 21.466708045979306, 20.89789960328409, 19.758306098611694, 44.266622817975424, 32.82853308319809, 30.844188692845623, 15.227594183931453, 36.8017328248119, 77.79938924331069, 18.021040044498232, 51.507728645456986, 59.19374953084425, 32.50497136176091, 71.28192066325236, 299.2358892841084, 244.1758275143636, 243.60464169938507, 135.56087541110853, 185.44691419072066, 374.4392177216644, 162.65112014647283, 115.62476340449507, 188.2984676409996, 1411.8950154980664, 409.1731846810133, 977.6172413020837, 144.4310294701449, 261.37056781728523, 199.59193634313675, 171.04664338097368, 391.91999518400746, 2918.401213945181, 707.322845170363, 399.7014468523675, 623.6661054022459, 447.5887067764899, 249.52224545986138, 14746.05660539461, 1903.5981461206836, 4767.7021674186535, 5088.5165782621425, 1068.8026463451347, 17021.85020235494, 2365.4258278280367, 3015.9791847953857, 2253.311738896936, 3828.286139635224, 8586.90313625008, 817.5891444560665, 1218.4268679384297, 653.0016143679175, 12443.839115740106, 11692.495248853707, 5420.492671193134, 1831.992562111421, 9259.455285333364, 3681.410852377242, 5694.56022256351, 8179.892434132081, 2651.2619038030575, 10295.440890121865, 11067.699975767582, 8786.614793415854, 61.41156745458833, 52.817287623709746, 46.98457459920949, 36.161216151670416, 29.02207413528403, 105.24712729174495, 34.72103010399547, 22.26086141914603, 24.985569614662072, 39.467464808269376, 34.38356435286374, 38.42720456265904, 28.025244298520985, 24.856983172039783, 102.69512562583388, 43.61351804674224, 19.325407113376123, 194.3004302578172, 18.83033719867693, 19.166895822359503, 11.789115741398756, 32.58513889106398, 66.46489511522256, 11.95392456530799, 11.243107646562187, 18.541296302704886, 11.820473449059893, 25.195129939295914, 9.424486645009168, 8.4618805570129, 69.60320751682069, 34.76206890876834, 33.73113052401053, 86.15676949533285, 67.74408589996305, 26.10438007222376, 41.56976542990651, 128.0716439199622, 1406.6583493668427, 127.31658861384896, 353.93937713186085, 4190.263494938545, 1717.247307802121, 3969.7109144209844, 1286.8583404552166, 13589.113554791691, 17021.85020235494, 4767.7021674186535, 2307.913381389896, 3848.274250853792, 14746.05660539461, 469.8939329040469, 2588.717834823841, 1872.3677906059088, 732.5965022182297, 1415.396138926233, 740.105539508739, 6360.754036374255, 11067.699975767582, 3299.2519799533666, 2654.831044900438, 4283.266734152577, 2422.8884024812373, 8421.891261585364, 9259.455285333364, 8010.784201223124, 5845.812842587762, 10689.03601108505, 11692.495248853707, 4894.16271263675, 5694.56022256351, 8179.892434132081, 10295.440890121865, 7212.3812134036, 5420.492671193134, 247.6382287369715, 41.84879536218379, 41.17150099900033, 40.997200682445644, 55.702335938271915, 36.599887849816355, 28.3259940332123, 31.697781505999234, 61.891419220165695, 25.488306507064276, 20.051942036847866, 20.657623661846728, 34.32027274437283, 30.40391983116603, 15.865069725596738, 47.03036866302195, 20.768846472923645, 15.922890210337677, 34.57677848167409, 13.978795932332742, 12.164184029733715, 64.29391109228196, 10.922697076535822, 29.52315076593836, 11.657169706745952, 15.690303812100046, 12.957680160936746, 21.248894540149664, 184.08673591569195, 92.43624451714912, 99.10952943016127, 110.60422179620574, 60.35279566873136, 180.8661303904596, 78.48854188555, 170.27382748455202, 165.64553709832418, 111.94309118879363, 144.64524190824596, 72.47819594953565, 91.31801020018723, 128.87186184557734, 94.14619607614422, 90.71910017855163, 171.9808533604922, 116.2392230495671, 232.0358032918889, 233.98112412237614, 277.9787400522345, 153.52411764178086, 548.6937089619264, 325.1017568478258, 3299.2519799533666, 191.0636912766325, 1579.507091562035, 1302.2160914091776, 358.24807104477236, 911.3196587144771, 8586.90313625008, 8421.891261585364, 183.21942087811362, 289.71360725867225, 2904.5539152307606, 184.672007192508, 3681.410852377242, 1567.3430731503952, 267.709966981741, 5435.919678443813, 1672.8155514318562, 1645.1886481111696, 746.1092764353469, 1717.247307802121, 512.1708222466256, 3856.0049686916946, 1160.694350845987, 17021.85020235494, 3368.2922880604933, 2529.7216819609343, 3316.639228730061, 1651.2990670603347, 1122.8527718895955, 2700.2328883777723, 5584.192228498252, 9259.455285333364, 14746.05660539461, 69.78456877126212, 24.533608272840645, 19.078497063828372, 59.039000405897006, 16.219920494950113, 57.387774067628676, 17.455459160783796, 13.696191872297344, 25.820368195637382, 13.63166889899308, 17.425731238801728, 419.6723505389126, 14.139000762075119, 13.471586347320855, 10.345994657074371, 20.074923350485285, 8.509616188565355, 8.717237008317591, 10.593227324934313, 49.26665407718038, 11.053418838289232, 9.167520595635496, 7.8555293391464645, 23.25335433312153, 13.701545799864189, 11.686378634342347, 8.148693403020713, 10.076722148154978, 6.7242544520494345, 33.95992032186636, 41.04965477382547, 37.16783344561483, 52.150410453436145, 163.21907633459261, 23.951826431576283, 205.69579224100875, 47.49764210679499, 56.58003011505168, 76.35738214873481, 37.72456977874429, 24.74895490867709, 60.63215305187189, 134.15534568322497, 3580.436316975049, 313.9011009648355, 471.17508343720687, 205.30037916381903, 550.7403761883935, 158.3613985114837, 97.89537426536127, 330.448242597686, 564.1521409575138, 230.68968807640454, 550.633880081934, 348.1407931320611, 1265.678321412219, 7249.480668060121, 288.9649814562362, 2205.7716734314236, 424.627445067746, 1902.6513718990263, 2451.061789006193, 273.7504069146455, 1547.4257752966014, 5412.697789051533, 5435.919678443813, 11692.495248853707, 6276.937989537364, 3316.639228730061, 8421.891261585364, 13589.113554791691, 2683.320228857976, 2365.4258278280367, 3856.0049686916946, 4453.470750168103, 4094.893621603386, 12443.839115740106, 2554.0928377839296, 5845.812842587762, 2450.810894698202, 1567.3430731503952, 8179.892434132081, 7212.3812134036, 10295.440890121865, 8010.784201223124, 14746.05660539461, 27.944179607962546, 10.982797033945497, 6.364351251609329, 3.001187352800776, 2.557997032941971, 19.2932932792421, 1.7599147781898221, 1.824903406625098, 1.8026534463537933, 1.55253513105198, 1.6141515621306761, 4.174056297867727, 99.34558924277971, 2.6236155583061764, 4.034143563227616, 14.074570556399333, 2.892730417365116, 5.2915150069086625, 1.4062818673630473, 1.4099946857166077, 1.5956617155283404, 1.4081697371533892, 2.725103670918185, 1.738450627159947, 1.420390136891743, 1.4102697014893386, 4.59227876790166, 2.226537610254114, 1.4728017711762498, 1.406619879294117, 4.3329918022256795, 7.8265398227116325, 3.8245473118930944, 7.287530014633337, 9.15451411599312, 27.41836004306069, 6.366547078696698, 32.462693977173366, 3.733609483771183, 24.641328356107646, 56.58003011505168, 91.91581036095943, 748.8672081011171, 680.554388982257, 599.7572281617257, 348.1407931320611, 14746.05660539461, 1951.4426436485917, 335.4426481692473, 1557.742102928617, 2365.4258278280367, 8179.892434132081, 17021.85020235494, 12443.839115740106, 9259.455285333364, 2451.061789006193, 5435.919678443813, 8786.614793415854, 2683.320228857976, 7212.3812134036, 2657.452568285557, 11692.495248853707, 8010.784201223124, 5694.56022256351, 8421.891261585364, 3316.639228730061, 3856.0049686916946, 11067.699975767582, 13589.113554791691, 7156.203497074382, 7014.364122926992], \"Category\": [\"Default\", \"Default\", \"Default\", \"Default\", \"Default\", \"Default\", \"Default\", \"Default\", \"Default\", \"Default\", \"Default\", \"Default\", \"Default\", \"Default\", \"Default\", \"Default\", \"Default\", \"Default\", \"Default\", \"Default\", \"Default\", \"Default\", \"Default\", \"Default\", \"Default\", \"Default\", \"Default\", \"Default\", \"Default\", \"Default\", \"Topic1\", \"Topic1\", \"Topic1\", \"Topic1\", \"Topic1\", \"Topic1\", \"Topic1\", \"Topic1\", \"Topic1\", \"Topic1\", \"Topic1\", \"Topic1\", \"Topic1\", \"Topic1\", \"Topic1\", \"Topic1\", \"Topic1\", \"Topic1\", \"Topic1\", \"Topic1\", \"Topic1\", \"Topic1\", \"Topic1\", \"Topic1\", \"Topic1\", \"Topic1\", \"Topic1\", \"Topic1\", \"Topic1\", \"Topic1\", \"Topic1\", \"Topic1\", \"Topic1\", \"Topic1\", \"Topic1\", \"Topic1\", \"Topic1\", \"Topic1\", \"Topic1\", \"Topic1\", \"Topic1\", \"Topic1\", \"Topic1\", \"Topic1\", \"Topic1\", \"Topic1\", \"Topic1\", \"Topic1\", \"Topic1\", \"Topic1\", \"Topic1\", \"Topic1\", \"Topic1\", \"Topic1\", \"Topic1\", \"Topic1\", \"Topic1\", \"Topic1\", \"Topic1\", \"Topic1\", \"Topic1\", \"Topic1\", \"Topic1\", \"Topic1\", \"Topic1\", \"Topic1\", \"Topic1\", \"Topic1\", \"Topic1\", \"Topic1\", \"Topic1\", \"Topic1\", \"Topic1\", \"Topic1\", \"Topic1\", \"Topic1\", \"Topic1\", \"Topic1\", \"Topic1\", \"Topic1\", \"Topic1\", \"Topic1\", \"Topic1\", \"Topic1\", \"Topic1\", \"Topic1\", \"Topic1\", \"Topic1\", \"Topic1\", \"Topic1\", \"Topic1\", \"Topic2\", \"Topic2\", \"Topic2\", \"Topic2\", \"Topic2\", \"Topic2\", \"Topic2\", \"Topic2\", \"Topic2\", \"Topic2\", \"Topic2\", \"Topic2\", \"Topic2\", \"Topic2\", \"Topic2\", \"Topic2\", \"Topic2\", \"Topic2\", \"Topic2\", \"Topic2\", \"Topic2\", \"Topic2\", \"Topic2\", \"Topic2\", \"Topic2\", \"Topic2\", \"Topic2\", \"Topic2\", \"Topic2\", \"Topic2\", \"Topic2\", \"Topic2\", \"Topic2\", \"Topic2\", \"Topic2\", \"Topic2\", \"Topic2\", \"Topic2\", \"Topic2\", \"Topic2\", \"Topic2\", \"Topic2\", \"Topic2\", \"Topic2\", \"Topic2\", \"Topic2\", \"Topic2\", \"Topic2\", \"Topic2\", \"Topic2\", \"Topic2\", \"Topic2\", \"Topic2\", \"Topic2\", \"Topic2\", \"Topic2\", \"Topic2\", \"Topic2\", \"Topic2\", \"Topic2\", \"Topic2\", \"Topic2\", \"Topic2\", \"Topic2\", \"Topic2\", \"Topic2\", \"Topic2\", \"Topic2\", \"Topic2\", \"Topic2\", \"Topic2\", \"Topic2\", \"Topic2\", \"Topic2\", \"Topic2\", \"Topic2\", \"Topic2\", \"Topic2\", \"Topic2\", \"Topic2\", \"Topic2\", \"Topic2\", \"Topic2\", \"Topic2\", \"Topic2\", \"Topic2\", \"Topic2\", \"Topic2\", \"Topic2\", \"Topic2\", \"Topic3\", \"Topic3\", \"Topic3\", \"Topic3\", \"Topic3\", \"Topic3\", \"Topic3\", \"Topic3\", \"Topic3\", \"Topic3\", \"Topic3\", \"Topic3\", \"Topic3\", \"Topic3\", \"Topic3\", \"Topic3\", \"Topic3\", \"Topic3\", \"Topic3\", \"Topic3\", \"Topic3\", \"Topic3\", \"Topic3\", \"Topic3\", \"Topic3\", \"Topic3\", \"Topic3\", \"Topic3\", \"Topic3\", \"Topic3\", \"Topic3\", \"Topic3\", \"Topic3\", \"Topic3\", \"Topic3\", \"Topic3\", \"Topic3\", \"Topic3\", \"Topic3\", \"Topic3\", \"Topic3\", \"Topic3\", \"Topic3\", \"Topic3\", \"Topic3\", \"Topic3\", \"Topic3\", \"Topic3\", \"Topic3\", \"Topic3\", \"Topic3\", \"Topic3\", \"Topic3\", \"Topic3\", \"Topic3\", \"Topic3\", \"Topic3\", \"Topic3\", \"Topic3\", \"Topic3\", \"Topic3\", \"Topic3\", \"Topic3\", \"Topic3\", \"Topic3\", \"Topic3\", \"Topic3\", \"Topic3\", \"Topic3\", \"Topic3\", \"Topic3\", \"Topic3\", \"Topic3\", \"Topic3\", \"Topic3\", \"Topic3\", \"Topic3\", \"Topic3\", \"Topic3\", \"Topic3\", \"Topic3\", \"Topic3\", \"Topic3\", \"Topic3\", \"Topic3\", \"Topic3\", \"Topic4\", \"Topic4\", \"Topic4\", \"Topic4\", \"Topic4\", \"Topic4\", \"Topic4\", \"Topic4\", \"Topic4\", \"Topic4\", \"Topic4\", \"Topic4\", \"Topic4\", \"Topic4\", \"Topic4\", \"Topic4\", \"Topic4\", \"Topic4\", \"Topic4\", \"Topic4\", \"Topic4\", \"Topic4\", \"Topic4\", \"Topic4\", \"Topic4\", \"Topic4\", \"Topic4\", \"Topic4\", \"Topic4\", \"Topic4\", \"Topic4\", \"Topic4\", \"Topic4\", \"Topic4\", \"Topic4\", \"Topic4\", \"Topic4\", \"Topic4\", \"Topic4\", \"Topic4\", \"Topic4\", \"Topic4\", \"Topic4\", \"Topic4\", \"Topic4\", \"Topic4\", \"Topic4\", \"Topic4\", \"Topic4\", \"Topic4\", \"Topic4\", \"Topic4\", \"Topic4\", \"Topic4\", \"Topic4\", \"Topic4\", \"Topic4\", \"Topic4\", \"Topic4\", \"Topic4\", \"Topic4\", \"Topic4\", \"Topic4\", \"Topic4\", \"Topic4\", \"Topic4\", \"Topic4\", \"Topic4\", \"Topic4\", \"Topic4\", \"Topic4\", \"Topic4\", \"Topic4\", \"Topic4\", \"Topic4\", \"Topic4\", \"Topic4\", \"Topic4\", \"Topic4\", \"Topic4\", \"Topic4\", \"Topic4\", \"Topic4\", \"Topic4\", \"Topic4\", \"Topic4\", \"Topic4\", \"Topic5\", \"Topic5\", \"Topic5\", \"Topic5\", \"Topic5\", \"Topic5\", \"Topic5\", \"Topic5\", \"Topic5\", \"Topic5\", \"Topic5\", \"Topic5\", \"Topic5\", \"Topic5\", \"Topic5\", \"Topic5\", \"Topic5\", \"Topic5\", \"Topic5\", \"Topic5\", \"Topic5\", \"Topic5\", \"Topic5\", \"Topic5\", \"Topic5\", \"Topic5\", \"Topic5\", \"Topic5\", \"Topic5\", \"Topic5\", \"Topic5\", \"Topic5\", \"Topic5\", \"Topic5\", \"Topic5\", \"Topic5\", \"Topic5\", \"Topic5\", \"Topic5\", \"Topic5\", \"Topic5\", \"Topic5\", \"Topic5\", \"Topic5\", \"Topic5\", \"Topic5\", \"Topic5\", \"Topic5\", \"Topic5\", \"Topic5\", \"Topic5\", \"Topic5\", \"Topic5\", \"Topic5\", \"Topic5\", \"Topic5\", \"Topic5\", \"Topic5\", \"Topic5\", \"Topic5\", \"Topic5\", \"Topic5\", \"Topic5\", \"Topic5\", \"Topic5\", \"Topic5\", \"Topic5\", \"Topic5\", \"Topic5\", \"Topic5\", \"Topic5\", \"Topic5\", \"Topic5\", \"Topic5\", \"Topic5\", \"Topic5\", \"Topic5\", \"Topic5\", \"Topic5\", \"Topic5\", \"Topic5\", \"Topic5\", \"Topic5\", \"Topic5\", \"Topic6\", \"Topic6\", \"Topic6\", \"Topic6\", \"Topic6\", \"Topic6\", \"Topic6\", \"Topic6\", \"Topic6\", \"Topic6\", \"Topic6\", \"Topic6\", \"Topic6\", \"Topic6\", \"Topic6\", \"Topic6\", \"Topic6\", \"Topic6\", \"Topic6\", \"Topic6\", \"Topic6\", \"Topic6\", \"Topic6\", \"Topic6\", \"Topic6\", \"Topic6\", \"Topic6\", \"Topic6\", \"Topic6\", \"Topic6\", \"Topic6\", \"Topic6\", \"Topic6\", \"Topic6\", \"Topic6\", \"Topic6\", \"Topic6\", \"Topic6\", \"Topic6\", \"Topic6\", \"Topic6\", \"Topic6\", \"Topic6\", \"Topic6\", \"Topic6\", \"Topic6\", \"Topic6\", \"Topic6\", \"Topic6\", \"Topic6\", \"Topic6\", \"Topic6\", \"Topic6\", \"Topic6\", \"Topic6\", \"Topic6\", \"Topic6\", \"Topic6\", \"Topic6\", \"Topic6\", \"Topic6\", \"Topic6\", \"Topic6\", \"Topic6\", \"Topic6\", \"Topic6\", \"Topic6\", \"Topic6\", \"Topic6\", \"Topic6\", \"Topic6\", \"Topic6\", \"Topic6\", \"Topic6\", \"Topic6\", \"Topic6\", \"Topic6\", \"Topic6\", \"Topic6\", \"Topic6\", \"Topic7\", \"Topic7\", \"Topic7\", \"Topic7\", \"Topic7\", \"Topic7\", \"Topic7\", \"Topic7\", \"Topic7\", \"Topic7\", \"Topic7\", \"Topic7\", \"Topic7\", \"Topic7\", \"Topic7\", \"Topic7\", \"Topic7\", \"Topic7\", \"Topic7\", \"Topic7\", \"Topic7\", \"Topic7\", \"Topic7\", \"Topic7\", \"Topic7\", \"Topic7\", \"Topic7\", \"Topic7\", \"Topic7\", \"Topic7\", \"Topic7\", \"Topic7\", \"Topic7\", \"Topic7\", \"Topic7\", \"Topic7\", \"Topic7\", \"Topic7\", \"Topic7\", \"Topic7\", \"Topic7\", \"Topic7\", \"Topic7\", \"Topic7\", \"Topic7\", \"Topic7\", \"Topic7\", \"Topic7\", \"Topic7\", \"Topic7\", \"Topic7\", \"Topic7\", \"Topic7\", \"Topic7\", \"Topic7\", \"Topic7\", \"Topic7\", \"Topic7\", \"Topic7\", \"Topic7\", \"Topic7\", \"Topic7\", \"Topic7\", \"Topic7\", \"Topic7\", \"Topic7\", \"Topic7\", \"Topic7\", \"Topic7\", \"Topic7\", \"Topic7\", \"Topic7\", \"Topic7\", \"Topic7\", \"Topic7\", \"Topic8\", \"Topic8\", \"Topic8\", \"Topic8\", \"Topic8\", \"Topic8\", \"Topic8\", \"Topic8\", \"Topic8\", \"Topic8\", \"Topic8\", \"Topic8\", \"Topic8\", \"Topic8\", \"Topic8\", \"Topic8\", \"Topic8\", \"Topic8\", \"Topic8\", \"Topic8\", \"Topic8\", \"Topic8\", \"Topic8\", \"Topic8\", \"Topic8\", \"Topic8\", \"Topic8\", \"Topic8\", \"Topic8\", \"Topic8\", \"Topic8\", \"Topic8\", \"Topic8\", \"Topic8\", \"Topic8\", \"Topic8\", \"Topic8\", \"Topic8\", \"Topic8\", \"Topic8\", \"Topic8\", \"Topic8\", \"Topic8\", \"Topic8\", \"Topic8\", \"Topic8\", \"Topic8\", \"Topic8\", \"Topic8\", \"Topic8\", \"Topic8\", \"Topic8\", \"Topic8\", \"Topic8\", \"Topic8\", \"Topic8\", \"Topic8\", \"Topic8\", \"Topic8\", \"Topic8\", \"Topic8\", \"Topic8\", \"Topic8\", \"Topic8\", \"Topic8\", \"Topic8\", \"Topic8\", \"Topic8\", \"Topic8\", \"Topic8\", \"Topic8\", \"Topic8\", \"Topic8\", \"Topic8\", \"Topic8\", \"Topic8\", \"Topic8\", \"Topic8\", \"Topic8\", \"Topic8\", \"Topic8\", \"Topic8\", \"Topic8\", \"Topic8\", \"Topic8\", \"Topic9\", \"Topic9\", \"Topic9\", \"Topic9\", \"Topic9\", \"Topic9\", \"Topic9\", \"Topic9\", \"Topic9\", \"Topic9\", \"Topic9\", \"Topic9\", \"Topic9\", \"Topic9\", \"Topic9\", \"Topic9\", \"Topic9\", \"Topic9\", \"Topic9\", \"Topic9\", \"Topic9\", \"Topic9\", \"Topic9\", \"Topic9\", \"Topic9\", \"Topic9\", \"Topic9\", \"Topic9\", \"Topic9\", \"Topic9\", \"Topic9\", \"Topic9\", \"Topic9\", \"Topic9\", \"Topic9\", \"Topic9\", \"Topic9\", \"Topic9\", \"Topic9\", \"Topic9\", \"Topic9\", \"Topic9\", \"Topic9\", \"Topic9\", \"Topic9\", \"Topic9\", \"Topic9\", \"Topic9\", \"Topic9\", \"Topic9\", \"Topic9\", \"Topic9\", \"Topic9\", \"Topic9\", \"Topic9\", \"Topic9\", \"Topic9\", \"Topic9\", \"Topic9\", \"Topic9\", \"Topic9\", \"Topic9\", \"Topic9\", \"Topic9\", \"Topic9\", \"Topic9\", \"Topic9\", \"Topic9\", \"Topic9\", \"Topic9\", \"Topic9\", \"Topic9\", \"Topic9\", \"Topic9\", \"Topic9\", \"Topic9\", \"Topic9\", \"Topic9\", \"Topic9\", \"Topic9\", \"Topic9\", \"Topic9\", \"Topic9\", \"Topic9\", \"Topic9\", \"Topic9\", \"Topic10\", \"Topic10\", \"Topic10\", \"Topic10\", \"Topic10\", \"Topic10\", \"Topic10\", \"Topic10\", \"Topic10\", \"Topic10\", \"Topic10\", \"Topic10\", \"Topic10\", \"Topic10\", \"Topic10\", \"Topic10\", \"Topic10\", \"Topic10\", \"Topic10\", \"Topic10\", \"Topic10\", \"Topic10\", \"Topic10\", \"Topic10\", \"Topic10\", \"Topic10\", \"Topic10\", \"Topic10\", \"Topic10\", \"Topic10\", \"Topic10\", \"Topic10\", \"Topic10\", \"Topic10\", \"Topic10\", \"Topic10\", \"Topic10\", \"Topic10\", \"Topic10\", \"Topic10\", \"Topic10\", \"Topic10\", \"Topic10\", \"Topic10\", \"Topic10\", \"Topic10\", \"Topic10\", \"Topic10\", \"Topic10\", \"Topic10\", \"Topic10\", \"Topic10\", \"Topic10\", \"Topic10\", \"Topic10\", \"Topic10\", \"Topic10\", \"Topic10\", \"Topic10\", \"Topic10\", \"Topic10\", \"Topic10\", \"Topic10\", \"Topic10\", \"Topic10\", \"Topic10\", \"Topic10\", \"Topic10\", \"Topic10\", \"Topic10\", \"Topic10\"], \"logprob\": [30.0, 29.0, 28.0, 27.0, 26.0, 25.0, 24.0, 23.0, 22.0, 21.0, 20.0, 19.0, 18.0, 17.0, 16.0, 15.0, 14.0, 13.0, 12.0, 11.0, 10.0, 9.0, 8.0, 7.0, 6.0, 5.0, 4.0, 3.0, 2.0, 1.0, -7.7942, -8.0285, -8.5854, -8.9148, -8.6926, -8.4766, -9.1338, -8.9933, -8.9409, -8.1917, -9.2125, -9.1944, -7.8185, -9.0638, -9.3634, -8.9939, -9.4835, -9.3608, -9.3609, -9.6173, -9.5358, -9.5361, -9.5363, -9.6233, -9.4143, -9.3571, -9.6262, -9.2496, -8.9395, -9.6922, -8.9871, -9.2649, -8.0214, -7.5651, -9.1839, -8.6486, -6.8008, -6.8359, -8.8545, -8.7151, -9.119, -8.2341, -5.8052, -7.8251, -5.7753, -6.1607, -7.8331, -5.878, -6.8896, -7.2278, -5.6669, -6.4885, -4.6491, -4.4542, -7.813, -5.3506, -7.3835, -6.4738, -6.359, -6.2237, -5.2343, -5.3833, -4.7644, -4.5693, -6.3265, -4.4807, -5.0663, -5.0023, -5.3094, -5.6228, -4.8379, -5.1243, -5.5413, -4.3879, -4.6395, -5.0681, -5.3833, -4.9773, -4.7167, -4.8378, -4.5831, -5.314, -5.2528, -5.3236, -5.5048, -5.3653, -5.3968, -5.323, -5.4098, -5.389, -5.4937, -7.4738, -7.9299, -7.1261, -8.6488, -7.1775, -8.9399, -8.9353, -8.9051, -9.0295, -8.7473, -8.98, -9.4306, -9.0893, -9.4465, -9.5905, -9.1399, -9.2449, -9.6489, -9.528, -9.6963, -8.0325, -8.3295, -9.6847, -9.6407, -8.1626, -9.2997, -9.6664, -7.3455, -9.7949, -9.9853, -8.8418, -8.4226, -9.2773, -7.6966, -7.5774, -7.9266, -8.1289, -7.4366, -7.2701, -8.0618, -5.9719, -7.3941, -7.9929, -5.3996, -7.4983, -8.3504, -7.1412, -6.5974, -4.5611, -7.9286, -6.3147, -5.0575, -6.8602, -6.8433, -5.0512, -7.1105, -7.3486, -4.5472, -5.6749, -5.708, -5.8218, -5.7605, -4.9184, -4.949, -5.5366, -4.7103, -5.8943, -5.1783, -4.7427, -4.9775, -5.954, -5.0307, -4.9337, -5.4168, -5.6288, -5.0219, -5.1181, -5.337, -5.9369, -5.7232, -4.9297, -4.9525, -5.2507, -5.0847, -5.488, -5.2458, -5.616, -5.6655, -5.5785, -5.6512, -7.9022, -7.4069, -7.8964, -6.6545, -7.917, -8.2794, -7.8404, -6.9766, -8.3884, -8.3198, -8.3696, -8.451, -6.59, -8.5317, -8.0207, -7.8001, -7.7444, -6.3061, -8.2248, -8.6316, -8.5936, -6.9781, -7.9251, -8.6362, -7.3238, -8.7624, -8.7993, -8.037, -8.5417, -8.3743, -6.1098, -7.6762, -5.3176, -5.6617, -4.8679, -6.7157, -6.1551, -7.6223, -5.6674, -5.056, -5.31, -6.3369, -6.7198, -7.5477, -5.8549, -6.8688, -5.8492, -6.5142, -4.8609, -6.3884, -7.1193, -6.014, -6.171, -5.6792, -5.7282, -6.5529, -5.7066, -5.6239, -5.8549, -5.7619, -5.4245, -5.0046, -4.4464, -5.712, -4.9308, -5.1692, -5.8487, -4.2736, -5.6444, -5.1418, -4.8888, -4.9964, -5.0674, -4.5286, -5.3396, -5.7298, -5.3274, -5.1759, -5.3453, -5.4093, -5.4503, -5.5543, -5.4702, -5.592, -5.5802, -5.6432, -6.8984, -6.8744, -6.7556, -5.9592, -7.9444, -6.9937, -7.993, -8.0533, -8.0264, -7.9764, -8.0487, -8.0489, -8.0492, -8.0474, -8.1114, -7.5091, -7.4433, -8.2778, -7.4945, -8.0147, -8.5728, -8.1707, -8.4981, -8.8736, -8.8402, -8.8591, -7.2991, -8.1885, -8.8099, -9.0991, -5.8081, -7.3619, -5.4128, -7.8939, -6.1858, -7.4328, -5.8784, -7.5631, -5.8897, -7.0309, -7.5611, -6.3165, -6.6228, -6.7557, -6.996, -6.3592, -7.3837, -6.0933, -7.3337, -6.8598, -6.1539, -7.3108, -5.6019, -6.3766, -5.7333, -4.1736, -6.2993, -5.6742, -4.4447, -6.0265, -6.3515, -4.5384, -5.8735, -5.2009, -4.9992, -4.4844, -5.0082, -5.296, -5.2886, -4.8529, -5.3297, -5.0665, -5.6856, -5.3732, -5.6795, -5.7481, -5.6537, -5.8161, -5.4817, -5.7162, -5.4078, -5.6631, -5.5167, -5.5706, -5.5048, -5.6741, -5.7689, -7.4365, -7.6343, -7.7185, -7.0257, -7.2554, -7.9937, -7.6661, -7.9372, -8.2714, -7.2072, -8.4616, -8.4914, -7.121, -8.7368, -8.7508, -8.7883, -6.8307, -8.8921, -8.9278, -8.5271, -9.0831, -9.1435, -9.1473, -9.131, -9.2016, -9.1816, -8.3781, -6.7316, -8.0666, -9.4245, -7.4328, -6.799, -7.0818, -5.2249, -6.8571, -7.2176, -6.535, -7.2058, -6.697, -8.0522, -7.4026, -7.135, -5.5194, -7.8414, -7.5573, -5.4761, -7.3753, -5.0506, -3.9458, -5.0027, -4.0998, -6.5104, -4.2948, -6.0916, -6.0882, -4.0937, -5.9635, -5.9291, -5.1681, -4.859, -5.5433, -4.6312, -4.9728, -4.983, -5.7885, -5.644, -5.013, -5.3009, -4.8136, -5.3194, -5.6557, -5.0552, -5.0167, -5.2722, -5.7286, -5.3618, -5.395, -5.5193, -5.4948, -5.4034, -5.5674, -5.3638, -5.5316, -5.5007, -6.5476, -6.5257, -6.8324, -6.9793, -7.3174, -7.5036, -5.7851, -7.7796, -7.4428, -7.5053, -7.9411, -6.2605, -8.0215, -8.1424, -7.3413, -7.976, -7.995, -8.3845, -8.4138, -8.4705, -7.672, -7.9742, -8.0399, -8.7488, -7.8706, -7.1235, -8.5907, -7.5415, -7.4045, -8.0078, -7.2414, -5.873, -6.0819, -6.1216, -6.6696, -6.3869, -5.7585, -6.5218, -6.8301, -6.3918, -4.5874, -5.6934, -4.9366, -6.6327, -6.1415, -6.3981, -6.5672, -5.9167, -4.371, -5.4858, -5.9486, -5.6296, -5.8921, -6.3145, -3.4741, -5.0491, -4.6623, -4.6987, -5.6132, -4.2493, -5.3214, -5.2306, -5.4142, -5.2433, -4.9876, -5.8662, -5.7304, -5.9531, -5.0558, -5.1577, -5.4705, -5.7185, -5.481, -5.6405, -5.5926, -5.6032, -5.7223, -5.6962, -5.7154, -5.7288, -7.1171, -7.2701, -7.3902, -7.6595, -7.8863, -6.6045, -7.7153, -8.1651, -8.0508, -7.5951, -7.7373, -7.6358, -7.9517, -8.0759, -6.6773, -7.5339, -8.359, -6.0595, -8.4015, -8.3881, -8.8758, -7.8638, -7.1535, -8.8693, -8.9335, -8.4377, -8.9009, -8.1455, -9.1295, -9.2384, -7.1435, -7.8315, -7.8736, -6.9665, -7.2482, -8.1411, -7.7153, -6.7547, -4.7963, -6.8252, -6.0412, -4.2541, -5.0082, -4.44, -5.4497, -3.9896, -3.993, -4.7957, -5.2384, -5.0192, -4.3111, -6.3013, -5.4131, -5.5925, -6.1007, -5.7653, -6.1345, -5.0943, -4.9038, -5.4544, -5.5925, -5.4044, -5.6468, -5.172, -5.1397, -5.2212, -5.3574, -5.1419, -5.1752, -5.496, -5.4961, -5.3995, -5.4124, -5.482, -5.5674, -5.4444, -7.2336, -7.2502, -7.2555, -6.9519, -7.3729, -7.6373, -7.5329, -6.8639, -7.7516, -8.0004, -7.9706, -7.4726, -7.5938, -8.2517, -7.1661, -7.9851, -8.2517, -7.48, -8.3887, -8.5408, -6.8856, -8.661, -7.6668, -8.6012, -8.3087, -8.5001, -8.0105, -5.8517, -6.5431, -6.5066, -6.4104, -7.0135, -5.9669, -6.7711, -6.053, -6.0957, -6.4622, -6.2304, -6.8629, -6.659, -6.3882, -6.6653, -6.7002, -6.1777, -6.4988, -5.9486, -5.948, -5.817, -6.2947, -5.3245, -5.7355, -4.0099, -6.1389, -4.6027, -4.7502, -5.6854, -5.0531, -3.6101, -3.6518, -6.2051, -5.9179, -4.4841, -6.2156, -4.6261, -5.1435, -6.0368, -4.6412, -5.2187, -5.2482, -5.5963, -5.2455, -5.7974, -5.1287, -5.5327, -4.8077, -5.3923, -5.4763, -5.5737, -5.6907, -5.783, -5.7112, -5.6601, -5.7277, -5.7401, -6.5552, -7.6312, -7.9014, -6.7784, -8.0742, -6.824, -8.0153, -8.2585, -7.6259, -8.2654, -8.0218, -4.8461, -8.2434, -8.2987, -8.5653, -7.9235, -8.7866, -8.7652, -8.5722, -7.0363, -8.5354, -8.7311, -8.8941, -7.8171, -8.3605, -8.5334, -8.8958, -8.6924, -9.099, -7.4903, -7.3016, -7.4375, -7.1263, -6.0863, -7.8728, -6.0401, -7.3141, -7.1842, -6.954, -7.5491, -7.8867, -7.1789, -6.5766, -4.0535, -5.9391, -5.6449, -6.2799, -5.5598, -6.51, -6.8711, -6.0892, -5.7704, -6.3443, -5.8198, -6.1488, -5.4303, -4.493, -6.2979, -5.2081, -6.1004, -5.3427, -5.2253, -6.3752, -5.5975, -5.0311, -5.0517, -4.7758, -5.0499, -5.3224, -4.9608, -4.8347, -5.4413, -5.5053, -5.3549, -5.3073, -5.3447, -5.0044, -5.5707, -5.404, -5.6191, -5.7478, -5.5272, -5.5847, -5.5735, -5.607, -5.6375, -5.4237, -6.6548, -7.5203, -8.8566, -9.1554, -7.1523, -9.571, -9.6979, -9.7617, -9.9246, -9.904, -8.9753, -5.8887, -9.5518, -9.1393, -7.9198, -9.5034, -8.9765, -10.3507, -10.3498, -10.2732, -10.4043, -9.7492, -10.2068, -10.4123, -10.4258, -9.2461, -9.9729, -10.3958, -10.4445, -9.3718, -8.8282, -9.5633, -9.075, -8.9605, -8.1474, -9.2544, -8.1546, -9.6839, -8.4748, -8.1171, -8.0187, -7.0588, -7.2277, -7.3074, -7.5938, -6.0636, -6.9245, -7.6408, -7.1486, -7.0042, -6.5587, -6.3966, -6.6238, -6.7668, -7.2346, -7.0273, -6.9096, -7.2429, -7.0064, -7.2678, -6.9061, -7.0148, -7.0928, -7.0083, -7.2386, -7.2121, -7.094, -7.1002, -7.1734, -7.2321], \"loglift\": [30.0, 29.0, 28.0, 27.0, 26.0, 25.0, 24.0, 23.0, 22.0, 21.0, 20.0, 19.0, 18.0, 17.0, 16.0, 15.0, 14.0, 13.0, 12.0, 11.0, 10.0, 9.0, 8.0, 7.0, 6.0, 5.0, 4.0, 3.0, 2.0, 1.0, 1.127, 1.1256, 1.1201, 1.1138, 1.1131, 1.111, 1.1108, 1.1095, 1.1093, 1.1089, 1.1077, 1.1074, 1.1052, 1.101, 1.1003, 1.0999, 1.0994, 1.0991, 1.0985, 1.0967, 1.0963, 1.096, 1.0957, 1.0944, 1.0934, 1.0924, 1.0913, 1.0911, 1.0908, 1.0907, 1.0886, 1.0905, 1.0693, 1.06, 1.0892, 1.078, 1.0129, 1.0138, 1.076, 1.0628, 1.083, 1.0345, 0.8563, 0.9921, 0.8291, 0.8335, 0.9788, 0.7948, 0.887, 0.8944, 0.7148, 0.8061, 0.5701, 0.546, 0.9528, 0.6399, 0.894, 0.7573, 0.733, 0.7079, 0.536, 0.5495, 0.4318, 0.3961, 0.6955, 0.2795, 0.4064, 0.3913, 0.4369, 0.5052, 0.3059, 0.3717, 0.4805, 0.1471, 0.2087, 0.3334, 0.4243, 0.2905, 0.1938, 0.2, 0.0953, 0.3355, 0.2665, 0.2708, 0.3523, 0.1672, 0.2069, -0.0344, 0.0116, -0.1504, 0.1855, 1.6847, 1.6789, 1.6761, 1.6694, 1.6626, 1.6615, 1.6591, 1.6573, 1.649, 1.6479, 1.6462, 1.642, 1.6405, 1.6391, 1.634, 1.6339, 1.6328, 1.6307, 1.6287, 1.6287, 1.6279, 1.626, 1.6237, 1.6216, 1.619, 1.6144, 1.6141, 1.6132, 1.6096, 1.6095, 1.609, 1.6038, 1.6067, 1.5727, 1.5655, 1.5631, 1.5681, 1.536, 1.5206, 1.5556, 1.4402, 1.5164, 1.5431, 1.3266, 1.4883, 1.5633, 1.435, 1.3729, 1.1196, 1.5189, 1.3158, 1.113, 1.3657, 1.3612, 1.0428, 1.3811, 1.4174, 0.8413, 1.0604, 1.0346, 1.0458, 1.0089, 0.758, 0.6809, 0.8458, 0.5783, 0.9497, 0.6477, 0.4535, 0.424, 0.8469, 0.3908, 0.334, 0.5429, 0.6064, 0.2167, 0.2756, 0.4054, 0.7724, 0.5549, -0.1696, -0.4176, -0.1069, -0.4063, 0.1157, -0.3976, 0.1339, 0.2103, -0.5408, 0.0281, 1.9953, 1.9938, 1.9922, 1.9909, 1.9908, 1.9885, 1.9868, 1.9859, 1.9858, 1.9847, 1.9838, 1.9834, 1.9827, 1.9821, 1.9813, 1.9813, 1.9807, 1.9805, 1.9786, 1.9785, 1.9783, 1.9781, 1.9775, 1.9764, 1.9754, 1.9738, 1.9722, 1.9701, 1.97, 1.9696, 1.9693, 1.9677, 1.9384, 1.9275, 1.9023, 1.9312, 1.911, 1.9559, 1.874, 1.8395, 1.8427, 1.8905, 1.9086, 1.9488, 1.8556, 1.9078, 1.8367, 1.8825, 1.7521, 1.8553, 1.9162, 1.8024, 1.8043, 1.747, 1.7379, 1.8349, 1.6894, 1.671, 1.6989, 1.681, 1.5898, 1.4651, 1.3057, 1.6078, 1.2465, 1.3348, 1.5861, 0.7641, 1.4621, 1.1785, 1.0195, 0.9719, 0.9853, 0.1499, 0.5939, 1.2638, -0.0387, -0.641, -0.4971, -0.2655, -0.1826, 0.4363, -0.71, -0.0594, -0.6697, -0.6778, 2.2666, 2.2611, 2.2596, 2.253, 2.2519, 2.2515, 2.2513, 2.2508, 2.2506, 2.2504, 2.25, 2.2499, 2.2496, 2.2485, 2.2482, 2.2481, 2.2452, 2.245, 2.2407, 2.2391, 2.2348, 2.2273, 2.2272, 2.223, 2.2223, 2.2209, 2.2179, 2.2141, 2.2139, 2.2106, 2.1948, 2.187, 2.1442, 2.1932, 2.1326, 2.1757, 2.097, 2.1759, 2.0068, 2.1024, 2.1605, 1.9475, 1.9832, 2.0066, 2.0476, 1.9066, 2.116, 1.8422, 2.096, 1.9287, 1.7099, 2.0449, 1.4648, 1.671, 1.3784, 0.6746, 1.5913, 1.2465, 0.5207, 1.4024, 1.5534, 0.3721, 1.1893, 0.6768, 0.4968, 0.0505, 0.4644, 0.6881, 0.5872, 0.1473, 0.6037, 0.322, 0.8163, 0.4082, 0.7885, 0.8303, 0.6447, 0.9127, 0.1128, 0.6782, -0.264, 0.5006, 0.0158, -0.332, -0.8263, -0.2526, 0.5235, 2.4124, 2.4094, 2.4048, 2.4018, 2.3898, 2.3894, 2.3884, 2.3878, 2.3877, 2.387, 2.3858, 2.3846, 2.3783, 2.3748, 2.3735, 2.3733, 2.3682, 2.3663, 2.3658, 2.3635, 2.3558, 2.3518, 2.3515, 2.3506, 2.3471, 2.3378, 2.3356, 2.3301, 2.3301, 2.3287, 2.3176, 2.3002, 2.2951, 2.2303, 2.2706, 2.2796, 2.2507, 2.2745, 2.2213, 2.2874, 2.1927, 2.1422, 1.8825, 2.2419, 2.1788, 1.5765, 2.0891, 1.2564, 0.8144, 1.1941, 0.8107, 1.7439, 0.7054, 1.5241, 1.5221, 0.4413, 1.4077, 1.374, 0.8905, 0.5624, 1.0336, 0.3342, 0.5465, 0.5495, 1.1755, 0.9329, 0.2756, 0.5562, 0.0346, 0.5065, 0.8761, 0.0886, 0.0211, 0.3223, 0.9436, 0.1108, 0.101, 0.3565, 0.2866, -0.1648, 0.3473, -0.6853, 0.1477, -0.1122, 2.8734, 2.8712, 2.8676, 2.8647, 2.8627, 2.8584, 2.8552, 2.8528, 2.8489, 2.8486, 2.8463, 2.8456, 2.8449, 2.8376, 2.8345, 2.8319, 2.8288, 2.8262, 2.8237, 2.8231, 2.815, 2.8117, 2.8084, 2.8053, 2.8011, 2.7996, 2.795, 2.7939, 2.7918, 2.788, 2.7692, 2.7029, 2.6974, 2.66, 2.6982, 2.6676, 2.5932, 2.6638, 2.6967, 2.6473, 2.4371, 2.5697, 2.4554, 2.6717, 2.5698, 2.5828, 2.568, 2.3894, 1.9274, 2.2299, 2.3379, 2.212, 2.2812, 2.4431, 1.2044, 1.6766, 1.1452, 1.0437, 1.6897, 0.2856, 1.1871, 1.0349, 1.1428, 0.7837, 0.2316, 1.7046, 1.4415, 1.8425, -0.2076, -0.2473, 0.2087, 1.0456, -0.3373, 0.4257, 0.0373, -0.3355, 0.6721, -0.6584, -0.75, -0.5326, 3.0425, 3.0402, 3.0372, 3.0297, 3.0228, 3.0164, 3.0145, 3.0093, 3.0081, 3.0066, 3.0023, 2.9926, 2.9923, 2.9882, 2.9681, 2.9679, 2.9568, 2.9482, 2.9402, 2.9359, 2.9343, 2.9295, 2.927, 2.9269, 2.924, 2.9195, 2.9065, 2.9051, 2.9043, 2.9033, 2.8909, 2.8972, 2.8852, 2.8545, 2.8133, 2.874, 2.8345, 2.6699, 2.2319, 2.6053, 2.3669, 1.6826, 1.8205, 1.5507, 1.6675, 0.7706, 0.5419, 1.0119, 1.2947, 1.0027, 0.3674, 1.8233, 1.0051, 1.1497, 1.5799, 1.2567, 1.5359, 0.425, 0.0616, 0.7213, 0.8006, 0.5103, 0.8377, 0.0666, 0.0041, 0.0674, 0.2463, -0.1417, -0.2647, 0.2854, 0.1338, -0.1318, -0.3747, -0.0883, 0.1119, 3.3209, 3.3095, 3.3093, 3.3082, 3.3053, 3.3043, 3.2961, 3.288, 3.2879, 3.2874, 3.2785, 3.2785, 3.2689, 3.2688, 3.2614, 3.2603, 3.2587, 3.2578, 3.2541, 3.2509, 3.2379, 3.2281, 3.2253, 3.2253, 3.2201, 3.2155, 3.2154, 3.2104, 3.2101, 3.2076, 3.1744, 3.1608, 3.1635, 3.1125, 3.1432, 3.0868, 3.0717, 3.097, 3.0725, 3.131, 3.1038, 3.0302, 3.067, 3.0692, 2.9521, 3.0228, 2.8817, 2.8739, 2.8327, 2.9486, 2.6452, 2.7576, 2.1658, 2.8857, 2.3096, 2.3552, 2.7105, 2.4092, 1.6091, 1.5868, 2.8614, 2.6904, 1.8191, 2.843, 1.44, 1.7766, 2.6505, 1.0352, 1.6362, 1.6234, 2.066, 1.5832, 2.2411, 0.8911, 1.6877, -0.2728, 0.7628, 0.965, 0.5968, 1.1772, 1.4706, 0.6649, -0.0106, -0.5839, -1.0616, 3.4766, 3.4459, 3.4272, 3.4206, 3.4167, 3.4033, 3.4023, 3.4016, 3.4001, 3.3994, 3.3975, 3.3917, 3.3849, 3.3779, 3.3753, 3.3542, 3.3494, 3.3467, 3.3447, 3.3436, 3.339, 3.3304, 3.3218, 3.3136, 3.2992, 3.2854, 3.2835, 3.2745, 3.2725, 3.2617, 3.2608, 3.2242, 3.1968, 3.0958, 3.2283, 2.9107, 3.1024, 3.0573, 2.9878, 3.0978, 3.1817, 2.9934, 2.8016, 2.0405, 2.589, 2.477, 2.6728, 2.4061, 2.7023, 2.8222, 2.3875, 2.1714, 2.4918, 2.1463, 2.2758, 1.7035, 0.8955, 2.313, 1.3702, 2.1256, 1.3835, 1.2476, 2.2898, 1.3353, 0.6496, 0.6247, 0.1347, 0.4826, 0.8481, 0.2778, -0.0746, 0.9411, 1.0032, 0.6649, 0.5685, 0.615, -0.1562, 0.861, 0.1997, 0.8539, 1.1723, -0.2594, -0.1911, -0.5358, -0.3184, -0.959, 5.5232, 5.2261, 4.9062, 4.3215, 4.1826, 4.1651, 4.1409, 3.9777, 3.9262, 3.9127, 3.8944, 3.873, 3.7899, 3.7609, 3.7431, 3.713, 3.7116, 3.6346, 3.5856, 3.5838, 3.5367, 3.5306, 3.5254, 3.5174, 3.514, 3.5076, 3.5067, 3.5038, 3.4943, 3.4915, 3.4392, 3.3915, 3.3725, 3.2161, 3.1024, 2.8186, 3.1717, 2.6425, 3.2759, 2.5979, 2.1244, 1.7376, 0.5999, 0.5266, 0.5733, 0.8308, -1.3851, -0.2237, 0.8209, -0.2224, -0.4957, -1.2909, -1.8616, -1.7756, -1.623, -0.7616, -1.3509, -1.7134, -0.8606, -1.6127, -0.8757, -1.9956, -1.7262, -1.4629, -1.7697, -1.0681, -1.1923, -2.1286, -2.34, -1.7719, -1.8106]}, \"token.table\": {\"Topic\": [1, 3, 4, 6, 7, 2, 7, 9, 1, 2, 3, 4, 5, 6, 7, 8, 9, 1, 2, 3, 4, 5, 6, 7, 9, 1, 2, 3, 5, 7, 8, 9, 1, 2, 3, 4, 5, 6, 7, 8, 9, 3, 9, 1, 2, 3, 4, 5, 6, 7, 8, 9, 9, 7, 1, 2, 3, 4, 5, 6, 7, 8, 9, 1, 2, 3, 4, 5, 7, 8, 9, 3, 8, 3, 6, 1, 2, 3, 4, 5, 6, 7, 8, 9, 1, 2, 3, 4, 5, 6, 7, 8, 9, 4, 4, 9, 1, 2, 3, 4, 5, 9, 1, 2, 3, 4, 5, 6, 7, 8, 9, 1, 1, 2, 3, 4, 5, 6, 7, 8, 9, 1, 2, 3, 5, 6, 8, 9, 3, 2, 1, 2, 3, 4, 5, 6, 7, 8, 9, 1, 7, 8, 7, 1, 2, 3, 4, 5, 6, 7, 8, 9, 1, 2, 3, 4, 5, 6, 7, 8, 9, 3, 1, 2, 3, 4, 5, 6, 7, 8, 9, 1, 2, 3, 4, 5, 6, 7, 8, 9, 1, 2, 1, 2, 3, 4, 5, 6, 7, 8, 9, 1, 2, 3, 4, 6, 7, 8, 5, 1, 2, 3, 4, 5, 6, 7, 8, 9, 1, 2, 3, 4, 5, 6, 7, 8, 9, 1, 2, 3, 4, 5, 6, 7, 8, 9, 7, 7, 1, 7, 8, 1, 2, 3, 4, 5, 6, 7, 8, 9, 1, 2, 4, 9, 1, 5, 8, 1, 2, 4, 5, 6, 1, 2, 3, 4, 5, 6, 7, 8, 9, 1, 2, 4, 5, 9, 1, 2, 4, 5, 6, 1, 2, 3, 4, 5, 6, 7, 8, 9, 5, 6, 7, 9, 1, 1, 2, 3, 4, 5, 6, 7, 8, 9, 1, 2, 3, 4, 9, 1, 2, 3, 4, 5, 6, 7, 8, 9, 3, 1, 8, 1, 3, 1, 2, 3, 4, 5, 6, 7, 8, 9, 2, 3, 9, 2, 3, 9, 1, 2, 3, 5, 1, 2, 3, 4, 5, 6, 7, 8, 9, 1, 2, 3, 4, 5, 6, 8, 9, 1, 3, 5, 1, 2, 3, 4, 2, 3, 4, 9, 1, 2, 3, 4, 5, 6, 9, 1, 2, 3, 4, 5, 6, 7, 8, 9, 3, 1, 2, 3, 4, 5, 7, 1, 4, 6, 2, 3, 4, 9, 3, 1, 3, 5, 1, 2, 4, 5, 9, 1, 2, 3, 4, 5, 8, 1, 2, 3, 5, 8, 1, 3, 5, 8, 5, 2, 9, 2, 1, 2, 3, 4, 5, 6, 7, 8, 9, 1, 2, 3, 6, 1, 5, 1, 2, 3, 4, 5, 6, 7, 8, 9, 1, 8, 2, 4, 8, 1, 2, 4, 5, 2, 8, 1, 2, 3, 4, 5, 6, 8, 9, 1, 2, 3, 4, 5, 6, 7, 8, 9, 3, 6, 2, 3, 4, 5, 6, 8, 9, 4, 4, 6, 1, 2, 3, 4, 5, 6, 7, 8, 9, 1, 2, 4, 8, 1, 2, 3, 4, 5, 6, 7, 8, 9, 1, 1, 1, 2, 3, 4, 6, 7, 8, 9, 8, 1, 2, 3, 4, 5, 6, 7, 8, 9, 1, 2, 3, 4, 5, 6, 7, 8, 9, 1, 4, 8, 1, 2, 4, 5, 6, 1, 2, 3, 4, 5, 6, 7, 8, 9, 1, 2, 3, 4, 5, 6, 7, 8, 9, 1, 2, 3, 4, 5, 6, 7, 9, 1, 2, 3, 4, 5, 6, 7, 8, 9, 1, 2, 3, 1, 2, 3, 4, 5, 6, 7, 8, 9, 1, 2, 3, 4, 5, 6, 7, 8, 9, 6, 1, 2, 3, 4, 5, 6, 7, 8, 9, 4, 1, 2, 3, 4, 5, 6, 7, 8, 9, 2, 9, 5, 1, 2, 3, 4, 5, 6, 7, 8, 9, 1, 2, 5, 9, 1, 2, 3, 4, 5, 7, 8, 9, 1, 2, 3, 4, 5, 6, 7, 8, 9, 1, 2, 3, 4, 5, 6, 7, 8, 9, 1, 2, 5, 1, 2, 3, 4, 5, 6, 7, 8, 9, 2, 3, 4, 5, 9, 2, 3, 4, 1, 2, 3, 4, 6, 7, 8, 9, 1, 1, 3, 6, 9, 1, 2, 3, 4, 5, 6, 7, 8, 9, 2, 4, 5, 6, 7, 9, 1, 2, 3, 4, 5, 6, 7, 8, 9, 1, 2, 3, 5, 7, 1, 2, 3, 4, 5, 6, 7, 8, 9, 1, 2, 3, 4, 5, 6, 7, 8, 9, 1, 2, 3, 4, 5, 6, 7, 8, 9, 1, 2, 3, 4, 5, 6, 7, 8, 9, 1, 2, 3, 4, 7, 1, 2, 3, 1, 2, 3, 4, 5, 6, 7, 8, 9, 1, 2, 3, 4, 5, 6, 7, 8, 9, 1, 4, 5, 6, 7, 1, 2, 3, 4, 5, 6, 7, 8, 9, 4, 6, 7, 1, 1, 2, 3, 4, 5, 6, 7, 8, 9, 2, 1, 2, 3, 4, 5, 6, 7, 8, 9, 1, 2, 3, 4, 9, 4, 8, 1, 2, 3, 4, 7, 8, 1, 2, 4, 9, 1, 2, 3, 4, 5, 6, 7, 8, 9, 5, 3, 6, 1, 2, 3, 4, 5, 6, 7, 8, 9, 1, 2, 3, 4, 5, 6, 7, 8, 9, 1, 2, 3, 4, 5, 6, 7, 8, 9, 5, 3, 6, 9, 1, 8, 1, 2, 3, 4, 5, 6, 7, 8, 9, 8, 1, 2, 3, 7, 1, 2, 3, 5, 6, 1, 2, 3, 4, 5, 6, 7, 8, 4, 1, 4, 5, 6, 7, 8, 9, 8, 1, 2, 3, 4, 5, 6, 7, 8, 9, 1, 1, 2, 3, 1, 2, 4, 8, 1, 2, 3, 4, 5, 6, 7, 8, 9, 1, 2, 3, 4, 5, 6, 7, 8, 9, 1, 5, 1, 6, 7, 1, 2, 3, 4, 5, 6, 7, 8, 9, 1, 2, 3, 4, 5, 7, 8, 9, 1, 1, 2, 3, 4, 5, 6, 7, 8, 9, 1, 2, 3, 4, 5, 6, 7, 8, 9, 1, 2, 3, 4, 5, 6, 7, 8, 9, 3, 1, 2, 3, 1, 3, 1, 2, 3, 4, 5, 6, 7, 8, 9, 1, 2, 3, 4, 5, 6, 7, 8, 9, 1, 7, 9, 1, 2, 3, 4, 5, 6, 7, 8, 9, 2, 4, 5, 9, 2, 1, 2, 3, 5, 6, 8, 9, 1, 2, 3, 4, 5, 7, 8, 9, 2, 4, 8, 1, 2, 3, 4, 5, 6, 7, 8, 9, 6, 9, 1, 2, 3, 4, 5, 6, 7, 8, 9, 3, 1, 2, 3, 4, 5, 6, 7, 8, 9, 3, 1, 2, 3, 4, 5, 6, 7, 8, 9, 7, 9, 1, 4, 5, 4, 2, 4, 5, 9, 2, 6, 1, 2, 3, 4, 5, 6, 7, 8, 9, 1, 2, 3, 4, 5, 6, 7, 8, 9, 1, 7, 8, 1, 2, 3, 4, 5, 6, 7, 9, 1, 1, 2, 3, 4, 5, 6, 7, 8, 9, 5, 1, 2, 3, 4, 6, 7, 8, 9, 1, 7, 1, 2, 3, 4, 5, 6, 7, 8, 9, 1, 2, 3, 4, 5, 6, 7, 8, 9, 1, 2, 3, 4, 5, 6, 7, 8, 9, 1, 2, 3, 4, 5, 6, 7, 8, 9, 1, 2, 3, 5, 6, 3, 5, 1, 2, 3, 6, 6, 1, 2, 3, 4, 5, 6, 7, 8, 9, 1, 2, 3, 4, 5, 6, 7, 8, 9, 1, 4, 6, 4, 6, 1, 1, 2, 3, 4, 5, 6, 7, 8, 9, 2, 4, 5, 7, 9, 1, 2, 3, 4, 5, 6, 7, 8, 9, 1, 2, 3, 4, 5, 6, 7, 8, 9, 3, 9, 1, 2, 1, 2, 4, 5, 6, 2, 1, 2, 3, 4, 5, 6, 7, 8, 9, 1, 2, 3, 4, 5, 1, 2, 3, 4, 5, 6, 9, 1, 1, 2, 3, 4, 5, 6, 7, 8, 9, 1, 2, 3, 4, 5, 6, 7, 8, 9, 1, 2, 3, 4, 5, 6, 7, 8, 1, 3, 1, 2, 3, 4, 5, 6, 7, 8, 9, 1, 2, 3, 4, 5, 6, 7, 8, 1, 1, 4, 8, 4, 1, 2, 3, 4, 5, 6, 7, 8, 9, 2, 8, 1, 2, 3, 4, 5, 7, 8, 9, 1, 2, 4, 1, 2, 4, 5, 6, 8, 2, 8, 1, 2, 3, 4, 8, 9, 1, 2, 3, 4, 5, 6, 7, 8, 9, 1, 2, 3, 4, 5, 6, 7, 8, 9, 1, 2, 3, 4, 5, 6, 7, 8, 9, 2, 3, 1, 2, 3, 4, 5, 6, 7, 8, 9, 1, 2, 3, 4, 5, 2, 4, 7, 8, 9, 1, 2, 3, 4, 5, 6, 7, 8, 9, 1, 2, 3, 5, 9, 9, 1, 2, 3, 4, 5, 6, 7, 8, 9, 1, 2, 3, 4, 5, 6, 7, 8, 9, 7, 1, 1, 2, 3, 5, 9, 1, 2, 3, 4, 5, 6, 7, 8, 9, 1, 2, 3, 4, 5, 6, 7, 8, 9, 2, 3, 5, 1, 2, 3, 4, 5, 6, 7, 8, 9, 4, 1, 2, 3, 5, 7, 1, 2, 3, 4, 5, 6, 7, 8, 9, 1, 2, 3, 4, 5, 6, 7, 8, 9, 5, 2, 1, 2, 3, 4, 5, 9, 1, 2, 3, 5, 7, 7, 1, 2, 3, 5, 1, 3, 7, 1, 3, 5, 7, 8, 5, 1, 2, 1, 2, 3, 8, 6, 6, 1, 3, 5, 1, 2, 3, 4, 5, 6, 7, 9, 1, 2, 3, 4, 5, 6, 7, 8, 9, 2, 1, 2, 3, 4, 5, 1, 3, 4, 6, 1, 2, 3, 4, 5, 10, 1, 2, 4, 5, 7, 9, 1, 2, 3, 4, 5, 6, 7, 8, 9, 1, 2, 3, 4, 5, 6, 7, 8, 9, 1, 4, 5, 1, 2, 3, 4, 5, 6, 7, 8, 9, 1, 2, 3, 4, 5, 6, 7, 8, 9, 1, 2, 3, 4, 5, 6, 7, 8, 9, 1, 2, 3, 4, 5, 6, 7, 8, 9, 1, 2, 3, 4, 5, 6, 7, 8, 9, 2, 9, 3, 2, 1, 2, 3, 4, 5, 6, 7, 8, 9, 1, 2, 3, 4, 5, 6, 7, 8, 9, 1, 2, 3, 4, 5, 7, 8, 4, 8, 1, 2, 3, 4, 5, 6, 7, 8, 9, 9, 1, 4, 7, 9, 7, 1, 2, 3, 4, 5, 6, 7, 8, 9, 1, 2, 3, 4, 5, 6, 7, 8, 9, 1, 2, 3, 7, 9, 1, 2, 3, 5, 8, 9, 3, 6, 7, 7, 1, 2, 3, 4, 5, 7, 8, 9, 1, 2, 3, 4, 5, 6, 7, 8, 9, 3, 9, 9, 2, 1, 2, 3, 4, 7, 8, 1, 2, 4, 7, 4, 6, 1, 2, 3, 4, 5, 6, 7, 8, 9, 1, 2, 3, 4, 5, 6, 7, 8, 9, 1, 2, 3, 4, 5, 6, 7, 8, 9, 1, 3, 5, 3, 5, 1, 2, 3, 4, 5, 6, 7, 8, 9, 1, 7, 6, 1, 2, 3, 4, 5, 6, 7, 8, 9, 1, 7, 8, 2, 1, 6, 1, 2, 3, 4, 5, 6, 7, 8, 9, 1, 2, 3, 4, 5, 6, 7, 8, 9, 1, 2, 3, 4, 5, 6, 7, 8, 9, 1, 2, 3, 4, 6, 7, 9, 1, 2, 3, 4, 5, 6, 7, 8, 9, 1, 2, 4, 1, 2, 3, 4, 5, 6, 7, 8, 9, 1, 2, 3, 4, 5, 6, 7, 8, 1, 2, 3, 4, 5, 6, 7, 8, 9, 2, 4, 8, 1, 2, 3, 4, 5, 6, 7, 2, 5, 5, 1, 2, 1, 3, 5, 8, 1, 2, 3, 4, 5, 6, 7, 8, 9, 1, 2, 3, 4, 5, 6, 7, 8, 9, 1, 4, 5, 7, 8, 2, 1, 2, 3, 4, 5, 6, 7, 8, 9, 4, 7, 1, 2, 3, 4, 5, 6, 7, 8, 9, 1, 2, 3, 4, 5, 7, 9, 1, 2, 3, 4, 5, 6, 7, 8, 9, 8, 1, 2, 3, 4, 5, 6, 7, 8, 9, 1, 2, 3, 4, 1, 2, 3, 4, 5, 6, 7, 8, 9, 3, 1, 2, 3, 5, 6, 7, 8, 9, 1, 2, 4, 6, 4, 6, 2, 4, 5, 9, 1, 2, 3, 4, 5, 6, 7, 8, 9, 1, 2, 3, 9, 1, 2, 3, 4, 5, 6, 7, 8, 9, 1, 3, 1, 2, 3, 4, 5, 7, 8, 1, 2, 3, 6, 2, 1, 2, 3, 4, 5, 6, 7, 8, 9, 1, 2, 3, 4, 5, 6, 7, 8, 9, 4, 1, 2, 3, 4, 5, 6, 8, 9, 1, 8, 1, 2, 3, 6, 1, 2, 3, 4, 5, 7, 9, 6, 6, 1, 4, 8, 7, 1, 2, 3, 4, 7, 8, 9, 1, 2, 3, 5, 7, 9, 1, 2, 3, 4, 5, 6, 7, 8, 9, 1, 2, 3, 4, 5, 6, 7, 8, 9, 1, 2, 3, 4, 6, 8, 9, 4, 1, 1, 2, 3, 4, 5, 6, 7, 8, 9, 1, 2, 3, 4, 5, 6, 7, 8, 9, 1, 2, 3, 4, 5, 6, 7, 8, 9, 1, 2, 3, 4, 5, 6, 7, 8, 9, 1, 2, 3, 4, 5, 6, 7, 8, 9, 6, 1, 2, 3, 4, 5, 6, 7, 8, 9, 2, 3, 6, 6, 3, 1, 2, 3, 4, 5, 6, 7, 8, 9, 1, 3, 4, 5, 6, 7, 8, 9, 1, 2, 3, 4, 5, 6, 7, 8, 9, 1, 2, 1, 2, 3, 4, 5, 6, 7, 8, 9, 1, 2, 3, 4, 5, 6, 7, 8, 9, 1, 2, 3, 5, 6, 8, 9, 1, 2, 3, 4, 5, 6, 7, 8, 9, 1, 2, 3, 4, 5, 6, 7, 8, 9, 4, 1, 2, 3, 4, 5, 6, 7, 8, 9, 1, 2, 3, 4, 5, 6, 7, 8, 9, 1, 2, 3, 4, 5, 6, 7, 8, 9, 1, 2, 3, 4, 5, 6, 7, 8, 9, 1, 2, 3, 4, 5, 6, 7, 8, 9, 1, 2, 3, 4, 5, 6, 7, 8, 9, 1, 2, 3, 4, 5, 6, 7, 8, 9, 1, 2, 3, 4, 8, 6, 1, 2, 3, 4, 5, 6, 7, 8, 9, 3, 6, 9, 1, 2, 3, 4, 5, 6, 7, 8, 9, 6, 1, 2, 3, 4, 6, 7, 8, 9, 3, 1, 2, 3, 4, 5, 6, 7, 8, 9, 6, 1, 2, 3, 4, 5, 6, 7, 8, 9, 3, 4, 1, 2, 3, 4, 5, 6, 7, 8, 9, 1, 1, 5, 9, 1, 7, 8, 6, 1, 2, 3, 4, 5, 6, 7, 8, 9, 3, 9, 1, 2, 3, 4, 5, 6, 7, 8, 9, 9, 1, 2, 3, 4, 5, 6, 7, 8, 9, 1, 2, 3, 4, 5, 6, 7, 8, 9, 1, 2, 3, 4, 5, 6, 7, 8, 9, 1, 2, 3, 4, 5, 6, 7, 8, 9, 8, 1, 2, 3, 4, 5, 6, 7, 8, 9, 1, 5, 1, 4, 8, 1, 2, 3, 4, 5, 6, 7, 8, 9, 1, 2, 3, 4, 5, 6, 7, 8, 9, 1, 2, 3, 4, 5, 6, 7, 8, 9, 1, 2, 3, 4, 5, 6, 7, 8, 9, 1, 2, 3, 4, 5, 6, 7, 8, 9, 1, 2, 3, 4, 5, 6, 7, 8, 9, 1, 2, 3, 4, 5, 6, 7, 8, 9, 1, 1, 2, 3, 4, 5, 6, 7, 8, 9, 1, 2, 3, 4, 5, 6, 7, 8, 9, 1, 2, 4, 6, 7, 8, 5, 1, 2, 3, 4, 5, 6, 7, 8, 9, 9, 7, 1, 7, 3, 4, 5, 8, 8, 9, 1, 5, 1, 2, 3, 4, 5, 6, 7, 8, 9, 10, 1, 2, 3, 4, 5, 6, 7, 8, 9, 4, 1, 2, 3, 4, 5, 6, 7, 8, 9, 1, 2, 3, 9, 1, 2, 3, 4, 5, 6, 7, 8, 9, 1, 3, 4, 7, 8, 1, 7, 1, 2, 3, 4, 5, 6, 7, 8, 9, 1, 2, 4, 5, 8, 2, 9, 3, 4, 7, 9, 1, 2, 3, 4, 5, 6, 7, 8, 9, 1, 9, 1, 2, 3, 4, 5, 6, 7, 8, 1, 2, 3, 4, 5, 6, 7, 8, 9, 1, 2, 3, 1, 2, 9, 1, 2, 4, 5, 6, 1, 2, 3, 4, 5, 6, 7, 8, 9, 9, 1, 2, 3, 4, 5, 6, 7, 8, 9, 2, 1, 2, 3, 4, 6, 1, 2, 3, 4, 5, 6, 7, 8, 9, 1, 2, 3, 4, 5, 6, 7, 8, 1, 2, 3, 4, 5, 6, 7, 8, 9, 2, 2, 1, 2, 3, 4, 5, 6, 7, 8, 9, 2, 9, 1, 2, 3, 4, 5, 6, 7, 8, 9, 1, 2, 3, 4, 5, 6, 7, 8, 9, 1, 2, 6, 1, 2, 4, 5, 6, 1, 2, 3, 4, 5, 6, 7, 8, 9, 1, 2, 3, 4, 5, 6, 7, 8, 9, 1, 2, 3, 4, 5, 6, 7, 8, 9, 1, 2, 3, 1, 2, 3, 4, 5, 6, 7, 8, 9, 8, 8, 1, 1, 8, 2, 1, 2, 3, 4, 5, 6, 7, 9, 9, 1, 7, 1, 2, 3, 4, 5, 6, 7, 8, 9, 2, 3, 4, 5, 6, 7, 9, 1, 2, 3, 4, 5, 6, 7, 8, 9, 1, 2, 3, 4, 5, 6, 7, 8, 9, 1, 2, 3, 4, 5, 6, 7, 8, 9, 1, 2, 3, 6, 9, 1, 2, 6, 1, 2, 4, 5, 6, 1, 2, 3, 4, 5, 6, 7, 8, 9, 9, 1, 2, 3, 4, 5, 6, 7, 8, 9, 8, 2, 5, 1, 2, 3, 4, 5, 6, 7, 8, 9, 1, 2, 3, 4, 5, 6, 7, 8, 9, 1, 3, 1, 2, 3, 4, 5, 6, 7, 8, 9, 5, 1, 2, 3, 4, 5, 6, 7, 8, 9, 1, 2, 3, 4, 5, 6, 7, 8, 9, 1, 2, 3, 4, 5, 8, 1, 1, 2, 3, 4, 5, 6, 7, 8, 9, 1, 2, 3, 4, 5, 6, 7, 8, 9, 1, 2, 3, 4, 5, 6, 7, 8, 9, 1, 2, 3, 4, 5, 6, 7, 8, 9, 1, 2, 3, 4, 5, 6, 7, 8, 9, 7, 1, 2, 3, 4, 5, 6, 7, 8, 9, 2, 4, 9, 1, 1, 2, 1, 2, 3, 4, 5, 6, 7, 8, 9, 4, 1, 2, 3, 4, 5, 6, 7, 8, 9, 8, 1, 2, 3, 4, 5, 6, 7, 8, 9, 4, 1, 4, 8, 1, 2, 3, 4, 5, 6, 7, 8, 9, 1, 3, 7, 9, 1, 2, 4, 9, 1, 2, 3, 4, 5, 6, 7, 9, 10, 8, 8, 1, 2, 3, 4, 5, 6, 7, 8, 9, 3, 9, 1, 2, 3, 4, 5, 6, 7, 8, 9, 4, 8, 6, 9, 1, 2, 3, 4, 5, 6, 7, 8, 9, 1, 2, 3, 4, 5, 7, 8, 9, 1, 2, 3, 4, 5, 6, 7, 8, 9, 4, 1, 2, 3, 4, 5, 6, 7, 8, 9, 1, 2, 4, 5, 6, 1, 2, 9, 1, 2, 3, 4, 5, 6, 9, 1, 2, 4, 5, 6, 9, 1, 2, 3, 4, 5, 6, 7, 8, 9, 1, 2, 3, 4, 5, 6, 7, 8, 9, 1, 2, 3, 4, 5, 6, 7, 8, 9, 1, 1, 2, 3, 4, 5, 6, 7, 8, 9, 1, 2, 3, 4, 5, 6, 7, 8, 9, 1, 2, 3, 5, 6, 4, 8, 6, 2, 1, 2, 3, 4, 5, 6, 7, 8, 9, 1, 1, 4, 8, 1, 3, 1, 4, 1, 2, 3, 4, 5, 6, 7, 8, 9, 1, 2, 3, 4, 5, 6, 7, 8, 9, 1, 2, 2, 9, 1, 2, 3, 4, 5, 6, 7, 8, 9, 1, 2, 3, 4, 5, 6, 7, 8, 9, 4, 4, 1, 2, 3, 4, 5, 6, 7, 8, 4, 5, 7, 1, 2, 3, 4, 5, 6, 7, 8, 9, 1, 2, 3, 4, 5, 6, 7, 8, 9, 1, 2, 6, 1, 2, 3, 4, 6, 8, 2, 3, 9, 4, 1, 5, 1, 2, 3, 4, 5, 6, 7, 8, 9, 1, 2, 4, 1, 2, 3, 4, 5, 6, 7, 8, 9], \"Freq\": [0.09557474914277213, 0.00258310132818303, 0.8679220462694982, 0.028414114610013336, 0.0077493039845490915, 0.161622986294164, 0.040405746573541, 0.727303438323738, 0.40479440914090853, 0.0860746386538341, 0.04872149357764195, 0.22614893268955472, 0.10312716140600879, 0.07592432749182537, 0.03735314507619216, 0.007714236483126642, 0.01015031116200874, 0.1831827956195159, 0.06340942925290935, 0.05107981800928808, 0.6481852768075177, 0.019375103382833412, 0.024659222487242522, 0.005284119104409112, 0.005284119104409112, 0.020420631448671612, 0.01633650515893729, 0.9025919100312852, 0.03267301031787458, 0.012252378869202968, 0.004084126289734323, 0.008168252579468646, 0.5020651010021625, 0.05431808756146611, 0.05582692332706239, 0.20256120153130072, 0.13843568149345878, 0.020746491776948862, 0.009053014593577685, 0.008675805652178615, 0.007921387769380474, 0.038729114644033634, 0.9294987514568072, 0.025017278806484272, 0.05941603716540015, 0.8114979812853336, 0.07192467656864228, 0.004690739776215801, 0.006254319701621068, 0.001563579925405267, 0.004690739776215801, 0.014072219328647403, 0.8726459806164675, 0.9252933005108762, 0.37393986217805236, 0.032166869864778694, 0.05361144977463116, 0.1862997879668433, 0.032166869864778694, 0.018764007421120908, 0.021444579909852466, 0.2801198250724478, 0.0026805724887315583, 0.04273849028424117, 0.0256430941705447, 0.008547698056848234, 0.2778001868475676, 0.004273849028424117, 0.008547698056848234, 0.6282558071783452, 0.004273849028424117, 0.9788096451774724, 0.9756763714144846, 0.054345267097086, 0.923869540650462, 0.11945679019784637, 0.07533311093557879, 0.7188931157852376, 0.010761872990796971, 0.01829518408435485, 0.020447558682514244, 0.017218996785275154, 0.0053809364953984855, 0.01399043488803606, 0.14152519996330004, 0.11956439307244313, 0.5791146113440783, 0.0065069057454390814, 0.08621650112706783, 0.004066816090899426, 0.03578798159991495, 0.008946995399978737, 0.017893990799957474, 0.9650744144654627, 0.4791502215774327, 0.23957511078871635, 0.039288932066271834, 0.31431145653017467, 0.013096310688757279, 0.013096310688757279, 0.013096310688757279, 0.6024302916828348, 0.04480783030736847, 0.03773290973252082, 0.8867233787142392, 0.002358306858282551, 0.007074920574847654, 0.004716613716565102, 0.002358306858282551, 0.002358306858282551, 0.009433227433130204, 0.9663805820521434, 0.28747466608343597, 0.22448389366221252, 0.09300650961522929, 0.054958392045362764, 0.03255227836533025, 0.18347647805913414, 0.01860130192304586, 0.021983356818145106, 0.08286034492993155, 0.0025022426373343216, 0.010008970549337286, 0.9708701432857169, 0.0025022426373343216, 0.007506727912002965, 0.0025022426373343216, 0.005004485274668643, 0.9644863937994163, 0.9332417759250925, 0.5084800839527761, 0.11439304597759746, 0.045517651802604225, 0.1697928195531355, 0.09852175949379467, 0.019764243545867626, 0.025753408256736603, 0.009283205301846915, 0.008684288830760016, 0.030688836507437325, 0.8592874222082452, 0.06137767301487465, 0.960554446832234, 0.572537086665593, 0.0838510472075542, 0.1260436123629477, 0.012817994477587902, 0.025635988955175805, 0.01442024378728639, 0.14740693649226086, 0.012817994477587902, 0.004806747929095463, 0.48996011093258524, 0.06599976815647164, 0.09471722452989823, 0.01612208077104651, 0.018641155891522525, 0.052144854993853545, 0.21991525801755626, 0.03954947939147346, 0.0030228901445712203, 0.9834345307915748, 0.35311914795998606, 0.2241394779539442, 0.0732763677926356, 0.05106136036228907, 0.04675098578625168, 0.1574944556629046, 0.0368039675338577, 0.02287814198050614, 0.03481456388337891, 0.21723270674160866, 0.07409487671806807, 0.0303115404755733, 0.505192341259555, 0.10777436613537174, 0.020207693650382202, 0.023575642592112568, 0.010103846825191101, 0.011787821296056284, 0.025965329316405394, 0.9607171847069995, 0.37310867646581397, 0.12131466177010013, 0.07049762427318167, 0.10815510523910621, 0.13735287129224896, 0.07449248964866197, 0.0802497956309718, 0.02702408930471964, 0.007754738670049984, 0.048879058425081716, 0.08065044640138483, 0.009775811685016343, 0.0171076704487786, 0.7307419234549717, 0.0024439529212540857, 0.10997788145643386, 0.9399876306904792, 0.10341875759571617, 0.05892464095569875, 0.7323491090208274, 0.00601271846486722, 0.04088648556109709, 0.009620349543787552, 0.009620349543787552, 0.004810174771893776, 0.03487376709622987, 0.5504294316157016, 0.1802434115276086, 0.1083077002004464, 0.0135384625250558, 0.055770382939035835, 0.021216993509415808, 0.046475319115863195, 0.003233065677625266, 0.02040872709000949, 0.6309910885277001, 0.004053475943432763, 0.043237076729949475, 0.008106951886865527, 0.05945098050368053, 0.028374331604029343, 0.21618538364974738, 0.002702317295621842, 0.005404634591243684, 0.8796709896079453, 0.836545349217063, 0.14367153981493375, 0.8476620849081091, 0.014367153981493375, 0.4670744568988059, 0.11181525965877366, 0.09246261856398591, 0.16910522099493103, 0.09768475981178577, 0.016280793301964296, 0.013976907457346708, 0.02365322800474058, 0.007833211871699802, 0.12777038418665246, 0.6388519209332623, 0.12777038418665246, 0.12777038418665246, 0.03382201105418491, 0.9470163095171776, 0.9797175676184267, 0.038200065337949764, 0.8786015027728445, 0.01273335511264992, 0.05093342045059968, 0.01273335511264992, 0.3065348747206208, 0.19916986783877902, 0.058609882983807364, 0.13174256883085902, 0.049792466959694755, 0.03890036481226153, 0.06950198513124059, 0.08661814564863567, 0.05912855451463752, 0.01767408037723853, 0.07069632150895412, 0.2297630449041009, 0.01767408037723853, 0.6539409739578257, 0.060540664420748694, 0.060540664420748694, 0.04324333172910621, 0.008648666345821242, 0.8302719691988392, 0.6870701150246926, 0.050507055350357634, 0.09927248810242707, 0.019157848581170138, 0.08185626211954514, 0.005224867794864583, 0.04005731976062847, 0.011320546888873262, 0.005224867794864583, 0.9144847568770853, 0.02908366304718818, 0.9306772175100217, 0.9247887500231631, 0.968632329384717, 0.13507188869672707, 0.07962132386333386, 0.09028489402360178, 0.022038044997887047, 0.19905330965833462, 0.0071090467735119515, 0.4350736625389314, 0.014928998224375097, 0.017772616933779878, 0.1372207041332253, 0.1372207041332253, 0.1372207041332253, 0.1372207041332253, 0.2744414082664506, 0.059315612076351484, 0.008787498085385405, 0.8968740233396478, 0.0016476558910097634, 0.021968745213463512, 0.0010984372606731756, 0.0038445304123561146, 0.0016476558910097634, 0.00494296767302929, 0.9799572620385606, 0.03231465726913486, 0.9532823894394782, 0.013909666792475933, 0.9736766754733153, 0.21425958431535563, 0.5182837825084662, 0.023509779825126302, 0.06892639994184757, 0.05930876274065954, 0.01656370851315717, 0.018166648046688508, 0.013357829446094491, 0.06732346040831623, 0.017425314298156067, 0.05227594289446821, 0.9061163435041155, 0.8837633213398456, 0.06480931023158867, 0.04713404380479176, 0.19192932666997253, 0.010662740370554029, 0.010662740370554029, 0.7783800470504442, 0.587283701327697, 0.04471703309601754, 0.05067930417548654, 0.13415109928805263, 0.020867948778141517, 0.09539633727150408, 0.008943406619203509, 0.026830219857610523, 0.03279249093707953, 0.01911430059199488, 0.079642919133312, 0.06052861854131712, 0.39184316213589504, 0.00637143353066496, 0.01274286706132992, 0.02230001735732736, 0.404586029197225, 0.012462204609109042, 0.03738661382732712, 0.9408964479877326, 0.06304762875341925, 0.031523814376709626, 0.010507938125569875, 0.8931747406734394, 0.7597268564427055, 0.004041100300227157, 0.004041100300227157, 0.22630161681272082, 0.03491302617428621, 0.8640973978135837, 0.008728256543571553, 0.008728256543571553, 0.026184769630714658, 0.008728256543571553, 0.04364128271785776, 0.029522872342736723, 0.014761436171368362, 0.014761436171368362, 0.014761436171368362, 0.029522872342736723, 0.014761436171368362, 0.7823561170825232, 0.014761436171368362, 0.10333005319957853, 0.9709245883628311, 0.062037736853648634, 0.03947855981595822, 0.005639794259422603, 0.005639794259422603, 0.8798079044699261, 0.005639794259422603, 0.008190818969917694, 0.15153015094347733, 0.8313681254466458, 0.08833942987988513, 0.02944647662662838, 0.05889295325325676, 0.7950548689189663, 0.9685266603807967, 0.025242130289334884, 0.008414043429778296, 0.9507869075649473, 0.10366296572870871, 0.41465186291483486, 0.05183148286435436, 0.05183148286435436, 0.31098889718612616, 0.1030499069779346, 0.01648798511646954, 0.024731977674704305, 0.00824399255823477, 0.8408872409399464, 0.004121996279117385, 0.10444401764971604, 0.005802445424984225, 0.029012227124921124, 0.852959477472681, 0.005802445424984225, 0.0619208204042346, 0.020640273468078202, 0.9081720325954408, 0.9197572920786504, 0.9314373924854982, 0.08556970737379117, 0.7701273663641206, 0.3811534036814474, 0.3351442175250292, 0.15335647999859947, 0.11630968988657825, 0.046523875954631304, 0.019815724943639257, 0.0956324116845199, 0.03876989662885942, 0.1921263766274589, 0.0025846597752572946, 0.019414562169559006, 0.03882912433911801, 0.019414562169559006, 0.9124844219692734, 0.014658199215305688, 0.9674411482101755, 0.06038904972598663, 0.04589567779174984, 0.844641508834133, 0.0032207493187192873, 0.012882997274877149, 0.008051873296798217, 0.008051873296798217, 0.004025936648399109, 0.012077809945197327, 0.974108045537518, 0.009189698542806773, 0.9260919259657886, 0.06859940192339174, 0.004899957280242268, 0.18482754401772664, 0.5852872227228011, 0.12321836267848443, 0.06160918133924222, 0.22305733927917248, 0.7647680203857343, 0.019175304495309315, 0.1342271314671652, 0.019175304495309315, 0.03835060899061863, 0.019175304495309315, 0.019175304495309315, 0.019175304495309315, 0.7478368753170633, 0.020106807757356585, 0.1321304509769147, 0.18957847314079065, 0.09191683546220153, 0.008617203324581393, 0.06893762659665115, 0.008617203324581393, 0.18670607203259684, 0.29585731414396116, 0.030461306250440055, 0.9443004937636417, 0.0386038096423769, 0.002412738102648556, 0.8782366693640744, 0.01930190482118845, 0.032571964385755506, 0.003619107153972834, 0.025333750077809837, 0.9937365248885479, 0.9882733321258641, 0.00584777119601103, 0.4656132440935756, 0.1533849022160548, 0.08296976917025028, 0.05403952070957091, 0.032205370927926094, 0.15938929340600713, 0.030021955949761616, 0.01855902731439809, 0.003820976211787842, 0.090412461998291, 0.0090412461998291, 0.054247477198974596, 0.8408358965841063, 0.26448472659723926, 0.08865409830075059, 0.038416775930325255, 0.4447480598087655, 0.08865409830075059, 0.010342978135087569, 0.040633128387844025, 0.009604193982581314, 0.014036898897618845, 0.9506438102683843, 0.9710508788984428, 0.21117430717517574, 0.038787117644420034, 0.021548398691344464, 0.01723871895307557, 0.03447743790615114, 0.008619359476537785, 0.6335229215255272, 0.03016775816788225, 0.9155247948313092, 0.7813580035679697, 0.03756528863307546, 0.0886540811740581, 0.004507834635969056, 0.006010446181292074, 0.03005223090646037, 0.033057453997106405, 0.016528726998553202, 0.004507834635969056, 0.10746644730519225, 0.041333248963535484, 0.012399974689060645, 0.7067985572764568, 0.02479994937812129, 0.020666624481767742, 0.04959989875624258, 0.008266649792707097, 0.028933274274474837, 0.006526057841871343, 0.9789086762807013, 0.006526057841871343, 0.053365157204362156, 0.041050120926432426, 0.0862052539455081, 0.012315036277929728, 0.8004773580654323, 0.3326608023607648, 0.1535357549357376, 0.27075122375764477, 0.0297165977294976, 0.07429149432374399, 0.012794646244644799, 0.1077226667694288, 0.0090800715284576, 0.0094928020524784, 0.1892026952512508, 0.47596303024142783, 0.06562968491527763, 0.05794332542069556, 0.08514121286306287, 0.026015370597046984, 0.01892026952512508, 0.029562921133007937, 0.051439482771433814, 0.2065944201247153, 0.12912151257794705, 0.025824302515589412, 0.048549688729308094, 0.58053032055045, 0.0010329721006235764, 0.0072308047043650354, 0.0010329721006235764, 0.6705504636996582, 0.02803431317162413, 0.054553258063701, 0.07349536155804164, 0.0333381021500395, 0.005303788978415376, 0.04394568010687026, 0.08713367607396688, 0.0037884206988681255, 0.010746493896636334, 0.0035821646322121117, 0.9815131092261186, 0.15274054811251236, 0.5319401727668399, 0.18031870263282712, 0.05144386516289479, 0.027578154520314733, 0.01856221938867338, 0.008485586006250687, 0.009015935131641355, 0.02068361589023605, 0.01162920151237861, 0.08140441058665028, 0.01162920151237861, 0.04070220529332514, 0.01162920151237861, 0.01162920151237861, 0.12210661587997541, 0.6803082884741487, 0.029073003780946526, 0.9666948927566741, 0.023043429345026678, 0.24816000833105653, 0.019498286368868727, 0.37578515547274277, 0.019498286368868727, 0.007090285952315901, 0.023043429345026678, 0.017725714880789754, 0.2658857232118463, 0.9274821278173747, 0.7884512690833608, 0.012397032532757247, 0.03719109759827174, 0.012397032532757247, 0.04958813013102899, 0.007438219519654348, 0.08677922772930072, 0.007438219519654348, 0.002479406506551449, 0.9445746456650808, 0.9177219791508209, 0.9666707870219193, 0.3209198640861518, 0.0973051482943434, 0.032746924906750186, 0.17964027377417244, 0.017776902092235813, 0.303142961993916, 0.03929630988810022, 0.006549384981350037, 0.0018712528518142963, 0.007444326378757303, 0.10422056930260225, 0.8784305126933618, 0.007444326378757303, 0.23028969924115192, 0.026169284004676354, 0.01570157040280581, 0.026169284004676354, 0.005233856800935271, 0.04710471120841744, 0.638530529714103, 0.005233856800935271, 0.2603239140381965, 0.21602999433617498, 0.11656294658426708, 0.034191797664718346, 0.063721077466066, 0.018650071453482735, 0.24711344675864622, 0.01243338096898849, 0.03030636611190944, 0.023212622581069476, 0.015177483995314657, 0.930290489595169, 0.0017855863523899597, 0.007142345409559839, 0.0035711727047799194, 0.0008927931761949798, 0.015177483995314657, 0.0026783795285849395, 0.21775681541583067, 0.43551363083166134, 0.21775681541583067, 0.7129631391256702, 0.03288299593451728, 0.1130975769262943, 0.02291845171193629, 0.008469862589193846, 0.07124649119145411, 0.025409587767581537, 0.009964544222580996, 0.0029893632667742985, 0.7206317056382922, 0.0023550055739813467, 0.009420022295925387, 0.009420022295925387, 0.2543406019899855, 0.9390260759932769, 0.009884485010455546, 0.039537940041822185, 0.07288444120288438, 0.014576888240576878, 0.014576888240576878, 0.7944404091114398, 0.014576888240576878, 0.014576888240576878, 0.05830755296230751, 0.007288444120288439, 0.9761807959458039, 0.004919139836521016, 0.9739896876311612, 0.004919139836521016, 0.004919139836521016, 0.15134708847076475, 0.5242663144627291, 0.09686213662128944, 0.05811728197277366, 0.08657053460527743, 0.01150237872377812, 0.025426310863088476, 0.0072646602465967075, 0.03874485464851577, 0.15904753944684263, 0.05301584648228088, 0.02650792324114044, 0.02650792324114044, 0.05301584648228088, 0.662698081028511, 0.20109278831150854, 0.03634207017677865, 0.1211402339225955, 0.07510694503200921, 0.5063661777964492, 0.00242280467845191, 0.03149646081987483, 0.00242280467845191, 0.0242280467845191, 0.9085384052985761, 0.026721717802899298, 0.04008257670434894, 0.02004128835217447, 0.0066804294507248245, 0.3885802960102787, 0.2450862497725054, 0.06482926606885626, 0.04980785076021884, 0.06641046768029178, 0.03873943948017021, 0.02490392538010942, 0.0932908950746956, 0.028856929408698214, 0.28917300218243797, 0.33341805169669075, 0.018172073907639544, 0.055306311892816, 0.05846667257240549, 0.026072975606613258, 0.02133243458722903, 0.030813516625997486, 0.16670902584834538, 0.3023404258999297, 0.07379156157557606, 0.09582654176828281, 0.21368806372927238, 0.11581175636166799, 0.11939884616048071, 0.03484601518846648, 0.025109628591689078, 0.019985214593385186, 0.27713490087981024, 0.22868972540467633, 0.05473829875989397, 0.0738551449645424, 0.07492378854119977, 0.027072303941986606, 0.04987003357734374, 0.1735952121192299, 0.0401335032122433, 0.9338860653689439, 0.01111769125439219, 0.02223538250878438, 0.01111769125439219, 0.01111769125439219, 0.2614688532915585, 0.2614688532915585, 0.2614688532915585, 0.11555714345154004, 0.6868508863580302, 0.014282343572662252, 0.035056661496534615, 0.015580738442904274, 0.019475923053630342, 0.011685553832178206, 0.027266292275082482, 0.07530690247403733, 0.32590267056824607, 0.27215581719806725, 0.09352237615606712, 0.07983617476737437, 0.15511028240518449, 0.014684153573284928, 0.025233933810402256, 0.012830813801899453, 0.020671866680838005, 0.016893675564156097, 0.033787351128312194, 0.016893675564156097, 0.9122584804644293, 0.016893675564156097, 0.4069565627208329, 0.18461715386244984, 0.05147978328856774, 0.0994092366951653, 0.01863923188034349, 0.1752975379222781, 0.03772225499593326, 0.01109478088115684, 0.01464511076312703, 0.022590383822863675, 0.9262057367374106, 0.022590383822863675, 0.9657511327423586, 0.11639468682445185, 0.01551929157659358, 0.02327893736489037, 0.0698368120946711, 0.00775964578829679, 0.00775964578829679, 0.01551929157659358, 0.7371663498881951, 0.00775964578829679, 0.9558227277875391, 0.2671634851738296, 0.3989365774742678, 0.14469202291812822, 0.035656248504824455, 0.0625276241896197, 0.016536231190643225, 0.04909193634722207, 0.013952445067105222, 0.011885416168274817, 0.00841765072918309, 0.06734120583346472, 0.02525295218754927, 0.850182723647492, 0.03367060291673236, 0.9705727740089763, 0.9562870832724591, 0.021901484664587002, 0.043802969329174005, 0.010950742332293501, 0.09855668099064151, 0.010950742332293501, 0.7884534479251321, 0.10923572647651282, 0.10923572647651282, 0.10923572647651282, 0.655414358859077, 0.13500453406487517, 0.5048950054458746, 0.06475827243762305, 0.010427179460295236, 0.1975676108266466, 0.004390391351703257, 0.0032927935137774434, 0.0060367881085919796, 0.07353905514102957, 0.9717336547429201, 0.018583377271935618, 0.966335618140652, 0.4306902600943315, 0.25721609629249886, 0.11149290865910597, 0.04633312761162408, 0.0410763347691443, 0.03997607580211365, 0.04095408377280756, 0.008802071736245207, 0.023472191296653885, 0.4764029934544343, 0.242638311567305, 0.0709890374414058, 0.04908226416847199, 0.07029578512264208, 0.018024560287856945, 0.042704342835845684, 0.004714115767593355, 0.025095733939246974, 0.25421409568086034, 0.27796642280255685, 0.10720644944117089, 0.11170013295068106, 0.0629115691331422, 0.04686269945632021, 0.05649202126241341, 0.03081382977949822, 0.051998337752903245, 0.9735189612146125, 0.24788408848789836, 0.24788408848789836, 0.24788408848789836, 0.02892114430296062, 0.9254766176947399, 0.4985107866995273, 0.156240816409191, 0.09469140388435818, 0.0536584622011363, 0.1073169244022726, 0.018938280776871635, 0.039454751618482574, 0.02347557721299713, 0.007693676565604102, 0.9420400317940706, 0.08893861407534315, 0.02964620469178105, 0.02964620469178105, 0.8300937313698694, 0.1574421119654558, 0.018522601407700682, 0.018522601407700682, 0.7872105598272789, 0.009261300703850341, 0.22789831757544868, 0.014703117262932172, 0.014703117262932172, 0.6910465113578121, 0.004901039087644057, 0.012252597719110143, 0.024505195438220287, 0.007351558631466086, 0.9461173981301703, 0.003563906828316085, 0.003563906828316085, 0.003563906828316085, 0.9729465641302911, 0.00712781365663217, 0.003563906828316085, 0.00712781365663217, 0.8489173882499026, 0.09359546972237512, 0.7721626252095947, 0.02674156277782146, 0.010028086041683048, 0.05348312555564292, 0.006685390694455365, 0.0033426953472276825, 0.0033426953472276825, 0.02674156277782146, 0.9663933687170663, 0.012592606202232232, 0.012592606202232232, 0.9696306775718819, 0.09941544436372457, 0.01656924072728743, 0.01656924072728743, 0.8450312770916589, 0.060967553863649236, 0.6937687163794568, 0.023651206240208753, 0.05308381845024632, 0.026279118044676395, 0.006306988330722334, 0.008934900135189975, 0.004730241248041751, 0.12140952536640494, 0.048007248322443706, 0.7775086956569687, 0.00939272249786942, 0.01878544499573884, 0.012523629997159226, 0.0031309074992898066, 0.0020872716661932047, 0.0031309074992898066, 0.12627993580468888, 0.028339231407843266, 0.9068554050509845, 0.1683916165416703, 0.024055945220238618, 0.7938461922678743, 0.47859989081720977, 0.06234357648930994, 0.06794546307240736, 0.17311636601959107, 0.12342221084695272, 0.026473431755605525, 0.04960380216323356, 0.009758125015718077, 0.008673888902860513, 0.02981618048560675, 0.17144303779223882, 0.022362135364205064, 0.2459834890062557, 0.007454045121401688, 0.014908090242803375, 0.007454045121401688, 0.49942102313391307, 0.9750231753063359, 0.3279278948818857, 0.3520685151565782, 0.07690817078663117, 0.020508845543101645, 0.14655279211008052, 0.009613521348328897, 0.052126649088716684, 0.008118084694144401, 0.006195380424478622, 0.04940143210980633, 0.03842333608540492, 0.8398243458667076, 0.008233572018301055, 0.0343065500762544, 0.00960583402135123, 0.002744524006100352, 0.005489048012200704, 0.010978096024401408, 0.3204943273115513, 0.11316890088684721, 0.3041980055838453, 0.010411538881589943, 0.22452709935950488, 0.007695485260305611, 0.012674916899326889, 0.002263378017736944, 0.004526756035473888, 0.9494116198436207, 0.014664345468686306, 0.014664345468686306, 0.9678468009332961, 0.011155098839756126, 0.970493599058783, 0.3001566639285737, 0.10756745603232144, 0.1005049462928256, 0.1282117152708478, 0.06546403258532695, 0.08556502184389206, 0.048351028216548526, 0.14994251446929657, 0.013853384489011095, 0.027289683462793174, 0.09824286046605543, 0.010915873385117271, 0.043663493540469084, 0.07095317700326226, 0.010915873385117271, 0.010915873385117271, 0.6222047829516844, 0.10370079715861406, 0.05393366157759507, 0.8629385852415211, 0.05393366157759507, 0.05617677074679831, 0.059481286673080565, 0.761140168353679, 0.025334622101497277, 0.03414666457158329, 0.03414666457158329, 0.00881204247008601, 0.006609031852564507, 0.015421074322650517, 0.970477757099411, 0.008703836386541803, 0.004351918193270902, 0.013055754579812704, 0.9268441755240443, 0.00333085135478301, 0.00333085135478301, 0.9726085955966389, 0.00333085135478301, 0.00333085135478301, 0.00333085135478301, 0.00999255406434903, 0.04225891094092639, 0.04225891094092639, 0.012073974554550396, 0.09055480915912797, 0.012073974554550396, 0.030184936386375993, 0.7666973842139502, 0.006036987277275198, 0.031107144767245094, 0.04666071715086764, 0.9021071982501077, 0.04691807385231161, 0.09830453569055767, 0.0022341939929672195, 0.2837426371068369, 0.017873551943737756, 0.5473775282769688, 0.0022341939929672195, 0.0022341939929672195, 0.0022341939929672195, 0.9616208952919817, 0.8225987923410841, 0.32411061464189783, 0.04685936597232258, 0.025382156568341394, 0.16986520164966934, 0.05466926030104301, 0.013667315075260752, 0.027334630150521504, 0.33387298255279835, 0.0039049471643602144, 0.9565063156188089, 0.03797170077677924, 0.054848012233125576, 0.8564728064095762, 0.0014063592880288608, 0.03515898220072152, 0.0014063592880288608, 0.0070317964401443046, 0.0014063592880288608, 0.0070317964401443046, 0.9746763436859093, 0.24660683435858285, 0.1308431369503676, 0.3709542127369464, 0.08885269760991274, 0.07887706837433507, 0.04361437898345586, 0.016471387807581735, 0.010903594745863965, 0.012991517144008128, 0.9277349993117503, 0.7435768583201202, 0.14910956219946472, 0.8397222713338276, 0.007847871694708668, 0.9558215694740835, 0.5684010015042777, 0.07105012518803472, 0.07105012518803472, 0.2842005007521389, 0.03242101810354805, 0.9402095250028935, 0.4505575555153523, 0.16152739072927177, 0.07968923378550548, 0.08273354159304164, 0.09025477264695451, 0.0363526167605789, 0.04673907869217287, 0.03509907825159342, 0.017191385266086573, 0.45819361965320143, 0.15912255574295883, 0.11702780761705145, 0.04518022704613097, 0.1540535546597344, 0.017190525412674223, 0.03173635460801395, 0.011239958923671607, 0.0061709578404471575, 0.05044923559568821, 0.08071877695310113, 0.8475471580075619, 0.056352757283604255, 0.3641255086017506, 0.013004482450062521, 0.1473841344340419, 0.021674137416770867, 0.021674137416770867, 0.004334827483354174, 0.36846033608510476, 0.9717829648215983, 0.4259291804916207, 0.15541852612271995, 0.06578795565990134, 0.017146077929258402, 0.19949792818119969, 0.004120945768405453, 0.10088958300864063, 0.0029435326917181806, 0.028257913840494534, 0.9660077882068046, 0.40582227773939716, 0.16232891109575887, 0.12174668332181915, 0.040582227773939716, 0.12174668332181915, 0.040582227773939716, 0.08116445554787943, 0.08116445554787943, 0.08630096234701623, 0.8342426360211568, 0.08565798957112028, 0.09112552082034073, 0.016402593747661332, 0.1002380729023748, 0.009112552082034073, 0.02004761458047496, 0.17131597914224056, 0.4993678540954672, 0.005467531249220444, 0.16479767294680334, 0.5642288040129343, 0.06004399518801691, 0.04286217502652284, 0.0742698032787163, 0.009422288475658038, 0.021800589022110756, 0.004434018106192018, 0.05819648764377024, 0.026770059076633452, 0.039843808858245136, 0.8423230216438387, 0.02365726150958305, 0.010583511727971364, 0.025524940049813292, 0.006848154647510883, 0.007470714160920963, 0.016809106862072168, 0.28349413841546744, 0.07613270148259903, 0.18532302334580025, 0.030052382164183825, 0.3606285859702059, 0.005008730360697305, 0.05509603396767035, 0.0030052382164183827, 0.0020034921442789217, 0.05408093961222453, 0.02163237584488981, 0.010816187922444905, 0.8977435975629272, 0.010816187922444905, 0.9897935050138721, 0.8880851030806138, 0.018208987403610544, 0.018208987403610544, 0.9468673449877483, 0.009104493701805272, 0.9316752227291777, 0.2643765973236946, 0.11238917022791423, 0.01514050997889, 0.037851274947225, 0.04250989340226808, 0.013975855365129231, 0.2882520169057904, 0.17295121014347423, 0.052409457619234615, 0.4946730494099687, 0.04133386666228849, 0.06733420214340544, 0.016666881718664713, 0.2860036902922865, 0.008000103224959062, 0.07800100644335085, 0.0033333763437329426, 0.004000051612479531, 0.008841172848267588, 0.9194819762198292, 0.06188820993787312, 0.06152904974876597, 0.9229357462314896, 0.9778827002671344, 0.06819276251228318, 0.1461273482406068, 0.01461273482406068, 0.18509464110476861, 0.009741823216040453, 0.048709116080202265, 0.05845093929624272, 0.024354558040101133, 0.4383820447218204, 0.04059540956174598, 0.04059540956174598, 0.02029770478087299, 0.02029770478087299, 0.8525036007966657, 0.47841121923866214, 0.05874163071664586, 0.05874163071664586, 0.1314116893351768, 0.04239086752747639, 0.02725127198194911, 0.08054264830220514, 0.11506092614600735, 0.007267005861853096, 0.08703616895269133, 0.032638563357259245, 0.1414337745481234, 0.38078323916802453, 0.05439760559543207, 0.10879521119086415, 0.010879521119086416, 0.010879521119086416, 0.17407233790538265, 0.9593805571499984, 0.019579195043877517, 0.2678373312331359, 0.2678373312331359, 0.05681136724832967, 0.06015321238058436, 0.036760296454801555, 0.01002553539676406, 0.8354612830636716, 0.9575587147807323, 0.8874157926421479, 0.00969853325291965, 0.01131495546173959, 0.01131495546173959, 0.0016164222088199415, 0.0016164222088199415, 0.003232844417639883, 0.07273899939689736, 0.0016164222088199415, 0.18210297375235326, 0.4552574343808831, 0.09105148687617663, 0.18210297375235326, 0.09105148687617663, 0.027494890882112103, 0.07148671629349147, 0.0036659854509482805, 0.8376776755416822, 0.023828905431163824, 0.009164963627370702, 0.027494890882112103, 0.9855840238861088, 0.05626065804632553, 0.00978446226892618, 0.01956892453785236, 0.7216040923333058, 0.012230577836157726, 0.1516591651683558, 0.017122808970620816, 0.00489223113446309, 0.00489223113446309, 0.10886311232957327, 0.0976976649111555, 0.011165447418417771, 0.0976976649111555, 0.013956809273022215, 0.09490630305655105, 0.03070498040064887, 0.5331501142294486, 0.011165447418417771, 0.11579695873674489, 0.014941543062805793, 0.014941543062805793, 0.30630163278751876, 0.0037353857657014483, 0.007470771531402897, 0.029883086125611587, 0.5042770783696955, 0.9563284018990038, 0.019516906161204158, 0.237770775456032, 0.3638560167983001, 0.1102806846280562, 0.06989126191395918, 0.05935489077115127, 0.05812564747115701, 0.053384280456893446, 0.0212483484713293, 0.02598971548559286, 0.07558291796636109, 0.8162955140366998, 0.030233167186544434, 0.015116583593272217, 0.020155444791029625, 0.005038861197757406, 0.02519430598878703, 0.010077722395514813, 0.9949044025984128, 0.08148332863520216, 0.027161109545067386, 0.8800199492601833, 0.9745581566386224, 0.4959816837840229, 0.2898727279940125, 0.07898377433366496, 0.02071332410479398, 0.03641903139304436, 0.03289093772684319, 0.02412760829789189, 0.005235235762750127, 0.01570570728825038, 0.9348966891658187, 0.03338916747020781, 0.08100995512410085, 0.008380340185251812, 0.8799357194514402, 0.0027934467284172707, 0.011173786913669083, 0.0055868934568345414, 0.0027934467284172707, 0.011173786913669083, 0.06415612353627888, 0.01069268725604648, 0.9088784167639508, 0.04313903002868247, 0.09706281756453555, 0.03774665127509716, 0.010784757507170617, 0.8088568130377963, 0.9148317420888208, 0.017952568472320043, 0.9694386975052822, 0.20049052161975583, 0.006913466262750201, 0.013826932525500402, 0.006913466262750201, 0.7673947551652723, 0.8495994397114297, 0.01678059578196642, 0.002397227968852346, 0.8558103848802875, 0.08630020687868445, 0.002397227968852346, 0.02397227968852346, 0.004794455937704692, 0.002397227968852346, 0.007191683906557038, 0.23551651144036015, 0.13421908716493644, 0.10066431537370232, 0.02532435606885593, 0.05128182103943326, 0.03418788069295551, 0.05064871213771186, 0.35770652947259, 0.011395960230985169, 0.4221983650909884, 0.14728638268328742, 0.07135508298005064, 0.11508337611271824, 0.12203244595163054, 0.04491471969053069, 0.03779616034335224, 0.017118440334881507, 0.02220312558286611, 0.8892216789293882, 0.9810526778052957, 0.18102772509181217, 0.2067837022390212, 0.0515119542944181, 0.33777124315911294, 0.03826602319013916, 0.04341721861958097, 0.03973779331283682, 0.06549377046004587, 0.03532248294474384, 0.0905258022489114, 0.0150876337081519, 0.0150876337081519, 0.0452629011244557, 0.8298198539483544, 0.34569415594242064, 0.34569415594242064, 0.9504326312082134, 0.946438475333742, 0.9491689457340694, 0.00993778547765719, 0.8546495510785183, 0.004968892738828595, 0.00993778547765719, 0.00993778547765719, 0.004968892738828595, 0.004968892738828595, 0.014906678216485784, 0.0844711765600861, 0.008390130760319319, 0.016780261520638638, 0.9396946451557637, 0.008390130760319319, 0.016780261520638638, 0.9166186837379967, 0.7380260457272441, 0.04141508075014169, 0.11400780655937881, 0.03629636290461856, 0.027454941171442242, 0.0037227038876531857, 0.008841421733176315, 0.02838561714335554, 0.0013960139578699446, 0.1800118938152681, 0.2877872551338514, 0.05214936837995965, 0.13751981587604173, 0.1131834439653939, 0.07107765764379685, 0.12747623381767914, 0.025881538381165158, 0.005021791029181299, 0.889433803745329, 0.9668724094116656, 0.02840480002836515, 0.871080534203198, 0.047341333380608586, 0.047341333380608586, 0.8590334245984892, 0.07985988774166325, 0.7340966603945198, 0.1505051730515961, 0.0122861365756405, 0.00614306828782025, 0.00614306828782025, 0.00614306828782025, 0.003071534143910125, 0.00614306828782025, 0.33436817910394434, 0.05536379436143741, 0.1449657247095532, 0.014569419568799319, 0.42761246434426, 0.0036423548921998296, 0.007284709784399659, 0.0014569419568799319, 0.010927064676599488, 0.9427409892920168, 0.053112168410817846, 0.8815550437517174, 0.7210070584551826, 0.012991118170363651, 0.009279370121688323, 0.07052321292483126, 0.0018558740243376645, 0.06124384280314293, 0.01577492920687015, 0.10392894536290921, 0.0018558740243376645, 0.9784087325463804, 0.008333762770983442, 0.8750450909532613, 0.03333505108393377, 0.016667525541966884, 0.05833633939688409, 0.5578990168500179, 0.05538579928677212, 0.06584492018212823, 0.10958306210816286, 0.09959935579895932, 0.02923799704838185, 0.039934825236814235, 0.034467557496059904, 0.008082047964593357, 0.2188400615159336, 0.0224177623991932, 0.6533176470622017, 0.002135024990399352, 0.037362937331988665, 0.020282737408793845, 0.04163298731278737, 0.001067512495199676, 0.002135024990399352, 0.936425007249171, 0.9933187455904157, 0.051768979236299466, 0.02353135419831794, 0.014118812518990763, 0.08941914595360817, 0.8141848552618006, 0.004706270839663587, 0.16250877980540437, 0.016250877980540437, 0.07312895091243196, 0.7150386311437792, 0.024376316970810656, 0.967887801483226, 0.0990651699403725, 0.024766292485093124, 0.008255430828364375, 0.8585648061498949, 0.9394360593494605, 0.039143169139560854, 0.01677564391695465, 0.03899251722121966, 0.03899251722121966, 0.8773316374774424, 0.01949625861060983, 0.01949625861060983, 0.9283932657924906, 0.9794524400364384, 0.013795104789245612, 0.8589097259602928, 0.004231082393893068, 0.004231082393893068, 0.13116355421068512, 0.9881320272987002, 0.9575050026487008, 0.019470089390851562, 0.009735044695425781, 0.9637694248471523, 0.12203704066758503, 0.029419643732364248, 0.016344246517980138, 0.0032688493035960275, 0.8215707916371349, 0.0010896164345320092, 0.004358465738128037, 0.0021792328690640184, 0.10714923678728384, 0.28875811269793444, 0.05629875153230168, 0.06719528408694071, 0.07809181664157976, 0.08717226043711228, 0.05266657401408867, 0.001816088759106506, 0.25970069255223033, 0.9731796684924132, 0.07190189478424207, 0.8388554391494908, 0.055923695943299385, 0.007989099420471341, 0.015978198840942683, 0.020763792508780073, 0.020763792508780073, 0.9343706628951033, 0.987238744408454, 0.2862850193576784, 0.35785627419709803, 0.0715712548394196, 0.10735688225912941, 0.0715712548394196, 0.0357856274197098, 0.02690498496403435, 0.02690498496403435, 0.1076199398561374, 0.0538099699280687, 0.02690498496403435, 0.7533395789929618, 0.4472287442103815, 0.09330176264897105, 0.03718299028077075, 0.05921735489159786, 0.03064153828693145, 0.057495920156376994, 0.04992160732140517, 0.2189664983200944, 0.006197165046795125, 0.8676944761754228, 0.008506808589955126, 0.08932149019452881, 0.004253404294977563, 0.004253404294977563, 0.004253404294977563, 0.012760212884932688, 0.004253404294977563, 0.004253404294977563, 0.9586322852277853, 0.014307944555638587, 0.9320618838529932, 0.3946935900000345, 0.14027164647916515, 0.07261735143614136, 0.09194715001986244, 0.11258301607545657, 0.12250912886169171, 0.035786248729321464, 0.017240090628724208, 0.012277034235606632, 0.2554394776607662, 0.4293195655584496, 0.14386170138765988, 0.009628539069252828, 0.1353659316206721, 0.0033983079067951153, 0.011327693022650385, 0.0016991539533975576, 0.009628539069252828, 0.2092947882983462, 0.2763084247394129, 0.11928820328365834, 0.06956840850480239, 0.10258392440538658, 0.15898543073555124, 0.030460743836848506, 0.017293841662210763, 0.016311237022312425, 0.3807588993206149, 0.14099231209152477, 0.12617617082088994, 0.104509555629424, 0.15310012646322632, 0.009877427513756537, 0.020392108415497365, 0.015134767964626952, 0.04922782422178661, 0.5337054406442712, 0.041320995133801185, 0.21180621981172215, 0.02051601856293625, 0.14043359185333829, 0.006357076174430951, 0.031496422864226076, 0.009246656253717747, 0.005201244142716233, 0.9481020830836262, 0.020610914849644047, 0.9608383839441825, 0.9503446890500533, 0.3328027100299019, 0.06213529649920755, 0.08244292998919246, 0.048192742162800006, 0.0560733163529434, 0.007880574190143397, 0.09608238531828679, 0.30976718547409815, 0.004849584117011321, 0.060587329819200314, 0.05442590644775621, 0.7249941500399224, 0.017457366219091615, 0.018484270114332298, 0.008215231161925466, 0.08112540772401397, 0.022591885695295032, 0.012322846742888199, 0.1367011016484911, 0.01798698705901199, 0.014389589647209591, 0.11511671717767673, 0.0071947948236047955, 0.10432452494226954, 0.6043627651828029, 0.02913729758059573, 0.9323935225790634, 0.3814463610910887, 0.16781648001004817, 0.06523429935108697, 0.05079311857870894, 0.22707511835187527, 0.03236816380015766, 0.043323542317134096, 0.01493915252314969, 0.016931039526236313, 0.9181824154600144, 0.0766154949654633, 0.03830774748273165, 0.8427704446200963, 0.03830774748273165, 0.8482400393172761, 0.40718222053205644, 0.15895550144729678, 0.0813611097455358, 0.06215084772228429, 0.11827494657452889, 0.023353651871403792, 0.10396141800818462, 0.036913836828993095, 0.00791010789192709, 0.005834949291438523, 0.011669898582877047, 0.011669898582877047, 0.8402326979671474, 0.005834949291438523, 0.005834949291438523, 0.011669898582877047, 0.005834949291438523, 0.0991941379544549, 0.06964049412652389, 0.011606749021087315, 0.02321349804217463, 0.812472431476112, 0.09285399216869852, 0.014049754835602675, 0.030106617504862876, 0.9052056329795438, 0.002007107833657525, 0.0080284313346301, 0.042149264506808025, 0.974592717476435, 0.9433417803868677, 0.8488526008190038, 0.9770146323714644, 0.13126180028206294, 0.2284927634539614, 0.01458464447578477, 0.01458464447578477, 0.019446192634379692, 0.024307740792974618, 0.004861548158594923, 0.5590780382384162, 0.31605314179549077, 0.15690049082008922, 0.10535104726516359, 0.20469633411616106, 0.0813280056084992, 0.03928768270933654, 0.03503360241596889, 0.031530242174371996, 0.030028802070830474, 0.9686842036886831, 0.9374894937676823, 0.891092082759706, 0.9246230746534132, 0.06200572290423542, 0.7276553952585274, 0.20243044830500387, 0.003647395464955025, 0.0018236977324775124, 0.0018236977324775124, 0.034626042284328376, 0.9349031416768662, 0.052173289262282686, 0.8869459174588057, 0.969096816189, 0.010888728271786517, 0.06210036431215441, 0.44200847539827554, 0.02191777563958391, 0.12785369123090615, 0.02191777563958391, 0.007305925213194637, 0.014611850426389274, 0.0036529626065973184, 0.2995429337409801, 0.11685529880333898, 0.022057024272116192, 0.7719958495240667, 0.0075087742202948745, 0.054438613097137836, 0.0042236854989158665, 0.006100879053989585, 0.013609653274284459, 0.0032850887213790076, 0.14684164907932512, 0.32347725594286114, 0.06171605541015114, 0.010640699208646747, 0.127688390503761, 0.008512559366917399, 0.28942701847519153, 0.010640699208646747, 0.023409538259022845, 0.007830787863567293, 0.007830787863567293, 0.9788484829459115, 0.01921227171066349, 0.9606135855331744, 0.49075313501127865, 0.22682117068881846, 0.04126720252060964, 0.06383056504986383, 0.03176683935039735, 0.034438816492019554, 0.023750907925530727, 0.07600290536169833, 0.011281681264627096, 0.05310579356328588, 0.90279849057586, 0.9806445965625261, 0.07868100552029406, 0.3964312201214816, 0.02723573268010179, 0.03328811772012441, 0.06960242796026013, 0.04236669528015834, 0.015130962600056549, 0.00605238504002262, 0.32985498468123275, 0.03969021006874574, 0.8334944114436607, 0.03969021006874574, 0.9856768573217756, 0.9606293922525692, 0.015248085591310622, 0.2764206419288069, 0.08040462734245846, 0.24240329959161294, 0.18816585866238061, 0.10347932808866696, 0.024977768848988575, 0.02735660397746368, 0.02854602154170123, 0.02807025451600621, 0.4495400391164369, 0.28143414323298227, 0.08258568949885428, 0.04583435897736752, 0.06861179956673004, 0.005869033771492182, 0.03605263602488055, 0.012855978737554303, 0.017187884616512817, 0.28202722560883337, 0.22723849706698993, 0.09251211540671922, 0.18502423081343844, 0.1261937108217869, 0.0065117751135797515, 0.02335257282111359, 0.0031436155720729834, 0.0536660086946745, 0.017129349628629997, 0.008564674814314999, 0.008564674814314999, 0.9421142295746499, 0.008564674814314999, 0.008564674814314999, 0.008564674814314999, 0.22180117500953475, 0.09469689635131939, 0.5084171146328614, 0.03493263287626449, 0.06186863894952867, 0.039983134015001524, 0.01767675398557962, 0.013468003036632092, 0.007154876613210799, 0.3142504115394743, 0.3142504115394743, 0.15712520576973715, 0.10587422470276542, 0.09110107706982142, 0.4637126895896315, 0.019697530177258685, 0.019697530177258685, 0.2363703621271042, 0.019697530177258685, 0.015593878056996458, 0.02708410399373069, 0.14923428444683648, 0.02356330807055313, 0.06283548818814168, 0.04712661614110626, 0.01570887204703542, 0.06283548818814168, 0.6283548818814167, 0.00785443602351771, 0.19145887032251654, 0.5605071494953673, 0.030151003200396306, 0.025025332656328933, 0.040402344288531046, 0.004522650480059446, 0.012361911312162485, 0.06452314684884809, 0.07115636755293528, 0.9072539375517271, 0.033601997687101, 0.033601997687101, 0.036883798403018246, 0.06639083712543284, 0.022130279041810946, 0.007376759680603649, 0.007376759680603649, 0.8335738439082123, 0.022130279041810946, 0.3332014574387625, 0.9905783444881451, 0.9288168530024852, 0.030093943650549567, 0.9329122531670366, 0.06518334250414531, 0.01629583562603633, 0.9071348498493556, 0.005431945208678776, 0.08247290478251772, 0.02016004339128211, 0.8137326605208416, 0.007330924869557131, 0.06964378626079275, 0.0018327312173892828, 0.0018327312173892828, 0.0036654624347785656, 0.0018327312173892828, 0.17218902688059393, 0.02410646376328315, 0.017218902688059392, 0.7473003766617776, 0.010331341612835635, 0.017218902688059392, 0.010331341612835635, 0.0034437805376118786, 0.0034437805376118786, 0.03245480185473598, 0.03245480185473598, 0.010818267284911995, 0.03245480185473598, 0.8762796500778716, 0.940009657086017, 0.6584775589032958, 0.025326059957819072, 0.1843588188105947, 0.015270124386332087, 0.0584734031379058, 0.00446930469843866, 0.0465552572754027, 0.0033519785238289948, 0.004096862640235438, 0.9401677607567892, 0.9790447267511058, 0.1367863259699657, 0.0586227111299853, 0.0586227111299853, 0.03256817284999183, 0.006513634569998367, 0.006513634569998367, 0.013027269139996734, 0.6774179952798302, 0.006513634569998367, 0.24015412099324873, 0.06498287979817319, 0.09888699099722006, 0.06215753719825261, 0.025428083399285158, 0.49726029758602086, 0.00847602779976172, 0.42039041043068354, 0.1421215149698347, 0.08143688579023713, 0.06948861683259616, 0.15265485734038658, 0.03741694752524408, 0.07137518561538157, 0.016193048718908157, 0.00880398765299861, 0.9454733108294486, 0.3518407105957157, 0.17723740608618405, 0.060584336263005585, 0.10498776284086062, 0.06923924144343496, 0.0809045484257528, 0.04891902928068774, 0.05080053040686804, 0.05531613310970075, 0.018769234999147177, 0.05630770499744154, 0.009384617499573589, 0.9103078974586382, 0.21921893929612343, 0.15961109288077302, 0.3537060638530711, 0.055174204946440056, 0.08916545620808616, 0.06404148788426078, 0.02832604271803842, 0.016010371971065196, 0.015025118311307336, 0.9734379484351859, 0.008133331356875481, 0.008133331356875481, 0.9597331001113067, 0.0020333328392188703, 0.004066665678437741, 0.0020333328392188703, 0.01423332987453209, 0.0020333328392188703, 0.01703477653343175, 0.011356517688954501, 0.0056782588444772505, 0.9653040035611326, 0.019776656307888302, 0.9690561590865268, 0.07308222240916122, 0.04872148160610748, 0.02436074080305374, 0.8039044465007734, 0.027685015532622943, 0.5537003106524588, 0.04844877718209015, 0.03806689635735654, 0.013842507766311471, 0.003460626941577868, 0.006921253883155736, 0.003460626941577868, 0.30799579780043024, 0.010252284255325528, 0.8816964459579953, 0.010252284255325528, 0.07176598978727869, 0.1513050867479928, 0.42894619420428504, 0.0644723645502531, 0.10285764517843847, 0.09764022839402492, 0.02086966713765418, 0.04882011419701246, 0.007080779921704097, 0.07788857913874507, 0.9514626422296805, 0.03398080865106001, 0.9301513490636424, 0.010530015272418593, 0.010530015272418593, 0.024570035635643386, 0.007020010181612395, 0.0035100050908061977, 0.01404002036322479, 0.013775386798698702, 0.006887693399349351, 0.9642770759089091, 0.006887693399349351, 0.9319924087299007, 0.34227597348851335, 0.09161289996718573, 0.08143368885972065, 0.017813619438063893, 0.40462364152173697, 0.006362006942165675, 0.03944444304142719, 0.006362006942165675, 0.011451612495898216, 0.1668350375664759, 0.2679334434831176, 0.032188281704401606, 0.23574516177871596, 0.061203070846397416, 0.026294652659933703, 0.05213594923952372, 0.03762855466852582, 0.11968600521073272, 0.9600143175225112, 0.06613822214055158, 0.011023037023425263, 0.03306911107027579, 0.03306911107027579, 0.011023037023425263, 0.07716125916397684, 0.7605895546163431, 0.011023037023425263, 0.012114446203645095, 0.9812701424952526, 0.1002044489694021, 0.13527600610869284, 0.020040889793880422, 0.7415129223735756, 0.036026682960566284, 0.005146668994366612, 0.041173351954932894, 0.005146668994366612, 0.010293337988733223, 0.8903737360254238, 0.010293337988733223, 0.987367741833326, 0.9491518531648124, 0.945292666756415, 0.02589842922620315, 0.012949214613101575, 0.9433597202100368, 0.026670975676659547, 0.12802068324796584, 0.02133678054132764, 0.7947950751644545, 0.01066839027066382, 0.01066839027066382, 0.00533419513533191, 0.14823284881816517, 0.013475713528924108, 0.05390285411569643, 0.75463995761975, 0.02021357029338616, 0.006737856764462054, 0.4477029387868556, 0.0650975192419912, 0.05837777532023727, 0.23267113329072983, 0.13943468637639406, 0.023939087721248378, 0.020579215760371413, 0.008399679902192413, 0.003779855955986586, 0.8872172177257279, 0.020270340651027174, 0.05613325103361372, 0.009355541838935619, 0.009355541838935619, 0.0015592569731559367, 0.0046777709194678095, 0.010914798812091555, 0.0015592569731559367, 0.2525868069869272, 0.1262934034934636, 0.06946137192140499, 0.06946137192140499, 0.01262934034934636, 0.00631467017467318, 0.45465625257646897, 0.973208203017645, 0.9697352277340942, 0.16558480608855738, 0.09344885096086902, 0.08197267628146405, 0.5688903733933606, 0.009836721153775686, 0.047544152243249156, 0.0032789070512585622, 0.02787070993569778, 0.0016394535256292811, 0.0737340303326612, 0.522562010425792, 0.04357010883293616, 0.05613840945782159, 0.05250756705507691, 0.0067030936666055635, 0.008378867083256953, 0.002513660124977086, 0.23404968719231092, 0.02367067835551441, 0.021179028002302366, 0.9194189803352438, 0.0012458251766060216, 0.00872077623624215, 0.006229125883030108, 0.0012458251766060216, 0.00872077623624215, 0.00872077623624215, 0.1325989695993668, 0.1125840307919152, 0.012509336754657244, 0.10507842873912085, 0.04753547966769753, 0.5804332254160962, 0.007505602052794347, 0.002501867350931449, 0.002501867350931449, 0.05808148041520946, 0.10762156665171164, 0.015374509521673092, 0.4868594681863146, 0.02562418253612182, 0.14691197987376511, 0.013666230685931638, 0.006833115342965819, 0.1400788645307993, 0.9762219162622583, 0.23676246543161197, 0.19507893278520141, 0.32679889594785877, 0.11004452618652387, 0.03334682611712845, 0.020008095670277067, 0.011671389140994956, 0.018340754364420647, 0.04835289786983625, 0.013979997127040946, 0.9646198017658253, 0.013979997127040946, 0.9616952259722044, 0.9810427697040979, 0.01947512102265623, 0.009737560511328115, 0.009737560511328115, 0.009737560511328115, 0.009737560511328115, 0.009737560511328115, 0.9055931275535147, 0.009737560511328115, 0.01947512102265623, 0.015045536418381685, 0.015045536418381685, 0.015045536418381685, 0.015045536418381685, 0.015045536418381685, 0.8726411122661377, 0.015045536418381685, 0.04513660925514505, 0.11712194472473689, 0.023424388944947378, 0.015616259296631586, 0.015616259296631586, 0.05465690753821055, 0.007808129648315793, 0.6714991497551582, 0.07808129648315792, 0.023424388944947378, 0.9504825350268706, 0.04224366822341647, 0.41315981795205947, 0.10320480201110802, 0.067440761710229, 0.17371105288998379, 0.09877687321195157, 0.01703049538137096, 0.0817463778305806, 0.018733544919508054, 0.02588635297968386, 0.7414405473049939, 0.04466509321114421, 0.07833570193954523, 0.004122931681028697, 0.027486211206857975, 0.016491726724114787, 0.07971001249988813, 0.004810086961200146, 0.003435776400857247, 0.010583127286103569, 0.052915636430517846, 0.9101489466049069, 0.0052915636430517846, 0.0052915636430517846, 0.010583127286103569, 0.010583127286103569, 0.2557272818002078, 0.2334737277792458, 0.15351180485646695, 0.08561960614844716, 0.08071628068620129, 0.10975905457796531, 0.03281456270887623, 0.02677970060149669, 0.021499196257539595, 0.13596524516986744, 0.15313257410545675, 0.4738182786222653, 0.05905561153842727, 0.08034309941855802, 0.009613704203930021, 0.024720953667248625, 0.017854022093012897, 0.04532174838995581, 0.9747102254676528, 0.2924954483992835, 0.08116365845634567, 0.02297084673292802, 0.12097979279342091, 0.016845287604147215, 0.35375103968709154, 0.0995403358426881, 0.0030627795643904028, 0.007656948910976007, 0.1186721676870245, 0.21628959594570593, 0.04785168051896149, 0.14993526562607934, 0.08868511456180862, 0.026158918683698948, 0.045937613298203034, 0.20990937187651107, 0.09825545066560093, 0.06144934926455394, 0.10534174159637819, 0.020848886357616513, 0.18763997721854864, 0.038405843290346214, 0.017556956932729698, 0.050476251181597875, 0.3950315309864182, 0.12399600833740348, 0.3909345184851048, 0.0638871330799329, 0.06850548004956661, 0.1492410270742743, 0.19875996958201347, 0.043703246323755975, 0.035834951486602255, 0.01428266562831164, 0.03480865216001699, 0.21542588774556054, 0.1570592679130195, 0.0297139155511118, 0.4181172402549303, 0.0445708733266677, 0.10505991569857386, 0.008489690157460515, 0.004244845078730257, 0.01697938031492103, 0.5207529062034457, 0.1257706619772793, 0.07899644884523327, 0.035340516588656994, 0.05431005858109788, 0.027544814399982655, 0.12706994567539168, 0.017930115033950974, 0.01221326676225646, 0.29214820349824244, 0.23461622487638187, 0.08895015134443696, 0.12485663445595278, 0.04855535784398164, 0.062020289010800075, 0.02611380589928424, 0.05100352714703953, 0.07140493800585535, 0.03822213953693424, 0.05096285271591232, 0.0637035658948904, 0.01274071317897808, 0.8281463566335752, 0.9570339785179662, 0.2888912581351083, 0.17729463505487955, 0.16109512525291086, 0.2022688793329146, 0.07897261028459736, 0.012599618734864537, 0.021599346402624918, 0.03239901960393738, 0.024749251086341052, 0.18898179419209593, 0.18898179419209593, 0.18898179419209593, 0.10859819880206244, 0.10302906040195667, 0.7119215254801871, 0.003712758933403844, 0.033414830400634594, 0.00928189733350961, 0.006497328133456727, 0.005569138400105766, 0.01763560493366826, 0.919383576348072, 0.05986952111645948, 0.007043473072524645, 0.9015645532831545, 0.007043473072524645, 0.010565209608786968, 0.007043473072524645, 0.0035217365362623224, 0.0035217365362623224, 0.9591246410337576, 0.05819363783249359, 0.032065882070965855, 0.8717169422255162, 0.003562875785662873, 0.014251503142651492, 0.0011876252618876243, 0.004750501047550497, 0.0011876252618876243, 0.013063877880763868, 0.985707313409806, 0.21172507597228646, 0.1339404182580069, 0.49389289043582096, 0.010913663709911672, 0.06746628475218125, 0.01349325695043625, 0.04980599256705145, 0.008135640220115974, 0.010715233460640551, 0.9697649897641705, 0.017013420873055622, 0.7582027991455672, 0.09803921834305905, 0.04680264192256588, 0.003941275109268705, 0.028574244542198115, 0.003448615720610117, 0.046309982533907286, 0.008867868995854587, 0.005911912663903058, 0.9672907258240863, 0.009251196926532404, 0.96212448035937, 0.01850239385306481, 0.06878601255658366, 0.9171468340877822, 0.9209338846926621, 0.9768829977351194, 0.5026414408131622, 0.3206563633778022, 0.050364873828974165, 0.024175139437907597, 0.05070063965450066, 0.005708019033950405, 0.019474417880536676, 0.006043784859476899, 0.020145949531589664, 0.049813390693510484, 0.8468276417896782, 0.11073456000070446, 0.0676711200004305, 0.043063440000273956, 0.03383556000021525, 0.027683640000176115, 0.021531720000136978, 0.11996244000076317, 0.5598247200035614, 0.01845576000011741, 0.8699018604118447, 0.6457556120602328, 0.02119547960810392, 0.031086703425219086, 0.05722779494188059, 0.03391276737296627, 0.03603231533377667, 0.163911708969337, 0.009184707830178366, 0.0014130319738735948, 0.23429314685397085, 0.17913444636144407, 0.040449713694519634, 0.08667795791682778, 0.05620934240667014, 0.29943294553085964, 0.02258880115408239, 0.0735449339900357, 0.007879814356075253, 0.05730353948904913, 0.3013741706461102, 0.023345886458501497, 0.14007531875100898, 0.01273411988645536, 0.023345886458501497, 0.05730353948904913, 0.023345886458501497, 0.3629224167639778, 0.24832695628152957, 0.21600037025671506, 0.07053073314504982, 0.14693902738552045, 0.15134719820708606, 0.07493890396661543, 0.019102073560117658, 0.04114292766794572, 0.02938780547710409, 0.9299799541340465, 0.40196008552298274, 0.11349778404102999, 0.1463878782286919, 0.03531641261134187, 0.21513356689962454, 0.03504682167537743, 0.03369886699555522, 0.011322819310506556, 0.0072789552710399285, 0.9485733729054524, 0.018241795632797164, 0.017866220941022356, 0.18759531988073475, 0.7861137214049837, 0.05537349594431763, 0.04153012195823822, 0.8389084635564121, 0.0027686747972158815, 0.01661204878329529, 0.0027686747972158815, 0.0027686747972158815, 0.019380723580511173, 0.01661204878329529, 0.39682287387932924, 0.12375601980035784, 0.08140574549205357, 0.20194732321967485, 0.09145087696935535, 0.04548435532922243, 0.021215317680061345, 0.011813074617306886, 0.026036980789166195, 0.211964932493858, 0.21519610524528876, 0.054283702224036806, 0.24104548725673486, 0.05234499857317835, 0.028434320212590708, 0.062038516827470636, 0.01874080195829842, 0.1156759845012213, 0.07593706145930933, 0.15187412291861865, 0.020710107670720727, 0.15187412291861865, 0.03451684611786788, 0.010355053835360364, 0.020710107670720727, 0.5246560609915917, 0.010355053835360364, 0.21504988721035803, 0.42720301519594533, 0.03931316090760233, 0.1419412020137642, 0.07904014456160048, 0.004689991125819226, 0.011862918730013335, 0.006483223026867753, 0.07448809435124652, 0.3961810037994268, 0.20681469498856087, 0.09442656049105509, 0.05799022464939796, 0.07783348736128634, 0.048410718512624254, 0.05970085074525041, 0.02138282619815559, 0.037120586279998105, 0.6538242710492634, 0.10004221324050921, 0.07680660242335868, 0.014199539943814211, 0.045825788000491315, 0.021944743549531055, 0.07551573515573921, 0.005163469070477895, 0.007099769971907106, 0.9750851996870338, 0.12688892066874835, 0.08763047007510247, 0.6561769599223672, 0.025237575381629507, 0.03785636307244426, 0.016825050254419674, 0.028742794184633606, 0.014020875212016394, 0.006309393845407377, 0.1595927654365171, 0.12609798750539625, 0.0610787126979263, 0.547738133226565, 0.027583934766805426, 0.04334618320497995, 0.021673091602489977, 0.003940562109543633, 0.007881124219087265, 0.0069682963776445915, 0.0023227654592148637, 0.9778842583294576, 0.0023227654592148637, 0.0023227654592148637, 0.004645530918429727, 0.9860470085093698, 0.39337800519896543, 0.10723193030608835, 0.2874087697243799, 0.028750590009603397, 0.09023411526662688, 0.02894485075291153, 0.032053022645841624, 0.014181034261493568, 0.017774858012693993, 0.9434705438158892, 0.9647828707720987, 0.0845989802616182, 0.8459898026161821, 0.0051850428547554235, 0.9851581424035304, 0.0051850428547554235, 0.0051850428547554235, 0.8578411614109936, 0.8142277182896431, 0.9958981734950421, 0.9615802955580042, 0.3543320183708312, 0.12267686530771937, 0.1554991996410174, 0.04502898759774774, 0.04455428441524136, 0.18662616546536412, 0.0674078519159055, 0.012274468004807743, 0.011664135341585257, 6.781474035805382e-05, 0.09662554907398858, 0.036693246483793136, 0.0550398697256897, 0.3754942223508164, 0.07705581761596558, 0.30822327046386233, 0.040362571132172446, 0.00611554108063219, 0.0036693246483793136, 0.9640571719072216, 0.12055424537176733, 0.17774023356093901, 0.053322070068281706, 0.40802975356598176, 0.011591754362669937, 0.14296497047292922, 0.023183508725339873, 0.053322070068281706, 0.009273403490135949, 0.0047656225086826565, 0.07863277139326383, 0.009531245017365313, 0.9030854653953635, 0.07068907832032088, 0.09048202025001074, 0.2375153031562782, 0.05796504422266313, 0.007068907832032089, 0.5202716164375617, 0.0056551262656256715, 0.004241344699219253, 0.004241344699219253, 0.0689862645516363, 0.01379725291032726, 0.041391758730981776, 0.041391758730981776, 0.8140379217093082, 0.02602323045303515, 0.9368362963092653, 0.04085994900185327, 0.10214987250463316, 0.04085994900185327, 0.20429974500926631, 0.0612899235027799, 0.010214987250463317, 0.03064496175138995, 0.010214987250463317, 0.5107493625231658, 0.0018842760584438464, 0.062181109928646935, 0.9232952686374848, 0.0018842760584438464, 0.0075371042337753855, 0.1290136449573157, 0.8170864180629995, 0.015144184702624516, 0.9237952668600955, 0.03028836940524903, 0.015144184702624516, 0.3457451389220317, 0.11813319515108216, 0.16529992874620286, 0.056253902452896264, 0.21203394001476283, 0.03375234147173776, 0.04197406567639183, 0.019039782368672584, 0.007789001878093329, 0.9574258511850468, 0.9887572742072284, 0.06081846267320944, 0.011057902304219899, 0.08293426728164925, 0.027644755760549748, 0.0055289511521099495, 0.011057902304219899, 0.0055289511521099495, 0.7961689659038328, 0.36618882558578614, 0.11236394225497918, 0.1296983245312294, 0.03621647725573709, 0.2915890732897807, 0.018882094979486858, 0.03219242422732186, 0.009595818760067093, 0.0034049679471205812, 0.4712130394886097, 0.15707101316286992, 0.15707101316286992, 0.033875912299494715, 0.016937956149747357, 0.9315875882361048, 0.015932153020595204, 0.042485741388253874, 0.14338937718535683, 0.005310717673531734, 0.7912969333562284, 0.03623427018313261, 0.11675487059009397, 0.05636442028487296, 0.7649457038661329, 0.004026030020348068, 0.004026030020348068, 0.004026030020348068, 0.004026030020348068, 0.004026030020348068, 0.8803030713932902, 0.23673970893932234, 0.1845532913483184, 0.1752219451565495, 0.007948924533729071, 0.3103536622299437, 0.0038016595596095555, 0.05287762842002382, 0.0027648433160796767, 0.02557480067373701, 0.9624349582009409, 0.0827904731470824, 0.13086236078087218, 0.0053413208481988645, 0.029377264665093758, 0.747784918747841, 0.1032353768820609, 0.060220636514535526, 0.01720589614701015, 0.05161768844103045, 0.008602948073505074, 0.008602948073505074, 0.008602948073505074, 0.7312505862479314, 0.01720589614701015, 0.3005744031430041, 0.008015317417146776, 0.016030634834293553, 0.02003829354286694, 0.004007658708573388, 0.6452330520803155, 0.004007658708573388, 0.004007658708573388, 0.14391441382120027, 0.14254380035623646, 0.04968473810493819, 0.1959977254898251, 0.04557289771004675, 0.38445707692234926, 0.01130756108595145, 0.0068530673248190606, 0.019531241875734323, 0.39093086783212283, 0.9482343696273348, 0.0256547531786748, 0.2741851745970869, 0.00320684414733435, 0.09460190234636333, 0.046499240136348076, 0.5114916414998288, 0.00320684414733435, 0.001603422073667175, 0.040085551841679376, 0.20875234772945653, 0.7515084518260435, 0.17363482014496992, 0.1068521970122892, 0.46565701766151024, 0.037641114856601876, 0.07680001660258286, 0.051301196861013844, 0.04887273783800727, 0.011535180359281218, 0.027927278764575583, 0.49227068251847644, 0.03922224867105032, 0.08473683670109267, 0.014682125170981402, 0.0562115649403288, 0.17597575740647708, 0.1283637229234374, 0.005453360777793092, 0.003146169679496015, 0.016549427892922304, 0.016549427892922304, 0.9598668177894936, 0.014028802685103928, 0.056115210740415714, 0.028057605370207857, 0.014028802685103928, 0.8978433718466514, 0.30547192702991827, 0.14783772561797795, 0.12022947565317484, 0.08371533860295137, 0.02315530642209293, 0.040076491884391614, 0.09084004827128765, 0.15496243528631423, 0.03384237092459736, 0.387787628820337, 0.18946617259680595, 0.09759260496953295, 0.08523210490722916, 0.10238921693400906, 0.06899741825823313, 0.052209276382566776, 0.007563888097827696, 0.00903976870228188, 0.4579894585833383, 0.0922911586359991, 0.07105985923147348, 0.05069514347611218, 0.09532420140807418, 0.0437624742827977, 0.1702836870607871, 0.007799252842478797, 0.010832295614553886, 0.9662776210953276, 0.984742178224656, 0.012571176743293482, 0.06137371300866819, 0.06035081779185705, 0.0010228952168111365, 0.20355614814541614, 0.016366323468978185, 0.652607148325505, 0.0010228952168111365, 0.0010228952168111365, 0.002045790433622273, 0.8922708041640011, 0.9475391443424884, 0.9674287848773025, 0.06774344702759344, 0.8806648113587147, 0.9047261273533407, 0.03298579877724224, 0.13194319510896896, 0.04947869816586336, 0.06597159755448448, 0.04947869816586336, 0.06597159755448448, 0.01649289938862112, 0.6102372773789814, 0.9194426267285982, 0.025337325436481446, 0.9374810411498136, 0.26186130109250216, 0.04069985031642996, 0.027645181347009027, 0.08293554404102708, 0.02226972941842394, 0.05375451928585089, 0.1305466896942093, 0.37397786988870546, 0.006911295336752257, 0.08308463938824517, 0.006923719949020431, 0.027694879796081723, 0.006923719949020431, 0.8100752340353905, 0.020771159847061293, 0.04846603964314302, 0.04379173458713143, 0.7191063784834214, 0.1521186569868776, 0.002304828136164812, 0.05531587526795549, 0.002304828136164812, 0.004609656272329624, 0.002304828136164812, 0.020743453225483308, 0.787609227887382, 0.019106423318022744, 0.016983487393797996, 0.04882752625716923, 0.004245871848449499, 0.08067156512054048, 0.021229359242247493, 0.019106423318022744, 0.0021229359242247495, 0.24606155833751614, 0.33773155065933586, 0.13863076031826072, 0.03891954059979013, 0.13541426935960038, 0.020585542135426186, 0.03795459331219203, 0.0263752258610148, 0.018333998464363947, 0.009722767557402453, 0.009722767557402453, 0.9528312206254402, 0.019445535114804905, 0.009722767557402453, 0.02850510647589098, 0.9121634072285114, 0.04275765971383647, 0.09564963725172224, 0.06886773882124002, 0.08417168078151557, 0.015303941960275558, 0.7307632286031579, 0.4767758858912043, 0.07396860287013625, 0.3585869226095736, 0.010452085188171426, 0.036716299250756035, 0.008308067713674724, 0.01742014198028571, 0.004020032764681318, 0.013936113584228568, 0.8907636926059925, 0.5695883512825919, 0.10457786535509456, 0.012577293383463488, 0.041924311278211626, 0.010946903500421925, 0.07057259065165625, 0.009665882878032125, 0.1774795844110959, 0.0027949540852141084, 0.9531880847091343, 0.9453626455732167, 0.9161209213954733, 0.20205455389907567, 0.2140104446623346, 0.0729309336558794, 0.12015670217075211, 0.11597214040361149, 0.052605919358339234, 0.028096343293658455, 0.18232733413969848, 0.011955890763258916, 0.34799438805495286, 0.316980151365143, 0.06398212608448958, 0.06569157220125076, 0.08473968607373239, 0.03443312892333218, 0.016850254579502982, 0.012698742581654422, 0.05616751526500994, 0.9582997444981672, 0.029946867015567726, 0.37157567820751936, 0.08686804551543804, 0.08734534246881957, 0.0508321255351327, 0.0930729059093979, 0.017182690321734997, 0.2510581974786836, 0.028637817202891665, 0.013364314694682777, 0.9704062881126203, 0.5559902683307287, 0.04107012078027763, 0.0406023517508895, 0.11918754868809497, 0.17887487683802009, 0.014033070881643836, 0.040508797945011873, 0.005800335964412785, 0.0038357060409826486, 0.3070295986876171, 0.07036094969924558, 0.06268520973205516, 0.07164023969377732, 0.40553492826656096, 0.016630769928912593, 0.02558579989063476, 0.038378699835952136, 0.002558579989063476, 0.1057120772223966, 0.041110252253154234, 0.005872893179022034, 0.04698314543217627, 0.011745786358044068, 0.7752218996309085, 0.9829955158826026, 0.43236508065442236, 0.0336907855055394, 0.15535195538665392, 0.018717103058633004, 0.3490739720435055, 0.0028075654587949505, 0.0037434206117266007, 0.0009358551529316502, 0.0028075654587949505, 0.38146733150252604, 0.184409875763788, 0.0942448701359182, 0.056302130211068016, 0.04691844184255668, 0.03100697026116789, 0.07833339855452941, 0.020807308991046877, 0.10607647720925859, 0.012253469661230526, 0.1347881662735358, 0.012253469661230526, 0.11640796178169, 0.01838020449184579, 0.012253469661230526, 0.024506939322461053, 0.006126734830615263, 0.6739408313676789, 0.0836092324470622, 0.05397558044050851, 0.7683582627413564, 0.0042333788580790985, 0.04127544386627121, 0.013758481288757072, 0.006350068287118648, 0.019050204861355943, 0.011641791859717521, 0.2809219171844808, 0.05171517111805214, 0.1078995545549483, 0.357536985507521, 0.10279188333341228, 0.03383832184267609, 0.014046095859224039, 0.042138287577672115, 0.008938424637688024, 0.8272392824309784, 0.21526377573586827, 0.09148710468774401, 0.577368198491561, 0.026139172767926863, 0.039208759151890295, 0.016913582379246794, 0.021526377573586827, 0.006919192791510051, 0.005381594393396707, 0.21053676680446007, 0.06316103004133802, 0.6737176537742722, 0.9691886286056819, 0.9823568347090118, 0.9744277424101084, 0.2358392154270334, 0.18660474004149294, 0.11123344438955442, 0.1252136040669301, 0.035254315708164785, 0.054704972650600536, 0.03160731753145809, 0.17991857671753064, 0.039509146914322606, 0.9752588966363176, 0.010762371884541388, 0.046636944833012686, 0.9219765247757122, 0.0035874572948471294, 0.0035874572948471294, 0.0035874572948471294, 0.0035874572948471294, 0.0035874572948471294, 0.0035874572948471294, 0.9042941123804094, 0.1788890758823267, 0.060898408811004834, 0.6679794216457092, 0.01903075275343901, 0.030449204405502417, 0.01903075275343901, 0.011418451652063406, 0.004757688188359753, 0.006660763463703654, 0.9731482466466648, 0.0470612717339486, 0.0470612717339486, 0.8941641629450233, 0.0510308232439377, 0.028066952784165735, 0.007654623486590655, 0.19136558716476637, 0.08675239951469409, 0.6098183377650556, 0.002551541162196885, 0.01530924697318131, 0.002551541162196885, 0.01900289396456401, 0.009501446982282004, 0.9501446982282005, 0.009501446982282004, 0.03647191146478106, 0.07294382292956211, 0.18235955732390527, 0.656494406366059, 0.06039523290095208, 0.28184442020444306, 0.010065872150158679, 0.16105395440253886, 0.07046110505111076, 0.010065872150158679, 0.010065872150158679, 0.39256901385618853, 0.010065872150158679, 0.9416082623358369, 0.9715458273180574, 0.3073498301968964, 0.2658478149091626, 0.14447399661484683, 0.06812594962326111, 0.05559703934771884, 0.05403092556327605, 0.021142536089977588, 0.01174585338332088, 0.07204123408436808, 0.07298446573888853, 0.8028291231277739, 0.6107681799353084, 0.04004624355039754, 0.20703152326054577, 0.00982266351236166, 0.07581081326207334, 0.003777947504754485, 0.04382419105515203, 0.0047854001726890145, 0.003777947504754485, 0.9694086160599517, 0.010652841934724743, 0.0992386199894474, 0.7939089599155792, 0.3088763978790009, 0.16552786553001636, 0.1414807990284766, 0.08101293277703198, 0.1251381324740321, 0.063969866227397, 0.07774439946614309, 0.027082133147365156, 0.00933866660253971, 0.11011206903604477, 0.008470159156618829, 0.008470159156618829, 0.7657023877583421, 0.020328381975885188, 0.03896273212044661, 0.04573885944574167, 0.0016940318313237656, 0.21560289138332495, 0.3929417883914523, 0.05500449191434655, 0.05647618400570031, 0.04359887820635496, 0.04175926309216277, 0.03752814832952072, 0.09989110070063605, 0.056844107028538746, 0.9730778130152467, 0.36959774999243555, 0.21775899498552315, 0.0625871941369956, 0.12258201928606831, 0.024812674598690562, 0.04444061122153534, 0.06554990155176463, 0.06888294739337977, 0.023701659318152178, 0.04303690004530103, 0.11066631440220265, 0.02459251431160059, 0.01844438573370044, 0.8054048437049193, 0.021787844738207718, 0.9150894790047243, 0.021787844738207718, 0.004669535900278358, 0.8405164620501043, 0.004669535900278358, 0.004669535900278358, 0.004669535900278358, 0.004669535900278358, 0.1400860770083507, 0.006684979104005752, 0.8891022208327649, 0.006684979104005752, 0.006684979104005752, 0.006684979104005752, 0.08690472835207477, 0.06020277645786221, 0.11261460537411873, 0.010624019374916862, 0.13669571595726362, 0.025497646499800467, 0.6402742343283229, 0.005666143666622326, 0.0070826795832779075, 0.0014165359166555815, 0.1730223356498852, 0.22555948210227947, 0.4350075726258247, 0.009806934004446934, 0.07775497674954354, 0.0035024764301596193, 0.03432426901556427, 0.004903467002223467, 0.03642575487366004, 0.08664009366249585, 0.14079015220155575, 0.005415005853905991, 0.005415005853905991, 0.1191301287859318, 0.005415005853905991, 0.02707502926952995, 0.6118956614913769, 0.005415005853905991, 0.9639136794167963, 0.42372273564504376, 0.11317380759750101, 0.1330923977346612, 0.02806710428418025, 0.24852968148411222, 0.024898237671450222, 0.019465894906770174, 0.0072431236862400645, 0.0022634761519500202, 0.03086753892579097, 0.4920648852287855, 0.05810360268384183, 0.03086753892579097, 0.021788851006440686, 0.023604588590310744, 0.0036314751677401142, 0.0018157375838700571, 0.33772719059983064, 0.07556479156020683, 0.016792175902268183, 0.016792175902268183, 0.8647970589668115, 0.025188263853402275, 0.9759604401055327, 0.010166254584432632, 0.9653519482167771, 0.9490989874487171, 0.14955922597278024, 0.24303374220576787, 0.0854624148415887, 0.17760158084267652, 0.033383755797495585, 0.10148661762438659, 0.03471910602939541, 0.017359553014697705, 0.1549006269003795, 0.9673514427876101, 0.02126285692474826, 0.02126285692474826, 0.9355657046889235, 0.010545627286055107, 0.9701977103170697, 0.017890587509566007, 0.9660917255165644, 0.39873426665167155, 0.21045408413640856, 0.08196424349244887, 0.08354809360824499, 0.10552401396491605, 0.04098212174622443, 0.04454578450676569, 0.01999610771192593, 0.014452632306639535, 0.48360552948027136, 0.07967562400062801, 0.07247330770678594, 0.16370264742878562, 0.09873175252808518, 0.03661177449369724, 0.0375120640304275, 0.02205709364989137, 0.0057018337326249805, 0.46157484049997105, 0.23078742024998553, 0.36695851635731136, 0.36695851635731136, 0.02071334062245611, 0.840961629271718, 0.008285336248982443, 0.0041426681244912215, 0.012428004373473666, 0.0041426681244912215, 0.0041426681244912215, 0.0041426681244912215, 0.0952813668632981, 0.4372827423675199, 0.16545249723562372, 0.10259782792026276, 0.07894632864180219, 0.09654995595864727, 0.03995915403210234, 0.04687100770252004, 0.019763581588850616, 0.012419737064031808, 0.9703951811218063, 0.9797900602987155, 0.8363998989948911, 0.028284054555382788, 0.044446371444172954, 0.04040579222197541, 0.024243475333185247, 0.0040405792221975415, 0.016162316888790166, 0.008081158444395083, 0.9507282198354594, 0.020668004779031725, 0.9845261341412984, 0.4051765575508728, 0.1101311974381848, 0.06436238811322488, 0.154674056513369, 0.11769122397846835, 0.038821757909564214, 0.06211481265530274, 0.012872477622644976, 0.034326606993719935, 0.42724746712858575, 0.05733033105239809, 0.06688538622779777, 0.028665165526199046, 0.17745102468599408, 0.004095023646599864, 0.22659130844519246, 0.0013650078821999545, 0.00955505517539968, 0.01285357134196245, 0.03856071402588735, 0.9254571366212965, 0.040924509605305956, 0.18708347248139867, 0.0058463585150437085, 0.0058463585150437085, 0.7307948143804636, 0.023385434060174834, 0.9261711233696596, 0.022317376466738783, 0.03347606470010818, 0.9257989298751016, 0.020360751076515818, 0.9569553005962435, 0.4162876453980709, 0.11013179479518585, 0.049006013951924804, 0.2560959438778006, 0.11171263395492535, 0.02002396269003379, 0.02002396269003379, 0.005796410252378203, 0.011065874118176569, 0.9746466145472857, 0.004731294245375174, 0.018925176981500695, 0.3112054871755698, 0.3284322650456976, 0.12870150713117226, 0.023093868883866994, 0.11634316648521101, 0.012483172369657833, 0.04993268947863133, 0.007614735145491279, 0.022095215094294365], \"Term\": [\"aboriginal\", \"aboriginal\", \"aboriginal\", \"aboriginal\", \"aboriginal\", \"abrasion_index\", \"abrasion_index\", \"abrasion_index\", \"access\", \"access\", \"access\", \"access\", \"access\", \"access\", \"access\", \"access\", \"access\", \"act\", \"act\", \"act\", \"act\", \"act\", \"act\", \"act\", \"act\", \"actinolite\", \"actinolite\", \"actinolite\", \"actinolite\", \"actinolite\", \"actinolite\", \"actinolite\", \"activity\", \"activity\", \"activity\", \"activity\", \"activity\", \"activity\", \"activity\", \"activity\", \"activity\", \"adobe_acrobat\", \"adobe_acrobat\", \"aggregate\", \"aggregate\", \"aggregate\", \"aggregate\", \"aggregate\", \"aggregate\", \"aggregate\", \"aggregate\", \"aggregate\", \"agitated\", \"ahd_height\", \"airborne\", \"airborne\", \"airborne\", \"airborne\", \"airborne\", \"airborne\", \"airborne\", \"airborne\", \"airborne\", \"aircraft\", \"aircraft\", \"aircraft\", \"aircraft\", \"aircraft\", \"aircraft\", \"aircraft\", \"aircraft\", \"alignment\", \"alkaline\", \"allen\", \"allen\", \"alter\", \"alter\", \"alter\", \"alter\", \"alter\", \"alter\", \"alter\", \"alter\", \"alter\", \"alteration\", \"alteration\", \"alteration\", \"alteration\", \"alteration\", \"alteration\", \"alteration\", \"alteration\", \"alteration\", \"amendment\", \"ammonium\", \"ammonium\", \"ammtec\", \"ammtec\", \"ammtec\", \"ammtec\", \"ammtec\", \"ammtec\", \"amphibole\", \"amphibole\", \"amphibole\", \"amphibole\", \"amphibole\", \"amphibole\", \"amphibole\", \"amphibole\", \"amphibole\", \"amt_resistivity\", \"analysis\", \"analysis\", \"analysis\", \"analysis\", \"analysis\", \"analysis\", \"analysis\", \"analysis\", \"analysis\", \"anhedral\", \"anhedral\", \"anhedral\", \"anhedral\", \"anhedral\", \"anhedral\", \"anhedral\", \"anhedral_subhedral\", \"anisotropy\", \"annual\", \"annual\", \"annual\", \"annual\", \"annual\", \"annual\", \"annual\", \"annual\", \"annual\", \"anom\", \"anom\", \"anom\", \"anomalies\", \"anomalous\", \"anomalous\", \"anomalous\", \"anomalous\", \"anomalous\", \"anomalous\", \"anomalous\", \"anomalous\", \"anomalous\", \"anomaly\", \"anomaly\", \"anomaly\", \"anomaly\", \"anomaly\", \"anomaly\", \"anomaly\", \"anomaly\", \"anomaly\", \"anthophyllite\", \"appendix\", \"appendix\", \"appendix\", \"appendix\", \"appendix\", \"appendix\", \"appendix\", \"appendix\", \"appendix\", \"application\", \"application\", \"application\", \"application\", \"application\", \"application\", \"application\", \"application\", \"application\", \"apron\", \"apron\", \"area\", \"area\", \"area\", \"area\", \"area\", \"area\", \"area\", \"area\", \"area\", \"ashburton\", \"ashburton\", \"ashburton\", \"ashburton\", \"ashburton\", \"ashburton\", \"ashburton\", \"ashton\", \"assemblage\", \"assemblage\", \"assemblage\", \"assemblage\", \"assemblage\", \"assemblage\", \"assemblage\", \"assemblage\", \"assemblage\", \"au\", \"au\", \"au\", \"au\", \"au\", \"au\", \"au\", \"au\", \"au\", \"aug\", \"aug\", \"aug\", \"aug\", \"aug\", \"aug\", \"aug\", \"aug\", \"aug\", \"ausgeoid\", \"auslig\", \"ausquest\", \"ausquest\", \"ausquest\", \"australia\", \"australia\", \"australia\", \"australia\", \"australia\", \"australia\", \"australia\", \"australia\", \"australia\", \"australmin\", \"australmin\", \"australmin\", \"australmin\", \"author_tillick\", \"author_tillick\", \"bangemall_basin\", \"bar\", \"bar\", \"bar\", \"bar\", \"bar\", \"base\", \"base\", \"base\", \"base\", \"base\", \"base\", \"base\", \"base\", \"base\", \"batter\", \"batter\", \"batter\", \"batter\", \"batter\", \"beard\", \"beard\", \"beard\", \"beard\", \"beard\", \"belt\", \"belt\", \"belt\", \"belt\", \"belt\", \"belt\", \"belt\", \"belt\", \"belt\", \"beneficial_register\", \"berkeley\", \"berkeley\", \"berm\", \"bgal\", \"bif\", \"bif\", \"bif\", \"bif\", \"bif\", \"bif\", \"bif\", \"bif\", \"bif\", \"big_bell\", \"big_bell\", \"big_bell\", \"big_bell\", \"big_bell\", \"biotite\", \"biotite\", \"biotite\", \"biotite\", \"biotite\", \"biotite\", \"biotite\", \"biotite\", \"biotite\", \"bladed\", \"blake\", \"blake\", \"blebs\", \"blebs\", \"block\", \"block\", \"block\", \"block\", \"block\", \"block\", \"block\", \"block\", \"block\", \"blocky\", \"blocky\", \"blocky\", \"bluebird\", \"bluebird\", \"bluebird\", \"boddington\", \"boddington\", \"boddington\", \"boddington\", \"bore\", \"bore\", \"bore\", \"bore\", \"bore\", \"bore\", \"bore\", \"bore\", \"bore\", \"borehole\", \"borehole\", \"borehole\", \"borehole\", \"borehole\", \"borehole\", \"borehole\", \"borehole\", \"braemore\", \"braemore\", \"braemore\", \"broome\", \"broome\", \"broome\", \"broome\", \"bubble\", \"bubble\", \"bubble\", \"bubble\", \"bulk_density\", \"bulk_density\", \"bulk_density\", \"bulk_density\", \"bulk_density\", \"bulk_density\", \"bulk_density\", \"bullfinch\", \"bullfinch\", \"bullfinch\", \"bullfinch\", \"bullfinch\", \"bullfinch\", \"bullfinch\", \"bullfinch\", \"bullfinch\", \"bulong_anticline\", \"burtville\", \"burtville\", \"burtville\", \"burtville\", \"burtville\", \"burtville\", \"canning_basin\", \"canning_basin\", \"canning_basin\", \"capital_cost\", \"capital_cost\", \"capital_cost\", \"capital_cost\", \"carbine\", \"carosue_dam\", \"carosue_dam\", \"carosue_dam\", \"causton\", \"causton\", \"causton\", \"causton\", \"causton\", \"cazaly\", \"cazaly\", \"cazaly\", \"cazaly\", \"cazaly\", \"cazaly\", \"cazaly_resources\", \"cazaly_resources\", \"cazaly_resources\", \"cazaly_resources\", \"cazaly_resources\", \"cazalys\", \"cazalys\", \"cazalys\", \"cdi\", \"celia\", \"centaur\", \"centaur\", \"centenary_international\", \"channel\", \"channel\", \"channel\", \"channel\", \"channel\", \"channel\", \"channel\", \"channel\", \"channel\", \"cheela_springs\", \"cheela_springs\", \"cheela_springs\", \"cheela_springs\", \"childe_harold\", \"childe_harold\", \"chlorite\", \"chlorite\", \"chlorite\", \"chlorite\", \"chlorite\", \"chlorite\", \"chlorite\", \"chlorite\", \"chlorite\", \"chromitite\", \"chromitite\", \"cid\", \"cid\", \"cid\", \"cim\", \"cim\", \"cim\", \"cim\", \"circle\", \"circle\", \"circuit\", \"circuit\", \"circuit\", \"circuit\", \"circuit\", \"circuit\", \"circuit\", \"circuit\", \"client\", \"client\", \"client\", \"client\", \"client\", \"client\", \"client\", \"client\", \"client\", \"cliffs\", \"cliffs\", \"coal\", \"coal\", \"coal\", \"coal\", \"coal\", \"coal\", \"coal\", \"coal_measure\", \"coal_seam\", \"coal_seam\", \"collect\", \"collect\", \"collect\", \"collect\", \"collect\", \"collect\", \"collect\", \"collect\", \"collect\", \"commercial_confidence\", \"commercial_confidence\", \"commercial_confidence\", \"commercial_confidence\", \"company\", \"company\", \"company\", \"company\", \"company\", \"company\", \"company\", \"company\", \"company\", \"compilation_computer\", \"complex_resistivity\", \"conductivity\", \"conductivity\", \"conductivity\", \"conductivity\", \"conductivity\", \"conductivity\", \"conductivity\", \"conductivity\", \"conductivity_decay\", \"conductor\", \"conductor\", \"conductor\", \"conductor\", \"conductor\", \"conductor\", \"conductor\", \"conductor\", \"conductor\", \"confidential\", \"confidential\", \"confidential\", \"confidential\", \"confidential\", \"confidential\", \"confidential\", \"confidential\", \"confidential\", \"confidential_information\", \"confidential_information\", \"confidential_information\", \"conservation\", \"conservation\", \"conservation\", \"conservation\", \"conservation\", \"contact\", \"contact\", \"contact\", \"contact\", \"contact\", \"contact\", \"contact\", \"contact\", \"contact\", \"control\", \"control\", \"control\", \"control\", \"control\", \"control\", \"control\", \"control\", \"control\", \"coolgardie\", \"coolgardie\", \"coolgardie\", \"coolgardie\", \"coolgardie\", \"coolgardie\", \"coolgardie\", \"coolgardie\", \"copper\", \"copper\", \"copper\", \"copper\", \"copper\", \"copper\", \"copper\", \"copper\", \"copper\", \"cordierite\", \"cordierite\", \"cordierite\", \"core\", \"core\", \"core\", \"core\", \"core\", \"core\", \"core\", \"core\", \"core\", \"correction\", \"correction\", \"correction\", \"correction\", \"correction\", \"correction\", \"correction\", \"correction\", \"correction\", \"corymbia\", \"cost\", \"cost\", \"cost\", \"cost\", \"cost\", \"cost\", \"cost\", \"cost\", \"cost\", \"court\", \"cra\", \"cra\", \"cra\", \"cra\", \"cra\", \"cra\", \"cra\", \"cra\", \"cra\", \"crack\", \"crb\", \"cre\", \"creek\", \"creek\", \"creek\", \"creek\", \"creek\", \"creek\", \"creek\", \"creek\", \"creek\", \"crescent\", \"crescent\", \"crescent\", \"crescent\", \"crew\", \"crew\", \"crew\", \"crew\", \"crew\", \"crew\", \"crew\", \"crew\", \"cross\", \"cross\", \"cross\", \"cross\", \"cross\", \"cross\", \"cross\", \"cross\", \"cross\", \"crystal\", \"crystal\", \"crystal\", \"crystal\", \"crystal\", \"crystal\", \"crystal\", \"crystal\", \"crystal\", \"csr\", \"csr\", \"csr\", \"cu\", \"cu\", \"cu\", \"cu\", \"cu\", \"cu\", \"cu\", \"cu\", \"cu\", \"cube\", \"cube\", \"cube\", \"cube\", \"cube\", \"cube_consulting\", \"cube_consulting\", \"cube_consulting\", \"cultural\", \"cultural\", \"cultural\", \"cultural\", \"cultural\", \"cultural\", \"cultural\", \"cultural\", \"cultural_heritage\", \"cummingtonite\", \"cummingtonite\", \"cummingtonite\", \"cummingtonite\", \"cut\", \"cut\", \"cut\", \"cut\", \"cut\", \"cut\", \"cut\", \"cut\", \"cut\", \"cyanidation\", \"cyanidation\", \"cyanidation\", \"cyanidation\", \"cyanidation\", \"cyanidation\", \"dam\", \"dam\", \"dam\", \"dam\", \"dam\", \"dam\", \"dam\", \"dam\", \"dam\", \"darlot\", \"darlot\", \"darlot\", \"darlot\", \"darlot\", \"data\", \"data\", \"data\", \"data\", \"data\", \"data\", \"data\", \"data\", \"data\", \"database\", \"database\", \"database\", \"database\", \"database\", \"database\", \"database\", \"database\", \"database\", \"date\", \"date\", \"date\", \"date\", \"date\", \"date\", \"date\", \"date\", \"date\", \"datum\", \"datum\", \"datum\", \"datum\", \"datum\", \"datum\", \"datum\", \"datum\", \"datum\", \"ddh\", \"ddh\", \"ddh\", \"ddh\", \"ddh\", \"deflector\", \"deflector\", \"deflector\", \"density\", \"density\", \"density\", \"density\", \"density\", \"density\", \"density\", \"density\", \"density\", \"deposit\", \"deposit\", \"deposit\", \"deposit\", \"deposit\", \"deposit\", \"deposit\", \"deposit\", \"deposit\", \"derby\", \"derby\", \"derby\", \"derby\", \"derby\", \"diamond\", \"diamond\", \"diamond\", \"diamond\", \"diamond\", \"diamond\", \"diamond\", \"diamond\", \"diamond\", \"diamondiferous\", \"diamondiferous\", \"diamondiferous\", \"digest_icp\", \"digitally\", \"digitally\", \"digitally\", \"digitally\", \"digitally\", \"digitally\", \"digitally\", \"digitally\", \"digitally\", \"digitising\", \"dip\", \"dip\", \"dip\", \"dip\", \"dip\", \"dip\", \"dip\", \"dip\", \"dip\", \"director\", \"director\", \"director\", \"director\", \"director\", \"disclose_person\", \"discriminate\", \"diurnal\", \"diurnal\", \"diurnal\", \"diurnal\", \"diurnal\", \"diurnal\", \"diversion\", \"diversion\", \"diversion\", \"diversion\", \"domain\", \"domain\", \"domain\", \"domain\", \"domain\", \"domain\", \"domain\", \"domain\", \"domain\", \"domains\", \"dot\", \"dot\", \"drill\", \"drill\", \"drill\", \"drill\", \"drill\", \"drill\", \"drill\", \"drill\", \"drill\", \"drilling\", \"drilling\", \"drilling\", \"drilling\", \"drilling\", \"drilling\", \"drilling\", \"drilling\", \"drilling\", \"due\", \"due\", \"due\", \"due\", \"due\", \"due\", \"due\", \"due\", \"due\", \"dunnsville\", \"dust_suppression\", \"dust_suppression\", \"dust_suppression\", \"duty_cycle\", \"duty_cycle\", \"east\", \"east\", \"east\", \"east\", \"east\", \"east\", \"east\", \"east\", \"east\", \"easte_gda\", \"eclipse\", \"eclipse\", \"eclipse\", \"eclipse\", \"edjudina\", \"edjudina\", \"edjudina\", \"edjudina\", \"edjudina\", \"el\", \"el\", \"el\", \"el\", \"el\", \"el\", \"el\", \"el\", \"elder\", \"ellendale\", \"ellendale\", \"ellendale\", \"ellendale\", \"ellendale\", \"ellendale\", \"ellendale\", \"emaxair\", \"envelope\", \"envelope\", \"envelope\", \"envelope\", \"envelope\", \"envelope\", \"envelope\", \"envelope\", \"envelope\", \"ep_ip\", \"equant\", \"equant\", \"equant\", \"equivalent_mmr\", \"equivalent_mmr\", \"equivalent_mmr\", \"equivalent_mmr\", \"estimate\", \"estimate\", \"estimate\", \"estimate\", \"estimate\", \"estimate\", \"estimate\", \"estimate\", \"estimate\", \"estimation\", \"estimation\", \"estimation\", \"estimation\", \"estimation\", \"estimation\", \"estimation\", \"estimation\", \"estimation\", \"euro\", \"euro\", \"evanston\", \"evanston\", \"evanston\", \"exploration\", \"exploration\", \"exploration\", \"exploration\", \"exploration\", \"exploration\", \"exploration\", \"exploration\", \"exploration\", \"failure\", \"failure\", \"failure\", \"failure\", \"failure\", \"failure\", \"failure\", \"failure\", \"falconbridge\", \"fault\", \"fault\", \"fault\", \"fault\", \"fault\", \"fault\", \"fault\", \"fault\", \"fault\", \"feldspar\", \"feldspar\", \"feldspar\", \"feldspar\", \"feldspar\", \"feldspar\", \"feldspar\", \"feldspar\", \"feldspar\", \"felsic\", \"felsic\", \"felsic\", \"felsic\", \"felsic\", \"felsic\", \"felsic\", \"felsic\", \"felsic\", \"ferromagnesian_phenocryst\", \"fg\", \"fg\", \"fg\", \"fibrous\", \"fibrous\", \"field\", \"field\", \"field\", \"field\", \"field\", \"field\", \"field\", \"field\", \"field\", \"filter\", \"filter\", \"filter\", \"filter\", \"filter\", \"filter\", \"filter\", \"filter\", \"filter\", \"finder\", \"finder\", \"finder\", \"fine_grain\", \"fine_grain\", \"fine_grain\", \"fine_grain\", \"fine_grain\", \"fine_grain\", \"fine_grain\", \"fine_grain\", \"fine_grain\", \"finore\", \"finore\", \"finore\", \"finore\", \"fish\", \"flake\", \"flake\", \"flake\", \"flake\", \"flake\", \"flake\", \"flake\", \"flight\", \"flight\", \"flight\", \"flight\", \"flight\", \"flight\", \"flight\", \"flight\", \"flight_path\", \"flight_path\", \"flight_path\", \"flora\", \"flora\", \"flora\", \"flora\", \"flora\", \"flora\", \"flora\", \"flora\", \"flora\", \"floristic\", \"flowsheet\", \"fly\", \"fly\", \"fly\", \"fly\", \"fly\", \"fly\", \"fly\", \"fly\", \"fly\", \"fmg\", \"foliation\", \"foliation\", \"foliation\", \"foliation\", \"foliation\", \"foliation\", \"foliation\", \"foliation\", \"foliation\", \"foliation_parallel\", \"form\", \"form\", \"form\", \"form\", \"form\", \"form\", \"form\", \"form\", \"form\", \"formulae\", \"fpr\", \"fraser\", \"fraser\", \"fraser\", \"freehold\", \"friar\", \"friar\", \"friar\", \"friar\", \"fuse\", \"fuse\", \"geological\", \"geological\", \"geological\", \"geological\", \"geological\", \"geological\", \"geological\", \"geological\", \"geological\", \"geology\", \"geology\", \"geology\", \"geology\", \"geology\", \"geology\", \"geology\", \"geology\", \"geology\", \"geosoft\", \"geosoft\", \"geosoft\", \"geotechnical\", \"geotechnical\", \"geotechnical\", \"geotechnical\", \"geotechnical\", \"geotechnical\", \"geotechnical\", \"geotechnical\", \"geotem\", \"gold\", \"gold\", \"gold\", \"gold\", \"gold\", \"gold\", \"gold\", \"gold\", \"gold\", \"golden_mile\", \"golder\", \"golder\", \"golder\", \"golder\", \"golder\", \"golder\", \"golder\", \"golder\", \"gondwana\", \"gondwana\", \"gps\", \"gps\", \"gps\", \"gps\", \"gps\", \"gps\", \"gps\", \"gps\", \"gps\", \"grade\", \"grade\", \"grade\", \"grade\", \"grade\", \"grade\", \"grade\", \"grade\", \"grade\", \"grain\", \"grain\", \"grain\", \"grain\", \"grain\", \"grain\", \"grain\", \"grain\", \"grain\", \"granitoid\", \"granitoid\", \"granitoid\", \"granitoid\", \"granitoid\", \"granitoid\", \"granitoid\", \"granitoid\", \"granitoid\", \"granny_smith\", \"granny_smith\", \"granny_smith\", \"granny_smith\", \"granny_smith\", \"granoblastic\", \"granophyre\", \"granular\", \"granular\", \"granular\", \"granular\", \"grassland\", \"gravity\", \"gravity\", \"gravity\", \"gravity\", \"gravity\", \"gravity\", \"gravity\", \"gravity\", \"gravity\", \"greenstone\", \"greenstone\", \"greenstone\", \"greenstone\", \"greenstone\", \"greenstone\", \"greenstone\", \"greenstone\", \"greenstone\", \"gregory\", \"gregory\", \"gregory\", \"grevillea\", \"grevillea\", \"griffin_find\", \"grind\", \"grind\", \"grind\", \"grind\", \"grind\", \"grind\", \"grind\", \"grind\", \"grind\", \"grind_size\", \"grind_size\", \"grind_size\", \"grind_size\", \"grind_size\", \"ground\", \"ground\", \"ground\", \"ground\", \"ground\", \"ground\", \"ground\", \"ground\", \"ground\", \"groundwater\", \"groundwater\", \"groundwater\", \"groundwater\", \"groundwater\", \"groundwater\", \"groundwater\", \"groundwater\", \"groundwater\", \"grp\", \"grp\", \"gullewa\", \"gullewa\", \"habitat\", \"habitat\", \"habitat\", \"habitat\", \"habitat\", \"halfway_hill\", \"hall_creek\", \"hall_creek\", \"hall_creek\", \"hall_creek\", \"hall_creek\", \"hall_creek\", \"hall_creek\", \"hall_creek\", \"hall_creek\", \"hammerhead\", \"hammerhead\", \"hammerhead\", \"hammerhead\", \"hammerhead\", \"haul_road\", \"haul_road\", \"haul_road\", \"haul_road\", \"haul_road\", \"haul_road\", \"haul_road\", \"hco\", \"heavy\", \"heavy\", \"heavy\", \"heavy\", \"heavy\", \"heavy\", \"heavy\", \"heavy\", \"heavy\", \"height\", \"height\", \"height\", \"height\", \"height\", \"height\", \"height\", \"height\", \"height\", \"helicopter\", \"helicopter\", \"helicopter\", \"helicopter\", \"helicopter\", \"helicopter\", \"helicopter\", \"helicopter\", \"heritage_clearance\", \"heritage_clearance\", \"high\", \"high\", \"high\", \"high\", \"high\", \"high\", \"high\", \"high\", \"high\", \"hinge\", \"hinge\", \"hinge\", \"hinge\", \"hinge\", \"hinge\", \"hinge\", \"hinge\", \"hoatson_blake\", \"hoistem\", \"hoistem\", \"hoistem\", \"holder_rio\", \"hole\", \"hole\", \"hole\", \"hole\", \"hole\", \"hole\", \"hole\", \"hole\", \"hole\", \"honour\", \"honour\", \"hornblende\", \"hornblende\", \"hornblende\", \"hornblende\", \"hornblende\", \"hornblende\", \"hornblende\", \"hornblende\", \"human\", \"human\", \"human\", \"hummock_grassland\", \"hummock_grassland\", \"hummock_grassland\", \"hummock_grassland\", \"hummock_grassland\", \"hymap\", \"hyperspectral\", \"hyperspectral\", \"hz\", \"hz\", \"hz\", \"hz\", \"hz\", \"idw\", \"ilmenite\", \"ilmenite\", \"ilmenite\", \"ilmenite\", \"ilmenite\", \"ilmenite\", \"ilmenite\", \"ilmenite\", \"ilmenite\", \"image\", \"image\", \"image\", \"image\", \"image\", \"image\", \"image\", \"image\", \"image\", \"include\", \"include\", \"include\", \"include\", \"include\", \"include\", \"include\", \"include\", \"include\", \"indeed\", \"indistinct\", \"information\", \"information\", \"information\", \"information\", \"information\", \"information\", \"information\", \"information\", \"information\", \"information_memorandum\", \"information_memorandum\", \"information_memorandum\", \"information_memorandum\", \"information_memorandum\", \"ingram\", \"ingram\", \"instrument_drift\", \"intensity_tmi\", \"internet_free\", \"interpolation\", \"interpolation\", \"interpolation\", \"interpolation\", \"interpolation\", \"interpolation\", \"interpolation\", \"interpolation\", \"interpolation\", \"interstitial\", \"interstitial\", \"interstitial\", \"interstitial\", \"interstitial\", \"introduce_discussion\", \"intrusion\", \"intrusion\", \"intrusion\", \"intrusion\", \"intrusion\", \"intrusion\", \"intrusion\", \"intrusion\", \"intrusion\", \"iron\", \"iron\", \"iron\", \"iron\", \"iron\", \"iron\", \"iron\", \"iron\", \"iron\", \"isogal\", \"isotope_whole\", \"james\", \"james\", \"james\", \"james\", \"jigsaw_fit\", \"junction\", \"junction\", \"junction\", \"junction\", \"junction\", \"junction\", \"junction\", \"junction\", \"junction\", \"kalgoorlie\", \"kalgoorlie\", \"kalgoorlie\", \"kalgoorlie\", \"kalgoorlie\", \"kalgoorlie\", \"kalgoorlie\", \"kalgoorlie\", \"kalgoorlie\", \"kalpini\", \"kalpini\", \"keringal_admiral\", \"kimberley\", \"kimberley\", \"kimberley\", \"kimberley\", \"kimberley\", \"kimberley\", \"kimberley\", \"kimberley\", \"kimberley\", \"kimberlitic\", \"kinematic\", \"kinematic\", \"kinematic\", \"kinematic\", \"kinematic\", \"km\", \"km\", \"km\", \"km\", \"km\", \"km\", \"km\", \"km\", \"km\", \"komatiite\", \"komatiite\", \"komatiite\", \"komatiite\", \"komatiite\", \"komatiite\", \"komatiite\", \"komatiite\", \"komatiite\", \"komatiitic_peridotitic\", \"krige\", \"kunanalle\", \"kunanalle\", \"kunanalle\", \"kunanalle\", \"kunanalle\", \"kunanalle\", \"kurnalpi\", \"kurnalpi\", \"kurnalpi\", \"kurnalpi\", \"kurnalpi\", \"lady_mary\", \"lake_carey\", \"lake_carey\", \"lake_carey\", \"lake_carey\", \"lake_johnston\", \"lake_johnston\", \"lake_johnston\", \"lake_rebecca\", \"lake_rebecca\", \"lake_rebecca\", \"lake_rebecca\", \"lake_rebecca\", \"lake_yindarlgooda\", \"lamboo\", \"lamboo\", \"lamboo_complex\", \"lamboo_complex\", \"lamboo_complex\", \"lamboo_complex\", \"lamproite\", \"lamproite_pipe\", \"lancefield\", \"lancefield\", \"lancefield\", \"laverton\", \"laverton\", \"laverton\", \"laverton\", \"laverton\", \"laverton\", \"laverton\", \"laverton\", \"leach\", \"leach\", \"leach\", \"leach\", \"leach\", \"leach\", \"leach\", \"leach\", \"leach\", \"leapfrog\", \"legacy\", \"legacy\", \"legacy\", \"legacy\", \"legacy\", \"legal\", \"legal\", \"legal\", \"lennard\", \"lennon_find\", \"lennon_find\", \"lennon_find\", \"lennon_find\", \"lennon_find\", \"lennon_find\", \"lime\", \"lime\", \"lime\", \"lime\", \"lime\", \"lime\", \"line\", \"line\", \"line\", \"line\", \"line\", \"line\", \"line\", \"line\", \"line\", \"lionore\", \"lionore\", \"lionore\", \"lionore\", \"lionore\", \"lionore\", \"lionore\", \"lionore\", \"lionore\", \"literature_search\", \"literature_search\", \"litho_tectonic\", \"location\", \"location\", \"location\", \"location\", \"location\", \"location\", \"location\", \"location\", \"location\", \"lode\", \"lode\", \"lode\", \"lode\", \"lode\", \"lode\", \"lode\", \"lode\", \"lode\", \"low\", \"low\", \"low\", \"low\", \"low\", \"low\", \"low\", \"low\", \"low\", \"ltd\", \"ltd\", \"ltd\", \"ltd\", \"ltd\", \"ltd\", \"ltd\", \"ltd\", \"ltd\", \"mafic\", \"mafic\", \"mafic\", \"mafic\", \"mafic\", \"mafic\", \"mafic\", \"mafic\", \"mafic\", \"magellan\", \"magellan\", \"magnesite\", \"magnet\", \"magnetic\", \"magnetic\", \"magnetic\", \"magnetic\", \"magnetic\", \"magnetic\", \"magnetic\", \"magnetic\", \"magnetic\", \"magnetite\", \"magnetite\", \"magnetite\", \"magnetite\", \"magnetite\", \"magnetite\", \"magnetite\", \"magnetite\", \"magnetite\", \"magnetometer\", \"magnetometer\", \"magnetometer\", \"magnetometer\", \"magnetometer\", \"magnetometer\", \"magnetometer\", \"magnetometer_sensor\", \"magnetometer_sensor\", \"major\", \"major\", \"major\", \"major\", \"major\", \"major\", \"major\", \"major\", \"major\", \"manager_dame_mediation\", \"mapinfo_format\", \"mapinfo_format\", \"mapinfo_format\", \"mapinfo_format\", \"mapinfo_gis\", \"mapping\", \"mapping\", \"mapping\", \"mapping\", \"mapping\", \"mapping\", \"mapping\", \"mapping\", \"mapping\", \"market\", \"market\", \"market\", \"market\", \"market\", \"market\", \"market\", \"market\", \"market\", \"marvel_loch\", \"marvel_loch\", \"marvel_loch\", \"marvel_loch\", \"marvel_loch\", \"mason_geoscience\", \"mason_geoscience\", \"mason_geoscience\", \"mason_geoscience\", \"mason_geoscience\", \"mason_geoscience\", \"mat\", \"material_crm\", \"mathews\", \"mawson_west\", \"maxwell\", \"maxwell\", \"maxwell\", \"maxwell\", \"maxwell\", \"maxwell\", \"maxwell\", \"maxwell\", \"may\", \"may\", \"may\", \"may\", \"may\", \"may\", \"may\", \"may\", \"may\", \"mb\", \"md\", \"mdb\", \"memo\", \"mercator\", \"mercator\", \"mercator\", \"mercator\", \"mercator\", \"mercator\", \"merely\", \"merely\", \"merredin\", \"merredin\", \"mesa\", \"mesa\", \"metallurgical\", \"metallurgical\", \"metallurgical\", \"metallurgical\", \"metallurgical\", \"metallurgical\", \"metallurgical\", \"metallurgical\", \"metallurgical\", \"metamorphic\", \"metamorphic\", \"metamorphic\", \"metamorphic\", \"metamorphic\", \"metamorphic\", \"metamorphic\", \"metamorphic\", \"metamorphic\", \"meter\", \"meter\", \"meter\", \"meter\", \"meter\", \"meter\", \"meter\", \"meter\", \"meter\", \"metex\", \"metex\", \"metex\", \"metex_resources\", \"metex_resources\", \"metre\", \"metre\", \"metre\", \"metre\", \"metre\", \"metre\", \"metre\", \"metre\", \"metre\", \"mgal\", \"mgal\", \"microdiamond\", \"mill\", \"mill\", \"mill\", \"mill\", \"mill\", \"mill\", \"mill\", \"mill\", \"mill\", \"milligal\", \"milligal\", \"milligal\", \"millimetre\", \"mindax\", \"mindax\", \"mineral\", \"mineral\", \"mineral\", \"mineral\", \"mineral\", \"mineral\", \"mineral\", \"mineral\", \"mineral\", \"mineralisation\", \"mineralisation\", \"mineralisation\", \"mineralisation\", \"mineralisation\", \"mineralisation\", \"mineralisation\", \"mineralisation\", \"mineralisation\", \"mining\", \"mining\", \"mining\", \"mining\", \"mining\", \"mining\", \"mining\", \"mining\", \"mining\", \"minister\", \"minister\", \"minister\", \"minister\", \"minister\", \"minister\", \"minister\", \"minor\", \"minor\", \"minor\", \"minor\", \"minor\", \"minor\", \"minor\", \"minor\", \"minor\", \"miralga_formation\", \"miralga_formation\", \"miralga_formation\", \"mm\", \"mm\", \"mm\", \"mm\", \"mm\", \"mm\", \"mm\", \"mm\", \"mm\", \"mmi\", \"mmi\", \"mmi\", \"mmi\", \"mmi\", \"mmi\", \"mmi\", \"mmi\", \"model\", \"model\", \"model\", \"model\", \"model\", \"model\", \"model\", \"model\", \"model\", \"motion\", \"motion\", \"motion\", \"mound\", \"mound\", \"mound\", \"mound\", \"mound\", \"mound\", \"mound\", \"mount_edgar\", \"mt_celia\", \"mt_varden\", \"mud_rotary\", \"mud_rotary\", \"mulgabbie\", \"mulgabbie\", \"mulgabbie\", \"mulgabbie\", \"muscovite\", \"muscovite\", \"muscovite\", \"muscovite\", \"muscovite\", \"muscovite\", \"muscovite\", \"muscovite\", \"muscovite\", \"native_title\", \"native_title\", \"native_title\", \"native_title\", \"native_title\", \"native_title\", \"native_title\", \"native_title\", \"native_title\", \"navigation\", \"navigation\", \"navigation\", \"navigation\", \"navigation\", \"newman_member\", \"nickel\", \"nickel\", \"nickel\", \"nickel\", \"nickel\", \"nickel\", \"nickel\", \"nickel\", \"nickel\", \"nil\", \"noganyer_formation\", \"noise\", \"noise\", \"noise\", \"noise\", \"noise\", \"noise\", \"noise\", \"noise\", \"noise\", \"norseman\", \"norseman\", \"norseman\", \"norseman\", \"norseman\", \"norseman\", \"norseman\", \"north\", \"north\", \"north\", \"north\", \"north\", \"north\", \"north\", \"north\", \"north\", \"northe_gda\", \"number\", \"number\", \"number\", \"number\", \"number\", \"number\", \"number\", \"number\", \"number\", \"object\", \"object\", \"object\", \"object\", \"occur\", \"occur\", \"occur\", \"occur\", \"occur\", \"occur\", \"occur\", \"occur\", \"occur\", \"olivine_mesocumulate\", \"opaque\", \"opaque\", \"opaque\", \"opaque\", \"opaque\", \"opaque\", \"opaque\", \"opaque\", \"open_shrubland\", \"open_shrubland\", \"open_shrubland\", \"open_shrubland\", \"open_woodland\", \"open_woodland\", \"operating_cost\", \"operating_cost\", \"operating_cost\", \"operating_cost\", \"optimisation\", \"optimisation\", \"optimisation\", \"optimisation\", \"optimisation\", \"optimisation\", \"optimisation\", \"optimisation\", \"optimisation\", \"ordinary_krige\", \"ordinary_krige\", \"ordinary_krige\", \"ordinary_krige\", \"ore\", \"ore\", \"ore\", \"ore\", \"ore\", \"ore\", \"ore\", \"ore\", \"ore\", \"organisation_bulletin\", \"organisation_bulletin\", \"orogen\", \"orogen\", \"orogen\", \"orogen\", \"orogen\", \"orogen\", \"orogen\", \"orthopyroxene\", \"orthopyroxene\", \"orthopyroxene\", \"orthopyroxene\", \"overcome\", \"package\", \"package\", \"package\", \"package\", \"package\", \"package\", \"package\", \"package\", \"package\", \"page\", \"page\", \"page\", \"page\", \"page\", \"page\", \"page\", \"page\", \"page\", \"pannawonica\", \"panorama\", \"panorama\", \"panorama\", \"panorama\", \"panorama\", \"panorama\", \"panorama\", \"panorama\", \"panton\", \"panton\", \"paraburdoo\", \"paraburdoo\", \"paraburdoo\", \"paraburdoo\", \"parker_range\", \"parker_range\", \"parker_range\", \"parker_range\", \"parker_range\", \"parker_range\", \"parker_range\", \"pb_sb\", \"pca\", \"pdf_pdf\", \"pdf_pdf\", \"pdf_pdf\", \"penneshaw_formation\", \"people\", \"people\", \"people\", \"people\", \"people\", \"people\", \"people\", \"perilya\", \"perilya\", \"perilya\", \"perilya\", \"perilya\", \"perilya\", \"period\", \"period\", \"period\", \"period\", \"period\", \"period\", \"period\", \"period\", \"period\", \"pge\", \"pge\", \"pge\", \"pge\", \"pge\", \"pge\", \"pge\", \"pge\", \"pge\", \"ph\", \"ph\", \"ph\", \"ph\", \"ph\", \"ph\", \"ph\", \"photograph_diagram\", \"photography_landsat\", \"pilbara\", \"pilbara\", \"pilbara\", \"pilbara\", \"pilbara\", \"pilbara\", \"pilbara\", \"pilbara\", \"pilbara\", \"pit\", \"pit\", \"pit\", \"pit\", \"pit\", \"pit\", \"pit\", \"pit\", \"pit\", \"plagioclase\", \"plagioclase\", \"plagioclase\", \"plagioclase\", \"plagioclase\", \"plagioclase\", \"plagioclase\", \"plagioclase\", \"plagioclase\", \"plain\", \"plain\", \"plain\", \"plain\", \"plain\", \"plain\", \"plain\", \"plain\", \"plain\", \"plant\", \"plant\", \"plant\", \"plant\", \"plant\", \"plant\", \"plant\", \"plant\", \"plant\", \"plasma_atomic\", \"plate\", \"plate\", \"plate\", \"plate\", \"plate\", \"plate\", \"plate\", \"plate\", \"plate\", \"platy\", \"platy\", \"platy\", \"poaceae\", \"poikiloblastic\", \"polaris\", \"polaris\", \"polaris\", \"polaris\", \"polaris\", \"polaris\", \"polaris\", \"polaris\", \"polaris\", \"polaris_metal\", \"polaris_metal\", \"polaris_metal\", \"polaris_metal\", \"polaris_metal\", \"polaris_metal\", \"polaris_metal\", \"polaris_metal\", \"portman\", \"portman\", \"portman\", \"portman\", \"portman\", \"portman\", \"portman\", \"portman\", \"portman\", \"poseidon\", \"poseidon\", \"potential\", \"potential\", \"potential\", \"potential\", \"potential\", \"potential\", \"potential\", \"potential\", \"potential\", \"ppb\", \"ppb\", \"ppb\", \"ppb\", \"ppb\", \"ppb\", \"ppb\", \"ppb\", \"ppb\", \"precursor\", \"precursor\", \"precursor\", \"precursor\", \"precursor\", \"precursor\", \"precursor\", \"present\", \"present\", \"present\", \"present\", \"present\", \"present\", \"present\", \"present\", \"present\", \"primary\", \"primary\", \"primary\", \"primary\", \"primary\", \"primary\", \"primary\", \"primary\", \"primary\", \"prior_consent\", \"priority\", \"priority\", \"priority\", \"priority\", \"priority\", \"priority\", \"priority\", \"priority\", \"priority\", \"process\", \"process\", \"process\", \"process\", \"process\", \"process\", \"process\", \"process\", \"process\", \"processing\", \"processing\", \"processing\", \"processing\", \"processing\", \"processing\", \"processing\", \"processing\", \"processing\", \"project\", \"project\", \"project\", \"project\", \"project\", \"project\", \"project\", \"project\", \"project\", \"propose\", \"propose\", \"propose\", \"propose\", \"propose\", \"propose\", \"propose\", \"propose\", \"propose\", \"prospect\", \"prospect\", \"prospect\", \"prospect\", \"prospect\", \"prospect\", \"prospect\", \"prospect\", \"prospect\", \"provide\", \"provide\", \"provide\", \"provide\", \"provide\", \"provide\", \"provide\", \"provide\", \"provide\", \"pseudo\", \"pseudo\", \"pseudo\", \"pseudo\", \"pseudo\", \"ptilotus\", \"pty\", \"pty\", \"pty\", \"pty\", \"pty\", \"pty\", \"pty\", \"pty\", \"pty\", \"purpose_without\", \"purpose_without\", \"purpose_without\", \"pyrite\", \"pyrite\", \"pyrite\", \"pyrite\", \"pyrite\", \"pyrite\", \"pyrite\", \"pyrite\", \"pyrite\", \"pyrope\", \"pyroxene\", \"pyroxene\", \"pyroxene\", \"pyroxene\", \"pyroxene\", \"pyroxene\", \"pyroxene\", \"pyroxene\", \"pyroxenitic\", \"pyrrhotite\", \"pyrrhotite\", \"pyrrhotite\", \"pyrrhotite\", \"pyrrhotite\", \"pyrrhotite\", \"pyrrhotite\", \"pyrrhotite\", \"pyrrhotite\", \"quadrat\", \"quartz\", \"quartz\", \"quartz\", \"quartz\", \"quartz\", \"quartz\", \"quartz\", \"quartz\", \"quartz\", \"qz\", \"qz\", \"rab\", \"rab\", \"rab\", \"rab\", \"rab\", \"rab\", \"rab\", \"rab\", \"rab\", \"radar_specify\", \"randell\", \"randell\", \"randell\", \"rankin\", \"rankin\", \"rav\", \"rb\", \"rc\", \"rc\", \"rc\", \"rc\", \"rc\", \"rc\", \"rc\", \"rc\", \"rc\", \"reader\", \"reader\", \"reading\", \"reading\", \"reading\", \"reading\", \"reading\", \"reading\", \"reading\", \"reading\", \"reading\", \"reagent\", \"reconnaissance\", \"reconnaissance\", \"reconnaissance\", \"reconnaissance\", \"reconnaissance\", \"reconnaissance\", \"reconnaissance\", \"reconnaissance\", \"reconnaissance\", \"record\", \"record\", \"record\", \"record\", \"record\", \"record\", \"record\", \"record\", \"record\", \"recovery\", \"recovery\", \"recovery\", \"recovery\", \"recovery\", \"recovery\", \"recovery\", \"recovery\", \"recovery\", \"reference\", \"reference\", \"reference\", \"reference\", \"reference\", \"reference\", \"reference\", \"reference\", \"reference\", \"reflectance\", \"regional\", \"regional\", \"regional\", \"regional\", \"regional\", \"regional\", \"regional\", \"regional\", \"regional\", \"remarkable\", \"remarkable\", \"remote_sense\", \"remote_sense\", \"remote_sense\", \"replacement\", \"replacement\", \"replacement\", \"replacement\", \"replacement\", \"replacement\", \"replacement\", \"replacement\", \"replacement\", \"report\", \"report\", \"report\", \"report\", \"report\", \"report\", \"report\", \"report\", \"report\", \"require\", \"require\", \"require\", \"require\", \"require\", \"require\", \"require\", \"require\", \"require\", \"resolution\", \"resolution\", \"resolution\", \"resolution\", \"resolution\", \"resolution\", \"resolution\", \"resolution\", \"resolution\", \"resource\", \"resource\", \"resource\", \"resource\", \"resource\", \"resource\", \"resource\", \"resource\", \"resource\", \"result\", \"result\", \"result\", \"result\", \"result\", \"result\", \"result\", \"result\", \"result\", \"return\", \"return\", \"return\", \"return\", \"return\", \"return\", \"return\", \"return\", \"return\", \"revise_dwg\", \"rich\", \"rich\", \"rich\", \"rich\", \"rich\", \"rich\", \"rich\", \"rich\", \"rich\", \"right\", \"right\", \"right\", \"right\", \"right\", \"right\", \"right\", \"right\", \"right\", \"rio_tinto\", \"rio_tinto\", \"rio_tinto\", \"rio_tinto\", \"rio_tinto\", \"rio_tinto\", \"roberts\", \"rock\", \"rock\", \"rock\", \"rock\", \"rock\", \"rock\", \"rock\", \"rock\", \"rock\", \"rom_pad\", \"rproject_arear\", \"rpt\", \"rpt\", \"rte\", \"rte\", \"rte\", \"rte\", \"rx\", \"salient\", \"sally_malay\", \"salt_pan\", \"sample\", \"sample\", \"sample\", \"sample\", \"sample\", \"sample\", \"sample\", \"sample\", \"sample\", \"sample\", \"sand\", \"sand\", \"sand\", \"sand\", \"sand\", \"sand\", \"sand\", \"sand\", \"sand\", \"sandplain\", \"sandstone\", \"sandstone\", \"sandstone\", \"sandstone\", \"sandstone\", \"sandstone\", \"sandstone\", \"sandstone\", \"sandstone\", \"sbm\", \"sbm\", \"sbm\", \"sbm\", \"scatter\", \"scatter\", \"scatter\", \"scatter\", \"scatter\", \"scatter\", \"scatter\", \"scatter\", \"scatter\", \"scintrex\", \"scintrex\", \"scintrex\", \"scintrex\", \"scintrex\", \"scintrex_cg\", \"scintrex_cg\", \"scope_study\", \"scope_study\", \"scope_study\", \"scope_study\", \"scope_study\", \"scope_study\", \"scope_study\", \"scope_study\", \"scope_study\", \"seam\", \"seam\", \"seam\", \"seam\", \"seam\", \"search_strategy\", \"search_strategy\", \"security\", \"security\", \"security\", \"security\", \"sediment\", \"sediment\", \"sediment\", \"sediment\", \"sediment\", \"sediment\", \"sediment\", \"sediment\", \"sediment\", \"seismic_refraction\", \"sem\", \"sensor\", \"sensor\", \"sensor\", \"sensor\", \"sensor\", \"sensor\", \"sensor\", \"sensor\", \"sequence\", \"sequence\", \"sequence\", \"sequence\", \"sequence\", \"sequence\", \"sequence\", \"sequence\", \"sequence\", \"serem\", \"serem\", \"serem\", \"sgw\", \"sgw\", \"sgw\", \"shallow_marine\", \"shallow_marine\", \"shallow_marine\", \"shallow_marine\", \"shallow_marine\", \"share\", \"share\", \"share\", \"share\", \"share\", \"share\", \"share\", \"share\", \"share\", \"shareware\", \"shear\", \"shear\", \"shear\", \"shear\", \"shear\", \"shear\", \"shear\", \"shear\", \"shear\", \"short_distance\", \"shrub\", \"shrub\", \"shrub\", \"shrub\", \"shrub\", \"signal\", \"signal\", \"signal\", \"signal\", \"signal\", \"signal\", \"signal\", \"signal\", \"signal\", \"sipa\", \"sipa\", \"sipa\", \"sipa\", \"sipa\", \"sipa\", \"sipa\", \"sipa\", \"site\", \"site\", \"site\", \"site\", \"site\", \"site\", \"site\", \"site\", \"site\", \"sjerp\", \"slip\", \"slope\", \"slope\", \"slope\", \"slope\", \"slope\", \"slope\", \"slope\", \"slope\", \"slope\", \"slope_regression\", \"slope_regression\", \"small\", \"small\", \"small\", \"small\", \"small\", \"small\", \"small\", \"small\", \"small\", \"soil\", \"soil\", \"soil\", \"soil\", \"soil\", \"soil\", \"soil\", \"soil\", \"soil\", \"solanaceae\", \"solanaceae\", \"solanaceae\", \"solanum\", \"solanum\", \"solanum\", \"solanum\", \"solanum\", \"source\", \"source\", \"source\", \"source\", \"source\", \"source\", \"source\", \"source\", \"source\", \"south\", \"south\", \"south\", \"south\", \"south\", \"south\", \"south\", \"south\", \"south\", \"southern\", \"southern\", \"southern\", \"southern\", \"southern\", \"southern\", \"southern\", \"southern\", \"southern\", \"sp_ap\", \"spargoville\", \"spargoville\", \"specie\", \"specie\", \"specie\", \"specie\", \"specie\", \"specie\", \"specie\", \"specie\", \"specie\", \"spectrally\", \"speed_knot\", \"spot_mss\", \"square_wave\", \"square_wave\", \"st_ive\", \"stability\", \"stability\", \"stability\", \"stability\", \"stability\", \"stability\", \"stability\", \"stability\", \"standby\", \"star_picket\", \"star_picket\", \"station\", \"station\", \"station\", \"station\", \"station\", \"station\", \"station\", \"station\", \"station\", \"stone\", \"stone\", \"stone\", \"stone\", \"stone\", \"stone\", \"stone\", \"strain\", \"strain\", \"strain\", \"strain\", \"strain\", \"strain\", \"strain\", \"strain\", \"strain\", \"stream_sediment\", \"stream_sediment\", \"stream_sediment\", \"stream_sediment\", \"stream_sediment\", \"stream_sediment\", \"stream_sediment\", \"stream_sediment\", \"stream_sediment\", \"structure\", \"structure\", \"structure\", \"structure\", \"structure\", \"structure\", \"structure\", \"structure\", \"structure\", \"subhedral\", \"subhedral\", \"subhedral\", \"subhedral\", \"subhedral\", \"subsection\", \"subsection\", \"subsection\", \"subsp\", \"subsp\", \"subsp\", \"subsp\", \"subsp\", \"sulphide\", \"sulphide\", \"sulphide\", \"sulphide\", \"sulphide\", \"sulphide\", \"sulphide\", \"sulphide\", \"sulphide\", \"surpac_software\", \"survey\", \"survey\", \"survey\", \"survey\", \"survey\", \"survey\", \"survey\", \"survey\", \"survey\", \"switch_ramp\", \"symbol\", \"synthesis\", \"system\", \"system\", \"system\", \"system\", \"system\", \"system\", \"system\", \"system\", \"system\", \"table\", \"table\", \"table\", \"table\", \"table\", \"table\", \"table\", \"table\", \"table\", \"tantalum\", \"tantalum\", \"target\", \"target\", \"target\", \"target\", \"target\", \"target\", \"target\", \"target\", \"target\", \"telegraph\", \"tenement\", \"tenement\", \"tenement\", \"tenement\", \"tenement\", \"tenement\", \"tenement\", \"tenement\", \"tenement\", \"terrain\", \"terrain\", \"terrain\", \"terrain\", \"terrain\", \"terrain\", \"terrain\", \"terrain\", \"terrain\", \"terrain_clearance\", \"terrain_clearance\", \"terrain_clearance\", \"terrain_clearance\", \"terrain_clearance\", \"terrain_clearance\", \"terrain_modelling\", \"terrane\", \"terrane\", \"terrane\", \"terrane\", \"terrane\", \"terrane\", \"terrane\", \"terrane\", \"terrane\", \"test\", \"test\", \"test\", \"test\", \"test\", \"test\", \"test\", \"test\", \"test\", \"testwork\", \"testwork\", \"testwork\", \"testwork\", \"testwork\", \"testwork\", \"testwork\", \"testwork\", \"testwork\", \"texture\", \"texture\", \"texture\", \"texture\", \"texture\", \"texture\", \"texture\", \"texture\", \"texture\", \"th\", \"th\", \"th\", \"th\", \"th\", \"th\", \"th\", \"th\", \"th\", \"thickly\", \"thin\", \"thin\", \"thin\", \"thin\", \"thin\", \"thin\", \"thin\", \"thin\", \"thin\", \"throughput\", \"throughput\", \"throughput\", \"thundelarra\", \"tickalara_metamorphic\", \"tier\", \"time\", \"time\", \"time\", \"time\", \"time\", \"time\", \"time\", \"time\", \"time\", \"tinto\", \"tourmaline\", \"tourmaline\", \"tourmaline\", \"tourmaline\", \"tourmaline\", \"tourmaline\", \"tourmaline\", \"tourmaline\", \"tourmaline\", \"tow_helicopter\", \"trace\", \"trace\", \"trace\", \"trace\", \"trace\", \"trace\", \"trace\", \"trace\", \"trace\", \"transmit_publish\", \"transmitter_controller\", \"transmitter_controller\", \"transmitter_controller\", \"tree\", \"tree\", \"tree\", \"tree\", \"tree\", \"tree\", \"tree\", \"tree\", \"tree\", \"trident\", \"trident\", \"trident\", \"trident\", \"tsf\", \"tsf\", \"tsf\", \"tsf\", \"tuckabianna\", \"tuckabianna\", \"tuckabianna\", \"tuckabianna\", \"tuckabianna\", \"tuckabianna\", \"tuckabianna\", \"tuckabianna\", \"tuckabianna\", \"tx\", \"tx_loop\", \"type\", \"type\", \"type\", \"type\", \"type\", \"type\", \"type\", \"type\", \"type\", \"ucs\", \"ucs\", \"ultramafic\", \"ultramafic\", \"ultramafic\", \"ultramafic\", \"ultramafic\", \"ultramafic\", \"ultramafic\", \"ultramafic\", \"ultramafic\", \"unauthorise_prohibit\", \"unauthorise_prohibit\", \"undersize\", \"undersize\", \"unit\", \"unit\", \"unit\", \"unit\", \"unit\", \"unit\", \"unit\", \"unit\", \"unit\", \"uranium\", \"uranium\", \"uranium\", \"uranium\", \"uranium\", \"uranium\", \"uranium\", \"uranium\", \"use\", \"use\", \"use\", \"use\", \"use\", \"use\", \"use\", \"use\", \"use\", \"used_purpose\", \"value\", \"value\", \"value\", \"value\", \"value\", \"value\", \"value\", \"value\", \"value\", \"var\", \"var\", \"var\", \"var\", \"var\", \"variance\", \"variance\", \"variance\", \"variogram\", \"variogram\", \"variogram\", \"variogram\", \"variogram\", \"variogram\", \"variogram\", \"variography\", \"variography\", \"variography\", \"variography\", \"variography\", \"variography\", \"vegetation\", \"vegetation\", \"vegetation\", \"vegetation\", \"vegetation\", \"vegetation\", \"vegetation\", \"vegetation\", \"vegetation\", \"vein\", \"vein\", \"vein\", \"vein\", \"vein\", \"vein\", \"vein\", \"vein\", \"vein\", \"vertical_derivative\", \"vertical_derivative\", \"vertical_derivative\", \"vertical_derivative\", \"vertical_derivative\", \"vertical_derivative\", \"vertical_derivative\", \"vertical_derivative\", \"vertical_derivative\", \"voisey_bay\", \"volcanic\", \"volcanic\", \"volcanic\", \"volcanic\", \"volcanic\", \"volcanic\", \"volcanic\", \"volcanic\", \"volcanic\", \"wall\", \"wall\", \"wall\", \"wall\", \"wall\", \"wall\", \"wall\", \"wall\", \"wall\", \"wallaby\", \"wallaby\", \"wallaby\", \"wallaby\", \"wallaby\", \"wap\", \"wap\", \"warm\", \"warp\", \"water\", \"water\", \"water\", \"water\", \"water\", \"water\", \"water\", \"water\", \"water\", \"water_biogeochemistry\", \"waveform\", \"waveform\", \"waveform\", \"weakly_foliate\", \"weakly_foliate\", \"weed\", \"weed\", \"west\", \"west\", \"west\", \"west\", \"west\", \"west\", \"west\", \"west\", \"west\", \"western\", \"western\", \"western\", \"western\", \"western\", \"western\", \"western\", \"western\", \"western\", \"westfield\", \"westfield\", \"westgold\", \"westgold\", \"wireframe\", \"wireframe\", \"wireframe\", \"wireframe\", \"wireframe\", \"wireframe\", \"wireframe\", \"wireframe\", \"wireframe\", \"within\", \"within\", \"within\", \"within\", \"within\", \"within\", \"within\", \"within\", \"within\", \"without_consent\", \"without_limitation\", \"wmc\", \"wmc\", \"wmc\", \"wmc\", \"wmc\", \"wmc\", \"wmc\", \"wmc\", \"woody\", \"woody\", \"woolyeenyer_formation\", \"work\", \"work\", \"work\", \"work\", \"work\", \"work\", \"work\", \"work\", \"work\", \"working\", \"working\", \"working\", \"working\", \"working\", \"working\", \"working\", \"working\", \"working\", \"wyloo_dome\", \"wyloo_dome\", \"wyloo_dome\", \"wyloo_group\", \"wyloo_group\", \"wyloo_group\", \"wyloo_group\", \"wyloo_group\", \"wyloo_group\", \"yaloginda\", \"yaloginda\", \"yaloginda\", \"yarraloola\", \"yarri\", \"yarri\", \"year\", \"year\", \"year\", \"year\", \"year\", \"year\", \"year\", \"year\", \"year\", \"youanmi\", \"youanmi\", \"youanmi\", \"zone\", \"zone\", \"zone\", \"zone\", \"zone\", \"zone\", \"zone\", \"zone\", \"zone\"]}, \"R\": 30, \"lambda.step\": 0.01, \"plot.opts\": {\"xlab\": \"PC1\", \"ylab\": \"PC2\"}, \"topic.order\": [5, 2, 10, 4, 1, 9, 8, 7, 3, 6]};\n",
       "\n",
       "function LDAvis_load_lib(url, callback){\n",
       "  var s = document.createElement('script');\n",
       "  s.src = url;\n",
       "  s.async = true;\n",
       "  s.onreadystatechange = s.onload = callback;\n",
       "  s.onerror = function(){console.warn(\"failed to load library \" + url);};\n",
       "  document.getElementsByTagName(\"head\")[0].appendChild(s);\n",
       "}\n",
       "\n",
       "if(typeof(LDAvis) !== \"undefined\"){\n",
       "   // already loaded: just create the visualization\n",
       "   !function(LDAvis){\n",
       "       new LDAvis(\"#\" + \"ldavis_el17181400701573476326738623705\", ldavis_el17181400701573476326738623705_data);\n",
       "   }(LDAvis);\n",
       "}else if(typeof define === \"function\" && define.amd){\n",
       "   // require.js is available: use it to load d3/LDAvis\n",
       "   require.config({paths: {d3: \"https://d3js.org/d3.v5\"}});\n",
       "   require([\"d3\"], function(d3){\n",
       "      window.d3 = d3;\n",
       "      LDAvis_load_lib(\"https://cdn.jsdelivr.net/gh/bmabey/pyLDAvis@3.3.1/pyLDAvis/js/ldavis.v3.0.0.js\", function(){\n",
       "        new LDAvis(\"#\" + \"ldavis_el17181400701573476326738623705\", ldavis_el17181400701573476326738623705_data);\n",
       "      });\n",
       "    });\n",
       "}else{\n",
       "    // require.js not available: dynamically load d3 & LDAvis\n",
       "    LDAvis_load_lib(\"https://d3js.org/d3.v5.js\", function(){\n",
       "         LDAvis_load_lib(\"https://cdn.jsdelivr.net/gh/bmabey/pyLDAvis@3.3.1/pyLDAvis/js/ldavis.v3.0.0.js\", function(){\n",
       "                 new LDAvis(\"#\" + \"ldavis_el17181400701573476326738623705\", ldavis_el17181400701573476326738623705_data);\n",
       "            })\n",
       "         });\n",
       "}\n",
       "</script>"
      ],
      "text/plain": [
       "PreparedData(topic_coordinates=              x         y  topics  cluster       Freq\n",
       "topic                                                \n",
       "4      0.107814 -0.004297       1        1  32.208469\n",
       "1      0.050464  0.009322       2        1  18.417080\n",
       "9      0.094608  0.093967       3        1  13.383956\n",
       "3      0.043906 -0.052365       4        1  10.285428\n",
       "0      0.081642  0.040273       5        1   8.835655\n",
       "8     -0.000800 -0.017616       6        1   5.596971\n",
       "7      0.026393 -0.001051       7        1   4.666901\n",
       "6     -0.049134 -0.151681       8        1   3.550802\n",
       "2     -0.073056  0.029666       9        1   3.041129\n",
       "5     -0.281836  0.053783      10        1   0.013608, topic_info=                Term          Freq         Total Category  logprob  loglift\n",
       "1084          survey   8586.000000   8586.000000  Default  30.0000  30.0000\n",
       "975           sample  14746.000000  14746.000000  Default  29.0000  29.0000\n",
       "83              gold  13589.000000  13589.000000  Default  28.0000  28.0000\n",
       "54             datum   8421.000000   8421.000000  Default  27.0000  27.0000\n",
       "12              area  17021.000000  17021.000000  Default  26.0000  26.0000\n",
       "...              ...           ...           ...      ...      ...      ...\n",
       "309             base      0.159262   3856.004969  Topic10  -7.2121  -1.1923\n",
       "69       exploration      0.179219  11067.699976  Topic10  -7.0940  -2.1286\n",
       "83              gold      0.178126  13589.113555  Topic10  -7.1002  -2.3400\n",
       "130   mineralisation      0.165555   7156.203497  Topic10  -7.1734  -1.7719\n",
       "56           deposit      0.156115   7014.364123  Topic10  -7.2321  -1.8106\n",
       "\n",
       "[865 rows x 6 columns], token_table=      Topic      Freq        Term\n",
       "term                             \n",
       "5004      1  0.095575  aboriginal\n",
       "5004      3  0.002583  aboriginal\n",
       "5004      4  0.867922  aboriginal\n",
       "5004      6  0.028414  aboriginal\n",
       "5004      7  0.007749  aboriginal\n",
       "...     ...       ...         ...\n",
       "233       5  0.116343        zone\n",
       "233       6  0.012483        zone\n",
       "233       7  0.049933        zone\n",
       "233       8  0.007615        zone\n",
       "233       9  0.022095        zone\n",
       "\n",
       "[3378 rows x 3 columns], R=30, lambda_step=0.01, plot_opts={'xlab': 'PC1', 'ylab': 'PC2'}, topic_order=[5, 2, 10, 4, 1, 9, 8, 7, 3, 6])"
      ]
     },
     "execution_count": 42,
     "metadata": {},
     "output_type": "execute_result"
    }
   ],
   "source": [
    "vis = gensimvis.prepare(lda_model, bow_corpus, id2word)  # version 3.3+ use pyLDAvis.gensim_models.\n",
    "vis"
   ]
  },
  {
   "cell_type": "markdown",
   "metadata": {
    "slideshow": {
     "slide_type": "skip"
    }
   },
   "source": [
    "## Additional Content: Tuning the number of topics (hyperparameter tuning) <a name=\"tuning\"></a>"
   ]
  },
  {
   "cell_type": "markdown",
   "metadata": {
    "colab_type": "text",
    "id": "1WZHH9tDDt5R",
    "slideshow": {
     "slide_type": "skip"
    }
   },
   "source": [
    "Here we explore how to find the best number of topics for our LDA model. This involves iteratively computing coherence values and finding an optimal topic distribution over a given number of topics."
   ]
  },
  {
   "cell_type": "raw",
   "metadata": {
    "colab": {},
    "colab_type": "code",
    "id": "p5w1LvRPDt5T",
    "slideshow": {
     "slide_type": "skip"
    }
   },
   "source": [
    "def compute_coherence_values(dictionary, corpus, texts, limit, start=2, step=3):\n",
    "    \"\"\"\n",
    "    Compute c_v coherence for various number of topics\n",
    "\n",
    "    Parameters:\n",
    "    ----------\n",
    "    dictionary : Gensim dictionary\n",
    "    corpus : Gensim corpus\n",
    "    texts : List of input texts\n",
    "    limit : Max num of topics\n",
    "\n",
    "    Returns:\n",
    "    -------\n",
    "    model_list : List of LDA topic models\n",
    "    coherence_values : Coherence values corresponding to the LDA model with respective number of topics\n",
    "    \"\"\"\n",
    "    coherence_values = []\n",
    "    model_list = []\n",
    "    for num_topics in range(start, limit, step):\n",
    "        model = gensim.models.ldamodel.LdaModel(corpus=corpus,\n",
    "                                           id2word=id2word,\n",
    "                                           num_topics=num_topics, \n",
    "                                           random_state=100,\n",
    "                                           update_every=1,\n",
    "                                           chunksize=100,\n",
    "                                           passes=10,\n",
    "                                           alpha='auto',\n",
    "                                           per_word_topics=True)\n",
    "        model_list.append(model)\n",
    "        coherencemodel = CoherenceModel(model=model, texts=texts, dictionary=dictionary, coherence='c_v')\n",
    "        coherence_values.append(coherencemodel.get_coherence())\n",
    "\n",
    "    return model_list, coherence_values"
   ]
  },
  {
   "cell_type": "markdown",
   "metadata": {
    "slideshow": {
     "slide_type": "skip"
    }
   },
   "source": [
    "⚠️ Computing coherence values can take a very long time to run."
   ]
  },
  {
   "cell_type": "raw",
   "metadata": {
    "colab": {
     "base_uri": "https://localhost:8080/",
     "height": 71
    },
    "colab_type": "code",
    "executionInfo": {
     "elapsed": 2915761,
     "status": "ok",
     "timestamp": 1585058220648,
     "user": {
      "displayName": "Tyler Bikaun",
      "photoUrl": "",
      "userId": "18384825377619195869"
     },
     "user_tz": -480
    },
    "id": "0yOYit5xDt5W",
    "outputId": "5bf4c2da-7312-4112-e62e-70cdedca1538",
    "slideshow": {
     "slide_type": "skip"
    }
   },
   "source": [
    "# model_list, coherence_values = compute_coherence_values(dictionary=id2word, corpus=bow_corpus, texts=bigram_corpus, start=2, limit=40, step=6)"
   ]
  },
  {
   "cell_type": "markdown",
   "metadata": {
    "slideshow": {
     "slide_type": "skip"
    }
   },
   "source": [
    "Here we can visualise coherence scores as a function of the number of topics"
   ]
  },
  {
   "cell_type": "raw",
   "metadata": {
    "colab": {
     "base_uri": "https://localhost:8080/",
     "height": 279
    },
    "colab_type": "code",
    "executionInfo": {
     "elapsed": 2912841,
     "status": "ok",
     "timestamp": 1585058220652,
     "user": {
      "displayName": "Tyler Bikaun",
      "photoUrl": "",
      "userId": "18384825377619195869"
     },
     "user_tz": -480
    },
    "id": "mRe4-DSTDt5Z",
    "outputId": "316750ce-341b-4903-d631-fb8b63a3138b",
    "slideshow": {
     "slide_type": "skip"
    }
   },
   "source": [
    "limit=40; start=2; step=6;\n",
    "x = range(start, limit, step)\n",
    "plt.plot(x, coherence_values)\n",
    "plt.xlabel(\"Number of Topics\")\n",
    "plt.ylabel(\"Coherence score\")\n",
    "plt.legend((\"coherence_values\"), loc='best')\n",
    "plt.show()"
   ]
  }
 ],
 "metadata": {
  "celltoolbar": "Slideshow",
  "colab": {
   "collapsed_sections": [],
   "name": "12.3-LDA-GSWA.ipynb",
   "provenance": [],
   "toc_visible": true
  },
  "kernelspec": {
   "display_name": "Python 3 (ipykernel)",
   "language": "python",
   "name": "python3"
  },
  "language_info": {
   "codemirror_mode": {
    "name": "ipython",
    "version": 3
   },
   "file_extension": ".py",
   "mimetype": "text/x-python",
   "name": "python",
   "nbconvert_exporter": "python",
   "pygments_lexer": "ipython3",
   "version": "3.9.7"
  },
  "vscode": {
   "interpreter": {
    "hash": "e2040bd4ff7059bd5923140baaf547b26fe1060b2698e4d8905dba1b3e302910"
   }
  }
 },
 "nbformat": 4,
 "nbformat_minor": 4
}
