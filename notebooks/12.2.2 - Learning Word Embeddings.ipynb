{
 "cells": [
  {
   "cell_type": "markdown",
   "metadata": {
    "colab_type": "text",
    "id": "hyRjwrQynR22"
   },
   "source": [
    "# Week 12 - Learning Word Embeddings\n",
    "📚 Source: 😊[Day 12 - Special Data Types: Natural Language Processing](https://github.com/core-skills/12-text-processing) *repository*"
   ]
  },
  {
   "cell_type": "markdown",
   "metadata": {},
   "source": [
    "> ☝️ Before moving on with this notebook, ensure that you have the files `reviews_data.txt.gz` and `wamex_xml.zip` in the `./data` directory. If they do not exist: \n",
    "- Downloaded the [hotels review data](https://github.com/kavgan/nlp-in-practice/blob/master/word2vec/reviews_data.txt.gz) (*reviews_data.txt.gz*) and placed it in the `./data` directory.\n",
    "- Downloaded the GSWA data (*wamex_xml.zip*) and placed it in the `./data` directory."
   ]
  },
  {
   "cell_type": "markdown",
   "metadata": {},
   "source": [
    "## Notebook Overview\n",
    "Generating word embeddings using Gensim Word2Vec... Word Embeddings and Word2Vec\n",
    "In this notebook, rather than loading word embeddings trained on large generic datasets, we train our own embedding models."
   ]
  },
  {
   "cell_type": "markdown",
   "metadata": {
    "colab_type": "text",
    "id": "HfoKOGconR29"
   },
   "source": [
    "This notebook uses two types of datasets.\n",
    "1. General Domain: 259,000 *hotel reviews* from [OpinRank](https://archive.ics.uci.edu/ml/datasets/opinrank+review+dataset) \n",
    "2. Domain Specific: *geological surveys* (GSWA)"
   ]
  },
  {
   "cell_type": "markdown",
   "metadata": {},
   "source": [
    "**Supplementary Content**: ...s"
   ]
  },
  {
   "cell_type": "markdown",
   "metadata": {},
   "source": [
    "Adapted from: [*Kavita Ganesan's tutorial*](http://kavita-ganesan.com/gensim-word2vec-tutorial-starter-code/) ([*repository*](https://github.com/kavgan/data-science-tutorials/tree/master/word2vec))"
   ]
  },
  {
   "cell_type": "markdown",
   "metadata": {},
   "source": [
    "## Table of Contents\n",
    "1. [Understanding Word2Vec parameters](#word2vec_parameters)\n",
    "2. [Building general-domain word vectors](#general-domain_word_vectors)\n",
    "3. [Building domain-specific word vectors](#domain-specific_word_vectors)"
   ]
  },
  {
   "cell_type": "markdown",
   "metadata": {},
   "source": [
    "## Notebook Setup"
   ]
  },
  {
   "cell_type": "code",
   "execution_count": 1,
   "metadata": {},
   "outputs": [
    {
     "name": "stdout",
     "output_type": "stream",
     "text": [
      "Requirement already satisfied: gensim==4.2.0 in c:\\users\\tyler\\appdata\\local\\programs\\python\\python38\\lib\\site-packages (4.2.0)\n",
      "Requirement already satisfied: bokeh in c:\\users\\tyler\\appdata\\local\\programs\\python\\python38\\lib\\site-packages (2.4.3)\n",
      "Requirement already satisfied: pandas in c:\\users\\tyler\\appdata\\local\\programs\\python\\python38\\lib\\site-packages (1.4.3)\n",
      "Requirement already satisfied: sklearn in c:\\users\\tyler\\appdata\\local\\programs\\python\\python38\\lib\\site-packages (0.0.post1)\n",
      "Requirement already satisfied: matplotlib in c:\\users\\tyler\\appdata\\local\\programs\\python\\python38\\lib\\site-packages (3.5.2)\n",
      "Requirement already satisfied: numpy in c:\\users\\tyler\\appdata\\local\\programs\\python\\python38\\lib\\site-packages (1.23.0)\n",
      "Requirement already satisfied: Cython==0.29.28 in c:\\users\\tyler\\appdata\\local\\programs\\python\\python38\\lib\\site-packages (from gensim==4.2.0) (0.29.28)\n",
      "Requirement already satisfied: smart-open>=1.8.1 in c:\\users\\tyler\\appdata\\local\\programs\\python\\python38\\lib\\site-packages (from gensim==4.2.0) (5.2.1)\n",
      "Requirement already satisfied: scipy>=0.18.1 in c:\\users\\tyler\\appdata\\local\\programs\\python\\python38\\lib\\site-packages (from gensim==4.2.0) (1.8.1)\n",
      "Requirement already satisfied: packaging>=16.8 in c:\\users\\tyler\\appdata\\local\\programs\\python\\python38\\lib\\site-packages (from bokeh) (21.3)\n",
      "Requirement already satisfied: Jinja2>=2.9 in c:\\users\\tyler\\appdata\\local\\programs\\python\\python38\\lib\\site-packages (from bokeh) (3.1.2)\n",
      "Requirement already satisfied: pillow>=7.1.0 in c:\\users\\tyler\\appdata\\local\\programs\\python\\python38\\lib\\site-packages (from bokeh) (9.1.1)\n",
      "Requirement already satisfied: PyYAML>=3.10 in c:\\users\\tyler\\appdata\\local\\programs\\python\\python38\\lib\\site-packages (from bokeh) (6.0)\n",
      "Requirement already satisfied: typing-extensions>=3.10.0 in c:\\users\\tyler\\appdata\\local\\programs\\python\\python38\\lib\\site-packages (from bokeh) (4.3.0)\n",
      "Requirement already satisfied: tornado>=5.1 in c:\\users\\tyler\\appdata\\local\\programs\\python\\python38\\lib\\site-packages (from bokeh) (6.1)\n",
      "Requirement already satisfied: MarkupSafe>=2.0 in c:\\users\\tyler\\appdata\\local\\programs\\python\\python38\\lib\\site-packages (from Jinja2>=2.9->bokeh) (2.1.1)\n",
      "Requirement already satisfied: pyparsing!=3.0.5,>=2.0.2 in c:\\users\\tyler\\appdata\\local\\programs\\python\\python38\\lib\\site-packages (from packaging>=16.8->bokeh) (3.0.9)\n",
      "Requirement already satisfied: python-dateutil>=2.8.1 in c:\\users\\tyler\\appdata\\local\\programs\\python\\python38\\lib\\site-packages (from pandas) (2.8.2)\n",
      "Requirement already satisfied: pytz>=2020.1 in c:\\users\\tyler\\appdata\\local\\programs\\python\\python38\\lib\\site-packages (from pandas) (2022.1)\n",
      "Requirement already satisfied: six>=1.5 in c:\\users\\tyler\\appdata\\local\\programs\\python\\python38\\lib\\site-packages (from python-dateutil>=2.8.1->pandas) (1.16.0)\n",
      "Requirement already satisfied: cycler>=0.10 in c:\\users\\tyler\\appdata\\local\\programs\\python\\python38\\lib\\site-packages (from matplotlib) (0.11.0)\n",
      "Requirement already satisfied: kiwisolver>=1.0.1 in c:\\users\\tyler\\appdata\\local\\programs\\python\\python38\\lib\\site-packages (from matplotlib) (1.4.3)\n",
      "Requirement already satisfied: fonttools>=4.22.0 in c:\\users\\tyler\\appdata\\local\\programs\\python\\python38\\lib\\site-packages (from matplotlib) (4.33.3)\n"
     ]
    },
    {
     "name": "stderr",
     "output_type": "stream",
     "text": [
      "WARNING: You are using pip version 21.1.1; however, version 22.3.1 is available.\n",
      "You should consider upgrading via the 'c:\\users\\tyler\\appdata\\local\\programs\\python\\python38\\python.exe -m pip install --upgrade pip' command.\n"
     ]
    }
   ],
   "source": [
    "!pip install gensim==4.2.0 bokeh pandas sklearn matplotlib numpy"
   ]
  },
  {
   "cell_type": "markdown",
   "metadata": {},
   "source": [
    "Lets load in the package [nb_black](https://github.com/dnanhkhoa/nb_black) to auto-format our code as we go. Formatting code is useful as it easier to collaborate and interpret what we write."
   ]
  },
  {
   "cell_type": "code",
   "execution_count": 2,
   "metadata": {},
   "outputs": [
    {
     "data": {
      "application/javascript": "\n            setTimeout(function() {\n                var nbb_cell_id = 2;\n                var nbb_unformatted_code = \"# Package for ensuring code we write is formatted nicely (see: https://github.com/dnanhkhoa/nb_black)\\n%load_ext nb_black\";\n                var nbb_formatted_code = \"# Package for ensuring code we write is formatted nicely (see: https://github.com/dnanhkhoa/nb_black)\\n%load_ext nb_black\";\n                var nbb_cells = Jupyter.notebook.get_cells();\n                for (var i = 0; i < nbb_cells.length; ++i) {\n                    if (nbb_cells[i].input_prompt_number == nbb_cell_id) {\n                        if (nbb_cells[i].get_text() == nbb_unformatted_code) {\n                             nbb_cells[i].set_text(nbb_formatted_code);\n                        }\n                        break;\n                    }\n                }\n            }, 500);\n            ",
      "text/plain": [
       "<IPython.core.display.Javascript object>"
      ]
     },
     "metadata": {},
     "output_type": "display_data"
    }
   ],
   "source": [
    "# Package for ensuring code we write is formatted nicely (see: https://github.com/dnanhkhoa/nb_black)\n",
    "%load_ext nb_black"
   ]
  },
  {
   "cell_type": "markdown",
   "metadata": {},
   "source": [
    "### Import Packages\n",
    "Standard packages"
   ]
  },
  {
   "cell_type": "code",
   "execution_count": 3,
   "metadata": {},
   "outputs": [
    {
     "data": {
      "application/javascript": "\n            setTimeout(function() {\n                var nbb_cell_id = 3;\n                var nbb_unformatted_code = \"import gzip\\nfrom typing import List\\nimport zipfile\\nimport json\";\n                var nbb_formatted_code = \"import gzip\\nfrom typing import List\\nimport zipfile\\nimport json\";\n                var nbb_cells = Jupyter.notebook.get_cells();\n                for (var i = 0; i < nbb_cells.length; ++i) {\n                    if (nbb_cells[i].input_prompt_number == nbb_cell_id) {\n                        if (nbb_cells[i].get_text() == nbb_unformatted_code) {\n                             nbb_cells[i].set_text(nbb_formatted_code);\n                        }\n                        break;\n                    }\n                }\n            }, 500);\n            ",
      "text/plain": [
       "<IPython.core.display.Javascript object>"
      ]
     },
     "metadata": {},
     "output_type": "display_data"
    }
   ],
   "source": [
    "import gzip\n",
    "from typing import List\n",
    "import zipfile\n",
    "import json"
   ]
  },
  {
   "cell_type": "markdown",
   "metadata": {},
   "source": [
    "Third party packages\n",
    "- [gzip](https://docs.python.org/3/library/gzip.html) - library that we use to read data in .zip format\n",
    "- [bokeh](https://bokeh.org/) - library that we use to interactively visualise word vectors \n",
    "- [gensim](https://radimrehurek.com/gensim/) - library that we will use to experiment with word embeddings/vectors"
   ]
  },
  {
   "cell_type": "code",
   "execution_count": 4,
   "metadata": {
    "colab": {},
    "colab_type": "code",
    "id": "PliE9yXYnR25"
   },
   "outputs": [
    {
     "data": {
      "application/javascript": "\n            setTimeout(function() {\n                var nbb_cell_id = 4;\n                var nbb_unformatted_code = \"import gensim\\nfrom bokeh.plotting import figure, show\\nfrom bokeh.io import output_notebook\\nfrom bokeh.models import ColumnDataSource, LabelSet\\nimport pandas as pd\\nfrom sklearn.manifold import TSNE\\nimport numpy as np\\nimport matplotlib.pyplot as plt\\nimport matplotlib\";\n                var nbb_formatted_code = \"import gensim\\nfrom bokeh.plotting import figure, show\\nfrom bokeh.io import output_notebook\\nfrom bokeh.models import ColumnDataSource, LabelSet\\nimport pandas as pd\\nfrom sklearn.manifold import TSNE\\nimport numpy as np\\nimport matplotlib.pyplot as plt\\nimport matplotlib\";\n                var nbb_cells = Jupyter.notebook.get_cells();\n                for (var i = 0; i < nbb_cells.length; ++i) {\n                    if (nbb_cells[i].input_prompt_number == nbb_cell_id) {\n                        if (nbb_cells[i].get_text() == nbb_unformatted_code) {\n                             nbb_cells[i].set_text(nbb_formatted_code);\n                        }\n                        break;\n                    }\n                }\n            }, 500);\n            ",
      "text/plain": [
       "<IPython.core.display.Javascript object>"
      ]
     },
     "metadata": {},
     "output_type": "display_data"
    }
   ],
   "source": [
    "import gensim\n",
    "from bokeh.plotting import figure, show\n",
    "from bokeh.io import output_notebook\n",
    "from bokeh.models import ColumnDataSource, LabelSet\n",
    "import pandas as pd\n",
    "from sklearn.manifold import TSNE\n",
    "import numpy as np\n",
    "import matplotlib.pyplot as plt\n",
    "import matplotlib"
   ]
  },
  {
   "cell_type": "markdown",
   "metadata": {},
   "source": [
    "### Notebook configuration and load helper functions"
   ]
  },
  {
   "cell_type": "code",
   "execution_count": 5,
   "metadata": {},
   "outputs": [
    {
     "data": {
      "application/javascript": "\n            setTimeout(function() {\n                var nbb_cell_id = 5;\n                var nbb_unformatted_code = \"# Need the interactive Tools for Matplotlib\\n%matplotlib inline\\n# Plot formatting\\nplt.rcParams[\\\"figure.figsize\\\"] = [12,6]\\nfont = {'size':12}\\nmatplotlib.rc('font', **font)\";\n                var nbb_formatted_code = \"# Need the interactive Tools for Matplotlib\\n%matplotlib inline\\n# Plot formatting\\nplt.rcParams[\\\"figure.figsize\\\"] = [12, 6]\\nfont = {\\\"size\\\": 12}\\nmatplotlib.rc(\\\"font\\\", **font)\";\n                var nbb_cells = Jupyter.notebook.get_cells();\n                for (var i = 0; i < nbb_cells.length; ++i) {\n                    if (nbb_cells[i].input_prompt_number == nbb_cell_id) {\n                        if (nbb_cells[i].get_text() == nbb_unformatted_code) {\n                             nbb_cells[i].set_text(nbb_formatted_code);\n                        }\n                        break;\n                    }\n                }\n            }, 500);\n            ",
      "text/plain": [
       "<IPython.core.display.Javascript object>"
      ]
     },
     "metadata": {},
     "output_type": "display_data"
    }
   ],
   "source": [
    "# Need the interactive Tools for Matplotlib\n",
    "%matplotlib inline\n",
    "# Plot formatting\n",
    "plt.rcParams[\"figure.figsize\"] = [12,6]\n",
    "font = {'size':12}\n",
    "matplotlib.rc('font', **font)"
   ]
  },
  {
   "cell_type": "code",
   "execution_count": 6,
   "metadata": {},
   "outputs": [
    {
     "data": {
      "application/javascript": "\n            setTimeout(function() {\n                var nbb_cell_id = 6;\n                var nbb_unformatted_code = \"def read_input(input_file_path: str) -> List:\\n    '''Parses input file which is in gzip format'''\\n    assert input_file_path.endswith('.gz')\\n    \\n    corpus = []\\n    with gzip.open(input_file_path, 'rb') as f:\\n        for line in f: \\n            # Perform pre-processing and return a list of words from each review text \\n            corpus.append(gensim.utils.simple_preprocess(line))\\n    return corpus\";\n                var nbb_formatted_code = \"def read_input(input_file_path: str) -> List:\\n    \\\"\\\"\\\"Parses input file which is in gzip format\\\"\\\"\\\"\\n    assert input_file_path.endswith(\\\".gz\\\")\\n\\n    corpus = []\\n    with gzip.open(input_file_path, \\\"rb\\\") as f:\\n        for line in f:\\n            # Perform pre-processing and return a list of words from each review text\\n            corpus.append(gensim.utils.simple_preprocess(line))\\n    return corpus\";\n                var nbb_cells = Jupyter.notebook.get_cells();\n                for (var i = 0; i < nbb_cells.length; ++i) {\n                    if (nbb_cells[i].input_prompt_number == nbb_cell_id) {\n                        if (nbb_cells[i].get_text() == nbb_unformatted_code) {\n                             nbb_cells[i].set_text(nbb_formatted_code);\n                        }\n                        break;\n                    }\n                }\n            }, 500);\n            ",
      "text/plain": [
       "<IPython.core.display.Javascript object>"
      ]
     },
     "metadata": {},
     "output_type": "display_data"
    }
   ],
   "source": [
    "def read_input(input_file_path: str) -> List:\n",
    "    '''Parses input file which is in gzip format'''\n",
    "    assert input_file_path.endswith('.gz')\n",
    "    \n",
    "    corpus = []\n",
    "    with gzip.open(input_file_path, 'rb') as f:\n",
    "        for line in f: \n",
    "            # Perform pre-processing and return a list of words from each review text \n",
    "            corpus.append(gensim.utils.simple_preprocess(line))\n",
    "    return corpus"
   ]
  },
  {
   "cell_type": "code",
   "execution_count": 7,
   "metadata": {},
   "outputs": [
    {
     "data": {
      "application/javascript": "\n            setTimeout(function() {\n                var nbb_cell_id = 7;\n                var nbb_unformatted_code = \"def prettify_similarities(similarities: List[tuple]) -> List[str]:\\n    ''' Prettifies list of word similarities produced by Gensim'''\\n    longest_str = max([len(sim[0]) for sim in similarities])\\n    print(\\\"\\\\n\\\".join([f'{idx+1}.\\\\t{sim[0]:{longest_str+1}}\\\\t{sim[1]*100:0.1f}%' for idx, sim in enumerate(similarities)]))\";\n                var nbb_formatted_code = \"def prettify_similarities(similarities: List[tuple]) -> List[str]:\\n    \\\"\\\"\\\"Prettifies list of word similarities produced by Gensim\\\"\\\"\\\"\\n    longest_str = max([len(sim[0]) for sim in similarities])\\n    print(\\n        \\\"\\\\n\\\".join(\\n            [\\n                f\\\"{idx+1}.\\\\t{sim[0]:{longest_str+1}}\\\\t{sim[1]*100:0.1f}%\\\"\\n                for idx, sim in enumerate(similarities)\\n            ]\\n        )\\n    )\";\n                var nbb_cells = Jupyter.notebook.get_cells();\n                for (var i = 0; i < nbb_cells.length; ++i) {\n                    if (nbb_cells[i].input_prompt_number == nbb_cell_id) {\n                        if (nbb_cells[i].get_text() == nbb_unformatted_code) {\n                             nbb_cells[i].set_text(nbb_formatted_code);\n                        }\n                        break;\n                    }\n                }\n            }, 500);\n            ",
      "text/plain": [
       "<IPython.core.display.Javascript object>"
      ]
     },
     "metadata": {},
     "output_type": "display_data"
    }
   ],
   "source": [
    "def prettify_similarities(similarities: List[tuple]) -> List[str]:\n",
    "    ''' Prettifies list of word similarities produced by Gensim'''\n",
    "    longest_str = max([len(sim[0]) for sim in similarities])\n",
    "    print(\"\\n\".join([f'{idx+1}.\\t{sim[0]:{longest_str+1}}\\t{sim[1]*100:0.1f}%' for idx, sim in enumerate(similarities)]))"
   ]
  },
  {
   "cell_type": "markdown",
   "metadata": {
    "colab_type": "text",
    "id": "M5YUtIH_nR3J"
   },
   "source": [
    "## Understanding Word2Vec Parameters<a name=\"word2vec_parameters\"></a>"
   ]
  },
  {
   "cell_type": "markdown",
   "metadata": {},
   "source": [
    "Before training our custom embedding models, we need to understand some of the models parameters. For reference, this is the command that we will use to train the model: `model = gensim.models.Word2Vec(sentences=documents, size=150, window=10, min_count=2, workers=10)`\n",
    "\n",
    "#### Parameters of Interest\n",
    "`sentences`: The corpus that the model will be trained on in the format of a list of lists of tokens.\n",
    "\n",
    "`size`: The size of the dense vector to represent each token or word. If you have very limited data, then size should be a much smaller value. If you have lots of data, its good to experiment with various sizes. Typical sizes are 100-300. A value of 100-150 has worked well for me. \n",
    "\n",
    "`window`: The maximum distance between the target word and its neighboring word. If your neighbor's position is greater than the maximum window width to the left and the right, then, some neighbors are not considered as being related to the target word. In theory, a smaller window should give you terms that are more related. If you have lots of data, then the window size should not matter too much, as long as its a decent sized window.\n",
    "\n",
    "`min_count`: Minimium frequency count of words. The model would ignore words that do not statisfy the min_count. Extremely infrequent words are usually unimportant, so its best to get rid of those. Unless your dataset is really tiny, this does not really affect the model.\n",
    "\n",
    "`workers`: How many threads to use behind the scenes?"
   ]
  },
  {
   "cell_type": "markdown",
   "metadata": {},
   "source": [
    "<hr/>"
   ]
  },
  {
   "cell_type": "markdown",
   "metadata": {},
   "source": [
    "## 🏢 Learning General-Domain Word Embeddings <a name=\"general-domain_word_vectors\"></a>\n",
    "In this section we will learn word embeddings from a general-domain (hotel reviews). The hotel reviews contains:\n",
    "- Full reviews of hotels in 10 different cities (Dubai, Beijing, London, New York City, New Delhi, San Francisco, Shanghai, Montreal, Las Vegas, Chicago) \n",
    "- There are about 80-700 hotels in each city \n",
    "- Extracted fields include date, review title and the full review \n",
    "- Total number of reviews: ~259,000"
   ]
  },
  {
   "cell_type": "markdown",
   "metadata": {},
   "source": [
    "### Load and pre-process hotel reviews dataset\n",
    "Before learning word embeddings, we need to load and pre-process the hotel reviews corpus. The helper function `read_input` aids us with this task. This helper parses the dataset that is in .zip format and composed of numerous .json data files. These are read into memory and pre-processed with Gensim's `gensim.utils.simple_preprocess()` function that converts each review into a list of tokens that are lower cased."
   ]
  },
  {
   "cell_type": "markdown",
   "metadata": {},
   "source": [
    "⚠️Loading the hotel reviews documents will take a few minutes"
   ]
  },
  {
   "cell_type": "code",
   "execution_count": 8,
   "metadata": {},
   "outputs": [
    {
     "data": {
      "application/javascript": "\n            setTimeout(function() {\n                var nbb_cell_id = 8;\n                var nbb_unformatted_code = \"# The data_file path will be different depending on where you've copied the notebooks...\\ndata_file = '../data/reviews_data.txt.gz'\\n\\n# Read the tokenized reviews into a list each review item becomes a series of words so this becomes a list of lists\\ndocuments = read_input(input_file_path=data_file)\";\n                var nbb_formatted_code = \"# The data_file path will be different depending on where you've copied the notebooks...\\ndata_file = \\\"../data/reviews_data.txt.gz\\\"\\n\\n# Read the tokenized reviews into a list each review item becomes a series of words so this becomes a list of lists\\ndocuments = read_input(input_file_path=data_file)\";\n                var nbb_cells = Jupyter.notebook.get_cells();\n                for (var i = 0; i < nbb_cells.length; ++i) {\n                    if (nbb_cells[i].input_prompt_number == nbb_cell_id) {\n                        if (nbb_cells[i].get_text() == nbb_unformatted_code) {\n                             nbb_cells[i].set_text(nbb_formatted_code);\n                        }\n                        break;\n                    }\n                }\n            }, 500);\n            ",
      "text/plain": [
       "<IPython.core.display.Javascript object>"
      ]
     },
     "metadata": {},
     "output_type": "display_data"
    }
   ],
   "source": [
    "# The data_file path will be different depending on where you've copied the notebooks...\n",
    "data_file = '../data/reviews_data.txt.gz'\n",
    "\n",
    "# Read the tokenized reviews into a list each review item becomes a series of words so this becomes a list of lists\n",
    "documents = read_input(input_file_path=data_file)"
   ]
  },
  {
   "cell_type": "code",
   "execution_count": 9,
   "metadata": {},
   "outputs": [
    {
     "name": "stdout",
     "output_type": "stream",
     "text": [
      "['sep', 'great', 'budget', 'hotel', 'stayed', 'two', 'nights', 'at', 'aloft', 'on', 'the', 'most', 'recent', 'trip', 'to', 'china', 'the', 'hotel', 'was', 'very', 'modern', 'and', 'clean', 'the', 'room', 'was', 'spotless', 'and', 'comfortable', 'king', 'sized', 'bed', 'as', 'far', 'as', 'soft', 'beds', 'go', 'in', 'china', 'the', 'staff', 'was', 'very', 'punctual', 'and', 'went', 'out', 'of', 'the', 'way', 'to', 'help', 'my', 'every', 'need', 'including', 'going', 'to', 'store', 'across', 'the', 'street', 'to', 'purchase', 'china', 'mobile', 'sim', 'card', 'for', 'me', 'the', 'buffet', 'breakfast', 'was', 'okay', 'nothing', 'to', 'write', 'home', 'about', 'the', 'lcd', 'screen', 'had', 'movies', 'on', 'demand', 'for', 'rmb', 'and', 'had', 'good', 'selection', 'of', 'western', 'channels', 'including', 'hbo', 'cnn', 'bbc', 'star', 'world', 'etc', 'the', 'gym', 'was', 'small', 'had', 'selection', 'of', 'basic', 'weights', 'and', 'one', 'cable', 'machine', 'there', 'was', 'however', 'new', 'technogym', 'cardio', 'machines', 'with', 'built', 'in', 'lcd', 'tvs', 'which', 'were', 'very', 'good', 'the', 'location', 'is', 'bit', 'out', 'of', 'the', 'way', 'to', 'the', 'central', 'areas', 'of', 'beijing', 'but', 'it', 'is', 'better', 'suited', 'for', 'my', 'needs', 'as', 'need', 'to', 'be', 'in', 'the', 'haidian', 'district', 'being', 'spg', 'platinum', 'there', 'were', 'no', 'upgrades', 'to', 'better', 'room', 'because', 'aloft', 'has', 'policy', 'of', 'not', 'doing', 'any', 'upgrades', 'the', 'sheraton', 'next', 'door', 'is', 'much', 'nicer', 'hotel', 'in', 'my', 'opinion', 'where', 'am', 'writing', 'this', 'from', 'now', 'with', 'an', 'upgraded', 'room', 'but', 'as', 'far', 'as', 'bang', 'for', 'the', 'buck', 'aloft', 'is', 'great', 'place']\n"
     ]
    },
    {
     "data": {
      "application/javascript": "\n            setTimeout(function() {\n                var nbb_cell_id = 9;\n                var nbb_unformatted_code = \"# Review the tokenized hotel reviews documents\\nprint(documents[1])\";\n                var nbb_formatted_code = \"# Review the tokenized hotel reviews documents\\nprint(documents[1])\";\n                var nbb_cells = Jupyter.notebook.get_cells();\n                for (var i = 0; i < nbb_cells.length; ++i) {\n                    if (nbb_cells[i].input_prompt_number == nbb_cell_id) {\n                        if (nbb_cells[i].get_text() == nbb_unformatted_code) {\n                             nbb_cells[i].set_text(nbb_formatted_code);\n                        }\n                        break;\n                    }\n                }\n            }, 500);\n            ",
      "text/plain": [
       "<IPython.core.display.Javascript object>"
      ]
     },
     "metadata": {},
     "output_type": "display_data"
    }
   ],
   "source": [
    "# Review the tokenized hotel reviews documents\n",
    "print(documents[1])"
   ]
  },
  {
   "cell_type": "markdown",
   "metadata": {},
   "source": [
    "### Training general-domain word embeddings\n",
    "Here we set-up our Word2Vec embedding model and train it on the documents in the hotel reviews dataset. After training, we save it so it can be used without requiring re-training. "
   ]
  },
  {
   "cell_type": "markdown",
   "metadata": {},
   "source": [
    "⚠️ Training the embedding model will take a while due to the 250k documents"
   ]
  },
  {
   "cell_type": "code",
   "execution_count": 10,
   "metadata": {},
   "outputs": [
    {
     "data": {
      "application/javascript": "\n            setTimeout(function() {\n                var nbb_cell_id = 10;\n                var nbb_unformatted_code = \"# Set-up and train model\\nmodel = gensim.models.Word2Vec(sentences=documents, vector_size=150, window=10, min_count=2, workers=10, epochs=10)\";\n                var nbb_formatted_code = \"# Set-up and train model\\nmodel = gensim.models.Word2Vec(\\n    sentences=documents, vector_size=150, window=10, min_count=2, workers=10, epochs=10\\n)\";\n                var nbb_cells = Jupyter.notebook.get_cells();\n                for (var i = 0; i < nbb_cells.length; ++i) {\n                    if (nbb_cells[i].input_prompt_number == nbb_cell_id) {\n                        if (nbb_cells[i].get_text() == nbb_unformatted_code) {\n                             nbb_cells[i].set_text(nbb_formatted_code);\n                        }\n                        break;\n                    }\n                }\n            }, 500);\n            ",
      "text/plain": [
       "<IPython.core.display.Javascript object>"
      ]
     },
     "metadata": {},
     "output_type": "display_data"
    }
   ],
   "source": [
    "# Set-up and train model\n",
    "model = gensim.models.Word2Vec(sentences=documents, vector_size=150, window=10, min_count=2, workers=10, epochs=10)"
   ]
  },
  {
   "cell_type": "code",
   "execution_count": 11,
   "metadata": {},
   "outputs": [
    {
     "data": {
      "application/javascript": "\n            setTimeout(function() {\n                var nbb_cell_id = 11;\n                var nbb_unformatted_code = \"# Save trained embedding models\\nmodel.save(\\\"../data/word2vec_reviews.bin\\\")\";\n                var nbb_formatted_code = \"# Save trained embedding models\\nmodel.save(\\\"../data/word2vec_reviews.bin\\\")\";\n                var nbb_cells = Jupyter.notebook.get_cells();\n                for (var i = 0; i < nbb_cells.length; ++i) {\n                    if (nbb_cells[i].input_prompt_number == nbb_cell_id) {\n                        if (nbb_cells[i].get_text() == nbb_unformatted_code) {\n                             nbb_cells[i].set_text(nbb_formatted_code);\n                        }\n                        break;\n                    }\n                }\n            }, 500);\n            ",
      "text/plain": [
       "<IPython.core.display.Javascript object>"
      ]
     },
     "metadata": {},
     "output_type": "display_data"
    }
   ],
   "source": [
    "# Save trained embedding models\n",
    "model.save(\"../data/word2vec_reviews.bin\")"
   ]
  },
  {
   "cell_type": "markdown",
   "metadata": {},
   "source": [
    "📣 Alternatively, load the embeddings that we've already pre-trained."
   ]
  },
  {
   "cell_type": "raw",
   "metadata": {},
   "source": [
    "modelpath = Path('../data/word2vec_reviews.bin').resolve()"
   ]
  },
  {
   "cell_type": "raw",
   "metadata": {},
   "source": [
    "model = gensim.models.Word2Vec.load(str(modelpath))"
   ]
  },
  {
   "cell_type": "markdown",
   "metadata": {},
   "source": [
    "### Reviewing learnt word embeddings\n",
    "Similar to the notebook [12.2.1 - Word vector visualisation with Gensim](https://github.com/core-skills/12-text-processing/blob/master/notebooks/12.2.1%20-%20Word%20vector%20visualization%20with%20Gensim.ipynb), we will explore the similarity of words represented with our general-domain embeddings."
   ]
  },
  {
   "cell_type": "markdown",
   "metadata": {},
   "source": [
    "#### Word Similarities"
   ]
  },
  {
   "cell_type": "code",
   "execution_count": 12,
   "metadata": {},
   "outputs": [
    {
     "name": "stdout",
     "output_type": "stream",
     "text": [
      "1.\tcourteous    \t91.5%\n",
      "2.\tfriendly     \t82.5%\n",
      "3.\tcurteous     \t81.5%\n",
      "4.\tcordial      \t80.3%\n",
      "5.\tprofessional \t77.8%\n",
      "6.\tpersonable   \t77.0%\n",
      "7.\tattentive    \t77.0%\n",
      "8.\tfreindly     \t76.9%\n",
      "9.\tcurtious     \t76.4%\n",
      "10.\tgracious     \t76.1%\n"
     ]
    },
    {
     "data": {
      "application/javascript": "\n            setTimeout(function() {\n                var nbb_cell_id = 12;\n                var nbb_unformatted_code = \"prettify_similarities(model.wv.most_similar(['polite']))\";\n                var nbb_formatted_code = \"prettify_similarities(model.wv.most_similar([\\\"polite\\\"]))\";\n                var nbb_cells = Jupyter.notebook.get_cells();\n                for (var i = 0; i < nbb_cells.length; ++i) {\n                    if (nbb_cells[i].input_prompt_number == nbb_cell_id) {\n                        if (nbb_cells[i].get_text() == nbb_unformatted_code) {\n                             nbb_cells[i].set_text(nbb_formatted_code);\n                        }\n                        break;\n                    }\n                }\n            }, 500);\n            ",
      "text/plain": [
       "<IPython.core.display.Javascript object>"
      ]
     },
     "metadata": {},
     "output_type": "display_data"
    }
   ],
   "source": [
    "prettify_similarities(model.wv.most_similar(['polite']))"
   ]
  },
  {
   "cell_type": "code",
   "execution_count": 13,
   "metadata": {
    "colab": {
     "base_uri": "https://localhost:8080/",
     "height": 258
    },
    "colab_type": "code",
    "executionInfo": {
     "elapsed": 1301911,
     "status": "ok",
     "timestamp": 1585117062681,
     "user": {
      "displayName": "Tyler Bikaun",
      "photoUrl": "",
      "userId": "18384825377619195869"
     },
     "user_tz": -480
    },
    "id": "mT-2WDWsnR3R",
    "outputId": "f0e2140f-2666-4ead-9382-903666f12b56"
   },
   "outputs": [
    {
     "name": "stdout",
     "output_type": "stream",
     "text": [
      "1.\tfilthy  \t86.1%\n",
      "2.\tunclean \t79.9%\n",
      "3.\tdusty   \t78.3%\n",
      "4.\tstained \t78.1%\n",
      "5.\tgrubby  \t76.4%\n",
      "6.\tsmelly  \t75.6%\n",
      "7.\tmouldy  \t74.2%\n",
      "8.\tdingy   \t73.8%\n",
      "9.\tgrimy   \t73.5%\n",
      "10.\tsoiled  \t72.9%\n"
     ]
    },
    {
     "data": {
      "application/javascript": "\n            setTimeout(function() {\n                var nbb_cell_id = 13;\n                var nbb_unformatted_code = \"prettify_similarities(model.wv.most_similar(['dirty']))\";\n                var nbb_formatted_code = \"prettify_similarities(model.wv.most_similar([\\\"dirty\\\"]))\";\n                var nbb_cells = Jupyter.notebook.get_cells();\n                for (var i = 0; i < nbb_cells.length; ++i) {\n                    if (nbb_cells[i].input_prompt_number == nbb_cell_id) {\n                        if (nbb_cells[i].get_text() == nbb_unformatted_code) {\n                             nbb_cells[i].set_text(nbb_formatted_code);\n                        }\n                        break;\n                    }\n                }\n            }, 500);\n            ",
      "text/plain": [
       "<IPython.core.display.Javascript object>"
      ]
     },
     "metadata": {},
     "output_type": "display_data"
    }
   ],
   "source": [
    "prettify_similarities(model.wv.most_similar(['dirty']))"
   ]
  },
  {
   "cell_type": "code",
   "execution_count": 14,
   "metadata": {
    "colab": {
     "base_uri": "https://localhost:8080/",
     "height": 173
    },
    "colab_type": "code",
    "executionInfo": {
     "elapsed": 1301888,
     "status": "ok",
     "timestamp": 1585117062683,
     "user": {
      "displayName": "Tyler Bikaun",
      "photoUrl": "",
      "userId": "18384825377619195869"
     },
     "user_tz": -480
    },
    "id": "VOq0zzvGnR3c",
    "outputId": "d3384fbb-8d85-4472-b329-fe10b2b1be70"
   },
   "outputs": [
    {
     "name": "stdout",
     "output_type": "stream",
     "text": [
      "1.\tcanada    \t67.3%\n",
      "2.\tgermany   \t65.4%\n",
      "3.\tmexico    \t64.3%\n",
      "4.\tarizona   \t64.0%\n",
      "5.\tspain     \t62.6%\n",
      "6.\tengland   \t62.4%\n",
      "7.\thawaii    \t61.3%\n",
      "8.\tottawa    \t61.1%\n",
      "9.\tbarcelona \t60.9%\n",
      "10.\tthailand  \t60.5%\n"
     ]
    },
    {
     "data": {
      "application/javascript": "\n            setTimeout(function() {\n                var nbb_cell_id = 14;\n                var nbb_unformatted_code = \"prettify_similarities(model.wv.most_similar(['france']))\";\n                var nbb_formatted_code = \"prettify_similarities(model.wv.most_similar([\\\"france\\\"]))\";\n                var nbb_cells = Jupyter.notebook.get_cells();\n                for (var i = 0; i < nbb_cells.length; ++i) {\n                    if (nbb_cells[i].input_prompt_number == nbb_cell_id) {\n                        if (nbb_cells[i].get_text() == nbb_unformatted_code) {\n                             nbb_cells[i].set_text(nbb_formatted_code);\n                        }\n                        break;\n                    }\n                }\n            }, 500);\n            ",
      "text/plain": [
       "<IPython.core.display.Javascript object>"
      ]
     },
     "metadata": {},
     "output_type": "display_data"
    }
   ],
   "source": [
    "prettify_similarities(model.wv.most_similar(['france']))"
   ]
  },
  {
   "cell_type": "code",
   "execution_count": 15,
   "metadata": {
    "colab": {
     "base_uri": "https://localhost:8080/",
     "height": 173
    },
    "colab_type": "code",
    "executionInfo": {
     "elapsed": 1301878,
     "status": "ok",
     "timestamp": 1585117062684,
     "user": {
      "displayName": "Tyler Bikaun",
      "photoUrl": "",
      "userId": "18384825377619195869"
     },
     "user_tz": -480
    },
    "id": "LmAkHmOqnR3f",
    "outputId": "5ab1e920-b9ad-49dd-d134-9c6110f88540"
   },
   "outputs": [
    {
     "name": "stdout",
     "output_type": "stream",
     "text": [
      "1.\thorrified  \t79.6%\n",
      "2.\tamazed     \t79.5%\n",
      "3.\tdismayed   \t76.9%\n",
      "4.\tstunned    \t76.6%\n",
      "5.\tappalled   \t74.9%\n",
      "6.\tastonished \t74.8%\n",
      "7.\tsuprised   \t71.8%\n",
      "8.\tsurprized  \t71.5%\n",
      "9.\tsurprised  \t71.3%\n",
      "10.\tastounded  \t71.0%\n"
     ]
    },
    {
     "data": {
      "application/javascript": "\n            setTimeout(function() {\n                var nbb_cell_id = 15;\n                var nbb_unformatted_code = \"prettify_similarities(model.wv.most_similar(['shocked']))\";\n                var nbb_formatted_code = \"prettify_similarities(model.wv.most_similar([\\\"shocked\\\"]))\";\n                var nbb_cells = Jupyter.notebook.get_cells();\n                for (var i = 0; i < nbb_cells.length; ++i) {\n                    if (nbb_cells[i].input_prompt_number == nbb_cell_id) {\n                        if (nbb_cells[i].get_text() == nbb_unformatted_code) {\n                             nbb_cells[i].set_text(nbb_formatted_code);\n                        }\n                        break;\n                    }\n                }\n            }, 500);\n            ",
      "text/plain": [
       "<IPython.core.display.Javascript object>"
      ]
     },
     "metadata": {},
     "output_type": "display_data"
    }
   ],
   "source": [
    "prettify_similarities(model.wv.most_similar(['shocked']))"
   ]
  },
  {
   "cell_type": "code",
   "execution_count": 16,
   "metadata": {
    "colab": {
     "base_uri": "https://localhost:8080/",
     "height": 241
    },
    "colab_type": "code",
    "executionInfo": {
     "elapsed": 1301826,
     "status": "ok",
     "timestamp": 1585117062684,
     "user": {
      "displayName": "Tyler Bikaun",
      "photoUrl": "",
      "userId": "18384825377619195869"
     },
     "user_tz": -480
    },
    "id": "Z9-X6bgYnR3l",
    "outputId": "37054ef7-07c7-4087-aa10-a45c53fc95ca"
   },
   "outputs": [
    {
     "name": "stdout",
     "output_type": "stream",
     "text": [
      "1.\tduvet       \t74.1%\n",
      "2.\tmattress    \t73.2%\n",
      "3.\tmatress     \t71.1%\n",
      "4.\tquilt       \t69.6%\n",
      "5.\tblanket     \t68.6%\n",
      "6.\tpillows     \t65.6%\n",
      "7.\tsatin       \t65.6%\n",
      "8.\tsheets      \t64.5%\n",
      "9.\tcomforter   \t63.7%\n",
      "10.\tpillowcases \t63.5%\n"
     ]
    },
    {
     "data": {
      "application/javascript": "\n            setTimeout(function() {\n                var nbb_cell_id = 16;\n                var nbb_unformatted_code = \"# Get everything related to stuff on the bed\\nprettify_similarities(model.wv.most_similar(positive=['bed', 'sheet', 'pillow'], negative=['couche'], topn=10))\";\n                var nbb_formatted_code = \"# Get everything related to stuff on the bed\\nprettify_similarities(\\n    model.wv.most_similar(\\n        positive=[\\\"bed\\\", \\\"sheet\\\", \\\"pillow\\\"], negative=[\\\"couche\\\"], topn=10\\n    )\\n)\";\n                var nbb_cells = Jupyter.notebook.get_cells();\n                for (var i = 0; i < nbb_cells.length; ++i) {\n                    if (nbb_cells[i].input_prompt_number == nbb_cell_id) {\n                        if (nbb_cells[i].get_text() == nbb_unformatted_code) {\n                             nbb_cells[i].set_text(nbb_formatted_code);\n                        }\n                        break;\n                    }\n                }\n            }, 500);\n            ",
      "text/plain": [
       "<IPython.core.display.Javascript object>"
      ]
     },
     "metadata": {},
     "output_type": "display_data"
    }
   ],
   "source": [
    "# Get everything related to stuff on the bed\n",
    "prettify_similarities(model.wv.most_similar(positive=['bed', 'sheet', 'pillow'], negative=['couche'], topn=10))"
   ]
  },
  {
   "cell_type": "code",
   "execution_count": 17,
   "metadata": {
    "colab": {
     "base_uri": "https://localhost:8080/",
     "height": 88
    },
    "colab_type": "code",
    "executionInfo": {
     "elapsed": 1301816,
     "status": "ok",
     "timestamp": 1585117062685,
     "user": {
      "displayName": "Tyler Bikaun",
      "photoUrl": "",
      "userId": "18384825377619195869"
     },
     "user_tz": -480
    },
    "id": "Hy6BPFqBnR3p",
    "outputId": "a81165a7-c9c9-4015-fc8f-c5fc6c9c786a"
   },
   "outputs": [
    {
     "name": "stdout",
     "output_type": "stream",
     "text": [
      "Similarity between the words dirty and smelly: 0.756\n"
     ]
    },
    {
     "data": {
      "application/javascript": "\n            setTimeout(function() {\n                var nbb_cell_id = 17;\n                var nbb_unformatted_code = \"# Similarity between two different words\\nprint(f'Similarity between the words dirty and smelly: {model.wv.similarity(w1=\\\"dirty\\\",w2=\\\"smelly\\\"):0.3}')\";\n                var nbb_formatted_code = \"# Similarity between two different words\\nprint(\\n    f'Similarity between the words dirty and smelly: {model.wv.similarity(w1=\\\"dirty\\\",w2=\\\"smelly\\\"):0.3}'\\n)\";\n                var nbb_cells = Jupyter.notebook.get_cells();\n                for (var i = 0; i < nbb_cells.length; ++i) {\n                    if (nbb_cells[i].input_prompt_number == nbb_cell_id) {\n                        if (nbb_cells[i].get_text() == nbb_unformatted_code) {\n                             nbb_cells[i].set_text(nbb_formatted_code);\n                        }\n                        break;\n                    }\n                }\n            }, 500);\n            ",
      "text/plain": [
       "<IPython.core.display.Javascript object>"
      ]
     },
     "metadata": {},
     "output_type": "display_data"
    }
   ],
   "source": [
    "# Similarity between two different words\n",
    "print(f'Similarity between the words dirty and smelly: {model.wv.similarity(w1=\"dirty\",w2=\"smelly\"):0.3}')"
   ]
  },
  {
   "cell_type": "code",
   "execution_count": 18,
   "metadata": {
    "colab": {
     "base_uri": "https://localhost:8080/",
     "height": 88
    },
    "colab_type": "code",
    "executionInfo": {
     "elapsed": 1301796,
     "status": "ok",
     "timestamp": 1585117062685,
     "user": {
      "displayName": "Tyler Bikaun",
      "photoUrl": "",
      "userId": "18384825377619195869"
     },
     "user_tz": -480
    },
    "id": "rGb75GUznR3t",
    "outputId": "03339e12-a10b-4f58-f66c-1e3e07ca4f26"
   },
   "outputs": [
    {
     "name": "stdout",
     "output_type": "stream",
     "text": [
      "Similarity between the same word dirty: 1.0\n"
     ]
    },
    {
     "data": {
      "application/javascript": "\n            setTimeout(function() {\n                var nbb_cell_id = 18;\n                var nbb_unformatted_code = \"# Similarity between two identical words\\nprint(f'Similarity between the same word dirty: {model.wv.similarity(w1=\\\"dirty\\\",w2=\\\"dirty\\\"):0.3}')\";\n                var nbb_formatted_code = \"# Similarity between two identical words\\nprint(\\n    f'Similarity between the same word dirty: {model.wv.similarity(w1=\\\"dirty\\\",w2=\\\"dirty\\\"):0.3}'\\n)\";\n                var nbb_cells = Jupyter.notebook.get_cells();\n                for (var i = 0; i < nbb_cells.length; ++i) {\n                    if (nbb_cells[i].input_prompt_number == nbb_cell_id) {\n                        if (nbb_cells[i].get_text() == nbb_unformatted_code) {\n                             nbb_cells[i].set_text(nbb_formatted_code);\n                        }\n                        break;\n                    }\n                }\n            }, 500);\n            ",
      "text/plain": [
       "<IPython.core.display.Javascript object>"
      ]
     },
     "metadata": {},
     "output_type": "display_data"
    }
   ],
   "source": [
    "# Similarity between two identical words\n",
    "print(f'Similarity between the same word dirty: {model.wv.similarity(w1=\"dirty\",w2=\"dirty\"):0.3}')"
   ]
  },
  {
   "cell_type": "code",
   "execution_count": 19,
   "metadata": {
    "colab": {
     "base_uri": "https://localhost:8080/",
     "height": 88
    },
    "colab_type": "code",
    "executionInfo": {
     "elapsed": 1301780,
     "status": "ok",
     "timestamp": 1585117062686,
     "user": {
      "displayName": "Tyler Bikaun",
      "photoUrl": "",
      "userId": "18384825377619195869"
     },
     "user_tz": -480
    },
    "id": "CavnmhyKnR3w",
    "outputId": "c635b945-00bc-4bee-8843-1a83ee64593e"
   },
   "outputs": [
    {
     "name": "stdout",
     "output_type": "stream",
     "text": [
      "Similarity between the words dirty and clean: 0.249\n"
     ]
    },
    {
     "data": {
      "application/javascript": "\n            setTimeout(function() {\n                var nbb_cell_id = 19;\n                var nbb_unformatted_code = \"# similarity between two unrelated words\\nprint(f'Similarity between the words dirty and clean: {model.wv.similarity(w1=\\\"dirty\\\",w2=\\\"clean\\\"):0.3}')\";\n                var nbb_formatted_code = \"# similarity between two unrelated words\\nprint(\\n    f'Similarity between the words dirty and clean: {model.wv.similarity(w1=\\\"dirty\\\",w2=\\\"clean\\\"):0.3}'\\n)\";\n                var nbb_cells = Jupyter.notebook.get_cells();\n                for (var i = 0; i < nbb_cells.length; ++i) {\n                    if (nbb_cells[i].input_prompt_number == nbb_cell_id) {\n                        if (nbb_cells[i].get_text() == nbb_unformatted_code) {\n                             nbb_cells[i].set_text(nbb_formatted_code);\n                        }\n                        break;\n                    }\n                }\n            }, 500);\n            ",
      "text/plain": [
       "<IPython.core.display.Javascript object>"
      ]
     },
     "metadata": {},
     "output_type": "display_data"
    }
   ],
   "source": [
    "# similarity between two unrelated words\n",
    "print(f'Similarity between the words dirty and clean: {model.wv.similarity(w1=\"dirty\",w2=\"clean\"):0.3}')"
   ]
  },
  {
   "cell_type": "code",
   "execution_count": 20,
   "metadata": {
    "colab": {
     "base_uri": "https://localhost:8080/",
     "height": 122
    },
    "colab_type": "code",
    "executionInfo": {
     "elapsed": 1301769,
     "status": "ok",
     "timestamp": 1585117062686,
     "user": {
      "displayName": "Tyler Bikaun",
      "photoUrl": "",
      "userId": "18384825377619195869"
     },
     "user_tz": -480
    },
    "id": "3PAyBhoEnR3z",
    "outputId": "6da594e8-ee85-4a08-ae28-772317c1f044"
   },
   "outputs": [
    {
     "name": "stdout",
     "output_type": "stream",
     "text": [
      "Which words doesnt belong in the set ['cat', 'dog', 'france']? Odd one out: france\n"
     ]
    },
    {
     "data": {
      "application/javascript": "\n            setTimeout(function() {\n                var nbb_cell_id = 20;\n                var nbb_unformatted_code = \"# Which one is the odd one out in this list?\\nodd_one_out_list_1 = [\\\"cat\\\", \\\"dog\\\", \\\"france\\\"]\\nprint(f'Which words doesnt belong in the set {odd_one_out_list_1}? Odd one out: {model.wv.doesnt_match(odd_one_out_list_1)}')\";\n                var nbb_formatted_code = \"# Which one is the odd one out in this list?\\nodd_one_out_list_1 = [\\\"cat\\\", \\\"dog\\\", \\\"france\\\"]\\nprint(\\n    f\\\"Which words doesnt belong in the set {odd_one_out_list_1}? Odd one out: {model.wv.doesnt_match(odd_one_out_list_1)}\\\"\\n)\";\n                var nbb_cells = Jupyter.notebook.get_cells();\n                for (var i = 0; i < nbb_cells.length; ++i) {\n                    if (nbb_cells[i].input_prompt_number == nbb_cell_id) {\n                        if (nbb_cells[i].get_text() == nbb_unformatted_code) {\n                             nbb_cells[i].set_text(nbb_formatted_code);\n                        }\n                        break;\n                    }\n                }\n            }, 500);\n            ",
      "text/plain": [
       "<IPython.core.display.Javascript object>"
      ]
     },
     "metadata": {},
     "output_type": "display_data"
    }
   ],
   "source": [
    "# Which one is the odd one out in this list?\n",
    "odd_one_out_list_1 = [\"cat\", \"dog\", \"france\"]\n",
    "print(f'Which words doesnt belong in the set {odd_one_out_list_1}? Odd one out: {model.wv.doesnt_match(odd_one_out_list_1)}')"
   ]
  },
  {
   "cell_type": "code",
   "execution_count": 21,
   "metadata": {
    "colab": {
     "base_uri": "https://localhost:8080/",
     "height": 122
    },
    "colab_type": "code",
    "executionInfo": {
     "elapsed": 1301758,
     "status": "ok",
     "timestamp": 1585117062686,
     "user": {
      "displayName": "Tyler Bikaun",
      "photoUrl": "",
      "userId": "18384825377619195869"
     },
     "user_tz": -480
    },
    "id": "veE4VDR_nR33",
    "outputId": "9ba6787f-0c32-4f72-f18a-1fef0789c9a2"
   },
   "outputs": [
    {
     "name": "stdout",
     "output_type": "stream",
     "text": [
      "Which words doesnt belong in the set ['bed', 'pillow', 'duvet', 'shower']? Odd one out: shower\n"
     ]
    },
    {
     "data": {
      "application/javascript": "\n            setTimeout(function() {\n                var nbb_cell_id = 21;\n                var nbb_unformatted_code = \"# Which one is the odd one out in this list?\\nodd_one_out_list_2 = [\\\"bed\\\",\\\"pillow\\\",\\\"duvet\\\",\\\"shower\\\"]\\nprint(f'Which words doesnt belong in the set {odd_one_out_list_2}? Odd one out: {model.wv.doesnt_match(odd_one_out_list_2)}')\";\n                var nbb_formatted_code = \"# Which one is the odd one out in this list?\\nodd_one_out_list_2 = [\\\"bed\\\", \\\"pillow\\\", \\\"duvet\\\", \\\"shower\\\"]\\nprint(\\n    f\\\"Which words doesnt belong in the set {odd_one_out_list_2}? Odd one out: {model.wv.doesnt_match(odd_one_out_list_2)}\\\"\\n)\";\n                var nbb_cells = Jupyter.notebook.get_cells();\n                for (var i = 0; i < nbb_cells.length; ++i) {\n                    if (nbb_cells[i].input_prompt_number == nbb_cell_id) {\n                        if (nbb_cells[i].get_text() == nbb_unformatted_code) {\n                             nbb_cells[i].set_text(nbb_formatted_code);\n                        }\n                        break;\n                    }\n                }\n            }, 500);\n            ",
      "text/plain": [
       "<IPython.core.display.Javascript object>"
      ]
     },
     "metadata": {},
     "output_type": "display_data"
    }
   ],
   "source": [
    "# Which one is the odd one out in this list?\n",
    "odd_one_out_list_2 = [\"bed\",\"pillow\",\"duvet\",\"shower\"]\n",
    "print(f'Which words doesnt belong in the set {odd_one_out_list_2}? Odd one out: {model.wv.doesnt_match(odd_one_out_list_2)}')"
   ]
  },
  {
   "cell_type": "markdown",
   "metadata": {
    "colab_type": "text",
    "id": "oJ0FBQUrnR38"
   },
   "source": [
    "## Visualising the word vectors in 2D space\n",
    "\n",
    "Here we use a dimensionality reduction and visualisation package from Scikit-Learn, t-Distributed Stochastic Neighbor Embedding (t-SNE), which is particularly suited for visualising high dimensional data. Another popular options for dimensionality reduction is Principal Component Analysis (PCA).\n",
    "\n",
    "Note: the dimension of our word vectors by choice is 150, typical numbers could be 50, 100, and 300. Among these numbers, a dimension of 300 has been shown as most effective in capturing the syntatic and semantic information of a word. However, it will take much longer to train. "
   ]
  },
  {
   "cell_type": "code",
   "execution_count": 22,
   "metadata": {
    "colab": {},
    "colab_type": "code",
    "id": "2NQbN-AynR4B"
   },
   "outputs": [
    {
     "data": {
      "application/javascript": "\n            setTimeout(function() {\n                var nbb_cell_id = 22;\n                var nbb_unformatted_code = \"def display_closestwords_tsnescatterplot(model, word):\\n    arr = np.empty((0,150), dtype='f')\\n    word_labels = [word]\\n\\n    # get close words\\n    close_words = model.similar_by_word(word)\\n    \\n    # add the vector for each of the closest words to the array\\n    arr = np.append(arr, np.array([model[word]]), axis=0)\\n    for wrd_score in close_words:\\n        wrd_vector = model[wrd_score[0]]\\n        word_labels.append(wrd_score[0])\\n        arr = np.append(arr, np.array([wrd_vector]), axis=0)\\n    \\n    # find tsne coords for 2 dimensions\\n    tsne = TSNE(n_components=2, random_state=0, perplexity=30 if len(arr) > 30 else len(arr)-1)\\n    np.set_printoptions(suppress=True)\\n    Y = tsne.fit_transform(arr)\\n\\n    x_coords = Y[:, 0]\\n    y_coords = Y[:, 1]\\n    # display scatter plot\\n    plt.scatter(x_coords, y_coords)\\n\\n    for label, x, y in zip(word_labels, x_coords, y_coords):\\n        plt.annotate(label, xy=(x, y), xytext=(0, 0), textcoords='offset points')\\n    plt.xlim(x_coords.min()+0.00005, x_coords.max()+0.00005)\\n    plt.ylim(y_coords.min()+0.00005, y_coords.max()+0.00005)\\n    plt.title(f'Words closest to: {word}')\\n    plt.show()\";\n                var nbb_formatted_code = \"def display_closestwords_tsnescatterplot(model, word):\\n    arr = np.empty((0, 150), dtype=\\\"f\\\")\\n    word_labels = [word]\\n\\n    # get close words\\n    close_words = model.similar_by_word(word)\\n\\n    # add the vector for each of the closest words to the array\\n    arr = np.append(arr, np.array([model[word]]), axis=0)\\n    for wrd_score in close_words:\\n        wrd_vector = model[wrd_score[0]]\\n        word_labels.append(wrd_score[0])\\n        arr = np.append(arr, np.array([wrd_vector]), axis=0)\\n\\n    # find tsne coords for 2 dimensions\\n    tsne = TSNE(\\n        n_components=2, random_state=0, perplexity=30 if len(arr) > 30 else len(arr) - 1\\n    )\\n    np.set_printoptions(suppress=True)\\n    Y = tsne.fit_transform(arr)\\n\\n    x_coords = Y[:, 0]\\n    y_coords = Y[:, 1]\\n    # display scatter plot\\n    plt.scatter(x_coords, y_coords)\\n\\n    for label, x, y in zip(word_labels, x_coords, y_coords):\\n        plt.annotate(label, xy=(x, y), xytext=(0, 0), textcoords=\\\"offset points\\\")\\n    plt.xlim(x_coords.min() + 0.00005, x_coords.max() + 0.00005)\\n    plt.ylim(y_coords.min() + 0.00005, y_coords.max() + 0.00005)\\n    plt.title(f\\\"Words closest to: {word}\\\")\\n    plt.show()\";\n                var nbb_cells = Jupyter.notebook.get_cells();\n                for (var i = 0; i < nbb_cells.length; ++i) {\n                    if (nbb_cells[i].input_prompt_number == nbb_cell_id) {\n                        if (nbb_cells[i].get_text() == nbb_unformatted_code) {\n                             nbb_cells[i].set_text(nbb_formatted_code);\n                        }\n                        break;\n                    }\n                }\n            }, 500);\n            ",
      "text/plain": [
       "<IPython.core.display.Javascript object>"
      ]
     },
     "metadata": {},
     "output_type": "display_data"
    }
   ],
   "source": [
    "def display_closestwords_tsnescatterplot(model, word):\n",
    "    arr = np.empty((0,150), dtype='f')\n",
    "    word_labels = [word]\n",
    "\n",
    "    # get close words\n",
    "    close_words = model.similar_by_word(word)\n",
    "    \n",
    "    # add the vector for each of the closest words to the array\n",
    "    arr = np.append(arr, np.array([model[word]]), axis=0)\n",
    "    for wrd_score in close_words:\n",
    "        wrd_vector = model[wrd_score[0]]\n",
    "        word_labels.append(wrd_score[0])\n",
    "        arr = np.append(arr, np.array([wrd_vector]), axis=0)\n",
    "    \n",
    "    # find tsne coords for 2 dimensions\n",
    "    tsne = TSNE(n_components=2, random_state=0, perplexity=30 if len(arr) > 30 else len(arr)-1)\n",
    "    np.set_printoptions(suppress=True)\n",
    "    Y = tsne.fit_transform(arr)\n",
    "\n",
    "    x_coords = Y[:, 0]\n",
    "    y_coords = Y[:, 1]\n",
    "    # display scatter plot\n",
    "    plt.scatter(x_coords, y_coords)\n",
    "\n",
    "    for label, x, y in zip(word_labels, x_coords, y_coords):\n",
    "        plt.annotate(label, xy=(x, y), xytext=(0, 0), textcoords='offset points')\n",
    "    plt.xlim(x_coords.min()+0.00005, x_coords.max()+0.00005)\n",
    "    plt.ylim(y_coords.min()+0.00005, y_coords.max()+0.00005)\n",
    "    plt.title(f'Words closest to: {word}')\n",
    "    plt.show()"
   ]
  },
  {
   "cell_type": "markdown",
   "metadata": {
    "colab_type": "text",
    "id": "eIHec5Phx4Ll"
   },
   "source": [
    "### Visualising closest words in 2D"
   ]
  },
  {
   "cell_type": "code",
   "execution_count": 23,
   "metadata": {
    "colab": {
     "base_uri": "https://localhost:8080/",
     "height": 617
    },
    "colab_type": "code",
    "executionInfo": {
     "elapsed": 1302471,
     "status": "ok",
     "timestamp": 1585117064024,
     "user": {
      "displayName": "Tyler Bikaun",
      "photoUrl": "",
      "userId": "18384825377619195869"
     },
     "user_tz": -480
    },
    "id": "YyKBFzzVnR4E",
    "outputId": "77fc97fe-e27b-4509-99f8-849cbd6af4b3"
   },
   "outputs": [
    {
     "name": "stderr",
     "output_type": "stream",
     "text": [
      "c:\\Users\\Tyler\\AppData\\Local\\Programs\\Python\\Python38\\lib\\site-packages\\sklearn\\manifold\\_t_sne.py:800: FutureWarning: The default initialization in TSNE will change from 'random' to 'pca' in 1.2.\n",
      "  warnings.warn(\n",
      "c:\\Users\\Tyler\\AppData\\Local\\Programs\\Python\\Python38\\lib\\site-packages\\sklearn\\manifold\\_t_sne.py:810: FutureWarning: The default learning rate in TSNE will change from 200.0 to 'auto' in 1.2.\n",
      "  warnings.warn(\n"
     ]
    },
    {
     "data": {
      "image/png": "[encoded data removed]",
      "text/plain": [
       "<Figure size 864x432 with 1 Axes>"
      ]
     },
     "metadata": {
      "needs_background": "light"
     },
     "output_type": "display_data"
    },
    {
     "data": {
      "application/javascript": "\n            setTimeout(function() {\n                var nbb_cell_id = 23;\n                var nbb_unformatted_code = \"display_closestwords_tsnescatterplot(model.wv, \\\"beer\\\")\";\n                var nbb_formatted_code = \"display_closestwords_tsnescatterplot(model.wv, \\\"beer\\\")\";\n                var nbb_cells = Jupyter.notebook.get_cells();\n                for (var i = 0; i < nbb_cells.length; ++i) {\n                    if (nbb_cells[i].input_prompt_number == nbb_cell_id) {\n                        if (nbb_cells[i].get_text() == nbb_unformatted_code) {\n                             nbb_cells[i].set_text(nbb_formatted_code);\n                        }\n                        break;\n                    }\n                }\n            }, 500);\n            ",
      "text/plain": [
       "<IPython.core.display.Javascript object>"
      ]
     },
     "metadata": {},
     "output_type": "display_data"
    }
   ],
   "source": [
    "display_closestwords_tsnescatterplot(model.wv, \"beer\")"
   ]
  },
  {
   "cell_type": "markdown",
   "metadata": {
    "colab_type": "text",
    "id": "R9nDZAdKy_B1"
   },
   "source": [
    "## ⚙️ Learning Domain-Specific Word Embeddings <a name=\"domain-specific_word_vectors\"></a>"
   ]
  },
  {
   "cell_type": "markdown",
   "metadata": {},
   "source": [
    "Word embeddings are interesting and thought provoking but\n",
    "- What insights can we gain from them?\n",
    "- How do we apply them to industry data?\n",
    "\n",
    "This section of the notebook will explore word embeddings and their application to geological survey data (GSWA)."
   ]
  },
  {
   "cell_type": "markdown",
   "metadata": {
    "colab_type": "text",
    "id": "_5MWs23uzPUP"
   },
   "source": [
    "### Loading a small sample of Geological Survey of Western Australia (GSWA) data"
   ]
  },
  {
   "cell_type": "code",
   "execution_count": 24,
   "metadata": {
    "colab": {},
    "colab_type": "code",
    "id": "cn-cuSk40cjo"
   },
   "outputs": [
    {
     "data": {
      "application/javascript": "\n            setTimeout(function() {\n                var nbb_cell_id = 24;\n                var nbb_unformatted_code = \"gswa_corpus_file=\\\"../data/wamex_xml.zip\\\"\";\n                var nbb_formatted_code = \"gswa_corpus_file = \\\"../data/wamex_xml.zip\\\"\";\n                var nbb_cells = Jupyter.notebook.get_cells();\n                for (var i = 0; i < nbb_cells.length; ++i) {\n                    if (nbb_cells[i].input_prompt_number == nbb_cell_id) {\n                        if (nbb_cells[i].get_text() == nbb_unformatted_code) {\n                             nbb_cells[i].set_text(nbb_formatted_code);\n                        }\n                        break;\n                    }\n                }\n            }, 500);\n            ",
      "text/plain": [
       "<IPython.core.display.Javascript object>"
      ]
     },
     "metadata": {},
     "output_type": "display_data"
    }
   ],
   "source": [
    "gswa_corpus_file=\"../data/wamex_xml.zip\""
   ]
  },
  {
   "cell_type": "code",
   "execution_count": 25,
   "metadata": {
    "colab": {
     "base_uri": "https://localhost:8080/",
     "height": 34
    },
    "colab_type": "code",
    "executionInfo": {
     "elapsed": 2721,
     "status": "ok",
     "timestamp": 1585118724590,
     "user": {
      "displayName": "Tyler Bikaun",
      "photoUrl": "",
      "userId": "18384825377619195869"
     },
     "user_tz": -480
    },
    "id": "S2zNT1qWzPMt",
    "outputId": "26a9d507-1663-4e9e-d59f-7cecd158a83c"
   },
   "outputs": [
    {
     "data": {
      "application/javascript": "\n            setTimeout(function() {\n                var nbb_cell_id = 25;\n                var nbb_unformatted_code = \"gswa_corpus = list()\\nwith zipfile.ZipFile(gswa_corpus_file, \\\"r\\\") as z:\\n    for filename in z.namelist():\\n        with z.open(filename) as f:\\n            # load the json file\\n            # The resulting `content` is a list\\n            content = json.loads(f.read()) \\n            # Convert content to a string   \\n            content = \\\"\\\".join(content)\\n            # Add to the data list\\n            gswa_corpus.append(content)\";\n                var nbb_formatted_code = \"gswa_corpus = list()\\nwith zipfile.ZipFile(gswa_corpus_file, \\\"r\\\") as z:\\n    for filename in z.namelist():\\n        with z.open(filename) as f:\\n            # load the json file\\n            # The resulting `content` is a list\\n            content = json.loads(f.read())\\n            # Convert content to a string\\n            content = \\\"\\\".join(content)\\n            # Add to the data list\\n            gswa_corpus.append(content)\";\n                var nbb_cells = Jupyter.notebook.get_cells();\n                for (var i = 0; i < nbb_cells.length; ++i) {\n                    if (nbb_cells[i].input_prompt_number == nbb_cell_id) {\n                        if (nbb_cells[i].get_text() == nbb_unformatted_code) {\n                             nbb_cells[i].set_text(nbb_formatted_code);\n                        }\n                        break;\n                    }\n                }\n            }, 500);\n            ",
      "text/plain": [
       "<IPython.core.display.Javascript object>"
      ]
     },
     "metadata": {},
     "output_type": "display_data"
    }
   ],
   "source": [
    "gswa_corpus = list()\n",
    "with zipfile.ZipFile(gswa_corpus_file, \"r\") as z:\n",
    "    for filename in z.namelist():\n",
    "        with z.open(filename) as f:\n",
    "            # load the json file\n",
    "            # The resulting `content` is a list\n",
    "            content = json.loads(f.read()) \n",
    "            # Convert content to a string   \n",
    "            content = \"\".join(content)\n",
    "            # Add to the data list\n",
    "            gswa_corpus.append(content)"
   ]
  },
  {
   "cell_type": "markdown",
   "metadata": {},
   "source": [
    "By previewing the data that we have loaded, we can easily see that it is very different to the hotel reviews dataset."
   ]
  },
  {
   "cell_type": "code",
   "execution_count": 26,
   "metadata": {
    "colab": {
     "base_uri": "https://localhost:8080/",
     "height": 34
    },
    "colab_type": "code",
    "executionInfo": {
     "elapsed": 2399,
     "status": "ok",
     "timestamp": 1585118724592,
     "user": {
      "displayName": "Tyler Bikaun",
      "photoUrl": "",
      "userId": "18384825377619195869"
     },
     "user_tz": -480
    },
    "id": "Cph4A7YQzPKA",
    "outputId": "22330ef8-001b-4a61-b4a8-7df00695e3e8"
   },
   "outputs": [
    {
     "name": "stdout",
     "output_type": "stream",
     "text": [
      "Combined Reporting Application Pending Status: Sheet 1:250 000: Kalgoorlie (SH 51-09) Sheet 1:100 000: Kalgoorlie (3136) Project Operator: Cazaly Resources Limited Author: M Watts Date: September 2006 Distribution: 1.Department of Industry and Resources 2.Cazaly Resources Limited Cazaly Resources Limited September 2006 2 Figure 2: Castle Hill Project Tenement Location Plan, 1: 75 000 scale 6 Figure 3: Regional Geology with Exploration Index Map, 1:75 000 scale 8Cazaly Resources Limited September\n"
     ]
    },
    {
     "data": {
      "application/javascript": "\n            setTimeout(function() {\n                var nbb_cell_id = 26;\n                var nbb_unformatted_code = \"print(gswa_corpus[0][:500])\";\n                var nbb_formatted_code = \"print(gswa_corpus[0][:500])\";\n                var nbb_cells = Jupyter.notebook.get_cells();\n                for (var i = 0; i < nbb_cells.length; ++i) {\n                    if (nbb_cells[i].input_prompt_number == nbb_cell_id) {\n                        if (nbb_cells[i].get_text() == nbb_unformatted_code) {\n                             nbb_cells[i].set_text(nbb_formatted_code);\n                        }\n                        break;\n                    }\n                }\n            }, 500);\n            ",
      "text/plain": [
       "<IPython.core.display.Javascript object>"
      ]
     },
     "metadata": {},
     "output_type": "display_data"
    }
   ],
   "source": [
    "print(gswa_corpus[0][:500])"
   ]
  },
  {
   "cell_type": "code",
   "execution_count": 27,
   "metadata": {
    "colab": {},
    "colab_type": "code",
    "id": "RE0Yjy_gzPHe"
   },
   "outputs": [
    {
     "data": {
      "application/javascript": "\n            setTimeout(function() {\n                var nbb_cell_id = 27;\n                var nbb_unformatted_code = \"def read_input(input_file):\\n    \\\"\\\"\\\"This method reads the input file which is in zip format\\\"\\\"\\\"\\n    \\n    logging.info(\\\"reading file {0}...this may take a while\\\".format(input_file))\\n\\n    data = list()\\n    with zipfile.ZipFile(input_file, \\\"r\\\") as z:\\n    #df = [pd.read_json(filename) for filename in z.namelist()]\\n        print(len(z.namelist()))\\n        for i, filename in enumerate(z.namelist()):\\n            # print(filename)\\n            # df = pd.read_json(filename)\\n            if (i%100==0):\\n                logging.info (\\\"read {0} reports\\\".format (i))\\n            with z.open(filename) as f:\\n                # load the json file\\n                # The resulting `content` is a list\\n                content = json.loads(f.read()) \\n                # Convert content to a string   \\n                content = \\\"\\\".join(content)\\n                if len(content) >= 10:\\n                    # Add to the data list\\n                    yield gensim.utils.simple_preprocess (content)\\n                else:\\n                    logging.info(\\\"removed {0} because of small size\\\".format (filename))\";\n                var nbb_formatted_code = \"def read_input(input_file):\\n    \\\"\\\"\\\"This method reads the input file which is in zip format\\\"\\\"\\\"\\n\\n    logging.info(\\\"reading file {0}...this may take a while\\\".format(input_file))\\n\\n    data = list()\\n    with zipfile.ZipFile(input_file, \\\"r\\\") as z:\\n        # df = [pd.read_json(filename) for filename in z.namelist()]\\n        print(len(z.namelist()))\\n        for i, filename in enumerate(z.namelist()):\\n            # print(filename)\\n            # df = pd.read_json(filename)\\n            if i % 100 == 0:\\n                logging.info(\\\"read {0} reports\\\".format(i))\\n            with z.open(filename) as f:\\n                # load the json file\\n                # The resulting `content` is a list\\n                content = json.loads(f.read())\\n                # Convert content to a string\\n                content = \\\"\\\".join(content)\\n                if len(content) >= 10:\\n                    # Add to the data list\\n                    yield gensim.utils.simple_preprocess(content)\\n                else:\\n                    logging.info(\\\"removed {0} because of small size\\\".format(filename))\";\n                var nbb_cells = Jupyter.notebook.get_cells();\n                for (var i = 0; i < nbb_cells.length; ++i) {\n                    if (nbb_cells[i].input_prompt_number == nbb_cell_id) {\n                        if (nbb_cells[i].get_text() == nbb_unformatted_code) {\n                             nbb_cells[i].set_text(nbb_formatted_code);\n                        }\n                        break;\n                    }\n                }\n            }, 500);\n            ",
      "text/plain": [
       "<IPython.core.display.Javascript object>"
      ]
     },
     "metadata": {},
     "output_type": "display_data"
    }
   ],
   "source": [
    "def read_input(input_file):\n",
    "    \"\"\"This method reads the input file which is in zip format\"\"\"\n",
    "    \n",
    "    logging.info(\"reading file {0}...this may take a while\".format(input_file))\n",
    "\n",
    "    data = list()\n",
    "    with zipfile.ZipFile(input_file, \"r\") as z:\n",
    "    #df = [pd.read_json(filename) for filename in z.namelist()]\n",
    "        print(len(z.namelist()))\n",
    "        for i, filename in enumerate(z.namelist()):\n",
    "            # print(filename)\n",
    "            # df = pd.read_json(filename)\n",
    "            if (i%100==0):\n",
    "                logging.info (\"read {0} reports\".format (i))\n",
    "            with z.open(filename) as f:\n",
    "                # load the json file\n",
    "                # The resulting `content` is a list\n",
    "                content = json.loads(f.read()) \n",
    "                # Convert content to a string   \n",
    "                content = \"\".join(content)\n",
    "                if len(content) >= 10:\n",
    "                    # Add to the data list\n",
    "                    yield gensim.utils.simple_preprocess (content)\n",
    "                else:\n",
    "                    logging.info(\"removed {0} because of small size\".format (filename))"
   ]
  },
  {
   "cell_type": "markdown",
   "metadata": {},
   "source": [
    "Here we'll perform basic pre-processing of the geological surveys using Gensim's `simple_preprocess` function. A result of this is a corpus of tokenized and cased documents."
   ]
  },
  {
   "cell_type": "code",
   "execution_count": 28,
   "metadata": {},
   "outputs": [
    {
     "data": {
      "application/javascript": "\n            setTimeout(function() {\n                var nbb_cell_id = 28;\n                var nbb_unformatted_code = \"processed_gswa_corpus = [gensim.utils.simple_preprocess(doc) for doc in gswa_corpus]\";\n                var nbb_formatted_code = \"processed_gswa_corpus = [gensim.utils.simple_preprocess(doc) for doc in gswa_corpus]\";\n                var nbb_cells = Jupyter.notebook.get_cells();\n                for (var i = 0; i < nbb_cells.length; ++i) {\n                    if (nbb_cells[i].input_prompt_number == nbb_cell_id) {\n                        if (nbb_cells[i].get_text() == nbb_unformatted_code) {\n                             nbb_cells[i].set_text(nbb_formatted_code);\n                        }\n                        break;\n                    }\n                }\n            }, 500);\n            ",
      "text/plain": [
       "<IPython.core.display.Javascript object>"
      ]
     },
     "metadata": {},
     "output_type": "display_data"
    }
   ],
   "source": [
    "processed_gswa_corpus = [gensim.utils.simple_preprocess(doc) for doc in gswa_corpus]"
   ]
  },
  {
   "cell_type": "code",
   "execution_count": 29,
   "metadata": {
    "colab": {
     "base_uri": "https://localhost:8080/",
     "height": 34
    },
    "colab_type": "code",
    "executionInfo": {
     "elapsed": 9324,
     "status": "ok",
     "timestamp": 1585118732101,
     "user": {
      "displayName": "Tyler Bikaun",
      "photoUrl": "",
      "userId": "18384825377619195869"
     },
     "user_tz": -480
    },
    "id": "ok-NJAsoyBEr",
    "outputId": "1a98cad1-cc07-439b-8303-57750559aa1d"
   },
   "outputs": [
    {
     "name": "stdout",
     "output_type": "stream",
     "text": [
      "['combined', 'reporting', 'application', 'pending', 'status', 'sheet', 'kalgoorlie', 'sh', 'sheet', 'kalgoorlie', 'project', 'operator', 'cazaly', 'resources', 'limited', 'author', 'watts', 'date', 'september', 'distribution', 'department', 'of', 'industry', 'and', 'resources']\n"
     ]
    },
    {
     "data": {
      "application/javascript": "\n            setTimeout(function() {\n                var nbb_cell_id = 29;\n                var nbb_unformatted_code = \"# Review the first documents top 25 words. See how they have been pre-processed and tokenized.\\nprint(processed_gswa_corpus[0][:25])\";\n                var nbb_formatted_code = \"# Review the first documents top 25 words. See how they have been pre-processed and tokenized.\\nprint(processed_gswa_corpus[0][:25])\";\n                var nbb_cells = Jupyter.notebook.get_cells();\n                for (var i = 0; i < nbb_cells.length; ++i) {\n                    if (nbb_cells[i].input_prompt_number == nbb_cell_id) {\n                        if (nbb_cells[i].get_text() == nbb_unformatted_code) {\n                             nbb_cells[i].set_text(nbb_formatted_code);\n                        }\n                        break;\n                    }\n                }\n            }, 500);\n            ",
      "text/plain": [
       "<IPython.core.display.Javascript object>"
      ]
     },
     "metadata": {},
     "output_type": "display_data"
    }
   ],
   "source": [
    "# Review the first documents top 25 words. See how they have been pre-processed and tokenized.\n",
    "print(processed_gswa_corpus[0][:25])"
   ]
  },
  {
   "cell_type": "markdown",
   "metadata": {
    "colab_type": "text",
    "id": "yOHp-kJ01Tt2"
   },
   "source": [
    "### Training word embedding model off of domain-specific text.\n",
    "\n",
    "Note: we are required to use bigrams to aid our model due to domain-specific terms."
   ]
  },
  {
   "cell_type": "markdown",
   "metadata": {},
   "source": [
    "⚠️Training the domain-specific embeddings will take 30-60 minutes."
   ]
  },
  {
   "cell_type": "code",
   "execution_count": 37,
   "metadata": {},
   "outputs": [
    {
     "data": {
      "application/javascript": "\n            setTimeout(function() {\n                var nbb_cell_id = 37;\n                var nbb_unformatted_code = \"# Build phrases and bigrams to train our word2vec model on\\nphrases = gensim.models.Phrases(processed_gswa_corpus, min_count=1, threshold=1)\\nbigrams = gensim.models.phrases.Phraser(phrases)\";\n                var nbb_formatted_code = \"# Build phrases and bigrams to train our word2vec model on\\nphrases = gensim.models.Phrases(processed_gswa_corpus, min_count=1, threshold=1)\\nbigrams = gensim.models.phrases.Phraser(phrases)\";\n                var nbb_cells = Jupyter.notebook.get_cells();\n                for (var i = 0; i < nbb_cells.length; ++i) {\n                    if (nbb_cells[i].input_prompt_number == nbb_cell_id) {\n                        if (nbb_cells[i].get_text() == nbb_unformatted_code) {\n                             nbb_cells[i].set_text(nbb_formatted_code);\n                        }\n                        break;\n                    }\n                }\n            }, 500);\n            ",
      "text/plain": [
       "<IPython.core.display.Javascript object>"
      ]
     },
     "metadata": {},
     "output_type": "display_data"
    }
   ],
   "source": [
    "# Build phrases and bigrams to train our word2vec model on\n",
    "phrases = gensim.models.Phrases(processed_gswa_corpus, min_count=1, threshold=1)\n",
    "bigrams = gensim.models.phrases.Phraser(phrases)"
   ]
  },
  {
   "cell_type": "code",
   "execution_count": 40,
   "metadata": {
    "colab": {
     "base_uri": "https://localhost:8080/",
     "height": 1000
    },
    "colab_type": "code",
    "executionInfo": {
     "elapsed": 183770,
     "status": "ok",
     "timestamp": 1585118907018,
     "user": {
      "displayName": "Tyler Bikaun",
      "photoUrl": "",
      "userId": "18384825377619195869"
     },
     "user_tz": -480
    },
    "id": "OjXRu31I0-HS",
    "outputId": "50d20d02-f3c5-40cc-e05d-d3c0f121b05a"
   },
   "outputs": [
    {
     "data": {
      "application/javascript": "\n            setTimeout(function() {\n                var nbb_cell_id = 40;\n                var nbb_unformatted_code = \"# Note: we're referring to the model as gswa. This allows us\\n# to make a contrast between the pretrained word embeddings and the domain-specific ones. \\ngswa_model = gensim.models.Word2Vec(bigrams[processed_gswa_corpus], vector_size=50, window=10, min_count=2, workers=12, epochs=10)\";\n                var nbb_formatted_code = \"# Note: we're referring to the model as gswa. This allows us\\n# to make a contrast between the pretrained word embeddings and the domain-specific ones.\\ngswa_model = gensim.models.Word2Vec(\\n    bigrams[processed_gswa_corpus],\\n    vector_size=50,\\n    window=10,\\n    min_count=2,\\n    workers=12,\\n    epochs=10,\\n)\";\n                var nbb_cells = Jupyter.notebook.get_cells();\n                for (var i = 0; i < nbb_cells.length; ++i) {\n                    if (nbb_cells[i].input_prompt_number == nbb_cell_id) {\n                        if (nbb_cells[i].get_text() == nbb_unformatted_code) {\n                             nbb_cells[i].set_text(nbb_formatted_code);\n                        }\n                        break;\n                    }\n                }\n            }, 500);\n            ",
      "text/plain": [
       "<IPython.core.display.Javascript object>"
      ]
     },
     "metadata": {},
     "output_type": "display_data"
    }
   ],
   "source": [
    "# Note: we're referring to the model as gswa. This allows us\n",
    "# to make a contrast between the pretrained word embeddings and the domain-specific ones. \n",
    "gswa_model = gensim.models.Word2Vec(bigrams[processed_gswa_corpus], vector_size=50, window=10, min_count=2, workers=12, epochs=10)"
   ]
  },
  {
   "cell_type": "code",
   "execution_count": 41,
   "metadata": {},
   "outputs": [
    {
     "data": {
      "application/javascript": "\n            setTimeout(function() {\n                var nbb_cell_id = 41;\n                var nbb_unformatted_code = \"gswa_model.save(\\\"../data/word2vec_gswa.bin\\\")\";\n                var nbb_formatted_code = \"gswa_model.save(\\\"../data/word2vec_gswa.bin\\\")\";\n                var nbb_cells = Jupyter.notebook.get_cells();\n                for (var i = 0; i < nbb_cells.length; ++i) {\n                    if (nbb_cells[i].input_prompt_number == nbb_cell_id) {\n                        if (nbb_cells[i].get_text() == nbb_unformatted_code) {\n                             nbb_cells[i].set_text(nbb_formatted_code);\n                        }\n                        break;\n                    }\n                }\n            }, 500);\n            ",
      "text/plain": [
       "<IPython.core.display.Javascript object>"
      ]
     },
     "metadata": {},
     "output_type": "display_data"
    }
   ],
   "source": [
    "gswa_model.save(\"../data/word2vec_gswa.bin\")"
   ]
  },
  {
   "cell_type": "markdown",
   "metadata": {},
   "source": [
    "📣 Alternately, if you have downloaded the pre-trained embeddings, you can skip training and load them directly."
   ]
  },
  {
   "cell_type": "code",
   "execution_count": 42,
   "metadata": {},
   "outputs": [
    {
     "data": {
      "application/javascript": "\n            setTimeout(function() {\n                var nbb_cell_id = 42;\n                var nbb_unformatted_code = \"gswa_model = gensim.models.Word2Vec.load('../data/word2vec_gswa.bin')\";\n                var nbb_formatted_code = \"gswa_model = gensim.models.Word2Vec.load(\\\"../data/word2vec_gswa.bin\\\")\";\n                var nbb_cells = Jupyter.notebook.get_cells();\n                for (var i = 0; i < nbb_cells.length; ++i) {\n                    if (nbb_cells[i].input_prompt_number == nbb_cell_id) {\n                        if (nbb_cells[i].get_text() == nbb_unformatted_code) {\n                             nbb_cells[i].set_text(nbb_formatted_code);\n                        }\n                        break;\n                    }\n                }\n            }, 500);\n            ",
      "text/plain": [
       "<IPython.core.display.Javascript object>"
      ]
     },
     "metadata": {},
     "output_type": "display_data"
    }
   ],
   "source": [
    "gswa_model = gensim.models.Word2Vec.load('../data/word2vec_gswa.bin')"
   ]
  },
  {
   "cell_type": "markdown",
   "metadata": {
    "colab_type": "text",
    "id": "DgB_ATFn1eFd"
   },
   "source": [
    "## Looking at domain-specific outputs"
   ]
  },
  {
   "cell_type": "code",
   "execution_count": 43,
   "metadata": {
    "colab": {
     "base_uri": "https://localhost:8080/",
     "height": 54
    },
    "colab_type": "code",
    "executionInfo": {
     "elapsed": 183387,
     "status": "ok",
     "timestamp": 1585118907019,
     "user": {
      "displayName": "Tyler Bikaun",
      "photoUrl": "",
      "userId": "18384825377619195869"
     },
     "user_tz": -480
    },
    "id": "Ocw0iSJv1jZd",
    "outputId": "838e326a-a8ff-4ecc-d46e-2a701fca2465"
   },
   "outputs": [
    {
     "name": "stdout",
     "output_type": "stream",
     "text": [
      "['the', 'and', 'of', 'to', 'of_the', 'in', 'in_the', 'with', 'for', 'by', 'is', 'at', 'area', 'as', 'from', 'on_the', 'on', 'or', 'that', 'this', 'project', 'within_the', 'are', 'drilling', 'from_the', 'figure', 'gold', 'to_be', 'data', 'project_area', 'was', 'mineralisation', 'exploration', 'has_been', 'no', 'during_the', 'all', 'have_been', 'zone', 'report', 'pty_ltd', 'results', 'au', 'it_is', 'survey', 'within', 'sampling', 'samples', 'tenements', 'western_australia', 'the_tenement', 'will_be', 'were', 'ltd', 'some', 'table', 'be', 'number_of', 'mining', 'resource', 'the_north', 'but', 'tenement', 'associated_with', 'these', 'limited', 'up_to', 'which', 'coordinates_are', 'not_surveyed', 'are_integer', 'warning_coordinates', 'below', 'poss_not', 'integer_poss', 'two', 'australia', 'over_the', 'rocks', 'part_of', 'prospect', 'holes', 'between', 'rock_chip', 'annual_report', 'the_east', 'the_south', 'samples_were', 'has', 'can_be', 'gold_mineralisation', 'using', 'the_west', 'where', 'resources', 'hole', 'over', 'due_to', 'deposit', 'areas']\n"
     ]
    },
    {
     "data": {
      "application/javascript": "\n            setTimeout(function() {\n                var nbb_cell_id = 43;\n                var nbb_unformatted_code = \"print(list(gswa_model.wv.key_to_index.keys())[:100])\";\n                var nbb_formatted_code = \"print(list(gswa_model.wv.key_to_index.keys())[:100])\";\n                var nbb_cells = Jupyter.notebook.get_cells();\n                for (var i = 0; i < nbb_cells.length; ++i) {\n                    if (nbb_cells[i].input_prompt_number == nbb_cell_id) {\n                        if (nbb_cells[i].get_text() == nbb_unformatted_code) {\n                             nbb_cells[i].set_text(nbb_formatted_code);\n                        }\n                        break;\n                    }\n                }\n            }, 500);\n            ",
      "text/plain": [
       "<IPython.core.display.Javascript object>"
      ]
     },
     "metadata": {},
     "output_type": "display_data"
    }
   ],
   "source": [
    "print(list(gswa_model.wv.key_to_index.keys())[:100])"
   ]
  },
  {
   "cell_type": "code",
   "execution_count": 44,
   "metadata": {
    "colab": {
     "base_uri": "https://localhost:8080/",
     "height": 187
    },
    "colab_type": "code",
    "executionInfo": {
     "elapsed": 183164,
     "status": "ok",
     "timestamp": 1585118907019,
     "user": {
      "displayName": "Tyler Bikaun",
      "photoUrl": "",
      "userId": "18384825377619195869"
     },
     "user_tz": -480
    },
    "id": "l0CQiK_31jXl",
    "outputId": "3e28d41b-d5f7-471d-deed-3dc925945b75"
   },
   "outputs": [
    {
     "name": "stdout",
     "output_type": "stream",
     "text": [
      "1.\tnickel                \t88.1%\n",
      "2.\tcopper                \t83.8%\n",
      "3.\tlead                  \t79.9%\n",
      "4.\tau                    \t78.5%\n",
      "5.\tdiscovered_at         \t74.9%\n",
      "6.\tworked_intermittently \t74.9%\n",
      "7.\thosts_croesus         \t73.1%\n",
      "8.\tminings_operations    \t72.2%\n",
      "9.\tvalues_ranged         \t71.8%\n",
      "10.\tbase_metals           \t71.6%\n"
     ]
    },
    {
     "data": {
      "application/javascript": "\n            setTimeout(function() {\n                var nbb_cell_id = 44;\n                var nbb_unformatted_code = \"prettify_similarities(gswa_model.wv.most_similar(['gold']))\";\n                var nbb_formatted_code = \"prettify_similarities(gswa_model.wv.most_similar([\\\"gold\\\"]))\";\n                var nbb_cells = Jupyter.notebook.get_cells();\n                for (var i = 0; i < nbb_cells.length; ++i) {\n                    if (nbb_cells[i].input_prompt_number == nbb_cell_id) {\n                        if (nbb_cells[i].get_text() == nbb_unformatted_code) {\n                             nbb_cells[i].set_text(nbb_formatted_code);\n                        }\n                        break;\n                    }\n                }\n            }, 500);\n            ",
      "text/plain": [
       "<IPython.core.display.Javascript object>"
      ]
     },
     "metadata": {},
     "output_type": "display_data"
    }
   ],
   "source": [
    "prettify_similarities(gswa_model.wv.most_similar(['gold']))"
   ]
  },
  {
   "cell_type": "code",
   "execution_count": 45,
   "metadata": {
    "colab": {
     "base_uri": "https://localhost:8080/",
     "height": 173
    },
    "colab_type": "code",
    "executionInfo": {
     "elapsed": 182749,
     "status": "ok",
     "timestamp": 1585118907020,
     "user": {
      "displayName": "Tyler Bikaun",
      "photoUrl": "",
      "userId": "18384825377619195869"
     },
     "user_tz": -480
    },
    "id": "hZajnE271jUr",
    "outputId": "6158b447-428b-4215-8db1-0007a6f42e89"
   },
   "outputs": [
    {
     "name": "stdout",
     "output_type": "stream",
     "text": [
      "1.\tsulphur         \t85.4%\n",
      "2.\tfe              \t83.5%\n",
      "3.\tsilver          \t82.3%\n",
      "4.\tco              \t82.1%\n",
      "5.\tprimary         \t81.8%\n",
      "6.\tgangue_minerals \t81.4%\n",
      "7.\thematite        \t81.3%\n",
      "8.\tcobalt          \t81.3%\n",
      "9.\toxide           \t80.6%\n",
      "10.\tphosphorous     \t80.4%\n"
     ]
    },
    {
     "data": {
      "application/javascript": "\n            setTimeout(function() {\n                var nbb_cell_id = 45;\n                var nbb_unformatted_code = \"prettify_similarities(gswa_model.wv.most_similar(['iron']))\";\n                var nbb_formatted_code = \"prettify_similarities(gswa_model.wv.most_similar([\\\"iron\\\"]))\";\n                var nbb_cells = Jupyter.notebook.get_cells();\n                for (var i = 0; i < nbb_cells.length; ++i) {\n                    if (nbb_cells[i].input_prompt_number == nbb_cell_id) {\n                        if (nbb_cells[i].get_text() == nbb_unformatted_code) {\n                             nbb_cells[i].set_text(nbb_formatted_code);\n                        }\n                        break;\n                    }\n                }\n            }, 500);\n            ",
      "text/plain": [
       "<IPython.core.display.Javascript object>"
      ]
     },
     "metadata": {},
     "output_type": "display_data"
    }
   ],
   "source": [
    "prettify_similarities(gswa_model.wv.most_similar(['iron']))"
   ]
  },
  {
   "cell_type": "code",
   "execution_count": 46,
   "metadata": {
    "colab": {
     "base_uri": "https://localhost:8080/",
     "height": 241
    },
    "colab_type": "code",
    "executionInfo": {
     "elapsed": 182505,
     "status": "ok",
     "timestamp": 1585118907020,
     "user": {
      "displayName": "Tyler Bikaun",
      "photoUrl": "",
      "userId": "18384825377619195869"
     },
     "user_tz": -480
    },
    "id": "_EhVlOOI1jRC",
    "outputId": "fb6a8fe3-5a25-4b44-f360-07720a4cd428"
   },
   "outputs": [
    {
     "name": "stdout",
     "output_type": "stream",
     "text": [
      "1.\ttonnes_grading \t89.4%\n",
      "2.\tof_million     \t88.9%\n",
      "3.\tounces         \t84.9%\n",
      "4.\toz             \t84.7%\n",
      "5.\thosts_croesus  \t84.6%\n",
      "6.\tof_tonnes      \t84.5%\n",
      "7.\toz_au          \t84.5%\n",
      "8.\tcompliant      \t82.7%\n",
      "9.\tounces_of      \t82.0%\n",
      "10.\tan_estimated   \t82.0%\n"
     ]
    },
    {
     "data": {
      "application/javascript": "\n            setTimeout(function() {\n                var nbb_cell_id = 46;\n                var nbb_unformatted_code = \"# get everything related to stuff on the commodity\\nprettify_similarities(gswa_model.wv.most_similar(positive = [\\\"gold\\\",'commodity','ore'], negative = ['rock']))\";\n                var nbb_formatted_code = \"# get everything related to stuff on the commodity\\nprettify_similarities(\\n    gswa_model.wv.most_similar(positive=[\\\"gold\\\", \\\"commodity\\\", \\\"ore\\\"], negative=[\\\"rock\\\"])\\n)\";\n                var nbb_cells = Jupyter.notebook.get_cells();\n                for (var i = 0; i < nbb_cells.length; ++i) {\n                    if (nbb_cells[i].input_prompt_number == nbb_cell_id) {\n                        if (nbb_cells[i].get_text() == nbb_unformatted_code) {\n                             nbb_cells[i].set_text(nbb_formatted_code);\n                        }\n                        break;\n                    }\n                }\n            }, 500);\n            ",
      "text/plain": [
       "<IPython.core.display.Javascript object>"
      ]
     },
     "metadata": {},
     "output_type": "display_data"
    }
   ],
   "source": [
    "# get everything related to stuff on the commodity\n",
    "prettify_similarities(gswa_model.wv.most_similar(positive = [\"gold\",'commodity','ore'], negative = ['rock']))"
   ]
  },
  {
   "cell_type": "code",
   "execution_count": 47,
   "metadata": {
    "colab": {
     "base_uri": "https://localhost:8080/",
     "height": 88
    },
    "colab_type": "code",
    "executionInfo": {
     "elapsed": 181999,
     "status": "ok",
     "timestamp": 1585118907021,
     "user": {
      "displayName": "Tyler Bikaun",
      "photoUrl": "",
      "userId": "18384825377619195869"
     },
     "user_tz": -480
    },
    "id": "4TfG_p_r1jOr",
    "outputId": "f644c164-f06e-4e66-b1ee-41f65a25cf4b"
   },
   "outputs": [
    {
     "name": "stdout",
     "output_type": "stream",
     "text": [
      "Similarity between two different words: 0.436\n"
     ]
    },
    {
     "data": {
      "application/javascript": "\n            setTimeout(function() {\n                var nbb_cell_id = 47;\n                var nbb_unformatted_code = \"# similarity between two different words\\nprint(f'Similarity between two different words: {gswa_model.wv.similarity(w1=\\\"gold\\\",w2=\\\"ore\\\"):0.3}')\";\n                var nbb_formatted_code = \"# similarity between two different words\\nprint(\\n    f'Similarity between two different words: {gswa_model.wv.similarity(w1=\\\"gold\\\",w2=\\\"ore\\\"):0.3}'\\n)\";\n                var nbb_cells = Jupyter.notebook.get_cells();\n                for (var i = 0; i < nbb_cells.length; ++i) {\n                    if (nbb_cells[i].input_prompt_number == nbb_cell_id) {\n                        if (nbb_cells[i].get_text() == nbb_unformatted_code) {\n                             nbb_cells[i].set_text(nbb_formatted_code);\n                        }\n                        break;\n                    }\n                }\n            }, 500);\n            ",
      "text/plain": [
       "<IPython.core.display.Javascript object>"
      ]
     },
     "metadata": {},
     "output_type": "display_data"
    }
   ],
   "source": [
    "# similarity between two different words\n",
    "print(f'Similarity between two different words: {gswa_model.wv.similarity(w1=\"gold\",w2=\"ore\"):0.3}')"
   ]
  },
  {
   "cell_type": "code",
   "execution_count": 48,
   "metadata": {
    "colab": {
     "base_uri": "https://localhost:8080/",
     "height": 88
    },
    "colab_type": "code",
    "executionInfo": {
     "elapsed": 181617,
     "status": "ok",
     "timestamp": 1585118907346,
     "user": {
      "displayName": "Tyler Bikaun",
      "photoUrl": "",
      "userId": "18384825377619195869"
     },
     "user_tz": -480
    },
    "id": "oaltQ0Eh1jMg",
    "outputId": "b3c66c4c-484d-479a-b266-84d3b95c00ee"
   },
   "outputs": [
    {
     "name": "stdout",
     "output_type": "stream",
     "text": [
      "Similarity between the same word: 1.0\n"
     ]
    },
    {
     "data": {
      "application/javascript": "\n            setTimeout(function() {\n                var nbb_cell_id = 48;\n                var nbb_unformatted_code = \"# similarity between two identical words\\nprint(f'Similarity between the same word: {gswa_model.wv.similarity(w1=\\\"gold\\\",w2=\\\"gold\\\"):0.3}')\";\n                var nbb_formatted_code = \"# similarity between two identical words\\nprint(\\n    f'Similarity between the same word: {gswa_model.wv.similarity(w1=\\\"gold\\\",w2=\\\"gold\\\"):0.3}'\\n)\";\n                var nbb_cells = Jupyter.notebook.get_cells();\n                for (var i = 0; i < nbb_cells.length; ++i) {\n                    if (nbb_cells[i].input_prompt_number == nbb_cell_id) {\n                        if (nbb_cells[i].get_text() == nbb_unformatted_code) {\n                             nbb_cells[i].set_text(nbb_formatted_code);\n                        }\n                        break;\n                    }\n                }\n            }, 500);\n            ",
      "text/plain": [
       "<IPython.core.display.Javascript object>"
      ]
     },
     "metadata": {},
     "output_type": "display_data"
    }
   ],
   "source": [
    "# similarity between two identical words\n",
    "print(f'Similarity between the same word: {gswa_model.wv.similarity(w1=\"gold\",w2=\"gold\"):0.3}')"
   ]
  },
  {
   "cell_type": "code",
   "execution_count": 49,
   "metadata": {
    "colab": {
     "base_uri": "https://localhost:8080/",
     "height": 88
    },
    "colab_type": "code",
    "executionInfo": {
     "elapsed": 181462,
     "status": "ok",
     "timestamp": 1585118907347,
     "user": {
      "displayName": "Tyler Bikaun",
      "photoUrl": "",
      "userId": "18384825377619195869"
     },
     "user_tz": -480
    },
    "id": "4qNuYbd11jJ9",
    "outputId": "bc326fc8-a38f-496d-afda-24cd6c0ad92d"
   },
   "outputs": [
    {
     "name": "stdout",
     "output_type": "stream",
     "text": [
      "Similarity between unrelated words: -0.0991\n"
     ]
    },
    {
     "data": {
      "application/javascript": "\n            setTimeout(function() {\n                var nbb_cell_id = 49;\n                var nbb_unformatted_code = \"# similarity between two unrelated words\\nprint(f'Similarity between unrelated words: {gswa_model.wv.similarity(w1=\\\"gold\\\",w2=\\\"rock\\\"):0.3}')\";\n                var nbb_formatted_code = \"# similarity between two unrelated words\\nprint(\\n    f'Similarity between unrelated words: {gswa_model.wv.similarity(w1=\\\"gold\\\",w2=\\\"rock\\\"):0.3}'\\n)\";\n                var nbb_cells = Jupyter.notebook.get_cells();\n                for (var i = 0; i < nbb_cells.length; ++i) {\n                    if (nbb_cells[i].input_prompt_number == nbb_cell_id) {\n                        if (nbb_cells[i].get_text() == nbb_unformatted_code) {\n                             nbb_cells[i].set_text(nbb_formatted_code);\n                        }\n                        break;\n                    }\n                }\n            }, 500);\n            ",
      "text/plain": [
       "<IPython.core.display.Javascript object>"
      ]
     },
     "metadata": {},
     "output_type": "display_data"
    }
   ],
   "source": [
    "# similarity between two unrelated words\n",
    "print(f'Similarity between unrelated words: {gswa_model.wv.similarity(w1=\"gold\",w2=\"rock\"):0.3}')"
   ]
  },
  {
   "cell_type": "code",
   "execution_count": 50,
   "metadata": {
    "colab": {
     "base_uri": "https://localhost:8080/",
     "height": 122
    },
    "colab_type": "code",
    "executionInfo": {
     "elapsed": 181337,
     "status": "ok",
     "timestamp": 1585118907348,
     "user": {
      "displayName": "Tyler Bikaun",
      "photoUrl": "",
      "userId": "18384825377619195869"
     },
     "user_tz": -480
    },
    "id": "VbUayj321pOz",
    "outputId": "c0f8a95d-07ff-43ab-b444-cfed0901738c"
   },
   "outputs": [
    {
     "name": "stdout",
     "output_type": "stream",
     "text": [
      "Which words doesnt belong in the set ['gold', 'rock', 'copper']? Odd one out: rock\n"
     ]
    },
    {
     "data": {
      "application/javascript": "\n            setTimeout(function() {\n                var nbb_cell_id = 50;\n                var nbb_unformatted_code = \"# Which one is the odd one out in this list?\\nodd_one_out_list_gswa = [\\\"gold\\\", \\\"rock\\\", \\\"copper\\\"]\\nprint(f'Which words doesnt belong in the set {odd_one_out_list_gswa}? Odd one out: {gswa_model.wv.doesnt_match(odd_one_out_list_gswa)}')\";\n                var nbb_formatted_code = \"# Which one is the odd one out in this list?\\nodd_one_out_list_gswa = [\\\"gold\\\", \\\"rock\\\", \\\"copper\\\"]\\nprint(\\n    f\\\"Which words doesnt belong in the set {odd_one_out_list_gswa}? Odd one out: {gswa_model.wv.doesnt_match(odd_one_out_list_gswa)}\\\"\\n)\";\n                var nbb_cells = Jupyter.notebook.get_cells();\n                for (var i = 0; i < nbb_cells.length; ++i) {\n                    if (nbb_cells[i].input_prompt_number == nbb_cell_id) {\n                        if (nbb_cells[i].get_text() == nbb_unformatted_code) {\n                             nbb_cells[i].set_text(nbb_formatted_code);\n                        }\n                        break;\n                    }\n                }\n            }, 500);\n            ",
      "text/plain": [
       "<IPython.core.display.Javascript object>"
      ]
     },
     "metadata": {},
     "output_type": "display_data"
    }
   ],
   "source": [
    "# Which one is the odd one out in this list?\n",
    "odd_one_out_list_gswa = [\"gold\", \"rock\", \"copper\"]\n",
    "print(f'Which words doesnt belong in the set {odd_one_out_list_gswa}? Odd one out: {gswa_model.wv.doesnt_match(odd_one_out_list_gswa)}')"
   ]
  },
  {
   "cell_type": "markdown",
   "metadata": {
    "colab_type": "text",
    "id": "UIW9Bl-I3KEK"
   },
   "source": [
    "### Comparing our domain-specific embeddings with embeddings trained on a different dataset (news articles)."
   ]
  },
  {
   "cell_type": "markdown",
   "metadata": {},
   "source": [
    "- What are the nearest terms to 'commodity', 'ore', 'rock', etc.\n",
    "\n",
    "Unfortunately due to the size of pre-trained word embedding models they have been omitted from this comparison. However, the code below shows how to load the Google news word2vec embedding model. This model is trained on 100 billion words and is 1.6GB in size (massive!)."
   ]
  },
  {
   "cell_type": "code",
   "execution_count": 51,
   "metadata": {
    "colab": {},
    "colab_type": "code",
    "id": "OPmtpYf-3KBz"
   },
   "outputs": [
    {
     "data": {
      "application/javascript": "\n            setTimeout(function() {\n                var nbb_cell_id = 51;\n                var nbb_unformatted_code = \"# Define function to compare top-n similariries for a given word between two embedding models.\\ndef compare_words(word, topn, model1, model2):\\n    similarWordsModel1 = model1.wv.most_similar(positive=word, topn=topn)\\n    similarWordsModel2 = model2.wv.most_similar(positive=word,topn=topn)\\n\\n    print(f'Top {topn} words similar to {word}\\\\n(format: n | model 1 | model 2 )\\\\n')\\n    for n in range(topn):\\n        print(f'{n+1} |{similarWordsModel1[n][0]:<15} | {similarWordsModel2[n][0]:<15}')\";\n                var nbb_formatted_code = \"# Define function to compare top-n similariries for a given word between two embedding models.\\ndef compare_words(word, topn, model1, model2):\\n    similarWordsModel1 = model1.wv.most_similar(positive=word, topn=topn)\\n    similarWordsModel2 = model2.wv.most_similar(positive=word, topn=topn)\\n\\n    print(f\\\"Top {topn} words similar to {word}\\\\n(format: n | model 1 | model 2 )\\\\n\\\")\\n    for n in range(topn):\\n        print(f\\\"{n+1} |{similarWordsModel1[n][0]:<15} | {similarWordsModel2[n][0]:<15}\\\")\";\n                var nbb_cells = Jupyter.notebook.get_cells();\n                for (var i = 0; i < nbb_cells.length; ++i) {\n                    if (nbb_cells[i].input_prompt_number == nbb_cell_id) {\n                        if (nbb_cells[i].get_text() == nbb_unformatted_code) {\n                             nbb_cells[i].set_text(nbb_formatted_code);\n                        }\n                        break;\n                    }\n                }\n            }, 500);\n            ",
      "text/plain": [
       "<IPython.core.display.Javascript object>"
      ]
     },
     "metadata": {},
     "output_type": "display_data"
    }
   ],
   "source": [
    "# Define function to compare top-n similariries for a given word between two embedding models.\n",
    "def compare_words(word, topn, model1, model2):\n",
    "    similarWordsModel1 = model1.wv.most_similar(positive=word, topn=topn)\n",
    "    similarWordsModel2 = model2.wv.most_similar(positive=word,topn=topn)\n",
    "\n",
    "    print(f'Top {topn} words similar to {word}\\n(format: n | model 1 | model 2 )\\n')\n",
    "    for n in range(topn):\n",
    "        print(f'{n+1} |{similarWordsModel1[n][0]:<15} | {similarWordsModel2[n][0]:<15}')"
   ]
  },
  {
   "cell_type": "code",
   "execution_count": 52,
   "metadata": {
    "colab": {
     "base_uri": "https://localhost:8080/",
     "height": 207
    },
    "colab_type": "code",
    "executionInfo": {
     "elapsed": 180612,
     "status": "ok",
     "timestamp": 1585118907349,
     "user": {
      "displayName": "Tyler Bikaun",
      "photoUrl": "",
      "userId": "18384825377619195869"
     },
     "user_tz": -480
    },
    "id": "gcX31xIr3J9i",
    "outputId": "75a2f13c-b992-4679-bb57-12b6f0867b84"
   },
   "outputs": [
    {
     "name": "stdout",
     "output_type": "stream",
     "text": [
      "Top 5 words similar to commodity\n",
      "(format: n | model 1 | model 2 )\n",
      "\n",
      "1 |rarity          | feasibility    \n",
      "2 |nowadays        | nl_lrn         \n",
      "3 |nutrition       | through_utilisation\n",
      "4 |rare            | oxide_resource \n",
      "5 |extreme         | by_integra     \n"
     ]
    },
    {
     "data": {
      "application/javascript": "\n            setTimeout(function() {\n                var nbb_cell_id = 52;\n                var nbb_unformatted_code = \"# Looking at the word 'commodity'\\ncompare_words(word = 'commodity', topn = 5, model1 = model, model2 = gswa_model)\";\n                var nbb_formatted_code = \"# Looking at the word 'commodity'\\ncompare_words(word=\\\"commodity\\\", topn=5, model1=model, model2=gswa_model)\";\n                var nbb_cells = Jupyter.notebook.get_cells();\n                for (var i = 0; i < nbb_cells.length; ++i) {\n                    if (nbb_cells[i].input_prompt_number == nbb_cell_id) {\n                        if (nbb_cells[i].get_text() == nbb_unformatted_code) {\n                             nbb_cells[i].set_text(nbb_formatted_code);\n                        }\n                        break;\n                    }\n                }\n            }, 500);\n            ",
      "text/plain": [
       "<IPython.core.display.Javascript object>"
      ]
     },
     "metadata": {},
     "output_type": "display_data"
    }
   ],
   "source": [
    "# Looking at the word 'commodity'\n",
    "compare_words(word = 'commodity', topn = 5, model1 = model, model2 = gswa_model)"
   ]
  },
  {
   "cell_type": "code",
   "execution_count": 53,
   "metadata": {
    "colab": {
     "base_uri": "https://localhost:8080/",
     "height": 207
    },
    "colab_type": "code",
    "executionInfo": {
     "elapsed": 180378,
     "status": "ok",
     "timestamp": 1585118907350,
     "user": {
      "displayName": "Tyler Bikaun",
      "photoUrl": "",
      "userId": "18384825377619195869"
     },
     "user_tz": -480
    },
    "id": "ExSMep_7RC1S",
    "outputId": "7861088b-996e-4634-e9fb-54cf29c611a8"
   },
   "outputs": [
    {
     "name": "stdout",
     "output_type": "stream",
     "text": [
      "Top 5 words similar to ore\n",
      "(format: n | model 1 | model 2 )\n",
      "\n",
      "1 |tutti           | grade          \n",
      "2 |beaucoup        | gold_price     \n",
      "3 |mois            | tonnes         \n",
      "4 |kw              | mined          \n",
      "5 |su              | oz             \n"
     ]
    },
    {
     "data": {
      "application/javascript": "\n            setTimeout(function() {\n                var nbb_cell_id = 53;\n                var nbb_unformatted_code = \"# Looking at the word 'ore'\\ncompare_words(word = 'ore', topn = 5, model1 = model, model2 = gswa_model)\";\n                var nbb_formatted_code = \"# Looking at the word 'ore'\\ncompare_words(word=\\\"ore\\\", topn=5, model1=model, model2=gswa_model)\";\n                var nbb_cells = Jupyter.notebook.get_cells();\n                for (var i = 0; i < nbb_cells.length; ++i) {\n                    if (nbb_cells[i].input_prompt_number == nbb_cell_id) {\n                        if (nbb_cells[i].get_text() == nbb_unformatted_code) {\n                             nbb_cells[i].set_text(nbb_formatted_code);\n                        }\n                        break;\n                    }\n                }\n            }, 500);\n            ",
      "text/plain": [
       "<IPython.core.display.Javascript object>"
      ]
     },
     "metadata": {},
     "output_type": "display_data"
    }
   ],
   "source": [
    "# Looking at the word 'ore'\n",
    "compare_words(word = 'ore', topn = 5, model1 = model, model2 = gswa_model)"
   ]
  },
  {
   "cell_type": "code",
   "execution_count": 54,
   "metadata": {
    "colab": {
     "base_uri": "https://localhost:8080/",
     "height": 207
    },
    "colab_type": "code",
    "executionInfo": {
     "elapsed": 180154,
     "status": "ok",
     "timestamp": 1585118907350,
     "user": {
      "displayName": "Tyler Bikaun",
      "photoUrl": "",
      "userId": "18384825377619195869"
     },
     "user_tz": -480
    },
    "id": "_3b-ykPERCyV",
    "outputId": "075f24e4-2e76-4893-81f2-1734097b95b1"
   },
   "outputs": [
    {
     "name": "stdout",
     "output_type": "stream",
     "text": [
      "Top 5 words similar to rock\n",
      "(format: n | model 1 | model 2 )\n",
      "\n",
      "1 |rocks           | feldspar       \n",
      "2 |earned          | magnetite      \n",
      "3 |boiled          | trace          \n",
      "4 |snapper         | goethite       \n",
      "5 |governments     | carbonate      \n"
     ]
    },
    {
     "data": {
      "application/javascript": "\n            setTimeout(function() {\n                var nbb_cell_id = 54;\n                var nbb_unformatted_code = \"# Looking at the word 'rock'\\ncompare_words(word = 'rock', topn = 5, model1 = model, model2 = gswa_model)\";\n                var nbb_formatted_code = \"# Looking at the word 'rock'\\ncompare_words(word=\\\"rock\\\", topn=5, model1=model, model2=gswa_model)\";\n                var nbb_cells = Jupyter.notebook.get_cells();\n                for (var i = 0; i < nbb_cells.length; ++i) {\n                    if (nbb_cells[i].input_prompt_number == nbb_cell_id) {\n                        if (nbb_cells[i].get_text() == nbb_unformatted_code) {\n                             nbb_cells[i].set_text(nbb_formatted_code);\n                        }\n                        break;\n                    }\n                }\n            }, 500);\n            ",
      "text/plain": [
       "<IPython.core.display.Javascript object>"
      ]
     },
     "metadata": {},
     "output_type": "display_data"
    }
   ],
   "source": [
    "# Looking at the word 'rock'\n",
    "compare_words(word = 'rock', topn = 5, model1 = model, model2 = gswa_model)"
   ]
  },
  {
   "cell_type": "markdown",
   "metadata": {
    "colab_type": "text",
    "id": "nUFDEGVK1pMd"
   },
   "source": [
    "### Visualising the domain-specific word vectors in 2D space"
   ]
  },
  {
   "cell_type": "code",
   "execution_count": 55,
   "metadata": {
    "colab": {},
    "colab_type": "code",
    "id": "rhE0JjYr1pII"
   },
   "outputs": [
    {
     "data": {
      "application/javascript": "\n            setTimeout(function() {\n                var nbb_cell_id = 55;\n                var nbb_unformatted_code = \"def display_closestwords_tsnescatterplot(model, word):\\n    arr = np.empty((0,50), dtype='f')\\n    word_labels = [word]\\n\\n    # get close words\\n    close_words = model.similar_by_word(word)\\n    \\n    # add the vector for each of the closest words to the array\\n    arr = np.append(arr, np.array([model[word]]), axis=0)\\n    for wrd_score in close_words:\\n        wrd_vector = model[wrd_score[0]]\\n        word_labels.append(wrd_score[0])\\n        arr = np.append(arr, np.array([wrd_vector]), axis=0)\\n        \\n    # find tsne coords for 2 dimensions\\n    tsne = TSNE(n_components=2, random_state=0, perplexity=30 if len(arr) > 30 else len(arr)-1)\\n    np.set_printoptions(suppress=True)\\n    Y = tsne.fit_transform(arr)\\n\\n    x_coords = Y[:, 0]\\n    y_coords = Y[:, 1]\\n    # display scatter plot\\n    plt.scatter(x_coords, y_coords)\\n\\n    for label, x, y in zip(word_labels, x_coords, y_coords):\\n        plt.annotate(label, xy=(x, y), xytext=(0, 0), textcoords='offset points')\\n    plt.xlim(x_coords.min()+0.00005, x_coords.max()+0.00005)\\n    plt.ylim(y_coords.min()+0.00005, y_coords.max()+0.00005)\\n    plt.title(f'Words closest to: {word}')\\n    plt.show()\";\n                var nbb_formatted_code = \"def display_closestwords_tsnescatterplot(model, word):\\n    arr = np.empty((0, 50), dtype=\\\"f\\\")\\n    word_labels = [word]\\n\\n    # get close words\\n    close_words = model.similar_by_word(word)\\n\\n    # add the vector for each of the closest words to the array\\n    arr = np.append(arr, np.array([model[word]]), axis=0)\\n    for wrd_score in close_words:\\n        wrd_vector = model[wrd_score[0]]\\n        word_labels.append(wrd_score[0])\\n        arr = np.append(arr, np.array([wrd_vector]), axis=0)\\n\\n    # find tsne coords for 2 dimensions\\n    tsne = TSNE(\\n        n_components=2, random_state=0, perplexity=30 if len(arr) > 30 else len(arr) - 1\\n    )\\n    np.set_printoptions(suppress=True)\\n    Y = tsne.fit_transform(arr)\\n\\n    x_coords = Y[:, 0]\\n    y_coords = Y[:, 1]\\n    # display scatter plot\\n    plt.scatter(x_coords, y_coords)\\n\\n    for label, x, y in zip(word_labels, x_coords, y_coords):\\n        plt.annotate(label, xy=(x, y), xytext=(0, 0), textcoords=\\\"offset points\\\")\\n    plt.xlim(x_coords.min() + 0.00005, x_coords.max() + 0.00005)\\n    plt.ylim(y_coords.min() + 0.00005, y_coords.max() + 0.00005)\\n    plt.title(f\\\"Words closest to: {word}\\\")\\n    plt.show()\";\n                var nbb_cells = Jupyter.notebook.get_cells();\n                for (var i = 0; i < nbb_cells.length; ++i) {\n                    if (nbb_cells[i].input_prompt_number == nbb_cell_id) {\n                        if (nbb_cells[i].get_text() == nbb_unformatted_code) {\n                             nbb_cells[i].set_text(nbb_formatted_code);\n                        }\n                        break;\n                    }\n                }\n            }, 500);\n            ",
      "text/plain": [
       "<IPython.core.display.Javascript object>"
      ]
     },
     "metadata": {},
     "output_type": "display_data"
    }
   ],
   "source": [
    "def display_closestwords_tsnescatterplot(model, word):\n",
    "    arr = np.empty((0,50), dtype='f')\n",
    "    word_labels = [word]\n",
    "\n",
    "    # get close words\n",
    "    close_words = model.similar_by_word(word)\n",
    "    \n",
    "    # add the vector for each of the closest words to the array\n",
    "    arr = np.append(arr, np.array([model[word]]), axis=0)\n",
    "    for wrd_score in close_words:\n",
    "        wrd_vector = model[wrd_score[0]]\n",
    "        word_labels.append(wrd_score[0])\n",
    "        arr = np.append(arr, np.array([wrd_vector]), axis=0)\n",
    "        \n",
    "    # find tsne coords for 2 dimensions\n",
    "    tsne = TSNE(n_components=2, random_state=0, perplexity=30 if len(arr) > 30 else len(arr)-1)\n",
    "    np.set_printoptions(suppress=True)\n",
    "    Y = tsne.fit_transform(arr)\n",
    "\n",
    "    x_coords = Y[:, 0]\n",
    "    y_coords = Y[:, 1]\n",
    "    # display scatter plot\n",
    "    plt.scatter(x_coords, y_coords)\n",
    "\n",
    "    for label, x, y in zip(word_labels, x_coords, y_coords):\n",
    "        plt.annotate(label, xy=(x, y), xytext=(0, 0), textcoords='offset points')\n",
    "    plt.xlim(x_coords.min()+0.00005, x_coords.max()+0.00005)\n",
    "    plt.ylim(y_coords.min()+0.00005, y_coords.max()+0.00005)\n",
    "    plt.title(f'Words closest to: {word}')\n",
    "    plt.show()"
   ]
  },
  {
   "cell_type": "code",
   "execution_count": 56,
   "metadata": {
    "colab": {
     "base_uri": "https://localhost:8080/",
     "height": 617
    },
    "colab_type": "code",
    "executionInfo": {
     "elapsed": 1472,
     "status": "ok",
     "timestamp": 1585118947324,
     "user": {
      "displayName": "Tyler Bikaun",
      "photoUrl": "",
      "userId": "18384825377619195869"
     },
     "user_tz": -480
    },
    "id": "qnoeIGsI1pGC",
    "outputId": "b1d2125a-20b0-4bbe-b25b-678e820ec8a0"
   },
   "outputs": [
    {
     "name": "stderr",
     "output_type": "stream",
     "text": [
      "c:\\Users\\Tyler\\AppData\\Local\\Programs\\Python\\Python38\\lib\\site-packages\\sklearn\\manifold\\_t_sne.py:800: FutureWarning: The default initialization in TSNE will change from 'random' to 'pca' in 1.2.\n",
      "  warnings.warn(\n",
      "c:\\Users\\Tyler\\AppData\\Local\\Programs\\Python\\Python38\\lib\\site-packages\\sklearn\\manifold\\_t_sne.py:810: FutureWarning: The default learning rate in TSNE will change from 200.0 to 'auto' in 1.2.\n",
      "  warnings.warn(\n"
     ]
    },
    {
     "data": {
      "image/png": "[encoded data removed]",
      "text/plain": [
       "<Figure size 864x432 with 1 Axes>"
      ]
     },
     "metadata": {
      "needs_background": "light"
     },
     "output_type": "display_data"
    },
    {
     "data": {
      "application/javascript": "\n            setTimeout(function() {\n                var nbb_cell_id = 56;\n                var nbb_unformatted_code = \"display_closestwords_tsnescatterplot(model = gswa_model.wv, word = \\\"gold\\\")\";\n                var nbb_formatted_code = \"display_closestwords_tsnescatterplot(model=gswa_model.wv, word=\\\"gold\\\")\";\n                var nbb_cells = Jupyter.notebook.get_cells();\n                for (var i = 0; i < nbb_cells.length; ++i) {\n                    if (nbb_cells[i].input_prompt_number == nbb_cell_id) {\n                        if (nbb_cells[i].get_text() == nbb_unformatted_code) {\n                             nbb_cells[i].set_text(nbb_formatted_code);\n                        }\n                        break;\n                    }\n                }\n            }, 500);\n            ",
      "text/plain": [
       "<IPython.core.display.Javascript object>"
      ]
     },
     "metadata": {},
     "output_type": "display_data"
    }
   ],
   "source": [
    "display_closestwords_tsnescatterplot(model = gswa_model.wv, word = \"gold\")"
   ]
  },
  {
   "cell_type": "markdown",
   "metadata": {
    "colab_type": "text",
    "id": "Pzvw14B8TL7A"
   },
   "source": [
    "### Visualising all of the words in the domain-specific corpus vocabulary"
   ]
  },
  {
   "cell_type": "code",
   "execution_count": 57,
   "metadata": {
    "colab": {
     "base_uri": "https://localhost:8080/",
     "height": 68
    },
    "colab_type": "code",
    "executionInfo": {
     "elapsed": 995,
     "status": "ok",
     "timestamp": 1585118951914,
     "user": {
      "displayName": "Tyler Bikaun",
      "photoUrl": "",
      "userId": "18384825377619195869"
     },
     "user_tz": -480
    },
    "id": "NiouXHvb1pEB",
    "outputId": "6831cc9a-22c5-474f-8c9d-127582d72f83"
   },
   "outputs": [
    {
     "data": {
      "application/javascript": "\n            setTimeout(function() {\n                var nbb_cell_id = 57;\n                var nbb_unformatted_code = \"# Set-up t-SNE model for 2 dimensional reduction\\ntsne = TSNE(n_components=2)\";\n                var nbb_formatted_code = \"# Set-up t-SNE model for 2 dimensional reduction\\ntsne = TSNE(n_components=2)\";\n                var nbb_cells = Jupyter.notebook.get_cells();\n                for (var i = 0; i < nbb_cells.length; ++i) {\n                    if (nbb_cells[i].input_prompt_number == nbb_cell_id) {\n                        if (nbb_cells[i].get_text() == nbb_unformatted_code) {\n                             nbb_cells[i].set_text(nbb_formatted_code);\n                        }\n                        break;\n                    }\n                }\n            }, 500);\n            ",
      "text/plain": [
       "<IPython.core.display.Javascript object>"
      ]
     },
     "metadata": {},
     "output_type": "display_data"
    }
   ],
   "source": [
    "# Set-up t-SNE model for 2 dimensional reduction\n",
    "tsne = TSNE(n_components=2)"
   ]
  },
  {
   "cell_type": "code",
   "execution_count": 58,
   "metadata": {},
   "outputs": [
    {
     "name": "stdout",
     "output_type": "stream",
     "text": [
      "Shape of model before t-SNE: (118241, 50)\n"
     ]
    },
    {
     "data": {
      "application/javascript": "\n            setTimeout(function() {\n                var nbb_cell_id = 58;\n                var nbb_unformatted_code = \"X = gswa_model.wv[gswa_model.wv.key_to_index]\\n# Shape of our model before t-SNE\\nprint(f'Shape of model before t-SNE: {X.shape}')\";\n                var nbb_formatted_code = \"X = gswa_model.wv[gswa_model.wv.key_to_index]\\n# Shape of our model before t-SNE\\nprint(f\\\"Shape of model before t-SNE: {X.shape}\\\")\";\n                var nbb_cells = Jupyter.notebook.get_cells();\n                for (var i = 0; i < nbb_cells.length; ++i) {\n                    if (nbb_cells[i].input_prompt_number == nbb_cell_id) {\n                        if (nbb_cells[i].get_text() == nbb_unformatted_code) {\n                             nbb_cells[i].set_text(nbb_formatted_code);\n                        }\n                        break;\n                    }\n                }\n            }, 500);\n            ",
      "text/plain": [
       "<IPython.core.display.Javascript object>"
      ]
     },
     "metadata": {},
     "output_type": "display_data"
    }
   ],
   "source": [
    "X = gswa_model.wv[gswa_model.wv.key_to_index]\n",
    "# Shape of our model before t-SNE\n",
    "print(f'Shape of model before t-SNE: {X.shape}')"
   ]
  },
  {
   "cell_type": "markdown",
   "metadata": {},
   "source": [
    "Here we'll fit a t-SNE model to our data. However, as our corpus is quite large, we'll first subset it to help with comptuation time."
   ]
  },
  {
   "cell_type": "code",
   "execution_count": 59,
   "metadata": {},
   "outputs": [
    {
     "data": {
      "application/javascript": "\n            setTimeout(function() {\n                var nbb_cell_id = 59;\n                var nbb_unformatted_code = \"# Number of points to model\\npoints = 2500\";\n                var nbb_formatted_code = \"# Number of points to model\\npoints = 2500\";\n                var nbb_cells = Jupyter.notebook.get_cells();\n                for (var i = 0; i < nbb_cells.length; ++i) {\n                    if (nbb_cells[i].input_prompt_number == nbb_cell_id) {\n                        if (nbb_cells[i].get_text() == nbb_unformatted_code) {\n                             nbb_cells[i].set_text(nbb_formatted_code);\n                        }\n                        break;\n                    }\n                }\n            }, 500);\n            ",
      "text/plain": [
       "<IPython.core.display.Javascript object>"
      ]
     },
     "metadata": {},
     "output_type": "display_data"
    }
   ],
   "source": [
    "# Number of points to model\n",
    "points = 2500"
   ]
  },
  {
   "cell_type": "code",
   "execution_count": 60,
   "metadata": {
    "colab": {
     "base_uri": "https://localhost:8080/",
     "height": 597
    },
    "colab_type": "code",
    "executionInfo": {
     "elapsed": 341654,
     "status": "ok",
     "timestamp": 1585121616330,
     "user": {
      "displayName": "Tyler Bikaun",
      "photoUrl": "",
      "userId": "18384825377619195869"
     },
     "user_tz": -480
    },
    "id": "tmnytvul10Xf",
    "outputId": "e6fe0879-b67b-4e98-b9dc-e5cd8a49078e"
   },
   "outputs": [
    {
     "name": "stderr",
     "output_type": "stream",
     "text": [
      "c:\\Users\\Tyler\\AppData\\Local\\Programs\\Python\\Python38\\lib\\site-packages\\sklearn\\manifold\\_t_sne.py:800: FutureWarning: The default initialization in TSNE will change from 'random' to 'pca' in 1.2.\n",
      "  warnings.warn(\n",
      "c:\\Users\\Tyler\\AppData\\Local\\Programs\\Python\\Python38\\lib\\site-packages\\sklearn\\manifold\\_t_sne.py:810: FutureWarning: The default learning rate in TSNE will change from 200.0 to 'auto' in 1.2.\n",
      "  warnings.warn(\n"
     ]
    },
    {
     "data": {
      "application/javascript": "\n            setTimeout(function() {\n                var nbb_cell_id = 60;\n                var nbb_unformatted_code = \"# Fitting subset of data to t-SNE\\nX_limited = X[:points]\\nX_tsne = tsne.fit_transform(X_limited)\\n\\n# Uncomment line below to fit entire model to t-SNE\\n# X_tsne = tsne.fit_transform(X)\";\n                var nbb_formatted_code = \"# Fitting subset of data to t-SNE\\nX_limited = X[:points]\\nX_tsne = tsne.fit_transform(X_limited)\\n\\n# Uncomment line below to fit entire model to t-SNE\\n# X_tsne = tsne.fit_transform(X)\";\n                var nbb_cells = Jupyter.notebook.get_cells();\n                for (var i = 0; i < nbb_cells.length; ++i) {\n                    if (nbb_cells[i].input_prompt_number == nbb_cell_id) {\n                        if (nbb_cells[i].get_text() == nbb_unformatted_code) {\n                             nbb_cells[i].set_text(nbb_formatted_code);\n                        }\n                        break;\n                    }\n                }\n            }, 500);\n            ",
      "text/plain": [
       "<IPython.core.display.Javascript object>"
      ]
     },
     "metadata": {},
     "output_type": "display_data"
    }
   ],
   "source": [
    "# Fitting subset of data to t-SNE\n",
    "X_limited = X[:points]\n",
    "X_tsne = tsne.fit_transform(X_limited)\n",
    "\n",
    "# Uncomment line below to fit entire model to t-SNE\n",
    "# X_tsne = tsne.fit_transform(X)"
   ]
  },
  {
   "cell_type": "code",
   "execution_count": 61,
   "metadata": {},
   "outputs": [
    {
     "data": {
      "image/png": "[encoded data removed]",
      "text/plain": [
       "<Figure size 720x720 with 1 Axes>"
      ]
     },
     "metadata": {
      "needs_background": "light"
     },
     "output_type": "display_data"
    },
    {
     "data": {
      "application/javascript": "\n            setTimeout(function() {\n                var nbb_cell_id = 61;\n                var nbb_unformatted_code = \"# Plot dimensionality reduced word scatterplot\\nplt.rcParams['figure.figsize'] = [10, 10]\\nplt.scatter(X_tsne[:, 0], X_tsne[:, 1])\\nplt.show()\";\n                var nbb_formatted_code = \"# Plot dimensionality reduced word scatterplot\\nplt.rcParams[\\\"figure.figsize\\\"] = [10, 10]\\nplt.scatter(X_tsne[:, 0], X_tsne[:, 1])\\nplt.show()\";\n                var nbb_cells = Jupyter.notebook.get_cells();\n                for (var i = 0; i < nbb_cells.length; ++i) {\n                    if (nbb_cells[i].input_prompt_number == nbb_cell_id) {\n                        if (nbb_cells[i].get_text() == nbb_unformatted_code) {\n                             nbb_cells[i].set_text(nbb_formatted_code);\n                        }\n                        break;\n                    }\n                }\n            }, 500);\n            ",
      "text/plain": [
       "<IPython.core.display.Javascript object>"
      ]
     },
     "metadata": {},
     "output_type": "display_data"
    }
   ],
   "source": [
    "# Plot dimensionality reduced word scatterplot\n",
    "plt.rcParams['figure.figsize'] = [10, 10]\n",
    "plt.scatter(X_tsne[:, 0], X_tsne[:, 1])\n",
    "plt.show()"
   ]
  },
  {
   "cell_type": "markdown",
   "metadata": {
    "colab_type": "text",
    "id": "pfCESffv10TD"
   },
   "source": [
    "### Interactive Visualisation\n"
   ]
  },
  {
   "cell_type": "markdown",
   "metadata": {},
   "source": [
    "Refer to https://www.datascience.com/resources/notebooks/word-embeddings-in-python, and also for ideas of incoporating POS and bigrams into word2vec training."
   ]
  },
  {
   "cell_type": "code",
   "execution_count": 62,
   "metadata": {
    "colab": {},
    "colab_type": "code",
    "id": "viZhA7RO10N8"
   },
   "outputs": [
    {
     "data": {
      "application/javascript": "\n            setTimeout(function() {\n                var nbb_cell_id = 62;\n                var nbb_unformatted_code = \"def interactive_tsne(text_labels, tsne_array):\\n    '''makes an interactive scatter plot with text labels for each point'''\\n\\n    # Define a dataframe to be used by bokeh context\\n    bokeh_df = pd.DataFrame(tsne_array, text_labels, columns=['x','y'])\\n    bokeh_df['text_labels'] = bokeh_df.index\\n\\n    # interactive controls to include to the plot\\n    TOOLS=\\\"hover, zoom_in, zoom_out, box_zoom, undo, redo, reset, box_select\\\"\\n\\n    p = figure(tools=TOOLS, plot_width=700, plot_height=700)\\n\\n    # define data source for the plot\\n    source = ColumnDataSource(bokeh_df)\\n\\n    # scatter plot\\n    p.scatter('x', 'y', source=source, fill_alpha=0.6,\\n              fill_color=\\\"#8724B5\\\",\\n              line_color=None)\\n\\n    # text labels\\n    labels = LabelSet(x='x', y='y', text='text_labels', y_offset=8,\\n                      text_font_size=\\\"8pt\\\", text_color=\\\"#555555\\\",\\n                      source=source, text_align='center')\\n\\n    p.add_layout(labels)\\n\\n    # show plot inline\\n    output_notebook()\\n    show(p)\";\n                var nbb_formatted_code = \"def interactive_tsne(text_labels, tsne_array):\\n    \\\"\\\"\\\"makes an interactive scatter plot with text labels for each point\\\"\\\"\\\"\\n\\n    # Define a dataframe to be used by bokeh context\\n    bokeh_df = pd.DataFrame(tsne_array, text_labels, columns=[\\\"x\\\", \\\"y\\\"])\\n    bokeh_df[\\\"text_labels\\\"] = bokeh_df.index\\n\\n    # interactive controls to include to the plot\\n    TOOLS = \\\"hover, zoom_in, zoom_out, box_zoom, undo, redo, reset, box_select\\\"\\n\\n    p = figure(tools=TOOLS, plot_width=700, plot_height=700)\\n\\n    # define data source for the plot\\n    source = ColumnDataSource(bokeh_df)\\n\\n    # scatter plot\\n    p.scatter(\\n        \\\"x\\\", \\\"y\\\", source=source, fill_alpha=0.6, fill_color=\\\"#8724B5\\\", line_color=None\\n    )\\n\\n    # text labels\\n    labels = LabelSet(\\n        x=\\\"x\\\",\\n        y=\\\"y\\\",\\n        text=\\\"text_labels\\\",\\n        y_offset=8,\\n        text_font_size=\\\"8pt\\\",\\n        text_color=\\\"#555555\\\",\\n        source=source,\\n        text_align=\\\"center\\\",\\n    )\\n\\n    p.add_layout(labels)\\n\\n    # show plot inline\\n    output_notebook()\\n    show(p)\";\n                var nbb_cells = Jupyter.notebook.get_cells();\n                for (var i = 0; i < nbb_cells.length; ++i) {\n                    if (nbb_cells[i].input_prompt_number == nbb_cell_id) {\n                        if (nbb_cells[i].get_text() == nbb_unformatted_code) {\n                             nbb_cells[i].set_text(nbb_formatted_code);\n                        }\n                        break;\n                    }\n                }\n            }, 500);\n            ",
      "text/plain": [
       "<IPython.core.display.Javascript object>"
      ]
     },
     "metadata": {},
     "output_type": "display_data"
    }
   ],
   "source": [
    "def interactive_tsne(text_labels, tsne_array):\n",
    "    '''makes an interactive scatter plot with text labels for each point'''\n",
    "\n",
    "    # Define a dataframe to be used by bokeh context\n",
    "    bokeh_df = pd.DataFrame(tsne_array, text_labels, columns=['x','y'])\n",
    "    bokeh_df['text_labels'] = bokeh_df.index\n",
    "\n",
    "    # interactive controls to include to the plot\n",
    "    TOOLS=\"hover, zoom_in, zoom_out, box_zoom, undo, redo, reset, box_select\"\n",
    "\n",
    "    p = figure(tools=TOOLS, plot_width=700, plot_height=700)\n",
    "\n",
    "    # define data source for the plot\n",
    "    source = ColumnDataSource(bokeh_df)\n",
    "\n",
    "    # scatter plot\n",
    "    p.scatter('x', 'y', source=source, fill_alpha=0.6,\n",
    "              fill_color=\"#8724B5\",\n",
    "              line_color=None)\n",
    "\n",
    "    # text labels\n",
    "    labels = LabelSet(x='x', y='y', text='text_labels', y_offset=8,\n",
    "                      text_font_size=\"8pt\", text_color=\"#555555\",\n",
    "                      source=source, text_align='center')\n",
    "\n",
    "    p.add_layout(labels)\n",
    "\n",
    "    # show plot inline\n",
    "    output_notebook()\n",
    "    show(p)"
   ]
  },
  {
   "cell_type": "markdown",
   "metadata": {},
   "source": [
    "Launch interactive visualisation of word embeddings"
   ]
  },
  {
   "cell_type": "code",
   "execution_count": 63,
   "metadata": {
    "colab": {},
    "colab_type": "code",
    "id": "CRvKJ6gK10MD"
   },
   "outputs": [
    {
     "data": {
      "text/html": [
       "<div class=\"bk-root\">\n",
       "        <a href=\"https://bokeh.org\" target=\"_blank\" class=\"bk-logo bk-logo-small bk-logo-notebook\"></a>\n",
       "        <span id=\"1047\">Loading BokehJS ...</span>\n",
       "    </div>\n"
      ]
     },
     "metadata": {},
     "output_type": "display_data"
    },
    {
     "data": {
      "application/javascript": "(function(root) {\n  function now() {\n    return new Date();\n  }\n\n  const force = true;\n\n  if (typeof root._bokeh_onload_callbacks === \"undefined\" || force === true) {\n    root._bokeh_onload_callbacks = [];\n    root._bokeh_is_loading = undefined;\n  }\n\nconst JS_MIME_TYPE = 'application/javascript';\n  const HTML_MIME_TYPE = 'text/html';\n  const EXEC_MIME_TYPE = 'application/vnd.bokehjs_exec.v0+json';\n  const CLASS_NAME = 'output_bokeh rendered_html';\n\n  /**\n   * Render data to the DOM node\n   */\n  function render(props, node) {\n    const script = document.createElement(\"script\");\n    node.appendChild(script);\n  }\n\n  /**\n   * Handle when an output is cleared or removed\n   */\n  function handleClearOutput(event, handle) {\n    const cell = handle.cell;\n\n    const id = cell.output_area._bokeh_element_id;\n    const server_id = cell.output_area._bokeh_server_id;\n    // Clean up Bokeh references\n    if (id != null && id in Bokeh.index) {\n      Bokeh.index[id].model.document.clear();\n      delete Bokeh.index[id];\n    }\n\n    if (server_id !== undefined) {\n      // Clean up Bokeh references\n      const cmd_clean = \"from bokeh.io.state import curstate; print(curstate().uuid_to_server['\" + server_id + \"'].get_sessions()[0].document.roots[0]._id)\";\n      cell.notebook.kernel.execute(cmd_clean, {\n        iopub: {\n          output: function(msg) {\n            const id = msg.content.text.trim();\n            if (id in Bokeh.index) {\n              Bokeh.index[id].model.document.clear();\n              delete Bokeh.index[id];\n            }\n          }\n        }\n      });\n      // Destroy server and session\n      const cmd_destroy = \"import bokeh.io.notebook as ion; ion.destroy_server('\" + server_id + \"')\";\n      cell.notebook.kernel.execute(cmd_destroy);\n    }\n  }\n\n  /**\n   * Handle when a new output is added\n   */\n  function handleAddOutput(event, handle) {\n    const output_area = handle.output_area;\n    const output = handle.output;\n\n    // limit handleAddOutput to display_data with EXEC_MIME_TYPE content only\n    if ((output.output_type != \"display_data\") || (!Object.prototype.hasOwnProperty.call(output.data, EXEC_MIME_TYPE))) {\n      return\n    }\n\n    const toinsert = output_area.element.find(\".\" + CLASS_NAME.split(' ')[0]);\n\n    if (output.metadata[EXEC_MIME_TYPE][\"id\"] !== undefined) {\n      toinsert[toinsert.length - 1].firstChild.textContent = output.data[JS_MIME_TYPE];\n      // store reference to embed id on output_area\n      output_area._bokeh_element_id = output.metadata[EXEC_MIME_TYPE][\"id\"];\n    }\n    if (output.metadata[EXEC_MIME_TYPE][\"server_id\"] !== undefined) {\n      const bk_div = document.createElement(\"div\");\n      bk_div.innerHTML = output.data[HTML_MIME_TYPE];\n      const script_attrs = bk_div.children[0].attributes;\n      for (let i = 0; i < script_attrs.length; i++) {\n        toinsert[toinsert.length - 1].firstChild.setAttribute(script_attrs[i].name, script_attrs[i].value);\n        toinsert[toinsert.length - 1].firstChild.textContent = bk_div.children[0].textContent\n      }\n      // store reference to server id on output_area\n      output_area._bokeh_server_id = output.metadata[EXEC_MIME_TYPE][\"server_id\"];\n    }\n  }\n\n  function register_renderer(events, OutputArea) {\n\n    function append_mime(data, metadata, element) {\n      // create a DOM node to render to\n      const toinsert = this.create_output_subarea(\n        metadata,\n        CLASS_NAME,\n        EXEC_MIME_TYPE\n      );\n      this.keyboard_manager.register_events(toinsert);\n      // Render to node\n      const props = {data: data, metadata: metadata[EXEC_MIME_TYPE]};\n      render(props, toinsert[toinsert.length - 1]);\n      element.append(toinsert);\n      return toinsert\n    }\n\n    /* Handle when an output is cleared or removed */\n    events.on('clear_output.CodeCell', handleClearOutput);\n    events.on('delete.Cell', handleClearOutput);\n\n    /* Handle when a new output is added */\n    events.on('output_added.OutputArea', handleAddOutput);\n\n    /**\n     * Register the mime type and append_mime function with output_area\n     */\n    OutputArea.prototype.register_mime_type(EXEC_MIME_TYPE, append_mime, {\n      /* Is output safe? */\n      safe: true,\n      /* Index of renderer in `output_area.display_order` */\n      index: 0\n    });\n  }\n\n  // register the mime type if in Jupyter Notebook environment and previously unregistered\n  if (root.Jupyter !== undefined) {\n    const events = require('base/js/events');\n    const OutputArea = require('notebook/js/outputarea').OutputArea;\n\n    if (OutputArea.prototype.mime_types().indexOf(EXEC_MIME_TYPE) == -1) {\n      register_renderer(events, OutputArea);\n    }\n  }\n  if (typeof (root._bokeh_timeout) === \"undefined\" || force === true) {\n    root._bokeh_timeout = Date.now() + 5000;\n    root._bokeh_failed_load = false;\n  }\n\n  const NB_LOAD_WARNING = {'data': {'text/html':\n     \"<div style='background-color: #fdd'>\\n\"+\n     \"<p>\\n\"+\n     \"BokehJS does not appear to have successfully loaded. If loading BokehJS from CDN, this \\n\"+\n     \"may be due to a slow or bad network connection. Possible fixes:\\n\"+\n     \"</p>\\n\"+\n     \"<ul>\\n\"+\n     \"<li>re-rerun `output_notebook()` to attempt to load from CDN again, or</li>\\n\"+\n     \"<li>use INLINE resources instead, as so:</li>\\n\"+\n     \"</ul>\\n\"+\n     \"<code>\\n\"+\n     \"from bokeh.resources import INLINE\\n\"+\n     \"output_notebook(resources=INLINE)\\n\"+\n     \"</code>\\n\"+\n     \"</div>\"}};\n\n  function display_loaded() {\n    const el = document.getElementById(\"1047\");\n    if (el != null) {\n      el.textContent = \"BokehJS is loading...\";\n    }\n    if (root.Bokeh !== undefined) {\n      if (el != null) {\n        el.textContent = \"BokehJS \" + root.Bokeh.version + \" successfully loaded.\";\n      }\n    } else if (Date.now() < root._bokeh_timeout) {\n      setTimeout(display_loaded, 100)\n    }\n  }\n\n  function run_callbacks() {\n    try {\n      root._bokeh_onload_callbacks.forEach(function(callback) {\n        if (callback != null)\n          callback();\n      });\n    } finally {\n      delete root._bokeh_onload_callbacks\n    }\n    console.debug(\"Bokeh: all callbacks have finished\");\n  }\n\n  function load_libs(css_urls, js_urls, callback) {\n    if (css_urls == null) css_urls = [];\n    if (js_urls == null) js_urls = [];\n\n    root._bokeh_onload_callbacks.push(callback);\n    if (root._bokeh_is_loading > 0) {\n      console.debug(\"Bokeh: BokehJS is being loaded, scheduling callback at\", now());\n      return null;\n    }\n    if (js_urls == null || js_urls.length === 0) {\n      run_callbacks();\n      return null;\n    }\n    console.debug(\"Bokeh: BokehJS not loaded, scheduling load and callback at\", now());\n    root._bokeh_is_loading = css_urls.length + js_urls.length;\n\n    function on_load() {\n      root._bokeh_is_loading--;\n      if (root._bokeh_is_loading === 0) {\n        console.debug(\"Bokeh: all BokehJS libraries/stylesheets loaded\");\n        run_callbacks()\n      }\n    }\n\n    function on_error(url) {\n      console.error(\"failed to load \" + url);\n    }\n\n    for (let i = 0; i < css_urls.length; i++) {\n      const url = css_urls[i];\n      const element = document.createElement(\"link\");\n      element.onload = on_load;\n      element.onerror = on_error.bind(null, url);\n      element.rel = \"stylesheet\";\n      element.type = \"text/css\";\n      element.href = url;\n      console.debug(\"Bokeh: injecting link tag for BokehJS stylesheet: \", url);\n      document.body.appendChild(element);\n    }\n\n    for (let i = 0; i < js_urls.length; i++) {\n      const url = js_urls[i];\n      const element = document.createElement('script');\n      element.onload = on_load;\n      element.onerror = on_error.bind(null, url);\n      element.async = false;\n      element.src = url;\n      console.debug(\"Bokeh: injecting script tag for BokehJS library: \", url);\n      document.head.appendChild(element);\n    }\n  };\n\n  function inject_raw_css(css) {\n    const element = document.createElement(\"style\");\n    element.appendChild(document.createTextNode(css));\n    document.body.appendChild(element);\n  }\n\n  const js_urls = [\"https://cdn.bokeh.org/bokeh/release/bokeh-2.4.3.min.js\", \"https://cdn.bokeh.org/bokeh/release/bokeh-gl-2.4.3.min.js\", \"https://cdn.bokeh.org/bokeh/release/bokeh-widgets-2.4.3.min.js\", \"https://cdn.bokeh.org/bokeh/release/bokeh-tables-2.4.3.min.js\", \"https://cdn.bokeh.org/bokeh/release/bokeh-mathjax-2.4.3.min.js\"];\n  const css_urls = [];\n\n  const inline_js = [    function(Bokeh) {\n      Bokeh.set_log_level(\"info\");\n    },\nfunction(Bokeh) {\n    }\n  ];\n\n  function run_inline_js() {\n    if (root.Bokeh !== undefined || force === true) {\n          for (let i = 0; i < inline_js.length; i++) {\n      inline_js[i].call(root, root.Bokeh);\n    }\nif (force === true) {\n        display_loaded();\n      }} else if (Date.now() < root._bokeh_timeout) {\n      setTimeout(run_inline_js, 100);\n    } else if (!root._bokeh_failed_load) {\n      console.log(\"Bokeh: BokehJS failed to load within specified timeout.\");\n      root._bokeh_failed_load = true;\n    } else if (force !== true) {\n      const cell = $(document.getElementById(\"1047\")).parents('.cell').data().cell;\n      cell.output_area.append_execute_result(NB_LOAD_WARNING)\n    }\n  }\n\n  if (root._bokeh_is_loading === 0) {\n    console.debug(\"Bokeh: BokehJS loaded, going straight to plotting\");\n    run_inline_js();\n  } else {\n    load_libs(css_urls, js_urls, function() {\n      console.debug(\"Bokeh: BokehJS plotting callback run at\", now());\n      run_inline_js();\n    });\n  }\n}(window));",
      "application/vnd.bokehjs_load.v0+json": ""
     },
     "metadata": {},
     "output_type": "display_data"
    },
    {
     "data": {
      "text/html": [
       "\n",
       "  <div class=\"bk-root\" id=\"89cd3c6e-2634-4d03-817f-38d2df319b32\" data-root-id=\"1002\"></div>\n"
      ]
     },
     "metadata": {},
     "output_type": "display_data"
    },
    {
     "data": {
      "application/javascript": "(function(root) {\n  function embed_document(root) {\n  const docs_json = {\"087293f5-d0db-41d9-8311-dd243f8f1f51\":{\"defs\":[],\"roots\":{\"references\":[{\"attributes\":{\"below\":[{\"id\":\"1011\"}],\"center\":[{\"id\":\"1014\"},{\"id\":\"1018\"},{\"id\":\"1045\"}],\"height\":700,\"left\":[{\"id\":\"1015\"}],\"renderers\":[{\"id\":\"1043\"}],\"title\":{\"id\":\"1048\"},\"toolbar\":{\"id\":\"1029\"},\"width\":700,\"x_range\":{\"id\":\"1003\"},\"x_scale\":{\"id\":\"1007\"},\"y_range\":{\"id\":\"1005\"},\"y_scale\":{\"id\":\"1009\"}},\"id\":\"1002\",\"subtype\":\"Figure\",\"type\":\"Plot\"},{\"attributes\":{},\"id\":\"1005\",\"type\":\"DataRange1d\"},{\"attributes\":{\"coordinates\":null,\"group\":null},\"id\":\"1048\",\"type\":\"Title\"},{\"attributes\":{},\"id\":\"1051\",\"type\":\"BasicTickFormatter\"},{\"attributes\":{\"source\":{\"id\":\"1038\"}},\"id\":\"1044\",\"type\":\"CDSView\"},{\"attributes\":{\"fill_alpha\":{\"value\":0.6},\"fill_color\":{\"value\":\"#8724B5\"},\"line_color\":{\"value\":null},\"x\":{\"field\":\"x\"},\"y\":{\"field\":\"y\"}},\"id\":\"1040\",\"type\":\"Scatter\"},{\"attributes\":{},\"id\":\"1052\",\"type\":\"AllLabels\"},{\"attributes\":{\"coordinates\":null,\"data_source\":{\"id\":\"1038\"},\"glyph\":{\"id\":\"1040\"},\"group\":null,\"hover_glyph\":null,\"muted_glyph\":{\"id\":\"1042\"},\"nonselection_glyph\":{\"id\":\"1041\"},\"view\":{\"id\":\"1044\"}},\"id\":\"1043\",\"type\":\"GlyphRenderer\"},{\"attributes\":{},\"id\":\"1054\",\"type\":\"BasicTickFormatter\"},{\"attributes\":{\"axis\":{\"id\":\"1011\"},\"coordinates\":null,\"group\":null,\"ticker\":null},\"id\":\"1014\",\"type\":\"Grid\"},{\"attributes\":{\"tools\":[{\"id\":\"1019\"},{\"id\":\"1020\"},{\"id\":\"1021\"},{\"id\":\"1022\"},{\"id\":\"1023\"},{\"id\":\"1024\"},{\"id\":\"1025\"},{\"id\":\"1026\"}]},\"id\":\"1029\",\"type\":\"Toolbar\"},{\"attributes\":{},\"id\":\"1012\",\"type\":\"BasicTicker\"},{\"attributes\":{},\"id\":\"1055\",\"type\":\"AllLabels\"},{\"attributes\":{\"coordinates\":null,\"formatter\":{\"id\":\"1054\"},\"group\":null,\"major_label_policy\":{\"id\":\"1055\"},\"ticker\":{\"id\":\"1012\"}},\"id\":\"1011\",\"type\":\"LinearAxis\"},{\"attributes\":{\"fill_alpha\":{\"value\":0.2},\"fill_color\":{\"value\":\"#8724B5\"},\"hatch_alpha\":{\"value\":0.2},\"line_alpha\":{\"value\":0.2},\"line_color\":{\"value\":null},\"x\":{\"field\":\"x\"},\"y\":{\"field\":\"y\"}},\"id\":\"1042\",\"type\":\"Scatter\"},{\"attributes\":{\"fill_alpha\":{\"value\":0.1},\"fill_color\":{\"value\":\"#8724B5\"},\"hatch_alpha\":{\"value\":0.1},\"line_alpha\":{\"value\":0.1},\"line_color\":{\"value\":null},\"x\":{\"field\":\"x\"},\"y\":{\"field\":\"y\"}},\"id\":\"1041\",\"type\":\"Scatter\"},{\"attributes\":{},\"id\":\"1023\",\"type\":\"UndoTool\"},{\"attributes\":{},\"id\":\"1003\",\"type\":\"DataRange1d\"},{\"attributes\":{},\"id\":\"1009\",\"type\":\"LinearScale\"},{\"attributes\":{\"coordinates\":null,\"formatter\":{\"id\":\"1051\"},\"group\":null,\"major_label_policy\":{\"id\":\"1052\"},\"ticker\":{\"id\":\"1016\"}},\"id\":\"1015\",\"type\":\"LinearAxis\"},{\"attributes\":{},\"id\":\"1056\",\"type\":\"UnionRenderers\"},{\"attributes\":{},\"id\":\"1016\",\"type\":\"BasicTicker\"},{\"attributes\":{\"bottom_units\":\"screen\",\"coordinates\":null,\"fill_alpha\":0.5,\"fill_color\":\"lightgrey\",\"group\":null,\"left_units\":\"screen\",\"level\":\"overlay\",\"line_alpha\":1.0,\"line_color\":\"black\",\"line_dash\":[4,4],\"line_width\":2,\"right_units\":\"screen\",\"syncable\":false,\"top_units\":\"screen\"},\"id\":\"1027\",\"type\":\"BoxAnnotation\"},{\"attributes\":{\"overlay\":{\"id\":\"1027\"}},\"id\":\"1026\",\"type\":\"BoxSelectTool\"},{\"attributes\":{\"bottom_units\":\"screen\",\"coordinates\":null,\"fill_alpha\":0.5,\"fill_color\":\"lightgrey\",\"group\":null,\"left_units\":\"screen\",\"level\":\"overlay\",\"line_alpha\":1.0,\"line_color\":\"black\",\"line_dash\":[4,4],\"line_width\":2,\"right_units\":\"screen\",\"syncable\":false,\"top_units\":\"screen\"},\"id\":\"1028\",\"type\":\"BoxAnnotation\"},{\"attributes\":{\"data\":{\"index\":[\"the\",\"and\",\"of\",\"to\",\"of_the\",\"in\",\"in_the\",\"with\",\"for\",\"by\",\"is\",\"at\",\"area\",\"as\",\"from\",\"on_the\",\"on\",\"or\",\"that\",\"this\",\"project\",\"within_the\",\"are\",\"drilling\",\"from_the\",\"figure\",\"gold\",\"to_be\",\"data\",\"project_area\",\"was\",\"mineralisation\",\"exploration\",\"has_been\",\"no\",\"during_the\",\"all\",\"have_been\",\"zone\",\"report\",\"pty_ltd\",\"results\",\"au\",\"it_is\",\"survey\",\"within\",\"sampling\",\"samples\",\"tenements\",\"western_australia\",\"the_tenement\",\"will_be\",\"were\",\"ltd\",\"some\",\"table\",\"be\",\"number_of\",\"mining\",\"resource\",\"the_north\",\"but\",\"tenement\",\"associated_with\",\"these\",\"limited\",\"up_to\",\"which\",\"coordinates_are\",\"not_surveyed\",\"are_integer\",\"warning_coordinates\",\"below\",\"poss_not\",\"integer_poss\",\"two\",\"australia\",\"over_the\",\"rocks\",\"part_of\",\"prospect\",\"holes\",\"between\",\"rock_chip\",\"annual_report\",\"the_east\",\"the_south\",\"samples_were\",\"has\",\"can_be\",\"gold_mineralisation\",\"using\",\"the_west\",\"where\",\"resources\",\"hole\",\"over\",\"due_to\",\"deposit\",\"areas\",\"rock\",\"into\",\"total_of\",\"along_the\",\"period\",\"surface\",\"both\",\"reporting_period\",\"an\",\"alteration\",\"ore\",\"group\",\"sample\",\"pit\",\"the_main\",\"km\",\"including\",\"high_grade\",\"one\",\"formation\",\"south\",\"only\",\"deposits\",\"grade\",\"surveyed_rab\",\"however\",\"metres\",\"west\",\"the_following\",\"north\",\"in_table\",\"this_report\",\"carried_out\",\"is_located\",\"of_western\",\"other\",\"appendix\",\"during\",\"have\",\"in_this\",\"mine\",\"may_be\",\"geology\",\"rc_drilling\",\"potential\",\"east\",\"further\",\"there_is\",\"of_these\",\"cloud_break\",\"region\",\"not\",\"which_is\",\"fault\",\"may\",\"the_eastern\",\"completed\",\"drill_hole\",\"joint_venture\",\"based_on\",\"greenstone_belt\",\"also\",\"in_appendix\",\"soil_sampling\",\"units\",\"area_is\",\"ultramafic\",\"work\",\"contact\",\"model\",\"program\",\"unit\",\"to_test\",\"rab_drilling\",\"significant\",\"the_southern\",\"iron_ore\",\"this_is\",\"field\",\"areas_of\",\"end_of\",\"section\",\"sequence\",\"the_presence\",\"small\",\"target\",\"mapping\",\"the_northern\",\"veins\",\"exploration_activities\",\"mafic\",\"above\",\"basalt\",\"zones\",\"project_is\",\"any\",\"core\",\"in_figure\",\"regional\",\"follow_up\",\"high\",\"interpretation\",\"anomalies\",\"was_completed\",\"quartz\",\"anomaly\",\"out\",\"well\",\"drill_holes\",\"south_of\",\"fine_grained\",\"ni\",\"belt\",\"vegetation\",\"species\",\"approximately_km\",\"time\",\"up\",\"bif\",\"there_are\",\"structure\",\"identified\",\"depth\",\"is_not\",\"the_base\",\"soil\",\"water\",\"should_be\",\"north_of\",\"site\",\"east_of\",\"holes_were\",\"geological\",\"geological_mapping\",\"shear_zone\",\"low\",\"granite\",\"ground\",\"approximately\",\"three\",\"previous_exploration\",\"material\",\"nickel\",\"plan\",\"included\",\"the_mt\",\"between_and\",\"about\",\"were_drilled\",\"strike\",\"map\",\"if\",\"through_the\",\"total\",\"major\",\"as_well\",\"than\",\"cover\",\"values\",\"sediments\",\"stratigraphy\",\"include\",\"series_of\",\"prior_to\",\"being\",\"west_of\",\"was_undertaken\",\"page\",\"line\",\"review_of\",\"range\",\"form\",\"located\",\"shear\",\"structures\",\"in_addition\",\"the_reporting\",\"portion_of\",\"system\",\"analysis\",\"mineralisation_is\",\"it_was\",\"been\",\"the_current\",\"potential_for\",\"following\",\"the_same\",\"several\",\"interpretation_of\",\"vein\",\"page_of\",\"the_majority\",\"geological_survey\",\"such_as\",\"targets\",\"report_for\",\"regional_geology\",\"their\",\"along\",\"an_area\",\"although\",\"the_first\",\"surveys\",\"as_part\",\"australia_pty\",\"most_of\",\"for_gold\",\"complex\",\"exploration_licence\",\"geology_of\",\"location_of\",\"outcrop\",\"rc\",\"which_are\",\"nl\",\"adjacent_to\",\"previous\",\"western\",\"low_grade\",\"pyrite\",\"after\",\"study\",\"most\",\"consists_of\",\"are_shown\",\"type\",\"department_of\",\"grid\",\"possible\",\"to_determine\",\"used_to\",\"dolerite\",\"ppb_au\",\"interpreted\",\"summary_of\",\"present\",\"quartz_veins\",\"list_of\",\"the_fortescue\",\"generally\",\"throughout_the\",\"ultramafic_rocks\",\"each\",\"the_central\",\"intrusion\",\"through\",\"it\",\"was_carried\",\"level\",\"summary\",\"mineralization\",\"access\",\"large\",\"locations\",\"new\",\"more\",\"test\",\"its\",\"the_lower\",\"used\",\"to_have\",\"minor\",\"banded_iron\",\"review\",\"sequence_of\",\"were_collected\",\"scale\",\"trend\",\"down_hole\",\"was_conducted\",\"drilling_was\",\"al\",\"drilled\",\"along_strike\",\"then\",\"lines\",\"around_the\",\"the_upper\",\"development\",\"year\",\"mafic_ultramafic\",\"magnetic\",\"to_date\",\"appears_to\",\"ppm\",\"with_minor\",\"collected\",\"magnetite\",\"range_of\",\"sulphides\",\"sulphide\",\"thick\",\"this_work\",\"development_of\",\"location\",\"and_diamond\",\"assay\",\"associated\",\"tenure\",\"across_the\",\"sandstone\",\"the_company\",\"data_was\",\"early\",\"near_the\",\"database\",\"at_least\",\"zones_of\",\"processing\",\"defined\",\"base_metal\",\"geochemistry\",\"wide\",\"the_proposed\",\"estimate\",\"cu\",\"rc_holes\",\"testing\",\"geology_and\",\"conducted\",\"activities\",\"local\",\"tenements_are\",\"programme\",\"work_completed\",\"with_an\",\"open_pit\",\"to_provide\",\"mm\",\"is_shown\",\"combined_annual\",\"rab\",\"weathering\",\"dominated_by\",\"the_department\",\"undertaken\",\"around\",\"are_presented\",\"the_best\",\"at_depth\",\"diamond_drilling\",\"hill\",\"et_al\",\"prospects\",\"location_and\",\"size\",\"technical_report\",\"that_are\",\"domain\",\"related_to\",\"soil_samples\",\"basin\",\"access_to\",\"assay_results\",\"results_from\",\"faults\",\"known\",\"when\",\"was_used\",\"in_order\",\"analysis_of\",\"regolith\",\"reports\",\"report_no\",\"project_annual\",\"minerals\",\"dip\",\"sites\",\"creek\",\"located_in\",\"nickel_sulphide\",\"and_minor\",\"were_completed\",\"au_ppm\",\"resource_estimate\",\"intersected\",\"lease\",\"no_significant\",\"june\",\"eastern_goldfields\",\"north_south\",\"and_then\",\"mining_lease\",\"kalgoorlie\",\"lode\",\"massive\",\"appear_to\",\"plant\",\"interpreted_to\",\"could_be\",\"ppb\",\"iron\",\"under_the\",\"intervals\",\"mt\",\"central\",\"detailed\",\"workings\",\"vicinity_of\",\"is_situated\",\"gold_deposits\",\"drilling_program\",\"recorded\",\"process\",\"these_are\",\"this_area\",\"sections\",\"are_not\",\"is_also\",\"returned\",\"less_than\",\"the_archaean\",\"used_for\",\"designed_to\",\"production\",\"was_not\",\"details_of\",\"in_some\",\"introduction\",\"lease_no\",\"sheet\",\"depth_of\",\"fmg\",\"east_west\",\"shear_zones\",\"either\",\"is_presented\",\"much_of\",\"mines\",\"aeromagnetic_data\",\"east_kimberley\",\"drill\",\"survey_was\",\"porphyry\",\"was_also\",\"coarse_grained\",\"environment\",\"december\",\"date\",\"block\",\"pits\",\"value\",\"road\",\"surface_water\",\"vein_sulphides\",\"quartz_veining\",\"weathering_depth\",\"quality\",\"foliation\",\"anomalous\",\"which_was\",\"type_hole\",\"copper\",\"rock_altn\",\"proposed\",\"parts_of\",\"hills\",\"of_interest\",\"open\",\"exploration_index\",\"cut\",\"lower\",\"yilgarn_craton\",\"th\",\"the_original\",\"and_felsic\",\"aircore_drilling\",\"the_dominant\",\"is_interpreted\",\"station\",\"mineralisation_at\",\"march\",\"various\",\"gabbro\",\"for_total\",\"off\",\"current\",\"perth\",\"management\",\"results_are\",\"northwest\",\"extent_of\",\"primary\",\"mn\",\"late\",\"wimbledon_collar_export\",\"rehabilitation\",\"gold_mineralization\",\"available\",\"mainly\",\"assessment\",\"indicated\",\"as_result\",\"surveyed_ac\",\"dome\",\"had\",\"similar\",\"included_in\",\"biotite\",\"trending\",\"chlorite\",\"information\",\"holes_for\",\"would_be\",\"did_not\",\"southern_cross\",\"exploration_work\",\"soils\",\"survey_area\",\"elements\",\"tested\",\"western_australian\",\"to_identify\",\"quartz_vein\",\"considered_to\",\"is_dominated\",\"carbonate\",\"for_au\",\"length_of\",\"distribution_of\",\"strike_length\",\"host\",\"do_not\",\"native_title\",\"additional\",\"four\",\"fig\",\"covered_by\",\"is_considered\",\"company\",\"period_ending\",\"felsic\",\"greater_than\",\"block_model\",\"ma\",\"sediment\",\"to_ensure\",\"they_are\",\"located_within\",\"for_each\",\"use_of\",\"stream_sediment\",\"parallel_to\",\"medium_grained\",\"the_year\",\"is_required\",\"laterite\",\"br_lgy\",\"potential_to\",\"method\",\"annual_technical\",\"includes\",\"shown_in\",\"fortescue_metals\",\"tenement_area\",\"blocks\",\"as_follows\",\"is_associated\",\"shallow\",\"lithologies\",\"eastern\",\"results_were\",\"under\",\"does_not\",\"details\",\"the_mount\",\"mineral\",\"value_of\",\"main\",\"mineralised\",\"image\",\"consisted_of\",\"years\",\"from_this\",\"domains\",\"january\",\"high_mg\",\"july\",\"observed\",\"north_east\",\"provided\",\"sampling_was\",\"towards_the\",\"along_with\",\"via_the\",\"ultramafic_units\",\"part\",\"used_in\",\"report_on\",\"gold_exploration\",\"grades\",\"thin\",\"felsic_volcanics\",\"northern\",\"reporting\",\"contact_between\",\"deformation\",\"operations\",\"exploration_report\",\"lodes\",\"close_to\",\"locally\",\"tippwell_collar_export\",\"sedimentary_rocks\",\"estimation\",\"overlain_by\",\"mineral_exploration\",\"are_located\",\"assays\",\"pyrrhotite\",\"to_depth\",\"cm\",\"mapping_and\",\"the_entire\",\"fe\",\"clay\",\"result_of\",\"open_file\",\"wa\",\"conditions\",\"bedrock\",\"nature_of\",\"local_geology\",\"existing\",\"density\",\"the_top\",\"volcanics\",\"represent\",\"pb\",\"while\",\"br_gy\",\"the_existing\",\"resources_limited\",\"so\",\"of_industry\",\"felsic_volcanic\",\"geological_interpretation\",\"mineral_field\",\"surveyed\",\"given\",\"made\",\"geochemical\",\"such\",\"further_work\",\"resource_estimation\",\"contains\",\"of_contents\",\"that_has\",\"similar_to\",\"altered\",\"located_on\",\"for_all\",\"for_nickel\",\"often\",\"ni_cu\",\"extensive\",\"tenement_is\",\"control\",\"in_accordance\",\"data_from\",\"the_basal\",\"for_analysis\",\"reverse_circulation\",\"were_identified\",\"massive_sulphide\",\"komatiite\",\"september\",\"features\",\"probably\",\"bore\",\"iron_formation\",\"digital_data\",\"will\",\"defined_by\",\"may_have\",\"km_north\",\"to_produce\",\"structural\",\"an_average\",\"followed_by\",\"presented_in\",\"rock_types\",\"is_present\",\"bands\",\"average\",\"aqua_regia\",\"the_bulk\",\"occur_in\",\"since\",\"operation\",\"adjacent\",\"subject_to\",\"the_norseman\",\"has_not\",\"cut_off\",\"location_plan\",\"weathered\",\"contact_with\",\"metals_group\",\"intruded_by\",\"strong\",\"sand\",\"required\",\"recovery\",\"base_of\",\"april\",\"base\",\"comprises\",\"anomalous_gold\",\"is_generally\",\"derived_from\",\"common\",\"phase\",\"different\",\"schist\",\"possibly\",\"down_dip\",\"rab_wimbledon\",\"resulted_in\",\"suggests_that\",\"co\",\"line_spacing\",\"mineral_resource\",\"stage\",\"file\",\"services\",\"trace\",\"mercator_gold\",\"margin_of\",\"taken\",\"see_figure\",\"doc\",\"rare\",\"it_has\",\"number\",\"more_than\",\"produced\",\"spacing\",\"out_by\",\"assessment_of\",\"management_plan\",\"north_west\",\"southern\",\"occurs_in\",\"matrix\",\"to_metres\",\"were_also\",\"are_also\",\"is_included\",\"area_has\",\"acacia_aneura\",\"that_have\",\"at_au\",\"whilst\",\"about_km\",\"deep\",\"rc_drill\",\"work_was\",\"in_particular\",\"located_approximately\",\"which_has\",\"reported\",\"is_via\",\"resource_model\",\"the_pilbara\",\"failed_to\",\"orientation\",\"february\",\"one_metre\",\"typically\",\"resources_ltd\",\"and_therefore\",\"industry_and\",\"figure_shows\",\"interval\",\"containing\",\"with_some\",\"methods\",\"estimated\",\"type_rc\",\"as_an\",\"are_listed\",\"modelling\",\"considered\",\"study_area\",\"public_environmental\",\"response\",\"of_kalgoorlie\",\"during_this\",\"of_ppb\",\"were_not\",\"use\",\"kilometres\",\"dykes\",\"exploration_licences\",\"were_used\",\"together_with\",\"mineral_resources\",\"mining_leases\",\"to_assess\",\"sulphide_mineralisation\",\"forms\",\"near_surface\",\"ultramafics\",\"developed\",\"position\",\"kalgoorlie_terrane\",\"gravity\",\"recommendations\",\"before\",\"maximum\",\"nebore_collar_export\",\"integra_mining\",\"rab_nebore\",\"the_second\",\"rather_than\",\"overlying\",\"characterised_by\",\"consistent_with\",\"refer_to\",\"status\",\"later\",\"jubilee_mines\",\"ms\",\"rab_holes\",\"agreement\",\"without\",\"north_northwest\",\"significant_gold\",\"near\",\"covers\",\"highway\",\"grade_control\",\"an_extensive\",\"combined\",\"top_of\",\"program_was\",\"metre\",\"in_places\",\"the_highest\",\"submitted_to\",\"selected\",\"ultramafic_unit\",\"final\",\"peak_hill\",\"boundary\",\"northeast_of\",\"groundwater\",\"drillholes\",\"historical\",\"body\",\"conglomerate\",\"drill_core\",\"base_metals\",\"chert\",\"comprising\",\"long\",\"plan_figure\",\"group_limited\",\"magnetic_data\",\"amphibolite\",\"projects\",\"coal\",\"to_define\",\"auger_soil\",\"mostly\",\"were_taken\",\"prospective_for\",\"tenement_details\",\"october\",\"ore_project\",\"this_tenement\",\"multi_element\",\"undertaken_by\",\"mafic_rocks\",\"lies_within\",\"show\",\"terrain\",\"while_the\",\"figures_and\",\"to_allow\",\"august\",\"surface_geochemistry\",\"shale\",\"that_may\",\"broad\",\"inferred\",\"pilbara\",\"found_in\",\"bodies\",\"in_perth\",\"some_km\",\"images\",\"diamond\",\"package\",\"ranges\",\"laverton\",\"geophysical_data\",\"are_given\",\"mined\",\"drilling_at\",\"northwest_of\",\"the_remaining\",\"lithology\",\"and_access\",\"and_zn\",\"indicates_that\",\"leases\",\"priority\",\"this_species\",\"ne\",\"identified_in\",\"is_recommended\",\"targeted\",\"act\",\"had_been\",\"edge_of\",\"likely_to\",\"was_intersected\",\"teck_cominco\",\"channel\",\"unpublished_report\",\"project_combined\",\"sample_was\",\"regional_scale\",\"mining_limited\",\"targeting\",\"feature\",\"tracks\",\"deposit_is\",\"amount_of\",\"further_exploration\",\"fine_to\",\"which_were\",\"interest_in\",\"interpreted_as\",\"predominantly\",\"as_shown\",\"south_west\",\"those\",\"which_have\",\"within_this\",\"grains\",\"gold_values\",\"sediments_and\",\"programs\",\"was_granted\",\"dipping\",\"figures\",\"numerous\",\"intrusive\",\"conducted_by\",\"all_holes\",\"halls_creek\",\"prospect_is\",\"belt_is\",\"veining\",\"zn\",\"metamorphism\",\"five\",\"hematite\",\"levels\",\"intrusions\",\"trends\",\"down\",\"silica\",\"drainage\",\"second\",\"soil_geochemistry\",\"vertical\",\"in_section\",\"minerals_and\",\"acquired\",\"data_were\",\"are_considered\",\"studies\",\"gravity_survey\",\"overall\",\"reconnaissance\",\"systems\",\"november\",\"northeast\",\"fresh\",\"pilbara_iron\",\"table_below\",\"in_conjunction\",\"basalts\",\"station_tracks\",\"diamond_drill\",\"consisting_of\",\"are_interpreted\",\"the_coolgardie\",\"the_yilgarn\",\"rich\",\"drillhole\",\"intersection_of\",\"south_east\",\"granite_greenstone\",\"planned\",\"in_situ\",\"complete\",\"basis_of\",\"narrow\",\"au_from\",\"is_likely\",\"previous_work\",\"good\",\"green\",\"plate\",\"extension_of\",\"which_may\",\"red\",\"break_iron\",\"flora_and\",\"drilled_to\",\"centre_of\",\"this_survey\",\"completed_by\",\"rio_tinto\",\"nickel_copper\",\"search\",\"low_level\",\"are_included\",\"combined_reporting\",\"coordinates\",\"province\",\"indicate_that\",\"higher\",\"northwest_trending\",\"resulting_in\",\"plagioclase\",\"composite_samples\",\"standard\",\"out_on\",\"granitoids\",\"limited_page\",\"compilation_of\",\"texture\",\"higher_grade\",\"this_unit\",\"the_footwall\",\"location_map\",\"lionore_australia\",\"drilling_data\",\"indicate\",\"mineralisation_within\",\"on_behalf\",\"thin_section\",\"format\",\"the_discovery\",\"event\",\"continued\",\"conductor\",\"re\",\"may_not\",\"was_recorded\",\"conclusions_and\",\"greenstone\",\"larger\",\"work_carried\",\"the_southeast\",\"types\",\"br_dgy\",\"facies\",\"air_core\",\"completed_in\",\"intersections\",\"fauna\",\"contacts\",\"topography\",\"sequence_is\",\"known_as\",\"geological_setting\",\"impacts\",\"were_recorded\",\"host_to\",\"doir\",\"composites\",\"general\",\"most_likely\",\"geophysics\",\"breccia\",\"recent\",\"gold_deposit\",\"mineralisation_was\",\"mining_operations\",\"sample_locations\",\"source_of\",\"granodiorite\",\"january_to\",\"distribution\",\"calcrete\",\"garnet\",\"these_areas\",\"composite\",\"future\",\"steeply_dipping\",\"soil_anomaly\",\"environ_fmg\",\"hosted_by\",\"must_be\",\"local_grid\",\"present_in\",\"oz\",\"anomalism\",\"there_was\",\"the_laverton\",\"mafic_volcanics\",\"data_set\",\"cross_cutting\",\"historic\",\"jv\",\"outcrops\",\"nw\",\"now\",\"land\",\"deposits_are\",\"goethite\",\"of_conservation\",\"anticline\",\"agreement_with\",\"flows\",\"evidence_of\",\"the_hamersley\",\"underlain_by\",\"sub_parallel\",\"exploration_drilling\",\"parallel\",\"olivine\",\"presence_of\",\"project_tenements\",\"metals\",\"resources_nl\",\"placer_dome\",\"ppm_cu\",\"note\",\"flow\",\"previously\",\"gossan\",\"represents\",\"on_site\",\"fresh_rock\",\"potential_impacts\",\"single\",\"setting\",\"report_doc\",\"sheared\",\"are_generally\",\"disseminated\",\"comprised\",\"samples_from\",\"noise\",\"formation_is\",\"fine\",\"ii\",\"recorded_in\",\"and_analysed\",\"overburden\",\"km_south\",\"channels\",\"the_lack\",\"as_appendix\",\"to_form\",\"footwall\",\"many_of\",\"required_to\",\"southern_geoscience\",\"aboriginal_heritage\",\"sampled\",\"granitoid\",\"gold_mine\",\"generated\",\"jackson_gold\",\"intercepts\",\"are_summarised\",\"craton\",\"lack_of\",\"priority_flora\",\"surface_sampling\",\"geochemical_sampling\",\"is_characterised\",\"lenses\",\"the_initial\",\"in_november\",\"this_zone\",\"environmental_protection\",\"all_samples\",\"haul_road\",\"composed_of\",\"to_represent\",\"few\",\"therefore\",\"fire_assay\",\"talc\",\"the_old\",\"and_possibly\",\"further_drilling\",\"was_designed\",\"environmental\",\"is_hosted\",\"group_is\",\"analysed_for\",\"is_more\",\"variable\",\"rab_tippwell\",\"not_been\",\"assay_data\",\"reef\",\"no_further\",\"south_junction\",\"applied_to\",\"plunge\",\"portions_of\",\"particularly\",\"previous_drilling\",\"to_mm\",\"the_underlying\",\"source\",\"direction\",\"at_scale\",\"sill\",\"exploration_pty\",\"techniques\",\"mg\",\"over_acacia\",\"geological_report\",\"extent\",\"high_mgo\",\"there_were\",\"basement\",\"mapped\",\"terrane\",\"south_project\",\"separate\",\"dolomite\",\"very\",\"out_in\",\"ridge\",\"surrounding\",\"consultants\",\"faulting\",\"for_further\",\"significance\",\"little\",\"se\",\"tonnes\",\"have_not\",\"evaluation_of\",\"was_drilled\",\"is_based\",\"boundaries\",\"holes_drilled\",\"coarse\",\"in_excess\",\"see\",\"shows\",\"covered\",\"found\",\"formations\",\"exploration_program\",\"are_present\",\"contain\",\"aerial_photography\",\"track\",\"related\",\"taken_from\",\"held\",\"over_strike\",\"faults_and\",\"in_both\",\"the_completion\",\"in_general\",\"collected_from\",\"reserve\",\"break\",\"find\",\"is_provided\",\"appropriate\",\"be_used\",\"obtained_from\",\"another\",\"respectively\",\"licence\",\"completed_on\",\"divided_into\",\"geochemical_data\",\"oxide\",\"entered_into\",\"project_page\",\"past\",\"initially\",\"laboratory\",\"been_identified\",\"waste\",\"it_may\",\"were_analysed\",\"were_submitted\",\"textures\",\"classification\",\"christmas_creek\",\"beneath_the\",\"field_reconnaissance\",\"underground\",\"the_centre\",\"road_and\",\"to_assist\",\"less\",\"client\",\"diamond_holes\",\"according_to\",\"exploration_potential\",\"held_by\",\"were_undertaken\",\"to_ppm\",\"western_margin\",\"currently\",\"in_october\",\"grained\",\"break_september\",\"ref_cloud\",\"is_approximately\",\"saprolite\",\"cr\",\"interest\",\"hummock_grassland\",\"layered_mafic\",\"old\",\"component\",\"aircore_holes\",\"the_aim\",\"occur_within\",\"and_sedimentary\",\"hole_was\",\"fold\",\"poor\",\"as_such\",\"valley\",\"prepared_by\",\"var_aneura\",\"jundeemine_collar_export\",\"dyke\",\"concluded_that\",\"support\",\"district\",\"great_northern\",\"seen_in\",\"indicates\",\"gold_australia\",\"centre\",\"the_surrounding\",\"ground_em\",\"abundant\",\"for_metres\",\"the_gswa\",\"infrastructure\",\"point\",\"project_location\",\"need_to\",\"australia_geological\",\"the_purpose\",\"at_each\",\"largely\",\"river\",\"shears\",\"located_km\",\"where_it\",\"in_relation\",\"undertaken_in\",\"weak\",\"flat\",\"ore_body\",\"the_property\",\"volcanic_rocks\",\"ground_magnetic\",\"these_holes\",\"this_study\",\"mason_geoscience\",\"the_last\",\"horizons\",\"as_small\",\"intersected_in\",\"ptilotus_obovatus\",\"greenstone_sequence\",\"name\",\"alluvium\",\"mining_centre\",\"deposits_in\",\"quartz_carbonate\",\"rock_type\",\"as_it\",\"sample_site\",\"thickness\",\"has_also\",\"fortescue_group\",\"drilling_has\",\"concentrate\",\"combination_of\",\"magnetics\",\"boundary_of\",\"port_hedland\",\"schists\",\"specific\",\"provide\",\"continuity_of\",\"package_of\",\"approximately_kilometres\",\"classified_as\",\"high_strain\",\"fi_ll\",\"archaean\",\"exploration_activity\",\"colour\",\"siltstone\",\"indicated_that\",\"obtained\",\"drill_testing\",\"metasediments\",\"traverses\",\"fault_zone\",\"samples_collected\",\"conducted_on\",\"occurs_as\",\"is_currently\",\"origin\",\"progressive_rehabilitation\",\"explored\",\"the_overall\",\"restricted_to\",\"very_fine\",\"and_submitted\",\"compared_to\",\"was_found\",\"tenement_status\",\"because_of\",\"forming\",\"explanatory_notes\",\"logging\",\"em\",\"via\",\"foliation_parallel\",\"etc\",\"final_doc\",\"to_occur\",\"recommended\",\"this_anomaly\",\"standards\",\"gold_anomalism\",\"diamond_core\",\"greenstones\",\"costs\",\"chalcopyrite\",\"activity\",\"references\",\"volcanics_and\",\"the_focus\",\"strike_slip\",\"black\",\"coincident_with\",\"separated_by\",\"comprise\",\"gneiss\",\"suggest_that\",\"equipment\",\"profile\",\"monitoring\",\"ppm_au\",\"tr\",\"gold_mines\",\"occur\",\"anomaly_is\",\"which_will\",\"this_will\",\"bedding\",\"lake\",\"exposed\",\"closure\",\"position_of\",\"nengland_collar_export\",\"target_areas\",\"ga\",\"design\",\"brown\",\"subject_of\",\"fmg_will\",\"mining_ltd\",\"observed_in\",\"corridor\",\"outside_the\",\"tuckabianna_project\",\"uranium\",\"to_minimise\",\"length\",\"beds\",\"surface_geochemical\",\"other_specify\",\"lies\",\"areas_where\",\"feldspar\",\"basal_contact\",\"alluvial\",\"covering_the\",\"across\",\"these_samples\",\"outcropping\",\"planning\",\"western_side\",\"traverse\",\"with_quartz\",\"eg\",\"magnetic_susceptibility\",\"dam\",\"increased\",\"smaller\",\"pty_limited\",\"background\",\"in_june\",\"the_basis\",\"preliminary\",\"prepared_for\",\"western_areas\",\"work_undertaken\",\"these_were\",\"description_of\",\"quartz_feldspar\",\"soil_sample\",\"rock_samples\",\"work_is\",\"transported\",\"given_in\",\"project_areas\",\"the_telfer\",\"australia_limited\",\"were_returned\",\"thickness_of\",\"northern_highway\",\"referred_to\",\"prospective\",\"moving_loop\",\"crescent_gold\",\"cravens_collar_export\",\"over_triodia\",\"the_next\",\"result\",\"white\",\"regia_digest\",\"syncline\",\"construction_of\",\"understanding_of\",\"required_for\",\"expected_to\",\"in_july\",\"quality_control\",\"grey\",\"prospecting\",\"in_april\",\"application\",\"in_march\",\"of_tonnes\",\"set\",\"contained\",\"goldfields\",\"gold_anomalies\",\"commonly\",\"downhole\",\"water_table\",\"followed_up\",\"located_at\",\"the_great\",\"comprised_of\",\"are_provided\",\"occurs\",\"surveying\",\"gto_gto\",\"horizon\",\"rate_of\",\"tenement_location\",\"nt\",\"that_there\",\"annual\",\"nickel_exploration\",\"subsequently\",\"economic\",\"upper\",\"models\",\"for_example\",\"amphibolite_facies\",\"profiles\",\"legend\",\"was_made\",\"upon\",\"nnw_trending\",\"marshes\",\"and_land\",\"bounded_by\",\"volcanic_and\",\"shown\",\"again\",\"region_is\",\"airborne_magnetic\",\"they\",\"communities\",\"rocks_are\",\"lupton_collar_export\",\"sericite\",\"estimates\",\"them\",\"extension\",\"measured\",\"by_fire\",\"case\",\"established\",\"logged\",\"wall\",\"in_december\",\"small_scale\",\"away_from\",\"camp\",\"felsic_porphyry\",\"intersection\",\"changes_in\",\"are_associated\",\"as_per\",\"talc_carbonate\",\"large_scale\",\"the_full\",\"suggests\",\"is_very\",\"sequences\",\"clearing\",\"transported_cover\",\"ni_co\",\"inferred_resource\",\"the_principal\",\"likely\",\"northern_part\",\"to_host\",\"notes\",\"was_acquired\",\"more_detailed\",\"locations_are\",\"polaris_metals\",\"granted\",\"and_white\",\"fauna_survey\",\"geological_map\",\"the_collection\",\"black_flag\",\"to_complete\",\"showing\",\"rock_chips\",\"is_available\",\"moderate\",\"in_late\",\"aircore\",\"intruded\",\"greenstone_belts\",\"expected\",\"volume\",\"cu_zn\",\"style\",\"nearby\",\"auger_drilling\",\"the_bluebird\",\"suite_of\",\"km_east\",\"field_work\",\"prospect_area\",\"proximity_to\",\"dewatering\",\"colluvium\",\"collar_export_newbema\",\"range_from\",\"modelled\",\"period_st\",\"murchison_metals\",\"ranging_from\",\"many\",\"can\",\"half_of\",\"degrees\",\"with_only\",\"folding\",\"construction\",\"not_be\",\"newbema_warning\",\"once\",\"resource_estimates\",\"usually\",\"diamonds\",\"jack_hills\",\"north_eastern\",\"gold_price\",\"were_located\",\"drilling_programs\",\"and_metallurgy\",\"best\",\"and_infrastructure\",\"to_explore\",\"order_of\",\"australian\",\"fractures\",\"important\",\"first\",\"figure_location\",\"is_covered\",\"the_southwest\",\"magnetic_anomaly\",\"thought_to\",\"mill\",\"regolith_mapping\",\"first_pass\",\"residual\",\"this_may\",\"same\",\"cross\",\"metal_group\",\"plus\",\"ore_fortescue\",\"over_an\",\"six\",\"field_duplicates\",\"but_no\",\"peak\",\"km_long\",\"bif_units\",\"shales\",\"the_largest\",\"on_th\",\"individual\",\"sedimentary\",\"basis\",\"the_latter\",\"pilbara_region\",\"to_enable\",\"exploration_completed\",\"br_dgn\",\"trough_well\",\"sheets\",\"involved\",\"definition_of\",\"lead\",\"here\",\"shows_the\",\"rl\",\"for_ni\",\"limit_of\",\"st_december\",\"lake_carey\",\"occurrence_of\",\"ppm_ni\",\"greenstone_terranes\",\"were_sampled\",\"gqzfdbi_grg\",\"granites\",\"striking\",\"series\",\"geophysical\",\"crystals\",\"based\",\"acacia_pruinocarpa\",\"open_cut\",\"prepared\",\"initial\",\"regional_geological\",\"the_remainder\",\"analyses\",\"drilling_programme\",\"product\",\"as_described\",\"conclusions\",\"files\",\"north_northeast\",\"mining_nl\",\"historical_exploration\",\"original\",\"like\",\"very_high\",\"to_intermediate\",\"plant_communities\",\"to_develop\",\"ef_ec\",\"an_upper\",\"salt_lake\",\"ll_fi\",\"gps\",\"increase\",\"th_june\",\"subsequent\",\"to_cm\",\"mineralised_zone\",\"phase_of\",\"with_maximum\",\"in_size\",\"total_magnetic\",\"sub\",\"heron_resources\",\"wmc\",\"is_expected\",\"work_on\",\"focused_on\",\"compiled\",\"top\",\"orientation_of\",\"set_of\",\"research\",\"to_june\",\"in_terms\",\"gold_ltd\",\"is_relatively\",\"parameters\",\"project_comprises\",\"in_turn\",\"plains\",\"ag\",\"in_august\",\"province_of\",\"was_identified\",\"cutting\",\"all_drill\",\"old_workings\",\"cazaly_resources\",\"spinifex\",\"foliated\",\"localised\",\"soil_anomalies\",\"but_not\",\"tend_to\",\"to_follow\",\"is_summarised\",\"cross_sections\",\"extended\",\"the_whole\",\"auger_sampling\",\"var_obovatus\",\"gravity_data\",\"continuation_of\",\"hanging_wall\",\"as_being\",\"aggregates\",\"is_planned\",\"are_known\",\"should\",\"is_described\",\"mindy_mindy\",\"prospectus\",\"rare_flora\",\"intensity\",\"southeast_of\",\"associates\",\"resources_pty\",\"loop\",\"feasibility_study\",\"however_it\",\"appendices\",\"shrubs_over\",\"mineral_deposits\",\"the_acquisition\",\"to_come\",\"data_compilation\",\"to_avoid\",\"end\",\"assemblage\",\"bulk_density\",\"sills\",\"well_developed\",\"grg\",\"listed_in\",\"increase_in\",\"prospecting_licences\",\"dam_project\",\"purposes\",\"properties\",\"described_in\",\"leach\",\"is_still\",\"to_confirm\",\"requirements\",\"may_also\",\"target_area\",\"ferruginous\",\"mine_site\",\"open_pits\",\"in_house\",\"bottom_of\",\"were_assayed\",\"intermediate\",\"wiluna\",\"detailed_geological\",\"width\",\"and_analytical\",\"basalts_and\",\"tenement_package\",\"coolgardie\",\"alteration_zones\",\"developed_in\",\"consist_of\",\"tonnes_at\",\"infill\",\"apart_from\",\"layer\",\"returned_from\",\"black_shale\",\"were_intersected\",\"metamorphic\",\"author\",\"to_better\",\"to_contain\",\"figure_regional\",\"composition\",\"gold_bearing\",\"survey_data\",\"type_rab\",\"underlying\",\"figures_figure\",\"that_can\",\"gold_anomaly\",\"completed_over\",\"remains\",\"validation\",\"the_exception\",\"sampling_program\",\"though\",\"bullfinch_north\",\"norseman\",\"review_cloud\",\"september_fortescue\",\"chips\",\"soil_survey\",\"layers\",\"in_place\",\"komatiites\",\"to_obtain\",\"caused_by\",\"result_in\",\"the_lady\",\"detail\",\"ore_reserves\",\"below_surface\",\"and_associates\",\"is_now\",\"materials\",\"procedures\",\"clear\",\"rab_drill\",\"light\",\"reserves\",\"sent_to\",\"personnel\",\"lake_johnston\",\"shown_on\",\"property\",\"recommended_that\",\"pegmatite\",\"using_an\",\"is_probably\",\"geological_model\",\"this_hole\",\"water_quality\",\"with_respect\",\"used_as\",\"rainfall\",\"sets\",\"pdf\",\"ground_magnetics\",\"processes\",\"all_drilling\",\"br_gn\",\"conductors\",\"western_zone\",\"tenement_group\",\"criteria\",\"assemblages\",\"in_length\",\"so_that\",\"geophysical_interpretation\",\"and_fauna\",\"any_significant\",\"heritage_survey\",\"applications\",\"gcmjseb_warning\",\"rab_jundeemine\",\"exploration_data\",\"collar_export_gcmjseb\",\"southern_part\",\"for_any\",\"ultramafic_intrusions\",\"ie\",\"difficult_to\",\"deeper\",\"in_early\",\"services_pty\",\"variations_in\",\"accuracy\",\"band\",\"mineralised_zones\",\"clays\",\"is_defined\",\"groups\",\"unit_is\",\"oxidation\",\"flat_lying\",\"fortescue_marshes\",\"as_defined\",\"at_mt\",\"and_radiometric\",\"regional_exploration\",\"identified_by\",\"to_dec\",\"polaris\",\"exploration_limited\",\"drill_tested\",\"all_other\",\"earlier\",\"description\",\"member\",\"is_overlain\",\"down_plunge\",\"having\",\"as_they\",\"cr_cu\",\"note_that\",\"nne_trending\",\"ounces_of\",\"completed_during\",\"the_jack\",\"software\",\"style_of\",\"were_carried\",\"they_were\",\"project_tenement\",\"expenditure\",\"was_applied\",\"potentially\",\"which_included\",\"the_greenstones\",\"other_than\",\"shearing\",\"auger\",\"boundary_between\",\"in_september\",\"that_will\",\"patterns\",\"to_undertake\",\"place\",\"environmental_management\",\"to_december\",\"pastoral_lease\",\"sub_vertical\",\"confirmed_the\",\"has_identified\",\"intrusives\",\"or_more\",\"encountered\",\"golder_associates\",\"medium_to\",\"mafic_volcanic\",\"provided_by\",\"gold_production\",\"quartzite\",\"field_mapping\",\"the_immediate\",\"the_state\",\"correlation\",\"access_is\",\"seen\",\"landsat_tm\",\"acacia\",\"to_genalysis\",\"code\",\"the_yandal\",\"at_cloud\",\"full\",\"in_close\",\"iron_rich\",\"ore_grade\",\"field_season\",\"throughout\",\"dominant\",\"remote_sensing\",\"disturbance\",\"to_reduce\",\"gravel\",\"aeromagnetic_survey\",\"non\",\"side_of\",\"because\",\"line_km\",\"there\",\"aeromagnetic\",\"ultramafic_sequence\",\"sons_of\",\"the_chichester\",\"is_typically\",\"internal\",\"kg\",\"heavy_mineral\",\"rab_nengland\",\"acacia_ramulosa\",\"roads_and\",\"archaean_lode\",\"environmental_impact\",\"in_detail\",\"acacia_xiphophylla\",\"applied\",\"plans\",\"height\",\"proportion_of\",\"lode_gold\",\"fabric\",\"to_generate\",\"pyroxenite\",\"pilbara_craton\",\"limit\",\"thus\",\"hard\",\"fragments\",\"investigation\",\"this_structure\",\"known_mineralisation\",\"from_surface\",\"will_also\",\"cannot_be\",\"reported_in\",\"amphibole\",\"was_considered\",\"three_mile\",\"be_required\",\"low_angle\",\"geological_series\",\"alteration_zone\",\"proterozoic\",\"st\",\"were_conducted\",\"were_found\",\"be_associated\",\"the_coyote\",\"an_inferred\",\"flora\",\"detection_limit\",\"ounces\",\"menzies\",\"is_known\",\"ca\",\"width_of\",\"pre\",\"mining_activities\",\"venture\",\"ore_bodies\",\"western_part\",\"all_data\",\"degree_of\",\"data_review\",\"map_sheet\",\"sphalerite\",\"that_it\",\"technique\",\"ultramafic_mafic\",\"energy\",\"determined\",\"extensions_of\",\"access_track\",\"data_has\",\"an_interpreted\",\"rab_aircore\",\"mv\",\"is_marked\",\"ltd_randells\",\"wf\",\"stratigraphic\",\"has_resulted\",\"talc_chlorite\",\"the_menzies\",\"at_about\",\"fold_hinge\",\"the_identification\",\"reference\",\"to_evaluate\",\"were_made\",\"stations\",\"woodland_of\",\"host_rocks\",\"undertaken_during\",\"sw\",\"pt_pd\",\"proximal_to\",\"the_marsh\",\"main_zone\",\"chert_and\",\"the_marshes\",\"the_spatial\",\"calm\",\"highly\",\"the_possibility\",\"exploration_targets\",\"newcrest_mining\",\"per\",\"folded\",\"found_to\",\"greater\",\"meekatharra\",\"and_thus\",\"model_was\",\"terms_of\",\"most_significant\",\"plan_march\",\"folds\",\"sub_audio\",\"well_project\",\"at_intervals\",\"aeromagnetics\",\"banded\",\"whim_creek\",\"secondary\",\"australian_gold\",\"analysed_by\",\"these_two\",\"soil_geochemical\",\"majority_of\",\"siliceous\",\"particular\",\"characteristics\",\"substantial\",\"list\",\"coupled_plasma\",\"by_icp\",\"southern_portion\",\"roads\",\"was_collected\",\"west_dipping\",\"in_february\",\"bluff_well\",\"bi\",\"tests\",\"believed_to\",\"topsoil\",\"with_best\",\"confidence\",\"interpreted_from\",\"may_represent\",\"and_evaluation\",\"late_time\",\"was_mined\",\"age\",\"project_geology\",\"anomalous_areas\",\"evaluation\",\"was_observed\",\"change_in\",\"is_given\",\"and_prospecting\",\"to_locate\",\"were_obtained\",\"ppb_gold\",\"high_priority\",\"an_attempt\",\"linear\",\"wholly_owned\",\"km_wide\",\"tonnes_of\",\"all_available\",\"see_table\",\"from_previous\",\"anomalies_were\",\"representing\",\"fr_om\",\"but_are\",\"it_appears\",\"lag\",\"to_aid\",\"still\",\"cid\",\"this_prospectus\",\"ha\",\"the_margins\",\"these_tenements\",\"trending_faults\",\"meters\",\"in_figures\",\"maps\",\"northeast_trending\",\"dataset\",\"internal_report\",\"or_near\",\"laboratories_in\",\"central_part\",\"formed\",\"accuracy_of\",\"were_observed\",\"and_revegetation\",\"suggest\",\"gswa\",\"nickel_laterite\",\"processed\",\"this_stage\",\"surveys_were\",\"remain\",\"in_thickness\",\"multiple\",\"typical\",\"movement\",\"described_by\",\"marsh\",\"digital_terrain\",\"calcite\",\"is_consistent\",\"an_additional\",\"collar\",\"as_possible\",\"digital\",\"helix\",\"acid\",\"tenements_were\",\"nw_trending\",\"to_intersect\",\"preparation_of\",\"greenschist_facies\",\"the_braemore\",\"intrusive_rocks\",\"undertaken_on\",\"test_work\",\"drilling_intersected\",\"exploration_during\",\"disseminated_sulphides\",\"mt_gibbs\",\"the_right\",\"drill_samples\",\"pattern\",\"no_anomalous\",\"scoping_study\",\"data_sets\",\"issues\",\"hosted_within\",\"cut_by\",\"grade_estimation\",\"hornblende\",\"aeromagnetic_image\",\"rig\",\"parallel_veins\",\"shares\",\"fe_mg\",\"surrender_report\",\"title\",\"mulga\",\"combined_with\",\"increasing\",\"seam\",\"fluid\",\"report_prepared\",\"producing\",\"th_march\",\"is_bounded\",\"map_figure\",\"for_both\",\"two_main\",\"anomalous_results\",\"are_hosted\",\"is_contained\",\"information_on\",\"been_completed\",\"the_halls\",\"levels_of\",\"and_assayed\",\"to_use\",\"bores\",\"was_encountered\",\"reconnaissance_rab\",\"towards\",\"dry\",\"platina_resources\",\"association\",\"test_for\",\"gy_fg\",\"conducted_in\",\"gold_mining\",\"discovered\",\"volcanic\",\"loss_of\",\"transport\",\"oxidised\",\"drilled_by\",\"occurs_within\",\"available_data\",\"the_golden\",\"jorc_code\",\"deposition_of\",\"better\",\"th_january\",\"programme_was\",\"cost\",\"margins_of\",\"ac_tippwell\",\"cu_pb\",\"highlighted\",\"tenement_was\",\"provided_in\",\"western_limb\",\"completion_of\",\"plain\",\"split\",\"these_rocks\"],\"text_labels\":[\"the\",\"and\",\"of\",\"to\",\"of_the\",\"in\",\"in_the\",\"with\",\"for\",\"by\",\"is\",\"at\",\"area\",\"as\",\"from\",\"on_the\",\"on\",\"or\",\"that\",\"this\",\"project\",\"within_the\",\"are\",\"drilling\",\"from_the\",\"figure\",\"gold\",\"to_be\",\"data\",\"project_area\",\"was\",\"mineralisation\",\"exploration\",\"has_been\",\"no\",\"during_the\",\"all\",\"have_been\",\"zone\",\"report\",\"pty_ltd\",\"results\",\"au\",\"it_is\",\"survey\",\"within\",\"sampling\",\"samples\",\"tenements\",\"western_australia\",\"the_tenement\",\"will_be\",\"were\",\"ltd\",\"some\",\"table\",\"be\",\"number_of\",\"mining\",\"resource\",\"the_north\",\"but\",\"tenement\",\"associated_with\",\"these\",\"limited\",\"up_to\",\"which\",\"coordinates_are\",\"not_surveyed\",\"are_integer\",\"warning_coordinates\",\"below\",\"poss_not\",\"integer_poss\",\"two\",\"australia\",\"over_the\",\"rocks\",\"part_of\",\"prospect\",\"holes\",\"between\",\"rock_chip\",\"annual_report\",\"the_east\",\"the_south\",\"samples_were\",\"has\",\"can_be\",\"gold_mineralisation\",\"using\",\"the_west\",\"where\",\"resources\",\"hole\",\"over\",\"due_to\",\"deposit\",\"areas\",\"rock\",\"into\",\"total_of\",\"along_the\",\"period\",\"surface\",\"both\",\"reporting_period\",\"an\",\"alteration\",\"ore\",\"group\",\"sample\",\"pit\",\"the_main\",\"km\",\"including\",\"high_grade\",\"one\",\"formation\",\"south\",\"only\",\"deposits\",\"grade\",\"surveyed_rab\",\"however\",\"metres\",\"west\",\"the_following\",\"north\",\"in_table\",\"this_report\",\"carried_out\",\"is_located\",\"of_western\",\"other\",\"appendix\",\"during\",\"have\",\"in_this\",\"mine\",\"may_be\",\"geology\",\"rc_drilling\",\"potential\",\"east\",\"further\",\"there_is\",\"of_these\",\"cloud_break\",\"region\",\"not\",\"which_is\",\"fault\",\"may\",\"the_eastern\",\"completed\",\"drill_hole\",\"joint_venture\",\"based_on\",\"greenstone_belt\",\"also\",\"in_appendix\",\"soil_sampling\",\"units\",\"area_is\",\"ultramafic\",\"work\",\"contact\",\"model\",\"program\",\"unit\",\"to_test\",\"rab_drilling\",\"significant\",\"the_southern\",\"iron_ore\",\"this_is\",\"field\",\"areas_of\",\"end_of\",\"section\",\"sequence\",\"the_presence\",\"small\",\"target\",\"mapping\",\"the_northern\",\"veins\",\"exploration_activities\",\"mafic\",\"above\",\"basalt\",\"zones\",\"project_is\",\"any\",\"core\",\"in_figure\",\"regional\",\"follow_up\",\"high\",\"interpretation\",\"anomalies\",\"was_completed\",\"quartz\",\"anomaly\",\"out\",\"well\",\"drill_holes\",\"south_of\",\"fine_grained\",\"ni\",\"belt\",\"vegetation\",\"species\",\"approximately_km\",\"time\",\"up\",\"bif\",\"there_are\",\"structure\",\"identified\",\"depth\",\"is_not\",\"the_base\",\"soil\",\"water\",\"should_be\",\"north_of\",\"site\",\"east_of\",\"holes_were\",\"geological\",\"geological_mapping\",\"shear_zone\",\"low\",\"granite\",\"ground\",\"approximately\",\"three\",\"previous_exploration\",\"material\",\"nickel\",\"plan\",\"included\",\"the_mt\",\"between_and\",\"about\",\"were_drilled\",\"strike\",\"map\",\"if\",\"through_the\",\"total\",\"major\",\"as_well\",\"than\",\"cover\",\"values\",\"sediments\",\"stratigraphy\",\"include\",\"series_of\",\"prior_to\",\"being\",\"west_of\",\"was_undertaken\",\"page\",\"line\",\"review_of\",\"range\",\"form\",\"located\",\"shear\",\"structures\",\"in_addition\",\"the_reporting\",\"portion_of\",\"system\",\"analysis\",\"mineralisation_is\",\"it_was\",\"been\",\"the_current\",\"potential_for\",\"following\",\"the_same\",\"several\",\"interpretation_of\",\"vein\",\"page_of\",\"the_majority\",\"geological_survey\",\"such_as\",\"targets\",\"report_for\",\"regional_geology\",\"their\",\"along\",\"an_area\",\"although\",\"the_first\",\"surveys\",\"as_part\",\"australia_pty\",\"most_of\",\"for_gold\",\"complex\",\"exploration_licence\",\"geology_of\",\"location_of\",\"outcrop\",\"rc\",\"which_are\",\"nl\",\"adjacent_to\",\"previous\",\"western\",\"low_grade\",\"pyrite\",\"after\",\"study\",\"most\",\"consists_of\",\"are_shown\",\"type\",\"department_of\",\"grid\",\"possible\",\"to_determine\",\"used_to\",\"dolerite\",\"ppb_au\",\"interpreted\",\"summary_of\",\"present\",\"quartz_veins\",\"list_of\",\"the_fortescue\",\"generally\",\"throughout_the\",\"ultramafic_rocks\",\"each\",\"the_central\",\"intrusion\",\"through\",\"it\",\"was_carried\",\"level\",\"summary\",\"mineralization\",\"access\",\"large\",\"locations\",\"new\",\"more\",\"test\",\"its\",\"the_lower\",\"used\",\"to_have\",\"minor\",\"banded_iron\",\"review\",\"sequence_of\",\"were_collected\",\"scale\",\"trend\",\"down_hole\",\"was_conducted\",\"drilling_was\",\"al\",\"drilled\",\"along_strike\",\"then\",\"lines\",\"around_the\",\"the_upper\",\"development\",\"year\",\"mafic_ultramafic\",\"magnetic\",\"to_date\",\"appears_to\",\"ppm\",\"with_minor\",\"collected\",\"magnetite\",\"range_of\",\"sulphides\",\"sulphide\",\"thick\",\"this_work\",\"development_of\",\"location\",\"and_diamond\",\"assay\",\"associated\",\"tenure\",\"across_the\",\"sandstone\",\"the_company\",\"data_was\",\"early\",\"near_the\",\"database\",\"at_least\",\"zones_of\",\"processing\",\"defined\",\"base_metal\",\"geochemistry\",\"wide\",\"the_proposed\",\"estimate\",\"cu\",\"rc_holes\",\"testing\",\"geology_and\",\"conducted\",\"activities\",\"local\",\"tenements_are\",\"programme\",\"work_completed\",\"with_an\",\"open_pit\",\"to_provide\",\"mm\",\"is_shown\",\"combined_annual\",\"rab\",\"weathering\",\"dominated_by\",\"the_department\",\"undertaken\",\"around\",\"are_presented\",\"the_best\",\"at_depth\",\"diamond_drilling\",\"hill\",\"et_al\",\"prospects\",\"location_and\",\"size\",\"technical_report\",\"that_are\",\"domain\",\"related_to\",\"soil_samples\",\"basin\",\"access_to\",\"assay_results\",\"results_from\",\"faults\",\"known\",\"when\",\"was_used\",\"in_order\",\"analysis_of\",\"regolith\",\"reports\",\"report_no\",\"project_annual\",\"minerals\",\"dip\",\"sites\",\"creek\",\"located_in\",\"nickel_sulphide\",\"and_minor\",\"were_completed\",\"au_ppm\",\"resource_estimate\",\"intersected\",\"lease\",\"no_significant\",\"june\",\"eastern_goldfields\",\"north_south\",\"and_then\",\"mining_lease\",\"kalgoorlie\",\"lode\",\"massive\",\"appear_to\",\"plant\",\"interpreted_to\",\"could_be\",\"ppb\",\"iron\",\"under_the\",\"intervals\",\"mt\",\"central\",\"detailed\",\"workings\",\"vicinity_of\",\"is_situated\",\"gold_deposits\",\"drilling_program\",\"recorded\",\"process\",\"these_are\",\"this_area\",\"sections\",\"are_not\",\"is_also\",\"returned\",\"less_than\",\"the_archaean\",\"used_for\",\"designed_to\",\"production\",\"was_not\",\"details_of\",\"in_some\",\"introduction\",\"lease_no\",\"sheet\",\"depth_of\",\"fmg\",\"east_west\",\"shear_zones\",\"either\",\"is_presented\",\"much_of\",\"mines\",\"aeromagnetic_data\",\"east_kimberley\",\"drill\",\"survey_was\",\"porphyry\",\"was_also\",\"coarse_grained\",\"environment\",\"december\",\"date\",\"block\",\"pits\",\"value\",\"road\",\"surface_water\",\"vein_sulphides\",\"quartz_veining\",\"weathering_depth\",\"quality\",\"foliation\",\"anomalous\",\"which_was\",\"type_hole\",\"copper\",\"rock_altn\",\"proposed\",\"parts_of\",\"hills\",\"of_interest\",\"open\",\"exploration_index\",\"cut\",\"lower\",\"yilgarn_craton\",\"th\",\"the_original\",\"and_felsic\",\"aircore_drilling\",\"the_dominant\",\"is_interpreted\",\"station\",\"mineralisation_at\",\"march\",\"various\",\"gabbro\",\"for_total\",\"off\",\"current\",\"perth\",\"management\",\"results_are\",\"northwest\",\"extent_of\",\"primary\",\"mn\",\"late\",\"wimbledon_collar_export\",\"rehabilitation\",\"gold_mineralization\",\"available\",\"mainly\",\"assessment\",\"indicated\",\"as_result\",\"surveyed_ac\",\"dome\",\"had\",\"similar\",\"included_in\",\"biotite\",\"trending\",\"chlorite\",\"information\",\"holes_for\",\"would_be\",\"did_not\",\"southern_cross\",\"exploration_work\",\"soils\",\"survey_area\",\"elements\",\"tested\",\"western_australian\",\"to_identify\",\"quartz_vein\",\"considered_to\",\"is_dominated\",\"carbonate\",\"for_au\",\"length_of\",\"distribution_of\",\"strike_length\",\"host\",\"do_not\",\"native_title\",\"additional\",\"four\",\"fig\",\"covered_by\",\"is_considered\",\"company\",\"period_ending\",\"felsic\",\"greater_than\",\"block_model\",\"ma\",\"sediment\",\"to_ensure\",\"they_are\",\"located_within\",\"for_each\",\"use_of\",\"stream_sediment\",\"parallel_to\",\"medium_grained\",\"the_year\",\"is_required\",\"laterite\",\"br_lgy\",\"potential_to\",\"method\",\"annual_technical\",\"includes\",\"shown_in\",\"fortescue_metals\",\"tenement_area\",\"blocks\",\"as_follows\",\"is_associated\",\"shallow\",\"lithologies\",\"eastern\",\"results_were\",\"under\",\"does_not\",\"details\",\"the_mount\",\"mineral\",\"value_of\",\"main\",\"mineralised\",\"image\",\"consisted_of\",\"years\",\"from_this\",\"domains\",\"january\",\"high_mg\",\"july\",\"observed\",\"north_east\",\"provided\",\"sampling_was\",\"towards_the\",\"along_with\",\"via_the\",\"ultramafic_units\",\"part\",\"used_in\",\"report_on\",\"gold_exploration\",\"grades\",\"thin\",\"felsic_volcanics\",\"northern\",\"reporting\",\"contact_between\",\"deformation\",\"operations\",\"exploration_report\",\"lodes\",\"close_to\",\"locally\",\"tippwell_collar_export\",\"sedimentary_rocks\",\"estimation\",\"overlain_by\",\"mineral_exploration\",\"are_located\",\"assays\",\"pyrrhotite\",\"to_depth\",\"cm\",\"mapping_and\",\"the_entire\",\"fe\",\"clay\",\"result_of\",\"open_file\",\"wa\",\"conditions\",\"bedrock\",\"nature_of\",\"local_geology\",\"existing\",\"density\",\"the_top\",\"volcanics\",\"represent\",\"pb\",\"while\",\"br_gy\",\"the_existing\",\"resources_limited\",\"so\",\"of_industry\",\"felsic_volcanic\",\"geological_interpretation\",\"mineral_field\",\"surveyed\",\"given\",\"made\",\"geochemical\",\"such\",\"further_work\",\"resource_estimation\",\"contains\",\"of_contents\",\"that_has\",\"similar_to\",\"altered\",\"located_on\",\"for_all\",\"for_nickel\",\"often\",\"ni_cu\",\"extensive\",\"tenement_is\",\"control\",\"in_accordance\",\"data_from\",\"the_basal\",\"for_analysis\",\"reverse_circulation\",\"were_identified\",\"massive_sulphide\",\"komatiite\",\"september\",\"features\",\"probably\",\"bore\",\"iron_formation\",\"digital_data\",\"will\",\"defined_by\",\"may_have\",\"km_north\",\"to_produce\",\"structural\",\"an_average\",\"followed_by\",\"presented_in\",\"rock_types\",\"is_present\",\"bands\",\"average\",\"aqua_regia\",\"the_bulk\",\"occur_in\",\"since\",\"operation\",\"adjacent\",\"subject_to\",\"the_norseman\",\"has_not\",\"cut_off\",\"location_plan\",\"weathered\",\"contact_with\",\"metals_group\",\"intruded_by\",\"strong\",\"sand\",\"required\",\"recovery\",\"base_of\",\"april\",\"base\",\"comprises\",\"anomalous_gold\",\"is_generally\",\"derived_from\",\"common\",\"phase\",\"different\",\"schist\",\"possibly\",\"down_dip\",\"rab_wimbledon\",\"resulted_in\",\"suggests_that\",\"co\",\"line_spacing\",\"mineral_resource\",\"stage\",\"file\",\"services\",\"trace\",\"mercator_gold\",\"margin_of\",\"taken\",\"see_figure\",\"doc\",\"rare\",\"it_has\",\"number\",\"more_than\",\"produced\",\"spacing\",\"out_by\",\"assessment_of\",\"management_plan\",\"north_west\",\"southern\",\"occurs_in\",\"matrix\",\"to_metres\",\"were_also\",\"are_also\",\"is_included\",\"area_has\",\"acacia_aneura\",\"that_have\",\"at_au\",\"whilst\",\"about_km\",\"deep\",\"rc_drill\",\"work_was\",\"in_particular\",\"located_approximately\",\"which_has\",\"reported\",\"is_via\",\"resource_model\",\"the_pilbara\",\"failed_to\",\"orientation\",\"february\",\"one_metre\",\"typically\",\"resources_ltd\",\"and_therefore\",\"industry_and\",\"figure_shows\",\"interval\",\"containing\",\"with_some\",\"methods\",\"estimated\",\"type_rc\",\"as_an\",\"are_listed\",\"modelling\",\"considered\",\"study_area\",\"public_environmental\",\"response\",\"of_kalgoorlie\",\"during_this\",\"of_ppb\",\"were_not\",\"use\",\"kilometres\",\"dykes\",\"exploration_licences\",\"were_used\",\"together_with\",\"mineral_resources\",\"mining_leases\",\"to_assess\",\"sulphide_mineralisation\",\"forms\",\"near_surface\",\"ultramafics\",\"developed\",\"position\",\"kalgoorlie_terrane\",\"gravity\",\"recommendations\",\"before\",\"maximum\",\"nebore_collar_export\",\"integra_mining\",\"rab_nebore\",\"the_second\",\"rather_than\",\"overlying\",\"characterised_by\",\"consistent_with\",\"refer_to\",\"status\",\"later\",\"jubilee_mines\",\"ms\",\"rab_holes\",\"agreement\",\"without\",\"north_northwest\",\"significant_gold\",\"near\",\"covers\",\"highway\",\"grade_control\",\"an_extensive\",\"combined\",\"top_of\",\"program_was\",\"metre\",\"in_places\",\"the_highest\",\"submitted_to\",\"selected\",\"ultramafic_unit\",\"final\",\"peak_hill\",\"boundary\",\"northeast_of\",\"groundwater\",\"drillholes\",\"historical\",\"body\",\"conglomerate\",\"drill_core\",\"base_metals\",\"chert\",\"comprising\",\"long\",\"plan_figure\",\"group_limited\",\"magnetic_data\",\"amphibolite\",\"projects\",\"coal\",\"to_define\",\"auger_soil\",\"mostly\",\"were_taken\",\"prospective_for\",\"tenement_details\",\"october\",\"ore_project\",\"this_tenement\",\"multi_element\",\"undertaken_by\",\"mafic_rocks\",\"lies_within\",\"show\",\"terrain\",\"while_the\",\"figures_and\",\"to_allow\",\"august\",\"surface_geochemistry\",\"shale\",\"that_may\",\"broad\",\"inferred\",\"pilbara\",\"found_in\",\"bodies\",\"in_perth\",\"some_km\",\"images\",\"diamond\",\"package\",\"ranges\",\"laverton\",\"geophysical_data\",\"are_given\",\"mined\",\"drilling_at\",\"northwest_of\",\"the_remaining\",\"lithology\",\"and_access\",\"and_zn\",\"indicates_that\",\"leases\",\"priority\",\"this_species\",\"ne\",\"identified_in\",\"is_recommended\",\"targeted\",\"act\",\"had_been\",\"edge_of\",\"likely_to\",\"was_intersected\",\"teck_cominco\",\"channel\",\"unpublished_report\",\"project_combined\",\"sample_was\",\"regional_scale\",\"mining_limited\",\"targeting\",\"feature\",\"tracks\",\"deposit_is\",\"amount_of\",\"further_exploration\",\"fine_to\",\"which_were\",\"interest_in\",\"interpreted_as\",\"predominantly\",\"as_shown\",\"south_west\",\"those\",\"which_have\",\"within_this\",\"grains\",\"gold_values\",\"sediments_and\",\"programs\",\"was_granted\",\"dipping\",\"figures\",\"numerous\",\"intrusive\",\"conducted_by\",\"all_holes\",\"halls_creek\",\"prospect_is\",\"belt_is\",\"veining\",\"zn\",\"metamorphism\",\"five\",\"hematite\",\"levels\",\"intrusions\",\"trends\",\"down\",\"silica\",\"drainage\",\"second\",\"soil_geochemistry\",\"vertical\",\"in_section\",\"minerals_and\",\"acquired\",\"data_were\",\"are_considered\",\"studies\",\"gravity_survey\",\"overall\",\"reconnaissance\",\"systems\",\"november\",\"northeast\",\"fresh\",\"pilbara_iron\",\"table_below\",\"in_conjunction\",\"basalts\",\"station_tracks\",\"diamond_drill\",\"consisting_of\",\"are_interpreted\",\"the_coolgardie\",\"the_yilgarn\",\"rich\",\"drillhole\",\"intersection_of\",\"south_east\",\"granite_greenstone\",\"planned\",\"in_situ\",\"complete\",\"basis_of\",\"narrow\",\"au_from\",\"is_likely\",\"previous_work\",\"good\",\"green\",\"plate\",\"extension_of\",\"which_may\",\"red\",\"break_iron\",\"flora_and\",\"drilled_to\",\"centre_of\",\"this_survey\",\"completed_by\",\"rio_tinto\",\"nickel_copper\",\"search\",\"low_level\",\"are_included\",\"combined_reporting\",\"coordinates\",\"province\",\"indicate_that\",\"higher\",\"northwest_trending\",\"resulting_in\",\"plagioclase\",\"composite_samples\",\"standard\",\"out_on\",\"granitoids\",\"limited_page\",\"compilation_of\",\"texture\",\"higher_grade\",\"this_unit\",\"the_footwall\",\"location_map\",\"lionore_australia\",\"drilling_data\",\"indicate\",\"mineralisation_within\",\"on_behalf\",\"thin_section\",\"format\",\"the_discovery\",\"event\",\"continued\",\"conductor\",\"re\",\"may_not\",\"was_recorded\",\"conclusions_and\",\"greenstone\",\"larger\",\"work_carried\",\"the_southeast\",\"types\",\"br_dgy\",\"facies\",\"air_core\",\"completed_in\",\"intersections\",\"fauna\",\"contacts\",\"topography\",\"sequence_is\",\"known_as\",\"geological_setting\",\"impacts\",\"were_recorded\",\"host_to\",\"doir\",\"composites\",\"general\",\"most_likely\",\"geophysics\",\"breccia\",\"recent\",\"gold_deposit\",\"mineralisation_was\",\"mining_operations\",\"sample_locations\",\"source_of\",\"granodiorite\",\"january_to\",\"distribution\",\"calcrete\",\"garnet\",\"these_areas\",\"composite\",\"future\",\"steeply_dipping\",\"soil_anomaly\",\"environ_fmg\",\"hosted_by\",\"must_be\",\"local_grid\",\"present_in\",\"oz\",\"anomalism\",\"there_was\",\"the_laverton\",\"mafic_volcanics\",\"data_set\",\"cross_cutting\",\"historic\",\"jv\",\"outcrops\",\"nw\",\"now\",\"land\",\"deposits_are\",\"goethite\",\"of_conservation\",\"anticline\",\"agreement_with\",\"flows\",\"evidence_of\",\"the_hamersley\",\"underlain_by\",\"sub_parallel\",\"exploration_drilling\",\"parallel\",\"olivine\",\"presence_of\",\"project_tenements\",\"metals\",\"resources_nl\",\"placer_dome\",\"ppm_cu\",\"note\",\"flow\",\"previously\",\"gossan\",\"represents\",\"on_site\",\"fresh_rock\",\"potential_impacts\",\"single\",\"setting\",\"report_doc\",\"sheared\",\"are_generally\",\"disseminated\",\"comprised\",\"samples_from\",\"noise\",\"formation_is\",\"fine\",\"ii\",\"recorded_in\",\"and_analysed\",\"overburden\",\"km_south\",\"channels\",\"the_lack\",\"as_appendix\",\"to_form\",\"footwall\",\"many_of\",\"required_to\",\"southern_geoscience\",\"aboriginal_heritage\",\"sampled\",\"granitoid\",\"gold_mine\",\"generated\",\"jackson_gold\",\"intercepts\",\"are_summarised\",\"craton\",\"lack_of\",\"priority_flora\",\"surface_sampling\",\"geochemical_sampling\",\"is_characterised\",\"lenses\",\"the_initial\",\"in_november\",\"this_zone\",\"environmental_protection\",\"all_samples\",\"haul_road\",\"composed_of\",\"to_represent\",\"few\",\"therefore\",\"fire_assay\",\"talc\",\"the_old\",\"and_possibly\",\"further_drilling\",\"was_designed\",\"environmental\",\"is_hosted\",\"group_is\",\"analysed_for\",\"is_more\",\"variable\",\"rab_tippwell\",\"not_been\",\"assay_data\",\"reef\",\"no_further\",\"south_junction\",\"applied_to\",\"plunge\",\"portions_of\",\"particularly\",\"previous_drilling\",\"to_mm\",\"the_underlying\",\"source\",\"direction\",\"at_scale\",\"sill\",\"exploration_pty\",\"techniques\",\"mg\",\"over_acacia\",\"geological_report\",\"extent\",\"high_mgo\",\"there_were\",\"basement\",\"mapped\",\"terrane\",\"south_project\",\"separate\",\"dolomite\",\"very\",\"out_in\",\"ridge\",\"surrounding\",\"consultants\",\"faulting\",\"for_further\",\"significance\",\"little\",\"se\",\"tonnes\",\"have_not\",\"evaluation_of\",\"was_drilled\",\"is_based\",\"boundaries\",\"holes_drilled\",\"coarse\",\"in_excess\",\"see\",\"shows\",\"covered\",\"found\",\"formations\",\"exploration_program\",\"are_present\",\"contain\",\"aerial_photography\",\"track\",\"related\",\"taken_from\",\"held\",\"over_strike\",\"faults_and\",\"in_both\",\"the_completion\",\"in_general\",\"collected_from\",\"reserve\",\"break\",\"find\",\"is_provided\",\"appropriate\",\"be_used\",\"obtained_from\",\"another\",\"respectively\",\"licence\",\"completed_on\",\"divided_into\",\"geochemical_data\",\"oxide\",\"entered_into\",\"project_page\",\"past\",\"initially\",\"laboratory\",\"been_identified\",\"waste\",\"it_may\",\"were_analysed\",\"were_submitted\",\"textures\",\"classification\",\"christmas_creek\",\"beneath_the\",\"field_reconnaissance\",\"underground\",\"the_centre\",\"road_and\",\"to_assist\",\"less\",\"client\",\"diamond_holes\",\"according_to\",\"exploration_potential\",\"held_by\",\"were_undertaken\",\"to_ppm\",\"western_margin\",\"currently\",\"in_october\",\"grained\",\"break_september\",\"ref_cloud\",\"is_approximately\",\"saprolite\",\"cr\",\"interest\",\"hummock_grassland\",\"layered_mafic\",\"old\",\"component\",\"aircore_holes\",\"the_aim\",\"occur_within\",\"and_sedimentary\",\"hole_was\",\"fold\",\"poor\",\"as_such\",\"valley\",\"prepared_by\",\"var_aneura\",\"jundeemine_collar_export\",\"dyke\",\"concluded_that\",\"support\",\"district\",\"great_northern\",\"seen_in\",\"indicates\",\"gold_australia\",\"centre\",\"the_surrounding\",\"ground_em\",\"abundant\",\"for_metres\",\"the_gswa\",\"infrastructure\",\"point\",\"project_location\",\"need_to\",\"australia_geological\",\"the_purpose\",\"at_each\",\"largely\",\"river\",\"shears\",\"located_km\",\"where_it\",\"in_relation\",\"undertaken_in\",\"weak\",\"flat\",\"ore_body\",\"the_property\",\"volcanic_rocks\",\"ground_magnetic\",\"these_holes\",\"this_study\",\"mason_geoscience\",\"the_last\",\"horizons\",\"as_small\",\"intersected_in\",\"ptilotus_obovatus\",\"greenstone_sequence\",\"name\",\"alluvium\",\"mining_centre\",\"deposits_in\",\"quartz_carbonate\",\"rock_type\",\"as_it\",\"sample_site\",\"thickness\",\"has_also\",\"fortescue_group\",\"drilling_has\",\"concentrate\",\"combination_of\",\"magnetics\",\"boundary_of\",\"port_hedland\",\"schists\",\"specific\",\"provide\",\"continuity_of\",\"package_of\",\"approximately_kilometres\",\"classified_as\",\"high_strain\",\"fi_ll\",\"archaean\",\"exploration_activity\",\"colour\",\"siltstone\",\"indicated_that\",\"obtained\",\"drill_testing\",\"metasediments\",\"traverses\",\"fault_zone\",\"samples_collected\",\"conducted_on\",\"occurs_as\",\"is_currently\",\"origin\",\"progressive_rehabilitation\",\"explored\",\"the_overall\",\"restricted_to\",\"very_fine\",\"and_submitted\",\"compared_to\",\"was_found\",\"tenement_status\",\"because_of\",\"forming\",\"explanatory_notes\",\"logging\",\"em\",\"via\",\"foliation_parallel\",\"etc\",\"final_doc\",\"to_occur\",\"recommended\",\"this_anomaly\",\"standards\",\"gold_anomalism\",\"diamond_core\",\"greenstones\",\"costs\",\"chalcopyrite\",\"activity\",\"references\",\"volcanics_and\",\"the_focus\",\"strike_slip\",\"black\",\"coincident_with\",\"separated_by\",\"comprise\",\"gneiss\",\"suggest_that\",\"equipment\",\"profile\",\"monitoring\",\"ppm_au\",\"tr\",\"gold_mines\",\"occur\",\"anomaly_is\",\"which_will\",\"this_will\",\"bedding\",\"lake\",\"exposed\",\"closure\",\"position_of\",\"nengland_collar_export\",\"target_areas\",\"ga\",\"design\",\"brown\",\"subject_of\",\"fmg_will\",\"mining_ltd\",\"observed_in\",\"corridor\",\"outside_the\",\"tuckabianna_project\",\"uranium\",\"to_minimise\",\"length\",\"beds\",\"surface_geochemical\",\"other_specify\",\"lies\",\"areas_where\",\"feldspar\",\"basal_contact\",\"alluvial\",\"covering_the\",\"across\",\"these_samples\",\"outcropping\",\"planning\",\"western_side\",\"traverse\",\"with_quartz\",\"eg\",\"magnetic_susceptibility\",\"dam\",\"increased\",\"smaller\",\"pty_limited\",\"background\",\"in_june\",\"the_basis\",\"preliminary\",\"prepared_for\",\"western_areas\",\"work_undertaken\",\"these_were\",\"description_of\",\"quartz_feldspar\",\"soil_sample\",\"rock_samples\",\"work_is\",\"transported\",\"given_in\",\"project_areas\",\"the_telfer\",\"australia_limited\",\"were_returned\",\"thickness_of\",\"northern_highway\",\"referred_to\",\"prospective\",\"moving_loop\",\"crescent_gold\",\"cravens_collar_export\",\"over_triodia\",\"the_next\",\"result\",\"white\",\"regia_digest\",\"syncline\",\"construction_of\",\"understanding_of\",\"required_for\",\"expected_to\",\"in_july\",\"quality_control\",\"grey\",\"prospecting\",\"in_april\",\"application\",\"in_march\",\"of_tonnes\",\"set\",\"contained\",\"goldfields\",\"gold_anomalies\",\"commonly\",\"downhole\",\"water_table\",\"followed_up\",\"located_at\",\"the_great\",\"comprised_of\",\"are_provided\",\"occurs\",\"surveying\",\"gto_gto\",\"horizon\",\"rate_of\",\"tenement_location\",\"nt\",\"that_there\",\"annual\",\"nickel_exploration\",\"subsequently\",\"economic\",\"upper\",\"models\",\"for_example\",\"amphibolite_facies\",\"profiles\",\"legend\",\"was_made\",\"upon\",\"nnw_trending\",\"marshes\",\"and_land\",\"bounded_by\",\"volcanic_and\",\"shown\",\"again\",\"region_is\",\"airborne_magnetic\",\"they\",\"communities\",\"rocks_are\",\"lupton_collar_export\",\"sericite\",\"estimates\",\"them\",\"extension\",\"measured\",\"by_fire\",\"case\",\"established\",\"logged\",\"wall\",\"in_december\",\"small_scale\",\"away_from\",\"camp\",\"felsic_porphyry\",\"intersection\",\"changes_in\",\"are_associated\",\"as_per\",\"talc_carbonate\",\"large_scale\",\"the_full\",\"suggests\",\"is_very\",\"sequences\",\"clearing\",\"transported_cover\",\"ni_co\",\"inferred_resource\",\"the_principal\",\"likely\",\"northern_part\",\"to_host\",\"notes\",\"was_acquired\",\"more_detailed\",\"locations_are\",\"polaris_metals\",\"granted\",\"and_white\",\"fauna_survey\",\"geological_map\",\"the_collection\",\"black_flag\",\"to_complete\",\"showing\",\"rock_chips\",\"is_available\",\"moderate\",\"in_late\",\"aircore\",\"intruded\",\"greenstone_belts\",\"expected\",\"volume\",\"cu_zn\",\"style\",\"nearby\",\"auger_drilling\",\"the_bluebird\",\"suite_of\",\"km_east\",\"field_work\",\"prospect_area\",\"proximity_to\",\"dewatering\",\"colluvium\",\"collar_export_newbema\",\"range_from\",\"modelled\",\"period_st\",\"murchison_metals\",\"ranging_from\",\"many\",\"can\",\"half_of\",\"degrees\",\"with_only\",\"folding\",\"construction\",\"not_be\",\"newbema_warning\",\"once\",\"resource_estimates\",\"usually\",\"diamonds\",\"jack_hills\",\"north_eastern\",\"gold_price\",\"were_located\",\"drilling_programs\",\"and_metallurgy\",\"best\",\"and_infrastructure\",\"to_explore\",\"order_of\",\"australian\",\"fractures\",\"important\",\"first\",\"figure_location\",\"is_covered\",\"the_southwest\",\"magnetic_anomaly\",\"thought_to\",\"mill\",\"regolith_mapping\",\"first_pass\",\"residual\",\"this_may\",\"same\",\"cross\",\"metal_group\",\"plus\",\"ore_fortescue\",\"over_an\",\"six\",\"field_duplicates\",\"but_no\",\"peak\",\"km_long\",\"bif_units\",\"shales\",\"the_largest\",\"on_th\",\"individual\",\"sedimentary\",\"basis\",\"the_latter\",\"pilbara_region\",\"to_enable\",\"exploration_completed\",\"br_dgn\",\"trough_well\",\"sheets\",\"involved\",\"definition_of\",\"lead\",\"here\",\"shows_the\",\"rl\",\"for_ni\",\"limit_of\",\"st_december\",\"lake_carey\",\"occurrence_of\",\"ppm_ni\",\"greenstone_terranes\",\"were_sampled\",\"gqzfdbi_grg\",\"granites\",\"striking\",\"series\",\"geophysical\",\"crystals\",\"based\",\"acacia_pruinocarpa\",\"open_cut\",\"prepared\",\"initial\",\"regional_geological\",\"the_remainder\",\"analyses\",\"drilling_programme\",\"product\",\"as_described\",\"conclusions\",\"files\",\"north_northeast\",\"mining_nl\",\"historical_exploration\",\"original\",\"like\",\"very_high\",\"to_intermediate\",\"plant_communities\",\"to_develop\",\"ef_ec\",\"an_upper\",\"salt_lake\",\"ll_fi\",\"gps\",\"increase\",\"th_june\",\"subsequent\",\"to_cm\",\"mineralised_zone\",\"phase_of\",\"with_maximum\",\"in_size\",\"total_magnetic\",\"sub\",\"heron_resources\",\"wmc\",\"is_expected\",\"work_on\",\"focused_on\",\"compiled\",\"top\",\"orientation_of\",\"set_of\",\"research\",\"to_june\",\"in_terms\",\"gold_ltd\",\"is_relatively\",\"parameters\",\"project_comprises\",\"in_turn\",\"plains\",\"ag\",\"in_august\",\"province_of\",\"was_identified\",\"cutting\",\"all_drill\",\"old_workings\",\"cazaly_resources\",\"spinifex\",\"foliated\",\"localised\",\"soil_anomalies\",\"but_not\",\"tend_to\",\"to_follow\",\"is_summarised\",\"cross_sections\",\"extended\",\"the_whole\",\"auger_sampling\",\"var_obovatus\",\"gravity_data\",\"continuation_of\",\"hanging_wall\",\"as_being\",\"aggregates\",\"is_planned\",\"are_known\",\"should\",\"is_described\",\"mindy_mindy\",\"prospectus\",\"rare_flora\",\"intensity\",\"southeast_of\",\"associates\",\"resources_pty\",\"loop\",\"feasibility_study\",\"however_it\",\"appendices\",\"shrubs_over\",\"mineral_deposits\",\"the_acquisition\",\"to_come\",\"data_compilation\",\"to_avoid\",\"end\",\"assemblage\",\"bulk_density\",\"sills\",\"well_developed\",\"grg\",\"listed_in\",\"increase_in\",\"prospecting_licences\",\"dam_project\",\"purposes\",\"properties\",\"described_in\",\"leach\",\"is_still\",\"to_confirm\",\"requirements\",\"may_also\",\"target_area\",\"ferruginous\",\"mine_site\",\"open_pits\",\"in_house\",\"bottom_of\",\"were_assayed\",\"intermediate\",\"wiluna\",\"detailed_geological\",\"width\",\"and_analytical\",\"basalts_and\",\"tenement_package\",\"coolgardie\",\"alteration_zones\",\"developed_in\",\"consist_of\",\"tonnes_at\",\"infill\",\"apart_from\",\"layer\",\"returned_from\",\"black_shale\",\"were_intersected\",\"metamorphic\",\"author\",\"to_better\",\"to_contain\",\"figure_regional\",\"composition\",\"gold_bearing\",\"survey_data\",\"type_rab\",\"underlying\",\"figures_figure\",\"that_can\",\"gold_anomaly\",\"completed_over\",\"remains\",\"validation\",\"the_exception\",\"sampling_program\",\"though\",\"bullfinch_north\",\"norseman\",\"review_cloud\",\"september_fortescue\",\"chips\",\"soil_survey\",\"layers\",\"in_place\",\"komatiites\",\"to_obtain\",\"caused_by\",\"result_in\",\"the_lady\",\"detail\",\"ore_reserves\",\"below_surface\",\"and_associates\",\"is_now\",\"materials\",\"procedures\",\"clear\",\"rab_drill\",\"light\",\"reserves\",\"sent_to\",\"personnel\",\"lake_johnston\",\"shown_on\",\"property\",\"recommended_that\",\"pegmatite\",\"using_an\",\"is_probably\",\"geological_model\",\"this_hole\",\"water_quality\",\"with_respect\",\"used_as\",\"rainfall\",\"sets\",\"pdf\",\"ground_magnetics\",\"processes\",\"all_drilling\",\"br_gn\",\"conductors\",\"western_zone\",\"tenement_group\",\"criteria\",\"assemblages\",\"in_length\",\"so_that\",\"geophysical_interpretation\",\"and_fauna\",\"any_significant\",\"heritage_survey\",\"applications\",\"gcmjseb_warning\",\"rab_jundeemine\",\"exploration_data\",\"collar_export_gcmjseb\",\"southern_part\",\"for_any\",\"ultramafic_intrusions\",\"ie\",\"difficult_to\",\"deeper\",\"in_early\",\"services_pty\",\"variations_in\",\"accuracy\",\"band\",\"mineralised_zones\",\"clays\",\"is_defined\",\"groups\",\"unit_is\",\"oxidation\",\"flat_lying\",\"fortescue_marshes\",\"as_defined\",\"at_mt\",\"and_radiometric\",\"regional_exploration\",\"identified_by\",\"to_dec\",\"polaris\",\"exploration_limited\",\"drill_tested\",\"all_other\",\"earlier\",\"description\",\"member\",\"is_overlain\",\"down_plunge\",\"having\",\"as_they\",\"cr_cu\",\"note_that\",\"nne_trending\",\"ounces_of\",\"completed_during\",\"the_jack\",\"software\",\"style_of\",\"were_carried\",\"they_were\",\"project_tenement\",\"expenditure\",\"was_applied\",\"potentially\",\"which_included\",\"the_greenstones\",\"other_than\",\"shearing\",\"auger\",\"boundary_between\",\"in_september\",\"that_will\",\"patterns\",\"to_undertake\",\"place\",\"environmental_management\",\"to_december\",\"pastoral_lease\",\"sub_vertical\",\"confirmed_the\",\"has_identified\",\"intrusives\",\"or_more\",\"encountered\",\"golder_associates\",\"medium_to\",\"mafic_volcanic\",\"provided_by\",\"gold_production\",\"quartzite\",\"field_mapping\",\"the_immediate\",\"the_state\",\"correlation\",\"access_is\",\"seen\",\"landsat_tm\",\"acacia\",\"to_genalysis\",\"code\",\"the_yandal\",\"at_cloud\",\"full\",\"in_close\",\"iron_rich\",\"ore_grade\",\"field_season\",\"throughout\",\"dominant\",\"remote_sensing\",\"disturbance\",\"to_reduce\",\"gravel\",\"aeromagnetic_survey\",\"non\",\"side_of\",\"because\",\"line_km\",\"there\",\"aeromagnetic\",\"ultramafic_sequence\",\"sons_of\",\"the_chichester\",\"is_typically\",\"internal\",\"kg\",\"heavy_mineral\",\"rab_nengland\",\"acacia_ramulosa\",\"roads_and\",\"archaean_lode\",\"environmental_impact\",\"in_detail\",\"acacia_xiphophylla\",\"applied\",\"plans\",\"height\",\"proportion_of\",\"lode_gold\",\"fabric\",\"to_generate\",\"pyroxenite\",\"pilbara_craton\",\"limit\",\"thus\",\"hard\",\"fragments\",\"investigation\",\"this_structure\",\"known_mineralisation\",\"from_surface\",\"will_also\",\"cannot_be\",\"reported_in\",\"amphibole\",\"was_considered\",\"three_mile\",\"be_required\",\"low_angle\",\"geological_series\",\"alteration_zone\",\"proterozoic\",\"st\",\"were_conducted\",\"were_found\",\"be_associated\",\"the_coyote\",\"an_inferred\",\"flora\",\"detection_limit\",\"ounces\",\"menzies\",\"is_known\",\"ca\",\"width_of\",\"pre\",\"mining_activities\",\"venture\",\"ore_bodies\",\"western_part\",\"all_data\",\"degree_of\",\"data_review\",\"map_sheet\",\"sphalerite\",\"that_it\",\"technique\",\"ultramafic_mafic\",\"energy\",\"determined\",\"extensions_of\",\"access_track\",\"data_has\",\"an_interpreted\",\"rab_aircore\",\"mv\",\"is_marked\",\"ltd_randells\",\"wf\",\"stratigraphic\",\"has_resulted\",\"talc_chlorite\",\"the_menzies\",\"at_about\",\"fold_hinge\",\"the_identification\",\"reference\",\"to_evaluate\",\"were_made\",\"stations\",\"woodland_of\",\"host_rocks\",\"undertaken_during\",\"sw\",\"pt_pd\",\"proximal_to\",\"the_marsh\",\"main_zone\",\"chert_and\",\"the_marshes\",\"the_spatial\",\"calm\",\"highly\",\"the_possibility\",\"exploration_targets\",\"newcrest_mining\",\"per\",\"folded\",\"found_to\",\"greater\",\"meekatharra\",\"and_thus\",\"model_was\",\"terms_of\",\"most_significant\",\"plan_march\",\"folds\",\"sub_audio\",\"well_project\",\"at_intervals\",\"aeromagnetics\",\"banded\",\"whim_creek\",\"secondary\",\"australian_gold\",\"analysed_by\",\"these_two\",\"soil_geochemical\",\"majority_of\",\"siliceous\",\"particular\",\"characteristics\",\"substantial\",\"list\",\"coupled_plasma\",\"by_icp\",\"southern_portion\",\"roads\",\"was_collected\",\"west_dipping\",\"in_february\",\"bluff_well\",\"bi\",\"tests\",\"believed_to\",\"topsoil\",\"with_best\",\"confidence\",\"interpreted_from\",\"may_represent\",\"and_evaluation\",\"late_time\",\"was_mined\",\"age\",\"project_geology\",\"anomalous_areas\",\"evaluation\",\"was_observed\",\"change_in\",\"is_given\",\"and_prospecting\",\"to_locate\",\"were_obtained\",\"ppb_gold\",\"high_priority\",\"an_attempt\",\"linear\",\"wholly_owned\",\"km_wide\",\"tonnes_of\",\"all_available\",\"see_table\",\"from_previous\",\"anomalies_were\",\"representing\",\"fr_om\",\"but_are\",\"it_appears\",\"lag\",\"to_aid\",\"still\",\"cid\",\"this_prospectus\",\"ha\",\"the_margins\",\"these_tenements\",\"trending_faults\",\"meters\",\"in_figures\",\"maps\",\"northeast_trending\",\"dataset\",\"internal_report\",\"or_near\",\"laboratories_in\",\"central_part\",\"formed\",\"accuracy_of\",\"were_observed\",\"and_revegetation\",\"suggest\",\"gswa\",\"nickel_laterite\",\"processed\",\"this_stage\",\"surveys_were\",\"remain\",\"in_thickness\",\"multiple\",\"typical\",\"movement\",\"described_by\",\"marsh\",\"digital_terrain\",\"calcite\",\"is_consistent\",\"an_additional\",\"collar\",\"as_possible\",\"digital\",\"helix\",\"acid\",\"tenements_were\",\"nw_trending\",\"to_intersect\",\"preparation_of\",\"greenschist_facies\",\"the_braemore\",\"intrusive_rocks\",\"undertaken_on\",\"test_work\",\"drilling_intersected\",\"exploration_during\",\"disseminated_sulphides\",\"mt_gibbs\",\"the_right\",\"drill_samples\",\"pattern\",\"no_anomalous\",\"scoping_study\",\"data_sets\",\"issues\",\"hosted_within\",\"cut_by\",\"grade_estimation\",\"hornblende\",\"aeromagnetic_image\",\"rig\",\"parallel_veins\",\"shares\",\"fe_mg\",\"surrender_report\",\"title\",\"mulga\",\"combined_with\",\"increasing\",\"seam\",\"fluid\",\"report_prepared\",\"producing\",\"th_march\",\"is_bounded\",\"map_figure\",\"for_both\",\"two_main\",\"anomalous_results\",\"are_hosted\",\"is_contained\",\"information_on\",\"been_completed\",\"the_halls\",\"levels_of\",\"and_assayed\",\"to_use\",\"bores\",\"was_encountered\",\"reconnaissance_rab\",\"towards\",\"dry\",\"platina_resources\",\"association\",\"test_for\",\"gy_fg\",\"conducted_in\",\"gold_mining\",\"discovered\",\"volcanic\",\"loss_of\",\"transport\",\"oxidised\",\"drilled_by\",\"occurs_within\",\"available_data\",\"the_golden\",\"jorc_code\",\"deposition_of\",\"better\",\"th_january\",\"programme_was\",\"cost\",\"margins_of\",\"ac_tippwell\",\"cu_pb\",\"highlighted\",\"tenement_was\",\"provided_in\",\"western_limb\",\"completion_of\",\"plain\",\"split\",\"these_rocks\"],\"x\":{\"__ndarray__\":\"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\",\"dtype\":\"float32\",\"order\":\"little\",\"shape\":[2500]},\"y\":{\"__ndarray__\":\"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\",\"dtype\":\"float32\",\"order\":\"little\",\"shape\":[2500]}},\"selected\":{\"id\":\"1057\"},\"selection_policy\":{\"id\":\"1056\"}},\"id\":\"1038\",\"type\":\"ColumnDataSource\"},{\"attributes\":{\"coordinates\":null,\"group\":null,\"source\":{\"id\":\"1038\"},\"text\":{\"field\":\"text_labels\"},\"text_align\":{\"value\":\"center\"},\"text_color\":{\"value\":\"#555555\"},\"text_font_size\":{\"value\":\"8pt\"},\"x\":{\"field\":\"x\"},\"y\":{\"field\":\"y\"},\"y_offset\":{\"value\":8}},\"id\":\"1045\",\"type\":\"LabelSet\"},{\"attributes\":{},\"id\":\"1057\",\"type\":\"Selection\"},{\"attributes\":{},\"id\":\"1007\",\"type\":\"LinearScale\"},{\"attributes\":{},\"id\":\"1020\",\"type\":\"ZoomInTool\"},{\"attributes\":{},\"id\":\"1021\",\"type\":\"ZoomOutTool\"},{\"attributes\":{\"callback\":null},\"id\":\"1019\",\"type\":\"HoverTool\"},{\"attributes\":{\"overlay\":{\"id\":\"1028\"}},\"id\":\"1022\",\"type\":\"BoxZoomTool\"},{\"attributes\":{\"axis\":{\"id\":\"1015\"},\"coordinates\":null,\"dimension\":1,\"group\":null,\"ticker\":null},\"id\":\"1018\",\"type\":\"Grid\"},{\"attributes\":{},\"id\":\"1025\",\"type\":\"ResetTool\"},{\"attributes\":{},\"id\":\"1024\",\"type\":\"RedoTool\"}],\"root_ids\":[\"1002\"]},\"title\":\"Bokeh Application\",\"version\":\"2.4.3\"}};\n  const render_items = [{\"docid\":\"087293f5-d0db-41d9-8311-dd243f8f1f51\",\"root_ids\":[\"1002\"],\"roots\":{\"1002\":\"89cd3c6e-2634-4d03-817f-38d2df319b32\"}}];\n  root.Bokeh.embed.embed_items_notebook(docs_json, render_items);\n  }\n  if (root.Bokeh !== undefined) {\n    embed_document(root);\n  } else {\n    let attempts = 0;\n    const timer = setInterval(function(root) {\n      if (root.Bokeh !== undefined) {\n        clearInterval(timer);\n        embed_document(root);\n      } else {\n        attempts++;\n        if (attempts > 100) {\n          clearInterval(timer);\n          console.log(\"Bokeh: ERROR: Unable to run BokehJS code because BokehJS library is missing\");\n        }\n      }\n    }, 10, root)\n  }\n})(window);",
      "application/vnd.bokehjs_exec.v0+json": ""
     },
     "metadata": {
      "application/vnd.bokehjs_exec.v0+json": {
       "id": "1002"
      }
     },
     "output_type": "display_data"
    },
    {
     "data": {
      "application/javascript": "\n            setTimeout(function() {\n                var nbb_cell_id = 63;\n                var nbb_unformatted_code = \"interactive_tsne(list(gswa_model.wv.key_to_index)[:points], X_tsne)\";\n                var nbb_formatted_code = \"interactive_tsne(list(gswa_model.wv.key_to_index)[:points], X_tsne)\";\n                var nbb_cells = Jupyter.notebook.get_cells();\n                for (var i = 0; i < nbb_cells.length; ++i) {\n                    if (nbb_cells[i].input_prompt_number == nbb_cell_id) {\n                        if (nbb_cells[i].get_text() == nbb_unformatted_code) {\n                             nbb_cells[i].set_text(nbb_formatted_code);\n                        }\n                        break;\n                    }\n                }\n            }, 500);\n            ",
      "text/plain": [
       "<IPython.core.display.Javascript object>"
      ]
     },
     "metadata": {},
     "output_type": "display_data"
    }
   ],
   "source": [
    "interactive_tsne(list(gswa_model.wv.key_to_index)[:points], X_tsne)"
   ]
  }
 ],
 "metadata": {
  "colab": {
   "collapsed_sections": [],
   "name": "12.2.2-WordEmbeddings.ipynb",
   "provenance": [],
   "toc_visible": true
  },
  "kernelspec": {
   "display_name": "Python 3.8.10 64-bit",
   "language": "python",
   "name": "python3"
  },
  "language_info": {
   "codemirror_mode": {
    "name": "ipython",
    "version": 3
   },
   "file_extension": ".py",
   "mimetype": "text/x-python",
   "name": "python",
   "nbconvert_exporter": "python",
   "pygments_lexer": "ipython3",
   "version": "3.8.10"
  },
  "vscode": {
   "interpreter": {
    "hash": "e2040bd4ff7059bd5923140baaf547b26fe1060b2698e4d8905dba1b3e302910"
   }
  }
 },
 "nbformat": 4,
 "nbformat_minor": 4
}
