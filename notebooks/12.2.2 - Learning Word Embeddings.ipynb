{
 "cells": [
  {
   "cell_type": "markdown",
   "metadata": {
    "colab_type": "text",
    "id": "hyRjwrQynR22"
   },
   "source": [
    "# Learning Word Embeddings\n",
    "\n",
    "Source: 😊[Day 12 - Special Data Types: Natural Language Processing](https://github.com/core-skills/12-text-processing) *repository*"
   ]
  },
  {
   "cell_type": "markdown",
   "metadata": {},
   "source": [
    "> ☝️Before moving on with this notebook, ensure that you have:\n",
    "- Downloaded the [hotels review data](https://github.com/kavgan/nlp-in-practice/blob/master/word2vec/reviews_data.txt.gz) (*reviews_data.txt.gz*) and placed it in the `./data` directory.\n",
    "- Downloaded the GSWA data (*wamex_xml.zip*) and placed it in the `./data` directory."
   ]
  },
  {
   "cell_type": "markdown",
   "metadata": {},
   "source": [
    "**Overview**: Generating word embeddings using Gensim Word2Vec... Word Embeddings and Word2Vec\n",
    "In this notebook, rather than loading word embeddings trained on large generic datasets, we train our own embedding models."
   ]
  },
  {
   "cell_type": "markdown",
   "metadata": {
    "colab_type": "text",
    "id": "HfoKOGconR29"
   },
   "source": [
    "This notebook uses two types of datasets.\n",
    "1. General Domain: 259,000 *hotel reviews* from [OpinRank](https://archive.ics.uci.edu/ml/datasets/opinrank+review+dataset) \n",
    "2. Domain Specific: *geological surveys* (GSWA)"
   ]
  },
  {
   "cell_type": "markdown",
   "metadata": {},
   "source": [
    "**Supplementary Content**: ...s"
   ]
  },
  {
   "cell_type": "markdown",
   "metadata": {},
   "source": [
    "Adapted from: [*Kavita Ganesan's tutorial*](http://kavita-ganesan.com/gensim-word2vec-tutorial-starter-code/) ([*repository*](https://github.com/kavgan/data-science-tutorials/tree/master/word2vec))"
   ]
  },
  {
   "cell_type": "markdown",
   "metadata": {},
   "source": [
    "## Table of Contents\n",
    "1. [Understanding Word2Vec parameters](#word2vec_parameters)\n",
    "2. [Building general-domain word vectors](#general-domain_word_vectors)\n",
    "3. [Building domain-specific word vectors](#domain-specific_word_vectors)"
   ]
  },
  {
   "cell_type": "markdown",
   "metadata": {},
   "source": [
    "### Import Dependencies\n",
    "- [gzip](https://docs.python.org/3/library/gzip.html) - library that we use to read data in .zip format\n",
    "- [bokeh](https://bokeh.org/) - library that we use to interactively visualise word vectors \n",
    "- [gensim](https://radimrehurek.com/gensim/) - library that we will use to experiment with word embeddings/vectors"
   ]
  },
  {
   "cell_type": "code",
   "execution_count": 1,
   "metadata": {
    "colab": {},
    "colab_type": "code",
    "id": "PliE9yXYnR25"
   },
   "outputs": [],
   "source": [
    "import gzip\n",
    "from pathlib import Path\n",
    "from typing import List\n",
    "import zipfile\n",
    "import json\n",
    "\n",
    "import gensim\n",
    "import bokeh\n",
    "from bokeh.plotting import figure, show\n",
    "from bokeh.io import push_notebook, output_notebook\n",
    "from bokeh.models import ColumnDataSource, LabelSet\n",
    "from bokeh.plotting import figure, show\n",
    "from bokeh.io import push_notebook, output_notebook\n",
    "from bokeh.models import ColumnDataSource, LabelSet\n",
    "import pandas as pd\n",
    "import nltk\n",
    "from sklearn.manifold import TSNE\n",
    "import numpy as np\n",
    "import matplotlib.pyplot as plt\n",
    "import matplotlib"
   ]
  },
  {
   "cell_type": "markdown",
   "metadata": {},
   "source": [
    "### Set up the notebook environment and load helper functions"
   ]
  },
  {
   "cell_type": "code",
   "execution_count": 2,
   "metadata": {},
   "outputs": [],
   "source": [
    "# Need the interactive Tools for Matplotlib\n",
    "%matplotlib inline\n",
    "# Plot formatting\n",
    "plt.rcParams[\"figure.figsize\"] = [12,6]\n",
    "font = {'size':12}\n",
    "matplotlib.rc('font', **font)"
   ]
  },
  {
   "cell_type": "code",
   "execution_count": 3,
   "metadata": {},
   "outputs": [],
   "source": [
    "def read_input(input_file_path: str) -> List:\n",
    "    '''Parses input file which is in gzip format'''\n",
    "    assert input_file_path.endswith('.gz')\n",
    "    \n",
    "    corpus = []\n",
    "    with gzip.open(input_file_path, 'rb') as f:\n",
    "        for line in f: \n",
    "            # Perform pre-processing and return a list of words from each review text \n",
    "            corpus.append(gensim.utils.simple_preprocess(line))\n",
    "    return corpus"
   ]
  },
  {
   "cell_type": "code",
   "execution_count": 4,
   "metadata": {},
   "outputs": [],
   "source": [
    "def prettify_similarities(similarities: List[tuple]) -> List[str]:\n",
    "    ''' Prettifies list of word similarities produced by Gensim.\n",
    "    '''\n",
    "    longest_str = max([len(sim[0]) for sim in similarities])\n",
    "    print(\"\\n\".join([f'{idx+1}.\\t{sim[0]:{longest_str+1}}\\t{sim[1]*100:0.1f}%' for idx, sim in enumerate(similarities)]))"
   ]
  },
  {
   "cell_type": "markdown",
   "metadata": {
    "colab_type": "text",
    "id": "M5YUtIH_nR3J"
   },
   "source": [
    "## Understanding Word2Vec Parameters<a name=\"word2vec_parameters\"></a>"
   ]
  },
  {
   "cell_type": "markdown",
   "metadata": {},
   "source": [
    "Before training our custom embedding models, we need to understand some of the models parameters. For reference, this is the command that we will use to train the model: `model = gensim.models.Word2Vec(sentences=documents, size=150, window=10, min_count=2, workers=10)`\n",
    "\n",
    "#### Parameters of Interest\n",
    "`sentences`: The corpus that the model will be trained on in the format of a list of lists of tokens.\n",
    "\n",
    "`size`: The size of the dense vector to represent each token or word. If you have very limited data, then size should be a much smaller value. If you have lots of data, its good to experiment with various sizes. Typical sizes are 100-300. A value of 100-150 has worked well for me. \n",
    "\n",
    "`window`: The maximum distance between the target word and its neighboring word. If your neighbor's position is greater than the maximum window width to the left and the right, then, some neighbors are not considered as being related to the target word. In theory, a smaller window should give you terms that are more related. If you have lots of data, then the window size should not matter too much, as long as its a decent sized window.\n",
    "\n",
    "`min_count`: Minimium frequency count of words. The model would ignore words that do not statisfy the min_count. Extremely infrequent words are usually unimportant, so its best to get rid of those. Unless your dataset is really tiny, this does not really affect the model.\n",
    "\n",
    "`workers`: How many threads to use behind the scenes?"
   ]
  },
  {
   "cell_type": "markdown",
   "metadata": {},
   "source": [
    "<hr/>"
   ]
  },
  {
   "cell_type": "markdown",
   "metadata": {},
   "source": [
    "## 🏢 Learning General-Domain Word Embeddings <a name=\"general-domain_word_vectors\"></a>\n",
    "In this section we will learn word embeddings from a general-domain (hotel reviews). The hotel reviews contains:\n",
    "- Full reviews of hotels in 10 different cities (Dubai, Beijing, London, New York City, New Delhi, San Francisco, Shanghai, Montreal, Las Vegas, Chicago) \n",
    "- There are about 80-700 hotels in each city \n",
    "- Extracted fields include date, review title and the full review \n",
    "- Total number of reviews: ~259,000"
   ]
  },
  {
   "cell_type": "markdown",
   "metadata": {},
   "source": [
    "### Load and pre-process hotel reviews dataset\n",
    "Before learning word embeddings, we need to load and pre-process the hotel reviews corpus. The helper function `read_input` aids us with this task. This helper parses the dataset that is in .zip format and composed of numerous .json data files. These are read into memory and pre-processed with Gensim's `gensim.utils.simple_preprocess()` function that converts each review into a list of tokens that are lower cased."
   ]
  },
  {
   "cell_type": "markdown",
   "metadata": {},
   "source": [
    "⚠️Loading the hotel reviews documents will take a few minutes"
   ]
  },
  {
   "cell_type": "code",
   "execution_count": 5,
   "metadata": {},
   "outputs": [],
   "source": [
    "# The data_file path will be different depending on where you've copied the notebooks...\n",
    "data_file = '../data/reviews_data.txt.gz'\n",
    "\n",
    "# Read the tokenized reviews into a list each review item becomes a series of words so this becomes a list of lists\n",
    "documents = read_input(input_file_path=data_file)"
   ]
  },
  {
   "cell_type": "code",
   "execution_count": 6,
   "metadata": {},
   "outputs": [
    {
     "name": "stdout",
     "output_type": "stream",
     "text": [
      "['sep', 'great', 'budget', 'hotel', 'stayed', 'two', 'nights', 'at', 'aloft', 'on', 'the', 'most', 'recent', 'trip', 'to', 'china', 'the', 'hotel', 'was', 'very', 'modern', 'and', 'clean', 'the', 'room', 'was', 'spotless', 'and', 'comfortable', 'king', 'sized', 'bed', 'as', 'far', 'as', 'soft', 'beds', 'go', 'in', 'china', 'the', 'staff', 'was', 'very', 'punctual', 'and', 'went', 'out', 'of', 'the', 'way', 'to', 'help', 'my', 'every', 'need', 'including', 'going', 'to', 'store', 'across', 'the', 'street', 'to', 'purchase', 'china', 'mobile', 'sim', 'card', 'for', 'me', 'the', 'buffet', 'breakfast', 'was', 'okay', 'nothing', 'to', 'write', 'home', 'about', 'the', 'lcd', 'screen', 'had', 'movies', 'on', 'demand', 'for', 'rmb', 'and', 'had', 'good', 'selection', 'of', 'western', 'channels', 'including', 'hbo', 'cnn', 'bbc', 'star', 'world', 'etc', 'the', 'gym', 'was', 'small', 'had', 'selection', 'of', 'basic', 'weights', 'and', 'one', 'cable', 'machine', 'there', 'was', 'however', 'new', 'technogym', 'cardio', 'machines', 'with', 'built', 'in', 'lcd', 'tvs', 'which', 'were', 'very', 'good', 'the', 'location', 'is', 'bit', 'out', 'of', 'the', 'way', 'to', 'the', 'central', 'areas', 'of', 'beijing', 'but', 'it', 'is', 'better', 'suited', 'for', 'my', 'needs', 'as', 'need', 'to', 'be', 'in', 'the', 'haidian', 'district', 'being', 'spg', 'platinum', 'there', 'were', 'no', 'upgrades', 'to', 'better', 'room', 'because', 'aloft', 'has', 'policy', 'of', 'not', 'doing', 'any', 'upgrades', 'the', 'sheraton', 'next', 'door', 'is', 'much', 'nicer', 'hotel', 'in', 'my', 'opinion', 'where', 'am', 'writing', 'this', 'from', 'now', 'with', 'an', 'upgraded', 'room', 'but', 'as', 'far', 'as', 'bang', 'for', 'the', 'buck', 'aloft', 'is', 'great', 'place']\n"
     ]
    }
   ],
   "source": [
    "# Review the tokenized hotel reviews documents\n",
    "print(documents[1])"
   ]
  },
  {
   "cell_type": "markdown",
   "metadata": {},
   "source": [
    "### Training general-domain word embeddings\n",
    "Here we set-up our Word2Vec embedding model and train it on the documents in the hotel reviews dataset. After training, we save it so it can be used without requiring re-training. "
   ]
  },
  {
   "cell_type": "markdown",
   "metadata": {},
   "source": [
    "⚠️ Training the embedding model will take a while due to the 250k documents"
   ]
  },
  {
   "cell_type": "code",
   "execution_count": 7,
   "metadata": {},
   "outputs": [],
   "source": [
    "# Set-up model\n",
    "model = gensim.models.Word2Vec(sentences=documents, size=150, window=10, min_count=2, workers=10)"
   ]
  },
  {
   "cell_type": "code",
   "execution_count": 8,
   "metadata": {},
   "outputs": [
    {
     "data": {
      "text/plain": [
       "(303499431, 415193580)"
      ]
     },
     "execution_count": 8,
     "metadata": {},
     "output_type": "execute_result"
    }
   ],
   "source": [
    "# Train model on hotel reviews corpus\n",
    "model.train(documents, total_examples=len(documents), epochs=10)"
   ]
  },
  {
   "cell_type": "code",
   "execution_count": 9,
   "metadata": {},
   "outputs": [],
   "source": [
    "# Save trained embedding models\n",
    "model.save(\"../data/word2vec/word2vec_reviews.bin\")"
   ]
  },
  {
   "cell_type": "markdown",
   "metadata": {},
   "source": [
    "📣 Alternatively, load the embeddings that we've already pre-trained."
   ]
  },
  {
   "cell_type": "raw",
   "metadata": {},
   "source": [
    "modelpath = Path('../data/word2vec/word2vec_reviews.bin').resolve()"
   ]
  },
  {
   "cell_type": "raw",
   "metadata": {},
   "source": [
    "model = gensim.models.Word2Vec.load(str(modelpath))"
   ]
  },
  {
   "cell_type": "markdown",
   "metadata": {},
   "source": [
    "### Reviewing learnt word embeddings\n",
    "Similar to the notebook [12.2.1 - Word vector visualisation with Gensim](https://github.com/core-skills/12-text-processing/blob/master/notebooks/12.2.1%20-%20Word%20vector%20visualization%20with%20Gensim.ipynb), we will explore the similarity of words represented with our general-domain embeddings."
   ]
  },
  {
   "cell_type": "markdown",
   "metadata": {},
   "source": [
    "#### Word Similarities"
   ]
  },
  {
   "cell_type": "code",
   "execution_count": 10,
   "metadata": {},
   "outputs": [
    {
     "name": "stdout",
     "output_type": "stream",
     "text": [
      "1.\tcourteous    \t92.5%\n",
      "2.\tfriendly     \t83.7%\n",
      "3.\tcordial      \t81.1%\n",
      "4.\tprofessional \t80.1%\n",
      "5.\tattentive    \t78.4%\n",
      "6.\tcurteous     \t77.8%\n",
      "7.\tpersonable   \t75.0%\n",
      "8.\tfreindly     \t74.9%\n",
      "9.\tgracious     \t73.7%\n",
      "10.\tcurtious     \t72.5%\n"
     ]
    }
   ],
   "source": [
    "prettify_similarities(model.wv.most_similar(['polite']))"
   ]
  },
  {
   "cell_type": "code",
   "execution_count": 11,
   "metadata": {
    "colab": {
     "base_uri": "https://localhost:8080/",
     "height": 258
    },
    "colab_type": "code",
    "executionInfo": {
     "elapsed": 1301911,
     "status": "ok",
     "timestamp": 1585117062681,
     "user": {
      "displayName": "Tyler Bikaun",
      "photoUrl": "",
      "userId": "18384825377619195869"
     },
     "user_tz": -480
    },
    "id": "mT-2WDWsnR3R",
    "outputId": "f0e2140f-2666-4ead-9382-903666f12b56"
   },
   "outputs": [
    {
     "name": "stdout",
     "output_type": "stream",
     "text": [
      "1.\tfilthy  \t86.5%\n",
      "2.\tunclean \t78.5%\n",
      "3.\tstained \t78.0%\n",
      "4.\tgrubby  \t76.9%\n",
      "5.\tsmelly  \t75.9%\n",
      "6.\tdusty   \t74.4%\n",
      "7.\tdingy   \t72.3%\n",
      "8.\tgrimy   \t71.8%\n",
      "9.\tmouldy  \t71.8%\n",
      "10.\tsoiled  \t71.7%\n"
     ]
    }
   ],
   "source": [
    "prettify_similarities(model.wv.most_similar(['dirty']))"
   ]
  },
  {
   "cell_type": "code",
   "execution_count": 12,
   "metadata": {
    "colab": {
     "base_uri": "https://localhost:8080/",
     "height": 173
    },
    "colab_type": "code",
    "executionInfo": {
     "elapsed": 1301888,
     "status": "ok",
     "timestamp": 1585117062683,
     "user": {
      "displayName": "Tyler Bikaun",
      "photoUrl": "",
      "userId": "18384825377619195869"
     },
     "user_tz": -480
    },
    "id": "VOq0zzvGnR3c",
    "outputId": "d3384fbb-8d85-4472-b329-fe10b2b1be70"
   },
   "outputs": [
    {
     "name": "stdout",
     "output_type": "stream",
     "text": [
      "1.\tgermany   \t66.7%\n",
      "2.\tcanada    \t66.2%\n",
      "3.\tspain     \t63.0%\n",
      "4.\thawaii    \t62.1%\n",
      "5.\tlisbon    \t61.4%\n",
      "6.\tmexico    \t59.4%\n",
      "7.\trome      \t58.7%\n",
      "8.\tbarcelona \t58.3%\n",
      "9.\taustria   \t57.9%\n",
      "10.\tthailand  \t57.5%\n"
     ]
    }
   ],
   "source": [
    "prettify_similarities(model.wv.most_similar(['france']))"
   ]
  },
  {
   "cell_type": "code",
   "execution_count": 13,
   "metadata": {
    "colab": {
     "base_uri": "https://localhost:8080/",
     "height": 173
    },
    "colab_type": "code",
    "executionInfo": {
     "elapsed": 1301878,
     "status": "ok",
     "timestamp": 1585117062684,
     "user": {
      "displayName": "Tyler Bikaun",
      "photoUrl": "",
      "userId": "18384825377619195869"
     },
     "user_tz": -480
    },
    "id": "LmAkHmOqnR3f",
    "outputId": "5ab1e920-b9ad-49dd-d134-9c6110f88540"
   },
   "outputs": [
    {
     "name": "stdout",
     "output_type": "stream",
     "text": [
      "1.\thorrified  \t80.4%\n",
      "2.\tamazed     \t79.6%\n",
      "3.\tstunned    \t75.3%\n",
      "4.\tappalled   \t75.0%\n",
      "5.\tdismayed   \t74.9%\n",
      "6.\tsuprised   \t73.9%\n",
      "7.\tastonished \t73.8%\n",
      "8.\tsurprised  \t73.7%\n",
      "9.\tastounded  \t73.0%\n",
      "10.\tsurprized  \t71.6%\n"
     ]
    }
   ],
   "source": [
    "prettify_similarities(model.wv.most_similar(['shocked']))"
   ]
  },
  {
   "cell_type": "code",
   "execution_count": 14,
   "metadata": {
    "colab": {
     "base_uri": "https://localhost:8080/",
     "height": 241
    },
    "colab_type": "code",
    "executionInfo": {
     "elapsed": 1301826,
     "status": "ok",
     "timestamp": 1585117062684,
     "user": {
      "displayName": "Tyler Bikaun",
      "photoUrl": "",
      "userId": "18384825377619195869"
     },
     "user_tz": -480
    },
    "id": "Z9-X6bgYnR3l",
    "outputId": "37054ef7-07c7-4087-aa10-a45c53fc95ca"
   },
   "outputs": [
    {
     "name": "stdout",
     "output_type": "stream",
     "text": [
      "1.\tmattress \t73.3%\n",
      "2.\tduvet    \t72.9%\n",
      "3.\tmatress  \t69.4%\n",
      "4.\tquilt    \t66.6%\n",
      "5.\tpillows  \t66.5%\n",
      "6.\tblanket  \t66.0%\n",
      "7.\tquilts   \t64.4%\n",
      "8.\tsatin    \t62.8%\n",
      "9.\tsheets   \t62.6%\n",
      "10.\tbedding  \t61.3%\n"
     ]
    }
   ],
   "source": [
    "# Get everything related to stuff on the bed\n",
    "prettify_similarities(model.wv.most_similar(positive=['bed', 'sheet', 'pillow'], negative=['couche'], topn=10))"
   ]
  },
  {
   "cell_type": "code",
   "execution_count": 15,
   "metadata": {
    "colab": {
     "base_uri": "https://localhost:8080/",
     "height": 88
    },
    "colab_type": "code",
    "executionInfo": {
     "elapsed": 1301816,
     "status": "ok",
     "timestamp": 1585117062685,
     "user": {
      "displayName": "Tyler Bikaun",
      "photoUrl": "",
      "userId": "18384825377619195869"
     },
     "user_tz": -480
    },
    "id": "Hy6BPFqBnR3p",
    "outputId": "a81165a7-c9c9-4015-fc8f-c5fc6c9c786a"
   },
   "outputs": [
    {
     "name": "stdout",
     "output_type": "stream",
     "text": [
      "Similarity between the words dirty and smelly: 0.759\n"
     ]
    }
   ],
   "source": [
    "# Similarity between two different words\n",
    "print(f'Similarity between the words dirty and smelly: {model.wv.similarity(w1=\"dirty\",w2=\"smelly\"):0.3}')"
   ]
  },
  {
   "cell_type": "code",
   "execution_count": 16,
   "metadata": {
    "colab": {
     "base_uri": "https://localhost:8080/",
     "height": 88
    },
    "colab_type": "code",
    "executionInfo": {
     "elapsed": 1301796,
     "status": "ok",
     "timestamp": 1585117062685,
     "user": {
      "displayName": "Tyler Bikaun",
      "photoUrl": "",
      "userId": "18384825377619195869"
     },
     "user_tz": -480
    },
    "id": "rGb75GUznR3t",
    "outputId": "03339e12-a10b-4f58-f66c-1e3e07ca4f26"
   },
   "outputs": [
    {
     "name": "stdout",
     "output_type": "stream",
     "text": [
      "Similarity between the same word dirty: 1.0\n"
     ]
    }
   ],
   "source": [
    "# Similarity between two identical words\n",
    "print(f'Similarity between the same word dirty: {model.wv.similarity(w1=\"dirty\",w2=\"dirty\"):0.3}')"
   ]
  },
  {
   "cell_type": "code",
   "execution_count": 17,
   "metadata": {
    "colab": {
     "base_uri": "https://localhost:8080/",
     "height": 88
    },
    "colab_type": "code",
    "executionInfo": {
     "elapsed": 1301780,
     "status": "ok",
     "timestamp": 1585117062686,
     "user": {
      "displayName": "Tyler Bikaun",
      "photoUrl": "",
      "userId": "18384825377619195869"
     },
     "user_tz": -480
    },
    "id": "CavnmhyKnR3w",
    "outputId": "c635b945-00bc-4bee-8843-1a83ee64593e"
   },
   "outputs": [
    {
     "name": "stdout",
     "output_type": "stream",
     "text": [
      "Similarity between the words dirty and clean: 0.281\n"
     ]
    }
   ],
   "source": [
    "# similarity between two unrelated words\n",
    "print(f'Similarity between the words dirty and clean: {model.wv.similarity(w1=\"dirty\",w2=\"clean\"):0.3}')"
   ]
  },
  {
   "cell_type": "code",
   "execution_count": 18,
   "metadata": {
    "colab": {
     "base_uri": "https://localhost:8080/",
     "height": 122
    },
    "colab_type": "code",
    "executionInfo": {
     "elapsed": 1301769,
     "status": "ok",
     "timestamp": 1585117062686,
     "user": {
      "displayName": "Tyler Bikaun",
      "photoUrl": "",
      "userId": "18384825377619195869"
     },
     "user_tz": -480
    },
    "id": "3PAyBhoEnR3z",
    "outputId": "6da594e8-ee85-4a08-ae28-772317c1f044"
   },
   "outputs": [
    {
     "name": "stdout",
     "output_type": "stream",
     "text": [
      "Which words doesnt belong in the set ['cat', 'dog', 'france']? Odd one out: france\n"
     ]
    },
    {
     "name": "stderr",
     "output_type": "stream",
     "text": [
      "C:\\Users\\22917746\\Miniconda3\\envs\\core-nlp-course\\lib\\site-packages\\gensim\\models\\keyedvectors.py:877: FutureWarning: arrays to stack must be passed as a \"sequence\" type such as list or tuple. Support for non-sequence iterables such as generators is deprecated as of NumPy 1.16 and will raise an error in the future.\n",
      "  vectors = vstack(self.word_vec(word, use_norm=True) for word in used_words).astype(REAL)\n"
     ]
    }
   ],
   "source": [
    "# Which one is the odd one out in this list?\n",
    "odd_one_out_list_1 = [\"cat\", \"dog\", \"france\"]\n",
    "print(f'Which words doesnt belong in the set {odd_one_out_list_1}? Odd one out: {model.wv.doesnt_match(odd_one_out_list_1)}')"
   ]
  },
  {
   "cell_type": "code",
   "execution_count": 19,
   "metadata": {
    "colab": {
     "base_uri": "https://localhost:8080/",
     "height": 122
    },
    "colab_type": "code",
    "executionInfo": {
     "elapsed": 1301758,
     "status": "ok",
     "timestamp": 1585117062686,
     "user": {
      "displayName": "Tyler Bikaun",
      "photoUrl": "",
      "userId": "18384825377619195869"
     },
     "user_tz": -480
    },
    "id": "veE4VDR_nR33",
    "outputId": "9ba6787f-0c32-4f72-f18a-1fef0789c9a2"
   },
   "outputs": [
    {
     "name": "stdout",
     "output_type": "stream",
     "text": [
      "Which words doesnt belong in the set ['bed', 'pillow', 'duvet', 'shower']? Odd one out: shower\n"
     ]
    }
   ],
   "source": [
    "# Which one is the odd one out in this list?\n",
    "odd_one_out_list_2 = [\"bed\",\"pillow\",\"duvet\",\"shower\"]\n",
    "print(f'Which words doesnt belong in the set {odd_one_out_list_2}? Odd one out: {model.wv.doesnt_match(odd_one_out_list_2)}')"
   ]
  },
  {
   "cell_type": "markdown",
   "metadata": {
    "colab_type": "text",
    "id": "oJ0FBQUrnR38"
   },
   "source": [
    "## Visualising the word vectors in 2D space\n",
    "\n",
    "Here we use a dimensionality reduction and visualisation package from Scikit-Learn, t-Distributed Stochastic Neighbor Embedding (t-SNE), which is particularly suited for visualising high dimensional data. Another popular options for dimensionality reduction is Principal Component Analysis (PCA).\n",
    "\n",
    "Note: the dimension of our word vectors by choice is 150, typical numbers could be 50, 100, and 300. Among these numbers, a dimension of 300 has been shown as most effective in capturing the syntatic and semantic information of a word. However, it will take much longer to train. "
   ]
  },
  {
   "cell_type": "code",
   "execution_count": 20,
   "metadata": {
    "colab": {},
    "colab_type": "code",
    "id": "2NQbN-AynR4B"
   },
   "outputs": [],
   "source": [
    "def display_closestwords_tsnescatterplot(model, word):\n",
    "    arr = np.empty((0,150), dtype='f')\n",
    "    word_labels = [word]\n",
    "\n",
    "    # get close words\n",
    "    close_words = model.similar_by_word(word)\n",
    "    \n",
    "    # add the vector for each of the closest words to the array\n",
    "    arr = np.append(arr, np.array([model[word]]), axis=0)\n",
    "    for wrd_score in close_words:\n",
    "        wrd_vector = model[wrd_score[0]]\n",
    "        word_labels.append(wrd_score[0])\n",
    "        arr = np.append(arr, np.array([wrd_vector]), axis=0)\n",
    "        \n",
    "    # find tsne coords for 2 dimensions\n",
    "    tsne = TSNE(n_components=2, random_state=0)\n",
    "    np.set_printoptions(suppress=True)\n",
    "    Y = tsne.fit_transform(arr)\n",
    "\n",
    "    x_coords = Y[:, 0]\n",
    "    y_coords = Y[:, 1]\n",
    "    # display scatter plot\n",
    "    plt.scatter(x_coords, y_coords)\n",
    "\n",
    "    for label, x, y in zip(word_labels, x_coords, y_coords):\n",
    "        plt.annotate(label, xy=(x, y), xytext=(0, 0), textcoords='offset points')\n",
    "    plt.xlim(x_coords.min()+0.00005, x_coords.max()+0.00005)\n",
    "    plt.ylim(y_coords.min()+0.00005, y_coords.max()+0.00005)\n",
    "    plt.title(f'Words closest to: {word}')\n",
    "    plt.show()"
   ]
  },
  {
   "cell_type": "markdown",
   "metadata": {
    "colab_type": "text",
    "id": "eIHec5Phx4Ll"
   },
   "source": [
    "### Visualising closest words in 2D"
   ]
  },
  {
   "cell_type": "code",
   "execution_count": 21,
   "metadata": {
    "colab": {
     "base_uri": "https://localhost:8080/",
     "height": 617
    },
    "colab_type": "code",
    "executionInfo": {
     "elapsed": 1302471,
     "status": "ok",
     "timestamp": 1585117064024,
     "user": {
      "displayName": "Tyler Bikaun",
      "photoUrl": "",
      "userId": "18384825377619195869"
     },
     "user_tz": -480
    },
    "id": "YyKBFzzVnR4E",
    "outputId": "77fc97fe-e27b-4509-99f8-849cbd6af4b3"
   },
   "outputs": [
    {
     "name": "stderr",
     "output_type": "stream",
     "text": [
      "C:\\Users\\22917746\\Miniconda3\\envs\\core-nlp-course\\lib\\site-packages\\sklearn\\manifold\\_t_sne.py:780: FutureWarning: The default initialization in TSNE will change from 'random' to 'pca' in 1.2.\n",
      "  warnings.warn(\n",
      "C:\\Users\\22917746\\Miniconda3\\envs\\core-nlp-course\\lib\\site-packages\\sklearn\\manifold\\_t_sne.py:790: FutureWarning: The default learning rate in TSNE will change from 200.0 to 'auto' in 1.2.\n",
      "  warnings.warn(\n"
     ]
    },
    {
     "data": {
      "image/png": "[encoded data removed]",
      "text/plain": [
       "<Figure size 864x432 with 1 Axes>"
      ]
     },
     "metadata": {
      "needs_background": "light"
     },
     "output_type": "display_data"
    }
   ],
   "source": [
    "display_closestwords_tsnescatterplot(model.wv, \"france\")"
   ]
  },
  {
   "cell_type": "markdown",
   "metadata": {
    "colab_type": "text",
    "id": "R9nDZAdKy_B1"
   },
   "source": [
    "## ⚙️ Learning Domain-Specific Word Embeddings <a name=\"domain-specific_word_vectors\"></a>"
   ]
  },
  {
   "cell_type": "markdown",
   "metadata": {},
   "source": [
    "Word embeddings are interesting and thought provoking but\n",
    "- What insights can we gain from them?\n",
    "- How do we apply them to industry data?\n",
    "\n",
    "This section of the notebook will explore word embeddings and their application to geological survey data (GSWA)."
   ]
  },
  {
   "cell_type": "markdown",
   "metadata": {
    "colab_type": "text",
    "id": "_5MWs23uzPUP"
   },
   "source": [
    "### Loading a small sample of Geological Survey of Western Australia (GSWA) data"
   ]
  },
  {
   "cell_type": "code",
   "execution_count": 22,
   "metadata": {
    "colab": {},
    "colab_type": "code",
    "id": "cn-cuSk40cjo"
   },
   "outputs": [],
   "source": [
    "gswa_corpus_file=\"../data/wamex_xml.zip\""
   ]
  },
  {
   "cell_type": "code",
   "execution_count": 23,
   "metadata": {
    "colab": {
     "base_uri": "https://localhost:8080/",
     "height": 34
    },
    "colab_type": "code",
    "executionInfo": {
     "elapsed": 2721,
     "status": "ok",
     "timestamp": 1585118724590,
     "user": {
      "displayName": "Tyler Bikaun",
      "photoUrl": "",
      "userId": "18384825377619195869"
     },
     "user_tz": -480
    },
    "id": "S2zNT1qWzPMt",
    "outputId": "26a9d507-1663-4e9e-d59f-7cecd158a83c"
   },
   "outputs": [],
   "source": [
    "gswa_corpus = list()\n",
    "with zipfile.ZipFile(gswa_corpus_file, \"r\") as z:\n",
    "    for filename in z.namelist():\n",
    "        with z.open(filename) as f:\n",
    "            # load the json file\n",
    "            # The resulting `content` is a list\n",
    "            content = json.loads(f.read()) \n",
    "            # Convert content to a string   \n",
    "            content = \"\".join(content)\n",
    "            # Add to the data list\n",
    "            gswa_corpus.append(content)"
   ]
  },
  {
   "cell_type": "markdown",
   "metadata": {},
   "source": [
    "By previewing the data that we have loaded, we can easily see that it is very different to the hotel reviews dataset."
   ]
  },
  {
   "cell_type": "code",
   "execution_count": 24,
   "metadata": {
    "colab": {
     "base_uri": "https://localhost:8080/",
     "height": 34
    },
    "colab_type": "code",
    "executionInfo": {
     "elapsed": 2399,
     "status": "ok",
     "timestamp": 1585118724592,
     "user": {
      "displayName": "Tyler Bikaun",
      "photoUrl": "",
      "userId": "18384825377619195869"
     },
     "user_tz": -480
    },
    "id": "Cph4A7YQzPKA",
    "outputId": "22330ef8-001b-4a61-b4a8-7df00695e3e8"
   },
   "outputs": [
    {
     "name": "stdout",
     "output_type": "stream",
     "text": [
      "Combined Reporting Application Pending Status: Sheet 1:250 000: Kalgoorlie (SH 51-09) Sheet 1:100 000: Kalgoorlie (3136) Project Operator: Cazaly Resources Limited Author: M Watts Date: September 2006 Distribution: 1.Department of Industry and Resources 2.Cazaly Resources Limited Cazaly Resources Limited September 2006 2 Figure 2: Castle Hill Project Tenement Location Plan, 1: 75 000 scale 6 Figure 3: Regional Geology with Exploration Index Map, 1:75 000 scale 8Cazaly Resources Limited September\n"
     ]
    }
   ],
   "source": [
    "print(gswa_corpus[0][:500])"
   ]
  },
  {
   "cell_type": "code",
   "execution_count": 25,
   "metadata": {
    "colab": {},
    "colab_type": "code",
    "id": "RE0Yjy_gzPHe"
   },
   "outputs": [],
   "source": [
    "def read_input(input_file):\n",
    "    \"\"\"This method reads the input file which is in zip format\"\"\"\n",
    "    \n",
    "    logging.info(\"reading file {0}...this may take a while\".format(input_file))\n",
    "\n",
    "    data = list()\n",
    "    with zipfile.ZipFile(input_file, \"r\") as z:\n",
    "    #df = [pd.read_json(filename) for filename in z.namelist()]\n",
    "        print(len(z.namelist()))\n",
    "        for i, filename in enumerate(z.namelist()):\n",
    "            # print(filename)\n",
    "            # df = pd.read_json(filename)\n",
    "            if (i%100==0):\n",
    "                logging.info (\"read {0} reports\".format (i))\n",
    "            with z.open(filename) as f:\n",
    "                # load the json file\n",
    "                # The resulting `content` is a list\n",
    "                content = json.loads(f.read()) \n",
    "                # Convert content to a string   \n",
    "                content = \"\".join(content)\n",
    "                if len(content) >= 10:\n",
    "                    # Add to the data list\n",
    "                    yield gensim.utils.simple_preprocess (content)\n",
    "                else:\n",
    "                    logging.info(\"removed {0} because of small size\".format (filename))"
   ]
  },
  {
   "cell_type": "markdown",
   "metadata": {},
   "source": [
    "Here we'll perform basic pre-processing of the geological surveys using Gensim's `simple_preprocess` function. A result of this is a corpus of tokenized and cased documents."
   ]
  },
  {
   "cell_type": "code",
   "execution_count": 26,
   "metadata": {},
   "outputs": [],
   "source": [
    "processed_gswa_corpus = [gensim.utils.simple_preprocess(doc) for doc in gswa_corpus]"
   ]
  },
  {
   "cell_type": "code",
   "execution_count": 27,
   "metadata": {
    "colab": {
     "base_uri": "https://localhost:8080/",
     "height": 34
    },
    "colab_type": "code",
    "executionInfo": {
     "elapsed": 9324,
     "status": "ok",
     "timestamp": 1585118732101,
     "user": {
      "displayName": "Tyler Bikaun",
      "photoUrl": "",
      "userId": "18384825377619195869"
     },
     "user_tz": -480
    },
    "id": "ok-NJAsoyBEr",
    "outputId": "1a98cad1-cc07-439b-8303-57750559aa1d"
   },
   "outputs": [
    {
     "name": "stdout",
     "output_type": "stream",
     "text": [
      "['combined', 'reporting', 'application', 'pending', 'status', 'sheet', 'kalgoorlie', 'sh', 'sheet', 'kalgoorlie', 'project', 'operator', 'cazaly', 'resources', 'limited', 'author', 'watts', 'date', 'september', 'distribution', 'department', 'of', 'industry', 'and', 'resources']\n"
     ]
    }
   ],
   "source": [
    "# Review the first documents top 25 words. See how they have been pre-processed and tokenized.\n",
    "print(processed_gswa_corpus[0][:25])"
   ]
  },
  {
   "cell_type": "markdown",
   "metadata": {
    "colab_type": "text",
    "id": "yOHp-kJ01Tt2"
   },
   "source": [
    "### Training word embedding model off of domain-specific text.\n",
    "\n",
    "Note: we are required to use bigrams to aid our model due to domain-specific terms."
   ]
  },
  {
   "cell_type": "markdown",
   "metadata": {},
   "source": [
    "⚠️Training the domain-specific embeddings will take 30-60 minutes."
   ]
  },
  {
   "cell_type": "code",
   "execution_count": 28,
   "metadata": {
    "colab": {
     "base_uri": "https://localhost:8080/",
     "height": 1000
    },
    "colab_type": "code",
    "executionInfo": {
     "elapsed": 183770,
     "status": "ok",
     "timestamp": 1585118907018,
     "user": {
      "displayName": "Tyler Bikaun",
      "photoUrl": "",
      "userId": "18384825377619195869"
     },
     "user_tz": -480
    },
    "id": "OjXRu31I0-HS",
    "outputId": "50d20d02-f3c5-40cc-e05d-d3c0f121b05a"
   },
   "outputs": [
    {
     "data": {
      "text/plain": [
       "(248780721, 329928610)"
      ]
     },
     "execution_count": 28,
     "metadata": {},
     "output_type": "execute_result"
    }
   ],
   "source": [
    "# Build phrases and bigrams to train our word2vec model on\n",
    "phrases = gensim.models.Phrases(documents, min_count=1, threshold=1)\n",
    "bigrams = gensim.models.phrases.Phraser(phrases)\n",
    "\n",
    "# Note: we're referring to the model as gswa. This allows us\n",
    "# to make a contrast between the pretrained word embeddings and the domain-specific ones. \n",
    "gswa_model = gensim.models.Word2Vec(bigrams[documents], size=50, window=10, min_count=2, workers=12)\n",
    "gswa_model.train(bigrams[documents],total_examples=len(documents), epochs=10)"
   ]
  },
  {
   "cell_type": "code",
   "execution_count": 29,
   "metadata": {},
   "outputs": [],
   "source": [
    "gswa_model.save(\"../data/word2vec/word2vec_gswa.bin\")"
   ]
  },
  {
   "cell_type": "markdown",
   "metadata": {},
   "source": [
    "📣 Alternately, if you have downloaded the pre-trained embeddings, you can skip training and load them directly."
   ]
  },
  {
   "cell_type": "raw",
   "metadata": {},
   "source": [
    "gswa_model = gensim.models.Word2Vec.load('../data/word2vec/word2vec_gswa.bin')"
   ]
  },
  {
   "cell_type": "markdown",
   "metadata": {
    "colab_type": "text",
    "id": "DgB_ATFn1eFd"
   },
   "source": [
    "## Looking at domain-specific outputs"
   ]
  },
  {
   "cell_type": "code",
   "execution_count": 30,
   "metadata": {
    "colab": {
     "base_uri": "https://localhost:8080/",
     "height": 54
    },
    "colab_type": "code",
    "executionInfo": {
     "elapsed": 183387,
     "status": "ok",
     "timestamp": 1585118907019,
     "user": {
      "displayName": "Tyler Bikaun",
      "photoUrl": "",
      "userId": "18384825377619195869"
     },
     "user_tz": -480
    },
    "id": "Ocw0iSJv1jZd",
    "outputId": "838e326a-a8ff-4ecc-d46e-2a701fca2465"
   },
   "outputs": [
    {
     "name": "stdout",
     "output_type": "stream",
     "text": [
      "['oct', 'nice', 'trendy', 'hotel', 'location', 'not_too', 'bad', 'stayed_in', 'this_hotel', 'for', 'one_night', 'as', 'this', 'is', 'fairly_new', 'place', 'some', 'of', 'the', 'taxi_drivers', 'did_not', 'know_where', 'it', 'was', 'and', 'or', 'want_to', 'drive', 'there', 'once', 'have', 'eventually_arrived', 'at', 'very_pleasantly', 'surprised', 'with', 'decor', 'lobby', 'ground_floor', 'area', 'very_stylish', 'modern', 'found', 'reception_staff', 'geeting', 'me', 'aloha', 'bit', 'out_of', 'but_guess', 'they_are', 'briefed', 'to_say', 'that', 'to_keep', 'up', 'coroporate', 'image', 'starwood_preferred', 'guest_member', 'given', 'small_gift', 'upon_check', 'in', 'only_couple', 'fridge_magnets', 'gift_box', 'but_nevertheless', 'nice_gesture', 'my', 'room', 'roomy', 'there_are', 'tea', 'coffee_facilities', 'each', 'you_get', 'two', 'complimentary_bottles', 'water', 'plus', 'toiletries', 'by', 'bliss', 'not', 'great', 'last', 'metro_stop', 'you', 'then', 'need_to', 'take_taxi', 'but', 'if_you', 'are', 'planning_on', 'going_to', 'see', 'historic_sites', 'in_beijing']\n"
     ]
    }
   ],
   "source": [
    "print(list(gswa_model.wv.vocab.keys())[:100])"
   ]
  },
  {
   "cell_type": "code",
   "execution_count": 34,
   "metadata": {
    "colab": {
     "base_uri": "https://localhost:8080/",
     "height": 187
    },
    "colab_type": "code",
    "executionInfo": {
     "elapsed": 183164,
     "status": "ok",
     "timestamp": 1585118907019,
     "user": {
      "displayName": "Tyler Bikaun",
      "photoUrl": "",
      "userId": "18384825377619195869"
     },
     "user_tz": -480
    },
    "id": "l0CQiK_31jXl",
    "outputId": "3e28d41b-d5f7-471d-deed-3dc925945b75"
   },
   "outputs": [
    {
     "name": "stdout",
     "output_type": "stream",
     "text": [
      "1.\tred         \t76.8%\n",
      "2.\tblue        \t75.3%\n",
      "3.\tdazzling    \t74.3%\n",
      "4.\twhite_zebra \t73.6%\n",
      "5.\tgolden      \t72.2%\n",
      "6.\tbeige       \t72.0%\n",
      "7.\twhite       \t70.7%\n",
      "8.\tgilded      \t70.3%\n",
      "9.\tscheme      \t69.7%\n",
      "10.\tsilver      \t69.5%\n"
     ]
    }
   ],
   "source": [
    "prettify_similarities(gswa_model.wv.most_similar(['gold']))"
   ]
  },
  {
   "cell_type": "code",
   "execution_count": 35,
   "metadata": {
    "colab": {
     "base_uri": "https://localhost:8080/",
     "height": 173
    },
    "colab_type": "code",
    "executionInfo": {
     "elapsed": 182749,
     "status": "ok",
     "timestamp": 1585118907020,
     "user": {
      "displayName": "Tyler Bikaun",
      "photoUrl": "",
      "userId": "18384825377619195869"
     },
     "user_tz": -480
    },
    "id": "hZajnE271jUr",
    "outputId": "6158b447-428b-4215-8db1-0007a6f42e89"
   },
   "outputs": [
    {
     "name": "stdout",
     "output_type": "stream",
     "text": [
      "1.\tan_iron       \t90.3%\n",
      "2.\thair_dryer    \t89.8%\n",
      "3.\thairdryer     \t89.6%\n",
      "4.\tironing_board \t85.9%\n",
      "5.\ttrouser_press \t85.7%\n",
      "6.\thairdrier     \t85.3%\n",
      "7.\tiron_amp      \t85.0%\n",
      "8.\tironing       \t84.5%\n",
      "9.\tblow_dryer    \t84.0%\n",
      "10.\thair_drier    \t83.1%\n"
     ]
    }
   ],
   "source": [
    "prettify_similarities(gswa_model.wv.most_similar(['iron']))"
   ]
  },
  {
   "cell_type": "code",
   "execution_count": 36,
   "metadata": {
    "colab": {
     "base_uri": "https://localhost:8080/",
     "height": 241
    },
    "colab_type": "code",
    "executionInfo": {
     "elapsed": 182505,
     "status": "ok",
     "timestamp": 1585118907020,
     "user": {
      "displayName": "Tyler Bikaun",
      "photoUrl": "",
      "userId": "18384825377619195869"
     },
     "user_tz": -480
    },
    "id": "_EhVlOOI1jRC",
    "outputId": "fb6a8fe3-5a25-4b44-f360-07720a4cd428"
   },
   "outputs": [
    {
     "name": "stdout",
     "output_type": "stream",
     "text": [
      "1.\twesterners_who \t69.7%\n",
      "2.\tpublicized     \t69.3%\n",
      "3.\troomsking      \t68.0%\n",
      "4.\tcotton_bads    \t67.3%\n",
      "5.\tpeers          \t66.9%\n",
      "6.\tlong_wheelbase \t66.6%\n",
      "7.\tmilk_creamer   \t66.6%\n",
      "8.\trisking_your   \t66.0%\n",
      "9.\tmaintaing      \t65.2%\n",
      "10.\tan_ian         \t65.1%\n"
     ]
    }
   ],
   "source": [
    "# get everything related to stuff on the commodity\n",
    "prettify_similarities(gswa_model.wv.most_similar(positive = [\"gold\",'commodity','ore'], negative = ['rock']))"
   ]
  },
  {
   "cell_type": "code",
   "execution_count": 37,
   "metadata": {
    "colab": {
     "base_uri": "https://localhost:8080/",
     "height": 88
    },
    "colab_type": "code",
    "executionInfo": {
     "elapsed": 181999,
     "status": "ok",
     "timestamp": 1585118907021,
     "user": {
      "displayName": "Tyler Bikaun",
      "photoUrl": "",
      "userId": "18384825377619195869"
     },
     "user_tz": -480
    },
    "id": "4TfG_p_r1jOr",
    "outputId": "f644c164-f06e-4e66-b1ee-41f65a25cf4b"
   },
   "outputs": [
    {
     "name": "stdout",
     "output_type": "stream",
     "text": [
      "Similarity between two different words: 0.158\n"
     ]
    }
   ],
   "source": [
    "# similarity between two different words\n",
    "print(f'Similarity between two different words: {gswa_model.wv.similarity(w1=\"gold\",w2=\"ore\"):0.3}')"
   ]
  },
  {
   "cell_type": "code",
   "execution_count": 38,
   "metadata": {
    "colab": {
     "base_uri": "https://localhost:8080/",
     "height": 88
    },
    "colab_type": "code",
    "executionInfo": {
     "elapsed": 181617,
     "status": "ok",
     "timestamp": 1585118907346,
     "user": {
      "displayName": "Tyler Bikaun",
      "photoUrl": "",
      "userId": "18384825377619195869"
     },
     "user_tz": -480
    },
    "id": "oaltQ0Eh1jMg",
    "outputId": "b3c66c4c-484d-479a-b266-84d3b95c00ee"
   },
   "outputs": [
    {
     "name": "stdout",
     "output_type": "stream",
     "text": [
      "Similarity between the same word: 1.0\n"
     ]
    }
   ],
   "source": [
    "# similarity between two identical words\n",
    "print(f'Similarity between the same word: {gswa_model.wv.similarity(w1=\"gold\",w2=\"gold\"):0.3}')"
   ]
  },
  {
   "cell_type": "code",
   "execution_count": 39,
   "metadata": {
    "colab": {
     "base_uri": "https://localhost:8080/",
     "height": 88
    },
    "colab_type": "code",
    "executionInfo": {
     "elapsed": 181462,
     "status": "ok",
     "timestamp": 1585118907347,
     "user": {
      "displayName": "Tyler Bikaun",
      "photoUrl": "",
      "userId": "18384825377619195869"
     },
     "user_tz": -480
    },
    "id": "4qNuYbd11jJ9",
    "outputId": "bc326fc8-a38f-496d-afda-24cd6c0ad92d"
   },
   "outputs": [
    {
     "name": "stdout",
     "output_type": "stream",
     "text": [
      "Similarity between unrelated words: 0.39\n"
     ]
    }
   ],
   "source": [
    "# similarity between two unrelated words\n",
    "print(f'Similarity between unrelated words: {gswa_model.wv.similarity(w1=\"gold\",w2=\"rock\"):0.3}')"
   ]
  },
  {
   "cell_type": "code",
   "execution_count": 40,
   "metadata": {
    "colab": {
     "base_uri": "https://localhost:8080/",
     "height": 122
    },
    "colab_type": "code",
    "executionInfo": {
     "elapsed": 181337,
     "status": "ok",
     "timestamp": 1585118907348,
     "user": {
      "displayName": "Tyler Bikaun",
      "photoUrl": "",
      "userId": "18384825377619195869"
     },
     "user_tz": -480
    },
    "id": "VbUayj321pOz",
    "outputId": "c0f8a95d-07ff-43ab-b444-cfed0901738c"
   },
   "outputs": [
    {
     "name": "stdout",
     "output_type": "stream",
     "text": [
      "Which words doesnt belong in the set ['gold', 'rock', 'copper']? Odd one out: rock\n"
     ]
    },
    {
     "name": "stderr",
     "output_type": "stream",
     "text": [
      "C:\\Users\\22917746\\Miniconda3\\envs\\core-nlp-course\\lib\\site-packages\\gensim\\models\\keyedvectors.py:877: FutureWarning: arrays to stack must be passed as a \"sequence\" type such as list or tuple. Support for non-sequence iterables such as generators is deprecated as of NumPy 1.16 and will raise an error in the future.\n",
      "  vectors = vstack(self.word_vec(word, use_norm=True) for word in used_words).astype(REAL)\n"
     ]
    }
   ],
   "source": [
    "# Which one is the odd one out in this list?\n",
    "odd_one_out_list_gswa = [\"gold\", \"rock\", \"copper\"]\n",
    "print(f'Which words doesnt belong in the set {odd_one_out_list_gswa}? Odd one out: {gswa_model.wv.doesnt_match(odd_one_out_list_gswa)}')"
   ]
  },
  {
   "cell_type": "markdown",
   "metadata": {
    "colab_type": "text",
    "id": "UIW9Bl-I3KEK"
   },
   "source": [
    "### Comparing our domain-specific embeddings with embeddings trained on a different dataset (news articles)."
   ]
  },
  {
   "cell_type": "markdown",
   "metadata": {},
   "source": [
    "- What are the nearest terms to 'commodity', 'ore', 'rock', etc.\n",
    "\n",
    "Unfortunately due to the size of pre-trained word embedding models they have been omitted from this comparison. However, the code below shows how to load the Google news word2vec embedding model. This model is trained on 100 billion words and is 1.6GB in size (massive!)."
   ]
  },
  {
   "cell_type": "code",
   "execution_count": 41,
   "metadata": {
    "colab": {},
    "colab_type": "code",
    "id": "OPmtpYf-3KBz"
   },
   "outputs": [],
   "source": [
    "# Define function to compare top-n similariries for a given word between two embedding models.\n",
    "def compare_words(word, topn, model1, model2):\n",
    "    similarWordsModel1 = model1.wv.most_similar(positive=word, topn=topn)\n",
    "    similarWordsModel2 = model2.wv.most_similar(positive=word,topn=topn)\n",
    "\n",
    "    print(f'Top {topn} words similar to {word}\\n(format: n | model 1 | model 2 )\\n')\n",
    "    for n in range(topn):\n",
    "        print(f'{n+1} |{similarWordsModel1[n][0]:<15} | {similarWordsModel2[n][0]:<15}')"
   ]
  },
  {
   "cell_type": "code",
   "execution_count": 42,
   "metadata": {
    "colab": {
     "base_uri": "https://localhost:8080/",
     "height": 207
    },
    "colab_type": "code",
    "executionInfo": {
     "elapsed": 180612,
     "status": "ok",
     "timestamp": 1585118907349,
     "user": {
      "displayName": "Tyler Bikaun",
      "photoUrl": "",
      "userId": "18384825377619195869"
     },
     "user_tz": -480
    },
    "id": "gcX31xIr3J9i",
    "outputId": "75a2f13c-b992-4679-bb57-12b6f0867b84"
   },
   "outputs": [
    {
     "name": "stdout",
     "output_type": "stream",
     "text": [
      "Top 5 words similar to commodity\n",
      "(format: n | model 1 | model 2 )\n",
      "\n",
      "1 |rarity          | publicized     \n",
      "2 |necessity       | exercise_bike  \n",
      "3 |nowadays        | liquids        \n",
      "4 |brutally        | sacrificing_little\n",
      "5 |unusually       | cotton_bads    \n"
     ]
    }
   ],
   "source": [
    "# Looking at the word 'commodity'\n",
    "compare_words(word = 'commodity', topn = 5, model1 = model, model2 = gswa_model)"
   ]
  },
  {
   "cell_type": "code",
   "execution_count": 43,
   "metadata": {
    "colab": {
     "base_uri": "https://localhost:8080/",
     "height": 207
    },
    "colab_type": "code",
    "executionInfo": {
     "elapsed": 180378,
     "status": "ok",
     "timestamp": 1585118907350,
     "user": {
      "displayName": "Tyler Bikaun",
      "photoUrl": "",
      "userId": "18384825377619195869"
     },
     "user_tz": -480
    },
    "id": "ExSMep_7RC1S",
    "outputId": "7861088b-996e-4634-e9fb-54cf29c611a8"
   },
   "outputs": [
    {
     "name": "stdout",
     "output_type": "stream",
     "text": [
      "Top 5 words similar to ore\n",
      "(format: n | model 1 | model 2 )\n",
      "\n",
      "1 |tre             | pas_cher       \n",
      "2 |stanze          | buena_ubicacion\n",
      "3 |esta            | posizione_con  \n",
      "4 |magique         | cher_pour      \n",
      "5 |haber           | lumire         \n"
     ]
    }
   ],
   "source": [
    "# Looking at the word 'ore'\n",
    "compare_words(word = 'ore', topn = 5, model1 = model, model2 = gswa_model)"
   ]
  },
  {
   "cell_type": "code",
   "execution_count": 44,
   "metadata": {
    "colab": {
     "base_uri": "https://localhost:8080/",
     "height": 207
    },
    "colab_type": "code",
    "executionInfo": {
     "elapsed": 180154,
     "status": "ok",
     "timestamp": 1585118907350,
     "user": {
      "displayName": "Tyler Bikaun",
      "photoUrl": "",
      "userId": "18384825377619195869"
     },
     "user_tz": -480
    },
    "id": "_3b-ykPERCyV",
    "outputId": "075f24e4-2e76-4893-81f2-1734097b95b1"
   },
   "outputs": [
    {
     "name": "stdout",
     "output_type": "stream",
     "text": [
      "Top 5 words similar to rock\n",
      "(format: n | model 1 | model 2 )\n",
      "\n",
      "1 |rocks           | beatles        \n",
      "2 |snapper         | skate          \n",
      "3 |rosey           | horse          \n",
      "4 |carnation       | du_soleil      \n",
      "5 |flame           | performers     \n"
     ]
    }
   ],
   "source": [
    "# Looking at the word 'rock'\n",
    "compare_words(word = 'rock', topn = 5, model1 = model, model2 = gswa_model)"
   ]
  },
  {
   "cell_type": "markdown",
   "metadata": {
    "colab_type": "text",
    "id": "nUFDEGVK1pMd"
   },
   "source": [
    "### Visualising the domain-specific word vectors in 2D space"
   ]
  },
  {
   "cell_type": "code",
   "execution_count": 45,
   "metadata": {
    "colab": {},
    "colab_type": "code",
    "id": "rhE0JjYr1pII"
   },
   "outputs": [],
   "source": [
    "def display_closestwords_tsnescatterplot(model, word):\n",
    "    arr = np.empty((0,50), dtype='f')\n",
    "    word_labels = [word]\n",
    "\n",
    "    # get close words\n",
    "    close_words = model.similar_by_word(word)\n",
    "    \n",
    "    # add the vector for each of the closest words to the array\n",
    "    arr = np.append(arr, np.array([model[word]]), axis=0)\n",
    "    for wrd_score in close_words:\n",
    "        wrd_vector = model[wrd_score[0]]\n",
    "        word_labels.append(wrd_score[0])\n",
    "        arr = np.append(arr, np.array([wrd_vector]), axis=0)\n",
    "        \n",
    "    # find tsne coords for 2 dimensions\n",
    "    tsne = TSNE(n_components=2, random_state=0)\n",
    "    np.set_printoptions(suppress=True)\n",
    "    Y = tsne.fit_transform(arr)\n",
    "\n",
    "    x_coords = Y[:, 0]\n",
    "    y_coords = Y[:, 1]\n",
    "    # display scatter plot\n",
    "    plt.scatter(x_coords, y_coords)\n",
    "\n",
    "    for label, x, y in zip(word_labels, x_coords, y_coords):\n",
    "        plt.annotate(label, xy=(x, y), xytext=(0, 0), textcoords='offset points')\n",
    "    plt.xlim(x_coords.min()+0.00005, x_coords.max()+0.00005)\n",
    "    plt.ylim(y_coords.min()+0.00005, y_coords.max()+0.00005)\n",
    "    plt.title(f'Words closest to: {word}')\n",
    "    plt.show()"
   ]
  },
  {
   "cell_type": "code",
   "execution_count": 46,
   "metadata": {
    "colab": {
     "base_uri": "https://localhost:8080/",
     "height": 617
    },
    "colab_type": "code",
    "executionInfo": {
     "elapsed": 1472,
     "status": "ok",
     "timestamp": 1585118947324,
     "user": {
      "displayName": "Tyler Bikaun",
      "photoUrl": "",
      "userId": "18384825377619195869"
     },
     "user_tz": -480
    },
    "id": "qnoeIGsI1pGC",
    "outputId": "b1d2125a-20b0-4bbe-b25b-678e820ec8a0"
   },
   "outputs": [
    {
     "name": "stderr",
     "output_type": "stream",
     "text": [
      "C:\\Users\\22917746\\Miniconda3\\envs\\core-nlp-course\\lib\\site-packages\\sklearn\\manifold\\_t_sne.py:780: FutureWarning: The default initialization in TSNE will change from 'random' to 'pca' in 1.2.\n",
      "  warnings.warn(\n",
      "C:\\Users\\22917746\\Miniconda3\\envs\\core-nlp-course\\lib\\site-packages\\sklearn\\manifold\\_t_sne.py:790: FutureWarning: The default learning rate in TSNE will change from 200.0 to 'auto' in 1.2.\n",
      "  warnings.warn(\n"
     ]
    },
    {
     "data": {
      "image/png": "[encoded data removed]",
      "text/plain": [
       "<Figure size 864x432 with 1 Axes>"
      ]
     },
     "metadata": {
      "needs_background": "light"
     },
     "output_type": "display_data"
    }
   ],
   "source": [
    "display_closestwords_tsnescatterplot(model = gswa_model.wv, word = \"gold\")"
   ]
  },
  {
   "cell_type": "markdown",
   "metadata": {
    "colab_type": "text",
    "id": "Pzvw14B8TL7A"
   },
   "source": [
    "### Visualising all of the words in the domain-specific corpus vocabulary"
   ]
  },
  {
   "cell_type": "code",
   "execution_count": 47,
   "metadata": {
    "colab": {
     "base_uri": "https://localhost:8080/",
     "height": 68
    },
    "colab_type": "code",
    "executionInfo": {
     "elapsed": 995,
     "status": "ok",
     "timestamp": 1585118951914,
     "user": {
      "displayName": "Tyler Bikaun",
      "photoUrl": "",
      "userId": "18384825377619195869"
     },
     "user_tz": -480
    },
    "id": "NiouXHvb1pEB",
    "outputId": "6831cc9a-22c5-474f-8c9d-127582d72f83"
   },
   "outputs": [],
   "source": [
    "# Set-up t-SNE model for 2 dimensional reduction\n",
    "tsne = TSNE(n_components=2)"
   ]
  },
  {
   "cell_type": "code",
   "execution_count": 48,
   "metadata": {},
   "outputs": [
    {
     "name": "stderr",
     "output_type": "stream",
     "text": [
      "C:\\Users\\22917746\\AppData\\Local\\Temp/ipykernel_34324/3276302873.py:1: DeprecationWarning: Call to deprecated `__getitem__` (Method will be removed in 4.0.0, use self.wv.__getitem__() instead).\n",
      "  X = gswa_model[gswa_model.wv.vocab]\n"
     ]
    },
    {
     "name": "stdout",
     "output_type": "stream",
     "text": [
      "Shape of model before t-SNE: (271284, 50)\n"
     ]
    }
   ],
   "source": [
    "X = gswa_model[gswa_model.wv.vocab]\n",
    "# Shape of our model before t-SNE\n",
    "print(f'Shape of model before t-SNE: {X.shape}')"
   ]
  },
  {
   "cell_type": "markdown",
   "metadata": {},
   "source": [
    "Here we'll fit a t-SNE model to our data. However, as our corpus is quite large, we'll first subset it to help with comptuation time."
   ]
  },
  {
   "cell_type": "code",
   "execution_count": 49,
   "metadata": {},
   "outputs": [],
   "source": [
    "# Number of points to model\n",
    "points = 2500"
   ]
  },
  {
   "cell_type": "code",
   "execution_count": 50,
   "metadata": {
    "colab": {
     "base_uri": "https://localhost:8080/",
     "height": 597
    },
    "colab_type": "code",
    "executionInfo": {
     "elapsed": 341654,
     "status": "ok",
     "timestamp": 1585121616330,
     "user": {
      "displayName": "Tyler Bikaun",
      "photoUrl": "",
      "userId": "18384825377619195869"
     },
     "user_tz": -480
    },
    "id": "tmnytvul10Xf",
    "outputId": "e6fe0879-b67b-4e98-b9dc-e5cd8a49078e"
   },
   "outputs": [
    {
     "name": "stderr",
     "output_type": "stream",
     "text": [
      "C:\\Users\\22917746\\Miniconda3\\envs\\core-nlp-course\\lib\\site-packages\\sklearn\\manifold\\_t_sne.py:780: FutureWarning: The default initialization in TSNE will change from 'random' to 'pca' in 1.2.\n",
      "  warnings.warn(\n",
      "C:\\Users\\22917746\\Miniconda3\\envs\\core-nlp-course\\lib\\site-packages\\sklearn\\manifold\\_t_sne.py:790: FutureWarning: The default learning rate in TSNE will change from 200.0 to 'auto' in 1.2.\n",
      "  warnings.warn(\n"
     ]
    }
   ],
   "source": [
    "# Fitting subset of data to t-SNE\n",
    "X_limited = X[:points]\n",
    "X_tsne = tsne.fit_transform(X_limited)\n",
    "\n",
    "# Uncomment line below to fit entire model to t-SNE\n",
    "# X_tsne = tsne.fit_transform(X)"
   ]
  },
  {
   "cell_type": "code",
   "execution_count": 51,
   "metadata": {},
   "outputs": [
    {
     "data": {
      "image/png": "[encoded data removed]",
      "text/plain": [
       "<Figure size 720x720 with 1 Axes>"
      ]
     },
     "metadata": {
      "needs_background": "light"
     },
     "output_type": "display_data"
    }
   ],
   "source": [
    "# Plot dimensionality reduced word scatterplot\n",
    "plt.rcParams['figure.figsize'] = [10, 10]\n",
    "plt.scatter(X_tsne[:, 0], X_tsne[:, 1])\n",
    "plt.show()"
   ]
  },
  {
   "cell_type": "markdown",
   "metadata": {
    "colab_type": "text",
    "id": "pfCESffv10TD"
   },
   "source": [
    "### Interactive Visualisation\n"
   ]
  },
  {
   "cell_type": "markdown",
   "metadata": {},
   "source": [
    "Refer to https://www.datascience.com/resources/notebooks/word-embeddings-in-python, and also for ideas of incoporating POS and bigrams into word2vec training."
   ]
  },
  {
   "cell_type": "code",
   "execution_count": 52,
   "metadata": {
    "colab": {},
    "colab_type": "code",
    "id": "viZhA7RO10N8"
   },
   "outputs": [],
   "source": [
    "def interactive_tsne(text_labels, tsne_array):\n",
    "    '''makes an interactive scatter plot with text labels for each point'''\n",
    "\n",
    "    # Define a dataframe to be used by bokeh context\n",
    "    bokeh_df = pd.DataFrame(tsne_array, text_labels, columns=['x','y'])\n",
    "    bokeh_df['text_labels'] = bokeh_df.index\n",
    "\n",
    "    # interactive controls to include to the plot\n",
    "    TOOLS=\"hover, zoom_in, zoom_out, box_zoom, undo, redo, reset, box_select\"\n",
    "\n",
    "    p = figure(tools=TOOLS, plot_width=700, plot_height=700)\n",
    "\n",
    "    # define data source for the plot\n",
    "    source = ColumnDataSource(bokeh_df)\n",
    "\n",
    "    # scatter plot\n",
    "    p.scatter('x', 'y', source=source, fill_alpha=0.6,\n",
    "              fill_color=\"#8724B5\",\n",
    "              line_color=None)\n",
    "\n",
    "    # text labels\n",
    "    labels = LabelSet(x='x', y='y', text='text_labels', y_offset=8,\n",
    "                      text_font_size=\"8pt\", text_color=\"#555555\",\n",
    "                      source=source, text_align='center')\n",
    "\n",
    "    p.add_layout(labels)\n",
    "\n",
    "    # show plot inline\n",
    "    output_notebook()\n",
    "    show(p)"
   ]
  },
  {
   "cell_type": "markdown",
   "metadata": {},
   "source": [
    "Launch interactive visualisation of word embeddings"
   ]
  },
  {
   "cell_type": "code",
   "execution_count": 53,
   "metadata": {
    "colab": {},
    "colab_type": "code",
    "id": "CRvKJ6gK10MD"
   },
   "outputs": [
    {
     "data": {
      "text/html": [
       "\n",
       "    <div class=\"bk-root\">\n",
       "        <a href=\"https://bokeh.org\" target=\"_blank\" class=\"bk-logo bk-logo-small bk-logo-notebook\"></a>\n",
       "        <span id=\"1047\">Loading BokehJS ...</span>\n",
       "    </div>"
      ]
     },
     "metadata": {},
     "output_type": "display_data"
    },
    {
     "data": {
      "application/javascript": [
       "\n",
       "(function(root) {\n",
       "  function now() {\n",
       "    return new Date();\n",
       "  }\n",
       "\n",
       "  const force = true;\n",
       "\n",
       "  if (typeof root._bokeh_onload_callbacks === \"undefined\" || force === true) {\n",
       "    root._bokeh_onload_callbacks = [];\n",
       "    root._bokeh_is_loading = undefined;\n",
       "  }\n",
       "\n",
       "  const JS_MIME_TYPE = 'application/javascript';\n",
       "  const HTML_MIME_TYPE = 'text/html';\n",
       "  const EXEC_MIME_TYPE = 'application/vnd.bokehjs_exec.v0+json';\n",
       "  const CLASS_NAME = 'output_bokeh rendered_html';\n",
       "\n",
       "  /**\n",
       "   * Render data to the DOM node\n",
       "   */\n",
       "  function render(props, node) {\n",
       "    const script = document.createElement(\"script\");\n",
       "    node.appendChild(script);\n",
       "  }\n",
       "\n",
       "  /**\n",
       "   * Handle when an output is cleared or removed\n",
       "   */\n",
       "  function handleClearOutput(event, handle) {\n",
       "    const cell = handle.cell;\n",
       "\n",
       "    const id = cell.output_area._bokeh_element_id;\n",
       "    const server_id = cell.output_area._bokeh_server_id;\n",
       "    // Clean up Bokeh references\n",
       "    if (id != null && id in Bokeh.index) {\n",
       "      Bokeh.index[id].model.document.clear();\n",
       "      delete Bokeh.index[id];\n",
       "    }\n",
       "\n",
       "    if (server_id !== undefined) {\n",
       "      // Clean up Bokeh references\n",
       "      const cmd_clean = \"from bokeh.io.state import curstate; print(curstate().uuid_to_server['\" + server_id + \"'].get_sessions()[0].document.roots[0]._id)\";\n",
       "      cell.notebook.kernel.execute(cmd_clean, {\n",
       "        iopub: {\n",
       "          output: function(msg) {\n",
       "            const id = msg.content.text.trim();\n",
       "            if (id in Bokeh.index) {\n",
       "              Bokeh.index[id].model.document.clear();\n",
       "              delete Bokeh.index[id];\n",
       "            }\n",
       "          }\n",
       "        }\n",
       "      });\n",
       "      // Destroy server and session\n",
       "      const cmd_destroy = \"import bokeh.io.notebook as ion; ion.destroy_server('\" + server_id + \"')\";\n",
       "      cell.notebook.kernel.execute(cmd_destroy);\n",
       "    }\n",
       "  }\n",
       "\n",
       "  /**\n",
       "   * Handle when a new output is added\n",
       "   */\n",
       "  function handleAddOutput(event, handle) {\n",
       "    const output_area = handle.output_area;\n",
       "    const output = handle.output;\n",
       "\n",
       "    // limit handleAddOutput to display_data with EXEC_MIME_TYPE content only\n",
       "    if ((output.output_type != \"display_data\") || (!Object.prototype.hasOwnProperty.call(output.data, EXEC_MIME_TYPE))) {\n",
       "      return\n",
       "    }\n",
       "\n",
       "    const toinsert = output_area.element.find(\".\" + CLASS_NAME.split(' ')[0]);\n",
       "\n",
       "    if (output.metadata[EXEC_MIME_TYPE][\"id\"] !== undefined) {\n",
       "      toinsert[toinsert.length - 1].firstChild.textContent = output.data[JS_MIME_TYPE];\n",
       "      // store reference to embed id on output_area\n",
       "      output_area._bokeh_element_id = output.metadata[EXEC_MIME_TYPE][\"id\"];\n",
       "    }\n",
       "    if (output.metadata[EXEC_MIME_TYPE][\"server_id\"] !== undefined) {\n",
       "      const bk_div = document.createElement(\"div\");\n",
       "      bk_div.innerHTML = output.data[HTML_MIME_TYPE];\n",
       "      const script_attrs = bk_div.children[0].attributes;\n",
       "      for (let i = 0; i < script_attrs.length; i++) {\n",
       "        toinsert[toinsert.length - 1].firstChild.setAttribute(script_attrs[i].name, script_attrs[i].value);\n",
       "        toinsert[toinsert.length - 1].firstChild.textContent = bk_div.children[0].textContent\n",
       "      }\n",
       "      // store reference to server id on output_area\n",
       "      output_area._bokeh_server_id = output.metadata[EXEC_MIME_TYPE][\"server_id\"];\n",
       "    }\n",
       "  }\n",
       "\n",
       "  function register_renderer(events, OutputArea) {\n",
       "\n",
       "    function append_mime(data, metadata, element) {\n",
       "      // create a DOM node to render to\n",
       "      const toinsert = this.create_output_subarea(\n",
       "        metadata,\n",
       "        CLASS_NAME,\n",
       "        EXEC_MIME_TYPE\n",
       "      );\n",
       "      this.keyboard_manager.register_events(toinsert);\n",
       "      // Render to node\n",
       "      const props = {data: data, metadata: metadata[EXEC_MIME_TYPE]};\n",
       "      render(props, toinsert[toinsert.length - 1]);\n",
       "      element.append(toinsert);\n",
       "      return toinsert\n",
       "    }\n",
       "\n",
       "    /* Handle when an output is cleared or removed */\n",
       "    events.on('clear_output.CodeCell', handleClearOutput);\n",
       "    events.on('delete.Cell', handleClearOutput);\n",
       "\n",
       "    /* Handle when a new output is added */\n",
       "    events.on('output_added.OutputArea', handleAddOutput);\n",
       "\n",
       "    /**\n",
       "     * Register the mime type and append_mime function with output_area\n",
       "     */\n",
       "    OutputArea.prototype.register_mime_type(EXEC_MIME_TYPE, append_mime, {\n",
       "      /* Is output safe? */\n",
       "      safe: true,\n",
       "      /* Index of renderer in `output_area.display_order` */\n",
       "      index: 0\n",
       "    });\n",
       "  }\n",
       "\n",
       "  // register the mime type if in Jupyter Notebook environment and previously unregistered\n",
       "  if (root.Jupyter !== undefined) {\n",
       "    const events = require('base/js/events');\n",
       "    const OutputArea = require('notebook/js/outputarea').OutputArea;\n",
       "\n",
       "    if (OutputArea.prototype.mime_types().indexOf(EXEC_MIME_TYPE) == -1) {\n",
       "      register_renderer(events, OutputArea);\n",
       "    }\n",
       "  }\n",
       "\n",
       "  \n",
       "  if (typeof (root._bokeh_timeout) === \"undefined\" || force === true) {\n",
       "    root._bokeh_timeout = Date.now() + 5000;\n",
       "    root._bokeh_failed_load = false;\n",
       "  }\n",
       "\n",
       "  const NB_LOAD_WARNING = {'data': {'text/html':\n",
       "     \"<div style='background-color: #fdd'>\\n\"+\n",
       "     \"<p>\\n\"+\n",
       "     \"BokehJS does not appear to have successfully loaded. If loading BokehJS from CDN, this \\n\"+\n",
       "     \"may be due to a slow or bad network connection. Possible fixes:\\n\"+\n",
       "     \"</p>\\n\"+\n",
       "     \"<ul>\\n\"+\n",
       "     \"<li>re-rerun `output_notebook()` to attempt to load from CDN again, or</li>\\n\"+\n",
       "     \"<li>use INLINE resources instead, as so:</li>\\n\"+\n",
       "     \"</ul>\\n\"+\n",
       "     \"<code>\\n\"+\n",
       "     \"from bokeh.resources import INLINE\\n\"+\n",
       "     \"output_notebook(resources=INLINE)\\n\"+\n",
       "     \"</code>\\n\"+\n",
       "     \"</div>\"}};\n",
       "\n",
       "  function display_loaded() {\n",
       "    const el = document.getElementById(\"1047\");\n",
       "    if (el != null) {\n",
       "      el.textContent = \"BokehJS is loading...\";\n",
       "    }\n",
       "    if (root.Bokeh !== undefined) {\n",
       "      if (el != null) {\n",
       "        el.textContent = \"BokehJS \" + root.Bokeh.version + \" successfully loaded.\";\n",
       "      }\n",
       "    } else if (Date.now() < root._bokeh_timeout) {\n",
       "      setTimeout(display_loaded, 100)\n",
       "    }\n",
       "  }\n",
       "\n",
       "\n",
       "  function run_callbacks() {\n",
       "    try {\n",
       "      root._bokeh_onload_callbacks.forEach(function(callback) {\n",
       "        if (callback != null)\n",
       "          callback();\n",
       "      });\n",
       "    } finally {\n",
       "      delete root._bokeh_onload_callbacks\n",
       "    }\n",
       "    console.debug(\"Bokeh: all callbacks have finished\");\n",
       "  }\n",
       "\n",
       "  function load_libs(css_urls, js_urls, callback) {\n",
       "    if (css_urls == null) css_urls = [];\n",
       "    if (js_urls == null) js_urls = [];\n",
       "\n",
       "    root._bokeh_onload_callbacks.push(callback);\n",
       "    if (root._bokeh_is_loading > 0) {\n",
       "      console.debug(\"Bokeh: BokehJS is being loaded, scheduling callback at\", now());\n",
       "      return null;\n",
       "    }\n",
       "    if (js_urls == null || js_urls.length === 0) {\n",
       "      run_callbacks();\n",
       "      return null;\n",
       "    }\n",
       "    console.debug(\"Bokeh: BokehJS not loaded, scheduling load and callback at\", now());\n",
       "    root._bokeh_is_loading = css_urls.length + js_urls.length;\n",
       "\n",
       "    function on_load() {\n",
       "      root._bokeh_is_loading--;\n",
       "      if (root._bokeh_is_loading === 0) {\n",
       "        console.debug(\"Bokeh: all BokehJS libraries/stylesheets loaded\");\n",
       "        run_callbacks()\n",
       "      }\n",
       "    }\n",
       "\n",
       "    function on_error(url) {\n",
       "      console.error(\"failed to load \" + url);\n",
       "    }\n",
       "\n",
       "    for (let i = 0; i < css_urls.length; i++) {\n",
       "      const url = css_urls[i];\n",
       "      const element = document.createElement(\"link\");\n",
       "      element.onload = on_load;\n",
       "      element.onerror = on_error.bind(null, url);\n",
       "      element.rel = \"stylesheet\";\n",
       "      element.type = \"text/css\";\n",
       "      element.href = url;\n",
       "      console.debug(\"Bokeh: injecting link tag for BokehJS stylesheet: \", url);\n",
       "      document.body.appendChild(element);\n",
       "    }\n",
       "\n",
       "    for (let i = 0; i < js_urls.length; i++) {\n",
       "      const url = js_urls[i];\n",
       "      const element = document.createElement('script');\n",
       "      element.onload = on_load;\n",
       "      element.onerror = on_error.bind(null, url);\n",
       "      element.async = false;\n",
       "      element.src = url;\n",
       "      console.debug(\"Bokeh: injecting script tag for BokehJS library: \", url);\n",
       "      document.head.appendChild(element);\n",
       "    }\n",
       "  };\n",
       "\n",
       "  function inject_raw_css(css) {\n",
       "    const element = document.createElement(\"style\");\n",
       "    element.appendChild(document.createTextNode(css));\n",
       "    document.body.appendChild(element);\n",
       "  }\n",
       "\n",
       "  \n",
       "  const js_urls = [\"https://cdn.bokeh.org/bokeh/release/bokeh-2.4.2.min.js\", \"https://cdn.bokeh.org/bokeh/release/bokeh-gl-2.4.2.min.js\", \"https://cdn.bokeh.org/bokeh/release/bokeh-widgets-2.4.2.min.js\", \"https://cdn.bokeh.org/bokeh/release/bokeh-tables-2.4.2.min.js\", \"https://cdn.bokeh.org/bokeh/release/bokeh-mathjax-2.4.2.min.js\"];\n",
       "  const css_urls = [];\n",
       "  \n",
       "\n",
       "  const inline_js = [\n",
       "    function(Bokeh) {\n",
       "      Bokeh.set_log_level(\"info\");\n",
       "    },\n",
       "    function(Bokeh) {\n",
       "    \n",
       "    \n",
       "    }\n",
       "  ];\n",
       "\n",
       "  function run_inline_js() {\n",
       "    \n",
       "    if (root.Bokeh !== undefined || force === true) {\n",
       "      \n",
       "    for (let i = 0; i < inline_js.length; i++) {\n",
       "      inline_js[i].call(root, root.Bokeh);\n",
       "    }\n",
       "    if (force === true) {\n",
       "        display_loaded();\n",
       "      }} else if (Date.now() < root._bokeh_timeout) {\n",
       "      setTimeout(run_inline_js, 100);\n",
       "    } else if (!root._bokeh_failed_load) {\n",
       "      console.log(\"Bokeh: BokehJS failed to load within specified timeout.\");\n",
       "      root._bokeh_failed_load = true;\n",
       "    } else if (force !== true) {\n",
       "      const cell = $(document.getElementById(\"1047\")).parents('.cell').data().cell;\n",
       "      cell.output_area.append_execute_result(NB_LOAD_WARNING)\n",
       "    }\n",
       "\n",
       "  }\n",
       "\n",
       "  if (root._bokeh_is_loading === 0) {\n",
       "    console.debug(\"Bokeh: BokehJS loaded, going straight to plotting\");\n",
       "    run_inline_js();\n",
       "  } else {\n",
       "    load_libs(css_urls, js_urls, function() {\n",
       "      console.debug(\"Bokeh: BokehJS plotting callback run at\", now());\n",
       "      run_inline_js();\n",
       "    });\n",
       "  }\n",
       "}(window));"
      ],
      "application/vnd.bokehjs_load.v0+json": "\n(function(root) {\n  function now() {\n    return new Date();\n  }\n\n  const force = true;\n\n  if (typeof root._bokeh_onload_callbacks === \"undefined\" || force === true) {\n    root._bokeh_onload_callbacks = [];\n    root._bokeh_is_loading = undefined;\n  }\n\n  \n\n  \n  if (typeof (root._bokeh_timeout) === \"undefined\" || force === true) {\n    root._bokeh_timeout = Date.now() + 5000;\n    root._bokeh_failed_load = false;\n  }\n\n  const NB_LOAD_WARNING = {'data': {'text/html':\n     \"<div style='background-color: #fdd'>\\n\"+\n     \"<p>\\n\"+\n     \"BokehJS does not appear to have successfully loaded. If loading BokehJS from CDN, this \\n\"+\n     \"may be due to a slow or bad network connection. Possible fixes:\\n\"+\n     \"</p>\\n\"+\n     \"<ul>\\n\"+\n     \"<li>re-rerun `output_notebook()` to attempt to load from CDN again, or</li>\\n\"+\n     \"<li>use INLINE resources instead, as so:</li>\\n\"+\n     \"</ul>\\n\"+\n     \"<code>\\n\"+\n     \"from bokeh.resources import INLINE\\n\"+\n     \"output_notebook(resources=INLINE)\\n\"+\n     \"</code>\\n\"+\n     \"</div>\"}};\n\n  function display_loaded() {\n    const el = document.getElementById(\"1047\");\n    if (el != null) {\n      el.textContent = \"BokehJS is loading...\";\n    }\n    if (root.Bokeh !== undefined) {\n      if (el != null) {\n        el.textContent = \"BokehJS \" + root.Bokeh.version + \" successfully loaded.\";\n      }\n    } else if (Date.now() < root._bokeh_timeout) {\n      setTimeout(display_loaded, 100)\n    }\n  }\n\n\n  function run_callbacks() {\n    try {\n      root._bokeh_onload_callbacks.forEach(function(callback) {\n        if (callback != null)\n          callback();\n      });\n    } finally {\n      delete root._bokeh_onload_callbacks\n    }\n    console.debug(\"Bokeh: all callbacks have finished\");\n  }\n\n  function load_libs(css_urls, js_urls, callback) {\n    if (css_urls == null) css_urls = [];\n    if (js_urls == null) js_urls = [];\n\n    root._bokeh_onload_callbacks.push(callback);\n    if (root._bokeh_is_loading > 0) {\n      console.debug(\"Bokeh: BokehJS is being loaded, scheduling callback at\", now());\n      return null;\n    }\n    if (js_urls == null || js_urls.length === 0) {\n      run_callbacks();\n      return null;\n    }\n    console.debug(\"Bokeh: BokehJS not loaded, scheduling load and callback at\", now());\n    root._bokeh_is_loading = css_urls.length + js_urls.length;\n\n    function on_load() {\n      root._bokeh_is_loading--;\n      if (root._bokeh_is_loading === 0) {\n        console.debug(\"Bokeh: all BokehJS libraries/stylesheets loaded\");\n        run_callbacks()\n      }\n    }\n\n    function on_error(url) {\n      console.error(\"failed to load \" + url);\n    }\n\n    for (let i = 0; i < css_urls.length; i++) {\n      const url = css_urls[i];\n      const element = document.createElement(\"link\");\n      element.onload = on_load;\n      element.onerror = on_error.bind(null, url);\n      element.rel = \"stylesheet\";\n      element.type = \"text/css\";\n      element.href = url;\n      console.debug(\"Bokeh: injecting link tag for BokehJS stylesheet: \", url);\n      document.body.appendChild(element);\n    }\n\n    for (let i = 0; i < js_urls.length; i++) {\n      const url = js_urls[i];\n      const element = document.createElement('script');\n      element.onload = on_load;\n      element.onerror = on_error.bind(null, url);\n      element.async = false;\n      element.src = url;\n      console.debug(\"Bokeh: injecting script tag for BokehJS library: \", url);\n      document.head.appendChild(element);\n    }\n  };\n\n  function inject_raw_css(css) {\n    const element = document.createElement(\"style\");\n    element.appendChild(document.createTextNode(css));\n    document.body.appendChild(element);\n  }\n\n  \n  const js_urls = [\"https://cdn.bokeh.org/bokeh/release/bokeh-2.4.2.min.js\", \"https://cdn.bokeh.org/bokeh/release/bokeh-gl-2.4.2.min.js\", \"https://cdn.bokeh.org/bokeh/release/bokeh-widgets-2.4.2.min.js\", \"https://cdn.bokeh.org/bokeh/release/bokeh-tables-2.4.2.min.js\", \"https://cdn.bokeh.org/bokeh/release/bokeh-mathjax-2.4.2.min.js\"];\n  const css_urls = [];\n  \n\n  const inline_js = [\n    function(Bokeh) {\n      Bokeh.set_log_level(\"info\");\n    },\n    function(Bokeh) {\n    \n    \n    }\n  ];\n\n  function run_inline_js() {\n    \n    if (root.Bokeh !== undefined || force === true) {\n      \n    for (let i = 0; i < inline_js.length; i++) {\n      inline_js[i].call(root, root.Bokeh);\n    }\n    if (force === true) {\n        display_loaded();\n      }} else if (Date.now() < root._bokeh_timeout) {\n      setTimeout(run_inline_js, 100);\n    } else if (!root._bokeh_failed_load) {\n      console.log(\"Bokeh: BokehJS failed to load within specified timeout.\");\n      root._bokeh_failed_load = true;\n    } else if (force !== true) {\n      const cell = $(document.getElementById(\"1047\")).parents('.cell').data().cell;\n      cell.output_area.append_execute_result(NB_LOAD_WARNING)\n    }\n\n  }\n\n  if (root._bokeh_is_loading === 0) {\n    console.debug(\"Bokeh: BokehJS loaded, going straight to plotting\");\n    run_inline_js();\n  } else {\n    load_libs(css_urls, js_urls, function() {\n      console.debug(\"Bokeh: BokehJS plotting callback run at\", now());\n      run_inline_js();\n    });\n  }\n}(window));"
     },
     "metadata": {},
     "output_type": "display_data"
    },
    {
     "data": {
      "text/html": [
       "\n",
       "\n",
       "\n",
       "\n",
       "\n",
       "\n",
       "  <div class=\"bk-root\" id=\"cbff5378-25bd-4312-8c4d-556ad4512025\" data-root-id=\"1002\"></div>\n"
      ]
     },
     "metadata": {},
     "output_type": "display_data"
    },
    {
     "data": {
      "application/javascript": [
       "(function(root) {\n",
       "  function embed_document(root) {\n",
       "    \n",
       "  const docs_json = {\"3a01949b-49d1-4012-839d-c68de8d607b8\":{\"defs\":[],\"roots\":{\"references\":[{\"attributes\":{\"below\":[{\"id\":\"1011\"}],\"center\":[{\"id\":\"1014\"},{\"id\":\"1018\"},{\"id\":\"1045\"}],\"height\":700,\"left\":[{\"id\":\"1015\"}],\"renderers\":[{\"id\":\"1043\"}],\"title\":{\"id\":\"1048\"},\"toolbar\":{\"id\":\"1029\"},\"width\":700,\"x_range\":{\"id\":\"1003\"},\"x_scale\":{\"id\":\"1007\"},\"y_range\":{\"id\":\"1005\"},\"y_scale\":{\"id\":\"1009\"}},\"id\":\"1002\",\"subtype\":\"Figure\",\"type\":\"Plot\"},{\"attributes\":{\"data\":{\"index\":[\"oct\",\"nice\",\"trendy\",\"hotel\",\"location\",\"not_too\",\"bad\",\"stayed_in\",\"this_hotel\",\"for\",\"one_night\",\"as\",\"this\",\"is\",\"fairly_new\",\"place\",\"some\",\"of\",\"the\",\"taxi_drivers\",\"did_not\",\"know_where\",\"it\",\"was\",\"and\",\"or\",\"want_to\",\"drive\",\"there\",\"once\",\"have\",\"eventually_arrived\",\"at\",\"very_pleasantly\",\"surprised\",\"with\",\"decor\",\"lobby\",\"ground_floor\",\"area\",\"very_stylish\",\"modern\",\"found\",\"reception_staff\",\"geeting\",\"me\",\"aloha\",\"bit\",\"out_of\",\"but_guess\",\"they_are\",\"briefed\",\"to_say\",\"that\",\"to_keep\",\"up\",\"coroporate\",\"image\",\"starwood_preferred\",\"guest_member\",\"given\",\"small_gift\",\"upon_check\",\"in\",\"only_couple\",\"fridge_magnets\",\"gift_box\",\"but_nevertheless\",\"nice_gesture\",\"my\",\"room\",\"roomy\",\"there_are\",\"tea\",\"coffee_facilities\",\"each\",\"you_get\",\"two\",\"complimentary_bottles\",\"water\",\"plus\",\"toiletries\",\"by\",\"bliss\",\"not\",\"great\",\"last\",\"metro_stop\",\"you\",\"then\",\"need_to\",\"take_taxi\",\"but\",\"if_you\",\"are\",\"planning_on\",\"going_to\",\"see\",\"historic_sites\",\"in_beijing\",\"you_will\",\"be\",\"ok\",\"chose\",\"to\",\"breakfast\",\"which\",\"really_tasty\",\"good_selection\",\"dishes\",\"couple_of\",\"computers\",\"to_use\",\"communal_area\",\"as_well\",\"pool\",\"table\",\"there_is\",\"also\",\"small\",\"swimming_pool\",\"gym\",\"would_definitely\",\"stay\",\"again\",\"only\",\"if\",\"plan_to\",\"travel\",\"central_beijing\",\"can_take\",\"long_time\",\"do\",\"lot_of\",\"shopping\",\"big\",\"shopping_centre\",\"just_few\",\"minutes_away\",\"from\",\"plenty_of\",\"eating_options\",\"around\",\"including\",\"restaurants\",\"serve\",\"dog_meat\",\"sep_great\",\"budget_hotel\",\"stayed\",\"two_nights\",\"aloft\",\"on\",\"most_recent\",\"trip\",\"china\",\"very_modern\",\"clean\",\"was_spotless\",\"comfortable_king\",\"sized_bed\",\"as_far\",\"soft_beds\",\"go\",\"in_china\",\"staff\",\"very_punctual\",\"went_out\",\"way\",\"to_help\",\"every_need\",\"store_across\",\"street\",\"to_purchase\",\"china_mobile\",\"sim_card\",\"buffet_breakfast\",\"was_okay\",\"nothing\",\"to_write\",\"home_about\",\"lcd_screen\",\"had\",\"movies\",\"on_demand\",\"rmb\",\"western\",\"channels_including\",\"hbo_cnn\",\"bbc\",\"star\",\"world\",\"etc\",\"selection_of\",\"basic\",\"weights\",\"one\",\"cable\",\"machine\",\"however\",\"new_technogym\",\"cardio_machines\",\"built_in\",\"lcd_tvs\",\"were\",\"very_good\",\"central\",\"areas\",\"beijing\",\"better_suited\",\"needs\",\"haidian_district\",\"being_spg\",\"platinum\",\"no_upgrades\",\"better\",\"because\",\"has\",\"policy\",\"doing\",\"any_upgrades\",\"sheraton\",\"next_door\",\"much_nicer\",\"my_opinion\",\"where\",\"am_writing\",\"now\",\"an_upgraded\",\"bang_for\",\"buck\",\"great_place\",\"aug_excellent\",\"value\",\"big_problem\",\"we_stayed\",\"haidian\",\"for_nights\",\"july_nd\",\"lots_of\",\"reviews\",\"talk_about\",\"being\",\"problem\",\"we_knew\",\"ahead_of\",\"time\",\"really\",\"wasn\",\"an_issue\",\"longest\",\"we_spent\",\"taxi\",\"about_minutes\",\"we\",\"never\",\"paid\",\"more_than\",\"taxi_ride\",\"which_is\",\"about_cdn\",\"forbidden_city\",\"our_family\",\"no\",\"big_deal\",\"all\",\"rooms\",\"they_were\",\"beds\",\"comfortable\",\"wireless_internet\",\"connection\",\"reliable\",\"one_of\",\"few\",\"hotels\",\"we_found\",\"would\",\"accomodate_adults\",\"children\",\"we_paid\",\"per_night\",\"an_amazing\",\"price\",\"meant\",\"to_be\",\"star_hotel\",\"so\",\"you_can\",\"expecting\",\"generally\",\"very_helpful\",\"friendly\",\"they_aren\",\"fastest\",\"it_wasn\",\"unreasonable\",\"manager\",\"made\",\"an_effort\",\"to_speak\",\"us\",\"few_times\",\"was_extremely\",\"helpful\",\"welcoming\",\"their\",\"breakfast_buffet\",\"quite\",\"good\",\"reasonably_priced\",\"number_of\",\"four_points\",\"options\",\"massive\",\"mall\",\"about_block\",\"away\",\"other\",\"dining_options\",\"only_issue\",\"ran_into\",\"refusing_to\",\"take\",\"summer_palace\",\"guess\",\"they\",\"felt\",\"far_enough\",\"minimum\",\"rate\",\"busier\",\"road\",\"than\",\"side_street\",\"finding_taxis\",\"they_weren\",\"already\",\"stay_there\",\"recommend_it\",\"our_friends\",\"its\",\"excellent_value\",\"jul\",\"stylish\",\"reasonable_value\",\"poor\",\"am_glad\",\"first\",\"person\",\"post_photos\",\"key_points\",\"about\",\"this_property\",\"starwood_property\",\"much_cheaper\",\"rest\",\"shows\",\"pretty\",\"incompetent_reception\",\"hard\",\"bed\",\"cheap\",\"blinds\",\"don\",\"block\",\"out\",\"sun\",\"mornings\",\"common_areas\",\"seem_to\",\"degrading\",\"very_quickly\",\"how\",\"new\",\"side\",\"very_clean\",\"and_tidy\",\"important\",\"presents\",\"good_value\",\"stylishly_designed\",\"looks\",\"much_more\",\"than_anything\",\"else\",\"price_range\",\"typical_tourist\",\"yes\",\"very_poor\",\"close_to\",\"other_places\",\"will_require\",\"will_probably\",\"result\",\"hours\",\"frustratingly\",\"stuck_in\",\"traffic\",\"dont_know\",\"coming_from\",\"east\",\"city_centre\",\"airport\",\"right\",\"turn\",\"after\",\"adjacent\",\"trying_to\",\"scam\",\"an_spg\",\"platinum_status\",\"cheapest_way\",\"possible\",\"perhaps\",\"these\",\"spg_hotels\",\"check_out\",\"every_night\",\"whole\",\"thought_it\",\"decent_value\",\"dollar\",\"personally_prefer\",\"to_pay\",\"double\",\"westin\",\"chaoyang\",\"financial_street\",\"have_stayed\",\"both\",\"approx\",\"real\",\"service\",\"thats\",\"your\",\"budget\",\"you_want\",\"assurance\",\"an_international\",\"chain\",\"perfect_for\",\"lastly\",\"may\",\"appropriate_for\",\"university_students\",\"pick\",\"unless_you\",\"know_what\",\"you_are\",\"taxis\",\"hua\",\"may_be\",\"exceptionally\",\"frustrating_because\",\"constant_traffic\",\"zhong\",\"guan\",\"cun\",\"tell\",\"to_go\",\"four\",\"ring_road\",\"even_though\",\"might_be\",\"bit_more\",\"expensive\",\"free_internet\",\"it_does\",\"not_seem\",\"work\",\"iphones\",\"remote\",\"for_money\",\"is_located\",\"little_bit\",\"don_mind\",\"taking\",\"closest_subway\",\"station_which\",\"costs\",\"only_cny\",\"ride\",\"hotel_represents\",\"low_prices\",\"quiet\",\"internet\",\"use\",\"free\",\"especially\",\"travellors_who\",\"don_want\",\"to_spend\",\"money\",\"hyatt\",\"hilton\",\"who\",\"look\",\"very\",\"decent_place\",\"represents_an\",\"excellent_choice\",\"dec\",\"downtown\",\"next\",\"part_of\",\"starwood_group\",\"for_those\",\"wanting\",\"recommend\",\"factoring_in\",\"taxi_fares\",\"town\",\"when\",\"working\",\"here\",\"the_otherside\",\"rates\",\"rooms_are\",\"basic_but\",\"well_appointed\",\"tv\",\"more_focused\",\"local_channels\",\"an_indication\",\"clients\",\"targeting\",\"standard\",\"staff_were\",\"very_friendly\",\"check_in\",\"times\",\"acceptable\",\"nov_great\",\"layout\",\"return\",\"bedroomed_suite\",\"well_furnished\",\"perfect\",\"hosts\",\"even\",\"organised\",\"birthday_cake\",\"my_mum\",\"we_were\",\"to_celebrate\",\"could\",\"organise\",\"massages\",\"manicures\",\"our\",\"suite\",\"relaxing\",\"located\",\"cbd\",\"for_tourists\",\"remarkably_good\",\"valued\",\"restaurants_nearby\",\"nov\",\"quality\",\"ascott_beijing\",\"summer\",\"for_week\",\"family\",\"is_centrally\",\"when_you\",\"european\",\"kids\",\"staying\",\"few_days\",\"is_ideal\",\"fully_equipped\",\"kitchen\",\"wal_mart\",\"nearby\",\"we_had\",\"spacious\",\"apartment\",\"big_lcd\",\"flat\",\"television\",\"really_good\",\"speaking\",\"language\",\"never_had\",\"to_wait\",\"always\",\"provided\",\"info\",\"directions\",\"good_location\",\"poor_service\",\"my_friends\",\"arrived\",\"different_countries\",\"different_times\",\"were_greeted\",\"the_same\",\"lousy\",\"bellboy\",\"help\",\"luggage\",\"doorman\",\"open\",\"door\",\"receptionist_took\",\"minutes\",\"to_greet\",\"smile\",\"despite_having\",\"other_guest\",\"sum\",\"pleasant\",\"bedroom_suite\",\"very_spacious\",\"comfy\",\"basic_amenities\",\"bathroom_was\",\"with_separate\",\"bathtub\",\"shower\",\"equipped_with\",\"occitaine_toiletries\",\"they_do\",\"not_provide\",\"new_ones\",\"even_tho\",\"finished\",\"them\",\"to_ask\",\"receptionist\",\"concierge\",\"twice_before\",\"getting\",\"more\",\"washing_machine\",\"brilliant\",\"clever_enough\",\"work_out\",\"wash\",\"dry\",\"days\",\"ended_up\",\"laundry\",\"hand\",\"within_walking\",\"distance\",\"train_station\",\"food_places\",\"slight_difficulty\",\"getting_taxi\",\"tho\",\"eleven\",\"just_round\",\"corner\",\"starbucks\",\"small_but\",\"spread\",\"egg_station\",\"fruits_breads\",\"local\",\"congee\",\"hot_food\",\"massage_spa\",\"massage\",\"chinese\",\"pedicure\",\"pedicurist\",\"man_who\",\"told_us\",\"maggie\",\"cheung\",\"went\",\"while_ago\",\"quality_of\",\"average\",\"sep_amazing\",\"find\",\"group\",\"wants_to\",\"stick_together\",\"we_did\",\"searching\",\"before\",\"finally_deciding\",\"stay_at\",\"ascott\",\"bit_nervous\",\"since\",\"would_be\",\"my_first\",\"know\",\"little\",\"best\",\"perfect_choice\",\"people\",\"traveling_together\",\"booked\",\"slept\",\"everyone\",\"bathrooms\",\"worked_well\",\"our_group\",\"loved_having\",\"able_to\",\"choice\",\"what\",\"we_ate\",\"wish\",\"would_have\",\"been\",\"grocery_store\",\"closer\",\"although\",\"eleven_across\",\"washer\",\"dryer\",\"definitely\",\"space\",\"for_lounging\",\"have_complained\",\"wireless\",\"goes\",\"wouldn_count\",\"wired_connections\",\"though\",\"just\",\"shared\",\"we_weren\",\"anyway\",\"we_didn\",\"care\",\"too_much\",\"went_above\",\"beyond\",\"to_accommodate\",\"left\",\"my_passport\",\"upon_arrival\",\"moment\",\"told_them\",\"got\",\"on_top\",\"tracking\",\"down\",\"added_convenience\",\"subway\",\"restaurant_attached\",\"may_sound\",\"silly\",\"most_people\",\"after_weeks\",\"ready\",\"put\",\"something\",\"familiar\",\"my_stomach\",\"hit\",\"spot\",\"across\",\"chinese_food\",\"restaurant\",\"will_deliver\",\"breakfast_included\",\"our_stay\",\"start\",\"each_morning\",\"less_than\",\"minute_walk\",\"subway_entrance\",\"maybe_minute\",\"walk\",\"silk_market\",\"sights\",\"wonderful\",\"deal\",\"accommodations\",\"would_highly\",\"to_anyone\",\"sep_good\",\"value_for\",\"large\",\"internet_connection\",\"prob\",\"fault\",\"families\",\"we_grabbed\",\"large_bedroom\",\"for_adults\",\"inlaws\",\"really_liked\",\"washer_dryer\",\"big_thumbs\",\"large_lcd\",\"heavy\",\"rotation\",\"movie\",\"popcorn\",\"works\",\"every\",\"friday\",\"several_days\",\"guest\",\"isp\",\"gm\",\"allowed_us\",\"conference_center\",\"different_isp\",\"as_soon\",\"he\",\"aware\",\"solved\",\"are_looking\",\"casa_mia\",\"closed\",\"annie\",\"italian\",\"opening_soon\",\"right_across\",\"ve_never\",\"tried\",\"excellent_service\",\"food\",\"also_tried\",\"curry\",\"building\",\"fine\",\"gym_facilities\",\"awesome\",\"full\",\"cybex\",\"freeweights\",\"treadmills\",\"with_lcds\",\"actually_improved\",\"during_our\",\"asked_for\",\"ideas\",\"to_make\",\"oriented_towards\",\"toddlers\",\"ball\",\"pit\",\"toys\",\"yo\",\"enjoyed\",\"decent\",\"temps\",\"stay_here\",\"learn_how\",\"to_get\",\"walmart\",\"its_faster\",\"essentials\",\"prices\",\"everybody\",\"bought\",\"food_souveniers\",\"main\",\"lacking\",\"tourist\",\"you_ll\",\"most_of\",\"homework\",\"your_own\",\"local_guide\",\"hire\",\"like\",\"aug\",\"don_rely\",\"have_any\",\"mission_critical\",\"deals\",\"seal\",\"connect\",\"stock\",\"futures\",\"broker\",\"view\",\"trade\",\"markets\",\"couldn\",\"login\",\"airline\",\"an\",\"book\",\"seat\",\"other_websites\",\"such_as\",\"yahoo\",\"msn_messenger\",\"front_desk\",\"no_clue\",\"no_answer\",\"to_fix\",\"rooms_were\",\"well_equipped\",\"safe\",\"no_instructions\",\"living_room\",\"an_lcd\",\"grainy\",\"crt\",\"limited\",\"tilted\",\"towards\",\"horrible_experience\",\"should_be\",\"essential\",\"toilet\",\"you_need\",\"steady\",\"reliable_connection\",\"avoid_this\",\"travel_lot\",\"ve_stayed\",\"different\",\"serviced_apartment\",\"honestly\",\"ever_stayed\",\"always_friendly\",\"try\",\"satisfied\",\"request\",\"minimart\",\"several\",\"house\",\"can\",\"deliver_food\",\"center\",\"phone\",\"order\",\"your_room\",\"any\",\"smallest_room\",\"square_meter\",\"bedroom\",\"feel_like\",\"at_home\",\"away_from\",\"home\",\"management\",\"really_helpfull\",\"really_apreciate\",\"treated\",\"of_course\",\"recommend_this\",\"residence\",\"will_be\",\"suitable_for\",\"people_who\",\"facilities\",\"we_loved\",\"were_extremely\",\"happy_with\",\"very_large\",\"families_or\",\"couples\",\"bedrooms\",\"with_king\",\"queen\",\"utensils\",\"needed\",\"cook\",\"bought_groceries\",\"snacks\",\"they_provided\",\"packets_of\",\"soap\",\"we_used\",\"gorgeous\",\"pool_area\",\"everday\",\"steamroom\",\"sauna\",\"private_tour\",\"venture_out\",\"our_own\",\"always_seemed\",\"main_attractions\",\"bank_machine\",\"recommed_this\",\"home_away\",\"from_home\",\"except_for\",\"mentioned\",\"previous_post\",\"after_waiting\",\"load\",\"learned\",\"my_lesson\",\"vacation\",\"doing_laundry\",\"capacity\",\"loads\",\"pieces_of\",\"clothing\",\"selected\",\"washed\",\"choose\",\"shortest\",\"drying\",\"clothes\",\"damp\",\"be_aware\",\"white\",\"stained\",\"yellow_stains\",\"probably\",\"at_least\",\"friends\",\"told_me\",\"location_wise\",\"liitle\",\"farther_from\",\"unable_to\",\"think\",\"common_problem\",\"travellers\",\"are_notorious\",\"overcharging\",\"visitors\",\"ve_paid\",\"between\",\"different_occasions\",\"travelling\",\"wangfujing_street\",\"and_vice\",\"versa\",\"trustworthy\",\"my_own\",\"experience\",\"can_tell\",\"trick\",\"drivers\",\"passengers\",\"not_familiar\",\"phone_calls\",\"to_verify\",\"cruising_around\",\"while\",\"charges\",\"keep_going\",\"this_happens\",\"took_taxi\",\"anywhere\",\"huge\",\"speak\",\"their_language\",\"imagine\",\"someone_who\",\"doesn\",\"overall_would\",\"re\",\"better_places\",\"single\",\"couple\",\"jul_avoid\",\"are_planning\",\"this_place\",\"my_family\",\"after_reading\",\"previous_positive\",\"reviews_on\",\"trip_advisor\",\"travel_channel\",\"special\",\"samatha\",\"brown\",\"good_thing\",\"can_say\",\"roominess\",\"fairly_good\",\"your_money\",\"otherwise\",\"say\",\"avoid\",\"services\",\"slow\",\"due_to\",\"understaffing\",\"purposes\",\"despite\",\"low_cost\",\"labor\",\"waits\",\"an_hour\",\"the_norm\",\"calls\",\"housekeeping\",\"repair_crew\",\"come\",\"can_stand\",\"poor_quality\",\"combination_washer\",\"dryer_unit\",\"inside\",\"it_takes\",\"do_load\",\"laundry_wash\",\"amp\",\"still\",\"come_out\",\"wet\",\"complaint\",\"can_do\",\"apologize\",\"sightseeing\",\"much_time\",\"get\",\"upset\",\"damp_wet\",\"cloths\",\"greasy\",\"chinese_items\",\"breakfast_items\",\"skimpy\",\"hype\",\"easy_to\",\"hard_time\",\"locating\",\"call\",\"faucets\",\"basins\",\"tubs\",\"hard_to\",\"reach\",\"am_talking\",\"jun_great\",\"with_children\",\"serves\",\"well\",\"for_families\",\"serviced\",\"apt\",\"gym_pool\",\"play\",\"young_children\",\"park_hyatt\",\"highly_recommended\",\"apr_ideal\",\"larger_group\",\"spent_six\",\"nights\",\"bedroom_apartment\",\"five\",\"members\",\"pros\",\"spacious_living\",\"dining_area\",\"access\",\"beautiful\",\"jacuzzi_sauna\",\"steam\",\"new_equipments\",\"well_situated\",\"currency_exchange\",\"desk\",\"mini_market\",\"citibank_atm\",\"shop\",\"premises\",\"chinese_restaurant\",\"just_across\",\"grocery_shopping\",\"convenience_store\",\"about_minute\",\"guo_mao\",\"bus_station\",\"be_careful\",\"cross\",\"taxis_are\",\"available\",\"entrance\",\"your_destinations\",\"printed\",\"take_taxis\",\"cons\",\"complain\",\"housekeepers_were\",\"polite_and\",\"seemed_earnest\",\"par_with\",\"expected\",\"master_bedroom\",\"bathroom\",\"unclean\",\"day\",\"towels\",\"amenities\",\"shower_gel\",\"shampoo\",\"glasses\",\"toilet_papers\",\"enough\",\"four_sets\",\"for_six\",\"asking_for\",\"during\",\"those\",\"keep\",\"in_mind\",\"mainly\",\"long\",\"expats\",\"overall_think\",\"mar_excellent\",\"apartments\",\"bright\",\"cleaned_daily\",\"overall\",\"except\",\"carpet_stains\",\"not_bad\",\"convenient\",\"for_business\",\"trips\",\"do_not\",\"be_tricked\",\"fact_that\",\"it_appears\",\"subway_station\",\"is_situated\",\"practically\",\"intersection\",\"rd_ring\",\"jian_guo\",\"near\",\"absolutely_massive\",\"south_west\",\"south_east\",\"you_must\",\"follow\",\"crowd\",\"pedestrians\",\"absolutely_crazy\",\"compared_to\",\"north_american\",\"standards\",\"very_skilled\",\"approximately_minutes\",\"subways\",\"very_busy\",\"during_rush\",\"hour\",\"morning\",\"evening\",\"prepare\",\"packed\",\"like_sardine\",\"having_said\",\"frequent\",\"effecient\",\"practically_anywhere\",\"take_public\",\"buses\",\"very_easy\",\"only_rmb\",\"cash_fare\",\"hundreds_of\",\"bus_lines\",\"will_take\",\"the_middle\",\"fare\",\"collector\",\"short\",\"front\",\"bus_driver\",\"to_collect\",\"everywhere\",\"but_beware\",\"registered\",\"official\",\"drivers_will\",\"rip\",\"off\",\"cheap_compared\",\"north_america\",\"seeing\",\"not_native\",\"will\",\"know_how\",\"much\",\"should\",\"cost\",\"hold\",\"map\",\"make_sure\",\"driver\",\"doesn_make\",\"stupid\",\"turns\",\"waste_time\",\"tricks\",\"even_if\",\"going\",\"simply_ignore\",\"advice\",\"continue\",\"beware\",\"streets\",\"changan\",\"forever\",\"make\",\"frustrated\",\"computer\",\"lobby_area\",\"ask\",\"reception\",\"wifi\",\"hot_tub\",\"too\",\"eat\",\"to_cook\",\"shuttle\",\"supermarkets\",\"where_you\",\"can_buy\",\"jan_perfect\",\"my_husband\",\"two_sons\",\"stayed_at\",\"for_nine\",\"very_convenient\",\"subway_line\",\"definately\",\"address_printed\",\"is_tucked\",\"down_side\",\"direction\",\"no_problem\",\"security\",\"always_felt\",\"complex\",\"milk\",\"yogurts_cereal\",\"pasta\",\"soda_etc\",\"excellent\",\"italian_restaurant\",\"onsite\",\"called_casa\",\"mia\",\"this_proved\",\"invaluable\",\"when_travelling\",\"american\",\"fickle\",\"eaters\",\"owner\",\"italy\",\"fresh\",\"pizza\",\"lasagna\",\"touring\",\"very_tired\",\"actually\",\"went_to\",\"ate\",\"alone\",\"sent_up\",\"two_bedroom\",\"master_bathroom\",\"very_small\",\"clothes_washer\",\"fitness_area\",\"ourselves\",\"were_always\",\"clean_towels\",\"western_visitors\",\"october\",\"we_arrived\",\"late\",\"flying\",\"as_previously\",\"written\",\"taxi_driver\",\"brought_along\",\"phone_number\",\"called\",\"we_booked\",\"very_comfortable\",\"full_kitchen\",\"dining_room\",\"living_area\",\"about_ten\",\"nearest_subway\",\"establishing\",\"fees\",\"coordinating\",\"badaling\",\"staff_speaks\",\"english\",\"one_evening\",\"waitress\",\"litle_hesitant\",\"her\",\"owner_chef\",\"vey_helpful\",\"wide_variety\",\"foods\",\"to_pick\",\"besides\",\"pearl\",\"silk_markets\",\"shop_downstairs\",\"noticed\",\"will_come\",\"came\",\"handy_for\",\"yuan\",\"private\",\"pleasant_stay\",\"family_vacations\",\"through\",\"hotels_com\",\"end\",\"wery\",\"key\",\"success\",\"factor\",\"vacations\",\"two_young\",\"thanks_to\",\"prepare_them\",\"liked\",\"very_useful\",\"program\",\"delivered\",\"japanese_restaurant\",\"tired\",\"to_buy\",\"complementary\",\"rarely_used\",\"by_taxi\",\"shortened\",\"regulations\",\"force\",\"it_took\",\"finally\",\"extended\",\"honest\",\"recommanding\",\"book_through\",\"availability\",\"web_site\",\"booked_directly\",\"we_could\",\"wall\",\"mart\",\"recomend\",\"sep\",\"alternative_accomodation\",\"nicely_located\",\"near_metro\",\"chaoyang_district\",\"two_bedrooms\",\"large_living\",\"modest_size\",\"short_stay\",\"even_better\",\"ability_to\",\"book_tours\",\"change_currency\",\"transport\",\"business_center\",\"free_access\",\"decide\",\"actually_prefer\",\"to_eat\",\"apartment_rather\",\"can_get\",\"fixings\",\"an_omelet\",\"issues\",\"some_reason\",\"cab_drivers\",\"finding\",\"address\",\"cab_ride\",\"cabbie\",\"having\",\"card\",\"cabbies\",\"are_willing\",\"second\",\"cab\",\"con\",\"our_departure\",\"after_booking\",\"night_before\",\"am\",\"pick_up\",\"woke_up\",\"to_find\",\"suddenly\",\"wanted\",\"early\",\"was_raining\",\"bs\",\"pushing\",\"wanted_to\",\"push\",\"because_of\",\"our_luggage\",\"we_left\",\"hey\",\"nyc\",\"agree\",\"toll\",\"cabs\",\"blame\",\"saw\",\"his\",\"quot\",\"cut\",\"aug_great\",\"bath\",\"two_weeks\",\"beautiful_marble\",\"dining\",\"housekeeping_came\",\"daily\",\"thoroughly_cleaned\",\"our_room\",\"easily\",\"neighborhood\",\"jun_excellent\",\"every_respect\",\"in_april\",\"this_year\",\"fast_efficient\",\"upgraded_to\",\"bedroom_bath\",\"see_photos\",\"must_have\",\"square_meters\",\"meters\",\"back\",\"road_from\",\"jianguomen\",\"dajie\",\"basically\",\"right_behind\",\"motorola\",\"tower\",\"meters_from\",\"third_ring\",\"china_world\",\"ctr\",\"almost_always\",\"outside\",\"separate\",\"occitane_toiletries\",\"ample_closet\",\"spaces\",\"on_site\",\"everything\",\"need\",\"leasing_space\",\"thai_japanese\",\"fast\",\"you_might\",\"views\",\"looked_newly\",\"renovated\",\"new_equipment\",\"empty\",\"every_time\",\"believe\",\"renovation\",\"opinion\",\"one_word\",\"example\",\"call_housecleaning\",\"go_downstairs\",\"come_back\",\"hour_later\",\"made_up\",\"cleaning_lady\",\"to_leave\",\"other_words\",\"immediate\",\"tip\",\"beijing_airport\",\"call_them\",\"recommended\",\"strong_consideration\",\"comments\",\"true\",\"when_arrived\",\"toddler\",\"downstairs\",\"contains_many\",\"western_foods\",\"can_be\",\"difficult_to\",\"does\",\"reasonable\",\"lower\",\"intolerable\",\"him\",\"generally_speaking\",\"beds_are\",\"thick\",\"futon\",\"felt_like\",\"sleeping_on\",\"hay\",\"bale\",\"direct\",\"chat_with\",\"guest_services\",\"director\",\"switched\",\"mattress\",\"they_said\",\"softer\",\"pack_up\",\"relocate\",\"first_night\",\"shape\",\"specifically\",\"picked\",\"rather_limited\",\"seems_typical\",\"nov_excellent\",\"two_months\",\"well_maintained\",\"three\",\"issues_with\",\"resolved_without\",\"fuss\",\"had_previously\",\"larger\",\"furnished\",\"cheaper_rate\",\"building_housing\",\"includes\",\"shops\",\"chinese_italian\",\"hour_convenience\",\"store\",\"an_atm\",\"didn_find\",\"fantastic\",\"quite_fussy\",\"didn_want\",\"we_rented\",\"deluxe_apartment\",\"using\",\"website\",\"regular\",\"hall\",\"two_couples\",\"well_lit\",\"luxurious\",\"when_we\",\"still_being\",\"cleaned\",\"small_army\",\"maids\",\"starbucks_downstairs\",\"reading\",\"papers\",\"forget_about\",\"guide_books\",\"obsolete\",\"published\",\"changing\",\"two_towers\",\"west\",\"to_activate\",\"elevator\",\"very_safe\",\"art_galleries\",\"neat\",\"served\",\"continental_breakfast\",\"eggs_noodles\",\"vegetables\",\"in_addition\",\"usual\",\"muffins\",\"cereal\",\"problems\",\"missing\",\"leaky_fridge\",\"were_taken\",\"care_of\",\"right_away\",\"would_recommend\",\"traveling\",\"larger_groups\",\"hotel_provides\",\"internet_access\",\"an_extra\",\"fee\",\"can_arrange\",\"excursions\",\"airport_transfers\",\"usually\",\"more_expensive\",\"yourself\",\"twice\",\"guomao_subway\",\"stop\",\"close_by\",\"to_tianamen\",\"square\",\"airport_shuttles\",\"guomao\",\"only_yuan\",\"will_cost\",\"about_yuan\",\"probably_better\",\"option\",\"completely_unhelpful\",\"will_try\",\"to_sell\",\"tours\",\"shuttle_services\",\"might\",\"change\",\"olympics\",\"hopefully\",\"sep_absolutely\",\"delighted_with\",\"looking_for\",\"an_apartment\",\"somewhere\",\"could_fit\",\"adults\",\"without_having\",\"special_rate\",\"nightly\",\"ascott_website\",\"you_could\",\"get_taxi\",\"walking_distance\",\"apartment_itself\",\"was_divine\",\"the_nicest\",\"have_ever\",\"two_bathrooms\",\"obviously\",\"set_up\",\"expats_who\",\"long_term\",\"tiny\",\"in_shanghai\",\"an_absolute\",\"delight\",\"half\",\"check\",\"into\",\"seemed\",\"pity\",\"five_days\",\"clearly\",\"we_managed\",\"cover\",\"expansive\",\"apr\",\"ok_but\",\"frustrating\",\"wife\",\"in_laws\",\"spent_four\",\"br_apartment\",\"fraying_around\",\"edges\",\"worn_carpet\",\"updating\",\"inexcusably\",\"wing\",\"apts\",\"being_renovated\",\"workmen\",\"walking\",\"halls\",\"we_returned\",\"each_day\",\"smell_of\",\"fresh_paint\",\"biggest_problem\",\"par\",\"for_example\",\"checked_in\",\"sets_of\",\"sleeps\",\"not_sure\",\"you_re\",\"take_turns\",\"or_something\",\"they_brought\",\"two_sets\",\"asked\",\"sign\",\"happen\",\"additional_sets\",\"extras\",\"on_duty\",\"housekeepers_came\",\"enough_towels\",\"exchange\",\"one_point\",\"accused_us\",\"wanting_to\",\"steal\",\"engaging\",\"finally_got\",\"few_extra\",\"wasn_worth\",\"hassle\",\"minor_problems\",\"throughout\",\"we_enjoyed\",\"extra_space\",\"laundry_facilities\",\"relatively_inexpensive\",\"some_ways\",\"worth\",\"watch\",\"those_wanting\",\"city\",\"added\",\"you_pay\",\"hardly\",\"anymore_than\",\"open_spaces\",\"line\",\"behind\",\"easy\",\"relative\",\"leave\",\"you_enter\",\"increasingly\",\"horrid\",\"an_indoor\",\"useful\",\"cooler_months\",\"centre\",\"right_down\",\"stairs\",\"run_by\",\"permitted\",\"albeit\",\"an_important\",\"too_hard\",\"matter\",\"too_firm\",\"you_don\",\"support\",\"which_leads\",\"sleep\",\"this_caliber\",\"certainly\",\"disappointment\",\"reason_why\",\"consider_staying\",\"rating\",\"want\",\"alternative\",\"four_times\",\"annually\",\"year\",\"staying_at\",\"star_rated\",\"an_alternative\",\"provides\",\"leisure\",\"business_traveler\",\"refreshing_alternative\",\"bonus\",\"floor_space\",\"western_style\",\"another\",\"attraction\",\"most_desireable\",\"known_as\",\"choyang\",\"business_district\",\"government\",\"branded_hotels\",\"name_recognition\",\"western_chains\",\"yet\",\"high_speed\",\"convenient_location\",\"english_speaking\",\"accomodation\",\"pleasantly_surprised\",\"hidden_jewel\",\"nice_place\",\"seven\",\"in_june\",\"thought\",\"used\",\"business_travelers\",\"benefit\",\"short_term\",\"travlers\",\"several_different\",\"configurations\",\"comfortably\",\"night\",\"tastefully_decorated\",\"full_kitchens\",\"granite_countertops\",\"stainless_appliances\",\"intersection_of\",\"kitty_corner\",\"world_trade\",\"station\",\"several_places\",\"bank\",\"which_has\",\"takes\",\"cards\",\"about_yards\",\"cold_beer\",\"many_other\",\"properties\",\"workmanship\",\"leaves_something\",\"desired\",\"uneven\",\"grout_lines\",\"messy\",\"caulking\",\"other_hotels\",\"know_exactly\",\"what_mean\",\"reservation\",\"didn_seem\",\"bother\",\"five_star\",\"trying_hard\",\"agree_with\",\"re_interested\",\"photos_online\",\"provide\",\"idea\",\"about_how\",\"nov_fantastic\",\"recently_returned\",\"tour\",\"finale\",\"we_got\",\"creature_comforts\",\"furnishings_linens\",\"maid_service\",\"combined_with\",\"privacy\",\"mixed_group\",\"grandparents\",\"grandsons\",\"yrs_old\",\"mom\",\"auntie\",\"calling\",\"organized\",\"dinner\",\"welcome_change\",\"extremely_clean\",\"combo\",\"to_send\",\"easily_prepare\",\"meals\",\"helped\",\"finish\",\"blast\",\"energy\",\"release\",\"every_day\",\"younger_children\",\"playroom\",\"we_went\",\"fun\",\"to_see\",\"ex_pat\",\"live\",\"pretty_good\",\"market\",\"apartment_building\",\"travelling_families\",\"groups\",\"so_much\",\"easier_to\",\"communicate\",\"coordinate\",\"more_relaxed\",\"dealing_with\",\"terrible\",\"beijing_traffic\",\"very_nice\",\"every_year\",\"wedding\",\"four_years\",\"work_hard\",\"prepare_for\",\"months\",\"asia\",\"our_destination\",\"first_stop\",\"my_boyfriend\",\"autumn_garden\",\"end_of\",\"trans_siberian\",\"railway\",\"from_moscow\",\"staying_there\",\"highlights_of\",\"holiday\",\"hutong\",\"better_than\",\"style\",\"experienced\",\"choice_of\",\"breakfasts\",\"was_incredibly\",\"minutes_walk\",\"tiananmen_square\",\"extremely_helpful\",\"enabling_you\",\"your_bearings\",\"by_providing\",\"trishaw\",\"facility\",\"main_road\",\"furnishings\",\"rich\",\"tradition\",\"more_modern\",\"gives_you\",\"an_opportunity\",\"locals\",\"reccomended\",\"booked_this\",\"hotel_based\",\"previous_reviews\",\"myself\",\"crazy\",\"take_advantage\",\"tourists\",\"every_possible\",\"opportunity\",\"amazing\",\"such\",\"consider\",\"its_location\",\"slight\",\"feel\",\"living\",\"walk_down\",\"narrow_alley\",\"ways\",\"very_close\",\"tienanmen_square\",\"sites\",\"temple_of\",\"heaven\",\"touring_company\",\"simple_but\",\"talk\",\"without_any\",\"charge\",\"im_not\",\"sure_if\",\"first_time\",\"recommend_getting\",\"picked_up\",\"wont\",\"welcomes_you\",\"very_nicely\",\"give_you\",\"mobile_phone\",\"you_should\",\"truly_impressed\",\"allows\",\"in_contrast\",\"met\",\"who_seemed\",\"every_cent\",\"without\",\"charge_me\",\"they_offered\",\"things\",\"late_checkout\",\"airport_pick\",\"simple\",\"no_doubt\",\"be_staying\",\"there_again\",\"next_visit\",\"an_oasis\",\"just_got\",\"back_from\",\"wonderful_experience\",\"maze_of\",\"alleyways\",\"tian_anmen\",\"inn\",\"truly\",\"crazy_busy\",\"feels_like\",\"years_ago\",\"accomodating\",\"own\",\"lunch\",\"prepared\",\"staff_who\",\"delightful\",\"lovely\",\"courtyard\",\"very_quiet\",\"the_midst\",\"chaos\",\"old\",\"haven\",\"downloaded\",\"photos\",\"willing_to\",\"share\",\"anyone\",\"interested\",\"nov_lovely\",\"traditional_style\",\"lovely_traditional\",\"literally_just\",\"tianmen_square\",\"girls\",\"spoke\",\"narrow\",\"confusing\",\"alley_ways\",\"good_idea\",\"to_take\",\"writen\",\"chinese_characters\",\"given_mobile\",\"took\",\"went_off\",\"north_korea\",\"got_back\",\"they_sent\",\"car\",\"got_upgraded\",\"bigger\",\"bathrooms_were\",\"pretty_much\",\"both_rooms\",\"sinks\",\"nose\",\"tap\",\"usually_do\",\"www\",\"venere_com\",\"an_excellent\",\"accommodation\",\"visit\",\"major_hotels\",\"booking\",\"ioc\",\"related\",\"blocks\",\"which_means\",\"very_expensive\",\"charged\",\"their_published\",\"yet_still\",\"am_happy\",\"situated\",\"layers\",\"deep\",\"main_streets\",\"either\",\"map_reading\",\"skills\",\"to_navigate\",\"use_their\",\"tricycle\",\"qianmen\",\"hepingmen\",\"quanjude_roast\",\"duck_restaurant\",\"love\",\"surrounding\",\"guesthouse\",\"typical_hutong\",\"houses\",\"rather\",\"peaceful\",\"means\",\"upper_class\",\"polished\",\"in_fact\",\"smelly\",\"public_toilets\",\"along\",\"genuine\",\"neighbourhood\",\"or_less\",\"bring\",\"big_plus\",\"on_foot\",\"but_adequate\",\"bathroom_amenities\",\"strong_hot\",\"showers\",\"rates_include\",\"whatever_you\",\"you_cannot\",\"be_ready\",\"arrive\",\"depart\",\"rider\",\"could_get\",\"chauffeured_car\",\"had_no\",\"clue_where\",\"luckily\",\"did\",\"my_research\",\"property\",\"wouldn_have\",\"done\",\"any_other\",\"oct_hidden\",\"gem\",\"before_returning\",\"uk\",\"we_chose\",\"chain_hotels\",\"previous_visits\",\"within_reasonable\",\"hutongs\",\"lakes\",\"houhai\",\"metro_line\",\"short_walk\",\"plentiful\",\"despite_being\",\"giantic\",\"most\",\"pillows_were\",\"pillows\",\"slept_on\",\"linen\",\"was_spotlessly\",\"lounge\",\"furntiure\",\"classical\",\"carved_wood\",\"look_at\",\"most_comfortable\",\"to_sit\",\"acess\",\"were_spotless\",\"position\",\"natural_light\",\"included_in\",\"was_ok\",\"main_problem\",\"hot\",\"somtimes\",\"warm\",\"said\",\"variety\",\"who_doesn\",\"tall_concrete\",\"hoping_for\",\"reviews_read\",\"on_tripadvisor\",\"ideally_located\",\"gets_you\",\"quickly\",\"city_center\",\"can_enjoy\",\"amazing_dinners\",\"dollars\",\"frontdesk\",\"service_impeccable\",\"proved_to\",\"attentive\",\"exceedingly_kind\",\"they_helped\",\"wrote_directions\",\"show\",\"case\",\"lost\",\"exchange_rate\",\"your_currency\",\"much_better\",\"cheap_yuan\",\"pay\",\"extremely_pleased\",\"driver_met\",\"arrival\",\"gate\",\"claiming\",\"after_hour\",\"long_flight\",\"fascinating\",\"absolutely\",\"we_tried\",\"dumplings\",\"recommended_by\",\"reviewers\",\"it_doesn\",\"very_inviting\",\"decor_is\",\"indeed\",\"always_packed\",\"reason\",\"delicious\",\"expect\",\"around_dollars\",\"meal\",\"free_broadband\",\"internet_available\",\"own_computer\",\"great_location\",\"okay\",\"jul_excellent\",\"character\",\"takes_you\",\"surprise\",\"approach\",\"bit_scruffy\",\"dont_let\",\"quiet_oasis\",\"bell\",\"drum_towers\",\"some_reports\",\"id_read\",\"buildings\",\"set\",\"tranquil_courtyard\",\"bedrooms_are\",\"good_size\",\"decorated\",\"chinese_style\",\"comfortable_bed\",\"pc\",\"air_conditioning\",\"worked\",\"little_cooler\",\"western_food\",\"navigate\",\"edge_of\",\"deluxe_suite\",\"our_honeymoon\",\"sitting_room\",\"wooden\",\"canopy\",\"red_silk\",\"bed_spread\",\"mini_bar\",\"huge_flat\",\"screen_television\",\"huge_bonus\",\"kept\",\"minutes_before\",\"closing\",\"for_dinner\",\"houhai_lake\",\"bikes\",\"an_adventurous\",\"only_negative\",\"construction\",\"just_outside\",\"very_narrow\",\"walk_through\",\"muddy\",\"north\",\"drum_tower\",\"jun\",\"lovely_boutique\",\"genuine_chinese\",\"very_pleasing\",\"campus\",\"explore\",\"fully\",\"well_prepared\",\"always_someone\",\"who_spoke\",\"any_problems\",\"communication\",\"offered\",\"currency_conversion\",\"they_arranged\",\"airport_pickup\",\"high\",\"efficiently_arranged\",\"quite_easily\",\"also_arranged\",\"slightly\",\"doing_some\",\"flight\",\"bookings_through\",\"travel_agent\",\"quotes\",\"on_ctrip\",\"only_complaint\",\"seems_to\",\"padding\",\"their_website\",\"says\",\"presumed_that\",\"they_offer\",\"laundry_services\",\"prohibitive\",\"per_piece\",\"so_beware\",\"walk_from\",\"little_closer\",\"decent_prices\",\"quite_comfortable\",\"oh_yes\",\"free_computer\",\"terminal\",\"may_peacefull\",\"few_nights\",\"our_trip\",\"express\",\"our_travelagent\",\"tipped\",\"she_didn\",\"lie\",\"bamboo_garden\",\"socalled\",\"extremely\",\"peacefull\",\"what_you\",\"after_spending\",\"busy\",\"helpfull\",\"nicely_decorated\",\"fully_equiped\",\"closeby\",\"bars_shops\",\"beijings\",\"ofcourse\",\"an_eye\",\"very_usefull\",\"very_pleasant\",\"apr_excellent\",\"my_second\",\"bathrooms_are\",\"brlliant\",\"very_peaceful\",\"far_from\",\"shops_bars\",\"restaurant_serves\",\"very_reasonable\",\"main_dish\",\"everyone_know\",\"who_has\",\"travelled\",\"everyone_has\",\"raved_about\",\"mar\",\"well_as\",\"arrived_at\",\"could_not\",\"locate\",\"lane\",\"blocked_by\",\"truck\",\"historic_building\",\"looking\",\"out_onto\",\"gardens\",\"very_attentive\",\"front_office\",\"quickly_attended\",\"onward\",\"bookings\",\"sightseeing_suggestions\",\"freshly_cooked\",\"eggs\",\"bacon\",\"wide_selection\",\"both_chinese\",\"must_try\",\"le\",\"little_saigon\",\"providing\",\"both_french\",\"vietnamese\",\"bus\",\"many\",\"local_attractions\",\"lake\",\"must\",\"truly_hidden\",\"will_return\"],\"text_labels\":[\"oct\",\"nice\",\"trendy\",\"hotel\",\"location\",\"not_too\",\"bad\",\"stayed_in\",\"this_hotel\",\"for\",\"one_night\",\"as\",\"this\",\"is\",\"fairly_new\",\"place\",\"some\",\"of\",\"the\",\"taxi_drivers\",\"did_not\",\"know_where\",\"it\",\"was\",\"and\",\"or\",\"want_to\",\"drive\",\"there\",\"once\",\"have\",\"eventually_arrived\",\"at\",\"very_pleasantly\",\"surprised\",\"with\",\"decor\",\"lobby\",\"ground_floor\",\"area\",\"very_stylish\",\"modern\",\"found\",\"reception_staff\",\"geeting\",\"me\",\"aloha\",\"bit\",\"out_of\",\"but_guess\",\"they_are\",\"briefed\",\"to_say\",\"that\",\"to_keep\",\"up\",\"coroporate\",\"image\",\"starwood_preferred\",\"guest_member\",\"given\",\"small_gift\",\"upon_check\",\"in\",\"only_couple\",\"fridge_magnets\",\"gift_box\",\"but_nevertheless\",\"nice_gesture\",\"my\",\"room\",\"roomy\",\"there_are\",\"tea\",\"coffee_facilities\",\"each\",\"you_get\",\"two\",\"complimentary_bottles\",\"water\",\"plus\",\"toiletries\",\"by\",\"bliss\",\"not\",\"great\",\"last\",\"metro_stop\",\"you\",\"then\",\"need_to\",\"take_taxi\",\"but\",\"if_you\",\"are\",\"planning_on\",\"going_to\",\"see\",\"historic_sites\",\"in_beijing\",\"you_will\",\"be\",\"ok\",\"chose\",\"to\",\"breakfast\",\"which\",\"really_tasty\",\"good_selection\",\"dishes\",\"couple_of\",\"computers\",\"to_use\",\"communal_area\",\"as_well\",\"pool\",\"table\",\"there_is\",\"also\",\"small\",\"swimming_pool\",\"gym\",\"would_definitely\",\"stay\",\"again\",\"only\",\"if\",\"plan_to\",\"travel\",\"central_beijing\",\"can_take\",\"long_time\",\"do\",\"lot_of\",\"shopping\",\"big\",\"shopping_centre\",\"just_few\",\"minutes_away\",\"from\",\"plenty_of\",\"eating_options\",\"around\",\"including\",\"restaurants\",\"serve\",\"dog_meat\",\"sep_great\",\"budget_hotel\",\"stayed\",\"two_nights\",\"aloft\",\"on\",\"most_recent\",\"trip\",\"china\",\"very_modern\",\"clean\",\"was_spotless\",\"comfortable_king\",\"sized_bed\",\"as_far\",\"soft_beds\",\"go\",\"in_china\",\"staff\",\"very_punctual\",\"went_out\",\"way\",\"to_help\",\"every_need\",\"store_across\",\"street\",\"to_purchase\",\"china_mobile\",\"sim_card\",\"buffet_breakfast\",\"was_okay\",\"nothing\",\"to_write\",\"home_about\",\"lcd_screen\",\"had\",\"movies\",\"on_demand\",\"rmb\",\"western\",\"channels_including\",\"hbo_cnn\",\"bbc\",\"star\",\"world\",\"etc\",\"selection_of\",\"basic\",\"weights\",\"one\",\"cable\",\"machine\",\"however\",\"new_technogym\",\"cardio_machines\",\"built_in\",\"lcd_tvs\",\"were\",\"very_good\",\"central\",\"areas\",\"beijing\",\"better_suited\",\"needs\",\"haidian_district\",\"being_spg\",\"platinum\",\"no_upgrades\",\"better\",\"because\",\"has\",\"policy\",\"doing\",\"any_upgrades\",\"sheraton\",\"next_door\",\"much_nicer\",\"my_opinion\",\"where\",\"am_writing\",\"now\",\"an_upgraded\",\"bang_for\",\"buck\",\"great_place\",\"aug_excellent\",\"value\",\"big_problem\",\"we_stayed\",\"haidian\",\"for_nights\",\"july_nd\",\"lots_of\",\"reviews\",\"talk_about\",\"being\",\"problem\",\"we_knew\",\"ahead_of\",\"time\",\"really\",\"wasn\",\"an_issue\",\"longest\",\"we_spent\",\"taxi\",\"about_minutes\",\"we\",\"never\",\"paid\",\"more_than\",\"taxi_ride\",\"which_is\",\"about_cdn\",\"forbidden_city\",\"our_family\",\"no\",\"big_deal\",\"all\",\"rooms\",\"they_were\",\"beds\",\"comfortable\",\"wireless_internet\",\"connection\",\"reliable\",\"one_of\",\"few\",\"hotels\",\"we_found\",\"would\",\"accomodate_adults\",\"children\",\"we_paid\",\"per_night\",\"an_amazing\",\"price\",\"meant\",\"to_be\",\"star_hotel\",\"so\",\"you_can\",\"expecting\",\"generally\",\"very_helpful\",\"friendly\",\"they_aren\",\"fastest\",\"it_wasn\",\"unreasonable\",\"manager\",\"made\",\"an_effort\",\"to_speak\",\"us\",\"few_times\",\"was_extremely\",\"helpful\",\"welcoming\",\"their\",\"breakfast_buffet\",\"quite\",\"good\",\"reasonably_priced\",\"number_of\",\"four_points\",\"options\",\"massive\",\"mall\",\"about_block\",\"away\",\"other\",\"dining_options\",\"only_issue\",\"ran_into\",\"refusing_to\",\"take\",\"summer_palace\",\"guess\",\"they\",\"felt\",\"far_enough\",\"minimum\",\"rate\",\"busier\",\"road\",\"than\",\"side_street\",\"finding_taxis\",\"they_weren\",\"already\",\"stay_there\",\"recommend_it\",\"our_friends\",\"its\",\"excellent_value\",\"jul\",\"stylish\",\"reasonable_value\",\"poor\",\"am_glad\",\"first\",\"person\",\"post_photos\",\"key_points\",\"about\",\"this_property\",\"starwood_property\",\"much_cheaper\",\"rest\",\"shows\",\"pretty\",\"incompetent_reception\",\"hard\",\"bed\",\"cheap\",\"blinds\",\"don\",\"block\",\"out\",\"sun\",\"mornings\",\"common_areas\",\"seem_to\",\"degrading\",\"very_quickly\",\"how\",\"new\",\"side\",\"very_clean\",\"and_tidy\",\"important\",\"presents\",\"good_value\",\"stylishly_designed\",\"looks\",\"much_more\",\"than_anything\",\"else\",\"price_range\",\"typical_tourist\",\"yes\",\"very_poor\",\"close_to\",\"other_places\",\"will_require\",\"will_probably\",\"result\",\"hours\",\"frustratingly\",\"stuck_in\",\"traffic\",\"dont_know\",\"coming_from\",\"east\",\"city_centre\",\"airport\",\"right\",\"turn\",\"after\",\"adjacent\",\"trying_to\",\"scam\",\"an_spg\",\"platinum_status\",\"cheapest_way\",\"possible\",\"perhaps\",\"these\",\"spg_hotels\",\"check_out\",\"every_night\",\"whole\",\"thought_it\",\"decent_value\",\"dollar\",\"personally_prefer\",\"to_pay\",\"double\",\"westin\",\"chaoyang\",\"financial_street\",\"have_stayed\",\"both\",\"approx\",\"real\",\"service\",\"thats\",\"your\",\"budget\",\"you_want\",\"assurance\",\"an_international\",\"chain\",\"perfect_for\",\"lastly\",\"may\",\"appropriate_for\",\"university_students\",\"pick\",\"unless_you\",\"know_what\",\"you_are\",\"taxis\",\"hua\",\"may_be\",\"exceptionally\",\"frustrating_because\",\"constant_traffic\",\"zhong\",\"guan\",\"cun\",\"tell\",\"to_go\",\"four\",\"ring_road\",\"even_though\",\"might_be\",\"bit_more\",\"expensive\",\"free_internet\",\"it_does\",\"not_seem\",\"work\",\"iphones\",\"remote\",\"for_money\",\"is_located\",\"little_bit\",\"don_mind\",\"taking\",\"closest_subway\",\"station_which\",\"costs\",\"only_cny\",\"ride\",\"hotel_represents\",\"low_prices\",\"quiet\",\"internet\",\"use\",\"free\",\"especially\",\"travellors_who\",\"don_want\",\"to_spend\",\"money\",\"hyatt\",\"hilton\",\"who\",\"look\",\"very\",\"decent_place\",\"represents_an\",\"excellent_choice\",\"dec\",\"downtown\",\"next\",\"part_of\",\"starwood_group\",\"for_those\",\"wanting\",\"recommend\",\"factoring_in\",\"taxi_fares\",\"town\",\"when\",\"working\",\"here\",\"the_otherside\",\"rates\",\"rooms_are\",\"basic_but\",\"well_appointed\",\"tv\",\"more_focused\",\"local_channels\",\"an_indication\",\"clients\",\"targeting\",\"standard\",\"staff_were\",\"very_friendly\",\"check_in\",\"times\",\"acceptable\",\"nov_great\",\"layout\",\"return\",\"bedroomed_suite\",\"well_furnished\",\"perfect\",\"hosts\",\"even\",\"organised\",\"birthday_cake\",\"my_mum\",\"we_were\",\"to_celebrate\",\"could\",\"organise\",\"massages\",\"manicures\",\"our\",\"suite\",\"relaxing\",\"located\",\"cbd\",\"for_tourists\",\"remarkably_good\",\"valued\",\"restaurants_nearby\",\"nov\",\"quality\",\"ascott_beijing\",\"summer\",\"for_week\",\"family\",\"is_centrally\",\"when_you\",\"european\",\"kids\",\"staying\",\"few_days\",\"is_ideal\",\"fully_equipped\",\"kitchen\",\"wal_mart\",\"nearby\",\"we_had\",\"spacious\",\"apartment\",\"big_lcd\",\"flat\",\"television\",\"really_good\",\"speaking\",\"language\",\"never_had\",\"to_wait\",\"always\",\"provided\",\"info\",\"directions\",\"good_location\",\"poor_service\",\"my_friends\",\"arrived\",\"different_countries\",\"different_times\",\"were_greeted\",\"the_same\",\"lousy\",\"bellboy\",\"help\",\"luggage\",\"doorman\",\"open\",\"door\",\"receptionist_took\",\"minutes\",\"to_greet\",\"smile\",\"despite_having\",\"other_guest\",\"sum\",\"pleasant\",\"bedroom_suite\",\"very_spacious\",\"comfy\",\"basic_amenities\",\"bathroom_was\",\"with_separate\",\"bathtub\",\"shower\",\"equipped_with\",\"occitaine_toiletries\",\"they_do\",\"not_provide\",\"new_ones\",\"even_tho\",\"finished\",\"them\",\"to_ask\",\"receptionist\",\"concierge\",\"twice_before\",\"getting\",\"more\",\"washing_machine\",\"brilliant\",\"clever_enough\",\"work_out\",\"wash\",\"dry\",\"days\",\"ended_up\",\"laundry\",\"hand\",\"within_walking\",\"distance\",\"train_station\",\"food_places\",\"slight_difficulty\",\"getting_taxi\",\"tho\",\"eleven\",\"just_round\",\"corner\",\"starbucks\",\"small_but\",\"spread\",\"egg_station\",\"fruits_breads\",\"local\",\"congee\",\"hot_food\",\"massage_spa\",\"massage\",\"chinese\",\"pedicure\",\"pedicurist\",\"man_who\",\"told_us\",\"maggie\",\"cheung\",\"went\",\"while_ago\",\"quality_of\",\"average\",\"sep_amazing\",\"find\",\"group\",\"wants_to\",\"stick_together\",\"we_did\",\"searching\",\"before\",\"finally_deciding\",\"stay_at\",\"ascott\",\"bit_nervous\",\"since\",\"would_be\",\"my_first\",\"know\",\"little\",\"best\",\"perfect_choice\",\"people\",\"traveling_together\",\"booked\",\"slept\",\"everyone\",\"bathrooms\",\"worked_well\",\"our_group\",\"loved_having\",\"able_to\",\"choice\",\"what\",\"we_ate\",\"wish\",\"would_have\",\"been\",\"grocery_store\",\"closer\",\"although\",\"eleven_across\",\"washer\",\"dryer\",\"definitely\",\"space\",\"for_lounging\",\"have_complained\",\"wireless\",\"goes\",\"wouldn_count\",\"wired_connections\",\"though\",\"just\",\"shared\",\"we_weren\",\"anyway\",\"we_didn\",\"care\",\"too_much\",\"went_above\",\"beyond\",\"to_accommodate\",\"left\",\"my_passport\",\"upon_arrival\",\"moment\",\"told_them\",\"got\",\"on_top\",\"tracking\",\"down\",\"added_convenience\",\"subway\",\"restaurant_attached\",\"may_sound\",\"silly\",\"most_people\",\"after_weeks\",\"ready\",\"put\",\"something\",\"familiar\",\"my_stomach\",\"hit\",\"spot\",\"across\",\"chinese_food\",\"restaurant\",\"will_deliver\",\"breakfast_included\",\"our_stay\",\"start\",\"each_morning\",\"less_than\",\"minute_walk\",\"subway_entrance\",\"maybe_minute\",\"walk\",\"silk_market\",\"sights\",\"wonderful\",\"deal\",\"accommodations\",\"would_highly\",\"to_anyone\",\"sep_good\",\"value_for\",\"large\",\"internet_connection\",\"prob\",\"fault\",\"families\",\"we_grabbed\",\"large_bedroom\",\"for_adults\",\"inlaws\",\"really_liked\",\"washer_dryer\",\"big_thumbs\",\"large_lcd\",\"heavy\",\"rotation\",\"movie\",\"popcorn\",\"works\",\"every\",\"friday\",\"several_days\",\"guest\",\"isp\",\"gm\",\"allowed_us\",\"conference_center\",\"different_isp\",\"as_soon\",\"he\",\"aware\",\"solved\",\"are_looking\",\"casa_mia\",\"closed\",\"annie\",\"italian\",\"opening_soon\",\"right_across\",\"ve_never\",\"tried\",\"excellent_service\",\"food\",\"also_tried\",\"curry\",\"building\",\"fine\",\"gym_facilities\",\"awesome\",\"full\",\"cybex\",\"freeweights\",\"treadmills\",\"with_lcds\",\"actually_improved\",\"during_our\",\"asked_for\",\"ideas\",\"to_make\",\"oriented_towards\",\"toddlers\",\"ball\",\"pit\",\"toys\",\"yo\",\"enjoyed\",\"decent\",\"temps\",\"stay_here\",\"learn_how\",\"to_get\",\"walmart\",\"its_faster\",\"essentials\",\"prices\",\"everybody\",\"bought\",\"food_souveniers\",\"main\",\"lacking\",\"tourist\",\"you_ll\",\"most_of\",\"homework\",\"your_own\",\"local_guide\",\"hire\",\"like\",\"aug\",\"don_rely\",\"have_any\",\"mission_critical\",\"deals\",\"seal\",\"connect\",\"stock\",\"futures\",\"broker\",\"view\",\"trade\",\"markets\",\"couldn\",\"login\",\"airline\",\"an\",\"book\",\"seat\",\"other_websites\",\"such_as\",\"yahoo\",\"msn_messenger\",\"front_desk\",\"no_clue\",\"no_answer\",\"to_fix\",\"rooms_were\",\"well_equipped\",\"safe\",\"no_instructions\",\"living_room\",\"an_lcd\",\"grainy\",\"crt\",\"limited\",\"tilted\",\"towards\",\"horrible_experience\",\"should_be\",\"essential\",\"toilet\",\"you_need\",\"steady\",\"reliable_connection\",\"avoid_this\",\"travel_lot\",\"ve_stayed\",\"different\",\"serviced_apartment\",\"honestly\",\"ever_stayed\",\"always_friendly\",\"try\",\"satisfied\",\"request\",\"minimart\",\"several\",\"house\",\"can\",\"deliver_food\",\"center\",\"phone\",\"order\",\"your_room\",\"any\",\"smallest_room\",\"square_meter\",\"bedroom\",\"feel_like\",\"at_home\",\"away_from\",\"home\",\"management\",\"really_helpfull\",\"really_apreciate\",\"treated\",\"of_course\",\"recommend_this\",\"residence\",\"will_be\",\"suitable_for\",\"people_who\",\"facilities\",\"we_loved\",\"were_extremely\",\"happy_with\",\"very_large\",\"families_or\",\"couples\",\"bedrooms\",\"with_king\",\"queen\",\"utensils\",\"needed\",\"cook\",\"bought_groceries\",\"snacks\",\"they_provided\",\"packets_of\",\"soap\",\"we_used\",\"gorgeous\",\"pool_area\",\"everday\",\"steamroom\",\"sauna\",\"private_tour\",\"venture_out\",\"our_own\",\"always_seemed\",\"main_attractions\",\"bank_machine\",\"recommed_this\",\"home_away\",\"from_home\",\"except_for\",\"mentioned\",\"previous_post\",\"after_waiting\",\"load\",\"learned\",\"my_lesson\",\"vacation\",\"doing_laundry\",\"capacity\",\"loads\",\"pieces_of\",\"clothing\",\"selected\",\"washed\",\"choose\",\"shortest\",\"drying\",\"clothes\",\"damp\",\"be_aware\",\"white\",\"stained\",\"yellow_stains\",\"probably\",\"at_least\",\"friends\",\"told_me\",\"location_wise\",\"liitle\",\"farther_from\",\"unable_to\",\"think\",\"common_problem\",\"travellers\",\"are_notorious\",\"overcharging\",\"visitors\",\"ve_paid\",\"between\",\"different_occasions\",\"travelling\",\"wangfujing_street\",\"and_vice\",\"versa\",\"trustworthy\",\"my_own\",\"experience\",\"can_tell\",\"trick\",\"drivers\",\"passengers\",\"not_familiar\",\"phone_calls\",\"to_verify\",\"cruising_around\",\"while\",\"charges\",\"keep_going\",\"this_happens\",\"took_taxi\",\"anywhere\",\"huge\",\"speak\",\"their_language\",\"imagine\",\"someone_who\",\"doesn\",\"overall_would\",\"re\",\"better_places\",\"single\",\"couple\",\"jul_avoid\",\"are_planning\",\"this_place\",\"my_family\",\"after_reading\",\"previous_positive\",\"reviews_on\",\"trip_advisor\",\"travel_channel\",\"special\",\"samatha\",\"brown\",\"good_thing\",\"can_say\",\"roominess\",\"fairly_good\",\"your_money\",\"otherwise\",\"say\",\"avoid\",\"services\",\"slow\",\"due_to\",\"understaffing\",\"purposes\",\"despite\",\"low_cost\",\"labor\",\"waits\",\"an_hour\",\"the_norm\",\"calls\",\"housekeeping\",\"repair_crew\",\"come\",\"can_stand\",\"poor_quality\",\"combination_washer\",\"dryer_unit\",\"inside\",\"it_takes\",\"do_load\",\"laundry_wash\",\"amp\",\"still\",\"come_out\",\"wet\",\"complaint\",\"can_do\",\"apologize\",\"sightseeing\",\"much_time\",\"get\",\"upset\",\"damp_wet\",\"cloths\",\"greasy\",\"chinese_items\",\"breakfast_items\",\"skimpy\",\"hype\",\"easy_to\",\"hard_time\",\"locating\",\"call\",\"faucets\",\"basins\",\"tubs\",\"hard_to\",\"reach\",\"am_talking\",\"jun_great\",\"with_children\",\"serves\",\"well\",\"for_families\",\"serviced\",\"apt\",\"gym_pool\",\"play\",\"young_children\",\"park_hyatt\",\"highly_recommended\",\"apr_ideal\",\"larger_group\",\"spent_six\",\"nights\",\"bedroom_apartment\",\"five\",\"members\",\"pros\",\"spacious_living\",\"dining_area\",\"access\",\"beautiful\",\"jacuzzi_sauna\",\"steam\",\"new_equipments\",\"well_situated\",\"currency_exchange\",\"desk\",\"mini_market\",\"citibank_atm\",\"shop\",\"premises\",\"chinese_restaurant\",\"just_across\",\"grocery_shopping\",\"convenience_store\",\"about_minute\",\"guo_mao\",\"bus_station\",\"be_careful\",\"cross\",\"taxis_are\",\"available\",\"entrance\",\"your_destinations\",\"printed\",\"take_taxis\",\"cons\",\"complain\",\"housekeepers_were\",\"polite_and\",\"seemed_earnest\",\"par_with\",\"expected\",\"master_bedroom\",\"bathroom\",\"unclean\",\"day\",\"towels\",\"amenities\",\"shower_gel\",\"shampoo\",\"glasses\",\"toilet_papers\",\"enough\",\"four_sets\",\"for_six\",\"asking_for\",\"during\",\"those\",\"keep\",\"in_mind\",\"mainly\",\"long\",\"expats\",\"overall_think\",\"mar_excellent\",\"apartments\",\"bright\",\"cleaned_daily\",\"overall\",\"except\",\"carpet_stains\",\"not_bad\",\"convenient\",\"for_business\",\"trips\",\"do_not\",\"be_tricked\",\"fact_that\",\"it_appears\",\"subway_station\",\"is_situated\",\"practically\",\"intersection\",\"rd_ring\",\"jian_guo\",\"near\",\"absolutely_massive\",\"south_west\",\"south_east\",\"you_must\",\"follow\",\"crowd\",\"pedestrians\",\"absolutely_crazy\",\"compared_to\",\"north_american\",\"standards\",\"very_skilled\",\"approximately_minutes\",\"subways\",\"very_busy\",\"during_rush\",\"hour\",\"morning\",\"evening\",\"prepare\",\"packed\",\"like_sardine\",\"having_said\",\"frequent\",\"effecient\",\"practically_anywhere\",\"take_public\",\"buses\",\"very_easy\",\"only_rmb\",\"cash_fare\",\"hundreds_of\",\"bus_lines\",\"will_take\",\"the_middle\",\"fare\",\"collector\",\"short\",\"front\",\"bus_driver\",\"to_collect\",\"everywhere\",\"but_beware\",\"registered\",\"official\",\"drivers_will\",\"rip\",\"off\",\"cheap_compared\",\"north_america\",\"seeing\",\"not_native\",\"will\",\"know_how\",\"much\",\"should\",\"cost\",\"hold\",\"map\",\"make_sure\",\"driver\",\"doesn_make\",\"stupid\",\"turns\",\"waste_time\",\"tricks\",\"even_if\",\"going\",\"simply_ignore\",\"advice\",\"continue\",\"beware\",\"streets\",\"changan\",\"forever\",\"make\",\"frustrated\",\"computer\",\"lobby_area\",\"ask\",\"reception\",\"wifi\",\"hot_tub\",\"too\",\"eat\",\"to_cook\",\"shuttle\",\"supermarkets\",\"where_you\",\"can_buy\",\"jan_perfect\",\"my_husband\",\"two_sons\",\"stayed_at\",\"for_nine\",\"very_convenient\",\"subway_line\",\"definately\",\"address_printed\",\"is_tucked\",\"down_side\",\"direction\",\"no_problem\",\"security\",\"always_felt\",\"complex\",\"milk\",\"yogurts_cereal\",\"pasta\",\"soda_etc\",\"excellent\",\"italian_restaurant\",\"onsite\",\"called_casa\",\"mia\",\"this_proved\",\"invaluable\",\"when_travelling\",\"american\",\"fickle\",\"eaters\",\"owner\",\"italy\",\"fresh\",\"pizza\",\"lasagna\",\"touring\",\"very_tired\",\"actually\",\"went_to\",\"ate\",\"alone\",\"sent_up\",\"two_bedroom\",\"master_bathroom\",\"very_small\",\"clothes_washer\",\"fitness_area\",\"ourselves\",\"were_always\",\"clean_towels\",\"western_visitors\",\"october\",\"we_arrived\",\"late\",\"flying\",\"as_previously\",\"written\",\"taxi_driver\",\"brought_along\",\"phone_number\",\"called\",\"we_booked\",\"very_comfortable\",\"full_kitchen\",\"dining_room\",\"living_area\",\"about_ten\",\"nearest_subway\",\"establishing\",\"fees\",\"coordinating\",\"badaling\",\"staff_speaks\",\"english\",\"one_evening\",\"waitress\",\"litle_hesitant\",\"her\",\"owner_chef\",\"vey_helpful\",\"wide_variety\",\"foods\",\"to_pick\",\"besides\",\"pearl\",\"silk_markets\",\"shop_downstairs\",\"noticed\",\"will_come\",\"came\",\"handy_for\",\"yuan\",\"private\",\"pleasant_stay\",\"family_vacations\",\"through\",\"hotels_com\",\"end\",\"wery\",\"key\",\"success\",\"factor\",\"vacations\",\"two_young\",\"thanks_to\",\"prepare_them\",\"liked\",\"very_useful\",\"program\",\"delivered\",\"japanese_restaurant\",\"tired\",\"to_buy\",\"complementary\",\"rarely_used\",\"by_taxi\",\"shortened\",\"regulations\",\"force\",\"it_took\",\"finally\",\"extended\",\"honest\",\"recommanding\",\"book_through\",\"availability\",\"web_site\",\"booked_directly\",\"we_could\",\"wall\",\"mart\",\"recomend\",\"sep\",\"alternative_accomodation\",\"nicely_located\",\"near_metro\",\"chaoyang_district\",\"two_bedrooms\",\"large_living\",\"modest_size\",\"short_stay\",\"even_better\",\"ability_to\",\"book_tours\",\"change_currency\",\"transport\",\"business_center\",\"free_access\",\"decide\",\"actually_prefer\",\"to_eat\",\"apartment_rather\",\"can_get\",\"fixings\",\"an_omelet\",\"issues\",\"some_reason\",\"cab_drivers\",\"finding\",\"address\",\"cab_ride\",\"cabbie\",\"having\",\"card\",\"cabbies\",\"are_willing\",\"second\",\"cab\",\"con\",\"our_departure\",\"after_booking\",\"night_before\",\"am\",\"pick_up\",\"woke_up\",\"to_find\",\"suddenly\",\"wanted\",\"early\",\"was_raining\",\"bs\",\"pushing\",\"wanted_to\",\"push\",\"because_of\",\"our_luggage\",\"we_left\",\"hey\",\"nyc\",\"agree\",\"toll\",\"cabs\",\"blame\",\"saw\",\"his\",\"quot\",\"cut\",\"aug_great\",\"bath\",\"two_weeks\",\"beautiful_marble\",\"dining\",\"housekeeping_came\",\"daily\",\"thoroughly_cleaned\",\"our_room\",\"easily\",\"neighborhood\",\"jun_excellent\",\"every_respect\",\"in_april\",\"this_year\",\"fast_efficient\",\"upgraded_to\",\"bedroom_bath\",\"see_photos\",\"must_have\",\"square_meters\",\"meters\",\"back\",\"road_from\",\"jianguomen\",\"dajie\",\"basically\",\"right_behind\",\"motorola\",\"tower\",\"meters_from\",\"third_ring\",\"china_world\",\"ctr\",\"almost_always\",\"outside\",\"separate\",\"occitane_toiletries\",\"ample_closet\",\"spaces\",\"on_site\",\"everything\",\"need\",\"leasing_space\",\"thai_japanese\",\"fast\",\"you_might\",\"views\",\"looked_newly\",\"renovated\",\"new_equipment\",\"empty\",\"every_time\",\"believe\",\"renovation\",\"opinion\",\"one_word\",\"example\",\"call_housecleaning\",\"go_downstairs\",\"come_back\",\"hour_later\",\"made_up\",\"cleaning_lady\",\"to_leave\",\"other_words\",\"immediate\",\"tip\",\"beijing_airport\",\"call_them\",\"recommended\",\"strong_consideration\",\"comments\",\"true\",\"when_arrived\",\"toddler\",\"downstairs\",\"contains_many\",\"western_foods\",\"can_be\",\"difficult_to\",\"does\",\"reasonable\",\"lower\",\"intolerable\",\"him\",\"generally_speaking\",\"beds_are\",\"thick\",\"futon\",\"felt_like\",\"sleeping_on\",\"hay\",\"bale\",\"direct\",\"chat_with\",\"guest_services\",\"director\",\"switched\",\"mattress\",\"they_said\",\"softer\",\"pack_up\",\"relocate\",\"first_night\",\"shape\",\"specifically\",\"picked\",\"rather_limited\",\"seems_typical\",\"nov_excellent\",\"two_months\",\"well_maintained\",\"three\",\"issues_with\",\"resolved_without\",\"fuss\",\"had_previously\",\"larger\",\"furnished\",\"cheaper_rate\",\"building_housing\",\"includes\",\"shops\",\"chinese_italian\",\"hour_convenience\",\"store\",\"an_atm\",\"didn_find\",\"fantastic\",\"quite_fussy\",\"didn_want\",\"we_rented\",\"deluxe_apartment\",\"using\",\"website\",\"regular\",\"hall\",\"two_couples\",\"well_lit\",\"luxurious\",\"when_we\",\"still_being\",\"cleaned\",\"small_army\",\"maids\",\"starbucks_downstairs\",\"reading\",\"papers\",\"forget_about\",\"guide_books\",\"obsolete\",\"published\",\"changing\",\"two_towers\",\"west\",\"to_activate\",\"elevator\",\"very_safe\",\"art_galleries\",\"neat\",\"served\",\"continental_breakfast\",\"eggs_noodles\",\"vegetables\",\"in_addition\",\"usual\",\"muffins\",\"cereal\",\"problems\",\"missing\",\"leaky_fridge\",\"were_taken\",\"care_of\",\"right_away\",\"would_recommend\",\"traveling\",\"larger_groups\",\"hotel_provides\",\"internet_access\",\"an_extra\",\"fee\",\"can_arrange\",\"excursions\",\"airport_transfers\",\"usually\",\"more_expensive\",\"yourself\",\"twice\",\"guomao_subway\",\"stop\",\"close_by\",\"to_tianamen\",\"square\",\"airport_shuttles\",\"guomao\",\"only_yuan\",\"will_cost\",\"about_yuan\",\"probably_better\",\"option\",\"completely_unhelpful\",\"will_try\",\"to_sell\",\"tours\",\"shuttle_services\",\"might\",\"change\",\"olympics\",\"hopefully\",\"sep_absolutely\",\"delighted_with\",\"looking_for\",\"an_apartment\",\"somewhere\",\"could_fit\",\"adults\",\"without_having\",\"special_rate\",\"nightly\",\"ascott_website\",\"you_could\",\"get_taxi\",\"walking_distance\",\"apartment_itself\",\"was_divine\",\"the_nicest\",\"have_ever\",\"two_bathrooms\",\"obviously\",\"set_up\",\"expats_who\",\"long_term\",\"tiny\",\"in_shanghai\",\"an_absolute\",\"delight\",\"half\",\"check\",\"into\",\"seemed\",\"pity\",\"five_days\",\"clearly\",\"we_managed\",\"cover\",\"expansive\",\"apr\",\"ok_but\",\"frustrating\",\"wife\",\"in_laws\",\"spent_four\",\"br_apartment\",\"fraying_around\",\"edges\",\"worn_carpet\",\"updating\",\"inexcusably\",\"wing\",\"apts\",\"being_renovated\",\"workmen\",\"walking\",\"halls\",\"we_returned\",\"each_day\",\"smell_of\",\"fresh_paint\",\"biggest_problem\",\"par\",\"for_example\",\"checked_in\",\"sets_of\",\"sleeps\",\"not_sure\",\"you_re\",\"take_turns\",\"or_something\",\"they_brought\",\"two_sets\",\"asked\",\"sign\",\"happen\",\"additional_sets\",\"extras\",\"on_duty\",\"housekeepers_came\",\"enough_towels\",\"exchange\",\"one_point\",\"accused_us\",\"wanting_to\",\"steal\",\"engaging\",\"finally_got\",\"few_extra\",\"wasn_worth\",\"hassle\",\"minor_problems\",\"throughout\",\"we_enjoyed\",\"extra_space\",\"laundry_facilities\",\"relatively_inexpensive\",\"some_ways\",\"worth\",\"watch\",\"those_wanting\",\"city\",\"added\",\"you_pay\",\"hardly\",\"anymore_than\",\"open_spaces\",\"line\",\"behind\",\"easy\",\"relative\",\"leave\",\"you_enter\",\"increasingly\",\"horrid\",\"an_indoor\",\"useful\",\"cooler_months\",\"centre\",\"right_down\",\"stairs\",\"run_by\",\"permitted\",\"albeit\",\"an_important\",\"too_hard\",\"matter\",\"too_firm\",\"you_don\",\"support\",\"which_leads\",\"sleep\",\"this_caliber\",\"certainly\",\"disappointment\",\"reason_why\",\"consider_staying\",\"rating\",\"want\",\"alternative\",\"four_times\",\"annually\",\"year\",\"staying_at\",\"star_rated\",\"an_alternative\",\"provides\",\"leisure\",\"business_traveler\",\"refreshing_alternative\",\"bonus\",\"floor_space\",\"western_style\",\"another\",\"attraction\",\"most_desireable\",\"known_as\",\"choyang\",\"business_district\",\"government\",\"branded_hotels\",\"name_recognition\",\"western_chains\",\"yet\",\"high_speed\",\"convenient_location\",\"english_speaking\",\"accomodation\",\"pleasantly_surprised\",\"hidden_jewel\",\"nice_place\",\"seven\",\"in_june\",\"thought\",\"used\",\"business_travelers\",\"benefit\",\"short_term\",\"travlers\",\"several_different\",\"configurations\",\"comfortably\",\"night\",\"tastefully_decorated\",\"full_kitchens\",\"granite_countertops\",\"stainless_appliances\",\"intersection_of\",\"kitty_corner\",\"world_trade\",\"station\",\"several_places\",\"bank\",\"which_has\",\"takes\",\"cards\",\"about_yards\",\"cold_beer\",\"many_other\",\"properties\",\"workmanship\",\"leaves_something\",\"desired\",\"uneven\",\"grout_lines\",\"messy\",\"caulking\",\"other_hotels\",\"know_exactly\",\"what_mean\",\"reservation\",\"didn_seem\",\"bother\",\"five_star\",\"trying_hard\",\"agree_with\",\"re_interested\",\"photos_online\",\"provide\",\"idea\",\"about_how\",\"nov_fantastic\",\"recently_returned\",\"tour\",\"finale\",\"we_got\",\"creature_comforts\",\"furnishings_linens\",\"maid_service\",\"combined_with\",\"privacy\",\"mixed_group\",\"grandparents\",\"grandsons\",\"yrs_old\",\"mom\",\"auntie\",\"calling\",\"organized\",\"dinner\",\"welcome_change\",\"extremely_clean\",\"combo\",\"to_send\",\"easily_prepare\",\"meals\",\"helped\",\"finish\",\"blast\",\"energy\",\"release\",\"every_day\",\"younger_children\",\"playroom\",\"we_went\",\"fun\",\"to_see\",\"ex_pat\",\"live\",\"pretty_good\",\"market\",\"apartment_building\",\"travelling_families\",\"groups\",\"so_much\",\"easier_to\",\"communicate\",\"coordinate\",\"more_relaxed\",\"dealing_with\",\"terrible\",\"beijing_traffic\",\"very_nice\",\"every_year\",\"wedding\",\"four_years\",\"work_hard\",\"prepare_for\",\"months\",\"asia\",\"our_destination\",\"first_stop\",\"my_boyfriend\",\"autumn_garden\",\"end_of\",\"trans_siberian\",\"railway\",\"from_moscow\",\"staying_there\",\"highlights_of\",\"holiday\",\"hutong\",\"better_than\",\"style\",\"experienced\",\"choice_of\",\"breakfasts\",\"was_incredibly\",\"minutes_walk\",\"tiananmen_square\",\"extremely_helpful\",\"enabling_you\",\"your_bearings\",\"by_providing\",\"trishaw\",\"facility\",\"main_road\",\"furnishings\",\"rich\",\"tradition\",\"more_modern\",\"gives_you\",\"an_opportunity\",\"locals\",\"reccomended\",\"booked_this\",\"hotel_based\",\"previous_reviews\",\"myself\",\"crazy\",\"take_advantage\",\"tourists\",\"every_possible\",\"opportunity\",\"amazing\",\"such\",\"consider\",\"its_location\",\"slight\",\"feel\",\"living\",\"walk_down\",\"narrow_alley\",\"ways\",\"very_close\",\"tienanmen_square\",\"sites\",\"temple_of\",\"heaven\",\"touring_company\",\"simple_but\",\"talk\",\"without_any\",\"charge\",\"im_not\",\"sure_if\",\"first_time\",\"recommend_getting\",\"picked_up\",\"wont\",\"welcomes_you\",\"very_nicely\",\"give_you\",\"mobile_phone\",\"you_should\",\"truly_impressed\",\"allows\",\"in_contrast\",\"met\",\"who_seemed\",\"every_cent\",\"without\",\"charge_me\",\"they_offered\",\"things\",\"late_checkout\",\"airport_pick\",\"simple\",\"no_doubt\",\"be_staying\",\"there_again\",\"next_visit\",\"an_oasis\",\"just_got\",\"back_from\",\"wonderful_experience\",\"maze_of\",\"alleyways\",\"tian_anmen\",\"inn\",\"truly\",\"crazy_busy\",\"feels_like\",\"years_ago\",\"accomodating\",\"own\",\"lunch\",\"prepared\",\"staff_who\",\"delightful\",\"lovely\",\"courtyard\",\"very_quiet\",\"the_midst\",\"chaos\",\"old\",\"haven\",\"downloaded\",\"photos\",\"willing_to\",\"share\",\"anyone\",\"interested\",\"nov_lovely\",\"traditional_style\",\"lovely_traditional\",\"literally_just\",\"tianmen_square\",\"girls\",\"spoke\",\"narrow\",\"confusing\",\"alley_ways\",\"good_idea\",\"to_take\",\"writen\",\"chinese_characters\",\"given_mobile\",\"took\",\"went_off\",\"north_korea\",\"got_back\",\"they_sent\",\"car\",\"got_upgraded\",\"bigger\",\"bathrooms_were\",\"pretty_much\",\"both_rooms\",\"sinks\",\"nose\",\"tap\",\"usually_do\",\"www\",\"venere_com\",\"an_excellent\",\"accommodation\",\"visit\",\"major_hotels\",\"booking\",\"ioc\",\"related\",\"blocks\",\"which_means\",\"very_expensive\",\"charged\",\"their_published\",\"yet_still\",\"am_happy\",\"situated\",\"layers\",\"deep\",\"main_streets\",\"either\",\"map_reading\",\"skills\",\"to_navigate\",\"use_their\",\"tricycle\",\"qianmen\",\"hepingmen\",\"quanjude_roast\",\"duck_restaurant\",\"love\",\"surrounding\",\"guesthouse\",\"typical_hutong\",\"houses\",\"rather\",\"peaceful\",\"means\",\"upper_class\",\"polished\",\"in_fact\",\"smelly\",\"public_toilets\",\"along\",\"genuine\",\"neighbourhood\",\"or_less\",\"bring\",\"big_plus\",\"on_foot\",\"but_adequate\",\"bathroom_amenities\",\"strong_hot\",\"showers\",\"rates_include\",\"whatever_you\",\"you_cannot\",\"be_ready\",\"arrive\",\"depart\",\"rider\",\"could_get\",\"chauffeured_car\",\"had_no\",\"clue_where\",\"luckily\",\"did\",\"my_research\",\"property\",\"wouldn_have\",\"done\",\"any_other\",\"oct_hidden\",\"gem\",\"before_returning\",\"uk\",\"we_chose\",\"chain_hotels\",\"previous_visits\",\"within_reasonable\",\"hutongs\",\"lakes\",\"houhai\",\"metro_line\",\"short_walk\",\"plentiful\",\"despite_being\",\"giantic\",\"most\",\"pillows_were\",\"pillows\",\"slept_on\",\"linen\",\"was_spotlessly\",\"lounge\",\"furntiure\",\"classical\",\"carved_wood\",\"look_at\",\"most_comfortable\",\"to_sit\",\"acess\",\"were_spotless\",\"position\",\"natural_light\",\"included_in\",\"was_ok\",\"main_problem\",\"hot\",\"somtimes\",\"warm\",\"said\",\"variety\",\"who_doesn\",\"tall_concrete\",\"hoping_for\",\"reviews_read\",\"on_tripadvisor\",\"ideally_located\",\"gets_you\",\"quickly\",\"city_center\",\"can_enjoy\",\"amazing_dinners\",\"dollars\",\"frontdesk\",\"service_impeccable\",\"proved_to\",\"attentive\",\"exceedingly_kind\",\"they_helped\",\"wrote_directions\",\"show\",\"case\",\"lost\",\"exchange_rate\",\"your_currency\",\"much_better\",\"cheap_yuan\",\"pay\",\"extremely_pleased\",\"driver_met\",\"arrival\",\"gate\",\"claiming\",\"after_hour\",\"long_flight\",\"fascinating\",\"absolutely\",\"we_tried\",\"dumplings\",\"recommended_by\",\"reviewers\",\"it_doesn\",\"very_inviting\",\"decor_is\",\"indeed\",\"always_packed\",\"reason\",\"delicious\",\"expect\",\"around_dollars\",\"meal\",\"free_broadband\",\"internet_available\",\"own_computer\",\"great_location\",\"okay\",\"jul_excellent\",\"character\",\"takes_you\",\"surprise\",\"approach\",\"bit_scruffy\",\"dont_let\",\"quiet_oasis\",\"bell\",\"drum_towers\",\"some_reports\",\"id_read\",\"buildings\",\"set\",\"tranquil_courtyard\",\"bedrooms_are\",\"good_size\",\"decorated\",\"chinese_style\",\"comfortable_bed\",\"pc\",\"air_conditioning\",\"worked\",\"little_cooler\",\"western_food\",\"navigate\",\"edge_of\",\"deluxe_suite\",\"our_honeymoon\",\"sitting_room\",\"wooden\",\"canopy\",\"red_silk\",\"bed_spread\",\"mini_bar\",\"huge_flat\",\"screen_television\",\"huge_bonus\",\"kept\",\"minutes_before\",\"closing\",\"for_dinner\",\"houhai_lake\",\"bikes\",\"an_adventurous\",\"only_negative\",\"construction\",\"just_outside\",\"very_narrow\",\"walk_through\",\"muddy\",\"north\",\"drum_tower\",\"jun\",\"lovely_boutique\",\"genuine_chinese\",\"very_pleasing\",\"campus\",\"explore\",\"fully\",\"well_prepared\",\"always_someone\",\"who_spoke\",\"any_problems\",\"communication\",\"offered\",\"currency_conversion\",\"they_arranged\",\"airport_pickup\",\"high\",\"efficiently_arranged\",\"quite_easily\",\"also_arranged\",\"slightly\",\"doing_some\",\"flight\",\"bookings_through\",\"travel_agent\",\"quotes\",\"on_ctrip\",\"only_complaint\",\"seems_to\",\"padding\",\"their_website\",\"says\",\"presumed_that\",\"they_offer\",\"laundry_services\",\"prohibitive\",\"per_piece\",\"so_beware\",\"walk_from\",\"little_closer\",\"decent_prices\",\"quite_comfortable\",\"oh_yes\",\"free_computer\",\"terminal\",\"may_peacefull\",\"few_nights\",\"our_trip\",\"express\",\"our_travelagent\",\"tipped\",\"she_didn\",\"lie\",\"bamboo_garden\",\"socalled\",\"extremely\",\"peacefull\",\"what_you\",\"after_spending\",\"busy\",\"helpfull\",\"nicely_decorated\",\"fully_equiped\",\"closeby\",\"bars_shops\",\"beijings\",\"ofcourse\",\"an_eye\",\"very_usefull\",\"very_pleasant\",\"apr_excellent\",\"my_second\",\"bathrooms_are\",\"brlliant\",\"very_peaceful\",\"far_from\",\"shops_bars\",\"restaurant_serves\",\"very_reasonable\",\"main_dish\",\"everyone_know\",\"who_has\",\"travelled\",\"everyone_has\",\"raved_about\",\"mar\",\"well_as\",\"arrived_at\",\"could_not\",\"locate\",\"lane\",\"blocked_by\",\"truck\",\"historic_building\",\"looking\",\"out_onto\",\"gardens\",\"very_attentive\",\"front_office\",\"quickly_attended\",\"onward\",\"bookings\",\"sightseeing_suggestions\",\"freshly_cooked\",\"eggs\",\"bacon\",\"wide_selection\",\"both_chinese\",\"must_try\",\"le\",\"little_saigon\",\"providing\",\"both_french\",\"vietnamese\",\"bus\",\"many\",\"local_attractions\",\"lake\",\"must\",\"truly_hidden\",\"will_return\"],\"x\":{\"__ndarray__\":\"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\",\"dtype\":\"float32\",\"order\":\"little\",\"shape\":[2500]},\"y\":{\"__ndarray__\":\"qTJZQrDJgUGclcbBr5JJQpb8gkD97wbB8S/ZQReJ90Eg60hCb9FPP2xxokHiljDB/vo8wTgj6UH/9MzBhTW6QWkEYkJZN7XBA5AEwrZujj4E1l5CWDtdwVBVPMFfmg3CXNYFwmOGkcFVGmpCIfUcP5mPmcF44N/BWilBwf1fLcESU8PBd+E4QYaE5EFV0QjCk3e1wRfirsHPMIZBax6GQan6z8HQedXBLUHdQY/yPMKlXMa/zHMpwtCAEkFDFzbB1mfDQeILpEHn3AJC6PaZPz8Ky0Bb1UHBgTe2wfRMukEwxAu/RAFbwecPLML0/C1BtaDrwcvJlMC/qR5B11iyweGQZEKFO1zA3v5+wEYy0MAkTR/B3UJFQXL/O8J+w/LBhTCOQfUzs8EN37rBKHM5Qb314EFuNEJBeMi7wR+BHsK+AwLCqoDmwYyPC8LRspTAg91ywWSFh0EpsTVBAmYzQXccO0Jux9fBcYJqQr7YncHFID7B9QtEQkS8A0JvrppBm6Z6QpI/ksE2vpNA2kUcQofzZUL/faPBb823QfMiHkK2YdbB/8tPwaD6W8G0FBfBEtmUwap5qcHjEWJCtCIswruZEML2BFM/KX0JwnQYP8KrCc3BzUWOQcr2+sAPmwNCeXM8wqMDOsLL4nhCi/wjQp5nQcEmiIjBJgwawUG7bEKAohVCuLHZQOCfzUHU8ATBaehVwSLwYUJtdzhB67z8wdaeJUG0imRC5OK2QM94w0Gw5GdCZcdRQd93r8FrnQTCJOlYQYaaf8HnKK4/uUJMQqq4EkLxHfVByWaiQf9A+UDZaadBNFppQTv4HUKwphVCJULUwXvv/cHrDPHBEPEWwjIwJcI7S2pAOnb/wWdQIsGAdxpCWWE9wj3yHsEbJQnCt+uCQA0xDcL0vCnC6MygQVg8n0GJK6DB57OwwBFDNcEA9k/BWvCbQL9TUsHqEN1AXQMQwdi6CMI2/NtBCoINwmA9D8J7bgBCcRIewek9DsIJg1a/VHUPwiZLJkJ/rw1CAQMUwvSijMFaWKdBACY0wnoKh8HkSxzCSHsuwqe4RMEzKHG/eUsywiHSDcIN+QnCMIkRwsQ9lUFsy4tAwmx1QQJgGELRjNFBLve0QarFhkD3v1W/fhatQaiiL0HDivZBlXUswdDTpEFVSnLBbP8AQhBHM0FsPT5ChMhGQSvX/kG6pG9BQ+RnwRAR5EDmDj9B7QjCQYwdjsB0FY7AANzIQbtJSkIw7xNC5O6mweDn8UEmvOhA4xirQad/50AATWdCUDs7Qoz9M8EdLSXBjjeiwQR6JUEptqG+J0WvQZYxrcDXmwPCLa6iwat8PECxR4FBLzJrQLSDukHjI4C+PUjjwWe7+UH2ZCJAvXANQAot50HTmNk9lKhRQR5B5EHVm4bBGNGhwWYCk8AfgzfCblUIwqf2J8I63w7CocAkwjDGIMI61QfCrLFOQmsPYUIpLDVCwlfdQTTVdUIboKLARTjsQeNX+0F9QQFCeJF9QT38DELZOs1B00kowa0HJkLQMinBEJBpQlnZ3EF5YAPB9wFmQLvrrkDFH8vAEtNDQPBqA8KKuZpBCF0kwjkcAcJExhLBaNkNwjMcL8IRVjZBj2ITwpZiREA2MnhA27kowk1cS8HLwgXBVxiaQfWPkr9SAV5CHzNAQpIdZ0E3bv3Bps0jQTZ7XUGkPr5BmxbAQYf4XEEXoLnBFpkPwhci38E3PpjBAeQfQJXGoUGVK93BwSMNwlEfe0HYzZJByRwNQptlCL9hmp9BaIPVQbGqkkF7YOvAfdsHwigL0cG+NCtCUjsgwcnb3EHoo+lBukvpQS7oWEJbx8/BRAPjQW3vzEGkXAhCukIwQSJtGcKPUXdA58h6P37xi8GSWkdCqTR2QVqtAkI78cBAhCExv1OqBMF5cCvBNOqTwUjHJsLJB/hBQJOowS+IZEKQGoVBF+HCQQAtYcFxRRHBiSWywTt9fULraCxB3TUnwkL7XELLu87BxoxsQWG2/MFXdjnCQb+5QTaPCkEINelBxFqoPkbGTkF1B/ZBWn6BQbovDUHHCCJC5licQOsX2MAKEM1BX6OkQBmsNkJQzLS+aDJ0Qm04icEx6sdBl45jwUsfrsG0uBZBE4LzwUteKkF+d55BOBZsQcedp0A3sylA/NmPwewp3sGyRj9BbGl7Qi/xYMHbchpBxjkkQR3Zkz98q5dBSnHyQOMLKsJ9hEpBTqeGweONi8Gq+YrB/3G+QB1Y40GWjghCyC+BQcgW9kEtHgRByJQ+QkPF6EC6mn9B0fMLQmsDDcKH3hhAPYFeQYDBPcImeNy/5YY4QrUCEEKztTNCthVEwa1KmUFphjRChNKFQXoZgsG7ul5CujvRQQzg0EBGmZLBJE5DQg4fW8HevC1Ce1RnQOz11UCFDM/A/oC+wJWcNMHcFhtBGQ/gQF2eS0AC9hfAGvCMwZyrwMEffEpBrq0JQcF0P8EvSNbANTz1QZCT+kGoQSPC9YJYQmzDCsK338bBr/gBwXwUG8IrvqRAzSjmQHOPNsGS9xJCLNWuwZ14N0GwTRxBr9gGQmrRvkD5I8U//ccVQZTxCUKafyI/flIowkU4vcEP7ATCAqMUws7E8r/lvRpCJ3wlQkgtGEKPvD1C8IQ9Qp+cyUHP8j/BbILdwCZ5yEG+kw5B7s9vwPxpXELK5n9BnfdUQbe5R0GFoXFBkxjyQTzF2UEOOiDBiKfWQEQXhT/UlolB6PfqwUN+mMGigx5BjWwtQXuzCkKOozjCGwGOwbNQ6cGPRRrCJLdMQcjXDcLEMIdB2UzhQTeOIkGJEyNCM3A/wjgXsUDLoYfB4VAZQVOWtUHANUpCREW8QcIyMkKc/XpAkPHnwehQgkHwaSXClTtXwUzn/8F9I/3BJMTFQcidAMJbEbFBBA9yQrVtpsGQdijCK0LIwDROJT9ui7hB8+0zP32juUAb3PNAbGn5QWNGHD2aNCZB9KVZQfCtW0Ih+R5CfjavQEpVdUFRY6lBzinnQbuCCEGxgEJCHeqFQdCB7EGaAyFCZFacQd9CBEAlmRLCyx0cwiPgsD64EQtBXwjcQTP09sHNbqpBWg4JwiTXhcFGLxrCz+eVQaGIGsLFLR3Cuq8/wl8uyMF8pxvCn0n+wWzKycEHSa+/7QVNQO4JqMEPuNpB0SkrQsI38UGSlwdB/j4pwp85ukFtqc9BoFEowqp1hMELjkzCQ9EtwnGrisEVrLjBlbFBwb+TvkFK1yHClbkrwskeYcFw5rc/DK50QS5bwEAolbVBqzL4wbvWD8ImuN/BY70/wmnqCsKxojzCvi0+wmz1EMIQw5PAQ0JXQnK5vMHXBdPBn2bcwE2I/kFBAtnBkTPzwSOKKMJuyC7C9TRQQf8ZrsFYwfRBMHYewpoQg0E2DNe/MsO9wS29GsLk6BrCx6yXQcMDBUA48yHChoNGwcLGFUG8V+dAlaMfQUqBTUHAzM+/u68RP3+L0cAzt7W+2ZquwRKyiEEX/i5BecoBwuDJR8GIcz/BMC43wSDRGEFAeT3BfCZhwaNWD0CGgCnCO44SwYKaJ8KYDnE/qB0qwrx//8GZwb3AYxycwMzSGUJiXXFAcJoeQhAKskFfyp1BH3qcwTNM4UG9VnhCawyNvxwPY0JJlv9BhdDiwQL8uECnYiVC45m1QV5iLEFFAjLBPULkwICHREE43FnB8kk/wdvyU0HAD5ZBtxjUQeo20UE+QhRCtSXGwTLFNMKc5TjCjg32wZ5H20FiPePB+sN/QpeuC0L5+FxCNy+ewHZwAkJRhUnCPbwDQvBlKkFn0elA3C9FwbwMLMDBSB/CiOofwo8ev0BonR1CE6AVwqw/l0Hz0iTCPKqBwc2nrj7iH9bAFjtBwUrvPsEdbbDBACYBwsMwBcFwp2FCQ7RKwVLwr8CDEBbC330IwD2XBsLo2iJChLzQwXQYI0HD7rxAmub7wawYGkL+h5HBx5UfwWi6t0GDKmpAMR40Qdia0MCwjFu/cMUUwee4xUELTnVBdavLwVLckMFyATjB6qWcQVi1cMFzchnBaBO2QV+olUFc5xnBxNP+wNUdg8B+F17Bu+fKQT4l3EBYhN7B8boqQIK4sUCPdDBBha4fQRba0D9Q7UpBJlRrQSNUcEFrRw5C8UYZQpEHeUJLGjdBrqNHQnx+EkLDa/rBtmYjwq189L8+knfBDIjqQQuVRL/+9BDC2DbvQW3rMsATw71A2OIewv7zy8HREBDCTP6iwQaFCcHWowzCIJOjwQ56hcEVHug+2n2BQSEFn0He6hfCKzKAwR2MGcLvTdJBWGn4QOH58cD63CXC1tgnwulN+kFOcovByjwVQiq1dsByKYrBpd2EwKe9C8HskqY/QNCUQbbtSsKTkIdARnQSwFvjFsHlOqTAYkUiwcvXkkFoN7RBpMgowkwXekHnD5TBwrDjwOwDGcIwwzTCHTrCwEnEr7771jDAm7T3wf+atsF/mQjCPdsQQZz/x0F+bzTBZJUjQdFTs8HbrN1Aud6ZQNxdpEG4MWfBGFYrQo2BAMGnDr/BH7qiP4g1H0AD99TBmDQLQonsNMIxwZ/BZHe3vyHbPUHqV7pBp0T6QTb3ZUIYFV5Cd/MfwfMROUJfUsrAJNWtwROOCUL/FFxCGz+SwNdcPMEnhRW/XCoIQnKFnsFvr7DBkdqgwQ5URcCY5gFCPVuMQTtFQcFfxTlBQetwQtRigcE6jJ3ACqeXQT44ksFF7s3Bl4wNQpDuFcKApjvBcsvGv+8JNcIazcRAdFPdwYCd4sHZiTvCEtbnwUcr48FWgYzB/L8Wwqv1DcIRj1vBY8xawbk358EW5YnB+gBrQfnkBEEMLLXAalf1wXjZPcJQtDNC56ZKwd/dlb/0lQLCaXZdQaP0C0L7WrpBe9itQNFwDEHg4iJB882cQPE9HsFw7vJBz+GFwedgWsDpM19CKCWAQWRkb0JvnQrBV/h1QelP38Gp3m7BTLQ2QncrTcCyvBZBSs21v61aGcLfDQRCsgSYQQ3UvUH+lJVBG94fwk0hB8Gg3BlApNwawthJDMHRRiDBbsqQQaLINsBRONpBEtnKQWlrJMKLX5hAKs4Uwqo370GYYvrBmIHIQQ265kEqLzTCQW8XwopfA0GClxzCDFEYQgQAhcHSWqzAKDmawVzm/MG3N7TBuwLcwUQRsT9G/VRBCjo/wmHSD8HXOiPCtFY6wjnHJUDo2Q7B3/yMPku1x0G4o2RB/NbMwJJOm8DCT5JB7GCcQRjcq8HuyqdBC/UfQBzwzMHFn6zB74xfwc5nZkE0RxxCebFuv2SosEE2I+i/yUGxwVBww8H+ThpCuq/BwTUU8kGwp3lAoMqqwUqAw8E3ib7BC43wwRKMqMHb/LjBd/aOwb8n8EDI6YvBbgPgQTySAMKw/KJASqilvdME5EBNAXxCPNGfQdRgfEF8NOhBCOABQEbFZsFjoOpB+67eQaD2nEERrIM/w6cUQmFYP0GMc07BmWdOwYlUBsLcLUZBS/QcQusNRMFk9ZzBQjH3P4Dg1L9eTJ5Bd5gNwolQ5sFQ7BBAM4pJwZcq7cDKtgHBcNHkwMompj9Z8gnA/ZP8waVlZ8Ez+uPA/VmMwSt/uEEKol1Cnx93Qr0HE0Jd09BBPFsIQarNy0H0AQBB/QMWQpQtSUKrY9FBbBUoQl0WuEAGqDtCVWouQj+XFEGp8HdBSKiGwO99qMG/KKrB3KXuwbSb4cCXdqJBLz8YQt3KCEDMGITBcssBwoGYPMIPEM9BW2XWwa3zAkGgBtdBMtvVwQplC0Jg4BNBDHTcvx6uwUHf3Z1BwJcNwrz7QMLfAkFA5IlowVGvDEIPycpBqj2qwEJHk7/9KIVBdSfUQYGmtcDP4SbA9FcMwn820MGkJSfBtkMbwjwxoMEYmkbBwHANwo3GvkCQ9OvAMp6cwUY5+sFezyLAu7/Kwa6BN8HViznBwopfwRdofMFTylhBg8J2QreIu8FmWqfBsjp8wScGF8Jqn5XBwjk2wq4HdkJ4vqXBsw+5wCfWS0L3FudBXO78wAhe+MDRK+9BwLbIwbjVmkH7SCfCuPkuws7560GYbDtCcoxGwF7IDkHXdLhBJ9GBQbDbmUFHa7BBN3dMQScnLsL6EOjBORwKwlZ/tsFqJhjC451UQbseIcJ5FxvCslGhwCwjhkAKhsPADaw3wphijcBLuZ7AJvMjQeUQu8CRSvHANdeVQWhdNMCONStBCYa1QR+j/0CLkiJBTLPywWWMpUEqTGtArI4Nwnvx9EColvzAZ4fRweIr0sB7AujBG69RwUZNFcKEPJ5AwWh8wEgBysF4G+BB87YWwq0RP8I/5bjBUtLMQQN638ELH+fBCtvewVbm3cFrybPBcXANwEYqucC5VNe/e+Z4QXRr5sE1EDjAbSUqwmgcncHMLlzBsmTeQSQOxkADISRBgzMXQO34RkJnFZ9Bo6nYwT9Q+sHOc1VAHwuqwSQEtMEYW6lBZfkLQKcv4UEM7RdCqiNkQghpJMFozlTB36OwQRz6L0H1NOVAVIiHwRtebUHB7RtB/vPKPy4epkA5im5AocUdQRnONkGwf2ZCqEJywVbi/UFFfhdB+3HNQNxGzkFbFodBjvUkQhEpIz8Ipa1Azdg7QYxyQ8EZgi1BOgPHQV1ID8FQQgzBThJpwTFWlcEK4Qu/rYeUQbXVFMJlNxHCSzKwwIhxz8C7rplA/tfHvouRAkDOHVbAgVRSQgFKPEEOH8xBJyu3Qc5z+UEgSATBTOjiQHFaYECm6Rm9Ml7LwV5bIMDh3t3B57XuwTgxnEH6hsPAvauWwcrlvEFhKzlBzzUPQv1ygkBTswfCjaNzQj6IVMEd0K7ABSV1QqseBkJVN4bB8Y+mvy1z+sH1Gfg/zhmFPRNkFsE+yK/B77ADwf11S8El7wzBbXmswcKWCMHmpcDBOpc2wcw078HwrYdB4uI4QC0UBcH3xKrBHFD4wSjSKsIvFq/BHgZkwTOUNcK1SCXCTCk7wiMy18DNCYnBZpGGwUX0nEBBpD1BgNY+QgJiCkKl5Z1BXBLIQafkr0GDjfdBpkCAQZQlCEBH1DFBqzq4QIzzEcCNl21BxiWqwb70Mb/3ujbCaQUkwn0qDcKX0YpBjqKswS02AcE5Yh3Bn72kvQA3jUHy7/TAkljZwGwq9L/1Uq7AD33PQZSrAcIIRc1BDxsTwVYDQkDVQz/BgNobwhMnC0LlH4fBWSUYwWfDH8FNyL1AZvXAwdVHVME9WBpCGTuewHrBuEFuMADCTAGxQRR0AMJgmwNCKSbmwRj8KMIDuTU+5EgVwnFn3sEtDEBB0rOgQR9eL0I2JebBUH0NQtLIQ0CGTljB/qZ4Py2O4sHLyM3BTu/pwe8RFELO0A7CQHEWwnzNtcEV6xbCfthBQTwLNUFpjgfBzrflwLLvE8FjlyRADqcHwtQ4HcJwNfTAPFcswsiLqT4VBifCN2EwwDxQBMHrBJHBaL5UwQZnysFz9KXBWCO2wFhPRECsN03Aw8YTQh2/H8BaGxlCR2r7P4Tg/0EHCAXCvvWCweya+ECfdMRBwm4cQiSa60DgnpY/zcDawYBcXEEjpVFBwjUVQmpGzkFxPPnBGpxRwM2lukAGmPbBji8swlOpAMIFQObAx//AwU0qoMHMkwLCIqoiwWbjhkA55q5AxLNdwQ47pcFLuthBxrfYwVhdLMGu/NhB9ZlFQAO/lMHvoRBC+VMiQi2OF0KRbmhCj9E+wrPdWz+UXJLANi9aQlwrlUEKWNtAjYIwQXZR90C2mhPCsMgOwiyeuj51EhRC9NhtQVZ5bUKT16bBr5cswTeenEBcJSrCg8kYwgnTYMG6MIFBDciywBJWWUHj2w5CzWCLwR5sS8HgbabB8T6YweVWrz4waKvBVnzOwSUxCkAcpPu+7a+gwUIX3MGyb1q/unoaQl+Sk8H53GxAdJ/kwZ2xLEKPUhdCZwyWQe1oP0E//6fBCHwKwmWVtcGZns7BrSUYQkoq5sHlt5w/5B4bQRiAqcG79nRCM0+CwQHU1sENgEzCV+sqQo27rsB0ihlCHrebQUvLCkCtb2ZAR811wavfE0I3LSbCwtdXwe3Zn8Fi0kpCaAg9woQzl0ENOALCB2/hwATR1MFPIubBp5a5wVyZPMKiHE3AFSOKQaLhRkKsdVBBZj6cQYlQkUEM3xHCmVbMQeAPqUH7CJbBLmRKwt4+p7+ufhJBl82FQcQuoEH7ZeFAPu3wQIAza8HQw1hBuAnVQLBEb0EPQ0xBsTAdQbsNi0EX79NAX+YYwgaGhUG/6wrC8gMAwuP9CMLFPBvCbiHmwD5+hMD5sxNC+LWJvjMw6j+nnvjBXQ5hQndYjEFZdt3B6pPSwdA3JcJedJbBfbMfwk2fhcGyf+HByz8eQggi9EDHJhDBWrNXwCGBL8GDzDJC7QbPwZdrxcEdetfBpgPGwdkv1L+b5yrB/0qXwbU3nkCvX3bBhV8PQfpUbUBFGjZCznCoQdeKDEHIDM1Bkta3wBGCgkCLZDXBhQbKwAgHdkLXUFtCfkulQd+XrUFD4z/BGmUowrhEtT/HlCnC4Bmgwds+iMGLoHxAz5G/wX9K0UBvnuvAD5Okwa3WEMJmaBfCCqcUwr1wEUKycv3BoDT8wSTIksFRLTbBAP82waGZl0FhJrxBCOdTQQo+G0IzuiDB3pEEQHawSUJ0qpNBjHjhwXjVR0F7qqnBPK14wGtjPMEEs1VBbzIDQjaQysFctg5CR6UWQJOdL8HH9DpBBFHOwE3OWD8PHiZBXbe8wDIXw0GZq4BBwqg6Qc201UE5K/PBRpSPQL+8qMFzniJCrPutQcE9cMFToNdBOFHnwQib1cGA8e7BlSnhweizx8EfVuDAJ6nfwbDnX8A8HddAGvy5wThs/sEnG/1BdCZywcfYnkEkhZ/BN2KDQWQ3n0GvRIfBaExVQnPa3sEvC0lB/fLdwWseZsHrLFXBsNicPy2DPcGV+3jBbEitQYa5ccGiU2/B1aKmwaacq8GxF37A8wNMwYfOB8JGByjCpSqDwBADFUI19rtBf7ozwSJJJsLizKW/D4vwwPndr8FwVhvAsSydwC+4GcKqFgJCzAY5QjlDPkFt9inA30YpQWz5CUE8qylBEt2IQcwSUr+UiHpAU7TcP9awB0IdHARACyfYQU66BkI7lA/CiCP6vw6qBMKrd0XAQ9heQISydEIHYIDBJNGJQfyacUE0c0BB9tfrQe0O30FKEp5Bcn6+QaeSssFeE+1BJOjUQSLbDkIcDofB7vfCv0hEakLrCp/BdjLJQBsMA0A0nGrAshFUQQXAS8I7YhTC/PWEwZrTD8KsBE8+ciTAQbycA0KJvRxC/ReHQJq+iMCWDilAMO6HwbmrxEGZWQ3C1UWXQY7hoEG624TBexLRQZUxncEe+UBBEZZYQj0xvUFy+apBQcHDQTkGsUFWuYVBmribQJwBDEBYFbvBcn61waY64cHxfJtACHR/QRLDiUFD4uPBcFB2wSHJi0B0O3HBUfApQgjH48GT6sPBq+nAwbpPssEGA8nBdRF6wZx5K0KJnJnBfOG1wRhz9MHhvS1CTqfawCbHasGOp/fBqpyWwTyK/MF+9sHBn0VPwUkvVsCtqODBNsYcwlreksDrlNDBRmKgwXAMAUHsb1DBr+J4QjdF6EHilxTCue0SQs8rkb8aXoY/GNBGwZqwM8EnXS7AeQKSQIaxFULTtR3Cx35yv58xWUG1Ibg/7Uwvwlw5w0GyZohB0ScywQ8P4kF25G/BokqOvwe2D0EwyQvACDtwQcnc5L6I8ZpBIF2SweTr4EAtewNBCa6rwXpWK8L57vXB2/EfwA12a0Fq9ptBniFVQs3wo0HmhzRBPermwMjh8EB205LBPldNwWkKksGiyF9CiiiZwdetT0HxzDXBsyWAQcZuwECaDGZBa9Z7QXzgNELkRiBCmmAUQkFMBkL4AUZBa0plQQTEhUFkKyFCmCdwQbMfkEENaCXBdvjYQXh15EGrqd+/1z3/wSmXHULCGx7Bd+6IQfO4YUHhGVxA2dtIQfKbjUAXC3VBXYJZweeLVkFHoRFB58bAQGLxccEgNyDCFkNTQMOsD8KWrhZCwBTmQRmqK0FOnshB+z9OQWOQnEH2mr5ArZ/HQSKY5kFxzQTC2MS+QekPMj/9dlFClXzawGDv10GA5Z9BSfTmwVWtCcKuWgPCGkg/QJ5CZUGlHkFBOQdLQfYGHkGHF8M/MJ65wH6PpEFRXNFB5FrYwVc+ZUHcUNHAqUxbQsjFNEICjobBesrFQOdD1EFBE6rBv+CNwZYgpsFyeZ7B65c2QjAkTMFBT7FAyJsaQjCGw0Eqpk7BPaQmQhGeq0Hwm5ZB5oIMQgGAUkHGk7TBM3cpwSrIi8EwUkZCXbiSQSo+S8B2mStARE0aQr/VV0HcR+U/GQRBwpMRC8AInhNCXCzCQD8xxkFuQqlAEuHBQZzvxEEWIJ5Ae9vkwYsIBsIeNwfBeo5PQZU+8MGONAXCO1vzwSku0cA2CCfB80EDwj81i8EePy3BInVUwSypncFAYuTBPNTFQZvBs8BJoh9CnhKOwHaAgUB+3xNB4ScpwUCjnUHrPS1BI7t4Qd2y1D/8JeNB9WknwXhhdUJ3Tn7BlhP4wGYyYEGTAhvCq1DTQR2I/L+bVYBB9Cp8QUC2r0G/f4NBh7IMwd8fK8BOp45Bl6EPQq3WcD8y23hBN4fGQbXvAEAay/lAr2qVQE9vIEHjG3tAmv8gQorWY0GjkRxCybeDQfA0zkGb/XdBuDQUwoEBi8FwhjPBMKETwi+Ar0CNQUxBANldQEGUaT+dPqk/V0Bqwc7PGsB1QybCeHKTQUaBtcGayGpBtApVQd2aAEJcFSHBQJKEQWwN/EHAOTNBvM4UQp25LEKjXDlCT4vDQcssnsB7m7/BdVr5QYAgyj5QNYFBXTN4QeIAmkDJlPBBWZODQDiMP8Hw7ANC96CUQRk8pkEEwxJBJOirQCH6rkB3TKdAo59qQc1/TEHUIJTAA/uWPzrcjMHHUHnBPn0Swl1fAcFnkbK/7CD+wCm6lUH8Q8vA5G4hQjlWa0IzST9A4JzewYyvscEh9dLBWfZlQlINRkHrPrtBcByDQQpHE8KTTRXCDlNNwH7cDsKv9BTBzabywbsxs0DtdLvA6MvQwceC9sEyhG9BxvE0QuRsQcESXi9C2Jo0QMEVlEG7Jo9BWN+CwRlbF0Hfdw9BwDUqQV5LQ0Ik7h2/Ontmv8PShUDd6YpBPVc7QIz8zsHSgATBSuFdwYWEPMIHq2BBmOdiQTUAfkE87hw/87a2QZv8gkAgJ8HB4EV9QMGHaMFA6l5BqW99QtG6h8GQRrhBMBL8Qe+BnkELS1NBR602QcU9OkEKwA9BdhnFQReEGMLGJFBCrQGtQc7uuEDx3JlBMMPBwaj6+79Qv6/B+JpIwSFTFULbTAvCV9CzQOSWJELAw/XBqIlpQMHMEkEdWgNCH5Q6wv4VV7+JFTXCTq02wqUXacF+ARvCJQVAQJu1BUJQIlNB9RuSQQ27FkJh4x9CPDQPQqkqG0IaRn+/2pggQbedvUDm+h1Bxf36QdFM68CFdEpBsZUTQQI/qEDnPrlAwcuAwU1o+MHE4X5BF0aRwcu0C8BZAyLCuWKrwelTusEJzbLAOeyYQKOHjEB/8Z1A2L6iQJll0EAwfhVBIeDzQBHegUB/FJFBC/0bwW3pjz9Nl7tBGKuaQUV/GsKU2WnBE6q7wYKcHT85PaNB5bcYwveCiUGvG9tBMSWbwZUt/sFYYY1AGxAFwdDx88EltO7AzlU3wpdbC8HfPj5CbiBrQo+42MHmUWbBT8INwQZxd7+GlhBClNHMv2FFFMLZHiXBkanLwc7TXkJ5LAhC/QhJQuWLScJPy/9BaWVKwJTaMkHDyEhB8QiGQSGsEUK+dB5C5VM0QofQEEJS2A1BdV8EQZQhDkHMW4ZApLoxQXZKtUBW03nBFrjkwIGeLbzzmVRCpvD8wY/M+8Enz8LBE7T3wSRyOcIkpbXBL7llP5jBX0GLFkXBZtxIwf0dSEHMPdHB6ScLwQW09MGZxJpAjNwWQr8lqUE+8JtAd9+0weA0fcECHl3A8rJ2wVqBpkFH1lLBwb7GQdJCgMCQbddBvBA2QnZtL0II+oRA91a+QZg1J8IuDXVBMB0LQmPnNcBP8wdCnCsYwmubJMA0839CVg18QC9NSMCnJQDCwYKvwALZ8r7MIIdBj4j0wWjoCUIWdXbAG3f6QQzlfcC0l+pBDHXsQUDlN8HE+zBCtwsFQdGyykGpwYVBGFgLQu3cC0ExIi2/8IOfv8W2L8EeZQ9BKyY2Qi9bXEJz6z1BStK0wcs8usC9eyvBsK59QSfsccFtBOxB+eE/QPsgEcG/zhzCaiEewjg+CMEO8k1ASdi3QcTZSEIYmXhBmmS+QRxXqEF5BFLBCmLAwG88e8BC3XtAcUwjwtt/XsCwG/0/lL25QIUfk0GVCKzBGFQMP1PNNMI6k/3BjNbJwQ0CUkFX4xPCJi4rwuprc8HJjo/BqHhiwYlRPsF8F5/BGPdoQWKus0HZ68FB2vgTwgIJpsG7QlJB9mPavneJssGT177BfcsPwiesCsJMHQHCpCyzwY9j38EcAoDBLkj6wKo+jUB/qi/CrrYhQPMvuMGvlW7B7OpeQUQzUEIpf6ZBxAyCwep4n0HzwZBAqntbQvZUNUGQWK9AtWc9QX8vGUGZ7QbBoPmcwQGba8GX9DXCVcETwqiEqsFm0iHCvmDvwWiyO0GlqfrB0bafwKj6rUEtca7AXW1gwKmw+8Fm0CHBgAjevxqnCkLn5j9Az5IfQiZ/AUIGL5g+MQC/wXS5f0KI243B4Y0iQnvi6MEVbNjAdL41wYeXasAWIJtBiF+QwP/L6MEB2NI/xE7nQKI1zcCX5A7CahmmwMwAHsKlfBFBx5fJv9fCn0HbjMlB0mk3QkUgj8BxdZfBkF1aQmztfcG7nxpBXtiXQPeyysBHkMFAv9c8Qm9/gkHVe0PBaUw0QP+/5MEtAArCFEAPQWcvA0E6uv9AiMHcwBH4V8HK347AFAXMQBKnSEJ/lERBfMI4whydeb/V9sI/3N+cQKwaSUFGLAHB/+2lQRpoKsFYwkJBKUh8QccbD0Kd2U9Aw1dDQZqxWUKUB+zAqg0sQrWedULDd6DBzzF1QbEDcUE2ZbXBz6leQU1tTUFEJ3xBNkV+QTAyh0DOGhzCtrSlwMiQ9D+JoJfAg8TpwNExZcHGk1zBy9BcwfIPkMHCkiTBdZ3QwOhyn8COY59A0RNpwZCZDsKtfMHADb6aQMvhXEJsx/e/oq5hQWXaakIgyipBE2//vw==\",\"dtype\":\"float32\",\"order\":\"little\",\"shape\":[2500]}},\"selected\":{\"id\":\"1057\"},\"selection_policy\":{\"id\":\"1056\"}},\"id\":\"1038\",\"type\":\"ColumnDataSource\"},{\"attributes\":{},\"id\":\"1003\",\"type\":\"DataRange1d\"},{\"attributes\":{\"fill_alpha\":{\"value\":0.6},\"fill_color\":{\"value\":\"#8724B5\"},\"line_color\":{\"value\":null},\"x\":{\"field\":\"x\"},\"y\":{\"field\":\"y\"}},\"id\":\"1040\",\"type\":\"Scatter\"},{\"attributes\":{},\"id\":\"1023\",\"type\":\"UndoTool\"},{\"attributes\":{\"source\":{\"id\":\"1038\"}},\"id\":\"1044\",\"type\":\"CDSView\"},{\"attributes\":{\"overlay\":{\"id\":\"1028\"}},\"id\":\"1022\",\"type\":\"BoxZoomTool\"},{\"attributes\":{\"bottom_units\":\"screen\",\"coordinates\":null,\"fill_alpha\":0.5,\"fill_color\":\"lightgrey\",\"group\":null,\"left_units\":\"screen\",\"level\":\"overlay\",\"line_alpha\":1.0,\"line_color\":\"black\",\"line_dash\":[4,4],\"line_width\":2,\"right_units\":\"screen\",\"syncable\":false,\"top_units\":\"screen\"},\"id\":\"1027\",\"type\":\"BoxAnnotation\"},{\"attributes\":{},\"id\":\"1056\",\"type\":\"UnionRenderers\"},{\"attributes\":{\"callback\":null},\"id\":\"1019\",\"type\":\"HoverTool\"},{\"attributes\":{},\"id\":\"1025\",\"type\":\"ResetTool\"},{\"attributes\":{},\"id\":\"1020\",\"type\":\"ZoomInTool\"},{\"attributes\":{\"coordinates\":null,\"formatter\":{\"id\":\"1051\"},\"group\":null,\"major_label_policy\":{\"id\":\"1052\"},\"ticker\":{\"id\":\"1016\"}},\"id\":\"1015\",\"type\":\"LinearAxis\"},{\"attributes\":{},\"id\":\"1012\",\"type\":\"BasicTicker\"},{\"attributes\":{},\"id\":\"1057\",\"type\":\"Selection\"},{\"attributes\":{\"axis\":{\"id\":\"1011\"},\"coordinates\":null,\"group\":null,\"ticker\":null},\"id\":\"1014\",\"type\":\"Grid\"},{\"attributes\":{},\"id\":\"1052\",\"type\":\"AllLabels\"},{\"attributes\":{\"axis\":{\"id\":\"1015\"},\"coordinates\":null,\"dimension\":1,\"group\":null,\"ticker\":null},\"id\":\"1018\",\"type\":\"Grid\"},{\"attributes\":{},\"id\":\"1016\",\"type\":\"BasicTicker\"},{\"attributes\":{},\"id\":\"1051\",\"type\":\"BasicTickFormatter\"},{\"attributes\":{\"bottom_units\":\"screen\",\"coordinates\":null,\"fill_alpha\":0.5,\"fill_color\":\"lightgrey\",\"group\":null,\"left_units\":\"screen\",\"level\":\"overlay\",\"line_alpha\":1.0,\"line_color\":\"black\",\"line_dash\":[4,4],\"line_width\":2,\"right_units\":\"screen\",\"syncable\":false,\"top_units\":\"screen\"},\"id\":\"1028\",\"type\":\"BoxAnnotation\"},{\"attributes\":{\"overlay\":{\"id\":\"1027\"}},\"id\":\"1026\",\"type\":\"BoxSelectTool\"},{\"attributes\":{},\"id\":\"1021\",\"type\":\"ZoomOutTool\"},{\"attributes\":{},\"id\":\"1007\",\"type\":\"LinearScale\"},{\"attributes\":{},\"id\":\"1054\",\"type\":\"BasicTickFormatter\"},{\"attributes\":{},\"id\":\"1024\",\"type\":\"RedoTool\"},{\"attributes\":{\"fill_alpha\":{\"value\":0.1},\"fill_color\":{\"value\":\"#8724B5\"},\"hatch_alpha\":{\"value\":0.1},\"line_alpha\":{\"value\":0.1},\"line_color\":{\"value\":null},\"x\":{\"field\":\"x\"},\"y\":{\"field\":\"y\"}},\"id\":\"1041\",\"type\":\"Scatter\"},{\"attributes\":{\"coordinates\":null,\"data_source\":{\"id\":\"1038\"},\"glyph\":{\"id\":\"1040\"},\"group\":null,\"hover_glyph\":null,\"muted_glyph\":{\"id\":\"1042\"},\"nonselection_glyph\":{\"id\":\"1041\"},\"view\":{\"id\":\"1044\"}},\"id\":\"1043\",\"type\":\"GlyphRenderer\"},{\"attributes\":{\"fill_alpha\":{\"value\":0.2},\"fill_color\":{\"value\":\"#8724B5\"},\"hatch_alpha\":{\"value\":0.2},\"line_alpha\":{\"value\":0.2},\"line_color\":{\"value\":null},\"x\":{\"field\":\"x\"},\"y\":{\"field\":\"y\"}},\"id\":\"1042\",\"type\":\"Scatter\"},{\"attributes\":{},\"id\":\"1055\",\"type\":\"AllLabels\"},{\"attributes\":{},\"id\":\"1009\",\"type\":\"LinearScale\"},{\"attributes\":{\"coordinates\":null,\"group\":null},\"id\":\"1048\",\"type\":\"Title\"},{\"attributes\":{\"coordinates\":null,\"group\":null,\"source\":{\"id\":\"1038\"},\"text\":{\"field\":\"text_labels\"},\"text_align\":{\"value\":\"center\"},\"text_color\":{\"value\":\"#555555\"},\"text_font_size\":{\"value\":\"8pt\"},\"x\":{\"field\":\"x\"},\"y\":{\"field\":\"y\"},\"y_offset\":{\"value\":8}},\"id\":\"1045\",\"type\":\"LabelSet\"},{\"attributes\":{\"tools\":[{\"id\":\"1019\"},{\"id\":\"1020\"},{\"id\":\"1021\"},{\"id\":\"1022\"},{\"id\":\"1023\"},{\"id\":\"1024\"},{\"id\":\"1025\"},{\"id\":\"1026\"}]},\"id\":\"1029\",\"type\":\"Toolbar\"},{\"attributes\":{\"coordinates\":null,\"formatter\":{\"id\":\"1054\"},\"group\":null,\"major_label_policy\":{\"id\":\"1055\"},\"ticker\":{\"id\":\"1012\"}},\"id\":\"1011\",\"type\":\"LinearAxis\"},{\"attributes\":{},\"id\":\"1005\",\"type\":\"DataRange1d\"}],\"root_ids\":[\"1002\"]},\"title\":\"Bokeh Application\",\"version\":\"2.4.2\"}};\n",
       "  const render_items = [{\"docid\":\"3a01949b-49d1-4012-839d-c68de8d607b8\",\"root_ids\":[\"1002\"],\"roots\":{\"1002\":\"cbff5378-25bd-4312-8c4d-556ad4512025\"}}];\n",
       "  root.Bokeh.embed.embed_items_notebook(docs_json, render_items);\n",
       "\n",
       "  }\n",
       "  if (root.Bokeh !== undefined) {\n",
       "    embed_document(root);\n",
       "  } else {\n",
       "    let attempts = 0;\n",
       "    const timer = setInterval(function(root) {\n",
       "      if (root.Bokeh !== undefined) {\n",
       "        clearInterval(timer);\n",
       "        embed_document(root);\n",
       "      } else {\n",
       "        attempts++;\n",
       "        if (attempts > 100) {\n",
       "          clearInterval(timer);\n",
       "          console.log(\"Bokeh: ERROR: Unable to run BokehJS code because BokehJS library is missing\");\n",
       "        }\n",
       "      }\n",
       "    }, 10, root)\n",
       "  }\n",
       "})(window);"
      ],
      "application/vnd.bokehjs_exec.v0+json": ""
     },
     "metadata": {
      "application/vnd.bokehjs_exec.v0+json": {
       "id": "1002"
      }
     },
     "output_type": "display_data"
    }
   ],
   "source": [
    "interactive_tsne(list(gswa_model.wv.vocab.keys())[:points], X_tsne)"
   ]
  },
  {
   "cell_type": "code",
   "execution_count": null,
   "metadata": {},
   "outputs": [],
   "source": []
  }
 ],
 "metadata": {
  "colab": {
   "collapsed_sections": [],
   "name": "12.2.2-WordEmbeddings.ipynb",
   "provenance": [],
   "toc_visible": true
  },
  "kernelspec": {
   "display_name": "Python 3 (ipykernel)",
   "language": "python",
   "name": "python3"
  },
  "language_info": {
   "codemirror_mode": {
    "name": "ipython",
    "version": 3
   },
   "file_extension": ".py",
   "mimetype": "text/x-python",
   "name": "python",
   "nbconvert_exporter": "python",
   "pygments_lexer": "ipython3",
   "version": "3.8.12"
  }
 },
 "nbformat": 4,
 "nbformat_minor": 4
}
