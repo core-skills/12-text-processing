{
 "cells": [
  {
   "cell_type": "markdown",
   "metadata": {
    "colab_type": "text",
    "id": "hyRjwrQynR22"
   },
   "source": [
    "# Week 12 - Learning Word Embeddings\n",
    "📚 Source: 😊[Day 12 - Special Data Types: Natural Language Processing](https://github.com/core-skills/12-text-processing) *repository*"
   ]
  },
  {
   "cell_type": "markdown",
   "metadata": {},
   "source": [
    "## Notebook Overview\n",
    "In this notebook, we'll further explore the use of word embeddings using Word2Vec via the Gensim API. We'll train embeddings on two datasets (corpora) pertaining to general domains (hotel reviews) and specialised domains (geological survey reports) and explore the impacts the corpora have on the resulting semantic and syntactic meaning representation.\n",
    "\n",
    "This notebook uses two types of datasets.\n",
    "1. General Domain: 259,000 *hotel reviews* from [OpinRank](https://archive.ics.uci.edu/ml/datasets/opinrank+review+dataset) \n",
    "2. Domain Specific: *geological surveys* (GSWA)\n",
    "\n",
    "This notebook was partially adapted from: [*Kavita Ganesan's tutorial*](http://kavita-ganesan.com/gensim-word2vec-tutorial-starter-code/) ([*repository*](https://github.com/kavgan/data-science-tutorials/tree/master/word2vec))"
   ]
  },
  {
   "cell_type": "markdown",
   "metadata": {},
   "source": [
    "## Table of Contents\n",
    "1. [Understanding Word2Vec parameters](#word2vec_parameters)\n",
    "2. [Building general-domain word vectors](#general-domain_word_vectors)\n",
    "3. [Building domain-specific word vectors](#domain-specific_word_vectors)"
   ]
  },
  {
   "cell_type": "markdown",
   "metadata": {},
   "source": [
    "## Notebook Setup"
   ]
  },
  {
   "cell_type": "code",
   "execution_count": 1,
   "metadata": {},
   "outputs": [
    {
     "name": "stdout",
     "output_type": "stream",
     "text": [
      "Requirement already satisfied: gensim==4.2.0 in c:\\users\\tyler\\appdata\\local\\programs\\python\\python38\\lib\\site-packages (4.2.0)\n",
      "Requirement already satisfied: bokeh in c:\\users\\tyler\\appdata\\local\\programs\\python\\python38\\lib\\site-packages (2.4.3)\n",
      "Requirement already satisfied: pandas in c:\\users\\tyler\\appdata\\local\\programs\\python\\python38\\lib\\site-packages (1.4.3)\n",
      "Requirement already satisfied: sklearn in c:\\users\\tyler\\appdata\\local\\programs\\python\\python38\\lib\\site-packages (0.0.post1)\n",
      "Requirement already satisfied: matplotlib in c:\\users\\tyler\\appdata\\local\\programs\\python\\python38\\lib\\site-packages (3.5.2)\n",
      "Requirement already satisfied: numpy in c:\\users\\tyler\\appdata\\local\\programs\\python\\python38\\lib\\site-packages (1.23.0)\n",
      "Requirement already satisfied: smart-open>=1.8.1 in c:\\users\\tyler\\appdata\\local\\programs\\python\\python38\\lib\\site-packages (from gensim==4.2.0) (5.2.1)\n",
      "Requirement already satisfied: scipy>=0.18.1 in c:\\users\\tyler\\appdata\\local\\programs\\python\\python38\\lib\\site-packages (from gensim==4.2.0) (1.8.1)\n",
      "Requirement already satisfied: Cython==0.29.28 in c:\\users\\tyler\\appdata\\local\\programs\\python\\python38\\lib\\site-packages (from gensim==4.2.0) (0.29.28)\n",
      "Requirement already satisfied: PyYAML>=3.10 in c:\\users\\tyler\\appdata\\local\\programs\\python\\python38\\lib\\site-packages (from bokeh) (6.0)\n",
      "Requirement already satisfied: Jinja2>=2.9 in c:\\users\\tyler\\appdata\\local\\programs\\python\\python38\\lib\\site-packages (from bokeh) (3.1.2)\n",
      "Requirement already satisfied: pillow>=7.1.0 in c:\\users\\tyler\\appdata\\local\\programs\\python\\python38\\lib\\site-packages (from bokeh) (9.1.1)\n",
      "Requirement already satisfied: packaging>=16.8 in c:\\users\\tyler\\appdata\\local\\programs\\python\\python38\\lib\\site-packages (from bokeh) (21.3)\n",
      "Requirement already satisfied: tornado>=5.1 in c:\\users\\tyler\\appdata\\local\\programs\\python\\python38\\lib\\site-packages (from bokeh) (6.1)\n",
      "Requirement already satisfied: typing-extensions>=3.10.0 in c:\\users\\tyler\\appdata\\local\\programs\\python\\python38\\lib\\site-packages (from bokeh) (4.3.0)\n",
      "Requirement already satisfied: MarkupSafe>=2.0 in c:\\users\\tyler\\appdata\\local\\programs\\python\\python38\\lib\\site-packages (from Jinja2>=2.9->bokeh) (2.1.1)\n",
      "Requirement already satisfied: pyparsing!=3.0.5,>=2.0.2 in c:\\users\\tyler\\appdata\\local\\programs\\python\\python38\\lib\\site-packages (from packaging>=16.8->bokeh) (3.0.9)\n",
      "Requirement already satisfied: pytz>=2020.1 in c:\\users\\tyler\\appdata\\local\\programs\\python\\python38\\lib\\site-packages (from pandas) (2022.1)\n",
      "Requirement already satisfied: python-dateutil>=2.8.1 in c:\\users\\tyler\\appdata\\local\\programs\\python\\python38\\lib\\site-packages (from pandas) (2.8.2)\n",
      "Requirement already satisfied: six>=1.5 in c:\\users\\tyler\\appdata\\local\\programs\\python\\python38\\lib\\site-packages (from python-dateutil>=2.8.1->pandas) (1.16.0)\n",
      "Requirement already satisfied: fonttools>=4.22.0 in c:\\users\\tyler\\appdata\\local\\programs\\python\\python38\\lib\\site-packages (from matplotlib) (4.33.3)\n",
      "Requirement already satisfied: kiwisolver>=1.0.1 in c:\\users\\tyler\\appdata\\local\\programs\\python\\python38\\lib\\site-packages (from matplotlib) (1.4.3)\n",
      "Requirement already satisfied: cycler>=0.10 in c:\\users\\tyler\\appdata\\local\\programs\\python\\python38\\lib\\site-packages (from matplotlib) (0.11.0)\n"
     ]
    },
    {
     "name": "stderr",
     "output_type": "stream",
     "text": [
      "WARNING: You are using pip version 21.1.1; however, version 22.3.1 is available.\n",
      "You should consider upgrading via the 'c:\\users\\tyler\\appdata\\local\\programs\\python\\python38\\python.exe -m pip install --upgrade pip' command.\n"
     ]
    }
   ],
   "source": [
    "!pip install gensim==4.2.0 bokeh pandas sklearn matplotlib numpy"
   ]
  },
  {
   "cell_type": "markdown",
   "metadata": {},
   "source": [
    "Lets load in the package [nb_black](https://github.com/dnanhkhoa/nb_black) to auto-format our code as we go. Formatting code is useful as it easier to collaborate and interpret what we write."
   ]
  },
  {
   "cell_type": "code",
   "execution_count": 2,
   "metadata": {},
   "outputs": [
    {
     "data": {
      "application/javascript": "\n            setTimeout(function() {\n                var nbb_cell_id = 2;\n                var nbb_unformatted_code = \"# Package for ensuring code we write is formatted nicely (see: https://github.com/dnanhkhoa/nb_black)\\n%load_ext nb_black\";\n                var nbb_formatted_code = \"# Package for ensuring code we write is formatted nicely (see: https://github.com/dnanhkhoa/nb_black)\\n%load_ext nb_black\";\n                var nbb_cells = Jupyter.notebook.get_cells();\n                for (var i = 0; i < nbb_cells.length; ++i) {\n                    if (nbb_cells[i].input_prompt_number == nbb_cell_id) {\n                        if (nbb_cells[i].get_text() == nbb_unformatted_code) {\n                             nbb_cells[i].set_text(nbb_formatted_code);\n                        }\n                        break;\n                    }\n                }\n            }, 500);\n            ",
      "text/plain": [
       "<IPython.core.display.Javascript object>"
      ]
     },
     "metadata": {},
     "output_type": "display_data"
    }
   ],
   "source": [
    "# Package for ensuring code we write is formatted nicely (see: https://github.com/dnanhkhoa/nb_black)\n",
    "%load_ext nb_black"
   ]
  },
  {
   "cell_type": "markdown",
   "metadata": {},
   "source": [
    "### Import Packages\n",
    "Standard packages"
   ]
  },
  {
   "cell_type": "code",
   "execution_count": 3,
   "metadata": {},
   "outputs": [
    {
     "data": {
      "application/javascript": "\n            setTimeout(function() {\n                var nbb_cell_id = 3;\n                var nbb_unformatted_code = \"import gzip\\nfrom typing import List\\nimport zipfile\\nimport json\\nfrom urllib.request import urlretrieve\\nimport os\\nfrom pathlib import Path\";\n                var nbb_formatted_code = \"import gzip\\nfrom typing import List\\nimport zipfile\\nimport json\\nfrom urllib.request import urlretrieve\\nimport os\\nfrom pathlib import Path\";\n                var nbb_cells = Jupyter.notebook.get_cells();\n                for (var i = 0; i < nbb_cells.length; ++i) {\n                    if (nbb_cells[i].input_prompt_number == nbb_cell_id) {\n                        if (nbb_cells[i].get_text() == nbb_unformatted_code) {\n                             nbb_cells[i].set_text(nbb_formatted_code);\n                        }\n                        break;\n                    }\n                }\n            }, 500);\n            ",
      "text/plain": [
       "<IPython.core.display.Javascript object>"
      ]
     },
     "metadata": {},
     "output_type": "display_data"
    }
   ],
   "source": [
    "import gzip\n",
    "from typing import List\n",
    "import zipfile\n",
    "import json\n",
    "from urllib.request import urlretrieve\n",
    "import os\n",
    "from pathlib import Path"
   ]
  },
  {
   "cell_type": "markdown",
   "metadata": {},
   "source": [
    "Third party packages\n",
    "- [gzip](https://docs.python.org/3/library/gzip.html) - library that we use to read data in .zip format\n",
    "- [bokeh](https://bokeh.org/) - library that we use to interactively visualise word vectors \n",
    "- [gensim](https://radimrehurek.com/gensim/) - library that we will use to experiment with word embeddings/vectors"
   ]
  },
  {
   "cell_type": "code",
   "execution_count": 4,
   "metadata": {
    "colab": {},
    "colab_type": "code",
    "id": "PliE9yXYnR25"
   },
   "outputs": [
    {
     "data": {
      "application/javascript": "\n            setTimeout(function() {\n                var nbb_cell_id = 4;\n                var nbb_unformatted_code = \"import gensim\\nfrom bokeh.plotting import figure, show\\nfrom bokeh.io import output_notebook\\nfrom bokeh.models import ColumnDataSource, LabelSet\\nimport pandas as pd\\nfrom sklearn.manifold import TSNE\\nimport numpy as np\\nimport matplotlib.pyplot as plt\\nimport matplotlib\";\n                var nbb_formatted_code = \"import gensim\\nfrom bokeh.plotting import figure, show\\nfrom bokeh.io import output_notebook\\nfrom bokeh.models import ColumnDataSource, LabelSet\\nimport pandas as pd\\nfrom sklearn.manifold import TSNE\\nimport numpy as np\\nimport matplotlib.pyplot as plt\\nimport matplotlib\";\n                var nbb_cells = Jupyter.notebook.get_cells();\n                for (var i = 0; i < nbb_cells.length; ++i) {\n                    if (nbb_cells[i].input_prompt_number == nbb_cell_id) {\n                        if (nbb_cells[i].get_text() == nbb_unformatted_code) {\n                             nbb_cells[i].set_text(nbb_formatted_code);\n                        }\n                        break;\n                    }\n                }\n            }, 500);\n            ",
      "text/plain": [
       "<IPython.core.display.Javascript object>"
      ]
     },
     "metadata": {},
     "output_type": "display_data"
    }
   ],
   "source": [
    "import gensim\n",
    "from bokeh.plotting import figure, show\n",
    "from bokeh.io import output_notebook\n",
    "from bokeh.models import ColumnDataSource, LabelSet\n",
    "import pandas as pd\n",
    "from sklearn.manifold import TSNE\n",
    "import numpy as np\n",
    "import matplotlib.pyplot as plt\n",
    "import matplotlib"
   ]
  },
  {
   "cell_type": "markdown",
   "metadata": {},
   "source": [
    "### Notebook configuration and load helper functions"
   ]
  },
  {
   "cell_type": "code",
   "execution_count": 5,
   "metadata": {},
   "outputs": [
    {
     "data": {
      "application/javascript": "\n            setTimeout(function() {\n                var nbb_cell_id = 5;\n                var nbb_unformatted_code = \"# Need the interactive Tools for Matplotlib\\n%matplotlib inline\\n# Plot formatting\\nplt.rcParams[\\\"figure.figsize\\\"] = [12,6]\\nfont = {'size':12}\\nmatplotlib.rc('font', **font)\";\n                var nbb_formatted_code = \"# Need the interactive Tools for Matplotlib\\n%matplotlib inline\\n# Plot formatting\\nplt.rcParams[\\\"figure.figsize\\\"] = [12, 6]\\nfont = {\\\"size\\\": 12}\\nmatplotlib.rc(\\\"font\\\", **font)\";\n                var nbb_cells = Jupyter.notebook.get_cells();\n                for (var i = 0; i < nbb_cells.length; ++i) {\n                    if (nbb_cells[i].input_prompt_number == nbb_cell_id) {\n                        if (nbb_cells[i].get_text() == nbb_unformatted_code) {\n                             nbb_cells[i].set_text(nbb_formatted_code);\n                        }\n                        break;\n                    }\n                }\n            }, 500);\n            ",
      "text/plain": [
       "<IPython.core.display.Javascript object>"
      ]
     },
     "metadata": {},
     "output_type": "display_data"
    }
   ],
   "source": [
    "# Need the interactive Tools for Matplotlib\n",
    "%matplotlib inline\n",
    "# Plot formatting\n",
    "plt.rcParams[\"figure.figsize\"] = [12,6]\n",
    "font = {'size':12}\n",
    "matplotlib.rc('font', **font)"
   ]
  },
  {
   "cell_type": "code",
   "execution_count": 6,
   "metadata": {},
   "outputs": [
    {
     "data": {
      "application/javascript": "\n            setTimeout(function() {\n                var nbb_cell_id = 6;\n                var nbb_unformatted_code = \"def read_input(input_file_path: str) -> List:\\n    '''Parses input file which is in gzip format'''\\n    assert input_file_path.endswith('.gz')\\n    \\n    corpus = []\\n    with gzip.open(input_file_path, 'rb') as f:\\n        for line in f: \\n            # Perform pre-processing and return a list of words from each review text \\n            corpus.append(gensim.utils.simple_preprocess(line))\\n    return corpus\";\n                var nbb_formatted_code = \"def read_input(input_file_path: str) -> List:\\n    \\\"\\\"\\\"Parses input file which is in gzip format\\\"\\\"\\\"\\n    assert input_file_path.endswith(\\\".gz\\\")\\n\\n    corpus = []\\n    with gzip.open(input_file_path, \\\"rb\\\") as f:\\n        for line in f:\\n            # Perform pre-processing and return a list of words from each review text\\n            corpus.append(gensim.utils.simple_preprocess(line))\\n    return corpus\";\n                var nbb_cells = Jupyter.notebook.get_cells();\n                for (var i = 0; i < nbb_cells.length; ++i) {\n                    if (nbb_cells[i].input_prompt_number == nbb_cell_id) {\n                        if (nbb_cells[i].get_text() == nbb_unformatted_code) {\n                             nbb_cells[i].set_text(nbb_formatted_code);\n                        }\n                        break;\n                    }\n                }\n            }, 500);\n            ",
      "text/plain": [
       "<IPython.core.display.Javascript object>"
      ]
     },
     "metadata": {},
     "output_type": "display_data"
    }
   ],
   "source": [
    "def read_input(input_file_path: str) -> List:\n",
    "    '''Parses input file which is in gzip format'''\n",
    "    assert input_file_path.endswith('.gz')\n",
    "    \n",
    "    corpus = []\n",
    "    with gzip.open(input_file_path, 'rb') as f:\n",
    "        for line in f: \n",
    "            # Perform pre-processing and return a list of words from each review text \n",
    "            corpus.append(gensim.utils.simple_preprocess(line))\n",
    "    return corpus"
   ]
  },
  {
   "cell_type": "code",
   "execution_count": 7,
   "metadata": {},
   "outputs": [
    {
     "data": {
      "application/javascript": "\n            setTimeout(function() {\n                var nbb_cell_id = 7;\n                var nbb_unformatted_code = \"def prettify_similarities(similarities: List[tuple]) -> List[str]:\\n    ''' Prettifies list of word similarities produced by Gensim'''\\n    longest_str = max([len(sim[0]) for sim in similarities])\\n    print(\\\"\\\\n\\\".join([f'{idx+1}.\\\\t{sim[0]:{longest_str+1}}\\\\t{sim[1]*100:0.1f}%' for idx, sim in enumerate(similarities)]))\";\n                var nbb_formatted_code = \"def prettify_similarities(similarities: List[tuple]) -> List[str]:\\n    \\\"\\\"\\\"Prettifies list of word similarities produced by Gensim\\\"\\\"\\\"\\n    longest_str = max([len(sim[0]) for sim in similarities])\\n    print(\\n        \\\"\\\\n\\\".join(\\n            [\\n                f\\\"{idx+1}.\\\\t{sim[0]:{longest_str+1}}\\\\t{sim[1]*100:0.1f}%\\\"\\n                for idx, sim in enumerate(similarities)\\n            ]\\n        )\\n    )\";\n                var nbb_cells = Jupyter.notebook.get_cells();\n                for (var i = 0; i < nbb_cells.length; ++i) {\n                    if (nbb_cells[i].input_prompt_number == nbb_cell_id) {\n                        if (nbb_cells[i].get_text() == nbb_unformatted_code) {\n                             nbb_cells[i].set_text(nbb_formatted_code);\n                        }\n                        break;\n                    }\n                }\n            }, 500);\n            ",
      "text/plain": [
       "<IPython.core.display.Javascript object>"
      ]
     },
     "metadata": {},
     "output_type": "display_data"
    }
   ],
   "source": [
    "def prettify_similarities(similarities: List[tuple]) -> List[str]:\n",
    "    ''' Prettifies list of word similarities produced by Gensim'''\n",
    "    longest_str = max([len(sim[0]) for sim in similarities])\n",
    "    print(\"\\n\".join([f'{idx+1}.\\t{sim[0]:{longest_str+1}}\\t{sim[1]*100:0.1f}%' for idx, sim in enumerate(similarities)]))"
   ]
  },
  {
   "cell_type": "markdown",
   "metadata": {},
   "source": [
    "## Download Notebook Data\n",
    "Here we'll download the required data for this notebook if it isn't already in our workspace. This will take a few minutes if nothing already exists."
   ]
  },
  {
   "cell_type": "code",
   "execution_count": 8,
   "metadata": {},
   "outputs": [
    {
     "data": {
      "application/javascript": "\n            setTimeout(function() {\n                var nbb_cell_id = 8;\n                var nbb_unformatted_code = \"resources = {'reviews_data.txt.gz': 'https://www.dropbox.com/s/o5oqgvmfg575x2u/reviews_data.txt.gz?dl=1',\\n             'wamex_xml.zip': 'https://www.dropbox.com/s/dp8celry10spy3t/wamex_xml.zip?dl=1',\\n             'word2vec_reviews.bin': 'https://www.dropbox.com/s/i89pes762o2qsdo/word2vec_reviews.bin?dl=1',\\n             'word2vec_reviews.bin.wv.vectors.npy':'https://www.dropbox.com/s/1ulsr8v0m9x3ia3/word2vec_reviews.bin.wv.vectors.npy?dl=1',\\n             'word2vec_reviews.bin.syn1neg.npy':'https://www.dropbox.com/s/asz9eey86nmv7xb/word2vec_reviews.bin.syn1neg.npy?dl=1',\\n             'word2vec_gswa.bin': 'https://www.dropbox.com/s/5f2fioeq8y1mn73/word2vec_gswa.bin?dl=1',\\n             'word2vec_gswa.bin.wv.vectors.npy': 'https://www.dropbox.com/s/bgwl44wl3m2pq1x/word2vec_gswa.bin.wv.vectors.npy?dl=1',\\n             'word2vec_gswa.bin.syn1neg.npy': 'https://www.dropbox.com/s/wy24038lcegifpf/word2vec_gswa.bin.syn1neg.npy?dl=1'}\";\n                var nbb_formatted_code = \"resources = {\\n    \\\"reviews_data.txt.gz\\\": \\\"https://www.dropbox.com/s/o5oqgvmfg575x2u/reviews_data.txt.gz?dl=1\\\",\\n    \\\"wamex_xml.zip\\\": \\\"https://www.dropbox.com/s/dp8celry10spy3t/wamex_xml.zip?dl=1\\\",\\n    \\\"word2vec_reviews.bin\\\": \\\"https://www.dropbox.com/s/i89pes762o2qsdo/word2vec_reviews.bin?dl=1\\\",\\n    \\\"word2vec_reviews.bin.wv.vectors.npy\\\": \\\"https://www.dropbox.com/s/1ulsr8v0m9x3ia3/word2vec_reviews.bin.wv.vectors.npy?dl=1\\\",\\n    \\\"word2vec_reviews.bin.syn1neg.npy\\\": \\\"https://www.dropbox.com/s/asz9eey86nmv7xb/word2vec_reviews.bin.syn1neg.npy?dl=1\\\",\\n    \\\"word2vec_gswa.bin\\\": \\\"https://www.dropbox.com/s/5f2fioeq8y1mn73/word2vec_gswa.bin?dl=1\\\",\\n    \\\"word2vec_gswa.bin.wv.vectors.npy\\\": \\\"https://www.dropbox.com/s/bgwl44wl3m2pq1x/word2vec_gswa.bin.wv.vectors.npy?dl=1\\\",\\n    \\\"word2vec_gswa.bin.syn1neg.npy\\\": \\\"https://www.dropbox.com/s/wy24038lcegifpf/word2vec_gswa.bin.syn1neg.npy?dl=1\\\",\\n}\";\n                var nbb_cells = Jupyter.notebook.get_cells();\n                for (var i = 0; i < nbb_cells.length; ++i) {\n                    if (nbb_cells[i].input_prompt_number == nbb_cell_id) {\n                        if (nbb_cells[i].get_text() == nbb_unformatted_code) {\n                             nbb_cells[i].set_text(nbb_formatted_code);\n                        }\n                        break;\n                    }\n                }\n            }, 500);\n            ",
      "text/plain": [
       "<IPython.core.display.Javascript object>"
      ]
     },
     "metadata": {},
     "output_type": "display_data"
    }
   ],
   "source": [
    "resources = {'reviews_data.txt.gz': 'https://www.dropbox.com/s/o5oqgvmfg575x2u/reviews_data.txt.gz?dl=1',\n",
    "             'wamex_xml.zip': 'https://www.dropbox.com/s/dp8celry10spy3t/wamex_xml.zip?dl=1',\n",
    "             'word2vec_reviews.bin': 'https://www.dropbox.com/s/i89pes762o2qsdo/word2vec_reviews.bin?dl=1',\n",
    "             'word2vec_reviews.bin.wv.vectors.npy':'https://www.dropbox.com/s/1ulsr8v0m9x3ia3/word2vec_reviews.bin.wv.vectors.npy?dl=1',\n",
    "             'word2vec_reviews.bin.syn1neg.npy':'https://www.dropbox.com/s/asz9eey86nmv7xb/word2vec_reviews.bin.syn1neg.npy?dl=1',\n",
    "             'word2vec_gswa.bin': 'https://www.dropbox.com/s/5f2fioeq8y1mn73/word2vec_gswa.bin?dl=1',\n",
    "             'word2vec_gswa.bin.wv.vectors.npy': 'https://www.dropbox.com/s/bgwl44wl3m2pq1x/word2vec_gswa.bin.wv.vectors.npy?dl=1',\n",
    "             'word2vec_gswa.bin.syn1neg.npy': 'https://www.dropbox.com/s/wy24038lcegifpf/word2vec_gswa.bin.syn1neg.npy?dl=1'}"
   ]
  },
  {
   "cell_type": "code",
   "execution_count": 9,
   "metadata": {},
   "outputs": [
    {
     "name": "stdout",
     "output_type": "stream",
     "text": [
      "Downloading reviews_data.txt.gz from (https://www.dropbox.com/s/o5oqgvmfg575x2u/reviews_data.txt.gz?dl=1)\n",
      "Downloading wamex_xml.zip from (https://www.dropbox.com/s/dp8celry10spy3t/wamex_xml.zip?dl=1)\n",
      "Downloading word2vec_reviews.bin from (https://www.dropbox.com/s/i89pes762o2qsdo/word2vec_reviews.bin?dl=1)\n",
      "Downloading word2vec_reviews.bin.wv.vectors.npy from (https://www.dropbox.com/s/1ulsr8v0m9x3ia3/word2vec_reviews.bin.wv.vectors.npy?dl=1)\n",
      "Downloading word2vec_reviews.bin.syn1neg.npy from (https://www.dropbox.com/s/asz9eey86nmv7xb/word2vec_reviews.bin.syn1neg.npy?dl=1)\n",
      "Downloading word2vec_gswa.bin from (https://www.dropbox.com/s/5f2fioeq8y1mn73/word2vec_gswa.bin?dl=1)\n",
      "Downloading word2vec_gswa.bin.wv.vectors.npy from (https://www.dropbox.com/s/bgwl44wl3m2pq1x/word2vec_gswa.bin.wv.vectors.npy?dl=1)\n",
      "Downloading word2vec_gswa.bin.syn1neg.npy from (https://www.dropbox.com/s/wy24038lcegifpf/word2vec_gswa.bin.syn1neg.npy?dl=1)\n"
     ]
    },
    {
     "data": {
      "application/javascript": "\n            setTimeout(function() {\n                var nbb_cell_id = 9;\n                var nbb_unformatted_code = \"for fname, url in resources.items():\\n    \\n    fpath = f'../data/{fname}'\\n    \\n    if os.path.isfile(fpath):\\n        print(f'{fname} exists')\\n        continue\\n    # Download file\\n    print(f'Downloading {fname} from ({url})')\\n    urlretrieve(url,fpath)\";\n                var nbb_formatted_code = \"for fname, url in resources.items():\\n\\n    fpath = f\\\"../data/{fname}\\\"\\n\\n    if os.path.isfile(fpath):\\n        print(f\\\"{fname} exists\\\")\\n        continue\\n    # Download file\\n    print(f\\\"Downloading {fname} from ({url})\\\")\\n    urlretrieve(url, fpath)\";\n                var nbb_cells = Jupyter.notebook.get_cells();\n                for (var i = 0; i < nbb_cells.length; ++i) {\n                    if (nbb_cells[i].input_prompt_number == nbb_cell_id) {\n                        if (nbb_cells[i].get_text() == nbb_unformatted_code) {\n                             nbb_cells[i].set_text(nbb_formatted_code);\n                        }\n                        break;\n                    }\n                }\n            }, 500);\n            ",
      "text/plain": [
       "<IPython.core.display.Javascript object>"
      ]
     },
     "metadata": {},
     "output_type": "display_data"
    }
   ],
   "source": [
    "for fname, url in resources.items():\n",
    "    \n",
    "    fpath = f'../data/{fname}'\n",
    "    \n",
    "    if os.path.isfile(fpath):\n",
    "        print(f'{fname} exists')\n",
    "        continue\n",
    "    # Download file\n",
    "    print(f'Downloading {fname} from ({url})')\n",
    "    urlretrieve(url,fpath)"
   ]
  },
  {
   "cell_type": "markdown",
   "metadata": {
    "colab_type": "text",
    "id": "M5YUtIH_nR3J"
   },
   "source": [
    "## Understanding Word2Vec Parameters<a name=\"word2vec_parameters\"></a>"
   ]
  },
  {
   "cell_type": "markdown",
   "metadata": {},
   "source": [
    "Before training our custom embedding models, we need to understand some of the models parameters. For reference, this is the command that we will use to train the model: `model = gensim.models.Word2Vec(sentences=documents, size=150, window=10, min_count=2, workers=10)`\n",
    "\n",
    "#### Parameters of Interest\n",
    "`sentences`: The corpus that the model will be trained on in the format of a list of lists of tokens.\n",
    "\n",
    "`size`: The size of the dense vector to represent each token or word. If you have very limited data, then size should be a much smaller value. If you have lots of data, its good to experiment with various sizes. Typical sizes are 100-300. A value of 100-150 has worked well for me. \n",
    "\n",
    "`window`: The maximum distance between the target word and its neighboring word. If your neighbor's position is greater than the maximum window width to the left and the right, then, some neighbors are not considered as being related to the target word. In theory, a smaller window should give you terms that are more related. If you have lots of data, then the window size should not matter too much, as long as its a decent sized window.\n",
    "\n",
    "`min_count`: Minimium frequency count of words. The model would ignore words that do not statisfy the min_count. Extremely infrequent words are usually unimportant, so its best to get rid of those. Unless your dataset is really tiny, this does not really affect the model.\n",
    "\n",
    "`workers`: How many threads to use behind the scenes?"
   ]
  },
  {
   "cell_type": "markdown",
   "metadata": {},
   "source": [
    "<hr/>"
   ]
  },
  {
   "cell_type": "markdown",
   "metadata": {},
   "source": [
    "## 🏢 Learning General-Domain Word Embeddings <a name=\"general-domain_word_vectors\"></a>\n",
    "In this section we will learn word embeddings from a general-domain (hotel reviews). The hotel reviews contains:\n",
    "- Full reviews of hotels in 10 different cities (Dubai, Beijing, London, New York City, New Delhi, San Francisco, Shanghai, Montreal, Las Vegas, Chicago) \n",
    "- There are about 80-700 hotels in each city \n",
    "- Extracted fields include date, review title and the full review \n",
    "- Total number of reviews: ~259,000"
   ]
  },
  {
   "cell_type": "markdown",
   "metadata": {},
   "source": [
    "### Load and pre-process hotel reviews dataset\n",
    "Before learning word embeddings, we need to load and pre-process the hotel reviews corpus. The helper function `read_input` aids us with this task. This helper parses the dataset that is in .zip format and composed of numerous .json data files. These are read into memory and pre-processed with Gensim's `gensim.utils.simple_preprocess()` function that converts each review into a list of tokens that are lower cased."
   ]
  },
  {
   "cell_type": "markdown",
   "metadata": {},
   "source": [
    "⚠️Loading the hotel reviews documents will take a few minutes"
   ]
  },
  {
   "cell_type": "code",
   "execution_count": 10,
   "metadata": {},
   "outputs": [
    {
     "data": {
      "application/javascript": "\n            setTimeout(function() {\n                var nbb_cell_id = 10;\n                var nbb_unformatted_code = \"# The data_file path will be different depending on where you've copied the notebooks...\\ndata_file = '../data/reviews_data.txt.gz'\\n\\n# Read the tokenized reviews into a list each review item becomes a series of words so this becomes a list of lists\\ndocuments = read_input(input_file_path=data_file)\";\n                var nbb_formatted_code = \"# The data_file path will be different depending on where you've copied the notebooks...\\ndata_file = \\\"../data/reviews_data.txt.gz\\\"\\n\\n# Read the tokenized reviews into a list each review item becomes a series of words so this becomes a list of lists\\ndocuments = read_input(input_file_path=data_file)\";\n                var nbb_cells = Jupyter.notebook.get_cells();\n                for (var i = 0; i < nbb_cells.length; ++i) {\n                    if (nbb_cells[i].input_prompt_number == nbb_cell_id) {\n                        if (nbb_cells[i].get_text() == nbb_unformatted_code) {\n                             nbb_cells[i].set_text(nbb_formatted_code);\n                        }\n                        break;\n                    }\n                }\n            }, 500);\n            ",
      "text/plain": [
       "<IPython.core.display.Javascript object>"
      ]
     },
     "metadata": {},
     "output_type": "display_data"
    }
   ],
   "source": [
    "# The data_file path will be different depending on where you've copied the notebooks...\n",
    "data_file = '../data/reviews_data.txt.gz'\n",
    "\n",
    "# Read the tokenized reviews into a list each review item becomes a series of words so this becomes a list of lists\n",
    "documents = read_input(input_file_path=data_file)"
   ]
  },
  {
   "cell_type": "code",
   "execution_count": 11,
   "metadata": {},
   "outputs": [
    {
     "name": "stdout",
     "output_type": "stream",
     "text": [
      "['sep', 'great', 'budget', 'hotel', 'stayed', 'two', 'nights', 'at', 'aloft', 'on', 'the', 'most', 'recent', 'trip', 'to', 'china', 'the', 'hotel', 'was', 'very', 'modern', 'and', 'clean', 'the', 'room', 'was', 'spotless', 'and', 'comfortable', 'king', 'sized', 'bed', 'as', 'far', 'as', 'soft', 'beds', 'go', 'in', 'china', 'the', 'staff', 'was', 'very', 'punctual', 'and', 'went', 'out', 'of', 'the', 'way', 'to', 'help', 'my', 'every', 'need', 'including', 'going', 'to', 'store', 'across', 'the', 'street', 'to', 'purchase', 'china', 'mobile', 'sim', 'card', 'for', 'me', 'the', 'buffet', 'breakfast', 'was', 'okay', 'nothing', 'to', 'write', 'home', 'about', 'the', 'lcd', 'screen', 'had', 'movies', 'on', 'demand', 'for', 'rmb', 'and', 'had', 'good', 'selection', 'of', 'western', 'channels', 'including', 'hbo', 'cnn', 'bbc', 'star', 'world', 'etc', 'the', 'gym', 'was', 'small', 'had', 'selection', 'of', 'basic', 'weights', 'and', 'one', 'cable', 'machine', 'there', 'was', 'however', 'new', 'technogym', 'cardio', 'machines', 'with', 'built', 'in', 'lcd', 'tvs', 'which', 'were', 'very', 'good', 'the', 'location', 'is', 'bit', 'out', 'of', 'the', 'way', 'to', 'the', 'central', 'areas', 'of', 'beijing', 'but', 'it', 'is', 'better', 'suited', 'for', 'my', 'needs', 'as', 'need', 'to', 'be', 'in', 'the', 'haidian', 'district', 'being', 'spg', 'platinum', 'there', 'were', 'no', 'upgrades', 'to', 'better', 'room', 'because', 'aloft', 'has', 'policy', 'of', 'not', 'doing', 'any', 'upgrades', 'the', 'sheraton', 'next', 'door', 'is', 'much', 'nicer', 'hotel', 'in', 'my', 'opinion', 'where', 'am', 'writing', 'this', 'from', 'now', 'with', 'an', 'upgraded', 'room', 'but', 'as', 'far', 'as', 'bang', 'for', 'the', 'buck', 'aloft', 'is', 'great', 'place']\n"
     ]
    },
    {
     "data": {
      "application/javascript": "\n            setTimeout(function() {\n                var nbb_cell_id = 11;\n                var nbb_unformatted_code = \"# Review the tokenized hotel reviews documents\\nprint(documents[1])\";\n                var nbb_formatted_code = \"# Review the tokenized hotel reviews documents\\nprint(documents[1])\";\n                var nbb_cells = Jupyter.notebook.get_cells();\n                for (var i = 0; i < nbb_cells.length; ++i) {\n                    if (nbb_cells[i].input_prompt_number == nbb_cell_id) {\n                        if (nbb_cells[i].get_text() == nbb_unformatted_code) {\n                             nbb_cells[i].set_text(nbb_formatted_code);\n                        }\n                        break;\n                    }\n                }\n            }, 500);\n            ",
      "text/plain": [
       "<IPython.core.display.Javascript object>"
      ]
     },
     "metadata": {},
     "output_type": "display_data"
    }
   ],
   "source": [
    "# Review the tokenized hotel reviews documents\n",
    "print(documents[1])"
   ]
  },
  {
   "cell_type": "markdown",
   "metadata": {},
   "source": [
    "### Training general-domain word embeddings\n",
    "Here we set-up our Word2Vec embedding model and train it on the documents in the hotel reviews dataset. After training, we save it so it can be used without requiring re-training. "
   ]
  },
  {
   "cell_type": "markdown",
   "metadata": {},
   "source": [
    "📣 We are going to load pretrained embeddings to avoid needing to wait, but feel free to uncomment the code below to train embeddings yourself and explore the impact of hyperparameters on semantic/syntactic representation."
   ]
  },
  {
   "cell_type": "code",
   "execution_count": 12,
   "metadata": {},
   "outputs": [
    {
     "data": {
      "application/javascript": "\n            setTimeout(function() {\n                var nbb_cell_id = 12;\n                var nbb_unformatted_code = \"modelpath = Path('../data/word2vec_reviews.bin').resolve()\";\n                var nbb_formatted_code = \"modelpath = Path(\\\"../data/word2vec_reviews.bin\\\").resolve()\";\n                var nbb_cells = Jupyter.notebook.get_cells();\n                for (var i = 0; i < nbb_cells.length; ++i) {\n                    if (nbb_cells[i].input_prompt_number == nbb_cell_id) {\n                        if (nbb_cells[i].get_text() == nbb_unformatted_code) {\n                             nbb_cells[i].set_text(nbb_formatted_code);\n                        }\n                        break;\n                    }\n                }\n            }, 500);\n            ",
      "text/plain": [
       "<IPython.core.display.Javascript object>"
      ]
     },
     "metadata": {},
     "output_type": "display_data"
    }
   ],
   "source": [
    "modelpath = Path('../data/word2vec_reviews.bin').resolve()"
   ]
  },
  {
   "cell_type": "code",
   "execution_count": 13,
   "metadata": {},
   "outputs": [
    {
     "data": {
      "application/javascript": "\n            setTimeout(function() {\n                var nbb_cell_id = 13;\n                var nbb_unformatted_code = \"model = gensim.models.Word2Vec.load(str(modelpath))\";\n                var nbb_formatted_code = \"model = gensim.models.Word2Vec.load(str(modelpath))\";\n                var nbb_cells = Jupyter.notebook.get_cells();\n                for (var i = 0; i < nbb_cells.length; ++i) {\n                    if (nbb_cells[i].input_prompt_number == nbb_cell_id) {\n                        if (nbb_cells[i].get_text() == nbb_unformatted_code) {\n                             nbb_cells[i].set_text(nbb_formatted_code);\n                        }\n                        break;\n                    }\n                }\n            }, 500);\n            ",
      "text/plain": [
       "<IPython.core.display.Javascript object>"
      ]
     },
     "metadata": {},
     "output_type": "display_data"
    }
   ],
   "source": [
    "model = gensim.models.Word2Vec.load(str(modelpath))"
   ]
  },
  {
   "cell_type": "markdown",
   "metadata": {},
   "source": [
    "⚠️ Training the embedding model will take a while due to the 250k documents"
   ]
  },
  {
   "cell_type": "code",
   "execution_count": 14,
   "metadata": {},
   "outputs": [
    {
     "data": {
      "application/javascript": "\n            setTimeout(function() {\n                var nbb_cell_id = 14;\n                var nbb_unformatted_code = \"# Set-up and train model\\n# model = gensim.models.Word2Vec(sentences=documents, vector_size=150, window=10, min_count=2, workers=10, epochs=10)\";\n                var nbb_formatted_code = \"# Set-up and train model\\n# model = gensim.models.Word2Vec(sentences=documents, vector_size=150, window=10, min_count=2, workers=10, epochs=10)\";\n                var nbb_cells = Jupyter.notebook.get_cells();\n                for (var i = 0; i < nbb_cells.length; ++i) {\n                    if (nbb_cells[i].input_prompt_number == nbb_cell_id) {\n                        if (nbb_cells[i].get_text() == nbb_unformatted_code) {\n                             nbb_cells[i].set_text(nbb_formatted_code);\n                        }\n                        break;\n                    }\n                }\n            }, 500);\n            ",
      "text/plain": [
       "<IPython.core.display.Javascript object>"
      ]
     },
     "metadata": {},
     "output_type": "display_data"
    }
   ],
   "source": [
    "# Set-up and train model\n",
    "# model = gensim.models.Word2Vec(sentences=documents, vector_size=150, window=10, min_count=2, workers=10, epochs=10)"
   ]
  },
  {
   "cell_type": "code",
   "execution_count": 15,
   "metadata": {},
   "outputs": [
    {
     "data": {
      "application/javascript": "\n            setTimeout(function() {\n                var nbb_cell_id = 15;\n                var nbb_unformatted_code = \"# Save trained embedding models\\n# model.save(\\\"../data/word2vec_reviews.bin\\\")\";\n                var nbb_formatted_code = \"# Save trained embedding models\\n# model.save(\\\"../data/word2vec_reviews.bin\\\")\";\n                var nbb_cells = Jupyter.notebook.get_cells();\n                for (var i = 0; i < nbb_cells.length; ++i) {\n                    if (nbb_cells[i].input_prompt_number == nbb_cell_id) {\n                        if (nbb_cells[i].get_text() == nbb_unformatted_code) {\n                             nbb_cells[i].set_text(nbb_formatted_code);\n                        }\n                        break;\n                    }\n                }\n            }, 500);\n            ",
      "text/plain": [
       "<IPython.core.display.Javascript object>"
      ]
     },
     "metadata": {},
     "output_type": "display_data"
    }
   ],
   "source": [
    "# Save trained embedding models\n",
    "# model.save(\"../data/word2vec_reviews.bin\")"
   ]
  },
  {
   "cell_type": "markdown",
   "metadata": {},
   "source": [
    "### Reviewing learnt word embeddings\n",
    "Similar to the notebook [12.2.1 - Word vector visualisation with Gensim](https://github.com/core-skills/12-text-processing/blob/master/notebooks/12.2.1%20-%20Word%20vector%20visualization%20with%20Gensim.ipynb), we will explore the similarity of words represented with our general-domain embeddings."
   ]
  },
  {
   "cell_type": "markdown",
   "metadata": {},
   "source": [
    "#### Word Similarities"
   ]
  },
  {
   "cell_type": "code",
   "execution_count": 16,
   "metadata": {},
   "outputs": [
    {
     "name": "stdout",
     "output_type": "stream",
     "text": [
      "1.\tcourteous    \t91.5%\n",
      "2.\tfriendly     \t82.5%\n",
      "3.\tcurteous     \t81.5%\n",
      "4.\tcordial      \t80.3%\n",
      "5.\tprofessional \t77.8%\n",
      "6.\tpersonable   \t77.0%\n",
      "7.\tattentive    \t77.0%\n",
      "8.\tfreindly     \t76.9%\n",
      "9.\tcurtious     \t76.4%\n",
      "10.\tgracious     \t76.1%\n"
     ]
    },
    {
     "data": {
      "application/javascript": "\n            setTimeout(function() {\n                var nbb_cell_id = 16;\n                var nbb_unformatted_code = \"prettify_similarities(model.wv.most_similar(['polite']))\";\n                var nbb_formatted_code = \"prettify_similarities(model.wv.most_similar([\\\"polite\\\"]))\";\n                var nbb_cells = Jupyter.notebook.get_cells();\n                for (var i = 0; i < nbb_cells.length; ++i) {\n                    if (nbb_cells[i].input_prompt_number == nbb_cell_id) {\n                        if (nbb_cells[i].get_text() == nbb_unformatted_code) {\n                             nbb_cells[i].set_text(nbb_formatted_code);\n                        }\n                        break;\n                    }\n                }\n            }, 500);\n            ",
      "text/plain": [
       "<IPython.core.display.Javascript object>"
      ]
     },
     "metadata": {},
     "output_type": "display_data"
    }
   ],
   "source": [
    "prettify_similarities(model.wv.most_similar(['polite']))"
   ]
  },
  {
   "cell_type": "code",
   "execution_count": 17,
   "metadata": {
    "colab": {
     "base_uri": "https://localhost:8080/",
     "height": 258
    },
    "colab_type": "code",
    "executionInfo": {
     "elapsed": 1301911,
     "status": "ok",
     "timestamp": 1585117062681,
     "user": {
      "displayName": "Tyler Bikaun",
      "photoUrl": "",
      "userId": "18384825377619195869"
     },
     "user_tz": -480
    },
    "id": "mT-2WDWsnR3R",
    "outputId": "f0e2140f-2666-4ead-9382-903666f12b56"
   },
   "outputs": [
    {
     "name": "stdout",
     "output_type": "stream",
     "text": [
      "1.\tfilthy  \t86.1%\n",
      "2.\tunclean \t79.9%\n",
      "3.\tdusty   \t78.3%\n",
      "4.\tstained \t78.1%\n",
      "5.\tgrubby  \t76.4%\n",
      "6.\tsmelly  \t75.6%\n",
      "7.\tmouldy  \t74.2%\n",
      "8.\tdingy   \t73.8%\n",
      "9.\tgrimy   \t73.5%\n",
      "10.\tsoiled  \t72.9%\n"
     ]
    },
    {
     "data": {
      "application/javascript": "\n            setTimeout(function() {\n                var nbb_cell_id = 17;\n                var nbb_unformatted_code = \"prettify_similarities(model.wv.most_similar(['dirty']))\";\n                var nbb_formatted_code = \"prettify_similarities(model.wv.most_similar([\\\"dirty\\\"]))\";\n                var nbb_cells = Jupyter.notebook.get_cells();\n                for (var i = 0; i < nbb_cells.length; ++i) {\n                    if (nbb_cells[i].input_prompt_number == nbb_cell_id) {\n                        if (nbb_cells[i].get_text() == nbb_unformatted_code) {\n                             nbb_cells[i].set_text(nbb_formatted_code);\n                        }\n                        break;\n                    }\n                }\n            }, 500);\n            ",
      "text/plain": [
       "<IPython.core.display.Javascript object>"
      ]
     },
     "metadata": {},
     "output_type": "display_data"
    }
   ],
   "source": [
    "prettify_similarities(model.wv.most_similar(['dirty']))"
   ]
  },
  {
   "cell_type": "code",
   "execution_count": 18,
   "metadata": {
    "colab": {
     "base_uri": "https://localhost:8080/",
     "height": 173
    },
    "colab_type": "code",
    "executionInfo": {
     "elapsed": 1301888,
     "status": "ok",
     "timestamp": 1585117062683,
     "user": {
      "displayName": "Tyler Bikaun",
      "photoUrl": "",
      "userId": "18384825377619195869"
     },
     "user_tz": -480
    },
    "id": "VOq0zzvGnR3c",
    "outputId": "d3384fbb-8d85-4472-b329-fe10b2b1be70"
   },
   "outputs": [
    {
     "name": "stdout",
     "output_type": "stream",
     "text": [
      "1.\tcanada    \t67.3%\n",
      "2.\tgermany   \t65.4%\n",
      "3.\tmexico    \t64.3%\n",
      "4.\tarizona   \t64.0%\n",
      "5.\tspain     \t62.6%\n",
      "6.\tengland   \t62.4%\n",
      "7.\thawaii    \t61.3%\n",
      "8.\tottawa    \t61.1%\n",
      "9.\tbarcelona \t60.9%\n",
      "10.\tthailand  \t60.5%\n"
     ]
    },
    {
     "data": {
      "application/javascript": "\n            setTimeout(function() {\n                var nbb_cell_id = 18;\n                var nbb_unformatted_code = \"prettify_similarities(model.wv.most_similar(['france']))\";\n                var nbb_formatted_code = \"prettify_similarities(model.wv.most_similar([\\\"france\\\"]))\";\n                var nbb_cells = Jupyter.notebook.get_cells();\n                for (var i = 0; i < nbb_cells.length; ++i) {\n                    if (nbb_cells[i].input_prompt_number == nbb_cell_id) {\n                        if (nbb_cells[i].get_text() == nbb_unformatted_code) {\n                             nbb_cells[i].set_text(nbb_formatted_code);\n                        }\n                        break;\n                    }\n                }\n            }, 500);\n            ",
      "text/plain": [
       "<IPython.core.display.Javascript object>"
      ]
     },
     "metadata": {},
     "output_type": "display_data"
    }
   ],
   "source": [
    "prettify_similarities(model.wv.most_similar(['france']))"
   ]
  },
  {
   "cell_type": "code",
   "execution_count": 19,
   "metadata": {
    "colab": {
     "base_uri": "https://localhost:8080/",
     "height": 173
    },
    "colab_type": "code",
    "executionInfo": {
     "elapsed": 1301878,
     "status": "ok",
     "timestamp": 1585117062684,
     "user": {
      "displayName": "Tyler Bikaun",
      "photoUrl": "",
      "userId": "18384825377619195869"
     },
     "user_tz": -480
    },
    "id": "LmAkHmOqnR3f",
    "outputId": "5ab1e920-b9ad-49dd-d134-9c6110f88540"
   },
   "outputs": [
    {
     "name": "stdout",
     "output_type": "stream",
     "text": [
      "1.\thorrified  \t79.6%\n",
      "2.\tamazed     \t79.5%\n",
      "3.\tdismayed   \t76.9%\n",
      "4.\tstunned    \t76.6%\n",
      "5.\tappalled   \t74.9%\n",
      "6.\tastonished \t74.8%\n",
      "7.\tsuprised   \t71.8%\n",
      "8.\tsurprized  \t71.5%\n",
      "9.\tsurprised  \t71.3%\n",
      "10.\tastounded  \t71.0%\n"
     ]
    },
    {
     "data": {
      "application/javascript": "\n            setTimeout(function() {\n                var nbb_cell_id = 19;\n                var nbb_unformatted_code = \"prettify_similarities(model.wv.most_similar(['shocked']))\";\n                var nbb_formatted_code = \"prettify_similarities(model.wv.most_similar([\\\"shocked\\\"]))\";\n                var nbb_cells = Jupyter.notebook.get_cells();\n                for (var i = 0; i < nbb_cells.length; ++i) {\n                    if (nbb_cells[i].input_prompt_number == nbb_cell_id) {\n                        if (nbb_cells[i].get_text() == nbb_unformatted_code) {\n                             nbb_cells[i].set_text(nbb_formatted_code);\n                        }\n                        break;\n                    }\n                }\n            }, 500);\n            ",
      "text/plain": [
       "<IPython.core.display.Javascript object>"
      ]
     },
     "metadata": {},
     "output_type": "display_data"
    }
   ],
   "source": [
    "prettify_similarities(model.wv.most_similar(['shocked']))"
   ]
  },
  {
   "cell_type": "code",
   "execution_count": 20,
   "metadata": {
    "colab": {
     "base_uri": "https://localhost:8080/",
     "height": 241
    },
    "colab_type": "code",
    "executionInfo": {
     "elapsed": 1301826,
     "status": "ok",
     "timestamp": 1585117062684,
     "user": {
      "displayName": "Tyler Bikaun",
      "photoUrl": "",
      "userId": "18384825377619195869"
     },
     "user_tz": -480
    },
    "id": "Z9-X6bgYnR3l",
    "outputId": "37054ef7-07c7-4087-aa10-a45c53fc95ca"
   },
   "outputs": [
    {
     "name": "stdout",
     "output_type": "stream",
     "text": [
      "1.\tduvet       \t74.1%\n",
      "2.\tmattress    \t73.2%\n",
      "3.\tmatress     \t71.1%\n",
      "4.\tquilt       \t69.6%\n",
      "5.\tblanket     \t68.6%\n",
      "6.\tpillows     \t65.6%\n",
      "7.\tsatin       \t65.6%\n",
      "8.\tsheets      \t64.5%\n",
      "9.\tcomforter   \t63.7%\n",
      "10.\tpillowcases \t63.5%\n"
     ]
    },
    {
     "data": {
      "application/javascript": "\n            setTimeout(function() {\n                var nbb_cell_id = 20;\n                var nbb_unformatted_code = \"# Get everything related to stuff on the bed\\nprettify_similarities(model.wv.most_similar(positive=['bed', 'sheet', 'pillow'], negative=['couche'], topn=10))\";\n                var nbb_formatted_code = \"# Get everything related to stuff on the bed\\nprettify_similarities(\\n    model.wv.most_similar(\\n        positive=[\\\"bed\\\", \\\"sheet\\\", \\\"pillow\\\"], negative=[\\\"couche\\\"], topn=10\\n    )\\n)\";\n                var nbb_cells = Jupyter.notebook.get_cells();\n                for (var i = 0; i < nbb_cells.length; ++i) {\n                    if (nbb_cells[i].input_prompt_number == nbb_cell_id) {\n                        if (nbb_cells[i].get_text() == nbb_unformatted_code) {\n                             nbb_cells[i].set_text(nbb_formatted_code);\n                        }\n                        break;\n                    }\n                }\n            }, 500);\n            ",
      "text/plain": [
       "<IPython.core.display.Javascript object>"
      ]
     },
     "metadata": {},
     "output_type": "display_data"
    }
   ],
   "source": [
    "# Get everything related to stuff on the bed\n",
    "prettify_similarities(model.wv.most_similar(positive=['bed', 'sheet', 'pillow'], negative=['couche'], topn=10))"
   ]
  },
  {
   "cell_type": "code",
   "execution_count": 21,
   "metadata": {
    "colab": {
     "base_uri": "https://localhost:8080/",
     "height": 88
    },
    "colab_type": "code",
    "executionInfo": {
     "elapsed": 1301816,
     "status": "ok",
     "timestamp": 1585117062685,
     "user": {
      "displayName": "Tyler Bikaun",
      "photoUrl": "",
      "userId": "18384825377619195869"
     },
     "user_tz": -480
    },
    "id": "Hy6BPFqBnR3p",
    "outputId": "a81165a7-c9c9-4015-fc8f-c5fc6c9c786a"
   },
   "outputs": [
    {
     "name": "stdout",
     "output_type": "stream",
     "text": [
      "Similarity between the words dirty and smelly: 0.756\n"
     ]
    },
    {
     "data": {
      "application/javascript": "\n            setTimeout(function() {\n                var nbb_cell_id = 21;\n                var nbb_unformatted_code = \"# Similarity between two different words\\nprint(f'Similarity between the words dirty and smelly: {model.wv.similarity(w1=\\\"dirty\\\",w2=\\\"smelly\\\"):0.3}')\";\n                var nbb_formatted_code = \"# Similarity between two different words\\nprint(\\n    f'Similarity between the words dirty and smelly: {model.wv.similarity(w1=\\\"dirty\\\",w2=\\\"smelly\\\"):0.3}'\\n)\";\n                var nbb_cells = Jupyter.notebook.get_cells();\n                for (var i = 0; i < nbb_cells.length; ++i) {\n                    if (nbb_cells[i].input_prompt_number == nbb_cell_id) {\n                        if (nbb_cells[i].get_text() == nbb_unformatted_code) {\n                             nbb_cells[i].set_text(nbb_formatted_code);\n                        }\n                        break;\n                    }\n                }\n            }, 500);\n            ",
      "text/plain": [
       "<IPython.core.display.Javascript object>"
      ]
     },
     "metadata": {},
     "output_type": "display_data"
    }
   ],
   "source": [
    "# Similarity between two different words\n",
    "print(f'Similarity between the words dirty and smelly: {model.wv.similarity(w1=\"dirty\",w2=\"smelly\"):0.3}')"
   ]
  },
  {
   "cell_type": "code",
   "execution_count": 22,
   "metadata": {
    "colab": {
     "base_uri": "https://localhost:8080/",
     "height": 88
    },
    "colab_type": "code",
    "executionInfo": {
     "elapsed": 1301796,
     "status": "ok",
     "timestamp": 1585117062685,
     "user": {
      "displayName": "Tyler Bikaun",
      "photoUrl": "",
      "userId": "18384825377619195869"
     },
     "user_tz": -480
    },
    "id": "rGb75GUznR3t",
    "outputId": "03339e12-a10b-4f58-f66c-1e3e07ca4f26"
   },
   "outputs": [
    {
     "name": "stdout",
     "output_type": "stream",
     "text": [
      "Similarity between the same word dirty: 1.0\n"
     ]
    },
    {
     "data": {
      "application/javascript": "\n            setTimeout(function() {\n                var nbb_cell_id = 22;\n                var nbb_unformatted_code = \"# Similarity between two identical words\\nprint(f'Similarity between the same word dirty: {model.wv.similarity(w1=\\\"dirty\\\",w2=\\\"dirty\\\"):0.3}')\";\n                var nbb_formatted_code = \"# Similarity between two identical words\\nprint(\\n    f'Similarity between the same word dirty: {model.wv.similarity(w1=\\\"dirty\\\",w2=\\\"dirty\\\"):0.3}'\\n)\";\n                var nbb_cells = Jupyter.notebook.get_cells();\n                for (var i = 0; i < nbb_cells.length; ++i) {\n                    if (nbb_cells[i].input_prompt_number == nbb_cell_id) {\n                        if (nbb_cells[i].get_text() == nbb_unformatted_code) {\n                             nbb_cells[i].set_text(nbb_formatted_code);\n                        }\n                        break;\n                    }\n                }\n            }, 500);\n            ",
      "text/plain": [
       "<IPython.core.display.Javascript object>"
      ]
     },
     "metadata": {},
     "output_type": "display_data"
    }
   ],
   "source": [
    "# Similarity between two identical words\n",
    "print(f'Similarity between the same word dirty: {model.wv.similarity(w1=\"dirty\",w2=\"dirty\"):0.3}')"
   ]
  },
  {
   "cell_type": "code",
   "execution_count": 23,
   "metadata": {
    "colab": {
     "base_uri": "https://localhost:8080/",
     "height": 88
    },
    "colab_type": "code",
    "executionInfo": {
     "elapsed": 1301780,
     "status": "ok",
     "timestamp": 1585117062686,
     "user": {
      "displayName": "Tyler Bikaun",
      "photoUrl": "",
      "userId": "18384825377619195869"
     },
     "user_tz": -480
    },
    "id": "CavnmhyKnR3w",
    "outputId": "c635b945-00bc-4bee-8843-1a83ee64593e"
   },
   "outputs": [
    {
     "name": "stdout",
     "output_type": "stream",
     "text": [
      "Similarity between the words dirty and clean: 0.249\n"
     ]
    },
    {
     "data": {
      "application/javascript": "\n            setTimeout(function() {\n                var nbb_cell_id = 23;\n                var nbb_unformatted_code = \"# similarity between two unrelated words\\nprint(f'Similarity between the words dirty and clean: {model.wv.similarity(w1=\\\"dirty\\\",w2=\\\"clean\\\"):0.3}')\";\n                var nbb_formatted_code = \"# similarity between two unrelated words\\nprint(\\n    f'Similarity between the words dirty and clean: {model.wv.similarity(w1=\\\"dirty\\\",w2=\\\"clean\\\"):0.3}'\\n)\";\n                var nbb_cells = Jupyter.notebook.get_cells();\n                for (var i = 0; i < nbb_cells.length; ++i) {\n                    if (nbb_cells[i].input_prompt_number == nbb_cell_id) {\n                        if (nbb_cells[i].get_text() == nbb_unformatted_code) {\n                             nbb_cells[i].set_text(nbb_formatted_code);\n                        }\n                        break;\n                    }\n                }\n            }, 500);\n            ",
      "text/plain": [
       "<IPython.core.display.Javascript object>"
      ]
     },
     "metadata": {},
     "output_type": "display_data"
    }
   ],
   "source": [
    "# similarity between two unrelated words\n",
    "print(f'Similarity between the words dirty and clean: {model.wv.similarity(w1=\"dirty\",w2=\"clean\"):0.3}')"
   ]
  },
  {
   "cell_type": "code",
   "execution_count": 24,
   "metadata": {
    "colab": {
     "base_uri": "https://localhost:8080/",
     "height": 122
    },
    "colab_type": "code",
    "executionInfo": {
     "elapsed": 1301769,
     "status": "ok",
     "timestamp": 1585117062686,
     "user": {
      "displayName": "Tyler Bikaun",
      "photoUrl": "",
      "userId": "18384825377619195869"
     },
     "user_tz": -480
    },
    "id": "3PAyBhoEnR3z",
    "outputId": "6da594e8-ee85-4a08-ae28-772317c1f044"
   },
   "outputs": [
    {
     "name": "stdout",
     "output_type": "stream",
     "text": [
      "Which words doesnt belong in the set ['cat', 'dog', 'france']? Odd one out: france\n"
     ]
    },
    {
     "data": {
      "application/javascript": "\n            setTimeout(function() {\n                var nbb_cell_id = 24;\n                var nbb_unformatted_code = \"# Which one is the odd one out in this list?\\nodd_one_out_list_1 = [\\\"cat\\\", \\\"dog\\\", \\\"france\\\"]\\nprint(f'Which words doesnt belong in the set {odd_one_out_list_1}? Odd one out: {model.wv.doesnt_match(odd_one_out_list_1)}')\";\n                var nbb_formatted_code = \"# Which one is the odd one out in this list?\\nodd_one_out_list_1 = [\\\"cat\\\", \\\"dog\\\", \\\"france\\\"]\\nprint(\\n    f\\\"Which words doesnt belong in the set {odd_one_out_list_1}? Odd one out: {model.wv.doesnt_match(odd_one_out_list_1)}\\\"\\n)\";\n                var nbb_cells = Jupyter.notebook.get_cells();\n                for (var i = 0; i < nbb_cells.length; ++i) {\n                    if (nbb_cells[i].input_prompt_number == nbb_cell_id) {\n                        if (nbb_cells[i].get_text() == nbb_unformatted_code) {\n                             nbb_cells[i].set_text(nbb_formatted_code);\n                        }\n                        break;\n                    }\n                }\n            }, 500);\n            ",
      "text/plain": [
       "<IPython.core.display.Javascript object>"
      ]
     },
     "metadata": {},
     "output_type": "display_data"
    }
   ],
   "source": [
    "# Which one is the odd one out in this list?\n",
    "odd_one_out_list_1 = [\"cat\", \"dog\", \"france\"]\n",
    "print(f'Which words doesnt belong in the set {odd_one_out_list_1}? Odd one out: {model.wv.doesnt_match(odd_one_out_list_1)}')"
   ]
  },
  {
   "cell_type": "code",
   "execution_count": 25,
   "metadata": {
    "colab": {
     "base_uri": "https://localhost:8080/",
     "height": 122
    },
    "colab_type": "code",
    "executionInfo": {
     "elapsed": 1301758,
     "status": "ok",
     "timestamp": 1585117062686,
     "user": {
      "displayName": "Tyler Bikaun",
      "photoUrl": "",
      "userId": "18384825377619195869"
     },
     "user_tz": -480
    },
    "id": "veE4VDR_nR33",
    "outputId": "9ba6787f-0c32-4f72-f18a-1fef0789c9a2"
   },
   "outputs": [
    {
     "name": "stdout",
     "output_type": "stream",
     "text": [
      "Which words doesnt belong in the set ['bed', 'pillow', 'duvet', 'shower']? Odd one out: shower\n"
     ]
    },
    {
     "data": {
      "application/javascript": "\n            setTimeout(function() {\n                var nbb_cell_id = 25;\n                var nbb_unformatted_code = \"# Which one is the odd one out in this list?\\nodd_one_out_list_2 = [\\\"bed\\\",\\\"pillow\\\",\\\"duvet\\\",\\\"shower\\\"]\\nprint(f'Which words doesnt belong in the set {odd_one_out_list_2}? Odd one out: {model.wv.doesnt_match(odd_one_out_list_2)}')\";\n                var nbb_formatted_code = \"# Which one is the odd one out in this list?\\nodd_one_out_list_2 = [\\\"bed\\\", \\\"pillow\\\", \\\"duvet\\\", \\\"shower\\\"]\\nprint(\\n    f\\\"Which words doesnt belong in the set {odd_one_out_list_2}? Odd one out: {model.wv.doesnt_match(odd_one_out_list_2)}\\\"\\n)\";\n                var nbb_cells = Jupyter.notebook.get_cells();\n                for (var i = 0; i < nbb_cells.length; ++i) {\n                    if (nbb_cells[i].input_prompt_number == nbb_cell_id) {\n                        if (nbb_cells[i].get_text() == nbb_unformatted_code) {\n                             nbb_cells[i].set_text(nbb_formatted_code);\n                        }\n                        break;\n                    }\n                }\n            }, 500);\n            ",
      "text/plain": [
       "<IPython.core.display.Javascript object>"
      ]
     },
     "metadata": {},
     "output_type": "display_data"
    }
   ],
   "source": [
    "# Which one is the odd one out in this list?\n",
    "odd_one_out_list_2 = [\"bed\",\"pillow\",\"duvet\",\"shower\"]\n",
    "print(f'Which words doesnt belong in the set {odd_one_out_list_2}? Odd one out: {model.wv.doesnt_match(odd_one_out_list_2)}')"
   ]
  },
  {
   "cell_type": "markdown",
   "metadata": {
    "colab_type": "text",
    "id": "oJ0FBQUrnR38"
   },
   "source": [
    "## Visualising the word vectors in 2D space\n",
    "\n",
    "Here we use a dimensionality reduction and visualisation package from Scikit-Learn, t-Distributed Stochastic Neighbor Embedding (t-SNE), which is particularly suited for visualising high dimensional data. Another popular options for dimensionality reduction is Principal Component Analysis (PCA).\n",
    "\n",
    "Note: the dimension of our word vectors by choice is 150, typical numbers could be 50, 100, and 300. Among these numbers, a dimension of 300 has been shown as most effective in capturing the syntatic and semantic information of a word. However, it will take much longer to train. "
   ]
  },
  {
   "cell_type": "code",
   "execution_count": 26,
   "metadata": {
    "colab": {},
    "colab_type": "code",
    "id": "2NQbN-AynR4B"
   },
   "outputs": [
    {
     "data": {
      "application/javascript": "\n            setTimeout(function() {\n                var nbb_cell_id = 26;\n                var nbb_unformatted_code = \"def display_closestwords_tsnescatterplot(model, word):\\n    arr = np.empty((0,150), dtype='f')\\n    word_labels = [word]\\n\\n    # get close words\\n    close_words = model.similar_by_word(word)\\n    \\n    # add the vector for each of the closest words to the array\\n    arr = np.append(arr, np.array([model[word]]), axis=0)\\n    for wrd_score in close_words:\\n        wrd_vector = model[wrd_score[0]]\\n        word_labels.append(wrd_score[0])\\n        arr = np.append(arr, np.array([wrd_vector]), axis=0)\\n    \\n    # find tsne coords for 2 dimensions\\n    tsne = TSNE(n_components=2, random_state=0, perplexity=30 if len(arr) > 30 else len(arr)-1)\\n    np.set_printoptions(suppress=True)\\n    Y = tsne.fit_transform(arr)\\n\\n    x_coords = Y[:, 0]\\n    y_coords = Y[:, 1]\\n    # display scatter plot\\n    plt.scatter(x_coords, y_coords)\\n\\n    for label, x, y in zip(word_labels, x_coords, y_coords):\\n        plt.annotate(label, xy=(x, y), xytext=(0, 0), textcoords='offset points')\\n    plt.xlim(x_coords.min()+0.00005, x_coords.max()+0.00005)\\n    plt.ylim(y_coords.min()+0.00005, y_coords.max()+0.00005)\\n    plt.title(f'Words closest to: {word}')\\n    plt.show()\";\n                var nbb_formatted_code = \"def display_closestwords_tsnescatterplot(model, word):\\n    arr = np.empty((0, 150), dtype=\\\"f\\\")\\n    word_labels = [word]\\n\\n    # get close words\\n    close_words = model.similar_by_word(word)\\n\\n    # add the vector for each of the closest words to the array\\n    arr = np.append(arr, np.array([model[word]]), axis=0)\\n    for wrd_score in close_words:\\n        wrd_vector = model[wrd_score[0]]\\n        word_labels.append(wrd_score[0])\\n        arr = np.append(arr, np.array([wrd_vector]), axis=0)\\n\\n    # find tsne coords for 2 dimensions\\n    tsne = TSNE(\\n        n_components=2, random_state=0, perplexity=30 if len(arr) > 30 else len(arr) - 1\\n    )\\n    np.set_printoptions(suppress=True)\\n    Y = tsne.fit_transform(arr)\\n\\n    x_coords = Y[:, 0]\\n    y_coords = Y[:, 1]\\n    # display scatter plot\\n    plt.scatter(x_coords, y_coords)\\n\\n    for label, x, y in zip(word_labels, x_coords, y_coords):\\n        plt.annotate(label, xy=(x, y), xytext=(0, 0), textcoords=\\\"offset points\\\")\\n    plt.xlim(x_coords.min() + 0.00005, x_coords.max() + 0.00005)\\n    plt.ylim(y_coords.min() + 0.00005, y_coords.max() + 0.00005)\\n    plt.title(f\\\"Words closest to: {word}\\\")\\n    plt.show()\";\n                var nbb_cells = Jupyter.notebook.get_cells();\n                for (var i = 0; i < nbb_cells.length; ++i) {\n                    if (nbb_cells[i].input_prompt_number == nbb_cell_id) {\n                        if (nbb_cells[i].get_text() == nbb_unformatted_code) {\n                             nbb_cells[i].set_text(nbb_formatted_code);\n                        }\n                        break;\n                    }\n                }\n            }, 500);\n            ",
      "text/plain": [
       "<IPython.core.display.Javascript object>"
      ]
     },
     "metadata": {},
     "output_type": "display_data"
    }
   ],
   "source": [
    "def display_closestwords_tsnescatterplot(model, word):\n",
    "    arr = np.empty((0,150), dtype='f')\n",
    "    word_labels = [word]\n",
    "\n",
    "    # get close words\n",
    "    close_words = model.similar_by_word(word)\n",
    "    \n",
    "    # add the vector for each of the closest words to the array\n",
    "    arr = np.append(arr, np.array([model[word]]), axis=0)\n",
    "    for wrd_score in close_words:\n",
    "        wrd_vector = model[wrd_score[0]]\n",
    "        word_labels.append(wrd_score[0])\n",
    "        arr = np.append(arr, np.array([wrd_vector]), axis=0)\n",
    "    \n",
    "    # find tsne coords for 2 dimensions\n",
    "    tsne = TSNE(n_components=2, random_state=0, perplexity=30 if len(arr) > 30 else len(arr)-1)\n",
    "    np.set_printoptions(suppress=True)\n",
    "    Y = tsne.fit_transform(arr)\n",
    "\n",
    "    x_coords = Y[:, 0]\n",
    "    y_coords = Y[:, 1]\n",
    "    # display scatter plot\n",
    "    plt.scatter(x_coords, y_coords)\n",
    "\n",
    "    for label, x, y in zip(word_labels, x_coords, y_coords):\n",
    "        plt.annotate(label, xy=(x, y), xytext=(0, 0), textcoords='offset points')\n",
    "    plt.xlim(x_coords.min()+0.00005, x_coords.max()+0.00005)\n",
    "    plt.ylim(y_coords.min()+0.00005, y_coords.max()+0.00005)\n",
    "    plt.title(f'Words closest to: {word}')\n",
    "    plt.show()"
   ]
  },
  {
   "cell_type": "markdown",
   "metadata": {
    "colab_type": "text",
    "id": "eIHec5Phx4Ll"
   },
   "source": [
    "### Visualising closest words in 2D"
   ]
  },
  {
   "cell_type": "code",
   "execution_count": 27,
   "metadata": {
    "colab": {
     "base_uri": "https://localhost:8080/",
     "height": 617
    },
    "colab_type": "code",
    "executionInfo": {
     "elapsed": 1302471,
     "status": "ok",
     "timestamp": 1585117064024,
     "user": {
      "displayName": "Tyler Bikaun",
      "photoUrl": "",
      "userId": "18384825377619195869"
     },
     "user_tz": -480
    },
    "id": "YyKBFzzVnR4E",
    "outputId": "77fc97fe-e27b-4509-99f8-849cbd6af4b3"
   },
   "outputs": [
    {
     "name": "stderr",
     "output_type": "stream",
     "text": [
      "c:\\Users\\Tyler\\AppData\\Local\\Programs\\Python\\Python38\\lib\\site-packages\\sklearn\\manifold\\_t_sne.py:800: FutureWarning: The default initialization in TSNE will change from 'random' to 'pca' in 1.2.\n",
      "  warnings.warn(\n",
      "c:\\Users\\Tyler\\AppData\\Local\\Programs\\Python\\Python38\\lib\\site-packages\\sklearn\\manifold\\_t_sne.py:810: FutureWarning: The default learning rate in TSNE will change from 200.0 to 'auto' in 1.2.\n",
      "  warnings.warn(\n"
     ]
    },
    {
     "data": {
      "image/png": "[encoded data removed]",
      "text/plain": [
       "<Figure size 864x432 with 1 Axes>"
      ]
     },
     "metadata": {
      "needs_background": "light"
     },
     "output_type": "display_data"
    },
    {
     "data": {
      "application/javascript": "\n            setTimeout(function() {\n                var nbb_cell_id = 27;\n                var nbb_unformatted_code = \"display_closestwords_tsnescatterplot(model.wv, \\\"beer\\\")\";\n                var nbb_formatted_code = \"display_closestwords_tsnescatterplot(model.wv, \\\"beer\\\")\";\n                var nbb_cells = Jupyter.notebook.get_cells();\n                for (var i = 0; i < nbb_cells.length; ++i) {\n                    if (nbb_cells[i].input_prompt_number == nbb_cell_id) {\n                        if (nbb_cells[i].get_text() == nbb_unformatted_code) {\n                             nbb_cells[i].set_text(nbb_formatted_code);\n                        }\n                        break;\n                    }\n                }\n            }, 500);\n            ",
      "text/plain": [
       "<IPython.core.display.Javascript object>"
      ]
     },
     "metadata": {},
     "output_type": "display_data"
    }
   ],
   "source": [
    "display_closestwords_tsnescatterplot(model.wv, \"beer\")"
   ]
  },
  {
   "cell_type": "markdown",
   "metadata": {
    "colab_type": "text",
    "id": "R9nDZAdKy_B1"
   },
   "source": [
    "## ⚙️ Learning Domain-Specific Word Embeddings <a name=\"domain-specific_word_vectors\"></a>"
   ]
  },
  {
   "cell_type": "markdown",
   "metadata": {},
   "source": [
    "Word embeddings are interesting and thought provoking but\n",
    "- What insights can we gain from them?\n",
    "- How do we apply them to industry data?\n",
    "\n",
    "This section of the notebook will explore word embeddings and their application to geological survey data (GSWA)."
   ]
  },
  {
   "cell_type": "markdown",
   "metadata": {
    "colab_type": "text",
    "id": "_5MWs23uzPUP"
   },
   "source": [
    "### Loading a small sample of Geological Survey of Western Australia (GSWA) data"
   ]
  },
  {
   "cell_type": "code",
   "execution_count": 28,
   "metadata": {
    "colab": {},
    "colab_type": "code",
    "id": "cn-cuSk40cjo"
   },
   "outputs": [
    {
     "data": {
      "application/javascript": "\n            setTimeout(function() {\n                var nbb_cell_id = 28;\n                var nbb_unformatted_code = \"gswa_corpus_file=\\\"../data/wamex_xml.zip\\\"\";\n                var nbb_formatted_code = \"gswa_corpus_file = \\\"../data/wamex_xml.zip\\\"\";\n                var nbb_cells = Jupyter.notebook.get_cells();\n                for (var i = 0; i < nbb_cells.length; ++i) {\n                    if (nbb_cells[i].input_prompt_number == nbb_cell_id) {\n                        if (nbb_cells[i].get_text() == nbb_unformatted_code) {\n                             nbb_cells[i].set_text(nbb_formatted_code);\n                        }\n                        break;\n                    }\n                }\n            }, 500);\n            ",
      "text/plain": [
       "<IPython.core.display.Javascript object>"
      ]
     },
     "metadata": {},
     "output_type": "display_data"
    }
   ],
   "source": [
    "gswa_corpus_file=\"../data/wamex_xml.zip\""
   ]
  },
  {
   "cell_type": "code",
   "execution_count": 29,
   "metadata": {
    "colab": {
     "base_uri": "https://localhost:8080/",
     "height": 34
    },
    "colab_type": "code",
    "executionInfo": {
     "elapsed": 2721,
     "status": "ok",
     "timestamp": 1585118724590,
     "user": {
      "displayName": "Tyler Bikaun",
      "photoUrl": "",
      "userId": "18384825377619195869"
     },
     "user_tz": -480
    },
    "id": "S2zNT1qWzPMt",
    "outputId": "26a9d507-1663-4e9e-d59f-7cecd158a83c"
   },
   "outputs": [
    {
     "data": {
      "application/javascript": "\n            setTimeout(function() {\n                var nbb_cell_id = 29;\n                var nbb_unformatted_code = \"gswa_corpus = list()\\nwith zipfile.ZipFile(gswa_corpus_file, \\\"r\\\") as z:\\n    for filename in z.namelist():\\n        with z.open(filename) as f:\\n            # load the json file\\n            # The resulting `content` is a list\\n            content = json.loads(f.read()) \\n            # Convert content to a string   \\n            content = \\\"\\\".join(content)\\n            # Add to the data list\\n            gswa_corpus.append(content)\";\n                var nbb_formatted_code = \"gswa_corpus = list()\\nwith zipfile.ZipFile(gswa_corpus_file, \\\"r\\\") as z:\\n    for filename in z.namelist():\\n        with z.open(filename) as f:\\n            # load the json file\\n            # The resulting `content` is a list\\n            content = json.loads(f.read())\\n            # Convert content to a string\\n            content = \\\"\\\".join(content)\\n            # Add to the data list\\n            gswa_corpus.append(content)\";\n                var nbb_cells = Jupyter.notebook.get_cells();\n                for (var i = 0; i < nbb_cells.length; ++i) {\n                    if (nbb_cells[i].input_prompt_number == nbb_cell_id) {\n                        if (nbb_cells[i].get_text() == nbb_unformatted_code) {\n                             nbb_cells[i].set_text(nbb_formatted_code);\n                        }\n                        break;\n                    }\n                }\n            }, 500);\n            ",
      "text/plain": [
       "<IPython.core.display.Javascript object>"
      ]
     },
     "metadata": {},
     "output_type": "display_data"
    }
   ],
   "source": [
    "gswa_corpus = list()\n",
    "with zipfile.ZipFile(gswa_corpus_file, \"r\") as z:\n",
    "    for filename in z.namelist():\n",
    "        with z.open(filename) as f:\n",
    "            # load the json file\n",
    "            # The resulting `content` is a list\n",
    "            content = json.loads(f.read()) \n",
    "            # Convert content to a string   \n",
    "            content = \"\".join(content)\n",
    "            # Add to the data list\n",
    "            gswa_corpus.append(content)"
   ]
  },
  {
   "cell_type": "markdown",
   "metadata": {},
   "source": [
    "By previewing the data that we have loaded, we can easily see that it is very different to the hotel reviews dataset."
   ]
  },
  {
   "cell_type": "code",
   "execution_count": 30,
   "metadata": {
    "colab": {
     "base_uri": "https://localhost:8080/",
     "height": 34
    },
    "colab_type": "code",
    "executionInfo": {
     "elapsed": 2399,
     "status": "ok",
     "timestamp": 1585118724592,
     "user": {
      "displayName": "Tyler Bikaun",
      "photoUrl": "",
      "userId": "18384825377619195869"
     },
     "user_tz": -480
    },
    "id": "Cph4A7YQzPKA",
    "outputId": "22330ef8-001b-4a61-b4a8-7df00695e3e8"
   },
   "outputs": [
    {
     "name": "stdout",
     "output_type": "stream",
     "text": [
      "Combined Reporting Application Pending Status: Sheet 1:250 000: Kalgoorlie (SH 51-09) Sheet 1:100 000: Kalgoorlie (3136) Project Operator: Cazaly Resources Limited Author: M Watts Date: September 2006 Distribution: 1.Department of Industry and Resources 2.Cazaly Resources Limited Cazaly Resources Limited September 2006 2 Figure 2: Castle Hill Project Tenement Location Plan, 1: 75 000 scale 6 Figure 3: Regional Geology with Exploration Index Map, 1:75 000 scale 8Cazaly Resources Limited September\n"
     ]
    },
    {
     "data": {
      "application/javascript": "\n            setTimeout(function() {\n                var nbb_cell_id = 30;\n                var nbb_unformatted_code = \"print(gswa_corpus[0][:500])\";\n                var nbb_formatted_code = \"print(gswa_corpus[0][:500])\";\n                var nbb_cells = Jupyter.notebook.get_cells();\n                for (var i = 0; i < nbb_cells.length; ++i) {\n                    if (nbb_cells[i].input_prompt_number == nbb_cell_id) {\n                        if (nbb_cells[i].get_text() == nbb_unformatted_code) {\n                             nbb_cells[i].set_text(nbb_formatted_code);\n                        }\n                        break;\n                    }\n                }\n            }, 500);\n            ",
      "text/plain": [
       "<IPython.core.display.Javascript object>"
      ]
     },
     "metadata": {},
     "output_type": "display_data"
    }
   ],
   "source": [
    "print(gswa_corpus[0][:500])"
   ]
  },
  {
   "cell_type": "code",
   "execution_count": 31,
   "metadata": {
    "colab": {},
    "colab_type": "code",
    "id": "RE0Yjy_gzPHe"
   },
   "outputs": [
    {
     "data": {
      "application/javascript": "\n            setTimeout(function() {\n                var nbb_cell_id = 31;\n                var nbb_unformatted_code = \"def read_input(input_file):\\n    \\\"\\\"\\\"This method reads the input file which is in zip format\\\"\\\"\\\"\\n    \\n    logging.info(\\\"reading file {0}...this may take a while\\\".format(input_file))\\n\\n    data = list()\\n    with zipfile.ZipFile(input_file, \\\"r\\\") as z:\\n    #df = [pd.read_json(filename) for filename in z.namelist()]\\n        print(len(z.namelist()))\\n        for i, filename in enumerate(z.namelist()):\\n            # print(filename)\\n            # df = pd.read_json(filename)\\n            if (i%100==0):\\n                logging.info (\\\"read {0} reports\\\".format (i))\\n            with z.open(filename) as f:\\n                # load the json file\\n                # The resulting `content` is a list\\n                content = json.loads(f.read()) \\n                # Convert content to a string   \\n                content = \\\"\\\".join(content)\\n                if len(content) >= 10:\\n                    # Add to the data list\\n                    yield gensim.utils.simple_preprocess (content)\\n                else:\\n                    logging.info(\\\"removed {0} because of small size\\\".format (filename))\";\n                var nbb_formatted_code = \"def read_input(input_file):\\n    \\\"\\\"\\\"This method reads the input file which is in zip format\\\"\\\"\\\"\\n\\n    logging.info(\\\"reading file {0}...this may take a while\\\".format(input_file))\\n\\n    data = list()\\n    with zipfile.ZipFile(input_file, \\\"r\\\") as z:\\n        # df = [pd.read_json(filename) for filename in z.namelist()]\\n        print(len(z.namelist()))\\n        for i, filename in enumerate(z.namelist()):\\n            # print(filename)\\n            # df = pd.read_json(filename)\\n            if i % 100 == 0:\\n                logging.info(\\\"read {0} reports\\\".format(i))\\n            with z.open(filename) as f:\\n                # load the json file\\n                # The resulting `content` is a list\\n                content = json.loads(f.read())\\n                # Convert content to a string\\n                content = \\\"\\\".join(content)\\n                if len(content) >= 10:\\n                    # Add to the data list\\n                    yield gensim.utils.simple_preprocess(content)\\n                else:\\n                    logging.info(\\\"removed {0} because of small size\\\".format(filename))\";\n                var nbb_cells = Jupyter.notebook.get_cells();\n                for (var i = 0; i < nbb_cells.length; ++i) {\n                    if (nbb_cells[i].input_prompt_number == nbb_cell_id) {\n                        if (nbb_cells[i].get_text() == nbb_unformatted_code) {\n                             nbb_cells[i].set_text(nbb_formatted_code);\n                        }\n                        break;\n                    }\n                }\n            }, 500);\n            ",
      "text/plain": [
       "<IPython.core.display.Javascript object>"
      ]
     },
     "metadata": {},
     "output_type": "display_data"
    }
   ],
   "source": [
    "def read_input(input_file):\n",
    "    \"\"\"This method reads the input file which is in zip format\"\"\"\n",
    "    \n",
    "    logging.info(\"reading file {0}...this may take a while\".format(input_file))\n",
    "\n",
    "    data = list()\n",
    "    with zipfile.ZipFile(input_file, \"r\") as z:\n",
    "    #df = [pd.read_json(filename) for filename in z.namelist()]\n",
    "        print(len(z.namelist()))\n",
    "        for i, filename in enumerate(z.namelist()):\n",
    "            # print(filename)\n",
    "            # df = pd.read_json(filename)\n",
    "            if (i%100==0):\n",
    "                logging.info (\"read {0} reports\".format (i))\n",
    "            with z.open(filename) as f:\n",
    "                # load the json file\n",
    "                # The resulting `content` is a list\n",
    "                content = json.loads(f.read()) \n",
    "                # Convert content to a string   \n",
    "                content = \"\".join(content)\n",
    "                if len(content) >= 10:\n",
    "                    # Add to the data list\n",
    "                    yield gensim.utils.simple_preprocess (content)\n",
    "                else:\n",
    "                    logging.info(\"removed {0} because of small size\".format (filename))"
   ]
  },
  {
   "cell_type": "markdown",
   "metadata": {},
   "source": [
    "Here we'll perform basic pre-processing of the geological surveys using Gensim's `simple_preprocess` function. A result of this is a corpus of tokenized and cased documents."
   ]
  },
  {
   "cell_type": "code",
   "execution_count": 32,
   "metadata": {},
   "outputs": [
    {
     "data": {
      "application/javascript": "\n            setTimeout(function() {\n                var nbb_cell_id = 32;\n                var nbb_unformatted_code = \"processed_gswa_corpus = [gensim.utils.simple_preprocess(doc) for doc in gswa_corpus]\";\n                var nbb_formatted_code = \"processed_gswa_corpus = [gensim.utils.simple_preprocess(doc) for doc in gswa_corpus]\";\n                var nbb_cells = Jupyter.notebook.get_cells();\n                for (var i = 0; i < nbb_cells.length; ++i) {\n                    if (nbb_cells[i].input_prompt_number == nbb_cell_id) {\n                        if (nbb_cells[i].get_text() == nbb_unformatted_code) {\n                             nbb_cells[i].set_text(nbb_formatted_code);\n                        }\n                        break;\n                    }\n                }\n            }, 500);\n            ",
      "text/plain": [
       "<IPython.core.display.Javascript object>"
      ]
     },
     "metadata": {},
     "output_type": "display_data"
    }
   ],
   "source": [
    "processed_gswa_corpus = [gensim.utils.simple_preprocess(doc) for doc in gswa_corpus]"
   ]
  },
  {
   "cell_type": "code",
   "execution_count": 33,
   "metadata": {
    "colab": {
     "base_uri": "https://localhost:8080/",
     "height": 34
    },
    "colab_type": "code",
    "executionInfo": {
     "elapsed": 9324,
     "status": "ok",
     "timestamp": 1585118732101,
     "user": {
      "displayName": "Tyler Bikaun",
      "photoUrl": "",
      "userId": "18384825377619195869"
     },
     "user_tz": -480
    },
    "id": "ok-NJAsoyBEr",
    "outputId": "1a98cad1-cc07-439b-8303-57750559aa1d"
   },
   "outputs": [
    {
     "name": "stdout",
     "output_type": "stream",
     "text": [
      "['combined', 'reporting', 'application', 'pending', 'status', 'sheet', 'kalgoorlie', 'sh', 'sheet', 'kalgoorlie', 'project', 'operator', 'cazaly', 'resources', 'limited', 'author', 'watts', 'date', 'september', 'distribution', 'department', 'of', 'industry', 'and', 'resources']\n"
     ]
    },
    {
     "data": {
      "application/javascript": "\n            setTimeout(function() {\n                var nbb_cell_id = 33;\n                var nbb_unformatted_code = \"# Review the first documents top 25 words. See how they have been pre-processed and tokenized.\\nprint(processed_gswa_corpus[0][:25])\";\n                var nbb_formatted_code = \"# Review the first documents top 25 words. See how they have been pre-processed and tokenized.\\nprint(processed_gswa_corpus[0][:25])\";\n                var nbb_cells = Jupyter.notebook.get_cells();\n                for (var i = 0; i < nbb_cells.length; ++i) {\n                    if (nbb_cells[i].input_prompt_number == nbb_cell_id) {\n                        if (nbb_cells[i].get_text() == nbb_unformatted_code) {\n                             nbb_cells[i].set_text(nbb_formatted_code);\n                        }\n                        break;\n                    }\n                }\n            }, 500);\n            ",
      "text/plain": [
       "<IPython.core.display.Javascript object>"
      ]
     },
     "metadata": {},
     "output_type": "display_data"
    }
   ],
   "source": [
    "# Review the first documents top 25 words. See how they have been pre-processed and tokenized.\n",
    "print(processed_gswa_corpus[0][:25])"
   ]
  },
  {
   "cell_type": "markdown",
   "metadata": {
    "colab_type": "text",
    "id": "yOHp-kJ01Tt2"
   },
   "source": [
    "### Training word embedding model off of domain-specific text.\n",
    "\n",
    "Note: we are required to use bigrams to aid our model due to domain-specific terms."
   ]
  },
  {
   "cell_type": "markdown",
   "metadata": {},
   "source": [
    "📣 Similarly to the common corpora embeddings, we'll load pretrained vectors instead of training. However, if you want to investigate the impacts of hyperparameters on embedding representations, feel free to uncomment the code below."
   ]
  },
  {
   "cell_type": "code",
   "execution_count": 34,
   "metadata": {},
   "outputs": [
    {
     "data": {
      "application/javascript": "\n            setTimeout(function() {\n                var nbb_cell_id = 34;\n                var nbb_unformatted_code = \"gswa_modelpath = Path('../data/word2vec_gswa.bin').resolve()\";\n                var nbb_formatted_code = \"gswa_modelpath = Path(\\\"../data/word2vec_gswa.bin\\\").resolve()\";\n                var nbb_cells = Jupyter.notebook.get_cells();\n                for (var i = 0; i < nbb_cells.length; ++i) {\n                    if (nbb_cells[i].input_prompt_number == nbb_cell_id) {\n                        if (nbb_cells[i].get_text() == nbb_unformatted_code) {\n                             nbb_cells[i].set_text(nbb_formatted_code);\n                        }\n                        break;\n                    }\n                }\n            }, 500);\n            ",
      "text/plain": [
       "<IPython.core.display.Javascript object>"
      ]
     },
     "metadata": {},
     "output_type": "display_data"
    }
   ],
   "source": [
    "gswa_modelpath = Path('../data/word2vec_gswa.bin').resolve()"
   ]
  },
  {
   "cell_type": "code",
   "execution_count": 35,
   "metadata": {},
   "outputs": [
    {
     "data": {
      "application/javascript": "\n            setTimeout(function() {\n                var nbb_cell_id = 35;\n                var nbb_unformatted_code = \"gswa_model = gensim.models.Word2Vec.load(str(gswa_modelpath))\";\n                var nbb_formatted_code = \"gswa_model = gensim.models.Word2Vec.load(str(gswa_modelpath))\";\n                var nbb_cells = Jupyter.notebook.get_cells();\n                for (var i = 0; i < nbb_cells.length; ++i) {\n                    if (nbb_cells[i].input_prompt_number == nbb_cell_id) {\n                        if (nbb_cells[i].get_text() == nbb_unformatted_code) {\n                             nbb_cells[i].set_text(nbb_formatted_code);\n                        }\n                        break;\n                    }\n                }\n            }, 500);\n            ",
      "text/plain": [
       "<IPython.core.display.Javascript object>"
      ]
     },
     "metadata": {},
     "output_type": "display_data"
    }
   ],
   "source": [
    "gswa_model = gensim.models.Word2Vec.load(str(gswa_modelpath))"
   ]
  },
  {
   "cell_type": "markdown",
   "metadata": {},
   "source": [
    "⚠️Training the domain-specific embeddings will take 30-60 minutes."
   ]
  },
  {
   "cell_type": "code",
   "execution_count": 36,
   "metadata": {},
   "outputs": [
    {
     "data": {
      "application/javascript": "\n            setTimeout(function() {\n                var nbb_cell_id = 36;\n                var nbb_unformatted_code = \"# Build phrases and bigrams to train our word2vec model on\\n# phrases = gensim.models.Phrases(processed_gswa_corpus, min_count=1, threshold=1)\\n# bigrams = gensim.models.phrases.Phraser(phrases)\";\n                var nbb_formatted_code = \"# Build phrases and bigrams to train our word2vec model on\\n# phrases = gensim.models.Phrases(processed_gswa_corpus, min_count=1, threshold=1)\\n# bigrams = gensim.models.phrases.Phraser(phrases)\";\n                var nbb_cells = Jupyter.notebook.get_cells();\n                for (var i = 0; i < nbb_cells.length; ++i) {\n                    if (nbb_cells[i].input_prompt_number == nbb_cell_id) {\n                        if (nbb_cells[i].get_text() == nbb_unformatted_code) {\n                             nbb_cells[i].set_text(nbb_formatted_code);\n                        }\n                        break;\n                    }\n                }\n            }, 500);\n            ",
      "text/plain": [
       "<IPython.core.display.Javascript object>"
      ]
     },
     "metadata": {},
     "output_type": "display_data"
    }
   ],
   "source": [
    "# Build phrases and bigrams to train our word2vec model on\n",
    "# phrases = gensim.models.Phrases(processed_gswa_corpus, min_count=1, threshold=1)\n",
    "# bigrams = gensim.models.phrases.Phraser(phrases)"
   ]
  },
  {
   "cell_type": "code",
   "execution_count": 37,
   "metadata": {
    "colab": {
     "base_uri": "https://localhost:8080/",
     "height": 1000
    },
    "colab_type": "code",
    "executionInfo": {
     "elapsed": 183770,
     "status": "ok",
     "timestamp": 1585118907018,
     "user": {
      "displayName": "Tyler Bikaun",
      "photoUrl": "",
      "userId": "18384825377619195869"
     },
     "user_tz": -480
    },
    "id": "OjXRu31I0-HS",
    "outputId": "50d20d02-f3c5-40cc-e05d-d3c0f121b05a"
   },
   "outputs": [
    {
     "data": {
      "application/javascript": "\n            setTimeout(function() {\n                var nbb_cell_id = 37;\n                var nbb_unformatted_code = \"# Note: we're referring to the model as gswa. This allows us\\n# to make a contrast between the pretrained word embeddings and the domain-specific ones. \\n# gswa_model = gensim.models.Word2Vec(bigrams[processed_gswa_corpus], vector_size=50, window=10, min_count=2, workers=12, epochs=10)\";\n                var nbb_formatted_code = \"# Note: we're referring to the model as gswa. This allows us\\n# to make a contrast between the pretrained word embeddings and the domain-specific ones.\\n# gswa_model = gensim.models.Word2Vec(bigrams[processed_gswa_corpus], vector_size=50, window=10, min_count=2, workers=12, epochs=10)\";\n                var nbb_cells = Jupyter.notebook.get_cells();\n                for (var i = 0; i < nbb_cells.length; ++i) {\n                    if (nbb_cells[i].input_prompt_number == nbb_cell_id) {\n                        if (nbb_cells[i].get_text() == nbb_unformatted_code) {\n                             nbb_cells[i].set_text(nbb_formatted_code);\n                        }\n                        break;\n                    }\n                }\n            }, 500);\n            ",
      "text/plain": [
       "<IPython.core.display.Javascript object>"
      ]
     },
     "metadata": {},
     "output_type": "display_data"
    }
   ],
   "source": [
    "# Note: we're referring to the model as gswa. This allows us\n",
    "# to make a contrast between the pretrained word embeddings and the domain-specific ones. \n",
    "# gswa_model = gensim.models.Word2Vec(bigrams[processed_gswa_corpus], vector_size=50, window=10, min_count=2, workers=12, epochs=10)"
   ]
  },
  {
   "cell_type": "code",
   "execution_count": 38,
   "metadata": {},
   "outputs": [
    {
     "data": {
      "application/javascript": "\n            setTimeout(function() {\n                var nbb_cell_id = 38;\n                var nbb_unformatted_code = \"# gswa_model.save(\\\"../data/word2vec_gswa.bin\\\")\";\n                var nbb_formatted_code = \"# gswa_model.save(\\\"../data/word2vec_gswa.bin\\\")\";\n                var nbb_cells = Jupyter.notebook.get_cells();\n                for (var i = 0; i < nbb_cells.length; ++i) {\n                    if (nbb_cells[i].input_prompt_number == nbb_cell_id) {\n                        if (nbb_cells[i].get_text() == nbb_unformatted_code) {\n                             nbb_cells[i].set_text(nbb_formatted_code);\n                        }\n                        break;\n                    }\n                }\n            }, 500);\n            ",
      "text/plain": [
       "<IPython.core.display.Javascript object>"
      ]
     },
     "metadata": {},
     "output_type": "display_data"
    }
   ],
   "source": [
    "# gswa_model.save(\"../data/word2vec_gswa.bin\")"
   ]
  },
  {
   "cell_type": "markdown",
   "metadata": {
    "colab_type": "text",
    "id": "DgB_ATFn1eFd"
   },
   "source": [
    "## Looking at domain-specific outputs"
   ]
  },
  {
   "cell_type": "code",
   "execution_count": 39,
   "metadata": {
    "colab": {
     "base_uri": "https://localhost:8080/",
     "height": 54
    },
    "colab_type": "code",
    "executionInfo": {
     "elapsed": 183387,
     "status": "ok",
     "timestamp": 1585118907019,
     "user": {
      "displayName": "Tyler Bikaun",
      "photoUrl": "",
      "userId": "18384825377619195869"
     },
     "user_tz": -480
    },
    "id": "Ocw0iSJv1jZd",
    "outputId": "838e326a-a8ff-4ecc-d46e-2a701fca2465"
   },
   "outputs": [
    {
     "name": "stdout",
     "output_type": "stream",
     "text": [
      "['the', 'and', 'of', 'to', 'of_the', 'in', 'in_the', 'with', 'for', 'by', 'is', 'at', 'area', 'as', 'from', 'on_the', 'on', 'or', 'that', 'this', 'project', 'within_the', 'are', 'drilling', 'from_the', 'figure', 'gold', 'to_be', 'data', 'project_area', 'was', 'mineralisation', 'exploration', 'has_been', 'no', 'during_the', 'all', 'have_been', 'zone', 'report', 'pty_ltd', 'results', 'au', 'it_is', 'survey', 'within', 'sampling', 'samples', 'tenements', 'western_australia', 'the_tenement', 'will_be', 'were', 'ltd', 'some', 'table', 'be', 'number_of', 'mining', 'resource', 'the_north', 'but', 'tenement', 'associated_with', 'these', 'limited', 'up_to', 'which', 'coordinates_are', 'not_surveyed', 'are_integer', 'warning_coordinates', 'below', 'poss_not', 'integer_poss', 'two', 'australia', 'over_the', 'rocks', 'part_of', 'prospect', 'holes', 'between', 'rock_chip', 'annual_report', 'the_east', 'the_south', 'samples_were', 'has', 'can_be', 'gold_mineralisation', 'using', 'the_west', 'where', 'resources', 'hole', 'over', 'due_to', 'deposit', 'areas']\n"
     ]
    },
    {
     "data": {
      "application/javascript": "\n            setTimeout(function() {\n                var nbb_cell_id = 39;\n                var nbb_unformatted_code = \"print(list(gswa_model.wv.key_to_index.keys())[:100])\";\n                var nbb_formatted_code = \"print(list(gswa_model.wv.key_to_index.keys())[:100])\";\n                var nbb_cells = Jupyter.notebook.get_cells();\n                for (var i = 0; i < nbb_cells.length; ++i) {\n                    if (nbb_cells[i].input_prompt_number == nbb_cell_id) {\n                        if (nbb_cells[i].get_text() == nbb_unformatted_code) {\n                             nbb_cells[i].set_text(nbb_formatted_code);\n                        }\n                        break;\n                    }\n                }\n            }, 500);\n            ",
      "text/plain": [
       "<IPython.core.display.Javascript object>"
      ]
     },
     "metadata": {},
     "output_type": "display_data"
    }
   ],
   "source": [
    "print(list(gswa_model.wv.key_to_index.keys())[:100])"
   ]
  },
  {
   "cell_type": "code",
   "execution_count": 40,
   "metadata": {
    "colab": {
     "base_uri": "https://localhost:8080/",
     "height": 187
    },
    "colab_type": "code",
    "executionInfo": {
     "elapsed": 183164,
     "status": "ok",
     "timestamp": 1585118907019,
     "user": {
      "displayName": "Tyler Bikaun",
      "photoUrl": "",
      "userId": "18384825377619195869"
     },
     "user_tz": -480
    },
    "id": "l0CQiK_31jXl",
    "outputId": "3e28d41b-d5f7-471d-deed-3dc925945b75"
   },
   "outputs": [
    {
     "name": "stdout",
     "output_type": "stream",
     "text": [
      "1.\tnickel                \t88.1%\n",
      "2.\tcopper                \t83.8%\n",
      "3.\tlead                  \t79.9%\n",
      "4.\tau                    \t78.5%\n",
      "5.\tdiscovered_at         \t74.9%\n",
      "6.\tworked_intermittently \t74.9%\n",
      "7.\thosts_croesus         \t73.1%\n",
      "8.\tminings_operations    \t72.2%\n",
      "9.\tvalues_ranged         \t71.8%\n",
      "10.\tbase_metals           \t71.6%\n"
     ]
    },
    {
     "data": {
      "application/javascript": "\n            setTimeout(function() {\n                var nbb_cell_id = 40;\n                var nbb_unformatted_code = \"prettify_similarities(gswa_model.wv.most_similar(['gold']))\";\n                var nbb_formatted_code = \"prettify_similarities(gswa_model.wv.most_similar([\\\"gold\\\"]))\";\n                var nbb_cells = Jupyter.notebook.get_cells();\n                for (var i = 0; i < nbb_cells.length; ++i) {\n                    if (nbb_cells[i].input_prompt_number == nbb_cell_id) {\n                        if (nbb_cells[i].get_text() == nbb_unformatted_code) {\n                             nbb_cells[i].set_text(nbb_formatted_code);\n                        }\n                        break;\n                    }\n                }\n            }, 500);\n            ",
      "text/plain": [
       "<IPython.core.display.Javascript object>"
      ]
     },
     "metadata": {},
     "output_type": "display_data"
    }
   ],
   "source": [
    "prettify_similarities(gswa_model.wv.most_similar(['gold']))"
   ]
  },
  {
   "cell_type": "code",
   "execution_count": 41,
   "metadata": {
    "colab": {
     "base_uri": "https://localhost:8080/",
     "height": 173
    },
    "colab_type": "code",
    "executionInfo": {
     "elapsed": 182749,
     "status": "ok",
     "timestamp": 1585118907020,
     "user": {
      "displayName": "Tyler Bikaun",
      "photoUrl": "",
      "userId": "18384825377619195869"
     },
     "user_tz": -480
    },
    "id": "hZajnE271jUr",
    "outputId": "6158b447-428b-4215-8db1-0007a6f42e89"
   },
   "outputs": [
    {
     "name": "stdout",
     "output_type": "stream",
     "text": [
      "1.\tsulphur         \t85.4%\n",
      "2.\tfe              \t83.5%\n",
      "3.\tsilver          \t82.3%\n",
      "4.\tco              \t82.1%\n",
      "5.\tprimary         \t81.8%\n",
      "6.\tgangue_minerals \t81.4%\n",
      "7.\thematite        \t81.3%\n",
      "8.\tcobalt          \t81.3%\n",
      "9.\toxide           \t80.6%\n",
      "10.\tphosphorous     \t80.4%\n"
     ]
    },
    {
     "data": {
      "application/javascript": "\n            setTimeout(function() {\n                var nbb_cell_id = 41;\n                var nbb_unformatted_code = \"prettify_similarities(gswa_model.wv.most_similar(['iron']))\";\n                var nbb_formatted_code = \"prettify_similarities(gswa_model.wv.most_similar([\\\"iron\\\"]))\";\n                var nbb_cells = Jupyter.notebook.get_cells();\n                for (var i = 0; i < nbb_cells.length; ++i) {\n                    if (nbb_cells[i].input_prompt_number == nbb_cell_id) {\n                        if (nbb_cells[i].get_text() == nbb_unformatted_code) {\n                             nbb_cells[i].set_text(nbb_formatted_code);\n                        }\n                        break;\n                    }\n                }\n            }, 500);\n            ",
      "text/plain": [
       "<IPython.core.display.Javascript object>"
      ]
     },
     "metadata": {},
     "output_type": "display_data"
    }
   ],
   "source": [
    "prettify_similarities(gswa_model.wv.most_similar(['iron']))"
   ]
  },
  {
   "cell_type": "code",
   "execution_count": 42,
   "metadata": {
    "colab": {
     "base_uri": "https://localhost:8080/",
     "height": 241
    },
    "colab_type": "code",
    "executionInfo": {
     "elapsed": 182505,
     "status": "ok",
     "timestamp": 1585118907020,
     "user": {
      "displayName": "Tyler Bikaun",
      "photoUrl": "",
      "userId": "18384825377619195869"
     },
     "user_tz": -480
    },
    "id": "_EhVlOOI1jRC",
    "outputId": "fb6a8fe3-5a25-4b44-f360-07720a4cd428"
   },
   "outputs": [
    {
     "name": "stdout",
     "output_type": "stream",
     "text": [
      "1.\ttonnes_grading \t89.4%\n",
      "2.\tof_million     \t88.9%\n",
      "3.\tounces         \t84.9%\n",
      "4.\toz             \t84.7%\n",
      "5.\thosts_croesus  \t84.6%\n",
      "6.\tof_tonnes      \t84.5%\n",
      "7.\toz_au          \t84.5%\n",
      "8.\tcompliant      \t82.7%\n",
      "9.\tounces_of      \t82.0%\n",
      "10.\tan_estimated   \t82.0%\n"
     ]
    },
    {
     "data": {
      "application/javascript": "\n            setTimeout(function() {\n                var nbb_cell_id = 42;\n                var nbb_unformatted_code = \"# get everything related to stuff on the commodity\\nprettify_similarities(gswa_model.wv.most_similar(positive = [\\\"gold\\\",'commodity','ore'], negative = ['rock']))\";\n                var nbb_formatted_code = \"# get everything related to stuff on the commodity\\nprettify_similarities(\\n    gswa_model.wv.most_similar(positive=[\\\"gold\\\", \\\"commodity\\\", \\\"ore\\\"], negative=[\\\"rock\\\"])\\n)\";\n                var nbb_cells = Jupyter.notebook.get_cells();\n                for (var i = 0; i < nbb_cells.length; ++i) {\n                    if (nbb_cells[i].input_prompt_number == nbb_cell_id) {\n                        if (nbb_cells[i].get_text() == nbb_unformatted_code) {\n                             nbb_cells[i].set_text(nbb_formatted_code);\n                        }\n                        break;\n                    }\n                }\n            }, 500);\n            ",
      "text/plain": [
       "<IPython.core.display.Javascript object>"
      ]
     },
     "metadata": {},
     "output_type": "display_data"
    }
   ],
   "source": [
    "# get everything related to stuff on the commodity\n",
    "prettify_similarities(gswa_model.wv.most_similar(positive = [\"gold\",'commodity','ore'], negative = ['rock']))"
   ]
  },
  {
   "cell_type": "code",
   "execution_count": 43,
   "metadata": {
    "colab": {
     "base_uri": "https://localhost:8080/",
     "height": 88
    },
    "colab_type": "code",
    "executionInfo": {
     "elapsed": 181999,
     "status": "ok",
     "timestamp": 1585118907021,
     "user": {
      "displayName": "Tyler Bikaun",
      "photoUrl": "",
      "userId": "18384825377619195869"
     },
     "user_tz": -480
    },
    "id": "4TfG_p_r1jOr",
    "outputId": "f644c164-f06e-4e66-b1ee-41f65a25cf4b"
   },
   "outputs": [
    {
     "name": "stdout",
     "output_type": "stream",
     "text": [
      "Similarity between two different words: 0.436\n"
     ]
    },
    {
     "data": {
      "application/javascript": "\n            setTimeout(function() {\n                var nbb_cell_id = 43;\n                var nbb_unformatted_code = \"# similarity between two different words\\nprint(f'Similarity between two different words: {gswa_model.wv.similarity(w1=\\\"gold\\\",w2=\\\"ore\\\"):0.3}')\";\n                var nbb_formatted_code = \"# similarity between two different words\\nprint(\\n    f'Similarity between two different words: {gswa_model.wv.similarity(w1=\\\"gold\\\",w2=\\\"ore\\\"):0.3}'\\n)\";\n                var nbb_cells = Jupyter.notebook.get_cells();\n                for (var i = 0; i < nbb_cells.length; ++i) {\n                    if (nbb_cells[i].input_prompt_number == nbb_cell_id) {\n                        if (nbb_cells[i].get_text() == nbb_unformatted_code) {\n                             nbb_cells[i].set_text(nbb_formatted_code);\n                        }\n                        break;\n                    }\n                }\n            }, 500);\n            ",
      "text/plain": [
       "<IPython.core.display.Javascript object>"
      ]
     },
     "metadata": {},
     "output_type": "display_data"
    }
   ],
   "source": [
    "# similarity between two different words\n",
    "print(f'Similarity between two different words: {gswa_model.wv.similarity(w1=\"gold\",w2=\"ore\"):0.3}')"
   ]
  },
  {
   "cell_type": "code",
   "execution_count": 44,
   "metadata": {
    "colab": {
     "base_uri": "https://localhost:8080/",
     "height": 88
    },
    "colab_type": "code",
    "executionInfo": {
     "elapsed": 181617,
     "status": "ok",
     "timestamp": 1585118907346,
     "user": {
      "displayName": "Tyler Bikaun",
      "photoUrl": "",
      "userId": "18384825377619195869"
     },
     "user_tz": -480
    },
    "id": "oaltQ0Eh1jMg",
    "outputId": "b3c66c4c-484d-479a-b266-84d3b95c00ee"
   },
   "outputs": [
    {
     "name": "stdout",
     "output_type": "stream",
     "text": [
      "Similarity between the same word: 1.0\n"
     ]
    },
    {
     "data": {
      "application/javascript": "\n            setTimeout(function() {\n                var nbb_cell_id = 44;\n                var nbb_unformatted_code = \"# similarity between two identical words\\nprint(f'Similarity between the same word: {gswa_model.wv.similarity(w1=\\\"gold\\\",w2=\\\"gold\\\"):0.3}')\";\n                var nbb_formatted_code = \"# similarity between two identical words\\nprint(\\n    f'Similarity between the same word: {gswa_model.wv.similarity(w1=\\\"gold\\\",w2=\\\"gold\\\"):0.3}'\\n)\";\n                var nbb_cells = Jupyter.notebook.get_cells();\n                for (var i = 0; i < nbb_cells.length; ++i) {\n                    if (nbb_cells[i].input_prompt_number == nbb_cell_id) {\n                        if (nbb_cells[i].get_text() == nbb_unformatted_code) {\n                             nbb_cells[i].set_text(nbb_formatted_code);\n                        }\n                        break;\n                    }\n                }\n            }, 500);\n            ",
      "text/plain": [
       "<IPython.core.display.Javascript object>"
      ]
     },
     "metadata": {},
     "output_type": "display_data"
    }
   ],
   "source": [
    "# similarity between two identical words\n",
    "print(f'Similarity between the same word: {gswa_model.wv.similarity(w1=\"gold\",w2=\"gold\"):0.3}')"
   ]
  },
  {
   "cell_type": "code",
   "execution_count": 45,
   "metadata": {
    "colab": {
     "base_uri": "https://localhost:8080/",
     "height": 88
    },
    "colab_type": "code",
    "executionInfo": {
     "elapsed": 181462,
     "status": "ok",
     "timestamp": 1585118907347,
     "user": {
      "displayName": "Tyler Bikaun",
      "photoUrl": "",
      "userId": "18384825377619195869"
     },
     "user_tz": -480
    },
    "id": "4qNuYbd11jJ9",
    "outputId": "bc326fc8-a38f-496d-afda-24cd6c0ad92d"
   },
   "outputs": [
    {
     "name": "stdout",
     "output_type": "stream",
     "text": [
      "Similarity between unrelated words: -0.0991\n"
     ]
    },
    {
     "data": {
      "application/javascript": "\n            setTimeout(function() {\n                var nbb_cell_id = 45;\n                var nbb_unformatted_code = \"# similarity between two unrelated words\\nprint(f'Similarity between unrelated words: {gswa_model.wv.similarity(w1=\\\"gold\\\",w2=\\\"rock\\\"):0.3}')\";\n                var nbb_formatted_code = \"# similarity between two unrelated words\\nprint(\\n    f'Similarity between unrelated words: {gswa_model.wv.similarity(w1=\\\"gold\\\",w2=\\\"rock\\\"):0.3}'\\n)\";\n                var nbb_cells = Jupyter.notebook.get_cells();\n                for (var i = 0; i < nbb_cells.length; ++i) {\n                    if (nbb_cells[i].input_prompt_number == nbb_cell_id) {\n                        if (nbb_cells[i].get_text() == nbb_unformatted_code) {\n                             nbb_cells[i].set_text(nbb_formatted_code);\n                        }\n                        break;\n                    }\n                }\n            }, 500);\n            ",
      "text/plain": [
       "<IPython.core.display.Javascript object>"
      ]
     },
     "metadata": {},
     "output_type": "display_data"
    }
   ],
   "source": [
    "# similarity between two unrelated words\n",
    "print(f'Similarity between unrelated words: {gswa_model.wv.similarity(w1=\"gold\",w2=\"rock\"):0.3}')"
   ]
  },
  {
   "cell_type": "code",
   "execution_count": 46,
   "metadata": {
    "colab": {
     "base_uri": "https://localhost:8080/",
     "height": 122
    },
    "colab_type": "code",
    "executionInfo": {
     "elapsed": 181337,
     "status": "ok",
     "timestamp": 1585118907348,
     "user": {
      "displayName": "Tyler Bikaun",
      "photoUrl": "",
      "userId": "18384825377619195869"
     },
     "user_tz": -480
    },
    "id": "VbUayj321pOz",
    "outputId": "c0f8a95d-07ff-43ab-b444-cfed0901738c"
   },
   "outputs": [
    {
     "name": "stdout",
     "output_type": "stream",
     "text": [
      "Which words doesnt belong in the set ['gold', 'rock', 'copper']? Odd one out: rock\n"
     ]
    },
    {
     "data": {
      "application/javascript": "\n            setTimeout(function() {\n                var nbb_cell_id = 46;\n                var nbb_unformatted_code = \"# Which one is the odd one out in this list?\\nodd_one_out_list_gswa = [\\\"gold\\\", \\\"rock\\\", \\\"copper\\\"]\\nprint(f'Which words doesnt belong in the set {odd_one_out_list_gswa}? Odd one out: {gswa_model.wv.doesnt_match(odd_one_out_list_gswa)}')\";\n                var nbb_formatted_code = \"# Which one is the odd one out in this list?\\nodd_one_out_list_gswa = [\\\"gold\\\", \\\"rock\\\", \\\"copper\\\"]\\nprint(\\n    f\\\"Which words doesnt belong in the set {odd_one_out_list_gswa}? Odd one out: {gswa_model.wv.doesnt_match(odd_one_out_list_gswa)}\\\"\\n)\";\n                var nbb_cells = Jupyter.notebook.get_cells();\n                for (var i = 0; i < nbb_cells.length; ++i) {\n                    if (nbb_cells[i].input_prompt_number == nbb_cell_id) {\n                        if (nbb_cells[i].get_text() == nbb_unformatted_code) {\n                             nbb_cells[i].set_text(nbb_formatted_code);\n                        }\n                        break;\n                    }\n                }\n            }, 500);\n            ",
      "text/plain": [
       "<IPython.core.display.Javascript object>"
      ]
     },
     "metadata": {},
     "output_type": "display_data"
    }
   ],
   "source": [
    "# Which one is the odd one out in this list?\n",
    "odd_one_out_list_gswa = [\"gold\", \"rock\", \"copper\"]\n",
    "print(f'Which words doesnt belong in the set {odd_one_out_list_gswa}? Odd one out: {gswa_model.wv.doesnt_match(odd_one_out_list_gswa)}')"
   ]
  },
  {
   "cell_type": "markdown",
   "metadata": {
    "colab_type": "text",
    "id": "UIW9Bl-I3KEK"
   },
   "source": [
    "### Comparing our domain-specific embeddings with embeddings trained on a different dataset (news articles)."
   ]
  },
  {
   "cell_type": "markdown",
   "metadata": {},
   "source": [
    "- What are the nearest terms to 'commodity', 'ore', 'rock', etc.\n",
    "\n",
    "Unfortunately due to the size of pre-trained word embedding models they have been omitted from this comparison. However, the code below shows how to load the Google news word2vec embedding model. This model is trained on 100 billion words and is 1.6GB in size (massive!)."
   ]
  },
  {
   "cell_type": "code",
   "execution_count": 47,
   "metadata": {
    "colab": {},
    "colab_type": "code",
    "id": "OPmtpYf-3KBz"
   },
   "outputs": [
    {
     "data": {
      "application/javascript": "\n            setTimeout(function() {\n                var nbb_cell_id = 47;\n                var nbb_unformatted_code = \"# Define function to compare top-n similariries for a given word between two embedding models.\\ndef compare_words(word, topn, model1, model2):\\n    similarWordsModel1 = model1.wv.most_similar(positive=word, topn=topn)\\n    similarWordsModel2 = model2.wv.most_similar(positive=word,topn=topn)\\n\\n    print(f'Top {topn} words similar to {word}\\\\n(format: n | model 1 | model 2 )\\\\n')\\n    for n in range(topn):\\n        print(f'{n+1} |{similarWordsModel1[n][0]:<15} | {similarWordsModel2[n][0]:<15}')\";\n                var nbb_formatted_code = \"# Define function to compare top-n similariries for a given word between two embedding models.\\ndef compare_words(word, topn, model1, model2):\\n    similarWordsModel1 = model1.wv.most_similar(positive=word, topn=topn)\\n    similarWordsModel2 = model2.wv.most_similar(positive=word, topn=topn)\\n\\n    print(f\\\"Top {topn} words similar to {word}\\\\n(format: n | model 1 | model 2 )\\\\n\\\")\\n    for n in range(topn):\\n        print(f\\\"{n+1} |{similarWordsModel1[n][0]:<15} | {similarWordsModel2[n][0]:<15}\\\")\";\n                var nbb_cells = Jupyter.notebook.get_cells();\n                for (var i = 0; i < nbb_cells.length; ++i) {\n                    if (nbb_cells[i].input_prompt_number == nbb_cell_id) {\n                        if (nbb_cells[i].get_text() == nbb_unformatted_code) {\n                             nbb_cells[i].set_text(nbb_formatted_code);\n                        }\n                        break;\n                    }\n                }\n            }, 500);\n            ",
      "text/plain": [
       "<IPython.core.display.Javascript object>"
      ]
     },
     "metadata": {},
     "output_type": "display_data"
    }
   ],
   "source": [
    "# Define function to compare top-n similariries for a given word between two embedding models.\n",
    "def compare_words(word, topn, model1, model2):\n",
    "    similarWordsModel1 = model1.wv.most_similar(positive=word, topn=topn)\n",
    "    similarWordsModel2 = model2.wv.most_similar(positive=word,topn=topn)\n",
    "\n",
    "    print(f'Top {topn} words similar to {word}\\n(format: n | model 1 | model 2 )\\n')\n",
    "    for n in range(topn):\n",
    "        print(f'{n+1} |{similarWordsModel1[n][0]:<15} | {similarWordsModel2[n][0]:<15}')"
   ]
  },
  {
   "cell_type": "code",
   "execution_count": 48,
   "metadata": {
    "colab": {
     "base_uri": "https://localhost:8080/",
     "height": 207
    },
    "colab_type": "code",
    "executionInfo": {
     "elapsed": 180612,
     "status": "ok",
     "timestamp": 1585118907349,
     "user": {
      "displayName": "Tyler Bikaun",
      "photoUrl": "",
      "userId": "18384825377619195869"
     },
     "user_tz": -480
    },
    "id": "gcX31xIr3J9i",
    "outputId": "75a2f13c-b992-4679-bb57-12b6f0867b84"
   },
   "outputs": [
    {
     "name": "stdout",
     "output_type": "stream",
     "text": [
      "Top 5 words similar to commodity\n",
      "(format: n | model 1 | model 2 )\n",
      "\n",
      "1 |rarity          | feasibility    \n",
      "2 |nowadays        | nl_lrn         \n",
      "3 |nutrition       | through_utilisation\n",
      "4 |rare            | oxide_resource \n",
      "5 |extreme         | by_integra     \n"
     ]
    },
    {
     "data": {
      "application/javascript": "\n            setTimeout(function() {\n                var nbb_cell_id = 48;\n                var nbb_unformatted_code = \"# Looking at the word 'commodity'\\ncompare_words(word = 'commodity', topn = 5, model1 = model, model2 = gswa_model)\";\n                var nbb_formatted_code = \"# Looking at the word 'commodity'\\ncompare_words(word=\\\"commodity\\\", topn=5, model1=model, model2=gswa_model)\";\n                var nbb_cells = Jupyter.notebook.get_cells();\n                for (var i = 0; i < nbb_cells.length; ++i) {\n                    if (nbb_cells[i].input_prompt_number == nbb_cell_id) {\n                        if (nbb_cells[i].get_text() == nbb_unformatted_code) {\n                             nbb_cells[i].set_text(nbb_formatted_code);\n                        }\n                        break;\n                    }\n                }\n            }, 500);\n            ",
      "text/plain": [
       "<IPython.core.display.Javascript object>"
      ]
     },
     "metadata": {},
     "output_type": "display_data"
    }
   ],
   "source": [
    "# Looking at the word 'commodity'\n",
    "compare_words(word = 'commodity', topn = 5, model1 = model, model2 = gswa_model)"
   ]
  },
  {
   "cell_type": "code",
   "execution_count": 49,
   "metadata": {
    "colab": {
     "base_uri": "https://localhost:8080/",
     "height": 207
    },
    "colab_type": "code",
    "executionInfo": {
     "elapsed": 180378,
     "status": "ok",
     "timestamp": 1585118907350,
     "user": {
      "displayName": "Tyler Bikaun",
      "photoUrl": "",
      "userId": "18384825377619195869"
     },
     "user_tz": -480
    },
    "id": "ExSMep_7RC1S",
    "outputId": "7861088b-996e-4634-e9fb-54cf29c611a8"
   },
   "outputs": [
    {
     "name": "stdout",
     "output_type": "stream",
     "text": [
      "Top 5 words similar to ore\n",
      "(format: n | model 1 | model 2 )\n",
      "\n",
      "1 |tutti           | grade          \n",
      "2 |beaucoup        | gold_price     \n",
      "3 |mois            | tonnes         \n",
      "4 |kw              | mined          \n",
      "5 |su              | oz             \n"
     ]
    },
    {
     "data": {
      "application/javascript": "\n            setTimeout(function() {\n                var nbb_cell_id = 49;\n                var nbb_unformatted_code = \"# Looking at the word 'ore'\\ncompare_words(word = 'ore', topn = 5, model1 = model, model2 = gswa_model)\";\n                var nbb_formatted_code = \"# Looking at the word 'ore'\\ncompare_words(word=\\\"ore\\\", topn=5, model1=model, model2=gswa_model)\";\n                var nbb_cells = Jupyter.notebook.get_cells();\n                for (var i = 0; i < nbb_cells.length; ++i) {\n                    if (nbb_cells[i].input_prompt_number == nbb_cell_id) {\n                        if (nbb_cells[i].get_text() == nbb_unformatted_code) {\n                             nbb_cells[i].set_text(nbb_formatted_code);\n                        }\n                        break;\n                    }\n                }\n            }, 500);\n            ",
      "text/plain": [
       "<IPython.core.display.Javascript object>"
      ]
     },
     "metadata": {},
     "output_type": "display_data"
    }
   ],
   "source": [
    "# Looking at the word 'ore'\n",
    "compare_words(word = 'ore', topn = 5, model1 = model, model2 = gswa_model)"
   ]
  },
  {
   "cell_type": "code",
   "execution_count": 50,
   "metadata": {
    "colab": {
     "base_uri": "https://localhost:8080/",
     "height": 207
    },
    "colab_type": "code",
    "executionInfo": {
     "elapsed": 180154,
     "status": "ok",
     "timestamp": 1585118907350,
     "user": {
      "displayName": "Tyler Bikaun",
      "photoUrl": "",
      "userId": "18384825377619195869"
     },
     "user_tz": -480
    },
    "id": "_3b-ykPERCyV",
    "outputId": "075f24e4-2e76-4893-81f2-1734097b95b1"
   },
   "outputs": [
    {
     "name": "stdout",
     "output_type": "stream",
     "text": [
      "Top 5 words similar to rock\n",
      "(format: n | model 1 | model 2 )\n",
      "\n",
      "1 |rocks           | feldspar       \n",
      "2 |earned          | magnetite      \n",
      "3 |boiled          | trace          \n",
      "4 |snapper         | goethite       \n",
      "5 |governments     | carbonate      \n"
     ]
    },
    {
     "data": {
      "application/javascript": "\n            setTimeout(function() {\n                var nbb_cell_id = 50;\n                var nbb_unformatted_code = \"# Looking at the word 'rock'\\ncompare_words(word = 'rock', topn = 5, model1 = model, model2 = gswa_model)\";\n                var nbb_formatted_code = \"# Looking at the word 'rock'\\ncompare_words(word=\\\"rock\\\", topn=5, model1=model, model2=gswa_model)\";\n                var nbb_cells = Jupyter.notebook.get_cells();\n                for (var i = 0; i < nbb_cells.length; ++i) {\n                    if (nbb_cells[i].input_prompt_number == nbb_cell_id) {\n                        if (nbb_cells[i].get_text() == nbb_unformatted_code) {\n                             nbb_cells[i].set_text(nbb_formatted_code);\n                        }\n                        break;\n                    }\n                }\n            }, 500);\n            ",
      "text/plain": [
       "<IPython.core.display.Javascript object>"
      ]
     },
     "metadata": {},
     "output_type": "display_data"
    }
   ],
   "source": [
    "# Looking at the word 'rock'\n",
    "compare_words(word = 'rock', topn = 5, model1 = model, model2 = gswa_model)"
   ]
  },
  {
   "cell_type": "markdown",
   "metadata": {
    "colab_type": "text",
    "id": "nUFDEGVK1pMd"
   },
   "source": [
    "### Visualising the domain-specific word vectors in 2D space"
   ]
  },
  {
   "cell_type": "code",
   "execution_count": 51,
   "metadata": {
    "colab": {},
    "colab_type": "code",
    "id": "rhE0JjYr1pII"
   },
   "outputs": [
    {
     "data": {
      "application/javascript": "\n            setTimeout(function() {\n                var nbb_cell_id = 51;\n                var nbb_unformatted_code = \"def display_closestwords_tsnescatterplot(model, word):\\n    arr = np.empty((0,50), dtype='f')\\n    word_labels = [word]\\n\\n    # get close words\\n    close_words = model.similar_by_word(word)\\n    \\n    # add the vector for each of the closest words to the array\\n    arr = np.append(arr, np.array([model[word]]), axis=0)\\n    for wrd_score in close_words:\\n        wrd_vector = model[wrd_score[0]]\\n        word_labels.append(wrd_score[0])\\n        arr = np.append(arr, np.array([wrd_vector]), axis=0)\\n        \\n    # find tsne coords for 2 dimensions\\n    tsne = TSNE(n_components=2, random_state=0, perplexity=30 if len(arr) > 30 else len(arr)-1)\\n    np.set_printoptions(suppress=True)\\n    Y = tsne.fit_transform(arr)\\n\\n    x_coords = Y[:, 0]\\n    y_coords = Y[:, 1]\\n    # display scatter plot\\n    plt.scatter(x_coords, y_coords)\\n\\n    for label, x, y in zip(word_labels, x_coords, y_coords):\\n        plt.annotate(label, xy=(x, y), xytext=(0, 0), textcoords='offset points')\\n    plt.xlim(x_coords.min()+0.00005, x_coords.max()+0.00005)\\n    plt.ylim(y_coords.min()+0.00005, y_coords.max()+0.00005)\\n    plt.title(f'Words closest to: {word}')\\n    plt.show()\";\n                var nbb_formatted_code = \"def display_closestwords_tsnescatterplot(model, word):\\n    arr = np.empty((0, 50), dtype=\\\"f\\\")\\n    word_labels = [word]\\n\\n    # get close words\\n    close_words = model.similar_by_word(word)\\n\\n    # add the vector for each of the closest words to the array\\n    arr = np.append(arr, np.array([model[word]]), axis=0)\\n    for wrd_score in close_words:\\n        wrd_vector = model[wrd_score[0]]\\n        word_labels.append(wrd_score[0])\\n        arr = np.append(arr, np.array([wrd_vector]), axis=0)\\n\\n    # find tsne coords for 2 dimensions\\n    tsne = TSNE(\\n        n_components=2, random_state=0, perplexity=30 if len(arr) > 30 else len(arr) - 1\\n    )\\n    np.set_printoptions(suppress=True)\\n    Y = tsne.fit_transform(arr)\\n\\n    x_coords = Y[:, 0]\\n    y_coords = Y[:, 1]\\n    # display scatter plot\\n    plt.scatter(x_coords, y_coords)\\n\\n    for label, x, y in zip(word_labels, x_coords, y_coords):\\n        plt.annotate(label, xy=(x, y), xytext=(0, 0), textcoords=\\\"offset points\\\")\\n    plt.xlim(x_coords.min() + 0.00005, x_coords.max() + 0.00005)\\n    plt.ylim(y_coords.min() + 0.00005, y_coords.max() + 0.00005)\\n    plt.title(f\\\"Words closest to: {word}\\\")\\n    plt.show()\";\n                var nbb_cells = Jupyter.notebook.get_cells();\n                for (var i = 0; i < nbb_cells.length; ++i) {\n                    if (nbb_cells[i].input_prompt_number == nbb_cell_id) {\n                        if (nbb_cells[i].get_text() == nbb_unformatted_code) {\n                             nbb_cells[i].set_text(nbb_formatted_code);\n                        }\n                        break;\n                    }\n                }\n            }, 500);\n            ",
      "text/plain": [
       "<IPython.core.display.Javascript object>"
      ]
     },
     "metadata": {},
     "output_type": "display_data"
    }
   ],
   "source": [
    "def display_closestwords_tsnescatterplot(model, word):\n",
    "    arr = np.empty((0,50), dtype='f')\n",
    "    word_labels = [word]\n",
    "\n",
    "    # get close words\n",
    "    close_words = model.similar_by_word(word)\n",
    "    \n",
    "    # add the vector for each of the closest words to the array\n",
    "    arr = np.append(arr, np.array([model[word]]), axis=0)\n",
    "    for wrd_score in close_words:\n",
    "        wrd_vector = model[wrd_score[0]]\n",
    "        word_labels.append(wrd_score[0])\n",
    "        arr = np.append(arr, np.array([wrd_vector]), axis=0)\n",
    "        \n",
    "    # find tsne coords for 2 dimensions\n",
    "    tsne = TSNE(n_components=2, random_state=0, perplexity=30 if len(arr) > 30 else len(arr)-1)\n",
    "    np.set_printoptions(suppress=True)\n",
    "    Y = tsne.fit_transform(arr)\n",
    "\n",
    "    x_coords = Y[:, 0]\n",
    "    y_coords = Y[:, 1]\n",
    "    # display scatter plot\n",
    "    plt.scatter(x_coords, y_coords)\n",
    "\n",
    "    for label, x, y in zip(word_labels, x_coords, y_coords):\n",
    "        plt.annotate(label, xy=(x, y), xytext=(0, 0), textcoords='offset points')\n",
    "    plt.xlim(x_coords.min()+0.00005, x_coords.max()+0.00005)\n",
    "    plt.ylim(y_coords.min()+0.00005, y_coords.max()+0.00005)\n",
    "    plt.title(f'Words closest to: {word}')\n",
    "    plt.show()"
   ]
  },
  {
   "cell_type": "code",
   "execution_count": 52,
   "metadata": {
    "colab": {
     "base_uri": "https://localhost:8080/",
     "height": 617
    },
    "colab_type": "code",
    "executionInfo": {
     "elapsed": 1472,
     "status": "ok",
     "timestamp": 1585118947324,
     "user": {
      "displayName": "Tyler Bikaun",
      "photoUrl": "",
      "userId": "18384825377619195869"
     },
     "user_tz": -480
    },
    "id": "qnoeIGsI1pGC",
    "outputId": "b1d2125a-20b0-4bbe-b25b-678e820ec8a0"
   },
   "outputs": [
    {
     "name": "stderr",
     "output_type": "stream",
     "text": [
      "c:\\Users\\Tyler\\AppData\\Local\\Programs\\Python\\Python38\\lib\\site-packages\\sklearn\\manifold\\_t_sne.py:800: FutureWarning: The default initialization in TSNE will change from 'random' to 'pca' in 1.2.\n",
      "  warnings.warn(\n",
      "c:\\Users\\Tyler\\AppData\\Local\\Programs\\Python\\Python38\\lib\\site-packages\\sklearn\\manifold\\_t_sne.py:810: FutureWarning: The default learning rate in TSNE will change from 200.0 to 'auto' in 1.2.\n",
      "  warnings.warn(\n"
     ]
    },
    {
     "data": {
      "image/png": "[encoded data removed]",
      "text/plain": [
       "<Figure size 864x432 with 1 Axes>"
      ]
     },
     "metadata": {
      "needs_background": "light"
     },
     "output_type": "display_data"
    },
    {
     "data": {
      "application/javascript": "\n            setTimeout(function() {\n                var nbb_cell_id = 52;\n                var nbb_unformatted_code = \"display_closestwords_tsnescatterplot(model = gswa_model.wv, word = \\\"gold\\\")\";\n                var nbb_formatted_code = \"display_closestwords_tsnescatterplot(model=gswa_model.wv, word=\\\"gold\\\")\";\n                var nbb_cells = Jupyter.notebook.get_cells();\n                for (var i = 0; i < nbb_cells.length; ++i) {\n                    if (nbb_cells[i].input_prompt_number == nbb_cell_id) {\n                        if (nbb_cells[i].get_text() == nbb_unformatted_code) {\n                             nbb_cells[i].set_text(nbb_formatted_code);\n                        }\n                        break;\n                    }\n                }\n            }, 500);\n            ",
      "text/plain": [
       "<IPython.core.display.Javascript object>"
      ]
     },
     "metadata": {},
     "output_type": "display_data"
    }
   ],
   "source": [
    "display_closestwords_tsnescatterplot(model = gswa_model.wv, word = \"gold\")"
   ]
  },
  {
   "cell_type": "markdown",
   "metadata": {
    "colab_type": "text",
    "id": "Pzvw14B8TL7A"
   },
   "source": [
    "### Visualising all of the words in the domain-specific corpus vocabulary"
   ]
  },
  {
   "cell_type": "code",
   "execution_count": 53,
   "metadata": {
    "colab": {
     "base_uri": "https://localhost:8080/",
     "height": 68
    },
    "colab_type": "code",
    "executionInfo": {
     "elapsed": 995,
     "status": "ok",
     "timestamp": 1585118951914,
     "user": {
      "displayName": "Tyler Bikaun",
      "photoUrl": "",
      "userId": "18384825377619195869"
     },
     "user_tz": -480
    },
    "id": "NiouXHvb1pEB",
    "outputId": "6831cc9a-22c5-474f-8c9d-127582d72f83"
   },
   "outputs": [
    {
     "data": {
      "application/javascript": "\n            setTimeout(function() {\n                var nbb_cell_id = 53;\n                var nbb_unformatted_code = \"# Set-up t-SNE model for 2 dimensional reduction\\ntsne = TSNE(n_components=2)\";\n                var nbb_formatted_code = \"# Set-up t-SNE model for 2 dimensional reduction\\ntsne = TSNE(n_components=2)\";\n                var nbb_cells = Jupyter.notebook.get_cells();\n                for (var i = 0; i < nbb_cells.length; ++i) {\n                    if (nbb_cells[i].input_prompt_number == nbb_cell_id) {\n                        if (nbb_cells[i].get_text() == nbb_unformatted_code) {\n                             nbb_cells[i].set_text(nbb_formatted_code);\n                        }\n                        break;\n                    }\n                }\n            }, 500);\n            ",
      "text/plain": [
       "<IPython.core.display.Javascript object>"
      ]
     },
     "metadata": {},
     "output_type": "display_data"
    }
   ],
   "source": [
    "# Set-up t-SNE model for 2 dimensional reduction\n",
    "tsne = TSNE(n_components=2)"
   ]
  },
  {
   "cell_type": "code",
   "execution_count": 54,
   "metadata": {},
   "outputs": [
    {
     "name": "stdout",
     "output_type": "stream",
     "text": [
      "Shape of model before t-SNE: (118241, 50)\n"
     ]
    },
    {
     "data": {
      "application/javascript": "\n            setTimeout(function() {\n                var nbb_cell_id = 54;\n                var nbb_unformatted_code = \"X = gswa_model.wv[gswa_model.wv.key_to_index]\\n# Shape of our model before t-SNE\\nprint(f'Shape of model before t-SNE: {X.shape}')\";\n                var nbb_formatted_code = \"X = gswa_model.wv[gswa_model.wv.key_to_index]\\n# Shape of our model before t-SNE\\nprint(f\\\"Shape of model before t-SNE: {X.shape}\\\")\";\n                var nbb_cells = Jupyter.notebook.get_cells();\n                for (var i = 0; i < nbb_cells.length; ++i) {\n                    if (nbb_cells[i].input_prompt_number == nbb_cell_id) {\n                        if (nbb_cells[i].get_text() == nbb_unformatted_code) {\n                             nbb_cells[i].set_text(nbb_formatted_code);\n                        }\n                        break;\n                    }\n                }\n            }, 500);\n            ",
      "text/plain": [
       "<IPython.core.display.Javascript object>"
      ]
     },
     "metadata": {},
     "output_type": "display_data"
    }
   ],
   "source": [
    "X = gswa_model.wv[gswa_model.wv.key_to_index]\n",
    "# Shape of our model before t-SNE\n",
    "print(f'Shape of model before t-SNE: {X.shape}')"
   ]
  },
  {
   "cell_type": "markdown",
   "metadata": {},
   "source": [
    "Here we'll fit a t-SNE model to our data. However, as our corpus is quite large, we'll first subset it to help with comptuation time."
   ]
  },
  {
   "cell_type": "code",
   "execution_count": 55,
   "metadata": {},
   "outputs": [
    {
     "data": {
      "application/javascript": "\n            setTimeout(function() {\n                var nbb_cell_id = 55;\n                var nbb_unformatted_code = \"# Number of points to model\\npoints = 2500\";\n                var nbb_formatted_code = \"# Number of points to model\\npoints = 2500\";\n                var nbb_cells = Jupyter.notebook.get_cells();\n                for (var i = 0; i < nbb_cells.length; ++i) {\n                    if (nbb_cells[i].input_prompt_number == nbb_cell_id) {\n                        if (nbb_cells[i].get_text() == nbb_unformatted_code) {\n                             nbb_cells[i].set_text(nbb_formatted_code);\n                        }\n                        break;\n                    }\n                }\n            }, 500);\n            ",
      "text/plain": [
       "<IPython.core.display.Javascript object>"
      ]
     },
     "metadata": {},
     "output_type": "display_data"
    }
   ],
   "source": [
    "# Number of points to model\n",
    "points = 2500"
   ]
  },
  {
   "cell_type": "code",
   "execution_count": 56,
   "metadata": {
    "colab": {
     "base_uri": "https://localhost:8080/",
     "height": 597
    },
    "colab_type": "code",
    "executionInfo": {
     "elapsed": 341654,
     "status": "ok",
     "timestamp": 1585121616330,
     "user": {
      "displayName": "Tyler Bikaun",
      "photoUrl": "",
      "userId": "18384825377619195869"
     },
     "user_tz": -480
    },
    "id": "tmnytvul10Xf",
    "outputId": "e6fe0879-b67b-4e98-b9dc-e5cd8a49078e"
   },
   "outputs": [
    {
     "name": "stderr",
     "output_type": "stream",
     "text": [
      "c:\\Users\\Tyler\\AppData\\Local\\Programs\\Python\\Python38\\lib\\site-packages\\sklearn\\manifold\\_t_sne.py:800: FutureWarning: The default initialization in TSNE will change from 'random' to 'pca' in 1.2.\n",
      "  warnings.warn(\n",
      "c:\\Users\\Tyler\\AppData\\Local\\Programs\\Python\\Python38\\lib\\site-packages\\sklearn\\manifold\\_t_sne.py:810: FutureWarning: The default learning rate in TSNE will change from 200.0 to 'auto' in 1.2.\n",
      "  warnings.warn(\n"
     ]
    },
    {
     "data": {
      "application/javascript": "\n            setTimeout(function() {\n                var nbb_cell_id = 56;\n                var nbb_unformatted_code = \"# Fitting subset of data to t-SNE\\nX_limited = X[:points]\\nX_tsne = tsne.fit_transform(X_limited)\\n\\n# Uncomment line below to fit entire model to t-SNE\\n# X_tsne = tsne.fit_transform(X)\";\n                var nbb_formatted_code = \"# Fitting subset of data to t-SNE\\nX_limited = X[:points]\\nX_tsne = tsne.fit_transform(X_limited)\\n\\n# Uncomment line below to fit entire model to t-SNE\\n# X_tsne = tsne.fit_transform(X)\";\n                var nbb_cells = Jupyter.notebook.get_cells();\n                for (var i = 0; i < nbb_cells.length; ++i) {\n                    if (nbb_cells[i].input_prompt_number == nbb_cell_id) {\n                        if (nbb_cells[i].get_text() == nbb_unformatted_code) {\n                             nbb_cells[i].set_text(nbb_formatted_code);\n                        }\n                        break;\n                    }\n                }\n            }, 500);\n            ",
      "text/plain": [
       "<IPython.core.display.Javascript object>"
      ]
     },
     "metadata": {},
     "output_type": "display_data"
    }
   ],
   "source": [
    "# Fitting subset of data to t-SNE\n",
    "X_limited = X[:points]\n",
    "X_tsne = tsne.fit_transform(X_limited)\n",
    "\n",
    "# Uncomment line below to fit entire model to t-SNE\n",
    "# X_tsne = tsne.fit_transform(X)"
   ]
  },
  {
   "cell_type": "code",
   "execution_count": 57,
   "metadata": {},
   "outputs": [
    {
     "data": {
      "image/png": "[encoded data removed]",
      "text/plain": [
       "<Figure size 720x720 with 1 Axes>"
      ]
     },
     "metadata": {
      "needs_background": "light"
     },
     "output_type": "display_data"
    },
    {
     "data": {
      "application/javascript": "\n            setTimeout(function() {\n                var nbb_cell_id = 57;\n                var nbb_unformatted_code = \"# Plot dimensionality reduced word scatterplot\\nplt.rcParams['figure.figsize'] = [10, 10]\\nplt.scatter(X_tsne[:, 0], X_tsne[:, 1])\\nplt.show()\";\n                var nbb_formatted_code = \"# Plot dimensionality reduced word scatterplot\\nplt.rcParams[\\\"figure.figsize\\\"] = [10, 10]\\nplt.scatter(X_tsne[:, 0], X_tsne[:, 1])\\nplt.show()\";\n                var nbb_cells = Jupyter.notebook.get_cells();\n                for (var i = 0; i < nbb_cells.length; ++i) {\n                    if (nbb_cells[i].input_prompt_number == nbb_cell_id) {\n                        if (nbb_cells[i].get_text() == nbb_unformatted_code) {\n                             nbb_cells[i].set_text(nbb_formatted_code);\n                        }\n                        break;\n                    }\n                }\n            }, 500);\n            ",
      "text/plain": [
       "<IPython.core.display.Javascript object>"
      ]
     },
     "metadata": {},
     "output_type": "display_data"
    }
   ],
   "source": [
    "# Plot dimensionality reduced word scatterplot\n",
    "plt.rcParams['figure.figsize'] = [10, 10]\n",
    "plt.scatter(X_tsne[:, 0], X_tsne[:, 1])\n",
    "plt.show()"
   ]
  },
  {
   "cell_type": "markdown",
   "metadata": {
    "colab_type": "text",
    "id": "pfCESffv10TD"
   },
   "source": [
    "### Interactive Visualisation\n"
   ]
  },
  {
   "cell_type": "markdown",
   "metadata": {},
   "source": [
    "Refer to https://www.datascience.com/resources/notebooks/word-embeddings-in-python, and also for ideas of incoporating POS and bigrams into word2vec training."
   ]
  },
  {
   "cell_type": "code",
   "execution_count": 58,
   "metadata": {
    "colab": {},
    "colab_type": "code",
    "id": "viZhA7RO10N8"
   },
   "outputs": [
    {
     "data": {
      "application/javascript": "\n            setTimeout(function() {\n                var nbb_cell_id = 58;\n                var nbb_unformatted_code = \"def interactive_tsne(text_labels, tsne_array):\\n    '''makes an interactive scatter plot with text labels for each point'''\\n\\n    # Define a dataframe to be used by bokeh context\\n    bokeh_df = pd.DataFrame(tsne_array, text_labels, columns=['x','y'])\\n    bokeh_df['text_labels'] = bokeh_df.index\\n\\n    # interactive controls to include to the plot\\n    TOOLS=\\\"hover, zoom_in, zoom_out, box_zoom, undo, redo, reset, box_select\\\"\\n\\n    p = figure(tools=TOOLS, plot_width=700, plot_height=700)\\n\\n    # define data source for the plot\\n    source = ColumnDataSource(bokeh_df)\\n\\n    # scatter plot\\n    p.scatter('x', 'y', source=source, fill_alpha=0.6,\\n              fill_color=\\\"#8724B5\\\",\\n              line_color=None)\\n\\n    # text labels\\n    labels = LabelSet(x='x', y='y', text='text_labels', y_offset=8,\\n                      text_font_size=\\\"8pt\\\", text_color=\\\"#555555\\\",\\n                      source=source, text_align='center')\\n\\n    p.add_layout(labels)\\n\\n    # show plot inline\\n    output_notebook()\\n    show(p)\";\n                var nbb_formatted_code = \"def interactive_tsne(text_labels, tsne_array):\\n    \\\"\\\"\\\"makes an interactive scatter plot with text labels for each point\\\"\\\"\\\"\\n\\n    # Define a dataframe to be used by bokeh context\\n    bokeh_df = pd.DataFrame(tsne_array, text_labels, columns=[\\\"x\\\", \\\"y\\\"])\\n    bokeh_df[\\\"text_labels\\\"] = bokeh_df.index\\n\\n    # interactive controls to include to the plot\\n    TOOLS = \\\"hover, zoom_in, zoom_out, box_zoom, undo, redo, reset, box_select\\\"\\n\\n    p = figure(tools=TOOLS, plot_width=700, plot_height=700)\\n\\n    # define data source for the plot\\n    source = ColumnDataSource(bokeh_df)\\n\\n    # scatter plot\\n    p.scatter(\\n        \\\"x\\\", \\\"y\\\", source=source, fill_alpha=0.6, fill_color=\\\"#8724B5\\\", line_color=None\\n    )\\n\\n    # text labels\\n    labels = LabelSet(\\n        x=\\\"x\\\",\\n        y=\\\"y\\\",\\n        text=\\\"text_labels\\\",\\n        y_offset=8,\\n        text_font_size=\\\"8pt\\\",\\n        text_color=\\\"#555555\\\",\\n        source=source,\\n        text_align=\\\"center\\\",\\n    )\\n\\n    p.add_layout(labels)\\n\\n    # show plot inline\\n    output_notebook()\\n    show(p)\";\n                var nbb_cells = Jupyter.notebook.get_cells();\n                for (var i = 0; i < nbb_cells.length; ++i) {\n                    if (nbb_cells[i].input_prompt_number == nbb_cell_id) {\n                        if (nbb_cells[i].get_text() == nbb_unformatted_code) {\n                             nbb_cells[i].set_text(nbb_formatted_code);\n                        }\n                        break;\n                    }\n                }\n            }, 500);\n            ",
      "text/plain": [
       "<IPython.core.display.Javascript object>"
      ]
     },
     "metadata": {},
     "output_type": "display_data"
    }
   ],
   "source": [
    "def interactive_tsne(text_labels, tsne_array):\n",
    "    '''makes an interactive scatter plot with text labels for each point'''\n",
    "\n",
    "    # Define a dataframe to be used by bokeh context\n",
    "    bokeh_df = pd.DataFrame(tsne_array, text_labels, columns=['x','y'])\n",
    "    bokeh_df['text_labels'] = bokeh_df.index\n",
    "\n",
    "    # interactive controls to include to the plot\n",
    "    TOOLS=\"hover, zoom_in, zoom_out, box_zoom, undo, redo, reset, box_select\"\n",
    "\n",
    "    p = figure(tools=TOOLS, width=700, height=700)\n",
    "\n",
    "    # define data source for the plot\n",
    "    source = ColumnDataSource(bokeh_df)\n",
    "\n",
    "    # scatter plot\n",
    "    p.scatter('x', 'y', source=source, fill_alpha=0.6,\n",
    "              fill_color=\"#8724B5\",\n",
    "              line_color=None)\n",
    "\n",
    "    # text labels\n",
    "    labels = LabelSet(x='x', y='y', text='text_labels', y_offset=8,\n",
    "                      text_font_size=\"8pt\", text_color=\"#555555\",\n",
    "                      source=source, text_align='center')\n",
    "\n",
    "    p.add_layout(labels)\n",
    "\n",
    "    # show plot inline\n",
    "    output_notebook()\n",
    "    show(p)"
   ]
  },
  {
   "cell_type": "markdown",
   "metadata": {},
   "source": [
    "Launch interactive visualisation of word embeddings"
   ]
  },
  {
   "cell_type": "code",
   "execution_count": 59,
   "metadata": {
    "colab": {},
    "colab_type": "code",
    "id": "CRvKJ6gK10MD"
   },
   "outputs": [
    {
     "data": {
      "text/html": [
       "<div class=\"bk-root\">\n",
       "        <a href=\"https://bokeh.org\" target=\"_blank\" class=\"bk-logo bk-logo-small bk-logo-notebook\"></a>\n",
       "        <span id=\"1047\">Loading BokehJS ...</span>\n",
       "    </div>\n"
      ]
     },
     "metadata": {},
     "output_type": "display_data"
    },
    {
     "data": {
      "application/javascript": "(function(root) {\n  function now() {\n    return new Date();\n  }\n\n  const force = true;\n\n  if (typeof root._bokeh_onload_callbacks === \"undefined\" || force === true) {\n    root._bokeh_onload_callbacks = [];\n    root._bokeh_is_loading = undefined;\n  }\n\nconst JS_MIME_TYPE = 'application/javascript';\n  const HTML_MIME_TYPE = 'text/html';\n  const EXEC_MIME_TYPE = 'application/vnd.bokehjs_exec.v0+json';\n  const CLASS_NAME = 'output_bokeh rendered_html';\n\n  /**\n   * Render data to the DOM node\n   */\n  function render(props, node) {\n    const script = document.createElement(\"script\");\n    node.appendChild(script);\n  }\n\n  /**\n   * Handle when an output is cleared or removed\n   */\n  function handleClearOutput(event, handle) {\n    const cell = handle.cell;\n\n    const id = cell.output_area._bokeh_element_id;\n    const server_id = cell.output_area._bokeh_server_id;\n    // Clean up Bokeh references\n    if (id != null && id in Bokeh.index) {\n      Bokeh.index[id].model.document.clear();\n      delete Bokeh.index[id];\n    }\n\n    if (server_id !== undefined) {\n      // Clean up Bokeh references\n      const cmd_clean = \"from bokeh.io.state import curstate; print(curstate().uuid_to_server['\" + server_id + \"'].get_sessions()[0].document.roots[0]._id)\";\n      cell.notebook.kernel.execute(cmd_clean, {\n        iopub: {\n          output: function(msg) {\n            const id = msg.content.text.trim();\n            if (id in Bokeh.index) {\n              Bokeh.index[id].model.document.clear();\n              delete Bokeh.index[id];\n            }\n          }\n        }\n      });\n      // Destroy server and session\n      const cmd_destroy = \"import bokeh.io.notebook as ion; ion.destroy_server('\" + server_id + \"')\";\n      cell.notebook.kernel.execute(cmd_destroy);\n    }\n  }\n\n  /**\n   * Handle when a new output is added\n   */\n  function handleAddOutput(event, handle) {\n    const output_area = handle.output_area;\n    const output = handle.output;\n\n    // limit handleAddOutput to display_data with EXEC_MIME_TYPE content only\n    if ((output.output_type != \"display_data\") || (!Object.prototype.hasOwnProperty.call(output.data, EXEC_MIME_TYPE))) {\n      return\n    }\n\n    const toinsert = output_area.element.find(\".\" + CLASS_NAME.split(' ')[0]);\n\n    if (output.metadata[EXEC_MIME_TYPE][\"id\"] !== undefined) {\n      toinsert[toinsert.length - 1].firstChild.textContent = output.data[JS_MIME_TYPE];\n      // store reference to embed id on output_area\n      output_area._bokeh_element_id = output.metadata[EXEC_MIME_TYPE][\"id\"];\n    }\n    if (output.metadata[EXEC_MIME_TYPE][\"server_id\"] !== undefined) {\n      const bk_div = document.createElement(\"div\");\n      bk_div.innerHTML = output.data[HTML_MIME_TYPE];\n      const script_attrs = bk_div.children[0].attributes;\n      for (let i = 0; i < script_attrs.length; i++) {\n        toinsert[toinsert.length - 1].firstChild.setAttribute(script_attrs[i].name, script_attrs[i].value);\n        toinsert[toinsert.length - 1].firstChild.textContent = bk_div.children[0].textContent\n      }\n      // store reference to server id on output_area\n      output_area._bokeh_server_id = output.metadata[EXEC_MIME_TYPE][\"server_id\"];\n    }\n  }\n\n  function register_renderer(events, OutputArea) {\n\n    function append_mime(data, metadata, element) {\n      // create a DOM node to render to\n      const toinsert = this.create_output_subarea(\n        metadata,\n        CLASS_NAME,\n        EXEC_MIME_TYPE\n      );\n      this.keyboard_manager.register_events(toinsert);\n      // Render to node\n      const props = {data: data, metadata: metadata[EXEC_MIME_TYPE]};\n      render(props, toinsert[toinsert.length - 1]);\n      element.append(toinsert);\n      return toinsert\n    }\n\n    /* Handle when an output is cleared or removed */\n    events.on('clear_output.CodeCell', handleClearOutput);\n    events.on('delete.Cell', handleClearOutput);\n\n    /* Handle when a new output is added */\n    events.on('output_added.OutputArea', handleAddOutput);\n\n    /**\n     * Register the mime type and append_mime function with output_area\n     */\n    OutputArea.prototype.register_mime_type(EXEC_MIME_TYPE, append_mime, {\n      /* Is output safe? */\n      safe: true,\n      /* Index of renderer in `output_area.display_order` */\n      index: 0\n    });\n  }\n\n  // register the mime type if in Jupyter Notebook environment and previously unregistered\n  if (root.Jupyter !== undefined) {\n    const events = require('base/js/events');\n    const OutputArea = require('notebook/js/outputarea').OutputArea;\n\n    if (OutputArea.prototype.mime_types().indexOf(EXEC_MIME_TYPE) == -1) {\n      register_renderer(events, OutputArea);\n    }\n  }\n  if (typeof (root._bokeh_timeout) === \"undefined\" || force === true) {\n    root._bokeh_timeout = Date.now() + 5000;\n    root._bokeh_failed_load = false;\n  }\n\n  const NB_LOAD_WARNING = {'data': {'text/html':\n     \"<div style='background-color: #fdd'>\\n\"+\n     \"<p>\\n\"+\n     \"BokehJS does not appear to have successfully loaded. If loading BokehJS from CDN, this \\n\"+\n     \"may be due to a slow or bad network connection. Possible fixes:\\n\"+\n     \"</p>\\n\"+\n     \"<ul>\\n\"+\n     \"<li>re-rerun `output_notebook()` to attempt to load from CDN again, or</li>\\n\"+\n     \"<li>use INLINE resources instead, as so:</li>\\n\"+\n     \"</ul>\\n\"+\n     \"<code>\\n\"+\n     \"from bokeh.resources import INLINE\\n\"+\n     \"output_notebook(resources=INLINE)\\n\"+\n     \"</code>\\n\"+\n     \"</div>\"}};\n\n  function display_loaded() {\n    const el = document.getElementById(\"1047\");\n    if (el != null) {\n      el.textContent = \"BokehJS is loading...\";\n    }\n    if (root.Bokeh !== undefined) {\n      if (el != null) {\n        el.textContent = \"BokehJS \" + root.Bokeh.version + \" successfully loaded.\";\n      }\n    } else if (Date.now() < root._bokeh_timeout) {\n      setTimeout(display_loaded, 100)\n    }\n  }\n\n  function run_callbacks() {\n    try {\n      root._bokeh_onload_callbacks.forEach(function(callback) {\n        if (callback != null)\n          callback();\n      });\n    } finally {\n      delete root._bokeh_onload_callbacks\n    }\n    console.debug(\"Bokeh: all callbacks have finished\");\n  }\n\n  function load_libs(css_urls, js_urls, callback) {\n    if (css_urls == null) css_urls = [];\n    if (js_urls == null) js_urls = [];\n\n    root._bokeh_onload_callbacks.push(callback);\n    if (root._bokeh_is_loading > 0) {\n      console.debug(\"Bokeh: BokehJS is being loaded, scheduling callback at\", now());\n      return null;\n    }\n    if (js_urls == null || js_urls.length === 0) {\n      run_callbacks();\n      return null;\n    }\n    console.debug(\"Bokeh: BokehJS not loaded, scheduling load and callback at\", now());\n    root._bokeh_is_loading = css_urls.length + js_urls.length;\n\n    function on_load() {\n      root._bokeh_is_loading--;\n      if (root._bokeh_is_loading === 0) {\n        console.debug(\"Bokeh: all BokehJS libraries/stylesheets loaded\");\n        run_callbacks()\n      }\n    }\n\n    function on_error(url) {\n      console.error(\"failed to load \" + url);\n    }\n\n    for (let i = 0; i < css_urls.length; i++) {\n      const url = css_urls[i];\n      const element = document.createElement(\"link\");\n      element.onload = on_load;\n      element.onerror = on_error.bind(null, url);\n      element.rel = \"stylesheet\";\n      element.type = \"text/css\";\n      element.href = url;\n      console.debug(\"Bokeh: injecting link tag for BokehJS stylesheet: \", url);\n      document.body.appendChild(element);\n    }\n\n    for (let i = 0; i < js_urls.length; i++) {\n      const url = js_urls[i];\n      const element = document.createElement('script');\n      element.onload = on_load;\n      element.onerror = on_error.bind(null, url);\n      element.async = false;\n      element.src = url;\n      console.debug(\"Bokeh: injecting script tag for BokehJS library: \", url);\n      document.head.appendChild(element);\n    }\n  };\n\n  function inject_raw_css(css) {\n    const element = document.createElement(\"style\");\n    element.appendChild(document.createTextNode(css));\n    document.body.appendChild(element);\n  }\n\n  const js_urls = [\"https://cdn.bokeh.org/bokeh/release/bokeh-2.4.3.min.js\", \"https://cdn.bokeh.org/bokeh/release/bokeh-gl-2.4.3.min.js\", \"https://cdn.bokeh.org/bokeh/release/bokeh-widgets-2.4.3.min.js\", \"https://cdn.bokeh.org/bokeh/release/bokeh-tables-2.4.3.min.js\", \"https://cdn.bokeh.org/bokeh/release/bokeh-mathjax-2.4.3.min.js\"];\n  const css_urls = [];\n\n  const inline_js = [    function(Bokeh) {\n      Bokeh.set_log_level(\"info\");\n    },\nfunction(Bokeh) {\n    }\n  ];\n\n  function run_inline_js() {\n    if (root.Bokeh !== undefined || force === true) {\n          for (let i = 0; i < inline_js.length; i++) {\n      inline_js[i].call(root, root.Bokeh);\n    }\nif (force === true) {\n        display_loaded();\n      }} else if (Date.now() < root._bokeh_timeout) {\n      setTimeout(run_inline_js, 100);\n    } else if (!root._bokeh_failed_load) {\n      console.log(\"Bokeh: BokehJS failed to load within specified timeout.\");\n      root._bokeh_failed_load = true;\n    } else if (force !== true) {\n      const cell = $(document.getElementById(\"1047\")).parents('.cell').data().cell;\n      cell.output_area.append_execute_result(NB_LOAD_WARNING)\n    }\n  }\n\n  if (root._bokeh_is_loading === 0) {\n    console.debug(\"Bokeh: BokehJS loaded, going straight to plotting\");\n    run_inline_js();\n  } else {\n    load_libs(css_urls, js_urls, function() {\n      console.debug(\"Bokeh: BokehJS plotting callback run at\", now());\n      run_inline_js();\n    });\n  }\n}(window));",
      "application/vnd.bokehjs_load.v0+json": ""
     },
     "metadata": {},
     "output_type": "display_data"
    },
    {
     "data": {
      "text/html": [
       "\n",
       "  <div class=\"bk-root\" id=\"61469102-b3b8-415f-b3d7-5ac83514f61c\" data-root-id=\"1002\"></div>\n"
      ]
     },
     "metadata": {},
     "output_type": "display_data"
    },
    {
     "data": {
      "application/javascript": "(function(root) {\n  function embed_document(root) {\n  const docs_json = {\"0ce5b8d2-fc78-4214-918f-40638539c8ec\":{\"defs\":[],\"roots\":{\"references\":[{\"attributes\":{\"below\":[{\"id\":\"1011\"}],\"center\":[{\"id\":\"1014\"},{\"id\":\"1018\"},{\"id\":\"1045\"}],\"height\":700,\"left\":[{\"id\":\"1015\"}],\"renderers\":[{\"id\":\"1043\"}],\"title\":{\"id\":\"1048\"},\"toolbar\":{\"id\":\"1029\"},\"width\":700,\"x_range\":{\"id\":\"1003\"},\"x_scale\":{\"id\":\"1007\"},\"y_range\":{\"id\":\"1005\"},\"y_scale\":{\"id\":\"1009\"}},\"id\":\"1002\",\"subtype\":\"Figure\",\"type\":\"Plot\"},{\"attributes\":{\"coordinates\":null,\"group\":null,\"source\":{\"id\":\"1038\"},\"text\":{\"field\":\"text_labels\"},\"text_align\":{\"value\":\"center\"},\"text_color\":{\"value\":\"#555555\"},\"text_font_size\":{\"value\":\"8pt\"},\"x\":{\"field\":\"x\"},\"y\":{\"field\":\"y\"},\"y_offset\":{\"value\":8}},\"id\":\"1045\",\"type\":\"LabelSet\"},{\"attributes\":{\"data\":{\"index\":[\"the\",\"and\",\"of\",\"to\",\"of_the\",\"in\",\"in_the\",\"with\",\"for\",\"by\",\"is\",\"at\",\"area\",\"as\",\"from\",\"on_the\",\"on\",\"or\",\"that\",\"this\",\"project\",\"within_the\",\"are\",\"drilling\",\"from_the\",\"figure\",\"gold\",\"to_be\",\"data\",\"project_area\",\"was\",\"mineralisation\",\"exploration\",\"has_been\",\"no\",\"during_the\",\"all\",\"have_been\",\"zone\",\"report\",\"pty_ltd\",\"results\",\"au\",\"it_is\",\"survey\",\"within\",\"sampling\",\"samples\",\"tenements\",\"western_australia\",\"the_tenement\",\"will_be\",\"were\",\"ltd\",\"some\",\"table\",\"be\",\"number_of\",\"mining\",\"resource\",\"the_north\",\"but\",\"tenement\",\"associated_with\",\"these\",\"limited\",\"up_to\",\"which\",\"coordinates_are\",\"not_surveyed\",\"are_integer\",\"warning_coordinates\",\"below\",\"poss_not\",\"integer_poss\",\"two\",\"australia\",\"over_the\",\"rocks\",\"part_of\",\"prospect\",\"holes\",\"between\",\"rock_chip\",\"annual_report\",\"the_east\",\"the_south\",\"samples_were\",\"has\",\"can_be\",\"gold_mineralisation\",\"using\",\"the_west\",\"where\",\"resources\",\"hole\",\"over\",\"due_to\",\"deposit\",\"areas\",\"rock\",\"into\",\"total_of\",\"along_the\",\"period\",\"surface\",\"both\",\"reporting_period\",\"an\",\"alteration\",\"ore\",\"group\",\"sample\",\"pit\",\"the_main\",\"km\",\"including\",\"high_grade\",\"one\",\"formation\",\"south\",\"only\",\"deposits\",\"grade\",\"surveyed_rab\",\"however\",\"metres\",\"west\",\"the_following\",\"north\",\"in_table\",\"this_report\",\"carried_out\",\"is_located\",\"of_western\",\"other\",\"appendix\",\"during\",\"have\",\"in_this\",\"mine\",\"may_be\",\"geology\",\"rc_drilling\",\"potential\",\"east\",\"further\",\"there_is\",\"of_these\",\"cloud_break\",\"region\",\"not\",\"which_is\",\"fault\",\"may\",\"the_eastern\",\"completed\",\"drill_hole\",\"joint_venture\",\"based_on\",\"greenstone_belt\",\"also\",\"in_appendix\",\"soil_sampling\",\"units\",\"area_is\",\"ultramafic\",\"work\",\"contact\",\"model\",\"program\",\"unit\",\"to_test\",\"rab_drilling\",\"significant\",\"the_southern\",\"iron_ore\",\"this_is\",\"field\",\"areas_of\",\"end_of\",\"section\",\"sequence\",\"the_presence\",\"small\",\"target\",\"mapping\",\"the_northern\",\"veins\",\"exploration_activities\",\"mafic\",\"above\",\"basalt\",\"zones\",\"project_is\",\"any\",\"core\",\"in_figure\",\"regional\",\"follow_up\",\"high\",\"interpretation\",\"anomalies\",\"was_completed\",\"quartz\",\"anomaly\",\"out\",\"well\",\"drill_holes\",\"south_of\",\"fine_grained\",\"ni\",\"belt\",\"vegetation\",\"species\",\"approximately_km\",\"time\",\"up\",\"bif\",\"there_are\",\"structure\",\"identified\",\"depth\",\"is_not\",\"the_base\",\"soil\",\"water\",\"should_be\",\"north_of\",\"site\",\"east_of\",\"holes_were\",\"geological\",\"geological_mapping\",\"shear_zone\",\"low\",\"granite\",\"ground\",\"approximately\",\"three\",\"previous_exploration\",\"material\",\"nickel\",\"plan\",\"included\",\"the_mt\",\"between_and\",\"about\",\"were_drilled\",\"strike\",\"map\",\"if\",\"through_the\",\"total\",\"major\",\"as_well\",\"than\",\"cover\",\"values\",\"sediments\",\"stratigraphy\",\"include\",\"series_of\",\"prior_to\",\"being\",\"west_of\",\"was_undertaken\",\"page\",\"line\",\"review_of\",\"range\",\"form\",\"located\",\"shear\",\"structures\",\"in_addition\",\"the_reporting\",\"portion_of\",\"system\",\"analysis\",\"mineralisation_is\",\"it_was\",\"been\",\"the_current\",\"potential_for\",\"following\",\"the_same\",\"several\",\"interpretation_of\",\"vein\",\"page_of\",\"the_majority\",\"geological_survey\",\"such_as\",\"targets\",\"report_for\",\"regional_geology\",\"their\",\"along\",\"an_area\",\"although\",\"the_first\",\"surveys\",\"as_part\",\"australia_pty\",\"most_of\",\"for_gold\",\"complex\",\"exploration_licence\",\"geology_of\",\"location_of\",\"outcrop\",\"rc\",\"which_are\",\"nl\",\"adjacent_to\",\"previous\",\"western\",\"low_grade\",\"pyrite\",\"after\",\"study\",\"most\",\"consists_of\",\"are_shown\",\"type\",\"department_of\",\"grid\",\"possible\",\"to_determine\",\"used_to\",\"dolerite\",\"ppb_au\",\"interpreted\",\"summary_of\",\"present\",\"quartz_veins\",\"list_of\",\"the_fortescue\",\"generally\",\"throughout_the\",\"ultramafic_rocks\",\"each\",\"the_central\",\"intrusion\",\"through\",\"it\",\"was_carried\",\"level\",\"summary\",\"mineralization\",\"access\",\"large\",\"locations\",\"new\",\"more\",\"test\",\"its\",\"the_lower\",\"used\",\"to_have\",\"minor\",\"banded_iron\",\"review\",\"sequence_of\",\"were_collected\",\"scale\",\"trend\",\"down_hole\",\"was_conducted\",\"drilling_was\",\"al\",\"drilled\",\"along_strike\",\"then\",\"lines\",\"around_the\",\"the_upper\",\"development\",\"year\",\"mafic_ultramafic\",\"magnetic\",\"to_date\",\"appears_to\",\"ppm\",\"with_minor\",\"collected\",\"magnetite\",\"range_of\",\"sulphides\",\"sulphide\",\"thick\",\"this_work\",\"development_of\",\"location\",\"and_diamond\",\"assay\",\"associated\",\"tenure\",\"across_the\",\"sandstone\",\"the_company\",\"data_was\",\"early\",\"near_the\",\"database\",\"at_least\",\"zones_of\",\"processing\",\"defined\",\"base_metal\",\"geochemistry\",\"wide\",\"the_proposed\",\"estimate\",\"cu\",\"rc_holes\",\"testing\",\"geology_and\",\"conducted\",\"activities\",\"local\",\"tenements_are\",\"programme\",\"work_completed\",\"with_an\",\"open_pit\",\"to_provide\",\"mm\",\"is_shown\",\"combined_annual\",\"rab\",\"weathering\",\"dominated_by\",\"the_department\",\"undertaken\",\"around\",\"are_presented\",\"the_best\",\"at_depth\",\"diamond_drilling\",\"hill\",\"et_al\",\"prospects\",\"location_and\",\"size\",\"technical_report\",\"that_are\",\"domain\",\"related_to\",\"soil_samples\",\"basin\",\"access_to\",\"assay_results\",\"results_from\",\"faults\",\"known\",\"when\",\"was_used\",\"in_order\",\"analysis_of\",\"regolith\",\"reports\",\"report_no\",\"project_annual\",\"minerals\",\"dip\",\"sites\",\"creek\",\"located_in\",\"nickel_sulphide\",\"and_minor\",\"were_completed\",\"au_ppm\",\"resource_estimate\",\"intersected\",\"lease\",\"no_significant\",\"june\",\"eastern_goldfields\",\"north_south\",\"and_then\",\"mining_lease\",\"kalgoorlie\",\"lode\",\"massive\",\"appear_to\",\"plant\",\"interpreted_to\",\"could_be\",\"ppb\",\"iron\",\"under_the\",\"intervals\",\"mt\",\"central\",\"detailed\",\"workings\",\"vicinity_of\",\"is_situated\",\"gold_deposits\",\"drilling_program\",\"recorded\",\"process\",\"these_are\",\"this_area\",\"sections\",\"are_not\",\"is_also\",\"returned\",\"less_than\",\"the_archaean\",\"used_for\",\"designed_to\",\"production\",\"was_not\",\"details_of\",\"in_some\",\"introduction\",\"lease_no\",\"sheet\",\"depth_of\",\"fmg\",\"east_west\",\"shear_zones\",\"either\",\"is_presented\",\"much_of\",\"mines\",\"aeromagnetic_data\",\"east_kimberley\",\"drill\",\"survey_was\",\"porphyry\",\"was_also\",\"coarse_grained\",\"environment\",\"december\",\"date\",\"block\",\"pits\",\"value\",\"road\",\"surface_water\",\"vein_sulphides\",\"quartz_veining\",\"weathering_depth\",\"quality\",\"foliation\",\"anomalous\",\"which_was\",\"type_hole\",\"copper\",\"rock_altn\",\"proposed\",\"parts_of\",\"hills\",\"of_interest\",\"open\",\"exploration_index\",\"cut\",\"lower\",\"yilgarn_craton\",\"th\",\"the_original\",\"and_felsic\",\"aircore_drilling\",\"the_dominant\",\"is_interpreted\",\"station\",\"mineralisation_at\",\"march\",\"various\",\"gabbro\",\"for_total\",\"off\",\"current\",\"perth\",\"management\",\"results_are\",\"northwest\",\"extent_of\",\"primary\",\"mn\",\"late\",\"wimbledon_collar_export\",\"rehabilitation\",\"gold_mineralization\",\"available\",\"mainly\",\"assessment\",\"indicated\",\"as_result\",\"surveyed_ac\",\"dome\",\"had\",\"similar\",\"included_in\",\"biotite\",\"trending\",\"chlorite\",\"information\",\"holes_for\",\"would_be\",\"did_not\",\"southern_cross\",\"exploration_work\",\"soils\",\"survey_area\",\"elements\",\"tested\",\"western_australian\",\"to_identify\",\"quartz_vein\",\"considered_to\",\"is_dominated\",\"carbonate\",\"for_au\",\"length_of\",\"distribution_of\",\"strike_length\",\"host\",\"do_not\",\"native_title\",\"additional\",\"four\",\"fig\",\"covered_by\",\"is_considered\",\"company\",\"period_ending\",\"felsic\",\"greater_than\",\"block_model\",\"ma\",\"sediment\",\"to_ensure\",\"they_are\",\"located_within\",\"for_each\",\"use_of\",\"stream_sediment\",\"parallel_to\",\"medium_grained\",\"the_year\",\"is_required\",\"laterite\",\"br_lgy\",\"potential_to\",\"method\",\"annual_technical\",\"includes\",\"shown_in\",\"fortescue_metals\",\"tenement_area\",\"blocks\",\"as_follows\",\"is_associated\",\"shallow\",\"lithologies\",\"eastern\",\"results_were\",\"under\",\"does_not\",\"details\",\"the_mount\",\"mineral\",\"value_of\",\"main\",\"mineralised\",\"image\",\"consisted_of\",\"years\",\"from_this\",\"domains\",\"january\",\"high_mg\",\"july\",\"observed\",\"north_east\",\"provided\",\"sampling_was\",\"towards_the\",\"along_with\",\"via_the\",\"ultramafic_units\",\"part\",\"used_in\",\"report_on\",\"gold_exploration\",\"grades\",\"thin\",\"felsic_volcanics\",\"northern\",\"reporting\",\"contact_between\",\"deformation\",\"operations\",\"exploration_report\",\"lodes\",\"close_to\",\"locally\",\"tippwell_collar_export\",\"sedimentary_rocks\",\"estimation\",\"overlain_by\",\"mineral_exploration\",\"are_located\",\"assays\",\"pyrrhotite\",\"to_depth\",\"cm\",\"mapping_and\",\"the_entire\",\"fe\",\"clay\",\"result_of\",\"open_file\",\"wa\",\"conditions\",\"bedrock\",\"nature_of\",\"local_geology\",\"existing\",\"density\",\"the_top\",\"volcanics\",\"represent\",\"pb\",\"while\",\"br_gy\",\"the_existing\",\"resources_limited\",\"so\",\"of_industry\",\"felsic_volcanic\",\"geological_interpretation\",\"mineral_field\",\"surveyed\",\"given\",\"made\",\"geochemical\",\"such\",\"further_work\",\"resource_estimation\",\"contains\",\"of_contents\",\"that_has\",\"similar_to\",\"altered\",\"located_on\",\"for_all\",\"for_nickel\",\"often\",\"ni_cu\",\"extensive\",\"tenement_is\",\"control\",\"in_accordance\",\"data_from\",\"the_basal\",\"for_analysis\",\"reverse_circulation\",\"were_identified\",\"massive_sulphide\",\"komatiite\",\"september\",\"features\",\"probably\",\"bore\",\"iron_formation\",\"digital_data\",\"will\",\"defined_by\",\"may_have\",\"km_north\",\"to_produce\",\"structural\",\"an_average\",\"followed_by\",\"presented_in\",\"rock_types\",\"is_present\",\"bands\",\"average\",\"aqua_regia\",\"the_bulk\",\"occur_in\",\"since\",\"operation\",\"adjacent\",\"subject_to\",\"the_norseman\",\"has_not\",\"cut_off\",\"location_plan\",\"weathered\",\"contact_with\",\"metals_group\",\"intruded_by\",\"strong\",\"sand\",\"required\",\"recovery\",\"base_of\",\"april\",\"base\",\"comprises\",\"anomalous_gold\",\"is_generally\",\"derived_from\",\"common\",\"phase\",\"different\",\"schist\",\"possibly\",\"down_dip\",\"rab_wimbledon\",\"resulted_in\",\"suggests_that\",\"co\",\"line_spacing\",\"mineral_resource\",\"stage\",\"file\",\"services\",\"trace\",\"mercator_gold\",\"margin_of\",\"taken\",\"see_figure\",\"doc\",\"rare\",\"it_has\",\"number\",\"more_than\",\"produced\",\"spacing\",\"out_by\",\"assessment_of\",\"management_plan\",\"north_west\",\"southern\",\"occurs_in\",\"matrix\",\"to_metres\",\"were_also\",\"are_also\",\"is_included\",\"area_has\",\"acacia_aneura\",\"that_have\",\"at_au\",\"whilst\",\"about_km\",\"deep\",\"rc_drill\",\"work_was\",\"in_particular\",\"located_approximately\",\"which_has\",\"reported\",\"is_via\",\"resource_model\",\"the_pilbara\",\"failed_to\",\"orientation\",\"february\",\"one_metre\",\"typically\",\"resources_ltd\",\"and_therefore\",\"industry_and\",\"figure_shows\",\"interval\",\"containing\",\"with_some\",\"methods\",\"estimated\",\"type_rc\",\"as_an\",\"are_listed\",\"modelling\",\"considered\",\"study_area\",\"public_environmental\",\"response\",\"of_kalgoorlie\",\"during_this\",\"of_ppb\",\"were_not\",\"use\",\"kilometres\",\"dykes\",\"exploration_licences\",\"were_used\",\"together_with\",\"mineral_resources\",\"mining_leases\",\"to_assess\",\"sulphide_mineralisation\",\"forms\",\"near_surface\",\"ultramafics\",\"developed\",\"position\",\"kalgoorlie_terrane\",\"gravity\",\"recommendations\",\"before\",\"maximum\",\"nebore_collar_export\",\"integra_mining\",\"rab_nebore\",\"the_second\",\"rather_than\",\"overlying\",\"characterised_by\",\"consistent_with\",\"refer_to\",\"status\",\"later\",\"jubilee_mines\",\"ms\",\"rab_holes\",\"agreement\",\"without\",\"north_northwest\",\"significant_gold\",\"near\",\"covers\",\"highway\",\"grade_control\",\"an_extensive\",\"combined\",\"top_of\",\"program_was\",\"metre\",\"in_places\",\"the_highest\",\"submitted_to\",\"selected\",\"ultramafic_unit\",\"final\",\"peak_hill\",\"boundary\",\"northeast_of\",\"groundwater\",\"drillholes\",\"historical\",\"body\",\"conglomerate\",\"drill_core\",\"base_metals\",\"chert\",\"comprising\",\"long\",\"plan_figure\",\"group_limited\",\"magnetic_data\",\"amphibolite\",\"projects\",\"coal\",\"to_define\",\"auger_soil\",\"mostly\",\"were_taken\",\"prospective_for\",\"tenement_details\",\"october\",\"ore_project\",\"this_tenement\",\"multi_element\",\"undertaken_by\",\"mafic_rocks\",\"lies_within\",\"show\",\"terrain\",\"while_the\",\"figures_and\",\"to_allow\",\"august\",\"surface_geochemistry\",\"shale\",\"that_may\",\"broad\",\"inferred\",\"pilbara\",\"found_in\",\"bodies\",\"in_perth\",\"some_km\",\"images\",\"diamond\",\"package\",\"ranges\",\"laverton\",\"geophysical_data\",\"are_given\",\"mined\",\"drilling_at\",\"northwest_of\",\"the_remaining\",\"lithology\",\"and_access\",\"and_zn\",\"indicates_that\",\"leases\",\"priority\",\"this_species\",\"ne\",\"identified_in\",\"is_recommended\",\"targeted\",\"act\",\"had_been\",\"edge_of\",\"likely_to\",\"was_intersected\",\"teck_cominco\",\"channel\",\"unpublished_report\",\"project_combined\",\"sample_was\",\"regional_scale\",\"mining_limited\",\"targeting\",\"feature\",\"tracks\",\"deposit_is\",\"amount_of\",\"further_exploration\",\"fine_to\",\"which_were\",\"interest_in\",\"interpreted_as\",\"predominantly\",\"as_shown\",\"south_west\",\"those\",\"which_have\",\"within_this\",\"grains\",\"gold_values\",\"sediments_and\",\"programs\",\"was_granted\",\"dipping\",\"figures\",\"numerous\",\"intrusive\",\"conducted_by\",\"all_holes\",\"halls_creek\",\"prospect_is\",\"belt_is\",\"veining\",\"zn\",\"metamorphism\",\"five\",\"hematite\",\"levels\",\"intrusions\",\"trends\",\"down\",\"silica\",\"drainage\",\"second\",\"soil_geochemistry\",\"vertical\",\"in_section\",\"minerals_and\",\"acquired\",\"data_were\",\"are_considered\",\"studies\",\"gravity_survey\",\"overall\",\"reconnaissance\",\"systems\",\"november\",\"northeast\",\"fresh\",\"pilbara_iron\",\"table_below\",\"in_conjunction\",\"basalts\",\"station_tracks\",\"diamond_drill\",\"consisting_of\",\"are_interpreted\",\"the_coolgardie\",\"the_yilgarn\",\"rich\",\"drillhole\",\"intersection_of\",\"south_east\",\"granite_greenstone\",\"planned\",\"in_situ\",\"complete\",\"basis_of\",\"narrow\",\"au_from\",\"is_likely\",\"previous_work\",\"good\",\"green\",\"plate\",\"extension_of\",\"which_may\",\"red\",\"break_iron\",\"flora_and\",\"drilled_to\",\"centre_of\",\"this_survey\",\"completed_by\",\"rio_tinto\",\"nickel_copper\",\"search\",\"low_level\",\"are_included\",\"combined_reporting\",\"coordinates\",\"province\",\"indicate_that\",\"higher\",\"northwest_trending\",\"resulting_in\",\"plagioclase\",\"composite_samples\",\"standard\",\"out_on\",\"granitoids\",\"limited_page\",\"compilation_of\",\"texture\",\"higher_grade\",\"this_unit\",\"the_footwall\",\"location_map\",\"lionore_australia\",\"drilling_data\",\"indicate\",\"mineralisation_within\",\"on_behalf\",\"thin_section\",\"format\",\"the_discovery\",\"event\",\"continued\",\"conductor\",\"re\",\"may_not\",\"was_recorded\",\"conclusions_and\",\"greenstone\",\"larger\",\"work_carried\",\"the_southeast\",\"types\",\"br_dgy\",\"facies\",\"air_core\",\"completed_in\",\"intersections\",\"fauna\",\"contacts\",\"topography\",\"sequence_is\",\"known_as\",\"geological_setting\",\"impacts\",\"were_recorded\",\"host_to\",\"doir\",\"composites\",\"general\",\"most_likely\",\"geophysics\",\"breccia\",\"recent\",\"gold_deposit\",\"mineralisation_was\",\"mining_operations\",\"sample_locations\",\"source_of\",\"granodiorite\",\"january_to\",\"distribution\",\"calcrete\",\"garnet\",\"these_areas\",\"composite\",\"future\",\"steeply_dipping\",\"soil_anomaly\",\"environ_fmg\",\"hosted_by\",\"must_be\",\"local_grid\",\"present_in\",\"oz\",\"anomalism\",\"there_was\",\"the_laverton\",\"mafic_volcanics\",\"data_set\",\"cross_cutting\",\"historic\",\"jv\",\"outcrops\",\"nw\",\"now\",\"land\",\"deposits_are\",\"goethite\",\"of_conservation\",\"anticline\",\"agreement_with\",\"flows\",\"evidence_of\",\"the_hamersley\",\"underlain_by\",\"sub_parallel\",\"exploration_drilling\",\"parallel\",\"olivine\",\"presence_of\",\"project_tenements\",\"metals\",\"resources_nl\",\"placer_dome\",\"ppm_cu\",\"note\",\"flow\",\"previously\",\"gossan\",\"represents\",\"on_site\",\"fresh_rock\",\"potential_impacts\",\"single\",\"setting\",\"report_doc\",\"sheared\",\"are_generally\",\"disseminated\",\"comprised\",\"samples_from\",\"noise\",\"formation_is\",\"fine\",\"ii\",\"recorded_in\",\"and_analysed\",\"overburden\",\"km_south\",\"channels\",\"the_lack\",\"as_appendix\",\"to_form\",\"footwall\",\"many_of\",\"required_to\",\"southern_geoscience\",\"aboriginal_heritage\",\"sampled\",\"granitoid\",\"gold_mine\",\"generated\",\"jackson_gold\",\"intercepts\",\"are_summarised\",\"craton\",\"lack_of\",\"priority_flora\",\"surface_sampling\",\"geochemical_sampling\",\"is_characterised\",\"lenses\",\"the_initial\",\"in_november\",\"this_zone\",\"environmental_protection\",\"all_samples\",\"haul_road\",\"composed_of\",\"to_represent\",\"few\",\"therefore\",\"fire_assay\",\"talc\",\"the_old\",\"and_possibly\",\"further_drilling\",\"was_designed\",\"environmental\",\"is_hosted\",\"group_is\",\"analysed_for\",\"is_more\",\"variable\",\"rab_tippwell\",\"not_been\",\"assay_data\",\"reef\",\"no_further\",\"south_junction\",\"applied_to\",\"plunge\",\"portions_of\",\"particularly\",\"previous_drilling\",\"to_mm\",\"the_underlying\",\"source\",\"direction\",\"at_scale\",\"sill\",\"exploration_pty\",\"techniques\",\"mg\",\"over_acacia\",\"geological_report\",\"extent\",\"high_mgo\",\"there_were\",\"basement\",\"mapped\",\"terrane\",\"south_project\",\"separate\",\"dolomite\",\"very\",\"out_in\",\"ridge\",\"surrounding\",\"consultants\",\"faulting\",\"for_further\",\"significance\",\"little\",\"se\",\"tonnes\",\"have_not\",\"evaluation_of\",\"was_drilled\",\"is_based\",\"boundaries\",\"holes_drilled\",\"coarse\",\"in_excess\",\"see\",\"shows\",\"covered\",\"found\",\"formations\",\"exploration_program\",\"are_present\",\"contain\",\"aerial_photography\",\"track\",\"related\",\"taken_from\",\"held\",\"over_strike\",\"faults_and\",\"in_both\",\"the_completion\",\"in_general\",\"collected_from\",\"reserve\",\"break\",\"find\",\"is_provided\",\"appropriate\",\"be_used\",\"obtained_from\",\"another\",\"respectively\",\"licence\",\"completed_on\",\"divided_into\",\"geochemical_data\",\"oxide\",\"entered_into\",\"project_page\",\"past\",\"initially\",\"laboratory\",\"been_identified\",\"waste\",\"it_may\",\"were_analysed\",\"were_submitted\",\"textures\",\"classification\",\"christmas_creek\",\"beneath_the\",\"field_reconnaissance\",\"underground\",\"the_centre\",\"road_and\",\"to_assist\",\"less\",\"client\",\"diamond_holes\",\"according_to\",\"exploration_potential\",\"held_by\",\"were_undertaken\",\"to_ppm\",\"western_margin\",\"currently\",\"in_october\",\"grained\",\"break_september\",\"ref_cloud\",\"is_approximately\",\"saprolite\",\"cr\",\"interest\",\"hummock_grassland\",\"layered_mafic\",\"old\",\"component\",\"aircore_holes\",\"the_aim\",\"occur_within\",\"and_sedimentary\",\"hole_was\",\"fold\",\"poor\",\"as_such\",\"valley\",\"prepared_by\",\"var_aneura\",\"jundeemine_collar_export\",\"dyke\",\"concluded_that\",\"support\",\"district\",\"great_northern\",\"seen_in\",\"indicates\",\"gold_australia\",\"centre\",\"the_surrounding\",\"ground_em\",\"abundant\",\"for_metres\",\"the_gswa\",\"infrastructure\",\"point\",\"project_location\",\"need_to\",\"australia_geological\",\"the_purpose\",\"at_each\",\"largely\",\"river\",\"shears\",\"located_km\",\"where_it\",\"in_relation\",\"undertaken_in\",\"weak\",\"flat\",\"ore_body\",\"the_property\",\"volcanic_rocks\",\"ground_magnetic\",\"these_holes\",\"this_study\",\"mason_geoscience\",\"the_last\",\"horizons\",\"as_small\",\"intersected_in\",\"ptilotus_obovatus\",\"greenstone_sequence\",\"name\",\"alluvium\",\"mining_centre\",\"deposits_in\",\"quartz_carbonate\",\"rock_type\",\"as_it\",\"sample_site\",\"thickness\",\"has_also\",\"fortescue_group\",\"drilling_has\",\"concentrate\",\"combination_of\",\"magnetics\",\"boundary_of\",\"port_hedland\",\"schists\",\"specific\",\"provide\",\"continuity_of\",\"package_of\",\"approximately_kilometres\",\"classified_as\",\"high_strain\",\"fi_ll\",\"archaean\",\"exploration_activity\",\"colour\",\"siltstone\",\"indicated_that\",\"obtained\",\"drill_testing\",\"metasediments\",\"traverses\",\"fault_zone\",\"samples_collected\",\"conducted_on\",\"occurs_as\",\"is_currently\",\"origin\",\"progressive_rehabilitation\",\"explored\",\"the_overall\",\"restricted_to\",\"very_fine\",\"and_submitted\",\"compared_to\",\"was_found\",\"tenement_status\",\"because_of\",\"forming\",\"explanatory_notes\",\"logging\",\"em\",\"via\",\"foliation_parallel\",\"etc\",\"final_doc\",\"to_occur\",\"recommended\",\"this_anomaly\",\"standards\",\"gold_anomalism\",\"diamond_core\",\"greenstones\",\"costs\",\"chalcopyrite\",\"activity\",\"references\",\"volcanics_and\",\"the_focus\",\"strike_slip\",\"black\",\"coincident_with\",\"separated_by\",\"comprise\",\"gneiss\",\"suggest_that\",\"equipment\",\"profile\",\"monitoring\",\"ppm_au\",\"tr\",\"gold_mines\",\"occur\",\"anomaly_is\",\"which_will\",\"this_will\",\"bedding\",\"lake\",\"exposed\",\"closure\",\"position_of\",\"nengland_collar_export\",\"target_areas\",\"ga\",\"design\",\"brown\",\"subject_of\",\"fmg_will\",\"mining_ltd\",\"observed_in\",\"corridor\",\"outside_the\",\"tuckabianna_project\",\"uranium\",\"to_minimise\",\"length\",\"beds\",\"surface_geochemical\",\"other_specify\",\"lies\",\"areas_where\",\"feldspar\",\"basal_contact\",\"alluvial\",\"covering_the\",\"across\",\"these_samples\",\"outcropping\",\"planning\",\"western_side\",\"traverse\",\"with_quartz\",\"eg\",\"magnetic_susceptibility\",\"dam\",\"increased\",\"smaller\",\"pty_limited\",\"background\",\"in_june\",\"the_basis\",\"preliminary\",\"prepared_for\",\"western_areas\",\"work_undertaken\",\"these_were\",\"description_of\",\"quartz_feldspar\",\"soil_sample\",\"rock_samples\",\"work_is\",\"transported\",\"given_in\",\"project_areas\",\"the_telfer\",\"australia_limited\",\"were_returned\",\"thickness_of\",\"northern_highway\",\"referred_to\",\"prospective\",\"moving_loop\",\"crescent_gold\",\"cravens_collar_export\",\"over_triodia\",\"the_next\",\"result\",\"white\",\"regia_digest\",\"syncline\",\"construction_of\",\"understanding_of\",\"required_for\",\"expected_to\",\"in_july\",\"quality_control\",\"grey\",\"prospecting\",\"in_april\",\"application\",\"in_march\",\"of_tonnes\",\"set\",\"contained\",\"goldfields\",\"gold_anomalies\",\"commonly\",\"downhole\",\"water_table\",\"followed_up\",\"located_at\",\"the_great\",\"comprised_of\",\"are_provided\",\"occurs\",\"surveying\",\"gto_gto\",\"horizon\",\"rate_of\",\"tenement_location\",\"nt\",\"that_there\",\"annual\",\"nickel_exploration\",\"subsequently\",\"economic\",\"upper\",\"models\",\"for_example\",\"amphibolite_facies\",\"profiles\",\"legend\",\"was_made\",\"upon\",\"nnw_trending\",\"marshes\",\"and_land\",\"bounded_by\",\"volcanic_and\",\"shown\",\"again\",\"region_is\",\"airborne_magnetic\",\"they\",\"communities\",\"rocks_are\",\"lupton_collar_export\",\"sericite\",\"estimates\",\"them\",\"extension\",\"measured\",\"by_fire\",\"case\",\"established\",\"logged\",\"wall\",\"in_december\",\"small_scale\",\"away_from\",\"camp\",\"felsic_porphyry\",\"intersection\",\"changes_in\",\"are_associated\",\"as_per\",\"talc_carbonate\",\"large_scale\",\"the_full\",\"suggests\",\"is_very\",\"sequences\",\"clearing\",\"transported_cover\",\"ni_co\",\"inferred_resource\",\"the_principal\",\"likely\",\"northern_part\",\"to_host\",\"notes\",\"was_acquired\",\"more_detailed\",\"locations_are\",\"polaris_metals\",\"granted\",\"and_white\",\"fauna_survey\",\"geological_map\",\"the_collection\",\"black_flag\",\"to_complete\",\"showing\",\"rock_chips\",\"is_available\",\"moderate\",\"in_late\",\"aircore\",\"intruded\",\"greenstone_belts\",\"expected\",\"volume\",\"cu_zn\",\"style\",\"nearby\",\"auger_drilling\",\"the_bluebird\",\"suite_of\",\"km_east\",\"field_work\",\"prospect_area\",\"proximity_to\",\"dewatering\",\"colluvium\",\"collar_export_newbema\",\"range_from\",\"modelled\",\"period_st\",\"murchison_metals\",\"ranging_from\",\"many\",\"can\",\"half_of\",\"degrees\",\"with_only\",\"folding\",\"construction\",\"not_be\",\"newbema_warning\",\"once\",\"resource_estimates\",\"usually\",\"diamonds\",\"jack_hills\",\"north_eastern\",\"gold_price\",\"were_located\",\"drilling_programs\",\"and_metallurgy\",\"best\",\"and_infrastructure\",\"to_explore\",\"order_of\",\"australian\",\"fractures\",\"important\",\"first\",\"figure_location\",\"is_covered\",\"the_southwest\",\"magnetic_anomaly\",\"thought_to\",\"mill\",\"regolith_mapping\",\"first_pass\",\"residual\",\"this_may\",\"same\",\"cross\",\"metal_group\",\"plus\",\"ore_fortescue\",\"over_an\",\"six\",\"field_duplicates\",\"but_no\",\"peak\",\"km_long\",\"bif_units\",\"shales\",\"the_largest\",\"on_th\",\"individual\",\"sedimentary\",\"basis\",\"the_latter\",\"pilbara_region\",\"to_enable\",\"exploration_completed\",\"br_dgn\",\"trough_well\",\"sheets\",\"involved\",\"definition_of\",\"lead\",\"here\",\"shows_the\",\"rl\",\"for_ni\",\"limit_of\",\"st_december\",\"lake_carey\",\"occurrence_of\",\"ppm_ni\",\"greenstone_terranes\",\"were_sampled\",\"gqzfdbi_grg\",\"granites\",\"striking\",\"series\",\"geophysical\",\"crystals\",\"based\",\"acacia_pruinocarpa\",\"open_cut\",\"prepared\",\"initial\",\"regional_geological\",\"the_remainder\",\"analyses\",\"drilling_programme\",\"product\",\"as_described\",\"conclusions\",\"files\",\"north_northeast\",\"mining_nl\",\"historical_exploration\",\"original\",\"like\",\"very_high\",\"to_intermediate\",\"plant_communities\",\"to_develop\",\"ef_ec\",\"an_upper\",\"salt_lake\",\"ll_fi\",\"gps\",\"increase\",\"th_june\",\"subsequent\",\"to_cm\",\"mineralised_zone\",\"phase_of\",\"with_maximum\",\"in_size\",\"total_magnetic\",\"sub\",\"heron_resources\",\"wmc\",\"is_expected\",\"work_on\",\"focused_on\",\"compiled\",\"top\",\"orientation_of\",\"set_of\",\"research\",\"to_june\",\"in_terms\",\"gold_ltd\",\"is_relatively\",\"parameters\",\"project_comprises\",\"in_turn\",\"plains\",\"ag\",\"in_august\",\"province_of\",\"was_identified\",\"cutting\",\"all_drill\",\"old_workings\",\"cazaly_resources\",\"spinifex\",\"foliated\",\"localised\",\"soil_anomalies\",\"but_not\",\"tend_to\",\"to_follow\",\"is_summarised\",\"cross_sections\",\"extended\",\"the_whole\",\"auger_sampling\",\"var_obovatus\",\"gravity_data\",\"continuation_of\",\"hanging_wall\",\"as_being\",\"aggregates\",\"is_planned\",\"are_known\",\"should\",\"is_described\",\"mindy_mindy\",\"prospectus\",\"rare_flora\",\"intensity\",\"southeast_of\",\"associates\",\"resources_pty\",\"loop\",\"feasibility_study\",\"however_it\",\"appendices\",\"shrubs_over\",\"mineral_deposits\",\"the_acquisition\",\"to_come\",\"data_compilation\",\"to_avoid\",\"end\",\"assemblage\",\"bulk_density\",\"sills\",\"well_developed\",\"grg\",\"listed_in\",\"increase_in\",\"prospecting_licences\",\"dam_project\",\"purposes\",\"properties\",\"described_in\",\"leach\",\"is_still\",\"to_confirm\",\"requirements\",\"may_also\",\"target_area\",\"ferruginous\",\"mine_site\",\"open_pits\",\"in_house\",\"bottom_of\",\"were_assayed\",\"intermediate\",\"wiluna\",\"detailed_geological\",\"width\",\"and_analytical\",\"basalts_and\",\"tenement_package\",\"coolgardie\",\"alteration_zones\",\"developed_in\",\"consist_of\",\"tonnes_at\",\"infill\",\"apart_from\",\"layer\",\"returned_from\",\"black_shale\",\"were_intersected\",\"metamorphic\",\"author\",\"to_better\",\"to_contain\",\"figure_regional\",\"composition\",\"gold_bearing\",\"survey_data\",\"type_rab\",\"underlying\",\"figures_figure\",\"that_can\",\"gold_anomaly\",\"completed_over\",\"remains\",\"validation\",\"the_exception\",\"sampling_program\",\"though\",\"bullfinch_north\",\"norseman\",\"review_cloud\",\"september_fortescue\",\"chips\",\"soil_survey\",\"layers\",\"in_place\",\"komatiites\",\"to_obtain\",\"caused_by\",\"result_in\",\"the_lady\",\"detail\",\"ore_reserves\",\"below_surface\",\"and_associates\",\"is_now\",\"materials\",\"procedures\",\"clear\",\"rab_drill\",\"light\",\"reserves\",\"sent_to\",\"personnel\",\"lake_johnston\",\"shown_on\",\"property\",\"recommended_that\",\"pegmatite\",\"using_an\",\"is_probably\",\"geological_model\",\"this_hole\",\"water_quality\",\"with_respect\",\"used_as\",\"rainfall\",\"sets\",\"pdf\",\"ground_magnetics\",\"processes\",\"all_drilling\",\"br_gn\",\"conductors\",\"western_zone\",\"tenement_group\",\"criteria\",\"assemblages\",\"in_length\",\"so_that\",\"geophysical_interpretation\",\"and_fauna\",\"any_significant\",\"heritage_survey\",\"applications\",\"gcmjseb_warning\",\"rab_jundeemine\",\"exploration_data\",\"collar_export_gcmjseb\",\"southern_part\",\"for_any\",\"ultramafic_intrusions\",\"ie\",\"difficult_to\",\"deeper\",\"in_early\",\"services_pty\",\"variations_in\",\"accuracy\",\"band\",\"mineralised_zones\",\"clays\",\"is_defined\",\"groups\",\"unit_is\",\"oxidation\",\"flat_lying\",\"fortescue_marshes\",\"as_defined\",\"at_mt\",\"and_radiometric\",\"regional_exploration\",\"identified_by\",\"to_dec\",\"polaris\",\"exploration_limited\",\"drill_tested\",\"all_other\",\"earlier\",\"description\",\"member\",\"is_overlain\",\"down_plunge\",\"having\",\"as_they\",\"cr_cu\",\"note_that\",\"nne_trending\",\"ounces_of\",\"completed_during\",\"the_jack\",\"software\",\"style_of\",\"were_carried\",\"they_were\",\"project_tenement\",\"expenditure\",\"was_applied\",\"potentially\",\"which_included\",\"the_greenstones\",\"other_than\",\"shearing\",\"auger\",\"boundary_between\",\"in_september\",\"that_will\",\"patterns\",\"to_undertake\",\"place\",\"environmental_management\",\"to_december\",\"pastoral_lease\",\"sub_vertical\",\"confirmed_the\",\"has_identified\",\"intrusives\",\"or_more\",\"encountered\",\"golder_associates\",\"medium_to\",\"mafic_volcanic\",\"provided_by\",\"gold_production\",\"quartzite\",\"field_mapping\",\"the_immediate\",\"the_state\",\"correlation\",\"access_is\",\"seen\",\"landsat_tm\",\"acacia\",\"to_genalysis\",\"code\",\"the_yandal\",\"at_cloud\",\"full\",\"in_close\",\"iron_rich\",\"ore_grade\",\"field_season\",\"throughout\",\"dominant\",\"remote_sensing\",\"disturbance\",\"to_reduce\",\"gravel\",\"aeromagnetic_survey\",\"non\",\"side_of\",\"because\",\"line_km\",\"there\",\"aeromagnetic\",\"ultramafic_sequence\",\"sons_of\",\"the_chichester\",\"is_typically\",\"internal\",\"kg\",\"heavy_mineral\",\"rab_nengland\",\"acacia_ramulosa\",\"roads_and\",\"archaean_lode\",\"environmental_impact\",\"in_detail\",\"acacia_xiphophylla\",\"applied\",\"plans\",\"height\",\"proportion_of\",\"lode_gold\",\"fabric\",\"to_generate\",\"pyroxenite\",\"pilbara_craton\",\"limit\",\"thus\",\"hard\",\"fragments\",\"investigation\",\"this_structure\",\"known_mineralisation\",\"from_surface\",\"will_also\",\"cannot_be\",\"reported_in\",\"amphibole\",\"was_considered\",\"three_mile\",\"be_required\",\"low_angle\",\"geological_series\",\"alteration_zone\",\"proterozoic\",\"st\",\"were_conducted\",\"were_found\",\"be_associated\",\"the_coyote\",\"an_inferred\",\"flora\",\"detection_limit\",\"ounces\",\"menzies\",\"is_known\",\"ca\",\"width_of\",\"pre\",\"mining_activities\",\"venture\",\"ore_bodies\",\"western_part\",\"all_data\",\"degree_of\",\"data_review\",\"map_sheet\",\"sphalerite\",\"that_it\",\"technique\",\"ultramafic_mafic\",\"energy\",\"determined\",\"extensions_of\",\"access_track\",\"data_has\",\"an_interpreted\",\"rab_aircore\",\"mv\",\"is_marked\",\"ltd_randells\",\"wf\",\"stratigraphic\",\"has_resulted\",\"talc_chlorite\",\"the_menzies\",\"at_about\",\"fold_hinge\",\"the_identification\",\"reference\",\"to_evaluate\",\"were_made\",\"stations\",\"woodland_of\",\"host_rocks\",\"undertaken_during\",\"sw\",\"pt_pd\",\"proximal_to\",\"the_marsh\",\"main_zone\",\"chert_and\",\"the_marshes\",\"the_spatial\",\"calm\",\"highly\",\"the_possibility\",\"exploration_targets\",\"newcrest_mining\",\"per\",\"folded\",\"found_to\",\"greater\",\"meekatharra\",\"and_thus\",\"model_was\",\"terms_of\",\"most_significant\",\"plan_march\",\"folds\",\"sub_audio\",\"well_project\",\"at_intervals\",\"aeromagnetics\",\"banded\",\"whim_creek\",\"secondary\",\"australian_gold\",\"analysed_by\",\"these_two\",\"soil_geochemical\",\"majority_of\",\"siliceous\",\"particular\",\"characteristics\",\"substantial\",\"list\",\"coupled_plasma\",\"by_icp\",\"southern_portion\",\"roads\",\"was_collected\",\"west_dipping\",\"in_february\",\"bluff_well\",\"bi\",\"tests\",\"believed_to\",\"topsoil\",\"with_best\",\"confidence\",\"interpreted_from\",\"may_represent\",\"and_evaluation\",\"late_time\",\"was_mined\",\"age\",\"project_geology\",\"anomalous_areas\",\"evaluation\",\"was_observed\",\"change_in\",\"is_given\",\"and_prospecting\",\"to_locate\",\"were_obtained\",\"ppb_gold\",\"high_priority\",\"an_attempt\",\"linear\",\"wholly_owned\",\"km_wide\",\"tonnes_of\",\"all_available\",\"see_table\",\"from_previous\",\"anomalies_were\",\"representing\",\"fr_om\",\"but_are\",\"it_appears\",\"lag\",\"to_aid\",\"still\",\"cid\",\"this_prospectus\",\"ha\",\"the_margins\",\"these_tenements\",\"trending_faults\",\"meters\",\"in_figures\",\"maps\",\"northeast_trending\",\"dataset\",\"internal_report\",\"or_near\",\"laboratories_in\",\"central_part\",\"formed\",\"accuracy_of\",\"were_observed\",\"and_revegetation\",\"suggest\",\"gswa\",\"nickel_laterite\",\"processed\",\"this_stage\",\"surveys_were\",\"remain\",\"in_thickness\",\"multiple\",\"typical\",\"movement\",\"described_by\",\"marsh\",\"digital_terrain\",\"calcite\",\"is_consistent\",\"an_additional\",\"collar\",\"as_possible\",\"digital\",\"helix\",\"acid\",\"tenements_were\",\"nw_trending\",\"to_intersect\",\"preparation_of\",\"greenschist_facies\",\"the_braemore\",\"intrusive_rocks\",\"undertaken_on\",\"test_work\",\"drilling_intersected\",\"exploration_during\",\"disseminated_sulphides\",\"mt_gibbs\",\"the_right\",\"drill_samples\",\"pattern\",\"no_anomalous\",\"scoping_study\",\"data_sets\",\"issues\",\"hosted_within\",\"cut_by\",\"grade_estimation\",\"hornblende\",\"aeromagnetic_image\",\"rig\",\"parallel_veins\",\"shares\",\"fe_mg\",\"surrender_report\",\"title\",\"mulga\",\"combined_with\",\"increasing\",\"seam\",\"fluid\",\"report_prepared\",\"producing\",\"th_march\",\"is_bounded\",\"map_figure\",\"for_both\",\"two_main\",\"anomalous_results\",\"are_hosted\",\"is_contained\",\"information_on\",\"been_completed\",\"the_halls\",\"levels_of\",\"and_assayed\",\"to_use\",\"bores\",\"was_encountered\",\"reconnaissance_rab\",\"towards\",\"dry\",\"platina_resources\",\"association\",\"test_for\",\"gy_fg\",\"conducted_in\",\"gold_mining\",\"discovered\",\"volcanic\",\"loss_of\",\"transport\",\"oxidised\",\"drilled_by\",\"occurs_within\",\"available_data\",\"the_golden\",\"jorc_code\",\"deposition_of\",\"better\",\"th_january\",\"programme_was\",\"cost\",\"margins_of\",\"ac_tippwell\",\"cu_pb\",\"highlighted\",\"tenement_was\",\"provided_in\",\"western_limb\",\"completion_of\",\"plain\",\"split\",\"these_rocks\"],\"text_labels\":[\"the\",\"and\",\"of\",\"to\",\"of_the\",\"in\",\"in_the\",\"with\",\"for\",\"by\",\"is\",\"at\",\"area\",\"as\",\"from\",\"on_the\",\"on\",\"or\",\"that\",\"this\",\"project\",\"within_the\",\"are\",\"drilling\",\"from_the\",\"figure\",\"gold\",\"to_be\",\"data\",\"project_area\",\"was\",\"mineralisation\",\"exploration\",\"has_been\",\"no\",\"during_the\",\"all\",\"have_been\",\"zone\",\"report\",\"pty_ltd\",\"results\",\"au\",\"it_is\",\"survey\",\"within\",\"sampling\",\"samples\",\"tenements\",\"western_australia\",\"the_tenement\",\"will_be\",\"were\",\"ltd\",\"some\",\"table\",\"be\",\"number_of\",\"mining\",\"resource\",\"the_north\",\"but\",\"tenement\",\"associated_with\",\"these\",\"limited\",\"up_to\",\"which\",\"coordinates_are\",\"not_surveyed\",\"are_integer\",\"warning_coordinates\",\"below\",\"poss_not\",\"integer_poss\",\"two\",\"australia\",\"over_the\",\"rocks\",\"part_of\",\"prospect\",\"holes\",\"between\",\"rock_chip\",\"annual_report\",\"the_east\",\"the_south\",\"samples_were\",\"has\",\"can_be\",\"gold_mineralisation\",\"using\",\"the_west\",\"where\",\"resources\",\"hole\",\"over\",\"due_to\",\"deposit\",\"areas\",\"rock\",\"into\",\"total_of\",\"along_the\",\"period\",\"surface\",\"both\",\"reporting_period\",\"an\",\"alteration\",\"ore\",\"group\",\"sample\",\"pit\",\"the_main\",\"km\",\"including\",\"high_grade\",\"one\",\"formation\",\"south\",\"only\",\"deposits\",\"grade\",\"surveyed_rab\",\"however\",\"metres\",\"west\",\"the_following\",\"north\",\"in_table\",\"this_report\",\"carried_out\",\"is_located\",\"of_western\",\"other\",\"appendix\",\"during\",\"have\",\"in_this\",\"mine\",\"may_be\",\"geology\",\"rc_drilling\",\"potential\",\"east\",\"further\",\"there_is\",\"of_these\",\"cloud_break\",\"region\",\"not\",\"which_is\",\"fault\",\"may\",\"the_eastern\",\"completed\",\"drill_hole\",\"joint_venture\",\"based_on\",\"greenstone_belt\",\"also\",\"in_appendix\",\"soil_sampling\",\"units\",\"area_is\",\"ultramafic\",\"work\",\"contact\",\"model\",\"program\",\"unit\",\"to_test\",\"rab_drilling\",\"significant\",\"the_southern\",\"iron_ore\",\"this_is\",\"field\",\"areas_of\",\"end_of\",\"section\",\"sequence\",\"the_presence\",\"small\",\"target\",\"mapping\",\"the_northern\",\"veins\",\"exploration_activities\",\"mafic\",\"above\",\"basalt\",\"zones\",\"project_is\",\"any\",\"core\",\"in_figure\",\"regional\",\"follow_up\",\"high\",\"interpretation\",\"anomalies\",\"was_completed\",\"quartz\",\"anomaly\",\"out\",\"well\",\"drill_holes\",\"south_of\",\"fine_grained\",\"ni\",\"belt\",\"vegetation\",\"species\",\"approximately_km\",\"time\",\"up\",\"bif\",\"there_are\",\"structure\",\"identified\",\"depth\",\"is_not\",\"the_base\",\"soil\",\"water\",\"should_be\",\"north_of\",\"site\",\"east_of\",\"holes_were\",\"geological\",\"geological_mapping\",\"shear_zone\",\"low\",\"granite\",\"ground\",\"approximately\",\"three\",\"previous_exploration\",\"material\",\"nickel\",\"plan\",\"included\",\"the_mt\",\"between_and\",\"about\",\"were_drilled\",\"strike\",\"map\",\"if\",\"through_the\",\"total\",\"major\",\"as_well\",\"than\",\"cover\",\"values\",\"sediments\",\"stratigraphy\",\"include\",\"series_of\",\"prior_to\",\"being\",\"west_of\",\"was_undertaken\",\"page\",\"line\",\"review_of\",\"range\",\"form\",\"located\",\"shear\",\"structures\",\"in_addition\",\"the_reporting\",\"portion_of\",\"system\",\"analysis\",\"mineralisation_is\",\"it_was\",\"been\",\"the_current\",\"potential_for\",\"following\",\"the_same\",\"several\",\"interpretation_of\",\"vein\",\"page_of\",\"the_majority\",\"geological_survey\",\"such_as\",\"targets\",\"report_for\",\"regional_geology\",\"their\",\"along\",\"an_area\",\"although\",\"the_first\",\"surveys\",\"as_part\",\"australia_pty\",\"most_of\",\"for_gold\",\"complex\",\"exploration_licence\",\"geology_of\",\"location_of\",\"outcrop\",\"rc\",\"which_are\",\"nl\",\"adjacent_to\",\"previous\",\"western\",\"low_grade\",\"pyrite\",\"after\",\"study\",\"most\",\"consists_of\",\"are_shown\",\"type\",\"department_of\",\"grid\",\"possible\",\"to_determine\",\"used_to\",\"dolerite\",\"ppb_au\",\"interpreted\",\"summary_of\",\"present\",\"quartz_veins\",\"list_of\",\"the_fortescue\",\"generally\",\"throughout_the\",\"ultramafic_rocks\",\"each\",\"the_central\",\"intrusion\",\"through\",\"it\",\"was_carried\",\"level\",\"summary\",\"mineralization\",\"access\",\"large\",\"locations\",\"new\",\"more\",\"test\",\"its\",\"the_lower\",\"used\",\"to_have\",\"minor\",\"banded_iron\",\"review\",\"sequence_of\",\"were_collected\",\"scale\",\"trend\",\"down_hole\",\"was_conducted\",\"drilling_was\",\"al\",\"drilled\",\"along_strike\",\"then\",\"lines\",\"around_the\",\"the_upper\",\"development\",\"year\",\"mafic_ultramafic\",\"magnetic\",\"to_date\",\"appears_to\",\"ppm\",\"with_minor\",\"collected\",\"magnetite\",\"range_of\",\"sulphides\",\"sulphide\",\"thick\",\"this_work\",\"development_of\",\"location\",\"and_diamond\",\"assay\",\"associated\",\"tenure\",\"across_the\",\"sandstone\",\"the_company\",\"data_was\",\"early\",\"near_the\",\"database\",\"at_least\",\"zones_of\",\"processing\",\"defined\",\"base_metal\",\"geochemistry\",\"wide\",\"the_proposed\",\"estimate\",\"cu\",\"rc_holes\",\"testing\",\"geology_and\",\"conducted\",\"activities\",\"local\",\"tenements_are\",\"programme\",\"work_completed\",\"with_an\",\"open_pit\",\"to_provide\",\"mm\",\"is_shown\",\"combined_annual\",\"rab\",\"weathering\",\"dominated_by\",\"the_department\",\"undertaken\",\"around\",\"are_presented\",\"the_best\",\"at_depth\",\"diamond_drilling\",\"hill\",\"et_al\",\"prospects\",\"location_and\",\"size\",\"technical_report\",\"that_are\",\"domain\",\"related_to\",\"soil_samples\",\"basin\",\"access_to\",\"assay_results\",\"results_from\",\"faults\",\"known\",\"when\",\"was_used\",\"in_order\",\"analysis_of\",\"regolith\",\"reports\",\"report_no\",\"project_annual\",\"minerals\",\"dip\",\"sites\",\"creek\",\"located_in\",\"nickel_sulphide\",\"and_minor\",\"were_completed\",\"au_ppm\",\"resource_estimate\",\"intersected\",\"lease\",\"no_significant\",\"june\",\"eastern_goldfields\",\"north_south\",\"and_then\",\"mining_lease\",\"kalgoorlie\",\"lode\",\"massive\",\"appear_to\",\"plant\",\"interpreted_to\",\"could_be\",\"ppb\",\"iron\",\"under_the\",\"intervals\",\"mt\",\"central\",\"detailed\",\"workings\",\"vicinity_of\",\"is_situated\",\"gold_deposits\",\"drilling_program\",\"recorded\",\"process\",\"these_are\",\"this_area\",\"sections\",\"are_not\",\"is_also\",\"returned\",\"less_than\",\"the_archaean\",\"used_for\",\"designed_to\",\"production\",\"was_not\",\"details_of\",\"in_some\",\"introduction\",\"lease_no\",\"sheet\",\"depth_of\",\"fmg\",\"east_west\",\"shear_zones\",\"either\",\"is_presented\",\"much_of\",\"mines\",\"aeromagnetic_data\",\"east_kimberley\",\"drill\",\"survey_was\",\"porphyry\",\"was_also\",\"coarse_grained\",\"environment\",\"december\",\"date\",\"block\",\"pits\",\"value\",\"road\",\"surface_water\",\"vein_sulphides\",\"quartz_veining\",\"weathering_depth\",\"quality\",\"foliation\",\"anomalous\",\"which_was\",\"type_hole\",\"copper\",\"rock_altn\",\"proposed\",\"parts_of\",\"hills\",\"of_interest\",\"open\",\"exploration_index\",\"cut\",\"lower\",\"yilgarn_craton\",\"th\",\"the_original\",\"and_felsic\",\"aircore_drilling\",\"the_dominant\",\"is_interpreted\",\"station\",\"mineralisation_at\",\"march\",\"various\",\"gabbro\",\"for_total\",\"off\",\"current\",\"perth\",\"management\",\"results_are\",\"northwest\",\"extent_of\",\"primary\",\"mn\",\"late\",\"wimbledon_collar_export\",\"rehabilitation\",\"gold_mineralization\",\"available\",\"mainly\",\"assessment\",\"indicated\",\"as_result\",\"surveyed_ac\",\"dome\",\"had\",\"similar\",\"included_in\",\"biotite\",\"trending\",\"chlorite\",\"information\",\"holes_for\",\"would_be\",\"did_not\",\"southern_cross\",\"exploration_work\",\"soils\",\"survey_area\",\"elements\",\"tested\",\"western_australian\",\"to_identify\",\"quartz_vein\",\"considered_to\",\"is_dominated\",\"carbonate\",\"for_au\",\"length_of\",\"distribution_of\",\"strike_length\",\"host\",\"do_not\",\"native_title\",\"additional\",\"four\",\"fig\",\"covered_by\",\"is_considered\",\"company\",\"period_ending\",\"felsic\",\"greater_than\",\"block_model\",\"ma\",\"sediment\",\"to_ensure\",\"they_are\",\"located_within\",\"for_each\",\"use_of\",\"stream_sediment\",\"parallel_to\",\"medium_grained\",\"the_year\",\"is_required\",\"laterite\",\"br_lgy\",\"potential_to\",\"method\",\"annual_technical\",\"includes\",\"shown_in\",\"fortescue_metals\",\"tenement_area\",\"blocks\",\"as_follows\",\"is_associated\",\"shallow\",\"lithologies\",\"eastern\",\"results_were\",\"under\",\"does_not\",\"details\",\"the_mount\",\"mineral\",\"value_of\",\"main\",\"mineralised\",\"image\",\"consisted_of\",\"years\",\"from_this\",\"domains\",\"january\",\"high_mg\",\"july\",\"observed\",\"north_east\",\"provided\",\"sampling_was\",\"towards_the\",\"along_with\",\"via_the\",\"ultramafic_units\",\"part\",\"used_in\",\"report_on\",\"gold_exploration\",\"grades\",\"thin\",\"felsic_volcanics\",\"northern\",\"reporting\",\"contact_between\",\"deformation\",\"operations\",\"exploration_report\",\"lodes\",\"close_to\",\"locally\",\"tippwell_collar_export\",\"sedimentary_rocks\",\"estimation\",\"overlain_by\",\"mineral_exploration\",\"are_located\",\"assays\",\"pyrrhotite\",\"to_depth\",\"cm\",\"mapping_and\",\"the_entire\",\"fe\",\"clay\",\"result_of\",\"open_file\",\"wa\",\"conditions\",\"bedrock\",\"nature_of\",\"local_geology\",\"existing\",\"density\",\"the_top\",\"volcanics\",\"represent\",\"pb\",\"while\",\"br_gy\",\"the_existing\",\"resources_limited\",\"so\",\"of_industry\",\"felsic_volcanic\",\"geological_interpretation\",\"mineral_field\",\"surveyed\",\"given\",\"made\",\"geochemical\",\"such\",\"further_work\",\"resource_estimation\",\"contains\",\"of_contents\",\"that_has\",\"similar_to\",\"altered\",\"located_on\",\"for_all\",\"for_nickel\",\"often\",\"ni_cu\",\"extensive\",\"tenement_is\",\"control\",\"in_accordance\",\"data_from\",\"the_basal\",\"for_analysis\",\"reverse_circulation\",\"were_identified\",\"massive_sulphide\",\"komatiite\",\"september\",\"features\",\"probably\",\"bore\",\"iron_formation\",\"digital_data\",\"will\",\"defined_by\",\"may_have\",\"km_north\",\"to_produce\",\"structural\",\"an_average\",\"followed_by\",\"presented_in\",\"rock_types\",\"is_present\",\"bands\",\"average\",\"aqua_regia\",\"the_bulk\",\"occur_in\",\"since\",\"operation\",\"adjacent\",\"subject_to\",\"the_norseman\",\"has_not\",\"cut_off\",\"location_plan\",\"weathered\",\"contact_with\",\"metals_group\",\"intruded_by\",\"strong\",\"sand\",\"required\",\"recovery\",\"base_of\",\"april\",\"base\",\"comprises\",\"anomalous_gold\",\"is_generally\",\"derived_from\",\"common\",\"phase\",\"different\",\"schist\",\"possibly\",\"down_dip\",\"rab_wimbledon\",\"resulted_in\",\"suggests_that\",\"co\",\"line_spacing\",\"mineral_resource\",\"stage\",\"file\",\"services\",\"trace\",\"mercator_gold\",\"margin_of\",\"taken\",\"see_figure\",\"doc\",\"rare\",\"it_has\",\"number\",\"more_than\",\"produced\",\"spacing\",\"out_by\",\"assessment_of\",\"management_plan\",\"north_west\",\"southern\",\"occurs_in\",\"matrix\",\"to_metres\",\"were_also\",\"are_also\",\"is_included\",\"area_has\",\"acacia_aneura\",\"that_have\",\"at_au\",\"whilst\",\"about_km\",\"deep\",\"rc_drill\",\"work_was\",\"in_particular\",\"located_approximately\",\"which_has\",\"reported\",\"is_via\",\"resource_model\",\"the_pilbara\",\"failed_to\",\"orientation\",\"february\",\"one_metre\",\"typically\",\"resources_ltd\",\"and_therefore\",\"industry_and\",\"figure_shows\",\"interval\",\"containing\",\"with_some\",\"methods\",\"estimated\",\"type_rc\",\"as_an\",\"are_listed\",\"modelling\",\"considered\",\"study_area\",\"public_environmental\",\"response\",\"of_kalgoorlie\",\"during_this\",\"of_ppb\",\"were_not\",\"use\",\"kilometres\",\"dykes\",\"exploration_licences\",\"were_used\",\"together_with\",\"mineral_resources\",\"mining_leases\",\"to_assess\",\"sulphide_mineralisation\",\"forms\",\"near_surface\",\"ultramafics\",\"developed\",\"position\",\"kalgoorlie_terrane\",\"gravity\",\"recommendations\",\"before\",\"maximum\",\"nebore_collar_export\",\"integra_mining\",\"rab_nebore\",\"the_second\",\"rather_than\",\"overlying\",\"characterised_by\",\"consistent_with\",\"refer_to\",\"status\",\"later\",\"jubilee_mines\",\"ms\",\"rab_holes\",\"agreement\",\"without\",\"north_northwest\",\"significant_gold\",\"near\",\"covers\",\"highway\",\"grade_control\",\"an_extensive\",\"combined\",\"top_of\",\"program_was\",\"metre\",\"in_places\",\"the_highest\",\"submitted_to\",\"selected\",\"ultramafic_unit\",\"final\",\"peak_hill\",\"boundary\",\"northeast_of\",\"groundwater\",\"drillholes\",\"historical\",\"body\",\"conglomerate\",\"drill_core\",\"base_metals\",\"chert\",\"comprising\",\"long\",\"plan_figure\",\"group_limited\",\"magnetic_data\",\"amphibolite\",\"projects\",\"coal\",\"to_define\",\"auger_soil\",\"mostly\",\"were_taken\",\"prospective_for\",\"tenement_details\",\"october\",\"ore_project\",\"this_tenement\",\"multi_element\",\"undertaken_by\",\"mafic_rocks\",\"lies_within\",\"show\",\"terrain\",\"while_the\",\"figures_and\",\"to_allow\",\"august\",\"surface_geochemistry\",\"shale\",\"that_may\",\"broad\",\"inferred\",\"pilbara\",\"found_in\",\"bodies\",\"in_perth\",\"some_km\",\"images\",\"diamond\",\"package\",\"ranges\",\"laverton\",\"geophysical_data\",\"are_given\",\"mined\",\"drilling_at\",\"northwest_of\",\"the_remaining\",\"lithology\",\"and_access\",\"and_zn\",\"indicates_that\",\"leases\",\"priority\",\"this_species\",\"ne\",\"identified_in\",\"is_recommended\",\"targeted\",\"act\",\"had_been\",\"edge_of\",\"likely_to\",\"was_intersected\",\"teck_cominco\",\"channel\",\"unpublished_report\",\"project_combined\",\"sample_was\",\"regional_scale\",\"mining_limited\",\"targeting\",\"feature\",\"tracks\",\"deposit_is\",\"amount_of\",\"further_exploration\",\"fine_to\",\"which_were\",\"interest_in\",\"interpreted_as\",\"predominantly\",\"as_shown\",\"south_west\",\"those\",\"which_have\",\"within_this\",\"grains\",\"gold_values\",\"sediments_and\",\"programs\",\"was_granted\",\"dipping\",\"figures\",\"numerous\",\"intrusive\",\"conducted_by\",\"all_holes\",\"halls_creek\",\"prospect_is\",\"belt_is\",\"veining\",\"zn\",\"metamorphism\",\"five\",\"hematite\",\"levels\",\"intrusions\",\"trends\",\"down\",\"silica\",\"drainage\",\"second\",\"soil_geochemistry\",\"vertical\",\"in_section\",\"minerals_and\",\"acquired\",\"data_were\",\"are_considered\",\"studies\",\"gravity_survey\",\"overall\",\"reconnaissance\",\"systems\",\"november\",\"northeast\",\"fresh\",\"pilbara_iron\",\"table_below\",\"in_conjunction\",\"basalts\",\"station_tracks\",\"diamond_drill\",\"consisting_of\",\"are_interpreted\",\"the_coolgardie\",\"the_yilgarn\",\"rich\",\"drillhole\",\"intersection_of\",\"south_east\",\"granite_greenstone\",\"planned\",\"in_situ\",\"complete\",\"basis_of\",\"narrow\",\"au_from\",\"is_likely\",\"previous_work\",\"good\",\"green\",\"plate\",\"extension_of\",\"which_may\",\"red\",\"break_iron\",\"flora_and\",\"drilled_to\",\"centre_of\",\"this_survey\",\"completed_by\",\"rio_tinto\",\"nickel_copper\",\"search\",\"low_level\",\"are_included\",\"combined_reporting\",\"coordinates\",\"province\",\"indicate_that\",\"higher\",\"northwest_trending\",\"resulting_in\",\"plagioclase\",\"composite_samples\",\"standard\",\"out_on\",\"granitoids\",\"limited_page\",\"compilation_of\",\"texture\",\"higher_grade\",\"this_unit\",\"the_footwall\",\"location_map\",\"lionore_australia\",\"drilling_data\",\"indicate\",\"mineralisation_within\",\"on_behalf\",\"thin_section\",\"format\",\"the_discovery\",\"event\",\"continued\",\"conductor\",\"re\",\"may_not\",\"was_recorded\",\"conclusions_and\",\"greenstone\",\"larger\",\"work_carried\",\"the_southeast\",\"types\",\"br_dgy\",\"facies\",\"air_core\",\"completed_in\",\"intersections\",\"fauna\",\"contacts\",\"topography\",\"sequence_is\",\"known_as\",\"geological_setting\",\"impacts\",\"were_recorded\",\"host_to\",\"doir\",\"composites\",\"general\",\"most_likely\",\"geophysics\",\"breccia\",\"recent\",\"gold_deposit\",\"mineralisation_was\",\"mining_operations\",\"sample_locations\",\"source_of\",\"granodiorite\",\"january_to\",\"distribution\",\"calcrete\",\"garnet\",\"these_areas\",\"composite\",\"future\",\"steeply_dipping\",\"soil_anomaly\",\"environ_fmg\",\"hosted_by\",\"must_be\",\"local_grid\",\"present_in\",\"oz\",\"anomalism\",\"there_was\",\"the_laverton\",\"mafic_volcanics\",\"data_set\",\"cross_cutting\",\"historic\",\"jv\",\"outcrops\",\"nw\",\"now\",\"land\",\"deposits_are\",\"goethite\",\"of_conservation\",\"anticline\",\"agreement_with\",\"flows\",\"evidence_of\",\"the_hamersley\",\"underlain_by\",\"sub_parallel\",\"exploration_drilling\",\"parallel\",\"olivine\",\"presence_of\",\"project_tenements\",\"metals\",\"resources_nl\",\"placer_dome\",\"ppm_cu\",\"note\",\"flow\",\"previously\",\"gossan\",\"represents\",\"on_site\",\"fresh_rock\",\"potential_impacts\",\"single\",\"setting\",\"report_doc\",\"sheared\",\"are_generally\",\"disseminated\",\"comprised\",\"samples_from\",\"noise\",\"formation_is\",\"fine\",\"ii\",\"recorded_in\",\"and_analysed\",\"overburden\",\"km_south\",\"channels\",\"the_lack\",\"as_appendix\",\"to_form\",\"footwall\",\"many_of\",\"required_to\",\"southern_geoscience\",\"aboriginal_heritage\",\"sampled\",\"granitoid\",\"gold_mine\",\"generated\",\"jackson_gold\",\"intercepts\",\"are_summarised\",\"craton\",\"lack_of\",\"priority_flora\",\"surface_sampling\",\"geochemical_sampling\",\"is_characterised\",\"lenses\",\"the_initial\",\"in_november\",\"this_zone\",\"environmental_protection\",\"all_samples\",\"haul_road\",\"composed_of\",\"to_represent\",\"few\",\"therefore\",\"fire_assay\",\"talc\",\"the_old\",\"and_possibly\",\"further_drilling\",\"was_designed\",\"environmental\",\"is_hosted\",\"group_is\",\"analysed_for\",\"is_more\",\"variable\",\"rab_tippwell\",\"not_been\",\"assay_data\",\"reef\",\"no_further\",\"south_junction\",\"applied_to\",\"plunge\",\"portions_of\",\"particularly\",\"previous_drilling\",\"to_mm\",\"the_underlying\",\"source\",\"direction\",\"at_scale\",\"sill\",\"exploration_pty\",\"techniques\",\"mg\",\"over_acacia\",\"geological_report\",\"extent\",\"high_mgo\",\"there_were\",\"basement\",\"mapped\",\"terrane\",\"south_project\",\"separate\",\"dolomite\",\"very\",\"out_in\",\"ridge\",\"surrounding\",\"consultants\",\"faulting\",\"for_further\",\"significance\",\"little\",\"se\",\"tonnes\",\"have_not\",\"evaluation_of\",\"was_drilled\",\"is_based\",\"boundaries\",\"holes_drilled\",\"coarse\",\"in_excess\",\"see\",\"shows\",\"covered\",\"found\",\"formations\",\"exploration_program\",\"are_present\",\"contain\",\"aerial_photography\",\"track\",\"related\",\"taken_from\",\"held\",\"over_strike\",\"faults_and\",\"in_both\",\"the_completion\",\"in_general\",\"collected_from\",\"reserve\",\"break\",\"find\",\"is_provided\",\"appropriate\",\"be_used\",\"obtained_from\",\"another\",\"respectively\",\"licence\",\"completed_on\",\"divided_into\",\"geochemical_data\",\"oxide\",\"entered_into\",\"project_page\",\"past\",\"initially\",\"laboratory\",\"been_identified\",\"waste\",\"it_may\",\"were_analysed\",\"were_submitted\",\"textures\",\"classification\",\"christmas_creek\",\"beneath_the\",\"field_reconnaissance\",\"underground\",\"the_centre\",\"road_and\",\"to_assist\",\"less\",\"client\",\"diamond_holes\",\"according_to\",\"exploration_potential\",\"held_by\",\"were_undertaken\",\"to_ppm\",\"western_margin\",\"currently\",\"in_october\",\"grained\",\"break_september\",\"ref_cloud\",\"is_approximately\",\"saprolite\",\"cr\",\"interest\",\"hummock_grassland\",\"layered_mafic\",\"old\",\"component\",\"aircore_holes\",\"the_aim\",\"occur_within\",\"and_sedimentary\",\"hole_was\",\"fold\",\"poor\",\"as_such\",\"valley\",\"prepared_by\",\"var_aneura\",\"jundeemine_collar_export\",\"dyke\",\"concluded_that\",\"support\",\"district\",\"great_northern\",\"seen_in\",\"indicates\",\"gold_australia\",\"centre\",\"the_surrounding\",\"ground_em\",\"abundant\",\"for_metres\",\"the_gswa\",\"infrastructure\",\"point\",\"project_location\",\"need_to\",\"australia_geological\",\"the_purpose\",\"at_each\",\"largely\",\"river\",\"shears\",\"located_km\",\"where_it\",\"in_relation\",\"undertaken_in\",\"weak\",\"flat\",\"ore_body\",\"the_property\",\"volcanic_rocks\",\"ground_magnetic\",\"these_holes\",\"this_study\",\"mason_geoscience\",\"the_last\",\"horizons\",\"as_small\",\"intersected_in\",\"ptilotus_obovatus\",\"greenstone_sequence\",\"name\",\"alluvium\",\"mining_centre\",\"deposits_in\",\"quartz_carbonate\",\"rock_type\",\"as_it\",\"sample_site\",\"thickness\",\"has_also\",\"fortescue_group\",\"drilling_has\",\"concentrate\",\"combination_of\",\"magnetics\",\"boundary_of\",\"port_hedland\",\"schists\",\"specific\",\"provide\",\"continuity_of\",\"package_of\",\"approximately_kilometres\",\"classified_as\",\"high_strain\",\"fi_ll\",\"archaean\",\"exploration_activity\",\"colour\",\"siltstone\",\"indicated_that\",\"obtained\",\"drill_testing\",\"metasediments\",\"traverses\",\"fault_zone\",\"samples_collected\",\"conducted_on\",\"occurs_as\",\"is_currently\",\"origin\",\"progressive_rehabilitation\",\"explored\",\"the_overall\",\"restricted_to\",\"very_fine\",\"and_submitted\",\"compared_to\",\"was_found\",\"tenement_status\",\"because_of\",\"forming\",\"explanatory_notes\",\"logging\",\"em\",\"via\",\"foliation_parallel\",\"etc\",\"final_doc\",\"to_occur\",\"recommended\",\"this_anomaly\",\"standards\",\"gold_anomalism\",\"diamond_core\",\"greenstones\",\"costs\",\"chalcopyrite\",\"activity\",\"references\",\"volcanics_and\",\"the_focus\",\"strike_slip\",\"black\",\"coincident_with\",\"separated_by\",\"comprise\",\"gneiss\",\"suggest_that\",\"equipment\",\"profile\",\"monitoring\",\"ppm_au\",\"tr\",\"gold_mines\",\"occur\",\"anomaly_is\",\"which_will\",\"this_will\",\"bedding\",\"lake\",\"exposed\",\"closure\",\"position_of\",\"nengland_collar_export\",\"target_areas\",\"ga\",\"design\",\"brown\",\"subject_of\",\"fmg_will\",\"mining_ltd\",\"observed_in\",\"corridor\",\"outside_the\",\"tuckabianna_project\",\"uranium\",\"to_minimise\",\"length\",\"beds\",\"surface_geochemical\",\"other_specify\",\"lies\",\"areas_where\",\"feldspar\",\"basal_contact\",\"alluvial\",\"covering_the\",\"across\",\"these_samples\",\"outcropping\",\"planning\",\"western_side\",\"traverse\",\"with_quartz\",\"eg\",\"magnetic_susceptibility\",\"dam\",\"increased\",\"smaller\",\"pty_limited\",\"background\",\"in_june\",\"the_basis\",\"preliminary\",\"prepared_for\",\"western_areas\",\"work_undertaken\",\"these_were\",\"description_of\",\"quartz_feldspar\",\"soil_sample\",\"rock_samples\",\"work_is\",\"transported\",\"given_in\",\"project_areas\",\"the_telfer\",\"australia_limited\",\"were_returned\",\"thickness_of\",\"northern_highway\",\"referred_to\",\"prospective\",\"moving_loop\",\"crescent_gold\",\"cravens_collar_export\",\"over_triodia\",\"the_next\",\"result\",\"white\",\"regia_digest\",\"syncline\",\"construction_of\",\"understanding_of\",\"required_for\",\"expected_to\",\"in_july\",\"quality_control\",\"grey\",\"prospecting\",\"in_april\",\"application\",\"in_march\",\"of_tonnes\",\"set\",\"contained\",\"goldfields\",\"gold_anomalies\",\"commonly\",\"downhole\",\"water_table\",\"followed_up\",\"located_at\",\"the_great\",\"comprised_of\",\"are_provided\",\"occurs\",\"surveying\",\"gto_gto\",\"horizon\",\"rate_of\",\"tenement_location\",\"nt\",\"that_there\",\"annual\",\"nickel_exploration\",\"subsequently\",\"economic\",\"upper\",\"models\",\"for_example\",\"amphibolite_facies\",\"profiles\",\"legend\",\"was_made\",\"upon\",\"nnw_trending\",\"marshes\",\"and_land\",\"bounded_by\",\"volcanic_and\",\"shown\",\"again\",\"region_is\",\"airborne_magnetic\",\"they\",\"communities\",\"rocks_are\",\"lupton_collar_export\",\"sericite\",\"estimates\",\"them\",\"extension\",\"measured\",\"by_fire\",\"case\",\"established\",\"logged\",\"wall\",\"in_december\",\"small_scale\",\"away_from\",\"camp\",\"felsic_porphyry\",\"intersection\",\"changes_in\",\"are_associated\",\"as_per\",\"talc_carbonate\",\"large_scale\",\"the_full\",\"suggests\",\"is_very\",\"sequences\",\"clearing\",\"transported_cover\",\"ni_co\",\"inferred_resource\",\"the_principal\",\"likely\",\"northern_part\",\"to_host\",\"notes\",\"was_acquired\",\"more_detailed\",\"locations_are\",\"polaris_metals\",\"granted\",\"and_white\",\"fauna_survey\",\"geological_map\",\"the_collection\",\"black_flag\",\"to_complete\",\"showing\",\"rock_chips\",\"is_available\",\"moderate\",\"in_late\",\"aircore\",\"intruded\",\"greenstone_belts\",\"expected\",\"volume\",\"cu_zn\",\"style\",\"nearby\",\"auger_drilling\",\"the_bluebird\",\"suite_of\",\"km_east\",\"field_work\",\"prospect_area\",\"proximity_to\",\"dewatering\",\"colluvium\",\"collar_export_newbema\",\"range_from\",\"modelled\",\"period_st\",\"murchison_metals\",\"ranging_from\",\"many\",\"can\",\"half_of\",\"degrees\",\"with_only\",\"folding\",\"construction\",\"not_be\",\"newbema_warning\",\"once\",\"resource_estimates\",\"usually\",\"diamonds\",\"jack_hills\",\"north_eastern\",\"gold_price\",\"were_located\",\"drilling_programs\",\"and_metallurgy\",\"best\",\"and_infrastructure\",\"to_explore\",\"order_of\",\"australian\",\"fractures\",\"important\",\"first\",\"figure_location\",\"is_covered\",\"the_southwest\",\"magnetic_anomaly\",\"thought_to\",\"mill\",\"regolith_mapping\",\"first_pass\",\"residual\",\"this_may\",\"same\",\"cross\",\"metal_group\",\"plus\",\"ore_fortescue\",\"over_an\",\"six\",\"field_duplicates\",\"but_no\",\"peak\",\"km_long\",\"bif_units\",\"shales\",\"the_largest\",\"on_th\",\"individual\",\"sedimentary\",\"basis\",\"the_latter\",\"pilbara_region\",\"to_enable\",\"exploration_completed\",\"br_dgn\",\"trough_well\",\"sheets\",\"involved\",\"definition_of\",\"lead\",\"here\",\"shows_the\",\"rl\",\"for_ni\",\"limit_of\",\"st_december\",\"lake_carey\",\"occurrence_of\",\"ppm_ni\",\"greenstone_terranes\",\"were_sampled\",\"gqzfdbi_grg\",\"granites\",\"striking\",\"series\",\"geophysical\",\"crystals\",\"based\",\"acacia_pruinocarpa\",\"open_cut\",\"prepared\",\"initial\",\"regional_geological\",\"the_remainder\",\"analyses\",\"drilling_programme\",\"product\",\"as_described\",\"conclusions\",\"files\",\"north_northeast\",\"mining_nl\",\"historical_exploration\",\"original\",\"like\",\"very_high\",\"to_intermediate\",\"plant_communities\",\"to_develop\",\"ef_ec\",\"an_upper\",\"salt_lake\",\"ll_fi\",\"gps\",\"increase\",\"th_june\",\"subsequent\",\"to_cm\",\"mineralised_zone\",\"phase_of\",\"with_maximum\",\"in_size\",\"total_magnetic\",\"sub\",\"heron_resources\",\"wmc\",\"is_expected\",\"work_on\",\"focused_on\",\"compiled\",\"top\",\"orientation_of\",\"set_of\",\"research\",\"to_june\",\"in_terms\",\"gold_ltd\",\"is_relatively\",\"parameters\",\"project_comprises\",\"in_turn\",\"plains\",\"ag\",\"in_august\",\"province_of\",\"was_identified\",\"cutting\",\"all_drill\",\"old_workings\",\"cazaly_resources\",\"spinifex\",\"foliated\",\"localised\",\"soil_anomalies\",\"but_not\",\"tend_to\",\"to_follow\",\"is_summarised\",\"cross_sections\",\"extended\",\"the_whole\",\"auger_sampling\",\"var_obovatus\",\"gravity_data\",\"continuation_of\",\"hanging_wall\",\"as_being\",\"aggregates\",\"is_planned\",\"are_known\",\"should\",\"is_described\",\"mindy_mindy\",\"prospectus\",\"rare_flora\",\"intensity\",\"southeast_of\",\"associates\",\"resources_pty\",\"loop\",\"feasibility_study\",\"however_it\",\"appendices\",\"shrubs_over\",\"mineral_deposits\",\"the_acquisition\",\"to_come\",\"data_compilation\",\"to_avoid\",\"end\",\"assemblage\",\"bulk_density\",\"sills\",\"well_developed\",\"grg\",\"listed_in\",\"increase_in\",\"prospecting_licences\",\"dam_project\",\"purposes\",\"properties\",\"described_in\",\"leach\",\"is_still\",\"to_confirm\",\"requirements\",\"may_also\",\"target_area\",\"ferruginous\",\"mine_site\",\"open_pits\",\"in_house\",\"bottom_of\",\"were_assayed\",\"intermediate\",\"wiluna\",\"detailed_geological\",\"width\",\"and_analytical\",\"basalts_and\",\"tenement_package\",\"coolgardie\",\"alteration_zones\",\"developed_in\",\"consist_of\",\"tonnes_at\",\"infill\",\"apart_from\",\"layer\",\"returned_from\",\"black_shale\",\"were_intersected\",\"metamorphic\",\"author\",\"to_better\",\"to_contain\",\"figure_regional\",\"composition\",\"gold_bearing\",\"survey_data\",\"type_rab\",\"underlying\",\"figures_figure\",\"that_can\",\"gold_anomaly\",\"completed_over\",\"remains\",\"validation\",\"the_exception\",\"sampling_program\",\"though\",\"bullfinch_north\",\"norseman\",\"review_cloud\",\"september_fortescue\",\"chips\",\"soil_survey\",\"layers\",\"in_place\",\"komatiites\",\"to_obtain\",\"caused_by\",\"result_in\",\"the_lady\",\"detail\",\"ore_reserves\",\"below_surface\",\"and_associates\",\"is_now\",\"materials\",\"procedures\",\"clear\",\"rab_drill\",\"light\",\"reserves\",\"sent_to\",\"personnel\",\"lake_johnston\",\"shown_on\",\"property\",\"recommended_that\",\"pegmatite\",\"using_an\",\"is_probably\",\"geological_model\",\"this_hole\",\"water_quality\",\"with_respect\",\"used_as\",\"rainfall\",\"sets\",\"pdf\",\"ground_magnetics\",\"processes\",\"all_drilling\",\"br_gn\",\"conductors\",\"western_zone\",\"tenement_group\",\"criteria\",\"assemblages\",\"in_length\",\"so_that\",\"geophysical_interpretation\",\"and_fauna\",\"any_significant\",\"heritage_survey\",\"applications\",\"gcmjseb_warning\",\"rab_jundeemine\",\"exploration_data\",\"collar_export_gcmjseb\",\"southern_part\",\"for_any\",\"ultramafic_intrusions\",\"ie\",\"difficult_to\",\"deeper\",\"in_early\",\"services_pty\",\"variations_in\",\"accuracy\",\"band\",\"mineralised_zones\",\"clays\",\"is_defined\",\"groups\",\"unit_is\",\"oxidation\",\"flat_lying\",\"fortescue_marshes\",\"as_defined\",\"at_mt\",\"and_radiometric\",\"regional_exploration\",\"identified_by\",\"to_dec\",\"polaris\",\"exploration_limited\",\"drill_tested\",\"all_other\",\"earlier\",\"description\",\"member\",\"is_overlain\",\"down_plunge\",\"having\",\"as_they\",\"cr_cu\",\"note_that\",\"nne_trending\",\"ounces_of\",\"completed_during\",\"the_jack\",\"software\",\"style_of\",\"were_carried\",\"they_were\",\"project_tenement\",\"expenditure\",\"was_applied\",\"potentially\",\"which_included\",\"the_greenstones\",\"other_than\",\"shearing\",\"auger\",\"boundary_between\",\"in_september\",\"that_will\",\"patterns\",\"to_undertake\",\"place\",\"environmental_management\",\"to_december\",\"pastoral_lease\",\"sub_vertical\",\"confirmed_the\",\"has_identified\",\"intrusives\",\"or_more\",\"encountered\",\"golder_associates\",\"medium_to\",\"mafic_volcanic\",\"provided_by\",\"gold_production\",\"quartzite\",\"field_mapping\",\"the_immediate\",\"the_state\",\"correlation\",\"access_is\",\"seen\",\"landsat_tm\",\"acacia\",\"to_genalysis\",\"code\",\"the_yandal\",\"at_cloud\",\"full\",\"in_close\",\"iron_rich\",\"ore_grade\",\"field_season\",\"throughout\",\"dominant\",\"remote_sensing\",\"disturbance\",\"to_reduce\",\"gravel\",\"aeromagnetic_survey\",\"non\",\"side_of\",\"because\",\"line_km\",\"there\",\"aeromagnetic\",\"ultramafic_sequence\",\"sons_of\",\"the_chichester\",\"is_typically\",\"internal\",\"kg\",\"heavy_mineral\",\"rab_nengland\",\"acacia_ramulosa\",\"roads_and\",\"archaean_lode\",\"environmental_impact\",\"in_detail\",\"acacia_xiphophylla\",\"applied\",\"plans\",\"height\",\"proportion_of\",\"lode_gold\",\"fabric\",\"to_generate\",\"pyroxenite\",\"pilbara_craton\",\"limit\",\"thus\",\"hard\",\"fragments\",\"investigation\",\"this_structure\",\"known_mineralisation\",\"from_surface\",\"will_also\",\"cannot_be\",\"reported_in\",\"amphibole\",\"was_considered\",\"three_mile\",\"be_required\",\"low_angle\",\"geological_series\",\"alteration_zone\",\"proterozoic\",\"st\",\"were_conducted\",\"were_found\",\"be_associated\",\"the_coyote\",\"an_inferred\",\"flora\",\"detection_limit\",\"ounces\",\"menzies\",\"is_known\",\"ca\",\"width_of\",\"pre\",\"mining_activities\",\"venture\",\"ore_bodies\",\"western_part\",\"all_data\",\"degree_of\",\"data_review\",\"map_sheet\",\"sphalerite\",\"that_it\",\"technique\",\"ultramafic_mafic\",\"energy\",\"determined\",\"extensions_of\",\"access_track\",\"data_has\",\"an_interpreted\",\"rab_aircore\",\"mv\",\"is_marked\",\"ltd_randells\",\"wf\",\"stratigraphic\",\"has_resulted\",\"talc_chlorite\",\"the_menzies\",\"at_about\",\"fold_hinge\",\"the_identification\",\"reference\",\"to_evaluate\",\"were_made\",\"stations\",\"woodland_of\",\"host_rocks\",\"undertaken_during\",\"sw\",\"pt_pd\",\"proximal_to\",\"the_marsh\",\"main_zone\",\"chert_and\",\"the_marshes\",\"the_spatial\",\"calm\",\"highly\",\"the_possibility\",\"exploration_targets\",\"newcrest_mining\",\"per\",\"folded\",\"found_to\",\"greater\",\"meekatharra\",\"and_thus\",\"model_was\",\"terms_of\",\"most_significant\",\"plan_march\",\"folds\",\"sub_audio\",\"well_project\",\"at_intervals\",\"aeromagnetics\",\"banded\",\"whim_creek\",\"secondary\",\"australian_gold\",\"analysed_by\",\"these_two\",\"soil_geochemical\",\"majority_of\",\"siliceous\",\"particular\",\"characteristics\",\"substantial\",\"list\",\"coupled_plasma\",\"by_icp\",\"southern_portion\",\"roads\",\"was_collected\",\"west_dipping\",\"in_february\",\"bluff_well\",\"bi\",\"tests\",\"believed_to\",\"topsoil\",\"with_best\",\"confidence\",\"interpreted_from\",\"may_represent\",\"and_evaluation\",\"late_time\",\"was_mined\",\"age\",\"project_geology\",\"anomalous_areas\",\"evaluation\",\"was_observed\",\"change_in\",\"is_given\",\"and_prospecting\",\"to_locate\",\"were_obtained\",\"ppb_gold\",\"high_priority\",\"an_attempt\",\"linear\",\"wholly_owned\",\"km_wide\",\"tonnes_of\",\"all_available\",\"see_table\",\"from_previous\",\"anomalies_were\",\"representing\",\"fr_om\",\"but_are\",\"it_appears\",\"lag\",\"to_aid\",\"still\",\"cid\",\"this_prospectus\",\"ha\",\"the_margins\",\"these_tenements\",\"trending_faults\",\"meters\",\"in_figures\",\"maps\",\"northeast_trending\",\"dataset\",\"internal_report\",\"or_near\",\"laboratories_in\",\"central_part\",\"formed\",\"accuracy_of\",\"were_observed\",\"and_revegetation\",\"suggest\",\"gswa\",\"nickel_laterite\",\"processed\",\"this_stage\",\"surveys_were\",\"remain\",\"in_thickness\",\"multiple\",\"typical\",\"movement\",\"described_by\",\"marsh\",\"digital_terrain\",\"calcite\",\"is_consistent\",\"an_additional\",\"collar\",\"as_possible\",\"digital\",\"helix\",\"acid\",\"tenements_were\",\"nw_trending\",\"to_intersect\",\"preparation_of\",\"greenschist_facies\",\"the_braemore\",\"intrusive_rocks\",\"undertaken_on\",\"test_work\",\"drilling_intersected\",\"exploration_during\",\"disseminated_sulphides\",\"mt_gibbs\",\"the_right\",\"drill_samples\",\"pattern\",\"no_anomalous\",\"scoping_study\",\"data_sets\",\"issues\",\"hosted_within\",\"cut_by\",\"grade_estimation\",\"hornblende\",\"aeromagnetic_image\",\"rig\",\"parallel_veins\",\"shares\",\"fe_mg\",\"surrender_report\",\"title\",\"mulga\",\"combined_with\",\"increasing\",\"seam\",\"fluid\",\"report_prepared\",\"producing\",\"th_march\",\"is_bounded\",\"map_figure\",\"for_both\",\"two_main\",\"anomalous_results\",\"are_hosted\",\"is_contained\",\"information_on\",\"been_completed\",\"the_halls\",\"levels_of\",\"and_assayed\",\"to_use\",\"bores\",\"was_encountered\",\"reconnaissance_rab\",\"towards\",\"dry\",\"platina_resources\",\"association\",\"test_for\",\"gy_fg\",\"conducted_in\",\"gold_mining\",\"discovered\",\"volcanic\",\"loss_of\",\"transport\",\"oxidised\",\"drilled_by\",\"occurs_within\",\"available_data\",\"the_golden\",\"jorc_code\",\"deposition_of\",\"better\",\"th_january\",\"programme_was\",\"cost\",\"margins_of\",\"ac_tippwell\",\"cu_pb\",\"highlighted\",\"tenement_was\",\"provided_in\",\"western_limb\",\"completion_of\",\"plain\",\"split\",\"these_rocks\"],\"x\":{\"__ndarray__\":\"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\",\"dtype\":\"float32\",\"order\":\"little\",\"shape\":[2500]},\"y\":{\"__ndarray__\":\"h3hPQWhkWT8+utZAk3egQY5KLUIqzIbAeXeCQTrNWkHm4gbC9iuaQaAh40Hsdu2/+biYQTQrh0H0y2FA01OQQEzj88GbBxbBNXW+QQIntEHkli/AFRSAQR8um0EcJiHCuuVBQDnddsKldXfAkYvOQThfJcKzPug/53Bxwb3fP0HsOinC8e+RQYI59MFdZC7CxU8FwjA9jUHeWRRCLsTewSdNBsKZcyjCfc+lwCHh00FO/S/CcV6DQQHDFcKQAr7B40sBv27EJkGtzrg/Gea5wRnQZsHiGQfC73i+QVD2a8KUI8lBLhVLwTd92sFyo1bB5jkFQoAGt0HSnzs/ZlgbQtAPkEEMQCTCLzYUQrp4AcACLEtCR0tMQnToTUIP0k5CQ1xNwPlET0Jr6k1C2gN/wdtOL0FUQz3Cpud1QtYhz0HTMR7Cy/kYwoT150HcsxTC0U3swV7/B0I9OAVCcLrXwbGRcEHQj+BBOnc/QVDrFcJEJAdCIf3BQFqp2sHmCgvC7K1DwbSUv0EOwP3AFB1HQYRZZkLxQZpBJ00hwmqh/EHWMjrCMhqoQOgRXEE+cjrCXNBSwO1SW0IrTFXB+QROQkybwcHmEINBjDjBQXLez0F5yRg/MlQeQmZpY8DCM3NCWfb4QagY0MDn9jVCP0dVwQYITEJu2LhBSjQgwgpl/0Hqxz3Ch3/5QQrDcsK4Yf7B3vgvwvIKxkFDHjBB1PmTQcW6aMJ3EiDCP5ydQeFa2sCcP5VBDVrgQRLRe8LGfh/CO7QaQY5+/0FrkLDBtzOvQR0MSsECl4nBH005QhGEKsEUYM9B4H0UQpSeCMIfgwpC81MuwsNO/sGijQjCXHH4waT7VEKxpLBBV/xrwiJAFsK6MnhCDC/HQSIibkIEazHCcYtvQmT+A8LWGyrCpClhQkr3FMKwDBrCM4XBwN0mCEKzHtPBkxDXQZyKKMJ150ZBJ9Tev38qM8AJV3RC3qMRQj4lFELODYzAQx4+wh8ICEI3klxCDQgtwoXJakK8XjtA0yNqQuvzGEKByMNB7go3wZftfkBDOXTCX0s0wgHoFsIm4ctBTP05whS1EsJhtinC8tBkQiIQOMGr5RvCnnaNQfFnFcJBo+VBiDFqQg+93cAA1FRCEiWIwRO+icGA/chBNXjEwTyfEsIH13BC9GSdQROyG0J84D3B2eaWQAR01UGLcBFCcz7gwe0EkcFtU7XB4QHkQZ447MEoTuFBZkkawvlIOcIEOD7CBDIUQhD1y0FRAWdCt6rwwe2yokDfwoDBzL4twhIdecEf3BrAwLxxwo04GMJ9sL5BZbhVQAwbsED3fhvClZy3QSAddMJmAzbBuin4Qbue0z+NxoxBIJIgQQeR00GGarNBALmwwGz+b0Jdv1lCu5htQXybCUJroSHCOuwwwAqC5EERrCrCWuUawgZgS8HHvDTCDDbcQSH/B0ITlYhB/iQUQv4tIUJe4JnBCt8twl/iykHyjlRB8y+5wdYpG0K32nHBJfiWQT9Q88EYFhpBZ+MTwlMKyMCVrDrBjtg7wtJlJELoTBrCgZlkQeRvEkFsobtBd2xEwaHS3ME/NUJBAlCcwdWxBULJPshBlcu1QeMI7MGXbjTCausjwkbMr8HHu7NBMTlGwRL0a0IsesC/Ez9BQshEcMKVghxC4rwawl0RA0LY9gXCXGXvQcP3wMHFfPdBG3ogQms4Y0KiE63BTycnwi+LmUFAfWZCq6puwjFXBEI4kMXBdIVQwQEEsUF77K/BMzsVwj2UakLgQdXAPe9mQTTyZsJQwaRBzo8iQg2ObcLg5FBCbHo0Qb40oEHCLnFCsMcIwrQTC0JZUStCtNuVQc330r9TSi/CBQEVQGQMZcK4cjtBi0lPwHzQnkG/NWLC6mrnwYyQtUFmzQ3CTjH6PJUZe0K19RPC5wLyQUmeKkL8Em9C4awxwt53bEKrUtfBjzMWwviBu0Gjj/3BKocqwrLVFcKkYj9C3nYRwkc4kEFSjQlA5ONUwfKZuUFi93pCTyNbQLa9OcI6ZWxCyONjQdtoOcG+aiNC57DMwIr2akJ4js7BkTVfQv/ROkGHC1JCVZdRQmTWXEJ7YDHCVMtnQC2cScKwOBvCNc6zwWa0A0Ki/Fi/xOC2QTFpWkKCZ+3BG9UhwhUGDUC09ftBKT83whbbDULCtx1CKuofwgd2KMGDZdVAGzINwvQqE0IudvHBYhQBwtMm4MDupxnCXXQSwjmtJUGOzy/C90wvwkLLZ0GQxcJBtTIowjsELMKzl8A+80v9wMOlEsLDrojBekJwwqNu7cFhlxrCQMQKQlc9Y0Ibqb7Brb0vwo1YJkF0Pm3CEeeKwDBijUHt9BjCnYOoQZP+QUJ+OBjBqH9owgh1fsE4febBaWoGQvq8C0J44R9CfPbXwTaWSUIV6Z5BZjoswoW0JsJcaCJCLxBEQZ8Vr8EtQxHCw/OmwYh7NsJs0XVBpVkzwl+l2cGiQPXBUtMlQpLDlEHHIbLBI6COQcIerkEWRABBlsRqQksaHMK0olpClPQBwoKTDUHrY7u+d4YOwR3HBMKMcD5Cay4IQtrYhUHTJ8G/f8yOQczUiEH4mmFCCZodQiAOv8GDfyNCeGxMwTERyMB7vTBByoHnwd6kyMHgiWTAeUDtQXYlIMJN3KhBpryGQY8nvUHxeDdCQjslwth5EcFRZcXBrq0aQi9GR0GGwxbAssh8wNfno0HDYeLAJa2uQY5jUEIAphLCe4UOwi1pBcEnCXzBN5pkwvUvAkJijWzCkO9WQtts8UCu/aFAcIpMwek3CEK71SVCn8TowJbHbMJEVLRBFAV4v3xyPcKWBDFCjOP4wQukMMJ9xVtC5YeOwYy4aELn/43BunQEwmFdAsIuuM1BYzP3v9THgMF3gKVBV7w4wVJnV0LKiCBCmhhYQiIyC8Ixd2RCEccMwX5lh8Gf8VdCSxYHwGnLV0KTbvjBlpfRQbTpBUJB0+jAdledQYV1cMKj1Is+izP9QWh0PUIvxPLBTeyowezGakJvihvCjNRRQsKtNkJs5IdBC8RKQX6jAcITSLDBUZVlQoh2HsL3Fc3AwoPowdBVw8F0v93BbUItwqbMAUIXvoFBbxnHQXtI2kB3mQxAs0cQwRTOFsItS0RBbZ4RwrI8LkJbEyPCyAzIvzsXrMCc3/HAcAsKQs8phsFVSaFBBzJAwokcZUIErgxCLQtlQqyPEcJ/Rh3CCVlKwUzuj8HALD9CZ4kkwo6uhMFvdwvCTK18wb0jBsGK3qDB3zumwYfRIUI6Ca5BYqheQk5YXUKERqvBGTe4QfgOk0EhCLZB9k8jQvm+5EFyZvTBNueewaYsicFqKmBBXTa1QdrYmkGOJ9/BY5XKwYJPZ0Lo7HXA3/0Cwje4YEKpDytCu7/Jwf1PBELiO7BBLAwQwosj0MHjRg3CeVccQu+0ZkK4mRnCHuyiwYKYFkK9gl9CsI0LQdbFEMIocfPBUPHnQQxvbMIuooTBSG2AQXju0MCLutXBIRUgQlRiIEETCyNCVonvQXAr8sCjPb7BVu8fwMOgZMJkqU1CX7ZpwYQpT7/3cZ5BccYNQg4VMMLgKBnCArzEwUGigMFvjAtCQnECwicRZUK49/vBV0TQQb0lwUHaccjBgrwHwrgp/kFXzOnBPG6oQQXNKEIEiQxCUeAPwlUny8GJ9iPCyl8FvRWYWkISXWlComKXQc8L0cHgfl1CmGc8QpisycHOn9zBaUJCQZmA+0HSBldCdUMOwWqNZ0Lmpf/BwW5pQqF/7sG7CqJBqN0rwvVCVkIgwVxAQMZCQvTFPcKlvOBAel5VwUb3YEJSmI5BinYxwrLXv8Fgw7bB0LhmQao+p0H8jzxBgg/FwXzpC8L3LhBC989qQnQH6kGDsVnBhXY5QYcxX0KmOsLBggXZwVmWYMD1tr/B9ZFjQlJUHcLcprdBCSjjwWjCR8Fc07jB2gQFwhS9ej0ykbzBt8UFwliLBkKZ9G/CQlPBQS6erkHs3WRCPAC7QSOuDcLbqctACsEFQmD6qr/lqJNBgsHAQctZCcGDGqLB9/UbwjKJSkLxxqrBxbYKwtW3PsGSyCRCUEhSQlfZ/cFdpnNBjRUCQmz1MEGn+mBCmZFlwrfnksE/ok5BVSP6QbJ2uEFR6hbC1DVIQUBOicBSJWzBsfpiwo0WH0LC3zpCnBpNQhiAB76D56XBaJaMv5VyJkKQ72E/1UnCwQ34u0EdorDBBZprQS67C8HbXfbBABBuwiy3TUJflFtC5qFhwQBMaUIpc0ZB8MJNQmHKt8HgxoPBA4dAQtWY/sHfuZ/B53BNQk3gBMFrXhVCiEjIQXnhPUIDV1tAmLdeQTpzXkKrbANC/EiPQcB5E8Elr21BLu+zQW99U8HrYinC0TgCwrLfNMEHiDvCkK3QwZy8T0KYtbnB2uHSQT21w8HJ8D5BbviTwUetQUJV3AI/2+zCwbrYqUCu75zBLR3vwZQoG8KrFCHCNCyAwZvjvkGVzZJBK7YsQlHWXkL5VANB+/K0wfFmHUJB/WXCSfWDQOg1ysARqY9BQh6MwHQgpj/n775BKn0lQWO0BMImER/C6L9SQaeMsUFqMpxBO/eawQGLqEHFB//BYQYBQXAnDME8Bz5BzHgAwqqiwsEXtTlCPQ/UwakuQsC9+73B32BHwv8VtEFnjTVC72MqQnfPtMHJD/jAbSXLwAeHu8HQnl3C9tcawuiICsFNg2LBHf9rwaYAf0FGkK1B2+YHwnmN6cDMBlrBUqy+wRpMwUFhYGBC3/H8v9hvC8L20BvA/czPwZXn7b+rXx7COfgiQdpYRkKHCMzAelEkQm36k0CbCHhAUIFLQolZJ8K5hSfCG0+MwZ5lij6NGevALTMbwllO6sA1o1xArDbIQY+mUUKAEF5CzgbgQZY/TsLNRLnBZwdRQAU6lcGQFJbB3EkKwt6T7sHECY/BtMgHQm8iBMFGJdFBAG+4QfogpEHwHfLB7ccHQeANn8FqO0BC4F8hwmWGkcHw+ldC98WNQaYkr8Fj47nBgDYAQsHG28ExvkZCctmUQQAks0Gdi27B1CD/wXt11sH2u41BDmtZQqr2lMHeVq1AvXtMQoQW2EEznOpBzmluwuZZfsFY5y3C6AteQq12w8GiIsHBlNKwwVy1BsJKtfZBfI3RwUJ/90Dzd2TCzZX8wcCpYsGo5xDA8/E1wuCBHMKgu15C4uK4QZuzjkFEdCRCJcY/QWkKSsKaWtrBTGb4wXetCcK5el5Cx8nAQZpXrEHFbTVBHknMQJ9OMkFiNSpC9qKuwUagukF8Yi/CFr2ewRaJx0GJmnRB+Dm0QdSfMMK4GFzCNvzMwLkoFcH//rFBSbKkwVzGjkFWrmfClh2dwf2re0HJrCa/hcKrwYf67MC+MPZBiplfQZtat8G9YfDAIN+SwWUYi8Gf5s5Bgni+v5bPDkE+iqLBFXBoQXGUxcFKWpPBpInBweIKFELjZbjBijO8wdHDWUGhTItBbojUQX8dPMDooJrBoVtkQotalMHucezBIQ0fQg1DFUJniFfCZjGwQU4bMMDcCPxBROmjQQZHXkKyitbAXotgQgwVCsIbGQDCw0QbQp+iUMJgy5JBGs8jQtruHsIvwQfCQwJCQuLJvUEfQUdCaDAqQoJgcsFTyTxCZIeGwSdFQ0JiEDxAKbg+Qpf1TEFz20hAus1RQiIasEEPAWVA90UGwhRqYUDZx0HC8l6zwVhTAsI5+B3CqI2sQff+G8L6ZijCAo9vPxmKC8KryLhBnAf5wQMX/kECbbtB0hZAwbyeYcLZ9gXC2EdUQpUUnUFcGgTCw2rXQT/3OULp+4JBkjFBQpIISkKncOTBis0aQfHvtkGY20NCNyXGwQM1h8FQZszBdy21wfMZFEJwZKnAkkmYQRVjMsIuprq8xfVAQiCFSsKzu4dBvYq4QWLHPUJNbWzBs3ScwSgbC8LdlQRCI7oIwg3wHMJZnqvBmYLnQBkTE8JysPTBzfJiwoSdw8Dc2iXCC8I9QkPTd0Hs9rdBFaUMQlYU6kGSdmJCFJm/wXQ7u8HcFRrC74RYQlHLXMHVJTDC8ORaQj4BN0EdzE9CdAQOQiZoasJj3UvCyhocwvYGqkHLcT9Bcu+ewccQZUL++zjCyi0dPQSYFkJd347BxveGQPNDycHeE9HASjAkwcRCKMLF3CFCI4zYQaFKIcIdMfpBXAUHQsVnV0Id/T5C0ccJwsJVFcJfywi/z5t0wcdEIkIfFi5B2fxHQj0xu0HNKT1BGr86wX3ptMH8lzBCkycAwj9pm8GsLWg/5HO3QeEyKcKEVExCYNFhQPvXb0GWJNTA0pXLwQz0W8LBMzHBSndWQjdd3cExhUnBs5MYQQ4/N0ILcz3Bu7WZwUwkncEUNBpCxGLPwIQ7I8G5UShCnAqcwVwR28GuLKtBcBq6wMxPBMGdhtNAv4hLQmEnVkI7pQnCKIIdQht21sHr0wjChc8XQsH2+EH14FHA3ouiwJRPLUK9JVVCEPKKwdDiDEKe6ejBeZZJQi5quUEzD0lC8cRSQj7NF0IeXc/B6qgNQkFNWUI3FaVBouSzPgcppUCTGN3BuEriwV4eB8H4W87Bc8rgQaeBgsH7+NzAThLEQcTltcE46bdBRh9vwdUIvkAO2jhBttSZwUsIVkIPdzdC8HU5Qgt25cHata/Br3aVwS3EXEIeIVFCjHIDwirIOMH6YbDBIdMnQfgrrEHlW21B2KiKwP3kZMLumkFCXtgLQogThEHs1VzB8uwwws/d9sGkl4/BgucjQheNlUFDqcLAuhnlwUJy7b6P1FvCNOREQl1TZr/Nuo/BDlcHwjCMCMIAzFpCm8svQgO1jMFWlw7ChDPyQRxYgcEU27HBo3uGQMiGX0JGpO5BF+DnQSuGn79JX6bBUctBQuglM0Ex2M1BZ2+pwbc1GcAZBc3BtXUrQriMSkItLp/B10j2QfGFtkEdTwjBzwgLwRnjK8IR29RBBMK1wUBm/EAvawLCk52cQZCLekHWx2ZBM0EMwb2nQkIJ2zZCt0YovyLTx0AyiCDCBRosQhYRqsGOY8HB0PdHQg+6S0LnlJPBbKO7QUJ8Q0J+u7fBSosfQjKtWkGU90VCuri9wchzbcCx70ZCrOXmQbTIF8Ij9gNC2Ud6QfIzMcII4hRCjd+KwTUrq8GFTfVAxNXxQWMq78A3hiDBVykawkTGBcJaC7jBubcnQXlG/MHeQklCVjzCv2GC1sEU4YVBVhb5QNdbGkEnhT9CZfMOwrvcJEJUxvhBPCIowvxBjkG7ZLhBgNfHwZ820sHFjbhB/Uk3QoDqfUEgrA/C+7h2Qfi0x8GXgMDBpQagQDMkC0AFH1bCh1vewZUPw8Gz5KjBKR+TQDlBp8BuMsi+MEgIwpE1Q0K0dhjCbvQjQYub5cFAw4rBRjdNQACThcFnJqrBklmrQbfwqr8knM3AyD2mwYxtsMGPHEpC5RrjwWeAPMH64Ng/tacpwmFEkMCDeudBOJOZQSm4BcJ5xtpBZuKdwSZ+AcLxTerBnBbFwTKJ9cAX1NTBXPwNwbRdE0LGrhTBGvgIwjzoW0L+LHDBirpvwUGk50F56zBCLwBMwRQVjcGZjEhCyLE5QvAGJkGOOp1BPVIHwqO43MFit/FB0EpUQkmlqj9wUhBCpL+QQe5f6sAnkGRBa+OswZuchsDoLJPAFt0CQrf/AsGR7ItABrU6QrU3nkFdHzRBKI+SQfrOWMGlqltBAajQQSRiAsIBU0RCobIGwpM++EAtVaHBnGGTwccfasLkkFHB8oYGQUqBxcGencrBUKuuQUhYrUGx1R1C4fanQfO88EFZOkPBEp0NwgDZLkIjv+tBHQ30QCFowMDQZFZCK8b5wV2sLb5lQsvBLG1OQvX5PMHMLzhCP2pdQhbuGUCdjBPB8zFIQj+3zMECx/JBeUKdQQOoL0IrWD1CaKXvQfYskj94t7bBASB9QZwNlUD5ij5CQPQBwfAYlMEnDDRBa5sZwt2QwkE1nLJAEHRLQiGDHcBr3K3BBnOaP30h7kGE7KlBcbqswNOdMkJ6e9bAAGw3Qp9IGcLScORBuL5eQgBWQMGEafTBxiG3wWRqLEJVJ27BF9UIQg9Dy8G1bQrC9ZhLQmUZp8F71zxCa1RQwcvtLEDtjHVBKt2qQawTXEICk6vBeuznv+w6E0ElamPCD7YAwJCtCELzVfJAPoniwXLP48E/da3A0T/VwMo3F8FzakHAZbE+QVxns8G3qglBlOKiwZ6b5MCTqdPB8jpKQjoOusFr40ZCPb2CwM9ir8GtSFxCPaMKPsA2KUJUo0JCBkREQdbITEL4CfFBpLFOQsPSsUFvzMnB+duOQYd1tsHHfdfAkG+cwchTrb6kAd1Bqor5QLELnMFqO1zBfyUwQrqgmEGOjbRBv8tgQWJ2IkHigm3A4aDEwdDjP0I0ws3B8SZWQrYsq8FkiizBRfehwcYnrEHLPpRBmQ9iQecpVcEVtpk/iUSHwX3xk0Cc2UpCQwAEwsgOQkI72cBBdUU9wc0sU0LbLT9C5i3FQY1k8ME0VvNA8aWywb0MEkKvjxvClEIUQqCMpMBckDdCpnH0Qc/Vm8F4mDdB2F9CQII8BkG0YLXBZbT4wQc2CsKcpcvBaHzpwVOaq8E9VdXByhsYwgA7ucEJ2AjCsR1gQtW/V8I49sjBtAqewRlvGkFJIlnCOu0HQEsFWEG0lZ7B7EvrwAeJjkFGyJtBPNkXQa4WWkGb0C3CGXjOwQm3esCfSUlC3SQDwrRiAEBrpkNCVhebwQWADEKxvuPBSUcEwkbNisEznBK/LiAGwtX8p8GNx0RC58REQBCnCcIRbLnARLUFwvkIssCJ8Wo/elAiQfySJkFTQDfByS88QtPNlcFViKFA66ymwdABKEE1aZ1BMpvsQVjXUcJeDwhCWyoqwmQoSEKTFbBBdietwa98aMIbec3BMS+aPz2wq8Hbyh/CUMaQweLWCsFjuStCVTXbwaVqa0GpXD9CnQEswry1WsLWFO3Bdu6zwWVKCUJQ79W/NqmKwY9DUkKTDVtC5vMpQQ8D7D8mISNC1bUewt3Siz/ecg/BszxPQibOJMARC1JCctrewTyMDcAFNIZBtw66Pl1Cn8H0NQPBvb1wwYXincH2beRBSp0FwhixWEAofsdBnBuhQBBRNkIJAgZBDdvWQW3iAkL+N8bBy78xQsn4DkIL39rB2rOVQWKlokEgCEtCeQXkwX37YkEfVVHBE53GwBVGnkBypXxB1b2OQQ/n/0BvdzHBr9H+wVRbGMICJFrCqFqtwb++wcDOWejAzOuewBBHC0GzpgDCWSRKQsBACcLJgi1Bf1OOwSnbocFIyJFBDHwJwsDP38ErvE9C6o03QlsdiD9J8trBfrRqwW+zs0GLHaVB+loAwqAF5b+QpQvBlBKkQQyXDsJDtolBZQ6/QZ+FLcF9URJCk0NnwBcsQ0J+dpa+qvncwUZFZsFlZkJCVzDPQS9z2UEFS4NBbjywQMzJM0GJsRtClCW8we94vMGG21jAi6CUwVHD2cFHeONBI9O8wUrOWcGRQx5BGuLlwJTms8FHhRXC1L+Jwb12XEBqbUrB0eTQwUznNUAJTYPBC5cwQhBjnkBXwPjARVhmwhQ/t0FKCvNBCnNLQcGh4UGmi7jAwWQowtmI1sF3oOFBEsWEQUPaEUHqjtZBT/ZgwPWVmEDNX0PAHpAOQXwaq8H9n7rBo5BtwVuF90CWvOJBnUYQQtajM0KavSI+hrjpwWe7f8BpoDlCKkvAwTtP4kGJoLxAAuXawf47GcJwnFJCHNAqQUzWCEFyiQPC2yBxwegjwEBsySRBrVVNwiEygb9IGkjCb5+JwSoDz8F8f75ACiHRQdusB8EUv+pA+FWxwcWcUUJfPvxB7fQFQum668CzIhrC+1VVQpVS58FZLMzAJaWLwMe9wcHRkWnB9LMpQZ+V5UC03rDBOK3LwdcllcF4OPnBJAv6wfvNNsJ13u9BYkDXwc5wtz/cWPnA5r7yQUWX5EHhZVJCOsk1wDHeisGPJr3AXaxDQvgWtkGz8MLAQyglwkp7TUB6ZMTBEI5eQJdqRUK05wpBgmDeQJ3Uk8BL/ydCcMU0wsJb10BqW2XBxRYKwjt9M8GZ8xHCWZBHQDe7HMKsCAZBZCYaQWlgPUHP0YzBKJjFwftNzb5P4svBNI/OQdGs58HR70FAn1lTQpEgqUFNzmLBVlwHwhKaNUEKiPxAotb5QJZH18GftrtAtQrAwSfOkMDS/zRCfCDoQfd4JsFioZ5Af1UjQlFy2MF71lPC5LZPwhdzrUD0n5HB0qEBwkqop8CBTBXCiyKNQb74CkIuR1tB/otSQlhbysGlavJBp8NFwTCg7sD2v37BHBCbwUrlk8EaICFBaWWoQYIlm8Fqc6HBdbTVwSgCzMGucDu9AMhPwhUySUJdGvFAz20mwpJ5CcGGdSrCEq5GwfDSgcGHfxpC6JftwVDsS0KqZgZC2oVPQgtDU8KMv7VBxvMEQDgeY8Ke9sXBTUB3wcaUTMLB36DBsE0+wZRkXcElkbHBOWDyQQM2psBfpzJCTHbAQPQ6I8A0fe3BE6jKwc8LpsEEjkJCuwyFQctxHMKlpIdAfhFIwloWTUIlTpA8u3iCQc049kFPiB5CJzslQk3RtcBYiZ3BrtocQerL5kFuQu/ASnQ6Qo9/LUHiBxtCruWrwStgqsFXaGFB3TBkwjmnPUIx0rJB5dojwu37ysBVR/lBbX9gwnbtxkGkN8HAjLDvwZSgGcEgOezBHEHWQIXH+cFnp2BBXjetwQFoiEFUWFvB1u5bwb4jccEgwPLB8g4pQon4i8HmlyFCjZp4wYzo1kFYHnnBV29DQcNnrsH/hs3B3yuYQMn3q8EJWWbAWj+WQFZ06MGd50a+GYHfwV1i7UGyLb7B6u+pwai7wsFPyjVBOuNQwmRQaEDZxE3BqfQtQhmEnMEAuaNBDRTTwfPIcD93LQvBhAlDweTsxsHzi8PAz+NAwM6Ja8F3mwDCVAtLQFZKR8JicFZCw0pFv3IC/UHezXs+yX+HwTyXQUJkgelBXdZkwbT1JMKoEGTBMl2NwQqh+8FA07fAUv47wAGRkcAf0xvCtgGCwDf0jUGyfaLBnAI4Qrpw7UECtNFB4UAWQRMGA8LhHIrB8ywiQaJx38EUGONBBIYYQWJQOEJJAuJBU08JwCOnM0LHMMlB2j0AQjAGDcHbFQ7BU5Smvu0xI8LurBXCpsJcwW2eXcEs3cPBqnm8wRnpo8EPMrw/pJ71QNLOA8LglP1BG+ZWQhE900CsJeg/ClFRP40CkMF0BhfA8+4HQi1tmsA8ygnCQMFYwa2S88F0H7FBhL8FwkJBv8ELk2PC8C3GwSxO5sGQW1JBogAFwqU7SkKKbXbBphz+QapDmsG5HxpC0aQEwlJNgMHNOy9BN5vPwcdchMGz13jB0ezGwRHe6UBwxvZBqG6QwY/yd0BMrv1BVl3LQE4pC0FpOYvBK8Q0Qhg2RUKv+qzBop6KPYRFR0LKAhbC3LjWQTgQaMFI6xxB19eYQainP0EUjSHCsM+xwAJkqMEJRPXBdEVIQWaLF8H899HBf+S/QeK+K0JhUq9AAggRwqyxJkJmpC1CB+okwumBG8GrL4PBzpMhQo3LJsK/y3pAXLjNQS8uYr/1qi7Cdj4gQCWHGcLjyrZBTPHdwcOCNMC2gC1CQmhMQCualsHmn1/B8R03wLnLm8C+I+tAzgz6QKm4zMEJ5/zBhzmJwF09ysFuQhDCKx6VwU/D1kHlRQpCICEvQiH48cGEkjhCjq84QtMKisH0LEM9kDbsQWkyRUJvFW3B7uUBQqprpkAE+Yk9GE13wdkD0UGBZX7B1rNPQhScJsHfTSbAHhVOwUZfPULu8e9A5MjiQTxE/EGW9I3BOU4NwqN1EkGH9AFCujIKQaM9qcA7unPBOSmSwbnhs8Cg6IFBFUETQUCO9UHlAKFAQBo4PsL2qMGS+dHBh9oJQu41lkH5uRzChHDKQW54E8IZZf9ACVxHQledPD8Zj6bBzxhPQl/bg8Gs1tHAh6fKQFJil0D0DQzCaUnLQaA05cGxd1NC5xhXQjw098GhnE5CgMKmQYW7z0E1gTRCdDxvQVzgrUCPgtlBj9x0wNIUp8FbvmvB6RG/wZwk1MFjGATBlgf8QffcDcI2otpB8uJ0wStGw0F5PD3AZpEKQek5R0I5rwTA0icEwmBrbMHDc1FByIPWQAj5AkAX9bbBxf6RwbYhBEKGZrtA9nRgQHIByEAxjshB6B3lweJkpcFVhxZBEudIwc0yCUJaA2fBZYZGQYjEy8HFGRnCBxYyQj8Js0DysNtBWAiiwXuhm8FdokdB95Pkwab0h7+bnTNCSippvmfsDkB8nf/AVg2bwQ9VjsFbSJXBlxGPQZJq60B46rrBr2ILQluqBcKc9y7BPI5JQs0FnMFqXd9B8NYJwb4ykMCxrdvBnJJJQf+P50GPTBfC+Cd6QT6ThMBPLjhC2MQtQfjMvMFFnvXBYJ7eQW5aUECCBk7Co7fuwbPgYsHaca7B3E3FwEswm8ErRF7B0ylGQZMJ1MGS0+ZBrt2PwO2wIsLkXKrAVAp3wQERk8HQ/kdBOSInwQdFjEAmaJRBRTEZwTQsBsLHeJK/Z6AYQc5XIcHfCNNA49IJQufIvMEbJEFCKom8QNl2UcJkpBHC2XQGQhFL7MFIp67BuCztQZKiqsEwGZNBH0vbQT/33sHKmthBPEgswXyjgkFSB1tAKnGxP8NI6MF+ojvBABwJwr4LgcGBTCxCxGLVQfqQB0GgmthBsyInwbShg8AVamTBGJlJQjNL6EFZUpXA0VrUwYuRZ8GZYSXCLvKawTrOg8Gg8cbBBycHQpQppD/RkrPBZzsaQjC2p0CTJ09COPIMwu7roMHUgUNB7V0ZwvQmM0LaNFnBryOhwSh7tMHH5+tAlSWQwGLdv8GxiA/CLxeBwQpkKEJRoAlCxT/lwd26TkIExVvCTOjHwQBVccB8P5jB3ZKPwaVtwsEJUb3B+fWcwCvKQMGVhZZAQ+i6P1kWN0IeVKvBBGs8QBr3ycFmAVdCQlVhwpqPhj9z081BVdyZwaqNSkKDR03C3VDxwbBSiMHq5zRCyJ69QPovq8GRXaPBjmQfwUAdDEGtddvBlSGDwL74iMGdq0nBW1bXQSBS2L/o0FFCRPuIwXIFBr6PLA1AdKEoQj62hkD1JC3BYZE5Qgti68FTy85B6ln+wY5lREGyL8HBTktAQuwzYr+BjsTB1YPbweX6kcHMl/xBh5igwORfcsEPXglB66uevUgSBsIXQRNCVEsEwgOlqEEXcJPBiJMlQg==\",\"dtype\":\"float32\",\"order\":\"little\",\"shape\":[2500]}},\"selected\":{\"id\":\"1057\"},\"selection_policy\":{\"id\":\"1056\"}},\"id\":\"1038\",\"type\":\"ColumnDataSource\"},{\"attributes\":{},\"id\":\"1003\",\"type\":\"DataRange1d\"},{\"attributes\":{},\"id\":\"1016\",\"type\":\"BasicTicker\"},{\"attributes\":{},\"id\":\"1051\",\"type\":\"BasicTickFormatter\"},{\"attributes\":{\"coordinates\":null,\"formatter\":{\"id\":\"1054\"},\"group\":null,\"major_label_policy\":{\"id\":\"1055\"},\"ticker\":{\"id\":\"1012\"}},\"id\":\"1011\",\"type\":\"LinearAxis\"},{\"attributes\":{\"coordinates\":null,\"formatter\":{\"id\":\"1051\"},\"group\":null,\"major_label_policy\":{\"id\":\"1052\"},\"ticker\":{\"id\":\"1016\"}},\"id\":\"1015\",\"type\":\"LinearAxis\"},{\"attributes\":{},\"id\":\"1052\",\"type\":\"AllLabels\"},{\"attributes\":{},\"id\":\"1023\",\"type\":\"UndoTool\"},{\"attributes\":{\"fill_alpha\":{\"value\":0.2},\"fill_color\":{\"value\":\"#8724B5\"},\"hatch_alpha\":{\"value\":0.2},\"line_alpha\":{\"value\":0.2},\"line_color\":{\"value\":null},\"x\":{\"field\":\"x\"},\"y\":{\"field\":\"y\"}},\"id\":\"1042\",\"type\":\"Scatter\"},{\"attributes\":{},\"id\":\"1020\",\"type\":\"ZoomInTool\"},{\"attributes\":{\"axis\":{\"id\":\"1015\"},\"coordinates\":null,\"dimension\":1,\"group\":null,\"ticker\":null},\"id\":\"1018\",\"type\":\"Grid\"},{\"attributes\":{\"callback\":null},\"id\":\"1019\",\"type\":\"HoverTool\"},{\"attributes\":{},\"id\":\"1054\",\"type\":\"BasicTickFormatter\"},{\"attributes\":{\"coordinates\":null,\"group\":null},\"id\":\"1048\",\"type\":\"Title\"},{\"attributes\":{},\"id\":\"1021\",\"type\":\"ZoomOutTool\"},{\"attributes\":{\"overlay\":{\"id\":\"1028\"}},\"id\":\"1022\",\"type\":\"BoxZoomTool\"},{\"attributes\":{},\"id\":\"1024\",\"type\":\"RedoTool\"},{\"attributes\":{},\"id\":\"1055\",\"type\":\"AllLabels\"},{\"attributes\":{},\"id\":\"1025\",\"type\":\"ResetTool\"},{\"attributes\":{\"bottom_units\":\"screen\",\"coordinates\":null,\"fill_alpha\":0.5,\"fill_color\":\"lightgrey\",\"group\":null,\"left_units\":\"screen\",\"level\":\"overlay\",\"line_alpha\":1.0,\"line_color\":\"black\",\"line_dash\":[4,4],\"line_width\":2,\"right_units\":\"screen\",\"syncable\":false,\"top_units\":\"screen\"},\"id\":\"1027\",\"type\":\"BoxAnnotation\"},{\"attributes\":{\"axis\":{\"id\":\"1011\"},\"coordinates\":null,\"group\":null,\"ticker\":null},\"id\":\"1014\",\"type\":\"Grid\"},{\"attributes\":{},\"id\":\"1009\",\"type\":\"LinearScale\"},{\"attributes\":{\"fill_alpha\":{\"value\":0.6},\"fill_color\":{\"value\":\"#8724B5\"},\"line_color\":{\"value\":null},\"x\":{\"field\":\"x\"},\"y\":{\"field\":\"y\"}},\"id\":\"1040\",\"type\":\"Scatter\"},{\"attributes\":{},\"id\":\"1056\",\"type\":\"UnionRenderers\"},{\"attributes\":{\"source\":{\"id\":\"1038\"}},\"id\":\"1044\",\"type\":\"CDSView\"},{\"attributes\":{},\"id\":\"1005\",\"type\":\"DataRange1d\"},{\"attributes\":{},\"id\":\"1057\",\"type\":\"Selection\"},{\"attributes\":{\"overlay\":{\"id\":\"1027\"}},\"id\":\"1026\",\"type\":\"BoxSelectTool\"},{\"attributes\":{},\"id\":\"1007\",\"type\":\"LinearScale\"},{\"attributes\":{\"tools\":[{\"id\":\"1019\"},{\"id\":\"1020\"},{\"id\":\"1021\"},{\"id\":\"1022\"},{\"id\":\"1023\"},{\"id\":\"1024\"},{\"id\":\"1025\"},{\"id\":\"1026\"}]},\"id\":\"1029\",\"type\":\"Toolbar\"},{\"attributes\":{\"fill_alpha\":{\"value\":0.1},\"fill_color\":{\"value\":\"#8724B5\"},\"hatch_alpha\":{\"value\":0.1},\"line_alpha\":{\"value\":0.1},\"line_color\":{\"value\":null},\"x\":{\"field\":\"x\"},\"y\":{\"field\":\"y\"}},\"id\":\"1041\",\"type\":\"Scatter\"},{\"attributes\":{\"coordinates\":null,\"data_source\":{\"id\":\"1038\"},\"glyph\":{\"id\":\"1040\"},\"group\":null,\"hover_glyph\":null,\"muted_glyph\":{\"id\":\"1042\"},\"nonselection_glyph\":{\"id\":\"1041\"},\"view\":{\"id\":\"1044\"}},\"id\":\"1043\",\"type\":\"GlyphRenderer\"},{\"attributes\":{},\"id\":\"1012\",\"type\":\"BasicTicker\"},{\"attributes\":{\"bottom_units\":\"screen\",\"coordinates\":null,\"fill_alpha\":0.5,\"fill_color\":\"lightgrey\",\"group\":null,\"left_units\":\"screen\",\"level\":\"overlay\",\"line_alpha\":1.0,\"line_color\":\"black\",\"line_dash\":[4,4],\"line_width\":2,\"right_units\":\"screen\",\"syncable\":false,\"top_units\":\"screen\"},\"id\":\"1028\",\"type\":\"BoxAnnotation\"}],\"root_ids\":[\"1002\"]},\"title\":\"Bokeh Application\",\"version\":\"2.4.3\"}};\n  const render_items = [{\"docid\":\"0ce5b8d2-fc78-4214-918f-40638539c8ec\",\"root_ids\":[\"1002\"],\"roots\":{\"1002\":\"61469102-b3b8-415f-b3d7-5ac83514f61c\"}}];\n  root.Bokeh.embed.embed_items_notebook(docs_json, render_items);\n  }\n  if (root.Bokeh !== undefined) {\n    embed_document(root);\n  } else {\n    let attempts = 0;\n    const timer = setInterval(function(root) {\n      if (root.Bokeh !== undefined) {\n        clearInterval(timer);\n        embed_document(root);\n      } else {\n        attempts++;\n        if (attempts > 100) {\n          clearInterval(timer);\n          console.log(\"Bokeh: ERROR: Unable to run BokehJS code because BokehJS library is missing\");\n        }\n      }\n    }, 10, root)\n  }\n})(window);",
      "application/vnd.bokehjs_exec.v0+json": ""
     },
     "metadata": {
      "application/vnd.bokehjs_exec.v0+json": {
       "id": "1002"
      }
     },
     "output_type": "display_data"
    },
    {
     "data": {
      "application/javascript": "\n            setTimeout(function() {\n                var nbb_cell_id = 59;\n                var nbb_unformatted_code = \"interactive_tsne(list(gswa_model.wv.key_to_index)[:points], X_tsne)\";\n                var nbb_formatted_code = \"interactive_tsne(list(gswa_model.wv.key_to_index)[:points], X_tsne)\";\n                var nbb_cells = Jupyter.notebook.get_cells();\n                for (var i = 0; i < nbb_cells.length; ++i) {\n                    if (nbb_cells[i].input_prompt_number == nbb_cell_id) {\n                        if (nbb_cells[i].get_text() == nbb_unformatted_code) {\n                             nbb_cells[i].set_text(nbb_formatted_code);\n                        }\n                        break;\n                    }\n                }\n            }, 500);\n            ",
      "text/plain": [
       "<IPython.core.display.Javascript object>"
      ]
     },
     "metadata": {},
     "output_type": "display_data"
    }
   ],
   "source": [
    "interactive_tsne(list(gswa_model.wv.key_to_index)[:points], X_tsne)"
   ]
  }
 ],
 "metadata": {
  "colab": {
   "collapsed_sections": [],
   "name": "12.2.2-WordEmbeddings.ipynb",
   "provenance": [],
   "toc_visible": true
  },
  "kernelspec": {
   "display_name": "Python 3.8.10 64-bit",
   "language": "python",
   "name": "python3"
  },
  "language_info": {
   "codemirror_mode": {
    "name": "ipython",
    "version": 3
   },
   "file_extension": ".py",
   "mimetype": "text/x-python",
   "name": "python",
   "nbconvert_exporter": "python",
   "pygments_lexer": "ipython3",
   "version": "3.8.10"
  },
  "vscode": {
   "interpreter": {
    "hash": "e2040bd4ff7059bd5923140baaf547b26fe1060b2698e4d8905dba1b3e302910"
   }
  }
 },
 "nbformat": 4,
 "nbformat_minor": 4
}
