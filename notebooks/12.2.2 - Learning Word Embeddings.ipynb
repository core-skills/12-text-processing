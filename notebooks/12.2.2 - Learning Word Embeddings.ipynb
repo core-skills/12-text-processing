{
 "cells": [
  {
   "cell_type": "markdown",
   "metadata": {
    "colab_type": "text",
    "id": "hyRjwrQynR22"
   },
   "source": [
    "# Learning Word Embeddings\n",
    "\n",
    "Source: 😊[Day 12 - Special Data Types: Natural Language Processing](https://github.com/core-skills/12-text-processing) *repository*"
   ]
  },
  {
   "cell_type": "markdown",
   "metadata": {},
   "source": [
    "> ☝️Before moving on with this notebook, ensure that you have:\n",
    "- Downloaded the [hotels review data](https://github.com/kavgan/nlp-in-practice/blob/master/word2vec/reviews_data.txt.gz) (*reviews_data.txt.gz*) and placed it in the `./data` directory.\n",
    "- Downloaded the GSWA data (*wamex_xml.zip*) and placed it in the `./data` directory."
   ]
  },
  {
   "cell_type": "markdown",
   "metadata": {},
   "source": [
    "**Overview**: Generating word embeddings using Gensim Word2Vec... Word Embeddings and Word2Vec\n",
    "In this notebook, rather than loading word embeddings trained on large generic datasets, we train our own embedding models."
   ]
  },
  {
   "cell_type": "markdown",
   "metadata": {
    "colab_type": "text",
    "id": "HfoKOGconR29"
   },
   "source": [
    "This notebook uses two types of datasets.\n",
    "1. General Domain: 259,000 *hotel reviews* from [OpinRank](https://archive.ics.uci.edu/ml/datasets/opinrank+review+dataset) \n",
    "2. Domain Specific: *geological surveys* (GSWA)"
   ]
  },
  {
   "cell_type": "markdown",
   "metadata": {},
   "source": [
    "**Supplementary Content**: ...s"
   ]
  },
  {
   "cell_type": "markdown",
   "metadata": {},
   "source": [
    "Adapted from: [*Kavita Ganesan's tutorial*](http://kavita-ganesan.com/gensim-word2vec-tutorial-starter-code/) ([*repository*](https://github.com/kavgan/data-science-tutorials/tree/master/word2vec))"
   ]
  },
  {
   "cell_type": "markdown",
   "metadata": {},
   "source": [
    "## Table of Contents\n",
    "1. [Understanding Word2Vec parameters](#word2vec_parameters)\n",
    "2. [Building general-domain word vectors](#general-domain_word_vectors)\n",
    "3. [Building domain-specific word vectors](#domain-specific_word_vectors)"
   ]
  },
  {
   "cell_type": "markdown",
   "metadata": {},
   "source": [
    "### Import Dependencies\n",
    "- [gzip](https://docs.python.org/3/library/gzip.html) - library that we use to read data in .zip format\n",
    "- [bokeh](https://bokeh.org/) - library that we use to interactively visualise word vectors \n",
    "- [gensim](https://radimrehurek.com/gensim/) - library that we will use to experiment with word embeddings/vectors"
   ]
  },
  {
   "cell_type": "code",
   "execution_count": 122,
   "metadata": {
    "colab": {},
    "colab_type": "code",
    "id": "PliE9yXYnR25"
   },
   "outputs": [],
   "source": [
    "import gzip\n",
    "from pathlib import Path\n",
    "from typing import List\n",
    "import zipfile\n",
    "import json\n",
    "\n",
    "import gensim\n",
    "import bokeh\n",
    "from bokeh.plotting import figure, show\n",
    "from bokeh.io import push_notebook, output_notebook\n",
    "from bokeh.models import ColumnDataSource, LabelSet\n",
    "from bokeh.plotting import figure, show\n",
    "from bokeh.io import push_notebook, output_notebook\n",
    "from bokeh.models import ColumnDataSource, LabelSet\n",
    "import pandas as pd\n",
    "import nltk\n",
    "from sklearn.manifold import TSNE\n",
    "import numpy as np\n",
    "import matplotlib.pyplot as plt\n",
    "import matplotlib"
   ]
  },
  {
   "cell_type": "markdown",
   "metadata": {},
   "source": [
    "### Set up the notebook environment and load helper functions"
   ]
  },
  {
   "cell_type": "code",
   "execution_count": 74,
   "metadata": {},
   "outputs": [],
   "source": [
    "# Need the interactive Tools for Matplotlib\n",
    "%matplotlib inline\n",
    "# Plot formatting\n",
    "plt.rcParams[\"figure.figsize\"] = [12,6]\n",
    "font = {'size':12}\n",
    "matplotlib.rc('font', **font)"
   ]
  },
  {
   "cell_type": "code",
   "execution_count": 2,
   "metadata": {},
   "outputs": [],
   "source": [
    "def read_input(input_file_path: str) -> List:\n",
    "    '''Parses input file which is in gzip format'''\n",
    "    assert input_file_path.endswith('.gz')\n",
    "    \n",
    "    corpus = []\n",
    "    with gzip.open(input_file_path, 'rb') as f:\n",
    "        for line in f: \n",
    "            # Perform pre-processing and return a list of words from each review text \n",
    "            corpus.append(gensim.utils.simple_preprocess(line))\n",
    "    return corpus"
   ]
  },
  {
   "cell_type": "code",
   "execution_count": 54,
   "metadata": {},
   "outputs": [],
   "source": [
    "def prettify_similarities(similarities: List[tuple]) -> List[str]:\n",
    "    ''' Prettifies list of word similarities produced by Gensim.\n",
    "    '''\n",
    "    longest_str = max([len(sim[0]) for sim in similarities])\n",
    "    print(\"\\n\".join([f'{idx+1}.\\t{sim[0]:{longest_str+1}}\\t{sim[1]*100:0.1f}%' for idx, sim in enumerate(similarities)]))"
   ]
  },
  {
   "cell_type": "markdown",
   "metadata": {
    "colab_type": "text",
    "id": "M5YUtIH_nR3J"
   },
   "source": [
    "## Understanding Word2Vec Parameters<a name=\"word2vec_parameters\"></a>"
   ]
  },
  {
   "cell_type": "markdown",
   "metadata": {},
   "source": [
    "Before training our custom embedding models, we need to understand some of the models parameters. For reference, this is the command that we will use to train the model: `model = gensim.models.Word2Vec(sentences=documents, size=150, window=10, min_count=2, workers=10)`\n",
    "\n",
    "#### Parameters of Interest\n",
    "`sentences`: The corpus that the model will be trained on in the format of a list of lists of tokens.\n",
    "\n",
    "`size`: The size of the dense vector to represent each token or word. If you have very limited data, then size should be a much smaller value. If you have lots of data, its good to experiment with various sizes. Typical sizes are 100-300. A value of 100-150 has worked well for me. \n",
    "\n",
    "`window`: The maximum distance between the target word and its neighboring word. If your neighbor's position is greater than the maximum window width to the left and the right, then, some neighbors are not considered as being related to the target word. In theory, a smaller window should give you terms that are more related. If you have lots of data, then the window size should not matter too much, as long as its a decent sized window.\n",
    "\n",
    "`min_count`: Minimium frequency count of words. The model would ignore words that do not statisfy the min_count. Extremely infrequent words are usually unimportant, so its best to get rid of those. Unless your dataset is really tiny, this does not really affect the model.\n",
    "\n",
    "`workers`: How many threads to use behind the scenes?"
   ]
  },
  {
   "cell_type": "markdown",
   "metadata": {},
   "source": [
    "<hr/>"
   ]
  },
  {
   "cell_type": "markdown",
   "metadata": {},
   "source": [
    "## 🏢 Learning General-Domain Word Embeddings <a name=\"general-domain_word_vectors\"></a>\n",
    "In this section we will learn word embeddings from a general-domain (hotel reviews). The hotel reviews contains:\n",
    "- Full reviews of hotels in 10 different cities (Dubai, Beijing, London, New York City, New Delhi, San Francisco, Shanghai, Montreal, Las Vegas, Chicago) \n",
    "- There are about 80-700 hotels in each city \n",
    "- Extracted fields include date, review title and the full review \n",
    "- Total number of reviews: ~259,000"
   ]
  },
  {
   "cell_type": "markdown",
   "metadata": {},
   "source": [
    "### Load and pre-process hotel reviews dataset\n",
    "Before learning word embeddings, we need to load and pre-process the hotel reviews corpus. The helper function `read_input` aids us with this task. This helper parses the dataset that is in .zip format and composed of numerous .json data files. These are read into memory and pre-processed with Gensim's `gensim.utils.simple_preprocess()` function that converts each review into a list of tokens that are lower cased."
   ]
  },
  {
   "cell_type": "markdown",
   "metadata": {},
   "source": [
    "⚠️Loading the hotel reviews documents will take a few minutes"
   ]
  },
  {
   "cell_type": "code",
   "execution_count": 4,
   "metadata": {},
   "outputs": [],
   "source": [
    "# The data_file path will be different depending on where you've copied the notebooks...\n",
    "data_file = '../data/reviews_data.txt.gz'\n",
    "\n",
    "# Read the tokenized reviews into a list each review item becomes a series of words so this becomes a list of lists\n",
    "documents = read_input(input_file_path=data_file)"
   ]
  },
  {
   "cell_type": "code",
   "execution_count": 5,
   "metadata": {},
   "outputs": [
    {
     "name": "stdout",
     "output_type": "stream",
     "text": [
      "oct nice trendy hotel location not too bad stayed in this hotel for one night as this is fairly new place some of the taxi drivers did not know where it was and or did not want to drive there once have eventually arrived at the hotel was very pleasantly surprised with the decor of the lobby ground floor area it was very stylish and modern found the reception staff geeting me with aloha bit out of place but guess they are briefed to say that to keep up the coroporate image as have starwood preferred guest member was given small gift upon check in it was only couple of fridge magnets in gift box but nevertheless nice gesture my room was nice and roomy there are tea and coffee facilities in each room and you get two complimentary bottles of water plus some toiletries by bliss the location is not great it is at the last metro stop and you then need to take taxi but if you are not planning on going to see the historic sites in beijing then you will be ok chose to have some breakfast in the hotel which was really tasty and there was good selection of dishes there are couple of computers to use in the communal area as well as pool table there is also small swimming pool and gym area would definitely stay in this hotel again but only if did not plan to travel to central beijing as it can take long time the location is ok if you plan to do lot of shopping as there is big shopping centre just few minutes away from the hotel and there are plenty of eating options around including restaurants that serve dog meat\n"
     ]
    }
   ],
   "source": [
    "# Review the tokenized hotel reviews documents\n",
    "print(documents[0])"
   ]
  },
  {
   "cell_type": "markdown",
   "metadata": {},
   "source": [
    "### Training general-domain word embeddings\n",
    "Here we set-up our Word2Vec embedding model and train it on the documents in the hotel reviews dataset. After training, we save it so it can be used without requiring re-training. "
   ]
  },
  {
   "cell_type": "markdown",
   "metadata": {},
   "source": [
    "⚠️ Training the embedding model will take a while due to the 250k documents"
   ]
  },
  {
   "cell_type": "raw",
   "metadata": {},
   "source": [
    "# Set-up model\n",
    "model = gensim.models.Word2Vec(sentences=documents, size=150, window=10, min_count=2, workers=10)"
   ]
  },
  {
   "cell_type": "raw",
   "metadata": {},
   "source": [
    "# Train model on hotel reviews corpus\n",
    "model.train(documents, total_examples=len(documents), epochs=10)"
   ]
  },
  {
   "cell_type": "raw",
   "metadata": {},
   "source": [
    "# Save trained embedding models\n",
    "model.save(\"../data/word2vec/word2vec_reviews.bin\")"
   ]
  },
  {
   "cell_type": "markdown",
   "metadata": {},
   "source": [
    "📣 Alternatively, load the embeddings that we've already pre-trained."
   ]
  },
  {
   "cell_type": "code",
   "execution_count": null,
   "metadata": {},
   "outputs": [],
   "source": [
    "modelpath = Path('../data/word2vec/word2vec_reviews.bin').resolve()"
   ]
  },
  {
   "cell_type": "code",
   "execution_count": null,
   "metadata": {},
   "outputs": [],
   "source": [
    "model = gensim.models.Word2Vec.load(str(modelpath))"
   ]
  },
  {
   "cell_type": "markdown",
   "metadata": {},
   "source": [
    "### Reviewing learnt word embeddings\n",
    "Similar to the notebook [12.2.1 - Word vector visualisation with Gensim](https://github.com/core-skills/12-text-processing/blob/master/notebooks/12.2.1%20-%20Word%20vector%20visualization%20with%20Gensim.ipynb), we will explore the similarity of words represented with our general-domain embeddings."
   ]
  },
  {
   "cell_type": "markdown",
   "metadata": {},
   "source": [
    "#### Word Similarities"
   ]
  },
  {
   "cell_type": "code",
   "execution_count": 55,
   "metadata": {},
   "outputs": [
    {
     "name": "stdout",
     "output_type": "stream",
     "text": [
      "1.\tcourteous    \t92.1%\n",
      "2.\tfriendly     \t82.9%\n",
      "3.\tcordial      \t81.7%\n",
      "4.\tprofessional \t80.1%\n",
      "5.\tattentive    \t78.3%\n",
      "6.\tcurteous     \t77.8%\n",
      "7.\tpersonable   \t74.8%\n",
      "8.\tgracious     \t73.8%\n",
      "9.\tfreindly     \t73.5%\n",
      "10.\twelcoming    \t72.6%\n"
     ]
    }
   ],
   "source": [
    "prettify_similarities(model.wv.most_similar(['polite']))"
   ]
  },
  {
   "cell_type": "raw",
   "metadata": {
    "colab": {
     "base_uri": "https://localhost:8080/",
     "height": 714
    },
    "colab_type": "code",
    "executionInfo": {
     "elapsed": 1301597,
     "status": "ok",
     "timestamp": 1585117062355,
     "user": {
      "displayName": "Tyler Bikaun",
      "photoUrl": "",
      "userId": "18384825377619195869"
     },
     "user_tz": -480
    },
    "id": "0m_4auJdvOea",
    "outputId": "4985a791-2cb3-4318-ad1d-653284363f92"
   },
   "source": [
    "# Get vector representation of a word\n",
    "testWord = 'dirty'\n",
    "print(f'Word - {testWord}\\nVector Representation\\n{model.wv.get_vector(testWord)}')\n",
    "print(f'Shape of vector: {model.wv.get_vector(testWord).shape[0]}')"
   ]
  },
  {
   "cell_type": "code",
   "execution_count": 56,
   "metadata": {
    "colab": {
     "base_uri": "https://localhost:8080/",
     "height": 258
    },
    "colab_type": "code",
    "executionInfo": {
     "elapsed": 1301911,
     "status": "ok",
     "timestamp": 1585117062681,
     "user": {
      "displayName": "Tyler Bikaun",
      "photoUrl": "",
      "userId": "18384825377619195869"
     },
     "user_tz": -480
    },
    "id": "mT-2WDWsnR3R",
    "outputId": "f0e2140f-2666-4ead-9382-903666f12b56"
   },
   "outputs": [
    {
     "name": "stdout",
     "output_type": "stream",
     "text": [
      "1.\tfilthy     \t86.8%\n",
      "2.\tstained    \t79.1%\n",
      "3.\tdusty      \t77.5%\n",
      "4.\tunclean    \t76.9%\n",
      "5.\tgrubby     \t75.4%\n",
      "6.\tsmelly     \t74.9%\n",
      "7.\tdingy      \t73.6%\n",
      "8.\tdisgusting \t73.3%\n",
      "9.\tgross      \t72.4%\n",
      "10.\tsoiled     \t72.3%\n"
     ]
    }
   ],
   "source": [
    "prettify_similarities(model.wv.most_similar(['dirty']))"
   ]
  },
  {
   "cell_type": "code",
   "execution_count": 57,
   "metadata": {
    "colab": {
     "base_uri": "https://localhost:8080/",
     "height": 173
    },
    "colab_type": "code",
    "executionInfo": {
     "elapsed": 1301888,
     "status": "ok",
     "timestamp": 1585117062683,
     "user": {
      "displayName": "Tyler Bikaun",
      "photoUrl": "",
      "userId": "18384825377619195869"
     },
     "user_tz": -480
    },
    "id": "VOq0zzvGnR3c",
    "outputId": "d3384fbb-8d85-4472-b329-fe10b2b1be70"
   },
   "outputs": [
    {
     "name": "stdout",
     "output_type": "stream",
     "text": [
      "1.\tspain     \t65.3%\n",
      "2.\tcanada    \t64.7%\n",
      "3.\tbarcelona \t63.9%\n",
      "4.\tengland   \t63.1%\n",
      "5.\tgermany   \t62.8%\n",
      "6.\tgreece    \t61.3%\n",
      "7.\tmexico    \t60.4%\n",
      "8.\thawaii    \t59.5%\n",
      "9.\tthailand  \t59.2%\n",
      "10.\tgaulle    \t59.0%\n"
     ]
    }
   ],
   "source": [
    "prettify_similarities(model.wv.most_similar(['france']))"
   ]
  },
  {
   "cell_type": "code",
   "execution_count": 58,
   "metadata": {
    "colab": {
     "base_uri": "https://localhost:8080/",
     "height": 173
    },
    "colab_type": "code",
    "executionInfo": {
     "elapsed": 1301878,
     "status": "ok",
     "timestamp": 1585117062684,
     "user": {
      "displayName": "Tyler Bikaun",
      "photoUrl": "",
      "userId": "18384825377619195869"
     },
     "user_tz": -480
    },
    "id": "LmAkHmOqnR3f",
    "outputId": "5ab1e920-b9ad-49dd-d134-9c6110f88540"
   },
   "outputs": [
    {
     "name": "stdout",
     "output_type": "stream",
     "text": [
      "1.\thorrified  \t80.6%\n",
      "2.\tamazed     \t80.4%\n",
      "3.\tstunned    \t76.8%\n",
      "4.\tastonished \t76.5%\n",
      "5.\tappalled   \t75.7%\n",
      "6.\tdismayed   \t74.2%\n",
      "7.\tsuprised   \t72.9%\n",
      "8.\tsurprised  \t71.9%\n",
      "9.\tastounded  \t70.7%\n",
      "10.\tsurprized  \t69.1%\n"
     ]
    }
   ],
   "source": [
    "prettify_similarities(model.wv.most_similar(['shocked']))"
   ]
  },
  {
   "cell_type": "code",
   "execution_count": 59,
   "metadata": {
    "colab": {
     "base_uri": "https://localhost:8080/",
     "height": 241
    },
    "colab_type": "code",
    "executionInfo": {
     "elapsed": 1301826,
     "status": "ok",
     "timestamp": 1585117062684,
     "user": {
      "displayName": "Tyler Bikaun",
      "photoUrl": "",
      "userId": "18384825377619195869"
     },
     "user_tz": -480
    },
    "id": "Z9-X6bgYnR3l",
    "outputId": "37054ef7-07c7-4087-aa10-a45c53fc95ca"
   },
   "outputs": [
    {
     "name": "stdout",
     "output_type": "stream",
     "text": [
      "1.\tduvet     \t75.0%\n",
      "2.\tmattress  \t72.9%\n",
      "3.\tquilt     \t69.6%\n",
      "4.\tmatress   \t69.4%\n",
      "5.\tblanket   \t67.3%\n",
      "6.\tpillows   \t66.6%\n",
      "7.\tcomforter \t65.7%\n",
      "8.\tsatin     \t65.2%\n",
      "9.\tquilts    \t64.2%\n",
      "10.\tsheets    \t63.8%\n"
     ]
    }
   ],
   "source": [
    "# Get everything related to stuff on the bed\n",
    "prettify_similarities(model.wv.most_similar(positive=['bed', 'sheet', 'pillow'], negative=['couche'], topn=10))"
   ]
  },
  {
   "cell_type": "code",
   "execution_count": 63,
   "metadata": {
    "colab": {
     "base_uri": "https://localhost:8080/",
     "height": 88
    },
    "colab_type": "code",
    "executionInfo": {
     "elapsed": 1301816,
     "status": "ok",
     "timestamp": 1585117062685,
     "user": {
      "displayName": "Tyler Bikaun",
      "photoUrl": "",
      "userId": "18384825377619195869"
     },
     "user_tz": -480
    },
    "id": "Hy6BPFqBnR3p",
    "outputId": "a81165a7-c9c9-4015-fc8f-c5fc6c9c786a"
   },
   "outputs": [
    {
     "name": "stdout",
     "output_type": "stream",
     "text": [
      "Similarity between the words dirty and smelly: 0.749\n"
     ]
    }
   ],
   "source": [
    "# Similarity between two different words\n",
    "print(f'Similarity between the words dirty and smelly: {model.wv.similarity(w1=\"dirty\",w2=\"smelly\"):0.3}')"
   ]
  },
  {
   "cell_type": "code",
   "execution_count": 64,
   "metadata": {
    "colab": {
     "base_uri": "https://localhost:8080/",
     "height": 88
    },
    "colab_type": "code",
    "executionInfo": {
     "elapsed": 1301796,
     "status": "ok",
     "timestamp": 1585117062685,
     "user": {
      "displayName": "Tyler Bikaun",
      "photoUrl": "",
      "userId": "18384825377619195869"
     },
     "user_tz": -480
    },
    "id": "rGb75GUznR3t",
    "outputId": "03339e12-a10b-4f58-f66c-1e3e07ca4f26"
   },
   "outputs": [
    {
     "name": "stdout",
     "output_type": "stream",
     "text": [
      "Similarity between the same word dirty: 1.0\n"
     ]
    }
   ],
   "source": [
    "# Similarity between two identical words\n",
    "print(f'Similarity between the same word dirty: {model.wv.similarity(w1=\"dirty\",w2=\"dirty\"):0.3}')"
   ]
  },
  {
   "cell_type": "code",
   "execution_count": 65,
   "metadata": {
    "colab": {
     "base_uri": "https://localhost:8080/",
     "height": 88
    },
    "colab_type": "code",
    "executionInfo": {
     "elapsed": 1301780,
     "status": "ok",
     "timestamp": 1585117062686,
     "user": {
      "displayName": "Tyler Bikaun",
      "photoUrl": "",
      "userId": "18384825377619195869"
     },
     "user_tz": -480
    },
    "id": "CavnmhyKnR3w",
    "outputId": "c635b945-00bc-4bee-8843-1a83ee64593e"
   },
   "outputs": [
    {
     "name": "stdout",
     "output_type": "stream",
     "text": [
      "Similarity between the words dirty and clean: 0.262\n"
     ]
    }
   ],
   "source": [
    "# similarity between two unrelated words\n",
    "print(f'Similarity between the words dirty and clean: {model.wv.similarity(w1=\"dirty\",w2=\"clean\"):0.3}')"
   ]
  },
  {
   "cell_type": "code",
   "execution_count": 68,
   "metadata": {
    "colab": {
     "base_uri": "https://localhost:8080/",
     "height": 122
    },
    "colab_type": "code",
    "executionInfo": {
     "elapsed": 1301769,
     "status": "ok",
     "timestamp": 1585117062686,
     "user": {
      "displayName": "Tyler Bikaun",
      "photoUrl": "",
      "userId": "18384825377619195869"
     },
     "user_tz": -480
    },
    "id": "3PAyBhoEnR3z",
    "outputId": "6da594e8-ee85-4a08-ae28-772317c1f044"
   },
   "outputs": [
    {
     "name": "stdout",
     "output_type": "stream",
     "text": [
      "Which words doesnt belong in the set ['cat', 'dog', 'france']? Odd one out: france\n"
     ]
    }
   ],
   "source": [
    "# Which one is the odd one out in this list?\n",
    "odd_one_out_list_1 = [\"cat\", \"dog\", \"france\"]\n",
    "print(f'Which words doesnt belong in the set {odd_one_out_list_1}? Odd one out: {model.wv.doesnt_match(odd_one_out_list_1)}')"
   ]
  },
  {
   "cell_type": "code",
   "execution_count": 69,
   "metadata": {
    "colab": {
     "base_uri": "https://localhost:8080/",
     "height": 122
    },
    "colab_type": "code",
    "executionInfo": {
     "elapsed": 1301758,
     "status": "ok",
     "timestamp": 1585117062686,
     "user": {
      "displayName": "Tyler Bikaun",
      "photoUrl": "",
      "userId": "18384825377619195869"
     },
     "user_tz": -480
    },
    "id": "veE4VDR_nR33",
    "outputId": "9ba6787f-0c32-4f72-f18a-1fef0789c9a2"
   },
   "outputs": [
    {
     "name": "stdout",
     "output_type": "stream",
     "text": [
      "Which words doesnt belong in the set ['bed', 'pillow', 'duvet', 'shower']? Odd one out: shower\n"
     ]
    }
   ],
   "source": [
    "# Which one is the odd one out in this list?\n",
    "odd_one_out_list_2 = [\"bed\",\"pillow\",\"duvet\",\"shower\"]\n",
    "print(f'Which words doesnt belong in the set {odd_one_out_list_2}? Odd one out: {model.wv.doesnt_match(odd_one_out_list_2)}')"
   ]
  },
  {
   "cell_type": "markdown",
   "metadata": {
    "colab_type": "text",
    "id": "oJ0FBQUrnR38"
   },
   "source": [
    "## Visualising the word vectors in 2D space\n",
    "\n",
    "Here we use a dimensionality reduction and visualisation package from Scikit-Learn, t-Distributed Stochastic Neighbor Embedding (t-SNE), which is particularly suited for visualising high dimensional data. Another popular options for dimensionality reduction is Principal Component Analysis (PCA).\n",
    "\n",
    "Note: the dimension of our word vectors by choice is 150, typical numbers could be 50, 100, and 300. Among these numbers, a dimension of 300 has been shown as most effective in capturing the syntatic and semantic information of a word. However, it will take much longer to train. "
   ]
  },
  {
   "cell_type": "code",
   "execution_count": 75,
   "metadata": {
    "colab": {},
    "colab_type": "code",
    "id": "2NQbN-AynR4B"
   },
   "outputs": [],
   "source": [
    "def display_closestwords_tsnescatterplot(model, word):\n",
    "    arr = np.empty((0,150), dtype='f')\n",
    "    word_labels = [word]\n",
    "\n",
    "    # get close words\n",
    "    close_words = model.similar_by_word(word)\n",
    "    \n",
    "    # add the vector for each of the closest words to the array\n",
    "    arr = np.append(arr, np.array([model[word]]), axis=0)\n",
    "    for wrd_score in close_words:\n",
    "        wrd_vector = model[wrd_score[0]]\n",
    "        word_labels.append(wrd_score[0])\n",
    "        arr = np.append(arr, np.array([wrd_vector]), axis=0)\n",
    "        \n",
    "    # find tsne coords for 2 dimensions\n",
    "    tsne = TSNE(n_components=2, random_state=0)\n",
    "    np.set_printoptions(suppress=True)\n",
    "    Y = tsne.fit_transform(arr)\n",
    "\n",
    "    x_coords = Y[:, 0]\n",
    "    y_coords = Y[:, 1]\n",
    "    # display scatter plot\n",
    "    plt.scatter(x_coords, y_coords)\n",
    "\n",
    "    for label, x, y in zip(word_labels, x_coords, y_coords):\n",
    "        plt.annotate(label, xy=(x, y), xytext=(0, 0), textcoords='offset points')\n",
    "    plt.xlim(x_coords.min()+0.00005, x_coords.max()+0.00005)\n",
    "    plt.ylim(y_coords.min()+0.00005, y_coords.max()+0.00005)\n",
    "    plt.title(f'Words closest to: {word}')\n",
    "    plt.show()"
   ]
  },
  {
   "cell_type": "markdown",
   "metadata": {
    "colab_type": "text",
    "id": "eIHec5Phx4Ll"
   },
   "source": [
    "### Visualising closest words in 2D"
   ]
  },
  {
   "cell_type": "code",
   "execution_count": 76,
   "metadata": {
    "colab": {
     "base_uri": "https://localhost:8080/",
     "height": 617
    },
    "colab_type": "code",
    "executionInfo": {
     "elapsed": 1302471,
     "status": "ok",
     "timestamp": 1585117064024,
     "user": {
      "displayName": "Tyler Bikaun",
      "photoUrl": "",
      "userId": "18384825377619195869"
     },
     "user_tz": -480
    },
    "id": "YyKBFzzVnR4E",
    "outputId": "77fc97fe-e27b-4509-99f8-849cbd6af4b3"
   },
   "outputs": [
    {
     "data": {
      "image/png": "[encoded data removed]",
      "text/plain": [
       "<Figure size 864x432 with 1 Axes>"
      ]
     },
     "metadata": {
      "needs_background": "light"
     },
     "output_type": "display_data"
    }
   ],
   "source": [
    "display_closestwords_tsnescatterplot(model.wv, \"bed\")"
   ]
  },
  {
   "cell_type": "markdown",
   "metadata": {
    "colab_type": "text",
    "id": "R9nDZAdKy_B1"
   },
   "source": [
    "## ⚙️ Learning Domain-Specific Word Embeddings <a name=\"domain-specific_word_vectors\"></a>"
   ]
  },
  {
   "cell_type": "markdown",
   "metadata": {},
   "source": [
    "Word embeddings are interesting and thought provoking but\n",
    "- What insights can we gain from them?\n",
    "- How do we apply them to industry data?\n",
    "\n",
    "This section of the notebook will explore word embeddings and their application to geological survey data (GSWA)."
   ]
  },
  {
   "cell_type": "markdown",
   "metadata": {
    "colab_type": "text",
    "id": "_5MWs23uzPUP"
   },
   "source": [
    "### Loading a small sample of Geological Survey of Western Australia (GSWA) data"
   ]
  },
  {
   "cell_type": "code",
   "execution_count": 86,
   "metadata": {
    "colab": {},
    "colab_type": "code",
    "id": "cn-cuSk40cjo"
   },
   "outputs": [],
   "source": [
    "gswa_corpus_file=\"../data/wamex_xml.zip\""
   ]
  },
  {
   "cell_type": "code",
   "execution_count": 87,
   "metadata": {
    "colab": {
     "base_uri": "https://localhost:8080/",
     "height": 34
    },
    "colab_type": "code",
    "executionInfo": {
     "elapsed": 2721,
     "status": "ok",
     "timestamp": 1585118724590,
     "user": {
      "displayName": "Tyler Bikaun",
      "photoUrl": "",
      "userId": "18384825377619195869"
     },
     "user_tz": -480
    },
    "id": "S2zNT1qWzPMt",
    "outputId": "26a9d507-1663-4e9e-d59f-7cecd158a83c"
   },
   "outputs": [],
   "source": [
    "gswa_corpus = list()\n",
    "with zipfile.ZipFile(corpus_file, \"r\") as z:\n",
    "    for filename in z.namelist():\n",
    "        with z.open(filename) as f:\n",
    "            # load the json file\n",
    "            # The resulting `content` is a list\n",
    "            content = json.loads(f.read()) \n",
    "            # Convert content to a string   \n",
    "            content = \"\".join(content)\n",
    "            # Add to the data list\n",
    "            gswa_corpus.append(content)"
   ]
  },
  {
   "cell_type": "markdown",
   "metadata": {},
   "source": [
    "By previewing the data that we have loaded, we can easily see that it is very different to the hotel reviews dataset."
   ]
  },
  {
   "cell_type": "code",
   "execution_count": 88,
   "metadata": {
    "colab": {
     "base_uri": "https://localhost:8080/",
     "height": 34
    },
    "colab_type": "code",
    "executionInfo": {
     "elapsed": 2399,
     "status": "ok",
     "timestamp": 1585118724592,
     "user": {
      "displayName": "Tyler Bikaun",
      "photoUrl": "",
      "userId": "18384825377619195869"
     },
     "user_tz": -480
    },
    "id": "Cph4A7YQzPKA",
    "outputId": "22330ef8-001b-4a61-b4a8-7df00695e3e8"
   },
   "outputs": [
    {
     "name": "stdout",
     "output_type": "stream",
     "text": [
      "Combined Reporting Application Pending Status: Sheet 1:250 000: Kalgoorlie (SH 51-09) Sheet 1:100 000: Kalgoorlie (3136) Project Operator: Cazaly Resources Limited Author: M Watts Date: September 2006 Distribution: 1.Department of Industry and Resources 2.Cazaly Resources Limited Cazaly Resources Limited September 2006 2 Figure 2: Castle Hill Project Tenement Location Plan, 1: 75 000 scale 6 Figure 3: Regional Geology with Exploration Index Map, 1:75 000 scale 8Cazaly Resources Limited September\n"
     ]
    }
   ],
   "source": [
    "print(gswa_corpus[0][:500])"
   ]
  },
  {
   "cell_type": "code",
   "execution_count": 28,
   "metadata": {
    "colab": {},
    "colab_type": "code",
    "id": "RE0Yjy_gzPHe"
   },
   "outputs": [],
   "source": [
    "def read_input(input_file):\n",
    "    \"\"\"This method reads the input file which is in zip format\"\"\"\n",
    "    \n",
    "    logging.info(\"reading file {0}...this may take a while\".format(input_file))\n",
    "\n",
    "    data = list()\n",
    "    with zipfile.ZipFile(input_file, \"r\") as z:\n",
    "    #df = [pd.read_json(filename) for filename in z.namelist()]\n",
    "        print(len(z.namelist()))\n",
    "        for i, filename in enumerate(z.namelist()):\n",
    "            # print(filename)\n",
    "            # df = pd.read_json(filename)\n",
    "            if (i%100==0):\n",
    "                logging.info (\"read {0} reports\".format (i))\n",
    "            with z.open(filename) as f:\n",
    "                # load the json file\n",
    "                # The resulting `content` is a list\n",
    "                content = json.loads(f.read()) \n",
    "                # Convert content to a string   \n",
    "                content = \"\".join(content)\n",
    "                if len(content) >= 10:\n",
    "                    # Add to the data list\n",
    "                    yield gensim.utils.simple_preprocess (content)\n",
    "                else:\n",
    "                    logging.info(\"removed {0} because of small size\".format (filename))"
   ]
  },
  {
   "cell_type": "markdown",
   "metadata": {},
   "source": [
    "Here we'll perform basic pre-processing of the geological surveys using Gensim's `simple_preprocess` function. A result of this is a corpus of tokenized and cased documents."
   ]
  },
  {
   "cell_type": "code",
   "execution_count": 89,
   "metadata": {},
   "outputs": [],
   "source": [
    "processed_gswa_corpus = [gensim.utils.simple_preprocess(doc) for doc in gswa_corpus]"
   ]
  },
  {
   "cell_type": "code",
   "execution_count": 90,
   "metadata": {
    "colab": {
     "base_uri": "https://localhost:8080/",
     "height": 34
    },
    "colab_type": "code",
    "executionInfo": {
     "elapsed": 9324,
     "status": "ok",
     "timestamp": 1585118732101,
     "user": {
      "displayName": "Tyler Bikaun",
      "photoUrl": "",
      "userId": "18384825377619195869"
     },
     "user_tz": -480
    },
    "id": "ok-NJAsoyBEr",
    "outputId": "1a98cad1-cc07-439b-8303-57750559aa1d"
   },
   "outputs": [
    {
     "name": "stdout",
     "output_type": "stream",
     "text": [
      "['combined', 'reporting', 'application', 'pending', 'status', 'sheet', 'kalgoorlie', 'sh', 'sheet', 'kalgoorlie', 'project', 'operator', 'cazaly', 'resources', 'limited', 'author', 'watts', 'date', 'september', 'distribution', 'department', 'of', 'industry', 'and', 'resources']\n"
     ]
    }
   ],
   "source": [
    "# Review the first documents top 25 words. See how they have been pre-processed and tokenized.\n",
    "print(processed_gswa_corpus[0][:25])"
   ]
  },
  {
   "cell_type": "markdown",
   "metadata": {
    "colab_type": "text",
    "id": "yOHp-kJ01Tt2"
   },
   "source": [
    "### Training word embedding model off of domain-specific text.\n",
    "\n",
    "Note: we are required to use bigrams to aid our model due to domain-specific terms."
   ]
  },
  {
   "cell_type": "raw",
   "metadata": {
    "colab": {
     "base_uri": "https://localhost:8080/",
     "height": 1000
    },
    "colab_type": "code",
    "executionInfo": {
     "elapsed": 183770,
     "status": "ok",
     "timestamp": 1585118907018,
     "user": {
      "displayName": "Tyler Bikaun",
      "photoUrl": "",
      "userId": "18384825377619195869"
     },
     "user_tz": -480
    },
    "id": "OjXRu31I0-HS",
    "outputId": "50d20d02-f3c5-40cc-e05d-d3c0f121b05a"
   },
   "source": [
    "# Build phrases and bigrams to train our word2vec model on\n",
    "phrases = gensim.models.Phrases(documents, min_count=1, threshold=1)\n",
    "bigrams = gensim.models.phrases.Phraser(phrases)\n",
    "\n",
    "# Note: we're referring to the model as DS (domain-specific). This allows us\n",
    "# to make a contrast between the pretrained word embeddings and the domain-specific ones. \n",
    "modelDS = gensim.models.Word2Vec (bigrams[documents], size=50, window=10, min_count=2, workers=12)\n",
    "modelDS.train(bigrams[documents],total_examples=len(documents), epochs=10)\n",
    "modelDS.save(\"../data/word2vec/word2vec_gswa.bin\")"
   ]
  },
  {
   "cell_type": "markdown",
   "metadata": {},
   "source": [
    "Similar to the hotel reviews, we load pre-trained embeddings rather than training them due to time requirements."
   ]
  },
  {
   "cell_type": "code",
   "execution_count": 92,
   "metadata": {},
   "outputs": [],
   "source": [
    "gswa_model = gensim.models.Word2Vec.load('../data/word2vec/word2vec_gswa.bin')"
   ]
  },
  {
   "cell_type": "markdown",
   "metadata": {
    "colab_type": "text",
    "id": "DgB_ATFn1eFd"
   },
   "source": [
    "## Looking at domain-specific outputs"
   ]
  },
  {
   "cell_type": "code",
   "execution_count": 93,
   "metadata": {
    "colab": {
     "base_uri": "https://localhost:8080/",
     "height": 54
    },
    "colab_type": "code",
    "executionInfo": {
     "elapsed": 183387,
     "status": "ok",
     "timestamp": 1585118907019,
     "user": {
      "displayName": "Tyler Bikaun",
      "photoUrl": "",
      "userId": "18384825377619195869"
     },
     "user_tz": -480
    },
    "id": "Ocw0iSJv1jZd",
    "outputId": "838e326a-a8ff-4ecc-d46e-2a701fca2465"
   },
   "outputs": [
    {
     "name": "stdout",
     "output_type": "stream",
     "text": [
      "['combined_reporting', 'application_pending', 'status_sheet', 'kalgoorlie_sh', 'sheet_kalgoorlie', 'project_operator', 'cazaly_resources', 'limited_author', 'watts_date', 'september_distribution', 'department_of', 'industry_and', 'resources_cazaly', 'resources_limited', 'limited_september', 'figure', 'castle_hill', 'project_tenement', 'location_plan', 'scale_figure', 'regional_geology', 'with', 'exploration_index', 'map_scale', 'summary', 'the', 'combined_mineral', 'exploration_report', 'on_the', 'project_details', 'exploration_activities', 'undertaken_by', 'limited', 'during_the', 'reporting_period', 'from', 'july_to', 'july', 'the_reporting', 'group_known', 'as_castle', 'hill_comprises', 'nine_granted', 'prospecting_licences', 'project_area', 'covers_some', 'hectares_cazaly', 'is', 'registered_holder', 'of_the', 'project_tenements', 'cazalys_exploration', 'activities_during', 'period', 'have_been', 'directed_towards', 'the_acquisition', 'of', 'available_reports', 'and', 'datasets_relating', 'to', 'previous_exploration', 'activities_within', 'and_assessing', 'gold', 'nickel_potential', 'following', 'data_review', 'project', 'was_not', 'rated_as', 'highly', 'as', 'other_nearby', 'project_areas', 'managed_by', 'cazaly_introduction', 'exploration_work', 'limited_cazaly', 'is_located', 'km_wnw', 'of_kalgoorlie', 'lies_within', 'the_kunanalling', 'district_of', 'the_coolgardie', 'mineral_field', 'kalgoorlie', 'map_sheets', 'tenure', 'hectares_refer', 'table', 'for_further', 'details_cazaly', 'an_application', 'for', 'of_these', 'tenements', 'to_be']\n"
     ]
    }
   ],
   "source": [
    "print(list(gswa_model.wv.vocab.keys())[:100])"
   ]
  },
  {
   "cell_type": "code",
   "execution_count": 96,
   "metadata": {
    "colab": {
     "base_uri": "https://localhost:8080/",
     "height": 187
    },
    "colab_type": "code",
    "executionInfo": {
     "elapsed": 183164,
     "status": "ok",
     "timestamp": 1585118907019,
     "user": {
      "displayName": "Tyler Bikaun",
      "photoUrl": "",
      "userId": "18384825377619195869"
     },
     "user_tz": -480
    },
    "id": "l0CQiK_31jXl",
    "outputId": "3e28d41b-d5f7-471d-deed-3dc925945b75"
   },
   "outputs": [
    {
     "name": "stdout",
     "output_type": "stream",
     "text": [
      "1.\tnickel           \t80.3%\n",
      "2.\tcopper           \t78.8%\n",
      "3.\tlead             \t75.2%\n",
      "4.\tau               \t72.9%\n",
      "5.\tdiscovered_at    \t71.8%\n",
      "6.\tplatinum         \t66.1%\n",
      "7.\tsignificant_gold \t63.7%\n",
      "8.\tproduction_from  \t63.3%\n",
      "9.\tsilver           \t62.3%\n",
      "10.\tfor_gold         \t61.1%\n"
     ]
    }
   ],
   "source": [
    "prettify_similarities(gswa_model.wv.most_similar(['gold']))"
   ]
  },
  {
   "cell_type": "code",
   "execution_count": 98,
   "metadata": {
    "colab": {
     "base_uri": "https://localhost:8080/",
     "height": 173
    },
    "colab_type": "code",
    "executionInfo": {
     "elapsed": 182749,
     "status": "ok",
     "timestamp": 1585118907020,
     "user": {
      "displayName": "Tyler Bikaun",
      "photoUrl": "",
      "userId": "18384825377619195869"
     },
     "user_tz": -480
    },
    "id": "hZajnE271jUr",
    "outputId": "6158b447-428b-4215-8db1-0007a6f42e89"
   },
   "outputs": [
    {
     "name": "stdout",
     "output_type": "stream",
     "text": [
      "1.\tsulphur         \t84.5%\n",
      "2.\tfe              \t81.1%\n",
      "3.\tsilver          \t79.2%\n",
      "4.\tmetal           \t76.4%\n",
      "5.\tplatinum_copper \t76.1%\n",
      "6.\tphosphorous     \t76.0%\n",
      "7.\thematite        \t75.7%\n",
      "8.\tgangue_minerals \t75.6%\n",
      "9.\tco              \t75.3%\n",
      "10.\tsilica          \t74.6%\n"
     ]
    }
   ],
   "source": [
    "prettify_similarities(gswa_model.wv.most_similar(['iron']))"
   ]
  },
  {
   "cell_type": "code",
   "execution_count": 99,
   "metadata": {
    "colab": {
     "base_uri": "https://localhost:8080/",
     "height": 241
    },
    "colab_type": "code",
    "executionInfo": {
     "elapsed": 182505,
     "status": "ok",
     "timestamp": 1585118907020,
     "user": {
      "displayName": "Tyler Bikaun",
      "photoUrl": "",
      "userId": "18384825377619195869"
     },
     "user_tz": -480
    },
    "id": "_EhVlOOI1jRC",
    "outputId": "fb6a8fe3-5a25-4b44-f360-07720a4cd428"
   },
   "outputs": [
    {
     "name": "stdout",
     "output_type": "stream",
     "text": [
      "1.\toz              \t81.7%\n",
      "2.\tof_million      \t80.9%\n",
      "3.\toz_au           \t79.3%\n",
      "4.\tproduction_from \t77.8%\n",
      "5.\tounces          \t77.4%\n",
      "6.\tmt_at           \t77.4%\n",
      "7.\tof_tonnes       \t76.3%\n",
      "8.\ttonnes_at       \t76.1%\n",
      "9.\tore_deposit     \t76.0%\n",
      "10.\tfor_oz          \t75.8%\n"
     ]
    }
   ],
   "source": [
    "# get everything related to stuff on the commodity\n",
    "prettify_similarities(gswa_model.wv.most_similar(positive = [\"gold\",'commodity','ore'], negative = ['rock']))"
   ]
  },
  {
   "cell_type": "code",
   "execution_count": 102,
   "metadata": {
    "colab": {
     "base_uri": "https://localhost:8080/",
     "height": 88
    },
    "colab_type": "code",
    "executionInfo": {
     "elapsed": 181999,
     "status": "ok",
     "timestamp": 1585118907021,
     "user": {
      "displayName": "Tyler Bikaun",
      "photoUrl": "",
      "userId": "18384825377619195869"
     },
     "user_tz": -480
    },
    "id": "4TfG_p_r1jOr",
    "outputId": "f644c164-f06e-4e66-b1ee-41f65a25cf4b"
   },
   "outputs": [
    {
     "name": "stdout",
     "output_type": "stream",
     "text": [
      "Similarity between two different words: 0.406\n"
     ]
    }
   ],
   "source": [
    "# similarity between two different words\n",
    "print(f'Similarity between two different words: {gswa_model.wv.similarity(w1=\"gold\",w2=\"ore\"):0.3}')"
   ]
  },
  {
   "cell_type": "code",
   "execution_count": 103,
   "metadata": {
    "colab": {
     "base_uri": "https://localhost:8080/",
     "height": 88
    },
    "colab_type": "code",
    "executionInfo": {
     "elapsed": 181617,
     "status": "ok",
     "timestamp": 1585118907346,
     "user": {
      "displayName": "Tyler Bikaun",
      "photoUrl": "",
      "userId": "18384825377619195869"
     },
     "user_tz": -480
    },
    "id": "oaltQ0Eh1jMg",
    "outputId": "b3c66c4c-484d-479a-b266-84d3b95c00ee"
   },
   "outputs": [
    {
     "name": "stdout",
     "output_type": "stream",
     "text": [
      "Similarity between the same word: 1.0\n"
     ]
    }
   ],
   "source": [
    "# similarity between two identical words\n",
    "print(f'Similarity between the same word: {gswa_model.wv.similarity(w1=\"gold\",w2=\"gold\"):0.3}')"
   ]
  },
  {
   "cell_type": "code",
   "execution_count": 104,
   "metadata": {
    "colab": {
     "base_uri": "https://localhost:8080/",
     "height": 88
    },
    "colab_type": "code",
    "executionInfo": {
     "elapsed": 181462,
     "status": "ok",
     "timestamp": 1585118907347,
     "user": {
      "displayName": "Tyler Bikaun",
      "photoUrl": "",
      "userId": "18384825377619195869"
     },
     "user_tz": -480
    },
    "id": "4qNuYbd11jJ9",
    "outputId": "bc326fc8-a38f-496d-afda-24cd6c0ad92d"
   },
   "outputs": [
    {
     "name": "stdout",
     "output_type": "stream",
     "text": [
      "Similarity between unrelated words: -0.146\n"
     ]
    }
   ],
   "source": [
    "# similarity between two unrelated words\n",
    "print(f'Similarity between unrelated words: {gswa_model.wv.similarity(w1=\"gold\",w2=\"rock\"):0.3}')"
   ]
  },
  {
   "cell_type": "code",
   "execution_count": 107,
   "metadata": {
    "colab": {
     "base_uri": "https://localhost:8080/",
     "height": 122
    },
    "colab_type": "code",
    "executionInfo": {
     "elapsed": 181337,
     "status": "ok",
     "timestamp": 1585118907348,
     "user": {
      "displayName": "Tyler Bikaun",
      "photoUrl": "",
      "userId": "18384825377619195869"
     },
     "user_tz": -480
    },
    "id": "VbUayj321pOz",
    "outputId": "c0f8a95d-07ff-43ab-b444-cfed0901738c"
   },
   "outputs": [
    {
     "name": "stdout",
     "output_type": "stream",
     "text": [
      "Which words doesnt belong in the set ['gold', 'rock', 'copper']? Odd one out: rock\n"
     ]
    }
   ],
   "source": [
    "# Which one is the odd one out in this list?\n",
    "odd_one_out_list_gswa = [\"gold\", \"rock\", \"copper\"]\n",
    "print(f'Which words doesnt belong in the set {odd_one_out_list_gswa}? Odd one out: {gswa_model.wv.doesnt_match(odd_one_out_list_gswa)}')"
   ]
  },
  {
   "cell_type": "markdown",
   "metadata": {
    "colab_type": "text",
    "id": "UIW9Bl-I3KEK"
   },
   "source": [
    "### Comparing our domain-specific embeddings with embeddings trained on a different dataset (news articles)."
   ]
  },
  {
   "cell_type": "markdown",
   "metadata": {},
   "source": [
    "- What are the nearest terms to 'commodity', 'ore', 'rock', etc.\n",
    "\n",
    "Unfortunately due to the size of pre-trained word embedding models they have been omitted from this comparison. However, the code below shows how to load the Google news word2vec embedding model. This model is trained on 100 billion words and is 1.6GB in size (massive!)."
   ]
  },
  {
   "cell_type": "raw",
   "metadata": {
    "colab": {},
    "colab_type": "code",
    "id": "2df1AaGp8-iI"
   },
   "source": [
    "# Load Google's pre-trained Word2Vec model.\n",
    "# 1.6GB trained over 100B words; dimension of 300. Cannot use in this notebook due to massive size and time required to load.\n",
    "\n",
    "import gensim.downloader as api\n",
    "wv = api.load('word2vec-google-news-300')"
   ]
  },
  {
   "cell_type": "code",
   "execution_count": 108,
   "metadata": {
    "colab": {},
    "colab_type": "code",
    "id": "OPmtpYf-3KBz"
   },
   "outputs": [],
   "source": [
    "# Define function to compare top-n similariries for a given word between two embedding models.\n",
    "def compare_words(word, topn, model1, model2):\n",
    "    similarWordsModel1 = model1.wv.most_similar(positive=word, topn=topn)\n",
    "    similarWordsModel2 = model2.wv.most_similar(positive=word,topn=topn)\n",
    "\n",
    "    print(f'Top {topn} words similar to {word}\\n(format: n | model 1 | model 2 )\\n')\n",
    "    for n in range(topn):\n",
    "        print(f'{n+1} |{similarWordsModel1[n][0]:<15} | {similarWordsModel2[n][0]:<15}')"
   ]
  },
  {
   "cell_type": "code",
   "execution_count": 109,
   "metadata": {
    "colab": {
     "base_uri": "https://localhost:8080/",
     "height": 207
    },
    "colab_type": "code",
    "executionInfo": {
     "elapsed": 180612,
     "status": "ok",
     "timestamp": 1585118907349,
     "user": {
      "displayName": "Tyler Bikaun",
      "photoUrl": "",
      "userId": "18384825377619195869"
     },
     "user_tz": -480
    },
    "id": "gcX31xIr3J9i",
    "outputId": "75a2f13c-b992-4679-bb57-12b6f0867b84"
   },
   "outputs": [
    {
     "name": "stdout",
     "output_type": "stream",
     "text": [
      "Top 5 words similar to commodity\n",
      "(format: n | model 1 | model 2 )\n",
      "\n",
      "1 |rarity          | hardcore_geological\n",
      "2 |nowadays        | guidance_for   \n",
      "3 |uncommon        | feasibility    \n",
      "4 |rare            | aims_to        \n",
      "5 |ounce           | impact_viability\n"
     ]
    }
   ],
   "source": [
    "# Looking at the word 'commodity'\n",
    "compare_words(word = 'commodity', topn = 5, model1 = model, model2 = gswa_model)"
   ]
  },
  {
   "cell_type": "code",
   "execution_count": 110,
   "metadata": {
    "colab": {
     "base_uri": "https://localhost:8080/",
     "height": 207
    },
    "colab_type": "code",
    "executionInfo": {
     "elapsed": 180378,
     "status": "ok",
     "timestamp": 1585118907350,
     "user": {
      "displayName": "Tyler Bikaun",
      "photoUrl": "",
      "userId": "18384825377619195869"
     },
     "user_tz": -480
    },
    "id": "ExSMep_7RC1S",
    "outputId": "7861088b-996e-4634-e9fb-54cf29c611a8"
   },
   "outputs": [
    {
     "name": "stdout",
     "output_type": "stream",
     "text": [
      "Top 5 words similar to ore\n",
      "(format: n | model 1 | model 2 )\n",
      "\n",
      "1 |beaucoup        | grade          \n",
      "2 |por             | oz             \n",
      "3 |lujoso          | tonnes         \n",
      "4 |mer             | mill           \n",
      "5 |cerca           | gold_price     \n"
     ]
    }
   ],
   "source": [
    "# Looking at the word 'ore'\n",
    "compare_words(word = 'ore', topn = 5, model1 = model, model2 = gswa_model)"
   ]
  },
  {
   "cell_type": "code",
   "execution_count": 111,
   "metadata": {
    "colab": {
     "base_uri": "https://localhost:8080/",
     "height": 207
    },
    "colab_type": "code",
    "executionInfo": {
     "elapsed": 180154,
     "status": "ok",
     "timestamp": 1585118907350,
     "user": {
      "displayName": "Tyler Bikaun",
      "photoUrl": "",
      "userId": "18384825377619195869"
     },
     "user_tz": -480
    },
    "id": "_3b-ykPERCyV",
    "outputId": "075f24e4-2e76-4893-81f2-1734097b95b1"
   },
   "outputs": [
    {
     "name": "stdout",
     "output_type": "stream",
     "text": [
      "Top 5 words similar to rock\n",
      "(format: n | model 1 | model 2 )\n",
      "\n",
      "1 |rocks           | lamproite      \n",
      "2 |rosey           | fine_grained   \n",
      "3 |boiled          | trace          \n",
      "4 |snapper         | rock_type      \n",
      "5 |earned          | feldspar       \n"
     ]
    }
   ],
   "source": [
    "# Looking at the word 'rock'\n",
    "compare_words(word = 'rock', topn = 5, model1 = model, model2 = gswa_model)"
   ]
  },
  {
   "cell_type": "markdown",
   "metadata": {
    "colab_type": "text",
    "id": "nUFDEGVK1pMd"
   },
   "source": [
    "### Visualising the domain-specific word vectors in 2D space"
   ]
  },
  {
   "cell_type": "code",
   "execution_count": 112,
   "metadata": {
    "colab": {},
    "colab_type": "code",
    "id": "rhE0JjYr1pII"
   },
   "outputs": [],
   "source": [
    "def display_closestwords_tsnescatterplot(model, word):\n",
    "    arr = np.empty((0,50), dtype='f')\n",
    "    word_labels = [word]\n",
    "\n",
    "    # get close words\n",
    "    close_words = model.similar_by_word(word)\n",
    "    \n",
    "    # add the vector for each of the closest words to the array\n",
    "    arr = np.append(arr, np.array([model[word]]), axis=0)\n",
    "    for wrd_score in close_words:\n",
    "        wrd_vector = model[wrd_score[0]]\n",
    "        word_labels.append(wrd_score[0])\n",
    "        arr = np.append(arr, np.array([wrd_vector]), axis=0)\n",
    "        \n",
    "    # find tsne coords for 2 dimensions\n",
    "    tsne = TSNE(n_components=2, random_state=0)\n",
    "    np.set_printoptions(suppress=True)\n",
    "    Y = tsne.fit_transform(arr)\n",
    "\n",
    "    x_coords = Y[:, 0]\n",
    "    y_coords = Y[:, 1]\n",
    "    # display scatter plot\n",
    "    plt.scatter(x_coords, y_coords)\n",
    "\n",
    "    for label, x, y in zip(word_labels, x_coords, y_coords):\n",
    "        plt.annotate(label, xy=(x, y), xytext=(0, 0), textcoords='offset points')\n",
    "    plt.xlim(x_coords.min()+0.00005, x_coords.max()+0.00005)\n",
    "    plt.ylim(y_coords.min()+0.00005, y_coords.max()+0.00005)\n",
    "    plt.title(f'Words closest to: {word}')\n",
    "    plt.show()"
   ]
  },
  {
   "cell_type": "code",
   "execution_count": 113,
   "metadata": {
    "colab": {
     "base_uri": "https://localhost:8080/",
     "height": 617
    },
    "colab_type": "code",
    "executionInfo": {
     "elapsed": 1472,
     "status": "ok",
     "timestamp": 1585118947324,
     "user": {
      "displayName": "Tyler Bikaun",
      "photoUrl": "",
      "userId": "18384825377619195869"
     },
     "user_tz": -480
    },
    "id": "qnoeIGsI1pGC",
    "outputId": "b1d2125a-20b0-4bbe-b25b-678e820ec8a0"
   },
   "outputs": [
    {
     "data": {
      "image/png": "[encoded data removed]",
      "text/plain": [
       "<Figure size 864x432 with 1 Axes>"
      ]
     },
     "metadata": {
      "needs_background": "light"
     },
     "output_type": "display_data"
    }
   ],
   "source": [
    "display_closestwords_tsnescatterplot(model = gswa_model.wv, word = \"gold\")"
   ]
  },
  {
   "cell_type": "markdown",
   "metadata": {
    "colab_type": "text",
    "id": "Pzvw14B8TL7A"
   },
   "source": [
    "### Visualising all of the words in the domain-specific corpus vocabulary"
   ]
  },
  {
   "cell_type": "code",
   "execution_count": 118,
   "metadata": {
    "colab": {
     "base_uri": "https://localhost:8080/",
     "height": 68
    },
    "colab_type": "code",
    "executionInfo": {
     "elapsed": 995,
     "status": "ok",
     "timestamp": 1585118951914,
     "user": {
      "displayName": "Tyler Bikaun",
      "photoUrl": "",
      "userId": "18384825377619195869"
     },
     "user_tz": -480
    },
    "id": "NiouXHvb1pEB",
    "outputId": "6831cc9a-22c5-474f-8c9d-127582d72f83"
   },
   "outputs": [],
   "source": [
    "# Set-up t-SNE model for 2 dimensional reduction\n",
    "tsne = TSNE(n_components=2)"
   ]
  },
  {
   "cell_type": "code",
   "execution_count": 119,
   "metadata": {},
   "outputs": [
    {
     "name": "stderr",
     "output_type": "stream",
     "text": [
      "c:\\users\\22917746\\appdata\\local\\programs\\python\\python36\\lib\\site-packages\\ipykernel_launcher.py:1: DeprecationWarning: Call to deprecated `__getitem__` (Method will be removed in 4.0.0, use self.wv.__getitem__() instead).\n",
      "  \"\"\"Entry point for launching an IPython kernel.\n"
     ]
    },
    {
     "name": "stdout",
     "output_type": "stream",
     "text": [
      "Shape of model before t-SNE: (118244, 50)\n"
     ]
    }
   ],
   "source": [
    "X = modelDS[modelDS.wv.vocab]\n",
    "# Shape of our model before t-SNE\n",
    "print(f'Shape of model before t-SNE: {X.shape}')"
   ]
  },
  {
   "cell_type": "markdown",
   "metadata": {},
   "source": [
    "Here we'll fit a t-SNE model to our data. However, as our corpus is quite large, we'll first subset it to help with comptuation time."
   ]
  },
  {
   "cell_type": "code",
   "execution_count": 125,
   "metadata": {},
   "outputs": [],
   "source": [
    "# Number of points to model\n",
    "points = 2500"
   ]
  },
  {
   "cell_type": "code",
   "execution_count": 120,
   "metadata": {
    "colab": {
     "base_uri": "https://localhost:8080/",
     "height": 597
    },
    "colab_type": "code",
    "executionInfo": {
     "elapsed": 341654,
     "status": "ok",
     "timestamp": 1585121616330,
     "user": {
      "displayName": "Tyler Bikaun",
      "photoUrl": "",
      "userId": "18384825377619195869"
     },
     "user_tz": -480
    },
    "id": "tmnytvul10Xf",
    "outputId": "e6fe0879-b67b-4e98-b9dc-e5cd8a49078e"
   },
   "outputs": [],
   "source": [
    "# Fitting subset of data to t-SNE\n",
    "X_limited = X[:points]\n",
    "X_tsne = tsne.fit_transform(X_limited)\n",
    "\n",
    "# Uncomment line below to fit entire model to t-SNE\n",
    "# X_tsne = tsne.fit_transform(X)"
   ]
  },
  {
   "cell_type": "code",
   "execution_count": 121,
   "metadata": {},
   "outputs": [
    {
     "data": {
      "image/png": "[encoded data removed]",
      "text/plain": [
       "<Figure size 720x720 with 1 Axes>"
      ]
     },
     "metadata": {
      "needs_background": "light"
     },
     "output_type": "display_data"
    }
   ],
   "source": [
    "# Plot dimensionality reduced word scatterplot\n",
    "plt.rcParams['figure.figsize'] = [10, 10]\n",
    "plt.scatter(X_tsne[:, 0], X_tsne[:, 1])\n",
    "plt.show()"
   ]
  },
  {
   "cell_type": "markdown",
   "metadata": {
    "colab_type": "text",
    "id": "pfCESffv10TD"
   },
   "source": [
    "### Interactive Visualisation\n"
   ]
  },
  {
   "cell_type": "markdown",
   "metadata": {},
   "source": [
    "Refer to https://www.datascience.com/resources/notebooks/word-embeddings-in-python, and also for ideas of incoporating POS and bigrams into word2vec training."
   ]
  },
  {
   "cell_type": "code",
   "execution_count": 123,
   "metadata": {
    "colab": {},
    "colab_type": "code",
    "id": "viZhA7RO10N8"
   },
   "outputs": [],
   "source": [
    "def interactive_tsne(text_labels, tsne_array):\n",
    "    '''makes an interactive scatter plot with text labels for each point'''\n",
    "\n",
    "    # Define a dataframe to be used by bokeh context\n",
    "    bokeh_df = pd.DataFrame(tsne_array, text_labels, columns=['x','y'])\n",
    "    bokeh_df['text_labels'] = bokeh_df.index\n",
    "\n",
    "    # interactive controls to include to the plot\n",
    "    TOOLS=\"hover, zoom_in, zoom_out, box_zoom, undo, redo, reset, box_select\"\n",
    "\n",
    "    p = figure(tools=TOOLS, plot_width=700, plot_height=700)\n",
    "\n",
    "    # define data source for the plot\n",
    "    source = ColumnDataSource(bokeh_df)\n",
    "\n",
    "    # scatter plot\n",
    "    p.scatter('x', 'y', source=source, fill_alpha=0.6,\n",
    "              fill_color=\"#8724B5\",\n",
    "              line_color=None)\n",
    "\n",
    "    # text labels\n",
    "    labels = LabelSet(x='x', y='y', text='text_labels', y_offset=8,\n",
    "                      text_font_size=\"8pt\", text_color=\"#555555\",\n",
    "                      source=source, text_align='center')\n",
    "\n",
    "    p.add_layout(labels)\n",
    "\n",
    "    # show plot inline\n",
    "    output_notebook()\n",
    "    show(p)"
   ]
  },
  {
   "cell_type": "markdown",
   "metadata": {},
   "source": [
    "Launch interactive visualisation of word embeddings"
   ]
  },
  {
   "cell_type": "code",
   "execution_count": 124,
   "metadata": {
    "colab": {},
    "colab_type": "code",
    "id": "CRvKJ6gK10MD"
   },
   "outputs": [
    {
     "data": {
      "text/html": [
       "\n",
       "    <div class=\"bk-root\">\n",
       "        <a href=\"https://bokeh.org\" target=\"_blank\" class=\"bk-logo bk-logo-small bk-logo-notebook\"></a>\n",
       "        <span id=\"1150\">Loading BokehJS ...</span>\n",
       "    </div>"
      ]
     },
     "metadata": {},
     "output_type": "display_data"
    },
    {
     "data": {
      "application/javascript": [
       "\n",
       "(function(root) {\n",
       "  function now() {\n",
       "    return new Date();\n",
       "  }\n",
       "\n",
       "  var force = true;\n",
       "\n",
       "  if (typeof root._bokeh_onload_callbacks === \"undefined\" || force === true) {\n",
       "    root._bokeh_onload_callbacks = [];\n",
       "    root._bokeh_is_loading = undefined;\n",
       "  }\n",
       "\n",
       "  var JS_MIME_TYPE = 'application/javascript';\n",
       "  var HTML_MIME_TYPE = 'text/html';\n",
       "  var EXEC_MIME_TYPE = 'application/vnd.bokehjs_exec.v0+json';\n",
       "  var CLASS_NAME = 'output_bokeh rendered_html';\n",
       "\n",
       "  /**\n",
       "   * Render data to the DOM node\n",
       "   */\n",
       "  function render(props, node) {\n",
       "    var script = document.createElement(\"script\");\n",
       "    node.appendChild(script);\n",
       "  }\n",
       "\n",
       "  /**\n",
       "   * Handle when an output is cleared or removed\n",
       "   */\n",
       "  function handleClearOutput(event, handle) {\n",
       "    var cell = handle.cell;\n",
       "\n",
       "    var id = cell.output_area._bokeh_element_id;\n",
       "    var server_id = cell.output_area._bokeh_server_id;\n",
       "    // Clean up Bokeh references\n",
       "    if (id != null && id in Bokeh.index) {\n",
       "      Bokeh.index[id].model.document.clear();\n",
       "      delete Bokeh.index[id];\n",
       "    }\n",
       "\n",
       "    if (server_id !== undefined) {\n",
       "      // Clean up Bokeh references\n",
       "      var cmd = \"from bokeh.io.state import curstate; print(curstate().uuid_to_server['\" + server_id + \"'].get_sessions()[0].document.roots[0]._id)\";\n",
       "      cell.notebook.kernel.execute(cmd, {\n",
       "        iopub: {\n",
       "          output: function(msg) {\n",
       "            var id = msg.content.text.trim();\n",
       "            if (id in Bokeh.index) {\n",
       "              Bokeh.index[id].model.document.clear();\n",
       "              delete Bokeh.index[id];\n",
       "            }\n",
       "          }\n",
       "        }\n",
       "      });\n",
       "      // Destroy server and session\n",
       "      var cmd = \"import bokeh.io.notebook as ion; ion.destroy_server('\" + server_id + \"')\";\n",
       "      cell.notebook.kernel.execute(cmd);\n",
       "    }\n",
       "  }\n",
       "\n",
       "  /**\n",
       "   * Handle when a new output is added\n",
       "   */\n",
       "  function handleAddOutput(event, handle) {\n",
       "    var output_area = handle.output_area;\n",
       "    var output = handle.output;\n",
       "\n",
       "    // limit handleAddOutput to display_data with EXEC_MIME_TYPE content only\n",
       "    if ((output.output_type != \"display_data\") || (!output.data.hasOwnProperty(EXEC_MIME_TYPE))) {\n",
       "      return\n",
       "    }\n",
       "\n",
       "    var toinsert = output_area.element.find(\".\" + CLASS_NAME.split(' ')[0]);\n",
       "\n",
       "    if (output.metadata[EXEC_MIME_TYPE][\"id\"] !== undefined) {\n",
       "      toinsert[toinsert.length - 1].firstChild.textContent = output.data[JS_MIME_TYPE];\n",
       "      // store reference to embed id on output_area\n",
       "      output_area._bokeh_element_id = output.metadata[EXEC_MIME_TYPE][\"id\"];\n",
       "    }\n",
       "    if (output.metadata[EXEC_MIME_TYPE][\"server_id\"] !== undefined) {\n",
       "      var bk_div = document.createElement(\"div\");\n",
       "      bk_div.innerHTML = output.data[HTML_MIME_TYPE];\n",
       "      var script_attrs = bk_div.children[0].attributes;\n",
       "      for (var i = 0; i < script_attrs.length; i++) {\n",
       "        toinsert[toinsert.length - 1].firstChild.setAttribute(script_attrs[i].name, script_attrs[i].value);\n",
       "        toinsert[toinsert.length - 1].firstChild.textContent = bk_div.children[0].textContent\n",
       "      }\n",
       "      // store reference to server id on output_area\n",
       "      output_area._bokeh_server_id = output.metadata[EXEC_MIME_TYPE][\"server_id\"];\n",
       "    }\n",
       "  }\n",
       "\n",
       "  function register_renderer(events, OutputArea) {\n",
       "\n",
       "    function append_mime(data, metadata, element) {\n",
       "      // create a DOM node to render to\n",
       "      var toinsert = this.create_output_subarea(\n",
       "        metadata,\n",
       "        CLASS_NAME,\n",
       "        EXEC_MIME_TYPE\n",
       "      );\n",
       "      this.keyboard_manager.register_events(toinsert);\n",
       "      // Render to node\n",
       "      var props = {data: data, metadata: metadata[EXEC_MIME_TYPE]};\n",
       "      render(props, toinsert[toinsert.length - 1]);\n",
       "      element.append(toinsert);\n",
       "      return toinsert\n",
       "    }\n",
       "\n",
       "    /* Handle when an output is cleared or removed */\n",
       "    events.on('clear_output.CodeCell', handleClearOutput);\n",
       "    events.on('delete.Cell', handleClearOutput);\n",
       "\n",
       "    /* Handle when a new output is added */\n",
       "    events.on('output_added.OutputArea', handleAddOutput);\n",
       "\n",
       "    /**\n",
       "     * Register the mime type and append_mime function with output_area\n",
       "     */\n",
       "    OutputArea.prototype.register_mime_type(EXEC_MIME_TYPE, append_mime, {\n",
       "      /* Is output safe? */\n",
       "      safe: true,\n",
       "      /* Index of renderer in `output_area.display_order` */\n",
       "      index: 0\n",
       "    });\n",
       "  }\n",
       "\n",
       "  // register the mime type if in Jupyter Notebook environment and previously unregistered\n",
       "  if (root.Jupyter !== undefined) {\n",
       "    var events = require('base/js/events');\n",
       "    var OutputArea = require('notebook/js/outputarea').OutputArea;\n",
       "\n",
       "    if (OutputArea.prototype.mime_types().indexOf(EXEC_MIME_TYPE) == -1) {\n",
       "      register_renderer(events, OutputArea);\n",
       "    }\n",
       "  }\n",
       "\n",
       "  \n",
       "  if (typeof (root._bokeh_timeout) === \"undefined\" || force === true) {\n",
       "    root._bokeh_timeout = Date.now() + 5000;\n",
       "    root._bokeh_failed_load = false;\n",
       "  }\n",
       "\n",
       "  var NB_LOAD_WARNING = {'data': {'text/html':\n",
       "     \"<div style='background-color: #fdd'>\\n\"+\n",
       "     \"<p>\\n\"+\n",
       "     \"BokehJS does not appear to have successfully loaded. If loading BokehJS from CDN, this \\n\"+\n",
       "     \"may be due to a slow or bad network connection. Possible fixes:\\n\"+\n",
       "     \"</p>\\n\"+\n",
       "     \"<ul>\\n\"+\n",
       "     \"<li>re-rerun `output_notebook()` to attempt to load from CDN again, or</li>\\n\"+\n",
       "     \"<li>use INLINE resources instead, as so:</li>\\n\"+\n",
       "     \"</ul>\\n\"+\n",
       "     \"<code>\\n\"+\n",
       "     \"from bokeh.resources import INLINE\\n\"+\n",
       "     \"output_notebook(resources=INLINE)\\n\"+\n",
       "     \"</code>\\n\"+\n",
       "     \"</div>\"}};\n",
       "\n",
       "  function display_loaded() {\n",
       "    var el = document.getElementById(\"1150\");\n",
       "    if (el != null) {\n",
       "      el.textContent = \"BokehJS is loading...\";\n",
       "    }\n",
       "    if (root.Bokeh !== undefined) {\n",
       "      if (el != null) {\n",
       "        el.textContent = \"BokehJS \" + root.Bokeh.version + \" successfully loaded.\";\n",
       "      }\n",
       "    } else if (Date.now() < root._bokeh_timeout) {\n",
       "      setTimeout(display_loaded, 100)\n",
       "    }\n",
       "  }\n",
       "\n",
       "\n",
       "  function run_callbacks() {\n",
       "    try {\n",
       "      root._bokeh_onload_callbacks.forEach(function(callback) {\n",
       "        if (callback != null)\n",
       "          callback();\n",
       "      });\n",
       "    } finally {\n",
       "      delete root._bokeh_onload_callbacks\n",
       "    }\n",
       "    console.debug(\"Bokeh: all callbacks have finished\");\n",
       "  }\n",
       "\n",
       "  function load_libs(css_urls, js_urls, callback) {\n",
       "    if (css_urls == null) css_urls = [];\n",
       "    if (js_urls == null) js_urls = [];\n",
       "\n",
       "    root._bokeh_onload_callbacks.push(callback);\n",
       "    if (root._bokeh_is_loading > 0) {\n",
       "      console.debug(\"Bokeh: BokehJS is being loaded, scheduling callback at\", now());\n",
       "      return null;\n",
       "    }\n",
       "    if (js_urls == null || js_urls.length === 0) {\n",
       "      run_callbacks();\n",
       "      return null;\n",
       "    }\n",
       "    console.debug(\"Bokeh: BokehJS not loaded, scheduling load and callback at\", now());\n",
       "    root._bokeh_is_loading = css_urls.length + js_urls.length;\n",
       "\n",
       "    function on_load() {\n",
       "      root._bokeh_is_loading--;\n",
       "      if (root._bokeh_is_loading === 0) {\n",
       "        console.debug(\"Bokeh: all BokehJS libraries/stylesheets loaded\");\n",
       "        run_callbacks()\n",
       "      }\n",
       "    }\n",
       "\n",
       "    function on_error() {\n",
       "      console.error(\"failed to load \" + url);\n",
       "    }\n",
       "\n",
       "    for (var i = 0; i < css_urls.length; i++) {\n",
       "      var url = css_urls[i];\n",
       "      const element = document.createElement(\"link\");\n",
       "      element.onload = on_load;\n",
       "      element.onerror = on_error;\n",
       "      element.rel = \"stylesheet\";\n",
       "      element.type = \"text/css\";\n",
       "      element.href = url;\n",
       "      console.debug(\"Bokeh: injecting link tag for BokehJS stylesheet: \", url);\n",
       "      document.body.appendChild(element);\n",
       "    }\n",
       "\n",
       "    const hashes = {\"https://cdn.bokeh.org/bokeh/release/bokeh-2.2.3.min.js\": \"T2yuo9Oe71Cz/I4X9Ac5+gpEa5a8PpJCDlqKYO0CfAuEszu1JrXLl8YugMqYe3sM\", \"https://cdn.bokeh.org/bokeh/release/bokeh-widgets-2.2.3.min.js\": \"98GDGJ0kOMCUMUePhksaQ/GYgB3+NH9h996V88sh3aOiUNX3N+fLXAtry6xctSZ6\", \"https://cdn.bokeh.org/bokeh/release/bokeh-tables-2.2.3.min.js\": \"89bArO+nlbP3sgakeHjCo1JYxYR5wufVgA3IbUvDY+K7w4zyxJqssu7wVnfeKCq8\"};\n",
       "\n",
       "    for (var i = 0; i < js_urls.length; i++) {\n",
       "      var url = js_urls[i];\n",
       "      var element = document.createElement('script');\n",
       "      element.onload = on_load;\n",
       "      element.onerror = on_error;\n",
       "      element.async = false;\n",
       "      element.src = url;\n",
       "      if (url in hashes) {\n",
       "        element.crossOrigin = \"anonymous\";\n",
       "        element.integrity = \"sha384-\" + hashes[url];\n",
       "      }\n",
       "      console.debug(\"Bokeh: injecting script tag for BokehJS library: \", url);\n",
       "      document.head.appendChild(element);\n",
       "    }\n",
       "  };\n",
       "\n",
       "  function inject_raw_css(css) {\n",
       "    const element = document.createElement(\"style\");\n",
       "    element.appendChild(document.createTextNode(css));\n",
       "    document.body.appendChild(element);\n",
       "  }\n",
       "\n",
       "  \n",
       "  var js_urls = [\"https://cdn.bokeh.org/bokeh/release/bokeh-2.2.3.min.js\", \"https://cdn.bokeh.org/bokeh/release/bokeh-widgets-2.2.3.min.js\", \"https://cdn.bokeh.org/bokeh/release/bokeh-tables-2.2.3.min.js\"];\n",
       "  var css_urls = [];\n",
       "  \n",
       "\n",
       "  var inline_js = [\n",
       "    function(Bokeh) {\n",
       "      Bokeh.set_log_level(\"info\");\n",
       "    },\n",
       "    function(Bokeh) {\n",
       "    \n",
       "    \n",
       "    }\n",
       "  ];\n",
       "\n",
       "  function run_inline_js() {\n",
       "    \n",
       "    if (root.Bokeh !== undefined || force === true) {\n",
       "      \n",
       "    for (var i = 0; i < inline_js.length; i++) {\n",
       "      inline_js[i].call(root, root.Bokeh);\n",
       "    }\n",
       "    if (force === true) {\n",
       "        display_loaded();\n",
       "      }} else if (Date.now() < root._bokeh_timeout) {\n",
       "      setTimeout(run_inline_js, 100);\n",
       "    } else if (!root._bokeh_failed_load) {\n",
       "      console.log(\"Bokeh: BokehJS failed to load within specified timeout.\");\n",
       "      root._bokeh_failed_load = true;\n",
       "    } else if (force !== true) {\n",
       "      var cell = $(document.getElementById(\"1150\")).parents('.cell').data().cell;\n",
       "      cell.output_area.append_execute_result(NB_LOAD_WARNING)\n",
       "    }\n",
       "\n",
       "  }\n",
       "\n",
       "  if (root._bokeh_is_loading === 0) {\n",
       "    console.debug(\"Bokeh: BokehJS loaded, going straight to plotting\");\n",
       "    run_inline_js();\n",
       "  } else {\n",
       "    load_libs(css_urls, js_urls, function() {\n",
       "      console.debug(\"Bokeh: BokehJS plotting callback run at\", now());\n",
       "      run_inline_js();\n",
       "    });\n",
       "  }\n",
       "}(window));"
      ],
      "application/vnd.bokehjs_load.v0+json": "\n(function(root) {\n  function now() {\n    return new Date();\n  }\n\n  var force = true;\n\n  if (typeof root._bokeh_onload_callbacks === \"undefined\" || force === true) {\n    root._bokeh_onload_callbacks = [];\n    root._bokeh_is_loading = undefined;\n  }\n\n  \n\n  \n  if (typeof (root._bokeh_timeout) === \"undefined\" || force === true) {\n    root._bokeh_timeout = Date.now() + 5000;\n    root._bokeh_failed_load = false;\n  }\n\n  var NB_LOAD_WARNING = {'data': {'text/html':\n     \"<div style='background-color: #fdd'>\\n\"+\n     \"<p>\\n\"+\n     \"BokehJS does not appear to have successfully loaded. If loading BokehJS from CDN, this \\n\"+\n     \"may be due to a slow or bad network connection. Possible fixes:\\n\"+\n     \"</p>\\n\"+\n     \"<ul>\\n\"+\n     \"<li>re-rerun `output_notebook()` to attempt to load from CDN again, or</li>\\n\"+\n     \"<li>use INLINE resources instead, as so:</li>\\n\"+\n     \"</ul>\\n\"+\n     \"<code>\\n\"+\n     \"from bokeh.resources import INLINE\\n\"+\n     \"output_notebook(resources=INLINE)\\n\"+\n     \"</code>\\n\"+\n     \"</div>\"}};\n\n  function display_loaded() {\n    var el = document.getElementById(\"1150\");\n    if (el != null) {\n      el.textContent = \"BokehJS is loading...\";\n    }\n    if (root.Bokeh !== undefined) {\n      if (el != null) {\n        el.textContent = \"BokehJS \" + root.Bokeh.version + \" successfully loaded.\";\n      }\n    } else if (Date.now() < root._bokeh_timeout) {\n      setTimeout(display_loaded, 100)\n    }\n  }\n\n\n  function run_callbacks() {\n    try {\n      root._bokeh_onload_callbacks.forEach(function(callback) {\n        if (callback != null)\n          callback();\n      });\n    } finally {\n      delete root._bokeh_onload_callbacks\n    }\n    console.debug(\"Bokeh: all callbacks have finished\");\n  }\n\n  function load_libs(css_urls, js_urls, callback) {\n    if (css_urls == null) css_urls = [];\n    if (js_urls == null) js_urls = [];\n\n    root._bokeh_onload_callbacks.push(callback);\n    if (root._bokeh_is_loading > 0) {\n      console.debug(\"Bokeh: BokehJS is being loaded, scheduling callback at\", now());\n      return null;\n    }\n    if (js_urls == null || js_urls.length === 0) {\n      run_callbacks();\n      return null;\n    }\n    console.debug(\"Bokeh: BokehJS not loaded, scheduling load and callback at\", now());\n    root._bokeh_is_loading = css_urls.length + js_urls.length;\n\n    function on_load() {\n      root._bokeh_is_loading--;\n      if (root._bokeh_is_loading === 0) {\n        console.debug(\"Bokeh: all BokehJS libraries/stylesheets loaded\");\n        run_callbacks()\n      }\n    }\n\n    function on_error() {\n      console.error(\"failed to load \" + url);\n    }\n\n    for (var i = 0; i < css_urls.length; i++) {\n      var url = css_urls[i];\n      const element = document.createElement(\"link\");\n      element.onload = on_load;\n      element.onerror = on_error;\n      element.rel = \"stylesheet\";\n      element.type = \"text/css\";\n      element.href = url;\n      console.debug(\"Bokeh: injecting link tag for BokehJS stylesheet: \", url);\n      document.body.appendChild(element);\n    }\n\n    const hashes = {\"https://cdn.bokeh.org/bokeh/release/bokeh-2.2.3.min.js\": \"T2yuo9Oe71Cz/I4X9Ac5+gpEa5a8PpJCDlqKYO0CfAuEszu1JrXLl8YugMqYe3sM\", \"https://cdn.bokeh.org/bokeh/release/bokeh-widgets-2.2.3.min.js\": \"98GDGJ0kOMCUMUePhksaQ/GYgB3+NH9h996V88sh3aOiUNX3N+fLXAtry6xctSZ6\", \"https://cdn.bokeh.org/bokeh/release/bokeh-tables-2.2.3.min.js\": \"89bArO+nlbP3sgakeHjCo1JYxYR5wufVgA3IbUvDY+K7w4zyxJqssu7wVnfeKCq8\"};\n\n    for (var i = 0; i < js_urls.length; i++) {\n      var url = js_urls[i];\n      var element = document.createElement('script');\n      element.onload = on_load;\n      element.onerror = on_error;\n      element.async = false;\n      element.src = url;\n      if (url in hashes) {\n        element.crossOrigin = \"anonymous\";\n        element.integrity = \"sha384-\" + hashes[url];\n      }\n      console.debug(\"Bokeh: injecting script tag for BokehJS library: \", url);\n      document.head.appendChild(element);\n    }\n  };\n\n  function inject_raw_css(css) {\n    const element = document.createElement(\"style\");\n    element.appendChild(document.createTextNode(css));\n    document.body.appendChild(element);\n  }\n\n  \n  var js_urls = [\"https://cdn.bokeh.org/bokeh/release/bokeh-2.2.3.min.js\", \"https://cdn.bokeh.org/bokeh/release/bokeh-widgets-2.2.3.min.js\", \"https://cdn.bokeh.org/bokeh/release/bokeh-tables-2.2.3.min.js\"];\n  var css_urls = [];\n  \n\n  var inline_js = [\n    function(Bokeh) {\n      Bokeh.set_log_level(\"info\");\n    },\n    function(Bokeh) {\n    \n    \n    }\n  ];\n\n  function run_inline_js() {\n    \n    if (root.Bokeh !== undefined || force === true) {\n      \n    for (var i = 0; i < inline_js.length; i++) {\n      inline_js[i].call(root, root.Bokeh);\n    }\n    if (force === true) {\n        display_loaded();\n      }} else if (Date.now() < root._bokeh_timeout) {\n      setTimeout(run_inline_js, 100);\n    } else if (!root._bokeh_failed_load) {\n      console.log(\"Bokeh: BokehJS failed to load within specified timeout.\");\n      root._bokeh_failed_load = true;\n    } else if (force !== true) {\n      var cell = $(document.getElementById(\"1150\")).parents('.cell').data().cell;\n      cell.output_area.append_execute_result(NB_LOAD_WARNING)\n    }\n\n  }\n\n  if (root._bokeh_is_loading === 0) {\n    console.debug(\"Bokeh: BokehJS loaded, going straight to plotting\");\n    run_inline_js();\n  } else {\n    load_libs(css_urls, js_urls, function() {\n      console.debug(\"Bokeh: BokehJS plotting callback run at\", now());\n      run_inline_js();\n    });\n  }\n}(window));"
     },
     "metadata": {},
     "output_type": "display_data"
    },
    {
     "data": {
      "text/html": [
       "\n",
       "\n",
       "\n",
       "\n",
       "\n",
       "\n",
       "  <div class=\"bk-root\" id=\"e1c5fad3-266b-4f68-bbac-8547f987f1c7\" data-root-id=\"1106\"></div>\n"
      ]
     },
     "metadata": {},
     "output_type": "display_data"
    },
    {
     "data": {
      "application/javascript": [
       "(function(root) {\n",
       "  function embed_document(root) {\n",
       "    \n",
       "  var docs_json = {\"4be666b7-19af-4b61-834b-d5b08f8d80e6\":{\"roots\":{\"references\":[{\"attributes\":{\"below\":[{\"id\":\"1115\"}],\"center\":[{\"id\":\"1118\"},{\"id\":\"1122\"},{\"id\":\"1148\"}],\"left\":[{\"id\":\"1119\"}],\"plot_height\":700,\"plot_width\":700,\"renderers\":[{\"id\":\"1146\"}],\"title\":{\"id\":\"1162\"},\"toolbar\":{\"id\":\"1133\"},\"x_range\":{\"id\":\"1107\"},\"x_scale\":{\"id\":\"1111\"},\"y_range\":{\"id\":\"1109\"},\"y_scale\":{\"id\":\"1113\"}},\"id\":\"1106\",\"subtype\":\"Figure\",\"type\":\"Plot\"},{\"attributes\":{\"fill_alpha\":{\"value\":0.6},\"fill_color\":{\"value\":\"#8724B5\"},\"line_color\":{\"value\":null},\"x\":{\"field\":\"x\"},\"y\":{\"field\":\"y\"}},\"id\":\"1144\",\"type\":\"Scatter\"},{\"attributes\":{\"text\":\"\"},\"id\":\"1162\",\"type\":\"Title\"},{\"attributes\":{\"overlay\":{\"id\":\"1132\"}},\"id\":\"1126\",\"type\":\"BoxZoomTool\"},{\"attributes\":{},\"id\":\"1128\",\"type\":\"RedoTool\"},{\"attributes\":{},\"id\":\"1129\",\"type\":\"ResetTool\"},{\"attributes\":{},\"id\":\"1111\",\"type\":\"LinearScale\"},{\"attributes\":{},\"id\":\"1116\",\"type\":\"BasicTicker\"},{\"attributes\":{\"active_drag\":\"auto\",\"active_inspect\":\"auto\",\"active_multi\":null,\"active_scroll\":\"auto\",\"active_tap\":\"auto\",\"tools\":[{\"id\":\"1123\"},{\"id\":\"1124\"},{\"id\":\"1125\"},{\"id\":\"1126\"},{\"id\":\"1127\"},{\"id\":\"1128\"},{\"id\":\"1129\"},{\"id\":\"1130\"}]},\"id\":\"1133\",\"type\":\"Toolbar\"},{\"attributes\":{\"formatter\":{\"id\":\"1164\"},\"ticker\":{\"id\":\"1120\"}},\"id\":\"1119\",\"type\":\"LinearAxis\"},{\"attributes\":{\"bottom_units\":\"screen\",\"fill_alpha\":0.5,\"fill_color\":\"lightgrey\",\"left_units\":\"screen\",\"level\":\"overlay\",\"line_alpha\":1.0,\"line_color\":\"black\",\"line_dash\":[4,4],\"line_width\":2,\"right_units\":\"screen\",\"top_units\":\"screen\"},\"id\":\"1132\",\"type\":\"BoxAnnotation\"},{\"attributes\":{},\"id\":\"1120\",\"type\":\"BasicTicker\"},{\"attributes\":{},\"id\":\"1166\",\"type\":\"BasicTickFormatter\"},{\"attributes\":{},\"id\":\"1124\",\"type\":\"ZoomInTool\"},{\"attributes\":{},\"id\":\"1125\",\"type\":\"ZoomOutTool\"},{\"attributes\":{},\"id\":\"1127\",\"type\":\"UndoTool\"},{\"attributes\":{\"formatter\":{\"id\":\"1166\"},\"ticker\":{\"id\":\"1116\"}},\"id\":\"1115\",\"type\":\"LinearAxis\"},{\"attributes\":{\"axis\":{\"id\":\"1115\"},\"ticker\":null},\"id\":\"1118\",\"type\":\"Grid\"},{\"attributes\":{},\"id\":\"1113\",\"type\":\"LinearScale\"},{\"attributes\":{\"fill_alpha\":{\"value\":0.1},\"fill_color\":{\"value\":\"#8724B5\"},\"line_alpha\":{\"value\":0.1},\"line_color\":{\"value\":null},\"x\":{\"field\":\"x\"},\"y\":{\"field\":\"y\"}},\"id\":\"1145\",\"type\":\"Scatter\"},{\"attributes\":{},\"id\":\"1168\",\"type\":\"Selection\"},{\"attributes\":{},\"id\":\"1107\",\"type\":\"DataRange1d\"},{\"attributes\":{},\"id\":\"1167\",\"type\":\"UnionRenderers\"},{\"attributes\":{\"data\":{\"index\":[\"combined_reporting\",\"application_pending\",\"status_sheet\",\"kalgoorlie_sh\",\"sheet_kalgoorlie\",\"project_operator\",\"cazaly_resources\",\"limited_author\",\"watts_date\",\"september_distribution\",\"department_of\",\"industry_and\",\"resources_cazaly\",\"resources_limited\",\"limited_september\",\"figure\",\"castle_hill\",\"project_tenement\",\"location_plan\",\"scale_figure\",\"regional_geology\",\"with\",\"exploration_index\",\"map_scale\",\"summary\",\"the\",\"combined_mineral\",\"exploration_report\",\"on_the\",\"project_details\",\"exploration_activities\",\"undertaken_by\",\"limited\",\"during_the\",\"reporting_period\",\"from\",\"july_to\",\"july\",\"the_reporting\",\"group_known\",\"as_castle\",\"hill_comprises\",\"nine_granted\",\"prospecting_licences\",\"project_area\",\"covers_some\",\"hectares_cazaly\",\"is\",\"registered_holder\",\"of_the\",\"project_tenements\",\"cazalys_exploration\",\"activities_during\",\"period\",\"have_been\",\"directed_towards\",\"the_acquisition\",\"of\",\"available_reports\",\"and\",\"datasets_relating\",\"to\",\"previous_exploration\",\"activities_within\",\"and_assessing\",\"gold\",\"nickel_potential\",\"following\",\"data_review\",\"project\",\"was_not\",\"rated_as\",\"highly\",\"as\",\"other_nearby\",\"project_areas\",\"managed_by\",\"cazaly_introduction\",\"exploration_work\",\"limited_cazaly\",\"is_located\",\"km_wnw\",\"of_kalgoorlie\",\"lies_within\",\"the_kunanalling\",\"district_of\",\"the_coolgardie\",\"mineral_field\",\"kalgoorlie\",\"map_sheets\",\"tenure\",\"hectares_refer\",\"table\",\"for_further\",\"details_cazaly\",\"an_application\",\"for\",\"of_these\",\"tenements\",\"to_be\",\"added_to\",\"group\",\"has_been\",\"lodged_cazaly\",\"september\",\"geology_regional\",\"geology\",\"the_norseman\",\"wiluna_archaean\",\"greenstone_belt\",\"in_the\",\"eastern_goldfields\",\"province_of\",\"the_yilgarn\",\"craton\",\"belt_is\",\"characterised_by\",\"thick_possibly\",\"rift_controlled\",\"sequences\",\"ultramafic_mafic\",\"felsic_volcanic\",\"clastic\",\"intrusive_rocks\",\"greenstone_successions\",\"southern_eastern\",\"goldfields_have\",\"been_segregated\",\"into_elongate\",\"structural_terranes\",\"bounded_by\",\"regional_nnw\",\"trending_faults\",\"swager\",\"the_lower\",\"parts_of\",\"the_supracrustal\",\"successions_are\",\"submarine_mafic\",\"ultramafic_rocks\",\"with_thin\",\"interflow_sediments\",\"these_are\",\"overlain_by\",\"mostly_subaqueous\",\"felsic_volcaniclastics\",\"kalgoorlie_terrane\",\"this\",\"stratigraphic_sequence\",\"is_extremely\",\"consistent_with\",\"felsic_volcanism\",\"generally_post\",\"dating_mafic\",\"ultramafic_volcanism\",\"observed\",\"to_occur\",\"in_both\",\"the_upper\",\"lower_parts\",\"succession_coarse\",\"clastics_to\",\"conglomeratic_sequences\",\"kurrawang_formation\",\"unconformably_overly\",\"or\",\"are\",\"in_faultcontact\",\"greenstones_in\",\"synclinal_basins\",\"adjacent_to\",\"or_overlying\",\"major_regional\",\"faults_swager\",\"local_geology\",\"the_majority\",\"is_underlain\",\"by\",\"post_high\",\"calcic_bali\",\"monzogranite_which\",\"lies_immediately\",\"the_west\",\"coolgardie_domain\",\"sub_domain\",\"the_northern\",\"tenements_are\",\"situated\",\"the_north\",\"kintore_tonalite\",\"are_underlain\",\"mafic\",\"structural_geology\",\"several_major\",\"structures_traverse\",\"sections\",\"northwest_trending\",\"kunanalling_shear\",\"zone_ksz\",\"lies_along\",\"mafic_ultramafic\",\"contact_zone\",\"within\",\"tenement\",\"northeast_trending\",\"dextral\",\"grants_patch\",\"fault_cuts\",\"domain_sequence\",\"all_other\",\"structures\",\"and_extends\",\"into\",\"adjacent\",\"bali_monzogranite\",\"also_overlies\",\"part_of\",\"the_kintore\",\"anticline_axis\",\"project_review\",\"following_field\",\"inspection_of\",\"the_whole\",\"all_available\",\"data\",\"was_reviewed\",\"in_house\",\"in_conjunction\",\"other\",\"data_pertaining\",\"nearby_kunanalling\",\"shear_zone\",\"targets\",\"tenements_were\",\"then_rated\",\"on_their\",\"potential_to\",\"host\",\"an_economic\",\"gold_deposit\",\"classified_accordingly\",\"this_information\",\"will_be\",\"utilized_when\",\"considering_future\",\"exploration_programs\",\"across_the\",\"tenement_group\",\"nickel\",\"review\",\"was\",\"included_in\",\"cazaly_consolidated\",\"minerals_limited\",\"consmin_joint\",\"venture\",\"which\",\"explored\",\"region\",\"for_nickel\",\"mineralisation\",\"during_october\",\"november\",\"reporting_year\",\"the_initial\",\"review_highlighted\",\"anomalies_coincident\",\"ni_cr\",\"cu_zn\",\"ratios_along\",\"basalt_ultramafic\",\"contact_immediately\",\"the_east\",\"this_area\",\"was_subsequently\",\"rab_drilled\",\"by_consmin\",\"conclusion_cazalys\",\"cazaly_structural\",\"evolution_of\",\"greenstone_terranes\",\"goldfields_western\",\"australia\",\"in_cassidy\",\"whitaker_and\",\"liu\",\"drillholes\",\"mik\",\"diamond_drilling\",\"brightstar_project\",\"laverton_wa\",\"list_of\",\"tables_table\",\"drilling_completed\",\"in_table\",\"tenement_schedule\",\"best_rc\",\"drill_intercepts\",\"alpha\",\"aug_table\",\"resource_estimate\",\"october\",\"drilling_beta\",\"best_intercepts\",\"mikado_lease\",\"history_of\",\"resource_estimates\",\"table_beta\",\"block_model\",\"estimate\",\"all_data\",\"february\",\"alpha_oxide\",\"samples_sent\",\"to_gekko\",\"metallurgical_dec\",\"oxide\",\"of_figures\",\"figure_brightstar\",\"plan_figure\",\"drill_locations\",\"beta\",\"gamma\",\"figure_regional\",\"napier_well\",\"probert_well\",\"merolia\",\"drill\",\"cross_section\",\"exploration_activity\",\"has_included\",\"interpretation_of\",\"data_prior\",\"drill_planning\",\"drilling\",\"rab_aircore\",\"rc\",\"methods\",\"variously\",\"conducted_at\",\"brightstar_alpha\",\"edinburgh_castle\",\"prospects\",\"in_addition\",\"there_was\",\"trench_sampling\",\"carried_out\",\"at\",\"low_grade\",\"stockpiles_at\",\"several\",\"grab_samples\",\"collected\",\"also\",\"from_the\",\"same_area\",\"all\",\"areas_where\",\"exploration\",\"was_conducted\",\"are_shown\",\"map\",\"detailed\",\"each\",\"drill_logs\",\"collar_survey\",\"assay_files\",\"are_also\",\"provided\",\"includes\",\"regional_reconnaissance\",\"exploration_drilling\",\"resource\",\"extension\",\"infill_drilling\",\"geotechnical_metallurgical\",\"much_of\",\"drilling_at\",\"the_brightstar\",\"deposit_was\",\"resource_infill\",\"extension_drilling\",\"this_deposit\",\"previously_mined\",\"mikado\",\"aztec\",\"pits\",\"associated\",\"historic_underground\",\"workings\",\"geological\",\"sampling\",\"old_workings\",\"on\",\"acquired_from\",\"prospectors_during\",\"summary_of\",\"drilling_conducted\",\"various_tenements\",\"is_tabled\",\"below\",\"several_phases\",\"geological_mapping\",\"resource_estimation\",\"modeling\",\"were_conducted\",\"at_beta\",\"pit_optimizations\",\"block_modeled\",\"beta_geotechnical\",\"data_was\",\"collected_at\",\"two_diamond\",\"drill_holes\",\"which_also\",\"metallurgical\",\"sample\",\"validation_of\",\"results\",\"metallurgical_testing\",\"assessed\",\"gravity\",\"leach_recoveries\",\"sulphide_mineralization\",\"bulked\",\"rc_drill\",\"intercepts\",\"bulk_density\",\"measurements_were\",\"suite_of\",\"in\",\"pit\",\"samples_taken\",\"marked_out\",\"ore_zones\",\"pit_floor\",\"pre_feasibility\",\"study_was\",\"completed\",\"based_on\",\"resources\",\"being\",\"toll_treated\",\"beta_resource\",\"is_planned\",\"mined\",\"first\",\"mine_development\",\"activities\",\"to_date\",\"including\",\"resource_drilling\",\"pit_optimization\",\"studies\",\"metallurgical_testwork\",\"were_focused\",\"as_priority\",\"table_summarises\",\"drilling_carried\",\"out_on\",\"current_reporting\",\"above\",\"there_were\",\"trench_samples\",\"collected_over\",\"metre_length\",\"dump\",\"taken_from\",\"the_same\",\"an_initial\",\"jorc_compliant\",\"estimate_was\",\"also_conducted\",\"in_october\",\"manual_sectional\",\"revised\",\"after\",\"further_drilling\",\"in_december\",\"modeled\",\"again\",\"in_february\",\"as_part\",\"study\",\"which_was\",\"completed_in\",\"march\",\"model_was\",\"geological_interpretation\",\"that\",\"included_shallow\",\"dipping_mineralized\",\"link_structures\",\"connecting_steep\",\"lodes\",\"previous_model\",\"had\",\"assumed_steep\",\"only\",\"the_basis\",\"geological_model\",\"is_consistent\",\"with_an\",\"earlier\",\"interpretation\",\"granny_smith\",\"mines\",\"studies_were\",\"initially_conducted\",\"in_november\",\"showed_alpha\",\"optimized_into\",\"small_pit\",\"three_pits\",\"gold_price\",\"an\",\"aztec_pit\",\"deeper_than\",\"currently\",\"mikado_pit\",\"deeper\",\"total\",\"potential\",\"shallow\",\"towards_the\",\"northern\",\"tenement_boundary\",\"subject_to\",\"infill\",\"initial_pit\",\"optimization_results\",\"could_be\",\"mined_at\",\"significant\",\"profit\",\"major\",\"cut_back\",\"western_wall\",\"was_required\",\"to_maximise\",\"updated\",\"series_of\",\"gold_prices\",\"were_carried\",\"out_utilizing\",\"range_of\",\"costs\",\"mining_parameters\",\"obtained_from\",\"various_sources\",\"reconciliation_of\",\"material_mined\",\"using\",\"the_current\",\"resource_model\",\"returned\",\"grade\",\"very_similar\",\"that_actually\",\"mined_by\",\"dyl\",\"giving\",\"high_confidence\",\"samples_collected\",\"both_oxide\",\"fresh_material\",\"oxide_material\",\"cases\",\"showed\",\"excellent_leach\",\"recovery\",\"project_is\",\"located_in\",\"western_australia\",\"approximately_kms\",\"southeast_of\",\"the_township\",\"laverton\",\"the_town\",\"is_reached\",\"by_sealed\",\"road\",\"heading_north\",\"from_kalgoorlie\",\"leonora\",\"and_then\",\"east\",\"distance_of\",\"approximately_km\",\"almost_km\",\"from_perth\",\"is_serviced\",\"at_least\",\"three_times\",\"per\",\"week\",\"commercial\",\"flights\",\"smaller\",\"aircraft_and\",\"daily\",\"by_road\",\"transport\",\"project_includes\",\"at_alpha\",\"which_are\",\"located_kms\",\"apart\",\"lie\",\"west_of\",\"historic_mining\",\"burtville\",\"separated_by\",\"relatively_good\",\"condition\",\"gazetted\",\"unsealed_road\",\"pastoral_tracks\",\"it_also\",\"includes_number\",\"other_tenements\",\"where\",\"either\",\"has_occurred\",\"prospectivity\",\"suggests_good\",\"possibility_of\",\"additional_resources\",\"being_found\",\"access_to\",\"alpha_is\",\"via_the\",\"burtville_road\",\"or_alternatively\",\"the_barnicoat\",\"haul_road\",\"accessing\",\"station_tracks\",\"near\",\"meredith_well\",\"south_towards\",\"is_accessed\",\"then\",\"heading\",\"west\",\"the_old\",\"mikado_mine\",\"both\",\"generally_good\",\"except_after\",\"when\",\"in_particular\",\"may_be\",\"heavy_vehicles\",\"wd\",\"light_vehicles\",\"expenditures_for\",\"comprising\",\"reported_as\",\"form\",\"reporting\",\"under_statutory\",\"various\",\"anniversary_dates\",\"applying\",\"each_case\",\"details_of\",\"these\",\"individual_tenement\",\"expenditures\",\"are_not\",\"reported_here\",\"aggregate_expenditure\",\"requirement_of\",\"combined\",\"well\",\"exceeded\",\"especially\",\"expenditure_on\",\"majority_of\",\"individual\",\"minimum\",\"expenditure_requirements\",\"met\",\"despite_the\",\"bias\",\"expenditure\",\"towards\",\"which_hold\",\"such_as\",\"where_there\",\"is_demonstrated\",\"historic_workings\",\"previous_drilling\",\"edinborough_castle\",\"edith_hope\",\"is_also\",\"domain\",\"along_the\",\"eastern_margin\",\"laverton_tectonic\",\"zone\",\"centred_on\",\"burtville_shear\",\"that_trends\",\"sunrise\",\"area\",\"shear\",\"is_known\",\"shear_which\",\"kilometre\",\"broad\",\"internal_granitoid\",\"the_merolia\",\"granite\",\"appears_to\",\"be\",\"around\",\"intrusive\",\"outcrop\",\"lease\",\"is_very\",\"poor\",\"restricted_to\",\"carbonated\",\"intermediate\",\"basic_volcanics\",\"ferruginised\",\"occasional\",\"exposures_of\",\"quartz\",\"represent\",\"main\",\"rock_types\",\"include\",\"talc_carbonate\",\"altered_ultramafics\",\"high_magnesian\",\"basalts\",\"vesicular\",\"basalt\",\"quartz_chlorite\",\"schists_with\",\"sericite_alteration\",\"host_rocks\",\"lodes_were\",\"considered_to\",\"altered_basic\",\"volcanics\",\"because_of\",\"extensive\",\"outcropping_rocks\",\"consist_predominantly\",\"quartzchlorite\",\"talc\",\"and_minor\",\"abundant_carbonate\",\"rocks_are\",\"highly_altered\",\"metamorphosed_to\",\"greenschist_facies\",\"rocks_have\",\"talcose\",\"feel\",\"so_that\",\"an_ultramafic\",\"origin\",\"is_more\",\"likely\",\"granite_granodiorite\",\"boundary\",\"is_situated\",\"approximately\",\"east_of\",\"there_is\",\"no_evidence\",\"contact_metamorphism\",\"rocks_which\",\"quartz_lodes\",\"mine\",\"faults_or\",\"fissures\",\"strike\",\"magnetic\",\"three\",\"faults\",\"were_reported\",\"mine_workings\",\"two\",\"the_third\",\"cross_sectional\",\"considering\",\"assay_data\",\"shows_that\",\"north_south\",\"trending_shears\",\"contact_between\",\"ultramafic\",\"mafic_volcanics\",\"with_steep\",\"dip\",\"assumed_to\",\"position_of\",\"mikado_fault\",\"lower\",\"angle\",\"linking_structures\",\"between\",\"steep_west\",\"applied\",\"structural_interpretation\",\"concluded_that\",\"four\",\"striking\",\"step\",\"west_dipping\",\"faults_and\",\"vertically\",\"stacked\",\"existed_between\",\"this_is\",\"placers\",\"that_formed\",\"block\",\"modelled\",\"lodes_have\",\"been_emplaced\",\"display\",\"which_varies\",\"deposit_is\",\"an_epigenetic\",\"vein_type\",\"deposit\",\"it_consists\",\"possibly\",\"fault_bound\",\"lenses\",\"veins\",\"accompanied_by\",\"emplaced\",\"lode_structures\",\"contain\",\"shoots\",\"defined_as\",\"economically_significant\",\"portions_of\",\"gold_silver\",\"values\",\"it_is\",\"likely_that\",\"plunge_component\",\"exists_to\",\"shoots_within\",\"recent_interpretation\",\"as_discussed\",\"suggests\",\"these_lodes\",\"supported_by\",\"assay\",\"mineralization\",\"as_well\",\"stope\",\"geometries\",\"observed_at\",\"base_of\",\"sigma_mining\",\"services_pty\",\"ltd\",\"was_commissioned\",\"to_carry\",\"out_preliminary\",\"investigations\",\"gold_resources\",\"in_late\",\"precursor\",\"feasibility_studies\",\"at_oz\",\"under\",\"sigmas\",\"whittle\",\"optimization\",\"made\",\"small\",\"almost\",\"subsequent_review\",\"agreed_that\",\"alpha_pit\",\"extracts\",\"component\",\"the_south\",\"end_of\",\"lode_structure\",\"mineralization_is\",\"sub_cropping\",\"beneath_shallow\",\"cover\",\"gentle_north\",\"plunge\",\"lode_system\",\"limits\",\"extent_of\",\"economic\",\"direction\",\"strip_ratio\",\"single_lode\",\"system\",\"excessive\",\"for_beta\",\"conducted\",\"this_optimization\",\"oz\",\"early\",\"preliminary_resource\",\"model\",\"conducted_in\",\"conjunction_with\",\"the_first\",\"sectional_estimate\",\"results_were\",\"positive\",\"has_since\",\"been_revised\",\"more_recent\",\"optimizations\",\"far\",\"preferred\",\"should_take\",\"precedence\",\"over\",\"optimisations\",\"previously\",\"new\",\"overall\",\"justified\",\"exercise\",\"scenarios\",\"gravity_vat\",\"plant\",\"was_considered\",\"favoured\",\"option\",\"contributed\",\"au\",\"this_optimized\",\"assessment\",\"compared_with\",\"achieved_by\",\"sigma\",\"reasonably\",\"close\",\"comparison\",\"resulting\",\"optimized\",\"deep\",\"mikado_aztec\",\"recovered\",\"for_koz\",\"depth_extension\",\"the_existing\",\"deep_yellow\",\"requires_significant\",\"cutback\",\"extended\",\"recovers\",\"inferred_resources\",\"at_depth\",\"inferred_resource\",\"blocks\",\"need_to\",\"be_confirmed\",\"prior_to\",\"commencement_of\",\"mining\",\"case\",\"resulted_in\",\"possible\",\"north_end\",\"tenement_ownership\",\"area_requires\",\"which_is\",\"in_progress\",\"relatively_small\",\"further_metallurgical\",\"testwork_was\",\"planned\",\"bulk\",\"ore\",\"samples_kg\",\"composited_from\",\"rc_chips\",\"drilled\",\"alpha_deposit\",\"as_shown\",\"sample_returned\",\"head_grades\",\"the_bulk\",\"primary_sulphide\",\"samples\",\"and_respectively\",\"tests_were\",\"conducted_by\",\"gekko_on\",\"composite_samples\",\"beta_oxide\",\"primary\",\"zones\",\"results_show\",\"gravity_recovery\",\"concentrate_grade\",\"higher_than\",\"alpha_sulphide\",\"even_though\",\"bulk_sample\",\"forwarded_to\",\"gekko\",\"no\",\"testing\",\"current_period\",\"testwork\",\"previous\",\"had_already\",\"confirmed_its\",\"refractory_nature\",\"size\",\"does_not\",\"impact\",\"significantly\",\"this_stage\",\"three_bulk\",\"metallurgical_samples\",\"were_forwarded\",\"laboratory_in\",\"for_testing\",\"guidance\",\"gary\",\"patrick\",\"sample_weight\",\"grades_are\",\"as_detailed\",\"kg_au\",\"beta_fresh\",\"table_details\",\"from_various\",\"weighted\",\"an_average\",\"head_grade\",\"estimated\",\"testwork_included\",\"gravity_separation\",\"results_reported\",\"for_oxide\",\"at_au\",\"whilst\",\"beta_sulphide\",\"significantly_different\",\"reported_by\",\"exodus\",\"gravity_recoverable\",\"was_returned\",\"gold_results\",\"are_comparable\",\"but_significantly\",\"different\",\"reason_for\",\"the_difference\",\"is_not\",\"clear\",\"fact_that\",\"primary_ore\",\"produce\",\"gold_recoveries\",\"these_two\",\"deposits\",\"is_completely\",\"cyanide_leach\",\"also_carried\",\"shaking_table\",\"tails\",\"results_from\",\"an_idea\",\"leach_rate\",\"overall_recovery\",\"vat_leaching\",\"simulated_by\",\"cyanidation_bottle\",\"roll_leach\",\"tests_on\",\"gravity_tails\",\"cyanide_concentration\",\"of_nacn\",\"coarse_crush\",\"oxide_ore\",\"recoveries_were\",\"achieved\",\"concentrates\",\"after_hours\",\"except_for\",\"cyanide_bottle\",\"roll_tests\",\"conducted_on\",\"beta_primary\",\"concentrate_sample\",\"mill\",\"material\",\"for_transitional\",\"for_fresh\",\"commissioned_by\",\"exodus_minerals\",\"by_ammtec\",\"oretest\",\"these_results\",\"gave_recovery\",\"knelson\",\"concentration\",\"recovering\",\"in_excess\",\"contained_gold\",\"ore_type\",\"would_appear\",\"amenable_to\",\"conventional\",\"process_route\",\"followed_by\",\"cyanidation_testwork\",\"potentially\",\"is_amenable\",\"cyanidation\",\"cyanidation_gold\",\"in_contrast\",\"fine_grind\",\"to_optimise\",\"leach_recovery\",\"conventional_cil\",\"circuit_is\",\"carrying_out\",\"bottle_roll\",\"leach_tests\",\"with_some\",\"reaching\",\"optimum\",\"leaching\",\"findings\",\"are_summarised\",\"were\",\"for_all\",\"tests_apart\",\"grinding\",\"beta_concentrate\",\"increased\",\"concentrate\",\"refractory\",\"merely\",\"fine_grained\",\"associated_with\",\"sulphides\",\"probably\",\"arsenopyrite_pyrite\",\"silver_leach\",\"tail\",\"fast\",\"apart_from\",\"recoveries\",\"sizing\",\"concentrate_leach\",\"unit\",\"processing\",\"more_successful\",\"falcon\",\"centrifugal\",\"gravity_test\",\"application_of\",\"an_ultra\",\"this_resulted\",\"without\",\"grind\",\"pyrite\",\"and_arsenopyrite\",\"however_unlike\",\"material_is\",\"because\",\"very_good\",\"mac\",\"air_core\",\"holes_for\",\"trinto_drillholes\",\"mgm\",\"rc_precollars\",\"diamond_tails\",\"mk_to\",\"angled\",\"aircore_holes\",\"drillholes_mk\",\"to_mk\",\"shallow_vertical\",\"one\",\"section\",\"aircore\",\"precollars\",\"for_total\",\"holes\",\"three_shallow\",\"traverses\",\"mk\",\"rc_holes\",\"angled_rc\",\"regards\",\"open_pit\",\"mining_history\",\"was_mined\",\"by_wallis\",\"trinto_in\",\"but\",\"completed_at\",\"depth\",\"with_small\",\"recorded_production\",\"subsequently\",\"mining_commenced\",\"by_dyl\",\"between_march\",\"june_when\",\"batches_of\",\"were_treated\",\"through_sogs\",\"tarmoola_plant\",\"little\",\"over_oz\",\"to_depth\",\"approximately_below\",\"surface\",\"some_additional\",\"understood_that\",\"batch\",\"treatment\",\"parcels_of\",\"which_included\",\"parcels\",\"ceased\",\"operations\",\"on_june\",\"this_occurred\",\"due_to\",\"grades\",\"against\",\"gold_recovered\",\"went_into\",\"administration\",\"in_mid\",\"before\",\"finished\",\"experienced\",\"cash_flow\",\"difficulties\",\"carrying\",\"significantly_less\",\"than_predicted\",\"grades_were\",\"closer_to\",\"after_cessation\",\"but_it\",\"was_too\",\"late\",\"to_continue\",\"to_operate\",\"was_taken\",\"ascent\",\"capital\",\"who\",\"sold\",\"mikado_project\",\"minerals\",\"could\",\"focus_on\",\"uranium_exploration\",\"litho\",\"codes\",\"lithology\",\"weathered_rock\",\"rec\",\"transported_overburden\",\"go_gossan\",\"lo_soil\",\"snd_sand\",\"cy_clay\",\"lh_lateritised\",\"hardpan_lc\",\"pedogenic_carbonate\",\"calcrete_lf\",\"ferricrete_lt\",\"laterite\",\"soil_ls\",\"silcrete_sap\",\"sap_upper\",\"saprolite\",\"including_mottled\",\"and_pallid\",\"zones_sap\",\"lower_saprolite\",\"identifiable_textures\",\"totally_weathered\",\"rock_saprk\",\"competent_recognizable\",\"unweathered_rock\",\"ultramafic_utc\",\"us_ulramafic\",\"with_spinifex\",\"textures_ux\",\"breccia_usp\",\"serpentinite_uz\",\"schist_undiff\",\"laverton_district\",\"geology_local\",\"acquired\",\"deal\",\"negotiated\",\"through_the\",\"administrators\",\"was_completed\",\"in_july\",\"coinciding_with\",\"acquisition_of\",\"the_tenement\",\"exploration_consisted\",\"magnetics_interpretation\",\"to_assess\",\"drill_targets\",\"regional\",\"review_of\",\"past_drilling\",\"plans_and\",\"database\",\"reconnaissance\",\"rab_air\",\"core\",\"and_diamond\",\"stage\",\"resource_modelling\",\"estimation\",\"pit_optimisation\",\"studies_metallurgical\",\"environmental\",\"acquired_an\",\"interest_in\",\"drilling_was\",\"to_extend\",\"test\",\"along_strike\",\"pits_where\",\"potential_for\",\"increase\",\"most\",\"apparent\",\"the_best\",\"early_phase\",\"best_results\",\"from_this\",\"below_table\",\"shows_the\",\"rapid_growth\",\"since\",\"reflects_the\",\"recent_drilling\",\"further\",\"deep_drilling\",\"estimates_were\",\"manual\",\"polygonal_interpretation\",\"spacing\",\"level\",\"plan\",\"grade_estimates\",\"arithmetic_mean\",\"manually\",\"generated\",\"used\",\"top_cut\",\"lower_cut\",\"were_generated\",\"mineralization_associated\",\"seemingly\",\"several_historic\",\"drill_intersections\",\"high_grade\",\"mineralisation_associated\",\"five\",\"was_extrapolated\",\"lesser\",\"distance\",\"mineralization_was\",\"known_from\",\"up_to\",\"three_main\",\"some\",\"flatter\",\"lying_supergene\",\"possibly_shallow\",\"dipping\",\"shearhosted\",\"was_modeled\",\"in_micromine\",\"shown_in\",\"was_based\",\"drilling_continued\",\"has_yet\",\"new_estimate\",\"finore_mining\",\"consultants_provided\",\"recommendations\",\"estimate_comparison\",\"this_estimate\",\"all_historic\",\"reliable_data\",\"as_defined\",\"showed_very\",\"little_difference\",\"includes_material\",\"reliable\",\"qa_qc\",\"subjected_to\",\"fire_assay\",\"rather_than\",\"aqua_regia\",\"is_shown\",\"in_figure\",\"rc_precollar\",\"bbc\",\"was_set\",\"as_scissor\",\"hole\",\"collared_from\",\"the_footwall\",\"core_from\",\"each_hole\",\"geotechnical\",\"logged\",\"and_photographed\",\"wet\",\"dry\",\"during_early\",\"december\",\"selected_sections\",\"cut\",\"the_resultant\",\"half_core\",\"submitted_for\",\"single_metre\",\"assaying\",\"kalgoorlie_assay\",\"laboratory\",\"cutting\",\"assaying_was\",\"their\",\"intervals\",\"geologically\",\"sampling_indicated\",\"additional_sampling\",\"indicated\",\"host_rock\",\"intersected_included\",\"partly_silicified\",\"ultramafics_schistose\",\"massive\",\"with_quartz\",\"veining\",\"varied\",\"in_width\",\"appeared\",\"confined_to\",\"quartz_veins\",\"siliceous\",\"selvedges\",\"more_massive\",\"seemed\",\"weakly_mineralized\",\"in_this\",\"drilling_encountered\",\"crushed\",\"fault\",\"core_loss\",\"beyond_this\",\"fresh\",\"talc_schist\",\"was_encountered\",\"locally_sheared\",\"carbonate_veinlets\",\"fine_disseminated\",\"sulphide_pyrite\",\"and_submitted\",\"for_assay\",\"only_trace\",\"values_were\",\"encountered_in\",\"it_appears\",\"may_have\",\"deviated\",\"flattened\",\"significant_gold\",\"intersected_high\",\"reflecting_the\",\"less_continuous\",\"footwall_lode\",\"consisted_of\",\"ultramafics\",\"transition_zone\",\"grading_into\",\"carbonate_altered\",\"hard\",\"basalt_with\",\"fine\",\"carbonate\",\"quartz_carbonate\",\"veinlets\",\"fabric\",\"was_logged\",\"high_mg\",\"needs\",\"verifying\",\"petrographic_analysis\",\"ground_conditions\",\"favourable\",\"did_not\",\"possible_future\",\"underground_mining\",\"previous_drill\",\"also_been\",\"photographed\",\"providing_additional\",\"evidence_of\",\"this_reporting\",\"however_there\",\"drill_testing\",\"an_annual\",\"report\",\"was_prepared\",\"addressed\",\"current\",\"issues_associated\",\"rehabilitation\",\"clearing\",\"issues\",\"regional_exploration\",\"previous_mining\",\"properties\",\"historically_mined\",\"as_small\",\"early_underground\",\"extended_to\",\"depth_of\",\"approx\",\"history\",\"shows\",\"mining_development\",\"lode_being\",\"developed\",\"limited_extent\",\"show_close\",\"geometric\",\"parallel\",\"association\",\"outlined\",\"defined\",\"within_the\",\"nickel_exploration\",\"utah_development\",\"co\",\"number_of\",\"companies\",\"exploring_for\",\"delta_gold\",\"gold_exploration\",\"this_time\",\"indian_ocean\",\"working_at\",\"company\",\"aircore_reverse\",\"circulation\",\"industries\",\"package\",\"wide_spaced\",\"geochemical_sampling\",\"wallis\",\"as_result\",\"small_open\",\"was_developed\",\"over_the\",\"eastern_lode\",\"whether\",\"leaching_had\",\"reduced\",\"or_simply\",\"poor_gold\",\"is_uncertain\",\"mining_ceased\",\"prematurely\",\"trinto\",\"pty_ltd\",\"ground\",\"from_wallis\",\"during\",\"total_of\",\"rc_drilling\",\"was_carried\",\"out\",\"geochemex_australia\",\"on_behalf\",\"actively_explored\",\"rock_chip\",\"general_prospecting\",\"auger_soil\",\"sampling_vacuum\",\"rab_drilling\",\"metallurgical_test\",\"work\",\"successfully\",\"mineralized_zones\",\"all_directions\",\"identified\",\"shallow_moderate\",\"grade_mineralization\",\"highly_weathered\",\"felsic_rocks\",\"extending\",\"and_possibly\",\"north_of\",\"previous_rc\",\"underground_mine\",\"confirmed_the\",\"complex_structural\",\"control_on\",\"mainly\",\"steep\",\"shallow_dipping\",\"intercepted\",\"appeared_to\",\"show\",\"shallow_north\",\"placer_granny\",\"smith\",\"pgs\",\"entered_into\",\"jv_with\",\"in_august\",\"mt_lebanon\",\"jv\",\"mining_lease\",\"between_and\",\"for_metres\",\"diamond_holes\",\"rab_holes\",\"metre\",\"plus\",\"and_relogging\",\"had_not\",\"any\",\"decision_to\",\"april\",\"ownership_of\",\"reverted_back\",\"transferred\",\"into_an\",\"in_june\",\"dyl_conducted\",\"its_first\",\"ac_rc\",\"providing_an\",\"additional\",\"analyses\",\"final_data\",\"base\",\"included\",\"metres\",\"additional_aircore\",\"twinning_of\",\"out_in\",\"assays_from\",\"were_rejected\",\"original\",\"june\",\"but_subsequently\",\"found_to\",\"acceptable_quality\",\"and_therefore\",\"were_used\",\"the_following\",\"documents\",\"burtville_domain\",\"laverton_greenstone\",\"entirely\",\"covered_by\",\"surficial_material\",\"including_remnant\",\"ferruginous\",\"hardpan_or\",\"modern\",\"alluvial_sheet\",\"wash\",\"regional_magnetic\",\"data_shows\",\"transported_cover\",\"palaeochannels\",\"defined_by\",\"accumulations_of\",\"ironstone\",\"is_approximately\",\"the_base\",\"of_oxidation\",\"as_indicated\",\"is_comprised\",\"foliated_basalt\",\"mafic_schist\",\"tertiary\",\"can_be\",\"thick\",\"it_includes\",\"recently\",\"deposited\",\"soil\",\"hard_bands\",\"in_places\",\"which_would\",\"need\",\"blasting\",\"beneath_the\",\"surface_layer\",\"which_has\",\"been_described\",\"soft\",\"machine\",\"indurated\",\"pit_walls\",\"would_probably\",\"well_supported\",\"cohesive\",\"firmer\",\"west_wall\",\"appears\",\"less\",\"deeply_oxidised\",\"than\",\"the_hanging\",\"wall\",\"basement\",\"mafic_volcanic\",\"rocks\",\"with_interleaved\",\"narrow\",\"units\",\"dolerite\",\"interflow\",\"volcanogenic_sediments\",\"tholeiitic_basalt\",\"ultramafic_units\",\"relatively_minor\",\"interflow_sediment\",\"laterally_extensive\",\"banded_iron\",\"formation_bif\",\"layered_intrusive\",\"complexes\",\"mapped\",\"region_including\",\"the_hanns\",\"camp\",\"syenite\",\"complex\",\"km\",\"northwest\",\"diorite_hill\",\"located_approximately\",\"northeast\",\"tenements_overlie\",\"subdued_magnetic\",\"response\",\"located_between\",\"jasper_hills\",\"fault_system\",\"core_drilling\",\"has\",\"encountered\",\"pillow_basalt\",\"there_are\",\"cross_faults\",\"which_may\",\"correspond_to\",\"areas_of\",\"positions\",\"mineralisation_at\",\"single\",\"plunging\",\"shear_hosted\",\"lode_position\",\"lode\",\"position\",\"and_steepens\",\"fresh_rock\",\"geometry\",\"plunges\",\"deg\",\"subcrops_in\",\"progressively\",\"deepens\",\"plunge_trend\",\"disrupted_by\",\"cross_faulting\",\"from_around\",\"local_grid\",\"mn\",\"two_main\",\"that_extend\",\"forming\",\"north\",\"these_tend\",\"flat_lying\",\"relatively_shallow\",\"depths\",\"steepen\",\"hard_copy\",\"micromine\",\"derived\",\"cross_sections\",\"long_sections\",\"outlines_were\",\"digitized\",\"computer\",\"gram_metre\",\"mineralisation_trends\",\"were_also\",\"reviewed\",\"to_test\",\"exploration_targets\",\"modelling\",\"etheridge_henley\",\"and_williams\",\"have_mapped\",\"the_laverton\",\"edjudina\",\"using_metre\",\"line_spaced\",\"aeromagnetic_data\",\"geological_maps\",\"gravity_data\",\"field_checking\",\"previous_work\",\"by_etheridge\",\"henley_and\",\"williams_and\",\"hallberg_has\",\"divided\",\"the_archaean\",\"stratigraphy_into\",\"an_upper\",\"lower_sequence\",\"sequence_includes\",\"predominantly\",\"basalts_with\",\"basal_ultramafics\",\"sequence_consists\",\"mostly\",\"felsic_volcanics\",\"and_volcaniclastics\",\"interbedded_with\",\"basalts_near\",\"sequence\",\"clastic_sediments\",\"near_the\",\"top_of\",\"sequence_mafic\",\"sills_are\",\"present_but\",\"have_not\",\"intruded\",\"overlying\",\"feldspathic\",\"conglomerates_and\",\"siliciclastics\",\"recent_work\",\"by_bartsch\",\"redefined_the\",\"regional_stratigraphy\",\"lithostructural\",\"terrains\",\"recording_major\",\"changes_in\",\"tectonic_history\",\"the_oldest\",\"greenstone_dominated\",\"stratigraphy_which\",\"forms\",\"regional_scale\",\"laverton_basin\",\"western_terrain\",\"dominated_by\",\"containing\",\"the_lancefield\",\"mt_morgans\",\"basin_rift\",\"stage_sequences\",\"cogenetic_granitic\",\"batholiths_and\",\"coarse_clastic\",\"sediments_including\",\"deposition_of\",\"debris_flow\",\"deposits_such\",\"the_wallaby\",\"conglomerate\",\"from_uplifted\",\"the_central\",\"terrain\",\"childe_harold\",\"the_youngest\",\"basin_sag\",\"phase_sequences\",\"sediments\",\"the_eastern\",\"hosts_the\",\"barnicoat\",\"brightstar\",\"gold_prospects\",\"boundaries_between\",\"show_evidence\",\"both_transcurrent\",\"reverse_faulting\",\"elongate_basins\",\"are_localised\",\"flanks_of\",\"intrusions\",\"later\",\"syntectonic\",\"granites_and\",\"granodiorite_porphyry\",\"are_common\",\"and_merolia\",\"prospects_were\",\"explored_by\",\"was_designed\",\"test_extensions\",\"known_gold\",\"anomalies\",\"vacuum_soil\",\"prospective_structural\",\"intersections\",\"all_drilling\",\"data_files\",\"are_included\",\"appendix_drill\",\"location_plans\",\"in_figures\",\"no_significant\",\"these_leases\",\"further_evaluation\",\"magnetics\",\"soil_geochemistry\",\"in_relation\",\"needs_to\",\"be_carried\",\"sept\",\"of_contents\",\"includes_all\",\"immediately_south\",\"applied_to\",\"doir\",\"status\",\"basis\",\"these_tenements\",\"that_are\",\"economic_trucking\",\"milling\",\"facility\",\"at_granny\",\"through\",\"new_mill\",\"holds\",\"tenement_holdings\",\"covering_around\",\"sqkm_and\",\"located\",\"and_burtville\",\"tenements_within\",\"tenements_under\",\"application\",\"separately\",\"first_phase\",\"testing_beneath\",\"quartz_vein\",\"evident_from\",\"was_successful\",\"followed_up\",\"highly_encouraging\",\"results_received\",\"au_from\",\"in_eca\",\"to_confirm\",\"intersected\",\"downhole\",\"confirming\",\"moderate_easterly\",\"out_at\",\"prospect\",\"close_to\",\"some_positive\",\"received_from\",\"grab_sampling\",\"ferruginous_quartz\",\"by_placer\",\"had_reported\",\"best_intersections\",\"from_metres\",\"in_ehrc\",\"metres_downhole\",\"down_dip\",\"infill_rc\",\"extension_of\",\"additional_drilling\",\"deeper_holes\",\"were_drilled\",\"mineralisation_continuity\",\"targeting_untested\",\"vertical_depth\",\"metres_drilled\",\"reverse_circulation\",\"successful_in\",\"showing\",\"narrow_high\",\"grade_mineralisation\",\"exists_for\",\"however\",\"previous_metallurgical\",\"indicated_that\",\"is_refractory\",\"limiting\",\"amount_of\",\"warranted_at\",\"significant_results\",\"plan_showing\",\"drill_collar\",\"locations\",\"alpha_resource\",\"using_micromine\",\"is_still\",\"was_interpreted\",\"personnel\",\"wireframed\",\"then_it\",\"was_modelled\",\"dmitry_pertel\",\"deeper_rc\",\"subsequent_to\",\"were_added\",\"estimate_summary\",\"best\",\"jorc_resource\",\"for_subsequent\",\"studies_carried\",\"out_by\",\"milne\",\"using_surpac\",\"optimisation_runs\",\"were_later\",\"training\",\"hatch\",\"consulting\",\"date\",\"treatment_costs\",\"toll_milling\",\"scenario\",\"run_at\",\"broad_range\",\"post\",\"upper_cut\",\"of_tonnes\",\"rounded\",\"nearest\",\"ounces\",\"complete_review\",\"heap_leach\",\"unlike_the\",\"partially\",\"occur_along\",\"margin_of\",\"tectonic_zone\",\"which_hosts\",\"major_gold\",\"sunrise_dam\",\"keringal\",\"red_october\",\"specifically\",\"located_within\",\"the_duketon\",\"merolia_greenstone\",\"belt\",\"follows\",\"the_jasper\",\"hills\",\"fault_systems\",\"eastern_part\",\"area_include\",\"sequence_of\",\"metamorphosed_ultramafic\",\"schists\",\"magnesian\",\"basaltic_rocks\",\"dolerites_and\",\"gabbros\",\"minor\",\"greywacke_and\",\"siltstone\",\"lithological_contacts\",\"sheared\",\"altered\",\"granodiorite\",\"stocks\",\"porphyries\",\"may\",\"intrude_the\",\"the_main\",\"structural_components\",\"transfer\",\"the_latter\",\"separates_the\",\"greenstone\",\"eastern\",\"lies_on\",\"corridor\",\"north_northwest\",\"trending_mafic\",\"volcanics_interspersed\",\"with_narrow\",\"bands\",\"ultramafics_and\",\"south_easterly\",\"trend_through\",\"area_is\",\"prospective_for\",\"tensional\",\"trending_sinistral\",\"strike_parallel\",\"mineralisation_is\",\"related_to\",\"major_nnw\",\"sse_trending\",\"shears\",\"targets_include\",\"dilation\",\"positions_along\",\"shear_zones\",\"especially_where\",\"are_present\",\"providing\",\"pressure_shadow\",\"areas\",\"and_dilatant\",\"zones_that\",\"trap\",\"deformation\",\"recognised_as\",\"distinct\",\"events\",\"structures_are\",\"common\",\"cross_cutting\",\"north_northeast\",\"trending_structures\",\"are_often\",\"important\",\"controlling\",\"intersection_of\",\"structures_such\",\"settings_are\",\"evident\",\"jubilee\",\"style_mineralization\",\"can_also\",\"commonly\",\"be_seen\",\"as_linear\",\"cohesive_geochemical\",\"structural_link\",\"zones_are\",\"inferred_to\",\"connect_the\",\"major_fault\",\"systems\",\"assist_in\",\"loci_for\",\"gold_mineralization\",\"location_and\",\"access\",\"lease_tenure\",\"verification_list\",\"template\",\"type_file\",\"name\",\"sample_stream\",\"sediment_soil\",\"homedrive_mirsgjs\",\"my_documents\",\"docs_statdata\",\"extractions_txt\",\"pm\",\"trench\",\"txt_wasg\",\"laterite_water\",\"biogeochemistry_isotope\",\"whole_rock\",\"mineral_analysis\",\"other_specify\",\"job\",\"nos\",\"br_wasl_txt\",\"wadl\",\"drilling_diamond\",\"rotary_air\",\"blast_air\",\"core_auger\",\"groundwater_drilling\",\"wadg\",\"txt_wadl\",\"search_database\",\"compilation_computer\",\"modelling_reprocessing\",\"data_general\",\"research_report\",\"preparation_pdf\",\"pdf_other\",\"specify_txt\",\"txtradiometrics_magnetics\",\"gravity_digital\",\"terrain_modelling\",\"sp_ap\",\"ep_ip\",\"amt_resistivity\",\"complex_resistivity\",\"seismic_reflection\",\"seismic_refraction\",\"well_logging\",\"geophysical_interpretation\",\"aeromagnetics_radiometrics\",\"prospect_underground\",\"costean\",\"literature_search\",\"database_compilation\",\"computer_modelling\",\"reprocessing_of\",\"preparation\",\"specify_regional\",\"reconnaissance_prospect\",\"underground_costean\",\"ground_geophysics\",\"radiometrics_magnetics\",\"geochemical_surveying\",\"drill_sample\",\"stream_sediment\",\"soil_rock\",\"chip_laterite\",\"water_biogeochemistry\",\"isotope_whole\",\"rock_mineral\",\"analysis_other\",\"specify_drilling\",\"diamond_reverse\",\"circulation_rotary\",\"air_blast\",\"auger_groundwater\",\"mra\",\"modified\",\"aerial_photography\",\"landsat_spot\",\"mss_radar\",\"gravity_measurements\",\"made_using\",\"scintrex_cg\",\"autograv_instruments\",\"readings\",\"of_seconds\",\"were_taken\",\"base_stations\",\"gravity_survey\",\"points_base\",\"station_readings\",\"the_beginning\",\"day\",\"days_fieldwork\",\"cg_instrument\",\"applies_an\",\"instrument_drift\",\"correction\",\"its_final\",\"gravity_reading\",\"any_residual\",\"drifts_between\",\"base_station\",\"readings_are\",\"corrected_by\",\"gravity_post\",\"processing_software\",\"windimurra_partial\",\"surrender_report\",\"instrument_also\",\"applies_earth\",\"tide_correction\",\"at_each\",\"station\",\"conclusions_and\",\"expenditure_details\",\"references\",\"windimurra_project\",\"partial_surrender\",\"this_method\",\"provides_control\",\"gda_datum\",\"cm\",\"gravity_control\",\"for_base\",\"subsidiary\",\"station_was\",\"established_on\",\"australian_fundamental\",\"gravity_network\",\"isogal_igsn\",\"using_two\",\"australian_geological\",\"survey\",\"office_agso\",\"gravity_station\",\"mount_magnet\",\"terminal\",\"value_for\",\"was_obtained\",\"geoscience_australia\",\"control\",\"information_is\",\"tabulated_in\",\"appendix\",\"gravity_values\",\"this_survey\",\"australian_gravity\",\"network_using\",\"the_isogal\",\"known\",\"gravity_stations\",\"provided_by\",\"are_expressed\",\"of_milligals\",\"field\",\"gravity_observations\",\"processed_using\",\"standard_formulae\",\"and_constants\",\"to_produce\",\"bouguer_anomaly\",\"bouguer_correction\",\"uses\",\"density\",\"cc\",\"gravity_processing\",\"in_appendix\",\"haines_surveys\",\"gps_gravity\",\"survey_over\",\"the_windimurra\",\"in_march\",\"station_spacing\",\"line_spacing\",\"either_or\",\"stations_were\",\"collected_on\",\"relinquished\",\"station_locations\",\"are_depicted\",\"datums\",\"horizontal_datum\",\"geocentric_datum\",\"australia_gda\",\"map_grid\",\"australia_mga\",\"vertical_datum\",\"australian_height\",\"datum_ahd\",\"gravity_datum\",\"of_contentsthe\",\"covers\",\"windimurra\",\"narndee_complexes\",\"large\",\"mafic_intrusions\",\"flexure\",\"fault_intersection\",\"archon_archon\",\"domain_boundary\",\"separating_the\",\"murchison\",\"southern_cross\",\"domains_they\",\"interpreted_as\",\"large_layered\",\"gabbro_anorthosite\",\"pyroxenite_peridotite\",\"magnetic_cumulates\",\"comprises_hundreds\",\"of_rhythmic\",\"layers\",\"gabbro_dolerite\",\"gabbronorite_anorthosite\",\"pyroxenite\",\"magnetite_cumulates\",\"the_narndee\",\"complex_sits\",\"consists_predominantly\",\"repeated_cycles\",\"peridotite_pyroxenite\",\"gabbro\",\"gabbronorite\",\"for_both\",\"complexes_minimum\",\"rb_sr\",\"age_date\",\"ma\",\"constrained_by\",\"felsic_dykes\",\"mafic_rocks\",\"sm_nd\",\"ma_recently\",\"calculated\",\"complexes_have\",\"been_intruded\",\"granites_pegmatites\",\"porphyritic_dykes\",\"very_little\",\"encouragement_in\",\"aeromagnetics\",\"geochemistry\",\"that_there\",\"prospective_ultramafic\",\"relinquished_portion\",\"is_scarce\",\"granitic_rocks\",\"underlying\",\"complex_outcrops\",\"north_east\",\"corner_of\",\"relinquished_area\",\"figure_shows\",\"the_gswa\",\"mapped_geology\",\"topography\",\"shaded\",\"blue\",\"table_tenement\",\"information\",\"table_expenditure\",\"de_laeter\",\"isotope_evidence\",\"archaean_proterozoic\",\"crustal_evolution\",\"yilgarn_block\",\"constraints_on\",\"age\",\"source_of\",\"anorthositic_windimurra\",\"gabbroid_baxter\",\"lipple_marston\",\"kirkalocka_western\",\"australia_sheet\",\"sh_geological\",\"series_explanatory\",\"notes_gswa\",\"bunting\",\"nickel_pge\",\"narndee_and\",\"windimurra_intrusions\",\"report_for\",\"apex_minerals\",\"nl_matheson\",\"booth_layered\",\"gabbronorites_in\",\"gabbroid_complex\",\"gswa_walker\",\"blight\",\"barlee\",\"sheet_sh\",\"geological_series\",\"explanatory_note\",\"west_musgrave\",\"combined_annual\",\"to_december\",\"appendix_digital\",\"geochemical_data\",\"minerals_nl\",\"organised\",\"an_aeromagnetic\",\"flown_over\",\"in_september\",\"area_covering\",\"portion_of\",\"was_flown\",\"at_height\",\"above_ground\",\"data_from\",\"portion\"],\"text_labels\":[\"combined_reporting\",\"application_pending\",\"status_sheet\",\"kalgoorlie_sh\",\"sheet_kalgoorlie\",\"project_operator\",\"cazaly_resources\",\"limited_author\",\"watts_date\",\"september_distribution\",\"department_of\",\"industry_and\",\"resources_cazaly\",\"resources_limited\",\"limited_september\",\"figure\",\"castle_hill\",\"project_tenement\",\"location_plan\",\"scale_figure\",\"regional_geology\",\"with\",\"exploration_index\",\"map_scale\",\"summary\",\"the\",\"combined_mineral\",\"exploration_report\",\"on_the\",\"project_details\",\"exploration_activities\",\"undertaken_by\",\"limited\",\"during_the\",\"reporting_period\",\"from\",\"july_to\",\"july\",\"the_reporting\",\"group_known\",\"as_castle\",\"hill_comprises\",\"nine_granted\",\"prospecting_licences\",\"project_area\",\"covers_some\",\"hectares_cazaly\",\"is\",\"registered_holder\",\"of_the\",\"project_tenements\",\"cazalys_exploration\",\"activities_during\",\"period\",\"have_been\",\"directed_towards\",\"the_acquisition\",\"of\",\"available_reports\",\"and\",\"datasets_relating\",\"to\",\"previous_exploration\",\"activities_within\",\"and_assessing\",\"gold\",\"nickel_potential\",\"following\",\"data_review\",\"project\",\"was_not\",\"rated_as\",\"highly\",\"as\",\"other_nearby\",\"project_areas\",\"managed_by\",\"cazaly_introduction\",\"exploration_work\",\"limited_cazaly\",\"is_located\",\"km_wnw\",\"of_kalgoorlie\",\"lies_within\",\"the_kunanalling\",\"district_of\",\"the_coolgardie\",\"mineral_field\",\"kalgoorlie\",\"map_sheets\",\"tenure\",\"hectares_refer\",\"table\",\"for_further\",\"details_cazaly\",\"an_application\",\"for\",\"of_these\",\"tenements\",\"to_be\",\"added_to\",\"group\",\"has_been\",\"lodged_cazaly\",\"september\",\"geology_regional\",\"geology\",\"the_norseman\",\"wiluna_archaean\",\"greenstone_belt\",\"in_the\",\"eastern_goldfields\",\"province_of\",\"the_yilgarn\",\"craton\",\"belt_is\",\"characterised_by\",\"thick_possibly\",\"rift_controlled\",\"sequences\",\"ultramafic_mafic\",\"felsic_volcanic\",\"clastic\",\"intrusive_rocks\",\"greenstone_successions\",\"southern_eastern\",\"goldfields_have\",\"been_segregated\",\"into_elongate\",\"structural_terranes\",\"bounded_by\",\"regional_nnw\",\"trending_faults\",\"swager\",\"the_lower\",\"parts_of\",\"the_supracrustal\",\"successions_are\",\"submarine_mafic\",\"ultramafic_rocks\",\"with_thin\",\"interflow_sediments\",\"these_are\",\"overlain_by\",\"mostly_subaqueous\",\"felsic_volcaniclastics\",\"kalgoorlie_terrane\",\"this\",\"stratigraphic_sequence\",\"is_extremely\",\"consistent_with\",\"felsic_volcanism\",\"generally_post\",\"dating_mafic\",\"ultramafic_volcanism\",\"observed\",\"to_occur\",\"in_both\",\"the_upper\",\"lower_parts\",\"succession_coarse\",\"clastics_to\",\"conglomeratic_sequences\",\"kurrawang_formation\",\"unconformably_overly\",\"or\",\"are\",\"in_faultcontact\",\"greenstones_in\",\"synclinal_basins\",\"adjacent_to\",\"or_overlying\",\"major_regional\",\"faults_swager\",\"local_geology\",\"the_majority\",\"is_underlain\",\"by\",\"post_high\",\"calcic_bali\",\"monzogranite_which\",\"lies_immediately\",\"the_west\",\"coolgardie_domain\",\"sub_domain\",\"the_northern\",\"tenements_are\",\"situated\",\"the_north\",\"kintore_tonalite\",\"are_underlain\",\"mafic\",\"structural_geology\",\"several_major\",\"structures_traverse\",\"sections\",\"northwest_trending\",\"kunanalling_shear\",\"zone_ksz\",\"lies_along\",\"mafic_ultramafic\",\"contact_zone\",\"within\",\"tenement\",\"northeast_trending\",\"dextral\",\"grants_patch\",\"fault_cuts\",\"domain_sequence\",\"all_other\",\"structures\",\"and_extends\",\"into\",\"adjacent\",\"bali_monzogranite\",\"also_overlies\",\"part_of\",\"the_kintore\",\"anticline_axis\",\"project_review\",\"following_field\",\"inspection_of\",\"the_whole\",\"all_available\",\"data\",\"was_reviewed\",\"in_house\",\"in_conjunction\",\"other\",\"data_pertaining\",\"nearby_kunanalling\",\"shear_zone\",\"targets\",\"tenements_were\",\"then_rated\",\"on_their\",\"potential_to\",\"host\",\"an_economic\",\"gold_deposit\",\"classified_accordingly\",\"this_information\",\"will_be\",\"utilized_when\",\"considering_future\",\"exploration_programs\",\"across_the\",\"tenement_group\",\"nickel\",\"review\",\"was\",\"included_in\",\"cazaly_consolidated\",\"minerals_limited\",\"consmin_joint\",\"venture\",\"which\",\"explored\",\"region\",\"for_nickel\",\"mineralisation\",\"during_october\",\"november\",\"reporting_year\",\"the_initial\",\"review_highlighted\",\"anomalies_coincident\",\"ni_cr\",\"cu_zn\",\"ratios_along\",\"basalt_ultramafic\",\"contact_immediately\",\"the_east\",\"this_area\",\"was_subsequently\",\"rab_drilled\",\"by_consmin\",\"conclusion_cazalys\",\"cazaly_structural\",\"evolution_of\",\"greenstone_terranes\",\"goldfields_western\",\"australia\",\"in_cassidy\",\"whitaker_and\",\"liu\",\"drillholes\",\"mik\",\"diamond_drilling\",\"brightstar_project\",\"laverton_wa\",\"list_of\",\"tables_table\",\"drilling_completed\",\"in_table\",\"tenement_schedule\",\"best_rc\",\"drill_intercepts\",\"alpha\",\"aug_table\",\"resource_estimate\",\"october\",\"drilling_beta\",\"best_intercepts\",\"mikado_lease\",\"history_of\",\"resource_estimates\",\"table_beta\",\"block_model\",\"estimate\",\"all_data\",\"february\",\"alpha_oxide\",\"samples_sent\",\"to_gekko\",\"metallurgical_dec\",\"oxide\",\"of_figures\",\"figure_brightstar\",\"plan_figure\",\"drill_locations\",\"beta\",\"gamma\",\"figure_regional\",\"napier_well\",\"probert_well\",\"merolia\",\"drill\",\"cross_section\",\"exploration_activity\",\"has_included\",\"interpretation_of\",\"data_prior\",\"drill_planning\",\"drilling\",\"rab_aircore\",\"rc\",\"methods\",\"variously\",\"conducted_at\",\"brightstar_alpha\",\"edinburgh_castle\",\"prospects\",\"in_addition\",\"there_was\",\"trench_sampling\",\"carried_out\",\"at\",\"low_grade\",\"stockpiles_at\",\"several\",\"grab_samples\",\"collected\",\"also\",\"from_the\",\"same_area\",\"all\",\"areas_where\",\"exploration\",\"was_conducted\",\"are_shown\",\"map\",\"detailed\",\"each\",\"drill_logs\",\"collar_survey\",\"assay_files\",\"are_also\",\"provided\",\"includes\",\"regional_reconnaissance\",\"exploration_drilling\",\"resource\",\"extension\",\"infill_drilling\",\"geotechnical_metallurgical\",\"much_of\",\"drilling_at\",\"the_brightstar\",\"deposit_was\",\"resource_infill\",\"extension_drilling\",\"this_deposit\",\"previously_mined\",\"mikado\",\"aztec\",\"pits\",\"associated\",\"historic_underground\",\"workings\",\"geological\",\"sampling\",\"old_workings\",\"on\",\"acquired_from\",\"prospectors_during\",\"summary_of\",\"drilling_conducted\",\"various_tenements\",\"is_tabled\",\"below\",\"several_phases\",\"geological_mapping\",\"resource_estimation\",\"modeling\",\"were_conducted\",\"at_beta\",\"pit_optimizations\",\"block_modeled\",\"beta_geotechnical\",\"data_was\",\"collected_at\",\"two_diamond\",\"drill_holes\",\"which_also\",\"metallurgical\",\"sample\",\"validation_of\",\"results\",\"metallurgical_testing\",\"assessed\",\"gravity\",\"leach_recoveries\",\"sulphide_mineralization\",\"bulked\",\"rc_drill\",\"intercepts\",\"bulk_density\",\"measurements_were\",\"suite_of\",\"in\",\"pit\",\"samples_taken\",\"marked_out\",\"ore_zones\",\"pit_floor\",\"pre_feasibility\",\"study_was\",\"completed\",\"based_on\",\"resources\",\"being\",\"toll_treated\",\"beta_resource\",\"is_planned\",\"mined\",\"first\",\"mine_development\",\"activities\",\"to_date\",\"including\",\"resource_drilling\",\"pit_optimization\",\"studies\",\"metallurgical_testwork\",\"were_focused\",\"as_priority\",\"table_summarises\",\"drilling_carried\",\"out_on\",\"current_reporting\",\"above\",\"there_were\",\"trench_samples\",\"collected_over\",\"metre_length\",\"dump\",\"taken_from\",\"the_same\",\"an_initial\",\"jorc_compliant\",\"estimate_was\",\"also_conducted\",\"in_october\",\"manual_sectional\",\"revised\",\"after\",\"further_drilling\",\"in_december\",\"modeled\",\"again\",\"in_february\",\"as_part\",\"study\",\"which_was\",\"completed_in\",\"march\",\"model_was\",\"geological_interpretation\",\"that\",\"included_shallow\",\"dipping_mineralized\",\"link_structures\",\"connecting_steep\",\"lodes\",\"previous_model\",\"had\",\"assumed_steep\",\"only\",\"the_basis\",\"geological_model\",\"is_consistent\",\"with_an\",\"earlier\",\"interpretation\",\"granny_smith\",\"mines\",\"studies_were\",\"initially_conducted\",\"in_november\",\"showed_alpha\",\"optimized_into\",\"small_pit\",\"three_pits\",\"gold_price\",\"an\",\"aztec_pit\",\"deeper_than\",\"currently\",\"mikado_pit\",\"deeper\",\"total\",\"potential\",\"shallow\",\"towards_the\",\"northern\",\"tenement_boundary\",\"subject_to\",\"infill\",\"initial_pit\",\"optimization_results\",\"could_be\",\"mined_at\",\"significant\",\"profit\",\"major\",\"cut_back\",\"western_wall\",\"was_required\",\"to_maximise\",\"updated\",\"series_of\",\"gold_prices\",\"were_carried\",\"out_utilizing\",\"range_of\",\"costs\",\"mining_parameters\",\"obtained_from\",\"various_sources\",\"reconciliation_of\",\"material_mined\",\"using\",\"the_current\",\"resource_model\",\"returned\",\"grade\",\"very_similar\",\"that_actually\",\"mined_by\",\"dyl\",\"giving\",\"high_confidence\",\"samples_collected\",\"both_oxide\",\"fresh_material\",\"oxide_material\",\"cases\",\"showed\",\"excellent_leach\",\"recovery\",\"project_is\",\"located_in\",\"western_australia\",\"approximately_kms\",\"southeast_of\",\"the_township\",\"laverton\",\"the_town\",\"is_reached\",\"by_sealed\",\"road\",\"heading_north\",\"from_kalgoorlie\",\"leonora\",\"and_then\",\"east\",\"distance_of\",\"approximately_km\",\"almost_km\",\"from_perth\",\"is_serviced\",\"at_least\",\"three_times\",\"per\",\"week\",\"commercial\",\"flights\",\"smaller\",\"aircraft_and\",\"daily\",\"by_road\",\"transport\",\"project_includes\",\"at_alpha\",\"which_are\",\"located_kms\",\"apart\",\"lie\",\"west_of\",\"historic_mining\",\"burtville\",\"separated_by\",\"relatively_good\",\"condition\",\"gazetted\",\"unsealed_road\",\"pastoral_tracks\",\"it_also\",\"includes_number\",\"other_tenements\",\"where\",\"either\",\"has_occurred\",\"prospectivity\",\"suggests_good\",\"possibility_of\",\"additional_resources\",\"being_found\",\"access_to\",\"alpha_is\",\"via_the\",\"burtville_road\",\"or_alternatively\",\"the_barnicoat\",\"haul_road\",\"accessing\",\"station_tracks\",\"near\",\"meredith_well\",\"south_towards\",\"is_accessed\",\"then\",\"heading\",\"west\",\"the_old\",\"mikado_mine\",\"both\",\"generally_good\",\"except_after\",\"when\",\"in_particular\",\"may_be\",\"heavy_vehicles\",\"wd\",\"light_vehicles\",\"expenditures_for\",\"comprising\",\"reported_as\",\"form\",\"reporting\",\"under_statutory\",\"various\",\"anniversary_dates\",\"applying\",\"each_case\",\"details_of\",\"these\",\"individual_tenement\",\"expenditures\",\"are_not\",\"reported_here\",\"aggregate_expenditure\",\"requirement_of\",\"combined\",\"well\",\"exceeded\",\"especially\",\"expenditure_on\",\"majority_of\",\"individual\",\"minimum\",\"expenditure_requirements\",\"met\",\"despite_the\",\"bias\",\"expenditure\",\"towards\",\"which_hold\",\"such_as\",\"where_there\",\"is_demonstrated\",\"historic_workings\",\"previous_drilling\",\"edinborough_castle\",\"edith_hope\",\"is_also\",\"domain\",\"along_the\",\"eastern_margin\",\"laverton_tectonic\",\"zone\",\"centred_on\",\"burtville_shear\",\"that_trends\",\"sunrise\",\"area\",\"shear\",\"is_known\",\"shear_which\",\"kilometre\",\"broad\",\"internal_granitoid\",\"the_merolia\",\"granite\",\"appears_to\",\"be\",\"around\",\"intrusive\",\"outcrop\",\"lease\",\"is_very\",\"poor\",\"restricted_to\",\"carbonated\",\"intermediate\",\"basic_volcanics\",\"ferruginised\",\"occasional\",\"exposures_of\",\"quartz\",\"represent\",\"main\",\"rock_types\",\"include\",\"talc_carbonate\",\"altered_ultramafics\",\"high_magnesian\",\"basalts\",\"vesicular\",\"basalt\",\"quartz_chlorite\",\"schists_with\",\"sericite_alteration\",\"host_rocks\",\"lodes_were\",\"considered_to\",\"altered_basic\",\"volcanics\",\"because_of\",\"extensive\",\"outcropping_rocks\",\"consist_predominantly\",\"quartzchlorite\",\"talc\",\"and_minor\",\"abundant_carbonate\",\"rocks_are\",\"highly_altered\",\"metamorphosed_to\",\"greenschist_facies\",\"rocks_have\",\"talcose\",\"feel\",\"so_that\",\"an_ultramafic\",\"origin\",\"is_more\",\"likely\",\"granite_granodiorite\",\"boundary\",\"is_situated\",\"approximately\",\"east_of\",\"there_is\",\"no_evidence\",\"contact_metamorphism\",\"rocks_which\",\"quartz_lodes\",\"mine\",\"faults_or\",\"fissures\",\"strike\",\"magnetic\",\"three\",\"faults\",\"were_reported\",\"mine_workings\",\"two\",\"the_third\",\"cross_sectional\",\"considering\",\"assay_data\",\"shows_that\",\"north_south\",\"trending_shears\",\"contact_between\",\"ultramafic\",\"mafic_volcanics\",\"with_steep\",\"dip\",\"assumed_to\",\"position_of\",\"mikado_fault\",\"lower\",\"angle\",\"linking_structures\",\"between\",\"steep_west\",\"applied\",\"structural_interpretation\",\"concluded_that\",\"four\",\"striking\",\"step\",\"west_dipping\",\"faults_and\",\"vertically\",\"stacked\",\"existed_between\",\"this_is\",\"placers\",\"that_formed\",\"block\",\"modelled\",\"lodes_have\",\"been_emplaced\",\"display\",\"which_varies\",\"deposit_is\",\"an_epigenetic\",\"vein_type\",\"deposit\",\"it_consists\",\"possibly\",\"fault_bound\",\"lenses\",\"veins\",\"accompanied_by\",\"emplaced\",\"lode_structures\",\"contain\",\"shoots\",\"defined_as\",\"economically_significant\",\"portions_of\",\"gold_silver\",\"values\",\"it_is\",\"likely_that\",\"plunge_component\",\"exists_to\",\"shoots_within\",\"recent_interpretation\",\"as_discussed\",\"suggests\",\"these_lodes\",\"supported_by\",\"assay\",\"mineralization\",\"as_well\",\"stope\",\"geometries\",\"observed_at\",\"base_of\",\"sigma_mining\",\"services_pty\",\"ltd\",\"was_commissioned\",\"to_carry\",\"out_preliminary\",\"investigations\",\"gold_resources\",\"in_late\",\"precursor\",\"feasibility_studies\",\"at_oz\",\"under\",\"sigmas\",\"whittle\",\"optimization\",\"made\",\"small\",\"almost\",\"subsequent_review\",\"agreed_that\",\"alpha_pit\",\"extracts\",\"component\",\"the_south\",\"end_of\",\"lode_structure\",\"mineralization_is\",\"sub_cropping\",\"beneath_shallow\",\"cover\",\"gentle_north\",\"plunge\",\"lode_system\",\"limits\",\"extent_of\",\"economic\",\"direction\",\"strip_ratio\",\"single_lode\",\"system\",\"excessive\",\"for_beta\",\"conducted\",\"this_optimization\",\"oz\",\"early\",\"preliminary_resource\",\"model\",\"conducted_in\",\"conjunction_with\",\"the_first\",\"sectional_estimate\",\"results_were\",\"positive\",\"has_since\",\"been_revised\",\"more_recent\",\"optimizations\",\"far\",\"preferred\",\"should_take\",\"precedence\",\"over\",\"optimisations\",\"previously\",\"new\",\"overall\",\"justified\",\"exercise\",\"scenarios\",\"gravity_vat\",\"plant\",\"was_considered\",\"favoured\",\"option\",\"contributed\",\"au\",\"this_optimized\",\"assessment\",\"compared_with\",\"achieved_by\",\"sigma\",\"reasonably\",\"close\",\"comparison\",\"resulting\",\"optimized\",\"deep\",\"mikado_aztec\",\"recovered\",\"for_koz\",\"depth_extension\",\"the_existing\",\"deep_yellow\",\"requires_significant\",\"cutback\",\"extended\",\"recovers\",\"inferred_resources\",\"at_depth\",\"inferred_resource\",\"blocks\",\"need_to\",\"be_confirmed\",\"prior_to\",\"commencement_of\",\"mining\",\"case\",\"resulted_in\",\"possible\",\"north_end\",\"tenement_ownership\",\"area_requires\",\"which_is\",\"in_progress\",\"relatively_small\",\"further_metallurgical\",\"testwork_was\",\"planned\",\"bulk\",\"ore\",\"samples_kg\",\"composited_from\",\"rc_chips\",\"drilled\",\"alpha_deposit\",\"as_shown\",\"sample_returned\",\"head_grades\",\"the_bulk\",\"primary_sulphide\",\"samples\",\"and_respectively\",\"tests_were\",\"conducted_by\",\"gekko_on\",\"composite_samples\",\"beta_oxide\",\"primary\",\"zones\",\"results_show\",\"gravity_recovery\",\"concentrate_grade\",\"higher_than\",\"alpha_sulphide\",\"even_though\",\"bulk_sample\",\"forwarded_to\",\"gekko\",\"no\",\"testing\",\"current_period\",\"testwork\",\"previous\",\"had_already\",\"confirmed_its\",\"refractory_nature\",\"size\",\"does_not\",\"impact\",\"significantly\",\"this_stage\",\"three_bulk\",\"metallurgical_samples\",\"were_forwarded\",\"laboratory_in\",\"for_testing\",\"guidance\",\"gary\",\"patrick\",\"sample_weight\",\"grades_are\",\"as_detailed\",\"kg_au\",\"beta_fresh\",\"table_details\",\"from_various\",\"weighted\",\"an_average\",\"head_grade\",\"estimated\",\"testwork_included\",\"gravity_separation\",\"results_reported\",\"for_oxide\",\"at_au\",\"whilst\",\"beta_sulphide\",\"significantly_different\",\"reported_by\",\"exodus\",\"gravity_recoverable\",\"was_returned\",\"gold_results\",\"are_comparable\",\"but_significantly\",\"different\",\"reason_for\",\"the_difference\",\"is_not\",\"clear\",\"fact_that\",\"primary_ore\",\"produce\",\"gold_recoveries\",\"these_two\",\"deposits\",\"is_completely\",\"cyanide_leach\",\"also_carried\",\"shaking_table\",\"tails\",\"results_from\",\"an_idea\",\"leach_rate\",\"overall_recovery\",\"vat_leaching\",\"simulated_by\",\"cyanidation_bottle\",\"roll_leach\",\"tests_on\",\"gravity_tails\",\"cyanide_concentration\",\"of_nacn\",\"coarse_crush\",\"oxide_ore\",\"recoveries_were\",\"achieved\",\"concentrates\",\"after_hours\",\"except_for\",\"cyanide_bottle\",\"roll_tests\",\"conducted_on\",\"beta_primary\",\"concentrate_sample\",\"mill\",\"material\",\"for_transitional\",\"for_fresh\",\"commissioned_by\",\"exodus_minerals\",\"by_ammtec\",\"oretest\",\"these_results\",\"gave_recovery\",\"knelson\",\"concentration\",\"recovering\",\"in_excess\",\"contained_gold\",\"ore_type\",\"would_appear\",\"amenable_to\",\"conventional\",\"process_route\",\"followed_by\",\"cyanidation_testwork\",\"potentially\",\"is_amenable\",\"cyanidation\",\"cyanidation_gold\",\"in_contrast\",\"fine_grind\",\"to_optimise\",\"leach_recovery\",\"conventional_cil\",\"circuit_is\",\"carrying_out\",\"bottle_roll\",\"leach_tests\",\"with_some\",\"reaching\",\"optimum\",\"leaching\",\"findings\",\"are_summarised\",\"were\",\"for_all\",\"tests_apart\",\"grinding\",\"beta_concentrate\",\"increased\",\"concentrate\",\"refractory\",\"merely\",\"fine_grained\",\"associated_with\",\"sulphides\",\"probably\",\"arsenopyrite_pyrite\",\"silver_leach\",\"tail\",\"fast\",\"apart_from\",\"recoveries\",\"sizing\",\"concentrate_leach\",\"unit\",\"processing\",\"more_successful\",\"falcon\",\"centrifugal\",\"gravity_test\",\"application_of\",\"an_ultra\",\"this_resulted\",\"without\",\"grind\",\"pyrite\",\"and_arsenopyrite\",\"however_unlike\",\"material_is\",\"because\",\"very_good\",\"mac\",\"air_core\",\"holes_for\",\"trinto_drillholes\",\"mgm\",\"rc_precollars\",\"diamond_tails\",\"mk_to\",\"angled\",\"aircore_holes\",\"drillholes_mk\",\"to_mk\",\"shallow_vertical\",\"one\",\"section\",\"aircore\",\"precollars\",\"for_total\",\"holes\",\"three_shallow\",\"traverses\",\"mk\",\"rc_holes\",\"angled_rc\",\"regards\",\"open_pit\",\"mining_history\",\"was_mined\",\"by_wallis\",\"trinto_in\",\"but\",\"completed_at\",\"depth\",\"with_small\",\"recorded_production\",\"subsequently\",\"mining_commenced\",\"by_dyl\",\"between_march\",\"june_when\",\"batches_of\",\"were_treated\",\"through_sogs\",\"tarmoola_plant\",\"little\",\"over_oz\",\"to_depth\",\"approximately_below\",\"surface\",\"some_additional\",\"understood_that\",\"batch\",\"treatment\",\"parcels_of\",\"which_included\",\"parcels\",\"ceased\",\"operations\",\"on_june\",\"this_occurred\",\"due_to\",\"grades\",\"against\",\"gold_recovered\",\"went_into\",\"administration\",\"in_mid\",\"before\",\"finished\",\"experienced\",\"cash_flow\",\"difficulties\",\"carrying\",\"significantly_less\",\"than_predicted\",\"grades_were\",\"closer_to\",\"after_cessation\",\"but_it\",\"was_too\",\"late\",\"to_continue\",\"to_operate\",\"was_taken\",\"ascent\",\"capital\",\"who\",\"sold\",\"mikado_project\",\"minerals\",\"could\",\"focus_on\",\"uranium_exploration\",\"litho\",\"codes\",\"lithology\",\"weathered_rock\",\"rec\",\"transported_overburden\",\"go_gossan\",\"lo_soil\",\"snd_sand\",\"cy_clay\",\"lh_lateritised\",\"hardpan_lc\",\"pedogenic_carbonate\",\"calcrete_lf\",\"ferricrete_lt\",\"laterite\",\"soil_ls\",\"silcrete_sap\",\"sap_upper\",\"saprolite\",\"including_mottled\",\"and_pallid\",\"zones_sap\",\"lower_saprolite\",\"identifiable_textures\",\"totally_weathered\",\"rock_saprk\",\"competent_recognizable\",\"unweathered_rock\",\"ultramafic_utc\",\"us_ulramafic\",\"with_spinifex\",\"textures_ux\",\"breccia_usp\",\"serpentinite_uz\",\"schist_undiff\",\"laverton_district\",\"geology_local\",\"acquired\",\"deal\",\"negotiated\",\"through_the\",\"administrators\",\"was_completed\",\"in_july\",\"coinciding_with\",\"acquisition_of\",\"the_tenement\",\"exploration_consisted\",\"magnetics_interpretation\",\"to_assess\",\"drill_targets\",\"regional\",\"review_of\",\"past_drilling\",\"plans_and\",\"database\",\"reconnaissance\",\"rab_air\",\"core\",\"and_diamond\",\"stage\",\"resource_modelling\",\"estimation\",\"pit_optimisation\",\"studies_metallurgical\",\"environmental\",\"acquired_an\",\"interest_in\",\"drilling_was\",\"to_extend\",\"test\",\"along_strike\",\"pits_where\",\"potential_for\",\"increase\",\"most\",\"apparent\",\"the_best\",\"early_phase\",\"best_results\",\"from_this\",\"below_table\",\"shows_the\",\"rapid_growth\",\"since\",\"reflects_the\",\"recent_drilling\",\"further\",\"deep_drilling\",\"estimates_were\",\"manual\",\"polygonal_interpretation\",\"spacing\",\"level\",\"plan\",\"grade_estimates\",\"arithmetic_mean\",\"manually\",\"generated\",\"used\",\"top_cut\",\"lower_cut\",\"were_generated\",\"mineralization_associated\",\"seemingly\",\"several_historic\",\"drill_intersections\",\"high_grade\",\"mineralisation_associated\",\"five\",\"was_extrapolated\",\"lesser\",\"distance\",\"mineralization_was\",\"known_from\",\"up_to\",\"three_main\",\"some\",\"flatter\",\"lying_supergene\",\"possibly_shallow\",\"dipping\",\"shearhosted\",\"was_modeled\",\"in_micromine\",\"shown_in\",\"was_based\",\"drilling_continued\",\"has_yet\",\"new_estimate\",\"finore_mining\",\"consultants_provided\",\"recommendations\",\"estimate_comparison\",\"this_estimate\",\"all_historic\",\"reliable_data\",\"as_defined\",\"showed_very\",\"little_difference\",\"includes_material\",\"reliable\",\"qa_qc\",\"subjected_to\",\"fire_assay\",\"rather_than\",\"aqua_regia\",\"is_shown\",\"in_figure\",\"rc_precollar\",\"bbc\",\"was_set\",\"as_scissor\",\"hole\",\"collared_from\",\"the_footwall\",\"core_from\",\"each_hole\",\"geotechnical\",\"logged\",\"and_photographed\",\"wet\",\"dry\",\"during_early\",\"december\",\"selected_sections\",\"cut\",\"the_resultant\",\"half_core\",\"submitted_for\",\"single_metre\",\"assaying\",\"kalgoorlie_assay\",\"laboratory\",\"cutting\",\"assaying_was\",\"their\",\"intervals\",\"geologically\",\"sampling_indicated\",\"additional_sampling\",\"indicated\",\"host_rock\",\"intersected_included\",\"partly_silicified\",\"ultramafics_schistose\",\"massive\",\"with_quartz\",\"veining\",\"varied\",\"in_width\",\"appeared\",\"confined_to\",\"quartz_veins\",\"siliceous\",\"selvedges\",\"more_massive\",\"seemed\",\"weakly_mineralized\",\"in_this\",\"drilling_encountered\",\"crushed\",\"fault\",\"core_loss\",\"beyond_this\",\"fresh\",\"talc_schist\",\"was_encountered\",\"locally_sheared\",\"carbonate_veinlets\",\"fine_disseminated\",\"sulphide_pyrite\",\"and_submitted\",\"for_assay\",\"only_trace\",\"values_were\",\"encountered_in\",\"it_appears\",\"may_have\",\"deviated\",\"flattened\",\"significant_gold\",\"intersected_high\",\"reflecting_the\",\"less_continuous\",\"footwall_lode\",\"consisted_of\",\"ultramafics\",\"transition_zone\",\"grading_into\",\"carbonate_altered\",\"hard\",\"basalt_with\",\"fine\",\"carbonate\",\"quartz_carbonate\",\"veinlets\",\"fabric\",\"was_logged\",\"high_mg\",\"needs\",\"verifying\",\"petrographic_analysis\",\"ground_conditions\",\"favourable\",\"did_not\",\"possible_future\",\"underground_mining\",\"previous_drill\",\"also_been\",\"photographed\",\"providing_additional\",\"evidence_of\",\"this_reporting\",\"however_there\",\"drill_testing\",\"an_annual\",\"report\",\"was_prepared\",\"addressed\",\"current\",\"issues_associated\",\"rehabilitation\",\"clearing\",\"issues\",\"regional_exploration\",\"previous_mining\",\"properties\",\"historically_mined\",\"as_small\",\"early_underground\",\"extended_to\",\"depth_of\",\"approx\",\"history\",\"shows\",\"mining_development\",\"lode_being\",\"developed\",\"limited_extent\",\"show_close\",\"geometric\",\"parallel\",\"association\",\"outlined\",\"defined\",\"within_the\",\"nickel_exploration\",\"utah_development\",\"co\",\"number_of\",\"companies\",\"exploring_for\",\"delta_gold\",\"gold_exploration\",\"this_time\",\"indian_ocean\",\"working_at\",\"company\",\"aircore_reverse\",\"circulation\",\"industries\",\"package\",\"wide_spaced\",\"geochemical_sampling\",\"wallis\",\"as_result\",\"small_open\",\"was_developed\",\"over_the\",\"eastern_lode\",\"whether\",\"leaching_had\",\"reduced\",\"or_simply\",\"poor_gold\",\"is_uncertain\",\"mining_ceased\",\"prematurely\",\"trinto\",\"pty_ltd\",\"ground\",\"from_wallis\",\"during\",\"total_of\",\"rc_drilling\",\"was_carried\",\"out\",\"geochemex_australia\",\"on_behalf\",\"actively_explored\",\"rock_chip\",\"general_prospecting\",\"auger_soil\",\"sampling_vacuum\",\"rab_drilling\",\"metallurgical_test\",\"work\",\"successfully\",\"mineralized_zones\",\"all_directions\",\"identified\",\"shallow_moderate\",\"grade_mineralization\",\"highly_weathered\",\"felsic_rocks\",\"extending\",\"and_possibly\",\"north_of\",\"previous_rc\",\"underground_mine\",\"confirmed_the\",\"complex_structural\",\"control_on\",\"mainly\",\"steep\",\"shallow_dipping\",\"intercepted\",\"appeared_to\",\"show\",\"shallow_north\",\"placer_granny\",\"smith\",\"pgs\",\"entered_into\",\"jv_with\",\"in_august\",\"mt_lebanon\",\"jv\",\"mining_lease\",\"between_and\",\"for_metres\",\"diamond_holes\",\"rab_holes\",\"metre\",\"plus\",\"and_relogging\",\"had_not\",\"any\",\"decision_to\",\"april\",\"ownership_of\",\"reverted_back\",\"transferred\",\"into_an\",\"in_june\",\"dyl_conducted\",\"its_first\",\"ac_rc\",\"providing_an\",\"additional\",\"analyses\",\"final_data\",\"base\",\"included\",\"metres\",\"additional_aircore\",\"twinning_of\",\"out_in\",\"assays_from\",\"were_rejected\",\"original\",\"june\",\"but_subsequently\",\"found_to\",\"acceptable_quality\",\"and_therefore\",\"were_used\",\"the_following\",\"documents\",\"burtville_domain\",\"laverton_greenstone\",\"entirely\",\"covered_by\",\"surficial_material\",\"including_remnant\",\"ferruginous\",\"hardpan_or\",\"modern\",\"alluvial_sheet\",\"wash\",\"regional_magnetic\",\"data_shows\",\"transported_cover\",\"palaeochannels\",\"defined_by\",\"accumulations_of\",\"ironstone\",\"is_approximately\",\"the_base\",\"of_oxidation\",\"as_indicated\",\"is_comprised\",\"foliated_basalt\",\"mafic_schist\",\"tertiary\",\"can_be\",\"thick\",\"it_includes\",\"recently\",\"deposited\",\"soil\",\"hard_bands\",\"in_places\",\"which_would\",\"need\",\"blasting\",\"beneath_the\",\"surface_layer\",\"which_has\",\"been_described\",\"soft\",\"machine\",\"indurated\",\"pit_walls\",\"would_probably\",\"well_supported\",\"cohesive\",\"firmer\",\"west_wall\",\"appears\",\"less\",\"deeply_oxidised\",\"than\",\"the_hanging\",\"wall\",\"basement\",\"mafic_volcanic\",\"rocks\",\"with_interleaved\",\"narrow\",\"units\",\"dolerite\",\"interflow\",\"volcanogenic_sediments\",\"tholeiitic_basalt\",\"ultramafic_units\",\"relatively_minor\",\"interflow_sediment\",\"laterally_extensive\",\"banded_iron\",\"formation_bif\",\"layered_intrusive\",\"complexes\",\"mapped\",\"region_including\",\"the_hanns\",\"camp\",\"syenite\",\"complex\",\"km\",\"northwest\",\"diorite_hill\",\"located_approximately\",\"northeast\",\"tenements_overlie\",\"subdued_magnetic\",\"response\",\"located_between\",\"jasper_hills\",\"fault_system\",\"core_drilling\",\"has\",\"encountered\",\"pillow_basalt\",\"there_are\",\"cross_faults\",\"which_may\",\"correspond_to\",\"areas_of\",\"positions\",\"mineralisation_at\",\"single\",\"plunging\",\"shear_hosted\",\"lode_position\",\"lode\",\"position\",\"and_steepens\",\"fresh_rock\",\"geometry\",\"plunges\",\"deg\",\"subcrops_in\",\"progressively\",\"deepens\",\"plunge_trend\",\"disrupted_by\",\"cross_faulting\",\"from_around\",\"local_grid\",\"mn\",\"two_main\",\"that_extend\",\"forming\",\"north\",\"these_tend\",\"flat_lying\",\"relatively_shallow\",\"depths\",\"steepen\",\"hard_copy\",\"micromine\",\"derived\",\"cross_sections\",\"long_sections\",\"outlines_were\",\"digitized\",\"computer\",\"gram_metre\",\"mineralisation_trends\",\"were_also\",\"reviewed\",\"to_test\",\"exploration_targets\",\"modelling\",\"etheridge_henley\",\"and_williams\",\"have_mapped\",\"the_laverton\",\"edjudina\",\"using_metre\",\"line_spaced\",\"aeromagnetic_data\",\"geological_maps\",\"gravity_data\",\"field_checking\",\"previous_work\",\"by_etheridge\",\"henley_and\",\"williams_and\",\"hallberg_has\",\"divided\",\"the_archaean\",\"stratigraphy_into\",\"an_upper\",\"lower_sequence\",\"sequence_includes\",\"predominantly\",\"basalts_with\",\"basal_ultramafics\",\"sequence_consists\",\"mostly\",\"felsic_volcanics\",\"and_volcaniclastics\",\"interbedded_with\",\"basalts_near\",\"sequence\",\"clastic_sediments\",\"near_the\",\"top_of\",\"sequence_mafic\",\"sills_are\",\"present_but\",\"have_not\",\"intruded\",\"overlying\",\"feldspathic\",\"conglomerates_and\",\"siliciclastics\",\"recent_work\",\"by_bartsch\",\"redefined_the\",\"regional_stratigraphy\",\"lithostructural\",\"terrains\",\"recording_major\",\"changes_in\",\"tectonic_history\",\"the_oldest\",\"greenstone_dominated\",\"stratigraphy_which\",\"forms\",\"regional_scale\",\"laverton_basin\",\"western_terrain\",\"dominated_by\",\"containing\",\"the_lancefield\",\"mt_morgans\",\"basin_rift\",\"stage_sequences\",\"cogenetic_granitic\",\"batholiths_and\",\"coarse_clastic\",\"sediments_including\",\"deposition_of\",\"debris_flow\",\"deposits_such\",\"the_wallaby\",\"conglomerate\",\"from_uplifted\",\"the_central\",\"terrain\",\"childe_harold\",\"the_youngest\",\"basin_sag\",\"phase_sequences\",\"sediments\",\"the_eastern\",\"hosts_the\",\"barnicoat\",\"brightstar\",\"gold_prospects\",\"boundaries_between\",\"show_evidence\",\"both_transcurrent\",\"reverse_faulting\",\"elongate_basins\",\"are_localised\",\"flanks_of\",\"intrusions\",\"later\",\"syntectonic\",\"granites_and\",\"granodiorite_porphyry\",\"are_common\",\"and_merolia\",\"prospects_were\",\"explored_by\",\"was_designed\",\"test_extensions\",\"known_gold\",\"anomalies\",\"vacuum_soil\",\"prospective_structural\",\"intersections\",\"all_drilling\",\"data_files\",\"are_included\",\"appendix_drill\",\"location_plans\",\"in_figures\",\"no_significant\",\"these_leases\",\"further_evaluation\",\"magnetics\",\"soil_geochemistry\",\"in_relation\",\"needs_to\",\"be_carried\",\"sept\",\"of_contents\",\"includes_all\",\"immediately_south\",\"applied_to\",\"doir\",\"status\",\"basis\",\"these_tenements\",\"that_are\",\"economic_trucking\",\"milling\",\"facility\",\"at_granny\",\"through\",\"new_mill\",\"holds\",\"tenement_holdings\",\"covering_around\",\"sqkm_and\",\"located\",\"and_burtville\",\"tenements_within\",\"tenements_under\",\"application\",\"separately\",\"first_phase\",\"testing_beneath\",\"quartz_vein\",\"evident_from\",\"was_successful\",\"followed_up\",\"highly_encouraging\",\"results_received\",\"au_from\",\"in_eca\",\"to_confirm\",\"intersected\",\"downhole\",\"confirming\",\"moderate_easterly\",\"out_at\",\"prospect\",\"close_to\",\"some_positive\",\"received_from\",\"grab_sampling\",\"ferruginous_quartz\",\"by_placer\",\"had_reported\",\"best_intersections\",\"from_metres\",\"in_ehrc\",\"metres_downhole\",\"down_dip\",\"infill_rc\",\"extension_of\",\"additional_drilling\",\"deeper_holes\",\"were_drilled\",\"mineralisation_continuity\",\"targeting_untested\",\"vertical_depth\",\"metres_drilled\",\"reverse_circulation\",\"successful_in\",\"showing\",\"narrow_high\",\"grade_mineralisation\",\"exists_for\",\"however\",\"previous_metallurgical\",\"indicated_that\",\"is_refractory\",\"limiting\",\"amount_of\",\"warranted_at\",\"significant_results\",\"plan_showing\",\"drill_collar\",\"locations\",\"alpha_resource\",\"using_micromine\",\"is_still\",\"was_interpreted\",\"personnel\",\"wireframed\",\"then_it\",\"was_modelled\",\"dmitry_pertel\",\"deeper_rc\",\"subsequent_to\",\"were_added\",\"estimate_summary\",\"best\",\"jorc_resource\",\"for_subsequent\",\"studies_carried\",\"out_by\",\"milne\",\"using_surpac\",\"optimisation_runs\",\"were_later\",\"training\",\"hatch\",\"consulting\",\"date\",\"treatment_costs\",\"toll_milling\",\"scenario\",\"run_at\",\"broad_range\",\"post\",\"upper_cut\",\"of_tonnes\",\"rounded\",\"nearest\",\"ounces\",\"complete_review\",\"heap_leach\",\"unlike_the\",\"partially\",\"occur_along\",\"margin_of\",\"tectonic_zone\",\"which_hosts\",\"major_gold\",\"sunrise_dam\",\"keringal\",\"red_october\",\"specifically\",\"located_within\",\"the_duketon\",\"merolia_greenstone\",\"belt\",\"follows\",\"the_jasper\",\"hills\",\"fault_systems\",\"eastern_part\",\"area_include\",\"sequence_of\",\"metamorphosed_ultramafic\",\"schists\",\"magnesian\",\"basaltic_rocks\",\"dolerites_and\",\"gabbros\",\"minor\",\"greywacke_and\",\"siltstone\",\"lithological_contacts\",\"sheared\",\"altered\",\"granodiorite\",\"stocks\",\"porphyries\",\"may\",\"intrude_the\",\"the_main\",\"structural_components\",\"transfer\",\"the_latter\",\"separates_the\",\"greenstone\",\"eastern\",\"lies_on\",\"corridor\",\"north_northwest\",\"trending_mafic\",\"volcanics_interspersed\",\"with_narrow\",\"bands\",\"ultramafics_and\",\"south_easterly\",\"trend_through\",\"area_is\",\"prospective_for\",\"tensional\",\"trending_sinistral\",\"strike_parallel\",\"mineralisation_is\",\"related_to\",\"major_nnw\",\"sse_trending\",\"shears\",\"targets_include\",\"dilation\",\"positions_along\",\"shear_zones\",\"especially_where\",\"are_present\",\"providing\",\"pressure_shadow\",\"areas\",\"and_dilatant\",\"zones_that\",\"trap\",\"deformation\",\"recognised_as\",\"distinct\",\"events\",\"structures_are\",\"common\",\"cross_cutting\",\"north_northeast\",\"trending_structures\",\"are_often\",\"important\",\"controlling\",\"intersection_of\",\"structures_such\",\"settings_are\",\"evident\",\"jubilee\",\"style_mineralization\",\"can_also\",\"commonly\",\"be_seen\",\"as_linear\",\"cohesive_geochemical\",\"structural_link\",\"zones_are\",\"inferred_to\",\"connect_the\",\"major_fault\",\"systems\",\"assist_in\",\"loci_for\",\"gold_mineralization\",\"location_and\",\"access\",\"lease_tenure\",\"verification_list\",\"template\",\"type_file\",\"name\",\"sample_stream\",\"sediment_soil\",\"homedrive_mirsgjs\",\"my_documents\",\"docs_statdata\",\"extractions_txt\",\"pm\",\"trench\",\"txt_wasg\",\"laterite_water\",\"biogeochemistry_isotope\",\"whole_rock\",\"mineral_analysis\",\"other_specify\",\"job\",\"nos\",\"br_wasl_txt\",\"wadl\",\"drilling_diamond\",\"rotary_air\",\"blast_air\",\"core_auger\",\"groundwater_drilling\",\"wadg\",\"txt_wadl\",\"search_database\",\"compilation_computer\",\"modelling_reprocessing\",\"data_general\",\"research_report\",\"preparation_pdf\",\"pdf_other\",\"specify_txt\",\"txtradiometrics_magnetics\",\"gravity_digital\",\"terrain_modelling\",\"sp_ap\",\"ep_ip\",\"amt_resistivity\",\"complex_resistivity\",\"seismic_reflection\",\"seismic_refraction\",\"well_logging\",\"geophysical_interpretation\",\"aeromagnetics_radiometrics\",\"prospect_underground\",\"costean\",\"literature_search\",\"database_compilation\",\"computer_modelling\",\"reprocessing_of\",\"preparation\",\"specify_regional\",\"reconnaissance_prospect\",\"underground_costean\",\"ground_geophysics\",\"radiometrics_magnetics\",\"geochemical_surveying\",\"drill_sample\",\"stream_sediment\",\"soil_rock\",\"chip_laterite\",\"water_biogeochemistry\",\"isotope_whole\",\"rock_mineral\",\"analysis_other\",\"specify_drilling\",\"diamond_reverse\",\"circulation_rotary\",\"air_blast\",\"auger_groundwater\",\"mra\",\"modified\",\"aerial_photography\",\"landsat_spot\",\"mss_radar\",\"gravity_measurements\",\"made_using\",\"scintrex_cg\",\"autograv_instruments\",\"readings\",\"of_seconds\",\"were_taken\",\"base_stations\",\"gravity_survey\",\"points_base\",\"station_readings\",\"the_beginning\",\"day\",\"days_fieldwork\",\"cg_instrument\",\"applies_an\",\"instrument_drift\",\"correction\",\"its_final\",\"gravity_reading\",\"any_residual\",\"drifts_between\",\"base_station\",\"readings_are\",\"corrected_by\",\"gravity_post\",\"processing_software\",\"windimurra_partial\",\"surrender_report\",\"instrument_also\",\"applies_earth\",\"tide_correction\",\"at_each\",\"station\",\"conclusions_and\",\"expenditure_details\",\"references\",\"windimurra_project\",\"partial_surrender\",\"this_method\",\"provides_control\",\"gda_datum\",\"cm\",\"gravity_control\",\"for_base\",\"subsidiary\",\"station_was\",\"established_on\",\"australian_fundamental\",\"gravity_network\",\"isogal_igsn\",\"using_two\",\"australian_geological\",\"survey\",\"office_agso\",\"gravity_station\",\"mount_magnet\",\"terminal\",\"value_for\",\"was_obtained\",\"geoscience_australia\",\"control\",\"information_is\",\"tabulated_in\",\"appendix\",\"gravity_values\",\"this_survey\",\"australian_gravity\",\"network_using\",\"the_isogal\",\"known\",\"gravity_stations\",\"provided_by\",\"are_expressed\",\"of_milligals\",\"field\",\"gravity_observations\",\"processed_using\",\"standard_formulae\",\"and_constants\",\"to_produce\",\"bouguer_anomaly\",\"bouguer_correction\",\"uses\",\"density\",\"cc\",\"gravity_processing\",\"in_appendix\",\"haines_surveys\",\"gps_gravity\",\"survey_over\",\"the_windimurra\",\"in_march\",\"station_spacing\",\"line_spacing\",\"either_or\",\"stations_were\",\"collected_on\",\"relinquished\",\"station_locations\",\"are_depicted\",\"datums\",\"horizontal_datum\",\"geocentric_datum\",\"australia_gda\",\"map_grid\",\"australia_mga\",\"vertical_datum\",\"australian_height\",\"datum_ahd\",\"gravity_datum\",\"of_contentsthe\",\"covers\",\"windimurra\",\"narndee_complexes\",\"large\",\"mafic_intrusions\",\"flexure\",\"fault_intersection\",\"archon_archon\",\"domain_boundary\",\"separating_the\",\"murchison\",\"southern_cross\",\"domains_they\",\"interpreted_as\",\"large_layered\",\"gabbro_anorthosite\",\"pyroxenite_peridotite\",\"magnetic_cumulates\",\"comprises_hundreds\",\"of_rhythmic\",\"layers\",\"gabbro_dolerite\",\"gabbronorite_anorthosite\",\"pyroxenite\",\"magnetite_cumulates\",\"the_narndee\",\"complex_sits\",\"consists_predominantly\",\"repeated_cycles\",\"peridotite_pyroxenite\",\"gabbro\",\"gabbronorite\",\"for_both\",\"complexes_minimum\",\"rb_sr\",\"age_date\",\"ma\",\"constrained_by\",\"felsic_dykes\",\"mafic_rocks\",\"sm_nd\",\"ma_recently\",\"calculated\",\"complexes_have\",\"been_intruded\",\"granites_pegmatites\",\"porphyritic_dykes\",\"very_little\",\"encouragement_in\",\"aeromagnetics\",\"geochemistry\",\"that_there\",\"prospective_ultramafic\",\"relinquished_portion\",\"is_scarce\",\"granitic_rocks\",\"underlying\",\"complex_outcrops\",\"north_east\",\"corner_of\",\"relinquished_area\",\"figure_shows\",\"the_gswa\",\"mapped_geology\",\"topography\",\"shaded\",\"blue\",\"table_tenement\",\"information\",\"table_expenditure\",\"de_laeter\",\"isotope_evidence\",\"archaean_proterozoic\",\"crustal_evolution\",\"yilgarn_block\",\"constraints_on\",\"age\",\"source_of\",\"anorthositic_windimurra\",\"gabbroid_baxter\",\"lipple_marston\",\"kirkalocka_western\",\"australia_sheet\",\"sh_geological\",\"series_explanatory\",\"notes_gswa\",\"bunting\",\"nickel_pge\",\"narndee_and\",\"windimurra_intrusions\",\"report_for\",\"apex_minerals\",\"nl_matheson\",\"booth_layered\",\"gabbronorites_in\",\"gabbroid_complex\",\"gswa_walker\",\"blight\",\"barlee\",\"sheet_sh\",\"geological_series\",\"explanatory_note\",\"west_musgrave\",\"combined_annual\",\"to_december\",\"appendix_digital\",\"geochemical_data\",\"minerals_nl\",\"organised\",\"an_aeromagnetic\",\"flown_over\",\"in_september\",\"area_covering\",\"portion_of\",\"was_flown\",\"at_height\",\"above_ground\",\"data_from\",\"portion\"],\"x\":{\"__ndarray__\":\"KU4jQtEDo0HWMQjB5mi6QTtSpEGXuadB/zMpQvu3q0E88qNBYl4VwWc7NEKuOjNCPYMrweSlKUKqIJlBsdBMQpgPiEH7lj9Cjp9JQgTaxUHGjE5C3GSxwdAmSUIklSzBdfk9Qnhadj+4J8FBiP0pQoE2nsFBW8BBIVb0QdFJ60H2fANCn6v3QdY+BkJHlJpAIO0UQuGTHUK6m/ZB/l6OQXikikEdkYpBecsXwceLIELZxxxCfSUowdYRJ8G9pLTB9OQWQvRrkMEGWCBCZQGAQe8fdUFXXwZCBrJcwf1fZUHobQ5CO2nFv278bUHhRSHB3ghaQSlFTsFP1t9B4pZnQRnXW0HeDSdAer40QMBN+0GSOAxC2h4lQtahFUEqYORBg5r1wescsD8pX+RBXJgbQqYKGkJeWQzB83TsQZEAjcAJEw3CndsAwQ+UCsIJCBjCRIOowR26nsH+VQrCjzQRwuCuFcL+cSxCe5odQunkEUDseT5C1T1wQS6EEkBaevJBUqGvQZmBRsGTqhpCQsxKQUMsokH/3CVCg1hZwQYzrL6xoRhC9lE/Qow2T0IvyyLCTVe0QX7YM8Kz0zbA3O0swqncHMKM7SvC99UrwnMGKsJzVUPCIVv0wSvF88HBmzvC21Y8wubxQ8JoEzPCXVU+wpIfQcIcIUXCglQ8woBpPMIvqTzCRY48wtOEKcLLz0DCH98mwjfbH8JpQVTCLRsYwmK0MsJ1Ug3CB54Mwh+0OcKW8DLCLK8xwmZic8EpYkfCed8AwrBDK8K6TCzCgHN1QVZuMcKeWN8/ZBmawdJiNsJpCAHChj37wbLsAMKjE5bByKOrwQhmbsHlNlTCaTgPwtog4sGIH+LBNoDiwU5TCsLC3Q7CUzCNwB4dZMFvtObBg1D7weB2/sEulJTBsNj9wVmDBsJ8QgDC65tOQh4YXsG1XjTCFvmEwRTspcES1qXBHDKQwbpOxcH2IsbBWokJwioYzMEtUf/BOngVwtALosEJrcbBZHfIwZzPw8Hx4zvCk7C0wWU+t8E16qHB6CdeQN9F0MFSVMHBHYy3wccAysFMgTvCPSPOwQTyjMGcwh1CPIHOwYAWw8FHCm7B66OOwdYHzsHn6mFBR+TiwRsFh8FkE4XB4RemwXloeMF/zqXBo+oSwuXFusESqYLBcBkPQjJWskFearJBvk6mQdHgDUKwFA9CcjgEQsjfCUJSbwNCk5U+wTjpPcDgBVTA3BK3wZ77JUFyEfNBse8VQLk4aEDOEu2/Qz7kwSoybUBd7Z3BnKMeQD/84EF44ExBXRUvQG4qLEA+aOlB3NhYwWwyH0IyS0RAj5T7QTJ3FkF6FPFBjbplQCTGh0GH82dA2LMRQsXlb8BtKM1B6n0qwgUyykGlxKPAfZdnQXdyGEIg5N5B5FmCQTUBYkHcjEDBl9ocQpKIHUJpr0HBS/bIwX0lkcGC/MXBghcnwNcHlEByGlfAkkSMwU8D379vnw/BOdKUwU8BRsL+TkbChh0ywv9Ki8ELIIvBvByLwU5MNkGfvq6/ltVeQRDjTcFTwq3BgJFDQuQdQELQFAtA8ixKQuaqpEF1GTfApsQkv7ublEHtVc7A8rDBQaekFkItR/HATKSiwUysDkD9k7bBf6W8QdNfBsA8UcRByBe9QVmGCkLKixtCq8kaQR6AM0HBIuy/dHYOwPGZQEHRGERCDCe6QfjOSUKK3MJB2/iZQTpr9T9rjkVCFa2awRm9WcFEqG3BpU5IQZ1r0kEqtPVBLAMVQq1qIUIFVbi/YDRZQenrcEGn9nVBkKtiQTxi/EG2Zt/AE5aFQYFKlMGpLbm/VgvyQJGySUEE68PAH8ZPwSspzEFx6u/A6VLrwD7hoT8Udy/BaorsQSiFBEKlWjDB9yhuQTy99MB3r6E/UqR+wKFL40GcNbtBrBJGQtqxSEJUPvtB7/kkQOWPM0Ko1N9BSRnJwDVLycFbqstBVlHLwXGRT0IObm1BsLW1QZhDnMHoaGhBQEp/wCBkG8LbLyJBxtktwcmGy0EOEOJAvK3cQJm+kEFYbNlANt5owfUHm0C9JpBBnWe0wd0Cf8GlqrtAySwfQlsgo0GDQaTAArLXQCIsl0Fa2fs/U908QtiQhT+cPWJBikvQvosdJD/IlxdAYM2kQVbnxEEVwghBDODlQZcXa0AxFLm/cMVhv1sPeL+l/gtCQunxQSvZhL8GahpBFvzvwdWSykF1zQdCYAYFQjTZyUAA2bhBps6aQZClEkLxVyFBkwwWwbj+D8FNRUFBPXecP4CF7UH7IBlB3S3yQfrUwkAjpp5BI2r+QTuEFEFoLRdBn6owwade3EEhMOdBaIbGQVNUskFe3bpBl3+NwG4fmMDiYLpAwBR4QQZumkEIqz5B2+2CQXJa9UGFYwtB+p4uwTXqvEEkSolBeYLqQdr+2UH6j33AtJTiQO8hxkFgQIu+8NXMQSoKdkET6EA/alOoQNnkM0C2vPJBcmUlwf3ntEF6C/tB7MjfPzhjd0GlIMVBbrnIQbDXMkEdlQFCpQK5QCyG5EE2GCtB1dgrQccBDEJsxRXBI/4JQSh8BUJ1xfpBDczmQY7RUUEeL41BfeoeQrpN5UF1PRlCMKB9wOdYgMEFCYPBsiKCwTjkgsEeNibBavQIQR4wFkEyW0rBca7Pv4Zb3UFRCt1B71HywVkRgkG4ZLW/bpIgQrdn0cEnyrZB7Ce8QQdGBL/6oQVC5Sa0PwlGqEDkz2ZB3i6lPwBWoEFXRdBAz5g1QOqUyUAyi4dBc1QcwKPPDsCwOqZBRRqBv+nOnsDVhK3BnOiSwT10SMEf5t1BL1laQWRP/cBFRMDACiz6wNygI0FrEPm/h8cIQRQxgsHftQxBX+wewe1CL0GIK5RBpEDSQYZtycHwFJJBbnG+QZPnNsBrqWVB3F65QQfHGUHDu+pBg39KQXZHKkEeujTA3tYAQvJmjUEJvb1BCLxlQDXTkUFLqAHC5nn0wE1lD0Gw/9ZAcaS4QMdjt0Cn1gFCNae/wFsG28BaoTxB7gCuwAqjoL9zEc/AOXFrQWDaFMJ2LhbCv84ywrXGjsG8QgbCx5OUwfdXDcJiVZTBg3ovwcVzkEFQTQzCDaBSwZk1k8F6so7Boz8BQXe31cFAtYXB8CwGwjMMfcEWpJHBRHAXQE27B8GFPya+uKykQaA6e0EkpKNBTXSbQVlZncHoTghCPWz2QEgHkcEhFYlBdF2YQcDZR8D5a3XBW7x5wZLsWECLmLPB0/LywXvresGMLpPBGttBwgatKsFpEVRBD+5swSQdhsE5q4DBxxGpwTH2pMFKE21BkAwWwFWPnsBexNnAKWGSP3sqo8EIGTjBvjueQIGkM8HaMgzCkri/wbmSDMJaGWvBjEoswRYAocG1+J8/VWyWwdpRDMK94qDBi82PQZsWgcHrF5LBhKYEQYjqSMGLodXBzol+wa9uTMEIfp8+rDofwcxZYcGL7ytBIW14wbYqCMEhuie/YVJ8wU9eQsHjd3A/7IMawukiIkFBLdbBTtbAQYAzY8A8tY0/9fIUwEUYiUHSMcFA6NE/QoQzRcFp0cfAwTY6wGHgMcHT+wHBfpOFP78oPEGa/KJB8bvowe/7DkHzctXAGEGCQQ0D/MFKkLBADz5fQSVmZsBMdfdAjnopwTF1hkFc3BdCaoGEwVaMb8D2k1fBoEhwwManBsGc2MfALrsnQUQOR8FcdkbBtPMSwRPY88Hd9J/BwhEDwvqus8GDqavBNXuIwV16tMHzJ3nBGsuxwevzKMKj3bfBHb5rwc4LCMIP0VvB3MSuwUyOysHsbqHBXwE2wo5Cz8FAs+/AnLjCwLZeLsJZch/CTKceQnGEs8E5KInBG7ShwfjLDsJwjDHCVyDowUkJCcI9GQ/CVMYYwqkbFcKVqczBUdSGwXVRI8KqEj3BZQIgwsUL4sEoNSjCeUc2wq4VDsI4vTvCQIEPwpmqE8Jr9gbCkMrnwUUK98BFyFrB+2L7wYmORMJFxPzAS//lwQk6s8G+XLPBimK+wSygCMKxWjTCfiq0wRxdOcKJPQfC/ONGwjiXR8JTTA/CDcfswaJppsDfFiVB6+cbwlphAcKbyajBgzYSwU62DcIEKvHBEz8OwjPilb+jMfTBIEQkwZYHFsHyfQTCSxYNwpGFqMHuA6RBUUvkwc2oScFa0lnBKyeVwWBDMMF0UuLB7S+RP0HqS8E21DDBrXhRwXXcD0H0kppAb4z0QZFocsHuDMnBC0SXwcveMMJXjDbCFG4+wjh2s8EAX1rBqPGFQNBxTz9obVfB/9WnwYoIsUCZ5MLBjXaVwZ4SssHozdJBGpMaQs6g7kAJViPBEL3GwW03hUHk3s3Be3rewUzctcG81JnAfd7ZwGczFsGtcCrBTOUYwlquAMJB+SFAOIWewZQO7cGV8PzBhfrewWoonsEAlZnBVuzBwTRZksADmyLCU+3+wQna18HAVwzC8egKwgOr/8FDdfDBnG9nwcCZ2MH8Zq3BVuq9wVu7k8FlsE3B74OgvxEpKUDjjgPBj+c1wLZbBMFlXaDBM9OSwbpw0MH7F05Ann16wXFyU8E4HLbApKoPQsnUicAcPG3BMP8TQYndBcHa10XB9+jlwS/RCkHiylFCS7sRQhm+BEJpXwVCftl+PxuDHkEJneBBJ8ECQlAcCMK7BKFBDKOOQeDu20HjgN4/wIOyQSx4BUF0PMdBYk+Wwbf2d8BlVtrAO+zkQCu22cDKIxvAK26OwRB2xsGBv+fAbbuHwWRlzcGS5hPCaXaIwcVDHsL7/6HBbc5rwZgp+cDWCONAjW/FwCVjhEHQJbDBL1AAQeUBs8ADy4Y/rFCSQDeJykB8pc5B3SjdwDxGm0FCfLZBDCZXQZPqxkH/Co9BWB4VQsyWeUFpVynBVnKdQEB83UDDv3tBKCqPQNftAkGVbn/Aroa6wJ3H50C2DbVA8KGLwMzcPMEJepdBD7I2QSqzzUEuw72/a06jwDF82EFOym9AAI28wGn3r0EiJxdBuQE1wWr59EGuqg9ASaQ2QPLj1cDGK+9BNJqSQLkqckG3WQbBpMgcQVqexEBltFlB622aQB7opsB8CKXA0zXbwLaXU0Engu7A3XvtwABtf0EfRHpB01q3QApLLEGxeS1BCdv3wOW6iEHn5kHBKwecQc9x9UEcmzxBYvgbwYz+7UGE5wJC482rQXwYO0GTpEDB0soywb5Ts0BW4xFA/W4IwRaBvMHYZfBBKgrbv0+9GkHnJMBBfPqDQbHX2EEmbahBX7ffvvi4/sBcg9RBM+sYQRchAcEwdEFC4+ftQSFoukAA2ohBG7M2QIUpB0JflWNBekq7Qfcx6kF10hPBD8cNQmpoV0G71jTBRGzbwXq1OUEwJmxBHRudwCWG80Cjyia/yxE5wOcozEGO4txBnVtdv67Kl8A0cSdBMquXQBnfxEFUQDpBmTVJwXVfDMHdXa9AARFnQe5Q/8C2bZFBaKkzv66BlkCUnBpBoQzHQVqnFkIu4e5BPy9yQTdEqkGudgXAeicJwC67EEKhxUBBbDy+QZpaSEGH14jA65rAQVOESkHtNSPAz9CFQbmVekHh6J5BRVGmv+dtA0FMyG1BeWiHQdJANEA4iJu+pyEWQe2A4cFrnppBtr2IQfpBhsB7lnZALT19QIomyj++EpTAGlnFP5STzMB7/1NBDuAMwWNMckAARI6/lMxUQfb5i0CoMF1Blih5waKu8b+JqfO/zw/jQRKVZEF1oJa+9zg7QQYLvEDPvjXAl65zP4xIhL54KIdB1kemQP8/rT/DyAZB+ASUPwnhtEAonLNAvXC1QNRP6EDIHGRB0gj2QNauDkFxA3BBrENoQcC08ME+qRBBtbsHwPfEwkHAmAJB03UCQfTNp0Hn+VlBMvA2QTFCQkHSZqpBsH2lv3HAH0GgaZe+yJSuQH3Ny7+h/j3A2eb6wRoKqMBJZoxB5XeGQQ/xVkFk2bvBgGNNQV262UE5KRBBEaVQQpygor9i1WzBy1/YwB+wVkEcuMnAMkfrwVGNCEHGjpVB1Ty/QExg9L9MPwTARu6nQWMdGEHBOylBbwsQwqS0fcBKlLhAP3B7QZUcBkFDFEBCksvbQKjk7EFyLQNBe22HQbV27cBaPCFBObxlQcXP4cCLNOnAztoYws2m/8HvpQbCchr9wdaw9cETMQJB1M05QWfSgEHIKwnBHTNhQfV7fUHTzPfAKH08wg+XB0Ig8xjAF65GwM6ND8C8Jrg/JdW3QdjIfUC5sgFCnbu/QUzhlUHiUhTCpWIEwkLQgsHvShLC9XLQv8DGZUETC1fApjxcQcgOPkG84/Q/e8IjQAgGwkHW3lVAsMJlP4U8CcBoXzpB5o4RP/UT+D59jac/sNAcwRwLb0D7Dk9BU+kNQA5pP0FGTBZB2q+HQINeR8EYn2a/RDQpQezGBT8X79pAva2lQUtEhUC7epBBlTQGQSzOuT+gravA7URNQYW4ecD4jBfCW28UQXkWiEG9JRJBUzPgPrKfLUAl5VbAu8c5v09ohb34TlY/eN5TPyUvx8D7dyg/yJqGv75eEcGUlHLAJWa/vs9RgcC639pB6ZeWQbUnEz508gdC7pMPwOmDy0C8dw9CsH4RQgbhvED2f7vAXzCSQb1Fl0FmZQQ/b3SKQeSsgUGDwQZC61cgQYVFDUAlbc0/3aYbQZnKnsDePNHBQKdPwTfUC8GWcgxBMcDaQCIcGMGEIxfBPt3iwEGHtkEVbaZASXrpP9X80EFNbNs/mtqyQWR6BkI1YZJBaTMeQLWaOsEHWYFAO0WDQF41WkHBdeG/cAI8QoqwlsGi8RtC3W+Vv48okcB2Z0PAB8IqwEQEJMDSZ/nAv01NwIVXLsA88vRBqJZZwAF1T8DIoyHCpMxawLDoa8DNKFjAu1EOwktBiMC63YXACIaUwPpBB8KV4aLAztWqwMppqsB9/Z/ABtaawffitcA6Xr7AGkAXwsrgz8Dx9ZPB7MKVwRYJlsHYk3rB1QO5QdBPDUJEdEBA6k2NQXrzy8F4/npAZhO+QbTcB0Lxw8DBe1kRQqWhHkLmxhBABSz6wLg17kHOmktBQaGmQRaE/UHUBBLBlNczQiDjCkJux55BJsxNQU1JMEB+2WdBD72BQQuD4kGAbrxBMAzOQbZFdUAlmf1BoAmEQLAiD0L/pBtBhd4gQROyHUHDMUnBZ7ehwW6spb+SZRpBBex9wYfjiMF70R5AgDTEwQQ4ib/Z45NAHv/EQb+3O0InwqzAtXPVQX07QMFCfCFB9NUnQWTE2UAuCrhBjyypQa3/4sB3rpJAjWgqQG/MSEIIBQtBgMm5QPHTjEGr9aFAKdz6QTiCo0FfIqNBZx7WQRMfacF6qKrAcI19wa1EVMEMAePA29evwZEgJMEWMCHBe2nywZpJs0Ce71q+TAJdwMVXFMHmnbfBmCIwwY6RlcHyOSHBy1x+wVlZvMErd5nB1BhbwQJIFUExJ0RCWu+wQXwysEA1eSxBJ1KZQIvi40FgAaDA+2spQpeumsAtmjNBm+GBvxxhDsHnEFvBIhS1vznmB8G9tFbBGWC6wBy1nkF79wrCN+oQQtW0M8GjihJCfklHQkFGSkKeP87AzyZIwXM1AEIyl6g+l+TFQDHwP8ExxcXBBjHHQZnX2UGDIdhB0IvbQZjI50AzOgpCsC8KQg+Aj0A+uR9Cdww4wQjGkUBGdeBBIbTvQQxd60GbkOpB64vgQSP47kHlGPxBa3DnQBQZJD9yJEJBhEsMQiKx/8AkhiTBuS0hwTO7l0HTSOvB38YUwSk9YcEMK3nBSfoQwuthCsI0VgjCyFf3wTxsosE5CdDAzlfOwRm5CMJx9hLCDTv0wVF6DMJmeInBvNZuwd8mNMAGHZfASVN8QYSPvsGTkxNC79v1wNuZn8A1cAnC8yVMv6i35MHcAbrBdLc7wfnQvMC1oQ5Cil/vQZZ4wMD2iV1AenaAv3SyWsGp0DrBIlouwSj86sHRvXRAcpngwEDf2cDeVH7B006DwVMut0HY8i/CYGsJwqD148GgAgrCSo8DwtZ/IcIqNxHC+nsVwvQGDMIPAhDCkckXwqCPMkEFsTzCYpPzQOLHa8HTEGXBwc2DQFGZ+cCYxhFBt6dUwBealEHYEdRB+JL9wfsLC77gq2JBXk5awUkbAUJ0R0zAkQEwQaLnEEIPUi9Cn1q3QVTFI0G50s1BZuoqwfnb90H3OOdBOSzQQbZNz0E1vRdB1gWKQQ7pZMG56BLCIVUiwet61b/dXnHAVK2YwIwLucFsAY/BAPDHQFdSTsHiEo3B7W75wPGqV8GdfknBrxfJwTBB7cHZH5vAb/ccQbGOhcHueutB/5kkvAq0QEGjVEXBLj3WQTpuUEFuMVVBnrTnQRAll0A7PJ1BBXLaQXZoEkIv+uzAUeUxQphg60BHEATCA0ZhQSuKnEF5eAlB60fywHjZ4kAwksNBNy9fwREG1sGvLzRBS6AKwdsFKEFHcQrB7ZAGweCCFMHVS8BAmnqJwFUwoT9xyBFCmSHgQcs1/j/fvrVBLxdBQWtjdkF5bsNBHcHLQe3VXD8FXBNCfJ33PzQdnkH02/lA0miTQfdNssDhPINBINHaQSJF2EHyTtlA1q4PwfkOrMEy6hlBYbiZwewBocHUgg3CDhAuwrQOa8Hs0NXB+KPzwSPB2r8rHAFB0KnwQGbgtsHUR4fBjW0kwjNlvcEFNLzBy1oev6BRgcFNJZDBufizwbnHpUFW/InBkcMsQd+xDUJ+bAVCeDMFQnSaSz83PQZC2h8bQqYHiUGh6UFB/ys7QbDlN0ErRQ8+1+R2QRd6xz+oxiJB6A9SQU3bBkKijxtCV2ASQkvYSkCd4o5BlbYRQnyNAkK9T/W80G98QNLUdcCITQ1BQSVaQfdE9EFJxRFC9ZqUQVWatUEki8lANCV0wQy7WMCWlM1B/ni2v/cebcCWM0ZB/uodQt1czcDJJnZAEhfGvxoQ0sBprfJBzQszQnk/2EEdM7fB52zEwdNSRsFV4BzCW4OswXdNpcEdPxLCAZGmwXWOIkH2DaPBXhkFwoUAQMGMAEnBpvpdwEEvMcHBdrLBVrAQwhnWEMLgHorBNYbiwUgz6b9BYvhAOkEnwqwfksFjyh3CILkkwhH1HMGmOSzCvlMGwcraM0Ggv/jBjyaVQakVHsGOlxnCdQFBQSJoWkEiHT9BjNbgvxDjTsGvDZfB8dcZwmjZA8Lg2XVBYqX8wRKaesDlwjDBVV/4wOptXMFnfyrBBiS9wURPaMHowp7BBV2qwWqyJcEM/8HBrEDAwTg+KsL6tTjCRfk9wpgx0cFAar3Bp1c0wi9kOcJEbdbBcqHkwXMuNMJPmzfCHJfnwSaf18GFmRzCv0hEws7fJMIqJMjBpTQowq8Sf8GLi2nBFWyrwQ40DEIciBPCFxoxwhCaAcJH5tLBFEifwf3sCsKMqNXBv36iwadCo8Ek6YLArISdwfHjD8EbtgPCnTqBQZkYs8F6XqO/P4QGwn3iYcGEcr3BZ2hdwRAk6MBPsxHBx9H8P4GvkMB1kapAMQm/wadUscH+thLB7QAwwZQiFEDP+4bB4OaTwKVCBEF5ZBPB1BCkwCHYjsGM61DBZzqHwRwQF8Gzot7B/eO2wflMn8CGeptAIs4CQJlbvMGa4bXBmZgpwjzR1sGV5E7BoOW9wd7D3cF0yrA/llWSwZTDp0FVWmZBgjMaQAi3O0LYuf7AP6u7wKO7usACVwtCV57PwDKLrMGqQb1AgL36QdE+DUEWxUpBk1MGQs+QpcGJVKXB04ySwbviC8KErKHBgpS1QVxIHUKX1iJC3PejwbsOE0Ll5BdCr8/cQQ0WpcF8aKXBBr87wvkenMEB/TbCD/4uwiP6CsIihj3C9dw+wuiF58HBIijCPJUnwj5fz8FF6jbCAwsSwh01QsJDgTbCCfw1wlrejcDL0EfCDzo0wljYo8F3eebBjJ0XwgDKFsINoQrCBGbtwO4sPcIC7zHC/DkMwjidCsKbo6HBeUhkwWghDMJwKwzCtR4ywh992MFIIwXCBVoMwtr2DEC6JBTCzWcfwiX/FcLlvxXCVq8qwnh/98GgeRfCcFPOwbuJRMLn2RDC0F8Jwkg5wkFqzRfC+O4XwlXQGsIyHBvCwGgfwgiwMcIJjkjCIiQcwgm1HMKIdifCM2w4wvxoIcLlOQDCCaYbwrkX0MFH8S/CaE0iwmjIIsJ+8kLCR5r/waViDcLa/yfC3CWZwZ/3BEC4sOHBw9XSwVKIKMKCdyrCdZ8owkANAMKsJLrB86E3whc5EsHlQebBc90owjuYrMHthijCtUw3wNeOnD2oT0lBqJQoQcnxL8GEWcvAL6qJQYbTDcFBUQ/BXBKWP0SdQ0IW2DpC5po9QsdkPEL/GXpBqZ07QtHQi0DOu7dAK8y8P3gTHkLWu5VB7gACQs4YPUGwmCtBu9SXwM3IQkL3ejdBeBSdwcCTBEIuGBpChqgiQjtJsUETj/dB0D9/wQhNf8DzvJxB6SaiQZwgnMEUnoPBP7+xQLJxd0GhaL5AITZlwKQsVsF32+XBKERMwrDhFkKCvtg/NSz2QSlBnEGZdQBBwJWiwOraBcIVQjrBQ9zWwdfodUFLhV7BAs4eQYMaRED8zRPB5RQNQU5Ifr9iO1jAsuK4wE7/BMF2cYdBnYb4QFt9qcGtaobACUXYQeZdGsH6HAzCRzqcQOWWLL+CMgi/EyCavUL42b96v0XB/hFGwf7a/0BketXAddJlQaMlA8IBNR1BAlsPwREFZsHjT1E/BY5uQaE8XEGOekLAsQJOwZAp5sBRN8zAqqewwEn9tMD28YO/nr4AQWSeYsERuBBB3QNKQVvXhEAhgshAF6+DQaIc00HSbTtC9B2BwN1KF0HfBSJBDSlvwc2w/0H+DgrBe+ZAv/0QAEG7s6XASqLqv9vmhkGnc6fArhSFwOYAMECOaLzA4ZOUQZ9PMUC0D9hB7BzGQPrul0GP9M+/n0VEQbuKiUGVH+XALVEQQpZNHEJ2U9zAN89JQHWkEUG4Is7A7pdSwPYS5sGETY9BADmZQVxJBsLw5gJBRGyXQVCeBsBIWbRBAwHnwVkM38ECavDBYbMLwhTuCcKhNsvBdNQ5wVZkp0F9V3jB7K2CwSJ6yL8KPxbChb2rwRHevMHgnzPCAghAwWyCm8FW9+HBP4rOwSXjo8FNrPzBMRpHwgRb+MCoLTXCmPQJwjXuFMKxqhrCBXkawvXzD8Lc5vHBJ2swwkg64MEOnS3CypUWwuV2MsJdmcPBhhzvwe1gF0LOPx3Cu4e+weGbp8FEBoNBxJjjwbJJK8I9JyrCax6UwZckE8KEo5TBIqXYwczvGcJhiarBoH8NwnXCA8Kzwx/CK7STwforpkFTxxvChPT2v81Fk8H9F8TBILnJwWqO0cA5ec/BA7XgwU8QxsFIi9jBMXimwWVgzMGjmqPBeO7jwUt+4cH0iCHCOkyKQFV1ysE4hRTBYKamwQPmssEz7o/BusVLwsij68EdDN3BCrfowQYsxMGwPhbCNLTUwXWP2MHjV8nBq+3kwVtFjMH3KCrBm1h3wQ85HMKCtCnBssnkwW1CdcF7qbjBAMDvwUbxE8KkSavBrI/LwY54ncH79MDBeO/qwdO9zcGUNJ/B3KvZwXYVwMFX56NBkPvRwSJLZcDiVEVC/hAjQizHqMEC25XAE4Wwv6ePW0K+ix1C+hhPQr6jWEJ7v5XAYOiTwCY0lsCUNDFCyNU8QlNSacC25ShCPNBSQpxLVEIJ2VlCnuJVQgFmYkKiNhBCnD2oQXNrfsCQESlC61k6QppdQ0Kv7D1C86Y8QmISQUIrIyhCowc7QgloRELqKUNC6KlCQtG+XkLbG15Cfjs/QqkXTkL5zqDAVjZ0wID4W0IBEVtCCf9EQpgnRUJmaUZCf79KQptKSkK31UhC4flGQuuSGEJ5YEJCRqdUQvRREcBNoFdCo2xZQn3bW0IsGVpCrbtOQtxzksCRoDdCyu4wQux5NkLU7zRCkaYuQk/mVEI6/plBDmtXQnLOSkIE8FFCMKRSQqtzUkIunFBCe+IxQmd4PUL7/zxCZTBGQviAOUIpXsg+APwrwYnoEUI0X0ZCRMZGQp45U0Hyk+hBIdANQiH5U0HrigNC2msAQoCXA0IRKP1BMAEiQjUTiEGwGYhBnceLQQhSt0FAn9BBR7vTQUxS1UE4BApCDjYOQh+ICkJu9wpCd8jcQQwc30HsMwpCl34NQrRZ5EFUqOFBFGcLQvdEtEH4DClCnrPeQcZE3UG05d1BmN8HQmqtC8IsqilC3oh7vxIFLkI4MKhBEtciQpMcEkLvxsW/KO0CQpsaBsKIC5tBVYfOQdIWiMHqvQhCsUGowAeomEF7i+9BGzjsQVoH+kEpcEfCw4QgQi3llkFOzQFCM9WEwVw4M8AgTIxBLj7iQdjsHEII7C5BewfbQV1E5EFHCTxCsMEAQk75HEJHiTRB65k0QQL38kGtDh/Ar1YCQund5kH+lf9B0hr3QQqsGEI99ftBqobzQY+r8kGKXfJB13kDQkYr90HDwKFADQiXQeBA80EELQNC7kHJQbhTR0Lc2O1BenydQS4pIEKYNNXB8i0HQqY/AkL6eSNCmLY8QKUC+0HTWPZBbUvtQUry2UHmM4dBi6eTwNGVukHrB7dB1le4QdyJukHxd7pBucW6QX6y+UHHKfdBIC67Qekk48BoKBbCseL/wTOht8HGz5HBUt0JwkPZscGvTtLB933CwW3E08GBtQvColx5wX/ULcJJYcHBzIfPwZBS2sHVSN/BVYrfwdSe3sGqL7DBssivwVv2FMIOTwbCN/2swTs1HcJadKrBJx7ewW1jq8H5WQHCtY+swTlzq8EYlTbCfAQIwhN5pED8Q2rBhbk9wQiVf8GFAUnCCcYEQeePAcL/9DnCIOd/wSr5fcHQ0aFBrjOgwU+TOMK2Rn7BpYV/wT91AMFtdh7BP2MdQsHem0HR7zrA8V8uwTEeGUEo87HBtPsnwpGq6sEy/5vBB/rfwTOHCsJoXDDBwaA+QoXuIUIQ7fDAlO1pwZogq8BdWyJCUV9AQoifzUE5bH+9ZnsowXSKKcFb4evBGiuHwS1zQsJvOovBzT03wqh1BkHlZIDBwwt/wQm0esESV3fBkdSKwTu7i8Fgr0jCkiluwSYqbsFL81bBm0NdwSifY8Eubi1CiGuQQaBvZcHVxF3BQh9ewfOhYsHSlGPBKo7owdtzgsFdCYXBaaVHwnAtF8FbqrLBFGYpQm7MJELdAD5CMzETQn5IjEGvS5FAytmsQflbsUHDpgZCZkVeQDmJEsJR9xtCivagQfL7lsC4eQdCCP8Iwg==\",\"dtype\":\"float32\",\"order\":\"little\",\"shape\":[2500]},\"y\":{\"__ndarray__\":\"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\",\"dtype\":\"float32\",\"order\":\"little\",\"shape\":[2500]}},\"selected\":{\"id\":\"1168\"},\"selection_policy\":{\"id\":\"1167\"}},\"id\":\"1142\",\"type\":\"ColumnDataSource\"},{\"attributes\":{\"bottom_units\":\"screen\",\"fill_alpha\":0.5,\"fill_color\":\"lightgrey\",\"left_units\":\"screen\",\"level\":\"overlay\",\"line_alpha\":1.0,\"line_color\":\"black\",\"line_dash\":[4,4],\"line_width\":2,\"right_units\":\"screen\",\"top_units\":\"screen\"},\"id\":\"1131\",\"type\":\"BoxAnnotation\"},{\"attributes\":{\"source\":{\"id\":\"1142\"},\"text\":{\"field\":\"text_labels\"},\"text_align\":\"center\",\"text_color\":{\"value\":\"#555555\"},\"text_font_size\":{\"value\":\"8pt\"},\"x\":{\"field\":\"x\"},\"y\":{\"field\":\"y\"},\"y_offset\":{\"value\":8}},\"id\":\"1148\",\"type\":\"LabelSet\"},{\"attributes\":{\"axis\":{\"id\":\"1119\"},\"dimension\":1,\"ticker\":null},\"id\":\"1122\",\"type\":\"Grid\"},{\"attributes\":{\"callback\":null},\"id\":\"1123\",\"type\":\"HoverTool\"},{\"attributes\":{\"overlay\":{\"id\":\"1131\"}},\"id\":\"1130\",\"type\":\"BoxSelectTool\"},{\"attributes\":{\"source\":{\"id\":\"1142\"}},\"id\":\"1147\",\"type\":\"CDSView\"},{\"attributes\":{},\"id\":\"1109\",\"type\":\"DataRange1d\"},{\"attributes\":{},\"id\":\"1164\",\"type\":\"BasicTickFormatter\"},{\"attributes\":{\"data_source\":{\"id\":\"1142\"},\"glyph\":{\"id\":\"1144\"},\"hover_glyph\":null,\"muted_glyph\":null,\"nonselection_glyph\":{\"id\":\"1145\"},\"selection_glyph\":null,\"view\":{\"id\":\"1147\"}},\"id\":\"1146\",\"type\":\"GlyphRenderer\"}],\"root_ids\":[\"1106\"]},\"title\":\"Bokeh Application\",\"version\":\"2.2.3\"}};\n",
       "  var render_items = [{\"docid\":\"4be666b7-19af-4b61-834b-d5b08f8d80e6\",\"root_ids\":[\"1106\"],\"roots\":{\"1106\":\"e1c5fad3-266b-4f68-bbac-8547f987f1c7\"}}];\n",
       "  root.Bokeh.embed.embed_items_notebook(docs_json, render_items);\n",
       "\n",
       "  }\n",
       "  if (root.Bokeh !== undefined) {\n",
       "    embed_document(root);\n",
       "  } else {\n",
       "    var attempts = 0;\n",
       "    var timer = setInterval(function(root) {\n",
       "      if (root.Bokeh !== undefined) {\n",
       "        clearInterval(timer);\n",
       "        embed_document(root);\n",
       "      } else {\n",
       "        attempts++;\n",
       "        if (attempts > 100) {\n",
       "          clearInterval(timer);\n",
       "          console.log(\"Bokeh: ERROR: Unable to run BokehJS code because BokehJS library is missing\");\n",
       "        }\n",
       "      }\n",
       "    }, 10, root)\n",
       "  }\n",
       "})(window);"
      ],
      "application/vnd.bokehjs_exec.v0+json": ""
     },
     "metadata": {
      "application/vnd.bokehjs_exec.v0+json": {
       "id": "1106"
      }
     },
     "output_type": "display_data"
    }
   ],
   "source": [
    "interactive_tsne(list(gswa_model.wv.vocab.keys())[:points], X_tsne)"
   ]
  }
 ],
 "metadata": {
  "colab": {
   "collapsed_sections": [],
   "name": "12.2.2-WordEmbeddings.ipynb",
   "provenance": [],
   "toc_visible": true
  },
  "kernelspec": {
   "display_name": "Python 3",
   "language": "python",
   "name": "python3"
  },
  "language_info": {
   "codemirror_mode": {
    "name": "ipython",
    "version": 3
   },
   "file_extension": ".py",
   "mimetype": "text/x-python",
   "name": "python",
   "nbconvert_exporter": "python",
   "pygments_lexer": "ipython3",
   "version": "3.6.5"
  }
 },
 "nbformat": 4,
 "nbformat_minor": 4
}
